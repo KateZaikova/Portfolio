{
 "cells": [
  {
   "cell_type": "markdown",
   "metadata": {
    "id": "sIfNaMOxgFyK"
   },
   "source": [
    "# Исследование данных о российском кинопрокате\n",
    "\n"
   ]
  },
  {
   "cell_type": "markdown",
   "metadata": {},
   "source": [
    "**Описание проекта**\n",
    "\n",
    "Заказчик этого исследования — Министерство культуры Российской Федерации.\n",
    "Необходимо изучить рынок российского кинопроката и выявить текущие тренды. Уделить внимание фильмам, которые получили государственную поддержку. Ответить на вопрос, насколько такие фильмы интересны зрителю.\n",
    "Доступны данные, опубликованные на портале открытых данных Министерства культуры. Набор данных содержит информацию о прокатных удостоверениях, сборах и государственной поддержке фильмов, а также информацию с сайта КиноПоиск.\n",
    "\n",
    "\n",
    "**Цель исследования**\n",
    "\n",
    "* Посмотреть, сколько фильмов выходило в прокат каждый год. Посчитать, какую долю составляют фильмы с указанной информацией о прокате в кинотеатрах.\n",
    "\n",
    "* Изучить, как менялась динамика проката по годам. В каком году сумма сборов была минимальной? А максимальной?\n",
    "\n",
    "* Определить, влияет ли возрастное ограничение аудитории («6+», «12+», «16+», «18+» и т. д.) на сборы фильма в прокате в период с 2015 по 2019 год? Фильмы с каким возрастным ограничением собрали больше всего денег в прокате? Меняется ли картина в зависимости от года? Если да, предположить, с чем это может быть связано.\n",
    "\n",
    "* Исследовать фильмы, которые получили государственную поддержку.\n",
    "Поиск интересных закономерностей в данных. Посмотреть, сколько выделяют средств на поддержку кино. Проверить, хорошо ли окупаются такие фильмы, какой у них рейтинг.\n",
    "\n",
    "**Ход исследования**  \n",
    "\n",
    "Исследование содержит следующие этапы:\n",
    "1. Изучение данных из файлов и их объединение.  \n",
    "2. Предобработка данных.  \n",
    "    * 2.1 Анализ и обработка пропусков\n",
    "    * 2.2 Обработка типов данных\n",
    "    * 2.3 Обработка дубликатов  \n",
    "    * 2.4 Обработка категориальных значений\n",
    "    * 2.5 Проверка количественных значений\n",
    "    * 2.6 Добавление новых столбцов\n",
    "3. Исследовательский анализ данных.\n",
    "4. Исследование фильмов, которые получили государственную поддержку.\n",
    "5. Общий вывод."
   ]
  },
  {
   "cell_type": "markdown",
   "metadata": {
    "id": "3bSlkCsbgFyL"
   },
   "source": [
    "### Открытие файлов с данными и объединие их в один датафрейм. \n",
    "\n",
    "Объедините данные таким образом, чтобы все объекты из датасета `mkrf_movies` обязательно вошли в получившийся датафрейм. \n",
    "\n",
    "<div id=\"accordion\">\n",
    "    <div class=\"card\">\n",
    "        <div class=\"card-header\" id=\"headingThree\">\n",
    "            <button class=\"btn btn-link collapsed\" data-toggle=\"collapse\" data-target=\"#collapseHint_0\" aria-expanded=\"false\" aria-controls=\"collapseHint_0\">Подсказка</button>\n",
    "        </div>\n",
    "        <div id=\"collapseHint_0\" class=\"collapse\" aria-labelledby=\"headingThree\" data-parent=\"#accordion\">\n",
    "            <div class=\"card-body\">\n",
    "Обратите внимание на тип данных столбца, по которому будете соединять датафреймы. Тип данных этих столбцов должен быть одинаковым в обоих датафреймах.\n",
    "            </div>\n",
    "        </div>\n",
    "    </div>\n",
    "</div>"
   ]
  },
  {
   "cell_type": "code",
   "execution_count": 1,
   "metadata": {
    "id": "dw87FlzMgFyM"
   },
   "outputs": [],
   "source": [
    "# импорт библиотек\n",
    "import pandas as pd\n",
    "import numpy as np\n",
    "import matplotlib.pyplot as plt\n",
    "import seaborn as sns\n",
    "import os"
   ]
  },
  {
   "cell_type": "code",
   "execution_count": 2,
   "metadata": {},
   "outputs": [],
   "source": [
    "import warnings\n",
    "warnings.simplefilter(action='ignore', category=Warning)"
   ]
  },
  {
   "cell_type": "code",
   "execution_count": 3,
   "metadata": {},
   "outputs": [],
   "source": [
    "# чтение файла mkrf_movies.csv и сохранение в переменной data\n",
    "if os.path.exists('/datasets/mkrf_movies.csv'):\n",
    "    data = pd.read_csv('/datasets/mkrf_movies.csv', sep = ',')\n",
    "else:\n",
    "    data = pd.read_csv('mkrf_movies.csv', sep = ',')"
   ]
  },
  {
   "cell_type": "code",
   "execution_count": 4,
   "metadata": {},
   "outputs": [
    {
     "data": {
      "text/html": [
       "<div>\n",
       "<style scoped>\n",
       "    .dataframe tbody tr th:only-of-type {\n",
       "        vertical-align: middle;\n",
       "    }\n",
       "\n",
       "    .dataframe tbody tr th {\n",
       "        vertical-align: top;\n",
       "    }\n",
       "\n",
       "    .dataframe thead th {\n",
       "        text-align: right;\n",
       "    }\n",
       "</style>\n",
       "<table border=\"1\" class=\"dataframe\">\n",
       "  <thead>\n",
       "    <tr style=\"text-align: right;\">\n",
       "      <th></th>\n",
       "      <th>title</th>\n",
       "      <th>puNumber</th>\n",
       "      <th>show_start_date</th>\n",
       "      <th>type</th>\n",
       "      <th>film_studio</th>\n",
       "      <th>production_country</th>\n",
       "      <th>director</th>\n",
       "      <th>producer</th>\n",
       "      <th>age_restriction</th>\n",
       "      <th>refundable_support</th>\n",
       "      <th>nonrefundable_support</th>\n",
       "      <th>budget</th>\n",
       "      <th>financing_source</th>\n",
       "      <th>ratings</th>\n",
       "      <th>genres</th>\n",
       "    </tr>\n",
       "  </thead>\n",
       "  <tbody>\n",
       "    <tr>\n",
       "      <th>0</th>\n",
       "      <td>Открытый простор</td>\n",
       "      <td>221048915</td>\n",
       "      <td>2015-11-27T12:00:00.000Z</td>\n",
       "      <td>Художественный</td>\n",
       "      <td>Тачстоун Пикчерз, Кобальт Пикчерз, Бикон Пикче...</td>\n",
       "      <td>США</td>\n",
       "      <td>Кевин Костнер</td>\n",
       "      <td>Дэвид Валдес, Кевин Костнер, Джейк Эбертс</td>\n",
       "      <td>«18+» - запрещено для детей</td>\n",
       "      <td>NaN</td>\n",
       "      <td>NaN</td>\n",
       "      <td>NaN</td>\n",
       "      <td>NaN</td>\n",
       "      <td>7.2</td>\n",
       "      <td>боевик,драма,мелодрама</td>\n",
       "    </tr>\n",
       "    <tr>\n",
       "      <th>1</th>\n",
       "      <td>Особо важное задание</td>\n",
       "      <td>111013716</td>\n",
       "      <td>2016-09-13T12:00:00.000Z</td>\n",
       "      <td>Художественный</td>\n",
       "      <td>Киностудия \"Мосфильм\"</td>\n",
       "      <td>СССР</td>\n",
       "      <td>Е.Матвеев</td>\n",
       "      <td>NaN</td>\n",
       "      <td>«6+» - для детей старше 6 лет</td>\n",
       "      <td>NaN</td>\n",
       "      <td>NaN</td>\n",
       "      <td>NaN</td>\n",
       "      <td>NaN</td>\n",
       "      <td>6.6</td>\n",
       "      <td>драма,военный</td>\n",
       "    </tr>\n",
       "    <tr>\n",
       "      <th>2</th>\n",
       "      <td>Особо опасен</td>\n",
       "      <td>221038416</td>\n",
       "      <td>2016-10-10T12:00:00.000Z</td>\n",
       "      <td>Художественный</td>\n",
       "      <td>Юниверсал Пикчерз, Кикстарт Продакшнз, Марк Пл...</td>\n",
       "      <td>США</td>\n",
       "      <td>Тимур Бекмамбетов</td>\n",
       "      <td>Джим Лемли, Джейсон Нетер, Марк Е.Платт, Яйн Смит</td>\n",
       "      <td>«18+» - запрещено для детей</td>\n",
       "      <td>NaN</td>\n",
       "      <td>NaN</td>\n",
       "      <td>NaN</td>\n",
       "      <td>NaN</td>\n",
       "      <td>6.8</td>\n",
       "      <td>фантастика,боевик,триллер</td>\n",
       "    </tr>\n",
       "    <tr>\n",
       "      <th>3</th>\n",
       "      <td>Особо опасен</td>\n",
       "      <td>221026916</td>\n",
       "      <td>2016-06-10T12:00:00.000Z</td>\n",
       "      <td>Художественный</td>\n",
       "      <td>Юниверсал Пикчерз, Кикстарт Продакшнз, Марк Пл...</td>\n",
       "      <td>США</td>\n",
       "      <td>Тимур Бекмамбетов</td>\n",
       "      <td>Джим Лемли, Джейсон Нетер, Марк Е.Платт, Яйн Смит</td>\n",
       "      <td>«18+» - запрещено для детей</td>\n",
       "      <td>NaN</td>\n",
       "      <td>NaN</td>\n",
       "      <td>NaN</td>\n",
       "      <td>NaN</td>\n",
       "      <td>6.8</td>\n",
       "      <td>фантастика,боевик,триллер</td>\n",
       "    </tr>\n",
       "    <tr>\n",
       "      <th>4</th>\n",
       "      <td>Особо опасен</td>\n",
       "      <td>221030815</td>\n",
       "      <td>2015-07-29T12:00:00.000Z</td>\n",
       "      <td>Художественный</td>\n",
       "      <td>Юниверсал Пикчерз, Кикстарт Продакшнз, Марк Пл...</td>\n",
       "      <td>США</td>\n",
       "      <td>Тимур Бекмамбетов</td>\n",
       "      <td>Джим Лемли, Джейсон Нетер, Марк Е.Платт, Яйн Смит</td>\n",
       "      <td>«18+» - запрещено для детей</td>\n",
       "      <td>NaN</td>\n",
       "      <td>NaN</td>\n",
       "      <td>NaN</td>\n",
       "      <td>NaN</td>\n",
       "      <td>6.8</td>\n",
       "      <td>фантастика,боевик,триллер</td>\n",
       "    </tr>\n",
       "  </tbody>\n",
       "</table>\n",
       "</div>"
      ],
      "text/plain": [
       "                  title   puNumber           show_start_date            type  \\\n",
       "0      Открытый простор  221048915  2015-11-27T12:00:00.000Z  Художественный   \n",
       "1  Особо важное задание  111013716  2016-09-13T12:00:00.000Z  Художественный   \n",
       "2          Особо опасен  221038416  2016-10-10T12:00:00.000Z  Художественный   \n",
       "3          Особо опасен  221026916  2016-06-10T12:00:00.000Z  Художественный   \n",
       "4          Особо опасен  221030815  2015-07-29T12:00:00.000Z  Художественный   \n",
       "\n",
       "                                         film_studio production_country  \\\n",
       "0  Тачстоун Пикчерз, Кобальт Пикчерз, Бикон Пикче...                США   \n",
       "1                              Киностудия \"Мосфильм\"               СССР   \n",
       "2  Юниверсал Пикчерз, Кикстарт Продакшнз, Марк Пл...                США   \n",
       "3  Юниверсал Пикчерз, Кикстарт Продакшнз, Марк Пл...                США   \n",
       "4  Юниверсал Пикчерз, Кикстарт Продакшнз, Марк Пл...                США   \n",
       "\n",
       "            director                                           producer  \\\n",
       "0      Кевин Костнер          Дэвид Валдес, Кевин Костнер, Джейк Эбертс   \n",
       "1          Е.Матвеев                                                NaN   \n",
       "2  Тимур Бекмамбетов  Джим Лемли, Джейсон Нетер, Марк Е.Платт, Яйн Смит   \n",
       "3  Тимур Бекмамбетов  Джим Лемли, Джейсон Нетер, Марк Е.Платт, Яйн Смит   \n",
       "4  Тимур Бекмамбетов  Джим Лемли, Джейсон Нетер, Марк Е.Платт, Яйн Смит   \n",
       "\n",
       "                 age_restriction  refundable_support  nonrefundable_support  \\\n",
       "0    «18+» - запрещено для детей                 NaN                    NaN   \n",
       "1  «6+» - для детей старше 6 лет                 NaN                    NaN   \n",
       "2    «18+» - запрещено для детей                 NaN                    NaN   \n",
       "3    «18+» - запрещено для детей                 NaN                    NaN   \n",
       "4    «18+» - запрещено для детей                 NaN                    NaN   \n",
       "\n",
       "   budget financing_source ratings                     genres  \n",
       "0     NaN              NaN     7.2     боевик,драма,мелодрама  \n",
       "1     NaN              NaN     6.6              драма,военный  \n",
       "2     NaN              NaN     6.8  фантастика,боевик,триллер  \n",
       "3     NaN              NaN     6.8  фантастика,боевик,триллер  \n",
       "4     NaN              NaN     6.8  фантастика,боевик,триллер  "
      ]
     },
     "execution_count": 4,
     "metadata": {},
     "output_type": "execute_result"
    }
   ],
   "source": [
    "# просмотр первых пяти строк таблицы\n",
    "data.head()"
   ]
  },
  {
   "cell_type": "code",
   "execution_count": 5,
   "metadata": {},
   "outputs": [],
   "source": [
    "# чтение файла mkrf_shows.csv и сохранение в переменной data_1\n",
    "if os.path.exists('/datasets/mkrf_shows.csv'):\n",
    "    data_1 = pd.read_csv('/datasets/mkrf_shows.csv', sep = ',')\n",
    "else:\n",
    "    data_1 = pd.read_csv('mkrf_shows.csv', sep = ',')"
   ]
  },
  {
   "cell_type": "code",
   "execution_count": 6,
   "metadata": {},
   "outputs": [
    {
     "data": {
      "text/html": [
       "<div>\n",
       "<style scoped>\n",
       "    .dataframe tbody tr th:only-of-type {\n",
       "        vertical-align: middle;\n",
       "    }\n",
       "\n",
       "    .dataframe tbody tr th {\n",
       "        vertical-align: top;\n",
       "    }\n",
       "\n",
       "    .dataframe thead th {\n",
       "        text-align: right;\n",
       "    }\n",
       "</style>\n",
       "<table border=\"1\" class=\"dataframe\">\n",
       "  <thead>\n",
       "    <tr style=\"text-align: right;\">\n",
       "      <th></th>\n",
       "      <th>puNumber</th>\n",
       "      <th>box_office</th>\n",
       "    </tr>\n",
       "  </thead>\n",
       "  <tbody>\n",
       "    <tr>\n",
       "      <th>0</th>\n",
       "      <td>111000113</td>\n",
       "      <td>2.450000e+03</td>\n",
       "    </tr>\n",
       "    <tr>\n",
       "      <th>1</th>\n",
       "      <td>111000115</td>\n",
       "      <td>6.104000e+04</td>\n",
       "    </tr>\n",
       "    <tr>\n",
       "      <th>2</th>\n",
       "      <td>111000116</td>\n",
       "      <td>1.530300e+08</td>\n",
       "    </tr>\n",
       "    <tr>\n",
       "      <th>3</th>\n",
       "      <td>111000117</td>\n",
       "      <td>1.226096e+07</td>\n",
       "    </tr>\n",
       "    <tr>\n",
       "      <th>4</th>\n",
       "      <td>111000118</td>\n",
       "      <td>1.636841e+08</td>\n",
       "    </tr>\n",
       "  </tbody>\n",
       "</table>\n",
       "</div>"
      ],
      "text/plain": [
       "    puNumber    box_office\n",
       "0  111000113  2.450000e+03\n",
       "1  111000115  6.104000e+04\n",
       "2  111000116  1.530300e+08\n",
       "3  111000117  1.226096e+07\n",
       "4  111000118  1.636841e+08"
      ]
     },
     "execution_count": 6,
     "metadata": {},
     "output_type": "execute_result"
    }
   ],
   "source": [
    "# просмотр первых пяти строк таблицы второй таблицы\n",
    "data_1.head()"
   ]
  },
  {
   "cell_type": "code",
   "execution_count": 7,
   "metadata": {
    "id": "kVGSplJOgFyO"
   },
   "outputs": [
    {
     "name": "stdout",
     "output_type": "stream",
     "text": [
      "<class 'pandas.core.frame.DataFrame'>\n",
      "RangeIndex: 7486 entries, 0 to 7485\n",
      "Data columns (total 15 columns):\n",
      " #   Column                 Non-Null Count  Dtype  \n",
      "---  ------                 --------------  -----  \n",
      " 0   title                  7486 non-null   object \n",
      " 1   puNumber               7486 non-null   object \n",
      " 2   show_start_date        7486 non-null   object \n",
      " 3   type                   7486 non-null   object \n",
      " 4   film_studio            7468 non-null   object \n",
      " 5   production_country     7484 non-null   object \n",
      " 6   director               7477 non-null   object \n",
      " 7   producer               6918 non-null   object \n",
      " 8   age_restriction        7486 non-null   object \n",
      " 9   refundable_support     332 non-null    float64\n",
      " 10  nonrefundable_support  332 non-null    float64\n",
      " 11  budget                 332 non-null    float64\n",
      " 12  financing_source       332 non-null    object \n",
      " 13  ratings                6519 non-null   object \n",
      " 14  genres                 6510 non-null   object \n",
      "dtypes: float64(3), object(12)\n",
      "memory usage: 877.4+ KB\n"
     ]
    }
   ],
   "source": [
    "# получение общей информации о данных в таблице data\n",
    "data.info()"
   ]
  },
  {
   "cell_type": "markdown",
   "metadata": {},
   "source": [
    "В таблице 15 столбцов.\n",
    "\n",
    "Согласно документации к данным:\n",
    "\n",
    "* title — название фильма;\n",
    "* puNumber — номер прокатного удостоверения;\n",
    "* show_start_date — дата премьеры фильма;\n",
    "* type — тип фильма;\n",
    "* film_studio — студия-производитель;\n",
    "* production_country — страна-производитель;\n",
    "* director — режиссёр;\n",
    "* producer — продюсер;\n",
    "* age_restriction — возрастная категория;\n",
    "* refundable_support — объём возвратных средств государственной поддержки;\n",
    "* nonrefundable_support — объём невозвратных средств государственной поддержки;\n",
    "* financing_source — источник государственного финансирования;\n",
    "* budget — общий бюджет фильма;\n",
    "* ratings — рейтинг фильма на КиноПоиске;\n",
    "* genres — жанр фильма."
   ]
  },
  {
   "cell_type": "code",
   "execution_count": 8,
   "metadata": {},
   "outputs": [
    {
     "name": "stdout",
     "output_type": "stream",
     "text": [
      "<class 'pandas.core.frame.DataFrame'>\n",
      "RangeIndex: 3158 entries, 0 to 3157\n",
      "Data columns (total 2 columns):\n",
      " #   Column      Non-Null Count  Dtype  \n",
      "---  ------      --------------  -----  \n",
      " 0   puNumber    3158 non-null   int64  \n",
      " 1   box_office  3158 non-null   float64\n",
      "dtypes: float64(1), int64(1)\n",
      "memory usage: 49.5 KB\n"
     ]
    }
   ],
   "source": [
    "# получение общей информации о данных в таблице data_1\n",
    "data_1.info()"
   ]
  },
  {
   "cell_type": "markdown",
   "metadata": {},
   "source": [
    "В таблице 2 столбца.\n",
    "\n",
    "Согласно документации к данным:\n",
    "\n",
    "* puNumber — номер прокатного удостоверения;\n",
    "* box_office — сборы в рублях."
   ]
  },
  {
   "cell_type": "markdown",
   "metadata": {},
   "source": [
    "Для объединения двух таблиц, нам требуется в столбце 'puNumber', по которому мы будем объединять,\n",
    "заменить тип данных в первой таблице на int, чтобы он соответствовал типу данных второй таблицы. Сделать это не получилось, так как код выдал ошибку, что в столбце есть слово \"нет\". "
   ]
  },
  {
   "cell_type": "code",
   "execution_count": 9,
   "metadata": {},
   "outputs": [
    {
     "data": {
      "text/html": [
       "<div>\n",
       "<style scoped>\n",
       "    .dataframe tbody tr th:only-of-type {\n",
       "        vertical-align: middle;\n",
       "    }\n",
       "\n",
       "    .dataframe tbody tr th {\n",
       "        vertical-align: top;\n",
       "    }\n",
       "\n",
       "    .dataframe thead th {\n",
       "        text-align: right;\n",
       "    }\n",
       "</style>\n",
       "<table border=\"1\" class=\"dataframe\">\n",
       "  <thead>\n",
       "    <tr style=\"text-align: right;\">\n",
       "      <th></th>\n",
       "      <th>title</th>\n",
       "      <th>puNumber</th>\n",
       "      <th>show_start_date</th>\n",
       "      <th>type</th>\n",
       "      <th>film_studio</th>\n",
       "      <th>production_country</th>\n",
       "      <th>director</th>\n",
       "      <th>producer</th>\n",
       "      <th>age_restriction</th>\n",
       "      <th>refundable_support</th>\n",
       "      <th>nonrefundable_support</th>\n",
       "      <th>budget</th>\n",
       "      <th>financing_source</th>\n",
       "      <th>ratings</th>\n",
       "      <th>genres</th>\n",
       "    </tr>\n",
       "  </thead>\n",
       "  <tbody>\n",
       "    <tr>\n",
       "      <th>1797</th>\n",
       "      <td>Курбан-роман. (История с жертвой)</td>\n",
       "      <td>нет</td>\n",
       "      <td>2014-05-15T12:00:00.000Z</td>\n",
       "      <td>Художественный</td>\n",
       "      <td>ФОНД \"ИННОВАЦИЯ\"</td>\n",
       "      <td>Россия</td>\n",
       "      <td>С.Юзеев</td>\n",
       "      <td>М.Галицкая</td>\n",
       "      <td>«12+» - для детей старше 12 лет</td>\n",
       "      <td>NaN</td>\n",
       "      <td>NaN</td>\n",
       "      <td>NaN</td>\n",
       "      <td>NaN</td>\n",
       "      <td>NaN</td>\n",
       "      <td>NaN</td>\n",
       "    </tr>\n",
       "  </tbody>\n",
       "</table>\n",
       "</div>"
      ],
      "text/plain": [
       "                                  title puNumber           show_start_date  \\\n",
       "1797  Курбан-роман. (История с жертвой)      нет  2014-05-15T12:00:00.000Z   \n",
       "\n",
       "                type       film_studio production_country director  \\\n",
       "1797  Художественный  ФОНД \"ИННОВАЦИЯ\"             Россия  С.Юзеев   \n",
       "\n",
       "        producer                  age_restriction  refundable_support  \\\n",
       "1797  М.Галицкая  «12+» - для детей старше 12 лет                 NaN   \n",
       "\n",
       "      nonrefundable_support  budget financing_source ratings genres  \n",
       "1797                    NaN     NaN              NaN     NaN    NaN  "
      ]
     },
     "execution_count": 9,
     "metadata": {},
     "output_type": "execute_result"
    }
   ],
   "source": [
    "#убедимся, что в столбце puNumber действительно есть \"нет\"\n",
    "data_no = data.query('puNumber==\"нет\"')\n",
    "data_no"
   ]
  },
  {
   "cell_type": "code",
   "execution_count": 10,
   "metadata": {},
   "outputs": [],
   "source": [
    "# заменим \"нет\" на 0.\n",
    "data.loc[data['puNumber'] == 'нет', 'puNumber'] = 0"
   ]
  },
  {
   "cell_type": "code",
   "execution_count": 11,
   "metadata": {},
   "outputs": [],
   "source": [
    "# поменяем тип данных на целочисленный\n",
    "data['puNumber'] = data['puNumber'].astype('int') "
   ]
  },
  {
   "cell_type": "code",
   "execution_count": 12,
   "metadata": {},
   "outputs": [
    {
     "data": {
      "text/html": [
       "<div>\n",
       "<style scoped>\n",
       "    .dataframe tbody tr th:only-of-type {\n",
       "        vertical-align: middle;\n",
       "    }\n",
       "\n",
       "    .dataframe tbody tr th {\n",
       "        vertical-align: top;\n",
       "    }\n",
       "\n",
       "    .dataframe thead th {\n",
       "        text-align: right;\n",
       "    }\n",
       "</style>\n",
       "<table border=\"1\" class=\"dataframe\">\n",
       "  <thead>\n",
       "    <tr style=\"text-align: right;\">\n",
       "      <th></th>\n",
       "      <th>title</th>\n",
       "      <th>puNumber</th>\n",
       "      <th>show_start_date</th>\n",
       "      <th>type</th>\n",
       "      <th>film_studio</th>\n",
       "      <th>production_country</th>\n",
       "      <th>director</th>\n",
       "      <th>producer</th>\n",
       "      <th>age_restriction</th>\n",
       "      <th>refundable_support</th>\n",
       "      <th>nonrefundable_support</th>\n",
       "      <th>budget</th>\n",
       "      <th>financing_source</th>\n",
       "      <th>ratings</th>\n",
       "      <th>genres</th>\n",
       "      <th>box_office</th>\n",
       "    </tr>\n",
       "  </thead>\n",
       "  <tbody>\n",
       "    <tr>\n",
       "      <th>0</th>\n",
       "      <td>Открытый простор</td>\n",
       "      <td>221048915</td>\n",
       "      <td>2015-11-27T12:00:00.000Z</td>\n",
       "      <td>Художественный</td>\n",
       "      <td>Тачстоун Пикчерз, Кобальт Пикчерз, Бикон Пикче...</td>\n",
       "      <td>США</td>\n",
       "      <td>Кевин Костнер</td>\n",
       "      <td>Дэвид Валдес, Кевин Костнер, Джейк Эбертс</td>\n",
       "      <td>«18+» - запрещено для детей</td>\n",
       "      <td>NaN</td>\n",
       "      <td>NaN</td>\n",
       "      <td>NaN</td>\n",
       "      <td>NaN</td>\n",
       "      <td>7.2</td>\n",
       "      <td>боевик,драма,мелодрама</td>\n",
       "      <td>NaN</td>\n",
       "    </tr>\n",
       "    <tr>\n",
       "      <th>1</th>\n",
       "      <td>Особо важное задание</td>\n",
       "      <td>111013716</td>\n",
       "      <td>2016-09-13T12:00:00.000Z</td>\n",
       "      <td>Художественный</td>\n",
       "      <td>Киностудия \"Мосфильм\"</td>\n",
       "      <td>СССР</td>\n",
       "      <td>Е.Матвеев</td>\n",
       "      <td>NaN</td>\n",
       "      <td>«6+» - для детей старше 6 лет</td>\n",
       "      <td>NaN</td>\n",
       "      <td>NaN</td>\n",
       "      <td>NaN</td>\n",
       "      <td>NaN</td>\n",
       "      <td>6.6</td>\n",
       "      <td>драма,военный</td>\n",
       "      <td>NaN</td>\n",
       "    </tr>\n",
       "    <tr>\n",
       "      <th>2</th>\n",
       "      <td>Особо опасен</td>\n",
       "      <td>221038416</td>\n",
       "      <td>2016-10-10T12:00:00.000Z</td>\n",
       "      <td>Художественный</td>\n",
       "      <td>Юниверсал Пикчерз, Кикстарт Продакшнз, Марк Пл...</td>\n",
       "      <td>США</td>\n",
       "      <td>Тимур Бекмамбетов</td>\n",
       "      <td>Джим Лемли, Джейсон Нетер, Марк Е.Платт, Яйн Смит</td>\n",
       "      <td>«18+» - запрещено для детей</td>\n",
       "      <td>NaN</td>\n",
       "      <td>NaN</td>\n",
       "      <td>NaN</td>\n",
       "      <td>NaN</td>\n",
       "      <td>6.8</td>\n",
       "      <td>фантастика,боевик,триллер</td>\n",
       "      <td>NaN</td>\n",
       "    </tr>\n",
       "    <tr>\n",
       "      <th>3</th>\n",
       "      <td>Особо опасен</td>\n",
       "      <td>221026916</td>\n",
       "      <td>2016-06-10T12:00:00.000Z</td>\n",
       "      <td>Художественный</td>\n",
       "      <td>Юниверсал Пикчерз, Кикстарт Продакшнз, Марк Пл...</td>\n",
       "      <td>США</td>\n",
       "      <td>Тимур Бекмамбетов</td>\n",
       "      <td>Джим Лемли, Джейсон Нетер, Марк Е.Платт, Яйн Смит</td>\n",
       "      <td>«18+» - запрещено для детей</td>\n",
       "      <td>NaN</td>\n",
       "      <td>NaN</td>\n",
       "      <td>NaN</td>\n",
       "      <td>NaN</td>\n",
       "      <td>6.8</td>\n",
       "      <td>фантастика,боевик,триллер</td>\n",
       "      <td>NaN</td>\n",
       "    </tr>\n",
       "    <tr>\n",
       "      <th>4</th>\n",
       "      <td>Особо опасен</td>\n",
       "      <td>221030815</td>\n",
       "      <td>2015-07-29T12:00:00.000Z</td>\n",
       "      <td>Художественный</td>\n",
       "      <td>Юниверсал Пикчерз, Кикстарт Продакшнз, Марк Пл...</td>\n",
       "      <td>США</td>\n",
       "      <td>Тимур Бекмамбетов</td>\n",
       "      <td>Джим Лемли, Джейсон Нетер, Марк Е.Платт, Яйн Смит</td>\n",
       "      <td>«18+» - запрещено для детей</td>\n",
       "      <td>NaN</td>\n",
       "      <td>NaN</td>\n",
       "      <td>NaN</td>\n",
       "      <td>NaN</td>\n",
       "      <td>6.8</td>\n",
       "      <td>фантастика,боевик,триллер</td>\n",
       "      <td>NaN</td>\n",
       "    </tr>\n",
       "  </tbody>\n",
       "</table>\n",
       "</div>"
      ],
      "text/plain": [
       "                  title   puNumber           show_start_date            type  \\\n",
       "0      Открытый простор  221048915  2015-11-27T12:00:00.000Z  Художественный   \n",
       "1  Особо важное задание  111013716  2016-09-13T12:00:00.000Z  Художественный   \n",
       "2          Особо опасен  221038416  2016-10-10T12:00:00.000Z  Художественный   \n",
       "3          Особо опасен  221026916  2016-06-10T12:00:00.000Z  Художественный   \n",
       "4          Особо опасен  221030815  2015-07-29T12:00:00.000Z  Художественный   \n",
       "\n",
       "                                         film_studio production_country  \\\n",
       "0  Тачстоун Пикчерз, Кобальт Пикчерз, Бикон Пикче...                США   \n",
       "1                              Киностудия \"Мосфильм\"               СССР   \n",
       "2  Юниверсал Пикчерз, Кикстарт Продакшнз, Марк Пл...                США   \n",
       "3  Юниверсал Пикчерз, Кикстарт Продакшнз, Марк Пл...                США   \n",
       "4  Юниверсал Пикчерз, Кикстарт Продакшнз, Марк Пл...                США   \n",
       "\n",
       "            director                                           producer  \\\n",
       "0      Кевин Костнер          Дэвид Валдес, Кевин Костнер, Джейк Эбертс   \n",
       "1          Е.Матвеев                                                NaN   \n",
       "2  Тимур Бекмамбетов  Джим Лемли, Джейсон Нетер, Марк Е.Платт, Яйн Смит   \n",
       "3  Тимур Бекмамбетов  Джим Лемли, Джейсон Нетер, Марк Е.Платт, Яйн Смит   \n",
       "4  Тимур Бекмамбетов  Джим Лемли, Джейсон Нетер, Марк Е.Платт, Яйн Смит   \n",
       "\n",
       "                 age_restriction  refundable_support  nonrefundable_support  \\\n",
       "0    «18+» - запрещено для детей                 NaN                    NaN   \n",
       "1  «6+» - для детей старше 6 лет                 NaN                    NaN   \n",
       "2    «18+» - запрещено для детей                 NaN                    NaN   \n",
       "3    «18+» - запрещено для детей                 NaN                    NaN   \n",
       "4    «18+» - запрещено для детей                 NaN                    NaN   \n",
       "\n",
       "   budget financing_source ratings                     genres  box_office  \n",
       "0     NaN              NaN     7.2     боевик,драма,мелодрама         NaN  \n",
       "1     NaN              NaN     6.6              драма,военный         NaN  \n",
       "2     NaN              NaN     6.8  фантастика,боевик,триллер         NaN  \n",
       "3     NaN              NaN     6.8  фантастика,боевик,триллер         NaN  \n",
       "4     NaN              NaN     6.8  фантастика,боевик,триллер         NaN  "
      ]
     },
     "execution_count": 12,
     "metadata": {},
     "output_type": "execute_result"
    }
   ],
   "source": [
    "# объединим две таблицы по столбцу puNumber, индексы таблицы data включим в итоговую таблицу\n",
    "df = data.merge(data_1, on='puNumber', how='left')\n",
    "df.head()"
   ]
  },
  {
   "cell_type": "code",
   "execution_count": 13,
   "metadata": {},
   "outputs": [],
   "source": [
    "# переименуем столбцец puNumber, приведем его к нижнему регистру\n",
    "df = df.rename(columns={'puNumber': 'pu_number' })"
   ]
  },
  {
   "cell_type": "code",
   "execution_count": 14,
   "metadata": {},
   "outputs": [
    {
     "name": "stdout",
     "output_type": "stream",
     "text": [
      "<class 'pandas.core.frame.DataFrame'>\n",
      "Int64Index: 7486 entries, 0 to 7485\n",
      "Data columns (total 16 columns):\n",
      " #   Column                 Non-Null Count  Dtype  \n",
      "---  ------                 --------------  -----  \n",
      " 0   title                  7486 non-null   object \n",
      " 1   pu_number              7486 non-null   int32  \n",
      " 2   show_start_date        7486 non-null   object \n",
      " 3   type                   7486 non-null   object \n",
      " 4   film_studio            7468 non-null   object \n",
      " 5   production_country     7484 non-null   object \n",
      " 6   director               7477 non-null   object \n",
      " 7   producer               6918 non-null   object \n",
      " 8   age_restriction        7486 non-null   object \n",
      " 9   refundable_support     332 non-null    float64\n",
      " 10  nonrefundable_support  332 non-null    float64\n",
      " 11  budget                 332 non-null    float64\n",
      " 12  financing_source       332 non-null    object \n",
      " 13  ratings                6519 non-null   object \n",
      " 14  genres                 6510 non-null   object \n",
      " 15  box_office             3158 non-null   float64\n",
      "dtypes: float64(4), int32(1), object(11)\n",
      "memory usage: 965.0+ KB\n"
     ]
    }
   ],
   "source": [
    "# убедимся, что все значения добавились к новой таблице и столбец pu_number переименовался\n",
    "df.info()"
   ]
  },
  {
   "cell_type": "markdown",
   "metadata": {
    "id": "KLDGpPG0gFyM"
   },
   "source": [
    "###  Предобработка данных"
   ]
  },
  {
   "cell_type": "markdown",
   "metadata": {
    "id": "i0MOLbF-gFyP"
   },
   "source": [
    "####  Анализ и обработка пропусков в датафрейме\n",
    "\n",
    "- Объясните, почему заполнили пропуски определённым образом или почему не стали этого делать."
   ]
  },
  {
   "cell_type": "code",
   "execution_count": 15,
   "metadata": {},
   "outputs": [
    {
     "data": {
      "text/plain": [
       "title                     0.00\n",
       "pu_number                 0.00\n",
       "show_start_date           0.00\n",
       "type                      0.00\n",
       "film_studio               0.24\n",
       "production_country        0.03\n",
       "director                  0.12\n",
       "producer                  7.59\n",
       "age_restriction           0.00\n",
       "refundable_support       95.57\n",
       "nonrefundable_support    95.57\n",
       "budget                   95.57\n",
       "financing_source         95.57\n",
       "ratings                  12.92\n",
       "genres                   13.04\n",
       "box_office               57.81\n",
       "dtype: float64"
      ]
     },
     "execution_count": 15,
     "metadata": {},
     "output_type": "execute_result"
    }
   ],
   "source": [
    "# определеним количество пропусков в процентах\n",
    "(df.isna().mean().round(4))*100"
   ]
  },
  {
   "cell_type": "code",
   "execution_count": 16,
   "metadata": {},
   "outputs": [
    {
     "data": {
      "text/html": [
       "<div>\n",
       "<style scoped>\n",
       "    .dataframe tbody tr th:only-of-type {\n",
       "        vertical-align: middle;\n",
       "    }\n",
       "\n",
       "    .dataframe tbody tr th {\n",
       "        vertical-align: top;\n",
       "    }\n",
       "\n",
       "    .dataframe thead th {\n",
       "        text-align: right;\n",
       "    }\n",
       "</style>\n",
       "<table border=\"1\" class=\"dataframe\">\n",
       "  <thead>\n",
       "    <tr style=\"text-align: right;\">\n",
       "      <th></th>\n",
       "      <th>title</th>\n",
       "      <th>pu_number</th>\n",
       "      <th>show_start_date</th>\n",
       "      <th>type</th>\n",
       "      <th>film_studio</th>\n",
       "      <th>production_country</th>\n",
       "      <th>director</th>\n",
       "      <th>producer</th>\n",
       "      <th>age_restriction</th>\n",
       "      <th>refundable_support</th>\n",
       "      <th>nonrefundable_support</th>\n",
       "      <th>budget</th>\n",
       "      <th>financing_source</th>\n",
       "      <th>ratings</th>\n",
       "      <th>genres</th>\n",
       "      <th>box_office</th>\n",
       "    </tr>\n",
       "  </thead>\n",
       "  <tbody>\n",
       "    <tr>\n",
       "      <th>1</th>\n",
       "      <td>Особо важное задание</td>\n",
       "      <td>111013716</td>\n",
       "      <td>2016-09-13T12:00:00.000Z</td>\n",
       "      <td>Художественный</td>\n",
       "      <td>Киностудия \"Мосфильм\"</td>\n",
       "      <td>СССР</td>\n",
       "      <td>Е.Матвеев</td>\n",
       "      <td>NaN</td>\n",
       "      <td>«6+» - для детей старше 6 лет</td>\n",
       "      <td>NaN</td>\n",
       "      <td>NaN</td>\n",
       "      <td>NaN</td>\n",
       "      <td>NaN</td>\n",
       "      <td>6.6</td>\n",
       "      <td>драма,военный</td>\n",
       "      <td>NaN</td>\n",
       "    </tr>\n",
       "    <tr>\n",
       "      <th>5</th>\n",
       "      <td>Остановился поезд</td>\n",
       "      <td>111013816</td>\n",
       "      <td>2016-09-13T12:00:00.000Z</td>\n",
       "      <td>Художественный</td>\n",
       "      <td>Киностудия \"Мосфильм\"</td>\n",
       "      <td>СССР</td>\n",
       "      <td>В.Абдрашитов</td>\n",
       "      <td>NaN</td>\n",
       "      <td>«6+» - для детей старше 6 лет</td>\n",
       "      <td>NaN</td>\n",
       "      <td>NaN</td>\n",
       "      <td>NaN</td>\n",
       "      <td>NaN</td>\n",
       "      <td>7.7</td>\n",
       "      <td>драма</td>\n",
       "      <td>NaN</td>\n",
       "    </tr>\n",
       "    <tr>\n",
       "      <th>6</th>\n",
       "      <td>Любовь и голуби</td>\n",
       "      <td>111007013</td>\n",
       "      <td>2013-10-18T12:00:00.000Z</td>\n",
       "      <td>Художественный</td>\n",
       "      <td>Киностудия \"Мосфильм\"</td>\n",
       "      <td>СССР</td>\n",
       "      <td>В.Меньшов</td>\n",
       "      <td>NaN</td>\n",
       "      <td>«12+» - для детей старше 12 лет</td>\n",
       "      <td>NaN</td>\n",
       "      <td>NaN</td>\n",
       "      <td>NaN</td>\n",
       "      <td>NaN</td>\n",
       "      <td>8.3</td>\n",
       "      <td>мелодрама,комедия</td>\n",
       "      <td>2700.0</td>\n",
       "    </tr>\n",
       "    <tr>\n",
       "      <th>9</th>\n",
       "      <td>Отпуск за свой счет</td>\n",
       "      <td>111019114</td>\n",
       "      <td>2014-12-01T12:00:00.000Z</td>\n",
       "      <td>Художественный</td>\n",
       "      <td>Киностудия \"Мосфильм\", Телевидение ВНР</td>\n",
       "      <td>СССР, Венгрия</td>\n",
       "      <td>В.Титов</td>\n",
       "      <td>NaN</td>\n",
       "      <td>«12+» - для детей старше 12 лет</td>\n",
       "      <td>NaN</td>\n",
       "      <td>NaN</td>\n",
       "      <td>NaN</td>\n",
       "      <td>NaN</td>\n",
       "      <td>7.8</td>\n",
       "      <td>мелодрама,комедия</td>\n",
       "      <td>NaN</td>\n",
       "    </tr>\n",
       "    <tr>\n",
       "      <th>11</th>\n",
       "      <td>Ответный ход</td>\n",
       "      <td>111019014</td>\n",
       "      <td>2014-12-01T12:00:00.000Z</td>\n",
       "      <td>Художественный</td>\n",
       "      <td>Киностудия \"Мосфильм\"</td>\n",
       "      <td>СССР</td>\n",
       "      <td>М.Туманишвили</td>\n",
       "      <td>NaN</td>\n",
       "      <td>«12+» - для детей старше 12 лет</td>\n",
       "      <td>NaN</td>\n",
       "      <td>NaN</td>\n",
       "      <td>NaN</td>\n",
       "      <td>NaN</td>\n",
       "      <td>7.8</td>\n",
       "      <td>боевик,драма,приключения</td>\n",
       "      <td>NaN</td>\n",
       "    </tr>\n",
       "  </tbody>\n",
       "</table>\n",
       "</div>"
      ],
      "text/plain": [
       "                   title  pu_number           show_start_date            type  \\\n",
       "1   Особо важное задание  111013716  2016-09-13T12:00:00.000Z  Художественный   \n",
       "5      Остановился поезд  111013816  2016-09-13T12:00:00.000Z  Художественный   \n",
       "6        Любовь и голуби  111007013  2013-10-18T12:00:00.000Z  Художественный   \n",
       "9    Отпуск за свой счет  111019114  2014-12-01T12:00:00.000Z  Художественный   \n",
       "11          Ответный ход  111019014  2014-12-01T12:00:00.000Z  Художественный   \n",
       "\n",
       "                               film_studio production_country       director  \\\n",
       "1                    Киностудия \"Мосфильм\"               СССР      Е.Матвеев   \n",
       "5                    Киностудия \"Мосфильм\"               СССР   В.Абдрашитов   \n",
       "6                    Киностудия \"Мосфильм\"               СССР      В.Меньшов   \n",
       "9   Киностудия \"Мосфильм\", Телевидение ВНР      СССР, Венгрия        В.Титов   \n",
       "11                   Киностудия \"Мосфильм\"               СССР  М.Туманишвили   \n",
       "\n",
       "   producer                  age_restriction  refundable_support  \\\n",
       "1       NaN    «6+» - для детей старше 6 лет                 NaN   \n",
       "5       NaN    «6+» - для детей старше 6 лет                 NaN   \n",
       "6       NaN  «12+» - для детей старше 12 лет                 NaN   \n",
       "9       NaN  «12+» - для детей старше 12 лет                 NaN   \n",
       "11      NaN  «12+» - для детей старше 12 лет                 NaN   \n",
       "\n",
       "    nonrefundable_support  budget financing_source ratings  \\\n",
       "1                     NaN     NaN              NaN     6.6   \n",
       "5                     NaN     NaN              NaN     7.7   \n",
       "6                     NaN     NaN              NaN     8.3   \n",
       "9                     NaN     NaN              NaN     7.8   \n",
       "11                    NaN     NaN              NaN     7.8   \n",
       "\n",
       "                      genres  box_office  \n",
       "1              драма,военный         NaN  \n",
       "5                      драма         NaN  \n",
       "6          мелодрама,комедия      2700.0  \n",
       "9          мелодрама,комедия         NaN  \n",
       "11  боевик,драма,приключения         NaN  "
      ]
     },
     "execution_count": 16,
     "metadata": {},
     "output_type": "execute_result"
    }
   ],
   "source": [
    "#поиск пропусков методом isna() в столбце producer\n",
    "df[df['producer'].isna()].head()"
   ]
  },
  {
   "cell_type": "code",
   "execution_count": 17,
   "metadata": {},
   "outputs": [
    {
     "data": {
      "text/html": [
       "<div>\n",
       "<style scoped>\n",
       "    .dataframe tbody tr th:only-of-type {\n",
       "        vertical-align: middle;\n",
       "    }\n",
       "\n",
       "    .dataframe tbody tr th {\n",
       "        vertical-align: top;\n",
       "    }\n",
       "\n",
       "    .dataframe thead th {\n",
       "        text-align: right;\n",
       "    }\n",
       "</style>\n",
       "<table border=\"1\" class=\"dataframe\">\n",
       "  <thead>\n",
       "    <tr style=\"text-align: right;\">\n",
       "      <th></th>\n",
       "      <th>title</th>\n",
       "      <th>pu_number</th>\n",
       "      <th>show_start_date</th>\n",
       "      <th>type</th>\n",
       "      <th>film_studio</th>\n",
       "      <th>production_country</th>\n",
       "      <th>director</th>\n",
       "      <th>producer</th>\n",
       "      <th>age_restriction</th>\n",
       "      <th>refundable_support</th>\n",
       "      <th>nonrefundable_support</th>\n",
       "      <th>budget</th>\n",
       "      <th>financing_source</th>\n",
       "      <th>ratings</th>\n",
       "      <th>genres</th>\n",
       "      <th>box_office</th>\n",
       "    </tr>\n",
       "  </thead>\n",
       "  <tbody>\n",
       "    <tr>\n",
       "      <th>0</th>\n",
       "      <td>Открытый простор</td>\n",
       "      <td>221048915</td>\n",
       "      <td>2015-11-27T12:00:00.000Z</td>\n",
       "      <td>Художественный</td>\n",
       "      <td>Тачстоун Пикчерз, Кобальт Пикчерз, Бикон Пикче...</td>\n",
       "      <td>США</td>\n",
       "      <td>Кевин Костнер</td>\n",
       "      <td>Дэвид Валдес, Кевин Костнер, Джейк Эбертс</td>\n",
       "      <td>«18+» - запрещено для детей</td>\n",
       "      <td>NaN</td>\n",
       "      <td>NaN</td>\n",
       "      <td>NaN</td>\n",
       "      <td>NaN</td>\n",
       "      <td>7.2</td>\n",
       "      <td>боевик,драма,мелодрама</td>\n",
       "      <td>NaN</td>\n",
       "    </tr>\n",
       "    <tr>\n",
       "      <th>1</th>\n",
       "      <td>Особо важное задание</td>\n",
       "      <td>111013716</td>\n",
       "      <td>2016-09-13T12:00:00.000Z</td>\n",
       "      <td>Художественный</td>\n",
       "      <td>Киностудия \"Мосфильм\"</td>\n",
       "      <td>СССР</td>\n",
       "      <td>Е.Матвеев</td>\n",
       "      <td>NaN</td>\n",
       "      <td>«6+» - для детей старше 6 лет</td>\n",
       "      <td>NaN</td>\n",
       "      <td>NaN</td>\n",
       "      <td>NaN</td>\n",
       "      <td>NaN</td>\n",
       "      <td>6.6</td>\n",
       "      <td>драма,военный</td>\n",
       "      <td>NaN</td>\n",
       "    </tr>\n",
       "    <tr>\n",
       "      <th>2</th>\n",
       "      <td>Особо опасен</td>\n",
       "      <td>221038416</td>\n",
       "      <td>2016-10-10T12:00:00.000Z</td>\n",
       "      <td>Художественный</td>\n",
       "      <td>Юниверсал Пикчерз, Кикстарт Продакшнз, Марк Пл...</td>\n",
       "      <td>США</td>\n",
       "      <td>Тимур Бекмамбетов</td>\n",
       "      <td>Джим Лемли, Джейсон Нетер, Марк Е.Платт, Яйн Смит</td>\n",
       "      <td>«18+» - запрещено для детей</td>\n",
       "      <td>NaN</td>\n",
       "      <td>NaN</td>\n",
       "      <td>NaN</td>\n",
       "      <td>NaN</td>\n",
       "      <td>6.8</td>\n",
       "      <td>фантастика,боевик,триллер</td>\n",
       "      <td>NaN</td>\n",
       "    </tr>\n",
       "    <tr>\n",
       "      <th>3</th>\n",
       "      <td>Особо опасен</td>\n",
       "      <td>221026916</td>\n",
       "      <td>2016-06-10T12:00:00.000Z</td>\n",
       "      <td>Художественный</td>\n",
       "      <td>Юниверсал Пикчерз, Кикстарт Продакшнз, Марк Пл...</td>\n",
       "      <td>США</td>\n",
       "      <td>Тимур Бекмамбетов</td>\n",
       "      <td>Джим Лемли, Джейсон Нетер, Марк Е.Платт, Яйн Смит</td>\n",
       "      <td>«18+» - запрещено для детей</td>\n",
       "      <td>NaN</td>\n",
       "      <td>NaN</td>\n",
       "      <td>NaN</td>\n",
       "      <td>NaN</td>\n",
       "      <td>6.8</td>\n",
       "      <td>фантастика,боевик,триллер</td>\n",
       "      <td>NaN</td>\n",
       "    </tr>\n",
       "    <tr>\n",
       "      <th>4</th>\n",
       "      <td>Особо опасен</td>\n",
       "      <td>221030815</td>\n",
       "      <td>2015-07-29T12:00:00.000Z</td>\n",
       "      <td>Художественный</td>\n",
       "      <td>Юниверсал Пикчерз, Кикстарт Продакшнз, Марк Пл...</td>\n",
       "      <td>США</td>\n",
       "      <td>Тимур Бекмамбетов</td>\n",
       "      <td>Джим Лемли, Джейсон Нетер, Марк Е.Платт, Яйн Смит</td>\n",
       "      <td>«18+» - запрещено для детей</td>\n",
       "      <td>NaN</td>\n",
       "      <td>NaN</td>\n",
       "      <td>NaN</td>\n",
       "      <td>NaN</td>\n",
       "      <td>6.8</td>\n",
       "      <td>фантастика,боевик,триллер</td>\n",
       "      <td>NaN</td>\n",
       "    </tr>\n",
       "  </tbody>\n",
       "</table>\n",
       "</div>"
      ],
      "text/plain": [
       "                  title  pu_number           show_start_date            type  \\\n",
       "0      Открытый простор  221048915  2015-11-27T12:00:00.000Z  Художественный   \n",
       "1  Особо важное задание  111013716  2016-09-13T12:00:00.000Z  Художественный   \n",
       "2          Особо опасен  221038416  2016-10-10T12:00:00.000Z  Художественный   \n",
       "3          Особо опасен  221026916  2016-06-10T12:00:00.000Z  Художественный   \n",
       "4          Особо опасен  221030815  2015-07-29T12:00:00.000Z  Художественный   \n",
       "\n",
       "                                         film_studio production_country  \\\n",
       "0  Тачстоун Пикчерз, Кобальт Пикчерз, Бикон Пикче...                США   \n",
       "1                              Киностудия \"Мосфильм\"               СССР   \n",
       "2  Юниверсал Пикчерз, Кикстарт Продакшнз, Марк Пл...                США   \n",
       "3  Юниверсал Пикчерз, Кикстарт Продакшнз, Марк Пл...                США   \n",
       "4  Юниверсал Пикчерз, Кикстарт Продакшнз, Марк Пл...                США   \n",
       "\n",
       "            director                                           producer  \\\n",
       "0      Кевин Костнер          Дэвид Валдес, Кевин Костнер, Джейк Эбертс   \n",
       "1          Е.Матвеев                                                NaN   \n",
       "2  Тимур Бекмамбетов  Джим Лемли, Джейсон Нетер, Марк Е.Платт, Яйн Смит   \n",
       "3  Тимур Бекмамбетов  Джим Лемли, Джейсон Нетер, Марк Е.Платт, Яйн Смит   \n",
       "4  Тимур Бекмамбетов  Джим Лемли, Джейсон Нетер, Марк Е.Платт, Яйн Смит   \n",
       "\n",
       "                 age_restriction  refundable_support  nonrefundable_support  \\\n",
       "0    «18+» - запрещено для детей                 NaN                    NaN   \n",
       "1  «6+» - для детей старше 6 лет                 NaN                    NaN   \n",
       "2    «18+» - запрещено для детей                 NaN                    NaN   \n",
       "3    «18+» - запрещено для детей                 NaN                    NaN   \n",
       "4    «18+» - запрещено для детей                 NaN                    NaN   \n",
       "\n",
       "   budget financing_source ratings                     genres  box_office  \n",
       "0     NaN              NaN     7.2     боевик,драма,мелодрама         NaN  \n",
       "1     NaN              NaN     6.6              драма,военный         NaN  \n",
       "2     NaN              NaN     6.8  фантастика,боевик,триллер         NaN  \n",
       "3     NaN              NaN     6.8  фантастика,боевик,триллер         NaN  \n",
       "4     NaN              NaN     6.8  фантастика,боевик,триллер         NaN  "
      ]
     },
     "execution_count": 17,
     "metadata": {},
     "output_type": "execute_result"
    }
   ],
   "source": [
    "#поиск пропусков методом isna() в столбце nonrefundable_support\n",
    "df.query('nonrefundable_support.isna()').head()"
   ]
  },
  {
   "cell_type": "code",
   "execution_count": 18,
   "metadata": {
    "code_folding": []
   },
   "outputs": [
    {
     "data": {
      "text/html": [
       "<div>\n",
       "<style scoped>\n",
       "    .dataframe tbody tr th:only-of-type {\n",
       "        vertical-align: middle;\n",
       "    }\n",
       "\n",
       "    .dataframe tbody tr th {\n",
       "        vertical-align: top;\n",
       "    }\n",
       "\n",
       "    .dataframe thead th {\n",
       "        text-align: right;\n",
       "    }\n",
       "</style>\n",
       "<table border=\"1\" class=\"dataframe\">\n",
       "  <thead>\n",
       "    <tr style=\"text-align: right;\">\n",
       "      <th></th>\n",
       "      <th>title</th>\n",
       "      <th>pu_number</th>\n",
       "      <th>show_start_date</th>\n",
       "      <th>type</th>\n",
       "      <th>film_studio</th>\n",
       "      <th>production_country</th>\n",
       "      <th>director</th>\n",
       "      <th>producer</th>\n",
       "      <th>age_restriction</th>\n",
       "      <th>refundable_support</th>\n",
       "      <th>nonrefundable_support</th>\n",
       "      <th>budget</th>\n",
       "      <th>financing_source</th>\n",
       "      <th>ratings</th>\n",
       "      <th>genres</th>\n",
       "      <th>box_office</th>\n",
       "    </tr>\n",
       "  </thead>\n",
       "  <tbody>\n",
       "    <tr>\n",
       "      <th>43</th>\n",
       "      <td>Мемуары гейши (по роману Артура Голдена)</td>\n",
       "      <td>121000606</td>\n",
       "      <td>2012-12-14T12:00:00.000Z</td>\n",
       "      <td>Художественный</td>\n",
       "      <td>Коламбия Пикчерз Корпорейшн, ДримУоркс ЭсКейДж...</td>\n",
       "      <td>США</td>\n",
       "      <td>Роб Маршалл</td>\n",
       "      <td>Стивен Спилберг, Люси Фишер, Дуглас Уик, Джон ...</td>\n",
       "      <td>«12+» - для детей старше 12 лет</td>\n",
       "      <td>NaN</td>\n",
       "      <td>NaN</td>\n",
       "      <td>NaN</td>\n",
       "      <td>NaN</td>\n",
       "      <td>NaN</td>\n",
       "      <td>NaN</td>\n",
       "      <td>NaN</td>\n",
       "    </tr>\n",
       "    <tr>\n",
       "      <th>150</th>\n",
       "      <td>Жди меня</td>\n",
       "      <td>111013615</td>\n",
       "      <td>2015-08-25T12:00:00.000Z</td>\n",
       "      <td>Художественный</td>\n",
       "      <td>Киностудия \"Мосфильм\"</td>\n",
       "      <td>СССР</td>\n",
       "      <td>А.Столпер, Б.Иванов</td>\n",
       "      <td>NaN</td>\n",
       "      <td>«6+» - для детей старше 6 лет</td>\n",
       "      <td>NaN</td>\n",
       "      <td>NaN</td>\n",
       "      <td>NaN</td>\n",
       "      <td>NaN</td>\n",
       "      <td>NaN</td>\n",
       "      <td>NaN</td>\n",
       "      <td>NaN</td>\n",
       "    </tr>\n",
       "    <tr>\n",
       "      <th>154</th>\n",
       "      <td>Дом из песка и тумана (по книге Андре Дюбуи III)</td>\n",
       "      <td>221037813</td>\n",
       "      <td>2013-10-25T12:00:00.000Z</td>\n",
       "      <td>Художественный</td>\n",
       "      <td>Кобальт Пикчерз</td>\n",
       "      <td>США</td>\n",
       "      <td>Вадим Перельман</td>\n",
       "      <td>Майкл Лондон</td>\n",
       "      <td>«16+» - для детей старше 16 лет</td>\n",
       "      <td>NaN</td>\n",
       "      <td>NaN</td>\n",
       "      <td>NaN</td>\n",
       "      <td>NaN</td>\n",
       "      <td>NaN</td>\n",
       "      <td>NaN</td>\n",
       "      <td>NaN</td>\n",
       "    </tr>\n",
       "    <tr>\n",
       "      <th>159</th>\n",
       "      <td>Жемчужная девушка</td>\n",
       "      <td>224011014</td>\n",
       "      <td>2014-08-28T12:00:00.000Z</td>\n",
       "      <td>Художественный</td>\n",
       "      <td>Чешское телевидение,Студия \"Три брата\" агентск...</td>\n",
       "      <td>Чехия</td>\n",
       "      <td>Владимир Дрга</td>\n",
       "      <td>NaN</td>\n",
       "      <td>«0+» - для любой зрительской аудитории</td>\n",
       "      <td>NaN</td>\n",
       "      <td>NaN</td>\n",
       "      <td>NaN</td>\n",
       "      <td>NaN</td>\n",
       "      <td>NaN</td>\n",
       "      <td>NaN</td>\n",
       "      <td>NaN</td>\n",
       "    </tr>\n",
       "    <tr>\n",
       "      <th>227</th>\n",
       "      <td>Полустанок</td>\n",
       "      <td>111026714</td>\n",
       "      <td>2014-12-24T12:00:00.000Z</td>\n",
       "      <td>Художественный</td>\n",
       "      <td>Киностудия \"Мосфильм\"</td>\n",
       "      <td>СССР</td>\n",
       "      <td>Б.Барнет</td>\n",
       "      <td>NaN</td>\n",
       "      <td>«12+» - для детей старше 12 лет</td>\n",
       "      <td>NaN</td>\n",
       "      <td>NaN</td>\n",
       "      <td>NaN</td>\n",
       "      <td>NaN</td>\n",
       "      <td>NaN</td>\n",
       "      <td>NaN</td>\n",
       "      <td>NaN</td>\n",
       "    </tr>\n",
       "  </tbody>\n",
       "</table>\n",
       "</div>"
      ],
      "text/plain": [
       "                                                title  pu_number  \\\n",
       "43           Мемуары гейши (по роману Артура Голдена)  121000606   \n",
       "150                                          Жди меня  111013615   \n",
       "154  Дом из песка и тумана (по книге Андре Дюбуи III)  221037813   \n",
       "159                                 Жемчужная девушка  224011014   \n",
       "227                                        Полустанок  111026714   \n",
       "\n",
       "              show_start_date            type  \\\n",
       "43   2012-12-14T12:00:00.000Z  Художественный   \n",
       "150  2015-08-25T12:00:00.000Z  Художественный   \n",
       "154  2013-10-25T12:00:00.000Z  Художественный   \n",
       "159  2014-08-28T12:00:00.000Z  Художественный   \n",
       "227  2014-12-24T12:00:00.000Z  Художественный   \n",
       "\n",
       "                                           film_studio production_country  \\\n",
       "43   Коламбия Пикчерз Корпорейшн, ДримУоркс ЭсКейДж...                США   \n",
       "150                              Киностудия \"Мосфильм\"               СССР   \n",
       "154                                    Кобальт Пикчерз                США   \n",
       "159  Чешское телевидение,Студия \"Три брата\" агентск...              Чехия   \n",
       "227                              Киностудия \"Мосфильм\"               СССР   \n",
       "\n",
       "                director                                           producer  \\\n",
       "43           Роб Маршалл  Стивен Спилберг, Люси Фишер, Дуглас Уик, Джон ...   \n",
       "150  А.Столпер, Б.Иванов                                                NaN   \n",
       "154      Вадим Перельман                                       Майкл Лондон   \n",
       "159        Владимир Дрга                                                NaN   \n",
       "227             Б.Барнет                                                NaN   \n",
       "\n",
       "                            age_restriction  refundable_support  \\\n",
       "43          «12+» - для детей старше 12 лет                 NaN   \n",
       "150           «6+» - для детей старше 6 лет                 NaN   \n",
       "154         «16+» - для детей старше 16 лет                 NaN   \n",
       "159  «0+» - для любой зрительской аудитории                 NaN   \n",
       "227         «12+» - для детей старше 12 лет                 NaN   \n",
       "\n",
       "     nonrefundable_support  budget financing_source ratings genres  box_office  \n",
       "43                     NaN     NaN              NaN     NaN    NaN         NaN  \n",
       "150                    NaN     NaN              NaN     NaN    NaN         NaN  \n",
       "154                    NaN     NaN              NaN     NaN    NaN         NaN  \n",
       "159                    NaN     NaN              NaN     NaN    NaN         NaN  \n",
       "227                    NaN     NaN              NaN     NaN    NaN         NaN  "
      ]
     },
     "execution_count": 18,
     "metadata": {},
     "output_type": "execute_result"
    }
   ],
   "source": [
    "#поиск пропусков методом isna() в столбце ratings\n",
    "df.query('ratings.isna()').head()"
   ]
  },
  {
   "cell_type": "code",
   "execution_count": 19,
   "metadata": {},
   "outputs": [
    {
     "data": {
      "text/html": [
       "<div>\n",
       "<style scoped>\n",
       "    .dataframe tbody tr th:only-of-type {\n",
       "        vertical-align: middle;\n",
       "    }\n",
       "\n",
       "    .dataframe tbody tr th {\n",
       "        vertical-align: top;\n",
       "    }\n",
       "\n",
       "    .dataframe thead th {\n",
       "        text-align: right;\n",
       "    }\n",
       "</style>\n",
       "<table border=\"1\" class=\"dataframe\">\n",
       "  <thead>\n",
       "    <tr style=\"text-align: right;\">\n",
       "      <th></th>\n",
       "      <th>ratings</th>\n",
       "      <th>genres</th>\n",
       "    </tr>\n",
       "    <tr>\n",
       "      <th>age_restriction</th>\n",
       "      <th></th>\n",
       "      <th></th>\n",
       "    </tr>\n",
       "  </thead>\n",
       "  <tbody>\n",
       "    <tr>\n",
       "      <th>«0+» - для любой зрительской аудитории</th>\n",
       "      <td>468</td>\n",
       "      <td>468</td>\n",
       "    </tr>\n",
       "    <tr>\n",
       "      <th>«12+» - для детей старше 12 лет</th>\n",
       "      <td>1348</td>\n",
       "      <td>1348</td>\n",
       "    </tr>\n",
       "    <tr>\n",
       "      <th>«16+» - для детей старше 16 лет</th>\n",
       "      <td>2663</td>\n",
       "      <td>2659</td>\n",
       "    </tr>\n",
       "    <tr>\n",
       "      <th>«18+» - запрещено для детей</th>\n",
       "      <td>1512</td>\n",
       "      <td>1507</td>\n",
       "    </tr>\n",
       "    <tr>\n",
       "      <th>«6+» - для детей старше 6 лет</th>\n",
       "      <td>528</td>\n",
       "      <td>528</td>\n",
       "    </tr>\n",
       "  </tbody>\n",
       "</table>\n",
       "</div>"
      ],
      "text/plain": [
       "                                        ratings  genres\n",
       "age_restriction                                        \n",
       "«0+» - для любой зрительской аудитории      468     468\n",
       "«12+» - для детей старше 12 лет            1348    1348\n",
       "«16+» - для детей старше 16 лет            2663    2659\n",
       "«18+» - запрещено для детей                1512    1507\n",
       "«6+» - для детей старше 6 лет               528     528"
      ]
     },
     "execution_count": 19,
     "metadata": {},
     "output_type": "execute_result"
    }
   ],
   "source": [
    "# сгрупируем новую таблицу по столбцу age_restriction и посчитаем кол-во проставленного рейтинга и жанров в столбцах ratings и genres\n",
    "df_qroup = df.groupby('age_restriction')['ratings', 'genres'].count()\n",
    "df_qroup"
   ]
  },
  {
   "cell_type": "code",
   "execution_count": 20,
   "metadata": {},
   "outputs": [
    {
     "data": {
      "text/plain": [
       "26069577.20     1\n",
       "54265.00        1\n",
       "966539.00       1\n",
       "434117.00       1\n",
       "12173513.01     1\n",
       "               ..\n",
       "250.00          8\n",
       "360.00          9\n",
       "300.00         12\n",
       "200.00         13\n",
       "0.00           24\n",
       "Name: box_office, Length: 2938, dtype: int64"
      ]
     },
     "execution_count": 20,
     "metadata": {},
     "output_type": "execute_result"
    }
   ],
   "source": [
    "#посмотрим уникальные значения столбца box_office\n",
    "df['box_office'].value_counts().sort_values()"
   ]
  },
  {
   "cell_type": "markdown",
   "metadata": {},
   "source": [
    "##### Вывод\n",
    "\n",
    "В столбах **film_studio**, **production_country** и **director**, в сумме пропуски не превышаю 0,5%, поэтому просто удалим пропущенные значения в данных столбах.\n",
    "\n",
    "В столбце **producer** пропуски составляют, более 5%, просто так мы их удалить не можем, это повлечет к потере других важных данных. После того, как мы нашли пропуски в данном столбце методом isna, можно проследить то, что пропуски стоят там где страна - производитель СССР. В нашем искусстве слово «продюсер» появилось относительно недавно. Еще лет двадцать назад в нашем кино, например, существовали просто директора картины. Скорее всего этим и объясняется наличие пропусков в данном столбце. Для дальнейшего исследования, столбец, не играет большую роль, просто оставим пропуски так как есть.\n",
    "\n",
    "Очень большой процент пропусков в столбах **refundable_support**, **nonrefundable_support** и **budget** , изучив пропущенные значения, видно, что пропуски стоят напротив фильмов либо зарубежных, либо снятых в СССР. Так как господдержка дает деньги только Российским фильмам, а в СССР воообще кино было государственным и полностью выделялись деньги на него, а не частично поддерживались. Вполне объяснимы данные пропуски. Поэтому мы можем заменить NaN на 0, тем самым показав, что данные фильмы не получали господдержки. \n",
    "\n",
    "В столбце  **financing_source** 95,6% источников финансирования пропущенно. Проведя выше анализ пропусков столбцах nonrefundable_support и budget, делаем аналогичный вывод, что фильмы выпущенные в СССР и заграницей, не попадают в категорию, в которой можно получить господдержку. Исходя из этого, данные пропуски оставим так как есть. \n",
    "\n",
    "В столбце **ratings** пропусков встретилось 12,9%, это достаточно много, удалить не можем. Но заметив тенденцию, что пропуски в основном стоят напротив возрастной категории 0+ и 6+. Посмотрев более детально на эти 2 столбца и убедившись в этом, можно сделать вывод, что либо дети не проставляют рейтинг после просмотра, так как им это не интересно, либо взрослые не считают нужным ставить рейтинг. То есть можно заменить NaN на 0. Показав тем самым отсутствие рейтинга.\n",
    "\n",
    "В столбце **genres** пропусков 13%. Возникло предположение, что раз пропуски встречаются почти в тех же строках, что и пропуски в ratings на против возрастной категории 0+ и 6+. То возможно, это жанр мультфильм. Тогда изменим пропуск в жанре на мультфильм, в тех строках, где возрастная категория 0+ и 6+. Остальные строки заменим на \"unknown\".\n",
    "\n",
    "Пропусков в столбце **box_office**, очень много 57,8%. Далеко не все фильмы выходят в прокат, скорее всего такой большой процент пропусков оправдан. Мы с ними ничего делат не будем оставим как есть."
   ]
  },
  {
   "cell_type": "code",
   "execution_count": 21,
   "metadata": {},
   "outputs": [],
   "source": [
    "# От строк с пропусками в столбцах 'film_studio', 'production_country' и 'director' избавимся методом dropna(). \n",
    "df = df.dropna(subset=['film_studio', 'production_country', 'director']) "
   ]
  },
  {
   "cell_type": "code",
   "execution_count": 22,
   "metadata": {},
   "outputs": [],
   "source": [
    "#удалим знак «% », а затем используем astype для преобразования типа данных в число в столбце с рейтингом\n",
    "df['ratings'] = df['ratings'].str.replace('%','').astype(np.float64)"
   ]
  },
  {
   "cell_type": "code",
   "execution_count": 23,
   "metadata": {},
   "outputs": [],
   "source": [
    "#заполним отсутствующие значения столбцов 'refundable_support', 'nonrefundable_support', 'budget' и 'ratings' нолем.\n",
    "columns_to_replace = ['refundable_support', 'nonrefundable_support', 'budget', 'ratings']\n",
    "for column in columns_to_replace: df[column] = df[column].fillna(0)"
   ]
  },
  {
   "cell_type": "code",
   "execution_count": 24,
   "metadata": {},
   "outputs": [
    {
     "data": {
      "text/html": [
       "<div>\n",
       "<style scoped>\n",
       "    .dataframe tbody tr th:only-of-type {\n",
       "        vertical-align: middle;\n",
       "    }\n",
       "\n",
       "    .dataframe tbody tr th {\n",
       "        vertical-align: top;\n",
       "    }\n",
       "\n",
       "    .dataframe thead th {\n",
       "        text-align: right;\n",
       "    }\n",
       "</style>\n",
       "<table border=\"1\" class=\"dataframe\">\n",
       "  <thead>\n",
       "    <tr style=\"text-align: right;\">\n",
       "      <th></th>\n",
       "      <th>title</th>\n",
       "      <th>pu_number</th>\n",
       "      <th>show_start_date</th>\n",
       "      <th>type</th>\n",
       "      <th>film_studio</th>\n",
       "      <th>production_country</th>\n",
       "      <th>director</th>\n",
       "      <th>producer</th>\n",
       "      <th>age_restriction</th>\n",
       "      <th>refundable_support</th>\n",
       "      <th>nonrefundable_support</th>\n",
       "      <th>budget</th>\n",
       "      <th>financing_source</th>\n",
       "      <th>ratings</th>\n",
       "      <th>genres</th>\n",
       "      <th>box_office</th>\n",
       "      <th>age_group</th>\n",
       "    </tr>\n",
       "  </thead>\n",
       "  <tbody>\n",
       "    <tr>\n",
       "      <th>488</th>\n",
       "      <td>Папаши 2</td>\n",
       "      <td>121014316</td>\n",
       "      <td>2016-05-30T12:00:00.000Z</td>\n",
       "      <td>Художественный</td>\n",
       "      <td>Гомон, Каре Продюксьон, ТФ1</td>\n",
       "      <td>Франция</td>\n",
       "      <td>Мартин Валенте</td>\n",
       "      <td>Фабрис Гольдштейн</td>\n",
       "      <td>«16+» - для детей старше 16 лет</td>\n",
       "      <td>0.0</td>\n",
       "      <td>0.0</td>\n",
       "      <td>0.0</td>\n",
       "      <td>NaN</td>\n",
       "      <td>8.5</td>\n",
       "      <td>драма,криминал</td>\n",
       "      <td>NaN</td>\n",
       "      <td>16</td>\n",
       "    </tr>\n",
       "    <tr>\n",
       "      <th>709</th>\n",
       "      <td>Корпорация \"Святые моторы\"</td>\n",
       "      <td>121023912</td>\n",
       "      <td>2012-09-25T12:00:00.000Z</td>\n",
       "      <td>Художественный</td>\n",
       "      <td>Программ Медиа де ля Коммунеле Еуропен, Уалд Б...</td>\n",
       "      <td>Франция - Германия</td>\n",
       "      <td>Лео Каракс</td>\n",
       "      <td>Мартин Мариньяк, Альберт Превост, Морис Тиншант</td>\n",
       "      <td>«18+» - запрещено для детей</td>\n",
       "      <td>0.0</td>\n",
       "      <td>0.0</td>\n",
       "      <td>0.0</td>\n",
       "      <td>NaN</td>\n",
       "      <td>6.6</td>\n",
       "      <td>фэнтези,драма</td>\n",
       "      <td>41510.0</td>\n",
       "      <td>18</td>\n",
       "    </tr>\n",
       "    <tr>\n",
       "      <th>1602</th>\n",
       "      <td>Лесной патруль</td>\n",
       "      <td>124001114</td>\n",
       "      <td>2014-04-17T12:00:00.000Z</td>\n",
       "      <td>Анимационный</td>\n",
       "      <td>Неофилм</td>\n",
       "      <td>Норвегия</td>\n",
       "      <td>Расмус А.Сивертсен</td>\n",
       "      <td>Ааге Ааберге, Ливе Бонневье</td>\n",
       "      <td>«0+» - для любой зрительской аудитории</td>\n",
       "      <td>0.0</td>\n",
       "      <td>0.0</td>\n",
       "      <td>0.0</td>\n",
       "      <td>NaN</td>\n",
       "      <td>5.6</td>\n",
       "      <td>мультфильм,приключения,семейный</td>\n",
       "      <td>671713.0</td>\n",
       "      <td>0</td>\n",
       "    </tr>\n",
       "    <tr>\n",
       "      <th>2638</th>\n",
       "      <td>Золотая лихорадка. Безумие в Гайане</td>\n",
       "      <td>112000315</td>\n",
       "      <td>2015-07-30T12:00:00.000Z</td>\n",
       "      <td>Документальный</td>\n",
       "      <td>ООО \"ДиджиталЛаб\"</td>\n",
       "      <td>Россия</td>\n",
       "      <td>В.Рощин</td>\n",
       "      <td>В.Рощин, Ю.Коваленко</td>\n",
       "      <td>«16+» - для детей старше 16 лет</td>\n",
       "      <td>0.0</td>\n",
       "      <td>0.0</td>\n",
       "      <td>0.0</td>\n",
       "      <td>NaN</td>\n",
       "      <td>4.8</td>\n",
       "      <td>драма,криминал,приключения</td>\n",
       "      <td>NaN</td>\n",
       "      <td>16</td>\n",
       "    </tr>\n",
       "    <tr>\n",
       "      <th>1737</th>\n",
       "      <td>Как поймать перо Жар-Птицы</td>\n",
       "      <td>114000513</td>\n",
       "      <td>2013-10-11T12:00:00.000Z</td>\n",
       "      <td>Художественный</td>\n",
       "      <td>ООО \"Визарт Фильм\", ООО \"Кинокомпания \"СТВ\"</td>\n",
       "      <td>Россия</td>\n",
       "      <td>В.Плотников, Г.Гитис</td>\n",
       "      <td>С.Сельянов, А.Лигай, С.Рапопорт, Ю.Москвин</td>\n",
       "      <td>«0+» - для любой зрительской аудитории</td>\n",
       "      <td>0.0</td>\n",
       "      <td>0.0</td>\n",
       "      <td>0.0</td>\n",
       "      <td>NaN</td>\n",
       "      <td>5.2</td>\n",
       "      <td>мультфильм,фэнтези</td>\n",
       "      <td>96846.0</td>\n",
       "      <td>0</td>\n",
       "    </tr>\n",
       "  </tbody>\n",
       "</table>\n",
       "</div>"
      ],
      "text/plain": [
       "                                    title  pu_number  \\\n",
       "488                              Папаши 2  121014316   \n",
       "709            Корпорация \"Святые моторы\"  121023912   \n",
       "1602                       Лесной патруль  124001114   \n",
       "2638  Золотая лихорадка. Безумие в Гайане  112000315   \n",
       "1737           Как поймать перо Жар-Птицы  114000513   \n",
       "\n",
       "               show_start_date            type  \\\n",
       "488   2016-05-30T12:00:00.000Z  Художественный   \n",
       "709   2012-09-25T12:00:00.000Z  Художественный   \n",
       "1602  2014-04-17T12:00:00.000Z    Анимационный   \n",
       "2638  2015-07-30T12:00:00.000Z  Документальный   \n",
       "1737  2013-10-11T12:00:00.000Z  Художественный   \n",
       "\n",
       "                                            film_studio  production_country  \\\n",
       "488                         Гомон, Каре Продюксьон, ТФ1             Франция   \n",
       "709   Программ Медиа де ля Коммунеле Еуропен, Уалд Б...  Франция - Германия   \n",
       "1602                                            Неофилм            Норвегия   \n",
       "2638                                  ООО \"ДиджиталЛаб\"              Россия   \n",
       "1737        ООО \"Визарт Фильм\", ООО \"Кинокомпания \"СТВ\"              Россия   \n",
       "\n",
       "                  director                                         producer  \\\n",
       "488         Мартин Валенте                                Фабрис Гольдштейн   \n",
       "709             Лео Каракс  Мартин Мариньяк, Альберт Превост, Морис Тиншант   \n",
       "1602    Расмус А.Сивертсен                      Ааге Ааберге, Ливе Бонневье   \n",
       "2638               В.Рощин                             В.Рощин, Ю.Коваленко   \n",
       "1737  В.Плотников, Г.Гитис       С.Сельянов, А.Лигай, С.Рапопорт, Ю.Москвин   \n",
       "\n",
       "                             age_restriction  refundable_support  \\\n",
       "488          «16+» - для детей старше 16 лет                 0.0   \n",
       "709              «18+» - запрещено для детей                 0.0   \n",
       "1602  «0+» - для любой зрительской аудитории                 0.0   \n",
       "2638         «16+» - для детей старше 16 лет                 0.0   \n",
       "1737  «0+» - для любой зрительской аудитории                 0.0   \n",
       "\n",
       "      nonrefundable_support  budget financing_source  ratings  \\\n",
       "488                     0.0     0.0              NaN      8.5   \n",
       "709                     0.0     0.0              NaN      6.6   \n",
       "1602                    0.0     0.0              NaN      5.6   \n",
       "2638                    0.0     0.0              NaN      4.8   \n",
       "1737                    0.0     0.0              NaN      5.2   \n",
       "\n",
       "                               genres  box_office  age_group  \n",
       "488                    драма,криминал         NaN         16  \n",
       "709                     фэнтези,драма     41510.0         18  \n",
       "1602  мультфильм,приключения,семейный    671713.0          0  \n",
       "2638       драма,криминал,приключения         NaN         16  \n",
       "1737               мультфильм,фэнтези     96846.0          0  "
      ]
     },
     "execution_count": 24,
     "metadata": {},
     "output_type": "execute_result"
    }
   ],
   "source": [
    "# создадим функцию, которая пробежится по всем значениям столбца age_restriction и выберет в нем возрастные ограничения \n",
    "# и преобразуем эти возрастные ограничения в новом столбце, в котором они будут ввиде целого числа.\n",
    "def age(row):\n",
    "    age_restriction = row['age_restriction']\n",
    "    if '0' in age_restriction:\n",
    "        return 0\n",
    "    \n",
    "    if '16 лет' in age_restriction:\n",
    "        return  16\n",
    "    \n",
    "    if '12' in age_restriction:\n",
    "        return  12\n",
    "    \n",
    "    if 'старше 6 лет' in age_restriction:\n",
    "        return 6 \n",
    "    if '18' in age_restriction:\n",
    "        return 18\n",
    "#присоединяем к таблице новый столбец с категориями по возрасту ввиде целого числа\n",
    "df['age_group'] = df.apply(age, axis=1)        \n",
    "df.sample(5)"
   ]
  },
  {
   "cell_type": "code",
   "execution_count": 25,
   "metadata": {},
   "outputs": [],
   "source": [
    "# заменим те пропуски в столбце genres, которые находятся на против возрастной категории 0+\n",
    "df.loc[(df['age_group'] == 0) & (df['genres'].isna()), 'genres'] = 'мультфильм'"
   ]
  },
  {
   "cell_type": "code",
   "execution_count": 26,
   "metadata": {},
   "outputs": [],
   "source": [
    "# заменим те пропуски в столбце genres, которые находятся на против возрастной категории 6+\n",
    "df.loc[(df['age_group'] == 6) & (df['genres'].isna()), 'genres'] = 'мультфильм'"
   ]
  },
  {
   "cell_type": "code",
   "execution_count": 27,
   "metadata": {},
   "outputs": [
    {
     "data": {
      "text/plain": [
       "genres              0\n",
       "producer            0\n",
       "financing_source    0\n",
       "dtype: int64"
      ]
     },
     "execution_count": 27,
     "metadata": {},
     "output_type": "execute_result"
    }
   ],
   "source": [
    "# заменим пропуски в столбцах 'genres', 'producer', 'financing_source' на 'unknown'\n",
    "df[['genres', 'producer', 'financing_source']] = df[['genres', 'producer', 'financing_source']].fillna('unknown')\n",
    "df[['genres', 'producer', 'financing_source']].isna().sum()"
   ]
  },
  {
   "cell_type": "code",
   "execution_count": 28,
   "metadata": {},
   "outputs": [
    {
     "data": {
      "text/plain": [
       "title                     0.0\n",
       "pu_number                 0.0\n",
       "show_start_date           0.0\n",
       "type                      0.0\n",
       "film_studio               0.0\n",
       "production_country        0.0\n",
       "director                  0.0\n",
       "producer                  0.0\n",
       "age_restriction           0.0\n",
       "refundable_support        0.0\n",
       "nonrefundable_support     0.0\n",
       "budget                    0.0\n",
       "financing_source          0.0\n",
       "ratings                   0.0\n",
       "genres                    0.0\n",
       "box_office               57.7\n",
       "age_group                 0.0\n",
       "dtype: float64"
      ]
     },
     "execution_count": 28,
     "metadata": {},
     "output_type": "execute_result"
    }
   ],
   "source": [
    "# определеним количество пропусков в процентах\n",
    "(df.isna().mean().round(4))*100"
   ]
  },
  {
   "cell_type": "markdown",
   "metadata": {
    "id": "ssWwKXsxgFyO"
   },
   "source": [
    "####  Проверка типы данных\n",
    "\n",
    "- Проверьте типы данных в датафрейме и преобразуйте их там, где это необходимо."
   ]
  },
  {
   "cell_type": "markdown",
   "metadata": {},
   "source": [
    "Необходимо заменить тип данных в следующих столбцах:\n",
    "* show_start_date - на тип **datetime**\n",
    "* refundable_support, nonrefundable_support и budget - на тип **int**, так же для удобства восприятия переведем рубли в тыс.руб.\n",
    "* ratings - на тип **float**\n",
    "* box_office - тип оставим как есть, но переведем рубли в тыс.руб.\n"
   ]
  },
  {
   "cell_type": "code",
   "execution_count": 29,
   "metadata": {},
   "outputs": [],
   "source": [
    "# заменяем тип данных на в столбце 'first_day_exposition' \n",
    "df['show_start_date'] = pd.to_datetime(df['show_start_date'], format='%Y-%m-%d %H:%M:%S')"
   ]
  },
  {
   "cell_type": "code",
   "execution_count": 30,
   "metadata": {},
   "outputs": [],
   "source": [
    "# для удобства просмотра данных меняем тип данных на целочисленный в столбцах \n",
    "columns = ['refundable_support', 'nonrefundable_support', 'budget']\n",
    "for column in columns: df[column] = df[column].astype('int') "
   ]
  },
  {
   "cell_type": "code",
   "execution_count": 31,
   "metadata": {
    "id": "8MJD_lkngFyP"
   },
   "outputs": [
    {
     "name": "stdout",
     "output_type": "stream",
     "text": [
      "<class 'pandas.core.frame.DataFrame'>\n",
      "Int64Index: 7459 entries, 0 to 7485\n",
      "Data columns (total 17 columns):\n",
      " #   Column                 Non-Null Count  Dtype              \n",
      "---  ------                 --------------  -----              \n",
      " 0   title                  7459 non-null   object             \n",
      " 1   pu_number              7459 non-null   int32              \n",
      " 2   show_start_date        7459 non-null   datetime64[ns, UTC]\n",
      " 3   type                   7459 non-null   object             \n",
      " 4   film_studio            7459 non-null   object             \n",
      " 5   production_country     7459 non-null   object             \n",
      " 6   director               7459 non-null   object             \n",
      " 7   producer               7459 non-null   object             \n",
      " 8   age_restriction        7459 non-null   object             \n",
      " 9   refundable_support     7459 non-null   int32              \n",
      " 10  nonrefundable_support  7459 non-null   int32              \n",
      " 11  budget                 7459 non-null   int32              \n",
      " 12  financing_source       7459 non-null   object             \n",
      " 13  ratings                7459 non-null   float64            \n",
      " 14  genres                 7459 non-null   object             \n",
      " 15  box_office             3155 non-null   float64            \n",
      " 16  age_group              7459 non-null   int64              \n",
      "dtypes: datetime64[ns, UTC](1), float64(2), int32(4), int64(1), object(9)\n",
      "memory usage: 932.4+ KB\n"
     ]
    }
   ],
   "source": [
    "#проверим изменился ли тип данных на нужный\n",
    "df.info()"
   ]
  },
  {
   "cell_type": "code",
   "execution_count": 32,
   "metadata": {},
   "outputs": [],
   "source": [
    "# переведем столбцы refundable_support, nonrefundable_support, budget, box_office из рублей в тыс.руб.\n",
    "columns_1 = ['refundable_support', 'nonrefundable_support', 'budget', 'box_office'] \n",
    "for column in columns_1:\n",
    "    df[column] = (df[column]/1000)"
   ]
  },
  {
   "cell_type": "code",
   "execution_count": 33,
   "metadata": {},
   "outputs": [
    {
     "data": {
      "text/html": [
       "<div>\n",
       "<style scoped>\n",
       "    .dataframe tbody tr th:only-of-type {\n",
       "        vertical-align: middle;\n",
       "    }\n",
       "\n",
       "    .dataframe tbody tr th {\n",
       "        vertical-align: top;\n",
       "    }\n",
       "\n",
       "    .dataframe thead th {\n",
       "        text-align: right;\n",
       "    }\n",
       "</style>\n",
       "<table border=\"1\" class=\"dataframe\">\n",
       "  <thead>\n",
       "    <tr style=\"text-align: right;\">\n",
       "      <th></th>\n",
       "      <th>title</th>\n",
       "      <th>pu_number</th>\n",
       "      <th>show_start_date</th>\n",
       "      <th>type</th>\n",
       "      <th>film_studio</th>\n",
       "      <th>production_country</th>\n",
       "      <th>director</th>\n",
       "      <th>producer</th>\n",
       "      <th>age_restriction</th>\n",
       "      <th>refundable_support</th>\n",
       "      <th>nonrefundable_support</th>\n",
       "      <th>budget</th>\n",
       "      <th>financing_source</th>\n",
       "      <th>ratings</th>\n",
       "      <th>genres</th>\n",
       "      <th>box_office</th>\n",
       "      <th>age_group</th>\n",
       "    </tr>\n",
       "  </thead>\n",
       "  <tbody>\n",
       "    <tr>\n",
       "      <th>5685</th>\n",
       "      <td>Три билборда на границе Эббинга, Миссури</td>\n",
       "      <td>121029417</td>\n",
       "      <td>2018-02-01 12:00:00+00:00</td>\n",
       "      <td>Художественный</td>\n",
       "      <td>Блюпринт Пикчерз, Фокс Сёрчлайт</td>\n",
       "      <td>Великобритания - США</td>\n",
       "      <td>Мартин МакДона</td>\n",
       "      <td>Грэм Бродбент, Мартин МакДона, Питер Чернин</td>\n",
       "      <td>«18+» - запрещено для детей</td>\n",
       "      <td>0.0</td>\n",
       "      <td>0.0</td>\n",
       "      <td>0.000</td>\n",
       "      <td>unknown</td>\n",
       "      <td>8.2</td>\n",
       "      <td>драма,криминал</td>\n",
       "      <td>187196.92735</td>\n",
       "      <td>18</td>\n",
       "    </tr>\n",
       "    <tr>\n",
       "      <th>2180</th>\n",
       "      <td>Волки / Wolves</td>\n",
       "      <td>221034514</td>\n",
       "      <td>2014-09-09 12:00:00+00:00</td>\n",
       "      <td>Художественный</td>\n",
       "      <td>Копперхед Интертейнмент</td>\n",
       "      <td>Франция - США</td>\n",
       "      <td>Дэвид Хэйтер</td>\n",
       "      <td>Бенедикт Карвер, Сара Фрюдман, Стивен Хобан</td>\n",
       "      <td>«16+» - для детей старше 16 лет</td>\n",
       "      <td>0.0</td>\n",
       "      <td>0.0</td>\n",
       "      <td>0.000</td>\n",
       "      <td>unknown</td>\n",
       "      <td>4.6</td>\n",
       "      <td>фэнтези,боевик,ужасы</td>\n",
       "      <td>NaN</td>\n",
       "      <td>16</td>\n",
       "    </tr>\n",
       "    <tr>\n",
       "      <th>1143</th>\n",
       "      <td>Обитель зла: Возмездие</td>\n",
       "      <td>121019712</td>\n",
       "      <td>2012-09-05 12:00:00+00:00</td>\n",
       "      <td>Художественный</td>\n",
       "      <td>Дэвис Филмз, Импакт Пикчерз (Эр И 5), Констант...</td>\n",
       "      <td>США</td>\n",
       "      <td>Пол У.С.Андерсон</td>\n",
       "      <td>Пол У.С.Андерсон, Джереми Болт, Дон Кармоди</td>\n",
       "      <td>«18+» - запрещено для детей</td>\n",
       "      <td>0.0</td>\n",
       "      <td>0.0</td>\n",
       "      <td>0.000</td>\n",
       "      <td>unknown</td>\n",
       "      <td>5.3</td>\n",
       "      <td>ужасы,боевик,фантастика</td>\n",
       "      <td>NaN</td>\n",
       "      <td>18</td>\n",
       "    </tr>\n",
       "    <tr>\n",
       "      <th>6677</th>\n",
       "      <td>Город грехов</td>\n",
       "      <td>121000219</td>\n",
       "      <td>2019-03-02 12:00:00+00:00</td>\n",
       "      <td>Художественный</td>\n",
       "      <td>Дименшн Филмз, Трублемейкер Студиос</td>\n",
       "      <td>США</td>\n",
       "      <td>Фрэнк Миллер, Роберт Родригес, Квентин Тарантино</td>\n",
       "      <td>Элизабет Авеллан, Боб Вайнштейн, Харви Вайнште...</td>\n",
       "      <td>«18+» - запрещено для детей</td>\n",
       "      <td>0.0</td>\n",
       "      <td>0.0</td>\n",
       "      <td>0.000</td>\n",
       "      <td>unknown</td>\n",
       "      <td>7.9</td>\n",
       "      <td>боевик,триллер,криминал</td>\n",
       "      <td>NaN</td>\n",
       "      <td>18</td>\n",
       "    </tr>\n",
       "    <tr>\n",
       "      <th>3462</th>\n",
       "      <td>Защитники</td>\n",
       "      <td>111000717</td>\n",
       "      <td>2017-01-24 12:00:00+00:00</td>\n",
       "      <td>Художественный</td>\n",
       "      <td>ООО \"Энджой мувиз\", ООО \"РЕНОВАЦИО интертейнмент\"</td>\n",
       "      <td>Россия</td>\n",
       "      <td>С.Андреасян</td>\n",
       "      <td>С.Андреасян, Г.Андреасян, В.Поляков, А.Рязанцев</td>\n",
       "      <td>«12+» - для детей старше 12 лет</td>\n",
       "      <td>50000.0</td>\n",
       "      <td>150000.0</td>\n",
       "      <td>323232.109</td>\n",
       "      <td>Фонд кино</td>\n",
       "      <td>3.0</td>\n",
       "      <td>фантастика,фэнтези,боевик</td>\n",
       "      <td>262040.25400</td>\n",
       "      <td>12</td>\n",
       "    </tr>\n",
       "  </tbody>\n",
       "</table>\n",
       "</div>"
      ],
      "text/plain": [
       "                                         title  pu_number  \\\n",
       "5685  Три билборда на границе Эббинга, Миссури  121029417   \n",
       "2180                            Волки / Wolves  221034514   \n",
       "1143                    Обитель зла: Возмездие  121019712   \n",
       "6677                              Город грехов  121000219   \n",
       "3462                                 Защитники  111000717   \n",
       "\n",
       "               show_start_date             type  \\\n",
       "5685 2018-02-01 12:00:00+00:00   Художественный   \n",
       "2180 2014-09-09 12:00:00+00:00   Художественный   \n",
       "1143 2012-09-05 12:00:00+00:00   Художественный   \n",
       "6677 2019-03-02 12:00:00+00:00   Художественный   \n",
       "3462 2017-01-24 12:00:00+00:00   Художественный   \n",
       "\n",
       "                                            film_studio    production_country  \\\n",
       "5685                    Блюпринт Пикчерз, Фокс Сёрчлайт  Великобритания - США   \n",
       "2180                            Копперхед Интертейнмент         Франция - США   \n",
       "1143  Дэвис Филмз, Импакт Пикчерз (Эр И 5), Констант...                   США   \n",
       "6677                Дименшн Филмз, Трублемейкер Студиос                   США   \n",
       "3462  ООО \"Энджой мувиз\", ООО \"РЕНОВАЦИО интертейнмент\"                Россия   \n",
       "\n",
       "                                              director  \\\n",
       "5685                                    Мартин МакДона   \n",
       "2180                                      Дэвид Хэйтер   \n",
       "1143                                  Пол У.С.Андерсон   \n",
       "6677  Фрэнк Миллер, Роберт Родригес, Квентин Тарантино   \n",
       "3462                                       С.Андреасян   \n",
       "\n",
       "                                               producer  \\\n",
       "5685        Грэм Бродбент, Мартин МакДона, Питер Чернин   \n",
       "2180        Бенедикт Карвер, Сара Фрюдман, Стивен Хобан   \n",
       "1143        Пол У.С.Андерсон, Джереми Болт, Дон Кармоди   \n",
       "6677  Элизабет Авеллан, Боб Вайнштейн, Харви Вайнште...   \n",
       "3462    С.Андреасян, Г.Андреасян, В.Поляков, А.Рязанцев   \n",
       "\n",
       "                      age_restriction  refundable_support  \\\n",
       "5685      «18+» - запрещено для детей                 0.0   \n",
       "2180  «16+» - для детей старше 16 лет                 0.0   \n",
       "1143      «18+» - запрещено для детей                 0.0   \n",
       "6677      «18+» - запрещено для детей                 0.0   \n",
       "3462  «12+» - для детей старше 12 лет             50000.0   \n",
       "\n",
       "      nonrefundable_support      budget financing_source  ratings  \\\n",
       "5685                    0.0       0.000          unknown      8.2   \n",
       "2180                    0.0       0.000          unknown      4.6   \n",
       "1143                    0.0       0.000          unknown      5.3   \n",
       "6677                    0.0       0.000          unknown      7.9   \n",
       "3462               150000.0  323232.109        Фонд кино      3.0   \n",
       "\n",
       "                         genres    box_office  age_group  \n",
       "5685             драма,криминал  187196.92735         18  \n",
       "2180       фэнтези,боевик,ужасы           NaN         16  \n",
       "1143    ужасы,боевик,фантастика           NaN         18  \n",
       "6677    боевик,триллер,криминал           NaN         18  \n",
       "3462  фантастика,фэнтези,боевик  262040.25400         12  "
      ]
     },
     "execution_count": 33,
     "metadata": {},
     "output_type": "execute_result"
    }
   ],
   "source": [
    "df.sample(5, random_state=42)"
   ]
  },
  {
   "cell_type": "markdown",
   "metadata": {
    "id": "4c6k1t9ygFyQ"
   },
   "source": [
    "####  Обработка дубликатов в датафрейме\n",
    "- Проверьте, есть ли в данных дубликаты. Опишите причины, которые могли повлиять на появление дублей."
   ]
  },
  {
   "cell_type": "code",
   "execution_count": 34,
   "metadata": {
    "id": "aKck8RIdgFyQ"
   },
   "outputs": [
    {
     "data": {
      "text/plain": [
       "0"
      ]
     },
     "execution_count": 34,
     "metadata": {},
     "output_type": "execute_result"
    }
   ],
   "source": [
    "#посмотрим с помощью метода duplicated(), есть ли явные дубликаты в таблице с данными\n",
    "df.duplicated().sum()"
   ]
  },
  {
   "cell_type": "code",
   "execution_count": 35,
   "metadata": {},
   "outputs": [
    {
     "data": {
      "text/plain": [
       "День святого Валентина_                  5\n",
       "Химера                                   4\n",
       "Кошки против собак: Месть Китти Галор    4\n",
       "Там, где живут чудовища                  4\n",
       "Робин Гуд (Robin Hood)                   4\n",
       "                                        ..\n",
       "Уиджи. Проклятие доски дьявола           1\n",
       "Лариса                                   1\n",
       "Сахар                                    1\n",
       "МУЛЬТ в кино. Выпуск № 71                1\n",
       "Неуловимый Люк                           1\n",
       "Name: title, Length: 6746, dtype: int64"
      ]
     },
     "execution_count": 35,
     "metadata": {},
     "output_type": "execute_result"
    }
   ],
   "source": [
    "#выведем все уникальные значения столбца 'title'\n",
    "df['title'].value_counts()"
   ]
  },
  {
   "cell_type": "code",
   "execution_count": 36,
   "metadata": {},
   "outputs": [
    {
     "data": {
      "text/html": [
       "<div>\n",
       "<style scoped>\n",
       "    .dataframe tbody tr th:only-of-type {\n",
       "        vertical-align: middle;\n",
       "    }\n",
       "\n",
       "    .dataframe tbody tr th {\n",
       "        vertical-align: top;\n",
       "    }\n",
       "\n",
       "    .dataframe thead th {\n",
       "        text-align: right;\n",
       "    }\n",
       "</style>\n",
       "<table border=\"1\" class=\"dataframe\">\n",
       "  <thead>\n",
       "    <tr style=\"text-align: right;\">\n",
       "      <th></th>\n",
       "      <th>title</th>\n",
       "      <th>pu_number</th>\n",
       "      <th>show_start_date</th>\n",
       "      <th>type</th>\n",
       "      <th>film_studio</th>\n",
       "      <th>production_country</th>\n",
       "      <th>director</th>\n",
       "      <th>producer</th>\n",
       "      <th>age_restriction</th>\n",
       "      <th>refundable_support</th>\n",
       "      <th>nonrefundable_support</th>\n",
       "      <th>budget</th>\n",
       "      <th>financing_source</th>\n",
       "      <th>ratings</th>\n",
       "      <th>genres</th>\n",
       "      <th>box_office</th>\n",
       "      <th>age_group</th>\n",
       "    </tr>\n",
       "  </thead>\n",
       "  <tbody>\n",
       "    <tr>\n",
       "      <th>3902</th>\n",
       "      <td>День святого Валентина_</td>\n",
       "      <td>221083810</td>\n",
       "      <td>2010-07-15 12:00:00+00:00</td>\n",
       "      <td>Художественный</td>\n",
       "      <td>Уорнер Бразерс, Нью Лайн Синема, Уэйн Райс, Ка...</td>\n",
       "      <td>США</td>\n",
       "      <td>Гарри Маршалл</td>\n",
       "      <td>Сэмюэл Дж.Браун</td>\n",
       "      <td>«16+» - для детей старше 16 лет</td>\n",
       "      <td>0.0</td>\n",
       "      <td>0.0</td>\n",
       "      <td>0.0</td>\n",
       "      <td>unknown</td>\n",
       "      <td>6.7</td>\n",
       "      <td>мелодрама,комедия</td>\n",
       "      <td>NaN</td>\n",
       "      <td>16</td>\n",
       "    </tr>\n",
       "    <tr>\n",
       "      <th>3991</th>\n",
       "      <td>День святого Валентина_</td>\n",
       "      <td>221068010</td>\n",
       "      <td>2010-05-14 12:00:00+00:00</td>\n",
       "      <td>Художественный</td>\n",
       "      <td>Уорнер Бразерс, Нью Лайн Синема, Уэйн Райс, Ка...</td>\n",
       "      <td>США</td>\n",
       "      <td>Гарри Маршалл</td>\n",
       "      <td>Сэмюэл Дж.Браун</td>\n",
       "      <td>«16+» - для детей старше 16 лет</td>\n",
       "      <td>0.0</td>\n",
       "      <td>0.0</td>\n",
       "      <td>0.0</td>\n",
       "      <td>unknown</td>\n",
       "      <td>6.7</td>\n",
       "      <td>мелодрама,комедия</td>\n",
       "      <td>NaN</td>\n",
       "      <td>16</td>\n",
       "    </tr>\n",
       "    <tr>\n",
       "      <th>4070</th>\n",
       "      <td>День святого Валентина_</td>\n",
       "      <td>121002210</td>\n",
       "      <td>2010-02-03 12:00:00+00:00</td>\n",
       "      <td>Художественный</td>\n",
       "      <td>Уорнер Бразерс, Нью Лайн Синема, Уэйн Райс, Ка...</td>\n",
       "      <td>США</td>\n",
       "      <td>Гарри Маршалл</td>\n",
       "      <td>Сэмюэл Дж.Браун</td>\n",
       "      <td>«16+» - для детей старше 16 лет</td>\n",
       "      <td>0.0</td>\n",
       "      <td>0.0</td>\n",
       "      <td>0.0</td>\n",
       "      <td>unknown</td>\n",
       "      <td>6.7</td>\n",
       "      <td>мелодрама,комедия</td>\n",
       "      <td>NaN</td>\n",
       "      <td>16</td>\n",
       "    </tr>\n",
       "    <tr>\n",
       "      <th>4196</th>\n",
       "      <td>День святого Валентина_</td>\n",
       "      <td>221136210</td>\n",
       "      <td>2010-11-30 12:00:00+00:00</td>\n",
       "      <td>Художественный</td>\n",
       "      <td>Уорнер Бразерс, Нью Лайн Синема, Уэйн Райс, Ка...</td>\n",
       "      <td>США</td>\n",
       "      <td>Гарри Маршалл</td>\n",
       "      <td>Сэмюэл Дж.Браун</td>\n",
       "      <td>«16+» - для детей старше 16 лет</td>\n",
       "      <td>0.0</td>\n",
       "      <td>0.0</td>\n",
       "      <td>0.0</td>\n",
       "      <td>unknown</td>\n",
       "      <td>6.7</td>\n",
       "      <td>мелодрама,комедия</td>\n",
       "      <td>NaN</td>\n",
       "      <td>16</td>\n",
       "    </tr>\n",
       "    <tr>\n",
       "      <th>5070</th>\n",
       "      <td>День святого Валентина_</td>\n",
       "      <td>221066410</td>\n",
       "      <td>2010-06-01 12:00:00+00:00</td>\n",
       "      <td>Художественный</td>\n",
       "      <td>Уорнер Бразерс, Нью Лайн Синема, Уэйн Райс, Ка...</td>\n",
       "      <td>США</td>\n",
       "      <td>Гарри Маршалл</td>\n",
       "      <td>Сэмюэл Дж.Браун</td>\n",
       "      <td>«16+» - для детей старше 16 лет</td>\n",
       "      <td>0.0</td>\n",
       "      <td>0.0</td>\n",
       "      <td>0.0</td>\n",
       "      <td>unknown</td>\n",
       "      <td>6.7</td>\n",
       "      <td>мелодрама,комедия</td>\n",
       "      <td>NaN</td>\n",
       "      <td>16</td>\n",
       "    </tr>\n",
       "  </tbody>\n",
       "</table>\n",
       "</div>"
      ],
      "text/plain": [
       "                        title  pu_number           show_start_date  \\\n",
       "3902  День святого Валентина_  221083810 2010-07-15 12:00:00+00:00   \n",
       "3991  День святого Валентина_  221068010 2010-05-14 12:00:00+00:00   \n",
       "4070  День святого Валентина_  121002210 2010-02-03 12:00:00+00:00   \n",
       "4196  День святого Валентина_  221136210 2010-11-30 12:00:00+00:00   \n",
       "5070  День святого Валентина_  221066410 2010-06-01 12:00:00+00:00   \n",
       "\n",
       "                type                                        film_studio  \\\n",
       "3902  Художественный  Уорнер Бразерс, Нью Лайн Синема, Уэйн Райс, Ка...   \n",
       "3991  Художественный  Уорнер Бразерс, Нью Лайн Синема, Уэйн Райс, Ка...   \n",
       "4070  Художественный  Уорнер Бразерс, Нью Лайн Синема, Уэйн Райс, Ка...   \n",
       "4196  Художественный  Уорнер Бразерс, Нью Лайн Синема, Уэйн Райс, Ка...   \n",
       "5070  Художественный  Уорнер Бразерс, Нью Лайн Синема, Уэйн Райс, Ка...   \n",
       "\n",
       "     production_country       director         producer  \\\n",
       "3902                США  Гарри Маршалл  Сэмюэл Дж.Браун   \n",
       "3991                США  Гарри Маршалл  Сэмюэл Дж.Браун   \n",
       "4070                США  Гарри Маршалл  Сэмюэл Дж.Браун   \n",
       "4196                США  Гарри Маршалл  Сэмюэл Дж.Браун   \n",
       "5070                США  Гарри Маршалл  Сэмюэл Дж.Браун   \n",
       "\n",
       "                      age_restriction  refundable_support  \\\n",
       "3902  «16+» - для детей старше 16 лет                 0.0   \n",
       "3991  «16+» - для детей старше 16 лет                 0.0   \n",
       "4070  «16+» - для детей старше 16 лет                 0.0   \n",
       "4196  «16+» - для детей старше 16 лет                 0.0   \n",
       "5070  «16+» - для детей старше 16 лет                 0.0   \n",
       "\n",
       "      nonrefundable_support  budget financing_source  ratings  \\\n",
       "3902                    0.0     0.0          unknown      6.7   \n",
       "3991                    0.0     0.0          unknown      6.7   \n",
       "4070                    0.0     0.0          unknown      6.7   \n",
       "4196                    0.0     0.0          unknown      6.7   \n",
       "5070                    0.0     0.0          unknown      6.7   \n",
       "\n",
       "                 genres  box_office  age_group  \n",
       "3902  мелодрама,комедия         NaN         16  \n",
       "3991  мелодрама,комедия         NaN         16  \n",
       "4070  мелодрама,комедия         NaN         16  \n",
       "4196  мелодрама,комедия         NaN         16  \n",
       "5070  мелодрама,комедия         NaN         16  "
      ]
     },
     "execution_count": 36,
     "metadata": {},
     "output_type": "execute_result"
    }
   ],
   "source": [
    "#посмотрим на фильм \"День святого Валентина_\" встречающийся 5 раз.\n",
    "df.query('title==\"День святого Валентина_\"')"
   ]
  },
  {
   "cell_type": "code",
   "execution_count": 37,
   "metadata": {},
   "outputs": [
    {
     "data": {
      "text/plain": [
       "221054410    2\n",
       "221154310    2\n",
       "114001919    1\n",
       "221025616    1\n",
       "221136210    1\n",
       "            ..\n",
       "112025418    1\n",
       "111008518    1\n",
       "121000711    1\n",
       "111012616    1\n",
       "0            1\n",
       "Name: pu_number, Length: 7457, dtype: int64"
      ]
     },
     "execution_count": 37,
     "metadata": {},
     "output_type": "execute_result"
    }
   ],
   "source": [
    "#выведем все уникальные значения столбца 'pu_number'\n",
    "df['pu_number'].value_counts()"
   ]
  },
  {
   "cell_type": "code",
   "execution_count": 38,
   "metadata": {},
   "outputs": [
    {
     "data": {
      "text/html": [
       "<div>\n",
       "<style scoped>\n",
       "    .dataframe tbody tr th:only-of-type {\n",
       "        vertical-align: middle;\n",
       "    }\n",
       "\n",
       "    .dataframe tbody tr th {\n",
       "        vertical-align: top;\n",
       "    }\n",
       "\n",
       "    .dataframe thead th {\n",
       "        text-align: right;\n",
       "    }\n",
       "</style>\n",
       "<table border=\"1\" class=\"dataframe\">\n",
       "  <thead>\n",
       "    <tr style=\"text-align: right;\">\n",
       "      <th></th>\n",
       "      <th>title</th>\n",
       "      <th>pu_number</th>\n",
       "      <th>show_start_date</th>\n",
       "      <th>type</th>\n",
       "      <th>film_studio</th>\n",
       "      <th>production_country</th>\n",
       "      <th>director</th>\n",
       "      <th>producer</th>\n",
       "      <th>age_restriction</th>\n",
       "      <th>refundable_support</th>\n",
       "      <th>nonrefundable_support</th>\n",
       "      <th>budget</th>\n",
       "      <th>financing_source</th>\n",
       "      <th>ratings</th>\n",
       "      <th>genres</th>\n",
       "      <th>box_office</th>\n",
       "      <th>age_group</th>\n",
       "    </tr>\n",
       "  </thead>\n",
       "  <tbody>\n",
       "    <tr>\n",
       "      <th>5067</th>\n",
       "      <td>Анализируй это!</td>\n",
       "      <td>221054410</td>\n",
       "      <td>2010-05-25 12:00:00+00:00</td>\n",
       "      <td>Художественный</td>\n",
       "      <td>Уорнер Бразерс, Вилладж Роудшоу Филмз ЛТД</td>\n",
       "      <td>США-Австралия</td>\n",
       "      <td>ХЭрольд Рэмис</td>\n",
       "      <td>Джейн Розенталь, Пола Уейнстейн</td>\n",
       "      <td>«16+» - для детей старше 16 лет</td>\n",
       "      <td>0.0</td>\n",
       "      <td>0.0</td>\n",
       "      <td>0.0</td>\n",
       "      <td>unknown</td>\n",
       "      <td>7.4</td>\n",
       "      <td>комедия,криминал</td>\n",
       "      <td>NaN</td>\n",
       "      <td>16</td>\n",
       "    </tr>\n",
       "    <tr>\n",
       "      <th>5068</th>\n",
       "      <td>Анализируй то!</td>\n",
       "      <td>221054410</td>\n",
       "      <td>2010-05-25 12:00:00+00:00</td>\n",
       "      <td>Художественный</td>\n",
       "      <td>Уорнер Бразерс, Виллидж Роадшоу Пикчерз, Эн-Пи...</td>\n",
       "      <td>США</td>\n",
       "      <td>Гарольд Реймис</td>\n",
       "      <td>Джейн Розенталь, Паул Уэйнстейн</td>\n",
       "      <td>«12+» - для детей старше 12 лет</td>\n",
       "      <td>0.0</td>\n",
       "      <td>0.0</td>\n",
       "      <td>0.0</td>\n",
       "      <td>unknown</td>\n",
       "      <td>6.8</td>\n",
       "      <td>комедия,криминал</td>\n",
       "      <td>NaN</td>\n",
       "      <td>12</td>\n",
       "    </tr>\n",
       "  </tbody>\n",
       "</table>\n",
       "</div>"
      ],
      "text/plain": [
       "                title  pu_number           show_start_date            type  \\\n",
       "5067  Анализируй это!  221054410 2010-05-25 12:00:00+00:00  Художественный   \n",
       "5068   Анализируй то!  221054410 2010-05-25 12:00:00+00:00  Художественный   \n",
       "\n",
       "                                            film_studio production_country  \\\n",
       "5067          Уорнер Бразерс, Вилладж Роудшоу Филмз ЛТД      США-Австралия   \n",
       "5068  Уорнер Бразерс, Виллидж Роадшоу Пикчерз, Эн-Пи...                США   \n",
       "\n",
       "            director                         producer  \\\n",
       "5067   ХЭрольд Рэмис  Джейн Розенталь, Пола Уейнстейн   \n",
       "5068  Гарольд Реймис  Джейн Розенталь, Паул Уэйнстейн   \n",
       "\n",
       "                      age_restriction  refundable_support  \\\n",
       "5067  «16+» - для детей старше 16 лет                 0.0   \n",
       "5068  «12+» - для детей старше 12 лет                 0.0   \n",
       "\n",
       "      nonrefundable_support  budget financing_source  ratings  \\\n",
       "5067                    0.0     0.0          unknown      7.4   \n",
       "5068                    0.0     0.0          unknown      6.8   \n",
       "\n",
       "                genres  box_office  age_group  \n",
       "5067  комедия,криминал         NaN         16  \n",
       "5068  комедия,криминал         NaN         12  "
      ]
     },
     "execution_count": 38,
     "metadata": {},
     "output_type": "execute_result"
    }
   ],
   "source": [
    "#посмотрим на фильм с повторяющимся номером прокатного удостоверения\n",
    "df.query('pu_number == 221054410')\n"
   ]
  },
  {
   "cell_type": "code",
   "execution_count": 39,
   "metadata": {},
   "outputs": [
    {
     "data": {
      "text/html": [
       "<div>\n",
       "<style scoped>\n",
       "    .dataframe tbody tr th:only-of-type {\n",
       "        vertical-align: middle;\n",
       "    }\n",
       "\n",
       "    .dataframe tbody tr th {\n",
       "        vertical-align: top;\n",
       "    }\n",
       "\n",
       "    .dataframe thead th {\n",
       "        text-align: right;\n",
       "    }\n",
       "</style>\n",
       "<table border=\"1\" class=\"dataframe\">\n",
       "  <thead>\n",
       "    <tr style=\"text-align: right;\">\n",
       "      <th></th>\n",
       "      <th>title</th>\n",
       "      <th>pu_number</th>\n",
       "      <th>show_start_date</th>\n",
       "      <th>type</th>\n",
       "      <th>film_studio</th>\n",
       "      <th>production_country</th>\n",
       "      <th>director</th>\n",
       "      <th>producer</th>\n",
       "      <th>age_restriction</th>\n",
       "      <th>refundable_support</th>\n",
       "      <th>nonrefundable_support</th>\n",
       "      <th>budget</th>\n",
       "      <th>financing_source</th>\n",
       "      <th>ratings</th>\n",
       "      <th>genres</th>\n",
       "      <th>box_office</th>\n",
       "      <th>age_group</th>\n",
       "    </tr>\n",
       "  </thead>\n",
       "  <tbody>\n",
       "    <tr>\n",
       "      <th>4638</th>\n",
       "      <td>Как жениться и остаться холостым</td>\n",
       "      <td>221154310</td>\n",
       "      <td>2010-12-17 12:00:00+00:00</td>\n",
       "      <td>Художественный</td>\n",
       "      <td>Ше Вам, Скрипт Ассосье, Тэ Фэ 1 Фильм Продюксь...</td>\n",
       "      <td>Франция</td>\n",
       "      <td>Эрик Лартиго</td>\n",
       "      <td>Амандин Било, Алан Шаба</td>\n",
       "      <td>«16+» - для детей старше 16 лет</td>\n",
       "      <td>0.0</td>\n",
       "      <td>0.0</td>\n",
       "      <td>0.0</td>\n",
       "      <td>unknown</td>\n",
       "      <td>7.0</td>\n",
       "      <td>мелодрама,комедия</td>\n",
       "      <td>NaN</td>\n",
       "      <td>16</td>\n",
       "    </tr>\n",
       "    <tr>\n",
       "      <th>4639</th>\n",
       "      <td>Иоанна - женщина на папском престоле /По роман...</td>\n",
       "      <td>221154310</td>\n",
       "      <td>2010-12-17 12:00:00+00:00</td>\n",
       "      <td>Художественный</td>\n",
       "      <td>Константин Фильм, А Эр Ди Дегето Фильм, Дюне ...</td>\n",
       "      <td>Германия - Великобритания - Италия - Испания</td>\n",
       "      <td>Зенке Вортманн</td>\n",
       "      <td>Оливер Бербен, Дорис Д.Хайнце, Фарук Элтан</td>\n",
       "      <td>«16+» - для детей старше 16 лет</td>\n",
       "      <td>0.0</td>\n",
       "      <td>0.0</td>\n",
       "      <td>0.0</td>\n",
       "      <td>unknown</td>\n",
       "      <td>7.6</td>\n",
       "      <td>драма,мелодрама,история</td>\n",
       "      <td>NaN</td>\n",
       "      <td>16</td>\n",
       "    </tr>\n",
       "  </tbody>\n",
       "</table>\n",
       "</div>"
      ],
      "text/plain": [
       "                                                  title  pu_number  \\\n",
       "4638                   Как жениться и остаться холостым  221154310   \n",
       "4639  Иоанна - женщина на папском престоле /По роман...  221154310   \n",
       "\n",
       "               show_start_date            type  \\\n",
       "4638 2010-12-17 12:00:00+00:00  Художественный   \n",
       "4639 2010-12-17 12:00:00+00:00  Художественный   \n",
       "\n",
       "                                            film_studio  \\\n",
       "4638  Ше Вам, Скрипт Ассосье, Тэ Фэ 1 Фильм Продюксь...   \n",
       "4639   Константин Фильм, А Эр Ди Дегето Фильм, Дюне ...   \n",
       "\n",
       "                                production_country        director  \\\n",
       "4638                                       Франция    Эрик Лартиго   \n",
       "4639  Германия - Великобритания - Италия - Испания  Зенке Вортманн   \n",
       "\n",
       "                                        producer  \\\n",
       "4638                     Амандин Било, Алан Шаба   \n",
       "4639  Оливер Бербен, Дорис Д.Хайнце, Фарук Элтан   \n",
       "\n",
       "                      age_restriction  refundable_support  \\\n",
       "4638  «16+» - для детей старше 16 лет                 0.0   \n",
       "4639  «16+» - для детей старше 16 лет                 0.0   \n",
       "\n",
       "      nonrefundable_support  budget financing_source  ratings  \\\n",
       "4638                    0.0     0.0          unknown      7.0   \n",
       "4639                    0.0     0.0          unknown      7.6   \n",
       "\n",
       "                       genres  box_office  age_group  \n",
       "4638        мелодрама,комедия         NaN         16  \n",
       "4639  драма,мелодрама,история         NaN         16  "
      ]
     },
     "execution_count": 39,
     "metadata": {},
     "output_type": "execute_result"
    }
   ],
   "source": [
    "#посмотрим на фильм с повторяющимся номером прокатного удостоверения\n",
    "df.query('pu_number == 221154310')\n"
   ]
  },
  {
   "cell_type": "markdown",
   "metadata": {},
   "source": [
    "##### Вывод\n",
    "\n",
    "* Явных дубликатов нет.\n",
    "\n",
    "* Есть повторяющиеся названия фильмов, но рассмотрев повнимательней, можно предположить, что это не дубликаты, так как они имеют разные номера прокатного удостоверения и даты премьеры фильма.\n",
    "\n",
    "* Фильм \"Анализируй это!\" и \"Анализируй то!\" это неявный дубликат, совпадает все кроме названия, директора и рейтинга. Зайдя на кинопоиск, обнаружила действительно эти два фильма. Вероятно, что была допущена ошибка, либо техническая, либо сыграл человеческий фактор и произошла выгрузка двух одинаковых фильмов, но с разными написаниями. \"Анализируй это!\" поставили оценки 41 тыс.чел, а \"\"Анализируй то!\" - 21тыс.чел. Избавимся от дубликата, удалим тот, что просмотрела меньше народу, а значит и рейтинг менее точный.\n",
    "\n",
    "* Если рассмотреть фильмы \"Как жениться и остаться холостым\" и \"Иоанна - женщина на папском престоле\", то можно точно убедиться, что это соверщшенно два разных фильма. Произошла точно какая-то ошибка, поэтому они получили один номер прокатного удостоверения. "
   ]
  },
  {
   "cell_type": "code",
   "execution_count": 40,
   "metadata": {},
   "outputs": [],
   "source": [
    "# удалим строку под индексом 5068 с неявным дубликатом\n",
    "df = df.drop(index=[5068])"
   ]
  },
  {
   "cell_type": "code",
   "execution_count": 41,
   "metadata": {},
   "outputs": [
    {
     "data": {
      "text/html": [
       "<div>\n",
       "<style scoped>\n",
       "    .dataframe tbody tr th:only-of-type {\n",
       "        vertical-align: middle;\n",
       "    }\n",
       "\n",
       "    .dataframe tbody tr th {\n",
       "        vertical-align: top;\n",
       "    }\n",
       "\n",
       "    .dataframe thead th {\n",
       "        text-align: right;\n",
       "    }\n",
       "</style>\n",
       "<table border=\"1\" class=\"dataframe\">\n",
       "  <thead>\n",
       "    <tr style=\"text-align: right;\">\n",
       "      <th></th>\n",
       "      <th>title</th>\n",
       "      <th>pu_number</th>\n",
       "      <th>show_start_date</th>\n",
       "      <th>type</th>\n",
       "      <th>film_studio</th>\n",
       "      <th>production_country</th>\n",
       "      <th>director</th>\n",
       "      <th>producer</th>\n",
       "      <th>age_restriction</th>\n",
       "      <th>refundable_support</th>\n",
       "      <th>nonrefundable_support</th>\n",
       "      <th>budget</th>\n",
       "      <th>financing_source</th>\n",
       "      <th>ratings</th>\n",
       "      <th>genres</th>\n",
       "      <th>box_office</th>\n",
       "      <th>age_group</th>\n",
       "    </tr>\n",
       "  </thead>\n",
       "  <tbody>\n",
       "    <tr>\n",
       "      <th>5067</th>\n",
       "      <td>Анализируй это!</td>\n",
       "      <td>221054410</td>\n",
       "      <td>2010-05-25 12:00:00+00:00</td>\n",
       "      <td>Художественный</td>\n",
       "      <td>Уорнер Бразерс, Вилладж Роудшоу Филмз ЛТД</td>\n",
       "      <td>США-Австралия</td>\n",
       "      <td>ХЭрольд Рэмис</td>\n",
       "      <td>Джейн Розенталь, Пола Уейнстейн</td>\n",
       "      <td>«16+» - для детей старше 16 лет</td>\n",
       "      <td>0.0</td>\n",
       "      <td>0.0</td>\n",
       "      <td>0.0</td>\n",
       "      <td>unknown</td>\n",
       "      <td>7.4</td>\n",
       "      <td>комедия,криминал</td>\n",
       "      <td>NaN</td>\n",
       "      <td>16</td>\n",
       "    </tr>\n",
       "  </tbody>\n",
       "</table>\n",
       "</div>"
      ],
      "text/plain": [
       "                title  pu_number           show_start_date            type  \\\n",
       "5067  Анализируй это!  221054410 2010-05-25 12:00:00+00:00  Художественный   \n",
       "\n",
       "                                    film_studio production_country  \\\n",
       "5067  Уорнер Бразерс, Вилладж Роудшоу Филмз ЛТД      США-Австралия   \n",
       "\n",
       "           director                         producer  \\\n",
       "5067  ХЭрольд Рэмис  Джейн Розенталь, Пола Уейнстейн   \n",
       "\n",
       "                      age_restriction  refundable_support  \\\n",
       "5067  «16+» - для детей старше 16 лет                 0.0   \n",
       "\n",
       "      nonrefundable_support  budget financing_source  ratings  \\\n",
       "5067                    0.0     0.0          unknown      7.4   \n",
       "\n",
       "                genres  box_office  age_group  \n",
       "5067  комедия,криминал         NaN         16  "
      ]
     },
     "execution_count": 41,
     "metadata": {},
     "output_type": "execute_result"
    }
   ],
   "source": [
    "# убедимся, что строка удалилась\n",
    "df.query('pu_number == 221054410')\n"
   ]
  },
  {
   "cell_type": "markdown",
   "metadata": {
    "id": "52fOPrEBgFyQ"
   },
   "source": [
    "####  Изучение категориальных значений\n",
    "\n",
    "- Посмотрите, какая общая проблема встречается почти во всех категориальных столбцах;\n",
    "- Исправьте проблемные значения в поле `type`.\n",
    "\n",
    "<div id=\"accordion\">\n",
    "    <div class=\"card\">\n",
    "        <div class=\"card-header\" id=\"headingThree\">\n",
    "            <button class=\"btn btn-link collapsed\" data-toggle=\"collapse\" data-target=\"#collapseHint_1\" aria-expanded=\"false\" aria-controls=\"collapseHint_1\">Подсказка</button>\n",
    "        </div>\n",
    "        <div id=\"collapseHint_1\" class=\"collapse\" aria-labelledby=\"headingThree\" data-parent=\"#accordion\">\n",
    "            <div class=\"card-body\">\n",
    "В поле <code>type</code> есть несколько значений, у которых появился пробел в начале строки. Самый простой способ их «починить» -- использовать метод <a href=\"https://pandas.pydata.org/docs/reference/api/pandas.Series.str.strip.html#pandas.Series.str.strip\">.str.strip</a>. Этот метод удаляет все пробелы, которые встречаются в начале и в конце строки. Применяют его таким образом:<br>\n",
    "<code>df['type'].str.strip()</code>\n",
    "            </div>\n",
    "        </div>\n",
    "    </div>\n",
    "</div>"
   ]
  },
  {
   "cell_type": "code",
   "execution_count": 42,
   "metadata": {},
   "outputs": [
    {
     "data": {
      "text/plain": [
       "Художественный                4513\n",
       " Художественный               1384\n",
       "Анимационный                   828\n",
       "Прочие                         401\n",
       "Документальный                 280\n",
       "Научно-популярный               50\n",
       "Музыкально-развлекательный       1\n",
       " Анимационный                    1\n",
       "Name: type, dtype: int64"
      ]
     },
     "execution_count": 42,
     "metadata": {},
     "output_type": "execute_result"
    }
   ],
   "source": [
    "# посмотрим все уникальные значения в столбце type\n",
    "df['type'].value_counts()"
   ]
  },
  {
   "cell_type": "code",
   "execution_count": 43,
   "metadata": {},
   "outputs": [],
   "source": [
    "# уберем пробелы перед значениями в столбце type и перезапишем столбец\n",
    "df['type'] = df['type'].str.strip()"
   ]
  },
  {
   "cell_type": "code",
   "execution_count": 44,
   "metadata": {},
   "outputs": [
    {
     "data": {
      "text/plain": [
       "Художественный                5897\n",
       "Анимационный                   829\n",
       "Прочие                         401\n",
       "Документальный                 280\n",
       "Научно-популярный               50\n",
       "Музыкально-развлекательный       1\n",
       "Name: type, dtype: int64"
      ]
     },
     "execution_count": 44,
     "metadata": {},
     "output_type": "execute_result"
    }
   ],
   "source": [
    "# проверим, убрались ли пробелы\n",
    "df['type'].value_counts()"
   ]
  },
  {
   "cell_type": "code",
   "execution_count": 45,
   "metadata": {},
   "outputs": [
    {
     "data": {
      "text/plain": [
       "Киностудия \"Мосфильм\"                                           341\n",
       "ООО \"Мульт в кино\"                                               57\n",
       "Анимаккорд Лтд                                                   23\n",
       "ООО \"Мульт в кино\"                                               18\n",
       "ФГУП \"ТПО \"Киностудия \"Союзмультфильм\"                           16\n",
       "ООО \"ТаББаК\"                                                     15\n",
       "ООО \"Студия анимационного кино \"Мельница\"                        14\n",
       "Опус Арте                                                        14\n",
       "Р А И Синема                                                     14\n",
       "Пиксар Анимейшн Студиос, Уолт Дисней Пикчерз                     13\n",
       "ООО \"Кинокомпания \"СТВ\"                                          13\n",
       "ЗАО \"Аэроплан\"                                                   12\n",
       "Уолт Дисней Пикчерз                                              11\n",
       "Уорнер Бразерс                                                   10\n",
       "ОАО \"ТПО \"Санкт-Петербургская студия документальных фильмов\"     10\n",
       "Name: film_studio, dtype: int64"
      ]
     },
     "execution_count": 45,
     "metadata": {},
     "output_type": "execute_result"
    }
   ],
   "source": [
    "# посмотрим все уникальные значения в столбце film_studio\n",
    "df['film_studio'].value_counts().head(15)"
   ]
  },
  {
   "cell_type": "code",
   "execution_count": 46,
   "metadata": {},
   "outputs": [
    {
     "data": {
      "text/plain": [
       "США                     2170\n",
       "Россия                  1802\n",
       "СССР                     347\n",
       "Франция                  301\n",
       "Великобритания           253\n",
       "Италия                   129\n",
       "Германия                 110\n",
       "США - Великобритания      88\n",
       "Япония                    77\n",
       "Испания                   74\n",
       "Франция - Бельгия         55\n",
       "Канада                    52\n",
       "Австралия                 50\n",
       "США - Канада              44\n",
       "Великобритания - США      40\n",
       "Name: production_country, dtype: int64"
      ]
     },
     "execution_count": 46,
     "metadata": {},
     "output_type": "execute_result"
    }
   ],
   "source": [
    "# посмотрим все уникальные значения в столбце production_country\n",
    "df['production_country'].value_counts().head(15)"
   ]
  },
  {
   "cell_type": "code",
   "execution_count": 47,
   "metadata": {},
   "outputs": [
    {
     "data": {
      "text/plain": [
       "О.Семёнова          47\n",
       "Стивен Содерберг    17\n",
       "Д.Червяцов          17\n",
       "Ридли Скотт         16\n",
       "Тиль Швайгер        14\n",
       "Клинт Иствуд        13\n",
       "Вуди Аллен          13\n",
       "Питер Джексон       13\n",
       "Кевин Смит          12\n",
       "О.Семёнова          12\n",
       "Стивен Спилберг     12\n",
       "Дэвид Финчер        12\n",
       "Люк Бессон          12\n",
       "П.Смирнов           11\n",
       "Кристофер Нолан     11\n",
       "Name: director, dtype: int64"
      ]
     },
     "execution_count": 47,
     "metadata": {},
     "output_type": "execute_result"
    }
   ],
   "source": [
    "# посмотрим все уникальные значения в столбце director\n",
    "df['director'].value_counts().head(15)"
   ]
  },
  {
   "cell_type": "code",
   "execution_count": 48,
   "metadata": {},
   "outputs": [
    {
     "data": {
      "text/plain": [
       "unknown                                          564\n",
       "П.Смирнов                                         67\n",
       "Олег Кузовков, Дмитрий Ловейко, Марина Ратина     28\n",
       "С.Сельянов                                        18\n",
       "Д.Ловейко, О.Кузовков                             17\n",
       "Кевин Фейги                                       11\n",
       "Тони Майерс                                       11\n",
       "А.Тельнов                                         11\n",
       "Джерри Брукхаймер                                 11\n",
       "Э.Пичугин                                          9\n",
       "Н.Мокрицкая                                        9\n",
       "ООО \"Продюсерский центр ЕРАЛАШ\"                    9\n",
       "С.Говорухин, Е.Маскина                             9\n",
       "С.Сельянов, А.Боярский                             9\n",
       "Б.Машковцев, С.Струсовский                         8\n",
       "Name: producer, dtype: int64"
      ]
     },
     "execution_count": 48,
     "metadata": {},
     "output_type": "execute_result"
    }
   ],
   "source": [
    "# посмотрим все уникальные значения в столбце producer\n",
    "df['producer'].value_counts().head(15)"
   ]
  },
  {
   "cell_type": "code",
   "execution_count": 49,
   "metadata": {},
   "outputs": [
    {
     "data": {
      "text/plain": [
       "«16+» - для детей старше 16 лет           2848\n",
       "«18+» - запрещено для детей               1601\n",
       "«12+» - для детей старше 12 лет           1583\n",
       "«0+» - для любой зрительской аудитории     803\n",
       "«6+» - для детей старше 6 лет              623\n",
       "Name: age_restriction, dtype: int64"
      ]
     },
     "execution_count": 49,
     "metadata": {},
     "output_type": "execute_result"
    }
   ],
   "source": [
    "# посмотрим все уникальные значения в столбце title\n",
    "df['age_restriction'].value_counts().head(15)"
   ]
  },
  {
   "cell_type": "code",
   "execution_count": 50,
   "metadata": {},
   "outputs": [
    {
     "data": {
      "text/plain": [
       "unknown                             7126\n",
       "Министерство культуры                164\n",
       "Фонд кино                            146\n",
       "Министерство культуры, Фонд кино      22\n",
       "Name: financing_source, dtype: int64"
      ]
     },
     "execution_count": 50,
     "metadata": {},
     "output_type": "execute_result"
    }
   ],
   "source": [
    "# посмотрим все уникальные значения в столбце financing_source\n",
    "df['financing_source'].value_counts().head(15)"
   ]
  },
  {
   "cell_type": "code",
   "execution_count": 51,
   "metadata": {},
   "outputs": [
    {
     "data": {
      "text/plain": [
       "unknown                           522\n",
       "драма                             476\n",
       "мультфильм                        457\n",
       "комедия                           351\n",
       "мелодрама,комедия                 222\n",
       "драма,мелодрама,комедия           189\n",
       "драма,мелодрама                   183\n",
       "драма,комедия                     158\n",
       "триллер,драма,криминал            141\n",
       "боевик,триллер,драма              140\n",
       "фантастика,боевик,триллер          87\n",
       "документальный                     84\n",
       "мультфильм,комедия,приключения     80\n",
       "ужасы,триллер,детектив             78\n",
       "ужасы,триллер                      78\n",
       "Name: genres, dtype: int64"
      ]
     },
     "execution_count": 51,
     "metadata": {},
     "output_type": "execute_result"
    }
   ],
   "source": [
    "# посмотрим все уникальные значения в столбце genres\n",
    "df['genres'].value_counts().head(15)"
   ]
  },
  {
   "cell_type": "markdown",
   "metadata": {},
   "source": [
    "##### Вывод\n",
    "\n",
    "С помощью метода value_counts(), были проверены все столбцы с категориальными значениями. \n",
    "\n",
    "Методом str.strip(), убрали пробелы, встречающиеся в начале столбца **type**.\n",
    "\n",
    "В столбцах (**'film_studio', 'production_country', 'producer', 'financing_source', 'genres'**), где хранятся списки, выделим первые значения и добавим их в отдельные столбцы. Сделаем это чуть ниже в п.2.6"
   ]
  },
  {
   "cell_type": "markdown",
   "metadata": {
    "id": "XFSN5lrEgFyR"
   },
   "source": [
    "####  Проверьте количественные значения\n",
    "\n",
    "- Проверьте, обнаружились ли в таких столбцах подозрительные данные. Как с такими данными лучше поступить?\n",
    "\n",
    "<div id=\"accordion\">\n",
    "    <div class=\"card\">\n",
    "        <div class=\"card-header\" id=\"headingThree\">\n",
    "            <button class=\"btn btn-link collapsed\" data-toggle=\"collapse\" data-target=\"#collapseHint_budget\" aria-expanded=\"false\" aria-controls=\"collapseHint_budget\">Подсказка</button>\n",
    "        </div>\n",
    "        <div id=\"collapseHint_budget\" class=\"collapse\" aria-labelledby=\"headingThree\" data-parent=\"#accordion\">\n",
    "            <div class=\"card-body\">\n",
    "Обратите внимание на описание столбца <code>budget</code>. Как этот столбец соотносится с двумя другими: <code>refundable_support</code> и <code>nonrefundable_support</code>?\n",
    "            </div>\n",
    "        </div>\n",
    "    </div>\n",
    "</div>"
   ]
  },
  {
   "cell_type": "code",
   "execution_count": 52,
   "metadata": {},
   "outputs": [
    {
     "data": {
      "text/plain": [
       "array([ 7.2,  6.6,  6.8,  7.7,  8.3,  8. ,  7.8,  8.1,  7.1,  6. ,  7.4,\n",
       "        5.8,  8.7,  6.3,  6.9,  5. ,  4.3,  7.3,  7. ,  6.4,  0. ,  8.2,\n",
       "        7.5,  6.7,  7.9,  5.9,  6.2,  5.6,  6.5,  2.4,  7.6,  6.1,  8.6,\n",
       "        8.5,  8.8,  5.5,  5.1,  5.7,  5.4, 99. ,  4.4,  4.5,  5.3,  4.1,\n",
       "        8.4,  2.6,  3.8,  4.6,  4.8,  4. ,  3. ,  1.6,  4.2,  5.2,  4.7,\n",
       "        4.9,  3.9,  2.7,  3.3,  2.9, 28. ,  3.7,  1.4,  3.1, 97. ,  3.5,\n",
       "        3.2,  2.8,  1.5,  2.1,  2.5,  9.2,  3.4,  1.1,  3.6, 83. , 64. ,\n",
       "       91. , 94. , 62. , 79. , 90. , 19. , 88. ,  1. , 89. ,  1.3,  1.9,\n",
       "        1.8,  1.2,  1.7,  9. , 98. ,  8.9,  9.1])"
      ]
     },
     "execution_count": 52,
     "metadata": {},
     "output_type": "execute_result"
    }
   ],
   "source": [
    "# посмотрим какие значения встречаются в столбце с рейтингом\n",
    "df['ratings'].unique()"
   ]
  },
  {
   "cell_type": "markdown",
   "metadata": {},
   "source": [
    "##### Вывод\n",
    "\n",
    "Рейтинг взят с сайта кинопоиск, зайдя на него, стало понятно, что рейтинг считается по десятибальной шкале. Значения больше 10 скорее всего являются опечаткой. Исправим столбец, там где рейтинг больше 10, мы значение поделим на 10, тем самым приведем его к десятибальной шале."
   ]
  },
  {
   "cell_type": "code",
   "execution_count": 53,
   "metadata": {},
   "outputs": [],
   "source": [
    "# заменим значения в столбце рейтинг, которые больше 10\n",
    "df.loc[df['ratings'] >10, 'ratings'] = (df['ratings']/10)"
   ]
  },
  {
   "cell_type": "code",
   "execution_count": 54,
   "metadata": {},
   "outputs": [
    {
     "data": {
      "text/plain": [
       "array([7.2, 6.6, 6.8, 7.7, 8.3, 8. , 7.8, 8.1, 7.1, 6. , 7.4, 5.8, 8.7,\n",
       "       6.3, 6.9, 5. , 4.3, 7.3, 7. , 6.4, 0. , 8.2, 7.5, 6.7, 7.9, 5.9,\n",
       "       6.2, 5.6, 6.5, 2.4, 7.6, 6.1, 8.6, 8.5, 8.8, 5.5, 5.1, 5.7, 5.4,\n",
       "       9.9, 4.4, 4.5, 5.3, 4.1, 8.4, 2.6, 3.8, 4.6, 4.8, 4. , 3. , 1.6,\n",
       "       4.2, 5.2, 4.7, 4.9, 3.9, 2.7, 3.3, 2.9, 2.8, 3.7, 1.4, 3.1, 9.7,\n",
       "       3.5, 3.2, 1.5, 2.1, 2.5, 9.2, 3.4, 1.1, 3.6, 9.1, 9.4, 9. , 1.9,\n",
       "       1. , 8.9, 1.3, 1.8, 1.2, 1.7, 9.8])"
      ]
     },
     "execution_count": 54,
     "metadata": {},
     "output_type": "execute_result"
    }
   ],
   "source": [
    "# посмотрим изменился ли рейтинг\n",
    "df['ratings'].unique()"
   ]
  },
  {
   "cell_type": "code",
   "execution_count": 55,
   "metadata": {},
   "outputs": [
    {
     "data": {
      "text/html": [
       "<div>\n",
       "<style scoped>\n",
       "    .dataframe tbody tr th:only-of-type {\n",
       "        vertical-align: middle;\n",
       "    }\n",
       "\n",
       "    .dataframe tbody tr th {\n",
       "        vertical-align: top;\n",
       "    }\n",
       "\n",
       "    .dataframe thead th {\n",
       "        text-align: right;\n",
       "    }\n",
       "</style>\n",
       "<table border=\"1\" class=\"dataframe\">\n",
       "  <thead>\n",
       "    <tr style=\"text-align: right;\">\n",
       "      <th></th>\n",
       "      <th>title</th>\n",
       "      <th>pu_number</th>\n",
       "      <th>show_start_date</th>\n",
       "      <th>type</th>\n",
       "      <th>film_studio</th>\n",
       "      <th>production_country</th>\n",
       "      <th>director</th>\n",
       "      <th>producer</th>\n",
       "      <th>age_restriction</th>\n",
       "      <th>refundable_support</th>\n",
       "      <th>nonrefundable_support</th>\n",
       "      <th>budget</th>\n",
       "      <th>financing_source</th>\n",
       "      <th>ratings</th>\n",
       "      <th>genres</th>\n",
       "      <th>box_office</th>\n",
       "      <th>age_group</th>\n",
       "    </tr>\n",
       "  </thead>\n",
       "  <tbody>\n",
       "    <tr>\n",
       "      <th>5806</th>\n",
       "      <td>Два хвоста</td>\n",
       "      <td>114001018</td>\n",
       "      <td>2018-05-31 12:00:00+00:00</td>\n",
       "      <td>Анимационный</td>\n",
       "      <td>ООО \"ЛИЦЕНЗИОННЫЕ БРЕНДЫ\"</td>\n",
       "      <td>Россия</td>\n",
       "      <td>В.Ровенский, Н.Лопато, В.Азеев</td>\n",
       "      <td>ООО \"ЛИЦЕНЗИОННЫЕ БРЕНДЫ\"</td>\n",
       "      <td>«6+» - для детей старше 6 лет</td>\n",
       "      <td>10000.0</td>\n",
       "      <td>60000.000</td>\n",
       "      <td>0.000</td>\n",
       "      <td>Фонд кино</td>\n",
       "      <td>5.0</td>\n",
       "      <td>мультфильм,детский</td>\n",
       "      <td>106514.30103</td>\n",
       "      <td>6</td>\n",
       "    </tr>\n",
       "    <tr>\n",
       "      <th>6008</th>\n",
       "      <td>Принцесса и дракон</td>\n",
       "      <td>114003018</td>\n",
       "      <td>2018-08-23 12:00:00+00:00</td>\n",
       "      <td>Анимационный</td>\n",
       "      <td>ООО \"ЛИЦЕНЗИОННЫЕ БРЕНДЫ\"</td>\n",
       "      <td>Россия</td>\n",
       "      <td>М.Нефедова</td>\n",
       "      <td>ООО \"ЛИЦЕНЗИОННЫЕ БРЕНДЫ\"</td>\n",
       "      <td>«6+» - для детей старше 6 лет</td>\n",
       "      <td>40000.0</td>\n",
       "      <td>40000.000</td>\n",
       "      <td>0.000</td>\n",
       "      <td>Фонд кино</td>\n",
       "      <td>5.2</td>\n",
       "      <td>мультфильм,фэнтези,детский</td>\n",
       "      <td>83366.32866</td>\n",
       "      <td>6</td>\n",
       "    </tr>\n",
       "    <tr>\n",
       "      <th>6323</th>\n",
       "      <td>Баба Яга</td>\n",
       "      <td>114006518</td>\n",
       "      <td>2018-11-08 12:00:00+00:00</td>\n",
       "      <td>Анимационный</td>\n",
       "      <td>ООО \"Арт Пикчерс Студия\"</td>\n",
       "      <td>Россия</td>\n",
       "      <td>В.Саков</td>\n",
       "      <td>ООО \"Арт Пикчерс Студия\", ООО \"КРИЭЙТИВ АНИМЭЙ...</td>\n",
       "      <td>«6+» - для детей старше 6 лет</td>\n",
       "      <td>0.0</td>\n",
       "      <td>138969.465</td>\n",
       "      <td>0.000</td>\n",
       "      <td>Фонд кино</td>\n",
       "      <td>0.0</td>\n",
       "      <td>мультфильм</td>\n",
       "      <td>1334.69940</td>\n",
       "      <td>6</td>\n",
       "    </tr>\n",
       "    <tr>\n",
       "      <th>6823</th>\n",
       "      <td>Большое путешествие</td>\n",
       "      <td>114002419</td>\n",
       "      <td>2019-04-20 12:00:00+00:00</td>\n",
       "      <td>Анимационный</td>\n",
       "      <td>ООО \"ЛИЦЕНЗИОННЫЕ БРЕНДЫ\"</td>\n",
       "      <td>Россия</td>\n",
       "      <td>Н.Лопато, В.Ровенский</td>\n",
       "      <td>ООО \"ЛИЦЕНЗИОННЫЕ БРЕНДЫ\"</td>\n",
       "      <td>«6+» - для детей старше 6 лет</td>\n",
       "      <td>60000.0</td>\n",
       "      <td>120000.000</td>\n",
       "      <td>0.000</td>\n",
       "      <td>Фонд кино</td>\n",
       "      <td>6.2</td>\n",
       "      <td>мультфильм,комедия,приключения</td>\n",
       "      <td>147606.82651</td>\n",
       "      <td>6</td>\n",
       "    </tr>\n",
       "    <tr>\n",
       "      <th>7114</th>\n",
       "      <td>Тайна Печати Дракона</td>\n",
       "      <td>111012819</td>\n",
       "      <td>2019-09-12 12:00:00+00:00</td>\n",
       "      <td>Художественный</td>\n",
       "      <td>ООО \"Кинокомпания \"СТВ\"; ООО \"РФГ Корп\"; ООО \"...</td>\n",
       "      <td>Россия-Китай</td>\n",
       "      <td>О.Степченко</td>\n",
       "      <td>С.Сельянов, А.Петрухин</td>\n",
       "      <td>«6+» - для детей старше 6 лет</td>\n",
       "      <td>180000.0</td>\n",
       "      <td>90000.000</td>\n",
       "      <td>-2147483.648</td>\n",
       "      <td>Фонд кино</td>\n",
       "      <td>5.8</td>\n",
       "      <td>приключения,фэнтези</td>\n",
       "      <td>333597.05959</td>\n",
       "      <td>6</td>\n",
       "    </tr>\n",
       "  </tbody>\n",
       "</table>\n",
       "</div>"
      ],
      "text/plain": [
       "                     title  pu_number           show_start_date  \\\n",
       "5806            Два хвоста  114001018 2018-05-31 12:00:00+00:00   \n",
       "6008    Принцесса и дракон  114003018 2018-08-23 12:00:00+00:00   \n",
       "6323              Баба Яга  114006518 2018-11-08 12:00:00+00:00   \n",
       "6823   Большое путешествие  114002419 2019-04-20 12:00:00+00:00   \n",
       "7114  Тайна Печати Дракона  111012819 2019-09-12 12:00:00+00:00   \n",
       "\n",
       "                type                                        film_studio  \\\n",
       "5806    Анимационный                          ООО \"ЛИЦЕНЗИОННЫЕ БРЕНДЫ\"   \n",
       "6008    Анимационный                          ООО \"ЛИЦЕНЗИОННЫЕ БРЕНДЫ\"   \n",
       "6323    Анимационный                           ООО \"Арт Пикчерс Студия\"   \n",
       "6823    Анимационный                          ООО \"ЛИЦЕНЗИОННЫЕ БРЕНДЫ\"   \n",
       "7114  Художественный  ООО \"Кинокомпания \"СТВ\"; ООО \"РФГ Корп\"; ООО \"...   \n",
       "\n",
       "     production_country                        director  \\\n",
       "5806             Россия  В.Ровенский, Н.Лопато, В.Азеев   \n",
       "6008             Россия                      М.Нефедова   \n",
       "6323             Россия                         В.Саков   \n",
       "6823             Россия           Н.Лопато, В.Ровенский   \n",
       "7114       Россия-Китай                     О.Степченко   \n",
       "\n",
       "                                               producer  \\\n",
       "5806                          ООО \"ЛИЦЕНЗИОННЫЕ БРЕНДЫ\"   \n",
       "6008                          ООО \"ЛИЦЕНЗИОННЫЕ БРЕНДЫ\"   \n",
       "6323  ООО \"Арт Пикчерс Студия\", ООО \"КРИЭЙТИВ АНИМЭЙ...   \n",
       "6823                          ООО \"ЛИЦЕНЗИОННЫЕ БРЕНДЫ\"   \n",
       "7114                             С.Сельянов, А.Петрухин   \n",
       "\n",
       "                    age_restriction  refundable_support  \\\n",
       "5806  «6+» - для детей старше 6 лет             10000.0   \n",
       "6008  «6+» - для детей старше 6 лет             40000.0   \n",
       "6323  «6+» - для детей старше 6 лет                 0.0   \n",
       "6823  «6+» - для детей старше 6 лет             60000.0   \n",
       "7114  «6+» - для детей старше 6 лет            180000.0   \n",
       "\n",
       "      nonrefundable_support       budget financing_source  ratings  \\\n",
       "5806              60000.000        0.000        Фонд кино      5.0   \n",
       "6008              40000.000        0.000        Фонд кино      5.2   \n",
       "6323             138969.465        0.000        Фонд кино      0.0   \n",
       "6823             120000.000        0.000        Фонд кино      6.2   \n",
       "7114              90000.000 -2147483.648        Фонд кино      5.8   \n",
       "\n",
       "                              genres    box_office  age_group  \n",
       "5806              мультфильм,детский  106514.30103          6  \n",
       "6008      мультфильм,фэнтези,детский   83366.32866          6  \n",
       "6323                      мультфильм    1334.69940          6  \n",
       "6823  мультфильм,комедия,приключения  147606.82651          6  \n",
       "7114             приключения,фэнтези  333597.05959          6  "
      ]
     },
     "execution_count": 55,
     "metadata": {},
     "output_type": "execute_result"
    }
   ],
   "source": [
    "# проверим, есть ли фильмы где бюджет меньше гос. поддержки\n",
    "df.query('budget < (nonrefundable_support + refundable_support)').tail(5)"
   ]
  },
  {
   "cell_type": "code",
   "execution_count": 56,
   "metadata": {},
   "outputs": [
    {
     "data": {
      "text/plain": [
       "18"
      ]
     },
     "execution_count": 56,
     "metadata": {},
     "output_type": "execute_result"
    }
   ],
   "source": [
    "#посчитаем сколько таких фильмов\n",
    "len(df.query('budget < (nonrefundable_support + refundable_support)'))"
   ]
  },
  {
   "cell_type": "markdown",
   "metadata": {},
   "source": [
    "##### Вывод\n",
    "\n",
    "По срезу таблицы можно увидеть: \n",
    "\n",
    "Есть значения в столбцах с гос. поддержкой превышаюший общий бюджет фильма. Возможно произошла ошибка при выгрузке данных, об этом нужно сказать коллегам, кто отвечает за выгрузку. Так как количество таких значений очень мало, не будем производить долгие расчеты для более точного вычисления и заменим бюджет в тех строках, где он меньше гос.поддержки на сумму столбцов nonrefundable_support и refundable_support."
   ]
  },
  {
   "cell_type": "code",
   "execution_count": 57,
   "metadata": {},
   "outputs": [],
   "source": [
    "# заменим строки где бюджет меньше гос. поддержки на сумму значений столбцов nonrefundable_support и refundable_support\n",
    "df.loc[df['budget'] < (df['nonrefundable_support'] + df['refundable_support']), 'budget']  = (df['nonrefundable_support'] + df['refundable_support'])"
   ]
  },
  {
   "cell_type": "code",
   "execution_count": 58,
   "metadata": {},
   "outputs": [
    {
     "data": {
      "text/html": [
       "<div>\n",
       "<style scoped>\n",
       "    .dataframe tbody tr th:only-of-type {\n",
       "        vertical-align: middle;\n",
       "    }\n",
       "\n",
       "    .dataframe tbody tr th {\n",
       "        vertical-align: top;\n",
       "    }\n",
       "\n",
       "    .dataframe thead th {\n",
       "        text-align: right;\n",
       "    }\n",
       "</style>\n",
       "<table border=\"1\" class=\"dataframe\">\n",
       "  <thead>\n",
       "    <tr style=\"text-align: right;\">\n",
       "      <th></th>\n",
       "      <th>title</th>\n",
       "      <th>pu_number</th>\n",
       "      <th>show_start_date</th>\n",
       "      <th>type</th>\n",
       "      <th>film_studio</th>\n",
       "      <th>production_country</th>\n",
       "      <th>director</th>\n",
       "      <th>producer</th>\n",
       "      <th>age_restriction</th>\n",
       "      <th>refundable_support</th>\n",
       "      <th>nonrefundable_support</th>\n",
       "      <th>budget</th>\n",
       "      <th>financing_source</th>\n",
       "      <th>ratings</th>\n",
       "      <th>genres</th>\n",
       "      <th>box_office</th>\n",
       "      <th>age_group</th>\n",
       "    </tr>\n",
       "  </thead>\n",
       "  <tbody>\n",
       "  </tbody>\n",
       "</table>\n",
       "</div>"
      ],
      "text/plain": [
       "Empty DataFrame\n",
       "Columns: [title, pu_number, show_start_date, type, film_studio, production_country, director, producer, age_restriction, refundable_support, nonrefundable_support, budget, financing_source, ratings, genres, box_office, age_group]\n",
       "Index: []"
      ]
     },
     "execution_count": 58,
     "metadata": {},
     "output_type": "execute_result"
    }
   ],
   "source": [
    "#проверим остались ли строки где бюджет меньше\n",
    "df.query('budget < (nonrefundable_support + refundable_support)')"
   ]
  },
  {
   "cell_type": "markdown",
   "metadata": {
    "id": "Eu6oWp2CgFyS"
   },
   "source": [
    "####  Добавление новых столбцов\n",
    "\n",
    "\n",
    "\n"
   ]
  },
  {
   "cell_type": "markdown",
   "metadata": {
    "id": "7GgW-UpAgFyS"
   },
   "source": [
    "- Создайте столбец с информацией о годе проката. Выделите год из даты премьеры фильма."
   ]
  },
  {
   "cell_type": "code",
   "execution_count": 59,
   "metadata": {
    "id": "I-yd1DkWgFyT"
   },
   "outputs": [],
   "source": [
    "# добавим в таблицу: год публикации объявления\n",
    "df['year_rental'] = df['show_start_date'].dt.year"
   ]
  },
  {
   "cell_type": "code",
   "execution_count": 60,
   "metadata": {},
   "outputs": [
    {
     "data": {
      "text/html": [
       "<div>\n",
       "<style scoped>\n",
       "    .dataframe tbody tr th:only-of-type {\n",
       "        vertical-align: middle;\n",
       "    }\n",
       "\n",
       "    .dataframe tbody tr th {\n",
       "        vertical-align: top;\n",
       "    }\n",
       "\n",
       "    .dataframe thead th {\n",
       "        text-align: right;\n",
       "    }\n",
       "</style>\n",
       "<table border=\"1\" class=\"dataframe\">\n",
       "  <thead>\n",
       "    <tr style=\"text-align: right;\">\n",
       "      <th></th>\n",
       "      <th>title</th>\n",
       "      <th>pu_number</th>\n",
       "      <th>show_start_date</th>\n",
       "      <th>type</th>\n",
       "      <th>film_studio</th>\n",
       "      <th>production_country</th>\n",
       "      <th>director</th>\n",
       "      <th>producer</th>\n",
       "      <th>age_restriction</th>\n",
       "      <th>refundable_support</th>\n",
       "      <th>nonrefundable_support</th>\n",
       "      <th>budget</th>\n",
       "      <th>financing_source</th>\n",
       "      <th>ratings</th>\n",
       "      <th>genres</th>\n",
       "      <th>box_office</th>\n",
       "      <th>age_group</th>\n",
       "      <th>year_rental</th>\n",
       "    </tr>\n",
       "  </thead>\n",
       "  <tbody>\n",
       "    <tr>\n",
       "      <th>5239</th>\n",
       "      <td>Голуби при потоках вод</td>\n",
       "      <td>111010411</td>\n",
       "      <td>2011-12-22 12:00:00+00:00</td>\n",
       "      <td>Художественный</td>\n",
       "      <td>ООО \"ВАЛДАЙ\"</td>\n",
       "      <td>Россия</td>\n",
       "      <td>И.Замалиев (псевдоним Э.Бартенев)</td>\n",
       "      <td>С.Кучмаева</td>\n",
       "      <td>«16+» - для детей старше 16 лет</td>\n",
       "      <td>0.0</td>\n",
       "      <td>0.0</td>\n",
       "      <td>0.0</td>\n",
       "      <td>unknown</td>\n",
       "      <td>0.0</td>\n",
       "      <td>unknown</td>\n",
       "      <td>NaN</td>\n",
       "      <td>16</td>\n",
       "      <td>2011</td>\n",
       "    </tr>\n",
       "    <tr>\n",
       "      <th>5544</th>\n",
       "      <td>Джунгли</td>\n",
       "      <td>121022517</td>\n",
       "      <td>2017-11-02 12:00:00+00:00</td>\n",
       "      <td>Художественный</td>\n",
       "      <td>Баббер Филмз, Катинг Эдж Груп, Скрин Австралиа...</td>\n",
       "      <td>Австралия - Колумбия</td>\n",
       "      <td>Грег МакЛин</td>\n",
       "      <td>Тодд Фелмэн</td>\n",
       "      <td>«18+» - запрещено для детей</td>\n",
       "      <td>0.0</td>\n",
       "      <td>0.0</td>\n",
       "      <td>0.0</td>\n",
       "      <td>unknown</td>\n",
       "      <td>6.8</td>\n",
       "      <td>триллер,драма,приключения</td>\n",
       "      <td>45101.635</td>\n",
       "      <td>18</td>\n",
       "      <td>2017</td>\n",
       "    </tr>\n",
       "    <tr>\n",
       "      <th>2271</th>\n",
       "      <td>Как меня зовут.</td>\n",
       "      <td>111014814</td>\n",
       "      <td>2014-10-27 12:00:00+00:00</td>\n",
       "      <td>Художественный</td>\n",
       "      <td>ООО \"Продюсерская фирма Игоря Толстунова\", ООО...</td>\n",
       "      <td>Россия</td>\n",
       "      <td>Н.Сайфуллаева</td>\n",
       "      <td>И.Толстунов, С.Козлов, С.Корнихин</td>\n",
       "      <td>«18+» - запрещено для детей</td>\n",
       "      <td>0.0</td>\n",
       "      <td>0.0</td>\n",
       "      <td>0.0</td>\n",
       "      <td>unknown</td>\n",
       "      <td>6.1</td>\n",
       "      <td>драма</td>\n",
       "      <td>180.108</td>\n",
       "      <td>18</td>\n",
       "      <td>2014</td>\n",
       "    </tr>\n",
       "  </tbody>\n",
       "</table>\n",
       "</div>"
      ],
      "text/plain": [
       "                       title  pu_number           show_start_date  \\\n",
       "5239  Голуби при потоках вод  111010411 2011-12-22 12:00:00+00:00   \n",
       "5544                 Джунгли  121022517 2017-11-02 12:00:00+00:00   \n",
       "2271         Как меня зовут.  111014814 2014-10-27 12:00:00+00:00   \n",
       "\n",
       "                type                                        film_studio  \\\n",
       "5239  Художественный                                       ООО \"ВАЛДАЙ\"   \n",
       "5544  Художественный  Баббер Филмз, Катинг Эдж Груп, Скрин Австралиа...   \n",
       "2271  Художественный  ООО \"Продюсерская фирма Игоря Толстунова\", ООО...   \n",
       "\n",
       "        production_country                           director  \\\n",
       "5239                Россия  И.Замалиев (псевдоним Э.Бартенев)   \n",
       "5544  Австралия - Колумбия                        Грег МакЛин   \n",
       "2271                Россия                      Н.Сайфуллаева   \n",
       "\n",
       "                               producer                  age_restriction  \\\n",
       "5239                         С.Кучмаева  «16+» - для детей старше 16 лет   \n",
       "5544                        Тодд Фелмэн      «18+» - запрещено для детей   \n",
       "2271  И.Толстунов, С.Козлов, С.Корнихин      «18+» - запрещено для детей   \n",
       "\n",
       "      refundable_support  nonrefundable_support  budget financing_source  \\\n",
       "5239                 0.0                    0.0     0.0          unknown   \n",
       "5544                 0.0                    0.0     0.0          unknown   \n",
       "2271                 0.0                    0.0     0.0          unknown   \n",
       "\n",
       "      ratings                     genres  box_office  age_group  year_rental  \n",
       "5239      0.0                    unknown         NaN         16         2011  \n",
       "5544      6.8  триллер,драма,приключения   45101.635         18         2017  \n",
       "2271      6.1                      драма     180.108         18         2014  "
      ]
     },
     "execution_count": 60,
     "metadata": {},
     "output_type": "execute_result"
    }
   ],
   "source": [
    "df.sample(3, random_state=50) "
   ]
  },
  {
   "cell_type": "markdown",
   "metadata": {
    "id": "nFTDLDYOgFyT"
   },
   "source": [
    "- Создайте два столбца: с именем и фамилией главного режиссёра и основным жанром фильма. В столбцы войдут первые значения из списка режиссёров и жанров соответственно.\n",
    "\n",
    "<div id=\"accordion\">\n",
    "    <div class=\"card\">\n",
    "        <div class=\"card-header\" id=\"headingThree\">\n",
    "            <button class=\"btn btn-link collapsed\" data-toggle=\"collapse\" data-target=\"#collapseHint_2\" aria-expanded=\"false\" aria-controls=\"collapseHint_2\">Подсказка</button>\n",
    "        </div>\n",
    "        <div id=\"collapseHint_2\" class=\"collapse\" aria-labelledby=\"headingThree\" data-parent=\"#accordion\">\n",
    "            <div class=\"card-body\">\n",
    "Чтобы создать такие столбцы, лучше всего использовать собственную функцию. Эту функцию можно применить к двум столбцам сразу. \n",
    "            </div>\n",
    "        </div>\n",
    "    </div>\n",
    "</div>"
   ]
  },
  {
   "cell_type": "code",
   "execution_count": 61,
   "metadata": {},
   "outputs": [],
   "source": [
    "#Создадим столбец: с именем и фамилией главного режиссёра при помощи функции\n",
    "def director_one(row):\n",
    "\n",
    "    director = row['director']\n",
    "      \n",
    "    return director.split(',')[0] \n",
    "\n",
    "df['director_one'] = df.apply(director_one, axis=1)"
   ]
  },
  {
   "cell_type": "code",
   "execution_count": 62,
   "metadata": {
    "id": "LV6qFuZLgFyV"
   },
   "outputs": [],
   "source": [
    "#Создадим столбец: с основным жанром фильма при помощи функции\n",
    "def genres_one(row):\n",
    "\n",
    "    genres = row['genres']\n",
    "      \n",
    "    return genres.split(',')[0] \n",
    "\n",
    "df['genres_one'] = df.apply(genres_one, axis=1)"
   ]
  },
  {
   "cell_type": "code",
   "execution_count": 63,
   "metadata": {},
   "outputs": [],
   "source": [
    "#Создадим столбец, куда войдет только первое значение из столбца студия-производитель, при помощи функции\n",
    "def film_studio_one(row):\n",
    "\n",
    "    film_studio = row['film_studio']\n",
    "      \n",
    "    return film_studio.split(',')[0] \n",
    "\n",
    "df['film_studio_one'] = df.apply(film_studio_one, axis=1)"
   ]
  },
  {
   "cell_type": "code",
   "execution_count": 64,
   "metadata": {},
   "outputs": [],
   "source": [
    "#Создадим столбец, куда войдет только первое значение из столбца страна-производитель, при помощи функции\n",
    "def production_country_one(row):\n",
    "\n",
    "    production_country = row['production_country']\n",
    "      \n",
    "    return production_country.split('-')[0] \n",
    "\n",
    "df['production_country_one'] = df.apply(production_country_one, axis=1)"
   ]
  },
  {
   "cell_type": "code",
   "execution_count": 65,
   "metadata": {},
   "outputs": [],
   "source": [
    "#Создадим столбец, куда войдет только первое значение из столбца продюссер, при помощи функции\n",
    "def producer_one(row):\n",
    "\n",
    "    producer = row['producer']\n",
    "      \n",
    "    return producer.split(',')[0] \n",
    "\n",
    "df['producer_one'] = df.apply(producer_one, axis=1)"
   ]
  },
  {
   "cell_type": "code",
   "execution_count": 66,
   "metadata": {},
   "outputs": [],
   "source": [
    "#Создадим столбец, куда войдет только первое значение из столбца источник финансирования, при помощи функции\n",
    "def financing_source_one(row):\n",
    "\n",
    "    financing_source = row['financing_source']\n",
    "      \n",
    "    return financing_source.split(',')[0] \n",
    "\n",
    "df['financing_source_one'] = df.apply(financing_source_one, axis=1)"
   ]
  },
  {
   "cell_type": "markdown",
   "metadata": {
    "id": "1FsCXHwdgFyU"
   },
   "source": [
    "- Посчитайте, какую долю от общего бюджета фильма составляет государственная поддержка."
   ]
  },
  {
   "cell_type": "code",
   "execution_count": 67,
   "metadata": {},
   "outputs": [],
   "source": [
    "#Создадим столбец: с долей в процентах гос. поддержки от общего бюджета\n",
    "def ratio_support(row):\n",
    "   \n",
    "    nonrefundable_support = row['nonrefundable_support']\n",
    "    refundable_support = row['refundable_support']\n",
    "    budget = row['budget']  \n",
    "    \n",
    "    if budget != 0:\n",
    "        return int(((nonrefundable_support+refundable_support) / budget)*100) \n",
    "    else:\n",
    "        return 0\n",
    "df['ratio_support'] = df.apply(ratio_support, axis=1)"
   ]
  },
  {
   "cell_type": "code",
   "execution_count": 68,
   "metadata": {},
   "outputs": [
    {
     "data": {
      "text/html": [
       "<div>\n",
       "<style scoped>\n",
       "    .dataframe tbody tr th:only-of-type {\n",
       "        vertical-align: middle;\n",
       "    }\n",
       "\n",
       "    .dataframe tbody tr th {\n",
       "        vertical-align: top;\n",
       "    }\n",
       "\n",
       "    .dataframe thead th {\n",
       "        text-align: right;\n",
       "    }\n",
       "</style>\n",
       "<table border=\"1\" class=\"dataframe\">\n",
       "  <thead>\n",
       "    <tr style=\"text-align: right;\">\n",
       "      <th></th>\n",
       "      <th>title</th>\n",
       "      <th>pu_number</th>\n",
       "      <th>show_start_date</th>\n",
       "      <th>type</th>\n",
       "      <th>film_studio</th>\n",
       "      <th>production_country</th>\n",
       "      <th>director</th>\n",
       "      <th>producer</th>\n",
       "      <th>age_restriction</th>\n",
       "      <th>refundable_support</th>\n",
       "      <th>...</th>\n",
       "      <th>box_office</th>\n",
       "      <th>age_group</th>\n",
       "      <th>year_rental</th>\n",
       "      <th>director_one</th>\n",
       "      <th>genres_one</th>\n",
       "      <th>film_studio_one</th>\n",
       "      <th>production_country_one</th>\n",
       "      <th>producer_one</th>\n",
       "      <th>financing_source_one</th>\n",
       "      <th>ratio_support</th>\n",
       "    </tr>\n",
       "  </thead>\n",
       "  <tbody>\n",
       "    <tr>\n",
       "      <th>5685</th>\n",
       "      <td>Три билборда на границе Эббинга, Миссури</td>\n",
       "      <td>121029417</td>\n",
       "      <td>2018-02-01 12:00:00+00:00</td>\n",
       "      <td>Художественный</td>\n",
       "      <td>Блюпринт Пикчерз, Фокс Сёрчлайт</td>\n",
       "      <td>Великобритания - США</td>\n",
       "      <td>Мартин МакДона</td>\n",
       "      <td>Грэм Бродбент, Мартин МакДона, Питер Чернин</td>\n",
       "      <td>«18+» - запрещено для детей</td>\n",
       "      <td>0.0</td>\n",
       "      <td>...</td>\n",
       "      <td>187196.92735</td>\n",
       "      <td>18</td>\n",
       "      <td>2018</td>\n",
       "      <td>Мартин МакДона</td>\n",
       "      <td>драма</td>\n",
       "      <td>Блюпринт Пикчерз</td>\n",
       "      <td>Великобритания</td>\n",
       "      <td>Грэм Бродбент</td>\n",
       "      <td>unknown</td>\n",
       "      <td>0</td>\n",
       "    </tr>\n",
       "    <tr>\n",
       "      <th>2180</th>\n",
       "      <td>Волки / Wolves</td>\n",
       "      <td>221034514</td>\n",
       "      <td>2014-09-09 12:00:00+00:00</td>\n",
       "      <td>Художественный</td>\n",
       "      <td>Копперхед Интертейнмент</td>\n",
       "      <td>Франция - США</td>\n",
       "      <td>Дэвид Хэйтер</td>\n",
       "      <td>Бенедикт Карвер, Сара Фрюдман, Стивен Хобан</td>\n",
       "      <td>«16+» - для детей старше 16 лет</td>\n",
       "      <td>0.0</td>\n",
       "      <td>...</td>\n",
       "      <td>NaN</td>\n",
       "      <td>16</td>\n",
       "      <td>2014</td>\n",
       "      <td>Дэвид Хэйтер</td>\n",
       "      <td>фэнтези</td>\n",
       "      <td>Копперхед Интертейнмент</td>\n",
       "      <td>Франция</td>\n",
       "      <td>Бенедикт Карвер</td>\n",
       "      <td>unknown</td>\n",
       "      <td>0</td>\n",
       "    </tr>\n",
       "    <tr>\n",
       "      <th>1143</th>\n",
       "      <td>Обитель зла: Возмездие</td>\n",
       "      <td>121019712</td>\n",
       "      <td>2012-09-05 12:00:00+00:00</td>\n",
       "      <td>Художественный</td>\n",
       "      <td>Дэвис Филмз, Импакт Пикчерз (Эр И 5), Констант...</td>\n",
       "      <td>США</td>\n",
       "      <td>Пол У.С.Андерсон</td>\n",
       "      <td>Пол У.С.Андерсон, Джереми Болт, Дон Кармоди</td>\n",
       "      <td>«18+» - запрещено для детей</td>\n",
       "      <td>0.0</td>\n",
       "      <td>...</td>\n",
       "      <td>NaN</td>\n",
       "      <td>18</td>\n",
       "      <td>2012</td>\n",
       "      <td>Пол У.С.Андерсон</td>\n",
       "      <td>ужасы</td>\n",
       "      <td>Дэвис Филмз</td>\n",
       "      <td>США</td>\n",
       "      <td>Пол У.С.Андерсон</td>\n",
       "      <td>unknown</td>\n",
       "      <td>0</td>\n",
       "    </tr>\n",
       "    <tr>\n",
       "      <th>6677</th>\n",
       "      <td>Город грехов</td>\n",
       "      <td>121000219</td>\n",
       "      <td>2019-03-02 12:00:00+00:00</td>\n",
       "      <td>Художественный</td>\n",
       "      <td>Дименшн Филмз, Трублемейкер Студиос</td>\n",
       "      <td>США</td>\n",
       "      <td>Фрэнк Миллер, Роберт Родригес, Квентин Тарантино</td>\n",
       "      <td>Элизабет Авеллан, Боб Вайнштейн, Харви Вайнште...</td>\n",
       "      <td>«18+» - запрещено для детей</td>\n",
       "      <td>0.0</td>\n",
       "      <td>...</td>\n",
       "      <td>NaN</td>\n",
       "      <td>18</td>\n",
       "      <td>2019</td>\n",
       "      <td>Фрэнк Миллер</td>\n",
       "      <td>боевик</td>\n",
       "      <td>Дименшн Филмз</td>\n",
       "      <td>США</td>\n",
       "      <td>Элизабет Авеллан</td>\n",
       "      <td>unknown</td>\n",
       "      <td>0</td>\n",
       "    </tr>\n",
       "    <tr>\n",
       "      <th>3462</th>\n",
       "      <td>Защитники</td>\n",
       "      <td>111000717</td>\n",
       "      <td>2017-01-24 12:00:00+00:00</td>\n",
       "      <td>Художественный</td>\n",
       "      <td>ООО \"Энджой мувиз\", ООО \"РЕНОВАЦИО интертейнмент\"</td>\n",
       "      <td>Россия</td>\n",
       "      <td>С.Андреасян</td>\n",
       "      <td>С.Андреасян, Г.Андреасян, В.Поляков, А.Рязанцев</td>\n",
       "      <td>«12+» - для детей старше 12 лет</td>\n",
       "      <td>50000.0</td>\n",
       "      <td>...</td>\n",
       "      <td>262040.25400</td>\n",
       "      <td>12</td>\n",
       "      <td>2017</td>\n",
       "      <td>С.Андреасян</td>\n",
       "      <td>фантастика</td>\n",
       "      <td>ООО \"Энджой мувиз\"</td>\n",
       "      <td>Россия</td>\n",
       "      <td>С.Андреасян</td>\n",
       "      <td>Фонд кино</td>\n",
       "      <td>61</td>\n",
       "    </tr>\n",
       "  </tbody>\n",
       "</table>\n",
       "<p>5 rows × 25 columns</p>\n",
       "</div>"
      ],
      "text/plain": [
       "                                         title  pu_number  \\\n",
       "5685  Три билборда на границе Эббинга, Миссури  121029417   \n",
       "2180                            Волки / Wolves  221034514   \n",
       "1143                    Обитель зла: Возмездие  121019712   \n",
       "6677                              Город грехов  121000219   \n",
       "3462                                 Защитники  111000717   \n",
       "\n",
       "               show_start_date            type  \\\n",
       "5685 2018-02-01 12:00:00+00:00  Художественный   \n",
       "2180 2014-09-09 12:00:00+00:00  Художественный   \n",
       "1143 2012-09-05 12:00:00+00:00  Художественный   \n",
       "6677 2019-03-02 12:00:00+00:00  Художественный   \n",
       "3462 2017-01-24 12:00:00+00:00  Художественный   \n",
       "\n",
       "                                            film_studio    production_country  \\\n",
       "5685                    Блюпринт Пикчерз, Фокс Сёрчлайт  Великобритания - США   \n",
       "2180                            Копперхед Интертейнмент         Франция - США   \n",
       "1143  Дэвис Филмз, Импакт Пикчерз (Эр И 5), Констант...                   США   \n",
       "6677                Дименшн Филмз, Трублемейкер Студиос                   США   \n",
       "3462  ООО \"Энджой мувиз\", ООО \"РЕНОВАЦИО интертейнмент\"                Россия   \n",
       "\n",
       "                                              director  \\\n",
       "5685                                    Мартин МакДона   \n",
       "2180                                      Дэвид Хэйтер   \n",
       "1143                                  Пол У.С.Андерсон   \n",
       "6677  Фрэнк Миллер, Роберт Родригес, Квентин Тарантино   \n",
       "3462                                       С.Андреасян   \n",
       "\n",
       "                                               producer  \\\n",
       "5685        Грэм Бродбент, Мартин МакДона, Питер Чернин   \n",
       "2180        Бенедикт Карвер, Сара Фрюдман, Стивен Хобан   \n",
       "1143        Пол У.С.Андерсон, Джереми Болт, Дон Кармоди   \n",
       "6677  Элизабет Авеллан, Боб Вайнштейн, Харви Вайнште...   \n",
       "3462    С.Андреасян, Г.Андреасян, В.Поляков, А.Рязанцев   \n",
       "\n",
       "                      age_restriction  refundable_support  ...    box_office  \\\n",
       "5685      «18+» - запрещено для детей                 0.0  ...  187196.92735   \n",
       "2180  «16+» - для детей старше 16 лет                 0.0  ...           NaN   \n",
       "1143      «18+» - запрещено для детей                 0.0  ...           NaN   \n",
       "6677      «18+» - запрещено для детей                 0.0  ...           NaN   \n",
       "3462  «12+» - для детей старше 12 лет             50000.0  ...  262040.25400   \n",
       "\n",
       "      age_group year_rental      director_one  genres_one  \\\n",
       "5685         18        2018    Мартин МакДона       драма   \n",
       "2180         16        2014      Дэвид Хэйтер     фэнтези   \n",
       "1143         18        2012  Пол У.С.Андерсон       ужасы   \n",
       "6677         18        2019      Фрэнк Миллер      боевик   \n",
       "3462         12        2017       С.Андреасян  фантастика   \n",
       "\n",
       "              film_studio_one  production_country_one      producer_one  \\\n",
       "5685         Блюпринт Пикчерз         Великобритания      Грэм Бродбент   \n",
       "2180  Копперхед Интертейнмент                Франция    Бенедикт Карвер   \n",
       "1143              Дэвис Филмз                     США  Пол У.С.Андерсон   \n",
       "6677            Дименшн Филмз                     США  Элизабет Авеллан   \n",
       "3462       ООО \"Энджой мувиз\"                  Россия       С.Андреасян   \n",
       "\n",
       "     financing_source_one ratio_support  \n",
       "5685              unknown             0  \n",
       "2180              unknown             0  \n",
       "1143              unknown             0  \n",
       "6677              unknown             0  \n",
       "3462            Фонд кино            61  \n",
       "\n",
       "[5 rows x 25 columns]"
      ]
     },
     "execution_count": 68,
     "metadata": {},
     "output_type": "execute_result"
    }
   ],
   "source": [
    "df.sample(5, random_state=42)"
   ]
  },
  {
   "cell_type": "code",
   "execution_count": 69,
   "metadata": {},
   "outputs": [
    {
     "data": {
      "text/html": [
       "<div>\n",
       "<style scoped>\n",
       "    .dataframe tbody tr th:only-of-type {\n",
       "        vertical-align: middle;\n",
       "    }\n",
       "\n",
       "    .dataframe tbody tr th {\n",
       "        vertical-align: top;\n",
       "    }\n",
       "\n",
       "    .dataframe thead th {\n",
       "        text-align: right;\n",
       "    }\n",
       "</style>\n",
       "<table border=\"1\" class=\"dataframe\">\n",
       "  <thead>\n",
       "    <tr style=\"text-align: right;\">\n",
       "      <th></th>\n",
       "      <th>title</th>\n",
       "      <th>pu_number</th>\n",
       "      <th>show_start_date</th>\n",
       "      <th>type</th>\n",
       "      <th>film_studio</th>\n",
       "      <th>production_country</th>\n",
       "      <th>director</th>\n",
       "      <th>producer</th>\n",
       "      <th>age_restriction</th>\n",
       "      <th>refundable_support</th>\n",
       "      <th>...</th>\n",
       "      <th>age_group</th>\n",
       "      <th>year_rental</th>\n",
       "      <th>director_one</th>\n",
       "      <th>genres_one</th>\n",
       "      <th>film_studio_one</th>\n",
       "      <th>production_country_one</th>\n",
       "      <th>producer_one</th>\n",
       "      <th>financing_source_one</th>\n",
       "      <th>ratio_support</th>\n",
       "      <th>sum_support</th>\n",
       "    </tr>\n",
       "  </thead>\n",
       "  <tbody>\n",
       "    <tr>\n",
       "      <th>7456</th>\n",
       "      <td>Холоп</td>\n",
       "      <td>111021719</td>\n",
       "      <td>2019-12-19 12:00:00+00:00</td>\n",
       "      <td>Художественный</td>\n",
       "      <td>ООО \"МЕМ-МЕДИА\" по заказу АО \"ВБД Груп\"</td>\n",
       "      <td>Россия</td>\n",
       "      <td>К.Шипенко</td>\n",
       "      <td>Э.Илоян, Д.Жалинский, В.Дусмухаметов, Т.Бадзие...</td>\n",
       "      <td>«12+» - для детей старше 12 лет</td>\n",
       "      <td>25000.0</td>\n",
       "      <td>...</td>\n",
       "      <td>12</td>\n",
       "      <td>2019</td>\n",
       "      <td>К.Шипенко</td>\n",
       "      <td>комедия</td>\n",
       "      <td>ООО \"МЕМ-МЕДИА\" по заказу АО \"ВБД Груп\"</td>\n",
       "      <td>Россия</td>\n",
       "      <td>Э.Илоян</td>\n",
       "      <td>Фонд кино</td>\n",
       "      <td>37</td>\n",
       "      <td>60000.0</td>\n",
       "    </tr>\n",
       "    <tr>\n",
       "      <th>7464</th>\n",
       "      <td>Союз спасения</td>\n",
       "      <td>111022019</td>\n",
       "      <td>2019-12-26 12:00:00+00:00</td>\n",
       "      <td>Художественный</td>\n",
       "      <td>ЗАО \"Дирекция кино\"</td>\n",
       "      <td>Россия</td>\n",
       "      <td>А.Кравчук</td>\n",
       "      <td>А.Максимов, К.Эрнст</td>\n",
       "      <td>«12+» - для детей старше 12 лет</td>\n",
       "      <td>100000.0</td>\n",
       "      <td>...</td>\n",
       "      <td>12</td>\n",
       "      <td>2019</td>\n",
       "      <td>А.Кравчук</td>\n",
       "      <td>история</td>\n",
       "      <td>ЗАО \"Дирекция кино\"</td>\n",
       "      <td>Россия</td>\n",
       "      <td>А.Максимов</td>\n",
       "      <td>Фонд кино</td>\n",
       "      <td>51</td>\n",
       "      <td>500000.0</td>\n",
       "    </tr>\n",
       "    <tr>\n",
       "      <th>7474</th>\n",
       "      <td>Вторжение</td>\n",
       "      <td>111022519</td>\n",
       "      <td>2019-12-23 12:00:00+00:00</td>\n",
       "      <td>Художественный</td>\n",
       "      <td>ООО \"Арт Пикчерс Студия\", ООО \"Водород 2011\"</td>\n",
       "      <td>Россия</td>\n",
       "      <td>Ф.Бондарчук</td>\n",
       "      <td>Ф.Бондарчук, М.Врубель, А.Андрющенко, Д.Рудовский</td>\n",
       "      <td>«12+» - для детей старше 12 лет</td>\n",
       "      <td>100000.0</td>\n",
       "      <td>...</td>\n",
       "      <td>12</td>\n",
       "      <td>2019</td>\n",
       "      <td>Ф.Бондарчук</td>\n",
       "      <td>фантастика</td>\n",
       "      <td>ООО \"Арт Пикчерс Студия\"</td>\n",
       "      <td>Россия</td>\n",
       "      <td>Ф.Бондарчук</td>\n",
       "      <td>Фонд кино</td>\n",
       "      <td>52</td>\n",
       "      <td>500000.0</td>\n",
       "    </tr>\n",
       "    <tr>\n",
       "      <th>7476</th>\n",
       "      <td>Я свободен</td>\n",
       "      <td>111023019</td>\n",
       "      <td>2019-12-26 12:00:00+00:00</td>\n",
       "      <td>Художественный</td>\n",
       "      <td>АО \"ТПО \"Киностудия им. М.Горького\"</td>\n",
       "      <td>Россия</td>\n",
       "      <td>И.Северов</td>\n",
       "      <td>С.Зернов</td>\n",
       "      <td>«12+» - для детей старше 12 лет</td>\n",
       "      <td>0.0</td>\n",
       "      <td>...</td>\n",
       "      <td>12</td>\n",
       "      <td>2019</td>\n",
       "      <td>И.Северов</td>\n",
       "      <td>драма</td>\n",
       "      <td>АО \"ТПО \"Киностудия им. М.Горького\"</td>\n",
       "      <td>Россия</td>\n",
       "      <td>С.Зернов</td>\n",
       "      <td>Министерство культуры</td>\n",
       "      <td>64</td>\n",
       "      <td>30000.0</td>\n",
       "    </tr>\n",
       "    <tr>\n",
       "      <th>7478</th>\n",
       "      <td>(Не)идеальный мужчина</td>\n",
       "      <td>111023119</td>\n",
       "      <td>2019-12-24 12:00:00+00:00</td>\n",
       "      <td>Художественный</td>\n",
       "      <td>ООО \"Нон-Стоп Продакшн\"</td>\n",
       "      <td>Россия</td>\n",
       "      <td>М.Бальчюнас (псевдоним М.Вайсберг)</td>\n",
       "      <td>С.Мелькумов, А.Роднянский, М.Вайсберг, Р.Минас...</td>\n",
       "      <td>«12+» - для детей старше 12 лет</td>\n",
       "      <td>40000.0</td>\n",
       "      <td>...</td>\n",
       "      <td>12</td>\n",
       "      <td>2019</td>\n",
       "      <td>М.Бальчюнас (псевдоним М.Вайсберг)</td>\n",
       "      <td>комедия</td>\n",
       "      <td>ООО \"Нон-Стоп Продакшн\"</td>\n",
       "      <td>Россия</td>\n",
       "      <td>С.Мелькумов</td>\n",
       "      <td>Фонд кино</td>\n",
       "      <td>66</td>\n",
       "      <td>100000.0</td>\n",
       "    </tr>\n",
       "  </tbody>\n",
       "</table>\n",
       "<p>5 rows × 26 columns</p>\n",
       "</div>"
      ],
      "text/plain": [
       "                      title  pu_number           show_start_date  \\\n",
       "7456                  Холоп  111021719 2019-12-19 12:00:00+00:00   \n",
       "7464          Союз спасения  111022019 2019-12-26 12:00:00+00:00   \n",
       "7474              Вторжение  111022519 2019-12-23 12:00:00+00:00   \n",
       "7476             Я свободен  111023019 2019-12-26 12:00:00+00:00   \n",
       "7478  (Не)идеальный мужчина  111023119 2019-12-24 12:00:00+00:00   \n",
       "\n",
       "                type                                   film_studio  \\\n",
       "7456  Художественный       ООО \"МЕМ-МЕДИА\" по заказу АО \"ВБД Груп\"   \n",
       "7464  Художественный                           ЗАО \"Дирекция кино\"   \n",
       "7474  Художественный  ООО \"Арт Пикчерс Студия\", ООО \"Водород 2011\"   \n",
       "7476  Художественный           АО \"ТПО \"Киностудия им. М.Горького\"   \n",
       "7478  Художественный                      ООО \"Нон-Стоп Продакшн\"    \n",
       "\n",
       "     production_country                            director  \\\n",
       "7456             Россия                           К.Шипенко   \n",
       "7464             Россия                           А.Кравчук   \n",
       "7474             Россия                         Ф.Бондарчук   \n",
       "7476             Россия                           И.Северов   \n",
       "7478             Россия  М.Бальчюнас (псевдоним М.Вайсберг)   \n",
       "\n",
       "                                               producer  \\\n",
       "7456  Э.Илоян, Д.Жалинский, В.Дусмухаметов, Т.Бадзие...   \n",
       "7464                                А.Максимов, К.Эрнст   \n",
       "7474  Ф.Бондарчук, М.Врубель, А.Андрющенко, Д.Рудовский   \n",
       "7476                                           С.Зернов   \n",
       "7478  С.Мелькумов, А.Роднянский, М.Вайсберг, Р.Минас...   \n",
       "\n",
       "                      age_restriction  refundable_support  ...  age_group  \\\n",
       "7456  «12+» - для детей старше 12 лет             25000.0  ...         12   \n",
       "7464  «12+» - для детей старше 12 лет            100000.0  ...         12   \n",
       "7474  «12+» - для детей старше 12 лет            100000.0  ...         12   \n",
       "7476  «12+» - для детей старше 12 лет                 0.0  ...         12   \n",
       "7478  «12+» - для детей старше 12 лет             40000.0  ...         12   \n",
       "\n",
       "      year_rental                        director_one  genres_one  \\\n",
       "7456         2019                           К.Шипенко     комедия   \n",
       "7464         2019                           А.Кравчук     история   \n",
       "7474         2019                         Ф.Бондарчук  фантастика   \n",
       "7476         2019                           И.Северов       драма   \n",
       "7478         2019  М.Бальчюнас (псевдоним М.Вайсберг)     комедия   \n",
       "\n",
       "                              film_studio_one  production_country_one  \\\n",
       "7456  ООО \"МЕМ-МЕДИА\" по заказу АО \"ВБД Груп\"                  Россия   \n",
       "7464                      ЗАО \"Дирекция кино\"                  Россия   \n",
       "7474                 ООО \"Арт Пикчерс Студия\"                  Россия   \n",
       "7476      АО \"ТПО \"Киностудия им. М.Горького\"                  Россия   \n",
       "7478                 ООО \"Нон-Стоп Продакшн\"                   Россия   \n",
       "\n",
       "      producer_one   financing_source_one ratio_support sum_support  \n",
       "7456       Э.Илоян              Фонд кино            37     60000.0  \n",
       "7464    А.Максимов              Фонд кино            51    500000.0  \n",
       "7474   Ф.Бондарчук              Фонд кино            52    500000.0  \n",
       "7476      С.Зернов  Министерство культуры            64     30000.0  \n",
       "7478   С.Мелькумов              Фонд кино            66    100000.0  \n",
       "\n",
       "[5 rows x 26 columns]"
      ]
     },
     "execution_count": 69,
     "metadata": {},
     "output_type": "execute_result"
    }
   ],
   "source": [
    "# создадим еще один столбец с суммарной гос. поддержкой, куда войдут возвратные и невозвратные средства\n",
    "df['sum_support'] = (df['refundable_support']+ df['nonrefundable_support'])\n",
    "df.query('nonrefundable_support != 0').tail()"
   ]
  },
  {
   "cell_type": "markdown",
   "metadata": {},
   "source": [
    "##### Вывод\n",
    "\n",
    "Для дальнейшего исследования, добавили столбцы:\n",
    "\n",
    "* с годом выхода премьеры\n",
    "\n",
    "* с основным жанром\n",
    "\n",
    "* с главным режиссёром\n",
    "\n",
    "* с основной студией-производителем\n",
    "\n",
    "* с основоной страной-производителем\n",
    "\n",
    "* с основным продюссером\n",
    "\n",
    "* с основным источником финансирования\n",
    "\n",
    "* с долей гос. поддержки от общего бюджета в процентах.\n",
    "\n",
    "* добавили еще столбец с сумарной гос. поддержкой."
   ]
  },
  {
   "cell_type": "markdown",
   "metadata": {
    "id": "6t4EukPLgFyV"
   },
   "source": [
    "### Исследовательский анализ данных\n"
   ]
  },
  {
   "cell_type": "markdown",
   "metadata": {
    "id": "vAH8WCzugFyV"
   },
   "source": [
    "#### Посмотрим, сколько фильмов выходило в прокат каждый год. Обратим внимание, что данные о прокате в кинотеатрах известны не для всех фильмов. Посчитаем, какую долю составляют фильмы с указанной информацией о прокате в кинотеатрах."
   ]
  },
  {
   "cell_type": "code",
   "execution_count": 70,
   "metadata": {},
   "outputs": [
    {
     "data": {
      "text/html": [
       "<div>\n",
       "<style scoped>\n",
       "    .dataframe tbody tr th:only-of-type {\n",
       "        vertical-align: middle;\n",
       "    }\n",
       "\n",
       "    .dataframe tbody tr th {\n",
       "        vertical-align: top;\n",
       "    }\n",
       "\n",
       "    .dataframe thead th {\n",
       "        text-align: right;\n",
       "    }\n",
       "</style>\n",
       "<table border=\"1\" class=\"dataframe\">\n",
       "  <thead>\n",
       "    <tr style=\"text-align: right;\">\n",
       "      <th></th>\n",
       "      <th>box_office</th>\n",
       "    </tr>\n",
       "    <tr>\n",
       "      <th>year_rental</th>\n",
       "      <th></th>\n",
       "    </tr>\n",
       "  </thead>\n",
       "  <tbody>\n",
       "    <tr>\n",
       "      <th>2010</th>\n",
       "      <td>105</td>\n",
       "    </tr>\n",
       "    <tr>\n",
       "      <th>2011</th>\n",
       "      <td>109</td>\n",
       "    </tr>\n",
       "    <tr>\n",
       "      <th>2012</th>\n",
       "      <td>127</td>\n",
       "    </tr>\n",
       "    <tr>\n",
       "      <th>2013</th>\n",
       "      <td>184</td>\n",
       "    </tr>\n",
       "    <tr>\n",
       "      <th>2014</th>\n",
       "      <td>279</td>\n",
       "    </tr>\n",
       "    <tr>\n",
       "      <th>2015</th>\n",
       "      <td>465</td>\n",
       "    </tr>\n",
       "    <tr>\n",
       "      <th>2016</th>\n",
       "      <td>525</td>\n",
       "    </tr>\n",
       "    <tr>\n",
       "      <th>2017</th>\n",
       "      <td>357</td>\n",
       "    </tr>\n",
       "    <tr>\n",
       "      <th>2018</th>\n",
       "      <td>474</td>\n",
       "    </tr>\n",
       "    <tr>\n",
       "      <th>2019</th>\n",
       "      <td>530</td>\n",
       "    </tr>\n",
       "  </tbody>\n",
       "</table>\n",
       "</div>"
      ],
      "text/plain": [
       "             box_office\n",
       "year_rental            \n",
       "2010                105\n",
       "2011                109\n",
       "2012                127\n",
       "2013                184\n",
       "2014                279\n",
       "2015                465\n",
       "2016                525\n",
       "2017                357\n",
       "2018                474\n",
       "2019                530"
      ]
     },
     "execution_count": 70,
     "metadata": {},
     "output_type": "execute_result"
    }
   ],
   "source": [
    "# сделаем сводную таблицу по году выхода фильма в прокат, посчитаем кол-во фильмов по столбцу сборов\n",
    "# предварительно, уберем все фильмы, где не было кассовых сборов, то есть те, что не шли в кинотеатрах\n",
    "df.query('box_office != \"NaN\"').pivot_table(index='year_rental', values='box_office', aggfunc='count')"
   ]
  },
  {
   "cell_type": "code",
   "execution_count": 71,
   "metadata": {},
   "outputs": [
    {
     "data": {
      "text/plain": [
       "0.42303566639849827"
      ]
     },
     "execution_count": 71,
     "metadata": {},
     "output_type": "execute_result"
    }
   ],
   "source": [
    "# посчитаем долю фильмов, о которых есть данные о прокате в кинотеатрах от общего числа фильмов\n",
    "ratio = len(df.query('box_office != \"NaN\"')) / len (df)\n",
    "ratio"
   ]
  },
  {
   "cell_type": "markdown",
   "metadata": {},
   "source": [
    "##### Вывод\n",
    "\n",
    "* Из сводной таблицы видно, всех больше фильмов вышло в прокат в кинотеатрах в 2019 году. Всех меньше фильмов вышло в 2010 году.\n",
    "\n",
    "* Данные о сборах в кинотеатрах составляют 42,3% от общего числа. Что говорит о том, что меньше половины всех фильмов выходят в кинотеатрах."
   ]
  },
  {
   "cell_type": "markdown",
   "metadata": {
    "id": "BEOdcIrIgFyW"
   },
   "source": [
    "#### Изучим, как менялась динамика проката по годам. В каком году сумма сборов была минимальной? А максимальной?"
   ]
  },
  {
   "cell_type": "code",
   "execution_count": 72,
   "metadata": {},
   "outputs": [
    {
     "data": {
      "text/plain": [
       "Text(0, 0.5, 'Сумма сборов')"
      ]
     },
     "execution_count": 72,
     "metadata": {},
     "output_type": "execute_result"
    },
    {
     "data": {
      "image/png": "[encoded data removed]",
      "text/plain": [
       "<Figure size 720x360 with 1 Axes>"
      ]
     },
     "metadata": {
      "needs_background": "light"
     },
     "output_type": "display_data"
    }
   ],
   "source": [
    "# сделаем сводную таблицу по году выхода фильма в прокат, посчитаем сумму сборов\n",
    "df.query('box_office !=0').pivot_table(index='year_rental', values='box_office', aggfunc='sum').plot( grid=True, figsize=(10, 5))\n",
    "plt.title('Динамика кассовых сборов по годам')\n",
    "plt.xlabel('Год')\n",
    "plt.ylabel('Сумма сборов')"
   ]
  },
  {
   "cell_type": "markdown",
   "metadata": {
    "id": "tfEhofYvgFyX"
   },
   "source": [
    "##### Вывод\n",
    "\n",
    "Из графика следует, что сумма сборов была минимальной в 2010 году,  максимальной в 2018 году. \n",
    "\n",
    "Большой процент пропусков в столбце box_office, говорит о том, что большая часть фильмов не выходила в кинотеатрах, но мы не можем исключить и то, что среди этих пропусков есть, просто утерянные данные. Поэтому данный график считать полностью достоверным не рекомендуется."
   ]
  },
  {
   "cell_type": "markdown",
   "metadata": {
    "id": "G-7qS-N-gFyY"
   },
   "source": [
    "#### Посчитаем среднюю и медианную сумму сборов для каждого года."
   ]
  },
  {
   "cell_type": "code",
   "execution_count": 73,
   "metadata": {
    "id": "jmp-rgg9gFyY"
   },
   "outputs": [
    {
     "data": {
      "text/html": [
       "<div>\n",
       "<style scoped>\n",
       "    .dataframe tbody tr th:only-of-type {\n",
       "        vertical-align: middle;\n",
       "    }\n",
       "\n",
       "    .dataframe tbody tr th {\n",
       "        vertical-align: top;\n",
       "    }\n",
       "\n",
       "    .dataframe thead tr th {\n",
       "        text-align: left;\n",
       "    }\n",
       "\n",
       "    .dataframe thead tr:last-of-type th {\n",
       "        text-align: right;\n",
       "    }\n",
       "</style>\n",
       "<table border=\"1\" class=\"dataframe\">\n",
       "  <thead>\n",
       "    <tr>\n",
       "      <th></th>\n",
       "      <th>mean</th>\n",
       "      <th>median</th>\n",
       "    </tr>\n",
       "    <tr>\n",
       "      <th></th>\n",
       "      <th>box_office</th>\n",
       "      <th>box_office</th>\n",
       "    </tr>\n",
       "    <tr>\n",
       "      <th>year_rental</th>\n",
       "      <th></th>\n",
       "      <th></th>\n",
       "    </tr>\n",
       "  </thead>\n",
       "  <tbody>\n",
       "    <tr>\n",
       "      <th>2010</th>\n",
       "      <td>23.130038</td>\n",
       "      <td>1.700000</td>\n",
       "    </tr>\n",
       "    <tr>\n",
       "      <th>2011</th>\n",
       "      <td>129.383165</td>\n",
       "      <td>3.000000</td>\n",
       "    </tr>\n",
       "    <tr>\n",
       "      <th>2012</th>\n",
       "      <td>54.417898</td>\n",
       "      <td>5.560000</td>\n",
       "    </tr>\n",
       "    <tr>\n",
       "      <th>2013</th>\n",
       "      <td>161.954925</td>\n",
       "      <td>3.522500</td>\n",
       "    </tr>\n",
       "    <tr>\n",
       "      <th>2014</th>\n",
       "      <td>26684.415266</td>\n",
       "      <td>18.160000</td>\n",
       "    </tr>\n",
       "    <tr>\n",
       "      <th>2015</th>\n",
       "      <td>84940.570315</td>\n",
       "      <td>4920.933000</td>\n",
       "    </tr>\n",
       "    <tr>\n",
       "      <th>2016</th>\n",
       "      <td>91173.533743</td>\n",
       "      <td>3915.041020</td>\n",
       "    </tr>\n",
       "    <tr>\n",
       "      <th>2017</th>\n",
       "      <td>136032.793326</td>\n",
       "      <td>9968.340000</td>\n",
       "    </tr>\n",
       "    <tr>\n",
       "      <th>2018</th>\n",
       "      <td>104785.573648</td>\n",
       "      <td>8911.533935</td>\n",
       "    </tr>\n",
       "    <tr>\n",
       "      <th>2019</th>\n",
       "      <td>91369.261848</td>\n",
       "      <td>4627.798345</td>\n",
       "    </tr>\n",
       "  </tbody>\n",
       "</table>\n",
       "</div>"
      ],
      "text/plain": [
       "                      mean       median\n",
       "                box_office   box_office\n",
       "year_rental                            \n",
       "2010             23.130038     1.700000\n",
       "2011            129.383165     3.000000\n",
       "2012             54.417898     5.560000\n",
       "2013            161.954925     3.522500\n",
       "2014          26684.415266    18.160000\n",
       "2015          84940.570315  4920.933000\n",
       "2016          91173.533743  3915.041020\n",
       "2017         136032.793326  9968.340000\n",
       "2018         104785.573648  8911.533935\n",
       "2019          91369.261848  4627.798345"
      ]
     },
     "execution_count": 73,
     "metadata": {},
     "output_type": "execute_result"
    }
   ],
   "source": [
    "# с помощью сводной таблицы посчитаем среднее и медиану за каждый год\n",
    "df.pivot_table(index='year_rental', values='box_office', aggfunc=['mean', 'median'])"
   ]
  },
  {
   "cell_type": "markdown",
   "metadata": {},
   "source": [
    "##### Вывод\n",
    "\n",
    "Из сводной таблицы можно заметить, что во всех годах среднее и медиана, даже после очистки выбивающихся значений очень сильно отличается. Это может говорить о том, что в каждом году есть успешные(с большим кассовым сбором) и провальные(c очень низким сбором) фильмы, и разница в цифрах может быть очень огромная. Если судить по медиане, то все таки больше фильмов с низким сбором, чем с высоким."
   ]
  },
  {
   "cell_type": "markdown",
   "metadata": {
    "id": "Ok89WFwJgFyZ"
   },
   "source": [
    "#### Определим, влияет ли возрастное ограничение аудитории («6+», «12+», «16+», «18+» и т. д.) на сборы фильма в прокате в период с 2015 по 2019 год? Фильмы с каким возрастным ограничением собрали больше всего денег в прокате? Посмотрим меняется ли картина в зависимости от года? "
   ]
  },
  {
   "cell_type": "code",
   "execution_count": 74,
   "metadata": {},
   "outputs": [
    {
     "data": {
      "text/plain": [
       "Text(0, 0.5, 'Сумма сборов')"
      ]
     },
     "execution_count": 74,
     "metadata": {},
     "output_type": "execute_result"
    },
    {
     "data": {
      "image/png": "[encoded data removed]",
      "text/plain": [
       "<Figure size 1440x360 with 1 Axes>"
      ]
     },
     "metadata": {
      "needs_background": "light"
     },
     "output_type": "display_data"
    }
   ],
   "source": [
    "# построим график зависимости кассовых сборов от возрастного ограничения, в период с 2015 по 2019 года\n",
    "(df[df['year_rental'].isin(('2015', '2016', '2017', '2018', '2019'))]\n",
    "                             .pivot_table(index='age_restriction', values='box_office', aggfunc='sum')\n",
    "                             .plot( grid=True, figsize=(20, 5)))\n",
    "plt.title('Зависимость кассовых сборов от возрастного ограничения')\n",
    "plt.xlabel('Возрастная категория')\n",
    "plt.ylabel('Сумма сборов')"
   ]
  },
  {
   "cell_type": "markdown",
   "metadata": {},
   "source": [
    "##### Вывод\n",
    "\n",
    "Из графика видно, что возрастное ограничение влияет на кассовые сборы. Больше всего денег собрали фильмы 16+. Это похоже на правду, так как взрослые люди и подростки ходят в кино чаще, и если они идут без детей, то скорее всего они пойдут на более взрослое кино."
   ]
  },
  {
   "cell_type": "code",
   "execution_count": 75,
   "metadata": {},
   "outputs": [
    {
     "data": {
      "text/plain": [
       "<matplotlib.legend.Legend at 0x1fa7a8dbfc8>"
      ]
     },
     "execution_count": 75,
     "metadata": {},
     "output_type": "execute_result"
    },
    {
     "data": {
      "image/png": "[encoded data removed]",
      "text/plain": [
       "<Figure size 1800x720 with 1 Axes>"
      ]
     },
     "metadata": {
      "needs_background": "light"
     },
     "output_type": "display_data"
    }
   ],
   "source": [
    "# построим график зависимости кассовых сборов от возрастного ограничения для каждого года отдельно и сравним их \n",
    "a = df.query('year_rental == 2010').pivot_table(index='age_restriction', values='box_office', aggfunc='sum')\n",
    "b = df.query('year_rental == 2011').pivot_table(index='age_restriction', values='box_office', aggfunc='sum')\n",
    "c = df.query('year_rental == 2012').pivot_table(index='age_restriction', values='box_office', aggfunc='sum')\n",
    "d = df.query('year_rental == 2013').pivot_table(index='age_restriction', values='box_office', aggfunc='sum')\n",
    "e = df.query('year_rental == 2014').pivot_table(index='age_restriction', values='box_office', aggfunc='sum')\n",
    "f = df.query('year_rental == 2015').pivot_table(index='age_restriction', values='box_office', aggfunc='sum')\n",
    "g = df.query('year_rental == 2016').pivot_table(index='age_restriction', values='box_office', aggfunc='sum')\n",
    "h = df.query('year_rental == 2017').pivot_table(index='age_restriction', values='box_office', aggfunc='sum')\n",
    "i = df.query('year_rental == 2018').pivot_table(index='age_restriction', values='box_office', aggfunc='sum')\n",
    "j = df.query('year_rental == 2019').pivot_table(index='age_restriction', values='box_office', aggfunc='sum')\n",
    "\n",
    "plt.show()\n",
    "\n",
    "ax = a.plot(y = 'box_office', grid=True, style='o-', label='2010', figsize=(15, 15), title='График сравнения кассовых сборов от года проката')\n",
    "b.plot(y = 'box_office', grid=True, style='x-', ax=ax, label='2011', figsize=(25, 10), legend=True)\n",
    "c.plot(y = 'box_office', grid=True, style='o-', ax=ax, label='2012', figsize=(25, 10), legend=True)\n",
    "d.plot(y = 'box_office', grid=True, style='x-', ax=ax, label='2013', figsize=(25, 10), legend=True)\n",
    "e.plot(y = 'box_office', grid=True, style='o-', ax=ax, label='2014', figsize=(25, 10), legend=True)\n",
    "f.plot(y = 'box_office', grid=True, style='x-', ax=ax, label='2015', figsize=(25, 10), legend=True)\n",
    "g.plot(y = 'box_office', grid=True, style='x-', ax=ax, label='2016', figsize=(25, 10), legend=True)\n",
    "h.plot(y = 'box_office', grid=True, style='x-', ax=ax, label='2017', figsize=(25, 10), legend=True)\n",
    "i.plot(y = 'box_office', grid=True, style='x-', ax=ax, label='2018', figsize=(25, 10), legend=True)\n",
    "j.plot(y = 'box_office', grid=True, style='x-', ax=ax, label='2019', figsize=(25, 10), legend=True)\n",
    "\n",
    "plt.legend(loc=2, prop={'size': 15})"
   ]
  },
  {
   "cell_type": "markdown",
   "metadata": {},
   "source": [
    "##### Вывод\n",
    "\n",
    "По объединенному графику видно, в 2019 году больше сборов собрали фильмы возрастной категории 6+, 12+, 16+.\n",
    "\n",
    "В 2018 и 2016 годах больше собрали фильмы 16+.\n",
    "\n",
    "В 2017 году с большим отрывом собрали фильмы 16+. \n",
    "\n",
    "В 2015 году больше кассовых сборов собрали фильмы 12+.\n",
    "\n",
    "В 2014 году примерно наравне собрали больше сборов фильмы 12+ и 18+.\n",
    "\n",
    "Во всех годах всех меньше собирают фильмы 0+.\n",
    "\n",
    "Так как данных о сборах очень мало с 2010 по 2013 года, то графики почти горизонтальны и стремятся к нолю. Не уверена, что корректно было бы утверждать как сборы влияют от возрастного ограничения в эти периоды."
   ]
  },
  {
   "cell_type": "markdown",
   "metadata": {
    "id": "l_Kg6Ku4gFya"
   },
   "source": [
    "### Исследование фильмов, которые получили государственную поддержку\n",
    "\n",
    "На этом этапе нет конкретных инструкций и заданий — поищите интересные закономерности в данных. Посмотрите, сколько выделяют средств на поддержку кино. Проверьте, хорошо ли окупаются такие фильмы, какой у них рейтинг."
   ]
  },
  {
   "cell_type": "markdown",
   "metadata": {},
   "source": [
    "#### Поиск интересных закономерностей"
   ]
  },
  {
   "cell_type": "code",
   "execution_count": 76,
   "metadata": {
    "id": "W9QKpjUdgFyb"
   },
   "outputs": [
    {
     "data": {
      "text/html": [
       "<div>\n",
       "<style scoped>\n",
       "    .dataframe tbody tr th:only-of-type {\n",
       "        vertical-align: middle;\n",
       "    }\n",
       "\n",
       "    .dataframe tbody tr th {\n",
       "        vertical-align: top;\n",
       "    }\n",
       "\n",
       "    .dataframe thead th {\n",
       "        text-align: right;\n",
       "    }\n",
       "</style>\n",
       "<table border=\"1\" class=\"dataframe\">\n",
       "  <thead>\n",
       "    <tr style=\"text-align: right;\">\n",
       "      <th></th>\n",
       "      <th>title</th>\n",
       "      <th>pu_number</th>\n",
       "      <th>show_start_date</th>\n",
       "      <th>type</th>\n",
       "      <th>film_studio</th>\n",
       "      <th>production_country</th>\n",
       "      <th>director</th>\n",
       "      <th>producer</th>\n",
       "      <th>age_restriction</th>\n",
       "      <th>refundable_support</th>\n",
       "      <th>...</th>\n",
       "      <th>age_group</th>\n",
       "      <th>year_rental</th>\n",
       "      <th>director_one</th>\n",
       "      <th>genres_one</th>\n",
       "      <th>film_studio_one</th>\n",
       "      <th>production_country_one</th>\n",
       "      <th>producer_one</th>\n",
       "      <th>financing_source_one</th>\n",
       "      <th>ratio_support</th>\n",
       "      <th>sum_support</th>\n",
       "    </tr>\n",
       "  </thead>\n",
       "  <tbody>\n",
       "    <tr>\n",
       "      <th>2541</th>\n",
       "      <td>Зеленая Карета</td>\n",
       "      <td>111009715</td>\n",
       "      <td>2015-06-01 12:00:00+00:00</td>\n",
       "      <td>Художественный</td>\n",
       "      <td>ООО \"Пропеллер продакшн\", ООО \"Революция Фильм...</td>\n",
       "      <td>Россия</td>\n",
       "      <td>С.Комаров, О.Асадулин</td>\n",
       "      <td>Р.Давлетьяров, А.Алькема, Г.Подземельный, В.Ма...</td>\n",
       "      <td>«16+» - для детей старше 16 лет</td>\n",
       "      <td>0.0</td>\n",
       "      <td>...</td>\n",
       "      <td>16</td>\n",
       "      <td>2015</td>\n",
       "      <td>С.Комаров</td>\n",
       "      <td>драма</td>\n",
       "      <td>ООО \"Пропеллер продакшн\"</td>\n",
       "      <td>Россия</td>\n",
       "      <td>Р.Давлетьяров</td>\n",
       "      <td>Министерство культуры</td>\n",
       "      <td>69</td>\n",
       "      <td>26950.0</td>\n",
       "    </tr>\n",
       "    <tr>\n",
       "      <th>3255</th>\n",
       "      <td>Время первых (2017)</td>\n",
       "      <td>111001317</td>\n",
       "      <td>2017-02-21 12:00:00+00:00</td>\n",
       "      <td>Художественный</td>\n",
       "      <td>ООО \"ТаББаК\", ООО \"Студия Третий Рим\"</td>\n",
       "      <td>Россия</td>\n",
       "      <td>Д.Киселев</td>\n",
       "      <td>Т.Бекмамбетов, Е.Миронов</td>\n",
       "      <td>«6+» - для детей старше 6 лет</td>\n",
       "      <td>75000.0</td>\n",
       "      <td>...</td>\n",
       "      <td>6</td>\n",
       "      <td>2017</td>\n",
       "      <td>Д.Киселев</td>\n",
       "      <td>приключения</td>\n",
       "      <td>ООО \"ТаББаК\"</td>\n",
       "      <td>Россия</td>\n",
       "      <td>Т.Бекмамбетов</td>\n",
       "      <td>Фонд кино</td>\n",
       "      <td>47</td>\n",
       "      <td>250000.0</td>\n",
       "    </tr>\n",
       "    <tr>\n",
       "      <th>6261</th>\n",
       "      <td>ПАПА, СДОХНИ</td>\n",
       "      <td>111015018</td>\n",
       "      <td>2018-08-13 12:00:00+00:00</td>\n",
       "      <td>Художественный</td>\n",
       "      <td>ООО \"Белое Зеркало, ООО \"Продюсерский центр \"П...</td>\n",
       "      <td>Россия</td>\n",
       "      <td>К.Соколов</td>\n",
       "      <td>С.Кикнавелидзе</td>\n",
       "      <td>«18+» - запрещено для детей</td>\n",
       "      <td>0.0</td>\n",
       "      <td>...</td>\n",
       "      <td>18</td>\n",
       "      <td>2018</td>\n",
       "      <td>К.Соколов</td>\n",
       "      <td>комедия</td>\n",
       "      <td>ООО \"Белое Зеркало</td>\n",
       "      <td>Россия</td>\n",
       "      <td>С.Кикнавелидзе</td>\n",
       "      <td>Министерство культуры</td>\n",
       "      <td>55</td>\n",
       "      <td>25000.0</td>\n",
       "    </tr>\n",
       "    <tr>\n",
       "      <th>5921</th>\n",
       "      <td>Глубокие реки</td>\n",
       "      <td>111007518</td>\n",
       "      <td>2018-06-06 12:00:00+00:00</td>\n",
       "      <td>Художественный</td>\n",
       "      <td>НФ \"Пример интонации  (Фонд Александра Сокурова)\"</td>\n",
       "      <td>Россия</td>\n",
       "      <td>В.Битоков</td>\n",
       "      <td>Н.Янкин</td>\n",
       "      <td>«16+» - для детей старше 16 лет</td>\n",
       "      <td>0.0</td>\n",
       "      <td>...</td>\n",
       "      <td>16</td>\n",
       "      <td>2018</td>\n",
       "      <td>В.Битоков</td>\n",
       "      <td>драма</td>\n",
       "      <td>НФ \"Пример интонации  (Фонд Александра Сокурова)\"</td>\n",
       "      <td>Россия</td>\n",
       "      <td>Н.Янкин</td>\n",
       "      <td>Министерство культуры</td>\n",
       "      <td>66</td>\n",
       "      <td>25000.0</td>\n",
       "    </tr>\n",
       "    <tr>\n",
       "      <th>6823</th>\n",
       "      <td>Большое путешествие</td>\n",
       "      <td>114002419</td>\n",
       "      <td>2019-04-20 12:00:00+00:00</td>\n",
       "      <td>Анимационный</td>\n",
       "      <td>ООО \"ЛИЦЕНЗИОННЫЕ БРЕНДЫ\"</td>\n",
       "      <td>Россия</td>\n",
       "      <td>Н.Лопато, В.Ровенский</td>\n",
       "      <td>ООО \"ЛИЦЕНЗИОННЫЕ БРЕНДЫ\"</td>\n",
       "      <td>«6+» - для детей старше 6 лет</td>\n",
       "      <td>60000.0</td>\n",
       "      <td>...</td>\n",
       "      <td>6</td>\n",
       "      <td>2019</td>\n",
       "      <td>Н.Лопато</td>\n",
       "      <td>мультфильм</td>\n",
       "      <td>ООО \"ЛИЦЕНЗИОННЫЕ БРЕНДЫ\"</td>\n",
       "      <td>Россия</td>\n",
       "      <td>ООО \"ЛИЦЕНЗИОННЫЕ БРЕНДЫ\"</td>\n",
       "      <td>Фонд кино</td>\n",
       "      <td>100</td>\n",
       "      <td>180000.0</td>\n",
       "    </tr>\n",
       "  </tbody>\n",
       "</table>\n",
       "<p>5 rows × 26 columns</p>\n",
       "</div>"
      ],
      "text/plain": [
       "                    title  pu_number           show_start_date  \\\n",
       "2541       Зеленая Карета  111009715 2015-06-01 12:00:00+00:00   \n",
       "3255  Время первых (2017)  111001317 2017-02-21 12:00:00+00:00   \n",
       "6261         ПАПА, СДОХНИ  111015018 2018-08-13 12:00:00+00:00   \n",
       "5921        Глубокие реки  111007518 2018-06-06 12:00:00+00:00   \n",
       "6823  Большое путешествие  114002419 2019-04-20 12:00:00+00:00   \n",
       "\n",
       "                type                                        film_studio  \\\n",
       "2541  Художественный  ООО \"Пропеллер продакшн\", ООО \"Революция Фильм...   \n",
       "3255  Художественный              ООО \"ТаББаК\", ООО \"Студия Третий Рим\"   \n",
       "6261  Художественный  ООО \"Белое Зеркало, ООО \"Продюсерский центр \"П...   \n",
       "5921  Художественный  НФ \"Пример интонации  (Фонд Александра Сокурова)\"   \n",
       "6823    Анимационный                          ООО \"ЛИЦЕНЗИОННЫЕ БРЕНДЫ\"   \n",
       "\n",
       "     production_country               director  \\\n",
       "2541             Россия  С.Комаров, О.Асадулин   \n",
       "3255             Россия              Д.Киселев   \n",
       "6261             Россия              К.Соколов   \n",
       "5921             Россия              В.Битоков   \n",
       "6823             Россия  Н.Лопато, В.Ровенский   \n",
       "\n",
       "                                               producer  \\\n",
       "2541  Р.Давлетьяров, А.Алькема, Г.Подземельный, В.Ма...   \n",
       "3255                           Т.Бекмамбетов, Е.Миронов   \n",
       "6261                                     С.Кикнавелидзе   \n",
       "5921                                            Н.Янкин   \n",
       "6823                          ООО \"ЛИЦЕНЗИОННЫЕ БРЕНДЫ\"   \n",
       "\n",
       "                      age_restriction  refundable_support  ...  age_group  \\\n",
       "2541  «16+» - для детей старше 16 лет                 0.0  ...         16   \n",
       "3255    «6+» - для детей старше 6 лет             75000.0  ...          6   \n",
       "6261      «18+» - запрещено для детей                 0.0  ...         18   \n",
       "5921  «16+» - для детей старше 16 лет                 0.0  ...         16   \n",
       "6823    «6+» - для детей старше 6 лет             60000.0  ...          6   \n",
       "\n",
       "      year_rental director_one   genres_one  \\\n",
       "2541         2015    С.Комаров        драма   \n",
       "3255         2017    Д.Киселев  приключения   \n",
       "6261         2018    К.Соколов      комедия   \n",
       "5921         2018    В.Битоков        драма   \n",
       "6823         2019     Н.Лопато   мультфильм   \n",
       "\n",
       "                                        film_studio_one  \\\n",
       "2541                           ООО \"Пропеллер продакшн\"   \n",
       "3255                                       ООО \"ТаББаК\"   \n",
       "6261                                 ООО \"Белое Зеркало   \n",
       "5921  НФ \"Пример интонации  (Фонд Александра Сокурова)\"   \n",
       "6823                          ООО \"ЛИЦЕНЗИОННЫЕ БРЕНДЫ\"   \n",
       "\n",
       "      production_country_one               producer_one  \\\n",
       "2541                  Россия              Р.Давлетьяров   \n",
       "3255                  Россия              Т.Бекмамбетов   \n",
       "6261                  Россия             С.Кикнавелидзе   \n",
       "5921                  Россия                    Н.Янкин   \n",
       "6823                  Россия  ООО \"ЛИЦЕНЗИОННЫЕ БРЕНДЫ\"   \n",
       "\n",
       "       financing_source_one ratio_support sum_support  \n",
       "2541  Министерство культуры            69     26950.0  \n",
       "3255              Фонд кино            47    250000.0  \n",
       "6261  Министерство культуры            55     25000.0  \n",
       "5921  Министерство культуры            66     25000.0  \n",
       "6823              Фонд кино           100    180000.0  \n",
       "\n",
       "[5 rows x 26 columns]"
      ]
     },
     "execution_count": 76,
     "metadata": {},
     "output_type": "execute_result"
    }
   ],
   "source": [
    "# создадим таблицу, куда включим только те фильмы, которым оказывалась гос. поддержка\n",
    "state_support = df.query('(nonrefundable_support !=0) or (refundable_support !=0)')\n",
    "state_support.sample(5)"
   ]
  },
  {
   "cell_type": "code",
   "execution_count": 77,
   "metadata": {},
   "outputs": [
    {
     "data": {
      "text/plain": [
       "Text(0, 0.5, 'сумма гос. поддержка')"
      ]
     },
     "execution_count": 77,
     "metadata": {},
     "output_type": "execute_result"
    },
    {
     "data": {
      "image/png": "[encoded data removed]",
      "text/plain": [
       "<Figure size 1080x360 with 1 Axes>"
      ]
     },
     "metadata": {
      "needs_background": "light"
     },
     "output_type": "display_data"
    }
   ],
   "source": [
    "# посмотрим в какие года и в каком объеме оказывалась гос. поддержка нашего кино\n",
    "(\n",
    " state_support.pivot_table(index='year_rental', values='sum_support')\n",
    "              .plot(grid=True, style='o-', figsize=(15, 5))\n",
    ")\n",
    "plt.title('График зависимости в какие года была оказана гос. поддержка')\n",
    "plt.xlabel('Года')\n",
    "plt.ylabel('сумма гос. поддержка')"
   ]
  },
  {
   "cell_type": "code",
   "execution_count": 78,
   "metadata": {},
   "outputs": [
    {
     "data": {
      "text/html": [
       "<div>\n",
       "<style scoped>\n",
       "    .dataframe tbody tr th:only-of-type {\n",
       "        vertical-align: middle;\n",
       "    }\n",
       "\n",
       "    .dataframe tbody tr th {\n",
       "        vertical-align: top;\n",
       "    }\n",
       "\n",
       "    .dataframe thead th {\n",
       "        text-align: right;\n",
       "    }\n",
       "</style>\n",
       "<table border=\"1\" class=\"dataframe\">\n",
       "  <thead>\n",
       "    <tr style=\"text-align: right;\">\n",
       "      <th></th>\n",
       "      <th>sum_support</th>\n",
       "    </tr>\n",
       "    <tr>\n",
       "      <th>genres</th>\n",
       "      <th></th>\n",
       "    </tr>\n",
       "  </thead>\n",
       "  <tbody>\n",
       "    <tr>\n",
       "      <th>драма</th>\n",
       "      <td>2341949.180</td>\n",
       "    </tr>\n",
       "    <tr>\n",
       "      <th>комедия</th>\n",
       "      <td>1229749.000</td>\n",
       "    </tr>\n",
       "    <tr>\n",
       "      <th>комедия,мелодрама</th>\n",
       "      <td>704200.000</td>\n",
       "    </tr>\n",
       "    <tr>\n",
       "      <th>мультфильм,комедия,приключения</th>\n",
       "      <td>560000.000</td>\n",
       "    </tr>\n",
       "    <tr>\n",
       "      <th>история,биография,драма</th>\n",
       "      <td>500000.000</td>\n",
       "    </tr>\n",
       "    <tr>\n",
       "      <th>фантастика,боевик</th>\n",
       "      <td>500000.000</td>\n",
       "    </tr>\n",
       "    <tr>\n",
       "      <th>unknown</th>\n",
       "      <td>481000.000</td>\n",
       "    </tr>\n",
       "    <tr>\n",
       "      <th>драма,триллер,приключения</th>\n",
       "      <td>442104.482</td>\n",
       "    </tr>\n",
       "    <tr>\n",
       "      <th>спорт,драма</th>\n",
       "      <td>440000.000</td>\n",
       "    </tr>\n",
       "    <tr>\n",
       "      <th>драма,спорт</th>\n",
       "      <td>420000.000</td>\n",
       "    </tr>\n",
       "  </tbody>\n",
       "</table>\n",
       "</div>"
      ],
      "text/plain": [
       "                                sum_support\n",
       "genres                                     \n",
       "драма                           2341949.180\n",
       "комедия                         1229749.000\n",
       "комедия,мелодрама                704200.000\n",
       "мультфильм,комедия,приключения   560000.000\n",
       "история,биография,драма          500000.000\n",
       "фантастика,боевик                500000.000\n",
       "unknown                          481000.000\n",
       "драма,триллер,приключения        442104.482\n",
       "спорт,драма                      440000.000\n",
       "драма,спорт                      420000.000"
      ]
     },
     "execution_count": 78,
     "metadata": {},
     "output_type": "execute_result"
    }
   ],
   "source": [
    "# посмотрим на какие жанры больше всего оказывается поддержка и в каком объеме \n",
    "(\n",
    "state_support.pivot_table(index='genres', values='sum_support', aggfunc='sum')\n",
    "             .sort_values(by='sum_support', ascending=False).head(10)\n",
    ")    "
   ]
  },
  {
   "cell_type": "code",
   "execution_count": 79,
   "metadata": {},
   "outputs": [
    {
     "data": {
      "text/html": [
       "<div>\n",
       "<style scoped>\n",
       "    .dataframe tbody tr th:only-of-type {\n",
       "        vertical-align: middle;\n",
       "    }\n",
       "\n",
       "    .dataframe tbody tr th {\n",
       "        vertical-align: top;\n",
       "    }\n",
       "\n",
       "    .dataframe thead th {\n",
       "        text-align: right;\n",
       "    }\n",
       "</style>\n",
       "<table border=\"1\" class=\"dataframe\">\n",
       "  <thead>\n",
       "    <tr style=\"text-align: right;\">\n",
       "      <th></th>\n",
       "      <th>nonrefundable_support</th>\n",
       "      <th>refundable_support</th>\n",
       "    </tr>\n",
       "    <tr>\n",
       "      <th>financing_source</th>\n",
       "      <th></th>\n",
       "      <th></th>\n",
       "    </tr>\n",
       "  </thead>\n",
       "  <tbody>\n",
       "    <tr>\n",
       "      <th>Фонд кино</th>\n",
       "      <td>1.056510e+07</td>\n",
       "      <td>3613500.0</td>\n",
       "    </tr>\n",
       "    <tr>\n",
       "      <th>Министерство культуры, Фонд кино</th>\n",
       "      <td>8.599314e+05</td>\n",
       "      <td>325500.0</td>\n",
       "    </tr>\n",
       "    <tr>\n",
       "      <th>Министерство культуры</th>\n",
       "      <td>4.836661e+06</td>\n",
       "      <td>0.0</td>\n",
       "    </tr>\n",
       "  </tbody>\n",
       "</table>\n",
       "</div>"
      ],
      "text/plain": [
       "                                  nonrefundable_support  refundable_support\n",
       "financing_source                                                           \n",
       "Фонд кино                                  1.056510e+07           3613500.0\n",
       "Министерство культуры, Фонд кино           8.599314e+05            325500.0\n",
       "Министерство культуры                      4.836661e+06                 0.0"
      ]
     },
     "execution_count": 79,
     "metadata": {},
     "output_type": "execute_result"
    }
   ],
   "source": [
    "# соберем сводную таблицу по источникам финансирования и посмотрим более дательно кто и сколько финансирует\n",
    "(\n",
    "state_support.pivot_table(index='financing_source', values=['refundable_support']+['nonrefundable_support'], aggfunc='sum')\n",
    "             .sort_values(by=['refundable_support']+['nonrefundable_support'], ascending=False).head(10)\n",
    ") "
   ]
  },
  {
   "cell_type": "markdown",
   "metadata": {},
   "source": [
    "##### Вывод\n",
    "\n",
    "* Фильмы начали получать гос. финансирование только с 2013 года\n",
    "\n",
    "* Большую часть финансирования, возвращать не надо.\n",
    "\n",
    "* В 2017 году было выделено больше всего средств на поддержку кино.\n",
    "\n",
    "* Всех меньше средств было выделено в 2014 году.\n",
    "\n",
    "* Больше всего поддерживаются государством фильмы в жанрах - комедия и драма.\n",
    "\n",
    "* Министерство культуру финансирует фильмы, не требуя возврата.\n"
   ]
  },
  {
   "cell_type": "markdown",
   "metadata": {},
   "source": [
    "#### Просмотреть, сколько средств выделяют на поддержку кино"
   ]
  },
  {
   "cell_type": "code",
   "execution_count": 80,
   "metadata": {},
   "outputs": [
    {
     "data": {
      "text/html": [
       "<div>\n",
       "<style scoped>\n",
       "    .dataframe tbody tr th:only-of-type {\n",
       "        vertical-align: middle;\n",
       "    }\n",
       "\n",
       "    .dataframe tbody tr th {\n",
       "        vertical-align: top;\n",
       "    }\n",
       "\n",
       "    .dataframe thead tr th {\n",
       "        text-align: left;\n",
       "    }\n",
       "\n",
       "    .dataframe thead tr:last-of-type th {\n",
       "        text-align: right;\n",
       "    }\n",
       "</style>\n",
       "<table border=\"1\" class=\"dataframe\">\n",
       "  <thead>\n",
       "    <tr>\n",
       "      <th></th>\n",
       "      <th>mean</th>\n",
       "      <th>median</th>\n",
       "    </tr>\n",
       "    <tr>\n",
       "      <th></th>\n",
       "      <th>ratio_support</th>\n",
       "      <th>ratio_support</th>\n",
       "    </tr>\n",
       "    <tr>\n",
       "      <th>year_rental</th>\n",
       "      <th></th>\n",
       "      <th></th>\n",
       "    </tr>\n",
       "  </thead>\n",
       "  <tbody>\n",
       "    <tr>\n",
       "      <th>2013</th>\n",
       "      <td>47.000000</td>\n",
       "      <td>47.0</td>\n",
       "    </tr>\n",
       "    <tr>\n",
       "      <th>2014</th>\n",
       "      <td>54.750000</td>\n",
       "      <td>57.5</td>\n",
       "    </tr>\n",
       "    <tr>\n",
       "      <th>2015</th>\n",
       "      <td>55.744186</td>\n",
       "      <td>62.0</td>\n",
       "    </tr>\n",
       "    <tr>\n",
       "      <th>2016</th>\n",
       "      <td>56.983607</td>\n",
       "      <td>64.0</td>\n",
       "    </tr>\n",
       "    <tr>\n",
       "      <th>2017</th>\n",
       "      <td>50.146341</td>\n",
       "      <td>52.0</td>\n",
       "    </tr>\n",
       "    <tr>\n",
       "      <th>2018</th>\n",
       "      <td>54.000000</td>\n",
       "      <td>59.0</td>\n",
       "    </tr>\n",
       "    <tr>\n",
       "      <th>2019</th>\n",
       "      <td>51.557143</td>\n",
       "      <td>58.5</td>\n",
       "    </tr>\n",
       "  </tbody>\n",
       "</table>\n",
       "</div>"
      ],
      "text/plain": [
       "                     mean        median\n",
       "            ratio_support ratio_support\n",
       "year_rental                            \n",
       "2013            47.000000          47.0\n",
       "2014            54.750000          57.5\n",
       "2015            55.744186          62.0\n",
       "2016            56.983607          64.0\n",
       "2017            50.146341          52.0\n",
       "2018            54.000000          59.0\n",
       "2019            51.557143          58.5"
      ]
     },
     "execution_count": 80,
     "metadata": {},
     "output_type": "execute_result"
    }
   ],
   "source": [
    "# посмотрим кукую долю выделяют средств для поддержки кино, при помощи сводной таблицы \n",
    "state_support.pivot_table(index=['year_rental'], values='ratio_support', aggfunc=['mean', 'median'])"
   ]
  },
  {
   "cell_type": "code",
   "execution_count": 81,
   "metadata": {},
   "outputs": [
    {
     "data": {
      "text/plain": [
       "Text(0, 0.5, 'доля гос. поддержка')"
      ]
     },
     "execution_count": 81,
     "metadata": {},
     "output_type": "execute_result"
    },
    {
     "data": {
      "image/png": "[encoded data removed]",
      "text/plain": [
       "<Figure size 1080x360 with 1 Axes>"
      ]
     },
     "metadata": {
      "needs_background": "light"
     },
     "output_type": "display_data"
    }
   ],
   "source": [
    "# посмотрим в какие года и какую долю составляет гос. поддержка нашего кино\n",
    "(\n",
    " state_support.pivot_table(index='year_rental', values=['ratio_support'])\n",
    "              .plot(grid=True, style='o-', figsize=(15, 5))\n",
    ")\n",
    "plt.title('График зависимости в какие года была оказана гос. поддержка')\n",
    "plt.xlabel('Года')\n",
    "plt.ylabel('доля гос. поддержка')"
   ]
  },
  {
   "cell_type": "markdown",
   "metadata": {},
   "source": [
    "##### Вывод\n",
    "\n",
    "График наглядно показывает, что рост поддержки нарастал с 2013 по 2016, далее пошел на спад. Самою большую долю выделяли в 2016 году.\n",
    "\n",
    "Самый маленькая доля от общего бюджета фильмов, выделялась в 2017 году, но в рублевом отношении это был самым удачным годом для фильмов, получивших поддержку. "
   ]
  },
  {
   "cell_type": "markdown",
   "metadata": {},
   "source": [
    "#### Проверка, хорошо ли окупаются такие фильмы, какой у них рейтинг"
   ]
  },
  {
   "cell_type": "code",
   "execution_count": 82,
   "metadata": {},
   "outputs": [
    {
     "data": {
      "text/html": [
       "<div>\n",
       "<style scoped>\n",
       "    .dataframe tbody tr th:only-of-type {\n",
       "        vertical-align: middle;\n",
       "    }\n",
       "\n",
       "    .dataframe tbody tr th {\n",
       "        vertical-align: top;\n",
       "    }\n",
       "\n",
       "    .dataframe thead th {\n",
       "        text-align: right;\n",
       "    }\n",
       "</style>\n",
       "<table border=\"1\" class=\"dataframe\">\n",
       "  <thead>\n",
       "    <tr style=\"text-align: right;\">\n",
       "      <th></th>\n",
       "      <th>title</th>\n",
       "      <th>pu_number</th>\n",
       "      <th>show_start_date</th>\n",
       "      <th>type</th>\n",
       "      <th>film_studio</th>\n",
       "      <th>production_country</th>\n",
       "      <th>director</th>\n",
       "      <th>producer</th>\n",
       "      <th>age_restriction</th>\n",
       "      <th>refundable_support</th>\n",
       "      <th>...</th>\n",
       "      <th>year_rental</th>\n",
       "      <th>director_one</th>\n",
       "      <th>genres_one</th>\n",
       "      <th>film_studio_one</th>\n",
       "      <th>production_country_one</th>\n",
       "      <th>producer_one</th>\n",
       "      <th>financing_source_one</th>\n",
       "      <th>ratio_support</th>\n",
       "      <th>sum_support</th>\n",
       "      <th>payback</th>\n",
       "    </tr>\n",
       "  </thead>\n",
       "  <tbody>\n",
       "    <tr>\n",
       "      <th>1281</th>\n",
       "      <td>Пока еще жива</td>\n",
       "      <td>111005313</td>\n",
       "      <td>2013-10-11 12:00:00+00:00</td>\n",
       "      <td>Художественный</td>\n",
       "      <td>АНО содействия развитию кинематографии \"Ангел-...</td>\n",
       "      <td>Россия</td>\n",
       "      <td>А.Атанесян</td>\n",
       "      <td>А.Атанесян, М.Бабаханов, Р.Бутко</td>\n",
       "      <td>«16+» - для детей старше 16 лет</td>\n",
       "      <td>0.0</td>\n",
       "      <td>...</td>\n",
       "      <td>2013</td>\n",
       "      <td>А.Атанесян</td>\n",
       "      <td>драма</td>\n",
       "      <td>АНО содействия развитию кинематографии \"Ангел-...</td>\n",
       "      <td>Россия</td>\n",
       "      <td>А.Атанесян</td>\n",
       "      <td>Министерство культуры</td>\n",
       "      <td>33</td>\n",
       "      <td>26500.000</td>\n",
       "      <td>фильм не окупился</td>\n",
       "    </tr>\n",
       "    <tr>\n",
       "      <th>1448</th>\n",
       "      <td>Бесславные придурки</td>\n",
       "      <td>111003314</td>\n",
       "      <td>2014-03-28 12:00:00+00:00</td>\n",
       "      <td>Художественный</td>\n",
       "      <td>ООО \"Компания \"АТК-Студио\"</td>\n",
       "      <td>Россия</td>\n",
       "      <td>А.Якимчук</td>\n",
       "      <td>А.Тютрюмов</td>\n",
       "      <td>«12+» - для детей старше 12 лет</td>\n",
       "      <td>0.0</td>\n",
       "      <td>...</td>\n",
       "      <td>2014</td>\n",
       "      <td>А.Якимчук</td>\n",
       "      <td>unknown</td>\n",
       "      <td>ООО \"Компания \"АТК-Студио\"</td>\n",
       "      <td>Россия</td>\n",
       "      <td>А.Тютрюмов</td>\n",
       "      <td>Министерство культуры</td>\n",
       "      <td>70</td>\n",
       "      <td>26000.000</td>\n",
       "      <td>фильм не окупился</td>\n",
       "    </tr>\n",
       "    <tr>\n",
       "      <th>1498</th>\n",
       "      <td>Невидимки</td>\n",
       "      <td>111004213</td>\n",
       "      <td>2013-09-10 12:00:00+00:00</td>\n",
       "      <td>Художественный</td>\n",
       "      <td>ООО \"Компания \"РЕАЛ-ДАКОТА\"</td>\n",
       "      <td>Россия</td>\n",
       "      <td>Р.Давлетьяров, С.Комаров</td>\n",
       "      <td>Р.Давлетьяров, А.Котелевский, А.Олейников</td>\n",
       "      <td>«12+» - для детей старше 12 лет</td>\n",
       "      <td>0.0</td>\n",
       "      <td>...</td>\n",
       "      <td>2013</td>\n",
       "      <td>Р.Давлетьяров</td>\n",
       "      <td>комедия</td>\n",
       "      <td>ООО \"Компания \"РЕАЛ-ДАКОТА\"</td>\n",
       "      <td>Россия</td>\n",
       "      <td>Р.Давлетьяров</td>\n",
       "      <td>Фонд кино</td>\n",
       "      <td>61</td>\n",
       "      <td>107847.945</td>\n",
       "      <td>фильм не окупился</td>\n",
       "    </tr>\n",
       "    <tr>\n",
       "      <th>1524</th>\n",
       "      <td>БЕРЦЫ</td>\n",
       "      <td>111004314</td>\n",
       "      <td>2014-05-05 12:00:00+00:00</td>\n",
       "      <td>Художественный</td>\n",
       "      <td>ООО \"Студия \"Пассажир\"</td>\n",
       "      <td>Россия</td>\n",
       "      <td>Е.Миндадзе (псевдоним Катя Шагалова)</td>\n",
       "      <td>Л.Антонова</td>\n",
       "      <td>«16+» - для детей старше 16 лет</td>\n",
       "      <td>0.0</td>\n",
       "      <td>...</td>\n",
       "      <td>2014</td>\n",
       "      <td>Е.Миндадзе (псевдоним Катя Шагалова)</td>\n",
       "      <td>драма</td>\n",
       "      <td>ООО \"Студия \"Пассажир\"</td>\n",
       "      <td>Россия</td>\n",
       "      <td>Л.Антонова</td>\n",
       "      <td>Министерство культуры</td>\n",
       "      <td>69</td>\n",
       "      <td>28000.000</td>\n",
       "      <td>фильм не окупился</td>\n",
       "    </tr>\n",
       "    <tr>\n",
       "      <th>1792</th>\n",
       "      <td>Братья Ч</td>\n",
       "      <td>111004414</td>\n",
       "      <td>2014-04-23 12:00:00+00:00</td>\n",
       "      <td>Художественный</td>\n",
       "      <td>ООО \"Студия \"Пассажир\"</td>\n",
       "      <td>Россия</td>\n",
       "      <td>М.Угаров</td>\n",
       "      <td>А.Миндадзе, Л.Антонова</td>\n",
       "      <td>«16+» - для детей старше 16 лет</td>\n",
       "      <td>0.0</td>\n",
       "      <td>...</td>\n",
       "      <td>2014</td>\n",
       "      <td>М.Угаров</td>\n",
       "      <td>драма</td>\n",
       "      <td>ООО \"Студия \"Пассажир\"</td>\n",
       "      <td>Россия</td>\n",
       "      <td>А.Миндадзе</td>\n",
       "      <td>Министерство культуры</td>\n",
       "      <td>62</td>\n",
       "      <td>25000.000</td>\n",
       "      <td>фильм не окупился</td>\n",
       "    </tr>\n",
       "  </tbody>\n",
       "</table>\n",
       "<p>5 rows × 27 columns</p>\n",
       "</div>"
      ],
      "text/plain": [
       "                    title  pu_number           show_start_date  \\\n",
       "1281        Пока еще жива  111005313 2013-10-11 12:00:00+00:00   \n",
       "1448  Бесславные придурки  111003314 2014-03-28 12:00:00+00:00   \n",
       "1498            Невидимки  111004213 2013-09-10 12:00:00+00:00   \n",
       "1524                БЕРЦЫ  111004314 2014-05-05 12:00:00+00:00   \n",
       "1792             Братья Ч  111004414 2014-04-23 12:00:00+00:00   \n",
       "\n",
       "                type                                        film_studio  \\\n",
       "1281  Художественный  АНО содействия развитию кинематографии \"Ангел-...   \n",
       "1448  Художественный                         ООО \"Компания \"АТК-Студио\"   \n",
       "1498  Художественный                        ООО \"Компания \"РЕАЛ-ДАКОТА\"   \n",
       "1524  Художественный                             ООО \"Студия \"Пассажир\"   \n",
       "1792  Художественный                             ООО \"Студия \"Пассажир\"   \n",
       "\n",
       "     production_country                              director  \\\n",
       "1281             Россия                            А.Атанесян   \n",
       "1448             Россия                             А.Якимчук   \n",
       "1498             Россия              Р.Давлетьяров, С.Комаров   \n",
       "1524             Россия  Е.Миндадзе (псевдоним Катя Шагалова)   \n",
       "1792             Россия                              М.Угаров   \n",
       "\n",
       "                                       producer  \\\n",
       "1281           А.Атанесян, М.Бабаханов, Р.Бутко   \n",
       "1448                                 А.Тютрюмов   \n",
       "1498  Р.Давлетьяров, А.Котелевский, А.Олейников   \n",
       "1524                                 Л.Антонова   \n",
       "1792                     А.Миндадзе, Л.Антонова   \n",
       "\n",
       "                      age_restriction  refundable_support  ...  year_rental  \\\n",
       "1281  «16+» - для детей старше 16 лет                 0.0  ...         2013   \n",
       "1448  «12+» - для детей старше 12 лет                 0.0  ...         2014   \n",
       "1498  «12+» - для детей старше 12 лет                 0.0  ...         2013   \n",
       "1524  «16+» - для детей старше 16 лет                 0.0  ...         2014   \n",
       "1792  «16+» - для детей старше 16 лет                 0.0  ...         2014   \n",
       "\n",
       "                              director_one genres_one  \\\n",
       "1281                            А.Атанесян      драма   \n",
       "1448                             А.Якимчук    unknown   \n",
       "1498                         Р.Давлетьяров    комедия   \n",
       "1524  Е.Миндадзе (псевдоним Катя Шагалова)      драма   \n",
       "1792                              М.Угаров      драма   \n",
       "\n",
       "                                        film_studio_one  \\\n",
       "1281  АНО содействия развитию кинематографии \"Ангел-...   \n",
       "1448                         ООО \"Компания \"АТК-Студио\"   \n",
       "1498                        ООО \"Компания \"РЕАЛ-ДАКОТА\"   \n",
       "1524                             ООО \"Студия \"Пассажир\"   \n",
       "1792                             ООО \"Студия \"Пассажир\"   \n",
       "\n",
       "     production_country_one   producer_one   financing_source_one  \\\n",
       "1281                 Россия     А.Атанесян  Министерство культуры   \n",
       "1448                 Россия     А.Тютрюмов  Министерство культуры   \n",
       "1498                 Россия  Р.Давлетьяров              Фонд кино   \n",
       "1524                 Россия     Л.Антонова  Министерство культуры   \n",
       "1792                 Россия     А.Миндадзе  Министерство культуры   \n",
       "\n",
       "      ratio_support sum_support            payback  \n",
       "1281             33   26500.000  фильм не окупился  \n",
       "1448             70   26000.000  фильм не окупился  \n",
       "1498             61  107847.945  фильм не окупился  \n",
       "1524             69   28000.000  фильм не окупился  \n",
       "1792             62   25000.000  фильм не окупился  \n",
       "\n",
       "[5 rows x 27 columns]"
      ]
     },
     "execution_count": 82,
     "metadata": {},
     "output_type": "execute_result"
    }
   ],
   "source": [
    "# при помощи функции добавим столбец в таблицу state_support, где фигурируют фильмы только с гос. поддержкой\n",
    "# в столбце будет отражаться окупился фильм или нет, определим это по разности кассовых сборов и общего бюджета\n",
    "def payback(row):\n",
    "\n",
    "    box_office = row['box_office']\n",
    "    budget = row['budget']  \n",
    "    \n",
    "    if (box_office-budget) > 0:  \n",
    "        return 'фильм окупился' \n",
    "    if (box_office-budget) < 0:   \n",
    "        return 'фильм не окупился'\n",
    "\n",
    "state_support['payback'] = state_support.apply(payback, axis=1)\n",
    "state_support.head()"
   ]
  },
  {
   "cell_type": "code",
   "execution_count": 83,
   "metadata": {},
   "outputs": [
    {
     "data": {
      "text/plain": [
       "payback\n",
       "фильм не окупился    238\n",
       "фильм окупился        80\n",
       "Name: type, dtype: int64"
      ]
     },
     "execution_count": 83,
     "metadata": {},
     "output_type": "execute_result"
    }
   ],
   "source": [
    "# посмотрим при помощи группировки таблицы по столбцу payback, какое количество окупилось и какое нет\n",
    "state_support.groupby('payback')['type'].count() "
   ]
  },
  {
   "cell_type": "code",
   "execution_count": 84,
   "metadata": {},
   "outputs": [
    {
     "data": {
      "text/html": [
       "<div>\n",
       "<style scoped>\n",
       "    .dataframe tbody tr th:only-of-type {\n",
       "        vertical-align: middle;\n",
       "    }\n",
       "\n",
       "    .dataframe tbody tr th {\n",
       "        vertical-align: top;\n",
       "    }\n",
       "\n",
       "    .dataframe thead th {\n",
       "        text-align: right;\n",
       "    }\n",
       "</style>\n",
       "<table border=\"1\" class=\"dataframe\">\n",
       "  <thead>\n",
       "    <tr style=\"text-align: right;\">\n",
       "      <th></th>\n",
       "      <th>ratings</th>\n",
       "    </tr>\n",
       "    <tr>\n",
       "      <th>payback</th>\n",
       "      <th></th>\n",
       "    </tr>\n",
       "  </thead>\n",
       "  <tbody>\n",
       "    <tr>\n",
       "      <th>фильм не окупился</th>\n",
       "      <td>6.008482</td>\n",
       "    </tr>\n",
       "    <tr>\n",
       "      <th>фильм окупился</th>\n",
       "      <td>6.054430</td>\n",
       "    </tr>\n",
       "  </tbody>\n",
       "</table>\n",
       "</div>"
      ],
      "text/plain": [
       "                    ratings\n",
       "payback                    \n",
       "фильм не окупился  6.008482\n",
       "фильм окупился     6.054430"
      ]
     },
     "execution_count": 84,
     "metadata": {},
     "output_type": "execute_result"
    }
   ],
   "source": [
    "# создадим сводную таблицу и посмотрим средний рейтинг фильмов, которые окупились и не окупились\n",
    "state_support.query('ratings != 0').pivot_table(index=['payback'], values='ratings')"
   ]
  },
  {
   "cell_type": "code",
   "execution_count": 85,
   "metadata": {},
   "outputs": [
    {
     "data": {
      "text/plain": [
       "5.6599775470109455"
      ]
     },
     "execution_count": 85,
     "metadata": {},
     "output_type": "execute_result"
    }
   ],
   "source": [
    "# посмотрим средний рейтинг фильмов без гос. поддержки\n",
    "df.query('sum_support == 0')['ratings'].mean()"
   ]
  },
  {
   "cell_type": "code",
   "execution_count": 86,
   "metadata": {},
   "outputs": [
    {
     "data": {
      "text/plain": [
       "5.730722891566265"
      ]
     },
     "execution_count": 86,
     "metadata": {},
     "output_type": "execute_result"
    }
   ],
   "source": [
    "# посмотрим средний рейтинг фильмов с гос. поддержки\n",
    "df.query('sum_support != 0')['ratings'].mean()"
   ]
  },
  {
   "cell_type": "markdown",
   "metadata": {},
   "source": [
    "##### Вывод\n",
    "\n",
    "Добавив столбец с категорией окупился или нет фильм, и посчитав количесто в каждой категории,наглядно видно, что неокупившихся фильмов примерно 75%. То есть, в большинстве случаев, все то, что гос. поддержка посчитала нужным финансировать, оказалось убыточным.\n",
    "\n",
    "Интересная закономерность в том, что фильмы не окупившиеся и окупившиеся имеют в среднем почти одинаковый рейтинг.\n",
    "\n",
    "По среднему рейтингу фильмов с поддержкой и без, можно сказать, что фильмы успешные и провальные встречаются и там и там. "
   ]
  },
  {
   "cell_type": "markdown",
   "metadata": {
    "id": "V2gYwMcPgFyd"
   },
   "source": [
    "### Общий вывод\n",
    "\n",
    "I. Предобработка данных:\n",
    "\n",
    "* были удаленны пропуски, состаляющие менее 1%, в столбцах film_studio, production_country и director;\n",
    "\n",
    "* для удобства чтения таблицы все суммы из рублей были переведены в тыс. рублей;\n",
    "\n",
    "* явных дубликатов, выявленно не было, был выделен один неявный дубликат одного и того же фильма, один из них был удален;\n",
    "\n",
    "* были добавленны столбцы к таблице с данными: \n",
    "   * year_rental\t\n",
    "   * director_one\n",
    "   * genres_one\t\n",
    "   * film_studio_one\n",
    "   * production_country_one\n",
    "   * producer_one\n",
    "   * financing_source_one\n",
    "   * ratio_support\t\n",
    "   * sum_support\t\n",
    "   * payback\n",
    "\n",
    "* значения с столбце общего бюджета, которые были меньше гос. поддержки, были откорректированы. \n",
    "\n",
    "II. Исследовательский анализ данных:\n",
    "\n",
    "О выпущенных фильмах с 2010 по 2019 года, можно сделать следующие выводы:\n",
    "\n",
    "* Всех больше фильмов вышло в прокат в кинотеатрах в 2019 году. Всех меньше вышло в 2010 году.\n",
    "\n",
    "* Данные о сборах в кинотеатрах составляют 42,3% от общего числа. Что говорит о том, что меньше половины всех фильмов выходят в кинотеатрах.\n",
    "\n",
    "* Сумма сборов была минимальной в 2010 году, максимальной в 2018 году.\n",
    "\n",
    "* Большой процент пропусков в столбце box_office, говорит о том, что большая часть фильмов не выходила в кинотеатрах, но мы не можем исключить и то, что среди этих пропусков есть, просто утерянные данные. Поэтому  считать полученные данные полностью достоверным не рекомендуется.\n",
    "\n",
    "* Возрастное ограничение влияет на кассовые сборы. Больше всего денег собрали фильмы 16+. За период с 2015 по 2019 года.\n",
    "\n",
    "* Если расматривать каждый год в отдельности, то:\n",
    "\n",
    "   - В 2019 году больше сборов собрали фильмы возрастной категории 6+, 12+, 16+.\n",
    "\n",
    "   - В 2018 и 2016 годах больше собрали фильмы 16+.\n",
    "\n",
    "   - В 2017 году с большим отрывом собрали фильмы 16+. \n",
    "   \n",
    "   - В 2015 году больше кассовых сборов собрали фильмы 12+.\n",
    "   \n",
    "   - В 2014 году примерно наравне собрали больше сборов фильмы 12+ и 18+.\n",
    "    \n",
    "   - Во всех годах всех меньше собирают фильмы 0+.\n",
    "   \n",
    "   - В период с 2010 по 2013 года данных о выпущенных фильмах мало, за данный период сложно утверждать как сборы влияют от возрастного ограничения в эти периоды.\n",
    "   \n",
    "* Рост поддержки нарастал с 2013 по 2016, далее пошел на спад. Самою большую долю выделяли в 2016 году.\n",
    "\n",
    "* Самый маленькая доля от общего бюджета фильмов, выделялась в 2017 году, но в рублевом отношении это был самым удачным годом для фильмов, получивших поддержку. \n",
    "\n",
    "* Неокупившихся фильмов почти 75%. То есть, в большинстве случаев, все то, что гос. поддержка посчитала нужным финансировать, оказалось убыточным.\n",
    "\n",
    "* Интересная закономерность в том, что фильмы не окупившиеся и окупившиеся имеют примерно одинаковый средний рейтинг.\n",
    "\n",
    "* По среднему рейтингу фильмов с поддержкой и без, можно сказать, что фильмы успешные и провальные встречаются и там и там. "
   ]
  },
  {
   "cell_type": "code",
   "execution_count": null,
   "metadata": {},
   "outputs": [],
   "source": []
  }
 ],
 "metadata": {
  "ExecuteTimeLog": [
   {
    "duration": 537,
    "start_time": "2021-07-07T10:12:08.634Z"
   },
   {
    "duration": 206,
    "start_time": "2021-07-07T10:12:30.191Z"
   },
   {
    "duration": 227,
    "start_time": "2021-07-07T10:12:33.078Z"
   },
   {
    "duration": 153,
    "start_time": "2021-07-07T10:13:42.146Z"
   },
   {
    "duration": 233,
    "start_time": "2021-07-07T10:30:09.252Z"
   },
   {
    "duration": 19,
    "start_time": "2021-07-07T10:30:15.577Z"
   },
   {
    "duration": 18,
    "start_time": "2021-07-07T10:30:57.348Z"
   },
   {
    "duration": 19,
    "start_time": "2021-07-07T10:31:17.452Z"
   },
   {
    "duration": 21,
    "start_time": "2021-07-07T10:31:32.227Z"
   },
   {
    "duration": 27,
    "start_time": "2021-07-07T10:32:06.588Z"
   },
   {
    "duration": 23,
    "start_time": "2021-07-07T10:32:43.645Z"
   },
   {
    "duration": 24,
    "start_time": "2021-07-07T10:33:06.948Z"
   },
   {
    "duration": 7,
    "start_time": "2021-07-07T10:33:28.558Z"
   },
   {
    "duration": 23,
    "start_time": "2021-07-07T10:33:43.761Z"
   },
   {
    "duration": 28,
    "start_time": "2021-07-07T10:34:13.466Z"
   },
   {
    "duration": 23,
    "start_time": "2021-07-07T10:35:56.187Z"
   },
   {
    "duration": 6,
    "start_time": "2021-07-07T10:36:48.182Z"
   },
   {
    "duration": 14,
    "start_time": "2021-07-07T10:37:49.641Z"
   },
   {
    "duration": 6,
    "start_time": "2021-07-07T10:38:06.694Z"
   },
   {
    "duration": 6,
    "start_time": "2021-07-07T10:38:13.493Z"
   },
   {
    "duration": 19,
    "start_time": "2021-07-07T10:38:44.056Z"
   },
   {
    "duration": 186,
    "start_time": "2021-07-07T10:48:35.618Z"
   },
   {
    "duration": 24,
    "start_time": "2021-07-07T10:48:51.498Z"
   },
   {
    "duration": 20,
    "start_time": "2021-07-07T10:48:59.415Z"
   },
   {
    "duration": 20,
    "start_time": "2021-07-07T10:53:02.195Z"
   },
   {
    "duration": 188,
    "start_time": "2021-07-07T10:54:40.486Z"
   },
   {
    "duration": 115,
    "start_time": "2021-07-07T10:54:52.552Z"
   },
   {
    "duration": 214,
    "start_time": "2021-07-07T10:54:56.354Z"
   },
   {
    "duration": 47,
    "start_time": "2021-07-07T10:54:58.282Z"
   },
   {
    "duration": 217,
    "start_time": "2021-07-07T10:59:16.075Z"
   },
   {
    "duration": 51,
    "start_time": "2021-07-07T10:59:16.243Z"
   },
   {
    "duration": 578,
    "start_time": "2021-07-07T10:59:18.774Z"
   },
   {
    "duration": 161,
    "start_time": "2021-07-07T10:59:21.238Z"
   },
   {
    "duration": 59,
    "start_time": "2021-07-07T10:59:21.453Z"
   },
   {
    "duration": 3,
    "start_time": "2021-07-07T11:02:10.786Z"
   },
   {
    "duration": 13,
    "start_time": "2021-07-07T11:07:07.722Z"
   },
   {
    "duration": 26,
    "start_time": "2021-07-07T11:07:17.958Z"
   },
   {
    "duration": 22,
    "start_time": "2021-07-07T11:08:17.939Z"
   },
   {
    "duration": 212,
    "start_time": "2021-07-07T11:08:19.665Z"
   },
   {
    "duration": 21,
    "start_time": "2021-07-07T11:08:29.945Z"
   },
   {
    "duration": 31,
    "start_time": "2021-07-07T11:08:38.899Z"
   },
   {
    "duration": 23,
    "start_time": "2021-07-07T11:08:54.527Z"
   },
   {
    "duration": 8,
    "start_time": "2021-07-07T11:18:55.974Z"
   },
   {
    "duration": 7,
    "start_time": "2021-07-07T11:19:03.639Z"
   },
   {
    "duration": 7,
    "start_time": "2021-07-07T11:19:06.444Z"
   },
   {
    "duration": 578,
    "start_time": "2021-07-07T12:09:59.576Z"
   },
   {
    "duration": 195,
    "start_time": "2021-07-07T12:10:00.156Z"
   },
   {
    "duration": 115,
    "start_time": "2021-07-07T12:10:00.353Z"
   },
   {
    "duration": 3,
    "start_time": "2021-07-07T12:10:00.470Z"
   },
   {
    "duration": 32,
    "start_time": "2021-07-07T12:10:00.474Z"
   },
   {
    "duration": 23,
    "start_time": "2021-07-07T12:10:00.508Z"
   },
   {
    "duration": 19,
    "start_time": "2021-07-07T12:10:00.533Z"
   },
   {
    "duration": 44,
    "start_time": "2021-07-07T12:10:00.553Z"
   },
   {
    "duration": 7,
    "start_time": "2021-07-07T12:10:00.600Z"
   },
   {
    "duration": 7,
    "start_time": "2021-07-07T12:19:45.761Z"
   },
   {
    "duration": 21,
    "start_time": "2021-07-07T12:21:35.482Z"
   },
   {
    "duration": 21,
    "start_time": "2021-07-07T12:29:23.569Z"
   },
   {
    "duration": 525,
    "start_time": "2021-07-07T12:29:44.542Z"
   },
   {
    "duration": 214,
    "start_time": "2021-07-07T12:29:45.069Z"
   },
   {
    "duration": 92,
    "start_time": "2021-07-07T12:29:45.285Z"
   },
   {
    "duration": 3,
    "start_time": "2021-07-07T12:29:45.379Z"
   },
   {
    "duration": 28,
    "start_time": "2021-07-07T12:29:45.384Z"
   },
   {
    "duration": 23,
    "start_time": "2021-07-07T12:29:45.413Z"
   },
   {
    "duration": 21,
    "start_time": "2021-07-07T12:29:45.437Z"
   },
   {
    "duration": 41,
    "start_time": "2021-07-07T12:29:45.460Z"
   },
   {
    "duration": 7,
    "start_time": "2021-07-07T12:29:45.502Z"
   },
   {
    "duration": 20,
    "start_time": "2021-07-07T12:29:45.511Z"
   },
   {
    "duration": 12,
    "start_time": "2021-07-07T12:34:02.800Z"
   },
   {
    "duration": 7,
    "start_time": "2021-07-07T12:35:10.479Z"
   },
   {
    "duration": 8,
    "start_time": "2021-07-07T12:35:22.440Z"
   },
   {
    "duration": 6,
    "start_time": "2021-07-07T12:35:35.649Z"
   },
   {
    "duration": 6,
    "start_time": "2021-07-07T12:35:43.107Z"
   },
   {
    "duration": 22,
    "start_time": "2021-07-07T12:38:03.029Z"
   },
   {
    "duration": 10,
    "start_time": "2021-07-07T12:38:06.592Z"
   },
   {
    "duration": 563,
    "start_time": "2021-07-07T12:38:46.493Z"
   },
   {
    "duration": 265,
    "start_time": "2021-07-07T12:38:47.058Z"
   },
   {
    "duration": 94,
    "start_time": "2021-07-07T12:38:47.325Z"
   },
   {
    "duration": 3,
    "start_time": "2021-07-07T12:38:47.422Z"
   },
   {
    "duration": 30,
    "start_time": "2021-07-07T12:38:47.427Z"
   },
   {
    "duration": 16,
    "start_time": "2021-07-07T12:38:53.305Z"
   },
   {
    "duration": 10,
    "start_time": "2021-07-07T12:38:53.499Z"
   },
   {
    "duration": 8,
    "start_time": "2021-07-07T12:39:48.161Z"
   },
   {
    "duration": 27,
    "start_time": "2021-07-07T12:41:17.629Z"
   },
   {
    "duration": 17,
    "start_time": "2021-07-07T12:41:17.867Z"
   },
   {
    "duration": 21,
    "start_time": "2021-07-07T12:41:19.310Z"
   },
   {
    "duration": 7,
    "start_time": "2021-07-07T12:41:19.544Z"
   },
   {
    "duration": 20,
    "start_time": "2021-07-07T12:41:20.504Z"
   },
   {
    "duration": 554,
    "start_time": "2021-07-07T12:56:23.696Z"
   },
   {
    "duration": 200,
    "start_time": "2021-07-07T12:56:25.234Z"
   },
   {
    "duration": 119,
    "start_time": "2021-07-07T12:56:25.480Z"
   },
   {
    "duration": 4,
    "start_time": "2021-07-07T12:56:25.762Z"
   },
   {
    "duration": 26,
    "start_time": "2021-07-07T12:56:27.172Z"
   },
   {
    "duration": 12,
    "start_time": "2021-07-07T12:56:29.051Z"
   },
   {
    "duration": 10,
    "start_time": "2021-07-07T12:56:29.291Z"
   },
   {
    "duration": 8,
    "start_time": "2021-07-07T12:56:29.623Z"
   },
   {
    "duration": 28,
    "start_time": "2021-07-07T12:56:32.137Z"
   },
   {
    "duration": 19,
    "start_time": "2021-07-07T12:56:39.785Z"
   },
   {
    "duration": 20,
    "start_time": "2021-07-07T12:56:44.297Z"
   },
   {
    "duration": 7,
    "start_time": "2021-07-07T12:56:45.392Z"
   },
   {
    "duration": 23,
    "start_time": "2021-07-07T12:56:46.615Z"
   },
   {
    "duration": 4,
    "start_time": "2021-07-07T12:57:06.625Z"
   },
   {
    "duration": 32,
    "start_time": "2021-07-07T12:57:36.690Z"
   },
   {
    "duration": 18,
    "start_time": "2021-07-07T12:58:00.149Z"
   },
   {
    "duration": 15,
    "start_time": "2021-07-07T12:59:16.793Z"
   },
   {
    "duration": 7,
    "start_time": "2021-07-07T13:19:22.624Z"
   },
   {
    "duration": 6,
    "start_time": "2021-07-07T14:17:33.527Z"
   },
   {
    "duration": 9,
    "start_time": "2021-07-07T14:17:48.409Z"
   },
   {
    "duration": 8,
    "start_time": "2021-07-07T14:20:13.060Z"
   },
   {
    "duration": 8,
    "start_time": "2021-07-07T14:20:37.957Z"
   },
   {
    "duration": 8,
    "start_time": "2021-07-07T14:20:47.470Z"
   },
   {
    "duration": 9,
    "start_time": "2021-07-07T14:20:54.503Z"
   },
   {
    "duration": 10,
    "start_time": "2021-07-07T14:28:57.763Z"
   },
   {
    "duration": 3,
    "start_time": "2021-07-07T14:30:23.377Z"
   },
   {
    "duration": 3,
    "start_time": "2021-07-07T14:30:36.489Z"
   },
   {
    "duration": 103,
    "start_time": "2021-07-07T14:30:52.351Z"
   },
   {
    "duration": 8,
    "start_time": "2021-07-07T14:30:54.763Z"
   },
   {
    "duration": 8,
    "start_time": "2021-07-07T14:31:29.301Z"
   },
   {
    "duration": 13,
    "start_time": "2021-07-07T14:31:44.516Z"
   },
   {
    "duration": 7,
    "start_time": "2021-07-07T14:33:10.972Z"
   },
   {
    "duration": 11,
    "start_time": "2021-07-07T14:33:27.780Z"
   },
   {
    "duration": 8,
    "start_time": "2021-07-07T14:34:44.588Z"
   },
   {
    "duration": 57,
    "start_time": "2021-07-07T14:35:59.042Z"
   },
   {
    "duration": 3,
    "start_time": "2021-07-07T14:36:28.168Z"
   },
   {
    "duration": 5,
    "start_time": "2021-07-07T14:36:46.254Z"
   },
   {
    "duration": 4,
    "start_time": "2021-07-07T14:36:52.714Z"
   },
   {
    "duration": 3,
    "start_time": "2021-07-07T14:36:56.612Z"
   },
   {
    "duration": 4,
    "start_time": "2021-07-07T14:36:57.049Z"
   },
   {
    "duration": 3,
    "start_time": "2021-07-07T14:39:21.214Z"
   },
   {
    "duration": 7,
    "start_time": "2021-07-07T14:39:52.406Z"
   },
   {
    "duration": 11,
    "start_time": "2021-07-07T14:39:58.576Z"
   },
   {
    "duration": 9,
    "start_time": "2021-07-07T14:40:26.301Z"
   },
   {
    "duration": 10,
    "start_time": "2021-07-07T14:40:31.704Z"
   },
   {
    "duration": 11,
    "start_time": "2021-07-07T14:40:36.249Z"
   },
   {
    "duration": 10,
    "start_time": "2021-07-07T14:40:39.783Z"
   },
   {
    "duration": 9,
    "start_time": "2021-07-07T14:40:48.558Z"
   },
   {
    "duration": 10,
    "start_time": "2021-07-07T14:40:57.143Z"
   },
   {
    "duration": 9,
    "start_time": "2021-07-07T14:41:06.074Z"
   },
   {
    "duration": 4324,
    "start_time": "2021-07-07T14:41:22.004Z"
   },
   {
    "duration": 11,
    "start_time": "2021-07-07T14:41:33.392Z"
   },
   {
    "duration": 9,
    "start_time": "2021-07-07T14:41:39.288Z"
   },
   {
    "duration": 569,
    "start_time": "2021-07-07T14:42:14.387Z"
   },
   {
    "duration": 197,
    "start_time": "2021-07-07T14:42:14.959Z"
   },
   {
    "duration": 84,
    "start_time": "2021-07-07T14:42:16.052Z"
   },
   {
    "duration": 4,
    "start_time": "2021-07-07T14:42:16.900Z"
   },
   {
    "duration": 27,
    "start_time": "2021-07-07T14:42:19.898Z"
   },
   {
    "duration": 12,
    "start_time": "2021-07-07T14:42:21.577Z"
   },
   {
    "duration": 9,
    "start_time": "2021-07-07T14:42:21.813Z"
   },
   {
    "duration": 9,
    "start_time": "2021-07-07T14:42:22.569Z"
   },
   {
    "duration": 29,
    "start_time": "2021-07-07T14:42:25.837Z"
   },
   {
    "duration": 20,
    "start_time": "2021-07-07T14:42:27.003Z"
   },
   {
    "duration": 21,
    "start_time": "2021-07-07T14:42:28.767Z"
   },
   {
    "duration": 7,
    "start_time": "2021-07-07T14:42:29.838Z"
   },
   {
    "duration": 4,
    "start_time": "2021-07-07T14:43:25.493Z"
   },
   {
    "duration": 7,
    "start_time": "2021-07-07T14:43:26.573Z"
   },
   {
    "duration": 10,
    "start_time": "2021-07-07T14:43:31.639Z"
   },
   {
    "duration": 9,
    "start_time": "2021-07-07T14:43:32.046Z"
   },
   {
    "duration": 10,
    "start_time": "2021-07-07T14:43:33.301Z"
   },
   {
    "duration": 12,
    "start_time": "2021-07-07T14:43:33.658Z"
   },
   {
    "duration": 8,
    "start_time": "2021-07-07T14:43:34.552Z"
   },
   {
    "duration": 9,
    "start_time": "2021-07-07T14:43:35.058Z"
   },
   {
    "duration": 12,
    "start_time": "2021-07-07T14:43:35.914Z"
   },
   {
    "duration": 17,
    "start_time": "2021-07-07T14:45:34.368Z"
   },
   {
    "duration": 512,
    "start_time": "2021-07-07T14:51:58.236Z"
   },
   {
    "duration": 223,
    "start_time": "2021-07-07T14:51:58.750Z"
   },
   {
    "duration": 93,
    "start_time": "2021-07-07T14:51:58.977Z"
   },
   {
    "duration": 4,
    "start_time": "2021-07-07T14:51:59.071Z"
   },
   {
    "duration": 37,
    "start_time": "2021-07-07T14:51:59.077Z"
   },
   {
    "duration": 18,
    "start_time": "2021-07-07T14:51:59.116Z"
   },
   {
    "duration": 10,
    "start_time": "2021-07-07T14:51:59.137Z"
   },
   {
    "duration": 8,
    "start_time": "2021-07-07T14:51:59.149Z"
   },
   {
    "duration": 54,
    "start_time": "2021-07-07T14:51:59.158Z"
   },
   {
    "duration": 18,
    "start_time": "2021-07-07T14:51:59.213Z"
   },
   {
    "duration": 22,
    "start_time": "2021-07-07T14:51:59.232Z"
   },
   {
    "duration": 36,
    "start_time": "2021-07-07T14:51:59.255Z"
   },
   {
    "duration": 7,
    "start_time": "2021-07-07T14:51:59.293Z"
   },
   {
    "duration": 10,
    "start_time": "2021-07-07T14:51:59.302Z"
   },
   {
    "duration": 9,
    "start_time": "2021-07-07T14:51:59.313Z"
   },
   {
    "duration": 11,
    "start_time": "2021-07-07T14:51:59.324Z"
   },
   {
    "duration": 8,
    "start_time": "2021-07-07T14:51:59.337Z"
   },
   {
    "duration": 46,
    "start_time": "2021-07-07T14:51:59.347Z"
   },
   {
    "duration": 22,
    "start_time": "2021-07-07T14:51:59.395Z"
   },
   {
    "duration": 24,
    "start_time": "2021-07-07T14:57:32.911Z"
   },
   {
    "duration": 7,
    "start_time": "2021-07-07T14:58:22.070Z"
   },
   {
    "duration": 4,
    "start_time": "2021-07-07T14:59:11.239Z"
   },
   {
    "duration": 25,
    "start_time": "2021-07-07T15:07:22.208Z"
   },
   {
    "duration": 16,
    "start_time": "2021-07-07T15:08:25.560Z"
   },
   {
    "duration": 15,
    "start_time": "2021-07-07T15:08:40.647Z"
   },
   {
    "duration": 14,
    "start_time": "2021-07-07T15:08:46.669Z"
   },
   {
    "duration": 533,
    "start_time": "2021-07-07T15:18:07.440Z"
   },
   {
    "duration": 173,
    "start_time": "2021-07-07T15:18:07.974Z"
   },
   {
    "duration": 84,
    "start_time": "2021-07-07T15:18:08.149Z"
   },
   {
    "duration": 3,
    "start_time": "2021-07-07T15:18:08.235Z"
   },
   {
    "duration": 30,
    "start_time": "2021-07-07T15:18:08.240Z"
   },
   {
    "duration": 22,
    "start_time": "2021-07-07T15:18:08.272Z"
   },
   {
    "duration": 11,
    "start_time": "2021-07-07T15:18:08.295Z"
   },
   {
    "duration": 11,
    "start_time": "2021-07-07T15:18:08.309Z"
   },
   {
    "duration": 40,
    "start_time": "2021-07-07T15:18:08.322Z"
   },
   {
    "duration": 42,
    "start_time": "2021-07-07T15:18:08.364Z"
   },
   {
    "duration": 22,
    "start_time": "2021-07-07T15:18:08.408Z"
   },
   {
    "duration": 5,
    "start_time": "2021-07-07T15:18:08.432Z"
   },
   {
    "duration": 13,
    "start_time": "2021-07-07T15:18:08.439Z"
   },
   {
    "duration": 9,
    "start_time": "2021-07-07T15:18:08.454Z"
   },
   {
    "duration": 32,
    "start_time": "2021-07-07T15:18:08.465Z"
   },
   {
    "duration": 10,
    "start_time": "2021-07-07T15:18:08.501Z"
   },
   {
    "duration": 7,
    "start_time": "2021-07-07T15:18:08.513Z"
   },
   {
    "duration": 11,
    "start_time": "2021-07-07T15:18:08.521Z"
   },
   {
    "duration": 17,
    "start_time": "2021-07-07T15:18:08.534Z"
   },
   {
    "duration": 44,
    "start_time": "2021-07-07T15:18:08.553Z"
   },
   {
    "duration": 22,
    "start_time": "2021-07-07T15:18:08.599Z"
   },
   {
    "duration": 61,
    "start_time": "2021-07-07T15:18:08.622Z"
   },
   {
    "duration": 7,
    "start_time": "2021-07-07T15:18:39.457Z"
   },
   {
    "duration": 5,
    "start_time": "2021-07-07T16:05:17.020Z"
   },
   {
    "duration": 5,
    "start_time": "2021-07-07T16:51:28.794Z"
   },
   {
    "duration": 546,
    "start_time": "2021-07-07T16:52:26.306Z"
   },
   {
    "duration": 203,
    "start_time": "2021-07-07T16:52:27.523Z"
   },
   {
    "duration": 85,
    "start_time": "2021-07-07T16:52:27.736Z"
   },
   {
    "duration": 4,
    "start_time": "2021-07-07T16:52:27.899Z"
   },
   {
    "duration": 25,
    "start_time": "2021-07-07T16:52:28.674Z"
   },
   {
    "duration": 8,
    "start_time": "2021-07-07T16:52:32.956Z"
   },
   {
    "duration": 18,
    "start_time": "2021-07-07T16:52:35.616Z"
   },
   {
    "duration": 6,
    "start_time": "2021-07-07T16:52:36.913Z"
   },
   {
    "duration": 11,
    "start_time": "2021-07-07T16:52:40.258Z"
   },
   {
    "duration": 10,
    "start_time": "2021-07-07T16:52:46.251Z"
   },
   {
    "duration": 8,
    "start_time": "2021-07-07T16:52:47.182Z"
   },
   {
    "duration": 27,
    "start_time": "2021-07-07T16:53:20.391Z"
   },
   {
    "duration": 20,
    "start_time": "2021-07-07T16:53:22.022Z"
   },
   {
    "duration": 23,
    "start_time": "2021-07-07T16:53:23.690Z"
   },
   {
    "duration": 8,
    "start_time": "2021-07-07T16:53:24.261Z"
   },
   {
    "duration": 4,
    "start_time": "2021-07-07T16:53:38.733Z"
   },
   {
    "duration": 7,
    "start_time": "2021-07-07T16:53:40.445Z"
   },
   {
    "duration": 11,
    "start_time": "2021-07-07T16:53:41.348Z"
   },
   {
    "duration": 13,
    "start_time": "2021-07-07T16:53:45.250Z"
   },
   {
    "duration": 12,
    "start_time": "2021-07-07T16:53:45.467Z"
   },
   {
    "duration": 4,
    "start_time": "2021-07-07T16:55:32.704Z"
   },
   {
    "duration": 12,
    "start_time": "2021-07-07T16:55:49.012Z"
   },
   {
    "duration": 18,
    "start_time": "2021-07-07T16:55:49.547Z"
   },
   {
    "duration": 611,
    "start_time": "2021-07-07T16:58:35.156Z"
   },
   {
    "duration": 200,
    "start_time": "2021-07-07T16:58:35.770Z"
   },
   {
    "duration": 86,
    "start_time": "2021-07-07T16:58:35.972Z"
   },
   {
    "duration": 3,
    "start_time": "2021-07-07T16:58:36.060Z"
   },
   {
    "duration": 27,
    "start_time": "2021-07-07T16:58:36.065Z"
   },
   {
    "duration": 8,
    "start_time": "2021-07-07T16:58:36.094Z"
   },
   {
    "duration": 17,
    "start_time": "2021-07-07T16:58:36.103Z"
   },
   {
    "duration": 5,
    "start_time": "2021-07-07T16:58:36.123Z"
   },
   {
    "duration": 11,
    "start_time": "2021-07-07T16:58:36.130Z"
   },
   {
    "duration": 7,
    "start_time": "2021-07-07T16:58:36.143Z"
   },
   {
    "duration": 37,
    "start_time": "2021-07-07T16:58:36.152Z"
   },
   {
    "duration": 27,
    "start_time": "2021-07-07T16:58:36.191Z"
   },
   {
    "duration": 19,
    "start_time": "2021-07-07T16:58:36.219Z"
   },
   {
    "duration": 49,
    "start_time": "2021-07-07T16:58:36.240Z"
   },
   {
    "duration": 6,
    "start_time": "2021-07-07T16:58:36.291Z"
   },
   {
    "duration": 3,
    "start_time": "2021-07-07T16:58:36.299Z"
   },
   {
    "duration": 13,
    "start_time": "2021-07-07T16:58:36.304Z"
   },
   {
    "duration": 10,
    "start_time": "2021-07-07T16:58:36.319Z"
   },
   {
    "duration": 10,
    "start_time": "2021-07-07T16:58:36.331Z"
   },
   {
    "duration": 44,
    "start_time": "2021-07-07T16:58:36.343Z"
   },
   {
    "duration": 4,
    "start_time": "2021-07-07T16:58:36.388Z"
   },
   {
    "duration": 13,
    "start_time": "2021-07-07T16:58:36.394Z"
   },
   {
    "duration": 16,
    "start_time": "2021-07-07T16:58:36.410Z"
   },
   {
    "duration": 8,
    "start_time": "2021-07-07T17:02:31.629Z"
   },
   {
    "duration": 8,
    "start_time": "2021-07-07T17:02:34.308Z"
   },
   {
    "duration": 6,
    "start_time": "2021-07-07T17:05:13.483Z"
   },
   {
    "duration": 17,
    "start_time": "2021-07-07T17:05:20.606Z"
   },
   {
    "duration": 7,
    "start_time": "2021-07-07T17:05:34.638Z"
   },
   {
    "duration": 3,
    "start_time": "2021-07-07T17:06:31.883Z"
   },
   {
    "duration": 570,
    "start_time": "2021-07-07T17:06:37.165Z"
   },
   {
    "duration": 174,
    "start_time": "2021-07-07T17:06:37.737Z"
   },
   {
    "duration": 47,
    "start_time": "2021-07-07T17:06:37.913Z"
   },
   {
    "duration": 3,
    "start_time": "2021-07-07T17:06:37.962Z"
   },
   {
    "duration": 27,
    "start_time": "2021-07-07T17:06:37.967Z"
   },
   {
    "duration": 7,
    "start_time": "2021-07-07T17:06:37.996Z"
   },
   {
    "duration": 16,
    "start_time": "2021-07-07T17:06:38.005Z"
   },
   {
    "duration": 6,
    "start_time": "2021-07-07T17:06:38.024Z"
   },
   {
    "duration": 12,
    "start_time": "2021-07-07T17:06:38.031Z"
   },
   {
    "duration": 41,
    "start_time": "2021-07-07T17:06:38.045Z"
   },
   {
    "duration": 8,
    "start_time": "2021-07-07T17:06:38.088Z"
   },
   {
    "duration": 26,
    "start_time": "2021-07-07T17:06:38.098Z"
   },
   {
    "duration": 17,
    "start_time": "2021-07-07T17:06:38.126Z"
   },
   {
    "duration": 43,
    "start_time": "2021-07-07T17:06:38.144Z"
   },
   {
    "duration": 6,
    "start_time": "2021-07-07T17:06:38.188Z"
   },
   {
    "duration": 5,
    "start_time": "2021-07-07T17:06:38.195Z"
   },
   {
    "duration": 9,
    "start_time": "2021-07-07T17:06:38.201Z"
   },
   {
    "duration": 12,
    "start_time": "2021-07-07T17:06:38.212Z"
   },
   {
    "duration": 11,
    "start_time": "2021-07-07T17:06:38.226Z"
   },
   {
    "duration": 47,
    "start_time": "2021-07-07T17:06:38.239Z"
   },
   {
    "duration": 4,
    "start_time": "2021-07-07T17:06:38.288Z"
   },
   {
    "duration": 13,
    "start_time": "2021-07-07T17:06:38.293Z"
   },
   {
    "duration": 5,
    "start_time": "2021-07-07T17:06:38.309Z"
   },
   {
    "duration": 18,
    "start_time": "2021-07-07T17:06:38.325Z"
   },
   {
    "duration": 20,
    "start_time": "2021-07-07T17:07:02.805Z"
   },
   {
    "duration": 19,
    "start_time": "2021-07-07T17:07:08.527Z"
   },
   {
    "duration": 19,
    "start_time": "2021-07-07T17:07:12.758Z"
   },
   {
    "duration": 22,
    "start_time": "2021-07-07T17:07:17.497Z"
   },
   {
    "duration": 19,
    "start_time": "2021-07-07T17:07:19.645Z"
   },
   {
    "duration": 10,
    "start_time": "2021-07-07T17:07:34.239Z"
   },
   {
    "duration": 17,
    "start_time": "2021-07-07T17:07:54.144Z"
   },
   {
    "duration": 14,
    "start_time": "2021-07-07T17:08:14.357Z"
   },
   {
    "duration": 616,
    "start_time": "2021-07-07T17:08:45.254Z"
   },
   {
    "duration": 178,
    "start_time": "2021-07-07T17:08:45.872Z"
   },
   {
    "duration": 60,
    "start_time": "2021-07-07T17:08:46.054Z"
   },
   {
    "duration": 3,
    "start_time": "2021-07-07T17:08:46.116Z"
   },
   {
    "duration": 26,
    "start_time": "2021-07-07T17:08:46.121Z"
   },
   {
    "duration": 7,
    "start_time": "2021-07-07T17:08:46.149Z"
   },
   {
    "duration": 17,
    "start_time": "2021-07-07T17:08:46.158Z"
   },
   {
    "duration": 14,
    "start_time": "2021-07-07T17:08:46.176Z"
   },
   {
    "duration": 17,
    "start_time": "2021-07-07T17:08:46.193Z"
   },
   {
    "duration": 9,
    "start_time": "2021-07-07T17:08:46.211Z"
   },
   {
    "duration": 21,
    "start_time": "2021-07-07T17:08:46.221Z"
   },
   {
    "duration": 49,
    "start_time": "2021-07-07T17:08:46.244Z"
   },
   {
    "duration": 24,
    "start_time": "2021-07-07T17:08:46.295Z"
   },
   {
    "duration": 22,
    "start_time": "2021-07-07T17:08:46.321Z"
   },
   {
    "duration": 6,
    "start_time": "2021-07-07T17:08:46.345Z"
   },
   {
    "duration": 5,
    "start_time": "2021-07-07T17:08:46.353Z"
   },
   {
    "duration": 13,
    "start_time": "2021-07-07T17:08:46.386Z"
   },
   {
    "duration": 12,
    "start_time": "2021-07-07T17:08:46.402Z"
   },
   {
    "duration": 10,
    "start_time": "2021-07-07T17:08:46.415Z"
   },
   {
    "duration": 7,
    "start_time": "2021-07-07T17:08:46.427Z"
   },
   {
    "duration": 8,
    "start_time": "2021-07-07T17:08:46.435Z"
   },
   {
    "duration": 68,
    "start_time": "2021-07-07T17:08:46.446Z"
   },
   {
    "duration": 13,
    "start_time": "2021-07-07T17:08:46.516Z"
   },
   {
    "duration": 78,
    "start_time": "2021-07-07T17:08:46.530Z"
   },
   {
    "duration": 40,
    "start_time": "2021-07-07T17:09:08.185Z"
   },
   {
    "duration": 16,
    "start_time": "2021-07-07T17:09:19.324Z"
   },
   {
    "duration": 21,
    "start_time": "2021-07-07T17:09:23.290Z"
   },
   {
    "duration": 13,
    "start_time": "2021-07-07T17:09:54.812Z"
   },
   {
    "duration": 13,
    "start_time": "2021-07-07T17:10:02.039Z"
   },
   {
    "duration": 10,
    "start_time": "2021-07-07T17:10:29.632Z"
   },
   {
    "duration": 13,
    "start_time": "2021-07-07T17:10:52.372Z"
   },
   {
    "duration": 13,
    "start_time": "2021-07-07T17:11:17.270Z"
   },
   {
    "duration": 13,
    "start_time": "2021-07-07T17:14:59.284Z"
   },
   {
    "duration": 547,
    "start_time": "2021-07-07T17:18:52.403Z"
   },
   {
    "duration": 163,
    "start_time": "2021-07-07T17:18:52.952Z"
   },
   {
    "duration": 44,
    "start_time": "2021-07-07T17:18:53.117Z"
   },
   {
    "duration": 3,
    "start_time": "2021-07-07T17:18:53.162Z"
   },
   {
    "duration": 26,
    "start_time": "2021-07-07T17:18:53.167Z"
   },
   {
    "duration": 6,
    "start_time": "2021-07-07T17:18:53.195Z"
   },
   {
    "duration": 15,
    "start_time": "2021-07-07T17:18:53.203Z"
   },
   {
    "duration": 5,
    "start_time": "2021-07-07T17:18:53.220Z"
   },
   {
    "duration": 11,
    "start_time": "2021-07-07T17:18:53.228Z"
   },
   {
    "duration": 9,
    "start_time": "2021-07-07T17:18:53.241Z"
   },
   {
    "duration": 41,
    "start_time": "2021-07-07T17:18:53.252Z"
   },
   {
    "duration": 33,
    "start_time": "2021-07-07T17:18:53.295Z"
   },
   {
    "duration": 19,
    "start_time": "2021-07-07T17:18:53.330Z"
   },
   {
    "duration": 49,
    "start_time": "2021-07-07T17:18:53.350Z"
   },
   {
    "duration": 5,
    "start_time": "2021-07-07T17:18:53.401Z"
   },
   {
    "duration": 5,
    "start_time": "2021-07-07T17:18:53.408Z"
   },
   {
    "duration": 11,
    "start_time": "2021-07-07T17:18:53.414Z"
   },
   {
    "duration": 9,
    "start_time": "2021-07-07T17:18:53.427Z"
   },
   {
    "duration": 10,
    "start_time": "2021-07-07T17:18:53.437Z"
   },
   {
    "duration": 39,
    "start_time": "2021-07-07T17:18:53.448Z"
   },
   {
    "duration": 26,
    "start_time": "2021-07-07T17:18:55.799Z"
   },
   {
    "duration": 598,
    "start_time": "2021-07-07T17:20:17.862Z"
   },
   {
    "duration": 161,
    "start_time": "2021-07-07T17:20:18.462Z"
   },
   {
    "duration": 45,
    "start_time": "2021-07-07T17:20:18.626Z"
   },
   {
    "duration": 4,
    "start_time": "2021-07-07T17:20:18.673Z"
   },
   {
    "duration": 38,
    "start_time": "2021-07-07T17:20:26.877Z"
   },
   {
    "duration": 7,
    "start_time": "2021-07-07T17:20:37.405Z"
   },
   {
    "duration": 19,
    "start_time": "2021-07-07T17:20:51.534Z"
   },
   {
    "duration": 5,
    "start_time": "2021-07-07T17:20:57.228Z"
   },
   {
    "duration": 7,
    "start_time": "2021-07-07T17:21:08.235Z"
   },
   {
    "duration": 19,
    "start_time": "2021-07-07T17:21:42.158Z"
   },
   {
    "duration": 14,
    "start_time": "2021-07-07T17:21:50.225Z"
   },
   {
    "duration": 22,
    "start_time": "2021-07-07T17:22:54.104Z"
   },
   {
    "duration": 5,
    "start_time": "2021-07-07T17:22:56.371Z"
   },
   {
    "duration": 14,
    "start_time": "2021-07-07T17:22:58.316Z"
   },
   {
    "duration": 5,
    "start_time": "2021-07-07T17:22:58.493Z"
   },
   {
    "duration": 35,
    "start_time": "2021-07-07T17:22:59.666Z"
   },
   {
    "duration": 6,
    "start_time": "2021-07-07T17:23:02.410Z"
   },
   {
    "duration": 611,
    "start_time": "2021-07-07T17:24:59.664Z"
   },
   {
    "duration": 178,
    "start_time": "2021-07-07T17:25:01.945Z"
   },
   {
    "duration": 47,
    "start_time": "2021-07-07T17:25:02.125Z"
   },
   {
    "duration": 2,
    "start_time": "2021-07-07T17:25:07.903Z"
   },
   {
    "duration": 254,
    "start_time": "2021-07-07T17:25:08.232Z"
   },
   {
    "duration": 182,
    "start_time": "2021-07-07T17:25:08.671Z"
   },
   {
    "duration": 6,
    "start_time": "2021-07-07T17:25:13.104Z"
   },
   {
    "duration": 36,
    "start_time": "2021-07-07T17:25:13.662Z"
   },
   {
    "duration": 7,
    "start_time": "2021-07-07T17:25:14.528Z"
   },
   {
    "duration": 24,
    "start_time": "2021-07-07T17:25:27.982Z"
   },
   {
    "duration": 3,
    "start_time": "2021-07-07T17:25:48.982Z"
   },
   {
    "duration": 165,
    "start_time": "2021-07-07T17:25:48.987Z"
   },
   {
    "duration": 50,
    "start_time": "2021-07-07T17:25:49.154Z"
   },
   {
    "duration": 4,
    "start_time": "2021-07-07T17:25:49.206Z"
   },
   {
    "duration": 26,
    "start_time": "2021-07-07T17:25:49.212Z"
   },
   {
    "duration": 7,
    "start_time": "2021-07-07T17:25:49.240Z"
   },
   {
    "duration": 16,
    "start_time": "2021-07-07T17:25:49.249Z"
   },
   {
    "duration": 22,
    "start_time": "2021-07-07T17:25:49.266Z"
   },
   {
    "duration": 16,
    "start_time": "2021-07-07T17:25:49.291Z"
   },
   {
    "duration": 9,
    "start_time": "2021-07-07T17:25:49.309Z"
   },
   {
    "duration": 7,
    "start_time": "2021-07-07T17:25:49.319Z"
   },
   {
    "duration": 28,
    "start_time": "2021-07-07T17:25:49.328Z"
   },
   {
    "duration": 44,
    "start_time": "2021-07-07T17:25:49.357Z"
   },
   {
    "duration": 22,
    "start_time": "2021-07-07T17:25:49.403Z"
   },
   {
    "duration": 7,
    "start_time": "2021-07-07T17:25:49.427Z"
   },
   {
    "duration": 3,
    "start_time": "2021-07-07T17:25:49.436Z"
   },
   {
    "duration": 44,
    "start_time": "2021-07-07T17:25:49.441Z"
   },
   {
    "duration": 12,
    "start_time": "2021-07-07T17:25:49.488Z"
   },
   {
    "duration": 13,
    "start_time": "2021-07-07T17:25:49.502Z"
   },
   {
    "duration": 10,
    "start_time": "2021-07-07T17:25:49.516Z"
   },
   {
    "duration": 62,
    "start_time": "2021-07-07T17:25:49.527Z"
   },
   {
    "duration": 26,
    "start_time": "2021-07-07T17:26:51.809Z"
   },
   {
    "duration": 26,
    "start_time": "2021-07-07T17:26:55.759Z"
   },
   {
    "duration": 26,
    "start_time": "2021-07-07T17:27:04.501Z"
   },
   {
    "duration": 25,
    "start_time": "2021-07-07T17:28:24.859Z"
   },
   {
    "duration": 21,
    "start_time": "2021-07-07T17:28:55.250Z"
   },
   {
    "duration": 21,
    "start_time": "2021-07-07T17:28:58.885Z"
   },
   {
    "duration": 7,
    "start_time": "2021-07-07T17:45:40.972Z"
   },
   {
    "duration": 13,
    "start_time": "2021-07-07T17:45:42.529Z"
   },
   {
    "duration": 27,
    "start_time": "2021-07-07T17:45:51.026Z"
   },
   {
    "duration": 518,
    "start_time": "2021-07-07T17:46:15.532Z"
   },
   {
    "duration": 235,
    "start_time": "2021-07-07T17:46:16.053Z"
   },
   {
    "duration": 80,
    "start_time": "2021-07-07T17:46:16.292Z"
   },
   {
    "duration": 5,
    "start_time": "2021-07-07T17:46:16.373Z"
   },
   {
    "duration": 26,
    "start_time": "2021-07-07T17:46:16.380Z"
   },
   {
    "duration": 7,
    "start_time": "2021-07-07T17:46:16.408Z"
   },
   {
    "duration": 16,
    "start_time": "2021-07-07T17:46:16.418Z"
   },
   {
    "duration": 5,
    "start_time": "2021-07-07T17:46:16.436Z"
   },
   {
    "duration": 13,
    "start_time": "2021-07-07T17:46:16.442Z"
   },
   {
    "duration": 35,
    "start_time": "2021-07-07T17:46:16.456Z"
   },
   {
    "duration": 8,
    "start_time": "2021-07-07T17:46:16.493Z"
   },
   {
    "duration": 28,
    "start_time": "2021-07-07T17:46:16.502Z"
   },
   {
    "duration": 17,
    "start_time": "2021-07-07T17:46:16.532Z"
   },
   {
    "duration": 44,
    "start_time": "2021-07-07T17:46:16.551Z"
   },
   {
    "duration": 6,
    "start_time": "2021-07-07T17:46:16.597Z"
   },
   {
    "duration": 4,
    "start_time": "2021-07-07T17:46:16.605Z"
   },
   {
    "duration": 9,
    "start_time": "2021-07-07T17:46:16.610Z"
   },
   {
    "duration": 9,
    "start_time": "2021-07-07T17:46:16.621Z"
   },
   {
    "duration": 10,
    "start_time": "2021-07-07T17:46:16.632Z"
   },
   {
    "duration": 43,
    "start_time": "2021-07-07T17:46:16.644Z"
   },
   {
    "duration": 26,
    "start_time": "2021-07-07T17:46:16.689Z"
   },
   {
    "duration": 19,
    "start_time": "2021-07-07T17:46:16.718Z"
   },
   {
    "duration": 8,
    "start_time": "2021-07-07T17:46:16.738Z"
   },
   {
    "duration": 43,
    "start_time": "2021-07-07T17:46:16.747Z"
   },
   {
    "duration": 19,
    "start_time": "2021-07-07T17:46:16.791Z"
   },
   {
    "duration": 9,
    "start_time": "2021-07-07T17:46:16.812Z"
   },
   {
    "duration": 60,
    "start_time": "2021-07-07T17:46:16.822Z"
   },
   {
    "duration": -8,
    "start_time": "2021-07-07T17:46:16.892Z"
   },
   {
    "duration": 12,
    "start_time": "2021-07-07T17:48:47.707Z"
   },
   {
    "duration": 553,
    "start_time": "2021-07-07T18:10:09.350Z"
   },
   {
    "duration": 230,
    "start_time": "2021-07-07T18:10:09.905Z"
   },
   {
    "duration": 97,
    "start_time": "2021-07-07T18:10:10.137Z"
   },
   {
    "duration": 5,
    "start_time": "2021-07-07T18:10:10.236Z"
   },
   {
    "duration": 29,
    "start_time": "2021-07-07T18:10:10.242Z"
   },
   {
    "duration": 7,
    "start_time": "2021-07-07T18:10:10.272Z"
   },
   {
    "duration": 15,
    "start_time": "2021-07-07T18:10:10.281Z"
   },
   {
    "duration": 4,
    "start_time": "2021-07-07T18:10:10.299Z"
   },
   {
    "duration": 14,
    "start_time": "2021-07-07T18:10:10.305Z"
   },
   {
    "duration": 8,
    "start_time": "2021-07-07T18:10:10.321Z"
   },
   {
    "duration": 8,
    "start_time": "2021-07-07T18:10:10.331Z"
   },
   {
    "duration": 56,
    "start_time": "2021-07-07T18:10:10.341Z"
   },
   {
    "duration": 19,
    "start_time": "2021-07-07T18:10:10.399Z"
   },
   {
    "duration": 23,
    "start_time": "2021-07-07T18:10:10.419Z"
   },
   {
    "duration": 6,
    "start_time": "2021-07-07T18:10:10.444Z"
   },
   {
    "duration": 9,
    "start_time": "2021-07-07T18:10:10.451Z"
   },
   {
    "duration": 30,
    "start_time": "2021-07-07T18:10:10.462Z"
   },
   {
    "duration": 9,
    "start_time": "2021-07-07T18:10:10.494Z"
   },
   {
    "duration": 14,
    "start_time": "2021-07-07T18:10:10.505Z"
   },
   {
    "duration": 7,
    "start_time": "2021-07-07T18:10:10.521Z"
   },
   {
    "duration": 26,
    "start_time": "2021-07-07T18:10:10.530Z"
   },
   {
    "duration": 44,
    "start_time": "2021-07-07T18:10:10.558Z"
   },
   {
    "duration": 7,
    "start_time": "2021-07-07T18:10:10.605Z"
   },
   {
    "duration": 11,
    "start_time": "2021-07-07T18:10:10.614Z"
   },
   {
    "duration": 19,
    "start_time": "2021-07-07T18:10:10.626Z"
   },
   {
    "duration": 44,
    "start_time": "2021-07-07T18:10:10.646Z"
   },
   {
    "duration": 516,
    "start_time": "2021-07-07T18:14:00.826Z"
   },
   {
    "duration": 230,
    "start_time": "2021-07-07T18:14:01.344Z"
   },
   {
    "duration": 105,
    "start_time": "2021-07-07T18:14:01.576Z"
   },
   {
    "duration": 5,
    "start_time": "2021-07-07T18:14:01.683Z"
   },
   {
    "duration": 46,
    "start_time": "2021-07-07T18:14:01.690Z"
   },
   {
    "duration": 7,
    "start_time": "2021-07-07T18:14:01.738Z"
   },
   {
    "duration": 20,
    "start_time": "2021-07-07T18:14:01.747Z"
   },
   {
    "duration": 16,
    "start_time": "2021-07-07T18:14:01.769Z"
   },
   {
    "duration": 14,
    "start_time": "2021-07-07T18:14:01.787Z"
   },
   {
    "duration": 15,
    "start_time": "2021-07-07T18:14:01.803Z"
   },
   {
    "duration": 12,
    "start_time": "2021-07-07T18:14:01.820Z"
   },
   {
    "duration": 35,
    "start_time": "2021-07-07T18:14:01.833Z"
   },
   {
    "duration": 31,
    "start_time": "2021-07-07T18:14:01.869Z"
   },
   {
    "duration": 37,
    "start_time": "2021-07-07T18:14:01.902Z"
   },
   {
    "duration": 8,
    "start_time": "2021-07-07T18:14:01.942Z"
   },
   {
    "duration": 16,
    "start_time": "2021-07-07T18:14:01.952Z"
   },
   {
    "duration": 13,
    "start_time": "2021-07-07T18:14:01.970Z"
   },
   {
    "duration": 32,
    "start_time": "2021-07-07T18:14:01.985Z"
   },
   {
    "duration": 11,
    "start_time": "2021-07-07T18:14:02.019Z"
   },
   {
    "duration": 22,
    "start_time": "2021-07-07T18:14:02.031Z"
   },
   {
    "duration": 27,
    "start_time": "2021-07-07T18:14:02.055Z"
   },
   {
    "duration": 18,
    "start_time": "2021-07-07T18:14:02.084Z"
   },
   {
    "duration": 18,
    "start_time": "2021-07-07T18:14:02.106Z"
   },
   {
    "duration": 11,
    "start_time": "2021-07-07T18:14:02.126Z"
   },
   {
    "duration": 21,
    "start_time": "2021-07-07T18:14:02.138Z"
   },
   {
    "duration": 32,
    "start_time": "2021-07-07T18:14:02.161Z"
   },
   {
    "duration": 28,
    "start_time": "2021-07-07T18:14:44.295Z"
   },
   {
    "duration": 6,
    "start_time": "2021-07-07T18:15:05.834Z"
   },
   {
    "duration": 511,
    "start_time": "2021-07-07T18:15:41.541Z"
   },
   {
    "duration": 183,
    "start_time": "2021-07-07T18:15:42.054Z"
   },
   {
    "duration": 50,
    "start_time": "2021-07-07T18:15:42.239Z"
   },
   {
    "duration": 5,
    "start_time": "2021-07-07T18:15:42.291Z"
   },
   {
    "duration": 48,
    "start_time": "2021-07-07T18:15:42.297Z"
   },
   {
    "duration": 8,
    "start_time": "2021-07-07T18:15:42.346Z"
   },
   {
    "duration": 17,
    "start_time": "2021-07-07T18:15:42.356Z"
   },
   {
    "duration": 15,
    "start_time": "2021-07-07T18:15:42.375Z"
   },
   {
    "duration": 12,
    "start_time": "2021-07-07T18:15:42.392Z"
   },
   {
    "duration": 7,
    "start_time": "2021-07-07T18:15:42.406Z"
   },
   {
    "duration": 7,
    "start_time": "2021-07-07T18:15:42.415Z"
   },
   {
    "duration": 29,
    "start_time": "2021-07-07T18:15:42.423Z"
   },
   {
    "duration": 43,
    "start_time": "2021-07-07T18:15:42.453Z"
   },
   {
    "duration": 18,
    "start_time": "2021-07-07T18:15:42.497Z"
   },
   {
    "duration": 6,
    "start_time": "2021-07-07T18:15:42.516Z"
   },
   {
    "duration": 3,
    "start_time": "2021-07-07T18:15:42.523Z"
   },
   {
    "duration": 18,
    "start_time": "2021-07-07T18:15:42.528Z"
   },
   {
    "duration": 10,
    "start_time": "2021-07-07T18:15:42.547Z"
   },
   {
    "duration": 36,
    "start_time": "2021-07-07T18:15:42.559Z"
   },
   {
    "duration": 8,
    "start_time": "2021-07-07T18:15:42.597Z"
   },
   {
    "duration": 28,
    "start_time": "2021-07-07T18:15:42.606Z"
   },
   {
    "duration": 52,
    "start_time": "2021-07-07T18:15:42.635Z"
   },
   {
    "duration": 7,
    "start_time": "2021-07-07T18:15:42.690Z"
   },
   {
    "duration": 10,
    "start_time": "2021-07-07T18:15:42.699Z"
   },
   {
    "duration": 19,
    "start_time": "2021-07-07T18:15:42.711Z"
   },
   {
    "duration": 9,
    "start_time": "2021-07-07T18:15:42.732Z"
   },
   {
    "duration": 5,
    "start_time": "2021-07-07T18:15:42.743Z"
   },
   {
    "duration": 1450,
    "start_time": "2021-07-07T18:15:51.984Z"
   },
   {
    "duration": 161,
    "start_time": "2021-07-07T18:15:53.435Z"
   },
   {
    "duration": 124,
    "start_time": "2021-07-07T18:15:53.598Z"
   },
   {
    "duration": 5,
    "start_time": "2021-07-07T18:15:53.724Z"
   },
   {
    "duration": 34,
    "start_time": "2021-07-07T18:15:53.730Z"
   },
   {
    "duration": 7,
    "start_time": "2021-07-07T18:15:53.765Z"
   },
   {
    "duration": 15,
    "start_time": "2021-07-07T18:15:53.773Z"
   },
   {
    "duration": 5,
    "start_time": "2021-07-07T18:15:53.791Z"
   },
   {
    "duration": 19,
    "start_time": "2021-07-07T18:15:53.798Z"
   },
   {
    "duration": 9,
    "start_time": "2021-07-07T18:15:53.818Z"
   },
   {
    "duration": 19,
    "start_time": "2021-07-07T18:15:53.828Z"
   },
   {
    "duration": 27,
    "start_time": "2021-07-07T18:15:53.848Z"
   },
   {
    "duration": 16,
    "start_time": "2021-07-07T18:15:53.884Z"
   },
   {
    "duration": 29,
    "start_time": "2021-07-07T18:15:53.901Z"
   },
   {
    "duration": 5,
    "start_time": "2021-07-07T18:15:53.932Z"
   },
   {
    "duration": 15,
    "start_time": "2021-07-07T18:15:53.939Z"
   },
   {
    "duration": 13,
    "start_time": "2021-07-07T18:15:53.956Z"
   },
   {
    "duration": 20,
    "start_time": "2021-07-07T18:15:53.971Z"
   },
   {
    "duration": 14,
    "start_time": "2021-07-07T18:15:53.992Z"
   },
   {
    "duration": 9,
    "start_time": "2021-07-07T18:15:54.009Z"
   },
   {
    "duration": 28,
    "start_time": "2021-07-07T18:15:54.020Z"
   },
   {
    "duration": 50,
    "start_time": "2021-07-07T18:15:54.051Z"
   },
   {
    "duration": 8,
    "start_time": "2021-07-07T18:15:54.105Z"
   },
   {
    "duration": 11,
    "start_time": "2021-07-07T18:15:54.115Z"
   },
   {
    "duration": 20,
    "start_time": "2021-07-07T18:15:54.128Z"
   },
   {
    "duration": 13,
    "start_time": "2021-07-07T18:15:54.184Z"
   },
   {
    "duration": 7,
    "start_time": "2021-07-07T18:15:54.199Z"
   },
   {
    "duration": 7,
    "start_time": "2021-07-07T18:17:08.042Z"
   },
   {
    "duration": 8,
    "start_time": "2021-07-07T18:17:21.008Z"
   },
   {
    "duration": 7,
    "start_time": "2021-07-07T18:17:29.003Z"
   },
   {
    "duration": 8,
    "start_time": "2021-07-07T18:17:32.492Z"
   },
   {
    "duration": 9,
    "start_time": "2021-07-07T18:17:41.758Z"
   },
   {
    "duration": 255,
    "start_time": "2021-07-07T18:20:20.897Z"
   },
   {
    "duration": 173,
    "start_time": "2021-07-07T18:20:26.636Z"
   },
   {
    "duration": 7,
    "start_time": "2021-07-07T18:21:47.164Z"
   },
   {
    "duration": 254,
    "start_time": "2021-07-07T18:23:08.703Z"
   },
   {
    "duration": 21,
    "start_time": "2021-07-07T18:23:22.506Z"
   },
   {
    "duration": 315,
    "start_time": "2021-07-07T18:25:54.801Z"
   },
   {
    "duration": 34,
    "start_time": "2021-07-07T18:26:51.817Z"
   },
   {
    "duration": 327,
    "start_time": "2021-07-07T18:26:56.147Z"
   },
   {
    "duration": 342,
    "start_time": "2021-07-07T18:27:15.887Z"
   },
   {
    "duration": 302,
    "start_time": "2021-07-07T18:28:18.569Z"
   },
   {
    "duration": 226,
    "start_time": "2021-07-07T18:29:20.879Z"
   },
   {
    "duration": 207,
    "start_time": "2021-07-07T18:29:58.114Z"
   },
   {
    "duration": 140,
    "start_time": "2021-07-07T18:32:04.372Z"
   },
   {
    "duration": 158,
    "start_time": "2021-07-07T18:32:32.508Z"
   },
   {
    "duration": 145,
    "start_time": "2021-07-07T18:32:41.365Z"
   },
   {
    "duration": 132,
    "start_time": "2021-07-07T18:32:45.199Z"
   },
   {
    "duration": 11,
    "start_time": "2021-07-07T18:35:24.679Z"
   },
   {
    "duration": 268,
    "start_time": "2021-07-07T18:36:16.145Z"
   },
   {
    "duration": 227,
    "start_time": "2021-07-07T18:37:04.918Z"
   },
   {
    "duration": 3,
    "start_time": "2021-07-07T18:37:33.012Z"
   },
   {
    "duration": 671,
    "start_time": "2021-07-07T18:37:38.295Z"
   },
   {
    "duration": 54,
    "start_time": "2021-07-07T18:37:53.406Z"
   },
   {
    "duration": 631,
    "start_time": "2021-07-07T18:37:56.463Z"
   },
   {
    "duration": 19,
    "start_time": "2021-07-07T18:39:40.535Z"
   },
   {
    "duration": 20,
    "start_time": "2021-07-07T18:40:12.236Z"
   },
   {
    "duration": 633,
    "start_time": "2021-07-07T18:42:00.398Z"
   },
   {
    "duration": 218,
    "start_time": "2021-07-07T18:42:01.033Z"
   },
   {
    "duration": 49,
    "start_time": "2021-07-07T18:42:01.253Z"
   },
   {
    "duration": 5,
    "start_time": "2021-07-07T18:42:01.303Z"
   },
   {
    "duration": 27,
    "start_time": "2021-07-07T18:42:01.310Z"
   },
   {
    "duration": 8,
    "start_time": "2021-07-07T18:42:01.339Z"
   },
   {
    "duration": 20,
    "start_time": "2021-07-07T18:42:01.348Z"
   },
   {
    "duration": 6,
    "start_time": "2021-07-07T18:42:01.386Z"
   },
   {
    "duration": 16,
    "start_time": "2021-07-07T18:42:01.394Z"
   },
   {
    "duration": 9,
    "start_time": "2021-07-07T18:42:01.411Z"
   },
   {
    "duration": 11,
    "start_time": "2021-07-07T18:42:01.421Z"
   },
   {
    "duration": 31,
    "start_time": "2021-07-07T18:42:01.434Z"
   },
   {
    "duration": 18,
    "start_time": "2021-07-07T18:42:01.485Z"
   },
   {
    "duration": 23,
    "start_time": "2021-07-07T18:42:01.505Z"
   },
   {
    "duration": 6,
    "start_time": "2021-07-07T18:42:01.530Z"
   },
   {
    "duration": 10,
    "start_time": "2021-07-07T18:42:01.538Z"
   },
   {
    "duration": 13,
    "start_time": "2021-07-07T18:42:01.550Z"
   },
   {
    "duration": 24,
    "start_time": "2021-07-07T18:42:01.564Z"
   },
   {
    "duration": 20,
    "start_time": "2021-07-07T18:42:01.590Z"
   },
   {
    "duration": 8,
    "start_time": "2021-07-07T18:42:01.611Z"
   },
   {
    "duration": 31,
    "start_time": "2021-07-07T18:42:01.620Z"
   },
   {
    "duration": 39,
    "start_time": "2021-07-07T18:42:01.653Z"
   },
   {
    "duration": 8,
    "start_time": "2021-07-07T18:42:01.696Z"
   },
   {
    "duration": 13,
    "start_time": "2021-07-07T18:42:01.705Z"
   },
   {
    "duration": 20,
    "start_time": "2021-07-07T18:42:01.720Z"
   },
   {
    "duration": 12,
    "start_time": "2021-07-07T18:42:01.741Z"
   },
   {
    "duration": 35,
    "start_time": "2021-07-07T18:42:01.755Z"
   },
   {
    "duration": 14,
    "start_time": "2021-07-07T18:42:01.792Z"
   },
   {
    "duration": 188,
    "start_time": "2021-07-07T18:42:01.808Z"
   },
   {
    "duration": 19,
    "start_time": "2021-07-07T18:42:01.998Z"
   },
   {
    "duration": 175,
    "start_time": "2021-07-07T18:42:02.019Z"
   },
   {
    "duration": 134,
    "start_time": "2021-07-07T18:42:02.196Z"
   },
   {
    "duration": 10,
    "start_time": "2021-07-07T18:42:02.331Z"
   },
   {
    "duration": 19,
    "start_time": "2021-07-07T18:42:02.343Z"
   },
   {
    "duration": 628,
    "start_time": "2021-07-07T18:46:30.701Z"
   },
   {
    "duration": 183,
    "start_time": "2021-07-07T18:46:31.331Z"
   },
   {
    "duration": 48,
    "start_time": "2021-07-07T18:46:31.516Z"
   },
   {
    "duration": 5,
    "start_time": "2021-07-07T18:46:31.566Z"
   },
   {
    "duration": 28,
    "start_time": "2021-07-07T18:46:31.572Z"
   },
   {
    "duration": 8,
    "start_time": "2021-07-07T18:46:31.602Z"
   },
   {
    "duration": 19,
    "start_time": "2021-07-07T18:46:31.611Z"
   },
   {
    "duration": 6,
    "start_time": "2021-07-07T18:46:31.633Z"
   },
   {
    "duration": 17,
    "start_time": "2021-07-07T18:46:31.642Z"
   },
   {
    "duration": 10,
    "start_time": "2021-07-07T18:46:31.684Z"
   },
   {
    "duration": 9,
    "start_time": "2021-07-07T18:46:31.695Z"
   },
   {
    "duration": 28,
    "start_time": "2021-07-07T18:46:31.705Z"
   },
   {
    "duration": 18,
    "start_time": "2021-07-07T18:46:31.735Z"
   },
   {
    "duration": 48,
    "start_time": "2021-07-07T18:46:31.755Z"
   },
   {
    "duration": 6,
    "start_time": "2021-07-07T18:46:31.804Z"
   },
   {
    "duration": 4,
    "start_time": "2021-07-07T18:46:31.812Z"
   },
   {
    "duration": 9,
    "start_time": "2021-07-07T18:46:31.817Z"
   },
   {
    "duration": 10,
    "start_time": "2021-07-07T18:46:31.827Z"
   },
   {
    "duration": 12,
    "start_time": "2021-07-07T18:46:31.838Z"
   },
   {
    "duration": 39,
    "start_time": "2021-07-07T18:46:31.851Z"
   },
   {
    "duration": 24,
    "start_time": "2021-07-07T18:46:31.892Z"
   },
   {
    "duration": 15,
    "start_time": "2021-07-07T18:46:31.918Z"
   },
   {
    "duration": 7,
    "start_time": "2021-07-07T18:46:31.936Z"
   },
   {
    "duration": 8,
    "start_time": "2021-07-07T18:46:31.944Z"
   },
   {
    "duration": 19,
    "start_time": "2021-07-07T18:46:31.984Z"
   },
   {
    "duration": 10,
    "start_time": "2021-07-07T18:46:32.004Z"
   },
   {
    "duration": 5,
    "start_time": "2021-07-07T18:46:32.016Z"
   },
   {
    "duration": 9,
    "start_time": "2021-07-07T18:46:32.023Z"
   },
   {
    "duration": 199,
    "start_time": "2021-07-07T18:46:32.033Z"
   },
   {
    "duration": 19,
    "start_time": "2021-07-07T18:46:32.234Z"
   },
   {
    "duration": 159,
    "start_time": "2021-07-07T18:46:32.255Z"
   },
   {
    "duration": 134,
    "start_time": "2021-07-07T18:46:32.416Z"
   },
   {
    "duration": 10,
    "start_time": "2021-07-07T18:46:32.552Z"
   },
   {
    "duration": 34,
    "start_time": "2021-07-07T18:46:32.563Z"
   },
   {
    "duration": 1039,
    "start_time": "2021-07-08T08:41:09.419Z"
   },
   {
    "duration": 333,
    "start_time": "2021-07-08T08:41:10.459Z"
   },
   {
    "duration": 173,
    "start_time": "2021-07-08T08:41:10.794Z"
   },
   {
    "duration": 5,
    "start_time": "2021-07-08T08:41:10.968Z"
   },
   {
    "duration": 25,
    "start_time": "2021-07-08T08:41:10.975Z"
   },
   {
    "duration": 9,
    "start_time": "2021-07-08T08:41:11.002Z"
   },
   {
    "duration": 18,
    "start_time": "2021-07-08T08:41:11.013Z"
   },
   {
    "duration": 6,
    "start_time": "2021-07-08T08:41:11.033Z"
   },
   {
    "duration": 44,
    "start_time": "2021-07-08T08:41:11.042Z"
   },
   {
    "duration": 10,
    "start_time": "2021-07-08T08:41:11.088Z"
   },
   {
    "duration": 9,
    "start_time": "2021-07-08T08:41:11.100Z"
   },
   {
    "duration": 27,
    "start_time": "2021-07-08T08:41:11.111Z"
   },
   {
    "duration": 46,
    "start_time": "2021-07-08T08:41:11.140Z"
   },
   {
    "duration": 17,
    "start_time": "2021-07-08T08:41:11.187Z"
   },
   {
    "duration": 6,
    "start_time": "2021-07-08T08:41:11.206Z"
   },
   {
    "duration": 5,
    "start_time": "2021-07-08T08:41:11.213Z"
   },
   {
    "duration": 10,
    "start_time": "2021-07-08T08:41:11.219Z"
   },
   {
    "duration": 9,
    "start_time": "2021-07-08T08:41:11.230Z"
   },
   {
    "duration": 45,
    "start_time": "2021-07-08T08:41:11.241Z"
   },
   {
    "duration": 7,
    "start_time": "2021-07-08T08:41:11.287Z"
   },
   {
    "duration": 24,
    "start_time": "2021-07-08T08:41:11.296Z"
   },
   {
    "duration": 16,
    "start_time": "2021-07-08T08:41:11.322Z"
   },
   {
    "duration": 7,
    "start_time": "2021-07-08T08:41:11.341Z"
   },
   {
    "duration": 41,
    "start_time": "2021-07-08T08:41:11.349Z"
   },
   {
    "duration": 17,
    "start_time": "2021-07-08T08:41:11.391Z"
   },
   {
    "duration": 9,
    "start_time": "2021-07-08T08:41:11.410Z"
   },
   {
    "duration": 5,
    "start_time": "2021-07-08T08:41:11.421Z"
   },
   {
    "duration": 6,
    "start_time": "2021-07-08T08:41:11.428Z"
   },
   {
    "duration": 198,
    "start_time": "2021-07-08T08:41:11.435Z"
   },
   {
    "duration": 18,
    "start_time": "2021-07-08T08:41:11.635Z"
   },
   {
    "duration": 155,
    "start_time": "2021-07-08T08:41:11.655Z"
   },
   {
    "duration": 138,
    "start_time": "2021-07-08T08:41:11.811Z"
   },
   {
    "duration": 10,
    "start_time": "2021-07-08T08:41:11.950Z"
   },
   {
    "duration": 29,
    "start_time": "2021-07-08T08:41:11.961Z"
   },
   {
    "duration": 171,
    "start_time": "2021-07-08T08:47:44.522Z"
   },
   {
    "duration": 124,
    "start_time": "2021-07-08T08:47:46.872Z"
   },
   {
    "duration": 191,
    "start_time": "2021-07-08T08:47:58.148Z"
   },
   {
    "duration": 191,
    "start_time": "2021-07-08T08:48:07.412Z"
   },
   {
    "duration": 261,
    "start_time": "2021-07-08T08:48:10.385Z"
   },
   {
    "duration": 255,
    "start_time": "2021-07-08T08:48:14.494Z"
   },
   {
    "duration": 219,
    "start_time": "2021-07-08T08:48:22.752Z"
   },
   {
    "duration": 173,
    "start_time": "2021-07-08T08:49:06.395Z"
   },
   {
    "duration": 180,
    "start_time": "2021-07-08T08:49:21.011Z"
   },
   {
    "duration": 6,
    "start_time": "2021-07-08T08:50:31.697Z"
   },
   {
    "duration": 10,
    "start_time": "2021-07-08T08:50:47.394Z"
   },
   {
    "duration": 11,
    "start_time": "2021-07-08T08:53:49.332Z"
   },
   {
    "duration": 171,
    "start_time": "2021-07-08T08:54:28.408Z"
   },
   {
    "duration": 636,
    "start_time": "2021-07-08T09:02:48.385Z"
   },
   {
    "duration": 227,
    "start_time": "2021-07-08T09:02:49.023Z"
   },
   {
    "duration": 104,
    "start_time": "2021-07-08T09:02:49.252Z"
   },
   {
    "duration": 5,
    "start_time": "2021-07-08T09:02:49.358Z"
   },
   {
    "duration": 27,
    "start_time": "2021-07-08T09:02:49.365Z"
   },
   {
    "duration": 8,
    "start_time": "2021-07-08T09:02:49.394Z"
   },
   {
    "duration": 18,
    "start_time": "2021-07-08T09:02:49.404Z"
   },
   {
    "duration": 6,
    "start_time": "2021-07-08T09:02:49.424Z"
   },
   {
    "duration": 11,
    "start_time": "2021-07-08T09:02:49.433Z"
   },
   {
    "duration": 13,
    "start_time": "2021-07-08T09:02:49.485Z"
   },
   {
    "duration": 9,
    "start_time": "2021-07-08T09:02:49.500Z"
   },
   {
    "duration": 38,
    "start_time": "2021-07-08T09:02:49.511Z"
   },
   {
    "duration": 42,
    "start_time": "2021-07-08T09:02:49.551Z"
   },
   {
    "duration": 21,
    "start_time": "2021-07-08T09:02:49.594Z"
   },
   {
    "duration": 6,
    "start_time": "2021-07-08T09:02:49.616Z"
   },
   {
    "duration": 3,
    "start_time": "2021-07-08T09:02:49.623Z"
   },
   {
    "duration": 9,
    "start_time": "2021-07-08T09:02:49.628Z"
   },
   {
    "duration": 52,
    "start_time": "2021-07-08T09:02:49.638Z"
   },
   {
    "duration": 11,
    "start_time": "2021-07-08T09:02:49.692Z"
   },
   {
    "duration": 8,
    "start_time": "2021-07-08T09:02:49.704Z"
   },
   {
    "duration": 27,
    "start_time": "2021-07-08T09:02:49.713Z"
   },
   {
    "duration": 59,
    "start_time": "2021-07-08T09:02:49.741Z"
   },
   {
    "duration": 8,
    "start_time": "2021-07-08T09:02:49.803Z"
   },
   {
    "duration": 14,
    "start_time": "2021-07-08T09:02:49.813Z"
   },
   {
    "duration": 20,
    "start_time": "2021-07-08T09:02:49.829Z"
   },
   {
    "duration": 44,
    "start_time": "2021-07-08T09:02:49.851Z"
   },
   {
    "duration": 14,
    "start_time": "2021-07-08T09:02:49.896Z"
   },
   {
    "duration": 221,
    "start_time": "2021-07-08T09:02:49.912Z"
   },
   {
    "duration": 6,
    "start_time": "2021-07-08T09:02:50.134Z"
   },
   {
    "duration": 206,
    "start_time": "2021-07-08T09:02:50.142Z"
   },
   {
    "duration": 19,
    "start_time": "2021-07-08T09:02:50.350Z"
   },
   {
    "duration": 21,
    "start_time": "2021-07-08T09:02:50.370Z"
   },
   {
    "duration": 20,
    "start_time": "2021-07-08T09:02:50.393Z"
   },
   {
    "duration": 5,
    "start_time": "2021-07-08T09:02:50.414Z"
   },
   {
    "duration": 5,
    "start_time": "2021-07-08T09:03:34.173Z"
   },
   {
    "duration": 6,
    "start_time": "2021-07-08T09:04:49.062Z"
   },
   {
    "duration": 9,
    "start_time": "2021-07-08T09:04:50.118Z"
   },
   {
    "duration": 14,
    "start_time": "2021-07-08T09:04:58.512Z"
   },
   {
    "duration": 9,
    "start_time": "2021-07-08T09:05:10.988Z"
   },
   {
    "duration": 11,
    "start_time": "2021-07-08T09:05:11.743Z"
   },
   {
    "duration": 7,
    "start_time": "2021-07-08T09:05:25.677Z"
   },
   {
    "duration": 13,
    "start_time": "2021-07-08T09:05:47.189Z"
   },
   {
    "duration": 13,
    "start_time": "2021-07-08T09:05:54.755Z"
   },
   {
    "duration": 4,
    "start_time": "2021-07-08T09:06:29.189Z"
   },
   {
    "duration": 244,
    "start_time": "2021-07-08T09:06:29.195Z"
   },
   {
    "duration": 91,
    "start_time": "2021-07-08T09:06:29.441Z"
   },
   {
    "duration": 4,
    "start_time": "2021-07-08T09:06:29.534Z"
   },
   {
    "duration": 28,
    "start_time": "2021-07-08T09:06:29.540Z"
   },
   {
    "duration": 6,
    "start_time": "2021-07-08T09:06:29.570Z"
   },
   {
    "duration": 18,
    "start_time": "2021-07-08T09:06:29.578Z"
   },
   {
    "duration": 5,
    "start_time": "2021-07-08T09:06:29.597Z"
   },
   {
    "duration": 13,
    "start_time": "2021-07-08T09:06:29.605Z"
   },
   {
    "duration": 8,
    "start_time": "2021-07-08T09:06:29.620Z"
   },
   {
    "duration": 7,
    "start_time": "2021-07-08T09:06:29.630Z"
   },
   {
    "duration": 63,
    "start_time": "2021-07-08T09:06:29.639Z"
   },
   {
    "duration": 17,
    "start_time": "2021-07-08T09:06:29.704Z"
   },
   {
    "duration": 20,
    "start_time": "2021-07-08T09:06:29.723Z"
   },
   {
    "duration": 6,
    "start_time": "2021-07-08T09:06:29.745Z"
   },
   {
    "duration": 3,
    "start_time": "2021-07-08T09:06:29.752Z"
   },
   {
    "duration": 7,
    "start_time": "2021-07-08T09:06:29.785Z"
   },
   {
    "duration": 11,
    "start_time": "2021-07-08T09:06:29.794Z"
   },
   {
    "duration": 15,
    "start_time": "2021-07-08T09:06:29.807Z"
   },
   {
    "duration": 8,
    "start_time": "2021-07-08T09:06:29.823Z"
   },
   {
    "duration": 70,
    "start_time": "2021-07-08T09:06:29.832Z"
   },
   {
    "duration": 17,
    "start_time": "2021-07-08T09:06:29.903Z"
   },
   {
    "duration": 9,
    "start_time": "2021-07-08T09:06:29.921Z"
   },
   {
    "duration": 9,
    "start_time": "2021-07-08T09:06:29.932Z"
   },
   {
    "duration": 57,
    "start_time": "2021-07-08T09:06:29.942Z"
   },
   {
    "duration": 11,
    "start_time": "2021-07-08T09:06:30.001Z"
   },
   {
    "duration": 19,
    "start_time": "2021-07-08T09:06:30.016Z"
   },
   {
    "duration": 217,
    "start_time": "2021-07-08T09:06:30.037Z"
   },
   {
    "duration": 6,
    "start_time": "2021-07-08T09:06:30.255Z"
   },
   {
    "duration": 205,
    "start_time": "2021-07-08T09:06:30.263Z"
   },
   {
    "duration": 27,
    "start_time": "2021-07-08T09:06:30.470Z"
   },
   {
    "duration": 11,
    "start_time": "2021-07-08T09:06:30.500Z"
   },
   {
    "duration": 31,
    "start_time": "2021-07-08T09:06:30.513Z"
   },
   {
    "duration": 18,
    "start_time": "2021-07-08T09:06:30.546Z"
   },
   {
    "duration": 11,
    "start_time": "2021-07-08T09:06:30.566Z"
   },
   {
    "duration": 19,
    "start_time": "2021-07-08T09:06:30.579Z"
   },
   {
    "duration": 20,
    "start_time": "2021-07-08T09:06:49.466Z"
   },
   {
    "duration": 9,
    "start_time": "2021-07-08T09:06:51.994Z"
   },
   {
    "duration": 20,
    "start_time": "2021-07-08T09:06:52.273Z"
   },
   {
    "duration": 246,
    "start_time": "2021-07-08T09:10:21.272Z"
   },
   {
    "duration": 84,
    "start_time": "2021-07-08T09:10:21.436Z"
   },
   {
    "duration": 7,
    "start_time": "2021-07-08T09:10:37.608Z"
   },
   {
    "duration": 189,
    "start_time": "2021-07-08T09:10:38.573Z"
   },
   {
    "duration": 185,
    "start_time": "2021-07-08T09:10:53.181Z"
   },
   {
    "duration": 11,
    "start_time": "2021-07-08T09:10:59.549Z"
   },
   {
    "duration": 42,
    "start_time": "2021-07-08T09:10:59.709Z"
   },
   {
    "duration": 12,
    "start_time": "2021-07-08T09:11:02.857Z"
   },
   {
    "duration": 28,
    "start_time": "2021-07-08T09:11:10.062Z"
   },
   {
    "duration": 249,
    "start_time": "2021-07-08T09:11:37.388Z"
   },
   {
    "duration": 232,
    "start_time": "2021-07-08T09:11:49.485Z"
   },
   {
    "duration": 453,
    "start_time": "2021-07-08T09:12:01.546Z"
   },
   {
    "duration": 440,
    "start_time": "2021-07-08T09:12:12.347Z"
   },
   {
    "duration": 213,
    "start_time": "2021-07-08T09:13:32.196Z"
   },
   {
    "duration": 172,
    "start_time": "2021-07-08T09:14:07.400Z"
   },
   {
    "duration": 185,
    "start_time": "2021-07-08T09:14:14.905Z"
   },
   {
    "duration": 209,
    "start_time": "2021-07-08T09:14:40.109Z"
   },
   {
    "duration": 201,
    "start_time": "2021-07-08T09:14:54.506Z"
   },
   {
    "duration": 622,
    "start_time": "2021-07-08T09:18:14.497Z"
   },
   {
    "duration": 220,
    "start_time": "2021-07-08T09:18:15.121Z"
   },
   {
    "duration": 79,
    "start_time": "2021-07-08T09:18:15.343Z"
   },
   {
    "duration": 4,
    "start_time": "2021-07-08T09:18:15.425Z"
   },
   {
    "duration": 24,
    "start_time": "2021-07-08T09:18:15.431Z"
   },
   {
    "duration": 8,
    "start_time": "2021-07-08T09:18:15.457Z"
   },
   {
    "duration": 16,
    "start_time": "2021-07-08T09:18:15.466Z"
   },
   {
    "duration": 5,
    "start_time": "2021-07-08T09:18:15.484Z"
   },
   {
    "duration": 10,
    "start_time": "2021-07-08T09:18:15.493Z"
   },
   {
    "duration": 8,
    "start_time": "2021-07-08T09:18:15.504Z"
   },
   {
    "duration": 7,
    "start_time": "2021-07-08T09:18:15.513Z"
   },
   {
    "duration": 26,
    "start_time": "2021-07-08T09:18:15.522Z"
   },
   {
    "duration": 49,
    "start_time": "2021-07-08T09:18:15.550Z"
   },
   {
    "duration": 21,
    "start_time": "2021-07-08T09:18:15.601Z"
   },
   {
    "duration": 8,
    "start_time": "2021-07-08T09:18:15.624Z"
   },
   {
    "duration": 3,
    "start_time": "2021-07-08T09:18:15.634Z"
   },
   {
    "duration": 8,
    "start_time": "2021-07-08T09:18:15.639Z"
   },
   {
    "duration": 45,
    "start_time": "2021-07-08T09:18:15.649Z"
   },
   {
    "duration": 13,
    "start_time": "2021-07-08T09:18:15.696Z"
   },
   {
    "duration": 10,
    "start_time": "2021-07-08T09:18:15.711Z"
   },
   {
    "duration": 64,
    "start_time": "2021-07-08T09:18:15.722Z"
   },
   {
    "duration": 19,
    "start_time": "2021-07-08T09:18:15.788Z"
   },
   {
    "duration": 9,
    "start_time": "2021-07-08T09:18:15.809Z"
   },
   {
    "duration": 9,
    "start_time": "2021-07-08T09:18:15.820Z"
   },
   {
    "duration": 18,
    "start_time": "2021-07-08T09:18:15.831Z"
   },
   {
    "duration": 43,
    "start_time": "2021-07-08T09:18:15.851Z"
   },
   {
    "duration": 12,
    "start_time": "2021-07-08T09:18:15.897Z"
   },
   {
    "duration": 219,
    "start_time": "2021-07-08T09:18:15.911Z"
   },
   {
    "duration": 8,
    "start_time": "2021-07-08T09:18:16.132Z"
   },
   {
    "duration": 199,
    "start_time": "2021-07-08T09:18:16.141Z"
   },
   {
    "duration": 18,
    "start_time": "2021-07-08T09:18:16.341Z"
   },
   {
    "duration": 24,
    "start_time": "2021-07-08T09:18:16.361Z"
   },
   {
    "duration": 24,
    "start_time": "2021-07-08T09:18:16.387Z"
   },
   {
    "duration": 211,
    "start_time": "2021-07-08T09:18:16.413Z"
   },
   {
    "duration": 18,
    "start_time": "2021-07-08T09:18:16.626Z"
   },
   {
    "duration": 596,
    "start_time": "2021-07-08T10:06:33.623Z"
   },
   {
    "duration": 181,
    "start_time": "2021-07-08T10:06:34.221Z"
   },
   {
    "duration": 176,
    "start_time": "2021-07-08T10:06:34.635Z"
   },
   {
    "duration": 239,
    "start_time": "2021-07-08T10:06:55.572Z"
   },
   {
    "duration": 6,
    "start_time": "2021-07-08T10:06:57.687Z"
   },
   {
    "duration": 4,
    "start_time": "2021-07-08T10:07:03.956Z"
   },
   {
    "duration": 4,
    "start_time": "2021-07-08T10:07:10.376Z"
   },
   {
    "duration": 4,
    "start_time": "2021-07-08T10:17:19.889Z"
   },
   {
    "duration": 3,
    "start_time": "2021-07-08T10:19:19.407Z"
   },
   {
    "duration": 197,
    "start_time": "2021-07-08T10:19:19.412Z"
   },
   {
    "duration": 127,
    "start_time": "2021-07-08T10:19:19.611Z"
   },
   {
    "duration": 4,
    "start_time": "2021-07-08T10:19:19.740Z"
   },
   {
    "duration": 27,
    "start_time": "2021-07-08T10:19:19.746Z"
   },
   {
    "duration": 7,
    "start_time": "2021-07-08T10:19:19.775Z"
   },
   {
    "duration": 30,
    "start_time": "2021-07-08T10:19:19.784Z"
   },
   {
    "duration": 7,
    "start_time": "2021-07-08T10:19:19.817Z"
   },
   {
    "duration": 26,
    "start_time": "2021-07-08T10:19:19.826Z"
   },
   {
    "duration": 18,
    "start_time": "2021-07-08T10:19:19.854Z"
   },
   {
    "duration": 14,
    "start_time": "2021-07-08T10:19:19.874Z"
   },
   {
    "duration": 48,
    "start_time": "2021-07-08T10:19:19.890Z"
   },
   {
    "duration": 17,
    "start_time": "2021-07-08T10:19:19.940Z"
   },
   {
    "duration": 38,
    "start_time": "2021-07-08T10:19:19.959Z"
   },
   {
    "duration": 8,
    "start_time": "2021-07-08T10:19:19.999Z"
   },
   {
    "duration": 15,
    "start_time": "2021-07-08T10:19:20.009Z"
   },
   {
    "duration": 22,
    "start_time": "2021-07-08T10:19:20.026Z"
   },
   {
    "duration": 10,
    "start_time": "2021-07-08T10:19:20.050Z"
   },
   {
    "duration": 10,
    "start_time": "2021-07-08T10:19:20.062Z"
   },
   {
    "duration": 20,
    "start_time": "2021-07-08T10:19:20.073Z"
   },
   {
    "duration": 29,
    "start_time": "2021-07-08T10:19:20.095Z"
   },
   {
    "duration": 17,
    "start_time": "2021-07-08T10:19:20.126Z"
   },
   {
    "duration": 40,
    "start_time": "2021-07-08T10:19:20.146Z"
   },
   {
    "duration": 15,
    "start_time": "2021-07-08T10:19:20.189Z"
   },
   {
    "duration": 19,
    "start_time": "2021-07-08T10:19:20.206Z"
   },
   {
    "duration": 10,
    "start_time": "2021-07-08T10:19:20.226Z"
   },
   {
    "duration": 11,
    "start_time": "2021-07-08T10:19:20.238Z"
   },
   {
    "duration": 297,
    "start_time": "2021-07-08T10:19:20.250Z"
   },
   {
    "duration": 6,
    "start_time": "2021-07-08T10:19:20.549Z"
   },
   {
    "duration": 191,
    "start_time": "2021-07-08T10:19:20.557Z"
   },
   {
    "duration": 19,
    "start_time": "2021-07-08T10:19:20.750Z"
   },
   {
    "duration": 20,
    "start_time": "2021-07-08T10:19:20.771Z"
   },
   {
    "duration": 15,
    "start_time": "2021-07-08T10:19:20.793Z"
   },
   {
    "duration": 222,
    "start_time": "2021-07-08T10:19:20.809Z"
   },
   {
    "duration": 20,
    "start_time": "2021-07-08T10:19:21.033Z"
   },
   {
    "duration": 27,
    "start_time": "2021-07-08T10:45:04.055Z"
   },
   {
    "duration": 8,
    "start_time": "2021-07-08T10:45:08.478Z"
   },
   {
    "duration": 8,
    "start_time": "2021-07-08T10:45:31.982Z"
   },
   {
    "duration": 10,
    "start_time": "2021-07-08T10:46:01.221Z"
   },
   {
    "duration": 17,
    "start_time": "2021-07-08T10:46:40.011Z"
   },
   {
    "duration": 193,
    "start_time": "2021-07-08T10:48:19.471Z"
   },
   {
    "duration": 225,
    "start_time": "2021-07-08T10:49:26.480Z"
   },
   {
    "duration": 204,
    "start_time": "2021-07-08T10:49:59.992Z"
   },
   {
    "duration": 435,
    "start_time": "2021-07-08T10:50:06.779Z"
   },
   {
    "duration": 199,
    "start_time": "2021-07-08T10:50:14.891Z"
   },
   {
    "duration": 204,
    "start_time": "2021-07-08T10:50:18.501Z"
   },
   {
    "duration": 244,
    "start_time": "2021-07-08T10:50:23.359Z"
   },
   {
    "duration": 192,
    "start_time": "2021-07-08T10:50:29.135Z"
   },
   {
    "duration": 218,
    "start_time": "2021-07-08T10:50:33.092Z"
   },
   {
    "duration": 207,
    "start_time": "2021-07-08T10:52:45.381Z"
   },
   {
    "duration": 5,
    "start_time": "2021-07-08T10:53:34.641Z"
   },
   {
    "duration": 196,
    "start_time": "2021-07-08T10:53:41.478Z"
   },
   {
    "duration": 43,
    "start_time": "2021-07-08T10:53:50.335Z"
   },
   {
    "duration": 32,
    "start_time": "2021-07-08T10:53:55.294Z"
   },
   {
    "duration": 55,
    "start_time": "2021-07-08T10:54:09.675Z"
   },
   {
    "duration": 16,
    "start_time": "2021-07-08T10:54:12.260Z"
   },
   {
    "duration": 15,
    "start_time": "2021-07-08T10:54:49.150Z"
   },
   {
    "duration": 20,
    "start_time": "2021-07-08T10:56:07.596Z"
   },
   {
    "duration": 16,
    "start_time": "2021-07-08T10:58:26.276Z"
   },
   {
    "duration": 22,
    "start_time": "2021-07-08T10:59:00.486Z"
   },
   {
    "duration": 18,
    "start_time": "2021-07-08T11:02:09.653Z"
   },
   {
    "duration": 10,
    "start_time": "2021-07-08T11:03:44.331Z"
   },
   {
    "duration": 10,
    "start_time": "2021-07-08T11:03:54.055Z"
   },
   {
    "duration": 12,
    "start_time": "2021-07-08T11:04:41.967Z"
   },
   {
    "duration": 24,
    "start_time": "2021-07-08T11:07:30.732Z"
   },
   {
    "duration": 6,
    "start_time": "2021-07-08T11:07:37.364Z"
   },
   {
    "duration": 16,
    "start_time": "2021-07-08T11:08:01.819Z"
   },
   {
    "duration": 17,
    "start_time": "2021-07-08T11:09:47.488Z"
   },
   {
    "duration": 246,
    "start_time": "2021-07-08T11:10:00.830Z"
   },
   {
    "duration": 18,
    "start_time": "2021-07-08T11:13:55.195Z"
   },
   {
    "duration": 204,
    "start_time": "2021-07-08T11:14:04.951Z"
   },
   {
    "duration": 19,
    "start_time": "2021-07-08T11:15:10.613Z"
   },
   {
    "duration": 680,
    "start_time": "2021-07-08T11:16:25.793Z"
   },
   {
    "duration": 451,
    "start_time": "2021-07-08T11:16:40.313Z"
   },
   {
    "duration": 469,
    "start_time": "2021-07-08T11:17:21.286Z"
   },
   {
    "duration": 20,
    "start_time": "2021-07-08T11:19:12.554Z"
   },
   {
    "duration": 35,
    "start_time": "2021-07-08T11:20:05.484Z"
   },
   {
    "duration": 53,
    "start_time": "2021-07-08T11:21:40.050Z"
   },
   {
    "duration": 13,
    "start_time": "2021-07-08T11:22:26.059Z"
   },
   {
    "duration": 19,
    "start_time": "2021-07-08T11:22:47.419Z"
   },
   {
    "duration": 25,
    "start_time": "2021-07-08T11:23:19.958Z"
   },
   {
    "duration": 29,
    "start_time": "2021-07-08T11:23:25.415Z"
   },
   {
    "duration": 10,
    "start_time": "2021-07-08T11:24:45.138Z"
   },
   {
    "duration": 19,
    "start_time": "2021-07-08T11:24:54.498Z"
   },
   {
    "duration": 12,
    "start_time": "2021-07-08T11:25:32.225Z"
   },
   {
    "duration": 19,
    "start_time": "2021-07-08T11:25:37.092Z"
   },
   {
    "duration": 17,
    "start_time": "2021-07-08T11:25:58.116Z"
   },
   {
    "duration": 15,
    "start_time": "2021-07-08T11:26:02.258Z"
   },
   {
    "duration": 8,
    "start_time": "2021-07-08T11:26:59.682Z"
   },
   {
    "duration": 184,
    "start_time": "2021-07-08T11:27:21.894Z"
   },
   {
    "duration": 8,
    "start_time": "2021-07-08T11:27:23.824Z"
   },
   {
    "duration": 202,
    "start_time": "2021-07-08T11:27:23.962Z"
   },
   {
    "duration": 360,
    "start_time": "2021-07-08T11:28:33.215Z"
   },
   {
    "duration": 231,
    "start_time": "2021-07-08T11:32:05.542Z"
   },
   {
    "duration": 607,
    "start_time": "2021-07-08T11:36:27.854Z"
   },
   {
    "duration": 241,
    "start_time": "2021-07-08T11:36:28.463Z"
   },
   {
    "duration": 67,
    "start_time": "2021-07-08T11:36:28.709Z"
   },
   {
    "duration": 5,
    "start_time": "2021-07-08T11:36:28.778Z"
   },
   {
    "duration": 32,
    "start_time": "2021-07-08T11:36:28.784Z"
   },
   {
    "duration": 11,
    "start_time": "2021-07-08T11:36:28.819Z"
   },
   {
    "duration": 20,
    "start_time": "2021-07-08T11:36:28.834Z"
   },
   {
    "duration": 36,
    "start_time": "2021-07-08T11:36:28.857Z"
   },
   {
    "duration": 16,
    "start_time": "2021-07-08T11:36:28.895Z"
   },
   {
    "duration": 14,
    "start_time": "2021-07-08T11:36:28.913Z"
   },
   {
    "duration": 9,
    "start_time": "2021-07-08T11:36:28.930Z"
   },
   {
    "duration": 55,
    "start_time": "2021-07-08T11:36:28.941Z"
   },
   {
    "duration": 27,
    "start_time": "2021-07-08T11:36:28.999Z"
   },
   {
    "duration": 30,
    "start_time": "2021-07-08T11:36:29.028Z"
   },
   {
    "duration": 31,
    "start_time": "2021-07-08T11:36:29.060Z"
   },
   {
    "duration": 3,
    "start_time": "2021-07-08T11:36:29.093Z"
   },
   {
    "duration": 12,
    "start_time": "2021-07-08T11:36:29.099Z"
   },
   {
    "duration": 11,
    "start_time": "2021-07-08T11:36:29.112Z"
   },
   {
    "duration": 12,
    "start_time": "2021-07-08T11:36:29.125Z"
   },
   {
    "duration": 9,
    "start_time": "2021-07-08T11:36:29.139Z"
   },
   {
    "duration": 31,
    "start_time": "2021-07-08T11:36:29.191Z"
   },
   {
    "duration": 17,
    "start_time": "2021-07-08T11:36:29.226Z"
   },
   {
    "duration": 7,
    "start_time": "2021-07-08T11:36:29.245Z"
   },
   {
    "duration": 10,
    "start_time": "2021-07-08T11:36:29.254Z"
   },
   {
    "duration": 30,
    "start_time": "2021-07-08T11:36:29.292Z"
   },
   {
    "duration": 11,
    "start_time": "2021-07-08T11:36:29.324Z"
   },
   {
    "duration": 11,
    "start_time": "2021-07-08T11:36:29.337Z"
   },
   {
    "duration": 230,
    "start_time": "2021-07-08T11:36:29.349Z"
   },
   {
    "duration": 13,
    "start_time": "2021-07-08T11:36:29.588Z"
   },
   {
    "duration": 205,
    "start_time": "2021-07-08T11:36:29.603Z"
   },
   {
    "duration": 20,
    "start_time": "2021-07-08T11:36:29.810Z"
   },
   {
    "duration": 9,
    "start_time": "2021-07-08T11:36:29.832Z"
   },
   {
    "duration": 16,
    "start_time": "2021-07-08T11:36:29.843Z"
   },
   {
    "duration": 283,
    "start_time": "2021-07-08T11:36:29.861Z"
   },
   {
    "duration": 50,
    "start_time": "2021-07-08T11:36:30.146Z"
   },
   {
    "duration": 14,
    "start_time": "2021-07-08T11:36:30.198Z"
   },
   {
    "duration": 11,
    "start_time": "2021-07-08T11:36:30.214Z"
   },
   {
    "duration": 245,
    "start_time": "2021-07-08T11:36:30.227Z"
   },
   {
    "duration": 439,
    "start_time": "2021-07-08T11:36:30.474Z"
   },
   {
    "duration": 210,
    "start_time": "2021-07-08T11:36:30.915Z"
   },
   {
    "duration": 15,
    "start_time": "2021-07-08T11:36:31.127Z"
   },
   {
    "duration": 17,
    "start_time": "2021-07-08T11:38:20.451Z"
   },
   {
    "duration": 642,
    "start_time": "2021-07-08T11:46:17.881Z"
   },
   {
    "duration": 210,
    "start_time": "2021-07-08T11:46:18.525Z"
   },
   {
    "duration": 104,
    "start_time": "2021-07-08T11:46:18.741Z"
   },
   {
    "duration": 8,
    "start_time": "2021-07-08T11:46:18.847Z"
   },
   {
    "duration": 25,
    "start_time": "2021-07-08T11:46:18.857Z"
   },
   {
    "duration": 14,
    "start_time": "2021-07-08T11:46:18.884Z"
   },
   {
    "duration": 22,
    "start_time": "2021-07-08T11:46:18.900Z"
   },
   {
    "duration": 5,
    "start_time": "2021-07-08T11:46:18.924Z"
   },
   {
    "duration": 13,
    "start_time": "2021-07-08T11:46:18.931Z"
   },
   {
    "duration": 45,
    "start_time": "2021-07-08T11:46:18.946Z"
   },
   {
    "duration": 12,
    "start_time": "2021-07-08T11:46:18.993Z"
   },
   {
    "duration": 38,
    "start_time": "2021-07-08T11:46:19.006Z"
   },
   {
    "duration": 50,
    "start_time": "2021-07-08T11:46:19.046Z"
   },
   {
    "duration": 29,
    "start_time": "2021-07-08T11:46:19.099Z"
   },
   {
    "duration": 7,
    "start_time": "2021-07-08T11:46:19.130Z"
   },
   {
    "duration": 3,
    "start_time": "2021-07-08T11:46:19.139Z"
   },
   {
    "duration": 11,
    "start_time": "2021-07-08T11:46:19.144Z"
   },
   {
    "duration": 40,
    "start_time": "2021-07-08T11:46:19.157Z"
   },
   {
    "duration": 15,
    "start_time": "2021-07-08T11:46:19.199Z"
   },
   {
    "duration": 10,
    "start_time": "2021-07-08T11:46:19.217Z"
   },
   {
    "duration": 68,
    "start_time": "2021-07-08T11:46:19.230Z"
   },
   {
    "duration": 17,
    "start_time": "2021-07-08T11:46:19.301Z"
   },
   {
    "duration": 7,
    "start_time": "2021-07-08T11:46:19.321Z"
   },
   {
    "duration": 11,
    "start_time": "2021-07-08T11:46:19.330Z"
   },
   {
    "duration": 59,
    "start_time": "2021-07-08T11:46:19.343Z"
   },
   {
    "duration": 17,
    "start_time": "2021-07-08T11:46:19.405Z"
   },
   {
    "duration": 16,
    "start_time": "2021-07-08T11:46:19.424Z"
   },
   {
    "duration": 252,
    "start_time": "2021-07-08T11:46:19.443Z"
   },
   {
    "duration": 9,
    "start_time": "2021-07-08T11:46:19.697Z"
   },
   {
    "duration": 224,
    "start_time": "2021-07-08T11:46:19.708Z"
   },
   {
    "duration": 21,
    "start_time": "2021-07-08T11:46:19.934Z"
   },
   {
    "duration": 9,
    "start_time": "2021-07-08T11:46:19.956Z"
   },
   {
    "duration": 32,
    "start_time": "2021-07-08T11:46:19.967Z"
   },
   {
    "duration": 288,
    "start_time": "2021-07-08T11:46:20.004Z"
   },
   {
    "duration": 23,
    "start_time": "2021-07-08T11:46:20.300Z"
   },
   {
    "duration": 11,
    "start_time": "2021-07-08T11:46:20.325Z"
   },
   {
    "duration": 11,
    "start_time": "2021-07-08T11:46:20.339Z"
   },
   {
    "duration": 259,
    "start_time": "2021-07-08T11:46:20.352Z"
   },
   {
    "duration": 438,
    "start_time": "2021-07-08T11:46:20.613Z"
   },
   {
    "duration": 207,
    "start_time": "2021-07-08T11:46:21.054Z"
   },
   {
    "duration": 27,
    "start_time": "2021-07-08T11:46:21.262Z"
   },
   {
    "duration": 19,
    "start_time": "2021-07-08T11:46:21.291Z"
   },
   {
    "duration": 820,
    "start_time": "2021-07-08T11:49:01.655Z"
   },
   {
    "duration": 372,
    "start_time": "2021-07-08T11:49:02.478Z"
   },
   {
    "duration": 98,
    "start_time": "2021-07-08T11:49:02.853Z"
   },
   {
    "duration": 6,
    "start_time": "2021-07-08T11:49:02.953Z"
   },
   {
    "duration": 39,
    "start_time": "2021-07-08T11:49:02.960Z"
   },
   {
    "duration": 9,
    "start_time": "2021-07-08T11:49:03.003Z"
   },
   {
    "duration": 23,
    "start_time": "2021-07-08T11:49:03.014Z"
   },
   {
    "duration": 6,
    "start_time": "2021-07-08T11:49:03.041Z"
   },
   {
    "duration": 20,
    "start_time": "2021-07-08T11:49:03.049Z"
   },
   {
    "duration": 18,
    "start_time": "2021-07-08T11:49:03.084Z"
   },
   {
    "duration": 14,
    "start_time": "2021-07-08T11:49:03.104Z"
   },
   {
    "duration": 39,
    "start_time": "2021-07-08T11:49:03.119Z"
   },
   {
    "duration": 38,
    "start_time": "2021-07-08T11:49:03.160Z"
   },
   {
    "duration": 26,
    "start_time": "2021-07-08T11:49:03.200Z"
   },
   {
    "duration": 7,
    "start_time": "2021-07-08T11:49:03.227Z"
   },
   {
    "duration": 4,
    "start_time": "2021-07-08T11:49:03.236Z"
   },
   {
    "duration": 15,
    "start_time": "2021-07-08T11:49:03.243Z"
   },
   {
    "duration": 21,
    "start_time": "2021-07-08T11:49:03.285Z"
   },
   {
    "duration": 17,
    "start_time": "2021-07-08T11:49:03.309Z"
   },
   {
    "duration": 10,
    "start_time": "2021-07-08T11:49:03.328Z"
   },
   {
    "duration": 65,
    "start_time": "2021-07-08T11:49:03.340Z"
   },
   {
    "duration": 18,
    "start_time": "2021-07-08T11:49:03.407Z"
   },
   {
    "duration": 8,
    "start_time": "2021-07-08T11:49:03.428Z"
   },
   {
    "duration": 15,
    "start_time": "2021-07-08T11:49:03.438Z"
   },
   {
    "duration": 40,
    "start_time": "2021-07-08T11:49:03.455Z"
   },
   {
    "duration": 12,
    "start_time": "2021-07-08T11:49:03.497Z"
   },
   {
    "duration": 29,
    "start_time": "2021-07-08T11:49:03.511Z"
   },
   {
    "duration": 285,
    "start_time": "2021-07-08T11:49:03.542Z"
   },
   {
    "duration": 8,
    "start_time": "2021-07-08T11:49:03.829Z"
   },
   {
    "duration": 227,
    "start_time": "2021-07-08T11:49:03.838Z"
   },
   {
    "duration": 40,
    "start_time": "2021-07-08T11:49:04.066Z"
   },
   {
    "duration": 10,
    "start_time": "2021-07-08T11:49:04.108Z"
   },
   {
    "duration": 26,
    "start_time": "2021-07-08T11:49:04.121Z"
   },
   {
    "duration": 290,
    "start_time": "2021-07-08T11:49:04.149Z"
   },
   {
    "duration": 26,
    "start_time": "2021-07-08T11:49:04.441Z"
   },
   {
    "duration": 31,
    "start_time": "2021-07-08T11:49:04.470Z"
   },
   {
    "duration": 14,
    "start_time": "2021-07-08T11:49:04.503Z"
   },
   {
    "duration": 259,
    "start_time": "2021-07-08T11:49:04.521Z"
   },
   {
    "duration": 480,
    "start_time": "2021-07-08T11:49:04.782Z"
   },
   {
    "duration": 225,
    "start_time": "2021-07-08T11:49:05.264Z"
   },
   {
    "duration": 22,
    "start_time": "2021-07-08T11:49:05.491Z"
   },
   {
    "duration": 24,
    "start_time": "2021-07-08T11:49:05.515Z"
   },
   {
    "duration": 634,
    "start_time": "2021-07-08T11:52:24.960Z"
   },
   {
    "duration": 199,
    "start_time": "2021-07-08T11:52:25.599Z"
   },
   {
    "duration": 106,
    "start_time": "2021-07-08T11:52:25.803Z"
   },
   {
    "duration": 7,
    "start_time": "2021-07-08T11:52:25.911Z"
   },
   {
    "duration": 29,
    "start_time": "2021-07-08T11:52:25.920Z"
   },
   {
    "duration": 7,
    "start_time": "2021-07-08T11:52:25.951Z"
   },
   {
    "duration": 26,
    "start_time": "2021-07-08T11:52:25.961Z"
   },
   {
    "duration": 11,
    "start_time": "2021-07-08T11:52:25.990Z"
   },
   {
    "duration": 29,
    "start_time": "2021-07-08T11:52:26.005Z"
   },
   {
    "duration": 9,
    "start_time": "2021-07-08T11:52:26.036Z"
   },
   {
    "duration": 8,
    "start_time": "2021-07-08T11:52:26.047Z"
   },
   {
    "duration": 63,
    "start_time": "2021-07-08T11:52:26.057Z"
   },
   {
    "duration": 17,
    "start_time": "2021-07-08T11:52:26.122Z"
   },
   {
    "duration": 43,
    "start_time": "2021-07-08T11:52:26.142Z"
   },
   {
    "duration": 17,
    "start_time": "2021-07-08T11:52:26.187Z"
   },
   {
    "duration": 5,
    "start_time": "2021-07-08T11:52:26.206Z"
   },
   {
    "duration": 12,
    "start_time": "2021-07-08T11:52:26.212Z"
   },
   {
    "duration": 11,
    "start_time": "2021-07-08T11:52:26.226Z"
   },
   {
    "duration": 12,
    "start_time": "2021-07-08T11:52:26.238Z"
   },
   {
    "duration": 38,
    "start_time": "2021-07-08T11:52:26.252Z"
   },
   {
    "duration": 40,
    "start_time": "2021-07-08T11:52:26.292Z"
   },
   {
    "duration": 17,
    "start_time": "2021-07-08T11:52:26.336Z"
   },
   {
    "duration": 39,
    "start_time": "2021-07-08T11:52:26.355Z"
   },
   {
    "duration": 11,
    "start_time": "2021-07-08T11:52:26.395Z"
   },
   {
    "duration": 23,
    "start_time": "2021-07-08T11:52:26.408Z"
   },
   {
    "duration": 12,
    "start_time": "2021-07-08T11:52:26.432Z"
   },
   {
    "duration": 41,
    "start_time": "2021-07-08T11:52:26.446Z"
   },
   {
    "duration": 215,
    "start_time": "2021-07-08T11:52:26.493Z"
   },
   {
    "duration": 8,
    "start_time": "2021-07-08T11:52:26.710Z"
   },
   {
    "duration": 228,
    "start_time": "2021-07-08T11:52:26.720Z"
   },
   {
    "duration": 18,
    "start_time": "2021-07-08T11:52:26.950Z"
   },
   {
    "duration": 35,
    "start_time": "2021-07-08T11:52:26.969Z"
   },
   {
    "duration": 23,
    "start_time": "2021-07-08T11:52:27.006Z"
   },
   {
    "duration": 258,
    "start_time": "2021-07-08T11:52:27.030Z"
   },
   {
    "duration": 24,
    "start_time": "2021-07-08T11:52:27.290Z"
   },
   {
    "duration": 12,
    "start_time": "2021-07-08T11:52:27.316Z"
   },
   {
    "duration": 10,
    "start_time": "2021-07-08T11:52:27.329Z"
   },
   {
    "duration": 298,
    "start_time": "2021-07-08T11:52:27.341Z"
   },
   {
    "duration": 436,
    "start_time": "2021-07-08T11:52:27.641Z"
   },
   {
    "duration": 216,
    "start_time": "2021-07-08T11:52:28.079Z"
   },
   {
    "duration": 20,
    "start_time": "2021-07-08T11:52:28.297Z"
   },
   {
    "duration": 17,
    "start_time": "2021-07-08T11:52:28.319Z"
   },
   {
    "duration": 104,
    "start_time": "2022-02-06T15:23:17.813Z"
   },
   {
    "duration": 320,
    "start_time": "2022-02-06T15:27:16.246Z"
   },
   {
    "duration": 1105,
    "start_time": "2022-02-06T15:27:23.455Z"
   },
   {
    "duration": 58,
    "start_time": "2022-02-06T15:27:24.562Z"
   },
   {
    "duration": 17,
    "start_time": "2022-02-06T15:27:24.622Z"
   },
   {
    "duration": 31,
    "start_time": "2022-02-06T15:27:24.641Z"
   },
   {
    "duration": 7,
    "start_time": "2022-02-06T15:27:24.674Z"
   },
   {
    "duration": 12,
    "start_time": "2022-02-06T15:27:24.683Z"
   },
   {
    "duration": 5,
    "start_time": "2022-02-06T15:27:24.697Z"
   },
   {
    "duration": 22,
    "start_time": "2022-02-06T15:27:24.704Z"
   },
   {
    "duration": 5,
    "start_time": "2022-02-06T15:27:24.728Z"
   },
   {
    "duration": 6,
    "start_time": "2022-02-06T15:27:24.735Z"
   },
   {
    "duration": 23,
    "start_time": "2022-02-06T15:27:24.743Z"
   },
   {
    "duration": 7,
    "start_time": "2022-02-06T15:27:24.768Z"
   },
   {
    "duration": 42,
    "start_time": "2022-02-06T15:27:24.777Z"
   },
   {
    "duration": 10,
    "start_time": "2022-02-06T15:27:24.821Z"
   },
   {
    "duration": 27,
    "start_time": "2022-02-06T15:27:24.833Z"
   },
   {
    "duration": 18,
    "start_time": "2022-02-06T15:27:24.862Z"
   },
   {
    "duration": 39,
    "start_time": "2022-02-06T15:27:24.882Z"
   },
   {
    "duration": 10,
    "start_time": "2022-02-06T15:27:24.922Z"
   },
   {
    "duration": 6,
    "start_time": "2022-02-06T15:27:24.934Z"
   },
   {
    "duration": 9,
    "start_time": "2022-02-06T15:27:24.942Z"
   },
   {
    "duration": 7,
    "start_time": "2022-02-06T15:27:24.952Z"
   },
   {
    "duration": 6,
    "start_time": "2022-02-06T15:27:24.960Z"
   },
   {
    "duration": 142,
    "start_time": "2022-02-06T15:27:24.970Z"
   },
   {
    "duration": 6,
    "start_time": "2022-02-06T15:27:25.114Z"
   },
   {
    "duration": 8,
    "start_time": "2022-02-06T15:27:25.122Z"
   },
   {
    "duration": 6,
    "start_time": "2022-02-06T15:27:25.132Z"
   },
   {
    "duration": 9,
    "start_time": "2022-02-06T15:27:25.140Z"
   },
   {
    "duration": 9,
    "start_time": "2022-02-06T15:27:25.151Z"
   },
   {
    "duration": 5,
    "start_time": "2022-02-06T15:27:25.161Z"
   },
   {
    "duration": 10,
    "start_time": "2022-02-06T15:27:25.167Z"
   },
   {
    "duration": 37,
    "start_time": "2022-02-06T15:27:25.179Z"
   },
   {
    "duration": 19,
    "start_time": "2022-02-06T15:27:25.218Z"
   },
   {
    "duration": 24,
    "start_time": "2022-02-06T15:27:25.238Z"
   },
   {
    "duration": 10,
    "start_time": "2022-02-06T15:27:25.263Z"
   },
   {
    "duration": 48,
    "start_time": "2022-02-06T15:27:25.275Z"
   },
   {
    "duration": 7,
    "start_time": "2022-02-06T15:27:25.325Z"
   },
   {
    "duration": 19,
    "start_time": "2022-02-06T15:27:25.333Z"
   },
   {
    "duration": 18,
    "start_time": "2022-02-06T15:27:25.354Z"
   },
   {
    "duration": 39,
    "start_time": "2022-02-06T15:27:25.374Z"
   },
   {
    "duration": 22,
    "start_time": "2022-02-06T15:27:25.416Z"
   },
   {
    "duration": 7,
    "start_time": "2022-02-06T15:27:25.440Z"
   },
   {
    "duration": 5,
    "start_time": "2022-02-06T15:27:25.449Z"
   },
   {
    "duration": 8,
    "start_time": "2022-02-06T15:27:25.456Z"
   },
   {
    "duration": 10,
    "start_time": "2022-02-06T15:27:25.465Z"
   },
   {
    "duration": 5,
    "start_time": "2022-02-06T15:27:25.476Z"
   },
   {
    "duration": 33,
    "start_time": "2022-02-06T15:27:25.483Z"
   },
   {
    "duration": 5,
    "start_time": "2022-02-06T15:27:25.518Z"
   },
   {
    "duration": 29,
    "start_time": "2022-02-06T15:27:25.524Z"
   },
   {
    "duration": 6,
    "start_time": "2022-02-06T15:27:25.555Z"
   },
   {
    "duration": 7,
    "start_time": "2022-02-06T15:27:25.563Z"
   },
   {
    "duration": 41,
    "start_time": "2022-02-06T15:27:25.571Z"
   },
   {
    "duration": 4,
    "start_time": "2022-02-06T15:27:25.614Z"
   },
   {
    "duration": 21,
    "start_time": "2022-02-06T15:27:25.619Z"
   },
   {
    "duration": 575,
    "start_time": "2022-02-06T15:27:25.641Z"
   },
   {
    "duration": 567,
    "start_time": "2022-02-06T15:27:26.218Z"
   },
   {
    "duration": 714,
    "start_time": "2022-02-06T15:27:26.786Z"
   },
   {
    "duration": 29,
    "start_time": "2022-02-06T15:27:27.502Z"
   },
   {
    "duration": 26,
    "start_time": "2022-02-06T15:27:27.532Z"
   },
   {
    "duration": 14,
    "start_time": "2022-02-06T15:27:27.560Z"
   },
   {
    "duration": 7,
    "start_time": "2022-02-06T15:27:27.575Z"
   },
   {
    "duration": 45,
    "start_time": "2022-02-06T15:27:27.583Z"
   },
   {
    "duration": 19,
    "start_time": "2022-02-06T15:27:27.630Z"
   },
   {
    "duration": 5,
    "start_time": "2022-02-06T15:27:27.650Z"
   },
   {
    "duration": 21,
    "start_time": "2022-02-06T15:27:27.657Z"
   },
   {
    "duration": 48,
    "start_time": "2022-02-06T15:27:27.679Z"
   },
   {
    "duration": 18,
    "start_time": "2022-02-06T15:27:27.729Z"
   },
   {
    "duration": 288,
    "start_time": "2022-02-06T15:27:27.749Z"
   },
   {
    "duration": 21,
    "start_time": "2022-02-06T15:27:28.043Z"
   },
   {
    "duration": 329,
    "start_time": "2022-02-06T15:27:28.067Z"
   },
   {
    "duration": 827,
    "start_time": "2022-02-06T15:27:28.398Z"
   },
   {
    "duration": 27,
    "start_time": "2022-02-06T15:27:29.227Z"
   },
   {
    "duration": 393,
    "start_time": "2022-02-06T15:27:29.255Z"
   },
   {
    "duration": 14,
    "start_time": "2022-02-06T15:27:29.650Z"
   },
   {
    "duration": 25,
    "start_time": "2022-02-06T15:27:29.666Z"
   },
   {
    "duration": 36,
    "start_time": "2022-02-06T15:27:29.692Z"
   },
   {
    "duration": 306,
    "start_time": "2022-02-06T15:27:29.729Z"
   },
   {
    "duration": 48,
    "start_time": "2022-02-06T15:27:30.036Z"
   },
   {
    "duration": 6,
    "start_time": "2022-02-06T15:27:30.085Z"
   },
   {
    "duration": 16,
    "start_time": "2022-02-06T15:27:30.112Z"
   },
   {
    "duration": 11,
    "start_time": "2022-02-06T15:27:30.129Z"
   },
   {
    "duration": 10,
    "start_time": "2022-02-06T15:27:30.142Z"
   },
   {
    "duration": 11,
    "start_time": "2022-02-06T15:27:46.299Z"
   },
   {
    "duration": 1102,
    "start_time": "2022-02-06T15:27:51.964Z"
   },
   {
    "duration": 60,
    "start_time": "2022-02-06T15:27:53.067Z"
   },
   {
    "duration": 16,
    "start_time": "2022-02-06T15:27:53.129Z"
   },
   {
    "duration": 30,
    "start_time": "2022-02-06T15:27:53.147Z"
   },
   {
    "duration": 6,
    "start_time": "2022-02-06T15:27:53.179Z"
   },
   {
    "duration": 11,
    "start_time": "2022-02-06T15:27:53.186Z"
   },
   {
    "duration": 5,
    "start_time": "2022-02-06T15:27:53.198Z"
   },
   {
    "duration": 19,
    "start_time": "2022-02-06T15:27:53.205Z"
   },
   {
    "duration": 5,
    "start_time": "2022-02-06T15:27:53.226Z"
   },
   {
    "duration": 6,
    "start_time": "2022-02-06T15:27:53.232Z"
   },
   {
    "duration": 22,
    "start_time": "2022-02-06T15:27:53.240Z"
   },
   {
    "duration": 7,
    "start_time": "2022-02-06T15:27:53.263Z"
   },
   {
    "duration": 42,
    "start_time": "2022-02-06T15:27:53.271Z"
   },
   {
    "duration": 10,
    "start_time": "2022-02-06T15:27:53.315Z"
   },
   {
    "duration": 23,
    "start_time": "2022-02-06T15:27:53.326Z"
   },
   {
    "duration": 20,
    "start_time": "2022-02-06T15:27:53.351Z"
   },
   {
    "duration": 15,
    "start_time": "2022-02-06T15:27:53.373Z"
   },
   {
    "duration": 29,
    "start_time": "2022-02-06T15:27:53.390Z"
   },
   {
    "duration": 7,
    "start_time": "2022-02-06T15:27:53.420Z"
   },
   {
    "duration": 8,
    "start_time": "2022-02-06T15:27:53.428Z"
   },
   {
    "duration": 7,
    "start_time": "2022-02-06T15:27:53.438Z"
   },
   {
    "duration": 5,
    "start_time": "2022-02-06T15:27:53.447Z"
   },
   {
    "duration": 137,
    "start_time": "2022-02-06T15:27:53.457Z"
   },
   {
    "duration": 5,
    "start_time": "2022-02-06T15:27:53.597Z"
   },
   {
    "duration": 6,
    "start_time": "2022-02-06T15:27:53.612Z"
   },
   {
    "duration": 8,
    "start_time": "2022-02-06T15:27:53.619Z"
   },
   {
    "duration": 14,
    "start_time": "2022-02-06T15:27:53.628Z"
   },
   {
    "duration": 7,
    "start_time": "2022-02-06T15:27:53.643Z"
   },
   {
    "duration": 4,
    "start_time": "2022-02-06T15:27:53.652Z"
   },
   {
    "duration": 11,
    "start_time": "2022-02-06T15:27:53.658Z"
   },
   {
    "duration": 5,
    "start_time": "2022-02-06T15:27:53.670Z"
   },
   {
    "duration": 45,
    "start_time": "2022-02-06T15:27:53.677Z"
   },
   {
    "duration": 22,
    "start_time": "2022-02-06T15:27:53.724Z"
   },
   {
    "duration": 9,
    "start_time": "2022-02-06T15:27:53.748Z"
   },
   {
    "duration": 18,
    "start_time": "2022-02-06T15:27:53.759Z"
   },
   {
    "duration": 34,
    "start_time": "2022-02-06T15:27:53.779Z"
   },
   {
    "duration": 17,
    "start_time": "2022-02-06T15:27:53.815Z"
   },
   {
    "duration": 19,
    "start_time": "2022-02-06T15:27:53.833Z"
   },
   {
    "duration": 6,
    "start_time": "2022-02-06T15:27:53.854Z"
   },
   {
    "duration": 16,
    "start_time": "2022-02-06T15:27:53.862Z"
   },
   {
    "duration": 34,
    "start_time": "2022-02-06T15:27:53.879Z"
   },
   {
    "duration": 5,
    "start_time": "2022-02-06T15:27:53.914Z"
   },
   {
    "duration": 9,
    "start_time": "2022-02-06T15:27:53.921Z"
   },
   {
    "duration": 11,
    "start_time": "2022-02-06T15:27:53.932Z"
   },
   {
    "duration": 5,
    "start_time": "2022-02-06T15:27:53.944Z"
   },
   {
    "duration": 6,
    "start_time": "2022-02-06T15:27:53.950Z"
   },
   {
    "duration": 5,
    "start_time": "2022-02-06T15:27:53.958Z"
   },
   {
    "duration": 56,
    "start_time": "2022-02-06T15:27:53.964Z"
   },
   {
    "duration": 7,
    "start_time": "2022-02-06T15:27:54.022Z"
   },
   {
    "duration": 7,
    "start_time": "2022-02-06T15:27:54.030Z"
   },
   {
    "duration": 13,
    "start_time": "2022-02-06T15:27:54.039Z"
   },
   {
    "duration": 5,
    "start_time": "2022-02-06T15:27:54.053Z"
   },
   {
    "duration": 18,
    "start_time": "2022-02-06T15:27:54.060Z"
   },
   {
    "duration": 641,
    "start_time": "2022-02-06T15:27:54.080Z"
   },
   {
    "duration": 719,
    "start_time": "2022-02-06T15:27:54.723Z"
   },
   {
    "duration": 693,
    "start_time": "2022-02-06T15:27:55.443Z"
   },
   {
    "duration": 23,
    "start_time": "2022-02-06T15:27:56.137Z"
   },
   {
    "duration": 26,
    "start_time": "2022-02-06T15:27:56.162Z"
   },
   {
    "duration": 35,
    "start_time": "2022-02-06T15:27:56.190Z"
   },
   {
    "duration": 8,
    "start_time": "2022-02-06T15:27:56.227Z"
   },
   {
    "duration": 17,
    "start_time": "2022-02-06T15:27:56.237Z"
   },
   {
    "duration": 18,
    "start_time": "2022-02-06T15:27:56.256Z"
   },
   {
    "duration": 37,
    "start_time": "2022-02-06T15:27:56.276Z"
   },
   {
    "duration": 20,
    "start_time": "2022-02-06T15:27:56.315Z"
   },
   {
    "duration": 19,
    "start_time": "2022-02-06T15:27:56.337Z"
   },
   {
    "duration": 19,
    "start_time": "2022-02-06T15:27:56.357Z"
   },
   {
    "duration": 307,
    "start_time": "2022-02-06T15:27:56.378Z"
   },
   {
    "duration": 28,
    "start_time": "2022-02-06T15:27:56.690Z"
   },
   {
    "duration": 324,
    "start_time": "2022-02-06T15:27:56.720Z"
   },
   {
    "duration": 651,
    "start_time": "2022-02-06T15:27:57.046Z"
   },
   {
    "duration": 31,
    "start_time": "2022-02-06T15:27:57.698Z"
   },
   {
    "duration": 285,
    "start_time": "2022-02-06T15:27:57.730Z"
   },
   {
    "duration": 13,
    "start_time": "2022-02-06T15:27:58.017Z"
   },
   {
    "duration": 15,
    "start_time": "2022-02-06T15:27:58.032Z"
   },
   {
    "duration": 22,
    "start_time": "2022-02-06T15:27:58.049Z"
   },
   {
    "duration": 311,
    "start_time": "2022-02-06T15:27:58.072Z"
   },
   {
    "duration": 48,
    "start_time": "2022-02-06T15:27:58.385Z"
   },
   {
    "duration": 7,
    "start_time": "2022-02-06T15:27:58.435Z"
   },
   {
    "duration": 15,
    "start_time": "2022-02-06T15:27:58.443Z"
   },
   {
    "duration": 6,
    "start_time": "2022-02-06T15:27:58.459Z"
   },
   {
    "duration": 6,
    "start_time": "2022-02-06T15:27:58.467Z"
   },
   {
    "duration": 343,
    "start_time": "2022-02-06T17:14:39.759Z"
   },
   {
    "duration": 1117,
    "start_time": "2022-02-06T17:14:49.891Z"
   },
   {
    "duration": 58,
    "start_time": "2022-02-06T17:14:51.010Z"
   },
   {
    "duration": 17,
    "start_time": "2022-02-06T17:14:51.070Z"
   },
   {
    "duration": 41,
    "start_time": "2022-02-06T17:14:51.088Z"
   },
   {
    "duration": 6,
    "start_time": "2022-02-06T17:14:51.130Z"
   },
   {
    "duration": 12,
    "start_time": "2022-02-06T17:14:51.137Z"
   },
   {
    "duration": 5,
    "start_time": "2022-02-06T17:14:51.151Z"
   },
   {
    "duration": 17,
    "start_time": "2022-02-06T17:14:51.158Z"
   },
   {
    "duration": 4,
    "start_time": "2022-02-06T17:14:51.177Z"
   },
   {
    "duration": 6,
    "start_time": "2022-02-06T17:14:51.183Z"
   },
   {
    "duration": 20,
    "start_time": "2022-02-06T17:14:51.190Z"
   },
   {
    "duration": 7,
    "start_time": "2022-02-06T17:14:51.212Z"
   },
   {
    "duration": 11,
    "start_time": "2022-02-06T17:14:51.221Z"
   },
   {
    "duration": 11,
    "start_time": "2022-02-06T17:14:51.233Z"
   },
   {
    "duration": 42,
    "start_time": "2022-02-06T17:14:51.245Z"
   },
   {
    "duration": 15,
    "start_time": "2022-02-06T17:14:51.289Z"
   },
   {
    "duration": 15,
    "start_time": "2022-02-06T17:14:51.306Z"
   },
   {
    "duration": 9,
    "start_time": "2022-02-06T17:14:51.323Z"
   },
   {
    "duration": 6,
    "start_time": "2022-02-06T17:14:51.334Z"
   },
   {
    "duration": 33,
    "start_time": "2022-02-06T17:14:51.342Z"
   },
   {
    "duration": 7,
    "start_time": "2022-02-06T17:14:51.376Z"
   },
   {
    "duration": 9,
    "start_time": "2022-02-06T17:14:51.384Z"
   },
   {
    "duration": 111,
    "start_time": "2022-02-06T17:14:51.396Z"
   },
   {
    "duration": 6,
    "start_time": "2022-02-06T17:14:51.509Z"
   },
   {
    "duration": 9,
    "start_time": "2022-02-06T17:14:51.516Z"
   },
   {
    "duration": 5,
    "start_time": "2022-02-06T17:14:51.527Z"
   },
   {
    "duration": 9,
    "start_time": "2022-02-06T17:14:51.534Z"
   },
   {
    "duration": 26,
    "start_time": "2022-02-06T17:14:51.545Z"
   },
   {
    "duration": 4,
    "start_time": "2022-02-06T17:14:51.573Z"
   },
   {
    "duration": 13,
    "start_time": "2022-02-06T17:14:51.578Z"
   },
   {
    "duration": 6,
    "start_time": "2022-02-06T17:14:51.592Z"
   },
   {
    "duration": 20,
    "start_time": "2022-02-06T17:14:51.599Z"
   },
   {
    "duration": 19,
    "start_time": "2022-02-06T17:14:51.621Z"
   },
   {
    "duration": 8,
    "start_time": "2022-02-06T17:14:51.641Z"
   },
   {
    "duration": 33,
    "start_time": "2022-02-06T17:14:51.651Z"
   },
   {
    "duration": 5,
    "start_time": "2022-02-06T17:14:51.685Z"
   },
   {
    "duration": 14,
    "start_time": "2022-02-06T17:14:51.691Z"
   },
   {
    "duration": 19,
    "start_time": "2022-02-06T17:14:51.707Z"
   },
   {
    "duration": 6,
    "start_time": "2022-02-06T17:14:51.727Z"
   },
   {
    "duration": 37,
    "start_time": "2022-02-06T17:14:51.735Z"
   },
   {
    "duration": 5,
    "start_time": "2022-02-06T17:14:51.774Z"
   },
   {
    "duration": 7,
    "start_time": "2022-02-06T17:14:51.781Z"
   },
   {
    "duration": 13,
    "start_time": "2022-02-06T17:14:51.790Z"
   },
   {
    "duration": 12,
    "start_time": "2022-02-06T17:14:51.804Z"
   },
   {
    "duration": 8,
    "start_time": "2022-02-06T17:14:51.817Z"
   },
   {
    "duration": 17,
    "start_time": "2022-02-06T17:14:51.827Z"
   },
   {
    "duration": 15,
    "start_time": "2022-02-06T17:14:51.846Z"
   },
   {
    "duration": 20,
    "start_time": "2022-02-06T17:14:51.863Z"
   },
   {
    "duration": 5,
    "start_time": "2022-02-06T17:14:51.885Z"
   },
   {
    "duration": 12,
    "start_time": "2022-02-06T17:14:51.892Z"
   },
   {
    "duration": 15,
    "start_time": "2022-02-06T17:14:51.906Z"
   },
   {
    "duration": 4,
    "start_time": "2022-02-06T17:14:51.922Z"
   },
   {
    "duration": 24,
    "start_time": "2022-02-06T17:14:51.927Z"
   },
   {
    "duration": 492,
    "start_time": "2022-02-06T17:14:51.952Z"
   },
   {
    "duration": 497,
    "start_time": "2022-02-06T17:14:52.446Z"
   },
   {
    "duration": 643,
    "start_time": "2022-02-06T17:14:52.944Z"
   },
   {
    "duration": 21,
    "start_time": "2022-02-06T17:14:53.588Z"
   },
   {
    "duration": 24,
    "start_time": "2022-02-06T17:14:53.610Z"
   },
   {
    "duration": 13,
    "start_time": "2022-02-06T17:14:53.635Z"
   },
   {
    "duration": 6,
    "start_time": "2022-02-06T17:14:53.671Z"
   },
   {
    "duration": 15,
    "start_time": "2022-02-06T17:14:53.678Z"
   },
   {
    "duration": 15,
    "start_time": "2022-02-06T17:14:53.695Z"
   },
   {
    "duration": 3,
    "start_time": "2022-02-06T17:14:53.711Z"
   },
   {
    "duration": 17,
    "start_time": "2022-02-06T17:14:53.716Z"
   },
   {
    "duration": 43,
    "start_time": "2022-02-06T17:14:53.734Z"
   },
   {
    "duration": 15,
    "start_time": "2022-02-06T17:14:53.779Z"
   },
   {
    "duration": 234,
    "start_time": "2022-02-06T17:14:53.795Z"
   },
   {
    "duration": 18,
    "start_time": "2022-02-06T17:14:54.032Z"
   },
   {
    "duration": 269,
    "start_time": "2022-02-06T17:14:54.052Z"
   },
   {
    "duration": 594,
    "start_time": "2022-02-06T17:14:54.323Z"
   },
   {
    "duration": 27,
    "start_time": "2022-02-06T17:14:54.918Z"
   },
   {
    "duration": 255,
    "start_time": "2022-02-06T17:14:54.947Z"
   },
   {
    "duration": 12,
    "start_time": "2022-02-06T17:14:55.203Z"
   },
   {
    "duration": 12,
    "start_time": "2022-02-06T17:14:55.216Z"
   },
   {
    "duration": 17,
    "start_time": "2022-02-06T17:14:55.230Z"
   },
   {
    "duration": 245,
    "start_time": "2022-02-06T17:14:55.249Z"
   },
   {
    "duration": 39,
    "start_time": "2022-02-06T17:14:55.495Z"
   },
   {
    "duration": 4,
    "start_time": "2022-02-06T17:14:55.536Z"
   },
   {
    "duration": 32,
    "start_time": "2022-02-06T17:14:55.542Z"
   },
   {
    "duration": 8,
    "start_time": "2022-02-06T17:14:55.576Z"
   },
   {
    "duration": 6,
    "start_time": "2022-02-06T17:14:55.586Z"
   },
   {
    "duration": 9,
    "start_time": "2022-02-06T17:15:39.895Z"
   },
   {
    "duration": 11,
    "start_time": "2022-02-06T17:15:52.412Z"
   },
   {
    "duration": 1118,
    "start_time": "2022-02-06T17:16:35.091Z"
   },
   {
    "duration": 57,
    "start_time": "2022-02-06T17:16:36.210Z"
   },
   {
    "duration": 15,
    "start_time": "2022-02-06T17:16:36.269Z"
   },
   {
    "duration": 39,
    "start_time": "2022-02-06T17:16:36.286Z"
   },
   {
    "duration": 7,
    "start_time": "2022-02-06T17:16:36.326Z"
   },
   {
    "duration": 11,
    "start_time": "2022-02-06T17:16:36.334Z"
   },
   {
    "duration": 6,
    "start_time": "2022-02-06T17:16:36.347Z"
   },
   {
    "duration": 13,
    "start_time": "2022-02-06T17:16:36.355Z"
   },
   {
    "duration": 5,
    "start_time": "2022-02-06T17:16:36.370Z"
   },
   {
    "duration": 7,
    "start_time": "2022-02-06T17:16:36.376Z"
   },
   {
    "duration": 23,
    "start_time": "2022-02-06T17:16:36.384Z"
   },
   {
    "duration": 7,
    "start_time": "2022-02-06T17:16:36.408Z"
   },
   {
    "duration": 12,
    "start_time": "2022-02-06T17:16:36.417Z"
   },
   {
    "duration": 8,
    "start_time": "2022-02-06T17:16:36.431Z"
   },
   {
    "duration": 40,
    "start_time": "2022-02-06T17:16:36.441Z"
   },
   {
    "duration": 15,
    "start_time": "2022-02-06T17:16:36.483Z"
   },
   {
    "duration": 16,
    "start_time": "2022-02-06T17:16:36.499Z"
   },
   {
    "duration": 9,
    "start_time": "2022-02-06T17:16:36.517Z"
   },
   {
    "duration": 7,
    "start_time": "2022-02-06T17:16:36.527Z"
   },
   {
    "duration": 41,
    "start_time": "2022-02-06T17:16:36.536Z"
   },
   {
    "duration": 6,
    "start_time": "2022-02-06T17:16:36.579Z"
   },
   {
    "duration": 9,
    "start_time": "2022-02-06T17:16:36.586Z"
   },
   {
    "duration": 104,
    "start_time": "2022-02-06T17:16:36.598Z"
   },
   {
    "duration": 6,
    "start_time": "2022-02-06T17:16:36.704Z"
   },
   {
    "duration": 9,
    "start_time": "2022-02-06T17:16:36.711Z"
   },
   {
    "duration": 7,
    "start_time": "2022-02-06T17:16:36.721Z"
   },
   {
    "duration": 8,
    "start_time": "2022-02-06T17:16:36.729Z"
   },
   {
    "duration": 9,
    "start_time": "2022-02-06T17:16:36.739Z"
   },
   {
    "duration": 25,
    "start_time": "2022-02-06T17:16:36.749Z"
   },
   {
    "duration": 9,
    "start_time": "2022-02-06T17:16:36.775Z"
   },
   {
    "duration": 4,
    "start_time": "2022-02-06T17:16:36.786Z"
   },
   {
    "duration": 21,
    "start_time": "2022-02-06T17:16:36.792Z"
   },
   {
    "duration": 21,
    "start_time": "2022-02-06T17:16:36.814Z"
   },
   {
    "duration": 8,
    "start_time": "2022-02-06T17:16:36.836Z"
   },
   {
    "duration": 41,
    "start_time": "2022-02-06T17:16:36.846Z"
   },
   {
    "duration": 8,
    "start_time": "2022-02-06T17:16:36.889Z"
   },
   {
    "duration": 14,
    "start_time": "2022-02-06T17:16:36.898Z"
   },
   {
    "duration": 16,
    "start_time": "2022-02-06T17:16:36.914Z"
   },
   {
    "duration": 4,
    "start_time": "2022-02-06T17:16:36.932Z"
   },
   {
    "duration": 47,
    "start_time": "2022-02-06T17:16:36.937Z"
   },
   {
    "duration": 5,
    "start_time": "2022-02-06T17:16:36.985Z"
   },
   {
    "duration": 6,
    "start_time": "2022-02-06T17:16:36.991Z"
   },
   {
    "duration": 8,
    "start_time": "2022-02-06T17:16:36.999Z"
   },
   {
    "duration": 12,
    "start_time": "2022-02-06T17:16:37.009Z"
   },
   {
    "duration": 6,
    "start_time": "2022-02-06T17:16:37.023Z"
   },
   {
    "duration": 8,
    "start_time": "2022-02-06T17:16:37.031Z"
   },
   {
    "duration": 9,
    "start_time": "2022-02-06T17:16:37.040Z"
   },
   {
    "duration": 32,
    "start_time": "2022-02-06T17:16:37.051Z"
   },
   {
    "duration": 6,
    "start_time": "2022-02-06T17:16:37.085Z"
   },
   {
    "duration": 7,
    "start_time": "2022-02-06T17:16:37.092Z"
   },
   {
    "duration": 14,
    "start_time": "2022-02-06T17:16:37.101Z"
   },
   {
    "duration": 4,
    "start_time": "2022-02-06T17:16:37.116Z"
   },
   {
    "duration": 21,
    "start_time": "2022-02-06T17:16:37.121Z"
   },
   {
    "duration": 499,
    "start_time": "2022-02-06T17:16:37.143Z"
   },
   {
    "duration": 512,
    "start_time": "2022-02-06T17:16:37.643Z"
   },
   {
    "duration": 634,
    "start_time": "2022-02-06T17:16:38.157Z"
   },
   {
    "duration": 21,
    "start_time": "2022-02-06T17:16:38.792Z"
   },
   {
    "duration": 25,
    "start_time": "2022-02-06T17:16:38.814Z"
   },
   {
    "duration": 34,
    "start_time": "2022-02-06T17:16:38.840Z"
   },
   {
    "duration": 9,
    "start_time": "2022-02-06T17:16:38.876Z"
   },
   {
    "duration": 16,
    "start_time": "2022-02-06T17:16:38.887Z"
   },
   {
    "duration": 17,
    "start_time": "2022-02-06T17:16:38.904Z"
   },
   {
    "duration": 3,
    "start_time": "2022-02-06T17:16:38.923Z"
   },
   {
    "duration": 53,
    "start_time": "2022-02-06T17:16:38.928Z"
   },
   {
    "duration": 16,
    "start_time": "2022-02-06T17:16:38.983Z"
   },
   {
    "duration": 15,
    "start_time": "2022-02-06T17:16:39.000Z"
   },
   {
    "duration": 244,
    "start_time": "2022-02-06T17:16:39.016Z"
   },
   {
    "duration": 20,
    "start_time": "2022-02-06T17:16:39.265Z"
   },
   {
    "duration": 271,
    "start_time": "2022-02-06T17:16:39.287Z"
   },
   {
    "duration": 596,
    "start_time": "2022-02-06T17:16:39.560Z"
   },
   {
    "duration": 33,
    "start_time": "2022-02-06T17:16:40.157Z"
   },
   {
    "duration": 239,
    "start_time": "2022-02-06T17:16:40.191Z"
   },
   {
    "duration": 12,
    "start_time": "2022-02-06T17:16:40.432Z"
   },
   {
    "duration": 31,
    "start_time": "2022-02-06T17:16:40.445Z"
   },
   {
    "duration": 19,
    "start_time": "2022-02-06T17:16:40.477Z"
   },
   {
    "duration": 239,
    "start_time": "2022-02-06T17:16:40.497Z"
   },
   {
    "duration": 59,
    "start_time": "2022-02-06T17:16:40.737Z"
   },
   {
    "duration": 7,
    "start_time": "2022-02-06T17:16:40.798Z"
   },
   {
    "duration": 16,
    "start_time": "2022-02-06T17:16:40.807Z"
   },
   {
    "duration": 7,
    "start_time": "2022-02-06T17:16:40.824Z"
   },
   {
    "duration": 5,
    "start_time": "2022-02-06T17:16:40.832Z"
   },
   {
    "duration": 5,
    "start_time": "2022-02-06T17:22:33.309Z"
   },
   {
    "duration": 10,
    "start_time": "2022-02-06T17:23:02.101Z"
   },
   {
    "duration": 6,
    "start_time": "2022-02-06T17:23:46.823Z"
   },
   {
    "duration": 1127,
    "start_time": "2022-02-06T17:26:13.468Z"
   },
   {
    "duration": 57,
    "start_time": "2022-02-06T17:26:14.597Z"
   },
   {
    "duration": 17,
    "start_time": "2022-02-06T17:26:14.656Z"
   },
   {
    "duration": 39,
    "start_time": "2022-02-06T17:26:14.675Z"
   },
   {
    "duration": 6,
    "start_time": "2022-02-06T17:26:14.715Z"
   },
   {
    "duration": 11,
    "start_time": "2022-02-06T17:26:14.722Z"
   },
   {
    "duration": 5,
    "start_time": "2022-02-06T17:26:14.734Z"
   },
   {
    "duration": 14,
    "start_time": "2022-02-06T17:26:14.742Z"
   },
   {
    "duration": 5,
    "start_time": "2022-02-06T17:26:14.758Z"
   },
   {
    "duration": 6,
    "start_time": "2022-02-06T17:26:14.764Z"
   },
   {
    "duration": 30,
    "start_time": "2022-02-06T17:26:14.771Z"
   },
   {
    "duration": 8,
    "start_time": "2022-02-06T17:26:14.803Z"
   },
   {
    "duration": 16,
    "start_time": "2022-02-06T17:26:14.813Z"
   },
   {
    "duration": 9,
    "start_time": "2022-02-06T17:26:14.831Z"
   },
   {
    "duration": 32,
    "start_time": "2022-02-06T17:26:14.841Z"
   },
   {
    "duration": 17,
    "start_time": "2022-02-06T17:26:14.875Z"
   },
   {
    "duration": 15,
    "start_time": "2022-02-06T17:26:14.894Z"
   },
   {
    "duration": 10,
    "start_time": "2022-02-06T17:26:14.911Z"
   },
   {
    "duration": 6,
    "start_time": "2022-02-06T17:26:14.923Z"
   },
   {
    "duration": 11,
    "start_time": "2022-02-06T17:26:14.930Z"
   },
   {
    "duration": 6,
    "start_time": "2022-02-06T17:26:14.972Z"
   },
   {
    "duration": 5,
    "start_time": "2022-02-06T17:26:14.980Z"
   },
   {
    "duration": 112,
    "start_time": "2022-02-06T17:26:14.989Z"
   },
   {
    "duration": 6,
    "start_time": "2022-02-06T17:26:15.103Z"
   },
   {
    "duration": 8,
    "start_time": "2022-02-06T17:26:15.110Z"
   },
   {
    "duration": 7,
    "start_time": "2022-02-06T17:26:15.119Z"
   },
   {
    "duration": 13,
    "start_time": "2022-02-06T17:26:15.127Z"
   },
   {
    "duration": 30,
    "start_time": "2022-02-06T17:26:15.142Z"
   },
   {
    "duration": 5,
    "start_time": "2022-02-06T17:26:15.173Z"
   },
   {
    "duration": 14,
    "start_time": "2022-02-06T17:26:15.180Z"
   },
   {
    "duration": 5,
    "start_time": "2022-02-06T17:26:15.196Z"
   },
   {
    "duration": 20,
    "start_time": "2022-02-06T17:26:15.203Z"
   },
   {
    "duration": 23,
    "start_time": "2022-02-06T17:26:15.225Z"
   },
   {
    "duration": 29,
    "start_time": "2022-02-06T17:26:15.250Z"
   },
   {
    "duration": 16,
    "start_time": "2022-02-06T17:26:15.280Z"
   },
   {
    "duration": 8,
    "start_time": "2022-02-06T17:26:15.298Z"
   },
   {
    "duration": 18,
    "start_time": "2022-02-06T17:26:15.307Z"
   },
   {
    "duration": 22,
    "start_time": "2022-02-06T17:26:15.327Z"
   },
   {
    "duration": 24,
    "start_time": "2022-02-06T17:26:15.351Z"
   },
   {
    "duration": 15,
    "start_time": "2022-02-06T17:26:15.377Z"
   },
   {
    "duration": 7,
    "start_time": "2022-02-06T17:26:15.394Z"
   },
   {
    "duration": 8,
    "start_time": "2022-02-06T17:26:15.403Z"
   },
   {
    "duration": 11,
    "start_time": "2022-02-06T17:26:15.413Z"
   },
   {
    "duration": 15,
    "start_time": "2022-02-06T17:26:15.426Z"
   },
   {
    "duration": 32,
    "start_time": "2022-02-06T17:26:15.442Z"
   },
   {
    "duration": 7,
    "start_time": "2022-02-06T17:26:15.476Z"
   },
   {
    "duration": 5,
    "start_time": "2022-02-06T17:26:15.485Z"
   },
   {
    "duration": 28,
    "start_time": "2022-02-06T17:26:15.492Z"
   },
   {
    "duration": 7,
    "start_time": "2022-02-06T17:26:15.522Z"
   },
   {
    "duration": 7,
    "start_time": "2022-02-06T17:26:15.531Z"
   },
   {
    "duration": 40,
    "start_time": "2022-02-06T17:26:15.540Z"
   },
   {
    "duration": 3,
    "start_time": "2022-02-06T17:26:15.581Z"
   },
   {
    "duration": 15,
    "start_time": "2022-02-06T17:26:15.586Z"
   },
   {
    "duration": 517,
    "start_time": "2022-02-06T17:26:15.603Z"
   },
   {
    "duration": 501,
    "start_time": "2022-02-06T17:26:16.122Z"
   },
   {
    "duration": 673,
    "start_time": "2022-02-06T17:26:16.624Z"
   },
   {
    "duration": 31,
    "start_time": "2022-02-06T17:26:17.299Z"
   },
   {
    "duration": 49,
    "start_time": "2022-02-06T17:26:17.332Z"
   },
   {
    "duration": 17,
    "start_time": "2022-02-06T17:26:17.384Z"
   },
   {
    "duration": 8,
    "start_time": "2022-02-06T17:26:17.403Z"
   },
   {
    "duration": 21,
    "start_time": "2022-02-06T17:26:17.412Z"
   },
   {
    "duration": 51,
    "start_time": "2022-02-06T17:26:17.435Z"
   },
   {
    "duration": 5,
    "start_time": "2022-02-06T17:26:17.487Z"
   },
   {
    "duration": 26,
    "start_time": "2022-02-06T17:26:17.494Z"
   },
   {
    "duration": 23,
    "start_time": "2022-02-06T17:26:17.522Z"
   },
   {
    "duration": 39,
    "start_time": "2022-02-06T17:26:17.547Z"
   },
   {
    "duration": 243,
    "start_time": "2022-02-06T17:26:17.587Z"
   },
   {
    "duration": 19,
    "start_time": "2022-02-06T17:26:17.836Z"
   },
   {
    "duration": 293,
    "start_time": "2022-02-06T17:26:17.857Z"
   },
   {
    "duration": 612,
    "start_time": "2022-02-06T17:26:18.151Z"
   },
   {
    "duration": 32,
    "start_time": "2022-02-06T17:26:18.764Z"
   },
   {
    "duration": 272,
    "start_time": "2022-02-06T17:26:18.797Z"
   },
   {
    "duration": 14,
    "start_time": "2022-02-06T17:26:19.072Z"
   },
   {
    "duration": 14,
    "start_time": "2022-02-06T17:26:19.087Z"
   },
   {
    "duration": 21,
    "start_time": "2022-02-06T17:26:19.103Z"
   },
   {
    "duration": 301,
    "start_time": "2022-02-06T17:26:19.126Z"
   },
   {
    "duration": 56,
    "start_time": "2022-02-06T17:26:19.429Z"
   },
   {
    "duration": 7,
    "start_time": "2022-02-06T17:26:19.487Z"
   },
   {
    "duration": 13,
    "start_time": "2022-02-06T17:26:19.495Z"
   },
   {
    "duration": 7,
    "start_time": "2022-02-06T17:26:19.510Z"
   },
   {
    "duration": 5,
    "start_time": "2022-02-06T17:26:19.519Z"
   },
   {
    "duration": 6,
    "start_time": "2022-02-06T17:33:22.529Z"
   },
   {
    "duration": 7,
    "start_time": "2022-02-06T17:34:00.214Z"
   },
   {
    "duration": 8,
    "start_time": "2022-02-06T17:37:23.506Z"
   },
   {
    "duration": 8,
    "start_time": "2022-02-06T17:40:31.044Z"
   },
   {
    "duration": 10,
    "start_time": "2022-02-06T17:46:23.492Z"
   },
   {
    "duration": 7,
    "start_time": "2022-02-06T17:48:03.223Z"
   },
   {
    "duration": 7,
    "start_time": "2022-02-06T18:02:58.685Z"
   },
   {
    "duration": 6,
    "start_time": "2022-02-06T18:08:46.949Z"
   },
   {
    "duration": 1178,
    "start_time": "2022-02-06T18:09:45.426Z"
   },
   {
    "duration": 81,
    "start_time": "2022-02-06T18:09:46.606Z"
   },
   {
    "duration": 21,
    "start_time": "2022-02-06T18:09:46.690Z"
   },
   {
    "duration": 49,
    "start_time": "2022-02-06T18:09:46.713Z"
   },
   {
    "duration": 7,
    "start_time": "2022-02-06T18:09:46.764Z"
   },
   {
    "duration": 21,
    "start_time": "2022-02-06T18:09:46.773Z"
   },
   {
    "duration": 15,
    "start_time": "2022-02-06T18:09:46.796Z"
   },
   {
    "duration": 18,
    "start_time": "2022-02-06T18:09:46.814Z"
   },
   {
    "duration": 10,
    "start_time": "2022-02-06T18:09:46.833Z"
   },
   {
    "duration": 26,
    "start_time": "2022-02-06T18:09:46.844Z"
   },
   {
    "duration": 35,
    "start_time": "2022-02-06T18:09:46.871Z"
   },
   {
    "duration": 9,
    "start_time": "2022-02-06T18:09:46.908Z"
   },
   {
    "duration": 17,
    "start_time": "2022-02-06T18:09:46.919Z"
   },
   {
    "duration": 17,
    "start_time": "2022-02-06T18:09:46.938Z"
   },
   {
    "duration": 29,
    "start_time": "2022-02-06T18:09:46.957Z"
   },
   {
    "duration": 15,
    "start_time": "2022-02-06T18:09:46.988Z"
   },
   {
    "duration": 19,
    "start_time": "2022-02-06T18:09:47.005Z"
   },
   {
    "duration": 8,
    "start_time": "2022-02-06T18:09:47.026Z"
   },
   {
    "duration": 37,
    "start_time": "2022-02-06T18:09:47.036Z"
   },
   {
    "duration": 9,
    "start_time": "2022-02-06T18:09:47.074Z"
   },
   {
    "duration": 12,
    "start_time": "2022-02-06T18:09:47.085Z"
   },
   {
    "duration": 34,
    "start_time": "2022-02-06T18:09:47.099Z"
   },
   {
    "duration": 100,
    "start_time": "2022-02-06T18:09:47.138Z"
   },
   {
    "duration": 6,
    "start_time": "2022-02-06T18:09:47.240Z"
   },
   {
    "duration": 16,
    "start_time": "2022-02-06T18:09:47.248Z"
   },
   {
    "duration": 23,
    "start_time": "2022-02-06T18:09:47.266Z"
   },
   {
    "duration": 23,
    "start_time": "2022-02-06T18:09:47.291Z"
   },
   {
    "duration": 12,
    "start_time": "2022-02-06T18:09:47.316Z"
   },
   {
    "duration": 16,
    "start_time": "2022-02-06T18:09:47.329Z"
   },
   {
    "duration": 28,
    "start_time": "2022-02-06T18:09:47.347Z"
   },
   {
    "duration": 11,
    "start_time": "2022-02-06T18:09:47.377Z"
   },
   {
    "duration": 42,
    "start_time": "2022-02-06T18:09:47.390Z"
   },
   {
    "duration": 31,
    "start_time": "2022-02-06T18:09:47.434Z"
   },
   {
    "duration": 12,
    "start_time": "2022-02-06T18:09:47.466Z"
   },
   {
    "duration": 33,
    "start_time": "2022-02-06T18:09:47.480Z"
   },
   {
    "duration": 12,
    "start_time": "2022-02-06T18:09:47.515Z"
   },
   {
    "duration": 32,
    "start_time": "2022-02-06T18:09:47.528Z"
   },
   {
    "duration": 29,
    "start_time": "2022-02-06T18:09:47.562Z"
   },
   {
    "duration": 18,
    "start_time": "2022-02-06T18:09:47.593Z"
   },
   {
    "duration": 33,
    "start_time": "2022-02-06T18:09:47.613Z"
   },
   {
    "duration": 35,
    "start_time": "2022-02-06T18:09:47.648Z"
   },
   {
    "duration": 10,
    "start_time": "2022-02-06T18:09:47.685Z"
   },
   {
    "duration": 22,
    "start_time": "2022-02-06T18:09:47.697Z"
   },
   {
    "duration": 19,
    "start_time": "2022-02-06T18:09:47.720Z"
   },
   {
    "duration": 20,
    "start_time": "2022-02-06T18:09:47.740Z"
   },
   {
    "duration": 25,
    "start_time": "2022-02-06T18:09:47.762Z"
   },
   {
    "duration": 19,
    "start_time": "2022-02-06T18:09:47.789Z"
   },
   {
    "duration": 27,
    "start_time": "2022-02-06T18:09:47.809Z"
   },
   {
    "duration": 14,
    "start_time": "2022-02-06T18:09:47.838Z"
   },
   {
    "duration": 17,
    "start_time": "2022-02-06T18:09:47.853Z"
   },
   {
    "duration": 17,
    "start_time": "2022-02-06T18:09:47.872Z"
   },
   {
    "duration": 27,
    "start_time": "2022-02-06T18:09:47.890Z"
   },
   {
    "duration": 21,
    "start_time": "2022-02-06T18:09:47.919Z"
   },
   {
    "duration": 34,
    "start_time": "2022-02-06T18:09:47.941Z"
   },
   {
    "duration": 8,
    "start_time": "2022-02-06T18:09:47.977Z"
   },
   {
    "duration": 28,
    "start_time": "2022-02-06T18:09:47.987Z"
   },
   {
    "duration": 16,
    "start_time": "2022-02-06T18:09:48.017Z"
   },
   {
    "duration": 16,
    "start_time": "2022-02-06T18:09:48.035Z"
   },
   {
    "duration": 28,
    "start_time": "2022-02-06T18:09:48.054Z"
   },
   {
    "duration": 873,
    "start_time": "2022-02-06T18:09:48.084Z"
   },
   {
    "duration": 850,
    "start_time": "2022-02-06T18:09:48.959Z"
   },
   {
    "duration": 1085,
    "start_time": "2022-02-06T18:09:49.810Z"
   },
   {
    "duration": 35,
    "start_time": "2022-02-06T18:09:50.897Z"
   },
   {
    "duration": 45,
    "start_time": "2022-02-06T18:09:50.934Z"
   },
   {
    "duration": 15,
    "start_time": "2022-02-06T18:09:50.980Z"
   },
   {
    "duration": 8,
    "start_time": "2022-02-06T18:09:50.997Z"
   },
   {
    "duration": 15,
    "start_time": "2022-02-06T18:09:51.007Z"
   },
   {
    "duration": 45,
    "start_time": "2022-02-06T18:09:51.027Z"
   },
   {
    "duration": 4,
    "start_time": "2022-02-06T18:09:51.074Z"
   },
   {
    "duration": 20,
    "start_time": "2022-02-06T18:09:51.080Z"
   },
   {
    "duration": 15,
    "start_time": "2022-02-06T18:09:51.102Z"
   },
   {
    "duration": 16,
    "start_time": "2022-02-06T18:09:51.119Z"
   },
   {
    "duration": 262,
    "start_time": "2022-02-06T18:09:51.136Z"
   },
   {
    "duration": 19,
    "start_time": "2022-02-06T18:09:51.401Z"
   },
   {
    "duration": 287,
    "start_time": "2022-02-06T18:09:51.422Z"
   },
   {
    "duration": 696,
    "start_time": "2022-02-06T18:09:51.711Z"
   },
   {
    "duration": 26,
    "start_time": "2022-02-06T18:09:52.410Z"
   },
   {
    "duration": 321,
    "start_time": "2022-02-06T18:09:52.437Z"
   },
   {
    "duration": 18,
    "start_time": "2022-02-06T18:09:52.760Z"
   },
   {
    "duration": 16,
    "start_time": "2022-02-06T18:09:52.780Z"
   },
   {
    "duration": 23,
    "start_time": "2022-02-06T18:09:52.797Z"
   },
   {
    "duration": 271,
    "start_time": "2022-02-06T18:09:52.821Z"
   },
   {
    "duration": 40,
    "start_time": "2022-02-06T18:09:53.094Z"
   },
   {
    "duration": 6,
    "start_time": "2022-02-06T18:09:53.135Z"
   },
   {
    "duration": 40,
    "start_time": "2022-02-06T18:09:53.143Z"
   },
   {
    "duration": 9,
    "start_time": "2022-02-06T18:09:53.185Z"
   },
   {
    "duration": 7,
    "start_time": "2022-02-06T18:09:53.196Z"
   },
   {
    "duration": 623,
    "start_time": "2022-02-06T18:37:00.880Z"
   },
   {
    "duration": 1093,
    "start_time": "2022-02-06T18:37:39.993Z"
   },
   {
    "duration": 58,
    "start_time": "2022-02-06T18:37:41.088Z"
   },
   {
    "duration": 15,
    "start_time": "2022-02-06T18:37:41.148Z"
   },
   {
    "duration": 88,
    "start_time": "2022-02-06T18:37:41.165Z"
   },
   {
    "duration": 6,
    "start_time": "2022-02-06T18:37:41.254Z"
   },
   {
    "duration": 11,
    "start_time": "2022-02-06T18:37:41.261Z"
   },
   {
    "duration": 5,
    "start_time": "2022-02-06T18:37:41.274Z"
   },
   {
    "duration": 17,
    "start_time": "2022-02-06T18:37:41.281Z"
   },
   {
    "duration": 4,
    "start_time": "2022-02-06T18:37:41.300Z"
   },
   {
    "duration": 5,
    "start_time": "2022-02-06T18:37:41.306Z"
   },
   {
    "duration": 21,
    "start_time": "2022-02-06T18:37:41.312Z"
   },
   {
    "duration": 7,
    "start_time": "2022-02-06T18:37:41.334Z"
   },
   {
    "duration": 35,
    "start_time": "2022-02-06T18:37:41.342Z"
   },
   {
    "duration": 8,
    "start_time": "2022-02-06T18:37:41.379Z"
   },
   {
    "duration": 17,
    "start_time": "2022-02-06T18:37:41.389Z"
   },
   {
    "duration": 15,
    "start_time": "2022-02-06T18:37:41.407Z"
   },
   {
    "duration": 15,
    "start_time": "2022-02-06T18:37:41.423Z"
   },
   {
    "duration": 33,
    "start_time": "2022-02-06T18:37:41.439Z"
   },
   {
    "duration": 5,
    "start_time": "2022-02-06T18:37:41.474Z"
   },
   {
    "duration": 9,
    "start_time": "2022-02-06T18:37:41.481Z"
   },
   {
    "duration": 8,
    "start_time": "2022-02-06T18:37:41.492Z"
   },
   {
    "duration": 9,
    "start_time": "2022-02-06T18:37:41.501Z"
   },
   {
    "duration": 131,
    "start_time": "2022-02-06T18:37:41.514Z"
   },
   {
    "duration": 6,
    "start_time": "2022-02-06T18:37:41.649Z"
   },
   {
    "duration": 15,
    "start_time": "2022-02-06T18:37:41.656Z"
   },
   {
    "duration": 5,
    "start_time": "2022-02-06T18:37:41.673Z"
   },
   {
    "duration": 8,
    "start_time": "2022-02-06T18:37:41.679Z"
   },
   {
    "duration": 8,
    "start_time": "2022-02-06T18:37:41.689Z"
   },
   {
    "duration": 5,
    "start_time": "2022-02-06T18:37:41.698Z"
   },
   {
    "duration": 14,
    "start_time": "2022-02-06T18:37:41.705Z"
   },
   {
    "duration": 5,
    "start_time": "2022-02-06T18:37:41.721Z"
   },
   {
    "duration": 46,
    "start_time": "2022-02-06T18:37:41.728Z"
   },
   {
    "duration": 22,
    "start_time": "2022-02-06T18:37:41.776Z"
   },
   {
    "duration": 8,
    "start_time": "2022-02-06T18:37:41.800Z"
   },
   {
    "duration": 16,
    "start_time": "2022-02-06T18:37:41.809Z"
   },
   {
    "duration": 6,
    "start_time": "2022-02-06T18:37:41.826Z"
   },
   {
    "duration": 43,
    "start_time": "2022-02-06T18:37:41.834Z"
   },
   {
    "duration": 14,
    "start_time": "2022-02-06T18:37:41.878Z"
   },
   {
    "duration": 4,
    "start_time": "2022-02-06T18:37:41.894Z"
   },
   {
    "duration": 19,
    "start_time": "2022-02-06T18:37:41.899Z"
   },
   {
    "duration": 7,
    "start_time": "2022-02-06T18:37:41.920Z"
   },
   {
    "duration": 9,
    "start_time": "2022-02-06T18:37:41.929Z"
   },
   {
    "duration": 12,
    "start_time": "2022-02-06T18:37:41.940Z"
   },
   {
    "duration": 28,
    "start_time": "2022-02-06T18:37:41.953Z"
   },
   {
    "duration": 6,
    "start_time": "2022-02-06T18:37:41.983Z"
   },
   {
    "duration": 9,
    "start_time": "2022-02-06T18:37:41.991Z"
   },
   {
    "duration": 8,
    "start_time": "2022-02-06T18:37:42.002Z"
   },
   {
    "duration": 11,
    "start_time": "2022-02-06T18:37:42.011Z"
   },
   {
    "duration": 9,
    "start_time": "2022-02-06T18:37:42.024Z"
   },
   {
    "duration": 9,
    "start_time": "2022-02-06T18:37:42.034Z"
   },
   {
    "duration": 28,
    "start_time": "2022-02-06T18:37:42.044Z"
   },
   {
    "duration": 5,
    "start_time": "2022-02-06T18:37:42.074Z"
   },
   {
    "duration": 7,
    "start_time": "2022-02-06T18:37:42.081Z"
   },
   {
    "duration": 18,
    "start_time": "2022-02-06T18:37:42.090Z"
   },
   {
    "duration": 6,
    "start_time": "2022-02-06T18:37:42.110Z"
   },
   {
    "duration": 6,
    "start_time": "2022-02-06T18:37:42.118Z"
   },
   {
    "duration": 17,
    "start_time": "2022-02-06T18:37:42.126Z"
   },
   {
    "duration": 29,
    "start_time": "2022-02-06T18:37:42.144Z"
   },
   {
    "duration": 15,
    "start_time": "2022-02-06T18:37:42.175Z"
   },
   {
    "duration": 511,
    "start_time": "2022-02-06T18:37:42.192Z"
   },
   {
    "duration": 502,
    "start_time": "2022-02-06T18:37:42.705Z"
   },
   {
    "duration": 540,
    "start_time": "2022-02-06T18:37:43.209Z"
   },
   {
    "duration": -4738,
    "start_time": "2022-02-06T18:37:48.490Z"
   },
   {
    "duration": -4751,
    "start_time": "2022-02-06T18:37:48.504Z"
   },
   {
    "duration": -4762,
    "start_time": "2022-02-06T18:37:48.517Z"
   },
   {
    "duration": -4775,
    "start_time": "2022-02-06T18:37:48.531Z"
   },
   {
    "duration": -4786,
    "start_time": "2022-02-06T18:37:48.543Z"
   },
   {
    "duration": -4839,
    "start_time": "2022-02-06T18:37:48.598Z"
   },
   {
    "duration": -4850,
    "start_time": "2022-02-06T18:37:48.610Z"
   },
   {
    "duration": -4865,
    "start_time": "2022-02-06T18:37:48.626Z"
   },
   {
    "duration": -4877,
    "start_time": "2022-02-06T18:37:48.640Z"
   },
   {
    "duration": -4889,
    "start_time": "2022-02-06T18:37:48.653Z"
   },
   {
    "duration": -4900,
    "start_time": "2022-02-06T18:37:48.665Z"
   },
   {
    "duration": -4912,
    "start_time": "2022-02-06T18:37:48.679Z"
   },
   {
    "duration": -4923,
    "start_time": "2022-02-06T18:37:48.691Z"
   },
   {
    "duration": -4957,
    "start_time": "2022-02-06T18:37:48.726Z"
   },
   {
    "duration": -4968,
    "start_time": "2022-02-06T18:37:48.739Z"
   },
   {
    "duration": -4981,
    "start_time": "2022-02-06T18:37:48.753Z"
   },
   {
    "duration": -4995,
    "start_time": "2022-02-06T18:37:48.768Z"
   },
   {
    "duration": -5009,
    "start_time": "2022-02-06T18:37:48.784Z"
   },
   {
    "duration": -5021,
    "start_time": "2022-02-06T18:37:48.797Z"
   },
   {
    "duration": -5035,
    "start_time": "2022-02-06T18:37:48.812Z"
   },
   {
    "duration": -5066,
    "start_time": "2022-02-06T18:37:48.845Z"
   },
   {
    "duration": -5080,
    "start_time": "2022-02-06T18:37:48.860Z"
   },
   {
    "duration": -5091,
    "start_time": "2022-02-06T18:37:48.872Z"
   },
   {
    "duration": -5104,
    "start_time": "2022-02-06T18:37:48.887Z"
   },
   {
    "duration": -5118,
    "start_time": "2022-02-06T18:37:48.902Z"
   },
   {
    "duration": -5132,
    "start_time": "2022-02-06T18:37:48.917Z"
   },
   {
    "duration": 561,
    "start_time": "2022-02-06T18:39:39.343Z"
   },
   {
    "duration": 494,
    "start_time": "2022-02-06T18:40:49.981Z"
   },
   {
    "duration": 519,
    "start_time": "2022-02-06T18:43:22.863Z"
   },
   {
    "duration": 456,
    "start_time": "2022-02-06T18:43:42.952Z"
   },
   {
    "duration": 498,
    "start_time": "2022-02-06T18:47:14.098Z"
   },
   {
    "duration": 1150,
    "start_time": "2022-02-06T18:48:01.144Z"
   },
   {
    "duration": 58,
    "start_time": "2022-02-06T18:48:02.296Z"
   },
   {
    "duration": 15,
    "start_time": "2022-02-06T18:48:02.356Z"
   },
   {
    "duration": 62,
    "start_time": "2022-02-06T18:48:02.373Z"
   },
   {
    "duration": 6,
    "start_time": "2022-02-06T18:48:02.436Z"
   },
   {
    "duration": 12,
    "start_time": "2022-02-06T18:48:02.444Z"
   },
   {
    "duration": 5,
    "start_time": "2022-02-06T18:48:02.457Z"
   },
   {
    "duration": 14,
    "start_time": "2022-02-06T18:48:02.464Z"
   },
   {
    "duration": 4,
    "start_time": "2022-02-06T18:48:02.480Z"
   },
   {
    "duration": 5,
    "start_time": "2022-02-06T18:48:02.485Z"
   },
   {
    "duration": 25,
    "start_time": "2022-02-06T18:48:02.492Z"
   },
   {
    "duration": 7,
    "start_time": "2022-02-06T18:48:02.518Z"
   },
   {
    "duration": 9,
    "start_time": "2022-02-06T18:48:02.527Z"
   },
   {
    "duration": 34,
    "start_time": "2022-02-06T18:48:02.538Z"
   },
   {
    "duration": 14,
    "start_time": "2022-02-06T18:48:02.574Z"
   },
   {
    "duration": 16,
    "start_time": "2022-02-06T18:48:02.589Z"
   },
   {
    "duration": 15,
    "start_time": "2022-02-06T18:48:02.606Z"
   },
   {
    "duration": 7,
    "start_time": "2022-02-06T18:48:02.623Z"
   },
   {
    "duration": 10,
    "start_time": "2022-02-06T18:48:02.631Z"
   },
   {
    "duration": 35,
    "start_time": "2022-02-06T18:48:02.642Z"
   },
   {
    "duration": 8,
    "start_time": "2022-02-06T18:48:02.678Z"
   },
   {
    "duration": 6,
    "start_time": "2022-02-06T18:48:02.688Z"
   },
   {
    "duration": 101,
    "start_time": "2022-02-06T18:48:02.698Z"
   },
   {
    "duration": 6,
    "start_time": "2022-02-06T18:48:02.801Z"
   },
   {
    "duration": 7,
    "start_time": "2022-02-06T18:48:02.808Z"
   },
   {
    "duration": 7,
    "start_time": "2022-02-06T18:48:02.816Z"
   },
   {
    "duration": 9,
    "start_time": "2022-02-06T18:48:02.824Z"
   },
   {
    "duration": 6,
    "start_time": "2022-02-06T18:48:02.835Z"
   },
   {
    "duration": 31,
    "start_time": "2022-02-06T18:48:02.843Z"
   },
   {
    "duration": 12,
    "start_time": "2022-02-06T18:48:02.875Z"
   },
   {
    "duration": 5,
    "start_time": "2022-02-06T18:48:02.888Z"
   },
   {
    "duration": 20,
    "start_time": "2022-02-06T18:48:02.894Z"
   },
   {
    "duration": 21,
    "start_time": "2022-02-06T18:48:02.915Z"
   },
   {
    "duration": 34,
    "start_time": "2022-02-06T18:48:02.938Z"
   },
   {
    "duration": 17,
    "start_time": "2022-02-06T18:48:02.973Z"
   },
   {
    "duration": 7,
    "start_time": "2022-02-06T18:48:02.991Z"
   },
   {
    "duration": 15,
    "start_time": "2022-02-06T18:48:03.000Z"
   },
   {
    "duration": 15,
    "start_time": "2022-02-06T18:48:03.017Z"
   },
   {
    "duration": 40,
    "start_time": "2022-02-06T18:48:03.034Z"
   },
   {
    "duration": 15,
    "start_time": "2022-02-06T18:48:03.076Z"
   },
   {
    "duration": 6,
    "start_time": "2022-02-06T18:48:03.093Z"
   },
   {
    "duration": 8,
    "start_time": "2022-02-06T18:48:03.100Z"
   },
   {
    "duration": 12,
    "start_time": "2022-02-06T18:48:03.110Z"
   },
   {
    "duration": 13,
    "start_time": "2022-02-06T18:48:03.123Z"
   },
   {
    "duration": 9,
    "start_time": "2022-02-06T18:48:03.138Z"
   },
   {
    "duration": 24,
    "start_time": "2022-02-06T18:48:03.149Z"
   },
   {
    "duration": 11,
    "start_time": "2022-02-06T18:48:03.174Z"
   },
   {
    "duration": 7,
    "start_time": "2022-02-06T18:48:03.187Z"
   },
   {
    "duration": 9,
    "start_time": "2022-02-06T18:48:03.196Z"
   },
   {
    "duration": 10,
    "start_time": "2022-02-06T18:48:03.207Z"
   },
   {
    "duration": 6,
    "start_time": "2022-02-06T18:48:03.219Z"
   },
   {
    "duration": 7,
    "start_time": "2022-02-06T18:48:03.227Z"
   },
   {
    "duration": 10,
    "start_time": "2022-02-06T18:48:03.236Z"
   },
   {
    "duration": 40,
    "start_time": "2022-02-06T18:48:03.247Z"
   },
   {
    "duration": 7,
    "start_time": "2022-02-06T18:48:03.289Z"
   },
   {
    "duration": 6,
    "start_time": "2022-02-06T18:48:03.298Z"
   },
   {
    "duration": 16,
    "start_time": "2022-02-06T18:48:03.306Z"
   },
   {
    "duration": 4,
    "start_time": "2022-02-06T18:48:03.323Z"
   },
   {
    "duration": 26,
    "start_time": "2022-02-06T18:48:03.328Z"
   },
   {
    "duration": 525,
    "start_time": "2022-02-06T18:48:03.356Z"
   },
   {
    "duration": 514,
    "start_time": "2022-02-06T18:48:03.883Z"
   },
   {
    "duration": 567,
    "start_time": "2022-02-06T18:48:04.399Z"
   },
   {
    "duration": 525,
    "start_time": "2022-02-06T18:48:04.967Z"
   },
   {
    "duration": 579,
    "start_time": "2022-02-06T18:48:05.493Z"
   },
   {
    "duration": -3978,
    "start_time": "2022-02-06T18:48:10.052Z"
   },
   {
    "duration": -3990,
    "start_time": "2022-02-06T18:48:10.066Z"
   },
   {
    "duration": -4002,
    "start_time": "2022-02-06T18:48:10.078Z"
   },
   {
    "duration": -4016,
    "start_time": "2022-02-06T18:48:10.093Z"
   },
   {
    "duration": -4026,
    "start_time": "2022-02-06T18:48:10.104Z"
   },
   {
    "duration": -4039,
    "start_time": "2022-02-06T18:48:10.118Z"
   },
   {
    "duration": -4049,
    "start_time": "2022-02-06T18:48:10.129Z"
   },
   {
    "duration": -4062,
    "start_time": "2022-02-06T18:48:10.143Z"
   },
   {
    "duration": -4093,
    "start_time": "2022-02-06T18:48:10.175Z"
   },
   {
    "duration": -4106,
    "start_time": "2022-02-06T18:48:10.189Z"
   },
   {
    "duration": -4117,
    "start_time": "2022-02-06T18:48:10.201Z"
   },
   {
    "duration": -4130,
    "start_time": "2022-02-06T18:48:10.214Z"
   },
   {
    "duration": -4141,
    "start_time": "2022-02-06T18:48:10.226Z"
   },
   {
    "duration": -4154,
    "start_time": "2022-02-06T18:48:10.240Z"
   },
   {
    "duration": -4165,
    "start_time": "2022-02-06T18:48:10.252Z"
   },
   {
    "duration": -4178,
    "start_time": "2022-02-06T18:48:10.266Z"
   },
   {
    "duration": -4208,
    "start_time": "2022-02-06T18:48:10.297Z"
   },
   {
    "duration": -4221,
    "start_time": "2022-02-06T18:48:10.311Z"
   },
   {
    "duration": -4232,
    "start_time": "2022-02-06T18:48:10.323Z"
   },
   {
    "duration": -4244,
    "start_time": "2022-02-06T18:48:10.336Z"
   },
   {
    "duration": -4256,
    "start_time": "2022-02-06T18:48:10.349Z"
   },
   {
    "duration": -4268,
    "start_time": "2022-02-06T18:48:10.362Z"
   },
   {
    "duration": -4279,
    "start_time": "2022-02-06T18:48:10.374Z"
   },
   {
    "duration": -4291,
    "start_time": "2022-02-06T18:48:10.386Z"
   },
   {
    "duration": -4322,
    "start_time": "2022-02-06T18:48:10.418Z"
   },
   {
    "duration": -4334,
    "start_time": "2022-02-06T18:48:10.431Z"
   },
   {
    "duration": 474,
    "start_time": "2022-02-06T18:49:32.814Z"
   },
   {
    "duration": 517,
    "start_time": "2022-02-06T18:49:56.090Z"
   },
   {
    "duration": 4,
    "start_time": "2022-02-06T18:53:11.444Z"
   },
   {
    "duration": 6,
    "start_time": "2022-02-06T18:53:32.348Z"
   },
   {
    "duration": 6906,
    "start_time": "2022-02-06T18:55:40.536Z"
   },
   {
    "duration": 1149,
    "start_time": "2022-02-06T18:56:19.869Z"
   },
   {
    "duration": 60,
    "start_time": "2022-02-06T18:56:21.019Z"
   },
   {
    "duration": 16,
    "start_time": "2022-02-06T18:56:21.081Z"
   },
   {
    "duration": 51,
    "start_time": "2022-02-06T18:56:21.098Z"
   },
   {
    "duration": 6,
    "start_time": "2022-02-06T18:56:21.151Z"
   },
   {
    "duration": 11,
    "start_time": "2022-02-06T18:56:21.158Z"
   },
   {
    "duration": 4,
    "start_time": "2022-02-06T18:56:21.171Z"
   },
   {
    "duration": 14,
    "start_time": "2022-02-06T18:56:21.177Z"
   },
   {
    "duration": 4,
    "start_time": "2022-02-06T18:56:21.193Z"
   },
   {
    "duration": 6,
    "start_time": "2022-02-06T18:56:21.198Z"
   },
   {
    "duration": 26,
    "start_time": "2022-02-06T18:56:21.205Z"
   },
   {
    "duration": 7,
    "start_time": "2022-02-06T18:56:21.232Z"
   },
   {
    "duration": 32,
    "start_time": "2022-02-06T18:56:21.241Z"
   },
   {
    "duration": 12,
    "start_time": "2022-02-06T18:56:21.275Z"
   },
   {
    "duration": 17,
    "start_time": "2022-02-06T18:56:21.288Z"
   },
   {
    "duration": 17,
    "start_time": "2022-02-06T18:56:21.307Z"
   },
   {
    "duration": 56,
    "start_time": "2022-02-06T18:56:21.325Z"
   },
   {
    "duration": 8,
    "start_time": "2022-02-06T18:56:21.383Z"
   },
   {
    "duration": 5,
    "start_time": "2022-02-06T18:56:21.392Z"
   },
   {
    "duration": 8,
    "start_time": "2022-02-06T18:56:21.399Z"
   },
   {
    "duration": 8,
    "start_time": "2022-02-06T18:56:21.408Z"
   },
   {
    "duration": 9,
    "start_time": "2022-02-06T18:56:21.418Z"
   },
   {
    "duration": 112,
    "start_time": "2022-02-06T18:56:21.431Z"
   },
   {
    "duration": 5,
    "start_time": "2022-02-06T18:56:21.546Z"
   },
   {
    "duration": 19,
    "start_time": "2022-02-06T18:56:21.553Z"
   },
   {
    "duration": 11,
    "start_time": "2022-02-06T18:56:21.574Z"
   },
   {
    "duration": 9,
    "start_time": "2022-02-06T18:56:21.586Z"
   },
   {
    "duration": 7,
    "start_time": "2022-02-06T18:56:21.596Z"
   },
   {
    "duration": 4,
    "start_time": "2022-02-06T18:56:21.604Z"
   },
   {
    "duration": 11,
    "start_time": "2022-02-06T18:56:21.610Z"
   },
   {
    "duration": 5,
    "start_time": "2022-02-06T18:56:21.622Z"
   },
   {
    "duration": 45,
    "start_time": "2022-02-06T18:56:21.628Z"
   },
   {
    "duration": 26,
    "start_time": "2022-02-06T18:56:21.674Z"
   },
   {
    "duration": 10,
    "start_time": "2022-02-06T18:56:21.702Z"
   },
   {
    "duration": 20,
    "start_time": "2022-02-06T18:56:21.713Z"
   },
   {
    "duration": 6,
    "start_time": "2022-02-06T18:56:21.734Z"
   },
   {
    "duration": 16,
    "start_time": "2022-02-06T18:56:21.772Z"
   },
   {
    "duration": 16,
    "start_time": "2022-02-06T18:56:21.790Z"
   },
   {
    "duration": 6,
    "start_time": "2022-02-06T18:56:21.808Z"
   },
   {
    "duration": 16,
    "start_time": "2022-02-06T18:56:21.815Z"
   },
   {
    "duration": 5,
    "start_time": "2022-02-06T18:56:21.832Z"
   },
   {
    "duration": 37,
    "start_time": "2022-02-06T18:56:21.838Z"
   },
   {
    "duration": 9,
    "start_time": "2022-02-06T18:56:21.877Z"
   },
   {
    "duration": 12,
    "start_time": "2022-02-06T18:56:21.888Z"
   },
   {
    "duration": 8,
    "start_time": "2022-02-06T18:56:21.901Z"
   },
   {
    "duration": 10,
    "start_time": "2022-02-06T18:56:21.911Z"
   },
   {
    "duration": 10,
    "start_time": "2022-02-06T18:56:21.922Z"
   },
   {
    "duration": 8,
    "start_time": "2022-02-06T18:56:21.934Z"
   },
   {
    "duration": 10,
    "start_time": "2022-02-06T18:56:21.943Z"
   },
   {
    "duration": 6,
    "start_time": "2022-02-06T18:56:21.972Z"
   },
   {
    "duration": 8,
    "start_time": "2022-02-06T18:56:21.979Z"
   },
   {
    "duration": 8,
    "start_time": "2022-02-06T18:56:21.988Z"
   },
   {
    "duration": 9,
    "start_time": "2022-02-06T18:56:21.998Z"
   },
   {
    "duration": 21,
    "start_time": "2022-02-06T18:56:22.008Z"
   },
   {
    "duration": 5,
    "start_time": "2022-02-06T18:56:22.031Z"
   },
   {
    "duration": 7,
    "start_time": "2022-02-06T18:56:22.037Z"
   },
   {
    "duration": 30,
    "start_time": "2022-02-06T18:56:22.045Z"
   },
   {
    "duration": 4,
    "start_time": "2022-02-06T18:56:22.076Z"
   },
   {
    "duration": 16,
    "start_time": "2022-02-06T18:56:22.081Z"
   },
   {
    "duration": 491,
    "start_time": "2022-02-06T18:56:22.098Z"
   },
   {
    "duration": 493,
    "start_time": "2022-02-06T18:56:22.590Z"
   },
   {
    "duration": 561,
    "start_time": "2022-02-06T18:56:23.085Z"
   },
   {
    "duration": 524,
    "start_time": "2022-02-06T18:56:23.648Z"
   },
   {
    "duration": 499,
    "start_time": "2022-02-06T18:56:24.174Z"
   },
   {
    "duration": 598,
    "start_time": "2022-02-06T18:56:24.675Z"
   },
   {
    "duration": 21,
    "start_time": "2022-02-06T18:56:25.275Z"
   },
   {
    "duration": 24,
    "start_time": "2022-02-06T18:56:25.298Z"
   },
   {
    "duration": 15,
    "start_time": "2022-02-06T18:56:25.327Z"
   },
   {
    "duration": 34,
    "start_time": "2022-02-06T18:56:25.344Z"
   },
   {
    "duration": 16,
    "start_time": "2022-02-06T18:56:25.380Z"
   },
   {
    "duration": 17,
    "start_time": "2022-02-06T18:56:25.398Z"
   },
   {
    "duration": 5,
    "start_time": "2022-02-06T18:56:25.417Z"
   },
   {
    "duration": 52,
    "start_time": "2022-02-06T18:56:25.424Z"
   },
   {
    "duration": 18,
    "start_time": "2022-02-06T18:56:25.478Z"
   },
   {
    "duration": 16,
    "start_time": "2022-02-06T18:56:25.498Z"
   },
   {
    "duration": 246,
    "start_time": "2022-02-06T18:56:25.516Z"
   },
   {
    "duration": 24,
    "start_time": "2022-02-06T18:56:25.764Z"
   },
   {
    "duration": 279,
    "start_time": "2022-02-06T18:56:25.790Z"
   },
   {
    "duration": 684,
    "start_time": "2022-02-06T18:56:26.071Z"
   },
   {
    "duration": 34,
    "start_time": "2022-02-06T18:56:26.757Z"
   },
   {
    "duration": 251,
    "start_time": "2022-02-06T18:56:26.792Z"
   },
   {
    "duration": 13,
    "start_time": "2022-02-06T18:56:27.044Z"
   },
   {
    "duration": 21,
    "start_time": "2022-02-06T18:56:27.059Z"
   },
   {
    "duration": 20,
    "start_time": "2022-02-06T18:56:27.082Z"
   },
   {
    "duration": 254,
    "start_time": "2022-02-06T18:56:27.104Z"
   },
   {
    "duration": 43,
    "start_time": "2022-02-06T18:56:27.359Z"
   },
   {
    "duration": 7,
    "start_time": "2022-02-06T18:56:27.403Z"
   },
   {
    "duration": 13,
    "start_time": "2022-02-06T18:56:27.412Z"
   },
   {
    "duration": 7,
    "start_time": "2022-02-06T18:56:27.427Z"
   },
   {
    "duration": 39,
    "start_time": "2022-02-06T18:56:27.436Z"
   },
   {
    "duration": 12,
    "start_time": "2022-02-06T18:57:56.115Z"
   },
   {
    "duration": 1060,
    "start_time": "2022-02-06T18:58:38.540Z"
   },
   {
    "duration": 57,
    "start_time": "2022-02-06T18:58:39.602Z"
   },
   {
    "duration": 17,
    "start_time": "2022-02-06T18:58:39.660Z"
   },
   {
    "duration": 51,
    "start_time": "2022-02-06T18:58:39.679Z"
   },
   {
    "duration": 7,
    "start_time": "2022-02-06T18:58:39.731Z"
   },
   {
    "duration": 10,
    "start_time": "2022-02-06T18:58:39.739Z"
   },
   {
    "duration": 5,
    "start_time": "2022-02-06T18:58:39.751Z"
   },
   {
    "duration": 18,
    "start_time": "2022-02-06T18:58:39.758Z"
   },
   {
    "duration": 11,
    "start_time": "2022-02-06T18:58:39.778Z"
   },
   {
    "duration": 9,
    "start_time": "2022-02-06T18:58:39.791Z"
   },
   {
    "duration": 24,
    "start_time": "2022-02-06T18:58:39.801Z"
   },
   {
    "duration": 7,
    "start_time": "2022-02-06T18:58:39.827Z"
   },
   {
    "duration": 11,
    "start_time": "2022-02-06T18:58:39.835Z"
   },
   {
    "duration": 28,
    "start_time": "2022-02-06T18:58:39.847Z"
   },
   {
    "duration": 14,
    "start_time": "2022-02-06T18:58:39.877Z"
   },
   {
    "duration": 17,
    "start_time": "2022-02-06T18:58:39.892Z"
   },
   {
    "duration": 15,
    "start_time": "2022-02-06T18:58:39.911Z"
   },
   {
    "duration": 8,
    "start_time": "2022-02-06T18:58:39.927Z"
   },
   {
    "duration": 6,
    "start_time": "2022-02-06T18:58:39.936Z"
   },
   {
    "duration": 34,
    "start_time": "2022-02-06T18:58:39.943Z"
   },
   {
    "duration": 6,
    "start_time": "2022-02-06T18:58:39.978Z"
   },
   {
    "duration": 11,
    "start_time": "2022-02-06T18:58:39.985Z"
   },
   {
    "duration": 104,
    "start_time": "2022-02-06T18:58:40.000Z"
   },
   {
    "duration": 5,
    "start_time": "2022-02-06T18:58:40.107Z"
   },
   {
    "duration": 7,
    "start_time": "2022-02-06T18:58:40.114Z"
   },
   {
    "duration": 13,
    "start_time": "2022-02-06T18:58:40.122Z"
   },
   {
    "duration": 8,
    "start_time": "2022-02-06T18:58:40.136Z"
   },
   {
    "duration": 26,
    "start_time": "2022-02-06T18:58:40.146Z"
   },
   {
    "duration": 4,
    "start_time": "2022-02-06T18:58:40.174Z"
   },
   {
    "duration": 9,
    "start_time": "2022-02-06T18:58:40.179Z"
   },
   {
    "duration": 4,
    "start_time": "2022-02-06T18:58:40.190Z"
   },
   {
    "duration": 20,
    "start_time": "2022-02-06T18:58:40.195Z"
   },
   {
    "duration": 21,
    "start_time": "2022-02-06T18:58:40.217Z"
   },
   {
    "duration": 33,
    "start_time": "2022-02-06T18:58:40.239Z"
   },
   {
    "duration": 17,
    "start_time": "2022-02-06T18:58:40.274Z"
   },
   {
    "duration": 7,
    "start_time": "2022-02-06T18:58:40.292Z"
   },
   {
    "duration": 17,
    "start_time": "2022-02-06T18:58:40.301Z"
   },
   {
    "duration": 15,
    "start_time": "2022-02-06T18:58:40.319Z"
   },
   {
    "duration": 5,
    "start_time": "2022-02-06T18:58:40.335Z"
   },
   {
    "duration": 41,
    "start_time": "2022-02-06T18:58:40.342Z"
   },
   {
    "duration": 5,
    "start_time": "2022-02-06T18:58:40.385Z"
   },
   {
    "duration": 7,
    "start_time": "2022-02-06T18:58:40.392Z"
   },
   {
    "duration": 10,
    "start_time": "2022-02-06T18:58:40.400Z"
   },
   {
    "duration": 13,
    "start_time": "2022-02-06T18:58:40.412Z"
   },
   {
    "duration": 6,
    "start_time": "2022-02-06T18:58:40.427Z"
   },
   {
    "duration": 10,
    "start_time": "2022-02-06T18:58:40.435Z"
   },
   {
    "duration": 29,
    "start_time": "2022-02-06T18:58:40.447Z"
   },
   {
    "duration": 5,
    "start_time": "2022-02-06T18:58:40.478Z"
   },
   {
    "duration": 9,
    "start_time": "2022-02-06T18:58:40.485Z"
   },
   {
    "duration": 11,
    "start_time": "2022-02-06T18:58:40.495Z"
   },
   {
    "duration": 12,
    "start_time": "2022-02-06T18:58:40.507Z"
   },
   {
    "duration": 9,
    "start_time": "2022-02-06T18:58:40.520Z"
   },
   {
    "duration": 8,
    "start_time": "2022-02-06T18:58:40.530Z"
   },
   {
    "duration": 33,
    "start_time": "2022-02-06T18:58:40.540Z"
   },
   {
    "duration": 6,
    "start_time": "2022-02-06T18:58:40.575Z"
   },
   {
    "duration": 8,
    "start_time": "2022-02-06T18:58:40.582Z"
   },
   {
    "duration": 13,
    "start_time": "2022-02-06T18:58:40.592Z"
   },
   {
    "duration": 4,
    "start_time": "2022-02-06T18:58:40.606Z"
   },
   {
    "duration": 19,
    "start_time": "2022-02-06T18:58:40.611Z"
   },
   {
    "duration": 514,
    "start_time": "2022-02-06T18:58:40.632Z"
   },
   {
    "duration": 544,
    "start_time": "2022-02-06T18:58:41.147Z"
   },
   {
    "duration": 589,
    "start_time": "2022-02-06T18:58:41.693Z"
   },
   {
    "duration": 498,
    "start_time": "2022-02-06T18:58:42.283Z"
   },
   {
    "duration": 498,
    "start_time": "2022-02-06T18:58:42.783Z"
   },
   {
    "duration": 588,
    "start_time": "2022-02-06T18:58:43.283Z"
   },
   {
    "duration": 21,
    "start_time": "2022-02-06T18:58:43.873Z"
   },
   {
    "duration": 24,
    "start_time": "2022-02-06T18:58:43.896Z"
   },
   {
    "duration": 14,
    "start_time": "2022-02-06T18:58:43.924Z"
   },
   {
    "duration": 32,
    "start_time": "2022-02-06T18:58:43.940Z"
   },
   {
    "duration": 16,
    "start_time": "2022-02-06T18:58:43.974Z"
   },
   {
    "duration": 15,
    "start_time": "2022-02-06T18:58:43.992Z"
   },
   {
    "duration": 3,
    "start_time": "2022-02-06T18:58:44.008Z"
   },
   {
    "duration": 24,
    "start_time": "2022-02-06T18:58:44.013Z"
   },
   {
    "duration": 36,
    "start_time": "2022-02-06T18:58:44.038Z"
   },
   {
    "duration": 16,
    "start_time": "2022-02-06T18:58:44.076Z"
   },
   {
    "duration": 249,
    "start_time": "2022-02-06T18:58:44.093Z"
   },
   {
    "duration": 29,
    "start_time": "2022-02-06T18:58:44.343Z"
   },
   {
    "duration": 275,
    "start_time": "2022-02-06T18:58:44.374Z"
   },
   {
    "duration": 652,
    "start_time": "2022-02-06T18:58:44.650Z"
   },
   {
    "duration": 23,
    "start_time": "2022-02-06T18:58:45.304Z"
   },
   {
    "duration": 252,
    "start_time": "2022-02-06T18:58:45.329Z"
   },
   {
    "duration": 14,
    "start_time": "2022-02-06T18:58:45.583Z"
   },
   {
    "duration": 14,
    "start_time": "2022-02-06T18:58:45.598Z"
   },
   {
    "duration": 18,
    "start_time": "2022-02-06T18:58:45.614Z"
   },
   {
    "duration": 263,
    "start_time": "2022-02-06T18:58:45.634Z"
   },
   {
    "duration": 41,
    "start_time": "2022-02-06T18:58:45.898Z"
   },
   {
    "duration": 6,
    "start_time": "2022-02-06T18:58:45.941Z"
   },
   {
    "duration": 32,
    "start_time": "2022-02-06T18:58:45.949Z"
   },
   {
    "duration": 9,
    "start_time": "2022-02-06T18:58:45.983Z"
   },
   {
    "duration": 7,
    "start_time": "2022-02-06T18:58:45.994Z"
   },
   {
    "duration": 502,
    "start_time": "2022-02-06T19:00:49.547Z"
   },
   {
    "duration": 504,
    "start_time": "2022-02-06T19:02:23.754Z"
   },
   {
    "duration": 1102,
    "start_time": "2022-02-06T19:04:58.099Z"
   },
   {
    "duration": 61,
    "start_time": "2022-02-06T19:04:59.202Z"
   },
   {
    "duration": 15,
    "start_time": "2022-02-06T19:04:59.265Z"
   },
   {
    "duration": 55,
    "start_time": "2022-02-06T19:04:59.281Z"
   },
   {
    "duration": 6,
    "start_time": "2022-02-06T19:04:59.337Z"
   },
   {
    "duration": 19,
    "start_time": "2022-02-06T19:04:59.344Z"
   },
   {
    "duration": 27,
    "start_time": "2022-02-06T19:04:59.364Z"
   },
   {
    "duration": 27,
    "start_time": "2022-02-06T19:04:59.394Z"
   },
   {
    "duration": 9,
    "start_time": "2022-02-06T19:04:59.423Z"
   },
   {
    "duration": 25,
    "start_time": "2022-02-06T19:04:59.434Z"
   },
   {
    "duration": 32,
    "start_time": "2022-02-06T19:04:59.460Z"
   },
   {
    "duration": 15,
    "start_time": "2022-02-06T19:04:59.493Z"
   },
   {
    "duration": 21,
    "start_time": "2022-02-06T19:04:59.510Z"
   },
   {
    "duration": 21,
    "start_time": "2022-02-06T19:04:59.532Z"
   },
   {
    "duration": 23,
    "start_time": "2022-02-06T19:04:59.554Z"
   },
   {
    "duration": 18,
    "start_time": "2022-02-06T19:04:59.578Z"
   },
   {
    "duration": 17,
    "start_time": "2022-02-06T19:04:59.598Z"
   },
   {
    "duration": 11,
    "start_time": "2022-02-06T19:04:59.616Z"
   },
   {
    "duration": 11,
    "start_time": "2022-02-06T19:04:59.628Z"
   },
   {
    "duration": 14,
    "start_time": "2022-02-06T19:04:59.640Z"
   },
   {
    "duration": 21,
    "start_time": "2022-02-06T19:04:59.655Z"
   },
   {
    "duration": 10,
    "start_time": "2022-02-06T19:04:59.677Z"
   },
   {
    "duration": 113,
    "start_time": "2022-02-06T19:04:59.691Z"
   },
   {
    "duration": 6,
    "start_time": "2022-02-06T19:04:59.807Z"
   },
   {
    "duration": 14,
    "start_time": "2022-02-06T19:04:59.815Z"
   },
   {
    "duration": 15,
    "start_time": "2022-02-06T19:04:59.831Z"
   },
   {
    "duration": 26,
    "start_time": "2022-02-06T19:04:59.848Z"
   },
   {
    "duration": 14,
    "start_time": "2022-02-06T19:04:59.876Z"
   },
   {
    "duration": 16,
    "start_time": "2022-02-06T19:04:59.892Z"
   },
   {
    "duration": 29,
    "start_time": "2022-02-06T19:04:59.909Z"
   },
   {
    "duration": 5,
    "start_time": "2022-02-06T19:04:59.939Z"
   },
   {
    "duration": 22,
    "start_time": "2022-02-06T19:04:59.945Z"
   },
   {
    "duration": 22,
    "start_time": "2022-02-06T19:04:59.969Z"
   },
   {
    "duration": 9,
    "start_time": "2022-02-06T19:04:59.993Z"
   },
   {
    "duration": 35,
    "start_time": "2022-02-06T19:05:00.003Z"
   },
   {
    "duration": 16,
    "start_time": "2022-02-06T19:05:00.039Z"
   },
   {
    "duration": 21,
    "start_time": "2022-02-06T19:05:00.057Z"
   },
   {
    "duration": 36,
    "start_time": "2022-02-06T19:05:00.080Z"
   },
   {
    "duration": 27,
    "start_time": "2022-02-06T19:05:00.117Z"
   },
   {
    "duration": 29,
    "start_time": "2022-02-06T19:05:00.146Z"
   },
   {
    "duration": 11,
    "start_time": "2022-02-06T19:05:00.177Z"
   },
   {
    "duration": 21,
    "start_time": "2022-02-06T19:05:00.189Z"
   },
   {
    "duration": 15,
    "start_time": "2022-02-06T19:05:00.212Z"
   },
   {
    "duration": 20,
    "start_time": "2022-02-06T19:05:00.229Z"
   },
   {
    "duration": 17,
    "start_time": "2022-02-06T19:05:00.251Z"
   },
   {
    "duration": 12,
    "start_time": "2022-02-06T19:05:00.270Z"
   },
   {
    "duration": 12,
    "start_time": "2022-02-06T19:05:00.284Z"
   },
   {
    "duration": 11,
    "start_time": "2022-02-06T19:05:00.297Z"
   },
   {
    "duration": 23,
    "start_time": "2022-02-06T19:05:00.309Z"
   },
   {
    "duration": 13,
    "start_time": "2022-02-06T19:05:00.333Z"
   },
   {
    "duration": 10,
    "start_time": "2022-02-06T19:05:00.348Z"
   },
   {
    "duration": 15,
    "start_time": "2022-02-06T19:05:00.359Z"
   },
   {
    "duration": 9,
    "start_time": "2022-02-06T19:05:00.375Z"
   },
   {
    "duration": 32,
    "start_time": "2022-02-06T19:05:00.385Z"
   },
   {
    "duration": 5,
    "start_time": "2022-02-06T19:05:00.419Z"
   },
   {
    "duration": 14,
    "start_time": "2022-02-06T19:05:00.426Z"
   },
   {
    "duration": 12,
    "start_time": "2022-02-06T19:05:00.441Z"
   },
   {
    "duration": 6,
    "start_time": "2022-02-06T19:05:00.454Z"
   },
   {
    "duration": 28,
    "start_time": "2022-02-06T19:05:00.461Z"
   },
   {
    "duration": 514,
    "start_time": "2022-02-06T19:05:00.491Z"
   },
   {
    "duration": 528,
    "start_time": "2022-02-06T19:05:01.007Z"
   },
   {
    "duration": 555,
    "start_time": "2022-02-06T19:05:01.537Z"
   },
   {
    "duration": 493,
    "start_time": "2022-02-06T19:05:02.094Z"
   },
   {
    "duration": 491,
    "start_time": "2022-02-06T19:05:02.588Z"
   },
   {
    "duration": 511,
    "start_time": "2022-02-06T19:05:03.081Z"
   },
   {
    "duration": 578,
    "start_time": "2022-02-06T19:05:03.593Z"
   },
   {
    "duration": 20,
    "start_time": "2022-02-06T19:05:04.173Z"
   },
   {
    "duration": 22,
    "start_time": "2022-02-06T19:05:04.197Z"
   },
   {
    "duration": 15,
    "start_time": "2022-02-06T19:05:04.220Z"
   },
   {
    "duration": 7,
    "start_time": "2022-02-06T19:05:04.236Z"
   },
   {
    "duration": 16,
    "start_time": "2022-02-06T19:05:04.272Z"
   },
   {
    "duration": 17,
    "start_time": "2022-02-06T19:05:04.290Z"
   },
   {
    "duration": 3,
    "start_time": "2022-02-06T19:05:04.308Z"
   },
   {
    "duration": 26,
    "start_time": "2022-02-06T19:05:04.313Z"
   },
   {
    "duration": 32,
    "start_time": "2022-02-06T19:05:04.340Z"
   },
   {
    "duration": 22,
    "start_time": "2022-02-06T19:05:04.374Z"
   },
   {
    "duration": 274,
    "start_time": "2022-02-06T19:05:04.398Z"
   },
   {
    "duration": 19,
    "start_time": "2022-02-06T19:05:04.674Z"
   },
   {
    "duration": 290,
    "start_time": "2022-02-06T19:05:04.694Z"
   },
   {
    "duration": 582,
    "start_time": "2022-02-06T19:05:04.986Z"
   },
   {
    "duration": 25,
    "start_time": "2022-02-06T19:05:05.570Z"
   },
   {
    "duration": 255,
    "start_time": "2022-02-06T19:05:05.597Z"
   },
   {
    "duration": 18,
    "start_time": "2022-02-06T19:05:05.854Z"
   },
   {
    "duration": 14,
    "start_time": "2022-02-06T19:05:05.874Z"
   },
   {
    "duration": 17,
    "start_time": "2022-02-06T19:05:05.889Z"
   },
   {
    "duration": 259,
    "start_time": "2022-02-06T19:05:05.908Z"
   },
   {
    "duration": 40,
    "start_time": "2022-02-06T19:05:06.168Z"
   },
   {
    "duration": 6,
    "start_time": "2022-02-06T19:05:06.209Z"
   },
   {
    "duration": 13,
    "start_time": "2022-02-06T19:05:06.216Z"
   },
   {
    "duration": 6,
    "start_time": "2022-02-06T19:05:06.231Z"
   },
   {
    "duration": 36,
    "start_time": "2022-02-06T19:05:06.238Z"
   },
   {
    "duration": 574,
    "start_time": "2022-02-06T19:20:08.328Z"
   },
   {
    "duration": 1243,
    "start_time": "2022-02-06T19:23:44.565Z"
   },
   {
    "duration": 58,
    "start_time": "2022-02-06T19:23:45.810Z"
   },
   {
    "duration": 15,
    "start_time": "2022-02-06T19:23:45.870Z"
   },
   {
    "duration": 85,
    "start_time": "2022-02-06T19:23:45.887Z"
   },
   {
    "duration": 6,
    "start_time": "2022-02-06T19:23:45.973Z"
   },
   {
    "duration": 11,
    "start_time": "2022-02-06T19:23:45.981Z"
   },
   {
    "duration": 5,
    "start_time": "2022-02-06T19:23:45.994Z"
   },
   {
    "duration": 17,
    "start_time": "2022-02-06T19:23:46.001Z"
   },
   {
    "duration": 6,
    "start_time": "2022-02-06T19:23:46.020Z"
   },
   {
    "duration": 6,
    "start_time": "2022-02-06T19:23:46.028Z"
   },
   {
    "duration": 47,
    "start_time": "2022-02-06T19:23:46.036Z"
   },
   {
    "duration": 9,
    "start_time": "2022-02-06T19:23:46.085Z"
   },
   {
    "duration": 11,
    "start_time": "2022-02-06T19:23:46.096Z"
   },
   {
    "duration": 10,
    "start_time": "2022-02-06T19:23:46.109Z"
   },
   {
    "duration": 52,
    "start_time": "2022-02-06T19:23:46.120Z"
   },
   {
    "duration": 18,
    "start_time": "2022-02-06T19:23:46.174Z"
   },
   {
    "duration": 16,
    "start_time": "2022-02-06T19:23:46.193Z"
   },
   {
    "duration": 9,
    "start_time": "2022-02-06T19:23:46.211Z"
   },
   {
    "duration": 7,
    "start_time": "2022-02-06T19:23:46.221Z"
   },
   {
    "duration": 45,
    "start_time": "2022-02-06T19:23:46.230Z"
   },
   {
    "duration": 7,
    "start_time": "2022-02-06T19:23:46.277Z"
   },
   {
    "duration": 5,
    "start_time": "2022-02-06T19:23:46.286Z"
   },
   {
    "duration": 118,
    "start_time": "2022-02-06T19:23:46.295Z"
   },
   {
    "duration": 6,
    "start_time": "2022-02-06T19:23:46.416Z"
   },
   {
    "duration": 7,
    "start_time": "2022-02-06T19:23:46.424Z"
   },
   {
    "duration": 11,
    "start_time": "2022-02-06T19:23:46.432Z"
   },
   {
    "duration": 30,
    "start_time": "2022-02-06T19:23:46.444Z"
   },
   {
    "duration": 8,
    "start_time": "2022-02-06T19:23:46.476Z"
   },
   {
    "duration": 5,
    "start_time": "2022-02-06T19:23:46.485Z"
   },
   {
    "duration": 17,
    "start_time": "2022-02-06T19:23:46.492Z"
   },
   {
    "duration": 4,
    "start_time": "2022-02-06T19:23:46.510Z"
   },
   {
    "duration": 19,
    "start_time": "2022-02-06T19:23:46.516Z"
   },
   {
    "duration": 43,
    "start_time": "2022-02-06T19:23:46.536Z"
   },
   {
    "duration": 9,
    "start_time": "2022-02-06T19:23:46.580Z"
   },
   {
    "duration": 15,
    "start_time": "2022-02-06T19:23:46.590Z"
   },
   {
    "duration": 4,
    "start_time": "2022-02-06T19:23:46.607Z"
   },
   {
    "duration": 15,
    "start_time": "2022-02-06T19:23:46.613Z"
   },
   {
    "duration": 43,
    "start_time": "2022-02-06T19:23:46.629Z"
   },
   {
    "duration": 5,
    "start_time": "2022-02-06T19:23:46.673Z"
   },
   {
    "duration": 14,
    "start_time": "2022-02-06T19:23:46.680Z"
   },
   {
    "duration": 8,
    "start_time": "2022-02-06T19:23:46.695Z"
   },
   {
    "duration": 9,
    "start_time": "2022-02-06T19:23:46.704Z"
   },
   {
    "duration": 11,
    "start_time": "2022-02-06T19:23:46.714Z"
   },
   {
    "duration": 11,
    "start_time": "2022-02-06T19:23:46.727Z"
   },
   {
    "duration": 8,
    "start_time": "2022-02-06T19:23:46.740Z"
   },
   {
    "duration": 25,
    "start_time": "2022-02-06T19:23:46.750Z"
   },
   {
    "duration": 7,
    "start_time": "2022-02-06T19:23:46.776Z"
   },
   {
    "duration": 6,
    "start_time": "2022-02-06T19:23:46.785Z"
   },
   {
    "duration": 10,
    "start_time": "2022-02-06T19:23:46.793Z"
   },
   {
    "duration": 10,
    "start_time": "2022-02-06T19:23:46.805Z"
   },
   {
    "duration": 8,
    "start_time": "2022-02-06T19:23:46.817Z"
   },
   {
    "duration": 9,
    "start_time": "2022-02-06T19:23:46.826Z"
   },
   {
    "duration": 9,
    "start_time": "2022-02-06T19:23:46.836Z"
   },
   {
    "duration": 33,
    "start_time": "2022-02-06T19:23:46.847Z"
   },
   {
    "duration": 5,
    "start_time": "2022-02-06T19:23:46.882Z"
   },
   {
    "duration": 7,
    "start_time": "2022-02-06T19:23:46.889Z"
   },
   {
    "duration": 12,
    "start_time": "2022-02-06T19:23:46.898Z"
   },
   {
    "duration": 3,
    "start_time": "2022-02-06T19:23:46.912Z"
   },
   {
    "duration": 19,
    "start_time": "2022-02-06T19:23:46.916Z"
   },
   {
    "duration": 509,
    "start_time": "2022-02-06T19:23:46.937Z"
   },
   {
    "duration": 494,
    "start_time": "2022-02-06T19:23:47.447Z"
   },
   {
    "duration": 559,
    "start_time": "2022-02-06T19:23:47.942Z"
   },
   {
    "duration": 509,
    "start_time": "2022-02-06T19:23:48.503Z"
   },
   {
    "duration": 497,
    "start_time": "2022-02-06T19:23:49.013Z"
   },
   {
    "duration": 522,
    "start_time": "2022-02-06T19:23:49.512Z"
   },
   {
    "duration": 581,
    "start_time": "2022-02-06T19:23:50.036Z"
   },
   {
    "duration": 19,
    "start_time": "2022-02-06T19:23:50.619Z"
   },
   {
    "duration": 36,
    "start_time": "2022-02-06T19:23:50.642Z"
   },
   {
    "duration": 16,
    "start_time": "2022-02-06T19:23:50.680Z"
   },
   {
    "duration": 8,
    "start_time": "2022-02-06T19:23:50.698Z"
   },
   {
    "duration": 16,
    "start_time": "2022-02-06T19:23:50.708Z"
   },
   {
    "duration": 50,
    "start_time": "2022-02-06T19:23:50.725Z"
   },
   {
    "duration": 4,
    "start_time": "2022-02-06T19:23:50.777Z"
   },
   {
    "duration": 21,
    "start_time": "2022-02-06T19:23:50.783Z"
   },
   {
    "duration": 17,
    "start_time": "2022-02-06T19:23:50.806Z"
   },
   {
    "duration": 17,
    "start_time": "2022-02-06T19:23:50.824Z"
   },
   {
    "duration": 300,
    "start_time": "2022-02-06T19:23:50.843Z"
   },
   {
    "duration": 28,
    "start_time": "2022-02-06T19:23:51.145Z"
   },
   {
    "duration": 277,
    "start_time": "2022-02-06T19:23:51.175Z"
   },
   {
    "duration": 602,
    "start_time": "2022-02-06T19:23:51.454Z"
   },
   {
    "duration": 28,
    "start_time": "2022-02-06T19:23:52.058Z"
   },
   {
    "duration": 293,
    "start_time": "2022-02-06T19:23:52.088Z"
   },
   {
    "duration": 13,
    "start_time": "2022-02-06T19:23:52.383Z"
   },
   {
    "duration": 14,
    "start_time": "2022-02-06T19:23:52.398Z"
   },
   {
    "duration": 19,
    "start_time": "2022-02-06T19:23:52.414Z"
   },
   {
    "duration": 266,
    "start_time": "2022-02-06T19:23:52.434Z"
   },
   {
    "duration": 43,
    "start_time": "2022-02-06T19:23:52.702Z"
   },
   {
    "duration": 6,
    "start_time": "2022-02-06T19:23:52.747Z"
   },
   {
    "duration": 13,
    "start_time": "2022-02-06T19:23:52.771Z"
   },
   {
    "duration": 7,
    "start_time": "2022-02-06T19:23:52.786Z"
   },
   {
    "duration": 6,
    "start_time": "2022-02-06T19:23:52.794Z"
   },
   {
    "duration": 11,
    "start_time": "2022-02-06T19:27:26.471Z"
   },
   {
    "duration": 10,
    "start_time": "2022-02-06T19:27:56.930Z"
   },
   {
    "duration": 4,
    "start_time": "2022-02-06T19:29:57.030Z"
   },
   {
    "duration": 18,
    "start_time": "2022-02-06T19:29:58.053Z"
   },
   {
    "duration": 19,
    "start_time": "2022-02-06T19:29:59.527Z"
   },
   {
    "duration": 18,
    "start_time": "2022-02-06T19:30:01.455Z"
   },
   {
    "duration": 13,
    "start_time": "2022-02-06T19:30:02.568Z"
   },
   {
    "duration": 1118,
    "start_time": "2022-02-06T19:43:13.484Z"
   },
   {
    "duration": 57,
    "start_time": "2022-02-06T19:43:14.604Z"
   },
   {
    "duration": 16,
    "start_time": "2022-02-06T19:43:14.663Z"
   },
   {
    "duration": 50,
    "start_time": "2022-02-06T19:43:14.681Z"
   },
   {
    "duration": 7,
    "start_time": "2022-02-06T19:43:14.733Z"
   },
   {
    "duration": 17,
    "start_time": "2022-02-06T19:43:14.741Z"
   },
   {
    "duration": 16,
    "start_time": "2022-02-06T19:43:14.760Z"
   },
   {
    "duration": 26,
    "start_time": "2022-02-06T19:43:14.779Z"
   },
   {
    "duration": 5,
    "start_time": "2022-02-06T19:43:14.807Z"
   },
   {
    "duration": 6,
    "start_time": "2022-02-06T19:43:14.814Z"
   },
   {
    "duration": 23,
    "start_time": "2022-02-06T19:43:14.821Z"
   },
   {
    "duration": 25,
    "start_time": "2022-02-06T19:43:14.846Z"
   },
   {
    "duration": 12,
    "start_time": "2022-02-06T19:43:14.873Z"
   },
   {
    "duration": 14,
    "start_time": "2022-02-06T19:43:14.887Z"
   },
   {
    "duration": 27,
    "start_time": "2022-02-06T19:43:14.903Z"
   },
   {
    "duration": 22,
    "start_time": "2022-02-06T19:43:14.932Z"
   },
   {
    "duration": 25,
    "start_time": "2022-02-06T19:43:14.956Z"
   },
   {
    "duration": 8,
    "start_time": "2022-02-06T19:43:14.983Z"
   },
   {
    "duration": 7,
    "start_time": "2022-02-06T19:43:14.993Z"
   },
   {
    "duration": 11,
    "start_time": "2022-02-06T19:43:15.002Z"
   },
   {
    "duration": 8,
    "start_time": "2022-02-06T19:43:15.015Z"
   },
   {
    "duration": 7,
    "start_time": "2022-02-06T19:43:15.025Z"
   },
   {
    "duration": 122,
    "start_time": "2022-02-06T19:43:15.036Z"
   },
   {
    "duration": 14,
    "start_time": "2022-02-06T19:43:15.162Z"
   },
   {
    "duration": 5,
    "start_time": "2022-02-06T19:43:15.178Z"
   },
   {
    "duration": 11,
    "start_time": "2022-02-06T19:43:15.185Z"
   },
   {
    "duration": 8,
    "start_time": "2022-02-06T19:43:15.197Z"
   },
   {
    "duration": 6,
    "start_time": "2022-02-06T19:43:15.207Z"
   },
   {
    "duration": 4,
    "start_time": "2022-02-06T19:43:15.214Z"
   },
   {
    "duration": 14,
    "start_time": "2022-02-06T19:43:15.220Z"
   },
   {
    "duration": 37,
    "start_time": "2022-02-06T19:43:15.235Z"
   },
   {
    "duration": 18,
    "start_time": "2022-02-06T19:43:15.273Z"
   },
   {
    "duration": 22,
    "start_time": "2022-02-06T19:43:15.292Z"
   },
   {
    "duration": 8,
    "start_time": "2022-02-06T19:43:15.316Z"
   },
   {
    "duration": 15,
    "start_time": "2022-02-06T19:43:15.326Z"
   },
   {
    "duration": 33,
    "start_time": "2022-02-06T19:43:15.343Z"
   },
   {
    "duration": 14,
    "start_time": "2022-02-06T19:43:15.378Z"
   },
   {
    "duration": 15,
    "start_time": "2022-02-06T19:43:15.394Z"
   },
   {
    "duration": 8,
    "start_time": "2022-02-06T19:43:15.410Z"
   },
   {
    "duration": 17,
    "start_time": "2022-02-06T19:43:15.419Z"
   },
   {
    "duration": 4,
    "start_time": "2022-02-06T19:43:15.438Z"
   },
   {
    "duration": 5,
    "start_time": "2022-02-06T19:43:15.471Z"
   },
   {
    "duration": 7,
    "start_time": "2022-02-06T19:43:15.477Z"
   },
   {
    "duration": 11,
    "start_time": "2022-02-06T19:43:15.485Z"
   },
   {
    "duration": 9,
    "start_time": "2022-02-06T19:43:15.497Z"
   },
   {
    "duration": 10,
    "start_time": "2022-02-06T19:43:15.508Z"
   },
   {
    "duration": 9,
    "start_time": "2022-02-06T19:43:15.520Z"
   },
   {
    "duration": 8,
    "start_time": "2022-02-06T19:43:15.531Z"
   },
   {
    "duration": 10,
    "start_time": "2022-02-06T19:43:15.541Z"
   },
   {
    "duration": 22,
    "start_time": "2022-02-06T19:43:15.553Z"
   },
   {
    "duration": 5,
    "start_time": "2022-02-06T19:43:15.577Z"
   },
   {
    "duration": 9,
    "start_time": "2022-02-06T19:43:15.583Z"
   },
   {
    "duration": 8,
    "start_time": "2022-02-06T19:43:15.593Z"
   },
   {
    "duration": 22,
    "start_time": "2022-02-06T19:43:15.602Z"
   },
   {
    "duration": 20,
    "start_time": "2022-02-06T19:43:15.625Z"
   },
   {
    "duration": 13,
    "start_time": "2022-02-06T19:43:15.647Z"
   },
   {
    "duration": 11,
    "start_time": "2022-02-06T19:43:15.662Z"
   },
   {
    "duration": 6,
    "start_time": "2022-02-06T19:43:15.675Z"
   },
   {
    "duration": 18,
    "start_time": "2022-02-06T19:43:15.682Z"
   },
   {
    "duration": 532,
    "start_time": "2022-02-06T19:43:15.702Z"
   },
   {
    "duration": 506,
    "start_time": "2022-02-06T19:43:16.236Z"
   },
   {
    "duration": 556,
    "start_time": "2022-02-06T19:43:16.744Z"
   },
   {
    "duration": 490,
    "start_time": "2022-02-06T19:43:17.301Z"
   },
   {
    "duration": 502,
    "start_time": "2022-02-06T19:43:17.792Z"
   },
   {
    "duration": 489,
    "start_time": "2022-02-06T19:43:18.296Z"
   },
   {
    "duration": 623,
    "start_time": "2022-02-06T19:43:18.786Z"
   },
   {
    "duration": 19,
    "start_time": "2022-02-06T19:43:19.411Z"
   },
   {
    "duration": 23,
    "start_time": "2022-02-06T19:43:19.435Z"
   },
   {
    "duration": 13,
    "start_time": "2022-02-06T19:43:19.472Z"
   },
   {
    "duration": 21,
    "start_time": "2022-02-06T19:43:19.487Z"
   },
   {
    "duration": 26,
    "start_time": "2022-02-06T19:43:19.510Z"
   },
   {
    "duration": 17,
    "start_time": "2022-02-06T19:43:19.538Z"
   },
   {
    "duration": 5,
    "start_time": "2022-02-06T19:43:19.556Z"
   },
   {
    "duration": 43,
    "start_time": "2022-02-06T19:43:19.562Z"
   },
   {
    "duration": 15,
    "start_time": "2022-02-06T19:43:19.607Z"
   },
   {
    "duration": 20,
    "start_time": "2022-02-06T19:43:19.624Z"
   },
   {
    "duration": 10,
    "start_time": "2022-02-06T19:43:19.645Z"
   },
   {
    "duration": 278,
    "start_time": "2022-02-06T19:43:19.657Z"
   },
   {
    "duration": 17,
    "start_time": "2022-02-06T19:43:19.937Z"
   },
   {
    "duration": 270,
    "start_time": "2022-02-06T19:43:19.956Z"
   },
   {
    "duration": 574,
    "start_time": "2022-02-06T19:43:20.228Z"
   },
   {
    "duration": 23,
    "start_time": "2022-02-06T19:43:20.804Z"
   },
   {
    "duration": 266,
    "start_time": "2022-02-06T19:43:20.829Z"
   },
   {
    "duration": 12,
    "start_time": "2022-02-06T19:43:21.096Z"
   },
   {
    "duration": 35,
    "start_time": "2022-02-06T19:43:21.110Z"
   },
   {
    "duration": 33,
    "start_time": "2022-02-06T19:43:21.147Z"
   },
   {
    "duration": 239,
    "start_time": "2022-02-06T19:43:21.182Z"
   },
   {
    "duration": 54,
    "start_time": "2022-02-06T19:43:21.423Z"
   },
   {
    "duration": 6,
    "start_time": "2022-02-06T19:43:21.478Z"
   },
   {
    "duration": 17,
    "start_time": "2022-02-06T19:43:21.486Z"
   },
   {
    "duration": 9,
    "start_time": "2022-02-06T19:43:21.505Z"
   },
   {
    "duration": 14,
    "start_time": "2022-02-06T19:43:21.516Z"
   },
   {
    "duration": 4,
    "start_time": "2022-02-06T19:43:49.144Z"
   },
   {
    "duration": 18,
    "start_time": "2022-02-06T19:43:50.618Z"
   },
   {
    "duration": 18,
    "start_time": "2022-02-06T19:43:51.389Z"
   },
   {
    "duration": 17,
    "start_time": "2022-02-06T19:43:52.407Z"
   },
   {
    "duration": 9,
    "start_time": "2022-02-06T19:43:53.356Z"
   },
   {
    "duration": 1075,
    "start_time": "2022-02-06T19:45:48.963Z"
   },
   {
    "duration": 60,
    "start_time": "2022-02-06T19:45:50.040Z"
   },
   {
    "duration": 15,
    "start_time": "2022-02-06T19:45:50.102Z"
   },
   {
    "duration": 50,
    "start_time": "2022-02-06T19:45:50.119Z"
   },
   {
    "duration": 6,
    "start_time": "2022-02-06T19:45:50.170Z"
   },
   {
    "duration": 10,
    "start_time": "2022-02-06T19:45:50.178Z"
   },
   {
    "duration": 5,
    "start_time": "2022-02-06T19:45:50.189Z"
   },
   {
    "duration": 19,
    "start_time": "2022-02-06T19:45:50.196Z"
   },
   {
    "duration": 5,
    "start_time": "2022-02-06T19:45:50.216Z"
   },
   {
    "duration": 18,
    "start_time": "2022-02-06T19:45:50.222Z"
   },
   {
    "duration": 31,
    "start_time": "2022-02-06T19:45:50.242Z"
   },
   {
    "duration": 6,
    "start_time": "2022-02-06T19:45:50.275Z"
   },
   {
    "duration": 20,
    "start_time": "2022-02-06T19:45:50.283Z"
   },
   {
    "duration": 16,
    "start_time": "2022-02-06T19:45:50.305Z"
   },
   {
    "duration": 21,
    "start_time": "2022-02-06T19:45:50.323Z"
   },
   {
    "duration": 22,
    "start_time": "2022-02-06T19:45:50.345Z"
   },
   {
    "duration": 16,
    "start_time": "2022-02-06T19:45:50.368Z"
   },
   {
    "duration": 16,
    "start_time": "2022-02-06T19:45:50.386Z"
   },
   {
    "duration": 13,
    "start_time": "2022-02-06T19:45:50.404Z"
   },
   {
    "duration": 17,
    "start_time": "2022-02-06T19:45:50.418Z"
   },
   {
    "duration": 15,
    "start_time": "2022-02-06T19:45:50.436Z"
   },
   {
    "duration": 21,
    "start_time": "2022-02-06T19:45:50.453Z"
   },
   {
    "duration": 101,
    "start_time": "2022-02-06T19:45:50.478Z"
   },
   {
    "duration": 5,
    "start_time": "2022-02-06T19:45:50.582Z"
   },
   {
    "duration": 12,
    "start_time": "2022-02-06T19:45:50.588Z"
   },
   {
    "duration": 19,
    "start_time": "2022-02-06T19:45:50.601Z"
   },
   {
    "duration": 10,
    "start_time": "2022-02-06T19:45:50.621Z"
   },
   {
    "duration": 21,
    "start_time": "2022-02-06T19:45:50.632Z"
   },
   {
    "duration": 29,
    "start_time": "2022-02-06T19:45:50.654Z"
   },
   {
    "duration": 19,
    "start_time": "2022-02-06T19:45:50.685Z"
   },
   {
    "duration": 14,
    "start_time": "2022-02-06T19:45:50.705Z"
   },
   {
    "duration": 27,
    "start_time": "2022-02-06T19:45:50.721Z"
   },
   {
    "duration": 23,
    "start_time": "2022-02-06T19:45:50.749Z"
   },
   {
    "duration": 8,
    "start_time": "2022-02-06T19:45:50.774Z"
   },
   {
    "duration": 24,
    "start_time": "2022-02-06T19:45:50.784Z"
   },
   {
    "duration": 5,
    "start_time": "2022-02-06T19:45:50.809Z"
   },
   {
    "duration": 23,
    "start_time": "2022-02-06T19:45:50.816Z"
   },
   {
    "duration": 21,
    "start_time": "2022-02-06T19:45:50.840Z"
   },
   {
    "duration": 12,
    "start_time": "2022-02-06T19:45:50.863Z"
   },
   {
    "duration": 27,
    "start_time": "2022-02-06T19:45:50.876Z"
   },
   {
    "duration": 20,
    "start_time": "2022-02-06T19:45:50.904Z"
   },
   {
    "duration": 23,
    "start_time": "2022-02-06T19:45:50.925Z"
   },
   {
    "duration": 15,
    "start_time": "2022-02-06T19:45:50.949Z"
   },
   {
    "duration": 26,
    "start_time": "2022-02-06T19:45:50.965Z"
   },
   {
    "duration": 19,
    "start_time": "2022-02-06T19:45:50.993Z"
   },
   {
    "duration": 18,
    "start_time": "2022-02-06T19:45:51.013Z"
   },
   {
    "duration": 18,
    "start_time": "2022-02-06T19:45:51.033Z"
   },
   {
    "duration": 10,
    "start_time": "2022-02-06T19:45:51.052Z"
   },
   {
    "duration": 13,
    "start_time": "2022-02-06T19:45:51.064Z"
   },
   {
    "duration": 23,
    "start_time": "2022-02-06T19:45:51.078Z"
   },
   {
    "duration": 12,
    "start_time": "2022-02-06T19:45:51.102Z"
   },
   {
    "duration": 19,
    "start_time": "2022-02-06T19:45:51.116Z"
   },
   {
    "duration": 14,
    "start_time": "2022-02-06T19:45:51.136Z"
   },
   {
    "duration": 27,
    "start_time": "2022-02-06T19:45:51.151Z"
   },
   {
    "duration": 14,
    "start_time": "2022-02-06T19:45:51.180Z"
   },
   {
    "duration": 23,
    "start_time": "2022-02-06T19:45:51.196Z"
   },
   {
    "duration": 20,
    "start_time": "2022-02-06T19:45:51.220Z"
   },
   {
    "duration": 9,
    "start_time": "2022-02-06T19:45:51.241Z"
   },
   {
    "duration": 36,
    "start_time": "2022-02-06T19:45:51.251Z"
   },
   {
    "duration": 497,
    "start_time": "2022-02-06T19:45:51.288Z"
   },
   {
    "duration": 516,
    "start_time": "2022-02-06T19:45:51.786Z"
   },
   {
    "duration": 554,
    "start_time": "2022-02-06T19:45:52.304Z"
   },
   {
    "duration": 477,
    "start_time": "2022-02-06T19:45:52.860Z"
   },
   {
    "duration": 504,
    "start_time": "2022-02-06T19:45:53.338Z"
   },
   {
    "duration": 494,
    "start_time": "2022-02-06T19:45:53.844Z"
   },
   {
    "duration": 609,
    "start_time": "2022-02-06T19:45:54.339Z"
   },
   {
    "duration": 24,
    "start_time": "2022-02-06T19:45:54.949Z"
   },
   {
    "duration": 22,
    "start_time": "2022-02-06T19:45:54.977Z"
   },
   {
    "duration": 14,
    "start_time": "2022-02-06T19:45:55.001Z"
   },
   {
    "duration": 7,
    "start_time": "2022-02-06T19:45:55.017Z"
   },
   {
    "duration": 15,
    "start_time": "2022-02-06T19:45:55.026Z"
   },
   {
    "duration": 17,
    "start_time": "2022-02-06T19:45:55.072Z"
   },
   {
    "duration": 5,
    "start_time": "2022-02-06T19:45:55.090Z"
   },
   {
    "duration": 19,
    "start_time": "2022-02-06T19:45:55.097Z"
   },
   {
    "duration": 16,
    "start_time": "2022-02-06T19:45:55.117Z"
   },
   {
    "duration": 39,
    "start_time": "2022-02-06T19:45:55.135Z"
   },
   {
    "duration": 10,
    "start_time": "2022-02-06T19:45:55.176Z"
   },
   {
    "duration": 297,
    "start_time": "2022-02-06T19:45:55.187Z"
   },
   {
    "duration": 19,
    "start_time": "2022-02-06T19:45:55.486Z"
   },
   {
    "duration": 273,
    "start_time": "2022-02-06T19:45:55.506Z"
   },
   {
    "duration": 615,
    "start_time": "2022-02-06T19:45:55.781Z"
   },
   {
    "duration": 23,
    "start_time": "2022-02-06T19:45:56.398Z"
   },
   {
    "duration": 268,
    "start_time": "2022-02-06T19:45:56.422Z"
   },
   {
    "duration": 13,
    "start_time": "2022-02-06T19:45:56.691Z"
   },
   {
    "duration": 14,
    "start_time": "2022-02-06T19:45:56.706Z"
   },
   {
    "duration": 19,
    "start_time": "2022-02-06T19:45:56.721Z"
   },
   {
    "duration": 264,
    "start_time": "2022-02-06T19:45:56.742Z"
   },
   {
    "duration": 44,
    "start_time": "2022-02-06T19:45:57.008Z"
   },
   {
    "duration": 18,
    "start_time": "2022-02-06T19:45:57.054Z"
   },
   {
    "duration": 13,
    "start_time": "2022-02-06T19:45:57.074Z"
   },
   {
    "duration": 7,
    "start_time": "2022-02-06T19:45:57.088Z"
   },
   {
    "duration": 5,
    "start_time": "2022-02-06T19:45:57.097Z"
   },
   {
    "duration": 1167,
    "start_time": "2022-02-06T19:58:45.044Z"
   },
   {
    "duration": 57,
    "start_time": "2022-02-06T19:58:46.213Z"
   },
   {
    "duration": 14,
    "start_time": "2022-02-06T19:58:46.274Z"
   },
   {
    "duration": 40,
    "start_time": "2022-02-06T19:58:46.289Z"
   },
   {
    "duration": 6,
    "start_time": "2022-02-06T19:58:46.331Z"
   },
   {
    "duration": 11,
    "start_time": "2022-02-06T19:58:46.339Z"
   },
   {
    "duration": 10,
    "start_time": "2022-02-06T19:58:46.352Z"
   },
   {
    "duration": 17,
    "start_time": "2022-02-06T19:58:46.364Z"
   },
   {
    "duration": 5,
    "start_time": "2022-02-06T19:58:46.382Z"
   },
   {
    "duration": 8,
    "start_time": "2022-02-06T19:58:46.388Z"
   },
   {
    "duration": 21,
    "start_time": "2022-02-06T19:58:46.398Z"
   },
   {
    "duration": 6,
    "start_time": "2022-02-06T19:58:46.421Z"
   },
   {
    "duration": 9,
    "start_time": "2022-02-06T19:58:46.428Z"
   },
   {
    "duration": 11,
    "start_time": "2022-02-06T19:58:46.438Z"
   },
   {
    "duration": 34,
    "start_time": "2022-02-06T19:58:46.450Z"
   },
   {
    "duration": 15,
    "start_time": "2022-02-06T19:58:46.486Z"
   },
   {
    "duration": 15,
    "start_time": "2022-02-06T19:58:46.503Z"
   },
   {
    "duration": 10,
    "start_time": "2022-02-06T19:58:46.520Z"
   },
   {
    "duration": 44,
    "start_time": "2022-02-06T19:58:46.532Z"
   },
   {
    "duration": 7,
    "start_time": "2022-02-06T19:58:46.577Z"
   },
   {
    "duration": 6,
    "start_time": "2022-02-06T19:58:46.586Z"
   },
   {
    "duration": 5,
    "start_time": "2022-02-06T19:58:46.596Z"
   },
   {
    "duration": 112,
    "start_time": "2022-02-06T19:58:46.603Z"
   },
   {
    "duration": 6,
    "start_time": "2022-02-06T19:58:46.716Z"
   },
   {
    "duration": 10,
    "start_time": "2022-02-06T19:58:46.723Z"
   },
   {
    "duration": 13,
    "start_time": "2022-02-06T19:58:46.734Z"
   },
   {
    "duration": 9,
    "start_time": "2022-02-06T19:58:46.748Z"
   },
   {
    "duration": 8,
    "start_time": "2022-02-06T19:58:46.772Z"
   },
   {
    "duration": 5,
    "start_time": "2022-02-06T19:58:46.781Z"
   },
   {
    "duration": 9,
    "start_time": "2022-02-06T19:58:46.787Z"
   },
   {
    "duration": 4,
    "start_time": "2022-02-06T19:58:46.799Z"
   },
   {
    "duration": 18,
    "start_time": "2022-02-06T19:58:46.805Z"
   },
   {
    "duration": 47,
    "start_time": "2022-02-06T19:58:46.825Z"
   },
   {
    "duration": 10,
    "start_time": "2022-02-06T19:58:46.874Z"
   },
   {
    "duration": 17,
    "start_time": "2022-02-06T19:58:46.885Z"
   },
   {
    "duration": 5,
    "start_time": "2022-02-06T19:58:46.904Z"
   },
   {
    "duration": 15,
    "start_time": "2022-02-06T19:58:46.910Z"
   },
   {
    "duration": 47,
    "start_time": "2022-02-06T19:58:46.926Z"
   },
   {
    "duration": 6,
    "start_time": "2022-02-06T19:58:46.974Z"
   },
   {
    "duration": 15,
    "start_time": "2022-02-06T19:58:46.982Z"
   },
   {
    "duration": 15,
    "start_time": "2022-02-06T19:58:46.999Z"
   },
   {
    "duration": 10,
    "start_time": "2022-02-06T19:58:47.016Z"
   },
   {
    "duration": 13,
    "start_time": "2022-02-06T19:58:47.028Z"
   },
   {
    "duration": 11,
    "start_time": "2022-02-06T19:58:47.043Z"
   },
   {
    "duration": 9,
    "start_time": "2022-02-06T19:58:47.055Z"
   },
   {
    "duration": 8,
    "start_time": "2022-02-06T19:58:47.072Z"
   },
   {
    "duration": 11,
    "start_time": "2022-02-06T19:58:47.082Z"
   },
   {
    "duration": 8,
    "start_time": "2022-02-06T19:58:47.094Z"
   },
   {
    "duration": 16,
    "start_time": "2022-02-06T19:58:47.103Z"
   },
   {
    "duration": 9,
    "start_time": "2022-02-06T19:58:47.120Z"
   },
   {
    "duration": 11,
    "start_time": "2022-02-06T19:58:47.131Z"
   },
   {
    "duration": 9,
    "start_time": "2022-02-06T19:58:47.143Z"
   },
   {
    "duration": 19,
    "start_time": "2022-02-06T19:58:47.153Z"
   },
   {
    "duration": 17,
    "start_time": "2022-02-06T19:58:47.173Z"
   },
   {
    "duration": 9,
    "start_time": "2022-02-06T19:58:47.192Z"
   },
   {
    "duration": 9,
    "start_time": "2022-02-06T19:58:47.203Z"
   },
   {
    "duration": 12,
    "start_time": "2022-02-06T19:58:47.214Z"
   },
   {
    "duration": 4,
    "start_time": "2022-02-06T19:58:47.228Z"
   },
   {
    "duration": 18,
    "start_time": "2022-02-06T19:58:47.233Z"
   },
   {
    "duration": 618,
    "start_time": "2022-02-06T19:58:47.253Z"
   },
   {
    "duration": 514,
    "start_time": "2022-02-06T19:58:47.873Z"
   },
   {
    "duration": 554,
    "start_time": "2022-02-06T19:58:48.389Z"
   },
   {
    "duration": 494,
    "start_time": "2022-02-06T19:58:48.944Z"
   },
   {
    "duration": 503,
    "start_time": "2022-02-06T19:58:49.439Z"
   },
   {
    "duration": 494,
    "start_time": "2022-02-06T19:58:49.944Z"
   },
   {
    "duration": 588,
    "start_time": "2022-02-06T19:58:50.440Z"
   },
   {
    "duration": 20,
    "start_time": "2022-02-06T19:58:51.032Z"
   },
   {
    "duration": 29,
    "start_time": "2022-02-06T19:58:51.054Z"
   },
   {
    "duration": 14,
    "start_time": "2022-02-06T19:58:51.085Z"
   },
   {
    "duration": 7,
    "start_time": "2022-02-06T19:58:51.101Z"
   },
   {
    "duration": 355,
    "start_time": "2022-02-06T19:58:51.110Z"
   },
   {
    "duration": -2521,
    "start_time": "2022-02-06T19:58:53.988Z"
   },
   {
    "duration": -2534,
    "start_time": "2022-02-06T19:58:54.003Z"
   },
   {
    "duration": -2547,
    "start_time": "2022-02-06T19:58:54.017Z"
   },
   {
    "duration": -2563,
    "start_time": "2022-02-06T19:58:54.034Z"
   },
   {
    "duration": -2575,
    "start_time": "2022-02-06T19:58:54.048Z"
   },
   {
    "duration": -2588,
    "start_time": "2022-02-06T19:58:54.062Z"
   },
   {
    "duration": -2623,
    "start_time": "2022-02-06T19:58:54.098Z"
   },
   {
    "duration": -2638,
    "start_time": "2022-02-06T19:58:54.114Z"
   },
   {
    "duration": -2652,
    "start_time": "2022-02-06T19:58:54.130Z"
   },
   {
    "duration": -2668,
    "start_time": "2022-02-06T19:58:54.147Z"
   },
   {
    "duration": -2680,
    "start_time": "2022-02-06T19:58:54.160Z"
   },
   {
    "duration": -2696,
    "start_time": "2022-02-06T19:58:54.178Z"
   },
   {
    "duration": -2708,
    "start_time": "2022-02-06T19:58:54.191Z"
   },
   {
    "duration": -2747,
    "start_time": "2022-02-06T19:58:54.231Z"
   },
   {
    "duration": 268,
    "start_time": "2022-02-06T20:00:08.913Z"
   },
   {
    "duration": 18,
    "start_time": "2022-02-06T20:00:20.968Z"
   },
   {
    "duration": 280,
    "start_time": "2022-02-06T20:00:32.065Z"
   },
   {
    "duration": 262,
    "start_time": "2022-02-06T20:00:38.592Z"
   },
   {
    "duration": 588,
    "start_time": "2022-02-06T20:01:29.328Z"
   },
   {
    "duration": 22,
    "start_time": "2022-02-06T20:01:46.217Z"
   },
   {
    "duration": 984,
    "start_time": "2022-02-06T20:02:43.523Z"
   },
   {
    "duration": 58,
    "start_time": "2022-02-06T20:02:44.509Z"
   },
   {
    "duration": 15,
    "start_time": "2022-02-06T20:02:44.569Z"
   },
   {
    "duration": 53,
    "start_time": "2022-02-06T20:02:44.585Z"
   },
   {
    "duration": 6,
    "start_time": "2022-02-06T20:02:44.640Z"
   },
   {
    "duration": 11,
    "start_time": "2022-02-06T20:02:44.647Z"
   },
   {
    "duration": 4,
    "start_time": "2022-02-06T20:02:44.659Z"
   },
   {
    "duration": 13,
    "start_time": "2022-02-06T20:02:44.665Z"
   },
   {
    "duration": 4,
    "start_time": "2022-02-06T20:02:44.680Z"
   },
   {
    "duration": 7,
    "start_time": "2022-02-06T20:02:44.685Z"
   },
   {
    "duration": 29,
    "start_time": "2022-02-06T20:02:44.694Z"
   },
   {
    "duration": 6,
    "start_time": "2022-02-06T20:02:44.724Z"
   },
   {
    "duration": 11,
    "start_time": "2022-02-06T20:02:44.732Z"
   },
   {
    "duration": 32,
    "start_time": "2022-02-06T20:02:44.744Z"
   },
   {
    "duration": 15,
    "start_time": "2022-02-06T20:02:44.777Z"
   },
   {
    "duration": 16,
    "start_time": "2022-02-06T20:02:44.793Z"
   },
   {
    "duration": 15,
    "start_time": "2022-02-06T20:02:44.810Z"
   },
   {
    "duration": 8,
    "start_time": "2022-02-06T20:02:44.827Z"
   },
   {
    "duration": 38,
    "start_time": "2022-02-06T20:02:44.836Z"
   },
   {
    "duration": 7,
    "start_time": "2022-02-06T20:02:44.875Z"
   },
   {
    "duration": 6,
    "start_time": "2022-02-06T20:02:44.884Z"
   },
   {
    "duration": 4,
    "start_time": "2022-02-06T20:02:44.891Z"
   },
   {
    "duration": 112,
    "start_time": "2022-02-06T20:02:44.899Z"
   },
   {
    "duration": 6,
    "start_time": "2022-02-06T20:02:45.015Z"
   },
   {
    "duration": 7,
    "start_time": "2022-02-06T20:02:45.023Z"
   },
   {
    "duration": 11,
    "start_time": "2022-02-06T20:02:45.032Z"
   },
   {
    "duration": 30,
    "start_time": "2022-02-06T20:02:45.045Z"
   },
   {
    "duration": 8,
    "start_time": "2022-02-06T20:02:45.077Z"
   },
   {
    "duration": 6,
    "start_time": "2022-02-06T20:02:45.087Z"
   },
   {
    "duration": 16,
    "start_time": "2022-02-06T20:02:45.095Z"
   },
   {
    "duration": 6,
    "start_time": "2022-02-06T20:02:45.112Z"
   },
   {
    "duration": 19,
    "start_time": "2022-02-06T20:02:45.119Z"
   },
   {
    "duration": 48,
    "start_time": "2022-02-06T20:02:45.139Z"
   },
   {
    "duration": 8,
    "start_time": "2022-02-06T20:02:45.188Z"
   },
   {
    "duration": 15,
    "start_time": "2022-02-06T20:02:45.198Z"
   },
   {
    "duration": 7,
    "start_time": "2022-02-06T20:02:45.214Z"
   },
   {
    "duration": 14,
    "start_time": "2022-02-06T20:02:45.223Z"
   },
   {
    "duration": 40,
    "start_time": "2022-02-06T20:02:45.238Z"
   },
   {
    "duration": 5,
    "start_time": "2022-02-06T20:02:45.280Z"
   },
   {
    "duration": 24,
    "start_time": "2022-02-06T20:02:45.286Z"
   },
   {
    "duration": 18,
    "start_time": "2022-02-06T20:02:45.312Z"
   },
   {
    "duration": 24,
    "start_time": "2022-02-06T20:02:45.332Z"
   },
   {
    "duration": 16,
    "start_time": "2022-02-06T20:02:45.357Z"
   },
   {
    "duration": 19,
    "start_time": "2022-02-06T20:02:45.374Z"
   },
   {
    "duration": 13,
    "start_time": "2022-02-06T20:02:45.395Z"
   },
   {
    "duration": 24,
    "start_time": "2022-02-06T20:02:45.409Z"
   },
   {
    "duration": 12,
    "start_time": "2022-02-06T20:02:45.435Z"
   },
   {
    "duration": 23,
    "start_time": "2022-02-06T20:02:45.449Z"
   },
   {
    "duration": 22,
    "start_time": "2022-02-06T20:02:45.474Z"
   },
   {
    "duration": 14,
    "start_time": "2022-02-06T20:02:45.497Z"
   },
   {
    "duration": 20,
    "start_time": "2022-02-06T20:02:45.513Z"
   },
   {
    "duration": 19,
    "start_time": "2022-02-06T20:02:45.534Z"
   },
   {
    "duration": 20,
    "start_time": "2022-02-06T20:02:45.555Z"
   },
   {
    "duration": 45,
    "start_time": "2022-02-06T20:02:45.576Z"
   },
   {
    "duration": 8,
    "start_time": "2022-02-06T20:02:45.622Z"
   },
   {
    "duration": 21,
    "start_time": "2022-02-06T20:02:45.631Z"
   },
   {
    "duration": 18,
    "start_time": "2022-02-06T20:02:45.653Z"
   },
   {
    "duration": 20,
    "start_time": "2022-02-06T20:02:45.672Z"
   },
   {
    "duration": 27,
    "start_time": "2022-02-06T20:02:45.693Z"
   },
   {
    "duration": 489,
    "start_time": "2022-02-06T20:02:45.721Z"
   },
   {
    "duration": 503,
    "start_time": "2022-02-06T20:02:46.212Z"
   },
   {
    "duration": 545,
    "start_time": "2022-02-06T20:02:46.716Z"
   },
   {
    "duration": 482,
    "start_time": "2022-02-06T20:02:47.263Z"
   },
   {
    "duration": 505,
    "start_time": "2022-02-06T20:02:47.746Z"
   },
   {
    "duration": 498,
    "start_time": "2022-02-06T20:02:48.252Z"
   },
   {
    "duration": 579,
    "start_time": "2022-02-06T20:02:48.752Z"
   },
   {
    "duration": 20,
    "start_time": "2022-02-06T20:02:49.333Z"
   },
   {
    "duration": 22,
    "start_time": "2022-02-06T20:02:49.374Z"
   },
   {
    "duration": 13,
    "start_time": "2022-02-06T20:02:49.398Z"
   },
   {
    "duration": 7,
    "start_time": "2022-02-06T20:02:49.412Z"
   },
   {
    "duration": 284,
    "start_time": "2022-02-06T20:02:49.420Z"
   },
   {
    "duration": 18,
    "start_time": "2022-02-06T20:02:49.705Z"
   },
   {
    "duration": 277,
    "start_time": "2022-02-06T20:02:49.724Z"
   },
   {
    "duration": 581,
    "start_time": "2022-02-06T20:02:50.003Z"
   },
   {
    "duration": 21,
    "start_time": "2022-02-06T20:02:50.585Z"
   },
   {
    "duration": 238,
    "start_time": "2022-02-06T20:02:50.608Z"
   },
   {
    "duration": 12,
    "start_time": "2022-02-06T20:02:50.848Z"
   },
   {
    "duration": 15,
    "start_time": "2022-02-06T20:02:50.872Z"
   },
   {
    "duration": 19,
    "start_time": "2022-02-06T20:02:50.888Z"
   },
   {
    "duration": 265,
    "start_time": "2022-02-06T20:02:50.909Z"
   },
   {
    "duration": 51,
    "start_time": "2022-02-06T20:02:51.176Z"
   },
   {
    "duration": 7,
    "start_time": "2022-02-06T20:02:51.229Z"
   },
   {
    "duration": 38,
    "start_time": "2022-02-06T20:02:51.237Z"
   },
   {
    "duration": 8,
    "start_time": "2022-02-06T20:02:51.277Z"
   },
   {
    "duration": 7,
    "start_time": "2022-02-06T20:02:51.286Z"
   },
   {
    "duration": 16,
    "start_time": "2022-02-06T20:06:13.555Z"
   },
   {
    "duration": 14,
    "start_time": "2022-02-06T20:06:25.984Z"
   },
   {
    "duration": 425,
    "start_time": "2022-02-07T06:19:24.295Z"
   },
   {
    "duration": 1409,
    "start_time": "2022-02-07T06:19:48.375Z"
   },
   {
    "duration": 219,
    "start_time": "2022-02-07T06:19:49.787Z"
   },
   {
    "duration": 24,
    "start_time": "2022-02-07T06:19:50.009Z"
   },
   {
    "duration": 44,
    "start_time": "2022-02-07T06:19:50.036Z"
   },
   {
    "duration": 8,
    "start_time": "2022-02-07T06:19:50.082Z"
   },
   {
    "duration": 16,
    "start_time": "2022-02-07T06:19:50.092Z"
   },
   {
    "duration": 6,
    "start_time": "2022-02-07T06:19:50.110Z"
   },
   {
    "duration": 23,
    "start_time": "2022-02-07T06:19:50.119Z"
   },
   {
    "duration": 21,
    "start_time": "2022-02-07T06:19:50.145Z"
   },
   {
    "duration": 10,
    "start_time": "2022-02-07T06:19:50.168Z"
   },
   {
    "duration": 35,
    "start_time": "2022-02-07T06:19:50.180Z"
   },
   {
    "duration": 9,
    "start_time": "2022-02-07T06:19:50.217Z"
   },
   {
    "duration": 16,
    "start_time": "2022-02-07T06:19:50.228Z"
   },
   {
    "duration": 15,
    "start_time": "2022-02-07T06:19:50.247Z"
   },
   {
    "duration": 55,
    "start_time": "2022-02-07T06:19:50.265Z"
   },
   {
    "duration": 21,
    "start_time": "2022-02-07T06:19:50.322Z"
   },
   {
    "duration": 22,
    "start_time": "2022-02-07T06:19:50.346Z"
   },
   {
    "duration": 42,
    "start_time": "2022-02-07T06:19:50.370Z"
   },
   {
    "duration": 10,
    "start_time": "2022-02-07T06:19:50.414Z"
   },
   {
    "duration": 10,
    "start_time": "2022-02-07T06:19:50.427Z"
   },
   {
    "duration": 12,
    "start_time": "2022-02-07T06:19:50.439Z"
   },
   {
    "duration": 15,
    "start_time": "2022-02-07T06:19:50.453Z"
   },
   {
    "duration": 148,
    "start_time": "2022-02-07T06:19:50.472Z"
   },
   {
    "duration": 7,
    "start_time": "2022-02-07T06:19:50.624Z"
   },
   {
    "duration": 11,
    "start_time": "2022-02-07T06:19:50.633Z"
   },
   {
    "duration": 15,
    "start_time": "2022-02-07T06:19:50.645Z"
   },
   {
    "duration": 14,
    "start_time": "2022-02-07T06:19:50.662Z"
   },
   {
    "duration": 34,
    "start_time": "2022-02-07T06:19:50.678Z"
   },
   {
    "duration": 6,
    "start_time": "2022-02-07T06:19:50.714Z"
   },
   {
    "duration": 17,
    "start_time": "2022-02-07T06:19:50.722Z"
   },
   {
    "duration": 7,
    "start_time": "2022-02-07T06:19:50.742Z"
   },
   {
    "duration": 56,
    "start_time": "2022-02-07T06:19:50.751Z"
   },
   {
    "duration": 26,
    "start_time": "2022-02-07T06:19:50.809Z"
   },
   {
    "duration": 13,
    "start_time": "2022-02-07T06:19:50.837Z"
   },
   {
    "duration": 22,
    "start_time": "2022-02-07T06:19:50.852Z"
   },
   {
    "duration": 13,
    "start_time": "2022-02-07T06:19:50.907Z"
   },
   {
    "duration": 26,
    "start_time": "2022-02-07T06:19:50.923Z"
   },
   {
    "duration": 19,
    "start_time": "2022-02-07T06:19:50.951Z"
   },
   {
    "duration": 35,
    "start_time": "2022-02-07T06:19:50.972Z"
   },
   {
    "duration": 29,
    "start_time": "2022-02-07T06:19:51.010Z"
   },
   {
    "duration": 16,
    "start_time": "2022-02-07T06:19:51.041Z"
   },
   {
    "duration": 17,
    "start_time": "2022-02-07T06:19:51.059Z"
   },
   {
    "duration": 7,
    "start_time": "2022-02-07T06:19:51.078Z"
   },
   {
    "duration": 28,
    "start_time": "2022-02-07T06:19:51.087Z"
   },
   {
    "duration": 10,
    "start_time": "2022-02-07T06:19:51.117Z"
   },
   {
    "duration": 11,
    "start_time": "2022-02-07T06:19:51.130Z"
   },
   {
    "duration": 21,
    "start_time": "2022-02-07T06:19:51.143Z"
   },
   {
    "duration": 14,
    "start_time": "2022-02-07T06:19:51.167Z"
   },
   {
    "duration": 10,
    "start_time": "2022-02-07T06:19:51.208Z"
   },
   {
    "duration": 21,
    "start_time": "2022-02-07T06:19:51.220Z"
   },
   {
    "duration": 20,
    "start_time": "2022-02-07T06:19:51.243Z"
   },
   {
    "duration": 16,
    "start_time": "2022-02-07T06:19:51.265Z"
   },
   {
    "duration": 16,
    "start_time": "2022-02-07T06:19:51.284Z"
   },
   {
    "duration": 22,
    "start_time": "2022-02-07T06:19:51.302Z"
   },
   {
    "duration": 14,
    "start_time": "2022-02-07T06:19:51.326Z"
   },
   {
    "duration": 9,
    "start_time": "2022-02-07T06:19:51.342Z"
   },
   {
    "duration": 19,
    "start_time": "2022-02-07T06:19:51.353Z"
   },
   {
    "duration": 4,
    "start_time": "2022-02-07T06:19:51.375Z"
   },
   {
    "duration": 53,
    "start_time": "2022-02-07T06:19:51.381Z"
   },
   {
    "duration": 808,
    "start_time": "2022-02-07T06:19:51.436Z"
   },
   {
    "duration": 731,
    "start_time": "2022-02-07T06:19:52.246Z"
   },
   {
    "duration": 789,
    "start_time": "2022-02-07T06:19:52.979Z"
   },
   {
    "duration": 810,
    "start_time": "2022-02-07T06:19:53.771Z"
   },
   {
    "duration": 690,
    "start_time": "2022-02-07T06:19:54.584Z"
   },
   {
    "duration": 693,
    "start_time": "2022-02-07T06:19:55.276Z"
   },
   {
    "duration": 805,
    "start_time": "2022-02-07T06:19:55.971Z"
   },
   {
    "duration": 36,
    "start_time": "2022-02-07T06:19:56.778Z"
   },
   {
    "duration": 29,
    "start_time": "2022-02-07T06:19:56.821Z"
   },
   {
    "duration": 19,
    "start_time": "2022-02-07T06:19:56.853Z"
   },
   {
    "duration": 39,
    "start_time": "2022-02-07T06:19:56.875Z"
   },
   {
    "duration": 42,
    "start_time": "2022-02-07T06:19:56.916Z"
   },
   {
    "duration": 357,
    "start_time": "2022-02-07T06:19:56.961Z"
   },
   {
    "duration": 25,
    "start_time": "2022-02-07T06:19:57.320Z"
   },
   {
    "duration": 374,
    "start_time": "2022-02-07T06:19:57.347Z"
   },
   {
    "duration": 1079,
    "start_time": "2022-02-07T06:19:57.724Z"
   },
   {
    "duration": 41,
    "start_time": "2022-02-07T06:19:58.809Z"
   },
   {
    "duration": 321,
    "start_time": "2022-02-07T06:19:58.852Z"
   },
   {
    "duration": 34,
    "start_time": "2022-02-07T06:19:59.175Z"
   },
   {
    "duration": 22,
    "start_time": "2022-02-07T06:19:59.211Z"
   },
   {
    "duration": 34,
    "start_time": "2022-02-07T06:19:59.235Z"
   },
   {
    "duration": 301,
    "start_time": "2022-02-07T06:19:59.271Z"
   },
   {
    "duration": 73,
    "start_time": "2022-02-07T06:19:59.575Z"
   },
   {
    "duration": 9,
    "start_time": "2022-02-07T06:19:59.650Z"
   },
   {
    "duration": 46,
    "start_time": "2022-02-07T06:19:59.661Z"
   },
   {
    "duration": 15,
    "start_time": "2022-02-07T06:19:59.710Z"
   },
   {
    "duration": 11,
    "start_time": "2022-02-07T06:19:59.727Z"
   },
   {
    "duration": 39,
    "start_time": "2022-02-07T06:21:36.088Z"
   },
   {
    "duration": 5,
    "start_time": "2022-02-07T06:22:37.142Z"
   },
   {
    "duration": 25,
    "start_time": "2022-02-07T06:23:25.057Z"
   },
   {
    "duration": 2272,
    "start_time": "2022-02-07T06:25:05.073Z"
   },
   {
    "duration": 5,
    "start_time": "2022-02-07T06:25:22.867Z"
   },
   {
    "duration": 30,
    "start_time": "2022-02-07T06:25:46.350Z"
   },
   {
    "duration": 5,
    "start_time": "2022-02-07T06:26:26.661Z"
   },
   {
    "duration": 1285,
    "start_time": "2022-02-07T06:27:22.910Z"
   },
   {
    "duration": 67,
    "start_time": "2022-02-07T06:27:24.197Z"
   },
   {
    "duration": 21,
    "start_time": "2022-02-07T06:27:24.266Z"
   },
   {
    "duration": 44,
    "start_time": "2022-02-07T06:27:24.289Z"
   },
   {
    "duration": 8,
    "start_time": "2022-02-07T06:27:24.334Z"
   },
   {
    "duration": 16,
    "start_time": "2022-02-07T06:27:24.344Z"
   },
   {
    "duration": 10,
    "start_time": "2022-02-07T06:27:24.362Z"
   },
   {
    "duration": 24,
    "start_time": "2022-02-07T06:27:24.375Z"
   },
   {
    "duration": 7,
    "start_time": "2022-02-07T06:27:24.401Z"
   },
   {
    "duration": 11,
    "start_time": "2022-02-07T06:27:24.410Z"
   },
   {
    "duration": 33,
    "start_time": "2022-02-07T06:27:24.423Z"
   },
   {
    "duration": 9,
    "start_time": "2022-02-07T06:27:24.458Z"
   },
   {
    "duration": 17,
    "start_time": "2022-02-07T06:27:24.469Z"
   },
   {
    "duration": 15,
    "start_time": "2022-02-07T06:27:24.507Z"
   },
   {
    "duration": 22,
    "start_time": "2022-02-07T06:27:24.524Z"
   },
   {
    "duration": 21,
    "start_time": "2022-02-07T06:27:24.549Z"
   },
   {
    "duration": 45,
    "start_time": "2022-02-07T06:27:24.573Z"
   },
   {
    "duration": 12,
    "start_time": "2022-02-07T06:27:24.620Z"
   },
   {
    "duration": 10,
    "start_time": "2022-02-07T06:27:24.634Z"
   },
   {
    "duration": 13,
    "start_time": "2022-02-07T06:27:24.646Z"
   },
   {
    "duration": 47,
    "start_time": "2022-02-07T06:27:24.661Z"
   },
   {
    "duration": 9,
    "start_time": "2022-02-07T06:27:24.710Z"
   },
   {
    "duration": 122,
    "start_time": "2022-02-07T06:27:24.724Z"
   },
   {
    "duration": 7,
    "start_time": "2022-02-07T06:27:24.849Z"
   },
   {
    "duration": 8,
    "start_time": "2022-02-07T06:27:24.858Z"
   },
   {
    "duration": 16,
    "start_time": "2022-02-07T06:27:24.868Z"
   },
   {
    "duration": 31,
    "start_time": "2022-02-07T06:27:24.885Z"
   },
   {
    "duration": 10,
    "start_time": "2022-02-07T06:27:24.918Z"
   },
   {
    "duration": 6,
    "start_time": "2022-02-07T06:27:24.930Z"
   },
   {
    "duration": 15,
    "start_time": "2022-02-07T06:27:24.938Z"
   },
   {
    "duration": 7,
    "start_time": "2022-02-07T06:27:24.955Z"
   },
   {
    "duration": 58,
    "start_time": "2022-02-07T06:27:24.964Z"
   },
   {
    "duration": 33,
    "start_time": "2022-02-07T06:27:25.024Z"
   },
   {
    "duration": 12,
    "start_time": "2022-02-07T06:27:25.059Z"
   },
   {
    "duration": 46,
    "start_time": "2022-02-07T06:27:25.076Z"
   },
   {
    "duration": 7,
    "start_time": "2022-02-07T06:27:25.124Z"
   },
   {
    "duration": 19,
    "start_time": "2022-02-07T06:27:25.132Z"
   },
   {
    "duration": 24,
    "start_time": "2022-02-07T06:27:25.153Z"
   },
   {
    "duration": 29,
    "start_time": "2022-02-07T06:27:25.179Z"
   },
   {
    "duration": 24,
    "start_time": "2022-02-07T06:27:25.210Z"
   },
   {
    "duration": 10,
    "start_time": "2022-02-07T06:27:25.237Z"
   },
   {
    "duration": 19,
    "start_time": "2022-02-07T06:27:25.249Z"
   },
   {
    "duration": 29,
    "start_time": "2022-02-07T06:27:25.271Z"
   },
   {
    "duration": 28,
    "start_time": "2022-02-07T06:27:25.302Z"
   },
   {
    "duration": 21,
    "start_time": "2022-02-07T06:27:25.332Z"
   },
   {
    "duration": 29,
    "start_time": "2022-02-07T06:27:25.355Z"
   },
   {
    "duration": 21,
    "start_time": "2022-02-07T06:27:25.386Z"
   },
   {
    "duration": 25,
    "start_time": "2022-02-07T06:27:25.409Z"
   },
   {
    "duration": 19,
    "start_time": "2022-02-07T06:27:25.436Z"
   },
   {
    "duration": 27,
    "start_time": "2022-02-07T06:27:25.457Z"
   },
   {
    "duration": 21,
    "start_time": "2022-02-07T06:27:25.486Z"
   },
   {
    "duration": 30,
    "start_time": "2022-02-07T06:27:25.508Z"
   },
   {
    "duration": 10,
    "start_time": "2022-02-07T06:27:25.540Z"
   },
   {
    "duration": 26,
    "start_time": "2022-02-07T06:27:25.552Z"
   },
   {
    "duration": 8,
    "start_time": "2022-02-07T06:27:25.579Z"
   },
   {
    "duration": 17,
    "start_time": "2022-02-07T06:27:25.588Z"
   },
   {
    "duration": 12,
    "start_time": "2022-02-07T06:27:25.607Z"
   },
   {
    "duration": 12,
    "start_time": "2022-02-07T06:27:25.620Z"
   },
   {
    "duration": 25,
    "start_time": "2022-02-07T06:27:25.633Z"
   },
   {
    "duration": 662,
    "start_time": "2022-02-07T06:27:25.660Z"
   },
   {
    "duration": 805,
    "start_time": "2022-02-07T06:27:26.325Z"
   },
   {
    "duration": 675,
    "start_time": "2022-02-07T06:27:27.132Z"
   },
   {
    "duration": 662,
    "start_time": "2022-02-07T06:27:27.809Z"
   },
   {
    "duration": 688,
    "start_time": "2022-02-07T06:27:28.474Z"
   },
   {
    "duration": 635,
    "start_time": "2022-02-07T06:27:29.164Z"
   },
   {
    "duration": 808,
    "start_time": "2022-02-07T06:27:29.801Z"
   },
   {
    "duration": 28,
    "start_time": "2022-02-07T06:27:30.612Z"
   },
   {
    "duration": 30,
    "start_time": "2022-02-07T06:27:30.645Z"
   },
   {
    "duration": 43,
    "start_time": "2022-02-07T06:27:30.678Z"
   },
   {
    "duration": 12,
    "start_time": "2022-02-07T06:27:30.723Z"
   },
   {
    "duration": 372,
    "start_time": "2022-02-07T06:27:30.737Z"
   },
   {
    "duration": 24,
    "start_time": "2022-02-07T06:27:31.111Z"
   },
   {
    "duration": 375,
    "start_time": "2022-02-07T06:27:31.137Z"
   },
   {
    "duration": 814,
    "start_time": "2022-02-07T06:27:31.514Z"
   },
   {
    "duration": 33,
    "start_time": "2022-02-07T06:27:32.330Z"
   },
   {
    "duration": 346,
    "start_time": "2022-02-07T06:27:32.365Z"
   },
   {
    "duration": 20,
    "start_time": "2022-02-07T06:27:32.713Z"
   },
   {
    "duration": 29,
    "start_time": "2022-02-07T06:27:32.735Z"
   },
   {
    "duration": 46,
    "start_time": "2022-02-07T06:27:32.767Z"
   },
   {
    "duration": 345,
    "start_time": "2022-02-07T06:27:32.815Z"
   },
   {
    "duration": 88,
    "start_time": "2022-02-07T06:27:33.162Z"
   },
   {
    "duration": 8,
    "start_time": "2022-02-07T06:27:33.253Z"
   },
   {
    "duration": 28,
    "start_time": "2022-02-07T06:27:33.263Z"
   },
   {
    "duration": 26,
    "start_time": "2022-02-07T06:27:33.293Z"
   },
   {
    "duration": 8,
    "start_time": "2022-02-07T06:27:33.321Z"
   },
   {
    "duration": 1314,
    "start_time": "2022-02-07T07:11:17.978Z"
   },
   {
    "duration": 68,
    "start_time": "2022-02-07T07:11:19.295Z"
   },
   {
    "duration": 18,
    "start_time": "2022-02-07T07:11:19.365Z"
   },
   {
    "duration": 46,
    "start_time": "2022-02-07T07:11:19.385Z"
   },
   {
    "duration": 8,
    "start_time": "2022-02-07T07:11:19.433Z"
   },
   {
    "duration": 19,
    "start_time": "2022-02-07T07:11:19.443Z"
   },
   {
    "duration": 6,
    "start_time": "2022-02-07T07:11:19.464Z"
   },
   {
    "duration": 19,
    "start_time": "2022-02-07T07:11:19.473Z"
   },
   {
    "duration": 6,
    "start_time": "2022-02-07T07:11:19.494Z"
   },
   {
    "duration": 9,
    "start_time": "2022-02-07T07:11:19.502Z"
   },
   {
    "duration": 29,
    "start_time": "2022-02-07T07:11:19.513Z"
   },
   {
    "duration": 7,
    "start_time": "2022-02-07T07:11:19.544Z"
   },
   {
    "duration": 12,
    "start_time": "2022-02-07T07:11:19.553Z"
   },
   {
    "duration": 11,
    "start_time": "2022-02-07T07:11:19.567Z"
   },
   {
    "duration": 18,
    "start_time": "2022-02-07T07:11:19.608Z"
   },
   {
    "duration": 20,
    "start_time": "2022-02-07T07:11:19.628Z"
   },
   {
    "duration": 20,
    "start_time": "2022-02-07T07:11:19.649Z"
   },
   {
    "duration": 39,
    "start_time": "2022-02-07T07:11:19.671Z"
   },
   {
    "duration": 7,
    "start_time": "2022-02-07T07:11:19.712Z"
   },
   {
    "duration": 10,
    "start_time": "2022-02-07T07:11:19.721Z"
   },
   {
    "duration": 8,
    "start_time": "2022-02-07T07:11:19.733Z"
   },
   {
    "duration": 12,
    "start_time": "2022-02-07T07:11:19.743Z"
   },
   {
    "duration": 148,
    "start_time": "2022-02-07T07:11:19.760Z"
   },
   {
    "duration": 7,
    "start_time": "2022-02-07T07:11:19.911Z"
   },
   {
    "duration": 11,
    "start_time": "2022-02-07T07:11:19.920Z"
   },
   {
    "duration": 15,
    "start_time": "2022-02-07T07:11:19.933Z"
   },
   {
    "duration": 10,
    "start_time": "2022-02-07T07:11:19.950Z"
   },
   {
    "duration": 8,
    "start_time": "2022-02-07T07:11:19.962Z"
   },
   {
    "duration": 36,
    "start_time": "2022-02-07T07:11:19.972Z"
   },
   {
    "duration": 24,
    "start_time": "2022-02-07T07:11:20.010Z"
   },
   {
    "duration": 7,
    "start_time": "2022-02-07T07:11:20.036Z"
   },
   {
    "duration": 24,
    "start_time": "2022-02-07T07:11:20.045Z"
   },
   {
    "duration": 44,
    "start_time": "2022-02-07T07:11:20.071Z"
   },
   {
    "duration": 12,
    "start_time": "2022-02-07T07:11:20.118Z"
   },
   {
    "duration": 22,
    "start_time": "2022-02-07T07:11:20.132Z"
   },
   {
    "duration": 7,
    "start_time": "2022-02-07T07:11:20.156Z"
   },
   {
    "duration": 51,
    "start_time": "2022-02-07T07:11:20.165Z"
   },
   {
    "duration": 19,
    "start_time": "2022-02-07T07:11:20.219Z"
   },
   {
    "duration": 12,
    "start_time": "2022-02-07T07:11:20.240Z"
   },
   {
    "duration": 24,
    "start_time": "2022-02-07T07:11:20.254Z"
   },
   {
    "duration": 28,
    "start_time": "2022-02-07T07:11:20.280Z"
   },
   {
    "duration": 6,
    "start_time": "2022-02-07T07:11:20.311Z"
   },
   {
    "duration": 21,
    "start_time": "2022-02-07T07:11:20.319Z"
   },
   {
    "duration": 19,
    "start_time": "2022-02-07T07:11:20.342Z"
   },
   {
    "duration": 10,
    "start_time": "2022-02-07T07:11:20.363Z"
   },
   {
    "duration": 16,
    "start_time": "2022-02-07T07:11:20.375Z"
   },
   {
    "duration": 27,
    "start_time": "2022-02-07T07:11:20.393Z"
   },
   {
    "duration": 9,
    "start_time": "2022-02-07T07:11:20.422Z"
   },
   {
    "duration": 16,
    "start_time": "2022-02-07T07:11:20.433Z"
   },
   {
    "duration": 16,
    "start_time": "2022-02-07T07:11:20.451Z"
   },
   {
    "duration": 14,
    "start_time": "2022-02-07T07:11:20.469Z"
   },
   {
    "duration": 14,
    "start_time": "2022-02-07T07:11:20.485Z"
   },
   {
    "duration": 12,
    "start_time": "2022-02-07T07:11:20.501Z"
   },
   {
    "duration": 26,
    "start_time": "2022-02-07T07:11:20.515Z"
   },
   {
    "duration": 10,
    "start_time": "2022-02-07T07:11:20.543Z"
   },
   {
    "duration": 28,
    "start_time": "2022-02-07T07:11:20.556Z"
   },
   {
    "duration": 17,
    "start_time": "2022-02-07T07:11:20.586Z"
   },
   {
    "duration": 9,
    "start_time": "2022-02-07T07:11:20.605Z"
   },
   {
    "duration": 35,
    "start_time": "2022-02-07T07:11:20.616Z"
   },
   {
    "duration": 580,
    "start_time": "2022-02-07T07:11:20.654Z"
   },
   {
    "duration": 596,
    "start_time": "2022-02-07T07:11:21.236Z"
   },
   {
    "duration": 650,
    "start_time": "2022-02-07T07:11:21.834Z"
   },
   {
    "duration": 593,
    "start_time": "2022-02-07T07:11:22.486Z"
   },
   {
    "duration": 574,
    "start_time": "2022-02-07T07:11:23.081Z"
   },
   {
    "duration": 582,
    "start_time": "2022-02-07T07:11:23.657Z"
   },
   {
    "duration": 779,
    "start_time": "2022-02-07T07:11:24.241Z"
   },
   {
    "duration": 24,
    "start_time": "2022-02-07T07:11:25.023Z"
   },
   {
    "duration": 29,
    "start_time": "2022-02-07T07:11:25.053Z"
   },
   {
    "duration": 39,
    "start_time": "2022-02-07T07:11:25.084Z"
   },
   {
    "duration": 9,
    "start_time": "2022-02-07T07:11:25.125Z"
   },
   {
    "duration": 333,
    "start_time": "2022-02-07T07:11:25.136Z"
   },
   {
    "duration": 23,
    "start_time": "2022-02-07T07:11:25.470Z"
   },
   {
    "duration": 334,
    "start_time": "2022-02-07T07:11:25.495Z"
   },
   {
    "duration": 703,
    "start_time": "2022-02-07T07:11:25.831Z"
   },
   {
    "duration": 26,
    "start_time": "2022-02-07T07:11:26.536Z"
   },
   {
    "duration": 301,
    "start_time": "2022-02-07T07:11:26.564Z"
   },
   {
    "duration": 15,
    "start_time": "2022-02-07T07:11:26.867Z"
   },
   {
    "duration": 34,
    "start_time": "2022-02-07T07:11:26.884Z"
   },
   {
    "duration": 28,
    "start_time": "2022-02-07T07:11:26.920Z"
   },
   {
    "duration": 291,
    "start_time": "2022-02-07T07:11:26.950Z"
   },
   {
    "duration": 69,
    "start_time": "2022-02-07T07:11:27.242Z"
   },
   {
    "duration": 8,
    "start_time": "2022-02-07T07:11:27.312Z"
   },
   {
    "duration": 19,
    "start_time": "2022-02-07T07:11:27.321Z"
   },
   {
    "duration": 13,
    "start_time": "2022-02-07T07:11:27.342Z"
   },
   {
    "duration": 18,
    "start_time": "2022-02-07T07:11:27.357Z"
   },
   {
    "duration": 1278,
    "start_time": "2022-02-07T07:28:40.724Z"
   },
   {
    "duration": 73,
    "start_time": "2022-02-07T07:28:42.007Z"
   },
   {
    "duration": 20,
    "start_time": "2022-02-07T07:28:42.083Z"
   },
   {
    "duration": 48,
    "start_time": "2022-02-07T07:28:42.108Z"
   },
   {
    "duration": 9,
    "start_time": "2022-02-07T07:28:42.158Z"
   },
   {
    "duration": 22,
    "start_time": "2022-02-07T07:28:42.168Z"
   },
   {
    "duration": 17,
    "start_time": "2022-02-07T07:28:42.192Z"
   },
   {
    "duration": 32,
    "start_time": "2022-02-07T07:28:42.212Z"
   },
   {
    "duration": 10,
    "start_time": "2022-02-07T07:28:42.246Z"
   },
   {
    "duration": 38,
    "start_time": "2022-02-07T07:28:42.258Z"
   },
   {
    "duration": 32,
    "start_time": "2022-02-07T07:28:42.298Z"
   },
   {
    "duration": 12,
    "start_time": "2022-02-07T07:28:42.333Z"
   },
   {
    "duration": 20,
    "start_time": "2022-02-07T07:28:42.348Z"
   },
   {
    "duration": 24,
    "start_time": "2022-02-07T07:28:42.371Z"
   },
   {
    "duration": 31,
    "start_time": "2022-02-07T07:28:42.398Z"
   },
   {
    "duration": 29,
    "start_time": "2022-02-07T07:28:42.431Z"
   },
   {
    "duration": 22,
    "start_time": "2022-02-07T07:28:42.462Z"
   },
   {
    "duration": 21,
    "start_time": "2022-02-07T07:28:42.486Z"
   },
   {
    "duration": 8,
    "start_time": "2022-02-07T07:28:42.510Z"
   },
   {
    "duration": 24,
    "start_time": "2022-02-07T07:28:42.520Z"
   },
   {
    "duration": 25,
    "start_time": "2022-02-07T07:28:42.547Z"
   },
   {
    "duration": 19,
    "start_time": "2022-02-07T07:28:42.574Z"
   },
   {
    "duration": 147,
    "start_time": "2022-02-07T07:28:42.597Z"
   },
   {
    "duration": 8,
    "start_time": "2022-02-07T07:28:42.747Z"
   },
   {
    "duration": 13,
    "start_time": "2022-02-07T07:28:42.757Z"
   },
   {
    "duration": 15,
    "start_time": "2022-02-07T07:28:42.772Z"
   },
   {
    "duration": 24,
    "start_time": "2022-02-07T07:28:42.789Z"
   },
   {
    "duration": 12,
    "start_time": "2022-02-07T07:28:42.815Z"
   },
   {
    "duration": 7,
    "start_time": "2022-02-07T07:28:42.829Z"
   },
   {
    "duration": 18,
    "start_time": "2022-02-07T07:28:42.838Z"
   },
   {
    "duration": 9,
    "start_time": "2022-02-07T07:28:42.858Z"
   },
   {
    "duration": 57,
    "start_time": "2022-02-07T07:28:42.869Z"
   },
   {
    "duration": 27,
    "start_time": "2022-02-07T07:28:42.929Z"
   },
   {
    "duration": 11,
    "start_time": "2022-02-07T07:28:42.957Z"
   },
   {
    "duration": 49,
    "start_time": "2022-02-07T07:28:42.969Z"
   },
   {
    "duration": 8,
    "start_time": "2022-02-07T07:28:43.020Z"
   },
   {
    "duration": 25,
    "start_time": "2022-02-07T07:28:43.030Z"
   },
   {
    "duration": 33,
    "start_time": "2022-02-07T07:28:43.057Z"
   },
   {
    "duration": 8,
    "start_time": "2022-02-07T07:28:43.107Z"
   },
   {
    "duration": 26,
    "start_time": "2022-02-07T07:28:43.117Z"
   },
   {
    "duration": 9,
    "start_time": "2022-02-07T07:28:43.146Z"
   },
   {
    "duration": 21,
    "start_time": "2022-02-07T07:28:43.157Z"
   },
   {
    "duration": 20,
    "start_time": "2022-02-07T07:28:43.180Z"
   },
   {
    "duration": 18,
    "start_time": "2022-02-07T07:28:43.202Z"
   },
   {
    "duration": 15,
    "start_time": "2022-02-07T07:28:43.223Z"
   },
   {
    "duration": 28,
    "start_time": "2022-02-07T07:28:43.240Z"
   },
   {
    "duration": 15,
    "start_time": "2022-02-07T07:28:43.270Z"
   },
   {
    "duration": 22,
    "start_time": "2022-02-07T07:28:43.287Z"
   },
   {
    "duration": 18,
    "start_time": "2022-02-07T07:28:43.311Z"
   },
   {
    "duration": 29,
    "start_time": "2022-02-07T07:28:43.331Z"
   },
   {
    "duration": 14,
    "start_time": "2022-02-07T07:28:43.362Z"
   },
   {
    "duration": 23,
    "start_time": "2022-02-07T07:28:43.378Z"
   },
   {
    "duration": 25,
    "start_time": "2022-02-07T07:28:43.403Z"
   },
   {
    "duration": 36,
    "start_time": "2022-02-07T07:28:43.430Z"
   },
   {
    "duration": 23,
    "start_time": "2022-02-07T07:28:43.469Z"
   },
   {
    "duration": 18,
    "start_time": "2022-02-07T07:28:43.494Z"
   },
   {
    "duration": 24,
    "start_time": "2022-02-07T07:28:43.514Z"
   },
   {
    "duration": 12,
    "start_time": "2022-02-07T07:28:43.540Z"
   },
   {
    "duration": 32,
    "start_time": "2022-02-07T07:28:43.555Z"
   },
   {
    "duration": 576,
    "start_time": "2022-02-07T07:28:43.589Z"
   },
   {
    "duration": 612,
    "start_time": "2022-02-07T07:28:44.167Z"
   },
   {
    "duration": 710,
    "start_time": "2022-02-07T07:28:44.781Z"
   },
   {
    "duration": 667,
    "start_time": "2022-02-07T07:28:45.493Z"
   },
   {
    "duration": 579,
    "start_time": "2022-02-07T07:28:46.162Z"
   },
   {
    "duration": 622,
    "start_time": "2022-02-07T07:28:46.743Z"
   },
   {
    "duration": 691,
    "start_time": "2022-02-07T07:28:47.367Z"
   },
   {
    "duration": 24,
    "start_time": "2022-02-07T07:28:48.060Z"
   },
   {
    "duration": 43,
    "start_time": "2022-02-07T07:28:48.089Z"
   },
   {
    "duration": 18,
    "start_time": "2022-02-07T07:28:48.135Z"
   },
   {
    "duration": 9,
    "start_time": "2022-02-07T07:28:48.154Z"
   },
   {
    "duration": 344,
    "start_time": "2022-02-07T07:28:48.165Z"
   },
   {
    "duration": 23,
    "start_time": "2022-02-07T07:28:48.511Z"
   },
   {
    "duration": 335,
    "start_time": "2022-02-07T07:28:48.536Z"
   },
   {
    "duration": 709,
    "start_time": "2022-02-07T07:28:48.873Z"
   },
   {
    "duration": 43,
    "start_time": "2022-02-07T07:28:49.584Z"
   },
   {
    "duration": 297,
    "start_time": "2022-02-07T07:28:49.629Z"
   },
   {
    "duration": 16,
    "start_time": "2022-02-07T07:28:49.928Z"
   },
   {
    "duration": 29,
    "start_time": "2022-02-07T07:28:49.946Z"
   },
   {
    "duration": 48,
    "start_time": "2022-02-07T07:28:49.977Z"
   },
   {
    "duration": 306,
    "start_time": "2022-02-07T07:28:50.028Z"
   },
   {
    "duration": 78,
    "start_time": "2022-02-07T07:28:50.337Z"
   },
   {
    "duration": 8,
    "start_time": "2022-02-07T07:28:50.417Z"
   },
   {
    "duration": 28,
    "start_time": "2022-02-07T07:28:50.427Z"
   },
   {
    "duration": 17,
    "start_time": "2022-02-07T07:28:50.457Z"
   },
   {
    "duration": 10,
    "start_time": "2022-02-07T07:28:50.476Z"
   },
   {
    "duration": 1189,
    "start_time": "2022-02-07T10:33:01.903Z"
   },
   {
    "duration": 67,
    "start_time": "2022-02-07T10:33:03.094Z"
   },
   {
    "duration": 19,
    "start_time": "2022-02-07T10:33:03.163Z"
   },
   {
    "duration": 98,
    "start_time": "2022-02-07T10:33:03.184Z"
   },
   {
    "duration": 10,
    "start_time": "2022-02-07T10:33:03.284Z"
   },
   {
    "duration": 53,
    "start_time": "2022-02-07T10:33:03.296Z"
   },
   {
    "duration": 11,
    "start_time": "2022-02-07T10:33:03.351Z"
   },
   {
    "duration": 24,
    "start_time": "2022-02-07T10:33:03.365Z"
   },
   {
    "duration": 6,
    "start_time": "2022-02-07T10:33:03.391Z"
   },
   {
    "duration": 28,
    "start_time": "2022-02-07T10:33:03.398Z"
   },
   {
    "duration": 31,
    "start_time": "2022-02-07T10:33:03.428Z"
   },
   {
    "duration": 8,
    "start_time": "2022-02-07T10:33:03.461Z"
   },
   {
    "duration": 15,
    "start_time": "2022-02-07T10:33:03.470Z"
   },
   {
    "duration": 21,
    "start_time": "2022-02-07T10:33:03.486Z"
   },
   {
    "duration": 27,
    "start_time": "2022-02-07T10:33:03.508Z"
   },
   {
    "duration": 19,
    "start_time": "2022-02-07T10:33:03.537Z"
   },
   {
    "duration": 20,
    "start_time": "2022-02-07T10:33:03.558Z"
   },
   {
    "duration": 28,
    "start_time": "2022-02-07T10:33:03.579Z"
   },
   {
    "duration": 12,
    "start_time": "2022-02-07T10:33:03.608Z"
   },
   {
    "duration": 9,
    "start_time": "2022-02-07T10:33:03.622Z"
   },
   {
    "duration": 10,
    "start_time": "2022-02-07T10:33:03.633Z"
   },
   {
    "duration": 18,
    "start_time": "2022-02-07T10:33:03.645Z"
   },
   {
    "duration": 147,
    "start_time": "2022-02-07T10:33:03.668Z"
   },
   {
    "duration": 7,
    "start_time": "2022-02-07T10:33:03.818Z"
   },
   {
    "duration": 17,
    "start_time": "2022-02-07T10:33:03.826Z"
   },
   {
    "duration": 42,
    "start_time": "2022-02-07T10:33:03.845Z"
   },
   {
    "duration": 15,
    "start_time": "2022-02-07T10:33:03.889Z"
   },
   {
    "duration": 26,
    "start_time": "2022-02-07T10:33:03.906Z"
   },
   {
    "duration": 18,
    "start_time": "2022-02-07T10:33:03.934Z"
   },
   {
    "duration": 25,
    "start_time": "2022-02-07T10:33:03.954Z"
   },
   {
    "duration": 7,
    "start_time": "2022-02-07T10:33:03.982Z"
   },
   {
    "duration": 26,
    "start_time": "2022-02-07T10:33:03.991Z"
   },
   {
    "duration": 28,
    "start_time": "2022-02-07T10:33:04.019Z"
   },
   {
    "duration": 11,
    "start_time": "2022-02-07T10:33:04.050Z"
   },
   {
    "duration": 46,
    "start_time": "2022-02-07T10:33:04.063Z"
   },
   {
    "duration": 11,
    "start_time": "2022-02-07T10:33:04.111Z"
   },
   {
    "duration": 24,
    "start_time": "2022-02-07T10:33:04.124Z"
   },
   {
    "duration": 24,
    "start_time": "2022-02-07T10:33:04.150Z"
   },
   {
    "duration": 25,
    "start_time": "2022-02-07T10:33:04.177Z"
   },
   {
    "duration": 29,
    "start_time": "2022-02-07T10:33:04.204Z"
   },
   {
    "duration": 13,
    "start_time": "2022-02-07T10:33:04.235Z"
   },
   {
    "duration": 8,
    "start_time": "2022-02-07T10:33:04.250Z"
   },
   {
    "duration": 14,
    "start_time": "2022-02-07T10:33:04.260Z"
   },
   {
    "duration": 27,
    "start_time": "2022-02-07T10:33:04.276Z"
   },
   {
    "duration": 8,
    "start_time": "2022-02-07T10:33:04.305Z"
   },
   {
    "duration": 13,
    "start_time": "2022-02-07T10:33:04.315Z"
   },
   {
    "duration": 13,
    "start_time": "2022-02-07T10:33:04.330Z"
   },
   {
    "duration": 9,
    "start_time": "2022-02-07T10:33:04.345Z"
   },
   {
    "duration": 9,
    "start_time": "2022-02-07T10:33:04.356Z"
   },
   {
    "duration": 35,
    "start_time": "2022-02-07T10:33:04.367Z"
   },
   {
    "duration": 6,
    "start_time": "2022-02-07T10:33:04.404Z"
   },
   {
    "duration": 9,
    "start_time": "2022-02-07T10:33:04.411Z"
   },
   {
    "duration": 10,
    "start_time": "2022-02-07T10:33:04.421Z"
   },
   {
    "duration": 23,
    "start_time": "2022-02-07T10:33:04.433Z"
   },
   {
    "duration": 9,
    "start_time": "2022-02-07T10:33:04.458Z"
   },
   {
    "duration": 7,
    "start_time": "2022-02-07T10:33:04.499Z"
   },
   {
    "duration": 17,
    "start_time": "2022-02-07T10:33:04.508Z"
   },
   {
    "duration": 6,
    "start_time": "2022-02-07T10:33:04.527Z"
   },
   {
    "duration": 21,
    "start_time": "2022-02-07T10:33:04.534Z"
   },
   {
    "duration": 637,
    "start_time": "2022-02-07T10:33:04.557Z"
   },
   {
    "duration": 620,
    "start_time": "2022-02-07T10:33:05.196Z"
   },
   {
    "duration": 661,
    "start_time": "2022-02-07T10:33:05.818Z"
   },
   {
    "duration": 615,
    "start_time": "2022-02-07T10:33:06.480Z"
   },
   {
    "duration": 626,
    "start_time": "2022-02-07T10:33:07.097Z"
   },
   {
    "duration": 617,
    "start_time": "2022-02-07T10:33:07.725Z"
   },
   {
    "duration": 717,
    "start_time": "2022-02-07T10:33:08.344Z"
   },
   {
    "duration": 25,
    "start_time": "2022-02-07T10:33:09.063Z"
   },
   {
    "duration": 29,
    "start_time": "2022-02-07T10:33:09.097Z"
   },
   {
    "duration": 17,
    "start_time": "2022-02-07T10:33:09.129Z"
   },
   {
    "duration": 8,
    "start_time": "2022-02-07T10:33:09.148Z"
   },
   {
    "duration": 377,
    "start_time": "2022-02-07T10:33:09.158Z"
   },
   {
    "duration": 22,
    "start_time": "2022-02-07T10:33:09.537Z"
   },
   {
    "duration": 365,
    "start_time": "2022-02-07T10:33:09.561Z"
   },
   {
    "duration": 766,
    "start_time": "2022-02-07T10:33:09.929Z"
   },
   {
    "duration": 30,
    "start_time": "2022-02-07T10:33:10.697Z"
   },
   {
    "duration": 330,
    "start_time": "2022-02-07T10:33:10.729Z"
   },
   {
    "duration": 16,
    "start_time": "2022-02-07T10:33:11.061Z"
   },
   {
    "duration": 40,
    "start_time": "2022-02-07T10:33:11.079Z"
   },
   {
    "duration": 30,
    "start_time": "2022-02-07T10:33:11.121Z"
   },
   {
    "duration": 311,
    "start_time": "2022-02-07T10:33:11.153Z"
   },
   {
    "duration": 66,
    "start_time": "2022-02-07T10:33:11.465Z"
   },
   {
    "duration": 7,
    "start_time": "2022-02-07T10:33:11.533Z"
   },
   {
    "duration": 17,
    "start_time": "2022-02-07T10:33:11.542Z"
   },
   {
    "duration": 38,
    "start_time": "2022-02-07T10:33:11.561Z"
   },
   {
    "duration": 9,
    "start_time": "2022-02-07T10:33:11.601Z"
   }
  ],
  "celltoolbar": "Необработанный формат ячейки",
  "colab": {
   "name": "DA+. Сборный проект 1. Шаблон (1).ipynb",
   "provenance": []
  },
  "kernelspec": {
   "display_name": "Python 3 (ipykernel)",
   "language": "python",
   "name": "python3"
  },
  "language_info": {
   "codemirror_mode": {
    "name": "ipython",
    "version": 3
   },
   "file_extension": ".py",
   "mimetype": "text/x-python",
   "name": "python",
   "nbconvert_exporter": "python",
   "pygments_lexer": "ipython3",
   "version": "3.7.8"
  },
  "toc": {
   "base_numbering": 1,
   "nav_menu": {},
   "number_sections": true,
   "sideBar": true,
   "skip_h1_title": true,
   "title_cell": "Table of Contents",
   "title_sidebar": "Contents",
   "toc_cell": false,
   "toc_position": {
    "height": "calc(100% - 180px)",
    "left": "10px",
    "top": "150px",
    "width": "307.969px"
   },
   "toc_section_display": true,
   "toc_window_display": true
  }
 },
 "nbformat": 4,
 "nbformat_minor": 1
}
