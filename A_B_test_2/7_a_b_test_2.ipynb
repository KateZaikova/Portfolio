{
 "cells": [
  {
   "cell_type": "markdown",
   "id": "01b01afd",
   "metadata": {},
   "source": [
    "**ОПИСАНИЕ ПРОЕКТА**\n",
    "\n",
    "В интернет-магазине проводится A/B-тестирование с целью увеличить выручку. Необходимо:\n",
    "1. приоритизировать гипотезы:\n",
    "\n",
    "- Применить фреймворк ICE для приоритизации гипотез. Отсортировать их по убыванию приоритета.\n",
    "- Применить фреймворк RICE для приоритизации гипотез. Отсортировать их по убыванию приоритета.\n",
    "- Указать и объяснить, как изменилась приоритизация гипотез при применении RICE вместо ICE. \n",
    "\n",
    "2. проанализировать результаты A/B-теста:\n",
    "- Построить график кумулятивной выручки и среднего чека по группам;\n",
    "- Построить график относительного изменения кумулятивного среднего чека и комулятивной конверсии группы B к группе A;\n",
    "- Постройте точечный график количества и стоимости заказов по пользователям;\n",
    "- Посчитать 95-й и 99-й перцентили количества и стоимости заказов на пользователя. Выбрать границу для определения аномальных пользователей;\n",
    "- Посчитать статистическую значимость различий в конверсии и среднем чеке заказа между группами по «сырым» данным;\n",
    "- Посчитать статистическую значимость различий в конверсии и среднем чеке заказа между группами по «очищенным» данным;\n",
    "- Принять решение по результатам теста.\n",
    "\n",
    "Исходные данные: \n",
    "1. список и описание гипотез:\n",
    "- 9 гипотез по увеличению выручки интернет-магазина с указанными параметрами Reach, Impact, Confidence, Effort.\n",
    "2. файлы с результатами A/B-теста"
   ]
  },
  {
   "cell_type": "markdown",
   "id": "bf173eda",
   "metadata": {},
   "source": [
    "## Приоритизация гипотез."
   ]
  },
  {
   "cell_type": "code",
   "execution_count": 1,
   "id": "5d0154c3",
   "metadata": {},
   "outputs": [],
   "source": [
    "# импорт библиотек\n",
    "import pandas as pd\n",
    "import numpy as np\n",
    "import matplotlib.pyplot as plt\n",
    "import os\n",
    "from scipy import stats as st\n",
    "import scipy.stats as stats\n",
    "import datetime as dt\n",
    "import seaborn as sns"
   ]
  },
  {
   "cell_type": "code",
   "execution_count": 2,
   "id": "3304d96f",
   "metadata": {},
   "outputs": [],
   "source": [
    "import warnings\n",
    "warnings.simplefilter(action='ignore', category=FutureWarning)"
   ]
  },
  {
   "cell_type": "code",
   "execution_count": 3,
   "id": "3b4c6785",
   "metadata": {},
   "outputs": [],
   "source": [
    "# чтение файла hypothesis.csv и сохранение в переменной df\n",
    "if os.path.exists('/datasets/hypothesis.csv'):\n",
    "    df = pd.read_csv('/datasets/hypothesis.csv', sep = ',')\n",
    "else:\n",
    "    df = pd.read_csv('hypothesis.csv', sep = ',')"
   ]
  },
  {
   "cell_type": "code",
   "execution_count": 4,
   "id": "1cc60c6b",
   "metadata": {},
   "outputs": [],
   "source": [
    "# Добавим опцию, чтобы отобразить все данные в таблицах\n",
    "pd.options.display.max_colwidth = 210"
   ]
  },
  {
   "cell_type": "code",
   "execution_count": 5,
   "id": "5ac607a8",
   "metadata": {},
   "outputs": [
    {
     "data": {
      "text/html": [
       "<div>\n",
       "<style scoped>\n",
       "    .dataframe tbody tr th:only-of-type {\n",
       "        vertical-align: middle;\n",
       "    }\n",
       "\n",
       "    .dataframe tbody tr th {\n",
       "        vertical-align: top;\n",
       "    }\n",
       "\n",
       "    .dataframe thead th {\n",
       "        text-align: right;\n",
       "    }\n",
       "</style>\n",
       "<table border=\"1\" class=\"dataframe\">\n",
       "  <thead>\n",
       "    <tr style=\"text-align: right;\">\n",
       "      <th></th>\n",
       "      <th>Hypothesis</th>\n",
       "      <th>Reach</th>\n",
       "      <th>Impact</th>\n",
       "      <th>Confidence</th>\n",
       "      <th>Efforts</th>\n",
       "    </tr>\n",
       "  </thead>\n",
       "  <tbody>\n",
       "    <tr>\n",
       "      <th>0</th>\n",
       "      <td>Добавить два новых канала привлечения трафика, что позволит привлекать на 30% больше пользователей</td>\n",
       "      <td>3</td>\n",
       "      <td>10</td>\n",
       "      <td>8</td>\n",
       "      <td>6</td>\n",
       "    </tr>\n",
       "    <tr>\n",
       "      <th>1</th>\n",
       "      <td>Запустить собственную службу доставки, что сократит срок доставки заказов</td>\n",
       "      <td>2</td>\n",
       "      <td>5</td>\n",
       "      <td>4</td>\n",
       "      <td>10</td>\n",
       "    </tr>\n",
       "    <tr>\n",
       "      <th>2</th>\n",
       "      <td>Добавить блоки рекомендаций товаров на сайт интернет магазина, чтобы повысить конверсию и средний чек заказа</td>\n",
       "      <td>8</td>\n",
       "      <td>3</td>\n",
       "      <td>7</td>\n",
       "      <td>3</td>\n",
       "    </tr>\n",
       "    <tr>\n",
       "      <th>3</th>\n",
       "      <td>Изменить структура категорий, что увеличит конверсию, т.к. пользователи быстрее найдут нужный товар</td>\n",
       "      <td>8</td>\n",
       "      <td>3</td>\n",
       "      <td>3</td>\n",
       "      <td>8</td>\n",
       "    </tr>\n",
       "    <tr>\n",
       "      <th>4</th>\n",
       "      <td>Изменить цвет фона главной страницы, чтобы увеличить вовлеченность пользователей</td>\n",
       "      <td>3</td>\n",
       "      <td>1</td>\n",
       "      <td>1</td>\n",
       "      <td>1</td>\n",
       "    </tr>\n",
       "    <tr>\n",
       "      <th>5</th>\n",
       "      <td>Добавить страницу отзывов клиентов о магазине, что позволит увеличить количество заказов</td>\n",
       "      <td>3</td>\n",
       "      <td>2</td>\n",
       "      <td>2</td>\n",
       "      <td>3</td>\n",
       "    </tr>\n",
       "    <tr>\n",
       "      <th>6</th>\n",
       "      <td>Показать на главной странице баннеры с актуальными акциями и распродажами, чтобы увеличить конверсию</td>\n",
       "      <td>5</td>\n",
       "      <td>3</td>\n",
       "      <td>8</td>\n",
       "      <td>3</td>\n",
       "    </tr>\n",
       "    <tr>\n",
       "      <th>7</th>\n",
       "      <td>Добавить форму подписки на все основные страницы, чтобы собрать базу клиентов для email-рассылок</td>\n",
       "      <td>10</td>\n",
       "      <td>7</td>\n",
       "      <td>8</td>\n",
       "      <td>5</td>\n",
       "    </tr>\n",
       "    <tr>\n",
       "      <th>8</th>\n",
       "      <td>Запустить акцию, дающую скидку на товар в день рождения</td>\n",
       "      <td>1</td>\n",
       "      <td>9</td>\n",
       "      <td>9</td>\n",
       "      <td>5</td>\n",
       "    </tr>\n",
       "  </tbody>\n",
       "</table>\n",
       "</div>"
      ],
      "text/plain": [
       "                                                                                                     Hypothesis  \\\n",
       "0            Добавить два новых канала привлечения трафика, что позволит привлекать на 30% больше пользователей   \n",
       "1                                     Запустить собственную службу доставки, что сократит срок доставки заказов   \n",
       "2  Добавить блоки рекомендаций товаров на сайт интернет магазина, чтобы повысить конверсию и средний чек заказа   \n",
       "3           Изменить структура категорий, что увеличит конверсию, т.к. пользователи быстрее найдут нужный товар   \n",
       "4                              Изменить цвет фона главной страницы, чтобы увеличить вовлеченность пользователей   \n",
       "5                      Добавить страницу отзывов клиентов о магазине, что позволит увеличить количество заказов   \n",
       "6          Показать на главной странице баннеры с актуальными акциями и распродажами, чтобы увеличить конверсию   \n",
       "7              Добавить форму подписки на все основные страницы, чтобы собрать базу клиентов для email-рассылок   \n",
       "8                                                       Запустить акцию, дающую скидку на товар в день рождения   \n",
       "\n",
       "   Reach  Impact  Confidence  Efforts  \n",
       "0      3      10           8        6  \n",
       "1      2       5           4       10  \n",
       "2      8       3           7        3  \n",
       "3      8       3           3        8  \n",
       "4      3       1           1        1  \n",
       "5      3       2           2        3  \n",
       "6      5       3           8        3  \n",
       "7     10       7           8        5  \n",
       "8      1       9           9        5  "
      ]
     },
     "execution_count": 5,
     "metadata": {},
     "output_type": "execute_result"
    }
   ],
   "source": [
    "df"
   ]
  },
  {
   "cell_type": "markdown",
   "id": "914302d4",
   "metadata": {},
   "source": [
    "Согласно документации к данным:\n",
    "\n",
    "* Hypothesis — краткое описание гипотезы;\n",
    "\n",
    "* Reach — охват пользователей по 10-балльной шкале;\n",
    "\n",
    "* Impact — влияние на пользователей по 10-балльной шкале;\n",
    "\n",
    "* Confidence — уверенность в гипотезе по 10-балльной шкале;\n",
    "\n",
    "* Efforts — затраты ресурсов на проверку гипотезы по 10-балльной шкале. Чем больше значение Efforts, тем дороже проверка гипотезы."
   ]
  },
  {
   "cell_type": "markdown",
   "id": "dee35a74",
   "metadata": {},
   "source": [
    "Для подсчета приотизации гипотез, есть два популярных способа: \n",
    "* ICE SCORE = (Impact x Confidence) / Efforts \n",
    "* RICE SCORE = (Reach x Impact x Confidence) / Efforts"
   ]
  },
  {
   "cell_type": "markdown",
   "id": "3a3523d8",
   "metadata": {},
   "source": [
    "где \n",
    "* Reach — скольких пользователей затронет изменение, которое вы хотите внести;\n",
    "* Impact — насколько сильно изменение повлияет на пользователей, их опыт и удовлетворение от продукта;\n",
    "* Confidence — насколько вы уверены, что это изменение повлияет на пользователей именно так;\n",
    "* Efforts — сколько стоит протестировать эту гипотезу.\n"
   ]
  },
  {
   "cell_type": "code",
   "execution_count": 6,
   "id": "eeb7d023",
   "metadata": {},
   "outputs": [
    {
     "data": {
      "text/html": [
       "<div>\n",
       "<style scoped>\n",
       "    .dataframe tbody tr th:only-of-type {\n",
       "        vertical-align: middle;\n",
       "    }\n",
       "\n",
       "    .dataframe tbody tr th {\n",
       "        vertical-align: top;\n",
       "    }\n",
       "\n",
       "    .dataframe thead th {\n",
       "        text-align: right;\n",
       "    }\n",
       "</style>\n",
       "<table border=\"1\" class=\"dataframe\">\n",
       "  <thead>\n",
       "    <tr style=\"text-align: right;\">\n",
       "      <th></th>\n",
       "      <th>Hypothesis</th>\n",
       "      <th>Ice</th>\n",
       "    </tr>\n",
       "  </thead>\n",
       "  <tbody>\n",
       "    <tr>\n",
       "      <th>8</th>\n",
       "      <td>Запустить акцию, дающую скидку на товар в день рождения</td>\n",
       "      <td>16.200000</td>\n",
       "    </tr>\n",
       "    <tr>\n",
       "      <th>0</th>\n",
       "      <td>Добавить два новых канала привлечения трафика, что позволит привлекать на 30% больше пользователей</td>\n",
       "      <td>13.333333</td>\n",
       "    </tr>\n",
       "    <tr>\n",
       "      <th>7</th>\n",
       "      <td>Добавить форму подписки на все основные страницы, чтобы собрать базу клиентов для email-рассылок</td>\n",
       "      <td>11.200000</td>\n",
       "    </tr>\n",
       "    <tr>\n",
       "      <th>6</th>\n",
       "      <td>Показать на главной странице баннеры с актуальными акциями и распродажами, чтобы увеличить конверсию</td>\n",
       "      <td>8.000000</td>\n",
       "    </tr>\n",
       "    <tr>\n",
       "      <th>2</th>\n",
       "      <td>Добавить блоки рекомендаций товаров на сайт интернет магазина, чтобы повысить конверсию и средний чек заказа</td>\n",
       "      <td>7.000000</td>\n",
       "    </tr>\n",
       "    <tr>\n",
       "      <th>1</th>\n",
       "      <td>Запустить собственную службу доставки, что сократит срок доставки заказов</td>\n",
       "      <td>2.000000</td>\n",
       "    </tr>\n",
       "    <tr>\n",
       "      <th>5</th>\n",
       "      <td>Добавить страницу отзывов клиентов о магазине, что позволит увеличить количество заказов</td>\n",
       "      <td>1.333333</td>\n",
       "    </tr>\n",
       "    <tr>\n",
       "      <th>3</th>\n",
       "      <td>Изменить структура категорий, что увеличит конверсию, т.к. пользователи быстрее найдут нужный товар</td>\n",
       "      <td>1.125000</td>\n",
       "    </tr>\n",
       "    <tr>\n",
       "      <th>4</th>\n",
       "      <td>Изменить цвет фона главной страницы, чтобы увеличить вовлеченность пользователей</td>\n",
       "      <td>1.000000</td>\n",
       "    </tr>\n",
       "  </tbody>\n",
       "</table>\n",
       "</div>"
      ],
      "text/plain": [
       "                                                                                                     Hypothesis  \\\n",
       "8                                                       Запустить акцию, дающую скидку на товар в день рождения   \n",
       "0            Добавить два новых канала привлечения трафика, что позволит привлекать на 30% больше пользователей   \n",
       "7              Добавить форму подписки на все основные страницы, чтобы собрать базу клиентов для email-рассылок   \n",
       "6          Показать на главной странице баннеры с актуальными акциями и распродажами, чтобы увеличить конверсию   \n",
       "2  Добавить блоки рекомендаций товаров на сайт интернет магазина, чтобы повысить конверсию и средний чек заказа   \n",
       "1                                     Запустить собственную службу доставки, что сократит срок доставки заказов   \n",
       "5                      Добавить страницу отзывов клиентов о магазине, что позволит увеличить количество заказов   \n",
       "3           Изменить структура категорий, что увеличит конверсию, т.к. пользователи быстрее найдут нужный товар   \n",
       "4                              Изменить цвет фона главной страницы, чтобы увеличить вовлеченность пользователей   \n",
       "\n",
       "         Ice  \n",
       "8  16.200000  \n",
       "0  13.333333  \n",
       "7  11.200000  \n",
       "6   8.000000  \n",
       "2   7.000000  \n",
       "1   2.000000  \n",
       "5   1.333333  \n",
       "3   1.125000  \n",
       "4   1.000000  "
      ]
     },
     "execution_count": 6,
     "metadata": {},
     "output_type": "execute_result"
    }
   ],
   "source": [
    "#Применим фреймворк ICE для приоритизации гипотез. Отсортируем их по убыванию приоритета.\n",
    "df['Ice'] = (df['Impact']*df['Confidence'])/df['Efforts']\n",
    "df[['Hypothesis', 'Ice']].sort_values('Ice', ascending=False)"
   ]
  },
  {
   "cell_type": "code",
   "execution_count": 7,
   "id": "a7dd65f1",
   "metadata": {},
   "outputs": [
    {
     "data": {
      "text/html": [
       "<div>\n",
       "<style scoped>\n",
       "    .dataframe tbody tr th:only-of-type {\n",
       "        vertical-align: middle;\n",
       "    }\n",
       "\n",
       "    .dataframe tbody tr th {\n",
       "        vertical-align: top;\n",
       "    }\n",
       "\n",
       "    .dataframe thead th {\n",
       "        text-align: right;\n",
       "    }\n",
       "</style>\n",
       "<table border=\"1\" class=\"dataframe\">\n",
       "  <thead>\n",
       "    <tr style=\"text-align: right;\">\n",
       "      <th></th>\n",
       "      <th>Hypothesis</th>\n",
       "      <th>Rice</th>\n",
       "    </tr>\n",
       "  </thead>\n",
       "  <tbody>\n",
       "    <tr>\n",
       "      <th>7</th>\n",
       "      <td>Добавить форму подписки на все основные страницы, чтобы собрать базу клиентов для email-рассылок</td>\n",
       "      <td>112.0</td>\n",
       "    </tr>\n",
       "    <tr>\n",
       "      <th>2</th>\n",
       "      <td>Добавить блоки рекомендаций товаров на сайт интернет магазина, чтобы повысить конверсию и средний чек заказа</td>\n",
       "      <td>56.0</td>\n",
       "    </tr>\n",
       "    <tr>\n",
       "      <th>0</th>\n",
       "      <td>Добавить два новых канала привлечения трафика, что позволит привлекать на 30% больше пользователей</td>\n",
       "      <td>40.0</td>\n",
       "    </tr>\n",
       "    <tr>\n",
       "      <th>6</th>\n",
       "      <td>Показать на главной странице баннеры с актуальными акциями и распродажами, чтобы увеличить конверсию</td>\n",
       "      <td>40.0</td>\n",
       "    </tr>\n",
       "    <tr>\n",
       "      <th>8</th>\n",
       "      <td>Запустить акцию, дающую скидку на товар в день рождения</td>\n",
       "      <td>16.2</td>\n",
       "    </tr>\n",
       "    <tr>\n",
       "      <th>3</th>\n",
       "      <td>Изменить структура категорий, что увеличит конверсию, т.к. пользователи быстрее найдут нужный товар</td>\n",
       "      <td>9.0</td>\n",
       "    </tr>\n",
       "    <tr>\n",
       "      <th>1</th>\n",
       "      <td>Запустить собственную службу доставки, что сократит срок доставки заказов</td>\n",
       "      <td>4.0</td>\n",
       "    </tr>\n",
       "    <tr>\n",
       "      <th>5</th>\n",
       "      <td>Добавить страницу отзывов клиентов о магазине, что позволит увеличить количество заказов</td>\n",
       "      <td>4.0</td>\n",
       "    </tr>\n",
       "    <tr>\n",
       "      <th>4</th>\n",
       "      <td>Изменить цвет фона главной страницы, чтобы увеличить вовлеченность пользователей</td>\n",
       "      <td>3.0</td>\n",
       "    </tr>\n",
       "  </tbody>\n",
       "</table>\n",
       "</div>"
      ],
      "text/plain": [
       "                                                                                                     Hypothesis  \\\n",
       "7              Добавить форму подписки на все основные страницы, чтобы собрать базу клиентов для email-рассылок   \n",
       "2  Добавить блоки рекомендаций товаров на сайт интернет магазина, чтобы повысить конверсию и средний чек заказа   \n",
       "0            Добавить два новых канала привлечения трафика, что позволит привлекать на 30% больше пользователей   \n",
       "6          Показать на главной странице баннеры с актуальными акциями и распродажами, чтобы увеличить конверсию   \n",
       "8                                                       Запустить акцию, дающую скидку на товар в день рождения   \n",
       "3           Изменить структура категорий, что увеличит конверсию, т.к. пользователи быстрее найдут нужный товар   \n",
       "1                                     Запустить собственную службу доставки, что сократит срок доставки заказов   \n",
       "5                      Добавить страницу отзывов клиентов о магазине, что позволит увеличить количество заказов   \n",
       "4                              Изменить цвет фона главной страницы, чтобы увеличить вовлеченность пользователей   \n",
       "\n",
       "    Rice  \n",
       "7  112.0  \n",
       "2   56.0  \n",
       "0   40.0  \n",
       "6   40.0  \n",
       "8   16.2  \n",
       "3    9.0  \n",
       "1    4.0  \n",
       "5    4.0  \n",
       "4    3.0  "
      ]
     },
     "execution_count": 7,
     "metadata": {},
     "output_type": "execute_result"
    }
   ],
   "source": [
    "#Применим фреймворк RICE для приоритизации гипотез. Отсортируем их по убыванию приоритета.\n",
    "df['Rice'] = (df['Reach']*df['Impact']*df['Confidence'])/df['Efforts']\n",
    "df[['Hypothesis', 'Rice']].sort_values('Rice', ascending=False)\n"
   ]
  },
  {
   "cell_type": "code",
   "execution_count": 8,
   "id": "89405e3b",
   "metadata": {},
   "outputs": [
    {
     "data": {
      "text/html": [
       "<div>\n",
       "<style scoped>\n",
       "    .dataframe tbody tr th:only-of-type {\n",
       "        vertical-align: middle;\n",
       "    }\n",
       "\n",
       "    .dataframe tbody tr th {\n",
       "        vertical-align: top;\n",
       "    }\n",
       "\n",
       "    .dataframe thead th {\n",
       "        text-align: right;\n",
       "    }\n",
       "</style>\n",
       "<table border=\"1\" class=\"dataframe\">\n",
       "  <thead>\n",
       "    <tr style=\"text-align: right;\">\n",
       "      <th></th>\n",
       "      <th>Hypothesis</th>\n",
       "      <th>Ice</th>\n",
       "      <th>Rice</th>\n",
       "    </tr>\n",
       "  </thead>\n",
       "  <tbody>\n",
       "    <tr>\n",
       "      <th>7</th>\n",
       "      <td>Добавить форму подписки на все основные страницы, чтобы собрать базу клиентов для email-рассылок</td>\n",
       "      <td>11.200000</td>\n",
       "      <td>112.0</td>\n",
       "    </tr>\n",
       "    <tr>\n",
       "      <th>2</th>\n",
       "      <td>Добавить блоки рекомендаций товаров на сайт интернет магазина, чтобы повысить конверсию и средний чек заказа</td>\n",
       "      <td>7.000000</td>\n",
       "      <td>56.0</td>\n",
       "    </tr>\n",
       "    <tr>\n",
       "      <th>0</th>\n",
       "      <td>Добавить два новых канала привлечения трафика, что позволит привлекать на 30% больше пользователей</td>\n",
       "      <td>13.333333</td>\n",
       "      <td>40.0</td>\n",
       "    </tr>\n",
       "    <tr>\n",
       "      <th>6</th>\n",
       "      <td>Показать на главной странице баннеры с актуальными акциями и распродажами, чтобы увеличить конверсию</td>\n",
       "      <td>8.000000</td>\n",
       "      <td>40.0</td>\n",
       "    </tr>\n",
       "    <tr>\n",
       "      <th>8</th>\n",
       "      <td>Запустить акцию, дающую скидку на товар в день рождения</td>\n",
       "      <td>16.200000</td>\n",
       "      <td>16.2</td>\n",
       "    </tr>\n",
       "    <tr>\n",
       "      <th>3</th>\n",
       "      <td>Изменить структура категорий, что увеличит конверсию, т.к. пользователи быстрее найдут нужный товар</td>\n",
       "      <td>1.125000</td>\n",
       "      <td>9.0</td>\n",
       "    </tr>\n",
       "    <tr>\n",
       "      <th>1</th>\n",
       "      <td>Запустить собственную службу доставки, что сократит срок доставки заказов</td>\n",
       "      <td>2.000000</td>\n",
       "      <td>4.0</td>\n",
       "    </tr>\n",
       "    <tr>\n",
       "      <th>5</th>\n",
       "      <td>Добавить страницу отзывов клиентов о магазине, что позволит увеличить количество заказов</td>\n",
       "      <td>1.333333</td>\n",
       "      <td>4.0</td>\n",
       "    </tr>\n",
       "    <tr>\n",
       "      <th>4</th>\n",
       "      <td>Изменить цвет фона главной страницы, чтобы увеличить вовлеченность пользователей</td>\n",
       "      <td>1.000000</td>\n",
       "      <td>3.0</td>\n",
       "    </tr>\n",
       "  </tbody>\n",
       "</table>\n",
       "</div>"
      ],
      "text/plain": [
       "                                                                                                     Hypothesis  \\\n",
       "7              Добавить форму подписки на все основные страницы, чтобы собрать базу клиентов для email-рассылок   \n",
       "2  Добавить блоки рекомендаций товаров на сайт интернет магазина, чтобы повысить конверсию и средний чек заказа   \n",
       "0            Добавить два новых канала привлечения трафика, что позволит привлекать на 30% больше пользователей   \n",
       "6          Показать на главной странице баннеры с актуальными акциями и распродажами, чтобы увеличить конверсию   \n",
       "8                                                       Запустить акцию, дающую скидку на товар в день рождения   \n",
       "3           Изменить структура категорий, что увеличит конверсию, т.к. пользователи быстрее найдут нужный товар   \n",
       "1                                     Запустить собственную службу доставки, что сократит срок доставки заказов   \n",
       "5                      Добавить страницу отзывов клиентов о магазине, что позволит увеличить количество заказов   \n",
       "4                              Изменить цвет фона главной страницы, чтобы увеличить вовлеченность пользователей   \n",
       "\n",
       "         Ice   Rice  \n",
       "7  11.200000  112.0  \n",
       "2   7.000000   56.0  \n",
       "0  13.333333   40.0  \n",
       "6   8.000000   40.0  \n",
       "8  16.200000   16.2  \n",
       "3   1.125000    9.0  \n",
       "1   2.000000    4.0  \n",
       "5   1.333333    4.0  \n",
       "4   1.000000    3.0  "
      ]
     },
     "execution_count": 8,
     "metadata": {},
     "output_type": "execute_result"
    }
   ],
   "source": [
    "df[['Hypothesis', 'Ice', 'Rice']].sort_values(by=['Rice', 'Ice'], ascending=False)"
   ]
  },
  {
   "cell_type": "code",
   "execution_count": 9,
   "id": "2af81ad5",
   "metadata": {},
   "outputs": [
    {
     "data": {
      "text/plain": [
       "<matplotlib.legend.Legend at 0x27c7d92d0c8>"
      ]
     },
     "execution_count": 9,
     "metadata": {},
     "output_type": "execute_result"
    },
    {
     "data": {
      "image/png": "[encoded data removed]",
      "text/plain": [
       "<Figure size 432x288 with 1 Axes>"
      ]
     },
     "metadata": {
      "needs_background": "light"
     },
     "output_type": "display_data"
    }
   ],
   "source": [
    "# Построим точечную диаграмму приотизации гипотезы по параметрам Ice и Rice\n",
    "plt.scatter( df['Ice'], df['Hypothesis']) \n",
    "plt.scatter( df['Rice'], df['Hypothesis']) \n",
    "plt.title('Приотизации гипотезы по параметрам Ice и Rice') \n",
    "plt.xlabel('Показатели Ice/Rice')\n",
    "plt.ylabel('Гипотезы')\n",
    "plt.legend([\"Ice\" , \"Rice\"])"
   ]
  },
  {
   "cell_type": "markdown",
   "id": "e7dc34c8",
   "metadata": {},
   "source": [
    "### Вывод:"
   ]
  },
  {
   "cell_type": "markdown",
   "id": "903d54dd",
   "metadata": {},
   "source": [
    "При применении фреймворка RICE вместо ICE, приотизация гипотез изменилась:\n",
    "\n",
    "* 8 гипотеза опустилась на пятое место с первого\n",
    "\n",
    "* 7 гипотеза с треьего места поднялась на первое\n",
    "\n",
    "* 2 гипотеза поднялась с пятого места на второе\n",
    "\n",
    "* 0 гипотеза, почти не изменилась в приотизации - со второго опустилась на третье место\n",
    "\n",
    "* 6ая и 4ая не изменили своего положения в приотизации\n",
    "\n",
    "Данное изменение произошло предположительно, потому что в RICE добавился компонент Reach (т.е. скольких пользователей затронет изменение, которое вы хотите внести) и если мы рассмотри 8 гипотезу (\"Запустить акцию, дающую скидку на товар в день рождения\") и 7 гипотезу ('Добавить форму подписки на все основные страницы, чтобы собрать базу клиентов для email-рассылок') 7 гипотеза охватит больше пользователей чем 8ая, скорее всего по этому одна и поднялась в приотизации. Анологично если мы возьмем гипотезу 2 ('Добавить блоки рекомендаций товаров на сайт интернет магазина, чтобы повысить конверсию и средний чек заказа') его охват будет больше, чем просто компонет Impact показывающий, насколько сильно изменение повлияет на охваченных пользователей."
   ]
  },
  {
   "cell_type": "markdown",
   "id": "dc255261",
   "metadata": {},
   "source": [
    "## Анализ A/B-теста"
   ]
  },
  {
   "cell_type": "code",
   "execution_count": 10,
   "id": "dfe69d8a",
   "metadata": {},
   "outputs": [],
   "source": [
    "# чтение файла orders.csv и сохранение в переменной orders\n",
    "if os.path.exists('/datasets/orders.csv'):\n",
    "    orders = pd.read_csv('/datasets/orders.csv', sep = ',')\n",
    "else:\n",
    "    orders = pd.read_csv('orders.csv', sep = ',')"
   ]
  },
  {
   "cell_type": "code",
   "execution_count": 11,
   "id": "fb8e93e9",
   "metadata": {},
   "outputs": [
    {
     "data": {
      "text/html": [
       "<div>\n",
       "<style scoped>\n",
       "    .dataframe tbody tr th:only-of-type {\n",
       "        vertical-align: middle;\n",
       "    }\n",
       "\n",
       "    .dataframe tbody tr th {\n",
       "        vertical-align: top;\n",
       "    }\n",
       "\n",
       "    .dataframe thead th {\n",
       "        text-align: right;\n",
       "    }\n",
       "</style>\n",
       "<table border=\"1\" class=\"dataframe\">\n",
       "  <thead>\n",
       "    <tr style=\"text-align: right;\">\n",
       "      <th></th>\n",
       "      <th>transactionId</th>\n",
       "      <th>visitorId</th>\n",
       "      <th>date</th>\n",
       "      <th>revenue</th>\n",
       "      <th>group</th>\n",
       "    </tr>\n",
       "  </thead>\n",
       "  <tbody>\n",
       "    <tr>\n",
       "      <th>0</th>\n",
       "      <td>3667963787</td>\n",
       "      <td>3312258926</td>\n",
       "      <td>2019-08-15</td>\n",
       "      <td>1650</td>\n",
       "      <td>B</td>\n",
       "    </tr>\n",
       "    <tr>\n",
       "      <th>1</th>\n",
       "      <td>2804400009</td>\n",
       "      <td>3642806036</td>\n",
       "      <td>2019-08-15</td>\n",
       "      <td>730</td>\n",
       "      <td>B</td>\n",
       "    </tr>\n",
       "    <tr>\n",
       "      <th>2</th>\n",
       "      <td>2961555356</td>\n",
       "      <td>4069496402</td>\n",
       "      <td>2019-08-15</td>\n",
       "      <td>400</td>\n",
       "      <td>A</td>\n",
       "    </tr>\n",
       "    <tr>\n",
       "      <th>3</th>\n",
       "      <td>3797467345</td>\n",
       "      <td>1196621759</td>\n",
       "      <td>2019-08-15</td>\n",
       "      <td>9759</td>\n",
       "      <td>B</td>\n",
       "    </tr>\n",
       "    <tr>\n",
       "      <th>4</th>\n",
       "      <td>2282983706</td>\n",
       "      <td>2322279887</td>\n",
       "      <td>2019-08-15</td>\n",
       "      <td>2308</td>\n",
       "      <td>B</td>\n",
       "    </tr>\n",
       "  </tbody>\n",
       "</table>\n",
       "</div>"
      ],
      "text/plain": [
       "   transactionId   visitorId        date  revenue group\n",
       "0     3667963787  3312258926  2019-08-15     1650     B\n",
       "1     2804400009  3642806036  2019-08-15      730     B\n",
       "2     2961555356  4069496402  2019-08-15      400     A\n",
       "3     3797467345  1196621759  2019-08-15     9759     B\n",
       "4     2282983706  2322279887  2019-08-15     2308     B"
      ]
     },
     "execution_count": 11,
     "metadata": {},
     "output_type": "execute_result"
    }
   ],
   "source": [
    "#просмотр первых 5 строк\n",
    "orders.head()"
   ]
  },
  {
   "cell_type": "markdown",
   "id": "d7fd7e97",
   "metadata": {},
   "source": [
    "Согласно документации к данным:\n",
    "\n",
    "* transactionId — идентификатор заказа; \n",
    "\n",
    "* visitorId — идентификатор пользователя, совершившего заказ;\n",
    "\n",
    "* date — дата, когда был совершён заказ;\n",
    "\n",
    "* revenue — выручка заказа;\n",
    "\n",
    "* group — группа A/B-теста, в которую попал заказ."
   ]
  },
  {
   "cell_type": "code",
   "execution_count": 12,
   "id": "455eb73a",
   "metadata": {},
   "outputs": [
    {
     "name": "stdout",
     "output_type": "stream",
     "text": [
      "<class 'pandas.core.frame.DataFrame'>\n",
      "RangeIndex: 1197 entries, 0 to 1196\n",
      "Data columns (total 5 columns):\n",
      " #   Column         Non-Null Count  Dtype \n",
      "---  ------         --------------  ----- \n",
      " 0   transactionId  1197 non-null   int64 \n",
      " 1   visitorId      1197 non-null   int64 \n",
      " 2   date           1197 non-null   object\n",
      " 3   revenue        1197 non-null   int64 \n",
      " 4   group          1197 non-null   object\n",
      "dtypes: int64(3), object(2)\n",
      "memory usage: 46.9+ KB\n"
     ]
    }
   ],
   "source": [
    "#Посмотрим общую информацию о таблице orders\n",
    "orders.info()"
   ]
  },
  {
   "cell_type": "markdown",
   "id": "76c78537",
   "metadata": {},
   "source": [
    "пропусков нет, столбец с датой, необходимо перевести в тип datetime\n"
   ]
  },
  {
   "cell_type": "code",
   "execution_count": 13,
   "id": "461a5c52",
   "metadata": {},
   "outputs": [],
   "source": [
    "# переведем дату в тип datetime\n",
    "orders['date'] = orders['date'].map(lambda x: dt.datetime.strptime(x, '%Y-%m-%d'))"
   ]
  },
  {
   "cell_type": "code",
   "execution_count": 14,
   "id": "8ad47df0",
   "metadata": {},
   "outputs": [],
   "source": [
    "# чтение файла visitors.csv и сохранение в переменной visitors\n",
    "if os.path.exists('/datasets/visitors.csv'):\n",
    "    visitors = pd.read_csv('/datasets/visitors.csv', sep = ',')\n",
    "else:\n",
    "    visitors = pd.read_csv('visitors.csv', sep = ',')"
   ]
  },
  {
   "cell_type": "code",
   "execution_count": 15,
   "id": "154dada2",
   "metadata": {},
   "outputs": [
    {
     "data": {
      "text/html": [
       "<div>\n",
       "<style scoped>\n",
       "    .dataframe tbody tr th:only-of-type {\n",
       "        vertical-align: middle;\n",
       "    }\n",
       "\n",
       "    .dataframe tbody tr th {\n",
       "        vertical-align: top;\n",
       "    }\n",
       "\n",
       "    .dataframe thead th {\n",
       "        text-align: right;\n",
       "    }\n",
       "</style>\n",
       "<table border=\"1\" class=\"dataframe\">\n",
       "  <thead>\n",
       "    <tr style=\"text-align: right;\">\n",
       "      <th></th>\n",
       "      <th>date</th>\n",
       "      <th>group</th>\n",
       "      <th>visitors</th>\n",
       "    </tr>\n",
       "  </thead>\n",
       "  <tbody>\n",
       "    <tr>\n",
       "      <th>0</th>\n",
       "      <td>2019-08-01</td>\n",
       "      <td>A</td>\n",
       "      <td>719</td>\n",
       "    </tr>\n",
       "    <tr>\n",
       "      <th>1</th>\n",
       "      <td>2019-08-02</td>\n",
       "      <td>A</td>\n",
       "      <td>619</td>\n",
       "    </tr>\n",
       "    <tr>\n",
       "      <th>2</th>\n",
       "      <td>2019-08-03</td>\n",
       "      <td>A</td>\n",
       "      <td>507</td>\n",
       "    </tr>\n",
       "    <tr>\n",
       "      <th>3</th>\n",
       "      <td>2019-08-04</td>\n",
       "      <td>A</td>\n",
       "      <td>717</td>\n",
       "    </tr>\n",
       "    <tr>\n",
       "      <th>4</th>\n",
       "      <td>2019-08-05</td>\n",
       "      <td>A</td>\n",
       "      <td>756</td>\n",
       "    </tr>\n",
       "  </tbody>\n",
       "</table>\n",
       "</div>"
      ],
      "text/plain": [
       "         date group  visitors\n",
       "0  2019-08-01     A       719\n",
       "1  2019-08-02     A       619\n",
       "2  2019-08-03     A       507\n",
       "3  2019-08-04     A       717\n",
       "4  2019-08-05     A       756"
      ]
     },
     "execution_count": 15,
     "metadata": {},
     "output_type": "execute_result"
    }
   ],
   "source": [
    "visitors.head()"
   ]
  },
  {
   "cell_type": "markdown",
   "id": "1ead4775",
   "metadata": {},
   "source": [
    "Согласно документации к данным:\n",
    "\n",
    "* date — дата;\n",
    "* group — группа A/B-теста;\n",
    "* visitors — количество пользователей в указанную дату в указанной группе A/B-теста"
   ]
  },
  {
   "cell_type": "code",
   "execution_count": 16,
   "id": "7a972cbf",
   "metadata": {},
   "outputs": [
    {
     "data": {
      "text/html": [
       "<div>\n",
       "<style scoped>\n",
       "    .dataframe tbody tr th:only-of-type {\n",
       "        vertical-align: middle;\n",
       "    }\n",
       "\n",
       "    .dataframe tbody tr th {\n",
       "        vertical-align: top;\n",
       "    }\n",
       "\n",
       "    .dataframe thead th {\n",
       "        text-align: right;\n",
       "    }\n",
       "</style>\n",
       "<table border=\"1\" class=\"dataframe\">\n",
       "  <thead>\n",
       "    <tr style=\"text-align: right;\">\n",
       "      <th></th>\n",
       "      <th>visitors</th>\n",
       "    </tr>\n",
       "    <tr>\n",
       "      <th>group</th>\n",
       "      <th></th>\n",
       "    </tr>\n",
       "  </thead>\n",
       "  <tbody>\n",
       "    <tr>\n",
       "      <th>A</th>\n",
       "      <td>18736</td>\n",
       "    </tr>\n",
       "    <tr>\n",
       "      <th>B</th>\n",
       "      <td>18916</td>\n",
       "    </tr>\n",
       "  </tbody>\n",
       "</table>\n",
       "</div>"
      ],
      "text/plain": [
       "       visitors\n",
       "group          \n",
       "A         18736\n",
       "B         18916"
      ]
     },
     "execution_count": 16,
     "metadata": {},
     "output_type": "execute_result"
    }
   ],
   "source": [
    "# посмотрим сколько пользователей в каждой группе\n",
    "fraction = visitors.groupby('group').agg({'visitors':'sum'})\n",
    "fraction"
   ]
  },
  {
   "cell_type": "markdown",
   "id": "5436cfe2",
   "metadata": {},
   "source": [
    "Пользователи поделены не ровно 50/50. Разница составила 0,96%. Относительно различие кол-ва пользователей равно 4%. Стоит понимать, что результаты теста могут быть некорректны."
   ]
  },
  {
   "cell_type": "code",
   "execution_count": 17,
   "id": "8b89a7af",
   "metadata": {},
   "outputs": [
    {
     "name": "stdout",
     "output_type": "stream",
     "text": [
      "<class 'pandas.core.frame.DataFrame'>\n",
      "RangeIndex: 62 entries, 0 to 61\n",
      "Data columns (total 3 columns):\n",
      " #   Column    Non-Null Count  Dtype \n",
      "---  ------    --------------  ----- \n",
      " 0   date      62 non-null     object\n",
      " 1   group     62 non-null     object\n",
      " 2   visitors  62 non-null     int64 \n",
      "dtypes: int64(1), object(2)\n",
      "memory usage: 1.6+ KB\n"
     ]
    }
   ],
   "source": [
    "#Посмотрим общую информацию о таблице orders visitors\n",
    "visitors.info()"
   ]
  },
  {
   "cell_type": "markdown",
   "id": "98cf3435",
   "metadata": {},
   "source": [
    "пропусков нет, столбец с датой, необходимо перевести в тип datetime"
   ]
  },
  {
   "cell_type": "code",
   "execution_count": 18,
   "id": "76de35cb",
   "metadata": {},
   "outputs": [],
   "source": [
    "# переведем дату в тип datetime\n",
    "visitors['date'] = visitors['date'].map(lambda x: dt.datetime.strptime(x, '%Y-%m-%d'))"
   ]
  },
  {
   "cell_type": "markdown",
   "id": "7f5345de",
   "metadata": {},
   "source": [
    "### Построим графики кумулятивной выручки по группам и кумулятивного среднего чека по группам"
   ]
  },
  {
   "cell_type": "code",
   "execution_count": 19,
   "id": "aff54b97",
   "metadata": {},
   "outputs": [
    {
     "data": {
      "text/html": [
       "<div>\n",
       "<style scoped>\n",
       "    .dataframe tbody tr th:only-of-type {\n",
       "        vertical-align: middle;\n",
       "    }\n",
       "\n",
       "    .dataframe tbody tr th {\n",
       "        vertical-align: top;\n",
       "    }\n",
       "\n",
       "    .dataframe thead th {\n",
       "        text-align: right;\n",
       "    }\n",
       "</style>\n",
       "<table border=\"1\" class=\"dataframe\">\n",
       "  <thead>\n",
       "    <tr style=\"text-align: right;\">\n",
       "      <th></th>\n",
       "      <th>date</th>\n",
       "      <th>group</th>\n",
       "    </tr>\n",
       "  </thead>\n",
       "  <tbody>\n",
       "    <tr>\n",
       "      <th>0</th>\n",
       "      <td>2019-08-15</td>\n",
       "      <td>B</td>\n",
       "    </tr>\n",
       "    <tr>\n",
       "      <th>2</th>\n",
       "      <td>2019-08-15</td>\n",
       "      <td>A</td>\n",
       "    </tr>\n",
       "    <tr>\n",
       "      <th>45</th>\n",
       "      <td>2019-08-16</td>\n",
       "      <td>A</td>\n",
       "    </tr>\n",
       "    <tr>\n",
       "      <th>47</th>\n",
       "      <td>2019-08-16</td>\n",
       "      <td>B</td>\n",
       "    </tr>\n",
       "    <tr>\n",
       "      <th>55</th>\n",
       "      <td>2019-08-01</td>\n",
       "      <td>A</td>\n",
       "    </tr>\n",
       "  </tbody>\n",
       "</table>\n",
       "</div>"
      ],
      "text/plain": [
       "         date group\n",
       "0  2019-08-15     B\n",
       "2  2019-08-15     A\n",
       "45 2019-08-16     A\n",
       "47 2019-08-16     B\n",
       "55 2019-08-01     A"
      ]
     },
     "execution_count": 19,
     "metadata": {},
     "output_type": "execute_result"
    }
   ],
   "source": [
    "# создаем массив уникальных пар значений дат и групп теста\n",
    "datesGroups = orders[['date','group']].drop_duplicates() \n",
    "datesGroups.head()"
   ]
  },
  {
   "cell_type": "code",
   "execution_count": 20,
   "id": "0ab4c9bb",
   "metadata": {},
   "outputs": [
    {
     "data": {
      "text/html": [
       "<div>\n",
       "<style scoped>\n",
       "    .dataframe tbody tr th:only-of-type {\n",
       "        vertical-align: middle;\n",
       "    }\n",
       "\n",
       "    .dataframe tbody tr th {\n",
       "        vertical-align: top;\n",
       "    }\n",
       "\n",
       "    .dataframe thead th {\n",
       "        text-align: right;\n",
       "    }\n",
       "</style>\n",
       "<table border=\"1\" class=\"dataframe\">\n",
       "  <thead>\n",
       "    <tr style=\"text-align: right;\">\n",
       "      <th></th>\n",
       "      <th>date</th>\n",
       "      <th>group</th>\n",
       "      <th>transactionId</th>\n",
       "      <th>visitorId</th>\n",
       "      <th>revenue</th>\n",
       "    </tr>\n",
       "  </thead>\n",
       "  <tbody>\n",
       "    <tr>\n",
       "      <th>55</th>\n",
       "      <td>2019-08-01</td>\n",
       "      <td>A</td>\n",
       "      <td>24</td>\n",
       "      <td>20</td>\n",
       "      <td>148579</td>\n",
       "    </tr>\n",
       "    <tr>\n",
       "      <th>66</th>\n",
       "      <td>2019-08-01</td>\n",
       "      <td>B</td>\n",
       "      <td>21</td>\n",
       "      <td>20</td>\n",
       "      <td>101217</td>\n",
       "    </tr>\n",
       "    <tr>\n",
       "      <th>175</th>\n",
       "      <td>2019-08-02</td>\n",
       "      <td>A</td>\n",
       "      <td>44</td>\n",
       "      <td>38</td>\n",
       "      <td>242401</td>\n",
       "    </tr>\n",
       "    <tr>\n",
       "      <th>173</th>\n",
       "      <td>2019-08-02</td>\n",
       "      <td>B</td>\n",
       "      <td>45</td>\n",
       "      <td>43</td>\n",
       "      <td>266748</td>\n",
       "    </tr>\n",
       "    <tr>\n",
       "      <th>291</th>\n",
       "      <td>2019-08-03</td>\n",
       "      <td>A</td>\n",
       "      <td>68</td>\n",
       "      <td>62</td>\n",
       "      <td>354874</td>\n",
       "    </tr>\n",
       "  </tbody>\n",
       "</table>\n",
       "</div>"
      ],
      "text/plain": [
       "          date group  transactionId  visitorId  revenue\n",
       "55  2019-08-01     A             24         20   148579\n",
       "66  2019-08-01     B             21         20   101217\n",
       "175 2019-08-02     A             44         38   242401\n",
       "173 2019-08-02     B             45         43   266748\n",
       "291 2019-08-03     A             68         62   354874"
      ]
     },
     "execution_count": 20,
     "metadata": {},
     "output_type": "execute_result"
    }
   ],
   "source": [
    "# Получим строки таблицы orders, дата которых меньше или равна дате элемента из datesGroups, а группа теста равна группе из datesGroups\n",
    "ordersAggregated = (datesGroups.apply(lambda x: orders[np.logical_and(orders['date'] <= x['date'], orders['group'] == x['group'])]\n",
    ".agg({'date' : 'max', 'group' : 'max', 'transactionId' : 'nunique', 'visitorId' : 'nunique', 'revenue' : 'sum'}), axis=1).sort_values(by=['date','group'])) \n",
    "ordersAggregated.head()"
   ]
  },
  {
   "cell_type": "code",
   "execution_count": 21,
   "id": "23089b93",
   "metadata": {},
   "outputs": [],
   "source": [
    "# получим агрегированные кумулятивные по дням данные о посетителях интернет-магазина:\n",
    "visitorsAggregated = (datesGroups.apply(lambda x: visitors[np.logical_and(visitors['date'] <= x['date'], visitors['group'] == x['group'])]\n",
    "                                       .agg({'date' : 'max', 'group' : 'max', 'visitors' : 'sum'}), axis=1).sort_values(by=['date','group'])) \n"
   ]
  },
  {
   "cell_type": "code",
   "execution_count": 22,
   "id": "812e5a45",
   "metadata": {},
   "outputs": [
    {
     "data": {
      "text/html": [
       "<div>\n",
       "<style scoped>\n",
       "    .dataframe tbody tr th:only-of-type {\n",
       "        vertical-align: middle;\n",
       "    }\n",
       "\n",
       "    .dataframe tbody tr th {\n",
       "        vertical-align: top;\n",
       "    }\n",
       "\n",
       "    .dataframe thead th {\n",
       "        text-align: right;\n",
       "    }\n",
       "</style>\n",
       "<table border=\"1\" class=\"dataframe\">\n",
       "  <thead>\n",
       "    <tr style=\"text-align: right;\">\n",
       "      <th></th>\n",
       "      <th>date</th>\n",
       "      <th>group</th>\n",
       "      <th>orders</th>\n",
       "      <th>buyers</th>\n",
       "      <th>revenue</th>\n",
       "      <th>visitors</th>\n",
       "    </tr>\n",
       "  </thead>\n",
       "  <tbody>\n",
       "    <tr>\n",
       "      <th>0</th>\n",
       "      <td>2019-08-01</td>\n",
       "      <td>A</td>\n",
       "      <td>24</td>\n",
       "      <td>20</td>\n",
       "      <td>148579</td>\n",
       "      <td>719</td>\n",
       "    </tr>\n",
       "    <tr>\n",
       "      <th>1</th>\n",
       "      <td>2019-08-01</td>\n",
       "      <td>B</td>\n",
       "      <td>21</td>\n",
       "      <td>20</td>\n",
       "      <td>101217</td>\n",
       "      <td>713</td>\n",
       "    </tr>\n",
       "    <tr>\n",
       "      <th>2</th>\n",
       "      <td>2019-08-02</td>\n",
       "      <td>A</td>\n",
       "      <td>44</td>\n",
       "      <td>38</td>\n",
       "      <td>242401</td>\n",
       "      <td>1338</td>\n",
       "    </tr>\n",
       "    <tr>\n",
       "      <th>3</th>\n",
       "      <td>2019-08-02</td>\n",
       "      <td>B</td>\n",
       "      <td>45</td>\n",
       "      <td>43</td>\n",
       "      <td>266748</td>\n",
       "      <td>1294</td>\n",
       "    </tr>\n",
       "    <tr>\n",
       "      <th>4</th>\n",
       "      <td>2019-08-03</td>\n",
       "      <td>A</td>\n",
       "      <td>68</td>\n",
       "      <td>62</td>\n",
       "      <td>354874</td>\n",
       "      <td>1845</td>\n",
       "    </tr>\n",
       "  </tbody>\n",
       "</table>\n",
       "</div>"
      ],
      "text/plain": [
       "        date group  orders  buyers  revenue  visitors\n",
       "0 2019-08-01     A      24      20   148579       719\n",
       "1 2019-08-01     B      21      20   101217       713\n",
       "2 2019-08-02     A      44      38   242401      1338\n",
       "3 2019-08-02     B      45      43   266748      1294\n",
       "4 2019-08-03     A      68      62   354874      1845"
      ]
     },
     "execution_count": 22,
     "metadata": {},
     "output_type": "execute_result"
    }
   ],
   "source": [
    "# объединяем кумулятивные данные в одной таблице и присваиваем ее столбцам понятные названия\n",
    "cumulativeData = ordersAggregated.merge(visitorsAggregated, left_on=['date', 'group'], right_on=['date', 'group'])\n",
    "cumulativeData.columns = ['date', 'group', 'orders', 'buyers', 'revenue', 'visitors']\n",
    "cumulativeData.head()"
   ]
  },
  {
   "cell_type": "code",
   "execution_count": 23,
   "id": "f5bb386c",
   "metadata": {},
   "outputs": [],
   "source": [
    "# датафрейм с кумулятивным количеством заказов и кумулятивной выручкой по дням в группе А\n",
    "cumulativeRevenueA = cumulativeData[cumulativeData['group']=='A'][['date','revenue', 'orders']]"
   ]
  },
  {
   "cell_type": "code",
   "execution_count": 24,
   "id": "d3770f0f",
   "metadata": {},
   "outputs": [],
   "source": [
    "# датафрейм с кумулятивным количеством заказов и кумулятивной выручкой по дням в группе B\n",
    "cumulativeRevenueB = cumulativeData[cumulativeData['group']=='B'][['date','revenue', 'orders']]"
   ]
  },
  {
   "cell_type": "code",
   "execution_count": 25,
   "id": "45069cc6",
   "metadata": {},
   "outputs": [
    {
     "data": {
      "text/plain": [
       "(array([737272., 737276., 737280., 737284., 737288., 737292., 737296.,\n",
       "        737300., 737303.]),\n",
       " <a list of 9 Text xticklabel objects>)"
      ]
     },
     "execution_count": 25,
     "metadata": {},
     "output_type": "execute_result"
    },
    {
     "data": {
      "image/png": "[encoded data removed]",
      "text/plain": [
       "<Figure size 432x288 with 1 Axes>"
      ]
     },
     "metadata": {
      "needs_background": "light"
     },
     "output_type": "display_data"
    }
   ],
   "source": [
    "# Строим график выручки группы А\n",
    "plt.plot(cumulativeRevenueA['date'], cumulativeRevenueA['revenue'], label='A')\n",
    "\n",
    "# Строим график выручки группы B\n",
    "plt.plot(cumulativeRevenueB['date'], cumulativeRevenueB['revenue'], label='B')\n",
    "plt.title('График кумулятивной выручки по группам по группам') \n",
    "plt.xlabel('Дата')\n",
    "plt.ylabel('Выручка')\n",
    "plt.legend() \n",
    "plt.xticks(rotation = 45)"
   ]
  },
  {
   "cell_type": "markdown",
   "id": "76fe44ba",
   "metadata": {},
   "source": [
    "#### Вывод\n",
    "\n",
    "Выручка почти равномерно увеличивается в течение всего теста. Хороший знак. Однако график выручки группы В в одной точке резко растет. Это может сигнализировать о всплесках числа заказов, либо о появлении очень дорогих заказов в выборке. "
   ]
  },
  {
   "cell_type": "code",
   "execution_count": 26,
   "id": "b478b08a",
   "metadata": {},
   "outputs": [
    {
     "data": {
      "text/plain": [
       "(array([737272., 737276., 737280., 737284., 737288., 737292., 737296.,\n",
       "        737300., 737303.]),\n",
       " <a list of 9 Text xticklabel objects>)"
      ]
     },
     "execution_count": 26,
     "metadata": {},
     "output_type": "execute_result"
    },
    {
     "data": {
      "image/png": "[encoded data removed]",
      "text/plain": [
       "<Figure size 432x288 with 1 Axes>"
      ]
     },
     "metadata": {
      "needs_background": "light"
     },
     "output_type": "display_data"
    }
   ],
   "source": [
    "# Построим графики среднего чека по группам — разделим кумулятивную выручку на кумулятивное число заказов\n",
    "plt.plot(cumulativeRevenueA['date'], cumulativeRevenueA['revenue']/cumulativeRevenueA['orders'], label='A')\n",
    "plt.plot(cumulativeRevenueB['date'], cumulativeRevenueB['revenue']/cumulativeRevenueB['orders'], label='B')\n",
    "plt.legend() \n",
    "plt.title('График кумулятивной среднего чека по группам') \n",
    "plt.xlabel('Дата')\n",
    "plt.ylabel('Стоимость среднего чека')\n",
    "plt.xticks(rotation = 45)"
   ]
  },
  {
   "cell_type": "markdown",
   "id": "f9b29cb6",
   "metadata": {},
   "source": [
    "#### Вывод\n",
    "\n",
    "Средний чек к концу теста так и не пришел к равномерному распределению. Возможно, в группу B в середине теста попали крупные заказы (резкий всплеск на графике). В группе А в с 5 по 13 августа тоже есть всплески, но не такие резкие как в В. Необходимо больше данных, чтобы прийти к реальному среднему чеку и остановиться на его уровне."
   ]
  },
  {
   "cell_type": "markdown",
   "id": "738adb9c",
   "metadata": {},
   "source": [
    "### Построим график относительного изменения кумулятивного среднего чека группы B к группе A"
   ]
  },
  {
   "cell_type": "code",
   "execution_count": 27,
   "id": "d11fa015",
   "metadata": {},
   "outputs": [],
   "source": [
    "# собираем данные в одном датафрейме\n",
    "mergedCumulativeRevenue = cumulativeRevenueA.merge(cumulativeRevenueB, left_on='date', right_on='date', how='left', suffixes=['A', 'B'])"
   ]
  },
  {
   "cell_type": "code",
   "execution_count": 28,
   "id": "11a76b14",
   "metadata": {},
   "outputs": [
    {
     "data": {
      "text/plain": [
       "Text(0, 0.5, 'Относительный прирост')"
      ]
     },
     "execution_count": 28,
     "metadata": {},
     "output_type": "execute_result"
    },
    {
     "data": {
      "image/png": "[encoded data removed]",
      "text/plain": [
       "<Figure size 432x288 with 1 Axes>"
      ]
     },
     "metadata": {
      "needs_background": "light"
     },
     "output_type": "display_data"
    }
   ],
   "source": [
    "# cтроим отношение средних чеков\n",
    "plt.plot(mergedCumulativeRevenue['date'], (mergedCumulativeRevenue['revenueB']/mergedCumulativeRevenue['ordersB'])/(mergedCumulativeRevenue['revenueA']/mergedCumulativeRevenue['ordersA'])-1)\n",
    "plt.title('Относительный прирост среднего чека группы B относительно группы A')\n",
    "# добавляем ось X\n",
    "plt.axhline(y=0, color='black', linestyle='--') \n",
    "plt.xticks(rotation = 45) \n",
    "plt.xlabel('Дата')\n",
    "plt.ylabel('Относительный прирост')"
   ]
  },
  {
   "cell_type": "markdown",
   "id": "82482dc3",
   "metadata": {},
   "source": [
    "#### Вывод:\n",
    "\n",
    "В нескольких точках график различия между сегментами резко «скачет». Где-то скорее всего спрятались крупные заказы и выбросы! "
   ]
  },
  {
   "cell_type": "markdown",
   "id": "15a2cf16",
   "metadata": {},
   "source": [
    "### Построим график кумулятивной конверсии по группам. "
   ]
  },
  {
   "cell_type": "code",
   "execution_count": 29,
   "id": "cd93c175",
   "metadata": {},
   "outputs": [],
   "source": [
    "# считаем кумулятивную конверсию\n",
    "cumulativeData['conversion'] = cumulativeData['orders']/cumulativeData['visitors']"
   ]
  },
  {
   "cell_type": "code",
   "execution_count": 30,
   "id": "c37348e7",
   "metadata": {},
   "outputs": [],
   "source": [
    "# отделяем данные по группе A\n",
    "cumulativeDataA = cumulativeData[cumulativeData['group']=='A']\n",
    "\n",
    "# отделяем данные по группе B\n",
    "cumulativeDataB = cumulativeData[cumulativeData['group']=='B']"
   ]
  },
  {
   "cell_type": "code",
   "execution_count": 31,
   "id": "68b90d5a",
   "metadata": {},
   "outputs": [
    {
     "data": {
      "text/plain": [
       "Text(0, 0.5, 'Конверсия')"
      ]
     },
     "execution_count": 31,
     "metadata": {},
     "output_type": "execute_result"
    },
    {
     "data": {
      "image/png": "[encoded data removed]",
      "text/plain": [
       "<Figure size 432x288 with 1 Axes>"
      ]
     },
     "metadata": {
      "needs_background": "light"
     },
     "output_type": "display_data"
    }
   ],
   "source": [
    "# строим графики\n",
    "plt.plot(cumulativeDataA['date'], cumulativeDataA['conversion'], label='A')\n",
    "plt.plot(cumulativeDataB['date'], cumulativeDataB['conversion'], label='B')\n",
    "plt.legend()\n",
    "plt.xticks(rotation = 45)\n",
    "# задаем масштаб осей\n",
    "plt.axis([dt.datetime(2019, 8, 1), dt.datetime(2019, 9, 1), 0, 0.05])\n",
    "plt.title('График кумулятивной конверсии по группам') \n",
    "plt.xlabel('Дата')\n",
    "plt.ylabel('Конверсия')"
   ]
  },
  {
   "cell_type": "markdown",
   "id": "0e7f8d45",
   "metadata": {},
   "source": [
    "#### Вывод:\n",
    "\n",
    "Не симметричный график. Конверсия группы В вырвалась вперёд и зафиксировалась, а конверсия группы А просела и также зафиксировалась."
   ]
  },
  {
   "cell_type": "markdown",
   "id": "df3de8c7",
   "metadata": {},
   "source": [
    "### Построим график относительного изменения кумулятивной конверсии группы B к группе A."
   ]
  },
  {
   "cell_type": "code",
   "execution_count": 32,
   "id": "a07798f5",
   "metadata": {},
   "outputs": [
    {
     "data": {
      "text/plain": [
       "Text(0, 0.5, 'Прирост конверсии')"
      ]
     },
     "execution_count": 32,
     "metadata": {},
     "output_type": "execute_result"
    },
    {
     "data": {
      "image/png": "[encoded data removed]",
      "text/plain": [
       "<Figure size 432x288 with 1 Axes>"
      ]
     },
     "metadata": {
      "needs_background": "light"
     },
     "output_type": "display_data"
    }
   ],
   "source": [
    "mergedCumulativeConversions = cumulativeDataA[['date','conversion']].merge(cumulativeDataB[['date','conversion']], left_on='date', right_on='date', how='left', suffixes=['A', 'B'])\n",
    "\n",
    "plt.plot(mergedCumulativeConversions['date'], mergedCumulativeConversions['conversionB']/mergedCumulativeConversions['conversionA']-1)\n",
    "\n",
    "plt.title('Относительный прирост конверсии группы B относительно группы A')\n",
    "plt.xticks(rotation = 45)\n",
    "plt.axhline(y=0, color='black', linestyle='--')\n",
    "plt.axhline(y=-0.1, color='grey', linestyle='--')\n",
    "plt.axis([dt.datetime(2019, 8, 1), dt.datetime(2019, 9, 1), -0.25, 0.25])\n",
    "plt.xlabel('Дата')\n",
    "plt.ylabel('Прирост конверсии')"
   ]
  },
  {
   "cell_type": "markdown",
   "id": "d492c895",
   "metadata": {},
   "source": [
    "#### Вывод:\n",
    "\n",
    "В начале теста группа B имела скачки по отношению к группе A, затем вырвалась вперёд и теперь с небольшими падениями продолжает постепенно расти.\n",
    "В целом отношение конверсии установилось и продолжает расти."
   ]
  },
  {
   "cell_type": "markdown",
   "id": "ddc03903",
   "metadata": {},
   "source": [
    "### Построим точечные графики количества заказов по пользователям и стоимостей заказов"
   ]
  },
  {
   "cell_type": "code",
   "execution_count": 33,
   "id": "5c4a5bc6",
   "metadata": {},
   "outputs": [
    {
     "data": {
      "text/html": [
       "<div>\n",
       "<style scoped>\n",
       "    .dataframe tbody tr th:only-of-type {\n",
       "        vertical-align: middle;\n",
       "    }\n",
       "\n",
       "    .dataframe tbody tr th {\n",
       "        vertical-align: top;\n",
       "    }\n",
       "\n",
       "    .dataframe thead th {\n",
       "        text-align: right;\n",
       "    }\n",
       "</style>\n",
       "<table border=\"1\" class=\"dataframe\">\n",
       "  <thead>\n",
       "    <tr style=\"text-align: right;\">\n",
       "      <th></th>\n",
       "      <th>userId</th>\n",
       "      <th>orders</th>\n",
       "    </tr>\n",
       "  </thead>\n",
       "  <tbody>\n",
       "    <tr>\n",
       "      <th>1023</th>\n",
       "      <td>4256040402</td>\n",
       "      <td>11</td>\n",
       "    </tr>\n",
       "    <tr>\n",
       "      <th>591</th>\n",
       "      <td>2458001652</td>\n",
       "      <td>11</td>\n",
       "    </tr>\n",
       "    <tr>\n",
       "      <th>569</th>\n",
       "      <td>2378935119</td>\n",
       "      <td>9</td>\n",
       "    </tr>\n",
       "    <tr>\n",
       "      <th>487</th>\n",
       "      <td>2038680547</td>\n",
       "      <td>8</td>\n",
       "    </tr>\n",
       "    <tr>\n",
       "      <th>44</th>\n",
       "      <td>199603092</td>\n",
       "      <td>5</td>\n",
       "    </tr>\n",
       "    <tr>\n",
       "      <th>744</th>\n",
       "      <td>3062433592</td>\n",
       "      <td>5</td>\n",
       "    </tr>\n",
       "    <tr>\n",
       "      <th>55</th>\n",
       "      <td>237748145</td>\n",
       "      <td>5</td>\n",
       "    </tr>\n",
       "    <tr>\n",
       "      <th>917</th>\n",
       "      <td>3803269165</td>\n",
       "      <td>5</td>\n",
       "    </tr>\n",
       "    <tr>\n",
       "      <th>299</th>\n",
       "      <td>1230306981</td>\n",
       "      <td>5</td>\n",
       "    </tr>\n",
       "    <tr>\n",
       "      <th>897</th>\n",
       "      <td>3717692402</td>\n",
       "      <td>5</td>\n",
       "    </tr>\n",
       "  </tbody>\n",
       "</table>\n",
       "</div>"
      ],
      "text/plain": [
       "          userId  orders\n",
       "1023  4256040402      11\n",
       "591   2458001652      11\n",
       "569   2378935119       9\n",
       "487   2038680547       8\n",
       "44     199603092       5\n",
       "744   3062433592       5\n",
       "55     237748145       5\n",
       "917   3803269165       5\n",
       "299   1230306981       5\n",
       "897   3717692402       5"
      ]
     },
     "execution_count": 33,
     "metadata": {},
     "output_type": "execute_result"
    }
   ],
   "source": [
    "# Подсчитаем количество заказов по пользователям \n",
    "ordersByUsers = (orders.groupby('visitorId', as_index=False)\n",
    "                       .agg({'transactionId': 'nunique'}))\n",
    "ordersByUsers.columns = ['userId', 'orders']\n",
    "ordersByUsers.sort_values(by='orders', ascending=False).head(10)"
   ]
  },
  {
   "cell_type": "code",
   "execution_count": 34,
   "id": "9c1e2eb6",
   "metadata": {},
   "outputs": [
    {
     "data": {
      "text/plain": [
       "Text(0, 0.5, 'Кол-во заказов')"
      ]
     },
     "execution_count": 34,
     "metadata": {},
     "output_type": "execute_result"
    },
    {
     "data": {
      "image/png": "[encoded data removed]",
      "text/plain": [
       "<Figure size 432x288 with 1 Axes>"
      ]
     },
     "metadata": {
      "needs_background": "light"
     },
     "output_type": "display_data"
    }
   ],
   "source": [
    "# Построим точечную диаграмму числа заказов на одного пользователя по группам:\n",
    "x_values = pd.Series(range(0,len(ordersByUsers)))\n",
    "sns.scatterplot(x=x_values, y=ordersByUsers['orders'], hue=orders['group']) \n",
    "plt.title('Диаграмма числа заказов на одного пользователя') \n",
    "plt.ylabel('Кол-во заказов')"
   ]
  },
  {
   "cell_type": "markdown",
   "id": "7e14a1b3",
   "metadata": {},
   "source": [
    "Много пользователей с 2-4 заказами. Их точная доля не ясна — непонятно, считать их аномалиями или нет. Выбросов у обоих групп примерно одинаково."
   ]
  },
  {
   "cell_type": "code",
   "execution_count": 35,
   "id": "07a52ff6",
   "metadata": {},
   "outputs": [
    {
     "data": {
      "text/plain": [
       "array([2., 4.])"
      ]
     },
     "execution_count": 35,
     "metadata": {},
     "output_type": "execute_result"
    }
   ],
   "source": [
    "# Посчитаем выборочные перцентили количества заказов на одного пользователя:\n",
    "np.percentile(ordersByUsers['orders'], [95, 99])"
   ]
  },
  {
   "cell_type": "markdown",
   "id": "ec9f8b43",
   "metadata": {},
   "source": [
    "#### Вывод:\n",
    "\n",
    "Не более 5% пользователей оформляли больше чем 2 заказа. И 1% пользователей заказывали более четырех раз.\n",
    "Выберем 3 заказа на одного пользователя за верхнюю границу числа заказов, и отсеять аномальных пользователей по ней."
   ]
  },
  {
   "cell_type": "code",
   "execution_count": 36,
   "id": "21467be3",
   "metadata": {},
   "outputs": [
    {
     "data": {
      "text/plain": [
       "Text(0, 0.5, 'Выручка заказов')"
      ]
     },
     "execution_count": 36,
     "metadata": {},
     "output_type": "execute_result"
    },
    {
     "data": {
      "image/png": "[encoded data removed]",
      "text/plain": [
       "<Figure size 432x288 with 1 Axes>"
      ]
     },
     "metadata": {
      "needs_background": "light"
     },
     "output_type": "display_data"
    }
   ],
   "source": [
    "# Построим точечную диаграмму выручки заказов по группам:\n",
    "x_values = pd.Series(range(0,len(orders['revenue'])))\n",
    "sns.scatterplot(x=x_values, y=orders['revenue'], hue=orders['group'])\n",
    "plt.title('Диаграмма стоимости заказов на одного пользователя') \n",
    "plt.ylabel('Выручка заказов')"
   ]
  },
  {
   "cell_type": "code",
   "execution_count": 37,
   "id": "17f05414",
   "metadata": {},
   "outputs": [
    {
     "data": {
      "text/plain": [
       "Text(0, 0.5, 'Выручка заказов')"
      ]
     },
     "execution_count": 37,
     "metadata": {},
     "output_type": "execute_result"
    },
    {
     "data": {
      "image/png": "[encoded data removed]",
      "text/plain": [
       "<Figure size 432x288 with 1 Axes>"
      ]
     },
     "metadata": {
      "needs_background": "light"
     },
     "output_type": "display_data"
    }
   ],
   "source": [
    "# создадим переменную в котором отберем кол-во заказов больше 3\n",
    "anomalies = orders.groupby('visitorId', as_index = False).nunique().query('transactionId >2')['visitorId']\n",
    "# дальше отфильтруем таблицу orders, где кол-во заказов меньше 3 и стоимость заказа до 30 000 рублей\n",
    "orders_clean = orders.query('visitorId not in @anomalies and revenue <= 30000')\n",
    "x_values = pd.Series(range(0,len(orders_clean['revenue'])))\n",
    "sns.scatterplot(x=x_values, y=orders_clean['revenue'], hue=orders_clean['group'])\n",
    "plt.title('Диаграмма стоимости заказов на одного пользователя без выбросов') \n",
    "plt.ylabel('Выручка заказов')"
   ]
  },
  {
   "cell_type": "markdown",
   "id": "955f2c77",
   "metadata": {},
   "source": [
    "Есть немного дорогих заказов. Аномально дорогие заказы присутствуют только у группы В.\n",
    "\n",
    "По графику можно выбрать границу аномальных заказов от 200000 и более.\n",
    "\n",
    "В графике без аномалий видно распределение заказов нормальное, чем выше стоимость, тем меьше заказов."
   ]
  },
  {
   "cell_type": "code",
   "execution_count": 38,
   "id": "ba42e400",
   "metadata": {},
   "outputs": [
    {
     "data": {
      "text/plain": [
       "array([28000. , 58233.2])"
      ]
     },
     "execution_count": 38,
     "metadata": {},
     "output_type": "execute_result"
    }
   ],
   "source": [
    "# Посчитаем выборочные перцентили стоимости заказов\n",
    "np.percentile(orders['revenue'], [95, 99])"
   ]
  },
  {
   "cell_type": "markdown",
   "id": "90bd01a4",
   "metadata": {},
   "source": [
    "#### Вывод\n",
    "\n",
    "Не более 5% заказов дороже 28000 рублей и не более 1% дороже 58233 рублей. Выберем 30000 рублей на за верхнюю границу стоимости заказов, и отсеим аномальных пользователей по ней."
   ]
  },
  {
   "cell_type": "markdown",
   "id": "47f349ca",
   "metadata": {},
   "source": [
    "### Посчитаем статистическую значимость различий в конверсии и в среднем чеке заказа между группами по «сырым» данным."
   ]
  },
  {
   "cell_type": "markdown",
   "id": "7f7be963",
   "metadata": {},
   "source": [
    "Подготовим данные, создадим таблицу data со следующими столбцами:\n",
    "\n",
    "* date — дата;\n",
    "* ordersPerDateA — количество заказов в выбранную дату в группе A;\n",
    "* revenuePerDateA — суммарная выручка в выбранную дату в группе A;\n",
    "* ordersPerDateB — количество заказов в выбранную дату в группе B;\n",
    "* revenuePerDateB — суммарная выручка в выбранную дату в группе B;\n",
    "* ordersCummulativeA — суммарное число заказов до выбранной даты включительно в группе A;\n",
    "* revenueCummulativeA — суммарная выручка до выбранной даты включительно в группе A;\n",
    "* ordersCummulativeB — суммарное количество заказов до выбранной даты включительно в группе B;\n",
    "* revenueCummulativeB — суммарная выручка до выбранной даты включительно в группе B;\n",
    "* visitorsPerDateA — количество пользователей в выбранную дату в группе A;\n",
    "* visitorsPerDateB — количество пользователей в выбранную дату в группе B;\n",
    "* visitorsCummulativeA — количество пользователей до выбранной даты включительно в группе A"
   ]
  },
  {
   "cell_type": "code",
   "execution_count": 39,
   "id": "9c90ab44",
   "metadata": {},
   "outputs": [
    {
     "data": {
      "text/html": [
       "<div>\n",
       "<style scoped>\n",
       "    .dataframe tbody tr th:only-of-type {\n",
       "        vertical-align: middle;\n",
       "    }\n",
       "\n",
       "    .dataframe tbody tr th {\n",
       "        vertical-align: top;\n",
       "    }\n",
       "\n",
       "    .dataframe thead th {\n",
       "        text-align: right;\n",
       "    }\n",
       "</style>\n",
       "<table border=\"1\" class=\"dataframe\">\n",
       "  <thead>\n",
       "    <tr style=\"text-align: right;\">\n",
       "      <th></th>\n",
       "      <th>date</th>\n",
       "      <th>ordersPerDateA</th>\n",
       "      <th>revenuePerDateA</th>\n",
       "      <th>ordersPerDateB</th>\n",
       "      <th>revenuePerDateB</th>\n",
       "      <th>ordersCummulativeA</th>\n",
       "      <th>revenueCummulativeA</th>\n",
       "      <th>ordersCummulativeB</th>\n",
       "      <th>revenueCummulativeB</th>\n",
       "      <th>visitorsPerDateA</th>\n",
       "      <th>visitorsPerDateB</th>\n",
       "      <th>visitorsCummulativeA</th>\n",
       "      <th>visitorsCummulativeB</th>\n",
       "    </tr>\n",
       "  </thead>\n",
       "  <tbody>\n",
       "    <tr>\n",
       "      <th>0</th>\n",
       "      <td>2019-08-01</td>\n",
       "      <td>24</td>\n",
       "      <td>148579</td>\n",
       "      <td>21</td>\n",
       "      <td>101217</td>\n",
       "      <td>24</td>\n",
       "      <td>148579</td>\n",
       "      <td>21</td>\n",
       "      <td>101217</td>\n",
       "      <td>719</td>\n",
       "      <td>713</td>\n",
       "      <td>719</td>\n",
       "      <td>713</td>\n",
       "    </tr>\n",
       "    <tr>\n",
       "      <th>1</th>\n",
       "      <td>2019-08-02</td>\n",
       "      <td>20</td>\n",
       "      <td>93822</td>\n",
       "      <td>24</td>\n",
       "      <td>165531</td>\n",
       "      <td>44</td>\n",
       "      <td>242401</td>\n",
       "      <td>45</td>\n",
       "      <td>266748</td>\n",
       "      <td>619</td>\n",
       "      <td>581</td>\n",
       "      <td>1338</td>\n",
       "      <td>1294</td>\n",
       "    </tr>\n",
       "    <tr>\n",
       "      <th>2</th>\n",
       "      <td>2019-08-03</td>\n",
       "      <td>24</td>\n",
       "      <td>112473</td>\n",
       "      <td>16</td>\n",
       "      <td>114248</td>\n",
       "      <td>68</td>\n",
       "      <td>354874</td>\n",
       "      <td>61</td>\n",
       "      <td>380996</td>\n",
       "      <td>507</td>\n",
       "      <td>509</td>\n",
       "      <td>1845</td>\n",
       "      <td>1803</td>\n",
       "    </tr>\n",
       "    <tr>\n",
       "      <th>3</th>\n",
       "      <td>2019-08-04</td>\n",
       "      <td>16</td>\n",
       "      <td>70825</td>\n",
       "      <td>17</td>\n",
       "      <td>108571</td>\n",
       "      <td>84</td>\n",
       "      <td>425699</td>\n",
       "      <td>78</td>\n",
       "      <td>489567</td>\n",
       "      <td>717</td>\n",
       "      <td>770</td>\n",
       "      <td>2562</td>\n",
       "      <td>2573</td>\n",
       "    </tr>\n",
       "    <tr>\n",
       "      <th>4</th>\n",
       "      <td>2019-08-05</td>\n",
       "      <td>25</td>\n",
       "      <td>124218</td>\n",
       "      <td>23</td>\n",
       "      <td>92428</td>\n",
       "      <td>109</td>\n",
       "      <td>549917</td>\n",
       "      <td>101</td>\n",
       "      <td>581995</td>\n",
       "      <td>756</td>\n",
       "      <td>707</td>\n",
       "      <td>3318</td>\n",
       "      <td>3280</td>\n",
       "    </tr>\n",
       "  </tbody>\n",
       "</table>\n",
       "</div>"
      ],
      "text/plain": [
       "        date  ordersPerDateA  revenuePerDateA  ordersPerDateB  \\\n",
       "0 2019-08-01              24           148579              21   \n",
       "1 2019-08-02              20            93822              24   \n",
       "2 2019-08-03              24           112473              16   \n",
       "3 2019-08-04              16            70825              17   \n",
       "4 2019-08-05              25           124218              23   \n",
       "\n",
       "   revenuePerDateB  ordersCummulativeA  revenueCummulativeA  \\\n",
       "0           101217                  24               148579   \n",
       "1           165531                  44               242401   \n",
       "2           114248                  68               354874   \n",
       "3           108571                  84               425699   \n",
       "4            92428                 109               549917   \n",
       "\n",
       "   ordersCummulativeB  revenueCummulativeB  visitorsPerDateA  \\\n",
       "0                  21               101217               719   \n",
       "1                  45               266748               619   \n",
       "2                  61               380996               507   \n",
       "3                  78               489567               717   \n",
       "4                 101               581995               756   \n",
       "\n",
       "   visitorsPerDateB  visitorsCummulativeA  visitorsCummulativeB  \n",
       "0               713                   719                   713  \n",
       "1               581                  1338                  1294  \n",
       "2               509                  1845                  1803  \n",
       "3               770                  2562                  2573  \n",
       "4               707                  3318                  3280  "
      ]
     },
     "execution_count": 39,
     "metadata": {},
     "output_type": "execute_result"
    }
   ],
   "source": [
    "# подготовка данных\n",
    "visitorsADaily = visitors[visitors['group'] == 'A'][['date', 'visitors']]\n",
    "visitorsADaily.columns = ['date', 'visitorsPerDateA']\n",
    "\n",
    "visitorsACummulative = visitorsADaily.apply(\n",
    "    lambda x: visitorsADaily[visitorsADaily['date'] <= x['date']].agg(\n",
    "        {'date': 'max', 'visitorsPerDateA': 'sum'}\n",
    "    ),\n",
    "    axis=1,\n",
    ")\n",
    "visitorsACummulative.columns = ['date', 'visitorsCummulativeA']\n",
    "\n",
    "visitorsBDaily = visitors[visitors['group'] == 'B'][['date', 'visitors']]\n",
    "visitorsBDaily.columns = ['date', 'visitorsPerDateB']\n",
    "\n",
    "visitorsBCummulative = visitorsBDaily.apply(\n",
    "    lambda x: visitorsBDaily[visitorsBDaily['date'] <= x['date']].agg(\n",
    "        {'date': 'max', 'visitorsPerDateB': 'sum'}\n",
    "    ),\n",
    "    axis=1,\n",
    ")\n",
    "visitorsBCummulative.columns = ['date', 'visitorsCummulativeB']\n",
    "\n",
    "ordersADaily = (\n",
    "    orders[orders['group'] == 'A'][['date', 'transactionId', 'visitorId', 'revenue']]\n",
    "    .groupby('date', as_index=False)\n",
    "    .agg({'transactionId': pd.Series.nunique, 'revenue': 'sum'})\n",
    ")\n",
    "ordersADaily.columns = ['date', 'ordersPerDateA', 'revenuePerDateA']\n",
    "\n",
    "ordersACummulative = ordersADaily.apply(\n",
    "    lambda x: ordersADaily[ordersADaily['date'] <= x['date']].agg(\n",
    "        {'date': 'max', 'ordersPerDateA': 'sum', 'revenuePerDateA': 'sum'}\n",
    "    ),\n",
    "    axis=1,\n",
    ").sort_values(by=['date'])\n",
    "ordersACummulative.columns = [\n",
    "    'date',\n",
    "    'ordersCummulativeA',\n",
    "    'revenueCummulativeA',\n",
    "]\n",
    "\n",
    "ordersBDaily = (\n",
    "    orders[orders['group'] == 'B'][['date', 'transactionId', 'visitorId', 'revenue']]\n",
    "    .groupby('date', as_index=False)\n",
    "    .agg({'transactionId': pd.Series.nunique, 'revenue': 'sum'})\n",
    ")\n",
    "ordersBDaily.columns = ['date', 'ordersPerDateB', 'revenuePerDateB']\n",
    "\n",
    "ordersBCummulative = ordersBDaily.apply(\n",
    "    lambda x: ordersBDaily[ordersBDaily['date'] <= x['date']].agg(\n",
    "        {'date': 'max', 'ordersPerDateB': 'sum', 'revenuePerDateB': 'sum'}\n",
    "    ),\n",
    "    axis=1,\n",
    ").sort_values(by=['date'])\n",
    "ordersBCummulative.columns = [\n",
    "    'date',\n",
    "    'ordersCummulativeB',\n",
    "    'revenueCummulativeB',\n",
    "]\n",
    "\n",
    "data = (\n",
    "    ordersADaily.merge(\n",
    "        ordersBDaily, left_on='date', right_on='date', how='left'\n",
    "    )\n",
    "    .merge(ordersACummulative, left_on='date', right_on='date', how='left')\n",
    "    .merge(ordersBCummulative, left_on='date', right_on='date', how='left')\n",
    "    .merge(visitorsADaily, left_on='date', right_on='date', how='left')\n",
    "    .merge(visitorsBDaily, left_on='date', right_on='date', how='left')\n",
    "    .merge(visitorsACummulative, left_on='date', right_on='date', how='left')\n",
    "    .merge(visitorsBCummulative, left_on='date', right_on='date', how='left')\n",
    ")\n",
    "\n",
    "data.head()"
   ]
  },
  {
   "cell_type": "markdown",
   "id": "cfeccd3b",
   "metadata": {},
   "source": [
    "Посчитаем статистическую значимость различия в среднем количестве заказов между группами.\n",
    "Создадим переменные ordersByUsersA и ordersByUsersB со столбцами ['userId', 'orders']. В них для пользователей, которые заказывали хотя бы 1 раз, укажем число совершённых заказов.\n"
   ]
  },
  {
   "cell_type": "code",
   "execution_count": 40,
   "id": "507a2467",
   "metadata": {},
   "outputs": [],
   "source": [
    "ordersByUsersA = (\n",
    "    orders[orders['group'] == 'A']\n",
    "    .groupby('visitorId', as_index=False)\n",
    "    .agg({'transactionId': pd.Series.nunique})\n",
    ")\n",
    "ordersByUsersA.columns = ['userId', 'orders']\n",
    "\n",
    "ordersByUsersB = (\n",
    "    orders[orders['group'] == 'B']\n",
    "    .groupby('visitorId', as_index=False)\n",
    "    .agg({'transactionId': pd.Series.nunique})\n",
    ")\n",
    "ordersByUsersB.columns = ['userId', 'orders'] "
   ]
  },
  {
   "cell_type": "markdown",
   "id": "3643fff6",
   "metadata": {},
   "source": [
    "Объявим переменные sampleA и sampleB, в которых пользователям из разных групп будет соответствовать количество заказов. Тем, кто ничего не заказал, будут соответствовать нули"
   ]
  },
  {
   "cell_type": "code",
   "execution_count": 41,
   "id": "424e2a03",
   "metadata": {},
   "outputs": [],
   "source": [
    "# переменная sampleA и sampleB состоят из списка с количеством заказов для каждого из пользователей: ordersByUsersA['orders'] \n",
    "# и из нулей для пользователей, которые ничего не заказывали. Их количество равно разнице между суммой посетителей и \n",
    "# кол-ом записей о заказах\n",
    "# с помощью pd.concat() объединим объекты Series по сторокам\n",
    "\n",
    "sampleA = pd.concat(\n",
    "    [\n",
    "        ordersByUsersA['orders'],\n",
    "        pd.Series(\n",
    "            0,\n",
    "            index=np.arange(\n",
    "                data['visitorsPerDateA'].sum() - len(ordersByUsersA['orders'])\n",
    "            ),\n",
    "            name='orders',\n",
    "        ),\n",
    "    ],\n",
    "    axis=0,\n",
    ")\n",
    "\n",
    "sampleB = pd.concat(\n",
    "    [\n",
    "        ordersByUsersB['orders'],\n",
    "        pd.Series(\n",
    "            0,\n",
    "            index=np.arange(\n",
    "                data['visitorsPerDateB'].sum() - len(ordersByUsersB['orders'])\n",
    "            ),\n",
    "            name='orders',\n",
    "        ),\n",
    "    ],\n",
    "    axis=0,)"
   ]
  },
  {
   "cell_type": "markdown",
   "id": "0d3efa59",
   "metadata": {},
   "source": [
    "**Нулевая гипотеза**: различий в среднем количестве заказов между группами нет.\n",
    "\n",
    "**Альтернативная гипотеза**: различия в среднем количестве заказов между группами есть."
   ]
  },
  {
   "cell_type": "markdown",
   "id": "ce2d4c55",
   "metadata": {},
   "source": [
    "Число элементов sampleA — это количество пользователей, сумма всех элементов — количество заказов. Чтобы получить среднее число заказов на пользователя, поделим сумму заказов на число пользователей — найдём среднее в выборке sampleA методом mean(). Аналогично найдём среднее группы B: SampleB.mean().\n",
    "Выведем относительный прирост среднего числа заказов группы B."
   ]
  },
  {
   "cell_type": "code",
   "execution_count": 42,
   "id": "9d00737e",
   "metadata": {},
   "outputs": [
    {
     "data": {
      "text/plain": [
       "'p-value=0.008396'"
      ]
     },
     "execution_count": 42,
     "metadata": {},
     "output_type": "execute_result"
    }
   ],
   "source": [
    "\"p-value={0:f}\".format(stats.mannwhitneyu(sampleA, sampleB)[1])"
   ]
  },
  {
   "cell_type": "code",
   "execution_count": 43,
   "id": "9d3eeccb",
   "metadata": {},
   "outputs": [
    {
     "data": {
      "text/plain": [
       "'Относительный выигрыш В/А=0.138'"
      ]
     },
     "execution_count": 43,
     "metadata": {},
     "output_type": "execute_result"
    }
   ],
   "source": [
    "\"Относительный выигрыш В/А={0:.3f}\".format(sampleB.mean() / sampleA.mean() - 1)"
   ]
  },
  {
   "cell_type": "markdown",
   "id": "a9223a26",
   "metadata": {},
   "source": [
    "#### Вывод\n",
    "\n",
    "По «сырым» данным есть различия в среднем числе заказов групп A и B.\n",
    "Первое число — p-value = 0.008 меньше 0.05. Значит, нулевую гипотезу о том, что статистически значимых различий в среднем числе заказов между группами нет, отвергаем. Однако относительный выигрыш группы B равен 13,8% — второе число в выводе.\n"
   ]
  },
  {
   "cell_type": "markdown",
   "id": "f36a88fc",
   "metadata": {},
   "source": [
    "Теперь проверим статистическую значимость различий в среднем чеке между сегментами.\n",
    "\n",
    "**Нулевая гипотеза**: различий в среднем чеке между группами нет. \n",
    "\n",
    "**Альтернативная гипотеза**: различия в среднем чеке между группами есть.\n"
   ]
  },
  {
   "cell_type": "code",
   "execution_count": 44,
   "id": "d85357b4",
   "metadata": {},
   "outputs": [
    {
     "data": {
      "text/plain": [
       "'p-value=0.364645'"
      ]
     },
     "execution_count": 44,
     "metadata": {},
     "output_type": "execute_result"
    }
   ],
   "source": [
    "# Чтобы рассчитать статистическую значимость различий в среднем чеке, передадим критерию mannwhitneyu() \n",
    "# данные о выручке с заказов \n",
    "'p-value={0:f}'.format(stats.mannwhitneyu(orders[orders['group']=='A']['revenue'], orders[orders['group']=='B']['revenue'])[1])"
   ]
  },
  {
   "cell_type": "code",
   "execution_count": 45,
   "id": "7b52eb7b",
   "metadata": {},
   "outputs": [
    {
     "data": {
      "text/plain": [
       "'Относительный выигрыш В/А=0.259'"
      ]
     },
     "execution_count": 45,
     "metadata": {},
     "output_type": "execute_result"
    }
   ],
   "source": [
    "#  найдём относительные различия в среднем чеке между группами\n",
    "'Относительный выигрыш В/А={0:.3f}'.format(orders[orders['group']=='B']['revenue'].mean()/orders[orders['group']=='A']['revenue'].mean()-1) "
   ]
  },
  {
   "cell_type": "markdown",
   "id": "c9a6c430",
   "metadata": {},
   "source": [
    "#### Вывод\n",
    "\n",
    "P-value значительно больше 0.05. Значит, причин отвергать нулевую гипотезу и считать, что в среднем чеке есть различия, нет. Средний чек группы B значительно выше среднего чека группы A."
   ]
  },
  {
   "cell_type": "markdown",
   "id": "755b1167",
   "metadata": {},
   "source": [
    "### Посчитаем статистическую значимость различий в конверсии и среднему чеку между группами по «очищенным» данным"
   ]
  },
  {
   "cell_type": "markdown",
   "id": "fea6f179",
   "metadata": {},
   "source": [
    "Найденные ранее 95-й и 99-й перцентили средних чеков равны 28000 и 58233.2 рублям. \n",
    "\n",
    "А 95-й и 99-й перцентили количества заказов на одного пользователя равны 2 и 4 заказа на пользователя.\n",
    "\n",
    "\n",
    "Примем за аномальных пользователей тех, кто совершил от 2 заказов или совершил заказ дороже 28 000 рублей. \n",
    "\n",
    "Так мы уберём до 5% пользователей с наибольшим числом заказов и от до 5% пользователей с дорогими заказами. \n",
    "\n",
    "Сделаем срезы пользователей с числом заказов больше 2 — usersWithManyOrders и пользователей, совершивших заказы дороже 28 000 — usersWithExpensiveOrders. \n",
    "\n",
    "Объединим их в таблице abnormalUsers.\n"
   ]
  },
  {
   "cell_type": "code",
   "execution_count": 46,
   "id": "81adc0c1",
   "metadata": {},
   "outputs": [
    {
     "data": {
      "text/plain": [
       "1099    148427295\n",
       "18      199603092\n",
       "928     204675465\n",
       "23      237748145\n",
       "37      249864742\n",
       "dtype: int64"
      ]
     },
     "execution_count": 46,
     "metadata": {},
     "output_type": "execute_result"
    }
   ],
   "source": [
    "usersWithManyOrders = pd.concat(\n",
    "    [\n",
    "        ordersByUsersA[ordersByUsersA['orders'] > ordersByUsersA.orders.quantile(0.95)]['userId'],\n",
    "        ordersByUsersB[ordersByUsersB['orders'] > ordersByUsersA.orders.quantile(0.95)]['userId'],\n",
    "    ],\n",
    "    axis=0,\n",
    ")\n",
    "usersWithExpensiveOrders = orders[orders['revenue'] > orders.revenue.quantile(0.95)]['visitorId']\n",
    "abnormalUsers = (\n",
    "    pd.concat([usersWithManyOrders, usersWithExpensiveOrders], axis=0)\n",
    "    .drop_duplicates()\n",
    "    .sort_values()\n",
    ")\n",
    "abnormalUsers.head()"
   ]
  },
  {
   "cell_type": "code",
   "execution_count": 47,
   "id": "955b0612",
   "metadata": {},
   "outputs": [
    {
     "data": {
      "text/plain": [
       "74"
      ]
     },
     "execution_count": 47,
     "metadata": {},
     "output_type": "execute_result"
    }
   ],
   "source": [
    "# Узнаем, сколько всего аномальных пользователей атрибутом shape\n",
    "abnormalUsers.shape[0] "
   ]
  },
  {
   "cell_type": "markdown",
   "id": "b010625e",
   "metadata": {},
   "source": [
    "74 аномальных пользователей"
   ]
  },
  {
   "cell_type": "code",
   "execution_count": 48,
   "id": "16c99eee",
   "metadata": {},
   "outputs": [],
   "source": [
    "# Посчитаем статистическую значимость различий в среднем количестве заказов между группами теста по очищенным данным.\n",
    "# Сначала подготовим выборки количества заказов по пользователям по группам теста\n",
    "sampleAFiltered = pd.concat(\n",
    "    [\n",
    "        ordersByUsersA[\n",
    "            np.logical_not(ordersByUsersA['userId'].isin(abnormalUsers))\n",
    "        ]['orders'],\n",
    "        pd.Series(\n",
    "            0,\n",
    "            index=np.arange(\n",
    "                data['visitorsPerDateA'].sum() - len(ordersByUsersA['orders'])\n",
    "            ),\n",
    "            name='orders',\n",
    "        ),\n",
    "    ],\n",
    "    axis=0,\n",
    ")\n",
    "\n",
    "sampleBFiltered = pd.concat(\n",
    "    [\n",
    "        ordersByUsersB[\n",
    "            np.logical_not(ordersByUsersB['userId'].isin(abnormalUsers))\n",
    "        ]['orders'],\n",
    "        pd.Series(\n",
    "            0,\n",
    "            index=np.arange(\n",
    "                data['visitorsPerDateB'].sum() - len(ordersByUsersB['orders'])\n",
    "            ),\n",
    "            name='orders',\n",
    "        ),\n",
    "    ],\n",
    "    axis=0,\n",
    ") "
   ]
  },
  {
   "cell_type": "code",
   "execution_count": 49,
   "id": "57383fd0",
   "metadata": {},
   "outputs": [
    {
     "data": {
      "text/plain": [
       "'p-value=0.006521'"
      ]
     },
     "execution_count": 49,
     "metadata": {},
     "output_type": "execute_result"
    }
   ],
   "source": [
    "# Применим статистический критерий Манна-Уитни к полученным выборкам\n",
    "'p-value={0:f}'.format(stats.mannwhitneyu(sampleAFiltered, sampleBFiltered)[1])"
   ]
  },
  {
   "cell_type": "code",
   "execution_count": 50,
   "id": "794f35ed",
   "metadata": {},
   "outputs": [
    {
     "data": {
      "text/plain": [
       "'Относительный выигрыш В/А=0.173'"
      ]
     },
     "execution_count": 50,
     "metadata": {},
     "output_type": "execute_result"
    }
   ],
   "source": [
    "'Относительный выигрыш В/А={0:.3f}'.format(sampleBFiltered.mean()/sampleAFiltered.mean()-1)"
   ]
  },
  {
   "cell_type": "markdown",
   "id": "a5b16715",
   "metadata": {},
   "source": [
    "#### Вывод\n",
    "\n",
    "Результаты по среднему количеству заказов практически не изменились"
   ]
  },
  {
   "cell_type": "code",
   "execution_count": 51,
   "id": "87cb0dee",
   "metadata": {},
   "outputs": [
    {
     "data": {
      "text/plain": [
       "'p-value=0.369241'"
      ]
     },
     "execution_count": 51,
     "metadata": {},
     "output_type": "execute_result"
    }
   ],
   "source": [
    "# посмотрим на результаты со средним чеком\n",
    "'p-value={0:f}'.format(\n",
    "        stats.mannwhitneyu(\n",
    "            orders[\n",
    "                np.logical_and(\n",
    "                    orders['group'] == 'A',\n",
    "                    np.logical_not(orders['visitorId'].isin(abnormalUsers)),\n",
    "                )\n",
    "            ]['revenue'],\n",
    "            orders[\n",
    "                np.logical_and(\n",
    "                    orders['group'] == 'B',\n",
    "                    np.logical_not(orders['visitorId'].isin(abnormalUsers)),\n",
    "                )\n",
    "            ]['revenue'],\n",
    "        )[1]\n",
    "    )\n"
   ]
  },
  {
   "cell_type": "code",
   "execution_count": 52,
   "id": "31d00af5",
   "metadata": {},
   "outputs": [
    {
     "data": {
      "text/plain": [
       "'Относительный выигрыш В/А=-0.020'"
      ]
     },
     "metadata": {},
     "output_type": "display_data"
    }
   ],
   "source": [
    "display(\n",
    "    \"Относительный выигрыш В/А={0:.3f}\".format(\n",
    "        orders[\n",
    "            np.logical_and(\n",
    "                orders['group'] == 'B',\n",
    "                np.logical_not(orders['visitorId'].isin(abnormalUsers)),\n",
    "            )\n",
    "        ]['revenue'].mean()\n",
    "        / orders[\n",
    "            np.logical_and(\n",
    "                orders['group'] == 'A',\n",
    "                np.logical_not(orders['visitorId'].isin(abnormalUsers)),\n",
    "            )\n",
    "        ]['revenue'].mean()\n",
    "        - 1\n",
    "    )\n",
    ") \n"
   ]
  },
  {
   "cell_type": "markdown",
   "id": "45acb682",
   "metadata": {},
   "source": [
    "#### Вывод\n",
    "\n",
    "P-value увеличился, но и разница между сегментами сократилась с 25,9% до -2%.\n",
    "\n",
    "Выбросы очень сильно повлияли на относительную разницу."
   ]
  },
  {
   "cell_type": "markdown",
   "id": "555f0685",
   "metadata": {},
   "source": [
    "**По очищенным данным построим график относительного различия для среднего чека\n",
    "и график относительного различия кумулятивных конверсий без анамалий, аналогично как мы делали это выше**"
   ]
  },
  {
   "cell_type": "code",
   "execution_count": 53,
   "id": "9de2919c",
   "metadata": {},
   "outputs": [
    {
     "name": "stdout",
     "output_type": "stream",
     "text": [
      "        date group  orders  buyers  revenue  visitors\n",
      "0 2019-08-01     A      18      17   112340       719\n",
      "1 2019-08-01     B      19      19    78258       713\n",
      "2 2019-08-02     A      37      35   204472      1338\n",
      "3 2019-08-02     B      40      39   171492      1294\n",
      "4 2019-08-03     A      61      59   316945      1845\n"
     ]
    }
   ],
   "source": [
    "# создаем массив уникальных пар значений дат и групп теста\n",
    "datesGroups_clean = orders_clean[['date','group']].drop_duplicates()\n",
    "\n",
    "# получаем агрегированные кумулятивные по дням данные о заказах \n",
    "ordersAggregated_clean = datesGroups_clean.apply(lambda x: orders_clean[np.logical_and(orders_clean['date'] <= x['date'], orders_clean['group'] == x['group'])].agg({'date' : 'max', 'group' : 'max', 'transactionId' : 'nunique', 'visitorId' : 'nunique', 'revenue' : 'sum'}), axis=1).sort_values(by=['date','group'])\n",
    "\n",
    "# получаем агрегированные кумулятивные по дням данные о посетителях интернет-магазина \n",
    "visitorsAggregated_clean = datesGroups_clean.apply(lambda x: visitors[np.logical_and(visitors['date'] <= x['date'], visitors['group'] == x['group'])].agg({'date' : 'max', 'group' : 'max', 'visitors' : 'sum'}), axis=1).sort_values(by=['date','group'])\n",
    "\n",
    "# объединяем кумулятивные данные в одной таблице и присваиваем ее столбцам понятные названия\n",
    "cumulativeData_clean = ordersAggregated_clean.merge(visitorsAggregated_clean, left_on=['date', 'group'], right_on=['date', 'group'])\n",
    "cumulativeData_clean.columns = ['date', 'group', 'orders', 'buyers', 'revenue', 'visitors']\n",
    "\n",
    "print(cumulativeData_clean.head(5)) \n"
   ]
  },
  {
   "cell_type": "code",
   "execution_count": 54,
   "id": "08e5e7ad",
   "metadata": {},
   "outputs": [],
   "source": [
    "# датафрейм с кумулятивным количеством заказов и кумулятивной выручкой по дням в группе А\n",
    "cumulativeRevenueA_clean = cumulativeData_clean[cumulativeData['group']=='A'][['date','revenue', 'orders']]\n",
    "# датафрейм с кумулятивным количеством заказов и кумулятивной выручкой по дням в группе B\n",
    "cumulativeRevenueB_clean = cumulativeData_clean[cumulativeData['group']=='B'][['date','revenue', 'orders']]\n",
    "# собираем данные в одном датафрейме\n",
    "mergedCumulativeRevenue_clean = cumulativeRevenueA_clean.merge(cumulativeRevenueB_clean, left_on='date', right_on='date', how='left', suffixes=['A', 'B'])"
   ]
  },
  {
   "cell_type": "code",
   "execution_count": 55,
   "id": "8a9da7d1",
   "metadata": {},
   "outputs": [
    {
     "data": {
      "text/plain": [
       "Text(0.5, 0, 'Дата')"
      ]
     },
     "execution_count": 55,
     "metadata": {},
     "output_type": "execute_result"
    },
    {
     "data": {
      "image/png": "[encoded data removed]",
      "text/plain": [
       "<Figure size 432x288 with 1 Axes>"
      ]
     },
     "metadata": {
      "needs_background": "light"
     },
     "output_type": "display_data"
    }
   ],
   "source": [
    "# cтроим отношение средних чеков\n",
    "plt.plot(mergedCumulativeRevenue_clean['date'], (mergedCumulativeRevenue_clean['revenueB']/mergedCumulativeRevenue_clean['ordersB'])/(mergedCumulativeRevenue_clean['revenueA']/mergedCumulativeRevenue_clean['ordersA'])-1)\n",
    "plt.title('Относительный прирост среднего чека группы B относительно группы A')\n",
    "# добавляем ось X\n",
    "plt.axhline(y=0, color='black', linestyle='--') \n",
    "plt.xticks(rotation = 45)\n",
    "plt.ylabel('Относительный прирост')\n",
    "plt.xlabel('Дата')"
   ]
  },
  {
   "cell_type": "code",
   "execution_count": 56,
   "id": "d94c3bd5",
   "metadata": {},
   "outputs": [],
   "source": [
    "# считаем кумулятивную конверсию\n",
    "cumulativeData_clean['conversion'] = cumulativeData_clean['orders']/cumulativeData_clean['visitors']\n",
    "# отделяем данные по группе A\n",
    "cumulativeDataA_clean = cumulativeData_clean[cumulativeData_clean['group']=='A']\n",
    "\n",
    "# отделяем данные по группе B\n",
    "cumulativeDataB_clean = cumulativeData_clean[cumulativeData_clean['group']=='B']\n"
   ]
  },
  {
   "cell_type": "code",
   "execution_count": 57,
   "id": "a15bf8e5",
   "metadata": {},
   "outputs": [
    {
     "data": {
      "text/plain": [
       "Text(0.5, 0, 'Дата')"
      ]
     },
     "execution_count": 57,
     "metadata": {},
     "output_type": "execute_result"
    },
    {
     "data": {
      "image/png": "[encoded data removed]",
      "text/plain": [
       "<Figure size 432x288 with 1 Axes>"
      ]
     },
     "metadata": {
      "needs_background": "light"
     },
     "output_type": "display_data"
    }
   ],
   "source": [
    "mergedCumulativeConversions_clean = cumulativeDataA_clean[['date','conversion']].merge(cumulativeDataB_clean[['date','conversion']], left_on='date', right_on='date', how='left', suffixes=['A', 'B'])\n",
    "\n",
    "plt.plot(mergedCumulativeConversions_clean['date'], mergedCumulativeConversions_clean['conversionB']/mergedCumulativeConversions_clean['conversionA']-1)\n",
    "\n",
    "plt.title('Относительный прирост конверсии группы B относительно группы A')\n",
    "plt.xticks(rotation = 45)\n",
    "plt.axhline(y=0, color='black', linestyle='--')\n",
    "plt.axhline(y=-0.1, color='grey', linestyle='--')\n",
    "plt.axis([dt.datetime(2019, 8, 1), dt.datetime(2019, 9, 1), -0.25, 0.25]) \n",
    "plt.ylabel('Относительный прирост')\n",
    "plt.xlabel('Дата')"
   ]
  },
  {
   "cell_type": "markdown",
   "id": "6539250c",
   "metadata": {},
   "source": [
    "### Выводы по А/В-тесту"
   ]
  },
  {
   "cell_type": "markdown",
   "id": "5f803cad",
   "metadata": {},
   "source": [
    "1. Есть статистически значимое различие по конверсии между группами как по сырым данным, так и после фильтрации аномалий.\n",
    "2. По сырым данным нет статистически значимого различия по среднему чеку между группами. \n",
    "3. График различия конверсии между группами сообщает, что результаты группы B лучше группы A: имеют тенденцию к росту.\n",
    "4. График различия среднего чека до фильтрации аномалий колеблется: именно благодаря ему мы нашли аномалии. Сделать из этого графика определённые выводы нельзя.\n",
    "5. График различия среднего чека после фильтрации постепенно стабилизировался около 0 - значимых различий между средними чеками в разных группах нет.\n",
    "\n",
    "**Проанализировав тест, можно сказать, что группа B как минимум не хуже группы А: конверсия статистически выше, а разницы по среднему чеку нет. Поэтому тут можно или же выкатить группу B как победителя или же остановить тест и начать сначала определив новую продолжительность и размер выборки.**"
   ]
  },
  {
   "cell_type": "code",
   "execution_count": null,
   "id": "787c3a4e",
   "metadata": {},
   "outputs": [],
   "source": []
  }
 ],
 "metadata": {
  "ExecuteTimeLog": [
   {
    "duration": 1267,
    "start_time": "2022-08-24T16:13:02.315Z"
   },
   {
    "duration": 58,
    "start_time": "2022-08-24T16:13:03.584Z"
   },
   {
    "duration": 11,
    "start_time": "2022-08-24T16:13:03.644Z"
   },
   {
    "duration": 7,
    "start_time": "2022-08-24T16:13:03.656Z"
   },
   {
    "duration": 5,
    "start_time": "2022-08-24T16:13:03.664Z"
   },
   {
    "duration": 7,
    "start_time": "2022-08-24T16:13:03.671Z"
   },
   {
    "duration": 10,
    "start_time": "2022-08-24T16:13:03.680Z"
   },
   {
    "duration": 6,
    "start_time": "2022-08-24T16:13:03.692Z"
   },
   {
    "duration": 8,
    "start_time": "2022-08-24T16:13:03.700Z"
   },
   {
    "duration": 5,
    "start_time": "2022-08-24T16:13:03.711Z"
   },
   {
    "duration": 5,
    "start_time": "2022-08-24T16:13:03.718Z"
   },
   {
    "duration": 9,
    "start_time": "2022-08-24T16:13:03.725Z"
   },
   {
    "duration": 34,
    "start_time": "2022-08-24T16:13:03.736Z"
   },
   {
    "duration": 10,
    "start_time": "2022-08-24T16:13:03.772Z"
   },
   {
    "duration": 93,
    "start_time": "2022-08-24T16:13:03.783Z"
   },
   {
    "duration": 8,
    "start_time": "2022-08-24T16:13:03.878Z"
   },
   {
    "duration": 15,
    "start_time": "2022-08-24T16:13:03.887Z"
   },
   {
    "duration": 17,
    "start_time": "2022-08-24T16:13:03.904Z"
   },
   {
    "duration": 57,
    "start_time": "2022-08-24T16:13:03.922Z"
   },
   {
    "duration": 6,
    "start_time": "2022-08-24T16:13:03.981Z"
   },
   {
    "duration": 29,
    "start_time": "2022-08-24T16:13:03.989Z"
   },
   {
    "duration": 11,
    "start_time": "2022-08-24T16:13:04.019Z"
   },
   {
    "duration": 10,
    "start_time": "2022-08-24T16:13:04.032Z"
   },
   {
    "duration": 14,
    "start_time": "2022-08-24T16:13:04.044Z"
   },
   {
    "duration": 166,
    "start_time": "2022-08-24T16:13:04.060Z"
   },
   {
    "duration": 129,
    "start_time": "2022-08-24T16:13:04.228Z"
   },
   {
    "duration": 13,
    "start_time": "2022-08-24T16:13:04.359Z"
   },
   {
    "duration": 6,
    "start_time": "2022-08-24T16:13:04.376Z"
   },
   {
    "duration": 8,
    "start_time": "2022-08-24T16:13:04.384Z"
   },
   {
    "duration": 277,
    "start_time": "2022-08-24T16:13:04.394Z"
   },
   {
    "duration": 184,
    "start_time": "2022-08-24T16:13:04.673Z"
   },
   {
    "duration": 5,
    "start_time": "2022-08-24T16:13:04.859Z"
   },
   {
    "duration": 353,
    "start_time": "2022-08-24T16:13:04.865Z"
   },
   {
    "duration": 4,
    "start_time": "2022-08-24T16:13:05.221Z"
   },
   {
    "duration": 15,
    "start_time": "2022-08-24T16:13:05.227Z"
   },
   {
    "duration": 343,
    "start_time": "2022-08-24T16:13:05.245Z"
   },
   {
    "duration": 0,
    "start_time": "2022-08-24T16:13:05.590Z"
   },
   {
    "duration": 0,
    "start_time": "2022-08-24T16:13:05.591Z"
   },
   {
    "duration": 0,
    "start_time": "2022-08-24T16:13:05.592Z"
   },
   {
    "duration": 0,
    "start_time": "2022-08-24T16:13:05.594Z"
   },
   {
    "duration": 0,
    "start_time": "2022-08-24T16:13:05.596Z"
   },
   {
    "duration": 0,
    "start_time": "2022-08-24T16:13:05.597Z"
   },
   {
    "duration": 0,
    "start_time": "2022-08-24T16:13:05.599Z"
   },
   {
    "duration": 0,
    "start_time": "2022-08-24T16:13:05.600Z"
   },
   {
    "duration": 0,
    "start_time": "2022-08-24T16:13:05.602Z"
   },
   {
    "duration": 0,
    "start_time": "2022-08-24T16:13:05.604Z"
   },
   {
    "duration": 0,
    "start_time": "2022-08-24T16:13:05.606Z"
   },
   {
    "duration": 0,
    "start_time": "2022-08-24T16:13:05.607Z"
   },
   {
    "duration": 0,
    "start_time": "2022-08-24T16:13:05.609Z"
   },
   {
    "duration": 0,
    "start_time": "2022-08-24T16:13:05.610Z"
   },
   {
    "duration": 0,
    "start_time": "2022-08-24T16:13:05.612Z"
   },
   {
    "duration": 0,
    "start_time": "2022-08-24T16:13:05.613Z"
   },
   {
    "duration": 0,
    "start_time": "2022-08-24T16:13:05.614Z"
   },
   {
    "duration": 0,
    "start_time": "2022-08-24T16:13:05.615Z"
   },
   {
    "duration": 0,
    "start_time": "2022-08-24T16:13:05.616Z"
   },
   {
    "duration": 0,
    "start_time": "2022-08-24T16:13:05.617Z"
   },
   {
    "duration": 0,
    "start_time": "2022-08-24T16:13:05.657Z"
   },
   {
    "duration": 0,
    "start_time": "2022-08-24T16:13:05.659Z"
   },
   {
    "duration": 0,
    "start_time": "2022-08-24T16:13:05.660Z"
   },
   {
    "duration": 0,
    "start_time": "2022-08-24T16:13:05.662Z"
   },
   {
    "duration": 0,
    "start_time": "2022-08-24T16:13:05.664Z"
   },
   {
    "duration": 0,
    "start_time": "2022-08-24T16:13:05.665Z"
   },
   {
    "duration": 0,
    "start_time": "2022-08-24T16:13:05.666Z"
   },
   {
    "duration": 187,
    "start_time": "2022-08-24T16:13:43.219Z"
   },
   {
    "duration": 197,
    "start_time": "2022-08-24T16:13:52.812Z"
   },
   {
    "duration": 293,
    "start_time": "2022-08-24T16:13:53.486Z"
   },
   {
    "duration": 11,
    "start_time": "2022-08-24T16:13:54.246Z"
   },
   {
    "duration": 117,
    "start_time": "2022-08-24T16:13:54.652Z"
   },
   {
    "duration": 4,
    "start_time": "2022-08-24T16:13:55.078Z"
   },
   {
    "duration": 136,
    "start_time": "2022-08-24T16:13:55.583Z"
   },
   {
    "duration": 4,
    "start_time": "2022-08-24T16:13:55.916Z"
   },
   {
    "duration": 298,
    "start_time": "2022-08-24T16:13:56.594Z"
   },
   {
    "duration": 121,
    "start_time": "2022-08-24T16:13:56.943Z"
   },
   {
    "duration": 6,
    "start_time": "2022-08-24T16:13:57.303Z"
   },
   {
    "duration": 21,
    "start_time": "2022-08-24T16:13:57.896Z"
   },
   {
    "duration": 5,
    "start_time": "2022-08-24T16:13:58.824Z"
   },
   {
    "duration": 9,
    "start_time": "2022-08-24T16:13:59.546Z"
   },
   {
    "duration": 6,
    "start_time": "2022-08-24T16:13:59.731Z"
   },
   {
    "duration": 11,
    "start_time": "2022-08-24T16:14:00.601Z"
   },
   {
    "duration": 4,
    "start_time": "2022-08-24T16:14:00.776Z"
   },
   {
    "duration": 9,
    "start_time": "2022-08-24T16:14:01.252Z"
   },
   {
    "duration": 20,
    "start_time": "2022-08-24T16:14:01.429Z"
   },
   {
    "duration": 5,
    "start_time": "2022-08-24T16:14:01.643Z"
   },
   {
    "duration": 11,
    "start_time": "2022-08-24T16:14:02.016Z"
   },
   {
    "duration": 10,
    "start_time": "2022-08-24T16:14:02.205Z"
   },
   {
    "duration": 11,
    "start_time": "2022-08-24T16:14:02.764Z"
   },
   {
    "duration": 6,
    "start_time": "2022-08-24T16:14:02.950Z"
   },
   {
    "duration": 284,
    "start_time": "2022-08-24T16:14:03.131Z"
   },
   {
    "duration": 10,
    "start_time": "2022-08-24T16:14:03.417Z"
   },
   {
    "duration": 236,
    "start_time": "2022-08-24T16:14:03.501Z"
   },
   {
    "duration": 6,
    "start_time": "2022-08-24T16:14:03.871Z"
   },
   {
    "duration": 336,
    "start_time": "2022-08-24T16:14:04.027Z"
   },
   {
    "duration": 308,
    "start_time": "2022-08-24T16:18:48.238Z"
   },
   {
    "duration": 1425,
    "start_time": "2022-08-24T17:04:24.525Z"
   },
   {
    "duration": 64,
    "start_time": "2022-08-24T17:04:25.952Z"
   },
   {
    "duration": 13,
    "start_time": "2022-08-24T17:04:26.018Z"
   },
   {
    "duration": 4,
    "start_time": "2022-08-24T17:04:26.032Z"
   },
   {
    "duration": 4,
    "start_time": "2022-08-24T17:04:26.039Z"
   },
   {
    "duration": 5,
    "start_time": "2022-08-24T17:04:26.045Z"
   },
   {
    "duration": 8,
    "start_time": "2022-08-24T17:04:26.051Z"
   },
   {
    "duration": 6,
    "start_time": "2022-08-24T17:04:26.061Z"
   },
   {
    "duration": 4,
    "start_time": "2022-08-24T17:04:26.103Z"
   },
   {
    "duration": 6,
    "start_time": "2022-08-24T17:04:26.109Z"
   },
   {
    "duration": 7,
    "start_time": "2022-08-24T17:04:26.117Z"
   },
   {
    "duration": 6,
    "start_time": "2022-08-24T17:04:26.126Z"
   },
   {
    "duration": 15,
    "start_time": "2022-08-24T17:04:26.134Z"
   },
   {
    "duration": 56,
    "start_time": "2022-08-24T17:04:26.153Z"
   },
   {
    "duration": 89,
    "start_time": "2022-08-24T17:04:26.210Z"
   },
   {
    "duration": 8,
    "start_time": "2022-08-24T17:04:26.301Z"
   },
   {
    "duration": 29,
    "start_time": "2022-08-24T17:04:26.311Z"
   },
   {
    "duration": 14,
    "start_time": "2022-08-24T17:04:26.342Z"
   },
   {
    "duration": 66,
    "start_time": "2022-08-24T17:04:26.358Z"
   },
   {
    "duration": 7,
    "start_time": "2022-08-24T17:04:26.426Z"
   },
   {
    "duration": 17,
    "start_time": "2022-08-24T17:04:26.435Z"
   },
   {
    "duration": 12,
    "start_time": "2022-08-24T17:04:26.454Z"
   },
   {
    "duration": 7,
    "start_time": "2022-08-24T17:04:26.467Z"
   },
   {
    "duration": 28,
    "start_time": "2022-08-24T17:04:26.475Z"
   },
   {
    "duration": 180,
    "start_time": "2022-08-24T17:04:26.505Z"
   },
   {
    "duration": 132,
    "start_time": "2022-08-24T17:04:26.687Z"
   },
   {
    "duration": 13,
    "start_time": "2022-08-24T17:04:26.821Z"
   },
   {
    "duration": 10,
    "start_time": "2022-08-24T17:04:26.836Z"
   },
   {
    "duration": 6,
    "start_time": "2022-08-24T17:04:26.848Z"
   },
   {
    "duration": 295,
    "start_time": "2022-08-24T17:04:26.856Z"
   },
   {
    "duration": 205,
    "start_time": "2022-08-24T17:04:27.152Z"
   },
   {
    "duration": 7,
    "start_time": "2022-08-24T17:04:27.360Z"
   },
   {
    "duration": 379,
    "start_time": "2022-08-24T17:04:27.369Z"
   },
   {
    "duration": 4,
    "start_time": "2022-08-24T17:04:27.750Z"
   },
   {
    "duration": 22,
    "start_time": "2022-08-24T17:04:27.756Z"
   },
   {
    "duration": 305,
    "start_time": "2022-08-24T17:04:27.780Z"
   },
   {
    "duration": 0,
    "start_time": "2022-08-24T17:04:28.089Z"
   },
   {
    "duration": 0,
    "start_time": "2022-08-24T17:04:28.090Z"
   },
   {
    "duration": 0,
    "start_time": "2022-08-24T17:04:28.092Z"
   },
   {
    "duration": 0,
    "start_time": "2022-08-24T17:04:28.103Z"
   },
   {
    "duration": 0,
    "start_time": "2022-08-24T17:04:28.104Z"
   },
   {
    "duration": 0,
    "start_time": "2022-08-24T17:04:28.106Z"
   },
   {
    "duration": 0,
    "start_time": "2022-08-24T17:04:28.107Z"
   },
   {
    "duration": 0,
    "start_time": "2022-08-24T17:04:28.108Z"
   },
   {
    "duration": 0,
    "start_time": "2022-08-24T17:04:28.110Z"
   },
   {
    "duration": 0,
    "start_time": "2022-08-24T17:04:28.110Z"
   },
   {
    "duration": 0,
    "start_time": "2022-08-24T17:04:28.112Z"
   },
   {
    "duration": 0,
    "start_time": "2022-08-24T17:04:28.113Z"
   },
   {
    "duration": 0,
    "start_time": "2022-08-24T17:04:28.114Z"
   },
   {
    "duration": 0,
    "start_time": "2022-08-24T17:04:28.115Z"
   },
   {
    "duration": 0,
    "start_time": "2022-08-24T17:04:28.116Z"
   },
   {
    "duration": 0,
    "start_time": "2022-08-24T17:04:28.117Z"
   },
   {
    "duration": 0,
    "start_time": "2022-08-24T17:04:28.118Z"
   },
   {
    "duration": 0,
    "start_time": "2022-08-24T17:04:28.120Z"
   },
   {
    "duration": 0,
    "start_time": "2022-08-24T17:04:28.121Z"
   },
   {
    "duration": 0,
    "start_time": "2022-08-24T17:04:28.122Z"
   },
   {
    "duration": 0,
    "start_time": "2022-08-24T17:04:28.123Z"
   },
   {
    "duration": 0,
    "start_time": "2022-08-24T17:04:28.124Z"
   },
   {
    "duration": 0,
    "start_time": "2022-08-24T17:04:28.125Z"
   },
   {
    "duration": 0,
    "start_time": "2022-08-24T17:04:28.126Z"
   },
   {
    "duration": 0,
    "start_time": "2022-08-24T17:04:28.127Z"
   },
   {
    "duration": 0,
    "start_time": "2022-08-24T17:04:28.128Z"
   },
   {
    "duration": 0,
    "start_time": "2022-08-24T17:04:28.129Z"
   },
   {
    "duration": 79,
    "start_time": "2022-08-24T17:07:01.088Z"
   },
   {
    "duration": 204,
    "start_time": "2022-08-24T17:07:06.174Z"
   },
   {
    "duration": 1188,
    "start_time": "2022-08-24T17:07:47.837Z"
   },
   {
    "duration": 31,
    "start_time": "2022-08-24T17:07:49.027Z"
   },
   {
    "duration": 16,
    "start_time": "2022-08-24T17:07:49.060Z"
   },
   {
    "duration": 25,
    "start_time": "2022-08-24T17:07:49.080Z"
   },
   {
    "duration": 10,
    "start_time": "2022-08-24T17:07:49.108Z"
   },
   {
    "duration": 6,
    "start_time": "2022-08-24T17:07:49.120Z"
   },
   {
    "duration": 6,
    "start_time": "2022-08-24T17:07:49.128Z"
   },
   {
    "duration": 6,
    "start_time": "2022-08-24T17:07:49.135Z"
   },
   {
    "duration": 8,
    "start_time": "2022-08-24T17:07:49.143Z"
   },
   {
    "duration": 11,
    "start_time": "2022-08-24T17:07:49.154Z"
   },
   {
    "duration": 38,
    "start_time": "2022-08-24T17:07:49.166Z"
   },
   {
    "duration": 8,
    "start_time": "2022-08-24T17:07:49.206Z"
   },
   {
    "duration": 14,
    "start_time": "2022-08-24T17:07:49.216Z"
   },
   {
    "duration": 11,
    "start_time": "2022-08-24T17:07:49.232Z"
   },
   {
    "duration": 39,
    "start_time": "2022-08-24T17:07:49.245Z"
   },
   {
    "duration": 8,
    "start_time": "2022-08-24T17:07:49.286Z"
   },
   {
    "duration": 16,
    "start_time": "2022-08-24T17:07:49.303Z"
   },
   {
    "duration": 37,
    "start_time": "2022-08-24T17:07:49.321Z"
   },
   {
    "duration": 38,
    "start_time": "2022-08-24T17:07:49.360Z"
   },
   {
    "duration": 33,
    "start_time": "2022-08-24T17:07:49.400Z"
   },
   {
    "duration": 32,
    "start_time": "2022-08-24T17:07:49.435Z"
   },
   {
    "duration": 22,
    "start_time": "2022-08-24T17:07:49.469Z"
   },
   {
    "duration": 27,
    "start_time": "2022-08-24T17:07:49.493Z"
   },
   {
    "duration": 34,
    "start_time": "2022-08-24T17:07:49.523Z"
   },
   {
    "duration": 216,
    "start_time": "2022-08-24T17:07:49.559Z"
   },
   {
    "duration": 145,
    "start_time": "2022-08-24T17:07:49.777Z"
   },
   {
    "duration": 14,
    "start_time": "2022-08-24T17:07:49.924Z"
   },
   {
    "duration": 25,
    "start_time": "2022-08-24T17:07:49.943Z"
   },
   {
    "duration": 40,
    "start_time": "2022-08-24T17:07:49.970Z"
   },
   {
    "duration": 313,
    "start_time": "2022-08-24T17:07:50.012Z"
   },
   {
    "duration": 224,
    "start_time": "2022-08-24T17:07:50.327Z"
   },
   {
    "duration": 6,
    "start_time": "2022-08-24T17:07:50.554Z"
   },
   {
    "duration": 366,
    "start_time": "2022-08-24T17:07:50.562Z"
   },
   {
    "duration": 5,
    "start_time": "2022-08-24T17:07:50.931Z"
   },
   {
    "duration": 31,
    "start_time": "2022-08-24T17:07:50.938Z"
   },
   {
    "duration": 214,
    "start_time": "2022-08-24T17:07:50.971Z"
   },
   {
    "duration": 441,
    "start_time": "2022-08-24T17:07:51.187Z"
   },
   {
    "duration": 0,
    "start_time": "2022-08-24T17:07:51.630Z"
   },
   {
    "duration": 0,
    "start_time": "2022-08-24T17:07:51.632Z"
   },
   {
    "duration": 0,
    "start_time": "2022-08-24T17:07:51.633Z"
   },
   {
    "duration": 0,
    "start_time": "2022-08-24T17:07:51.634Z"
   },
   {
    "duration": 0,
    "start_time": "2022-08-24T17:07:51.636Z"
   },
   {
    "duration": 0,
    "start_time": "2022-08-24T17:07:51.637Z"
   },
   {
    "duration": 0,
    "start_time": "2022-08-24T17:07:51.639Z"
   },
   {
    "duration": 0,
    "start_time": "2022-08-24T17:07:51.640Z"
   },
   {
    "duration": 0,
    "start_time": "2022-08-24T17:07:51.642Z"
   },
   {
    "duration": 0,
    "start_time": "2022-08-24T17:07:51.643Z"
   },
   {
    "duration": 0,
    "start_time": "2022-08-24T17:07:51.644Z"
   },
   {
    "duration": 0,
    "start_time": "2022-08-24T17:07:51.645Z"
   },
   {
    "duration": 0,
    "start_time": "2022-08-24T17:07:51.647Z"
   },
   {
    "duration": 0,
    "start_time": "2022-08-24T17:07:51.648Z"
   },
   {
    "duration": 0,
    "start_time": "2022-08-24T17:07:51.649Z"
   },
   {
    "duration": 0,
    "start_time": "2022-08-24T17:07:51.650Z"
   },
   {
    "duration": 0,
    "start_time": "2022-08-24T17:07:51.651Z"
   },
   {
    "duration": 0,
    "start_time": "2022-08-24T17:07:51.652Z"
   },
   {
    "duration": 0,
    "start_time": "2022-08-24T17:07:51.653Z"
   },
   {
    "duration": 0,
    "start_time": "2022-08-24T17:07:51.654Z"
   },
   {
    "duration": 0,
    "start_time": "2022-08-24T17:07:51.702Z"
   },
   {
    "duration": 0,
    "start_time": "2022-08-24T17:07:51.704Z"
   },
   {
    "duration": 0,
    "start_time": "2022-08-24T17:07:51.705Z"
   },
   {
    "duration": 0,
    "start_time": "2022-08-24T17:07:51.706Z"
   },
   {
    "duration": 0,
    "start_time": "2022-08-24T17:07:51.707Z"
   },
   {
    "duration": 0,
    "start_time": "2022-08-24T17:07:51.708Z"
   },
   {
    "duration": 85,
    "start_time": "2022-08-24T17:08:45.899Z"
   },
   {
    "duration": 273,
    "start_time": "2022-08-24T17:08:54.510Z"
   },
   {
    "duration": 1107,
    "start_time": "2022-08-24T17:09:03.246Z"
   },
   {
    "duration": 29,
    "start_time": "2022-08-24T17:09:04.355Z"
   },
   {
    "duration": 12,
    "start_time": "2022-08-24T17:09:04.386Z"
   },
   {
    "duration": 8,
    "start_time": "2022-08-24T17:09:04.400Z"
   },
   {
    "duration": 7,
    "start_time": "2022-08-24T17:09:04.410Z"
   },
   {
    "duration": 23,
    "start_time": "2022-08-24T17:09:04.419Z"
   },
   {
    "duration": 13,
    "start_time": "2022-08-24T17:09:04.444Z"
   },
   {
    "duration": 7,
    "start_time": "2022-08-24T17:09:04.459Z"
   },
   {
    "duration": 11,
    "start_time": "2022-08-24T17:09:04.468Z"
   },
   {
    "duration": 8,
    "start_time": "2022-08-24T17:09:04.481Z"
   },
   {
    "duration": 4,
    "start_time": "2022-08-24T17:09:04.503Z"
   },
   {
    "duration": 16,
    "start_time": "2022-08-24T17:09:04.509Z"
   },
   {
    "duration": 15,
    "start_time": "2022-08-24T17:09:04.527Z"
   },
   {
    "duration": 14,
    "start_time": "2022-08-24T17:09:04.544Z"
   },
   {
    "duration": 44,
    "start_time": "2022-08-24T17:09:04.560Z"
   },
   {
    "duration": 10,
    "start_time": "2022-08-24T17:09:04.605Z"
   },
   {
    "duration": 18,
    "start_time": "2022-08-24T17:09:04.616Z"
   },
   {
    "duration": 15,
    "start_time": "2022-08-24T17:09:04.636Z"
   },
   {
    "duration": 20,
    "start_time": "2022-08-24T17:09:04.653Z"
   },
   {
    "duration": 7,
    "start_time": "2022-08-24T17:09:04.675Z"
   },
   {
    "duration": 25,
    "start_time": "2022-08-24T17:09:04.683Z"
   },
   {
    "duration": 11,
    "start_time": "2022-08-24T17:09:04.710Z"
   },
   {
    "duration": 9,
    "start_time": "2022-08-24T17:09:04.723Z"
   },
   {
    "duration": 12,
    "start_time": "2022-08-24T17:09:04.734Z"
   },
   {
    "duration": 214,
    "start_time": "2022-08-24T17:09:04.749Z"
   },
   {
    "duration": 132,
    "start_time": "2022-08-24T17:09:04.965Z"
   },
   {
    "duration": 15,
    "start_time": "2022-08-24T17:09:05.099Z"
   },
   {
    "duration": 5,
    "start_time": "2022-08-24T17:09:05.120Z"
   },
   {
    "duration": 12,
    "start_time": "2022-08-24T17:09:05.127Z"
   },
   {
    "duration": 304,
    "start_time": "2022-08-24T17:09:05.141Z"
   },
   {
    "duration": 195,
    "start_time": "2022-08-24T17:09:05.446Z"
   },
   {
    "duration": 6,
    "start_time": "2022-08-24T17:09:05.643Z"
   },
   {
    "duration": 288,
    "start_time": "2022-08-24T17:09:05.651Z"
   },
   {
    "duration": 5,
    "start_time": "2022-08-24T17:09:05.941Z"
   },
   {
    "duration": 9,
    "start_time": "2022-08-24T17:09:05.948Z"
   },
   {
    "duration": 195,
    "start_time": "2022-08-24T17:09:05.959Z"
   },
   {
    "duration": 337,
    "start_time": "2022-08-24T17:09:06.156Z"
   },
   {
    "duration": 15,
    "start_time": "2022-08-24T17:09:06.495Z"
   },
   {
    "duration": 135,
    "start_time": "2022-08-24T17:09:06.512Z"
   },
   {
    "duration": 5,
    "start_time": "2022-08-24T17:09:06.649Z"
   },
   {
    "duration": 155,
    "start_time": "2022-08-24T17:09:06.655Z"
   },
   {
    "duration": 5,
    "start_time": "2022-08-24T17:09:06.812Z"
   },
   {
    "duration": 256,
    "start_time": "2022-08-24T17:09:06.819Z"
   },
   {
    "duration": 155,
    "start_time": "2022-08-24T17:09:07.077Z"
   },
   {
    "duration": 9,
    "start_time": "2022-08-24T17:09:07.234Z"
   },
   {
    "duration": 28,
    "start_time": "2022-08-24T17:09:07.245Z"
   },
   {
    "duration": 29,
    "start_time": "2022-08-24T17:09:07.275Z"
   },
   {
    "duration": 10,
    "start_time": "2022-08-24T17:09:07.306Z"
   },
   {
    "duration": 9,
    "start_time": "2022-08-24T17:09:07.319Z"
   },
   {
    "duration": 13,
    "start_time": "2022-08-24T17:09:07.330Z"
   },
   {
    "duration": 11,
    "start_time": "2022-08-24T17:09:07.345Z"
   },
   {
    "duration": 51,
    "start_time": "2022-08-24T17:09:07.358Z"
   },
   {
    "duration": 22,
    "start_time": "2022-08-24T17:09:07.411Z"
   },
   {
    "duration": 6,
    "start_time": "2022-08-24T17:09:07.435Z"
   },
   {
    "duration": 24,
    "start_time": "2022-08-24T17:09:07.443Z"
   },
   {
    "duration": 35,
    "start_time": "2022-08-24T17:09:07.469Z"
   },
   {
    "duration": 12,
    "start_time": "2022-08-24T17:09:07.505Z"
   },
   {
    "duration": 7,
    "start_time": "2022-08-24T17:09:07.519Z"
   },
   {
    "duration": 308,
    "start_time": "2022-08-24T17:09:07.528Z"
   },
   {
    "duration": 9,
    "start_time": "2022-08-24T17:09:07.838Z"
   },
   {
    "duration": 359,
    "start_time": "2022-08-24T17:09:07.849Z"
   },
   {
    "duration": 6,
    "start_time": "2022-08-24T17:09:08.210Z"
   },
   {
    "duration": 405,
    "start_time": "2022-08-24T17:09:08.218Z"
   },
   {
    "duration": 3,
    "start_time": "2022-08-24T17:35:29.765Z"
   },
   {
    "duration": 3,
    "start_time": "2022-08-24T17:35:54.166Z"
   },
   {
    "duration": 5,
    "start_time": "2022-08-24T17:35:59.413Z"
   },
   {
    "duration": 9,
    "start_time": "2022-08-24T17:36:10.880Z"
   },
   {
    "duration": 4,
    "start_time": "2022-08-24T17:36:21.589Z"
   },
   {
    "duration": 3,
    "start_time": "2022-08-24T17:38:18.558Z"
   },
   {
    "duration": 1163,
    "start_time": "2022-08-24T17:38:24.801Z"
   },
   {
    "duration": 30,
    "start_time": "2022-08-24T17:38:25.966Z"
   },
   {
    "duration": 3,
    "start_time": "2022-08-24T17:38:25.997Z"
   },
   {
    "duration": 20,
    "start_time": "2022-08-24T17:38:26.002Z"
   },
   {
    "duration": 4,
    "start_time": "2022-08-24T17:38:26.024Z"
   },
   {
    "duration": 14,
    "start_time": "2022-08-24T17:38:26.030Z"
   },
   {
    "duration": 9,
    "start_time": "2022-08-24T17:38:26.047Z"
   },
   {
    "duration": 7,
    "start_time": "2022-08-24T17:38:26.058Z"
   },
   {
    "duration": 8,
    "start_time": "2022-08-24T17:38:26.067Z"
   },
   {
    "duration": 28,
    "start_time": "2022-08-24T17:38:26.078Z"
   },
   {
    "duration": 8,
    "start_time": "2022-08-24T17:38:26.108Z"
   },
   {
    "duration": 9,
    "start_time": "2022-08-24T17:38:26.118Z"
   },
   {
    "duration": 5,
    "start_time": "2022-08-24T17:38:26.129Z"
   },
   {
    "duration": 16,
    "start_time": "2022-08-24T17:38:26.136Z"
   },
   {
    "duration": 12,
    "start_time": "2022-08-24T17:38:26.154Z"
   },
   {
    "duration": 72,
    "start_time": "2022-08-24T17:38:26.168Z"
   },
   {
    "duration": 8,
    "start_time": "2022-08-24T17:38:26.242Z"
   },
   {
    "duration": 14,
    "start_time": "2022-08-24T17:38:26.252Z"
   },
   {
    "duration": 23,
    "start_time": "2022-08-24T17:38:26.268Z"
   },
   {
    "duration": 40,
    "start_time": "2022-08-24T17:38:26.293Z"
   },
   {
    "duration": 7,
    "start_time": "2022-08-24T17:38:26.334Z"
   },
   {
    "duration": 11,
    "start_time": "2022-08-24T17:38:26.343Z"
   },
   {
    "duration": 15,
    "start_time": "2022-08-24T17:38:26.355Z"
   },
   {
    "duration": 17,
    "start_time": "2022-08-24T17:38:26.371Z"
   },
   {
    "duration": 52,
    "start_time": "2022-08-24T17:38:26.391Z"
   },
   {
    "duration": 182,
    "start_time": "2022-08-24T17:38:26.446Z"
   },
   {
    "duration": 131,
    "start_time": "2022-08-24T17:38:26.629Z"
   },
   {
    "duration": 14,
    "start_time": "2022-08-24T17:38:26.765Z"
   },
   {
    "duration": 24,
    "start_time": "2022-08-24T17:38:26.781Z"
   },
   {
    "duration": 5,
    "start_time": "2022-08-24T17:38:26.807Z"
   },
   {
    "duration": 294,
    "start_time": "2022-08-24T17:38:26.814Z"
   },
   {
    "duration": 202,
    "start_time": "2022-08-24T17:38:27.109Z"
   },
   {
    "duration": 7,
    "start_time": "2022-08-24T17:38:27.313Z"
   },
   {
    "duration": 305,
    "start_time": "2022-08-24T17:38:27.322Z"
   },
   {
    "duration": 4,
    "start_time": "2022-08-24T17:38:27.629Z"
   },
   {
    "duration": 9,
    "start_time": "2022-08-24T17:38:27.635Z"
   },
   {
    "duration": 201,
    "start_time": "2022-08-24T17:38:27.646Z"
   },
   {
    "duration": 280,
    "start_time": "2022-08-24T17:38:27.849Z"
   },
   {
    "duration": 13,
    "start_time": "2022-08-24T17:38:28.131Z"
   },
   {
    "duration": 143,
    "start_time": "2022-08-24T17:38:28.146Z"
   },
   {
    "duration": 15,
    "start_time": "2022-08-24T17:38:28.291Z"
   },
   {
    "duration": 159,
    "start_time": "2022-08-24T17:38:28.308Z"
   },
   {
    "duration": 6,
    "start_time": "2022-08-24T17:38:28.469Z"
   },
   {
    "duration": 251,
    "start_time": "2022-08-24T17:38:28.477Z"
   },
   {
    "duration": 176,
    "start_time": "2022-08-24T17:38:28.730Z"
   },
   {
    "duration": 9,
    "start_time": "2022-08-24T17:38:28.908Z"
   },
   {
    "duration": 39,
    "start_time": "2022-08-24T17:38:28.919Z"
   },
   {
    "duration": 5,
    "start_time": "2022-08-24T17:38:28.960Z"
   },
   {
    "duration": 36,
    "start_time": "2022-08-24T17:38:28.967Z"
   },
   {
    "duration": 9,
    "start_time": "2022-08-24T17:38:29.005Z"
   },
   {
    "duration": 18,
    "start_time": "2022-08-24T17:38:29.016Z"
   },
   {
    "duration": 23,
    "start_time": "2022-08-24T17:38:29.036Z"
   },
   {
    "duration": 20,
    "start_time": "2022-08-24T17:38:29.061Z"
   },
   {
    "duration": 48,
    "start_time": "2022-08-24T17:38:29.084Z"
   },
   {
    "duration": 6,
    "start_time": "2022-08-24T17:38:29.134Z"
   },
   {
    "duration": 24,
    "start_time": "2022-08-24T17:38:29.141Z"
   },
   {
    "duration": 41,
    "start_time": "2022-08-24T17:38:29.168Z"
   },
   {
    "duration": 12,
    "start_time": "2022-08-24T17:38:29.211Z"
   },
   {
    "duration": 9,
    "start_time": "2022-08-24T17:38:29.225Z"
   },
   {
    "duration": 332,
    "start_time": "2022-08-24T17:38:29.236Z"
   },
   {
    "duration": 9,
    "start_time": "2022-08-24T17:38:29.570Z"
   },
   {
    "duration": 368,
    "start_time": "2022-08-24T17:38:29.581Z"
   },
   {
    "duration": 7,
    "start_time": "2022-08-24T17:38:29.951Z"
   },
   {
    "duration": 438,
    "start_time": "2022-08-24T17:38:29.959Z"
   },
   {
    "duration": 1077,
    "start_time": "2022-08-24T17:41:11.454Z"
   },
   {
    "duration": 29,
    "start_time": "2022-08-24T17:41:12.533Z"
   },
   {
    "duration": 3,
    "start_time": "2022-08-24T17:41:12.564Z"
   },
   {
    "duration": 14,
    "start_time": "2022-08-24T17:41:12.569Z"
   },
   {
    "duration": 14,
    "start_time": "2022-08-24T17:41:12.585Z"
   },
   {
    "duration": 13,
    "start_time": "2022-08-24T17:41:12.603Z"
   },
   {
    "duration": 41,
    "start_time": "2022-08-24T17:41:12.619Z"
   },
   {
    "duration": 8,
    "start_time": "2022-08-24T17:41:12.663Z"
   },
   {
    "duration": 14,
    "start_time": "2022-08-24T17:41:12.674Z"
   },
   {
    "duration": 39,
    "start_time": "2022-08-24T17:41:12.690Z"
   },
   {
    "duration": 20,
    "start_time": "2022-08-24T17:41:12.730Z"
   },
   {
    "duration": 8,
    "start_time": "2022-08-24T17:41:12.752Z"
   },
   {
    "duration": 24,
    "start_time": "2022-08-24T17:41:12.762Z"
   },
   {
    "duration": 12,
    "start_time": "2022-08-24T17:41:12.789Z"
   },
   {
    "duration": 7,
    "start_time": "2022-08-24T17:41:12.802Z"
   },
   {
    "duration": 15,
    "start_time": "2022-08-24T17:41:12.811Z"
   },
   {
    "duration": 180,
    "start_time": "2022-08-24T17:41:12.828Z"
   },
   {
    "duration": 140,
    "start_time": "2022-08-24T17:41:13.010Z"
   },
   {
    "duration": 14,
    "start_time": "2022-08-24T17:41:13.153Z"
   },
   {
    "duration": 8,
    "start_time": "2022-08-24T17:41:13.170Z"
   },
   {
    "duration": 5,
    "start_time": "2022-08-24T17:41:13.202Z"
   },
   {
    "duration": 289,
    "start_time": "2022-08-24T17:41:13.209Z"
   },
   {
    "duration": 201,
    "start_time": "2022-08-24T17:41:13.503Z"
   },
   {
    "duration": 7,
    "start_time": "2022-08-24T17:41:13.707Z"
   },
   {
    "duration": 299,
    "start_time": "2022-08-24T17:41:13.716Z"
   },
   {
    "duration": 5,
    "start_time": "2022-08-24T17:41:14.017Z"
   },
   {
    "duration": 7,
    "start_time": "2022-08-24T17:41:14.024Z"
   },
   {
    "duration": 216,
    "start_time": "2022-08-24T17:41:14.033Z"
   },
   {
    "duration": 343,
    "start_time": "2022-08-24T17:41:14.251Z"
   },
   {
    "duration": 15,
    "start_time": "2022-08-24T17:41:14.596Z"
   },
   {
    "duration": 139,
    "start_time": "2022-08-24T17:41:14.613Z"
   },
   {
    "duration": 5,
    "start_time": "2022-08-24T17:41:14.754Z"
   },
   {
    "duration": 155,
    "start_time": "2022-08-24T17:41:14.761Z"
   },
   {
    "duration": 5,
    "start_time": "2022-08-24T17:41:14.918Z"
   },
   {
    "duration": 251,
    "start_time": "2022-08-24T17:41:14.925Z"
   },
   {
    "duration": 143,
    "start_time": "2022-08-24T17:41:15.177Z"
   },
   {
    "duration": 7,
    "start_time": "2022-08-24T17:41:15.322Z"
   },
   {
    "duration": 36,
    "start_time": "2022-08-24T17:41:15.331Z"
   },
   {
    "duration": 5,
    "start_time": "2022-08-24T17:41:15.369Z"
   },
   {
    "duration": 29,
    "start_time": "2022-08-24T17:41:15.375Z"
   },
   {
    "duration": 7,
    "start_time": "2022-08-24T17:41:15.408Z"
   },
   {
    "duration": 11,
    "start_time": "2022-08-24T17:41:15.417Z"
   },
   {
    "duration": 7,
    "start_time": "2022-08-24T17:41:15.430Z"
   },
   {
    "duration": 10,
    "start_time": "2022-08-24T17:41:15.439Z"
   },
   {
    "duration": 57,
    "start_time": "2022-08-24T17:41:15.451Z"
   },
   {
    "duration": 4,
    "start_time": "2022-08-24T17:41:15.510Z"
   },
   {
    "duration": 57,
    "start_time": "2022-08-24T17:41:15.516Z"
   },
   {
    "duration": 15,
    "start_time": "2022-08-24T17:41:15.575Z"
   },
   {
    "duration": 10,
    "start_time": "2022-08-24T17:41:15.592Z"
   },
   {
    "duration": 17,
    "start_time": "2022-08-24T17:41:15.604Z"
   },
   {
    "duration": 278,
    "start_time": "2022-08-24T17:41:15.622Z"
   },
   {
    "duration": 10,
    "start_time": "2022-08-24T17:41:15.902Z"
   },
   {
    "duration": 289,
    "start_time": "2022-08-24T17:41:15.914Z"
   },
   {
    "duration": 5,
    "start_time": "2022-08-24T17:41:16.205Z"
   },
   {
    "duration": 495,
    "start_time": "2022-08-24T17:41:16.212Z"
   },
   {
    "duration": 13,
    "start_time": "2022-08-24T17:59:58.174Z"
   },
   {
    "duration": 1188,
    "start_time": "2022-08-24T18:00:17.020Z"
   },
   {
    "duration": 30,
    "start_time": "2022-08-24T18:00:18.210Z"
   },
   {
    "duration": 3,
    "start_time": "2022-08-24T18:00:18.242Z"
   },
   {
    "duration": 16,
    "start_time": "2022-08-24T18:00:18.247Z"
   },
   {
    "duration": 106,
    "start_time": "2022-08-24T18:00:18.265Z"
   },
   {
    "duration": 0,
    "start_time": "2022-08-24T18:00:18.374Z"
   },
   {
    "duration": 0,
    "start_time": "2022-08-24T18:00:18.376Z"
   },
   {
    "duration": 0,
    "start_time": "2022-08-24T18:00:18.377Z"
   },
   {
    "duration": 0,
    "start_time": "2022-08-24T18:00:18.379Z"
   },
   {
    "duration": 0,
    "start_time": "2022-08-24T18:00:18.380Z"
   },
   {
    "duration": 0,
    "start_time": "2022-08-24T18:00:18.381Z"
   },
   {
    "duration": 0,
    "start_time": "2022-08-24T18:00:18.383Z"
   },
   {
    "duration": 0,
    "start_time": "2022-08-24T18:00:18.384Z"
   },
   {
    "duration": 0,
    "start_time": "2022-08-24T18:00:18.403Z"
   },
   {
    "duration": 0,
    "start_time": "2022-08-24T18:00:18.405Z"
   },
   {
    "duration": 1,
    "start_time": "2022-08-24T18:00:18.406Z"
   },
   {
    "duration": 0,
    "start_time": "2022-08-24T18:00:18.408Z"
   },
   {
    "duration": 0,
    "start_time": "2022-08-24T18:00:18.410Z"
   },
   {
    "duration": 0,
    "start_time": "2022-08-24T18:00:18.411Z"
   },
   {
    "duration": 0,
    "start_time": "2022-08-24T18:00:18.412Z"
   },
   {
    "duration": 0,
    "start_time": "2022-08-24T18:00:18.413Z"
   },
   {
    "duration": 0,
    "start_time": "2022-08-24T18:00:18.414Z"
   },
   {
    "duration": 0,
    "start_time": "2022-08-24T18:00:18.415Z"
   },
   {
    "duration": 0,
    "start_time": "2022-08-24T18:00:18.416Z"
   },
   {
    "duration": 0,
    "start_time": "2022-08-24T18:00:18.417Z"
   },
   {
    "duration": 0,
    "start_time": "2022-08-24T18:00:18.419Z"
   },
   {
    "duration": 0,
    "start_time": "2022-08-24T18:00:18.421Z"
   },
   {
    "duration": 0,
    "start_time": "2022-08-24T18:00:18.422Z"
   },
   {
    "duration": 0,
    "start_time": "2022-08-24T18:00:18.423Z"
   },
   {
    "duration": 0,
    "start_time": "2022-08-24T18:00:18.424Z"
   },
   {
    "duration": 0,
    "start_time": "2022-08-24T18:00:18.427Z"
   },
   {
    "duration": 0,
    "start_time": "2022-08-24T18:00:18.428Z"
   },
   {
    "duration": 0,
    "start_time": "2022-08-24T18:00:18.429Z"
   },
   {
    "duration": 0,
    "start_time": "2022-08-24T18:00:18.431Z"
   },
   {
    "duration": 0,
    "start_time": "2022-08-24T18:00:18.432Z"
   },
   {
    "duration": 0,
    "start_time": "2022-08-24T18:00:18.433Z"
   },
   {
    "duration": 0,
    "start_time": "2022-08-24T18:00:18.434Z"
   },
   {
    "duration": 0,
    "start_time": "2022-08-24T18:00:18.436Z"
   },
   {
    "duration": 0,
    "start_time": "2022-08-24T18:00:18.437Z"
   },
   {
    "duration": 0,
    "start_time": "2022-08-24T18:00:18.438Z"
   },
   {
    "duration": 0,
    "start_time": "2022-08-24T18:00:18.439Z"
   },
   {
    "duration": 0,
    "start_time": "2022-08-24T18:00:18.440Z"
   },
   {
    "duration": 0,
    "start_time": "2022-08-24T18:00:18.441Z"
   },
   {
    "duration": 0,
    "start_time": "2022-08-24T18:00:18.503Z"
   },
   {
    "duration": 0,
    "start_time": "2022-08-24T18:00:18.504Z"
   },
   {
    "duration": 0,
    "start_time": "2022-08-24T18:00:18.505Z"
   },
   {
    "duration": 0,
    "start_time": "2022-08-24T18:00:18.506Z"
   },
   {
    "duration": 0,
    "start_time": "2022-08-24T18:00:18.508Z"
   },
   {
    "duration": 0,
    "start_time": "2022-08-24T18:00:18.510Z"
   },
   {
    "duration": 0,
    "start_time": "2022-08-24T18:00:18.511Z"
   },
   {
    "duration": 0,
    "start_time": "2022-08-24T18:00:18.512Z"
   },
   {
    "duration": 0,
    "start_time": "2022-08-24T18:00:18.514Z"
   },
   {
    "duration": 0,
    "start_time": "2022-08-24T18:00:18.514Z"
   },
   {
    "duration": 1,
    "start_time": "2022-08-24T18:00:18.515Z"
   },
   {
    "duration": 0,
    "start_time": "2022-08-24T18:00:18.517Z"
   },
   {
    "duration": 14,
    "start_time": "2022-08-24T18:00:50.965Z"
   },
   {
    "duration": 13,
    "start_time": "2022-08-24T18:02:12.593Z"
   },
   {
    "duration": 13,
    "start_time": "2022-08-24T18:02:34.219Z"
   },
   {
    "duration": 12,
    "start_time": "2022-08-24T18:02:59.617Z"
   },
   {
    "duration": 12,
    "start_time": "2022-08-24T18:04:54.386Z"
   },
   {
    "duration": 14,
    "start_time": "2022-08-24T18:05:08.911Z"
   },
   {
    "duration": 17,
    "start_time": "2022-08-24T18:07:51.347Z"
   },
   {
    "duration": 12,
    "start_time": "2022-08-24T18:08:04.228Z"
   },
   {
    "duration": 49,
    "start_time": "2022-08-24T18:10:29.390Z"
   },
   {
    "duration": 13,
    "start_time": "2022-08-24T18:10:40.555Z"
   },
   {
    "duration": 15,
    "start_time": "2022-08-24T18:12:03.032Z"
   },
   {
    "duration": 239,
    "start_time": "2022-08-24T19:22:10.887Z"
   },
   {
    "duration": 162,
    "start_time": "2022-08-24T19:22:31.363Z"
   },
   {
    "duration": 118,
    "start_time": "2022-08-24T19:22:59.318Z"
   },
   {
    "duration": 205,
    "start_time": "2022-08-24T19:23:09.434Z"
   },
   {
    "duration": 226,
    "start_time": "2022-08-24T19:23:24.950Z"
   },
   {
    "duration": 235,
    "start_time": "2022-08-24T19:24:04.563Z"
   },
   {
    "duration": 9,
    "start_time": "2022-08-24T19:31:49.400Z"
   },
   {
    "duration": 995,
    "start_time": "2022-08-24T19:31:55.094Z"
   },
   {
    "duration": 258,
    "start_time": "2022-08-24T19:32:26.508Z"
   },
   {
    "duration": 237,
    "start_time": "2022-08-24T19:33:49.268Z"
   },
   {
    "duration": 243,
    "start_time": "2022-08-24T19:34:21.453Z"
   },
   {
    "duration": 318,
    "start_time": "2022-08-24T19:34:34.831Z"
   },
   {
    "duration": 278,
    "start_time": "2022-08-24T19:34:48.755Z"
   },
   {
    "duration": 263,
    "start_time": "2022-08-24T19:35:20.288Z"
   },
   {
    "duration": 243,
    "start_time": "2022-08-24T19:35:25.940Z"
   },
   {
    "duration": 260,
    "start_time": "2022-08-24T19:36:13.636Z"
   },
   {
    "duration": 267,
    "start_time": "2022-08-24T19:36:23.998Z"
   },
   {
    "duration": 334,
    "start_time": "2022-08-24T19:37:09.008Z"
   },
   {
    "duration": 266,
    "start_time": "2022-08-24T19:37:24.058Z"
   },
   {
    "duration": 328,
    "start_time": "2022-08-24T19:37:38.998Z"
   },
   {
    "duration": 274,
    "start_time": "2022-08-24T19:37:52.064Z"
   },
   {
    "duration": 318,
    "start_time": "2022-08-24T19:39:47.202Z"
   },
   {
    "duration": 1240,
    "start_time": "2022-08-24T19:41:06.412Z"
   },
   {
    "duration": 30,
    "start_time": "2022-08-24T19:41:07.654Z"
   },
   {
    "duration": 4,
    "start_time": "2022-08-24T19:41:07.686Z"
   },
   {
    "duration": 29,
    "start_time": "2022-08-24T19:41:07.692Z"
   },
   {
    "duration": 15,
    "start_time": "2022-08-24T19:41:07.723Z"
   },
   {
    "duration": 13,
    "start_time": "2022-08-24T19:41:07.740Z"
   },
   {
    "duration": 15,
    "start_time": "2022-08-24T19:41:07.755Z"
   },
   {
    "duration": 325,
    "start_time": "2022-08-24T19:41:07.773Z"
   },
   {
    "duration": 359,
    "start_time": "2022-08-24T19:41:08.102Z"
   },
   {
    "duration": 39,
    "start_time": "2022-08-24T19:41:08.465Z"
   },
   {
    "duration": 8,
    "start_time": "2022-08-24T19:41:08.506Z"
   },
   {
    "duration": 16,
    "start_time": "2022-08-24T19:41:08.516Z"
   },
   {
    "duration": 65,
    "start_time": "2022-08-24T19:41:08.534Z"
   },
   {
    "duration": 19,
    "start_time": "2022-08-24T19:41:08.601Z"
   },
   {
    "duration": 9,
    "start_time": "2022-08-24T19:41:08.622Z"
   },
   {
    "duration": 16,
    "start_time": "2022-08-24T19:41:08.633Z"
   },
   {
    "duration": 13,
    "start_time": "2022-08-24T19:41:08.651Z"
   },
   {
    "duration": 11,
    "start_time": "2022-08-24T19:41:08.666Z"
   },
   {
    "duration": 32,
    "start_time": "2022-08-24T19:41:08.679Z"
   },
   {
    "duration": 242,
    "start_time": "2022-08-24T19:41:08.714Z"
   },
   {
    "duration": 200,
    "start_time": "2022-08-24T19:41:08.959Z"
   },
   {
    "duration": 20,
    "start_time": "2022-08-24T19:41:09.162Z"
   },
   {
    "duration": 26,
    "start_time": "2022-08-24T19:41:09.185Z"
   },
   {
    "duration": 14,
    "start_time": "2022-08-24T19:41:09.213Z"
   },
   {
    "duration": 298,
    "start_time": "2022-08-24T19:41:09.229Z"
   },
   {
    "duration": 212,
    "start_time": "2022-08-24T19:41:09.528Z"
   },
   {
    "duration": 7,
    "start_time": "2022-08-24T19:41:09.742Z"
   },
   {
    "duration": 373,
    "start_time": "2022-08-24T19:41:09.755Z"
   },
   {
    "duration": 5,
    "start_time": "2022-08-24T19:41:10.130Z"
   },
   {
    "duration": 23,
    "start_time": "2022-08-24T19:41:10.137Z"
   },
   {
    "duration": 287,
    "start_time": "2022-08-24T19:41:10.162Z"
   },
   {
    "duration": 336,
    "start_time": "2022-08-24T19:41:10.451Z"
   },
   {
    "duration": 26,
    "start_time": "2022-08-24T19:41:10.789Z"
   },
   {
    "duration": 152,
    "start_time": "2022-08-24T19:41:10.817Z"
   },
   {
    "duration": 7,
    "start_time": "2022-08-24T19:41:10.971Z"
   },
   {
    "duration": 176,
    "start_time": "2022-08-24T19:41:10.980Z"
   },
   {
    "duration": 5,
    "start_time": "2022-08-24T19:41:11.159Z"
   },
   {
    "duration": 367,
    "start_time": "2022-08-24T19:41:11.166Z"
   },
   {
    "duration": 193,
    "start_time": "2022-08-24T19:41:11.535Z"
   },
   {
    "duration": 8,
    "start_time": "2022-08-24T19:41:11.730Z"
   },
   {
    "duration": 26,
    "start_time": "2022-08-24T19:41:11.740Z"
   },
   {
    "duration": 6,
    "start_time": "2022-08-24T19:41:11.767Z"
   },
   {
    "duration": 39,
    "start_time": "2022-08-24T19:41:11.775Z"
   },
   {
    "duration": 8,
    "start_time": "2022-08-24T19:41:11.816Z"
   },
   {
    "duration": 13,
    "start_time": "2022-08-24T19:41:11.826Z"
   },
   {
    "duration": 8,
    "start_time": "2022-08-24T19:41:11.841Z"
   },
   {
    "duration": 56,
    "start_time": "2022-08-24T19:41:11.851Z"
   },
   {
    "duration": 22,
    "start_time": "2022-08-24T19:41:11.909Z"
   },
   {
    "duration": 6,
    "start_time": "2022-08-24T19:41:11.932Z"
   },
   {
    "duration": 12,
    "start_time": "2022-08-24T19:41:11.940Z"
   },
   {
    "duration": 50,
    "start_time": "2022-08-24T19:41:11.954Z"
   },
   {
    "duration": 11,
    "start_time": "2022-08-24T19:41:12.007Z"
   },
   {
    "duration": 6,
    "start_time": "2022-08-24T19:41:12.020Z"
   },
   {
    "duration": 353,
    "start_time": "2022-08-24T19:41:12.028Z"
   },
   {
    "duration": 23,
    "start_time": "2022-08-24T19:41:12.383Z"
   },
   {
    "duration": 308,
    "start_time": "2022-08-24T19:41:12.409Z"
   },
   {
    "duration": 8,
    "start_time": "2022-08-24T19:41:12.719Z"
   },
   {
    "duration": 409,
    "start_time": "2022-08-24T19:41:12.729Z"
   },
   {
    "duration": 266,
    "start_time": "2022-08-24T19:43:07.049Z"
   },
   {
    "duration": 227,
    "start_time": "2022-08-24T19:43:26.520Z"
   },
   {
    "duration": 217,
    "start_time": "2022-08-24T19:43:54.541Z"
   },
   {
    "duration": 215,
    "start_time": "2022-08-24T19:45:03.042Z"
   },
   {
    "duration": 279,
    "start_time": "2022-08-24T19:45:29.589Z"
   },
   {
    "duration": 309,
    "start_time": "2022-08-24T19:47:15.534Z"
   },
   {
    "duration": 271,
    "start_time": "2022-08-24T19:48:19.762Z"
   },
   {
    "duration": 383,
    "start_time": "2022-08-24T19:49:11.644Z"
   },
   {
    "duration": 218,
    "start_time": "2022-08-24T19:50:58.667Z"
   },
   {
    "duration": 182,
    "start_time": "2022-08-24T19:52:05.270Z"
   },
   {
    "duration": 412,
    "start_time": "2022-08-24T19:52:58.123Z"
   },
   {
    "duration": 301,
    "start_time": "2022-08-24T19:53:09.230Z"
   },
   {
    "duration": 288,
    "start_time": "2022-08-24T19:53:19.660Z"
   },
   {
    "duration": 414,
    "start_time": "2022-08-24T19:53:40.051Z"
   },
   {
    "duration": 6,
    "start_time": "2022-08-24T19:54:33.319Z"
   },
   {
    "duration": 389,
    "start_time": "2022-08-24T19:54:39.982Z"
   },
   {
    "duration": 1220,
    "start_time": "2022-08-24T19:54:58.155Z"
   },
   {
    "duration": 39,
    "start_time": "2022-08-24T19:54:59.377Z"
   },
   {
    "duration": 2,
    "start_time": "2022-08-24T19:54:59.420Z"
   },
   {
    "duration": 18,
    "start_time": "2022-08-24T19:54:59.424Z"
   },
   {
    "duration": 12,
    "start_time": "2022-08-24T19:54:59.445Z"
   },
   {
    "duration": 11,
    "start_time": "2022-08-24T19:54:59.459Z"
   },
   {
    "duration": 41,
    "start_time": "2022-08-24T19:54:59.472Z"
   },
   {
    "duration": 318,
    "start_time": "2022-08-24T19:54:59.517Z"
   },
   {
    "duration": 340,
    "start_time": "2022-08-24T19:54:59.837Z"
   },
   {
    "duration": 71,
    "start_time": "2022-08-24T19:55:00.181Z"
   },
   {
    "duration": 9,
    "start_time": "2022-08-24T19:55:00.254Z"
   },
   {
    "duration": 53,
    "start_time": "2022-08-24T19:55:00.265Z"
   },
   {
    "duration": 68,
    "start_time": "2022-08-24T19:55:00.320Z"
   },
   {
    "duration": 83,
    "start_time": "2022-08-24T19:55:00.390Z"
   },
   {
    "duration": 11,
    "start_time": "2022-08-24T19:55:00.475Z"
   },
   {
    "duration": 49,
    "start_time": "2022-08-24T19:55:00.489Z"
   },
   {
    "duration": 56,
    "start_time": "2022-08-24T19:55:00.540Z"
   },
   {
    "duration": 31,
    "start_time": "2022-08-24T19:55:00.598Z"
   },
   {
    "duration": 32,
    "start_time": "2022-08-24T19:55:00.631Z"
   },
   {
    "duration": 205,
    "start_time": "2022-08-24T19:55:00.666Z"
   },
   {
    "duration": 168,
    "start_time": "2022-08-24T19:55:00.873Z"
   },
   {
    "duration": 14,
    "start_time": "2022-08-24T19:55:01.043Z"
   },
   {
    "duration": 18,
    "start_time": "2022-08-24T19:55:01.060Z"
   },
   {
    "duration": 25,
    "start_time": "2022-08-24T19:55:01.081Z"
   },
   {
    "duration": 347,
    "start_time": "2022-08-24T19:55:01.108Z"
   },
   {
    "duration": 258,
    "start_time": "2022-08-24T19:55:01.457Z"
   },
   {
    "duration": 9,
    "start_time": "2022-08-24T19:55:01.720Z"
   },
   {
    "duration": 340,
    "start_time": "2022-08-24T19:55:01.735Z"
   },
   {
    "duration": 5,
    "start_time": "2022-08-24T19:55:02.077Z"
   },
   {
    "duration": 25,
    "start_time": "2022-08-24T19:55:02.084Z"
   },
   {
    "duration": 247,
    "start_time": "2022-08-24T19:55:02.111Z"
   },
   {
    "duration": 359,
    "start_time": "2022-08-24T19:55:02.360Z"
   },
   {
    "duration": 12,
    "start_time": "2022-08-24T19:55:02.722Z"
   },
   {
    "duration": 172,
    "start_time": "2022-08-24T19:55:02.736Z"
   },
   {
    "duration": 10,
    "start_time": "2022-08-24T19:55:02.910Z"
   },
   {
    "duration": 164,
    "start_time": "2022-08-24T19:55:02.922Z"
   },
   {
    "duration": 6,
    "start_time": "2022-08-24T19:55:03.088Z"
   },
   {
    "duration": 367,
    "start_time": "2022-08-24T19:55:03.106Z"
   },
   {
    "duration": 184,
    "start_time": "2022-08-24T19:55:03.475Z"
   },
   {
    "duration": 8,
    "start_time": "2022-08-24T19:55:03.661Z"
   },
   {
    "duration": 38,
    "start_time": "2022-08-24T19:55:03.671Z"
   },
   {
    "duration": 10,
    "start_time": "2022-08-24T19:55:03.711Z"
   },
   {
    "duration": 26,
    "start_time": "2022-08-24T19:55:03.724Z"
   },
   {
    "duration": 10,
    "start_time": "2022-08-24T19:55:03.753Z"
   },
   {
    "duration": 46,
    "start_time": "2022-08-24T19:55:03.765Z"
   },
   {
    "duration": 7,
    "start_time": "2022-08-24T19:55:03.817Z"
   },
   {
    "duration": 15,
    "start_time": "2022-08-24T19:55:03.825Z"
   },
   {
    "duration": 24,
    "start_time": "2022-08-24T19:55:03.843Z"
   },
   {
    "duration": 6,
    "start_time": "2022-08-24T19:55:03.869Z"
   },
   {
    "duration": 38,
    "start_time": "2022-08-24T19:55:03.877Z"
   },
   {
    "duration": 9,
    "start_time": "2022-08-24T19:55:03.917Z"
   },
   {
    "duration": 13,
    "start_time": "2022-08-24T19:55:03.928Z"
   },
   {
    "duration": 6,
    "start_time": "2022-08-24T19:55:03.942Z"
   },
   {
    "duration": 342,
    "start_time": "2022-08-24T19:55:03.950Z"
   },
   {
    "duration": 14,
    "start_time": "2022-08-24T19:55:04.294Z"
   },
   {
    "duration": 333,
    "start_time": "2022-08-24T19:55:04.310Z"
   },
   {
    "duration": 7,
    "start_time": "2022-08-24T19:55:04.645Z"
   },
   {
    "duration": 434,
    "start_time": "2022-08-24T19:55:04.654Z"
   },
   {
    "duration": 55,
    "start_time": "2022-08-25T04:13:28.766Z"
   },
   {
    "duration": 1385,
    "start_time": "2022-08-25T04:13:35.691Z"
   },
   {
    "duration": 76,
    "start_time": "2022-08-25T04:13:37.077Z"
   },
   {
    "duration": 3,
    "start_time": "2022-08-25T04:13:37.154Z"
   },
   {
    "duration": 21,
    "start_time": "2022-08-25T04:13:37.159Z"
   },
   {
    "duration": 16,
    "start_time": "2022-08-25T04:13:37.182Z"
   },
   {
    "duration": 12,
    "start_time": "2022-08-25T04:13:37.200Z"
   },
   {
    "duration": 24,
    "start_time": "2022-08-25T04:13:37.214Z"
   },
   {
    "duration": 292,
    "start_time": "2022-08-25T04:13:37.240Z"
   },
   {
    "duration": 83,
    "start_time": "2022-08-25T04:13:37.534Z"
   },
   {
    "duration": 8,
    "start_time": "2022-08-25T04:13:37.621Z"
   },
   {
    "duration": 22,
    "start_time": "2022-08-25T04:13:37.631Z"
   },
   {
    "duration": 16,
    "start_time": "2022-08-25T04:13:37.655Z"
   },
   {
    "duration": 74,
    "start_time": "2022-08-25T04:13:37.672Z"
   },
   {
    "duration": 8,
    "start_time": "2022-08-25T04:13:37.747Z"
   },
   {
    "duration": 11,
    "start_time": "2022-08-25T04:13:37.757Z"
   },
   {
    "duration": 13,
    "start_time": "2022-08-25T04:13:37.770Z"
   },
   {
    "duration": 7,
    "start_time": "2022-08-25T04:13:37.785Z"
   },
   {
    "duration": 20,
    "start_time": "2022-08-25T04:13:37.793Z"
   },
   {
    "duration": 157,
    "start_time": "2022-08-25T04:13:37.815Z"
   },
   {
    "duration": 141,
    "start_time": "2022-08-25T04:13:37.974Z"
   },
   {
    "duration": 12,
    "start_time": "2022-08-25T04:13:38.117Z"
   },
   {
    "duration": 7,
    "start_time": "2022-08-25T04:13:38.131Z"
   },
   {
    "duration": 9,
    "start_time": "2022-08-25T04:13:38.140Z"
   },
   {
    "duration": 272,
    "start_time": "2022-08-25T04:13:38.151Z"
   },
   {
    "duration": 199,
    "start_time": "2022-08-25T04:13:38.424Z"
   },
   {
    "duration": 6,
    "start_time": "2022-08-25T04:13:38.625Z"
   },
   {
    "duration": 339,
    "start_time": "2022-08-25T04:13:38.632Z"
   },
   {
    "duration": 4,
    "start_time": "2022-08-25T04:13:38.975Z"
   },
   {
    "duration": 10,
    "start_time": "2022-08-25T04:13:38.980Z"
   },
   {
    "duration": 190,
    "start_time": "2022-08-25T04:13:39.002Z"
   },
   {
    "duration": 290,
    "start_time": "2022-08-25T04:13:39.193Z"
   },
   {
    "duration": 28,
    "start_time": "2022-08-25T04:13:39.485Z"
   },
   {
    "duration": 126,
    "start_time": "2022-08-25T04:13:39.515Z"
   },
   {
    "duration": 4,
    "start_time": "2022-08-25T04:13:39.643Z"
   },
   {
    "duration": 219,
    "start_time": "2022-08-25T04:13:39.649Z"
   },
   {
    "duration": 0,
    "start_time": "2022-08-25T04:13:39.870Z"
   },
   {
    "duration": 0,
    "start_time": "2022-08-25T04:13:39.871Z"
   },
   {
    "duration": 0,
    "start_time": "2022-08-25T04:13:39.873Z"
   },
   {
    "duration": 0,
    "start_time": "2022-08-25T04:13:39.874Z"
   },
   {
    "duration": 0,
    "start_time": "2022-08-25T04:13:39.875Z"
   },
   {
    "duration": 0,
    "start_time": "2022-08-25T04:13:39.876Z"
   },
   {
    "duration": 0,
    "start_time": "2022-08-25T04:13:39.877Z"
   },
   {
    "duration": 0,
    "start_time": "2022-08-25T04:13:39.878Z"
   },
   {
    "duration": 0,
    "start_time": "2022-08-25T04:13:39.900Z"
   },
   {
    "duration": 0,
    "start_time": "2022-08-25T04:13:39.901Z"
   },
   {
    "duration": 0,
    "start_time": "2022-08-25T04:13:39.902Z"
   },
   {
    "duration": 0,
    "start_time": "2022-08-25T04:13:39.902Z"
   },
   {
    "duration": 0,
    "start_time": "2022-08-25T04:13:39.903Z"
   },
   {
    "duration": 0,
    "start_time": "2022-08-25T04:13:39.904Z"
   },
   {
    "duration": 0,
    "start_time": "2022-08-25T04:13:39.904Z"
   },
   {
    "duration": 0,
    "start_time": "2022-08-25T04:13:39.905Z"
   },
   {
    "duration": 0,
    "start_time": "2022-08-25T04:13:39.906Z"
   },
   {
    "duration": 0,
    "start_time": "2022-08-25T04:13:39.907Z"
   },
   {
    "duration": 0,
    "start_time": "2022-08-25T04:13:39.907Z"
   },
   {
    "duration": 0,
    "start_time": "2022-08-25T04:13:39.908Z"
   },
   {
    "duration": 0,
    "start_time": "2022-08-25T04:13:39.910Z"
   },
   {
    "duration": 0,
    "start_time": "2022-08-25T04:13:39.911Z"
   },
   {
    "duration": 134,
    "start_time": "2022-08-25T04:14:23.882Z"
   },
   {
    "duration": 188,
    "start_time": "2022-08-25T04:16:34.052Z"
   },
   {
    "duration": 113,
    "start_time": "2022-08-25T04:17:01.215Z"
   },
   {
    "duration": 81,
    "start_time": "2022-08-25T04:17:51.850Z"
   },
   {
    "duration": 12,
    "start_time": "2022-08-25T04:17:58.646Z"
   },
   {
    "duration": 246,
    "start_time": "2022-08-25T04:18:21.797Z"
   },
   {
    "duration": 201,
    "start_time": "2022-08-25T04:18:52.315Z"
   },
   {
    "duration": 11,
    "start_time": "2022-08-25T04:21:43.925Z"
   },
   {
    "duration": 156,
    "start_time": "2022-08-25T04:21:55.082Z"
   },
   {
    "duration": 142,
    "start_time": "2022-08-25T04:22:26.443Z"
   },
   {
    "duration": 50,
    "start_time": "2022-08-25T17:03:23.658Z"
   },
   {
    "duration": 1294,
    "start_time": "2022-08-25T17:03:31.844Z"
   },
   {
    "duration": 59,
    "start_time": "2022-08-25T17:03:33.140Z"
   },
   {
    "duration": 3,
    "start_time": "2022-08-25T17:03:33.201Z"
   },
   {
    "duration": 23,
    "start_time": "2022-08-25T17:03:33.205Z"
   },
   {
    "duration": 13,
    "start_time": "2022-08-25T17:03:33.230Z"
   },
   {
    "duration": 11,
    "start_time": "2022-08-25T17:03:33.245Z"
   },
   {
    "duration": 18,
    "start_time": "2022-08-25T17:03:33.258Z"
   },
   {
    "duration": 310,
    "start_time": "2022-08-25T17:03:33.279Z"
   },
   {
    "duration": 80,
    "start_time": "2022-08-25T17:03:33.591Z"
   },
   {
    "duration": 7,
    "start_time": "2022-08-25T17:03:33.673Z"
   },
   {
    "duration": 25,
    "start_time": "2022-08-25T17:03:33.682Z"
   },
   {
    "duration": 17,
    "start_time": "2022-08-25T17:03:33.709Z"
   },
   {
    "duration": 57,
    "start_time": "2022-08-25T17:03:33.728Z"
   },
   {
    "duration": 11,
    "start_time": "2022-08-25T17:03:33.788Z"
   },
   {
    "duration": 22,
    "start_time": "2022-08-25T17:03:33.801Z"
   },
   {
    "duration": 14,
    "start_time": "2022-08-25T17:03:33.825Z"
   },
   {
    "duration": 5,
    "start_time": "2022-08-25T17:03:33.841Z"
   },
   {
    "duration": 16,
    "start_time": "2022-08-25T17:03:33.848Z"
   },
   {
    "duration": 183,
    "start_time": "2022-08-25T17:03:33.866Z"
   },
   {
    "duration": 117,
    "start_time": "2022-08-25T17:03:34.050Z"
   },
   {
    "duration": 12,
    "start_time": "2022-08-25T17:03:34.168Z"
   },
   {
    "duration": 15,
    "start_time": "2022-08-25T17:03:34.182Z"
   },
   {
    "duration": 4,
    "start_time": "2022-08-25T17:03:34.210Z"
   },
   {
    "duration": 290,
    "start_time": "2022-08-25T17:03:34.216Z"
   },
   {
    "duration": 198,
    "start_time": "2022-08-25T17:03:34.507Z"
   },
   {
    "duration": 7,
    "start_time": "2022-08-25T17:03:34.707Z"
   },
   {
    "duration": 325,
    "start_time": "2022-08-25T17:03:34.716Z"
   },
   {
    "duration": 4,
    "start_time": "2022-08-25T17:03:35.044Z"
   },
   {
    "duration": 10,
    "start_time": "2022-08-25T17:03:35.050Z"
   },
   {
    "duration": 214,
    "start_time": "2022-08-25T17:03:35.062Z"
   },
   {
    "duration": 322,
    "start_time": "2022-08-25T17:03:35.278Z"
   },
   {
    "duration": 17,
    "start_time": "2022-08-25T17:03:35.602Z"
   },
   {
    "duration": 128,
    "start_time": "2022-08-25T17:03:35.621Z"
   },
   {
    "duration": 4,
    "start_time": "2022-08-25T17:03:35.751Z"
   },
   {
    "duration": 174,
    "start_time": "2022-08-25T17:03:35.757Z"
   },
   {
    "duration": 310,
    "start_time": "2022-08-25T17:03:35.933Z"
   },
   {
    "duration": 254,
    "start_time": "2022-08-25T17:03:36.245Z"
   },
   {
    "duration": 5,
    "start_time": "2022-08-25T17:03:36.500Z"
   },
   {
    "duration": 208,
    "start_time": "2022-08-25T17:03:36.506Z"
   },
   {
    "duration": 143,
    "start_time": "2022-08-25T17:03:36.715Z"
   },
   {
    "duration": 6,
    "start_time": "2022-08-25T17:03:36.862Z"
   },
   {
    "duration": 30,
    "start_time": "2022-08-25T17:03:36.869Z"
   },
   {
    "duration": 10,
    "start_time": "2022-08-25T17:03:36.901Z"
   },
   {
    "duration": 8,
    "start_time": "2022-08-25T17:03:36.913Z"
   },
   {
    "duration": 9,
    "start_time": "2022-08-25T17:03:36.922Z"
   },
   {
    "duration": 9,
    "start_time": "2022-08-25T17:03:36.932Z"
   },
   {
    "duration": 7,
    "start_time": "2022-08-25T17:03:36.943Z"
   },
   {
    "duration": 10,
    "start_time": "2022-08-25T17:03:36.952Z"
   },
   {
    "duration": 28,
    "start_time": "2022-08-25T17:03:36.963Z"
   },
   {
    "duration": 5,
    "start_time": "2022-08-25T17:03:37.010Z"
   },
   {
    "duration": 14,
    "start_time": "2022-08-25T17:03:37.017Z"
   },
   {
    "duration": 12,
    "start_time": "2022-08-25T17:03:37.033Z"
   },
   {
    "duration": 15,
    "start_time": "2022-08-25T17:03:37.046Z"
   },
   {
    "duration": 5,
    "start_time": "2022-08-25T17:03:37.063Z"
   },
   {
    "duration": 278,
    "start_time": "2022-08-25T17:03:37.069Z"
   },
   {
    "duration": 8,
    "start_time": "2022-08-25T17:03:37.348Z"
   },
   {
    "duration": 295,
    "start_time": "2022-08-25T17:03:37.358Z"
   },
   {
    "duration": 6,
    "start_time": "2022-08-25T17:03:37.654Z"
   },
   {
    "duration": 284,
    "start_time": "2022-08-25T17:03:37.661Z"
   },
   {
    "duration": 257,
    "start_time": "2022-08-25T17:08:00.510Z"
   },
   {
    "duration": 51,
    "start_time": "2022-08-25T17:08:14.624Z"
   },
   {
    "duration": 210,
    "start_time": "2022-08-25T17:08:30.134Z"
   },
   {
    "duration": 125,
    "start_time": "2022-08-25T17:10:03.974Z"
   },
   {
    "duration": 1061,
    "start_time": "2022-08-25T17:11:36.719Z"
   },
   {
    "duration": 28,
    "start_time": "2022-08-25T17:11:37.782Z"
   },
   {
    "duration": 2,
    "start_time": "2022-08-25T17:11:37.811Z"
   },
   {
    "duration": 12,
    "start_time": "2022-08-25T17:11:37.815Z"
   },
   {
    "duration": 10,
    "start_time": "2022-08-25T17:11:37.828Z"
   },
   {
    "duration": 16,
    "start_time": "2022-08-25T17:11:37.840Z"
   },
   {
    "duration": 11,
    "start_time": "2022-08-25T17:11:37.858Z"
   },
   {
    "duration": 296,
    "start_time": "2022-08-25T17:11:37.870Z"
   },
   {
    "duration": 36,
    "start_time": "2022-08-25T17:11:38.168Z"
   },
   {
    "duration": 7,
    "start_time": "2022-08-25T17:11:38.206Z"
   },
   {
    "duration": 12,
    "start_time": "2022-08-25T17:11:38.214Z"
   },
   {
    "duration": 38,
    "start_time": "2022-08-25T17:11:38.228Z"
   },
   {
    "duration": 20,
    "start_time": "2022-08-25T17:11:38.268Z"
   },
   {
    "duration": 6,
    "start_time": "2022-08-25T17:11:38.290Z"
   },
   {
    "duration": 19,
    "start_time": "2022-08-25T17:11:38.298Z"
   },
   {
    "duration": 18,
    "start_time": "2022-08-25T17:11:38.319Z"
   },
   {
    "duration": 10,
    "start_time": "2022-08-25T17:11:38.338Z"
   },
   {
    "duration": 11,
    "start_time": "2022-08-25T17:11:38.350Z"
   },
   {
    "duration": 162,
    "start_time": "2022-08-25T17:11:38.362Z"
   },
   {
    "duration": 127,
    "start_time": "2022-08-25T17:11:38.526Z"
   },
   {
    "duration": 12,
    "start_time": "2022-08-25T17:11:38.655Z"
   },
   {
    "duration": 8,
    "start_time": "2022-08-25T17:11:38.669Z"
   },
   {
    "duration": 13,
    "start_time": "2022-08-25T17:11:38.679Z"
   },
   {
    "duration": 263,
    "start_time": "2022-08-25T17:11:38.693Z"
   },
   {
    "duration": 194,
    "start_time": "2022-08-25T17:11:38.958Z"
   },
   {
    "duration": 8,
    "start_time": "2022-08-25T17:11:39.154Z"
   },
   {
    "duration": 353,
    "start_time": "2022-08-25T17:11:39.164Z"
   },
   {
    "duration": 4,
    "start_time": "2022-08-25T17:11:39.521Z"
   },
   {
    "duration": 8,
    "start_time": "2022-08-25T17:11:39.526Z"
   },
   {
    "duration": 187,
    "start_time": "2022-08-25T17:11:39.535Z"
   },
   {
    "duration": 289,
    "start_time": "2022-08-25T17:11:39.723Z"
   },
   {
    "duration": 11,
    "start_time": "2022-08-25T17:11:40.014Z"
   },
   {
    "duration": 127,
    "start_time": "2022-08-25T17:11:40.027Z"
   },
   {
    "duration": 4,
    "start_time": "2022-08-25T17:11:40.156Z"
   },
   {
    "duration": 224,
    "start_time": "2022-08-25T17:11:40.162Z"
   },
   {
    "duration": 326,
    "start_time": "2022-08-25T17:11:40.389Z"
   },
   {
    "duration": 5,
    "start_time": "2022-08-25T17:11:40.716Z"
   },
   {
    "duration": 208,
    "start_time": "2022-08-25T17:11:40.722Z"
   },
   {
    "duration": 139,
    "start_time": "2022-08-25T17:11:40.931Z"
   },
   {
    "duration": 6,
    "start_time": "2022-08-25T17:11:41.071Z"
   },
   {
    "duration": 32,
    "start_time": "2022-08-25T17:11:41.079Z"
   },
   {
    "duration": 4,
    "start_time": "2022-08-25T17:11:41.113Z"
   },
   {
    "duration": 9,
    "start_time": "2022-08-25T17:11:41.118Z"
   },
   {
    "duration": 8,
    "start_time": "2022-08-25T17:11:41.129Z"
   },
   {
    "duration": 12,
    "start_time": "2022-08-25T17:11:41.139Z"
   },
   {
    "duration": 7,
    "start_time": "2022-08-25T17:11:41.152Z"
   },
   {
    "duration": 8,
    "start_time": "2022-08-25T17:11:41.160Z"
   },
   {
    "duration": 58,
    "start_time": "2022-08-25T17:11:41.169Z"
   },
   {
    "duration": 4,
    "start_time": "2022-08-25T17:11:41.228Z"
   },
   {
    "duration": 14,
    "start_time": "2022-08-25T17:11:41.233Z"
   },
   {
    "duration": 7,
    "start_time": "2022-08-25T17:11:41.248Z"
   },
   {
    "duration": 10,
    "start_time": "2022-08-25T17:11:41.256Z"
   },
   {
    "duration": 5,
    "start_time": "2022-08-25T17:11:41.267Z"
   },
   {
    "duration": 298,
    "start_time": "2022-08-25T17:11:41.273Z"
   },
   {
    "duration": 9,
    "start_time": "2022-08-25T17:11:41.572Z"
   },
   {
    "duration": 310,
    "start_time": "2022-08-25T17:11:41.582Z"
   },
   {
    "duration": 18,
    "start_time": "2022-08-25T17:11:41.893Z"
   },
   {
    "duration": 291,
    "start_time": "2022-08-25T17:11:41.913Z"
   },
   {
    "duration": 176,
    "start_time": "2022-08-25T17:24:23.988Z"
   },
   {
    "duration": 203,
    "start_time": "2022-08-25T17:29:45.193Z"
   },
   {
    "duration": 1092,
    "start_time": "2022-08-25T17:34:33.389Z"
   },
   {
    "duration": 29,
    "start_time": "2022-08-25T17:34:34.483Z"
   },
   {
    "duration": 4,
    "start_time": "2022-08-25T17:34:34.513Z"
   },
   {
    "duration": 13,
    "start_time": "2022-08-25T17:34:34.519Z"
   },
   {
    "duration": 13,
    "start_time": "2022-08-25T17:34:34.533Z"
   },
   {
    "duration": 11,
    "start_time": "2022-08-25T17:34:34.548Z"
   },
   {
    "duration": 16,
    "start_time": "2022-08-25T17:34:34.562Z"
   },
   {
    "duration": 293,
    "start_time": "2022-08-25T17:34:34.612Z"
   },
   {
    "duration": 37,
    "start_time": "2022-08-25T17:34:34.911Z"
   },
   {
    "duration": 8,
    "start_time": "2022-08-25T17:34:34.950Z"
   },
   {
    "duration": 14,
    "start_time": "2022-08-25T17:34:34.959Z"
   },
   {
    "duration": 53,
    "start_time": "2022-08-25T17:34:34.975Z"
   },
   {
    "duration": 20,
    "start_time": "2022-08-25T17:34:35.030Z"
   },
   {
    "duration": 7,
    "start_time": "2022-08-25T17:34:35.052Z"
   },
   {
    "duration": 13,
    "start_time": "2022-08-25T17:34:35.060Z"
   },
   {
    "duration": 13,
    "start_time": "2022-08-25T17:34:35.075Z"
   },
   {
    "duration": 7,
    "start_time": "2022-08-25T17:34:35.090Z"
   },
   {
    "duration": 16,
    "start_time": "2022-08-25T17:34:35.112Z"
   },
   {
    "duration": 170,
    "start_time": "2022-08-25T17:34:35.129Z"
   },
   {
    "duration": 127,
    "start_time": "2022-08-25T17:34:35.301Z"
   },
   {
    "duration": 14,
    "start_time": "2022-08-25T17:34:35.429Z"
   },
   {
    "duration": 13,
    "start_time": "2022-08-25T17:34:35.445Z"
   },
   {
    "duration": 4,
    "start_time": "2022-08-25T17:34:35.462Z"
   },
   {
    "duration": 265,
    "start_time": "2022-08-25T17:34:35.468Z"
   },
   {
    "duration": 188,
    "start_time": "2022-08-25T17:34:35.734Z"
   },
   {
    "duration": 6,
    "start_time": "2022-08-25T17:34:35.924Z"
   },
   {
    "duration": 280,
    "start_time": "2022-08-25T17:34:35.931Z"
   },
   {
    "duration": 4,
    "start_time": "2022-08-25T17:34:36.214Z"
   },
   {
    "duration": 16,
    "start_time": "2022-08-25T17:34:36.219Z"
   },
   {
    "duration": 174,
    "start_time": "2022-08-25T17:34:36.237Z"
   },
   {
    "duration": 266,
    "start_time": "2022-08-25T17:34:36.412Z"
   },
   {
    "duration": 11,
    "start_time": "2022-08-25T17:34:36.680Z"
   },
   {
    "duration": 200,
    "start_time": "2022-08-25T17:34:36.692Z"
   },
   {
    "duration": 4,
    "start_time": "2022-08-25T17:34:36.893Z"
   },
   {
    "duration": 209,
    "start_time": "2022-08-25T17:34:36.911Z"
   },
   {
    "duration": 322,
    "start_time": "2022-08-25T17:34:37.122Z"
   },
   {
    "duration": 5,
    "start_time": "2022-08-25T17:34:37.446Z"
   },
   {
    "duration": 218,
    "start_time": "2022-08-25T17:34:37.453Z"
   },
   {
    "duration": 145,
    "start_time": "2022-08-25T17:34:37.673Z"
   },
   {
    "duration": 6,
    "start_time": "2022-08-25T17:34:37.820Z"
   },
   {
    "duration": 23,
    "start_time": "2022-08-25T17:34:37.827Z"
   },
   {
    "duration": 4,
    "start_time": "2022-08-25T17:34:37.851Z"
   },
   {
    "duration": 8,
    "start_time": "2022-08-25T17:34:37.857Z"
   },
   {
    "duration": 5,
    "start_time": "2022-08-25T17:34:37.867Z"
   },
   {
    "duration": 10,
    "start_time": "2022-08-25T17:34:37.910Z"
   },
   {
    "duration": 8,
    "start_time": "2022-08-25T17:34:37.921Z"
   },
   {
    "duration": 8,
    "start_time": "2022-08-25T17:34:37.930Z"
   },
   {
    "duration": 20,
    "start_time": "2022-08-25T17:34:37.940Z"
   },
   {
    "duration": 4,
    "start_time": "2022-08-25T17:34:37.961Z"
   },
   {
    "duration": 45,
    "start_time": "2022-08-25T17:34:37.967Z"
   },
   {
    "duration": 8,
    "start_time": "2022-08-25T17:34:38.014Z"
   },
   {
    "duration": 12,
    "start_time": "2022-08-25T17:34:38.023Z"
   },
   {
    "duration": 6,
    "start_time": "2022-08-25T17:34:38.036Z"
   },
   {
    "duration": 273,
    "start_time": "2022-08-25T17:34:38.043Z"
   },
   {
    "duration": 8,
    "start_time": "2022-08-25T17:34:38.318Z"
   },
   {
    "duration": 265,
    "start_time": "2022-08-25T17:34:38.328Z"
   },
   {
    "duration": 5,
    "start_time": "2022-08-25T17:34:38.595Z"
   },
   {
    "duration": 266,
    "start_time": "2022-08-25T17:34:38.611Z"
   },
   {
    "duration": 21,
    "start_time": "2022-08-25T17:45:47.998Z"
   },
   {
    "duration": 21,
    "start_time": "2022-08-25T17:46:30.361Z"
   },
   {
    "duration": 19,
    "start_time": "2022-08-25T17:46:39.798Z"
   },
   {
    "duration": 19,
    "start_time": "2022-08-25T17:48:47.097Z"
   },
   {
    "duration": 20,
    "start_time": "2022-08-25T17:49:13.071Z"
   },
   {
    "duration": 20,
    "start_time": "2022-08-25T17:49:21.517Z"
   },
   {
    "duration": 116,
    "start_time": "2022-08-25T17:49:32.954Z"
   },
   {
    "duration": 23,
    "start_time": "2022-08-25T17:49:45.280Z"
   },
   {
    "duration": 40,
    "start_time": "2022-08-25T17:50:03.718Z"
   },
   {
    "duration": 20,
    "start_time": "2022-08-25T17:50:11.718Z"
   },
   {
    "duration": 9,
    "start_time": "2022-08-25T17:51:35.974Z"
   },
   {
    "duration": 5,
    "start_time": "2022-08-25T17:51:40.939Z"
   },
   {
    "duration": 8,
    "start_time": "2022-08-25T17:53:47.597Z"
   },
   {
    "duration": 8,
    "start_time": "2022-08-25T17:53:55.155Z"
   },
   {
    "duration": 23,
    "start_time": "2022-08-25T17:54:00.520Z"
   },
   {
    "duration": 19,
    "start_time": "2022-08-25T17:54:08.464Z"
   },
   {
    "duration": 23,
    "start_time": "2022-08-25T17:55:06.491Z"
   },
   {
    "duration": 25,
    "start_time": "2022-08-25T17:55:11.834Z"
   },
   {
    "duration": 26,
    "start_time": "2022-08-25T17:55:20.007Z"
   },
   {
    "duration": 19,
    "start_time": "2022-08-25T17:55:23.817Z"
   },
   {
    "duration": 20,
    "start_time": "2022-08-25T17:57:55.309Z"
   },
   {
    "duration": 21,
    "start_time": "2022-08-25T17:58:07.567Z"
   },
   {
    "duration": 4,
    "start_time": "2022-08-25T17:59:04.489Z"
   },
   {
    "duration": 26,
    "start_time": "2022-08-25T17:59:17.509Z"
   },
   {
    "duration": 20,
    "start_time": "2022-08-25T17:59:25.649Z"
   },
   {
    "duration": 20,
    "start_time": "2022-08-25T17:59:40.926Z"
   },
   {
    "duration": 12,
    "start_time": "2022-08-25T18:01:15.684Z"
   },
   {
    "duration": 8,
    "start_time": "2022-08-25T18:01:26.369Z"
   },
   {
    "duration": 8,
    "start_time": "2022-08-25T18:01:44.972Z"
   },
   {
    "duration": 13,
    "start_time": "2022-08-25T18:07:49.441Z"
   },
   {
    "duration": 255,
    "start_time": "2022-08-25T18:08:20.166Z"
   },
   {
    "duration": 15,
    "start_time": "2022-08-25T18:09:02.771Z"
   },
   {
    "duration": 86,
    "start_time": "2022-08-25T18:11:50.761Z"
   },
   {
    "duration": 17,
    "start_time": "2022-08-25T18:12:13.888Z"
   },
   {
    "duration": 5,
    "start_time": "2022-08-25T18:14:37.300Z"
   },
   {
    "duration": 1142,
    "start_time": "2022-08-25T18:14:46.506Z"
   },
   {
    "duration": 30,
    "start_time": "2022-08-25T18:14:47.650Z"
   },
   {
    "duration": 4,
    "start_time": "2022-08-25T18:14:47.682Z"
   },
   {
    "duration": 20,
    "start_time": "2022-08-25T18:14:47.688Z"
   },
   {
    "duration": 14,
    "start_time": "2022-08-25T18:14:47.709Z"
   },
   {
    "duration": 13,
    "start_time": "2022-08-25T18:14:47.725Z"
   },
   {
    "duration": 10,
    "start_time": "2022-08-25T18:14:47.739Z"
   },
   {
    "duration": 301,
    "start_time": "2022-08-25T18:14:47.751Z"
   },
   {
    "duration": 37,
    "start_time": "2022-08-25T18:14:48.053Z"
   },
   {
    "duration": 7,
    "start_time": "2022-08-25T18:14:48.093Z"
   },
   {
    "duration": 11,
    "start_time": "2022-08-25T18:14:48.101Z"
   },
   {
    "duration": 13,
    "start_time": "2022-08-25T18:14:48.114Z"
   },
   {
    "duration": 19,
    "start_time": "2022-08-25T18:14:48.128Z"
   },
   {
    "duration": 7,
    "start_time": "2022-08-25T18:14:48.148Z"
   },
   {
    "duration": 10,
    "start_time": "2022-08-25T18:14:48.156Z"
   },
   {
    "duration": 11,
    "start_time": "2022-08-25T18:14:48.168Z"
   },
   {
    "duration": 11,
    "start_time": "2022-08-25T18:14:48.180Z"
   },
   {
    "duration": 19,
    "start_time": "2022-08-25T18:14:48.192Z"
   },
   {
    "duration": 159,
    "start_time": "2022-08-25T18:14:48.213Z"
   },
   {
    "duration": 112,
    "start_time": "2022-08-25T18:14:48.373Z"
   },
   {
    "duration": 27,
    "start_time": "2022-08-25T18:14:48.487Z"
   },
   {
    "duration": 4,
    "start_time": "2022-08-25T18:14:48.515Z"
   },
   {
    "duration": 7,
    "start_time": "2022-08-25T18:14:48.521Z"
   },
   {
    "duration": 261,
    "start_time": "2022-08-25T18:14:48.530Z"
   },
   {
    "duration": 181,
    "start_time": "2022-08-25T18:14:48.792Z"
   },
   {
    "duration": 5,
    "start_time": "2022-08-25T18:14:48.974Z"
   },
   {
    "duration": 341,
    "start_time": "2022-08-25T18:14:48.981Z"
   },
   {
    "duration": 3,
    "start_time": "2022-08-25T18:14:49.325Z"
   },
   {
    "duration": 9,
    "start_time": "2022-08-25T18:14:49.330Z"
   },
   {
    "duration": 189,
    "start_time": "2022-08-25T18:14:49.341Z"
   },
   {
    "duration": 271,
    "start_time": "2022-08-25T18:14:49.532Z"
   },
   {
    "duration": 15,
    "start_time": "2022-08-25T18:14:49.804Z"
   },
   {
    "duration": 196,
    "start_time": "2022-08-25T18:14:49.821Z"
   },
   {
    "duration": 5,
    "start_time": "2022-08-25T18:14:50.018Z"
   },
   {
    "duration": 233,
    "start_time": "2022-08-25T18:14:50.024Z"
   },
   {
    "duration": 328,
    "start_time": "2022-08-25T18:14:50.259Z"
   },
   {
    "duration": 6,
    "start_time": "2022-08-25T18:14:50.588Z"
   },
   {
    "duration": 211,
    "start_time": "2022-08-25T18:14:50.595Z"
   },
   {
    "duration": 134,
    "start_time": "2022-08-25T18:14:50.810Z"
   },
   {
    "duration": 6,
    "start_time": "2022-08-25T18:14:50.946Z"
   },
   {
    "duration": 23,
    "start_time": "2022-08-25T18:14:50.953Z"
   },
   {
    "duration": 4,
    "start_time": "2022-08-25T18:14:50.978Z"
   },
   {
    "duration": 27,
    "start_time": "2022-08-25T18:14:50.984Z"
   },
   {
    "duration": 5,
    "start_time": "2022-08-25T18:14:51.013Z"
   },
   {
    "duration": 11,
    "start_time": "2022-08-25T18:14:51.020Z"
   },
   {
    "duration": 10,
    "start_time": "2022-08-25T18:14:51.032Z"
   },
   {
    "duration": 13,
    "start_time": "2022-08-25T18:14:51.043Z"
   },
   {
    "duration": 23,
    "start_time": "2022-08-25T18:14:51.058Z"
   },
   {
    "duration": 4,
    "start_time": "2022-08-25T18:14:51.083Z"
   },
   {
    "duration": 24,
    "start_time": "2022-08-25T18:14:51.088Z"
   },
   {
    "duration": 8,
    "start_time": "2022-08-25T18:14:51.114Z"
   },
   {
    "duration": 11,
    "start_time": "2022-08-25T18:14:51.124Z"
   },
   {
    "duration": 6,
    "start_time": "2022-08-25T18:14:51.136Z"
   },
   {
    "duration": 293,
    "start_time": "2022-08-25T18:14:51.144Z"
   },
   {
    "duration": 12,
    "start_time": "2022-08-25T18:14:51.439Z"
   },
   {
    "duration": 267,
    "start_time": "2022-08-25T18:14:51.453Z"
   },
   {
    "duration": 5,
    "start_time": "2022-08-25T18:14:51.722Z"
   },
   {
    "duration": 269,
    "start_time": "2022-08-25T18:14:51.729Z"
   },
   {
    "duration": 35,
    "start_time": "2022-08-25T18:18:32.992Z"
   },
   {
    "duration": 12,
    "start_time": "2022-08-25T18:18:52.699Z"
   },
   {
    "duration": 10,
    "start_time": "2022-08-25T18:19:18.765Z"
   },
   {
    "duration": 10,
    "start_time": "2022-08-25T18:19:39.509Z"
   },
   {
    "duration": 1072,
    "start_time": "2022-08-25T19:26:35.391Z"
   },
   {
    "duration": 28,
    "start_time": "2022-08-25T19:26:36.465Z"
   },
   {
    "duration": 3,
    "start_time": "2022-08-25T19:26:36.494Z"
   },
   {
    "duration": 12,
    "start_time": "2022-08-25T19:26:36.499Z"
   },
   {
    "duration": 11,
    "start_time": "2022-08-25T19:26:36.513Z"
   },
   {
    "duration": 9,
    "start_time": "2022-08-25T19:26:36.526Z"
   },
   {
    "duration": 10,
    "start_time": "2022-08-25T19:26:36.537Z"
   },
   {
    "duration": 302,
    "start_time": "2022-08-25T19:26:36.548Z"
   },
   {
    "duration": 37,
    "start_time": "2022-08-25T19:26:36.851Z"
   },
   {
    "duration": 7,
    "start_time": "2022-08-25T19:26:36.889Z"
   },
   {
    "duration": 13,
    "start_time": "2022-08-25T19:26:36.898Z"
   },
   {
    "duration": 17,
    "start_time": "2022-08-25T19:26:36.912Z"
   },
   {
    "duration": 20,
    "start_time": "2022-08-25T19:26:36.930Z"
   },
   {
    "duration": 6,
    "start_time": "2022-08-25T19:26:36.953Z"
   },
   {
    "duration": 9,
    "start_time": "2022-08-25T19:26:36.961Z"
   },
   {
    "duration": 10,
    "start_time": "2022-08-25T19:26:36.971Z"
   },
   {
    "duration": 5,
    "start_time": "2022-08-25T19:26:36.982Z"
   },
   {
    "duration": 14,
    "start_time": "2022-08-25T19:26:36.988Z"
   },
   {
    "duration": 162,
    "start_time": "2022-08-25T19:26:37.003Z"
   },
   {
    "duration": 120,
    "start_time": "2022-08-25T19:26:37.166Z"
   },
   {
    "duration": 11,
    "start_time": "2022-08-25T19:26:37.288Z"
   },
   {
    "duration": 11,
    "start_time": "2022-08-25T19:26:37.300Z"
   },
   {
    "duration": 6,
    "start_time": "2022-08-25T19:26:37.312Z"
   },
   {
    "duration": 251,
    "start_time": "2022-08-25T19:26:37.319Z"
   },
   {
    "duration": 183,
    "start_time": "2022-08-25T19:26:37.572Z"
   },
   {
    "duration": 6,
    "start_time": "2022-08-25T19:26:37.757Z"
   },
   {
    "duration": 271,
    "start_time": "2022-08-25T19:26:37.764Z"
   },
   {
    "duration": 4,
    "start_time": "2022-08-25T19:26:38.037Z"
   },
   {
    "duration": 14,
    "start_time": "2022-08-25T19:26:38.042Z"
   },
   {
    "duration": 166,
    "start_time": "2022-08-25T19:26:38.057Z"
   },
   {
    "duration": 263,
    "start_time": "2022-08-25T19:26:38.225Z"
   },
   {
    "duration": 23,
    "start_time": "2022-08-25T19:26:38.490Z"
   },
   {
    "duration": 183,
    "start_time": "2022-08-25T19:26:38.515Z"
   },
   {
    "duration": 5,
    "start_time": "2022-08-25T19:26:38.699Z"
   },
   {
    "duration": 251,
    "start_time": "2022-08-25T19:26:38.711Z"
   },
   {
    "duration": 256,
    "start_time": "2022-08-25T19:26:38.963Z"
   },
   {
    "duration": 5,
    "start_time": "2022-08-25T19:26:39.221Z"
   },
   {
    "duration": 214,
    "start_time": "2022-08-25T19:26:39.228Z"
   },
   {
    "duration": 146,
    "start_time": "2022-08-25T19:26:39.444Z"
   },
   {
    "duration": 20,
    "start_time": "2022-08-25T19:26:39.591Z"
   },
   {
    "duration": 31,
    "start_time": "2022-08-25T19:26:39.614Z"
   },
   {
    "duration": 4,
    "start_time": "2022-08-25T19:26:39.647Z"
   },
   {
    "duration": 10,
    "start_time": "2022-08-25T19:26:39.652Z"
   },
   {
    "duration": 6,
    "start_time": "2022-08-25T19:26:39.663Z"
   },
   {
    "duration": 14,
    "start_time": "2022-08-25T19:26:39.670Z"
   },
   {
    "duration": 5,
    "start_time": "2022-08-25T19:26:39.685Z"
   },
   {
    "duration": 8,
    "start_time": "2022-08-25T19:26:39.711Z"
   },
   {
    "duration": 23,
    "start_time": "2022-08-25T19:26:39.720Z"
   },
   {
    "duration": 5,
    "start_time": "2022-08-25T19:26:39.744Z"
   },
   {
    "duration": 11,
    "start_time": "2022-08-25T19:26:39.750Z"
   },
   {
    "duration": 8,
    "start_time": "2022-08-25T19:26:39.763Z"
   },
   {
    "duration": 39,
    "start_time": "2022-08-25T19:26:39.772Z"
   },
   {
    "duration": 6,
    "start_time": "2022-08-25T19:26:39.812Z"
   },
   {
    "duration": 262,
    "start_time": "2022-08-25T19:26:39.819Z"
   },
   {
    "duration": 8,
    "start_time": "2022-08-25T19:26:40.082Z"
   },
   {
    "duration": 309,
    "start_time": "2022-08-25T19:26:40.092Z"
   },
   {
    "duration": 12,
    "start_time": "2022-08-25T19:26:40.402Z"
   },
   {
    "duration": 282,
    "start_time": "2022-08-25T19:26:40.415Z"
   },
   {
    "duration": 199,
    "start_time": "2022-08-25T19:31:09.844Z"
   },
   {
    "duration": 222,
    "start_time": "2022-08-25T19:31:17.090Z"
   },
   {
    "duration": 1112,
    "start_time": "2022-08-25T19:33:56.868Z"
   },
   {
    "duration": 28,
    "start_time": "2022-08-25T19:33:57.981Z"
   },
   {
    "duration": 2,
    "start_time": "2022-08-25T19:33:58.011Z"
   },
   {
    "duration": 12,
    "start_time": "2022-08-25T19:33:58.015Z"
   },
   {
    "duration": 11,
    "start_time": "2022-08-25T19:33:58.028Z"
   },
   {
    "duration": 10,
    "start_time": "2022-08-25T19:33:58.041Z"
   },
   {
    "duration": 10,
    "start_time": "2022-08-25T19:33:58.052Z"
   },
   {
    "duration": 295,
    "start_time": "2022-08-25T19:33:58.063Z"
   },
   {
    "duration": 37,
    "start_time": "2022-08-25T19:33:58.359Z"
   },
   {
    "duration": 6,
    "start_time": "2022-08-25T19:33:58.399Z"
   },
   {
    "duration": 13,
    "start_time": "2022-08-25T19:33:58.407Z"
   },
   {
    "duration": 13,
    "start_time": "2022-08-25T19:33:58.421Z"
   },
   {
    "duration": 17,
    "start_time": "2022-08-25T19:33:58.435Z"
   },
   {
    "duration": 6,
    "start_time": "2022-08-25T19:33:58.454Z"
   },
   {
    "duration": 14,
    "start_time": "2022-08-25T19:33:58.462Z"
   },
   {
    "duration": 12,
    "start_time": "2022-08-25T19:33:58.478Z"
   },
   {
    "duration": 5,
    "start_time": "2022-08-25T19:33:58.491Z"
   },
   {
    "duration": 16,
    "start_time": "2022-08-25T19:33:58.497Z"
   },
   {
    "duration": 151,
    "start_time": "2022-08-25T19:33:58.514Z"
   },
   {
    "duration": 112,
    "start_time": "2022-08-25T19:33:58.667Z"
   },
   {
    "duration": 11,
    "start_time": "2022-08-25T19:33:58.781Z"
   },
   {
    "duration": 19,
    "start_time": "2022-08-25T19:33:58.793Z"
   },
   {
    "duration": 8,
    "start_time": "2022-08-25T19:33:58.813Z"
   },
   {
    "duration": 244,
    "start_time": "2022-08-25T19:33:58.822Z"
   },
   {
    "duration": 178,
    "start_time": "2022-08-25T19:33:59.068Z"
   },
   {
    "duration": 6,
    "start_time": "2022-08-25T19:33:59.247Z"
   },
   {
    "duration": 278,
    "start_time": "2022-08-25T19:33:59.254Z"
   },
   {
    "duration": 3,
    "start_time": "2022-08-25T19:33:59.536Z"
   },
   {
    "duration": 14,
    "start_time": "2022-08-25T19:33:59.541Z"
   },
   {
    "duration": 175,
    "start_time": "2022-08-25T19:33:59.557Z"
   },
   {
    "duration": 262,
    "start_time": "2022-08-25T19:33:59.734Z"
   },
   {
    "duration": 15,
    "start_time": "2022-08-25T19:33:59.998Z"
   },
   {
    "duration": 186,
    "start_time": "2022-08-25T19:34:00.014Z"
   },
   {
    "duration": 10,
    "start_time": "2022-08-25T19:34:00.201Z"
   },
   {
    "duration": 216,
    "start_time": "2022-08-25T19:34:00.213Z"
   },
   {
    "duration": 305,
    "start_time": "2022-08-25T19:34:00.430Z"
   },
   {
    "duration": 5,
    "start_time": "2022-08-25T19:34:00.736Z"
   },
   {
    "duration": 201,
    "start_time": "2022-08-25T19:34:00.742Z"
   },
   {
    "duration": 129,
    "start_time": "2022-08-25T19:34:00.944Z"
   },
   {
    "duration": 7,
    "start_time": "2022-08-25T19:34:01.074Z"
   },
   {
    "duration": 54,
    "start_time": "2022-08-25T19:34:01.082Z"
   },
   {
    "duration": 5,
    "start_time": "2022-08-25T19:34:01.137Z"
   },
   {
    "duration": 23,
    "start_time": "2022-08-25T19:34:01.143Z"
   },
   {
    "duration": 18,
    "start_time": "2022-08-25T19:34:01.167Z"
   },
   {
    "duration": 13,
    "start_time": "2022-08-25T19:34:01.186Z"
   },
   {
    "duration": 26,
    "start_time": "2022-08-25T19:34:01.200Z"
   },
   {
    "duration": 23,
    "start_time": "2022-08-25T19:34:01.227Z"
   },
   {
    "duration": 27,
    "start_time": "2022-08-25T19:34:01.252Z"
   },
   {
    "duration": 13,
    "start_time": "2022-08-25T19:34:01.280Z"
   },
   {
    "duration": 23,
    "start_time": "2022-08-25T19:34:01.295Z"
   },
   {
    "duration": 11,
    "start_time": "2022-08-25T19:34:01.320Z"
   },
   {
    "duration": 253,
    "start_time": "2022-08-25T19:34:01.333Z"
   },
   {
    "duration": 8,
    "start_time": "2022-08-25T19:34:01.588Z"
   },
   {
    "duration": 301,
    "start_time": "2022-08-25T19:34:01.598Z"
   },
   {
    "duration": 15,
    "start_time": "2022-08-25T19:34:01.900Z"
   },
   {
    "duration": 273,
    "start_time": "2022-08-25T19:34:01.916Z"
   }
  ],
  "kernelspec": {
   "display_name": "Python 3 (ipykernel)",
   "language": "python",
   "name": "python3"
  },
  "language_info": {
   "codemirror_mode": {
    "name": "ipython",
    "version": 3
   },
   "file_extension": ".py",
   "mimetype": "text/x-python",
   "name": "python",
   "nbconvert_exporter": "python",
   "pygments_lexer": "ipython3",
   "version": "3.7.8"
  },
  "toc": {
   "base_numbering": 1,
   "nav_menu": {},
   "number_sections": true,
   "sideBar": true,
   "skip_h1_title": false,
   "title_cell": "Table of Contents",
   "title_sidebar": "Contents",
   "toc_cell": false,
   "toc_position": {
    "height": "calc(100% - 180px)",
    "left": "10px",
    "top": "150px",
    "width": "179.514px"
   },
   "toc_section_display": true,
   "toc_window_display": true
  }
 },
 "nbformat": 4,
 "nbformat_minor": 5
}
