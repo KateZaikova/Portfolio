{
 "cells": [
  {
   "cell_type": "markdown",
   "metadata": {},
   "source": [
    "# Исследование надёжности заёмщиков\n",
    "\n",
    "Заказчик — кредитный отдел банка. Нужно разобраться, влияет ли семейное положение и количество детей клиента на факт погашения кредита в срок. Входные данные от банка — статистика о платёжеспособности клиентов.\n",
    "\n",
    "Результаты исследования будут учтены при построении модели **кредитного скоринга** — специальной системы, которая оценивает способность потенциального заёмщика вернуть кредит банку."
   ]
  },
  {
   "cell_type": "markdown",
   "metadata": {},
   "source": [
    "## Шаг 1. Откройте файл с данными и изучите общую информацию"
   ]
  },
  {
   "cell_type": "code",
   "execution_count": 1,
   "metadata": {
    "scrolled": false
   },
   "outputs": [],
   "source": [
    "# импорт библиотеки pandas\n",
    "import pandas as pd"
   ]
  },
  {
   "cell_type": "code",
   "execution_count": 2,
   "metadata": {},
   "outputs": [
    {
     "data": {
      "text/html": [
       "<div>\n",
       "<style scoped>\n",
       "    .dataframe tbody tr th:only-of-type {\n",
       "        vertical-align: middle;\n",
       "    }\n",
       "\n",
       "    .dataframe tbody tr th {\n",
       "        vertical-align: top;\n",
       "    }\n",
       "\n",
       "    .dataframe thead th {\n",
       "        text-align: right;\n",
       "    }\n",
       "</style>\n",
       "<table border=\"1\" class=\"dataframe\">\n",
       "  <thead>\n",
       "    <tr style=\"text-align: right;\">\n",
       "      <th></th>\n",
       "      <th>children</th>\n",
       "      <th>days_employed</th>\n",
       "      <th>dob_years</th>\n",
       "      <th>education</th>\n",
       "      <th>education_id</th>\n",
       "      <th>family_status</th>\n",
       "      <th>family_status_id</th>\n",
       "      <th>gender</th>\n",
       "      <th>income_type</th>\n",
       "      <th>debt</th>\n",
       "      <th>total_income</th>\n",
       "      <th>purpose</th>\n",
       "    </tr>\n",
       "  </thead>\n",
       "  <tbody>\n",
       "    <tr>\n",
       "      <th>0</th>\n",
       "      <td>1</td>\n",
       "      <td>-8437.673028</td>\n",
       "      <td>42</td>\n",
       "      <td>высшее</td>\n",
       "      <td>0</td>\n",
       "      <td>женат / замужем</td>\n",
       "      <td>0</td>\n",
       "      <td>F</td>\n",
       "      <td>сотрудник</td>\n",
       "      <td>0</td>\n",
       "      <td>253875.639453</td>\n",
       "      <td>покупка жилья</td>\n",
       "    </tr>\n",
       "    <tr>\n",
       "      <th>1</th>\n",
       "      <td>1</td>\n",
       "      <td>-4024.803754</td>\n",
       "      <td>36</td>\n",
       "      <td>среднее</td>\n",
       "      <td>1</td>\n",
       "      <td>женат / замужем</td>\n",
       "      <td>0</td>\n",
       "      <td>F</td>\n",
       "      <td>сотрудник</td>\n",
       "      <td>0</td>\n",
       "      <td>112080.014102</td>\n",
       "      <td>приобретение автомобиля</td>\n",
       "    </tr>\n",
       "    <tr>\n",
       "      <th>2</th>\n",
       "      <td>0</td>\n",
       "      <td>-5623.422610</td>\n",
       "      <td>33</td>\n",
       "      <td>Среднее</td>\n",
       "      <td>1</td>\n",
       "      <td>женат / замужем</td>\n",
       "      <td>0</td>\n",
       "      <td>M</td>\n",
       "      <td>сотрудник</td>\n",
       "      <td>0</td>\n",
       "      <td>145885.952297</td>\n",
       "      <td>покупка жилья</td>\n",
       "    </tr>\n",
       "    <tr>\n",
       "      <th>3</th>\n",
       "      <td>3</td>\n",
       "      <td>-4124.747207</td>\n",
       "      <td>32</td>\n",
       "      <td>среднее</td>\n",
       "      <td>1</td>\n",
       "      <td>женат / замужем</td>\n",
       "      <td>0</td>\n",
       "      <td>M</td>\n",
       "      <td>сотрудник</td>\n",
       "      <td>0</td>\n",
       "      <td>267628.550329</td>\n",
       "      <td>дополнительное образование</td>\n",
       "    </tr>\n",
       "    <tr>\n",
       "      <th>4</th>\n",
       "      <td>0</td>\n",
       "      <td>340266.072047</td>\n",
       "      <td>53</td>\n",
       "      <td>среднее</td>\n",
       "      <td>1</td>\n",
       "      <td>гражданский брак</td>\n",
       "      <td>1</td>\n",
       "      <td>F</td>\n",
       "      <td>пенсионер</td>\n",
       "      <td>0</td>\n",
       "      <td>158616.077870</td>\n",
       "      <td>сыграть свадьбу</td>\n",
       "    </tr>\n",
       "    <tr>\n",
       "      <th>5</th>\n",
       "      <td>0</td>\n",
       "      <td>-926.185831</td>\n",
       "      <td>27</td>\n",
       "      <td>высшее</td>\n",
       "      <td>0</td>\n",
       "      <td>гражданский брак</td>\n",
       "      <td>1</td>\n",
       "      <td>M</td>\n",
       "      <td>компаньон</td>\n",
       "      <td>0</td>\n",
       "      <td>255763.565419</td>\n",
       "      <td>покупка жилья</td>\n",
       "    </tr>\n",
       "    <tr>\n",
       "      <th>6</th>\n",
       "      <td>0</td>\n",
       "      <td>-2879.202052</td>\n",
       "      <td>43</td>\n",
       "      <td>высшее</td>\n",
       "      <td>0</td>\n",
       "      <td>женат / замужем</td>\n",
       "      <td>0</td>\n",
       "      <td>F</td>\n",
       "      <td>компаньон</td>\n",
       "      <td>0</td>\n",
       "      <td>240525.971920</td>\n",
       "      <td>операции с жильем</td>\n",
       "    </tr>\n",
       "    <tr>\n",
       "      <th>7</th>\n",
       "      <td>0</td>\n",
       "      <td>-152.779569</td>\n",
       "      <td>50</td>\n",
       "      <td>СРЕДНЕЕ</td>\n",
       "      <td>1</td>\n",
       "      <td>женат / замужем</td>\n",
       "      <td>0</td>\n",
       "      <td>M</td>\n",
       "      <td>сотрудник</td>\n",
       "      <td>0</td>\n",
       "      <td>135823.934197</td>\n",
       "      <td>образование</td>\n",
       "    </tr>\n",
       "    <tr>\n",
       "      <th>8</th>\n",
       "      <td>2</td>\n",
       "      <td>-6929.865299</td>\n",
       "      <td>35</td>\n",
       "      <td>ВЫСШЕЕ</td>\n",
       "      <td>0</td>\n",
       "      <td>гражданский брак</td>\n",
       "      <td>1</td>\n",
       "      <td>F</td>\n",
       "      <td>сотрудник</td>\n",
       "      <td>0</td>\n",
       "      <td>95856.832424</td>\n",
       "      <td>на проведение свадьбы</td>\n",
       "    </tr>\n",
       "    <tr>\n",
       "      <th>9</th>\n",
       "      <td>0</td>\n",
       "      <td>-2188.756445</td>\n",
       "      <td>41</td>\n",
       "      <td>среднее</td>\n",
       "      <td>1</td>\n",
       "      <td>женат / замужем</td>\n",
       "      <td>0</td>\n",
       "      <td>M</td>\n",
       "      <td>сотрудник</td>\n",
       "      <td>0</td>\n",
       "      <td>144425.938277</td>\n",
       "      <td>покупка жилья для семьи</td>\n",
       "    </tr>\n",
       "  </tbody>\n",
       "</table>\n",
       "</div>"
      ],
      "text/plain": [
       "   children  days_employed  dob_years education  education_id  \\\n",
       "0         1   -8437.673028         42    высшее             0   \n",
       "1         1   -4024.803754         36   среднее             1   \n",
       "2         0   -5623.422610         33   Среднее             1   \n",
       "3         3   -4124.747207         32   среднее             1   \n",
       "4         0  340266.072047         53   среднее             1   \n",
       "5         0    -926.185831         27    высшее             0   \n",
       "6         0   -2879.202052         43    высшее             0   \n",
       "7         0    -152.779569         50   СРЕДНЕЕ             1   \n",
       "8         2   -6929.865299         35    ВЫСШЕЕ             0   \n",
       "9         0   -2188.756445         41   среднее             1   \n",
       "\n",
       "      family_status  family_status_id gender income_type  debt   total_income  \\\n",
       "0   женат / замужем                 0      F   сотрудник     0  253875.639453   \n",
       "1   женат / замужем                 0      F   сотрудник     0  112080.014102   \n",
       "2   женат / замужем                 0      M   сотрудник     0  145885.952297   \n",
       "3   женат / замужем                 0      M   сотрудник     0  267628.550329   \n",
       "4  гражданский брак                 1      F   пенсионер     0  158616.077870   \n",
       "5  гражданский брак                 1      M   компаньон     0  255763.565419   \n",
       "6   женат / замужем                 0      F   компаньон     0  240525.971920   \n",
       "7   женат / замужем                 0      M   сотрудник     0  135823.934197   \n",
       "8  гражданский брак                 1      F   сотрудник     0   95856.832424   \n",
       "9   женат / замужем                 0      M   сотрудник     0  144425.938277   \n",
       "\n",
       "                      purpose  \n",
       "0               покупка жилья  \n",
       "1     приобретение автомобиля  \n",
       "2               покупка жилья  \n",
       "3  дополнительное образование  \n",
       "4             сыграть свадьбу  \n",
       "5               покупка жилья  \n",
       "6           операции с жильем  \n",
       "7                 образование  \n",
       "8       на проведение свадьбы  \n",
       "9     покупка жилья для семьи  "
      ]
     },
     "metadata": {},
     "output_type": "display_data"
    }
   ],
   "source": [
    "# чтение файла с данными и сохранение в переменной data\n",
    "data = pd.read_csv('/datasets/data.csv')\n",
    "display(data.head(10))"
   ]
  },
  {
   "cell_type": "code",
   "execution_count": 3,
   "metadata": {},
   "outputs": [
    {
     "name": "stdout",
     "output_type": "stream",
     "text": [
      "<class 'pandas.core.frame.DataFrame'>\n",
      "RangeIndex: 21525 entries, 0 to 21524\n",
      "Data columns (total 12 columns):\n",
      " #   Column            Non-Null Count  Dtype  \n",
      "---  ------            --------------  -----  \n",
      " 0   children          21525 non-null  int64  \n",
      " 1   days_employed     19351 non-null  float64\n",
      " 2   dob_years         21525 non-null  int64  \n",
      " 3   education         21525 non-null  object \n",
      " 4   education_id      21525 non-null  int64  \n",
      " 5   family_status     21525 non-null  object \n",
      " 6   family_status_id  21525 non-null  int64  \n",
      " 7   gender            21525 non-null  object \n",
      " 8   income_type       21525 non-null  object \n",
      " 9   debt              21525 non-null  int64  \n",
      " 10  total_income      19351 non-null  float64\n",
      " 11  purpose           21525 non-null  object \n",
      "dtypes: float64(2), int64(5), object(5)\n",
      "memory usage: 2.0+ MB\n"
     ]
    }
   ],
   "source": [
    "# получение общей информации о данных в таблице data\n",
    "data.info()"
   ]
  },
  {
   "cell_type": "markdown",
   "metadata": {},
   "source": [
    "В таблице 12 столбцов. \n",
    "\n",
    "Согласно документации к данным:\n",
    "\n",
    "* children — количество детей в семье;\n",
    "* days_employed — общий трудовой стаж в днях;\n",
    "* dob_years — возраст клиента в годах;\n",
    "* education — уровень образования клиента;\n",
    "* education_id — идентификатор уровня образования;\n",
    "* family_status — семейное положение;\n",
    "* family_status_id — идентификатор семейного положения;\n",
    "* gender — пол клиента;\n",
    "* income_type — тип занятости;\n",
    "* debt — имел ли задолженность по возврату кредитов;\n",
    "* total_income — ежемесячный доход;\n",
    "* purpose — цель получения кредита.\n",
    "\n",
    "Количество значений в столбцах различается. Значит, в данных есть пропущенные значения.\n",
    "\n",
    "Так же в столбце days_employed некорректные данные: во-первых тип данных  вещественное число, а во-вторых числа имеют отрицательные значения. "
   ]
  },
  {
   "cell_type": "code",
   "execution_count": 4,
   "metadata": {
    "scrolled": false
   },
   "outputs": [
    {
     "data": {
      "text/html": [
       "<div>\n",
       "<style scoped>\n",
       "    .dataframe tbody tr th:only-of-type {\n",
       "        vertical-align: middle;\n",
       "    }\n",
       "\n",
       "    .dataframe tbody tr th {\n",
       "        vertical-align: top;\n",
       "    }\n",
       "\n",
       "    .dataframe thead th {\n",
       "        text-align: right;\n",
       "    }\n",
       "</style>\n",
       "<table border=\"1\" class=\"dataframe\">\n",
       "  <thead>\n",
       "    <tr style=\"text-align: right;\">\n",
       "      <th></th>\n",
       "      <th>children</th>\n",
       "      <th>days_employed</th>\n",
       "      <th>dob_years</th>\n",
       "      <th>education</th>\n",
       "      <th>education_id</th>\n",
       "      <th>family_status</th>\n",
       "      <th>family_status_id</th>\n",
       "      <th>gender</th>\n",
       "      <th>income_type</th>\n",
       "      <th>debt</th>\n",
       "      <th>total_income</th>\n",
       "      <th>purpose</th>\n",
       "    </tr>\n",
       "  </thead>\n",
       "  <tbody>\n",
       "    <tr>\n",
       "      <th>12</th>\n",
       "      <td>0</td>\n",
       "      <td>NaN</td>\n",
       "      <td>65</td>\n",
       "      <td>среднее</td>\n",
       "      <td>1</td>\n",
       "      <td>гражданский брак</td>\n",
       "      <td>1</td>\n",
       "      <td>M</td>\n",
       "      <td>пенсионер</td>\n",
       "      <td>0</td>\n",
       "      <td>NaN</td>\n",
       "      <td>сыграть свадьбу</td>\n",
       "    </tr>\n",
       "    <tr>\n",
       "      <th>26</th>\n",
       "      <td>0</td>\n",
       "      <td>NaN</td>\n",
       "      <td>41</td>\n",
       "      <td>среднее</td>\n",
       "      <td>1</td>\n",
       "      <td>женат / замужем</td>\n",
       "      <td>0</td>\n",
       "      <td>M</td>\n",
       "      <td>госслужащий</td>\n",
       "      <td>0</td>\n",
       "      <td>NaN</td>\n",
       "      <td>образование</td>\n",
       "    </tr>\n",
       "    <tr>\n",
       "      <th>29</th>\n",
       "      <td>0</td>\n",
       "      <td>NaN</td>\n",
       "      <td>63</td>\n",
       "      <td>среднее</td>\n",
       "      <td>1</td>\n",
       "      <td>Не женат / не замужем</td>\n",
       "      <td>4</td>\n",
       "      <td>F</td>\n",
       "      <td>пенсионер</td>\n",
       "      <td>0</td>\n",
       "      <td>NaN</td>\n",
       "      <td>строительство жилой недвижимости</td>\n",
       "    </tr>\n",
       "    <tr>\n",
       "      <th>41</th>\n",
       "      <td>0</td>\n",
       "      <td>NaN</td>\n",
       "      <td>50</td>\n",
       "      <td>среднее</td>\n",
       "      <td>1</td>\n",
       "      <td>женат / замужем</td>\n",
       "      <td>0</td>\n",
       "      <td>F</td>\n",
       "      <td>госслужащий</td>\n",
       "      <td>0</td>\n",
       "      <td>NaN</td>\n",
       "      <td>сделка с подержанным автомобилем</td>\n",
       "    </tr>\n",
       "    <tr>\n",
       "      <th>55</th>\n",
       "      <td>0</td>\n",
       "      <td>NaN</td>\n",
       "      <td>54</td>\n",
       "      <td>среднее</td>\n",
       "      <td>1</td>\n",
       "      <td>гражданский брак</td>\n",
       "      <td>1</td>\n",
       "      <td>F</td>\n",
       "      <td>пенсионер</td>\n",
       "      <td>1</td>\n",
       "      <td>NaN</td>\n",
       "      <td>сыграть свадьбу</td>\n",
       "    </tr>\n",
       "  </tbody>\n",
       "</table>\n",
       "</div>"
      ],
      "text/plain": [
       "    children  days_employed  dob_years education  education_id  \\\n",
       "12         0            NaN         65   среднее             1   \n",
       "26         0            NaN         41   среднее             1   \n",
       "29         0            NaN         63   среднее             1   \n",
       "41         0            NaN         50   среднее             1   \n",
       "55         0            NaN         54   среднее             1   \n",
       "\n",
       "            family_status  family_status_id gender  income_type  debt  \\\n",
       "12       гражданский брак                 1      M    пенсионер     0   \n",
       "26        женат / замужем                 0      M  госслужащий     0   \n",
       "29  Не женат / не замужем                 4      F    пенсионер     0   \n",
       "41        женат / замужем                 0      F  госслужащий     0   \n",
       "55       гражданский брак                 1      F    пенсионер     1   \n",
       "\n",
       "    total_income                           purpose  \n",
       "12           NaN                   сыграть свадьбу  \n",
       "26           NaN                       образование  \n",
       "29           NaN  строительство жилой недвижимости  \n",
       "41           NaN  сделка с подержанным автомобилем  \n",
       "55           NaN                   сыграть свадьбу  "
      ]
     },
     "execution_count": 4,
     "metadata": {},
     "output_type": "execute_result"
    }
   ],
   "source": [
    "#поиск пропусков методом isna()\n",
    "data[data['days_employed'].isna()].head()"
   ]
  },
  {
   "cell_type": "code",
   "execution_count": 5,
   "metadata": {},
   "outputs": [
    {
     "data": {
      "text/plain": [
       "children               0\n",
       "days_employed       2174\n",
       "dob_years              0\n",
       "education              0\n",
       "education_id           0\n",
       "family_status          0\n",
       "family_status_id       0\n",
       "gender                 0\n",
       "income_type            0\n",
       "debt                   0\n",
       "total_income        2174\n",
       "purpose                0\n",
       "dtype: int64"
      ]
     },
     "execution_count": 5,
     "metadata": {},
     "output_type": "execute_result"
    }
   ],
   "source": [
    "# определение количества пропусков\n",
    "data.isna().sum()"
   ]
  },
  {
   "cell_type": "markdown",
   "metadata": {},
   "source": [
    "**Вывод**\n",
    "\n",
    "1. В таблице с данными есть пропуски в столбцах days_employed и total_income. Количество пропусков - 2174 в каждом столбце. Столбцы, посвященны данным о работе клиентов, их отсутствие может говорить о том, что клиент не подавал данные о работе при взятии кредита и брал кредит под более большой процент из-за этого. Пропуски составляют 10,1% от общего количества, это достаточно много и при удалении строк с ними приведет к менее достоверному исследованию. К тому же нас интересуют данные о семейном положении и наличии детей для иследования, а они в этих данных не пропущены. Поэтому удалять строки не будем, а заменим значение NaN в уровне дохода и стаже на медиану. \n",
    "\n",
    "2. Так же в столбце days_employed есть сильно завышенное значение - 340266.072047, что соответствует 932 года стажа, что точно не реально, поэтому заменим такие большие значения на медиану. Некоторые значения сильно выделяются среди большинства, поэтому и берем медиану, а не среднее значение. \n"
   ]
  },
  {
   "cell_type": "code",
   "execution_count": 6,
   "metadata": {},
   "outputs": [
    {
     "data": {
      "text/plain": [
       "35    617\n",
       "40    609\n",
       "41    607\n",
       "34    603\n",
       "38    598\n",
       "42    597\n",
       "33    581\n",
       "39    573\n",
       "31    560\n",
       "36    555\n",
       "44    547\n",
       "29    545\n",
       "30    540\n",
       "48    538\n",
       "37    537\n",
       "50    514\n",
       "43    513\n",
       "32    510\n",
       "49    508\n",
       "28    503\n",
       "45    497\n",
       "27    493\n",
       "56    487\n",
       "52    484\n",
       "47    480\n",
       "54    479\n",
       "46    475\n",
       "58    461\n",
       "57    460\n",
       "53    459\n",
       "51    448\n",
       "59    444\n",
       "55    443\n",
       "26    408\n",
       "60    377\n",
       "25    357\n",
       "61    355\n",
       "62    352\n",
       "63    269\n",
       "64    265\n",
       "24    264\n",
       "23    254\n",
       "65    194\n",
       "66    183\n",
       "22    183\n",
       "67    167\n",
       "21    111\n",
       "0     101\n",
       "68     99\n",
       "69     85\n",
       "70     65\n",
       "71     58\n",
       "20     51\n",
       "72     33\n",
       "19     14\n",
       "73      8\n",
       "74      6\n",
       "75      1\n",
       "Name: dob_years, dtype: int64"
      ]
     },
     "execution_count": 6,
     "metadata": {},
     "output_type": "execute_result"
    }
   ],
   "source": [
    "# найдем уникальные значения и их количество в столбце 'dob_years' \n",
    "data['dob_years'].value_counts()"
   ]
  },
  {
   "cell_type": "code",
   "execution_count": 7,
   "metadata": {},
   "outputs": [
    {
     "data": {
      "text/plain": [
       "F      14236\n",
       "M       7288\n",
       "XNA        1\n",
       "Name: gender, dtype: int64"
      ]
     },
     "execution_count": 7,
     "metadata": {},
     "output_type": "execute_result"
    }
   ],
   "source": [
    "# найдем уникальные значения и их количество в столбце 'gender' \n",
    "data['gender'].value_counts()"
   ]
  },
  {
   "cell_type": "code",
   "execution_count": 8,
   "metadata": {},
   "outputs": [
    {
     "data": {
      "text/plain": [
       " 0     14149\n",
       " 1      4818\n",
       " 2      2055\n",
       " 3       330\n",
       " 20       76\n",
       "-1        47\n",
       " 4        41\n",
       " 5         9\n",
       "Name: children, dtype: int64"
      ]
     },
     "execution_count": 8,
     "metadata": {},
     "output_type": "execute_result"
    }
   ],
   "source": [
    "# найдем уникальные значения и их количество в столбце 'children' \n",
    "data['children'].value_counts()"
   ]
  },
  {
   "cell_type": "markdown",
   "metadata": {},
   "source": [
    "\n",
    "**Вывод**\n",
    "\n",
    "1. В столбце dob_years 101 раз повторяется 0 в возрасте клиентов, это всего лишь 0,47% от общего числа, но удалять не будем, так как данные о семье и детях есть в этих строках, просто заменим 0 на медиану по возрасту. Заменим на медиану, а не на средний возраст, с целью сохрания целых чисел в данном столбце.\n",
    "\n",
    "2. В столбце gender 1 раз встречается непонятный символ XNA, который можно расценить как пропуск. В иследовании не важен пол, поэтому можно заменить на 'unknown'.\n",
    "\n",
    "3. В столбце children, встречается значения -1 ребенок - 47 раз, возможно это опечатка. А вот количество 20 детей это конечно здорово, но в наше время почти не реально. Я нашла только одну семью в России, имеющих столько детей. Возможно есть еще, которых не выдал яндекс, но 76 семей, имеющее такое количество детей, это похоже на маловероятный факт. Природу ошибки мы узнать не можем и так как данных значений меньше 1%, просто удалим их."
   ]
  },
  {
   "cell_type": "code",
   "execution_count": 9,
   "metadata": {},
   "outputs": [
    {
     "data": {
      "text/plain": [
       "54"
      ]
     },
     "execution_count": 9,
     "metadata": {},
     "output_type": "execute_result"
    }
   ],
   "source": [
    "#найдем с помощью метода duplicated(), количество дубликатов в таблице с данными\n",
    "data.duplicated().sum()"
   ]
  },
  {
   "cell_type": "code",
   "execution_count": 10,
   "metadata": {},
   "outputs": [
    {
     "data": {
      "text/html": [
       "<div>\n",
       "<style scoped>\n",
       "    .dataframe tbody tr th:only-of-type {\n",
       "        vertical-align: middle;\n",
       "    }\n",
       "\n",
       "    .dataframe tbody tr th {\n",
       "        vertical-align: top;\n",
       "    }\n",
       "\n",
       "    .dataframe thead th {\n",
       "        text-align: right;\n",
       "    }\n",
       "</style>\n",
       "<table border=\"1\" class=\"dataframe\">\n",
       "  <thead>\n",
       "    <tr style=\"text-align: right;\">\n",
       "      <th></th>\n",
       "      <th>children</th>\n",
       "      <th>days_employed</th>\n",
       "      <th>dob_years</th>\n",
       "      <th>education</th>\n",
       "      <th>education_id</th>\n",
       "      <th>family_status</th>\n",
       "      <th>family_status_id</th>\n",
       "      <th>gender</th>\n",
       "      <th>income_type</th>\n",
       "      <th>debt</th>\n",
       "      <th>total_income</th>\n",
       "      <th>purpose</th>\n",
       "    </tr>\n",
       "  </thead>\n",
       "  <tbody>\n",
       "    <tr>\n",
       "      <th>2849</th>\n",
       "      <td>0</td>\n",
       "      <td>NaN</td>\n",
       "      <td>41</td>\n",
       "      <td>среднее</td>\n",
       "      <td>1</td>\n",
       "      <td>женат / замужем</td>\n",
       "      <td>0</td>\n",
       "      <td>F</td>\n",
       "      <td>сотрудник</td>\n",
       "      <td>0</td>\n",
       "      <td>NaN</td>\n",
       "      <td>покупка жилья для семьи</td>\n",
       "    </tr>\n",
       "    <tr>\n",
       "      <th>4182</th>\n",
       "      <td>1</td>\n",
       "      <td>NaN</td>\n",
       "      <td>34</td>\n",
       "      <td>ВЫСШЕЕ</td>\n",
       "      <td>0</td>\n",
       "      <td>гражданский брак</td>\n",
       "      <td>1</td>\n",
       "      <td>F</td>\n",
       "      <td>сотрудник</td>\n",
       "      <td>0</td>\n",
       "      <td>NaN</td>\n",
       "      <td>свадьба</td>\n",
       "    </tr>\n",
       "    <tr>\n",
       "      <th>4851</th>\n",
       "      <td>0</td>\n",
       "      <td>NaN</td>\n",
       "      <td>60</td>\n",
       "      <td>среднее</td>\n",
       "      <td>1</td>\n",
       "      <td>гражданский брак</td>\n",
       "      <td>1</td>\n",
       "      <td>F</td>\n",
       "      <td>пенсионер</td>\n",
       "      <td>0</td>\n",
       "      <td>NaN</td>\n",
       "      <td>свадьба</td>\n",
       "    </tr>\n",
       "    <tr>\n",
       "      <th>5557</th>\n",
       "      <td>0</td>\n",
       "      <td>NaN</td>\n",
       "      <td>58</td>\n",
       "      <td>среднее</td>\n",
       "      <td>1</td>\n",
       "      <td>гражданский брак</td>\n",
       "      <td>1</td>\n",
       "      <td>F</td>\n",
       "      <td>пенсионер</td>\n",
       "      <td>0</td>\n",
       "      <td>NaN</td>\n",
       "      <td>сыграть свадьбу</td>\n",
       "    </tr>\n",
       "    <tr>\n",
       "      <th>7808</th>\n",
       "      <td>0</td>\n",
       "      <td>NaN</td>\n",
       "      <td>57</td>\n",
       "      <td>среднее</td>\n",
       "      <td>1</td>\n",
       "      <td>гражданский брак</td>\n",
       "      <td>1</td>\n",
       "      <td>F</td>\n",
       "      <td>пенсионер</td>\n",
       "      <td>0</td>\n",
       "      <td>NaN</td>\n",
       "      <td>на проведение свадьбы</td>\n",
       "    </tr>\n",
       "  </tbody>\n",
       "</table>\n",
       "</div>"
      ],
      "text/plain": [
       "      children  days_employed  dob_years education  education_id  \\\n",
       "2849         0            NaN         41   среднее             1   \n",
       "4182         1            NaN         34    ВЫСШЕЕ             0   \n",
       "4851         0            NaN         60   среднее             1   \n",
       "5557         0            NaN         58   среднее             1   \n",
       "7808         0            NaN         57   среднее             1   \n",
       "\n",
       "         family_status  family_status_id gender income_type  debt  \\\n",
       "2849   женат / замужем                 0      F   сотрудник     0   \n",
       "4182  гражданский брак                 1      F   сотрудник     0   \n",
       "4851  гражданский брак                 1      F   пенсионер     0   \n",
       "5557  гражданский брак                 1      F   пенсионер     0   \n",
       "7808  гражданский брак                 1      F   пенсионер     0   \n",
       "\n",
       "      total_income                  purpose  \n",
       "2849           NaN  покупка жилья для семьи  \n",
       "4182           NaN                  свадьба  \n",
       "4851           NaN                  свадьба  \n",
       "5557           NaN          сыграть свадьбу  \n",
       "7808           NaN    на проведение свадьбы  "
      ]
     },
     "execution_count": 10,
     "metadata": {},
     "output_type": "execute_result"
    }
   ],
   "source": [
    "#выведем на экран таблицу с дубликатами для ознакомления\n",
    "data_duplicated = data[data.duplicated()].head() \n",
    "data_duplicated"
   ]
  },
  {
   "cell_type": "code",
   "execution_count": 11,
   "metadata": {},
   "outputs": [
    {
     "data": {
      "text/plain": [
       "array(['высшее', 'среднее', 'Среднее', 'СРЕДНЕЕ', 'ВЫСШЕЕ',\n",
       "       'неоконченное высшее', 'начальное', 'Высшее',\n",
       "       'НЕОКОНЧЕННОЕ ВЫСШЕЕ', 'Неоконченное высшее', 'НАЧАЛЬНОЕ',\n",
       "       'Начальное', 'Ученая степень', 'УЧЕНАЯ СТЕПЕНЬ', 'ученая степень'],\n",
       "      dtype=object)"
      ]
     },
     "execution_count": 11,
     "metadata": {},
     "output_type": "execute_result"
    }
   ],
   "source": [
    "#выведем все уникальные значения столбца 'education'\n",
    "data['education'].unique() "
   ]
  },
  {
   "cell_type": "code",
   "execution_count": 12,
   "metadata": {},
   "outputs": [
    {
     "data": {
      "text/plain": [
       "array(['покупка жилья', 'приобретение автомобиля',\n",
       "       'дополнительное образование', 'сыграть свадьбу',\n",
       "       'операции с жильем', 'образование', 'на проведение свадьбы',\n",
       "       'покупка жилья для семьи', 'покупка недвижимости',\n",
       "       'покупка коммерческой недвижимости', 'покупка жилой недвижимости',\n",
       "       'строительство собственной недвижимости', 'недвижимость',\n",
       "       'строительство недвижимости', 'на покупку подержанного автомобиля',\n",
       "       'на покупку своего автомобиля',\n",
       "       'операции с коммерческой недвижимостью',\n",
       "       'строительство жилой недвижимости', 'жилье',\n",
       "       'операции со своей недвижимостью', 'автомобили',\n",
       "       'заняться образованием', 'сделка с подержанным автомобилем',\n",
       "       'получение образования', 'автомобиль', 'свадьба',\n",
       "       'получение дополнительного образования', 'покупка своего жилья',\n",
       "       'операции с недвижимостью', 'получение высшего образования',\n",
       "       'свой автомобиль', 'сделка с автомобилем',\n",
       "       'профильное образование', 'высшее образование',\n",
       "       'покупка жилья для сдачи', 'на покупку автомобиля', 'ремонт жилью',\n",
       "       'заняться высшим образованием'], dtype=object)"
      ]
     },
     "execution_count": 12,
     "metadata": {},
     "output_type": "execute_result"
    }
   ],
   "source": [
    "#выведем все уникальные значения столбца 'purpose'\n",
    "data['purpose'].unique()"
   ]
  },
  {
   "cell_type": "markdown",
   "metadata": {},
   "source": [
    "**Вывод**\n",
    "\n",
    "С помощью метода duplicated(), выявили явные дубликаты в таблице - 54. \n",
    "\n",
    "Много неявных дубликатов, обнаружила благодаря методу unique(). Возможно цель для получения кредита клиенты не выбирали готовые варианты, а заполняли сами \"от руки\" свой вариант, поэтому они так разнятся.\n",
    "\n",
    "Можно объеденить ряд похожих целей в столбце purpose в четыре основных:\n",
    "* недвижимость;\n",
    "* автомобиль;\n",
    "* образование;\n",
    "* свадьба;\n",
    "\n",
    "\n",
    "А в столбце education, привести все к нижнему регистру."
   ]
  },
  {
   "cell_type": "markdown",
   "metadata": {},
   "source": [
    "## Шаг 2. Предобработка данных"
   ]
  },
  {
   "cell_type": "markdown",
   "metadata": {},
   "source": [
    "### Обработка пропусков"
   ]
  },
  {
   "cell_type": "code",
   "execution_count": 13,
   "metadata": {},
   "outputs": [],
   "source": [
    "#заполним отсутствующие значения столбцов 'days_employed' и 'total_income' медианой при помощи цикла.\n",
    "columns_to_replace = ['days_employed', 'total_income']\n",
    "for column in columns_to_replace:\n",
    "    data[column] = data[column].fillna(data[column].median()) "
   ]
  },
  {
   "cell_type": "code",
   "execution_count": 14,
   "metadata": {},
   "outputs": [
    {
     "data": {
      "text/plain": [
       "children            0\n",
       "days_employed       0\n",
       "dob_years           0\n",
       "education           0\n",
       "education_id        0\n",
       "family_status       0\n",
       "family_status_id    0\n",
       "gender              0\n",
       "income_type         0\n",
       "debt                0\n",
       "total_income        0\n",
       "purpose             0\n",
       "dtype: int64"
      ]
     },
     "execution_count": 14,
     "metadata": {},
     "output_type": "execute_result"
    }
   ],
   "source": [
    "# убедимся, что в таблице не осталось пропусков.\n",
    "data.isna().sum()"
   ]
  },
  {
   "cell_type": "code",
   "execution_count": 15,
   "metadata": {},
   "outputs": [],
   "source": [
    "# заменим ноль в столбце dob_years, на медиану по возрасту\n",
    "data['dob_years'] = data['dob_years'].replace(0, data['dob_years'].median()) \n",
    "#data['dob_years'].value_counts()"
   ]
  },
  {
   "cell_type": "code",
   "execution_count": 16,
   "metadata": {},
   "outputs": [
    {
     "data": {
      "text/plain": [
       "F          14236\n",
       "M           7288\n",
       "unknown        1\n",
       "Name: gender, dtype: int64"
      ]
     },
     "execution_count": 16,
     "metadata": {},
     "output_type": "execute_result"
    }
   ],
   "source": [
    "# заменим XNA в столбце gender на 'unknown'\n",
    "data['gender'] = data['gender'].replace('XNA', 'unknown') \n",
    "data['gender'].value_counts()"
   ]
  },
  {
   "cell_type": "code",
   "execution_count": 17,
   "metadata": {},
   "outputs": [],
   "source": [
    "# удалим строки со значениями -1 и 20 с столбце children\n",
    "data = (data.drop(index=data.query('children == -1').index))\n",
    "data = (data.drop(index=data.query('children == 20').index))"
   ]
  },
  {
   "cell_type": "code",
   "execution_count": 18,
   "metadata": {},
   "outputs": [
    {
     "data": {
      "text/plain": [
       "0    14149\n",
       "1     4818\n",
       "2     2055\n",
       "3      330\n",
       "4       41\n",
       "5        9\n",
       "Name: children, dtype: int64"
      ]
     },
     "execution_count": 18,
     "metadata": {},
     "output_type": "execute_result"
    }
   ],
   "source": [
    "# проверим результат\n",
    "data['children'].value_counts()"
   ]
  },
  {
   "cell_type": "markdown",
   "metadata": {},
   "source": [
    "**Вывод**"
   ]
  },
  {
   "cell_type": "markdown",
   "metadata": {},
   "source": [
    "Для того, чтобы максимально сохранить данные, после выявления пропусков и подозрительных значений, для их замены мы применили методы fillna, replace и логическую индексацию."
   ]
  },
  {
   "cell_type": "markdown",
   "metadata": {},
   "source": [
    "### Замена типа данных"
   ]
  },
  {
   "cell_type": "code",
   "execution_count": 19,
   "metadata": {},
   "outputs": [
    {
     "data": {
      "text/html": [
       "<div>\n",
       "<style scoped>\n",
       "    .dataframe tbody tr th:only-of-type {\n",
       "        vertical-align: middle;\n",
       "    }\n",
       "\n",
       "    .dataframe tbody tr th {\n",
       "        vertical-align: top;\n",
       "    }\n",
       "\n",
       "    .dataframe thead th {\n",
       "        text-align: right;\n",
       "    }\n",
       "</style>\n",
       "<table border=\"1\" class=\"dataframe\">\n",
       "  <thead>\n",
       "    <tr style=\"text-align: right;\">\n",
       "      <th></th>\n",
       "      <th>children</th>\n",
       "      <th>days_employed</th>\n",
       "      <th>dob_years</th>\n",
       "      <th>education</th>\n",
       "      <th>education_id</th>\n",
       "      <th>family_status</th>\n",
       "      <th>family_status_id</th>\n",
       "      <th>gender</th>\n",
       "      <th>income_type</th>\n",
       "      <th>debt</th>\n",
       "      <th>total_income</th>\n",
       "      <th>purpose</th>\n",
       "    </tr>\n",
       "  </thead>\n",
       "  <tbody>\n",
       "    <tr>\n",
       "      <th>10403</th>\n",
       "      <td>2</td>\n",
       "      <td>62</td>\n",
       "      <td>36.0</td>\n",
       "      <td>среднее</td>\n",
       "      <td>1</td>\n",
       "      <td>женат / замужем</td>\n",
       "      <td>0</td>\n",
       "      <td>F</td>\n",
       "      <td>сотрудник</td>\n",
       "      <td>0</td>\n",
       "      <td>100452</td>\n",
       "      <td>профильное образование</td>\n",
       "    </tr>\n",
       "    <tr>\n",
       "      <th>12752</th>\n",
       "      <td>0</td>\n",
       "      <td>289</td>\n",
       "      <td>42.0</td>\n",
       "      <td>высшее</td>\n",
       "      <td>0</td>\n",
       "      <td>Не женат / не замужем</td>\n",
       "      <td>4</td>\n",
       "      <td>M</td>\n",
       "      <td>компаньон</td>\n",
       "      <td>0</td>\n",
       "      <td>191940</td>\n",
       "      <td>недвижимость</td>\n",
       "    </tr>\n",
       "    <tr>\n",
       "      <th>19664</th>\n",
       "      <td>0</td>\n",
       "      <td>1227</td>\n",
       "      <td>58.0</td>\n",
       "      <td>среднее</td>\n",
       "      <td>1</td>\n",
       "      <td>гражданский брак</td>\n",
       "      <td>1</td>\n",
       "      <td>M</td>\n",
       "      <td>сотрудник</td>\n",
       "      <td>1</td>\n",
       "      <td>100045</td>\n",
       "      <td>свадьба</td>\n",
       "    </tr>\n",
       "    <tr>\n",
       "      <th>13170</th>\n",
       "      <td>0</td>\n",
       "      <td>1203</td>\n",
       "      <td>55.0</td>\n",
       "      <td>среднее</td>\n",
       "      <td>1</td>\n",
       "      <td>женат / замужем</td>\n",
       "      <td>0</td>\n",
       "      <td>F</td>\n",
       "      <td>госслужащий</td>\n",
       "      <td>0</td>\n",
       "      <td>145017</td>\n",
       "      <td>высшее образование</td>\n",
       "    </tr>\n",
       "    <tr>\n",
       "      <th>7573</th>\n",
       "      <td>0</td>\n",
       "      <td>1203</td>\n",
       "      <td>62.0</td>\n",
       "      <td>среднее</td>\n",
       "      <td>1</td>\n",
       "      <td>гражданский брак</td>\n",
       "      <td>1</td>\n",
       "      <td>F</td>\n",
       "      <td>пенсионер</td>\n",
       "      <td>0</td>\n",
       "      <td>145017</td>\n",
       "      <td>на проведение свадьбы</td>\n",
       "    </tr>\n",
       "  </tbody>\n",
       "</table>\n",
       "</div>"
      ],
      "text/plain": [
       "       children  days_employed  dob_years education  education_id  \\\n",
       "10403         2             62       36.0   среднее             1   \n",
       "12752         0            289       42.0    высшее             0   \n",
       "19664         0           1227       58.0   среднее             1   \n",
       "13170         0           1203       55.0   среднее             1   \n",
       "7573          0           1203       62.0   среднее             1   \n",
       "\n",
       "               family_status  family_status_id gender  income_type  debt  \\\n",
       "10403        женат / замужем                 0      F    сотрудник     0   \n",
       "12752  Не женат / не замужем                 4      M    компаньон     0   \n",
       "19664       гражданский брак                 1      M    сотрудник     1   \n",
       "13170        женат / замужем                 0      F  госслужащий     0   \n",
       "7573        гражданский брак                 1      F    пенсионер     0   \n",
       "\n",
       "       total_income                 purpose  \n",
       "10403        100452  профильное образование  \n",
       "12752        191940            недвижимость  \n",
       "19664        100045                 свадьба  \n",
       "13170        145017      высшее образование  \n",
       "7573         145017   на проведение свадьбы  "
      ]
     },
     "execution_count": 19,
     "metadata": {},
     "output_type": "execute_result"
    }
   ],
   "source": [
    "# для удобства просмотра данных меняем тип данных на целочисленный в столбцах days_employed и total_income\n",
    "data[['days_employed', 'total_income']] = data[['days_employed', 'total_income']].abs().astype('int')\n",
    "data.sample(5)"
   ]
  },
  {
   "cell_type": "code",
   "execution_count": 20,
   "metadata": {},
   "outputs": [
    {
     "name": "stdout",
     "output_type": "stream",
     "text": [
      "<class 'pandas.core.frame.DataFrame'>\n",
      "Int64Index: 21402 entries, 0 to 21524\n",
      "Data columns (total 12 columns):\n",
      " #   Column            Non-Null Count  Dtype  \n",
      "---  ------            --------------  -----  \n",
      " 0   children          21402 non-null  int64  \n",
      " 1   days_employed     21402 non-null  int64  \n",
      " 2   dob_years         21402 non-null  float64\n",
      " 3   education         21402 non-null  object \n",
      " 4   education_id      21402 non-null  int64  \n",
      " 5   family_status     21402 non-null  object \n",
      " 6   family_status_id  21402 non-null  int64  \n",
      " 7   gender            21402 non-null  object \n",
      " 8   income_type       21402 non-null  object \n",
      " 9   debt              21402 non-null  int64  \n",
      " 10  total_income      21402 non-null  int64  \n",
      " 11  purpose           21402 non-null  object \n",
      "dtypes: float64(1), int64(6), object(5)\n",
      "memory usage: 2.1+ MB\n"
     ]
    }
   ],
   "source": [
    "#убедимся, что данные изменились\n",
    "data.info()"
   ]
  },
  {
   "cell_type": "code",
   "execution_count": 21,
   "metadata": {},
   "outputs": [],
   "source": [
    "# заменим в колонке days_employed значения, которые превышают средний стаж работы по России, а это примерно 35 лет (35*365=12775) \n",
    "# меняем на медиану значений в данной колонке\n",
    "data.loc[data['days_employed'] >= 12775, 'days_employed'] = int(data['days_employed'].median())      "
   ]
  },
  {
   "cell_type": "code",
   "execution_count": 22,
   "metadata": {},
   "outputs": [
    {
     "data": {
      "text/html": [
       "<div>\n",
       "<style scoped>\n",
       "    .dataframe tbody tr th:only-of-type {\n",
       "        vertical-align: middle;\n",
       "    }\n",
       "\n",
       "    .dataframe tbody tr th {\n",
       "        vertical-align: top;\n",
       "    }\n",
       "\n",
       "    .dataframe thead th {\n",
       "        text-align: right;\n",
       "    }\n",
       "</style>\n",
       "<table border=\"1\" class=\"dataframe\">\n",
       "  <thead>\n",
       "    <tr style=\"text-align: right;\">\n",
       "      <th></th>\n",
       "      <th>children</th>\n",
       "      <th>days_employed</th>\n",
       "      <th>dob_years</th>\n",
       "      <th>education</th>\n",
       "      <th>education_id</th>\n",
       "      <th>family_status</th>\n",
       "      <th>family_status_id</th>\n",
       "      <th>gender</th>\n",
       "      <th>income_type</th>\n",
       "      <th>debt</th>\n",
       "      <th>total_income</th>\n",
       "      <th>purpose</th>\n",
       "    </tr>\n",
       "  </thead>\n",
       "  <tbody>\n",
       "    <tr>\n",
       "      <th>0</th>\n",
       "      <td>1</td>\n",
       "      <td>8437</td>\n",
       "      <td>42.0</td>\n",
       "      <td>высшее</td>\n",
       "      <td>0</td>\n",
       "      <td>женат / замужем</td>\n",
       "      <td>0</td>\n",
       "      <td>F</td>\n",
       "      <td>сотрудник</td>\n",
       "      <td>0</td>\n",
       "      <td>253875</td>\n",
       "      <td>покупка жилья</td>\n",
       "    </tr>\n",
       "    <tr>\n",
       "      <th>1</th>\n",
       "      <td>1</td>\n",
       "      <td>4024</td>\n",
       "      <td>36.0</td>\n",
       "      <td>среднее</td>\n",
       "      <td>1</td>\n",
       "      <td>женат / замужем</td>\n",
       "      <td>0</td>\n",
       "      <td>F</td>\n",
       "      <td>сотрудник</td>\n",
       "      <td>0</td>\n",
       "      <td>112080</td>\n",
       "      <td>приобретение автомобиля</td>\n",
       "    </tr>\n",
       "    <tr>\n",
       "      <th>2</th>\n",
       "      <td>0</td>\n",
       "      <td>5623</td>\n",
       "      <td>33.0</td>\n",
       "      <td>Среднее</td>\n",
       "      <td>1</td>\n",
       "      <td>женат / замужем</td>\n",
       "      <td>0</td>\n",
       "      <td>M</td>\n",
       "      <td>сотрудник</td>\n",
       "      <td>0</td>\n",
       "      <td>145885</td>\n",
       "      <td>покупка жилья</td>\n",
       "    </tr>\n",
       "    <tr>\n",
       "      <th>3</th>\n",
       "      <td>3</td>\n",
       "      <td>4124</td>\n",
       "      <td>32.0</td>\n",
       "      <td>среднее</td>\n",
       "      <td>1</td>\n",
       "      <td>женат / замужем</td>\n",
       "      <td>0</td>\n",
       "      <td>M</td>\n",
       "      <td>сотрудник</td>\n",
       "      <td>0</td>\n",
       "      <td>267628</td>\n",
       "      <td>дополнительное образование</td>\n",
       "    </tr>\n",
       "    <tr>\n",
       "      <th>4</th>\n",
       "      <td>0</td>\n",
       "      <td>1810</td>\n",
       "      <td>53.0</td>\n",
       "      <td>среднее</td>\n",
       "      <td>1</td>\n",
       "      <td>гражданский брак</td>\n",
       "      <td>1</td>\n",
       "      <td>F</td>\n",
       "      <td>пенсионер</td>\n",
       "      <td>0</td>\n",
       "      <td>158616</td>\n",
       "      <td>сыграть свадьбу</td>\n",
       "    </tr>\n",
       "  </tbody>\n",
       "</table>\n",
       "</div>"
      ],
      "text/plain": [
       "   children  days_employed  dob_years education  education_id  \\\n",
       "0         1           8437       42.0    высшее             0   \n",
       "1         1           4024       36.0   среднее             1   \n",
       "2         0           5623       33.0   Среднее             1   \n",
       "3         3           4124       32.0   среднее             1   \n",
       "4         0           1810       53.0   среднее             1   \n",
       "\n",
       "      family_status  family_status_id gender income_type  debt  total_income  \\\n",
       "0   женат / замужем                 0      F   сотрудник     0        253875   \n",
       "1   женат / замужем                 0      F   сотрудник     0        112080   \n",
       "2   женат / замужем                 0      M   сотрудник     0        145885   \n",
       "3   женат / замужем                 0      M   сотрудник     0        267628   \n",
       "4  гражданский брак                 1      F   пенсионер     0        158616   \n",
       "\n",
       "                      purpose  \n",
       "0               покупка жилья  \n",
       "1     приобретение автомобиля  \n",
       "2               покупка жилья  \n",
       "3  дополнительное образование  \n",
       "4             сыграть свадьбу  "
      ]
     },
     "execution_count": 22,
     "metadata": {},
     "output_type": "execute_result"
    }
   ],
   "source": [
    "data.head()"
   ]
  },
  {
   "cell_type": "markdown",
   "metadata": {},
   "source": [
    "**Вывод**"
   ]
  },
  {
   "cell_type": "markdown",
   "metadata": {},
   "source": [
    "Для удобства просмотра, мы заменили значения в столбцах days_employed и total_income, на целочисленные методом astype() и убрали отрицательные значения методом abs() в столбце days_employed. Так же заменили стаж работы, который превышал возраст клиента, на медиану значений в данном столбце."
   ]
  },
  {
   "cell_type": "markdown",
   "metadata": {},
   "source": [
    "### Обработка дубликатов"
   ]
  },
  {
   "cell_type": "code",
   "execution_count": 23,
   "metadata": {},
   "outputs": [
    {
     "data": {
      "text/plain": [
       "0"
      ]
     },
     "execution_count": 23,
     "metadata": {},
     "output_type": "execute_result"
    }
   ],
   "source": [
    "# удалим явные дубликаты при помощи метода drop_duplicates() и проверим все ли дубликаты удалились.\n",
    "data = data.drop_duplicates().reset_index(drop=True) \n",
    "data.duplicated().sum()"
   ]
  },
  {
   "cell_type": "code",
   "execution_count": 24,
   "metadata": {},
   "outputs": [
    {
     "data": {
      "text/plain": [
       "array(['высшее', 'среднее', 'неоконченное высшее', 'начальное',\n",
       "       'ученая степень'], dtype=object)"
      ]
     },
     "execution_count": 24,
     "metadata": {},
     "output_type": "execute_result"
    }
   ],
   "source": [
    "# приведем столбец 'education' к нижнему регистру\n",
    "data['education'] = data['education'].str.lower()\n",
    "data['education'].unique()"
   ]
  },
  {
   "cell_type": "markdown",
   "metadata": {},
   "source": [
    "**Вывод**"
   ]
  },
  {
   "cell_type": "markdown",
   "metadata": {},
   "source": [
    "Мы избавились от явных дубликатов при помощи метода drop_duplicates(). \n",
    "\n",
    "Привели столбец education с данными об образовании к нижнему регистру для удобства операций с ним."
   ]
  },
  {
   "cell_type": "markdown",
   "metadata": {},
   "source": [
    "### Лемматизация"
   ]
  },
  {
   "cell_type": "code",
   "execution_count": 25,
   "metadata": {
    "scrolled": true
   },
   "outputs": [
    {
     "data": {
      "text/html": [
       "<div>\n",
       "<style scoped>\n",
       "    .dataframe tbody tr th:only-of-type {\n",
       "        vertical-align: middle;\n",
       "    }\n",
       "\n",
       "    .dataframe tbody tr th {\n",
       "        vertical-align: top;\n",
       "    }\n",
       "\n",
       "    .dataframe thead th {\n",
       "        text-align: right;\n",
       "    }\n",
       "</style>\n",
       "<table border=\"1\" class=\"dataframe\">\n",
       "  <thead>\n",
       "    <tr style=\"text-align: right;\">\n",
       "      <th></th>\n",
       "      <th>children</th>\n",
       "      <th>days_employed</th>\n",
       "      <th>dob_years</th>\n",
       "      <th>education</th>\n",
       "      <th>education_id</th>\n",
       "      <th>family_status</th>\n",
       "      <th>family_status_id</th>\n",
       "      <th>gender</th>\n",
       "      <th>income_type</th>\n",
       "      <th>debt</th>\n",
       "      <th>total_income</th>\n",
       "      <th>purpose</th>\n",
       "      <th>purpose_group</th>\n",
       "    </tr>\n",
       "  </thead>\n",
       "  <tbody>\n",
       "    <tr>\n",
       "      <th>8050</th>\n",
       "      <td>0</td>\n",
       "      <td>1810</td>\n",
       "      <td>62.0</td>\n",
       "      <td>среднее</td>\n",
       "      <td>1</td>\n",
       "      <td>женат / замужем</td>\n",
       "      <td>0</td>\n",
       "      <td>F</td>\n",
       "      <td>пенсионер</td>\n",
       "      <td>0</td>\n",
       "      <td>196595</td>\n",
       "      <td>покупка жилья для семьи</td>\n",
       "      <td>недвижимость</td>\n",
       "    </tr>\n",
       "    <tr>\n",
       "      <th>9816</th>\n",
       "      <td>2</td>\n",
       "      <td>2448</td>\n",
       "      <td>38.0</td>\n",
       "      <td>среднее</td>\n",
       "      <td>1</td>\n",
       "      <td>женат / замужем</td>\n",
       "      <td>0</td>\n",
       "      <td>M</td>\n",
       "      <td>сотрудник</td>\n",
       "      <td>0</td>\n",
       "      <td>168148</td>\n",
       "      <td>заняться высшим образованием</td>\n",
       "      <td>образование</td>\n",
       "    </tr>\n",
       "    <tr>\n",
       "      <th>20609</th>\n",
       "      <td>0</td>\n",
       "      <td>1810</td>\n",
       "      <td>58.0</td>\n",
       "      <td>среднее</td>\n",
       "      <td>1</td>\n",
       "      <td>в разводе</td>\n",
       "      <td>3</td>\n",
       "      <td>F</td>\n",
       "      <td>пенсионер</td>\n",
       "      <td>0</td>\n",
       "      <td>180094</td>\n",
       "      <td>автомобили</td>\n",
       "      <td>автомобиль</td>\n",
       "    </tr>\n",
       "    <tr>\n",
       "      <th>5439</th>\n",
       "      <td>2</td>\n",
       "      <td>2229</td>\n",
       "      <td>40.0</td>\n",
       "      <td>высшее</td>\n",
       "      <td>0</td>\n",
       "      <td>женат / замужем</td>\n",
       "      <td>0</td>\n",
       "      <td>F</td>\n",
       "      <td>госслужащий</td>\n",
       "      <td>0</td>\n",
       "      <td>162199</td>\n",
       "      <td>покупка недвижимости</td>\n",
       "      <td>недвижимость</td>\n",
       "    </tr>\n",
       "    <tr>\n",
       "      <th>19241</th>\n",
       "      <td>1</td>\n",
       "      <td>2424</td>\n",
       "      <td>45.0</td>\n",
       "      <td>высшее</td>\n",
       "      <td>0</td>\n",
       "      <td>женат / замужем</td>\n",
       "      <td>0</td>\n",
       "      <td>F</td>\n",
       "      <td>компаньон</td>\n",
       "      <td>0</td>\n",
       "      <td>197454</td>\n",
       "      <td>на покупку своего автомобиля</td>\n",
       "      <td>автомобиль</td>\n",
       "    </tr>\n",
       "    <tr>\n",
       "      <th>6552</th>\n",
       "      <td>1</td>\n",
       "      <td>1553</td>\n",
       "      <td>43.0</td>\n",
       "      <td>среднее</td>\n",
       "      <td>1</td>\n",
       "      <td>женат / замужем</td>\n",
       "      <td>0</td>\n",
       "      <td>M</td>\n",
       "      <td>сотрудник</td>\n",
       "      <td>0</td>\n",
       "      <td>115092</td>\n",
       "      <td>ремонт жилью</td>\n",
       "      <td>недвижимость</td>\n",
       "    </tr>\n",
       "    <tr>\n",
       "      <th>7156</th>\n",
       "      <td>0</td>\n",
       "      <td>3903</td>\n",
       "      <td>28.0</td>\n",
       "      <td>высшее</td>\n",
       "      <td>0</td>\n",
       "      <td>гражданский брак</td>\n",
       "      <td>1</td>\n",
       "      <td>F</td>\n",
       "      <td>сотрудник</td>\n",
       "      <td>0</td>\n",
       "      <td>211662</td>\n",
       "      <td>строительство собственной недвижимости</td>\n",
       "      <td>недвижимость</td>\n",
       "    </tr>\n",
       "    <tr>\n",
       "      <th>5732</th>\n",
       "      <td>0</td>\n",
       "      <td>1810</td>\n",
       "      <td>62.0</td>\n",
       "      <td>среднее</td>\n",
       "      <td>1</td>\n",
       "      <td>женат / замужем</td>\n",
       "      <td>0</td>\n",
       "      <td>F</td>\n",
       "      <td>пенсионер</td>\n",
       "      <td>0</td>\n",
       "      <td>76004</td>\n",
       "      <td>покупка жилья для семьи</td>\n",
       "      <td>недвижимость</td>\n",
       "    </tr>\n",
       "    <tr>\n",
       "      <th>4814</th>\n",
       "      <td>0</td>\n",
       "      <td>1810</td>\n",
       "      <td>65.0</td>\n",
       "      <td>среднее</td>\n",
       "      <td>1</td>\n",
       "      <td>женат / замужем</td>\n",
       "      <td>0</td>\n",
       "      <td>F</td>\n",
       "      <td>пенсионер</td>\n",
       "      <td>0</td>\n",
       "      <td>190439</td>\n",
       "      <td>на покупку автомобиля</td>\n",
       "      <td>автомобиль</td>\n",
       "    </tr>\n",
       "    <tr>\n",
       "      <th>14788</th>\n",
       "      <td>2</td>\n",
       "      <td>3399</td>\n",
       "      <td>31.0</td>\n",
       "      <td>среднее</td>\n",
       "      <td>1</td>\n",
       "      <td>женат / замужем</td>\n",
       "      <td>0</td>\n",
       "      <td>F</td>\n",
       "      <td>сотрудник</td>\n",
       "      <td>0</td>\n",
       "      <td>186694</td>\n",
       "      <td>получение высшего образования</td>\n",
       "      <td>образование</td>\n",
       "    </tr>\n",
       "  </tbody>\n",
       "</table>\n",
       "</div>"
      ],
      "text/plain": [
       "       children  days_employed  dob_years education  education_id  \\\n",
       "8050          0           1810       62.0   среднее             1   \n",
       "9816          2           2448       38.0   среднее             1   \n",
       "20609         0           1810       58.0   среднее             1   \n",
       "5439          2           2229       40.0    высшее             0   \n",
       "19241         1           2424       45.0    высшее             0   \n",
       "6552          1           1553       43.0   среднее             1   \n",
       "7156          0           3903       28.0    высшее             0   \n",
       "5732          0           1810       62.0   среднее             1   \n",
       "4814          0           1810       65.0   среднее             1   \n",
       "14788         2           3399       31.0   среднее             1   \n",
       "\n",
       "          family_status  family_status_id gender  income_type  debt  \\\n",
       "8050    женат / замужем                 0      F    пенсионер     0   \n",
       "9816    женат / замужем                 0      M    сотрудник     0   \n",
       "20609         в разводе                 3      F    пенсионер     0   \n",
       "5439    женат / замужем                 0      F  госслужащий     0   \n",
       "19241   женат / замужем                 0      F    компаньон     0   \n",
       "6552    женат / замужем                 0      M    сотрудник     0   \n",
       "7156   гражданский брак                 1      F    сотрудник     0   \n",
       "5732    женат / замужем                 0      F    пенсионер     0   \n",
       "4814    женат / замужем                 0      F    пенсионер     0   \n",
       "14788   женат / замужем                 0      F    сотрудник     0   \n",
       "\n",
       "       total_income                                 purpose purpose_group  \n",
       "8050         196595                 покупка жилья для семьи  недвижимость  \n",
       "9816         168148            заняться высшим образованием   образование  \n",
       "20609        180094                              автомобили    автомобиль  \n",
       "5439         162199                    покупка недвижимости  недвижимость  \n",
       "19241        197454            на покупку своего автомобиля    автомобиль  \n",
       "6552         115092                            ремонт жилью  недвижимость  \n",
       "7156         211662  строительство собственной недвижимости  недвижимость  \n",
       "5732          76004                 покупка жилья для семьи  недвижимость  \n",
       "4814         190439                   на покупку автомобиля    автомобиль  \n",
       "14788        186694           получение высшего образования   образование  "
      ]
     },
     "execution_count": 25,
     "metadata": {},
     "output_type": "execute_result"
    }
   ],
   "source": [
    "#загружаем библиотеку \n",
    "from pymystem3 import Mystem\n",
    "m = Mystem()\n",
    "#создадим функцию, которая пробежится по всем значениям столбца 'purpose', \n",
    "#эти значения разбиваем на категории по леммам: \"жилье/недвижимость\", \"автомобиль\", \"образование\", \"свадьба\".\n",
    "#присваеваем каждой основе слова, свою категорию.\n",
    "def purpose_row(purpose):\n",
    "    lemmas = ' '.join(m.lemmatize(purpose))\n",
    "    if 'авто' in lemmas:\n",
    "        return 'автомобиль'\n",
    "    \n",
    "    if 'недвиж' in lemmas or 'жил' in lemmas:\n",
    "        return  'недвижимость'\n",
    "    \n",
    "    if 'свад' in lemmas:\n",
    "        return  'свадьба'\n",
    "    \n",
    "    if 'образов' in lemmas:\n",
    "        return 'образование' \n",
    "#присоединяем к таблице новый столбец с объединенными категориями\n",
    "data['purpose_group'] = data['purpose'].apply(purpose_row)        \n",
    "data.sample(10)"
   ]
  },
  {
   "cell_type": "markdown",
   "metadata": {},
   "source": [
    "**Вывод**"
   ]
  },
  {
   "cell_type": "markdown",
   "metadata": {},
   "source": [
    "С помощью лемматизации мы создали отделный столбец, в котором выделили 4 основыных целей для кредита. "
   ]
  },
  {
   "cell_type": "markdown",
   "metadata": {},
   "source": [
    "### Категоризация данных"
   ]
  },
  {
   "cell_type": "code",
   "execution_count": 26,
   "metadata": {},
   "outputs": [
    {
     "data": {
      "text/html": [
       "<div>\n",
       "<style scoped>\n",
       "    .dataframe tbody tr th:only-of-type {\n",
       "        vertical-align: middle;\n",
       "    }\n",
       "\n",
       "    .dataframe tbody tr th {\n",
       "        vertical-align: top;\n",
       "    }\n",
       "\n",
       "    .dataframe thead th {\n",
       "        text-align: right;\n",
       "    }\n",
       "</style>\n",
       "<table border=\"1\" class=\"dataframe\">\n",
       "  <thead>\n",
       "    <tr style=\"text-align: right;\">\n",
       "      <th></th>\n",
       "      <th>children</th>\n",
       "      <th>days_employed</th>\n",
       "      <th>dob_years</th>\n",
       "      <th>education</th>\n",
       "      <th>education_id</th>\n",
       "      <th>family_status</th>\n",
       "      <th>family_status_id</th>\n",
       "      <th>gender</th>\n",
       "      <th>income_type</th>\n",
       "      <th>debt</th>\n",
       "      <th>total_income</th>\n",
       "      <th>purpose</th>\n",
       "      <th>purpose_group</th>\n",
       "      <th>children_group</th>\n",
       "    </tr>\n",
       "  </thead>\n",
       "  <tbody>\n",
       "    <tr>\n",
       "      <th>950</th>\n",
       "      <td>0</td>\n",
       "      <td>727</td>\n",
       "      <td>33.0</td>\n",
       "      <td>среднее</td>\n",
       "      <td>1</td>\n",
       "      <td>Не женат / не замужем</td>\n",
       "      <td>4</td>\n",
       "      <td>F</td>\n",
       "      <td>компаньон</td>\n",
       "      <td>0</td>\n",
       "      <td>233913</td>\n",
       "      <td>жилье</td>\n",
       "      <td>недвижимость</td>\n",
       "      <td>детей нет</td>\n",
       "    </tr>\n",
       "    <tr>\n",
       "      <th>18266</th>\n",
       "      <td>0</td>\n",
       "      <td>197</td>\n",
       "      <td>40.0</td>\n",
       "      <td>высшее</td>\n",
       "      <td>0</td>\n",
       "      <td>в разводе</td>\n",
       "      <td>3</td>\n",
       "      <td>M</td>\n",
       "      <td>сотрудник</td>\n",
       "      <td>0</td>\n",
       "      <td>157729</td>\n",
       "      <td>недвижимость</td>\n",
       "      <td>недвижимость</td>\n",
       "      <td>детей нет</td>\n",
       "    </tr>\n",
       "    <tr>\n",
       "      <th>4567</th>\n",
       "      <td>0</td>\n",
       "      <td>7927</td>\n",
       "      <td>45.0</td>\n",
       "      <td>среднее</td>\n",
       "      <td>1</td>\n",
       "      <td>Не женат / не замужем</td>\n",
       "      <td>4</td>\n",
       "      <td>F</td>\n",
       "      <td>компаньон</td>\n",
       "      <td>0</td>\n",
       "      <td>91240</td>\n",
       "      <td>недвижимость</td>\n",
       "      <td>недвижимость</td>\n",
       "      <td>детей нет</td>\n",
       "    </tr>\n",
       "    <tr>\n",
       "      <th>12736</th>\n",
       "      <td>0</td>\n",
       "      <td>495</td>\n",
       "      <td>29.0</td>\n",
       "      <td>среднее</td>\n",
       "      <td>1</td>\n",
       "      <td>Не женат / не замужем</td>\n",
       "      <td>4</td>\n",
       "      <td>M</td>\n",
       "      <td>сотрудник</td>\n",
       "      <td>1</td>\n",
       "      <td>135737</td>\n",
       "      <td>операции с жильем</td>\n",
       "      <td>недвижимость</td>\n",
       "      <td>детей нет</td>\n",
       "    </tr>\n",
       "    <tr>\n",
       "      <th>4627</th>\n",
       "      <td>2</td>\n",
       "      <td>2283</td>\n",
       "      <td>38.0</td>\n",
       "      <td>среднее</td>\n",
       "      <td>1</td>\n",
       "      <td>женат / замужем</td>\n",
       "      <td>0</td>\n",
       "      <td>F</td>\n",
       "      <td>сотрудник</td>\n",
       "      <td>0</td>\n",
       "      <td>72774</td>\n",
       "      <td>автомобили</td>\n",
       "      <td>автомобиль</td>\n",
       "      <td>дети есть</td>\n",
       "    </tr>\n",
       "  </tbody>\n",
       "</table>\n",
       "</div>"
      ],
      "text/plain": [
       "       children  days_employed  dob_years education  education_id  \\\n",
       "950           0            727       33.0   среднее             1   \n",
       "18266         0            197       40.0    высшее             0   \n",
       "4567          0           7927       45.0   среднее             1   \n",
       "12736         0            495       29.0   среднее             1   \n",
       "4627          2           2283       38.0   среднее             1   \n",
       "\n",
       "               family_status  family_status_id gender income_type  debt  \\\n",
       "950    Не женат / не замужем                 4      F   компаньон     0   \n",
       "18266              в разводе                 3      M   сотрудник     0   \n",
       "4567   Не женат / не замужем                 4      F   компаньон     0   \n",
       "12736  Не женат / не замужем                 4      M   сотрудник     1   \n",
       "4627         женат / замужем                 0      F   сотрудник     0   \n",
       "\n",
       "       total_income            purpose purpose_group children_group  \n",
       "950          233913              жилье  недвижимость      детей нет  \n",
       "18266        157729       недвижимость  недвижимость      детей нет  \n",
       "4567          91240       недвижимость  недвижимость      детей нет  \n",
       "12736        135737  операции с жильем  недвижимость      детей нет  \n",
       "4627          72774         автомобили    автомобиль      дети есть  "
      ]
     },
     "execution_count": 26,
     "metadata": {},
     "output_type": "execute_result"
    }
   ],
   "source": [
    "# создадим функцию, для того, чтобы категоризировать клиентов на две группы: \"дети есть\" и \"детей нет\"\n",
    "def children_group(row):\n",
    "\n",
    "    children = row['children']\n",
    "\n",
    "    if children >= 1:\n",
    "        return 'дети есть'\n",
    "\n",
    "    if children == 0:\n",
    "        return 'детей нет'\n",
    "    \n",
    "data['children_group'] = data.apply(children_group, axis=1)\n",
    "data.sample(5) "
   ]
  },
  {
   "cell_type": "code",
   "execution_count": 27,
   "metadata": {},
   "outputs": [
    {
     "data": {
      "text/html": [
       "<div>\n",
       "<style scoped>\n",
       "    .dataframe tbody tr th:only-of-type {\n",
       "        vertical-align: middle;\n",
       "    }\n",
       "\n",
       "    .dataframe tbody tr th {\n",
       "        vertical-align: top;\n",
       "    }\n",
       "\n",
       "    .dataframe thead th {\n",
       "        text-align: right;\n",
       "    }\n",
       "</style>\n",
       "<table border=\"1\" class=\"dataframe\">\n",
       "  <thead>\n",
       "    <tr style=\"text-align: right;\">\n",
       "      <th></th>\n",
       "      <th>children</th>\n",
       "      <th>days_employed</th>\n",
       "      <th>dob_years</th>\n",
       "      <th>education</th>\n",
       "      <th>education_id</th>\n",
       "      <th>family_status</th>\n",
       "      <th>family_status_id</th>\n",
       "      <th>gender</th>\n",
       "      <th>income_type</th>\n",
       "      <th>debt</th>\n",
       "      <th>total_income</th>\n",
       "      <th>purpose</th>\n",
       "      <th>purpose_group</th>\n",
       "      <th>children_group</th>\n",
       "      <th>total_income_group</th>\n",
       "    </tr>\n",
       "  </thead>\n",
       "  <tbody>\n",
       "    <tr>\n",
       "      <th>0</th>\n",
       "      <td>1</td>\n",
       "      <td>8437</td>\n",
       "      <td>42.0</td>\n",
       "      <td>высшее</td>\n",
       "      <td>0</td>\n",
       "      <td>женат / замужем</td>\n",
       "      <td>0</td>\n",
       "      <td>F</td>\n",
       "      <td>сотрудник</td>\n",
       "      <td>0</td>\n",
       "      <td>253875</td>\n",
       "      <td>покупка жилья</td>\n",
       "      <td>недвижимость</td>\n",
       "      <td>дети есть</td>\n",
       "      <td>средний</td>\n",
       "    </tr>\n",
       "    <tr>\n",
       "      <th>1</th>\n",
       "      <td>1</td>\n",
       "      <td>4024</td>\n",
       "      <td>36.0</td>\n",
       "      <td>среднее</td>\n",
       "      <td>1</td>\n",
       "      <td>женат / замужем</td>\n",
       "      <td>0</td>\n",
       "      <td>F</td>\n",
       "      <td>сотрудник</td>\n",
       "      <td>0</td>\n",
       "      <td>112080</td>\n",
       "      <td>приобретение автомобиля</td>\n",
       "      <td>автомобиль</td>\n",
       "      <td>дети есть</td>\n",
       "      <td>средний</td>\n",
       "    </tr>\n",
       "    <tr>\n",
       "      <th>2</th>\n",
       "      <td>0</td>\n",
       "      <td>5623</td>\n",
       "      <td>33.0</td>\n",
       "      <td>среднее</td>\n",
       "      <td>1</td>\n",
       "      <td>женат / замужем</td>\n",
       "      <td>0</td>\n",
       "      <td>M</td>\n",
       "      <td>сотрудник</td>\n",
       "      <td>0</td>\n",
       "      <td>145885</td>\n",
       "      <td>покупка жилья</td>\n",
       "      <td>недвижимость</td>\n",
       "      <td>детей нет</td>\n",
       "      <td>средний</td>\n",
       "    </tr>\n",
       "    <tr>\n",
       "      <th>3</th>\n",
       "      <td>3</td>\n",
       "      <td>4124</td>\n",
       "      <td>32.0</td>\n",
       "      <td>среднее</td>\n",
       "      <td>1</td>\n",
       "      <td>женат / замужем</td>\n",
       "      <td>0</td>\n",
       "      <td>M</td>\n",
       "      <td>сотрудник</td>\n",
       "      <td>0</td>\n",
       "      <td>267628</td>\n",
       "      <td>дополнительное образование</td>\n",
       "      <td>образование</td>\n",
       "      <td>дети есть</td>\n",
       "      <td>средний</td>\n",
       "    </tr>\n",
       "    <tr>\n",
       "      <th>4</th>\n",
       "      <td>0</td>\n",
       "      <td>1810</td>\n",
       "      <td>53.0</td>\n",
       "      <td>среднее</td>\n",
       "      <td>1</td>\n",
       "      <td>гражданский брак</td>\n",
       "      <td>1</td>\n",
       "      <td>F</td>\n",
       "      <td>пенсионер</td>\n",
       "      <td>0</td>\n",
       "      <td>158616</td>\n",
       "      <td>сыграть свадьбу</td>\n",
       "      <td>свадьба</td>\n",
       "      <td>детей нет</td>\n",
       "      <td>средний</td>\n",
       "    </tr>\n",
       "  </tbody>\n",
       "</table>\n",
       "</div>"
      ],
      "text/plain": [
       "   children  days_employed  dob_years education  education_id  \\\n",
       "0         1           8437       42.0    высшее             0   \n",
       "1         1           4024       36.0   среднее             1   \n",
       "2         0           5623       33.0   среднее             1   \n",
       "3         3           4124       32.0   среднее             1   \n",
       "4         0           1810       53.0   среднее             1   \n",
       "\n",
       "      family_status  family_status_id gender income_type  debt  total_income  \\\n",
       "0   женат / замужем                 0      F   сотрудник     0        253875   \n",
       "1   женат / замужем                 0      F   сотрудник     0        112080   \n",
       "2   женат / замужем                 0      M   сотрудник     0        145885   \n",
       "3   женат / замужем                 0      M   сотрудник     0        267628   \n",
       "4  гражданский брак                 1      F   пенсионер     0        158616   \n",
       "\n",
       "                      purpose purpose_group children_group total_income_group  \n",
       "0               покупка жилья  недвижимость      дети есть            средний  \n",
       "1     приобретение автомобиля    автомобиль      дети есть            средний  \n",
       "2               покупка жилья  недвижимость      детей нет            средний  \n",
       "3  дополнительное образование   образование      дети есть            средний  \n",
       "4             сыграть свадьбу       свадьба      детей нет            средний  "
      ]
     },
     "execution_count": 27,
     "metadata": {},
     "output_type": "execute_result"
    }
   ],
   "source": [
    "# создадим функцию, для того чтобы категоризировать клиентов по уровню дохода.\n",
    "# граница дохода рассматривалась, по субъективному мнению.\n",
    "# добавим столбец с группировкой по доходу.\n",
    "def total_income_group(row):\n",
    "\n",
    "    total_income = row['total_income']\n",
    "\n",
    "    if total_income > 300000:\n",
    "        return 'высокий'\n",
    "\n",
    "    if 100000 < total_income <300000:\n",
    "        return 'средний'\n",
    "    \n",
    "    if total_income < 100000:\n",
    "        return 'низкий'\n",
    "    \n",
    "data['total_income_group'] = data.apply(total_income_group, axis=1)\n",
    "data.head() "
   ]
  },
  {
   "cell_type": "markdown",
   "metadata": {},
   "source": [
    "**Вывод**"
   ]
  },
  {
   "cell_type": "markdown",
   "metadata": {},
   "source": [
    "Для удобства сравнения при дальнейших ответах на вопросы, сделали категоризацию по наличию детей и уровню дохода и добавили к таблице с данными data, соответствующие столбцы. "
   ]
  },
  {
   "cell_type": "markdown",
   "metadata": {},
   "source": [
    "## Шаг 3. Ответьте на вопросы"
   ]
  },
  {
   "cell_type": "markdown",
   "metadata": {},
   "source": [
    "- Есть ли зависимость между наличием детей и возвратом кредита в срок?\n",
    "\n",
    "0 - задолжность есть\n",
    "\n",
    "1 - задолжности нет"
   ]
  },
  {
   "cell_type": "code",
   "execution_count": 28,
   "metadata": {},
   "outputs": [
    {
     "data": {
      "text/plain": [
       "children_group\n",
       "детей нет    1063\n",
       "дети есть     669\n",
       "Name: debt, dtype: int64"
      ]
     },
     "execution_count": 28,
     "metadata": {},
     "output_type": "execute_result"
    }
   ],
   "source": [
    "# сгрупируем по колонке 'children_group' и посчитаем сумму по колонке 'debt'\n",
    "data.groupby('children_group')['debt'].sum()"
   ]
  },
  {
   "cell_type": "markdown",
   "metadata": {},
   "source": [
    "**Промежуточный вывод**\n",
    "\n",
    "Видно, что клиенты, у которых детей нет, реже допускают просрок по кредиту, чем люди с детьми.\n",
    "\n",
    "Посмотрим более детально, как количество детей влияет на количество просроченный кредитов."
   ]
  },
  {
   "cell_type": "code",
   "execution_count": 29,
   "metadata": {},
   "outputs": [
    {
     "data": {
      "text/html": [
       "<div>\n",
       "<style scoped>\n",
       "    .dataframe tbody tr th:only-of-type {\n",
       "        vertical-align: middle;\n",
       "    }\n",
       "\n",
       "    .dataframe tbody tr th {\n",
       "        vertical-align: top;\n",
       "    }\n",
       "\n",
       "    .dataframe thead th {\n",
       "        text-align: right;\n",
       "    }\n",
       "</style>\n",
       "<table border=\"1\" class=\"dataframe\">\n",
       "  <thead>\n",
       "    <tr style=\"text-align: right;\">\n",
       "      <th></th>\n",
       "      <th>count_children</th>\n",
       "      <th>sum_children</th>\n",
       "      <th>result_children</th>\n",
       "    </tr>\n",
       "    <tr>\n",
       "      <th>children</th>\n",
       "      <th></th>\n",
       "      <th></th>\n",
       "      <th></th>\n",
       "    </tr>\n",
       "  </thead>\n",
       "  <tbody>\n",
       "    <tr>\n",
       "      <th>4</th>\n",
       "      <td>41</td>\n",
       "      <td>4</td>\n",
       "      <td>0.097561</td>\n",
       "    </tr>\n",
       "    <tr>\n",
       "      <th>2</th>\n",
       "      <td>2052</td>\n",
       "      <td>194</td>\n",
       "      <td>0.094542</td>\n",
       "    </tr>\n",
       "    <tr>\n",
       "      <th>1</th>\n",
       "      <td>4809</td>\n",
       "      <td>444</td>\n",
       "      <td>0.092327</td>\n",
       "    </tr>\n",
       "    <tr>\n",
       "      <th>3</th>\n",
       "      <td>330</td>\n",
       "      <td>27</td>\n",
       "      <td>0.081818</td>\n",
       "    </tr>\n",
       "    <tr>\n",
       "      <th>0</th>\n",
       "      <td>14106</td>\n",
       "      <td>1063</td>\n",
       "      <td>0.075358</td>\n",
       "    </tr>\n",
       "    <tr>\n",
       "      <th>5</th>\n",
       "      <td>9</td>\n",
       "      <td>0</td>\n",
       "      <td>0.000000</td>\n",
       "    </tr>\n",
       "  </tbody>\n",
       "</table>\n",
       "</div>"
      ],
      "text/plain": [
       "          count_children  sum_children  result_children\n",
       "children                                               \n",
       "4                     41             4         0.097561\n",
       "2                   2052           194         0.094542\n",
       "1                   4809           444         0.092327\n",
       "3                    330            27         0.081818\n",
       "0                  14106          1063         0.075358\n",
       "5                      9             0         0.000000"
      ]
     },
     "execution_count": 29,
     "metadata": {},
     "output_type": "execute_result"
    }
   ],
   "source": [
    "# создадим таблицу, сгрупированную по количеству детей, где в столбцах посчитаем \n",
    "# количество и сумму задолжности по кредиту. Добавим столбец с конверсией по задолжности.\n",
    "data_children = pd.DataFrame()\n",
    "data_children['count_children'] = data.groupby('children')['debt'].count()\n",
    "data_children['sum_children'] = data.groupby('children')['debt'].sum()\n",
    "data_children['result_children'] = data_children['sum_children'] / data_children['count_children'] \n",
    "data_children.sort_values('result_children', ascending = False)"
   ]
  },
  {
   "cell_type": "markdown",
   "metadata": {},
   "source": [
    "**Вывод**"
   ]
  },
  {
   "cell_type": "markdown",
   "metadata": {},
   "source": [
    "Видно, что с увеличением количества детей, увеличивается количество просроченных кредитов. \n",
    "\n",
    "Клиенты с пятью детьми, ниразу не выплатили кредит в срок.\n",
    "\n",
    "Больше всего берут кредиты, клиенты без детей. возврат по кредиту у них выше всех.\n",
    "\n",
    "Клиенты с тремя детьми, возвращают кредиты чаще, чем с одним ребенком."
   ]
  },
  {
   "cell_type": "markdown",
   "metadata": {},
   "source": [
    "- Есть ли зависимость между семейным положением и возвратом кредита в срок?"
   ]
  },
  {
   "cell_type": "code",
   "execution_count": 30,
   "metadata": {},
   "outputs": [
    {
     "data": {
      "text/html": [
       "<div>\n",
       "<style scoped>\n",
       "    .dataframe tbody tr th:only-of-type {\n",
       "        vertical-align: middle;\n",
       "    }\n",
       "\n",
       "    .dataframe tbody tr th {\n",
       "        vertical-align: top;\n",
       "    }\n",
       "\n",
       "    .dataframe thead th {\n",
       "        text-align: right;\n",
       "    }\n",
       "</style>\n",
       "<table border=\"1\" class=\"dataframe\">\n",
       "  <thead>\n",
       "    <tr style=\"text-align: right;\">\n",
       "      <th></th>\n",
       "      <th>count_family_status</th>\n",
       "      <th>sum_family_status</th>\n",
       "      <th>result_family_status</th>\n",
       "    </tr>\n",
       "    <tr>\n",
       "      <th>family_status</th>\n",
       "      <th></th>\n",
       "      <th></th>\n",
       "      <th></th>\n",
       "    </tr>\n",
       "  </thead>\n",
       "  <tbody>\n",
       "    <tr>\n",
       "      <th>Не женат / не замужем</th>\n",
       "      <td>2796</td>\n",
       "      <td>273</td>\n",
       "      <td>0.097639</td>\n",
       "    </tr>\n",
       "    <tr>\n",
       "      <th>гражданский брак</th>\n",
       "      <td>4145</td>\n",
       "      <td>385</td>\n",
       "      <td>0.092883</td>\n",
       "    </tr>\n",
       "    <tr>\n",
       "      <th>женат / замужем</th>\n",
       "      <td>12266</td>\n",
       "      <td>927</td>\n",
       "      <td>0.075575</td>\n",
       "    </tr>\n",
       "    <tr>\n",
       "      <th>в разводе</th>\n",
       "      <td>1189</td>\n",
       "      <td>84</td>\n",
       "      <td>0.070648</td>\n",
       "    </tr>\n",
       "    <tr>\n",
       "      <th>вдовец / вдова</th>\n",
       "      <td>951</td>\n",
       "      <td>63</td>\n",
       "      <td>0.066246</td>\n",
       "    </tr>\n",
       "  </tbody>\n",
       "</table>\n",
       "</div>"
      ],
      "text/plain": [
       "                       count_family_status  sum_family_status  \\\n",
       "family_status                                                   \n",
       "Не женат / не замужем                 2796                273   \n",
       "гражданский брак                      4145                385   \n",
       "женат / замужем                      12266                927   \n",
       "в разводе                             1189                 84   \n",
       "вдовец / вдова                         951                 63   \n",
       "\n",
       "                       result_family_status  \n",
       "family_status                                \n",
       "Не женат / не замужем              0.097639  \n",
       "гражданский брак                   0.092883  \n",
       "женат / замужем                    0.075575  \n",
       "в разводе                          0.070648  \n",
       "вдовец / вдова                     0.066246  "
      ]
     },
     "execution_count": 30,
     "metadata": {},
     "output_type": "execute_result"
    }
   ],
   "source": [
    "# создадим таблицу, сгрупированную по семейному статусу, где в столбцах посчитаем \n",
    "# количество и сумму задолжности по кредиту. Добавим столбец с конверсией по задолжности.\n",
    "data_family_status = pd.DataFrame()\n",
    "data_family_status['count_family_status'] = data.groupby('family_status')['debt'].count()\n",
    "data_family_status['sum_family_status'] = data.groupby('family_status')['debt'].sum()\n",
    "data_family_status['result_family_status'] = data_family_status['sum_family_status'] / data_family_status['count_family_status'] \n",
    "data_family_status.sort_values('result_family_status', ascending = False)"
   ]
  },
  {
   "cell_type": "markdown",
   "metadata": {},
   "source": [
    "**Вывод**"
   ]
  },
  {
   "cell_type": "markdown",
   "metadata": {},
   "source": [
    "Всех больше невозвратов по кредиту у не женатых/не замужних. Самые ответственные плательщики по кредиту - это вдовы/вдовцы. Одиночки, но которые после развода платят кредиты более ответственно, нежели одиночки, которые не были женаты/замужем."
   ]
  },
  {
   "cell_type": "markdown",
   "metadata": {},
   "source": [
    "- Есть ли зависимость между уровнем дохода и возвратом кредита в срок?"
   ]
  },
  {
   "cell_type": "code",
   "execution_count": 31,
   "metadata": {},
   "outputs": [
    {
     "data": {
      "text/html": [
       "<div>\n",
       "<style scoped>\n",
       "    .dataframe tbody tr th:only-of-type {\n",
       "        vertical-align: middle;\n",
       "    }\n",
       "\n",
       "    .dataframe tbody tr th {\n",
       "        vertical-align: top;\n",
       "    }\n",
       "\n",
       "    .dataframe thead th {\n",
       "        text-align: right;\n",
       "    }\n",
       "</style>\n",
       "<table border=\"1\" class=\"dataframe\">\n",
       "  <thead>\n",
       "    <tr style=\"text-align: right;\">\n",
       "      <th></th>\n",
       "      <th>count_total_income</th>\n",
       "      <th>sum_total_income</th>\n",
       "      <th>result_total_income</th>\n",
       "    </tr>\n",
       "    <tr>\n",
       "      <th>total_income_group</th>\n",
       "      <th></th>\n",
       "      <th></th>\n",
       "      <th></th>\n",
       "    </tr>\n",
       "  </thead>\n",
       "  <tbody>\n",
       "    <tr>\n",
       "      <th>средний</th>\n",
       "      <td>15430</td>\n",
       "      <td>1272</td>\n",
       "      <td>0.082437</td>\n",
       "    </tr>\n",
       "    <tr>\n",
       "      <th>низкий</th>\n",
       "      <td>4444</td>\n",
       "      <td>354</td>\n",
       "      <td>0.079658</td>\n",
       "    </tr>\n",
       "    <tr>\n",
       "      <th>высокий</th>\n",
       "      <td>1473</td>\n",
       "      <td>106</td>\n",
       "      <td>0.071962</td>\n",
       "    </tr>\n",
       "  </tbody>\n",
       "</table>\n",
       "</div>"
      ],
      "text/plain": [
       "                    count_total_income  sum_total_income  result_total_income\n",
       "total_income_group                                                           \n",
       "средний                          15430              1272             0.082437\n",
       "низкий                            4444               354             0.079658\n",
       "высокий                           1473               106             0.071962"
      ]
     },
     "execution_count": 31,
     "metadata": {},
     "output_type": "execute_result"
    }
   ],
   "source": [
    "# создадим таблицу, сгрупированную по уровню дохода, где в столбцах посчитаем \n",
    "# количество и сумму задолжности по кредиту. Добавим столбец с конверсией по задолжности.\n",
    "data_total_income = pd.DataFrame()\n",
    "data_total_income['count_total_income'] = data.groupby('total_income_group')['debt'].count()\n",
    "data_total_income['sum_total_income'] = data.groupby('total_income_group')['debt'].sum()\n",
    "data_total_income['result_total_income'] = data_total_income['sum_total_income'] / data_total_income['count_total_income'] \n",
    "data_total_income.sort_values('result_total_income', ascending = False)"
   ]
  },
  {
   "cell_type": "markdown",
   "metadata": {},
   "source": [
    "**Вывод**"
   ]
  },
  {
   "cell_type": "markdown",
   "metadata": {},
   "source": [
    "Мы видим, что клиенты с высоким уровнем дохода, берут кредиты почти в 10 раз меньше, чем клиенты со средним уровнем дохода. Зависимость между уровнем дохода и возвратом кредита есть. Люди с высоким уровнем дохода меньше допускают просроков по кредиту. Клиенты со средним уровнем дохода, имеют задолжность по кредиту чаше, чем люди с низким и высоким уровнем дохода.\n",
    "\n",
    "Но полученный результат нельзя считать достоверным, так как в столбце с уровнем дохода, было пропущено много значений и замена медианой, не гарантирует точный результат. Так же при категоризации по доходу, мы взяли границы по субъективному мнению, что тоже может исказить результат. "
   ]
  },
  {
   "cell_type": "markdown",
   "metadata": {},
   "source": [
    "- Как разные цели кредита влияют на его возврат в срок?"
   ]
  },
  {
   "cell_type": "code",
   "execution_count": 32,
   "metadata": {},
   "outputs": [
    {
     "data": {
      "text/html": [
       "<div>\n",
       "<style scoped>\n",
       "    .dataframe tbody tr th:only-of-type {\n",
       "        vertical-align: middle;\n",
       "    }\n",
       "\n",
       "    .dataframe tbody tr th {\n",
       "        vertical-align: top;\n",
       "    }\n",
       "\n",
       "    .dataframe thead th {\n",
       "        text-align: right;\n",
       "    }\n",
       "</style>\n",
       "<table border=\"1\" class=\"dataframe\">\n",
       "  <thead>\n",
       "    <tr style=\"text-align: right;\">\n",
       "      <th></th>\n",
       "      <th>count_purpose_group</th>\n",
       "      <th>sum_purpose_group</th>\n",
       "      <th>result_purpose_group</th>\n",
       "    </tr>\n",
       "    <tr>\n",
       "      <th>purpose_group</th>\n",
       "      <th></th>\n",
       "      <th></th>\n",
       "      <th></th>\n",
       "    </tr>\n",
       "  </thead>\n",
       "  <tbody>\n",
       "    <tr>\n",
       "      <th>автомобиль</th>\n",
       "      <td>4281</td>\n",
       "      <td>400</td>\n",
       "      <td>0.093436</td>\n",
       "    </tr>\n",
       "    <tr>\n",
       "      <th>образование</th>\n",
       "      <td>3989</td>\n",
       "      <td>369</td>\n",
       "      <td>0.092504</td>\n",
       "    </tr>\n",
       "    <tr>\n",
       "      <th>свадьба</th>\n",
       "      <td>2323</td>\n",
       "      <td>183</td>\n",
       "      <td>0.078777</td>\n",
       "    </tr>\n",
       "    <tr>\n",
       "      <th>недвижимость</th>\n",
       "      <td>10754</td>\n",
       "      <td>780</td>\n",
       "      <td>0.072531</td>\n",
       "    </tr>\n",
       "  </tbody>\n",
       "</table>\n",
       "</div>"
      ],
      "text/plain": [
       "               count_purpose_group  sum_purpose_group  result_purpose_group\n",
       "purpose_group                                                              \n",
       "автомобиль                    4281                400              0.093436\n",
       "образование                   3989                369              0.092504\n",
       "свадьба                       2323                183              0.078777\n",
       "недвижимость                 10754                780              0.072531"
      ]
     },
     "execution_count": 32,
     "metadata": {},
     "output_type": "execute_result"
    }
   ],
   "source": [
    "# создадим таблицу, сгрупированную по цели кредита, где в столбцах посчитаем \n",
    "# количество и сумму задолжности по кредиту. Добавим столбец с конверсией по задолжности.\n",
    "data_purpose_group = pd.DataFrame()\n",
    "data_purpose_group['count_purpose_group'] = data.groupby('purpose_group')['debt'].count()\n",
    "data_purpose_group['sum_purpose_group'] = data.groupby('purpose_group')['debt'].sum()\n",
    "data_purpose_group['result_purpose_group'] = data_purpose_group['sum_purpose_group'] / data_purpose_group['count_purpose_group'] \n",
    "data_purpose_group.sort_values('result_purpose_group', ascending = False)"
   ]
  },
  {
   "cell_type": "markdown",
   "metadata": {},
   "source": [
    "**Вывод**"
   ]
  },
  {
   "cell_type": "markdown",
   "metadata": {},
   "source": [
    "Мы видим, что задолжности по кредиту меньше у людей, которые берут деньги на недвижимость и свадьбу. Возможно, это связанно с тем, что когда люди берут деньги на недвижимость, они все детальней просчитывают и более ответственно подходят к делу, чтобы не потерять \"крышу над головой\". А на свадьбу сумма кредита не очень велика, что ее не так сложно вернуть."
   ]
  },
  {
   "cell_type": "markdown",
   "metadata": {},
   "source": [
    "## Шаг 4. Общий вывод"
   ]
  },
  {
   "cell_type": "markdown",
   "metadata": {},
   "source": [
    "I. В предобрабтке данных:\n",
    " * Мы нашли пропуски - явные и неявные, проанализировали возможные причины их появления  и заполнили их. \n",
    " * Нашли аномальные значения и тоже их устранили.\n",
    " * Привели столбцы 'days_employed' и 'total_income' к целочисленному типу данных и заменили все отрицательные значения столбца 'days_employed' на положительные.\n",
    " * Так же мы выявили все дубликаты - явные и неявные и проработали их. \n",
    " * В столбце 'purpose' мы обнаружили, что похожие цели написаны в разных вариациях. И при помощи лемматизации объеденили ряд похожих целей в четыре основных: недвижимость, автомобиль, образование, свадьба.\n",
    " * Далее для удобства ответов на вопросы, мы добавили к таблице с данными два столбца, в которых категоризировали данные. В первом столбце поделили клиентов на имеющих детей и неимеющих. Во втором, по уровню дохода.\n",
    "   \n",
    "\n",
    "II. Мы проверили четыре гипотезы и установили:\n",
    "\n",
    "  * Да зависимость между наличием детей и возвратом кредита в срок есть. Клиенты не имеющие детей реже допускают просрок по кредиту.\n",
    "\n",
    "  * Есть зависимость между семейным положением и возвратом кредита в срок. Всех больше невозвратов по кредиту у не женатых/не замужних. Самые ответственные плательщики по кредиту - это вдовы/вдовцы. \n",
    "\n",
    "  * Зависимость, между уровнем дохода и возвратом кредита в срок есть, но ее нельзя считать достоверной, так как было пропущено 10,1% данных и замена пропусков медианой, не гарантирует достоверный результат. Так же разница между конверсиями не велика, что в действительности может иметь противоположный результат, так как категоризация по уровню дохода была взята условно.\n",
    "\n",
    "  * Зависимость, как цели кредита влияют на его возврат в срок - есть. Мы видим, что задолжности по кредиту меньше у людей, которые берут деньги на недвижимость и свадьбу.\n",
    "\n",
    "III. Рекомендации:\n",
    "\n",
    " * Можно порекомендовать банку откорретировать анкету \"заявка на получения кредита\", в которой, в графах \"цели кредита\" и \"образования\", предложить потенциальным заёмщикам выбирать из готовых вариантов ответов, тем самым мы уменьшим количество неявных дубликатов и упростим дальнейший анализ данных.\n",
    "\n",
    " * Конечно из данных одного банка не всегда можно сделать вывод о всех жителях города, но все же для оценки способности потенциального заёмщика вернуть кредит банку можно учитывать при построении модели **кредитного скоринга** семейное положение и количество детей, а так же цели для взятия кредита. Потому что после проверки гипотез, мы проследили, что есть зависимость между этими вопросами и возвратом кредита в срок.\n",
    "\n"
   ]
  }
 ],
 "metadata": {
  "ExecuteTimeLog": [
   {
    "duration": 3880,
    "start_time": "2021-12-08T09:49:37.425Z"
   },
   {
    "duration": 3953,
    "start_time": "2021-12-08T09:50:08.967Z"
   },
   {
    "duration": 2730,
    "start_time": "2021-12-08T09:50:45.321Z"
   },
   {
    "duration": 2805,
    "start_time": "2021-12-08T09:51:08.011Z"
   },
   {
    "duration": 2987,
    "start_time": "2021-12-08T09:51:16.891Z"
   },
   {
    "duration": 115,
    "start_time": "2021-12-08T09:52:09.326Z"
   },
   {
    "duration": 684,
    "start_time": "2021-12-08T17:10:26.410Z"
   },
   {
    "duration": 58,
    "start_time": "2021-12-08T17:11:17.154Z"
   },
   {
    "duration": 58,
    "start_time": "2021-12-08T17:13:53.174Z"
   },
   {
    "duration": 60,
    "start_time": "2021-12-08T17:33:24.590Z"
   },
   {
    "duration": 61,
    "start_time": "2021-12-08T17:37:32.230Z"
   },
   {
    "duration": 57,
    "start_time": "2021-12-08T17:44:11.329Z"
   },
   {
    "duration": 55,
    "start_time": "2021-12-08T17:51:45.641Z"
   },
   {
    "duration": 7,
    "start_time": "2021-12-08T17:51:58.365Z"
   },
   {
    "duration": 7,
    "start_time": "2021-12-08T17:54:05.763Z"
   },
   {
    "duration": 4303,
    "start_time": "2021-12-08T17:55:21.615Z"
   },
   {
    "duration": 8,
    "start_time": "2021-12-08T17:55:35.495Z"
   },
   {
    "duration": 8,
    "start_time": "2021-12-08T17:55:59.067Z"
   },
   {
    "duration": 8,
    "start_time": "2021-12-08T17:56:29.193Z"
   },
   {
    "duration": 7,
    "start_time": "2021-12-08T18:00:25.230Z"
   },
   {
    "duration": 10,
    "start_time": "2021-12-08T18:01:43.198Z"
   },
   {
    "duration": 7,
    "start_time": "2021-12-08T18:01:59.125Z"
   },
   {
    "duration": 11,
    "start_time": "2021-12-08T18:06:07.065Z"
   },
   {
    "duration": 10,
    "start_time": "2021-12-08T18:06:45.509Z"
   },
   {
    "duration": 7,
    "start_time": "2021-12-08T18:07:28.232Z"
   },
   {
    "duration": 8,
    "start_time": "2021-12-08T18:07:54.395Z"
   },
   {
    "duration": 11,
    "start_time": "2021-12-08T18:08:59.267Z"
   },
   {
    "duration": 64,
    "start_time": "2021-12-08T18:32:55.549Z"
   },
   {
    "duration": 3,
    "start_time": "2021-12-08T18:36:07.456Z"
   },
   {
    "duration": 381,
    "start_time": "2021-12-09T07:14:16.994Z"
   },
   {
    "duration": 817,
    "start_time": "2021-12-09T07:14:27.879Z"
   },
   {
    "duration": 100,
    "start_time": "2021-12-09T07:14:28.698Z"
   },
   {
    "duration": 23,
    "start_time": "2021-12-09T07:14:28.801Z"
   },
   {
    "duration": 10,
    "start_time": "2021-12-09T07:14:28.827Z"
   },
   {
    "duration": 10,
    "start_time": "2021-12-09T07:15:12.133Z"
   },
   {
    "duration": 11,
    "start_time": "2021-12-09T07:15:25.574Z"
   },
   {
    "duration": 9,
    "start_time": "2021-12-09T07:15:59.960Z"
   },
   {
    "duration": 10,
    "start_time": "2021-12-09T07:17:41.085Z"
   },
   {
    "duration": 8,
    "start_time": "2021-12-09T07:18:06.225Z"
   },
   {
    "duration": 348,
    "start_time": "2021-12-09T07:25:15.538Z"
   },
   {
    "duration": 108,
    "start_time": "2021-12-09T07:25:56.720Z"
   },
   {
    "duration": 7,
    "start_time": "2021-12-09T07:26:02.214Z"
   },
   {
    "duration": 7,
    "start_time": "2021-12-09T07:26:24.888Z"
   },
   {
    "duration": 12,
    "start_time": "2021-12-09T07:26:36.009Z"
   },
   {
    "duration": 11,
    "start_time": "2021-12-09T07:28:20.314Z"
   },
   {
    "duration": 19,
    "start_time": "2021-12-09T07:34:10.318Z"
   },
   {
    "duration": 10,
    "start_time": "2021-12-09T07:36:12.668Z"
   },
   {
    "duration": 19,
    "start_time": "2021-12-09T07:36:58.288Z"
   },
   {
    "duration": 11,
    "start_time": "2021-12-09T07:37:35.576Z"
   },
   {
    "duration": 11,
    "start_time": "2021-12-09T07:37:49.634Z"
   },
   {
    "duration": 13,
    "start_time": "2021-12-09T07:38:03.962Z"
   },
   {
    "duration": 12,
    "start_time": "2021-12-09T07:38:16.552Z"
   },
   {
    "duration": 12,
    "start_time": "2021-12-09T07:38:29.087Z"
   },
   {
    "duration": 12,
    "start_time": "2021-12-09T07:38:43.714Z"
   },
   {
    "duration": 21,
    "start_time": "2021-12-09T07:39:14.138Z"
   },
   {
    "duration": 9,
    "start_time": "2021-12-09T07:40:50.095Z"
   },
   {
    "duration": 313,
    "start_time": "2021-12-09T11:50:08.248Z"
   },
   {
    "duration": 195,
    "start_time": "2021-12-09T11:50:14.418Z"
   },
   {
    "duration": 83,
    "start_time": "2021-12-09T11:50:25.452Z"
   },
   {
    "duration": 80,
    "start_time": "2021-12-09T11:50:33.797Z"
   },
   {
    "duration": 598,
    "start_time": "2021-12-09T11:50:42.960Z"
   },
   {
    "duration": 73,
    "start_time": "2021-12-09T11:50:43.560Z"
   },
   {
    "duration": 11,
    "start_time": "2021-12-09T11:50:43.635Z"
   },
   {
    "duration": 7,
    "start_time": "2021-12-09T11:50:43.648Z"
   },
   {
    "duration": 13,
    "start_time": "2021-12-09T11:50:43.657Z"
   },
   {
    "duration": 83,
    "start_time": "2021-12-09T11:50:43.672Z"
   },
   {
    "duration": 3448,
    "start_time": "2021-12-09T11:50:40.309Z"
   },
   {
    "duration": 10,
    "start_time": "2021-12-09T11:51:31.963Z"
   },
   {
    "duration": 84,
    "start_time": "2021-12-09T11:51:49.165Z"
   },
   {
    "duration": 3,
    "start_time": "2021-12-09T11:51:53.075Z"
   },
   {
    "duration": 74,
    "start_time": "2021-12-09T11:51:53.083Z"
   },
   {
    "duration": 15,
    "start_time": "2021-12-09T11:51:53.159Z"
   },
   {
    "duration": 34,
    "start_time": "2021-12-09T11:51:53.177Z"
   },
   {
    "duration": 15,
    "start_time": "2021-12-09T11:51:53.213Z"
   },
   {
    "duration": 120,
    "start_time": "2021-12-09T11:51:53.229Z"
   },
   {
    "duration": 3462,
    "start_time": "2021-12-09T11:51:49.890Z"
   },
   {
    "duration": 7,
    "start_time": "2021-12-09T11:52:16.162Z"
   },
   {
    "duration": 126,
    "start_time": "2021-12-09T11:52:49.777Z"
   },
   {
    "duration": 10,
    "start_time": "2021-12-09T11:52:55.701Z"
   },
   {
    "duration": 58,
    "start_time": "2021-12-09T11:54:30.496Z"
   },
   {
    "duration": 17,
    "start_time": "2021-12-09T11:57:23.695Z"
   },
   {
    "duration": 21,
    "start_time": "2021-12-09T11:57:45.721Z"
   },
   {
    "duration": 15,
    "start_time": "2021-12-09T11:57:52.317Z"
   },
   {
    "duration": 10,
    "start_time": "2021-12-09T11:58:53.832Z"
   },
   {
    "duration": 13,
    "start_time": "2021-12-09T11:59:00.491Z"
   },
   {
    "duration": 7,
    "start_time": "2021-12-09T11:59:15.085Z"
   },
   {
    "duration": 11,
    "start_time": "2021-12-09T12:00:57.626Z"
   },
   {
    "duration": 10,
    "start_time": "2021-12-09T12:02:35.065Z"
   },
   {
    "duration": 6,
    "start_time": "2021-12-09T12:03:37.912Z"
   },
   {
    "duration": 196,
    "start_time": "2021-12-09T12:04:19.749Z"
   },
   {
    "duration": 8,
    "start_time": "2021-12-09T12:32:35.839Z"
   },
   {
    "duration": 7,
    "start_time": "2021-12-09T12:54:24.824Z"
   },
   {
    "duration": 17,
    "start_time": "2021-12-09T13:08:20.088Z"
   },
   {
    "duration": 201,
    "start_time": "2021-12-09T16:56:28.333Z"
   },
   {
    "duration": 563,
    "start_time": "2021-12-09T16:56:36.262Z"
   },
   {
    "duration": 67,
    "start_time": "2021-12-09T16:56:36.827Z"
   },
   {
    "duration": 12,
    "start_time": "2021-12-09T16:56:36.896Z"
   },
   {
    "duration": 28,
    "start_time": "2021-12-09T16:56:36.910Z"
   },
   {
    "duration": 13,
    "start_time": "2021-12-09T16:56:36.940Z"
   },
   {
    "duration": 18,
    "start_time": "2021-12-09T16:56:36.955Z"
   },
   {
    "duration": 7,
    "start_time": "2021-12-09T16:56:36.975Z"
   },
   {
    "duration": 12,
    "start_time": "2021-12-09T16:56:36.984Z"
   },
   {
    "duration": 16,
    "start_time": "2021-12-09T16:56:36.998Z"
   },
   {
    "duration": 15,
    "start_time": "2021-12-09T16:59:17.684Z"
   },
   {
    "duration": 24,
    "start_time": "2021-12-09T17:03:37.686Z"
   },
   {
    "duration": 5,
    "start_time": "2021-12-09T17:08:55.749Z"
   },
   {
    "duration": 5,
    "start_time": "2021-12-09T17:09:57.984Z"
   },
   {
    "duration": 5,
    "start_time": "2021-12-09T17:10:14.720Z"
   },
   {
    "duration": 6,
    "start_time": "2021-12-09T17:10:31.310Z"
   },
   {
    "duration": 6,
    "start_time": "2021-12-09T17:10:48.453Z"
   },
   {
    "duration": 6,
    "start_time": "2021-12-09T17:50:22.633Z"
   },
   {
    "duration": 6,
    "start_time": "2021-12-09T17:50:32.458Z"
   },
   {
    "duration": 57,
    "start_time": "2021-12-09T18:06:24.370Z"
   },
   {
    "duration": 12,
    "start_time": "2021-12-09T18:06:49.236Z"
   },
   {
    "duration": 8,
    "start_time": "2021-12-09T18:35:52.521Z"
   },
   {
    "duration": 16,
    "start_time": "2021-12-09T18:36:59.031Z"
   },
   {
    "duration": 234,
    "start_time": "2021-12-09T18:43:44.881Z"
   },
   {
    "duration": 7,
    "start_time": "2021-12-09T18:44:05.287Z"
   },
   {
    "duration": 13,
    "start_time": "2021-12-09T18:44:25.932Z"
   },
   {
    "duration": 5,
    "start_time": "2021-12-09T18:47:33.511Z"
   },
   {
    "duration": 427,
    "start_time": "2021-12-09T19:27:08.897Z"
   },
   {
    "duration": 3,
    "start_time": "2021-12-09T19:27:32.585Z"
   },
   {
    "duration": 555,
    "start_time": "2021-12-09T19:27:36.540Z"
   },
   {
    "duration": 3,
    "start_time": "2021-12-09T19:28:53.175Z"
   },
   {
    "duration": 5,
    "start_time": "2021-12-09T19:29:28.023Z"
   },
   {
    "duration": 342,
    "start_time": "2021-12-09T19:29:57.110Z"
   },
   {
    "duration": 327,
    "start_time": "2021-12-09T19:32:11.623Z"
   },
   {
    "duration": 5,
    "start_time": "2021-12-09T19:35:32.426Z"
   },
   {
    "duration": 8,
    "start_time": "2021-12-09T19:36:01.702Z"
   },
   {
    "duration": 10,
    "start_time": "2021-12-09T19:39:28.857Z"
   },
   {
    "duration": 529,
    "start_time": "2021-12-09T19:39:46.917Z"
   },
   {
    "duration": 68,
    "start_time": "2021-12-09T19:39:47.448Z"
   },
   {
    "duration": 11,
    "start_time": "2021-12-09T19:39:47.520Z"
   },
   {
    "duration": 14,
    "start_time": "2021-12-09T19:39:47.532Z"
   },
   {
    "duration": 12,
    "start_time": "2021-12-09T19:39:47.548Z"
   },
   {
    "duration": 6,
    "start_time": "2021-12-09T19:39:47.562Z"
   },
   {
    "duration": 7,
    "start_time": "2021-12-09T19:39:47.592Z"
   },
   {
    "duration": 6,
    "start_time": "2021-12-09T19:39:47.601Z"
   },
   {
    "duration": 15,
    "start_time": "2021-12-09T19:39:47.608Z"
   },
   {
    "duration": 21,
    "start_time": "2021-12-09T19:39:47.625Z"
   },
   {
    "duration": 4,
    "start_time": "2021-12-09T19:39:47.648Z"
   },
   {
    "duration": 39,
    "start_time": "2021-12-09T19:39:47.653Z"
   },
   {
    "duration": 9,
    "start_time": "2021-12-09T19:39:47.694Z"
   },
   {
    "duration": 13,
    "start_time": "2021-12-09T19:39:47.704Z"
   },
   {
    "duration": 7,
    "start_time": "2021-12-09T19:39:47.718Z"
   },
   {
    "duration": 3,
    "start_time": "2021-12-09T19:39:47.727Z"
   },
   {
    "duration": 60,
    "start_time": "2021-12-09T19:40:38.878Z"
   },
   {
    "duration": 5,
    "start_time": "2021-12-09T19:40:43.733Z"
   },
   {
    "duration": 7,
    "start_time": "2021-12-09T19:41:34.417Z"
   },
   {
    "duration": 8,
    "start_time": "2021-12-09T19:41:40.040Z"
   },
   {
    "duration": 537,
    "start_time": "2021-12-09T19:41:46.334Z"
   },
   {
    "duration": 69,
    "start_time": "2021-12-09T19:41:46.873Z"
   },
   {
    "duration": 11,
    "start_time": "2021-12-09T19:41:46.945Z"
   },
   {
    "duration": 35,
    "start_time": "2021-12-09T19:41:46.957Z"
   },
   {
    "duration": 9,
    "start_time": "2021-12-09T19:41:46.994Z"
   },
   {
    "duration": 31,
    "start_time": "2021-12-09T19:41:47.005Z"
   },
   {
    "duration": 20,
    "start_time": "2021-12-09T19:41:47.038Z"
   },
   {
    "duration": 10,
    "start_time": "2021-12-09T19:41:47.060Z"
   },
   {
    "duration": 36,
    "start_time": "2021-12-09T19:41:47.072Z"
   },
   {
    "duration": 22,
    "start_time": "2021-12-09T19:41:47.109Z"
   },
   {
    "duration": 6,
    "start_time": "2021-12-09T19:41:47.132Z"
   },
   {
    "duration": 15,
    "start_time": "2021-12-09T19:41:47.139Z"
   },
   {
    "duration": 26,
    "start_time": "2021-12-09T19:41:47.156Z"
   },
   {
    "duration": 20,
    "start_time": "2021-12-09T19:41:47.184Z"
   },
   {
    "duration": 11,
    "start_time": "2021-12-09T19:41:47.206Z"
   },
   {
    "duration": 10,
    "start_time": "2021-12-09T19:41:47.219Z"
   },
   {
    "duration": 24,
    "start_time": "2021-12-09T19:41:47.231Z"
   },
   {
    "duration": 10,
    "start_time": "2021-12-09T19:42:24.983Z"
   },
   {
    "duration": 11,
    "start_time": "2021-12-09T19:42:27.714Z"
   },
   {
    "duration": 8,
    "start_time": "2021-12-09T19:42:28.552Z"
   },
   {
    "duration": 571,
    "start_time": "2021-12-09T19:42:59.804Z"
   },
   {
    "duration": 70,
    "start_time": "2021-12-09T19:43:00.377Z"
   },
   {
    "duration": 13,
    "start_time": "2021-12-09T19:43:00.449Z"
   },
   {
    "duration": 28,
    "start_time": "2021-12-09T19:43:00.464Z"
   },
   {
    "duration": 11,
    "start_time": "2021-12-09T19:43:00.494Z"
   },
   {
    "duration": 22,
    "start_time": "2021-12-09T19:43:00.506Z"
   },
   {
    "duration": 42,
    "start_time": "2021-12-09T19:43:00.530Z"
   },
   {
    "duration": 24,
    "start_time": "2021-12-09T19:43:00.575Z"
   },
   {
    "duration": 25,
    "start_time": "2021-12-09T19:43:00.602Z"
   },
   {
    "duration": 23,
    "start_time": "2021-12-09T19:43:00.629Z"
   },
   {
    "duration": 6,
    "start_time": "2021-12-09T19:43:00.654Z"
   },
   {
    "duration": 30,
    "start_time": "2021-12-09T19:43:00.662Z"
   },
   {
    "duration": 14,
    "start_time": "2021-12-09T19:43:00.694Z"
   },
   {
    "duration": 19,
    "start_time": "2021-12-09T19:43:00.709Z"
   },
   {
    "duration": 15,
    "start_time": "2021-12-09T19:43:00.730Z"
   },
   {
    "duration": 19,
    "start_time": "2021-12-09T19:43:00.747Z"
   },
   {
    "duration": 5,
    "start_time": "2021-12-09T19:44:47.275Z"
   },
   {
    "duration": 256,
    "start_time": "2021-12-10T16:23:27.092Z"
   },
   {
    "duration": 591,
    "start_time": "2021-12-10T16:23:36.047Z"
   },
   {
    "duration": 65,
    "start_time": "2021-12-10T16:23:36.640Z"
   },
   {
    "duration": 11,
    "start_time": "2021-12-10T16:23:36.707Z"
   },
   {
    "duration": 14,
    "start_time": "2021-12-10T16:23:36.720Z"
   },
   {
    "duration": 15,
    "start_time": "2021-12-10T16:23:36.736Z"
   },
   {
    "duration": 15,
    "start_time": "2021-12-10T16:23:36.752Z"
   },
   {
    "duration": 21,
    "start_time": "2021-12-10T16:23:36.769Z"
   },
   {
    "duration": 14,
    "start_time": "2021-12-10T16:23:36.792Z"
   },
   {
    "duration": 23,
    "start_time": "2021-12-10T16:23:36.808Z"
   },
   {
    "duration": 24,
    "start_time": "2021-12-10T16:23:36.833Z"
   },
   {
    "duration": 4,
    "start_time": "2021-12-10T16:23:36.859Z"
   },
   {
    "duration": 20,
    "start_time": "2021-12-10T16:23:36.864Z"
   },
   {
    "duration": 13,
    "start_time": "2021-12-10T16:23:36.886Z"
   },
   {
    "duration": 24,
    "start_time": "2021-12-10T16:23:36.900Z"
   },
   {
    "duration": 8,
    "start_time": "2021-12-10T16:23:36.926Z"
   },
   {
    "duration": 19,
    "start_time": "2021-12-10T16:23:36.935Z"
   },
   {
    "duration": 4,
    "start_time": "2021-12-10T16:23:43.064Z"
   },
   {
    "duration": 9,
    "start_time": "2021-12-10T16:23:59.943Z"
   },
   {
    "duration": 5,
    "start_time": "2021-12-10T16:24:31.866Z"
   },
   {
    "duration": 274,
    "start_time": "2021-12-10T16:28:13.462Z"
   },
   {
    "duration": 9,
    "start_time": "2021-12-10T16:28:22.380Z"
   },
   {
    "duration": 8,
    "start_time": "2021-12-10T16:32:08.648Z"
   },
   {
    "duration": 5,
    "start_time": "2021-12-10T16:32:19.568Z"
   },
   {
    "duration": 9,
    "start_time": "2021-12-10T16:32:53.689Z"
   },
   {
    "duration": 9,
    "start_time": "2021-12-10T16:43:21.177Z"
   },
   {
    "duration": 11,
    "start_time": "2021-12-10T16:43:27.434Z"
   },
   {
    "duration": 609,
    "start_time": "2021-12-10T16:43:38.272Z"
   },
   {
    "duration": 67,
    "start_time": "2021-12-10T16:43:38.883Z"
   },
   {
    "duration": 10,
    "start_time": "2021-12-10T16:43:38.952Z"
   },
   {
    "duration": 23,
    "start_time": "2021-12-10T16:43:38.964Z"
   },
   {
    "duration": 31,
    "start_time": "2021-12-10T16:43:38.988Z"
   },
   {
    "duration": 34,
    "start_time": "2021-12-10T16:43:39.021Z"
   },
   {
    "duration": 16,
    "start_time": "2021-12-10T16:43:39.057Z"
   },
   {
    "duration": 21,
    "start_time": "2021-12-10T16:43:39.075Z"
   },
   {
    "duration": 60,
    "start_time": "2021-12-10T16:43:39.098Z"
   },
   {
    "duration": 61,
    "start_time": "2021-12-10T16:43:39.159Z"
   },
   {
    "duration": 28,
    "start_time": "2021-12-10T16:43:39.221Z"
   },
   {
    "duration": 24,
    "start_time": "2021-12-10T16:43:39.250Z"
   },
   {
    "duration": 32,
    "start_time": "2021-12-10T16:43:39.276Z"
   },
   {
    "duration": 21,
    "start_time": "2021-12-10T16:43:39.310Z"
   },
   {
    "duration": 11,
    "start_time": "2021-12-10T16:43:39.333Z"
   },
   {
    "duration": 45,
    "start_time": "2021-12-10T16:43:39.345Z"
   },
   {
    "duration": 30,
    "start_time": "2021-12-10T16:43:39.392Z"
   },
   {
    "duration": 4,
    "start_time": "2021-12-10T17:16:42.042Z"
   },
   {
    "duration": 5,
    "start_time": "2021-12-10T17:17:03.706Z"
   },
   {
    "duration": 2,
    "start_time": "2021-12-10T17:17:17.605Z"
   },
   {
    "duration": 5,
    "start_time": "2021-12-10T17:17:54.724Z"
   },
   {
    "duration": 5,
    "start_time": "2021-12-10T17:19:38.116Z"
   },
   {
    "duration": 8,
    "start_time": "2021-12-10T17:50:42.413Z"
   },
   {
    "duration": 7,
    "start_time": "2021-12-10T17:53:01.905Z"
   },
   {
    "duration": 7,
    "start_time": "2021-12-10T17:54:04.044Z"
   },
   {
    "duration": 598,
    "start_time": "2021-12-10T17:54:14.773Z"
   },
   {
    "duration": 67,
    "start_time": "2021-12-10T17:54:15.373Z"
   },
   {
    "duration": 10,
    "start_time": "2021-12-10T17:54:15.442Z"
   },
   {
    "duration": 16,
    "start_time": "2021-12-10T17:54:15.454Z"
   },
   {
    "duration": 8,
    "start_time": "2021-12-10T17:54:15.471Z"
   },
   {
    "duration": 6,
    "start_time": "2021-12-10T17:54:15.480Z"
   },
   {
    "duration": 6,
    "start_time": "2021-12-10T17:54:15.487Z"
   },
   {
    "duration": 6,
    "start_time": "2021-12-10T17:54:15.495Z"
   },
   {
    "duration": 3,
    "start_time": "2021-12-10T17:54:15.503Z"
   },
   {
    "duration": 19,
    "start_time": "2021-12-10T17:54:15.508Z"
   },
   {
    "duration": 49,
    "start_time": "2021-12-10T17:54:15.528Z"
   },
   {
    "duration": 4,
    "start_time": "2021-12-10T17:54:15.579Z"
   },
   {
    "duration": 7,
    "start_time": "2021-12-10T17:54:15.584Z"
   },
   {
    "duration": 7,
    "start_time": "2021-12-10T17:54:15.592Z"
   },
   {
    "duration": 16,
    "start_time": "2021-12-10T17:54:15.601Z"
   },
   {
    "duration": 4,
    "start_time": "2021-12-10T17:54:15.619Z"
   },
   {
    "duration": 39,
    "start_time": "2021-12-10T17:54:15.625Z"
   },
   {
    "duration": 6,
    "start_time": "2021-12-10T17:54:15.666Z"
   },
   {
    "duration": 6,
    "start_time": "2021-12-10T17:54:15.673Z"
   },
   {
    "duration": 7,
    "start_time": "2021-12-10T17:54:30.845Z"
   },
   {
    "duration": 9,
    "start_time": "2021-12-10T17:57:34.223Z"
   },
   {
    "duration": 8,
    "start_time": "2021-12-10T17:59:08.503Z"
   },
   {
    "duration": 604,
    "start_time": "2021-12-10T17:59:37.925Z"
   },
   {
    "duration": 92,
    "start_time": "2021-12-10T17:59:38.531Z"
   },
   {
    "duration": 11,
    "start_time": "2021-12-10T17:59:38.626Z"
   },
   {
    "duration": 32,
    "start_time": "2021-12-10T17:59:38.639Z"
   },
   {
    "duration": 13,
    "start_time": "2021-12-10T17:59:38.673Z"
   },
   {
    "duration": 16,
    "start_time": "2021-12-10T17:59:38.688Z"
   },
   {
    "duration": 23,
    "start_time": "2021-12-10T17:59:38.706Z"
   },
   {
    "duration": 16,
    "start_time": "2021-12-10T17:59:38.732Z"
   },
   {
    "duration": 15,
    "start_time": "2021-12-10T17:59:38.751Z"
   },
   {
    "duration": 26,
    "start_time": "2021-12-10T17:59:38.768Z"
   },
   {
    "duration": 35,
    "start_time": "2021-12-10T17:59:38.797Z"
   },
   {
    "duration": 29,
    "start_time": "2021-12-10T17:59:38.834Z"
   },
   {
    "duration": 8,
    "start_time": "2021-12-10T17:59:38.866Z"
   },
   {
    "duration": 21,
    "start_time": "2021-12-10T17:59:38.876Z"
   },
   {
    "duration": 19,
    "start_time": "2021-12-10T17:59:38.899Z"
   },
   {
    "duration": 6,
    "start_time": "2021-12-10T17:59:38.919Z"
   },
   {
    "duration": 16,
    "start_time": "2021-12-10T17:59:38.926Z"
   },
   {
    "duration": 6,
    "start_time": "2021-12-10T17:59:38.964Z"
   },
   {
    "duration": 8,
    "start_time": "2021-12-10T17:59:38.972Z"
   },
   {
    "duration": 4,
    "start_time": "2021-12-10T17:59:38.981Z"
   },
   {
    "duration": 9,
    "start_time": "2021-12-10T17:59:57.157Z"
   },
   {
    "duration": 6,
    "start_time": "2021-12-10T18:03:32.119Z"
   },
   {
    "duration": 9,
    "start_time": "2021-12-10T18:03:34.632Z"
   },
   {
    "duration": 6,
    "start_time": "2021-12-10T18:04:54.259Z"
   },
   {
    "duration": 337,
    "start_time": "2021-12-10T18:16:28.554Z"
   },
   {
    "duration": 1198,
    "start_time": "2021-12-10T18:17:59.945Z"
   },
   {
    "duration": 842,
    "start_time": "2021-12-10T18:19:23.078Z"
   },
   {
    "duration": 93,
    "start_time": "2021-12-10T18:19:23.922Z"
   },
   {
    "duration": 16,
    "start_time": "2021-12-10T18:19:24.018Z"
   },
   {
    "duration": 35,
    "start_time": "2021-12-10T18:19:24.037Z"
   },
   {
    "duration": 16,
    "start_time": "2021-12-10T18:19:24.074Z"
   },
   {
    "duration": 7,
    "start_time": "2021-12-10T18:19:24.092Z"
   },
   {
    "duration": 27,
    "start_time": "2021-12-10T18:19:24.101Z"
   },
   {
    "duration": 13,
    "start_time": "2021-12-10T18:19:24.131Z"
   },
   {
    "duration": 19,
    "start_time": "2021-12-10T18:19:24.146Z"
   },
   {
    "duration": 34,
    "start_time": "2021-12-10T18:19:24.168Z"
   },
   {
    "duration": 25,
    "start_time": "2021-12-10T18:19:24.204Z"
   },
   {
    "duration": 5,
    "start_time": "2021-12-10T18:19:24.230Z"
   },
   {
    "duration": 29,
    "start_time": "2021-12-10T18:19:24.236Z"
   },
   {
    "duration": 13,
    "start_time": "2021-12-10T18:19:24.268Z"
   },
   {
    "duration": 17,
    "start_time": "2021-12-10T18:19:24.284Z"
   },
   {
    "duration": 4,
    "start_time": "2021-12-10T18:19:24.303Z"
   },
   {
    "duration": 14,
    "start_time": "2021-12-10T18:19:24.309Z"
   },
   {
    "duration": 39,
    "start_time": "2021-12-10T18:19:24.325Z"
   },
   {
    "duration": 18,
    "start_time": "2021-12-10T18:19:24.367Z"
   },
   {
    "duration": 1350,
    "start_time": "2021-12-10T18:19:24.387Z"
   },
   {
    "duration": 1006,
    "start_time": "2021-12-10T18:21:09.160Z"
   },
   {
    "duration": 9,
    "start_time": "2021-12-10T18:23:44.252Z"
   },
   {
    "duration": 16,
    "start_time": "2021-12-10T18:23:45.164Z"
   },
   {
    "duration": 1227,
    "start_time": "2021-12-10T18:23:52.785Z"
   },
   {
    "duration": 2,
    "start_time": "2021-12-10T18:26:21.105Z"
   },
   {
    "duration": 81,
    "start_time": "2021-12-10T18:26:21.111Z"
   },
   {
    "duration": 12,
    "start_time": "2021-12-10T18:26:21.194Z"
   },
   {
    "duration": 13,
    "start_time": "2021-12-10T18:26:21.208Z"
   },
   {
    "duration": 42,
    "start_time": "2021-12-10T18:26:21.224Z"
   },
   {
    "duration": 14,
    "start_time": "2021-12-10T18:26:21.269Z"
   },
   {
    "duration": 11,
    "start_time": "2021-12-10T18:26:21.285Z"
   },
   {
    "duration": 7,
    "start_time": "2021-12-10T18:26:21.298Z"
   },
   {
    "duration": 5,
    "start_time": "2021-12-10T18:26:21.307Z"
   },
   {
    "duration": 17,
    "start_time": "2021-12-10T18:26:21.314Z"
   },
   {
    "duration": 47,
    "start_time": "2021-12-10T18:26:21.332Z"
   },
   {
    "duration": 5,
    "start_time": "2021-12-10T18:26:21.381Z"
   },
   {
    "duration": 9,
    "start_time": "2021-12-10T18:26:21.388Z"
   },
   {
    "duration": 5,
    "start_time": "2021-12-10T18:26:21.399Z"
   },
   {
    "duration": 15,
    "start_time": "2021-12-10T18:26:21.405Z"
   },
   {
    "duration": 6,
    "start_time": "2021-12-10T18:26:21.422Z"
   },
   {
    "duration": 47,
    "start_time": "2021-12-10T18:26:21.430Z"
   },
   {
    "duration": 9,
    "start_time": "2021-12-10T18:26:21.479Z"
   },
   {
    "duration": 12,
    "start_time": "2021-12-10T18:26:21.490Z"
   },
   {
    "duration": 5,
    "start_time": "2021-12-10T18:26:21.504Z"
   },
   {
    "duration": 21,
    "start_time": "2021-12-10T18:26:40.106Z"
   },
   {
    "duration": 11,
    "start_time": "2021-12-10T18:29:42.936Z"
   },
   {
    "duration": 11,
    "start_time": "2021-12-10T18:29:57.030Z"
   },
   {
    "duration": 5,
    "start_time": "2021-12-10T18:31:00.202Z"
   },
   {
    "duration": 10,
    "start_time": "2021-12-10T18:31:00.944Z"
   },
   {
    "duration": 4,
    "start_time": "2021-12-10T18:31:02.032Z"
   },
   {
    "duration": 9,
    "start_time": "2021-12-10T18:31:03.192Z"
   },
   {
    "duration": 6,
    "start_time": "2021-12-10T18:31:03.934Z"
   },
   {
    "duration": 11,
    "start_time": "2021-12-10T18:31:04.872Z"
   },
   {
    "duration": 12,
    "start_time": "2021-12-10T18:31:11.545Z"
   },
   {
    "duration": 12,
    "start_time": "2021-12-10T18:31:15.261Z"
   },
   {
    "duration": 11,
    "start_time": "2021-12-10T18:32:48.469Z"
   },
   {
    "duration": 553,
    "start_time": "2021-12-10T18:33:10.614Z"
   },
   {
    "duration": 67,
    "start_time": "2021-12-10T18:33:11.169Z"
   },
   {
    "duration": 11,
    "start_time": "2021-12-10T18:33:11.238Z"
   },
   {
    "duration": 20,
    "start_time": "2021-12-10T18:33:11.251Z"
   },
   {
    "duration": 11,
    "start_time": "2021-12-10T18:33:11.273Z"
   },
   {
    "duration": 18,
    "start_time": "2021-12-10T18:33:11.286Z"
   },
   {
    "duration": 9,
    "start_time": "2021-12-10T18:33:11.306Z"
   },
   {
    "duration": 7,
    "start_time": "2021-12-10T18:33:11.318Z"
   },
   {
    "duration": 45,
    "start_time": "2021-12-10T18:33:11.326Z"
   },
   {
    "duration": 23,
    "start_time": "2021-12-10T18:33:11.372Z"
   },
   {
    "duration": 4,
    "start_time": "2021-12-10T18:33:11.396Z"
   },
   {
    "duration": 9,
    "start_time": "2021-12-10T18:33:11.402Z"
   },
   {
    "duration": 4,
    "start_time": "2021-12-10T18:33:11.412Z"
   },
   {
    "duration": 14,
    "start_time": "2021-12-10T18:33:11.418Z"
   },
   {
    "duration": 30,
    "start_time": "2021-12-10T18:33:11.434Z"
   },
   {
    "duration": 10,
    "start_time": "2021-12-10T18:33:11.466Z"
   },
   {
    "duration": 3,
    "start_time": "2021-12-10T18:33:11.477Z"
   },
   {
    "duration": 19,
    "start_time": "2021-12-10T18:33:11.482Z"
   },
   {
    "duration": 18,
    "start_time": "2021-12-10T18:33:11.503Z"
   },
   {
    "duration": 46,
    "start_time": "2021-12-10T18:33:11.523Z"
   },
   {
    "duration": 17,
    "start_time": "2021-12-10T18:33:30.806Z"
   },
   {
    "duration": 11,
    "start_time": "2021-12-10T18:33:33.608Z"
   },
   {
    "duration": 82,
    "start_time": "2021-12-10T18:33:57.597Z"
   },
   {
    "duration": 5,
    "start_time": "2021-12-10T18:34:06.992Z"
   },
   {
    "duration": 10,
    "start_time": "2021-12-10T18:34:08.923Z"
   },
   {
    "duration": 18,
    "start_time": "2021-12-10T18:38:59.244Z"
   },
   {
    "duration": 4,
    "start_time": "2021-12-10T18:41:03.802Z"
   },
   {
    "duration": 13,
    "start_time": "2021-12-10T18:41:18.270Z"
   },
   {
    "duration": 6664,
    "start_time": "2021-12-10T18:41:56.039Z"
   },
   {
    "duration": 7159,
    "start_time": "2021-12-10T18:42:27.528Z"
   },
   {
    "duration": 3136,
    "start_time": "2021-12-10T18:42:59.347Z"
   },
   {
    "duration": 14,
    "start_time": "2021-12-10T18:44:21.119Z"
   },
   {
    "duration": 93,
    "start_time": "2021-12-11T08:18:09.533Z"
   },
   {
    "duration": 310,
    "start_time": "2021-12-11T08:18:19.206Z"
   },
   {
    "duration": 717,
    "start_time": "2021-12-11T08:18:35.841Z"
   },
   {
    "duration": 79,
    "start_time": "2021-12-11T08:18:36.561Z"
   },
   {
    "duration": 14,
    "start_time": "2021-12-11T08:18:36.643Z"
   },
   {
    "duration": 33,
    "start_time": "2021-12-11T08:18:36.660Z"
   },
   {
    "duration": 28,
    "start_time": "2021-12-11T08:18:36.695Z"
   },
   {
    "duration": 9,
    "start_time": "2021-12-11T08:18:36.725Z"
   },
   {
    "duration": 23,
    "start_time": "2021-12-11T08:18:36.736Z"
   },
   {
    "duration": 23,
    "start_time": "2021-12-11T08:18:36.762Z"
   },
   {
    "duration": 26,
    "start_time": "2021-12-11T08:18:36.788Z"
   },
   {
    "duration": 33,
    "start_time": "2021-12-11T08:18:36.816Z"
   },
   {
    "duration": 6,
    "start_time": "2021-12-11T08:18:36.851Z"
   },
   {
    "duration": 15,
    "start_time": "2021-12-11T08:18:36.859Z"
   },
   {
    "duration": 15,
    "start_time": "2021-12-11T08:18:36.876Z"
   },
   {
    "duration": 31,
    "start_time": "2021-12-11T08:18:36.893Z"
   },
   {
    "duration": 6,
    "start_time": "2021-12-11T08:18:36.926Z"
   },
   {
    "duration": 17,
    "start_time": "2021-12-11T08:18:36.934Z"
   },
   {
    "duration": 33,
    "start_time": "2021-12-11T08:18:36.954Z"
   },
   {
    "duration": 32,
    "start_time": "2021-12-11T08:18:36.989Z"
   },
   {
    "duration": 28,
    "start_time": "2021-12-11T08:18:37.023Z"
   },
   {
    "duration": 31,
    "start_time": "2021-12-11T08:18:37.053Z"
   },
   {
    "duration": 22,
    "start_time": "2021-12-11T08:19:31.826Z"
   },
   {
    "duration": 17,
    "start_time": "2021-12-11T08:20:07.483Z"
   },
   {
    "duration": 6,
    "start_time": "2021-12-11T08:21:23.375Z"
   },
   {
    "duration": 11,
    "start_time": "2021-12-11T08:21:30.018Z"
   },
   {
    "duration": 735,
    "start_time": "2021-12-11T08:21:43.488Z"
   },
   {
    "duration": 80,
    "start_time": "2021-12-11T08:21:44.226Z"
   },
   {
    "duration": 17,
    "start_time": "2021-12-11T08:21:44.309Z"
   },
   {
    "duration": 39,
    "start_time": "2021-12-11T08:21:44.329Z"
   },
   {
    "duration": 22,
    "start_time": "2021-12-11T08:21:44.370Z"
   },
   {
    "duration": 14,
    "start_time": "2021-12-11T08:21:44.394Z"
   },
   {
    "duration": 24,
    "start_time": "2021-12-11T08:21:44.410Z"
   },
   {
    "duration": 34,
    "start_time": "2021-12-11T08:21:44.438Z"
   },
   {
    "duration": 29,
    "start_time": "2021-12-11T08:21:44.475Z"
   },
   {
    "duration": 32,
    "start_time": "2021-12-11T08:21:44.506Z"
   },
   {
    "duration": 6,
    "start_time": "2021-12-11T08:21:44.541Z"
   },
   {
    "duration": 21,
    "start_time": "2021-12-11T08:21:44.549Z"
   },
   {
    "duration": 29,
    "start_time": "2021-12-11T08:21:44.572Z"
   },
   {
    "duration": 25,
    "start_time": "2021-12-11T08:21:44.604Z"
   },
   {
    "duration": 27,
    "start_time": "2021-12-11T08:21:44.631Z"
   },
   {
    "duration": 28,
    "start_time": "2021-12-11T08:21:44.660Z"
   },
   {
    "duration": 19,
    "start_time": "2021-12-11T08:21:44.690Z"
   },
   {
    "duration": 43,
    "start_time": "2021-12-11T08:21:44.711Z"
   },
   {
    "duration": 26,
    "start_time": "2021-12-11T08:21:44.756Z"
   },
   {
    "duration": 25,
    "start_time": "2021-12-11T08:21:44.785Z"
   },
   {
    "duration": 6,
    "start_time": "2021-12-11T08:22:04.412Z"
   },
   {
    "duration": 19,
    "start_time": "2021-12-11T08:22:13.291Z"
   },
   {
    "duration": 13,
    "start_time": "2021-12-11T08:22:17.793Z"
   },
   {
    "duration": 70,
    "start_time": "2021-12-11T08:24:19.807Z"
   },
   {
    "duration": 71,
    "start_time": "2021-12-11T08:24:29.234Z"
   },
   {
    "duration": 435,
    "start_time": "2021-12-11T08:35:53.494Z"
   },
   {
    "duration": 2563,
    "start_time": "2021-12-11T08:36:51.831Z"
   },
   {
    "duration": 17,
    "start_time": "2021-12-11T08:37:15.127Z"
   },
   {
    "duration": 697,
    "start_time": "2021-12-11T08:37:50.559Z"
   },
   {
    "duration": 83,
    "start_time": "2021-12-11T08:37:51.259Z"
   },
   {
    "duration": 14,
    "start_time": "2021-12-11T08:37:51.345Z"
   },
   {
    "duration": 36,
    "start_time": "2021-12-11T08:37:51.362Z"
   },
   {
    "duration": 25,
    "start_time": "2021-12-11T08:37:51.401Z"
   },
   {
    "duration": 10,
    "start_time": "2021-12-11T08:37:51.428Z"
   },
   {
    "duration": 22,
    "start_time": "2021-12-11T08:37:51.440Z"
   },
   {
    "duration": 27,
    "start_time": "2021-12-11T08:37:51.465Z"
   },
   {
    "duration": 37,
    "start_time": "2021-12-11T08:37:51.495Z"
   },
   {
    "duration": 32,
    "start_time": "2021-12-11T08:37:51.535Z"
   },
   {
    "duration": 6,
    "start_time": "2021-12-11T08:37:51.570Z"
   },
   {
    "duration": 22,
    "start_time": "2021-12-11T08:37:51.578Z"
   },
   {
    "duration": 24,
    "start_time": "2021-12-11T08:37:51.602Z"
   },
   {
    "duration": 38,
    "start_time": "2021-12-11T08:37:51.628Z"
   },
   {
    "duration": 20,
    "start_time": "2021-12-11T08:37:51.668Z"
   },
   {
    "duration": 19,
    "start_time": "2021-12-11T08:37:51.690Z"
   },
   {
    "duration": 28,
    "start_time": "2021-12-11T08:37:51.712Z"
   },
   {
    "duration": 20,
    "start_time": "2021-12-11T08:37:51.742Z"
   },
   {
    "duration": 38,
    "start_time": "2021-12-11T08:37:51.764Z"
   },
   {
    "duration": 13,
    "start_time": "2021-12-11T08:37:51.804Z"
   },
   {
    "duration": 1945,
    "start_time": "2021-12-11T08:37:51.820Z"
   },
   {
    "duration": 16,
    "start_time": "2021-12-11T08:37:53.768Z"
   },
   {
    "duration": 402,
    "start_time": "2021-12-11T08:39:03.905Z"
   },
   {
    "duration": 29,
    "start_time": "2021-12-11T08:40:39.856Z"
   },
   {
    "duration": 6,
    "start_time": "2021-12-11T08:40:52.996Z"
   },
   {
    "duration": 6,
    "start_time": "2021-12-11T08:41:06.868Z"
   },
   {
    "duration": 6,
    "start_time": "2021-12-11T08:41:31.294Z"
   },
   {
    "duration": 11,
    "start_time": "2021-12-11T08:42:07.517Z"
   },
   {
    "duration": 16,
    "start_time": "2021-12-11T08:42:14.945Z"
   },
   {
    "duration": 742,
    "start_time": "2021-12-11T08:43:05.849Z"
   },
   {
    "duration": 89,
    "start_time": "2021-12-11T08:43:06.593Z"
   },
   {
    "duration": 14,
    "start_time": "2021-12-11T08:43:06.685Z"
   },
   {
    "duration": 39,
    "start_time": "2021-12-11T08:43:06.701Z"
   },
   {
    "duration": 13,
    "start_time": "2021-12-11T08:43:06.743Z"
   },
   {
    "duration": 11,
    "start_time": "2021-12-11T08:43:06.759Z"
   },
   {
    "duration": 13,
    "start_time": "2021-12-11T08:43:06.773Z"
   },
   {
    "duration": 8,
    "start_time": "2021-12-11T08:43:06.825Z"
   },
   {
    "duration": 21,
    "start_time": "2021-12-11T08:43:06.836Z"
   },
   {
    "duration": 30,
    "start_time": "2021-12-11T08:43:06.860Z"
   },
   {
    "duration": 6,
    "start_time": "2021-12-11T08:43:06.924Z"
   },
   {
    "duration": 9,
    "start_time": "2021-12-11T08:43:06.932Z"
   },
   {
    "duration": 5,
    "start_time": "2021-12-11T08:43:06.944Z"
   },
   {
    "duration": 12,
    "start_time": "2021-12-11T08:43:06.951Z"
   },
   {
    "duration": 6,
    "start_time": "2021-12-11T08:43:06.965Z"
   },
   {
    "duration": 56,
    "start_time": "2021-12-11T08:43:06.973Z"
   },
   {
    "duration": 9,
    "start_time": "2021-12-11T08:43:07.032Z"
   },
   {
    "duration": 13,
    "start_time": "2021-12-11T08:43:07.043Z"
   },
   {
    "duration": 19,
    "start_time": "2021-12-11T08:43:07.058Z"
   },
   {
    "duration": 56,
    "start_time": "2021-12-11T08:43:07.080Z"
   },
   {
    "duration": 6,
    "start_time": "2021-12-11T08:43:07.138Z"
   },
   {
    "duration": 16,
    "start_time": "2021-12-11T08:43:07.146Z"
   },
   {
    "duration": 17,
    "start_time": "2021-12-11T08:43:07.166Z"
   },
   {
    "duration": 357,
    "start_time": "2021-12-11T08:51:27.940Z"
   },
   {
    "duration": 358,
    "start_time": "2021-12-11T08:52:22.305Z"
   },
   {
    "duration": 280,
    "start_time": "2021-12-11T08:52:46.070Z"
   },
   {
    "duration": 871,
    "start_time": "2021-12-11T08:53:38.100Z"
   },
   {
    "duration": 87,
    "start_time": "2021-12-11T08:53:38.974Z"
   },
   {
    "duration": 17,
    "start_time": "2021-12-11T08:53:39.064Z"
   },
   {
    "duration": 41,
    "start_time": "2021-12-11T08:53:39.085Z"
   },
   {
    "duration": 19,
    "start_time": "2021-12-11T08:53:39.129Z"
   },
   {
    "duration": 26,
    "start_time": "2021-12-11T08:53:39.152Z"
   },
   {
    "duration": 28,
    "start_time": "2021-12-11T08:53:39.180Z"
   },
   {
    "duration": 21,
    "start_time": "2021-12-11T08:53:39.211Z"
   },
   {
    "duration": 31,
    "start_time": "2021-12-11T08:53:39.235Z"
   },
   {
    "duration": 34,
    "start_time": "2021-12-11T08:53:39.269Z"
   },
   {
    "duration": 6,
    "start_time": "2021-12-11T08:53:39.305Z"
   },
   {
    "duration": 12,
    "start_time": "2021-12-11T08:53:39.324Z"
   },
   {
    "duration": 33,
    "start_time": "2021-12-11T08:53:39.339Z"
   },
   {
    "duration": 18,
    "start_time": "2021-12-11T08:53:39.375Z"
   },
   {
    "duration": 14,
    "start_time": "2021-12-11T08:53:39.395Z"
   },
   {
    "duration": 34,
    "start_time": "2021-12-11T08:53:39.411Z"
   },
   {
    "duration": 15,
    "start_time": "2021-12-11T08:53:39.447Z"
   },
   {
    "duration": 26,
    "start_time": "2021-12-11T08:53:39.464Z"
   },
   {
    "duration": 23,
    "start_time": "2021-12-11T08:53:39.492Z"
   },
   {
    "duration": 16,
    "start_time": "2021-12-11T08:53:39.517Z"
   },
   {
    "duration": 12,
    "start_time": "2021-12-11T08:53:39.535Z"
   },
   {
    "duration": 9,
    "start_time": "2021-12-11T08:53:39.549Z"
   },
   {
    "duration": 36,
    "start_time": "2021-12-11T08:53:39.563Z"
   },
   {
    "duration": 8,
    "start_time": "2021-12-11T08:54:33.243Z"
   },
   {
    "duration": 25,
    "start_time": "2021-12-11T08:54:35.522Z"
   },
   {
    "duration": 7,
    "start_time": "2021-12-11T09:28:09.733Z"
   },
   {
    "duration": 3,
    "start_time": "2021-12-11T09:28:22.320Z"
   },
   {
    "duration": 10,
    "start_time": "2021-12-11T09:28:23.236Z"
   },
   {
    "duration": 29,
    "start_time": "2021-12-11T09:28:23.870Z"
   },
   {
    "duration": 8,
    "start_time": "2021-12-11T09:28:43.741Z"
   },
   {
    "duration": 19,
    "start_time": "2021-12-11T09:28:45.115Z"
   },
   {
    "duration": 10,
    "start_time": "2021-12-11T09:38:03.515Z"
   },
   {
    "duration": 23,
    "start_time": "2021-12-11T09:38:05.820Z"
   },
   {
    "duration": 690,
    "start_time": "2021-12-11T09:38:15.454Z"
   },
   {
    "duration": 85,
    "start_time": "2021-12-11T09:38:16.147Z"
   },
   {
    "duration": 16,
    "start_time": "2021-12-11T09:38:16.236Z"
   },
   {
    "duration": 20,
    "start_time": "2021-12-11T09:38:16.258Z"
   },
   {
    "duration": 44,
    "start_time": "2021-12-11T09:38:16.281Z"
   },
   {
    "duration": 11,
    "start_time": "2021-12-11T09:38:16.327Z"
   },
   {
    "duration": 15,
    "start_time": "2021-12-11T09:38:16.344Z"
   },
   {
    "duration": 10,
    "start_time": "2021-12-11T09:38:16.365Z"
   },
   {
    "duration": 75,
    "start_time": "2021-12-11T09:38:16.379Z"
   },
   {
    "duration": 32,
    "start_time": "2021-12-11T09:38:16.457Z"
   },
   {
    "duration": 6,
    "start_time": "2021-12-11T09:38:16.492Z"
   },
   {
    "duration": 35,
    "start_time": "2021-12-11T09:38:16.500Z"
   },
   {
    "duration": 6,
    "start_time": "2021-12-11T09:38:16.537Z"
   },
   {
    "duration": 15,
    "start_time": "2021-12-11T09:38:16.545Z"
   },
   {
    "duration": 6,
    "start_time": "2021-12-11T09:38:16.563Z"
   },
   {
    "duration": 12,
    "start_time": "2021-12-11T09:38:16.573Z"
   },
   {
    "duration": 8,
    "start_time": "2021-12-11T09:38:16.624Z"
   },
   {
    "duration": 12,
    "start_time": "2021-12-11T09:38:16.634Z"
   },
   {
    "duration": 20,
    "start_time": "2021-12-11T09:38:16.649Z"
   },
   {
    "duration": 52,
    "start_time": "2021-12-11T09:38:16.671Z"
   },
   {
    "duration": 10,
    "start_time": "2021-12-11T09:38:16.726Z"
   },
   {
    "duration": 17,
    "start_time": "2021-12-11T09:38:16.738Z"
   },
   {
    "duration": 8,
    "start_time": "2021-12-11T09:38:39.439Z"
   },
   {
    "duration": 17,
    "start_time": "2021-12-11T09:38:40.341Z"
   },
   {
    "duration": 7,
    "start_time": "2021-12-11T09:38:51.836Z"
   },
   {
    "duration": 16,
    "start_time": "2021-12-11T09:38:52.467Z"
   },
   {
    "duration": 4,
    "start_time": "2021-12-11T09:39:01.067Z"
   },
   {
    "duration": 75,
    "start_time": "2021-12-11T09:39:01.076Z"
   },
   {
    "duration": 13,
    "start_time": "2021-12-11T09:39:01.154Z"
   },
   {
    "duration": 27,
    "start_time": "2021-12-11T09:39:01.170Z"
   },
   {
    "duration": 34,
    "start_time": "2021-12-11T09:39:01.199Z"
   },
   {
    "duration": 9,
    "start_time": "2021-12-11T09:39:01.236Z"
   },
   {
    "duration": 13,
    "start_time": "2021-12-11T09:39:01.248Z"
   },
   {
    "duration": 11,
    "start_time": "2021-12-11T09:39:01.264Z"
   },
   {
    "duration": 59,
    "start_time": "2021-12-11T09:39:01.279Z"
   },
   {
    "duration": 33,
    "start_time": "2021-12-11T09:39:01.341Z"
   },
   {
    "duration": 7,
    "start_time": "2021-12-11T09:39:01.376Z"
   },
   {
    "duration": 40,
    "start_time": "2021-12-11T09:39:01.385Z"
   },
   {
    "duration": 6,
    "start_time": "2021-12-11T09:39:01.427Z"
   },
   {
    "duration": 14,
    "start_time": "2021-12-11T09:39:01.435Z"
   },
   {
    "duration": 16,
    "start_time": "2021-12-11T09:39:01.452Z"
   },
   {
    "duration": 13,
    "start_time": "2021-12-11T09:39:01.470Z"
   },
   {
    "duration": 37,
    "start_time": "2021-12-11T09:39:01.486Z"
   },
   {
    "duration": 17,
    "start_time": "2021-12-11T09:39:01.525Z"
   },
   {
    "duration": 18,
    "start_time": "2021-12-11T09:39:01.545Z"
   },
   {
    "duration": 16,
    "start_time": "2021-12-11T09:39:01.565Z"
   },
   {
    "duration": 40,
    "start_time": "2021-12-11T09:39:01.583Z"
   },
   {
    "duration": 16,
    "start_time": "2021-12-11T09:39:01.626Z"
   },
   {
    "duration": 25,
    "start_time": "2021-12-11T09:49:13.685Z"
   },
   {
    "duration": 40,
    "start_time": "2021-12-11T09:49:53.723Z"
   },
   {
    "duration": 37,
    "start_time": "2021-12-11T09:50:52.880Z"
   },
   {
    "duration": 14,
    "start_time": "2021-12-11T09:51:39.915Z"
   },
   {
    "duration": 35,
    "start_time": "2021-12-11T10:05:53.697Z"
   },
   {
    "duration": 31,
    "start_time": "2021-12-11T10:11:53.666Z"
   },
   {
    "duration": 20,
    "start_time": "2021-12-11T10:15:19.514Z"
   },
   {
    "duration": 7,
    "start_time": "2021-12-11T10:19:26.227Z"
   },
   {
    "duration": 625,
    "start_time": "2021-12-11T10:20:44.414Z"
   },
   {
    "duration": 10598,
    "start_time": "2021-12-11T10:20:34.445Z"
   },
   {
    "duration": 14,
    "start_time": "2021-12-11T10:20:53.649Z"
   },
   {
    "duration": 11,
    "start_time": "2021-12-11T10:20:57.450Z"
   },
   {
    "duration": 673,
    "start_time": "2021-12-11T10:26:59.471Z"
   },
   {
    "duration": 83,
    "start_time": "2021-12-11T10:27:00.147Z"
   },
   {
    "duration": 17,
    "start_time": "2021-12-11T10:27:00.234Z"
   },
   {
    "duration": 41,
    "start_time": "2021-12-11T10:27:00.254Z"
   },
   {
    "duration": 26,
    "start_time": "2021-12-11T10:27:00.298Z"
   },
   {
    "duration": 23,
    "start_time": "2021-12-11T10:27:00.327Z"
   },
   {
    "duration": 21,
    "start_time": "2021-12-11T10:27:00.353Z"
   },
   {
    "duration": 20,
    "start_time": "2021-12-11T10:27:00.379Z"
   },
   {
    "duration": 41,
    "start_time": "2021-12-11T10:27:00.403Z"
   },
   {
    "duration": 35,
    "start_time": "2021-12-11T10:27:00.447Z"
   },
   {
    "duration": 8,
    "start_time": "2021-12-11T10:27:00.485Z"
   },
   {
    "duration": 33,
    "start_time": "2021-12-11T10:27:00.496Z"
   },
   {
    "duration": 27,
    "start_time": "2021-12-11T10:27:00.531Z"
   },
   {
    "duration": 27,
    "start_time": "2021-12-11T10:27:00.560Z"
   },
   {
    "duration": 20,
    "start_time": "2021-12-11T10:27:00.590Z"
   },
   {
    "duration": 29,
    "start_time": "2021-12-11T10:27:00.613Z"
   },
   {
    "duration": 32,
    "start_time": "2021-12-11T10:27:00.644Z"
   },
   {
    "duration": 26,
    "start_time": "2021-12-11T10:27:00.678Z"
   },
   {
    "duration": 30,
    "start_time": "2021-12-11T10:27:00.706Z"
   },
   {
    "duration": 13,
    "start_time": "2021-12-11T10:27:00.739Z"
   },
   {
    "duration": 25,
    "start_time": "2021-12-11T10:27:00.754Z"
   },
   {
    "duration": 25,
    "start_time": "2021-12-11T10:27:00.782Z"
   },
   {
    "duration": 55,
    "start_time": "2021-12-11T10:27:00.811Z"
   },
   {
    "duration": 31,
    "start_time": "2021-12-11T10:27:00.869Z"
   },
   {
    "duration": 41,
    "start_time": "2021-12-11T10:27:00.903Z"
   },
   {
    "duration": 28,
    "start_time": "2021-12-11T10:27:00.946Z"
   },
   {
    "duration": 22,
    "start_time": "2021-12-11T10:27:00.977Z"
   },
   {
    "duration": 23,
    "start_time": "2021-12-11T10:27:01.001Z"
   },
   {
    "duration": 447,
    "start_time": "2021-12-11T10:34:53.331Z"
   },
   {
    "duration": 100,
    "start_time": "2021-12-11T10:35:33.161Z"
   },
   {
    "duration": 19,
    "start_time": "2021-12-11T10:35:39.351Z"
   },
   {
    "duration": 726,
    "start_time": "2021-12-11T10:35:51.752Z"
   },
   {
    "duration": 88,
    "start_time": "2021-12-11T10:35:52.480Z"
   },
   {
    "duration": 17,
    "start_time": "2021-12-11T10:35:52.573Z"
   },
   {
    "duration": 40,
    "start_time": "2021-12-11T10:35:52.594Z"
   },
   {
    "duration": 17,
    "start_time": "2021-12-11T10:35:52.637Z"
   },
   {
    "duration": 7,
    "start_time": "2021-12-11T10:35:52.656Z"
   },
   {
    "duration": 9,
    "start_time": "2021-12-11T10:35:52.666Z"
   },
   {
    "duration": 50,
    "start_time": "2021-12-11T10:35:52.679Z"
   },
   {
    "duration": 23,
    "start_time": "2021-12-11T10:35:52.732Z"
   },
   {
    "duration": 68,
    "start_time": "2021-12-11T10:35:52.757Z"
   },
   {
    "duration": 7,
    "start_time": "2021-12-11T10:35:52.827Z"
   },
   {
    "duration": 8,
    "start_time": "2021-12-11T10:35:52.836Z"
   },
   {
    "duration": 6,
    "start_time": "2021-12-11T10:35:52.847Z"
   },
   {
    "duration": 13,
    "start_time": "2021-12-11T10:35:52.855Z"
   },
   {
    "duration": 56,
    "start_time": "2021-12-11T10:35:52.870Z"
   },
   {
    "duration": 12,
    "start_time": "2021-12-11T10:35:52.928Z"
   },
   {
    "duration": 9,
    "start_time": "2021-12-11T10:35:52.943Z"
   },
   {
    "duration": 15,
    "start_time": "2021-12-11T10:35:52.954Z"
   },
   {
    "duration": 67,
    "start_time": "2021-12-11T10:35:52.972Z"
   },
   {
    "duration": 16,
    "start_time": "2021-12-11T10:35:53.042Z"
   },
   {
    "duration": 12,
    "start_time": "2021-12-11T10:35:53.060Z"
   },
   {
    "duration": 49,
    "start_time": "2021-12-11T10:35:53.074Z"
   },
   {
    "duration": 60,
    "start_time": "2021-12-11T10:35:53.127Z"
   },
   {
    "duration": 53,
    "start_time": "2021-12-11T10:35:53.190Z"
   },
   {
    "duration": 39,
    "start_time": "2021-12-11T10:35:53.246Z"
   },
   {
    "duration": 35,
    "start_time": "2021-12-11T10:35:53.288Z"
   },
   {
    "duration": 22,
    "start_time": "2021-12-11T10:35:53.325Z"
   },
   {
    "duration": 28,
    "start_time": "2021-12-11T10:35:53.350Z"
   },
   {
    "duration": 34,
    "start_time": "2021-12-11T10:35:53.380Z"
   },
   {
    "duration": 4,
    "start_time": "2021-12-11T10:36:10.358Z"
   },
   {
    "duration": 75,
    "start_time": "2021-12-11T10:36:10.365Z"
   },
   {
    "duration": 14,
    "start_time": "2021-12-11T10:36:10.444Z"
   },
   {
    "duration": 19,
    "start_time": "2021-12-11T10:36:10.462Z"
   },
   {
    "duration": 46,
    "start_time": "2021-12-11T10:36:10.484Z"
   },
   {
    "duration": 12,
    "start_time": "2021-12-11T10:36:10.533Z"
   },
   {
    "duration": 10,
    "start_time": "2021-12-11T10:36:10.549Z"
   },
   {
    "duration": 63,
    "start_time": "2021-12-11T10:36:10.562Z"
   },
   {
    "duration": 23,
    "start_time": "2021-12-11T10:36:10.630Z"
   },
   {
    "duration": 33,
    "start_time": "2021-12-11T10:36:10.659Z"
   },
   {
    "duration": 7,
    "start_time": "2021-12-11T10:36:10.722Z"
   },
   {
    "duration": 13,
    "start_time": "2021-12-11T10:36:10.732Z"
   },
   {
    "duration": 5,
    "start_time": "2021-12-11T10:36:10.747Z"
   },
   {
    "duration": 14,
    "start_time": "2021-12-11T10:36:10.755Z"
   },
   {
    "duration": 51,
    "start_time": "2021-12-11T10:36:10.772Z"
   },
   {
    "duration": 17,
    "start_time": "2021-12-11T10:36:10.826Z"
   },
   {
    "duration": 9,
    "start_time": "2021-12-11T10:36:10.845Z"
   },
   {
    "duration": 30,
    "start_time": "2021-12-11T10:36:10.857Z"
   },
   {
    "duration": 46,
    "start_time": "2021-12-11T10:36:10.891Z"
   },
   {
    "duration": 21,
    "start_time": "2021-12-11T10:36:10.940Z"
   },
   {
    "duration": 11,
    "start_time": "2021-12-11T10:36:10.963Z"
   },
   {
    "duration": 48,
    "start_time": "2021-12-11T10:36:10.977Z"
   },
   {
    "duration": 47,
    "start_time": "2021-12-11T10:36:11.027Z"
   },
   {
    "duration": 48,
    "start_time": "2021-12-11T10:36:11.077Z"
   },
   {
    "duration": 18,
    "start_time": "2021-12-11T10:36:11.127Z"
   },
   {
    "duration": 36,
    "start_time": "2021-12-11T10:36:11.148Z"
   },
   {
    "duration": 37,
    "start_time": "2021-12-11T10:36:11.188Z"
   },
   {
    "duration": 17,
    "start_time": "2021-12-11T10:36:11.228Z"
   },
   {
    "duration": 25,
    "start_time": "2021-12-11T10:36:11.247Z"
   },
   {
    "duration": 357,
    "start_time": "2021-12-11T10:36:34.810Z"
   },
   {
    "duration": 549,
    "start_time": "2021-12-11T10:36:44.175Z"
   },
   {
    "duration": 322,
    "start_time": "2021-12-11T10:37:37.760Z"
   },
   {
    "duration": 18,
    "start_time": "2021-12-11T10:37:56.791Z"
   },
   {
    "duration": 3,
    "start_time": "2021-12-11T11:51:37.504Z"
   },
   {
    "duration": 89,
    "start_time": "2021-12-11T11:51:37.510Z"
   },
   {
    "duration": 35,
    "start_time": "2021-12-11T11:51:37.604Z"
   },
   {
    "duration": 20,
    "start_time": "2021-12-11T11:51:37.643Z"
   },
   {
    "duration": 12,
    "start_time": "2021-12-11T11:51:37.665Z"
   },
   {
    "duration": 8,
    "start_time": "2021-12-11T11:51:37.680Z"
   },
   {
    "duration": 50,
    "start_time": "2021-12-11T11:51:37.690Z"
   },
   {
    "duration": 12,
    "start_time": "2021-12-11T11:51:37.743Z"
   },
   {
    "duration": 25,
    "start_time": "2021-12-11T11:51:37.759Z"
   },
   {
    "duration": 52,
    "start_time": "2021-12-11T11:51:37.787Z"
   },
   {
    "duration": 6,
    "start_time": "2021-12-11T11:51:37.842Z"
   },
   {
    "duration": 16,
    "start_time": "2021-12-11T11:51:37.850Z"
   },
   {
    "duration": 5,
    "start_time": "2021-12-11T11:51:37.868Z"
   },
   {
    "duration": 23,
    "start_time": "2021-12-11T11:51:37.875Z"
   },
   {
    "duration": 31,
    "start_time": "2021-12-11T11:51:37.900Z"
   },
   {
    "duration": 23,
    "start_time": "2021-12-11T11:51:37.934Z"
   },
   {
    "duration": 12,
    "start_time": "2021-12-11T11:51:37.959Z"
   },
   {
    "duration": 15,
    "start_time": "2021-12-11T11:51:37.973Z"
   },
   {
    "duration": 41,
    "start_time": "2021-12-11T11:51:37.990Z"
   },
   {
    "duration": 20,
    "start_time": "2021-12-11T11:51:38.034Z"
   },
   {
    "duration": 9,
    "start_time": "2021-12-11T11:51:38.057Z"
   },
   {
    "duration": 17,
    "start_time": "2021-12-11T11:51:38.068Z"
   },
   {
    "duration": 74,
    "start_time": "2021-12-11T11:51:38.087Z"
   },
   {
    "duration": 32,
    "start_time": "2021-12-11T11:51:38.163Z"
   },
   {
    "duration": 43,
    "start_time": "2021-12-11T11:51:38.197Z"
   },
   {
    "duration": 22,
    "start_time": "2021-12-11T11:51:38.244Z"
   },
   {
    "duration": 12,
    "start_time": "2021-12-11T11:51:38.270Z"
   },
   {
    "duration": 11,
    "start_time": "2021-12-11T11:51:38.284Z"
   },
   {
    "duration": 50,
    "start_time": "2021-12-11T11:51:38.297Z"
   },
   {
    "duration": 23,
    "start_time": "2021-12-11T11:52:59.322Z"
   },
   {
    "duration": 21,
    "start_time": "2021-12-11T11:53:10.853Z"
   },
   {
    "duration": 35,
    "start_time": "2021-12-11T11:53:45.015Z"
   },
   {
    "duration": 33,
    "start_time": "2021-12-11T11:54:39.938Z"
   },
   {
    "duration": 35,
    "start_time": "2021-12-11T11:54:48.079Z"
   },
   {
    "duration": 1039,
    "start_time": "2021-12-11T11:55:00.805Z"
   },
   {
    "duration": 93,
    "start_time": "2021-12-11T11:55:01.848Z"
   },
   {
    "duration": 14,
    "start_time": "2021-12-11T11:55:01.944Z"
   },
   {
    "duration": 22,
    "start_time": "2021-12-11T11:55:01.962Z"
   },
   {
    "duration": 45,
    "start_time": "2021-12-11T11:55:01.987Z"
   },
   {
    "duration": 23,
    "start_time": "2021-12-11T11:55:02.035Z"
   },
   {
    "duration": 13,
    "start_time": "2021-12-11T11:55:02.060Z"
   },
   {
    "duration": 10,
    "start_time": "2021-12-11T11:55:02.077Z"
   },
   {
    "duration": 61,
    "start_time": "2021-12-11T11:55:02.089Z"
   },
   {
    "duration": 33,
    "start_time": "2021-12-11T11:55:02.153Z"
   },
   {
    "duration": 8,
    "start_time": "2021-12-11T11:55:02.189Z"
   },
   {
    "duration": 17,
    "start_time": "2021-12-11T11:55:02.224Z"
   },
   {
    "duration": 23,
    "start_time": "2021-12-11T11:55:02.244Z"
   },
   {
    "duration": 17,
    "start_time": "2021-12-11T11:55:02.270Z"
   },
   {
    "duration": 23,
    "start_time": "2021-12-11T11:55:02.289Z"
   },
   {
    "duration": 30,
    "start_time": "2021-12-11T11:55:02.315Z"
   },
   {
    "duration": 26,
    "start_time": "2021-12-11T11:55:02.348Z"
   },
   {
    "duration": 31,
    "start_time": "2021-12-11T11:55:02.376Z"
   },
   {
    "duration": 56,
    "start_time": "2021-12-11T11:55:02.409Z"
   },
   {
    "duration": 35,
    "start_time": "2021-12-11T11:55:02.467Z"
   },
   {
    "duration": 13,
    "start_time": "2021-12-11T11:55:02.505Z"
   },
   {
    "duration": 40,
    "start_time": "2021-12-11T11:55:02.521Z"
   },
   {
    "duration": 45,
    "start_time": "2021-12-11T11:55:02.567Z"
   },
   {
    "duration": 36,
    "start_time": "2021-12-11T11:55:02.626Z"
   },
   {
    "duration": 20,
    "start_time": "2021-12-11T11:55:02.664Z"
   },
   {
    "duration": 51,
    "start_time": "2021-12-11T11:55:02.686Z"
   },
   {
    "duration": 15,
    "start_time": "2021-12-11T11:55:02.739Z"
   },
   {
    "duration": 17,
    "start_time": "2021-12-11T11:55:02.756Z"
   },
   {
    "duration": 46,
    "start_time": "2021-12-11T11:55:02.777Z"
   },
   {
    "duration": 43,
    "start_time": "2021-12-11T11:55:02.826Z"
   },
   {
    "duration": 27,
    "start_time": "2021-12-11T12:06:54.987Z"
   },
   {
    "duration": 10956,
    "start_time": "2021-12-11T12:24:15.549Z"
   },
   {
    "duration": 13560,
    "start_time": "2021-12-11T12:24:31.937Z"
   },
   {
    "duration": 462,
    "start_time": "2021-12-11T12:33:14.715Z"
   },
   {
    "duration": 1008,
    "start_time": "2021-12-11T12:33:22.265Z"
   },
   {
    "duration": 87,
    "start_time": "2021-12-11T12:33:23.276Z"
   },
   {
    "duration": 15,
    "start_time": "2021-12-11T12:33:23.366Z"
   },
   {
    "duration": 46,
    "start_time": "2021-12-11T12:33:23.384Z"
   },
   {
    "duration": 15,
    "start_time": "2021-12-11T12:33:23.432Z"
   },
   {
    "duration": 29,
    "start_time": "2021-12-11T12:33:23.450Z"
   },
   {
    "duration": 24,
    "start_time": "2021-12-11T12:33:23.482Z"
   },
   {
    "duration": 24,
    "start_time": "2021-12-11T12:33:23.511Z"
   },
   {
    "duration": 35,
    "start_time": "2021-12-11T12:33:23.539Z"
   },
   {
    "duration": 76,
    "start_time": "2021-12-11T12:33:23.578Z"
   },
   {
    "duration": 8,
    "start_time": "2021-12-11T12:33:23.657Z"
   },
   {
    "duration": 18,
    "start_time": "2021-12-11T12:33:23.668Z"
   },
   {
    "duration": 18,
    "start_time": "2021-12-11T12:33:23.688Z"
   },
   {
    "duration": 26,
    "start_time": "2021-12-11T12:33:23.724Z"
   },
   {
    "duration": 16,
    "start_time": "2021-12-11T12:33:23.753Z"
   },
   {
    "duration": 25,
    "start_time": "2021-12-11T12:33:23.771Z"
   },
   {
    "duration": 46,
    "start_time": "2021-12-11T12:33:23.799Z"
   },
   {
    "duration": 28,
    "start_time": "2021-12-11T12:33:23.848Z"
   },
   {
    "duration": 31,
    "start_time": "2021-12-11T12:33:23.878Z"
   },
   {
    "duration": 17,
    "start_time": "2021-12-11T12:33:23.911Z"
   },
   {
    "duration": 25,
    "start_time": "2021-12-11T12:33:23.931Z"
   },
   {
    "duration": 51,
    "start_time": "2021-12-11T12:33:23.959Z"
   },
   {
    "duration": 68,
    "start_time": "2021-12-11T12:33:24.016Z"
   },
   {
    "duration": 38,
    "start_time": "2021-12-11T12:33:24.088Z"
   },
   {
    "duration": 45,
    "start_time": "2021-12-11T12:33:24.128Z"
   },
   {
    "duration": 43,
    "start_time": "2021-12-11T12:33:24.176Z"
   },
   {
    "duration": 22,
    "start_time": "2021-12-11T12:33:24.222Z"
   },
   {
    "duration": 21,
    "start_time": "2021-12-11T12:33:24.246Z"
   },
   {
    "duration": 25,
    "start_time": "2021-12-11T12:33:24.270Z"
   },
   {
    "duration": 558,
    "start_time": "2021-12-11T12:33:24.297Z"
   },
   {
    "duration": 3,
    "start_time": "2021-12-11T12:37:53.047Z"
   },
   {
    "duration": 458,
    "start_time": "2021-12-11T12:38:01.077Z"
   },
   {
    "duration": 879,
    "start_time": "2021-12-11T12:40:20.086Z"
   },
   {
    "duration": 899,
    "start_time": "2021-12-11T12:41:36.861Z"
   },
   {
    "duration": 329,
    "start_time": "2021-12-11T12:41:45.878Z"
   },
   {
    "duration": 543,
    "start_time": "2021-12-11T12:41:54.092Z"
   },
   {
    "duration": 535,
    "start_time": "2021-12-11T12:42:03.739Z"
   },
   {
    "duration": 325,
    "start_time": "2021-12-11T12:42:09.123Z"
   },
   {
    "duration": 603,
    "start_time": "2021-12-11T12:42:18.253Z"
   },
   {
    "duration": 1274,
    "start_time": "2021-12-11T12:42:31.780Z"
   },
   {
    "duration": 532,
    "start_time": "2021-12-12T17:08:00.700Z"
   },
   {
    "duration": 771,
    "start_time": "2021-12-12T17:08:13.404Z"
   },
   {
    "duration": 90,
    "start_time": "2021-12-12T17:08:14.177Z"
   },
   {
    "duration": 15,
    "start_time": "2021-12-12T17:08:14.270Z"
   },
   {
    "duration": 20,
    "start_time": "2021-12-12T17:08:14.287Z"
   },
   {
    "duration": 15,
    "start_time": "2021-12-12T17:08:14.310Z"
   },
   {
    "duration": 10,
    "start_time": "2021-12-12T17:08:14.360Z"
   },
   {
    "duration": 13,
    "start_time": "2021-12-12T17:08:14.373Z"
   },
   {
    "duration": 8,
    "start_time": "2021-12-12T17:08:14.390Z"
   },
   {
    "duration": 65,
    "start_time": "2021-12-12T17:08:14.401Z"
   },
   {
    "duration": 35,
    "start_time": "2021-12-12T17:08:14.468Z"
   },
   {
    "duration": 7,
    "start_time": "2021-12-12T17:08:14.505Z"
   },
   {
    "duration": 45,
    "start_time": "2021-12-12T17:08:14.514Z"
   },
   {
    "duration": 7,
    "start_time": "2021-12-12T17:08:14.561Z"
   },
   {
    "duration": 13,
    "start_time": "2021-12-12T17:08:14.570Z"
   },
   {
    "duration": 6,
    "start_time": "2021-12-12T17:08:14.586Z"
   },
   {
    "duration": 12,
    "start_time": "2021-12-12T17:08:14.594Z"
   },
   {
    "duration": 52,
    "start_time": "2021-12-12T17:08:14.608Z"
   },
   {
    "duration": 13,
    "start_time": "2021-12-12T17:08:14.663Z"
   },
   {
    "duration": 23,
    "start_time": "2021-12-12T17:08:14.678Z"
   },
   {
    "duration": 17,
    "start_time": "2021-12-12T17:08:14.703Z"
   },
   {
    "duration": 46,
    "start_time": "2021-12-12T17:08:14.723Z"
   },
   {
    "duration": 18,
    "start_time": "2021-12-12T17:08:14.772Z"
   },
   {
    "duration": 71,
    "start_time": "2021-12-12T17:08:14.795Z"
   },
   {
    "duration": 4,
    "start_time": "2021-12-12T17:08:14.868Z"
   },
   {
    "duration": 7,
    "start_time": "2021-12-12T17:08:14.874Z"
   },
   {
    "duration": 7,
    "start_time": "2021-12-12T17:08:14.883Z"
   },
   {
    "duration": 5,
    "start_time": "2021-12-12T17:08:14.892Z"
   },
   {
    "duration": 7,
    "start_time": "2021-12-12T17:08:14.900Z"
   },
   {
    "duration": 60,
    "start_time": "2021-12-12T17:08:14.910Z"
   },
   {
    "duration": 874,
    "start_time": "2021-12-12T17:08:14.973Z"
   },
   {
    "duration": 536,
    "start_time": "2021-12-12T17:10:46.103Z"
   },
   {
    "duration": 926,
    "start_time": "2021-12-12T17:10:56.778Z"
   },
   {
    "duration": 593,
    "start_time": "2021-12-12T17:11:10.971Z"
   },
   {
    "duration": 406,
    "start_time": "2021-12-12T17:11:23.849Z"
   },
   {
    "duration": 413,
    "start_time": "2021-12-12T17:14:43.056Z"
   },
   {
    "duration": 402,
    "start_time": "2021-12-12T17:14:50.455Z"
   },
   {
    "duration": 462,
    "start_time": "2021-12-12T17:20:59.097Z"
   },
   {
    "duration": 3,
    "start_time": "2021-12-12T17:21:06.701Z"
   },
   {
    "duration": 79,
    "start_time": "2021-12-12T17:21:06.710Z"
   },
   {
    "duration": 14,
    "start_time": "2021-12-12T17:21:06.792Z"
   },
   {
    "duration": 51,
    "start_time": "2021-12-12T17:21:06.809Z"
   },
   {
    "duration": 12,
    "start_time": "2021-12-12T17:21:06.863Z"
   },
   {
    "duration": 9,
    "start_time": "2021-12-12T17:21:06.877Z"
   },
   {
    "duration": 9,
    "start_time": "2021-12-12T17:21:06.889Z"
   },
   {
    "duration": 9,
    "start_time": "2021-12-12T17:21:06.900Z"
   },
   {
    "duration": 69,
    "start_time": "2021-12-12T17:21:06.913Z"
   },
   {
    "duration": 35,
    "start_time": "2021-12-12T17:21:06.986Z"
   },
   {
    "duration": 36,
    "start_time": "2021-12-12T17:21:07.025Z"
   },
   {
    "duration": 11,
    "start_time": "2021-12-12T17:21:07.064Z"
   },
   {
    "duration": 7,
    "start_time": "2021-12-12T17:21:07.079Z"
   },
   {
    "duration": 21,
    "start_time": "2021-12-12T17:21:07.089Z"
   },
   {
    "duration": 46,
    "start_time": "2021-12-12T17:21:07.113Z"
   },
   {
    "duration": 13,
    "start_time": "2021-12-12T17:21:07.163Z"
   },
   {
    "duration": 11,
    "start_time": "2021-12-12T17:21:07.179Z"
   },
   {
    "duration": 15,
    "start_time": "2021-12-12T17:21:07.192Z"
   },
   {
    "duration": 68,
    "start_time": "2021-12-12T17:21:07.209Z"
   },
   {
    "duration": 15,
    "start_time": "2021-12-12T17:21:07.280Z"
   },
   {
    "duration": 10,
    "start_time": "2021-12-12T17:21:07.297Z"
   },
   {
    "duration": 52,
    "start_time": "2021-12-12T17:21:07.309Z"
   },
   {
    "duration": 44,
    "start_time": "2021-12-12T17:21:07.364Z"
   },
   {
    "duration": 4,
    "start_time": "2021-12-12T17:21:07.412Z"
   },
   {
    "duration": 7,
    "start_time": "2021-12-12T17:21:07.418Z"
   },
   {
    "duration": 31,
    "start_time": "2021-12-12T17:21:07.428Z"
   },
   {
    "duration": 6,
    "start_time": "2021-12-12T17:21:07.461Z"
   },
   {
    "duration": 5,
    "start_time": "2021-12-12T17:21:07.469Z"
   },
   {
    "duration": 23,
    "start_time": "2021-12-12T17:21:07.476Z"
   },
   {
    "duration": 397,
    "start_time": "2021-12-12T17:21:07.501Z"
   },
   {
    "duration": 4911,
    "start_time": "2021-12-12T17:25:56.622Z"
   },
   {
    "duration": 4755,
    "start_time": "2021-12-12T17:26:44.669Z"
   },
   {
    "duration": 33,
    "start_time": "2021-12-12T17:27:44.038Z"
   },
   {
    "duration": 4971,
    "start_time": "2021-12-12T17:28:05.739Z"
   },
   {
    "duration": 19,
    "start_time": "2021-12-12T17:29:48.615Z"
   },
   {
    "duration": 27,
    "start_time": "2021-12-12T17:31:37.475Z"
   },
   {
    "duration": 5054,
    "start_time": "2021-12-12T17:32:03.450Z"
   },
   {
    "duration": 3947,
    "start_time": "2021-12-12T17:35:12.001Z"
   },
   {
    "duration": 2344,
    "start_time": "2021-12-12T17:36:17.722Z"
   },
   {
    "duration": 4101,
    "start_time": "2021-12-12T17:36:28.366Z"
   },
   {
    "duration": 4119,
    "start_time": "2021-12-12T17:41:45.037Z"
   },
   {
    "duration": 4514,
    "start_time": "2021-12-12T17:44:08.336Z"
   },
   {
    "duration": 3934,
    "start_time": "2021-12-12T17:44:24.203Z"
   },
   {
    "duration": 4157,
    "start_time": "2021-12-12T17:44:37.092Z"
   },
   {
    "duration": 3960,
    "start_time": "2021-12-12T17:45:08.874Z"
   },
   {
    "duration": 3819,
    "start_time": "2021-12-12T17:46:57.641Z"
   },
   {
    "duration": 3969,
    "start_time": "2021-12-12T17:47:57.897Z"
   },
   {
    "duration": 3,
    "start_time": "2021-12-12T17:48:57.023Z"
   },
   {
    "duration": 79,
    "start_time": "2021-12-12T17:48:57.032Z"
   },
   {
    "duration": 17,
    "start_time": "2021-12-12T17:48:57.114Z"
   },
   {
    "duration": 42,
    "start_time": "2021-12-12T17:48:57.134Z"
   },
   {
    "duration": 12,
    "start_time": "2021-12-12T17:48:57.180Z"
   },
   {
    "duration": 8,
    "start_time": "2021-12-12T17:48:57.194Z"
   },
   {
    "duration": 59,
    "start_time": "2021-12-12T17:48:57.204Z"
   },
   {
    "duration": 8,
    "start_time": "2021-12-12T17:48:57.265Z"
   },
   {
    "duration": 22,
    "start_time": "2021-12-12T17:48:57.277Z"
   },
   {
    "duration": 63,
    "start_time": "2021-12-12T17:48:57.302Z"
   },
   {
    "duration": 6,
    "start_time": "2021-12-12T17:48:57.368Z"
   },
   {
    "duration": 7,
    "start_time": "2021-12-12T17:48:57.376Z"
   },
   {
    "duration": 6,
    "start_time": "2021-12-12T17:48:57.385Z"
   },
   {
    "duration": 12,
    "start_time": "2021-12-12T17:48:57.393Z"
   },
   {
    "duration": 5,
    "start_time": "2021-12-12T17:48:57.407Z"
   },
   {
    "duration": 13,
    "start_time": "2021-12-12T17:48:57.459Z"
   },
   {
    "duration": 8,
    "start_time": "2021-12-12T17:48:57.474Z"
   },
   {
    "duration": 11,
    "start_time": "2021-12-12T17:48:57.484Z"
   },
   {
    "duration": 19,
    "start_time": "2021-12-12T17:48:57.498Z"
   },
   {
    "duration": 51,
    "start_time": "2021-12-12T17:48:57.520Z"
   },
   {
    "duration": 9,
    "start_time": "2021-12-12T17:48:57.574Z"
   },
   {
    "duration": 16,
    "start_time": "2021-12-12T17:48:57.585Z"
   },
   {
    "duration": 74,
    "start_time": "2021-12-12T17:48:57.604Z"
   },
   {
    "duration": 4,
    "start_time": "2021-12-12T17:48:57.683Z"
   },
   {
    "duration": 7,
    "start_time": "2021-12-12T17:48:57.689Z"
   },
   {
    "duration": 7,
    "start_time": "2021-12-12T17:48:57.698Z"
   },
   {
    "duration": 4,
    "start_time": "2021-12-12T17:48:57.707Z"
   },
   {
    "duration": 6,
    "start_time": "2021-12-12T17:48:57.713Z"
   },
   {
    "duration": 51,
    "start_time": "2021-12-12T17:48:57.721Z"
   },
   {
    "duration": 3,
    "start_time": "2021-12-12T17:48:57.774Z"
   },
   {
    "duration": 4815,
    "start_time": "2021-12-12T17:48:57.780Z"
   },
   {
    "duration": 4370,
    "start_time": "2021-12-12T17:50:30.129Z"
   },
   {
    "duration": 3862,
    "start_time": "2021-12-12T17:52:32.757Z"
   },
   {
    "duration": 384,
    "start_time": "2021-12-12T17:53:10.245Z"
   },
   {
    "duration": 1721,
    "start_time": "2021-12-12T18:00:20.999Z"
   },
   {
    "duration": 4114,
    "start_time": "2021-12-12T18:02:17.021Z"
   },
   {
    "duration": 844,
    "start_time": "2021-12-12T18:05:03.143Z"
   },
   {
    "duration": 86,
    "start_time": "2021-12-12T18:05:03.989Z"
   },
   {
    "duration": 16,
    "start_time": "2021-12-12T18:05:04.081Z"
   },
   {
    "duration": 22,
    "start_time": "2021-12-12T18:05:04.100Z"
   },
   {
    "duration": 47,
    "start_time": "2021-12-12T18:05:04.125Z"
   },
   {
    "duration": 9,
    "start_time": "2021-12-12T18:05:04.175Z"
   },
   {
    "duration": 8,
    "start_time": "2021-12-12T18:05:04.188Z"
   },
   {
    "duration": 8,
    "start_time": "2021-12-12T18:05:04.199Z"
   },
   {
    "duration": 66,
    "start_time": "2021-12-12T18:05:04.209Z"
   },
   {
    "duration": 33,
    "start_time": "2021-12-12T18:05:04.277Z"
   },
   {
    "duration": 6,
    "start_time": "2021-12-12T18:05:04.313Z"
   },
   {
    "duration": 41,
    "start_time": "2021-12-12T18:05:04.321Z"
   },
   {
    "duration": 6,
    "start_time": "2021-12-12T18:05:04.365Z"
   },
   {
    "duration": 21,
    "start_time": "2021-12-12T18:05:04.374Z"
   },
   {
    "duration": 7,
    "start_time": "2021-12-12T18:05:04.398Z"
   },
   {
    "duration": 17,
    "start_time": "2021-12-12T18:05:04.408Z"
   },
   {
    "duration": 10,
    "start_time": "2021-12-12T18:05:04.459Z"
   },
   {
    "duration": 18,
    "start_time": "2021-12-12T18:05:04.472Z"
   },
   {
    "duration": 38,
    "start_time": "2021-12-12T18:05:04.493Z"
   },
   {
    "duration": 27,
    "start_time": "2021-12-12T18:05:04.534Z"
   },
   {
    "duration": 9,
    "start_time": "2021-12-12T18:05:04.564Z"
   },
   {
    "duration": 16,
    "start_time": "2021-12-12T18:05:04.577Z"
   },
   {
    "duration": 78,
    "start_time": "2021-12-12T18:05:04.595Z"
   },
   {
    "duration": 23,
    "start_time": "2021-12-12T18:05:04.676Z"
   },
   {
    "duration": 10,
    "start_time": "2021-12-12T18:05:04.702Z"
   },
   {
    "duration": 4932,
    "start_time": "2021-12-12T18:05:04.715Z"
   },
   {
    "duration": 492,
    "start_time": "2021-12-12T18:07:31.976Z"
   },
   {
    "duration": 366,
    "start_time": "2021-12-12T18:12:43.714Z"
   },
   {
    "duration": 146,
    "start_time": "2021-12-12T18:12:52.915Z"
   },
   {
    "duration": 567,
    "start_time": "2021-12-12T18:13:02.598Z"
   },
   {
    "duration": 4,
    "start_time": "2021-12-12T18:15:10.429Z"
   },
   {
    "duration": 123,
    "start_time": "2021-12-12T18:15:24.370Z"
   },
   {
    "duration": 3240,
    "start_time": "2021-12-12T18:16:16.835Z"
   },
   {
    "duration": 4575,
    "start_time": "2021-12-12T18:17:04.744Z"
   },
   {
    "duration": 4297,
    "start_time": "2021-12-12T18:17:24.733Z"
   },
   {
    "duration": 4792,
    "start_time": "2021-12-12T18:18:10.691Z"
   },
   {
    "duration": 687,
    "start_time": "2021-12-12T18:22:00.238Z"
   },
   {
    "duration": 776,
    "start_time": "2021-12-12T18:22:32.880Z"
   },
   {
    "duration": 1896,
    "start_time": "2021-12-12T18:22:57.539Z"
   },
   {
    "duration": 4028,
    "start_time": "2021-12-12T18:23:17.791Z"
   },
   {
    "duration": 3,
    "start_time": "2021-12-12T18:27:34.619Z"
   },
   {
    "duration": 84,
    "start_time": "2021-12-12T18:27:34.629Z"
   },
   {
    "duration": 16,
    "start_time": "2021-12-12T18:27:34.716Z"
   },
   {
    "duration": 45,
    "start_time": "2021-12-12T18:27:34.735Z"
   },
   {
    "duration": 11,
    "start_time": "2021-12-12T18:27:34.784Z"
   },
   {
    "duration": 8,
    "start_time": "2021-12-12T18:27:34.798Z"
   },
   {
    "duration": 55,
    "start_time": "2021-12-12T18:27:34.808Z"
   },
   {
    "duration": 7,
    "start_time": "2021-12-12T18:27:34.866Z"
   },
   {
    "duration": 22,
    "start_time": "2021-12-12T18:27:34.877Z"
   },
   {
    "duration": 66,
    "start_time": "2021-12-12T18:27:34.901Z"
   },
   {
    "duration": 6,
    "start_time": "2021-12-12T18:27:34.969Z"
   },
   {
    "duration": 9,
    "start_time": "2021-12-12T18:27:34.977Z"
   },
   {
    "duration": 6,
    "start_time": "2021-12-12T18:27:34.990Z"
   },
   {
    "duration": 59,
    "start_time": "2021-12-12T18:27:34.999Z"
   },
   {
    "duration": 8,
    "start_time": "2021-12-12T18:27:35.061Z"
   },
   {
    "duration": 19,
    "start_time": "2021-12-12T18:27:35.072Z"
   },
   {
    "duration": 11,
    "start_time": "2021-12-12T18:27:35.094Z"
   },
   {
    "duration": 55,
    "start_time": "2021-12-12T18:27:35.108Z"
   },
   {
    "duration": 29,
    "start_time": "2021-12-12T18:27:35.166Z"
   },
   {
    "duration": 21,
    "start_time": "2021-12-12T18:27:35.198Z"
   },
   {
    "duration": 40,
    "start_time": "2021-12-12T18:27:35.222Z"
   },
   {
    "duration": 23,
    "start_time": "2021-12-12T18:27:35.266Z"
   },
   {
    "duration": 82,
    "start_time": "2021-12-12T18:27:35.292Z"
   },
   {
    "duration": 22,
    "start_time": "2021-12-12T18:27:35.378Z"
   },
   {
    "duration": 31,
    "start_time": "2021-12-12T18:27:35.403Z"
   },
   {
    "duration": 5019,
    "start_time": "2021-12-12T18:27:35.460Z"
   },
   {
    "duration": 3911,
    "start_time": "2021-12-12T18:29:12.086Z"
   },
   {
    "duration": 4843,
    "start_time": "2021-12-12T18:29:50.623Z"
   },
   {
    "duration": 4865,
    "start_time": "2021-12-12T18:31:03.728Z"
   },
   {
    "duration": 5240,
    "start_time": "2021-12-12T18:33:08.777Z"
   },
   {
    "duration": 4885,
    "start_time": "2021-12-12T18:33:49.402Z"
   },
   {
    "duration": 5114,
    "start_time": "2021-12-12T18:35:47.837Z"
   },
   {
    "duration": 4889,
    "start_time": "2021-12-12T18:36:11.838Z"
   },
   {
    "duration": 1882,
    "start_time": "2021-12-12T18:38:37.533Z"
   },
   {
    "duration": 2099,
    "start_time": "2021-12-12T18:38:49.359Z"
   },
   {
    "duration": 5006,
    "start_time": "2021-12-12T18:39:15.910Z"
   },
   {
    "duration": 5254,
    "start_time": "2021-12-12T18:40:17.983Z"
   },
   {
    "duration": 3,
    "start_time": "2021-12-12T18:40:41.405Z"
   },
   {
    "duration": 82,
    "start_time": "2021-12-12T18:40:41.411Z"
   },
   {
    "duration": 17,
    "start_time": "2021-12-12T18:40:41.496Z"
   },
   {
    "duration": 59,
    "start_time": "2021-12-12T18:40:41.517Z"
   },
   {
    "duration": 13,
    "start_time": "2021-12-12T18:40:41.579Z"
   },
   {
    "duration": 8,
    "start_time": "2021-12-12T18:40:41.594Z"
   },
   {
    "duration": 9,
    "start_time": "2021-12-12T18:40:41.606Z"
   },
   {
    "duration": 44,
    "start_time": "2021-12-12T18:40:41.617Z"
   },
   {
    "duration": 24,
    "start_time": "2021-12-12T18:40:41.663Z"
   },
   {
    "duration": 34,
    "start_time": "2021-12-12T18:40:41.689Z"
   },
   {
    "duration": 40,
    "start_time": "2021-12-12T18:40:41.725Z"
   },
   {
    "duration": 9,
    "start_time": "2021-12-12T18:40:41.767Z"
   },
   {
    "duration": 5,
    "start_time": "2021-12-12T18:40:41.779Z"
   },
   {
    "duration": 13,
    "start_time": "2021-12-12T18:40:41.787Z"
   },
   {
    "duration": 7,
    "start_time": "2021-12-12T18:40:41.802Z"
   },
   {
    "duration": 14,
    "start_time": "2021-12-12T18:40:41.860Z"
   },
   {
    "duration": 10,
    "start_time": "2021-12-12T18:40:41.877Z"
   },
   {
    "duration": 14,
    "start_time": "2021-12-12T18:40:41.890Z"
   },
   {
    "duration": 61,
    "start_time": "2021-12-12T18:40:41.910Z"
   },
   {
    "duration": 17,
    "start_time": "2021-12-12T18:40:41.975Z"
   },
   {
    "duration": 10,
    "start_time": "2021-12-12T18:40:41.995Z"
   },
   {
    "duration": 57,
    "start_time": "2021-12-12T18:40:42.007Z"
   },
   {
    "duration": 46,
    "start_time": "2021-12-12T18:40:42.067Z"
   },
   {
    "duration": 45,
    "start_time": "2021-12-12T18:40:42.116Z"
   },
   {
    "duration": 5117,
    "start_time": "2021-12-12T18:40:42.164Z"
   },
   {
    "duration": 5162,
    "start_time": "2021-12-12T18:41:47.700Z"
   },
   {
    "duration": 838,
    "start_time": "2021-12-12T18:43:36.685Z"
   },
   {
    "duration": 91,
    "start_time": "2021-12-12T18:43:37.525Z"
   },
   {
    "duration": 15,
    "start_time": "2021-12-12T18:43:37.619Z"
   },
   {
    "duration": 37,
    "start_time": "2021-12-12T18:43:37.638Z"
   },
   {
    "duration": 11,
    "start_time": "2021-12-12T18:43:37.678Z"
   },
   {
    "duration": 9,
    "start_time": "2021-12-12T18:43:37.691Z"
   },
   {
    "duration": 14,
    "start_time": "2021-12-12T18:43:37.702Z"
   },
   {
    "duration": 10,
    "start_time": "2021-12-12T18:43:37.758Z"
   },
   {
    "duration": 24,
    "start_time": "2021-12-12T18:43:37.772Z"
   },
   {
    "duration": 67,
    "start_time": "2021-12-12T18:43:37.798Z"
   },
   {
    "duration": 6,
    "start_time": "2021-12-12T18:43:37.867Z"
   },
   {
    "duration": 7,
    "start_time": "2021-12-12T18:43:37.875Z"
   },
   {
    "duration": 5,
    "start_time": "2021-12-12T18:43:37.885Z"
   },
   {
    "duration": 13,
    "start_time": "2021-12-12T18:43:37.893Z"
   },
   {
    "duration": 54,
    "start_time": "2021-12-12T18:43:37.908Z"
   },
   {
    "duration": 12,
    "start_time": "2021-12-12T18:43:37.965Z"
   },
   {
    "duration": 8,
    "start_time": "2021-12-12T18:43:37.980Z"
   },
   {
    "duration": 12,
    "start_time": "2021-12-12T18:43:37.991Z"
   },
   {
    "duration": 58,
    "start_time": "2021-12-12T18:43:38.005Z"
   },
   {
    "duration": 14,
    "start_time": "2021-12-12T18:43:38.066Z"
   },
   {
    "duration": 10,
    "start_time": "2021-12-12T18:43:38.082Z"
   },
   {
    "duration": 16,
    "start_time": "2021-12-12T18:43:38.094Z"
   },
   {
    "duration": 79,
    "start_time": "2021-12-12T18:43:38.114Z"
   },
   {
    "duration": 21,
    "start_time": "2021-12-12T18:43:38.196Z"
   },
   {
    "duration": 5322,
    "start_time": "2021-12-12T18:43:38.220Z"
   },
   {
    "duration": 4882,
    "start_time": "2021-12-12T18:47:10.055Z"
   },
   {
    "duration": 4927,
    "start_time": "2021-12-12T18:54:42.253Z"
   },
   {
    "duration": 4614,
    "start_time": "2021-12-12T18:59:08.623Z"
   },
   {
    "duration": 5537,
    "start_time": "2021-12-12T19:08:15.405Z"
   },
   {
    "duration": 4779,
    "start_time": "2021-12-12T19:15:36.360Z"
   },
   {
    "duration": 5026,
    "start_time": "2021-12-12T19:16:00.620Z"
   },
   {
    "duration": 5094,
    "start_time": "2021-12-12T19:16:36.214Z"
   },
   {
    "duration": 15,
    "start_time": "2021-12-12T19:32:48.357Z"
   },
   {
    "duration": 14,
    "start_time": "2021-12-12T19:36:26.558Z"
   },
   {
    "duration": 14,
    "start_time": "2021-12-12T19:36:48.342Z"
   },
   {
    "duration": 14,
    "start_time": "2021-12-12T19:37:22.495Z"
   },
   {
    "duration": 837,
    "start_time": "2021-12-12T19:37:31.270Z"
   },
   {
    "duration": 92,
    "start_time": "2021-12-12T19:37:32.110Z"
   },
   {
    "duration": 17,
    "start_time": "2021-12-12T19:37:32.206Z"
   },
   {
    "duration": 46,
    "start_time": "2021-12-12T19:37:32.226Z"
   },
   {
    "duration": 12,
    "start_time": "2021-12-12T19:37:32.275Z"
   },
   {
    "duration": 8,
    "start_time": "2021-12-12T19:37:32.290Z"
   },
   {
    "duration": 10,
    "start_time": "2021-12-12T19:37:32.300Z"
   },
   {
    "duration": 47,
    "start_time": "2021-12-12T19:37:32.314Z"
   },
   {
    "duration": 22,
    "start_time": "2021-12-12T19:37:32.364Z"
   },
   {
    "duration": 32,
    "start_time": "2021-12-12T19:37:32.389Z"
   },
   {
    "duration": 6,
    "start_time": "2021-12-12T19:37:32.423Z"
   },
   {
    "duration": 34,
    "start_time": "2021-12-12T19:37:32.431Z"
   },
   {
    "duration": 6,
    "start_time": "2021-12-12T19:37:32.467Z"
   },
   {
    "duration": 13,
    "start_time": "2021-12-12T19:37:32.475Z"
   },
   {
    "duration": 6,
    "start_time": "2021-12-12T19:37:32.491Z"
   },
   {
    "duration": 13,
    "start_time": "2021-12-12T19:37:32.499Z"
   },
   {
    "duration": 9,
    "start_time": "2021-12-12T19:37:32.559Z"
   },
   {
    "duration": 15,
    "start_time": "2021-12-12T19:37:32.570Z"
   },
   {
    "duration": 22,
    "start_time": "2021-12-12T19:37:32.587Z"
   },
   {
    "duration": 51,
    "start_time": "2021-12-12T19:37:32.612Z"
   },
   {
    "duration": 9,
    "start_time": "2021-12-12T19:37:32.666Z"
   },
   {
    "duration": 19,
    "start_time": "2021-12-12T19:37:32.677Z"
   },
   {
    "duration": 71,
    "start_time": "2021-12-12T19:37:32.700Z"
   },
   {
    "duration": 5418,
    "start_time": "2021-12-12T19:37:32.773Z"
   },
   {
    "duration": 14,
    "start_time": "2021-12-12T19:37:38.194Z"
   },
   {
    "duration": 25,
    "start_time": "2021-12-12T19:38:28.427Z"
   },
   {
    "duration": 22,
    "start_time": "2021-12-12T19:39:35.752Z"
   },
   {
    "duration": 13,
    "start_time": "2021-12-12T19:39:55.329Z"
   },
   {
    "duration": 5796,
    "start_time": "2021-12-12T19:54:30.830Z"
   },
   {
    "duration": 391,
    "start_time": "2021-12-13T06:05:01.973Z"
   },
   {
    "duration": 718,
    "start_time": "2021-12-13T06:05:14.716Z"
   },
   {
    "duration": 79,
    "start_time": "2021-12-13T06:05:15.437Z"
   },
   {
    "duration": 13,
    "start_time": "2021-12-13T06:05:15.519Z"
   },
   {
    "duration": 19,
    "start_time": "2021-12-13T06:05:15.535Z"
   },
   {
    "duration": 13,
    "start_time": "2021-12-13T06:05:15.557Z"
   },
   {
    "duration": 8,
    "start_time": "2021-12-13T06:05:15.572Z"
   },
   {
    "duration": 9,
    "start_time": "2021-12-13T06:05:15.623Z"
   },
   {
    "duration": 11,
    "start_time": "2021-12-13T06:05:15.636Z"
   },
   {
    "duration": 22,
    "start_time": "2021-12-13T06:05:15.650Z"
   },
   {
    "duration": 63,
    "start_time": "2021-12-13T06:05:15.674Z"
   },
   {
    "duration": 6,
    "start_time": "2021-12-13T06:05:15.740Z"
   },
   {
    "duration": 8,
    "start_time": "2021-12-13T06:05:15.748Z"
   },
   {
    "duration": 6,
    "start_time": "2021-12-13T06:05:15.758Z"
   },
   {
    "duration": 15,
    "start_time": "2021-12-13T06:05:15.766Z"
   },
   {
    "duration": 45,
    "start_time": "2021-12-13T06:05:15.783Z"
   },
   {
    "duration": 12,
    "start_time": "2021-12-13T06:05:15.831Z"
   },
   {
    "duration": 10,
    "start_time": "2021-12-13T06:05:15.846Z"
   },
   {
    "duration": 13,
    "start_time": "2021-12-13T06:05:15.858Z"
   },
   {
    "duration": 67,
    "start_time": "2021-12-13T06:05:15.874Z"
   },
   {
    "duration": 15,
    "start_time": "2021-12-13T06:05:15.943Z"
   },
   {
    "duration": 9,
    "start_time": "2021-12-13T06:05:15.960Z"
   },
   {
    "duration": 54,
    "start_time": "2021-12-13T06:05:15.971Z"
   },
   {
    "duration": 38,
    "start_time": "2021-12-13T06:05:16.030Z"
   },
   {
    "duration": 4627,
    "start_time": "2021-12-13T06:05:16.071Z"
   },
   {
    "duration": 29,
    "start_time": "2021-12-13T06:05:20.700Z"
   },
   {
    "duration": 20,
    "start_time": "2021-12-13T06:05:20.732Z"
   },
   {
    "duration": 9,
    "start_time": "2021-12-13T06:05:20.754Z"
   },
   {
    "duration": 345,
    "start_time": "2021-12-13T06:05:44.598Z"
   },
   {
    "duration": 9,
    "start_time": "2021-12-13T06:06:03.282Z"
   },
   {
    "duration": 401,
    "start_time": "2021-12-13T06:25:50.732Z"
   },
   {
    "duration": 10,
    "start_time": "2021-12-13T06:36:04.804Z"
   },
   {
    "duration": 310,
    "start_time": "2021-12-13T06:54:18.213Z"
   },
   {
    "duration": 265,
    "start_time": "2021-12-13T06:54:47.866Z"
   },
   {
    "duration": 27,
    "start_time": "2021-12-13T06:55:45.583Z"
   },
   {
    "duration": 27,
    "start_time": "2021-12-13T06:58:20.645Z"
   },
   {
    "duration": 27,
    "start_time": "2021-12-13T06:59:21.884Z"
   },
   {
    "duration": 294,
    "start_time": "2021-12-13T07:09:19.983Z"
   },
   {
    "duration": 312,
    "start_time": "2021-12-13T07:09:40.212Z"
   },
   {
    "duration": 271,
    "start_time": "2021-12-13T07:10:02.982Z"
   },
   {
    "duration": 19,
    "start_time": "2021-12-13T07:10:08.856Z"
   },
   {
    "duration": 279,
    "start_time": "2021-12-13T18:28:08.856Z"
   },
   {
    "duration": 647,
    "start_time": "2021-12-13T18:28:21.535Z"
   },
   {
    "duration": 83,
    "start_time": "2021-12-13T18:28:22.184Z"
   },
   {
    "duration": 11,
    "start_time": "2021-12-13T18:28:22.269Z"
   },
   {
    "duration": 17,
    "start_time": "2021-12-13T18:28:22.282Z"
   },
   {
    "duration": 9,
    "start_time": "2021-12-13T18:28:22.300Z"
   },
   {
    "duration": 6,
    "start_time": "2021-12-13T18:28:22.311Z"
   },
   {
    "duration": 7,
    "start_time": "2021-12-13T18:28:22.319Z"
   },
   {
    "duration": 5,
    "start_time": "2021-12-13T18:28:22.329Z"
   },
   {
    "duration": 18,
    "start_time": "2021-12-13T18:28:22.336Z"
   },
   {
    "duration": 52,
    "start_time": "2021-12-13T18:28:22.355Z"
   },
   {
    "duration": 4,
    "start_time": "2021-12-13T18:28:22.409Z"
   },
   {
    "duration": 5,
    "start_time": "2021-12-13T18:28:22.415Z"
   },
   {
    "duration": 4,
    "start_time": "2021-12-13T18:28:22.422Z"
   },
   {
    "duration": 10,
    "start_time": "2021-12-13T18:28:22.428Z"
   },
   {
    "duration": 5,
    "start_time": "2021-12-13T18:28:22.440Z"
   },
   {
    "duration": 50,
    "start_time": "2021-12-13T18:28:22.446Z"
   },
   {
    "duration": 7,
    "start_time": "2021-12-13T18:28:22.498Z"
   },
   {
    "duration": 9,
    "start_time": "2021-12-13T18:28:22.507Z"
   },
   {
    "duration": 17,
    "start_time": "2021-12-13T18:28:22.518Z"
   },
   {
    "duration": 15,
    "start_time": "2021-12-13T18:28:22.537Z"
   },
   {
    "duration": 37,
    "start_time": "2021-12-13T18:28:22.554Z"
   },
   {
    "duration": 14,
    "start_time": "2021-12-13T18:28:22.593Z"
   },
   {
    "duration": 38,
    "start_time": "2021-12-13T18:28:22.611Z"
   },
   {
    "duration": 3653,
    "start_time": "2021-12-13T18:28:22.651Z"
   },
   {
    "duration": 10,
    "start_time": "2021-12-13T18:28:26.306Z"
   },
   {
    "duration": 16,
    "start_time": "2021-12-13T18:28:26.318Z"
   },
   {
    "duration": 18,
    "start_time": "2021-12-13T18:28:26.336Z"
   },
   {
    "duration": 3,
    "start_time": "2021-12-13T18:28:26.356Z"
   },
   {
    "duration": 294,
    "start_time": "2021-12-13T18:28:37.815Z"
   },
   {
    "duration": 247,
    "start_time": "2021-12-13T18:29:04.281Z"
   },
   {
    "duration": 257,
    "start_time": "2021-12-13T18:30:03.146Z"
   },
   {
    "duration": 2,
    "start_time": "2021-12-13T18:30:09.536Z"
   },
   {
    "duration": 56,
    "start_time": "2021-12-13T18:30:09.542Z"
   },
   {
    "duration": 10,
    "start_time": "2021-12-13T18:30:09.599Z"
   },
   {
    "duration": 16,
    "start_time": "2021-12-13T18:30:09.612Z"
   },
   {
    "duration": 11,
    "start_time": "2021-12-13T18:30:09.629Z"
   },
   {
    "duration": 6,
    "start_time": "2021-12-13T18:30:09.642Z"
   },
   {
    "duration": 39,
    "start_time": "2021-12-13T18:30:09.650Z"
   },
   {
    "duration": 6,
    "start_time": "2021-12-13T18:30:09.690Z"
   },
   {
    "duration": 15,
    "start_time": "2021-12-13T18:30:09.699Z"
   },
   {
    "duration": 23,
    "start_time": "2021-12-13T18:30:09.716Z"
   },
   {
    "duration": 5,
    "start_time": "2021-12-13T18:30:09.740Z"
   },
   {
    "duration": 6,
    "start_time": "2021-12-13T18:30:09.747Z"
   },
   {
    "duration": 4,
    "start_time": "2021-12-13T18:30:09.788Z"
   },
   {
    "duration": 14,
    "start_time": "2021-12-13T18:30:09.793Z"
   },
   {
    "duration": 4,
    "start_time": "2021-12-13T18:30:09.809Z"
   },
   {
    "duration": 13,
    "start_time": "2021-12-13T18:30:09.815Z"
   },
   {
    "duration": 6,
    "start_time": "2021-12-13T18:30:09.830Z"
   },
   {
    "duration": 9,
    "start_time": "2021-12-13T18:30:09.838Z"
   },
   {
    "duration": 45,
    "start_time": "2021-12-13T18:30:09.849Z"
   },
   {
    "duration": 12,
    "start_time": "2021-12-13T18:30:09.896Z"
   },
   {
    "duration": 7,
    "start_time": "2021-12-13T18:30:09.910Z"
   },
   {
    "duration": 11,
    "start_time": "2021-12-13T18:30:09.918Z"
   },
   {
    "duration": 62,
    "start_time": "2021-12-13T18:30:09.931Z"
   },
   {
    "duration": 3708,
    "start_time": "2021-12-13T18:30:09.997Z"
   },
   {
    "duration": 14,
    "start_time": "2021-12-13T18:30:13.707Z"
   },
   {
    "duration": 25,
    "start_time": "2021-12-13T18:30:13.723Z"
   },
   {
    "duration": 17,
    "start_time": "2021-12-13T18:30:13.749Z"
   },
   {
    "duration": 41,
    "start_time": "2021-12-13T18:30:13.768Z"
   },
   {
    "duration": 252,
    "start_time": "2021-12-13T18:31:06.382Z"
   },
   {
    "duration": 17,
    "start_time": "2021-12-13T18:31:18.246Z"
   },
   {
    "duration": 383,
    "start_time": "2021-12-13T18:31:45.039Z"
   },
   {
    "duration": 6,
    "start_time": "2021-12-13T18:31:48.428Z"
   },
   {
    "duration": 6,
    "start_time": "2021-12-13T18:34:18.458Z"
   },
   {
    "duration": 218,
    "start_time": "2021-12-13T19:14:05.355Z"
   },
   {
    "duration": 216,
    "start_time": "2021-12-13T19:14:28.105Z"
   },
   {
    "duration": 9,
    "start_time": "2021-12-13T19:15:29.891Z"
   },
   {
    "duration": 8,
    "start_time": "2021-12-13T19:16:32.551Z"
   },
   {
    "duration": 3618,
    "start_time": "2021-12-13T19:23:28.069Z"
   },
   {
    "duration": 9,
    "start_time": "2021-12-13T19:24:26.248Z"
   },
   {
    "duration": 235,
    "start_time": "2021-12-13T19:28:27.422Z"
   },
   {
    "duration": 20,
    "start_time": "2021-12-13T19:29:07.688Z"
   },
   {
    "duration": 25,
    "start_time": "2021-12-13T19:30:28.116Z"
   },
   {
    "duration": 7,
    "start_time": "2021-12-13T19:38:58.201Z"
   },
   {
    "duration": 223,
    "start_time": "2021-12-13T19:45:00.961Z"
   },
   {
    "duration": 244,
    "start_time": "2021-12-13T19:46:02.950Z"
   },
   {
    "duration": 7,
    "start_time": "2021-12-13T19:46:14.611Z"
   },
   {
    "duration": 213,
    "start_time": "2021-12-13T19:46:18.400Z"
   },
   {
    "duration": 220,
    "start_time": "2021-12-13T19:47:03.577Z"
   },
   {
    "duration": 12,
    "start_time": "2021-12-13T19:47:45.126Z"
   },
   {
    "duration": 417,
    "start_time": "2021-12-14T16:12:23.575Z"
   },
   {
    "duration": 803,
    "start_time": "2021-12-14T16:12:32.025Z"
   },
   {
    "duration": 90,
    "start_time": "2021-12-14T16:12:32.831Z"
   },
   {
    "duration": 15,
    "start_time": "2021-12-14T16:12:32.924Z"
   },
   {
    "duration": 30,
    "start_time": "2021-12-14T16:12:32.942Z"
   },
   {
    "duration": 13,
    "start_time": "2021-12-14T16:12:32.975Z"
   },
   {
    "duration": 8,
    "start_time": "2021-12-14T16:12:32.991Z"
   },
   {
    "duration": 9,
    "start_time": "2021-12-14T16:12:33.001Z"
   },
   {
    "duration": 48,
    "start_time": "2021-12-14T16:12:33.014Z"
   },
   {
    "duration": 25,
    "start_time": "2021-12-14T16:12:33.065Z"
   },
   {
    "duration": 32,
    "start_time": "2021-12-14T16:12:33.092Z"
   },
   {
    "duration": 34,
    "start_time": "2021-12-14T16:12:33.126Z"
   },
   {
    "duration": 7,
    "start_time": "2021-12-14T16:12:33.162Z"
   },
   {
    "duration": 6,
    "start_time": "2021-12-14T16:12:33.171Z"
   },
   {
    "duration": 13,
    "start_time": "2021-12-14T16:12:33.180Z"
   },
   {
    "duration": 6,
    "start_time": "2021-12-14T16:12:33.195Z"
   },
   {
    "duration": 11,
    "start_time": "2021-12-14T16:12:33.203Z"
   },
   {
    "duration": 8,
    "start_time": "2021-12-14T16:12:33.260Z"
   },
   {
    "duration": 13,
    "start_time": "2021-12-14T16:12:33.270Z"
   },
   {
    "duration": 19,
    "start_time": "2021-12-14T16:12:33.285Z"
   },
   {
    "duration": 14,
    "start_time": "2021-12-14T16:12:33.306Z"
   },
   {
    "duration": 9,
    "start_time": "2021-12-14T16:12:33.359Z"
   },
   {
    "duration": 16,
    "start_time": "2021-12-14T16:12:33.371Z"
   },
   {
    "duration": 71,
    "start_time": "2021-12-14T16:12:33.392Z"
   },
   {
    "duration": 4795,
    "start_time": "2021-12-14T16:12:33.466Z"
   },
   {
    "duration": 14,
    "start_time": "2021-12-14T16:12:38.264Z"
   },
   {
    "duration": 20,
    "start_time": "2021-12-14T16:12:38.281Z"
   },
   {
    "duration": 57,
    "start_time": "2021-12-14T16:12:38.304Z"
   },
   {
    "duration": 414,
    "start_time": "2021-12-14T16:12:38.363Z"
   },
   {
    "duration": 10,
    "start_time": "2021-12-14T16:12:38.780Z"
   },
   {
    "duration": 11,
    "start_time": "2021-12-14T16:12:38.793Z"
   },
   {
    "duration": 425,
    "start_time": "2021-12-14T16:12:38.806Z"
   },
   {
    "duration": 26,
    "start_time": "2021-12-14T16:12:39.233Z"
   },
   {
    "duration": 9,
    "start_time": "2021-12-14T16:12:39.261Z"
   },
   {
    "duration": 7,
    "start_time": "2021-12-14T16:12:39.273Z"
   },
   {
    "duration": 8,
    "start_time": "2021-12-14T16:13:28.166Z"
   },
   {
    "duration": 403,
    "start_time": "2021-12-14T17:04:48.536Z"
   },
   {
    "duration": 400,
    "start_time": "2021-12-14T17:04:52.331Z"
   },
   {
    "duration": 13,
    "start_time": "2021-12-14T17:07:05.465Z"
   },
   {
    "duration": 459,
    "start_time": "2021-12-14T17:15:55.133Z"
   },
   {
    "duration": 21,
    "start_time": "2021-12-14T17:20:15.949Z"
   },
   {
    "duration": 21,
    "start_time": "2021-12-14T17:28:05.595Z"
   },
   {
    "duration": 11,
    "start_time": "2021-12-14T17:54:58.308Z"
   },
   {
    "duration": 9971,
    "start_time": "2021-12-14T18:00:31.701Z"
   },
   {
    "duration": 9803,
    "start_time": "2021-12-14T18:01:02.878Z"
   },
   {
    "duration": 23,
    "start_time": "2021-12-14T18:01:27.232Z"
   },
   {
    "duration": 25,
    "start_time": "2021-12-14T18:05:47.115Z"
   },
   {
    "duration": 8,
    "start_time": "2021-12-14T18:29:42.095Z"
   },
   {
    "duration": 15,
    "start_time": "2021-12-14T18:29:44.461Z"
   },
   {
    "duration": 31,
    "start_time": "2021-12-14T18:30:03.680Z"
   },
   {
    "duration": 812,
    "start_time": "2021-12-14T18:30:27.442Z"
   },
   {
    "duration": 91,
    "start_time": "2021-12-14T18:30:28.257Z"
   },
   {
    "duration": 17,
    "start_time": "2021-12-14T18:30:28.361Z"
   },
   {
    "duration": 21,
    "start_time": "2021-12-14T18:30:28.381Z"
   },
   {
    "duration": 54,
    "start_time": "2021-12-14T18:30:28.405Z"
   },
   {
    "duration": 11,
    "start_time": "2021-12-14T18:30:28.462Z"
   },
   {
    "duration": 10,
    "start_time": "2021-12-14T18:30:28.477Z"
   },
   {
    "duration": 8,
    "start_time": "2021-12-14T18:30:28.490Z"
   },
   {
    "duration": 64,
    "start_time": "2021-12-14T18:30:28.500Z"
   },
   {
    "duration": 33,
    "start_time": "2021-12-14T18:30:28.566Z"
   },
   {
    "duration": 7,
    "start_time": "2021-12-14T18:30:28.601Z"
   },
   {
    "duration": 7,
    "start_time": "2021-12-14T18:30:28.611Z"
   },
   {
    "duration": 8,
    "start_time": "2021-12-14T18:30:28.659Z"
   },
   {
    "duration": 12,
    "start_time": "2021-12-14T18:30:28.670Z"
   },
   {
    "duration": 6,
    "start_time": "2021-12-14T18:30:28.685Z"
   },
   {
    "duration": 12,
    "start_time": "2021-12-14T18:30:28.693Z"
   },
   {
    "duration": 54,
    "start_time": "2021-12-14T18:30:28.708Z"
   },
   {
    "duration": 12,
    "start_time": "2021-12-14T18:30:28.764Z"
   },
   {
    "duration": 26,
    "start_time": "2021-12-14T18:30:28.779Z"
   },
   {
    "duration": 15,
    "start_time": "2021-12-14T18:30:28.807Z"
   },
   {
    "duration": 10,
    "start_time": "2021-12-14T18:30:28.860Z"
   },
   {
    "duration": 16,
    "start_time": "2021-12-14T18:30:28.875Z"
   },
   {
    "duration": 69,
    "start_time": "2021-12-14T18:30:28.894Z"
   },
   {
    "duration": 4998,
    "start_time": "2021-12-14T18:30:28.965Z"
   },
   {
    "duration": 14,
    "start_time": "2021-12-14T18:30:33.966Z"
   },
   {
    "duration": 20,
    "start_time": "2021-12-14T18:30:33.982Z"
   },
   {
    "duration": 454,
    "start_time": "2021-12-14T18:30:34.005Z"
   },
   {
    "duration": 9,
    "start_time": "2021-12-14T18:30:34.462Z"
   },
   {
    "duration": 25,
    "start_time": "2021-12-14T18:30:34.473Z"
   },
   {
    "duration": 22,
    "start_time": "2021-12-14T18:30:34.501Z"
   },
   {
    "duration": 436,
    "start_time": "2021-12-14T18:30:34.526Z"
   },
   {
    "duration": 18,
    "start_time": "2021-12-14T18:30:34.965Z"
   },
   {
    "duration": 13,
    "start_time": "2021-12-14T18:30:34.986Z"
   },
   {
    "duration": 11,
    "start_time": "2021-12-14T18:30:35.002Z"
   },
   {
    "duration": 510,
    "start_time": "2021-12-14T18:32:12.809Z"
   },
   {
    "duration": 32,
    "start_time": "2021-12-14T18:32:21.054Z"
   },
   {
    "duration": 26,
    "start_time": "2021-12-14T18:32:30.612Z"
   },
   {
    "duration": 401,
    "start_time": "2021-12-14T18:40:15.089Z"
   },
   {
    "duration": 404,
    "start_time": "2021-12-14T18:44:05.915Z"
   },
   {
    "duration": 12,
    "start_time": "2021-12-14T18:59:25.746Z"
   },
   {
    "duration": 160,
    "start_time": "2021-12-14T19:08:33.684Z"
   },
   {
    "duration": 1045,
    "start_time": "2021-12-14T19:08:57.067Z"
   },
   {
    "duration": 127,
    "start_time": "2021-12-14T19:08:58.115Z"
   },
   {
    "duration": 28,
    "start_time": "2021-12-14T19:08:58.246Z"
   },
   {
    "duration": 19,
    "start_time": "2021-12-14T19:08:58.277Z"
   },
   {
    "duration": 12,
    "start_time": "2021-12-14T19:08:58.298Z"
   },
   {
    "duration": 9,
    "start_time": "2021-12-14T19:08:58.312Z"
   },
   {
    "duration": 44,
    "start_time": "2021-12-14T19:08:58.323Z"
   },
   {
    "duration": 7,
    "start_time": "2021-12-14T19:08:58.371Z"
   },
   {
    "duration": 22,
    "start_time": "2021-12-14T19:08:58.381Z"
   },
   {
    "duration": 74,
    "start_time": "2021-12-14T19:08:58.405Z"
   },
   {
    "duration": 6,
    "start_time": "2021-12-14T19:08:58.481Z"
   },
   {
    "duration": 9,
    "start_time": "2021-12-14T19:08:58.489Z"
   },
   {
    "duration": 8,
    "start_time": "2021-12-14T19:08:58.500Z"
   },
   {
    "duration": 51,
    "start_time": "2021-12-14T19:08:58.510Z"
   },
   {
    "duration": 7,
    "start_time": "2021-12-14T19:08:58.564Z"
   },
   {
    "duration": 11,
    "start_time": "2021-12-14T19:08:58.573Z"
   },
   {
    "duration": 9,
    "start_time": "2021-12-14T19:08:58.586Z"
   },
   {
    "duration": 14,
    "start_time": "2021-12-14T19:08:58.597Z"
   },
   {
    "duration": 24,
    "start_time": "2021-12-14T19:08:58.660Z"
   },
   {
    "duration": 16,
    "start_time": "2021-12-14T19:08:58.687Z"
   },
   {
    "duration": 9,
    "start_time": "2021-12-14T19:08:58.706Z"
   },
   {
    "duration": 57,
    "start_time": "2021-12-14T19:08:58.717Z"
   },
   {
    "duration": 45,
    "start_time": "2021-12-14T19:08:58.779Z"
   },
   {
    "duration": 5259,
    "start_time": "2021-12-14T19:08:58.828Z"
   },
   {
    "duration": 14,
    "start_time": "2021-12-14T19:09:04.090Z"
   },
   {
    "duration": 21,
    "start_time": "2021-12-14T19:09:04.107Z"
   },
   {
    "duration": 435,
    "start_time": "2021-12-14T19:09:04.131Z"
   },
   {
    "duration": 10,
    "start_time": "2021-12-14T19:09:04.568Z"
   },
   {
    "duration": 43,
    "start_time": "2021-12-14T19:09:04.581Z"
   },
   {
    "duration": 35,
    "start_time": "2021-12-14T19:09:04.626Z"
   },
   {
    "duration": 449,
    "start_time": "2021-12-14T19:09:04.664Z"
   },
   {
    "duration": 18,
    "start_time": "2021-12-14T19:09:05.116Z"
   },
   {
    "duration": 18609,
    "start_time": "2021-12-14T19:09:05.136Z"
   },
   {
    "duration": 160,
    "start_time": "2021-12-14T19:09:23.588Z"
   },
   {
    "duration": 48,
    "start_time": "2021-12-14T19:10:12.547Z"
   },
   {
    "duration": 29,
    "start_time": "2021-12-14T19:10:50.036Z"
   },
   {
    "duration": 10,
    "start_time": "2021-12-14T19:12:18.744Z"
   },
   {
    "duration": 25,
    "start_time": "2021-12-14T19:25:41.275Z"
   },
   {
    "duration": 686,
    "start_time": "2021-12-15T15:43:32.176Z"
   },
   {
    "duration": 86,
    "start_time": "2021-12-15T15:43:32.864Z"
   },
   {
    "duration": 14,
    "start_time": "2021-12-15T15:43:32.952Z"
   },
   {
    "duration": 20,
    "start_time": "2021-12-15T15:43:32.968Z"
   },
   {
    "duration": 43,
    "start_time": "2021-12-15T15:43:32.991Z"
   },
   {
    "duration": 11,
    "start_time": "2021-12-15T15:43:33.038Z"
   },
   {
    "duration": 12,
    "start_time": "2021-12-15T15:43:33.052Z"
   },
   {
    "duration": 8,
    "start_time": "2021-12-15T15:43:33.067Z"
   },
   {
    "duration": 58,
    "start_time": "2021-12-15T15:43:33.078Z"
   },
   {
    "duration": 35,
    "start_time": "2021-12-15T15:43:33.139Z"
   },
   {
    "duration": 7,
    "start_time": "2021-12-15T15:43:33.176Z"
   },
   {
    "duration": 40,
    "start_time": "2021-12-15T15:43:33.185Z"
   },
   {
    "duration": 11,
    "start_time": "2021-12-15T15:43:33.227Z"
   },
   {
    "duration": 23,
    "start_time": "2021-12-15T15:43:33.241Z"
   },
   {
    "duration": 6,
    "start_time": "2021-12-15T15:43:33.267Z"
   },
   {
    "duration": 15,
    "start_time": "2021-12-15T15:43:33.276Z"
   },
   {
    "duration": 38,
    "start_time": "2021-12-15T15:43:33.293Z"
   },
   {
    "duration": 17,
    "start_time": "2021-12-15T15:43:33.340Z"
   },
   {
    "duration": 21,
    "start_time": "2021-12-15T15:43:33.360Z"
   },
   {
    "duration": 14,
    "start_time": "2021-12-15T15:43:33.383Z"
   },
   {
    "duration": 35,
    "start_time": "2021-12-15T15:43:33.399Z"
   },
   {
    "duration": 20,
    "start_time": "2021-12-15T15:43:33.436Z"
   },
   {
    "duration": 40,
    "start_time": "2021-12-15T15:43:33.460Z"
   },
   {
    "duration": 5022,
    "start_time": "2021-12-15T15:43:33.503Z"
   },
   {
    "duration": 18,
    "start_time": "2021-12-15T15:43:38.529Z"
   },
   {
    "duration": 28,
    "start_time": "2021-12-15T15:43:38.553Z"
   },
   {
    "duration": 430,
    "start_time": "2021-12-15T15:43:38.583Z"
   },
   {
    "duration": 12,
    "start_time": "2021-12-15T15:43:39.026Z"
   },
   {
    "duration": 33,
    "start_time": "2021-12-15T15:43:39.040Z"
   },
   {
    "duration": 21,
    "start_time": "2021-12-15T15:43:39.075Z"
   },
   {
    "duration": 419,
    "start_time": "2021-12-15T15:43:39.098Z"
   },
   {
    "duration": 32,
    "start_time": "2021-12-15T15:43:39.519Z"
   },
   {
    "duration": 22,
    "start_time": "2021-12-15T15:43:39.554Z"
   },
   {
    "duration": 28,
    "start_time": "2021-12-15T15:45:24.505Z"
   },
   {
    "duration": 392,
    "start_time": "2021-12-15T15:46:43.733Z"
   },
   {
    "duration": 409,
    "start_time": "2021-12-15T15:47:35.536Z"
   },
   {
    "duration": 5313,
    "start_time": "2021-12-15T15:55:02.212Z"
   },
   {
    "duration": 8939,
    "start_time": "2021-12-15T15:57:24.740Z"
   },
   {
    "duration": 22,
    "start_time": "2021-12-15T15:57:36.677Z"
   },
   {
    "duration": 4,
    "start_time": "2021-12-15T16:51:24.157Z"
   },
   {
    "duration": 75,
    "start_time": "2021-12-15T16:51:24.167Z"
   },
   {
    "duration": 14,
    "start_time": "2021-12-15T16:51:24.244Z"
   },
   {
    "duration": 20,
    "start_time": "2021-12-15T16:51:24.261Z"
   },
   {
    "duration": 50,
    "start_time": "2021-12-15T16:51:24.283Z"
   },
   {
    "duration": 8,
    "start_time": "2021-12-15T16:51:24.335Z"
   },
   {
    "duration": 10,
    "start_time": "2021-12-15T16:51:24.345Z"
   },
   {
    "duration": 26,
    "start_time": "2021-12-15T16:51:24.357Z"
   },
   {
    "duration": 54,
    "start_time": "2021-12-15T16:51:24.389Z"
   },
   {
    "duration": 34,
    "start_time": "2021-12-15T16:51:24.447Z"
   },
   {
    "duration": 39,
    "start_time": "2021-12-15T16:51:24.485Z"
   },
   {
    "duration": 8,
    "start_time": "2021-12-15T16:51:24.526Z"
   },
   {
    "duration": 8,
    "start_time": "2021-12-15T16:51:24.536Z"
   },
   {
    "duration": 12,
    "start_time": "2021-12-15T16:51:24.546Z"
   },
   {
    "duration": 10,
    "start_time": "2021-12-15T16:51:24.560Z"
   },
   {
    "duration": 55,
    "start_time": "2021-12-15T16:51:24.572Z"
   },
   {
    "duration": 9,
    "start_time": "2021-12-15T16:51:24.629Z"
   },
   {
    "duration": 12,
    "start_time": "2021-12-15T16:51:24.641Z"
   },
   {
    "duration": 23,
    "start_time": "2021-12-15T16:51:24.655Z"
   },
   {
    "duration": 46,
    "start_time": "2021-12-15T16:51:24.681Z"
   },
   {
    "duration": 10,
    "start_time": "2021-12-15T16:51:24.729Z"
   },
   {
    "duration": 20,
    "start_time": "2021-12-15T16:51:24.741Z"
   },
   {
    "duration": 71,
    "start_time": "2021-12-15T16:51:24.764Z"
   },
   {
    "duration": 22,
    "start_time": "2021-12-15T16:51:24.839Z"
   },
   {
    "duration": 5102,
    "start_time": "2021-12-15T16:51:24.864Z"
   },
   {
    "duration": 412,
    "start_time": "2021-12-15T16:51:29.969Z"
   },
   {
    "duration": 407,
    "start_time": "2021-12-15T16:51:30.383Z"
   },
   {
    "duration": 31,
    "start_time": "2021-12-15T16:51:30.792Z"
   },
   {
    "duration": 21,
    "start_time": "2021-12-15T16:51:30.825Z"
   },
   {
    "duration": 21,
    "start_time": "2021-12-15T16:51:30.848Z"
   },
   {
    "duration": 51,
    "start_time": "2021-12-15T16:51:30.872Z"
   },
   {
    "duration": 23,
    "start_time": "2021-12-15T16:51:30.925Z"
   },
   {
    "duration": 82,
    "start_time": "2021-12-15T16:52:58.170Z"
   },
   {
    "duration": 8,
    "start_time": "2021-12-15T17:05:39.704Z"
   },
   {
    "duration": 8,
    "start_time": "2021-12-15T17:06:09.510Z"
   },
   {
    "duration": 33,
    "start_time": "2021-12-15T17:08:34.186Z"
   },
   {
    "duration": 41,
    "start_time": "2021-12-15T17:09:38.808Z"
   },
   {
    "duration": 36,
    "start_time": "2021-12-15T17:10:28.660Z"
   },
   {
    "duration": 36,
    "start_time": "2021-12-15T17:10:52.547Z"
   },
   {
    "duration": 9,
    "start_time": "2021-12-15T17:11:44.402Z"
   },
   {
    "duration": 12,
    "start_time": "2021-12-15T17:15:13.784Z"
   },
   {
    "duration": 15,
    "start_time": "2021-12-15T17:18:57.665Z"
   },
   {
    "duration": 9,
    "start_time": "2021-12-15T17:19:05.099Z"
   },
   {
    "duration": 14,
    "start_time": "2021-12-15T17:19:05.644Z"
   },
   {
    "duration": 16,
    "start_time": "2021-12-15T17:22:49.656Z"
   },
   {
    "duration": 5186,
    "start_time": "2021-12-15T17:28:15.137Z"
   },
   {
    "duration": 594,
    "start_time": "2021-12-15T17:32:04.477Z"
   },
   {
    "duration": 329,
    "start_time": "2021-12-15T17:32:13.485Z"
   },
   {
    "duration": 856,
    "start_time": "2021-12-15T17:32:31.089Z"
   },
   {
    "duration": 98,
    "start_time": "2021-12-15T17:32:31.947Z"
   },
   {
    "duration": 20,
    "start_time": "2021-12-15T17:32:32.049Z"
   },
   {
    "duration": 21,
    "start_time": "2021-12-15T17:32:32.071Z"
   },
   {
    "duration": 42,
    "start_time": "2021-12-15T17:32:32.095Z"
   },
   {
    "duration": 28,
    "start_time": "2021-12-15T17:32:32.140Z"
   },
   {
    "duration": 17,
    "start_time": "2021-12-15T17:32:32.172Z"
   },
   {
    "duration": 12,
    "start_time": "2021-12-15T17:32:32.195Z"
   },
   {
    "duration": 47,
    "start_time": "2021-12-15T17:32:32.211Z"
   },
   {
    "duration": 33,
    "start_time": "2021-12-15T17:32:32.261Z"
   },
   {
    "duration": 31,
    "start_time": "2021-12-15T17:32:32.296Z"
   },
   {
    "duration": 14,
    "start_time": "2021-12-15T17:32:32.332Z"
   },
   {
    "duration": 17,
    "start_time": "2021-12-15T17:32:32.349Z"
   },
   {
    "duration": 15,
    "start_time": "2021-12-15T17:32:32.369Z"
   },
   {
    "duration": 7,
    "start_time": "2021-12-15T17:32:32.386Z"
   },
   {
    "duration": 37,
    "start_time": "2021-12-15T17:32:32.396Z"
   },
   {
    "duration": 14,
    "start_time": "2021-12-15T17:32:32.439Z"
   },
   {
    "duration": 19,
    "start_time": "2021-12-15T17:32:32.456Z"
   },
   {
    "duration": 65,
    "start_time": "2021-12-15T17:32:32.479Z"
   },
   {
    "duration": 17,
    "start_time": "2021-12-15T17:32:32.548Z"
   },
   {
    "duration": 12,
    "start_time": "2021-12-15T17:32:32.568Z"
   },
   {
    "duration": 17,
    "start_time": "2021-12-15T17:32:32.582Z"
   },
   {
    "duration": 72,
    "start_time": "2021-12-15T17:32:32.604Z"
   },
   {
    "duration": 20,
    "start_time": "2021-12-15T17:32:32.679Z"
   },
   {
    "duration": 5584,
    "start_time": "2021-12-15T17:32:32.702Z"
   },
   {
    "duration": 455,
    "start_time": "2021-12-15T17:32:38.289Z"
   },
   {
    "duration": 452,
    "start_time": "2021-12-15T17:32:38.747Z"
   },
   {
    "duration": 32,
    "start_time": "2021-12-15T17:32:39.202Z"
   },
   {
    "duration": 31,
    "start_time": "2021-12-15T17:32:39.244Z"
   },
   {
    "duration": 23,
    "start_time": "2021-12-15T17:32:39.278Z"
   },
   {
    "duration": 43,
    "start_time": "2021-12-15T17:32:39.304Z"
   },
   {
    "duration": 30,
    "start_time": "2021-12-15T17:32:39.350Z"
   },
   {
    "duration": 401,
    "start_time": "2022-12-04T17:01:48.096Z"
   },
   {
    "duration": 154,
    "start_time": "2022-12-04T17:01:48.499Z"
   },
   {
    "duration": 19,
    "start_time": "2022-12-04T17:01:48.655Z"
   },
   {
    "duration": 56,
    "start_time": "2022-12-04T17:01:48.677Z"
   },
   {
    "duration": 25,
    "start_time": "2022-12-04T17:01:48.735Z"
   },
   {
    "duration": 17,
    "start_time": "2022-12-04T17:01:48.761Z"
   },
   {
    "duration": 25,
    "start_time": "2022-12-04T17:01:48.779Z"
   },
   {
    "duration": 43,
    "start_time": "2022-12-04T17:01:48.805Z"
   },
   {
    "duration": 32,
    "start_time": "2022-12-04T17:01:48.850Z"
   },
   {
    "duration": 25,
    "start_time": "2022-12-04T17:01:48.885Z"
   },
   {
    "duration": 5,
    "start_time": "2022-12-04T17:01:48.912Z"
   },
   {
    "duration": 17,
    "start_time": "2022-12-04T17:01:48.918Z"
   },
   {
    "duration": 18,
    "start_time": "2022-12-04T17:01:48.936Z"
   },
   {
    "duration": 20,
    "start_time": "2022-12-04T17:01:48.955Z"
   },
   {
    "duration": 22,
    "start_time": "2022-12-04T17:01:48.976Z"
   },
   {
    "duration": 47,
    "start_time": "2022-12-04T17:01:48.999Z"
   },
   {
    "duration": 17,
    "start_time": "2022-12-04T17:01:49.048Z"
   },
   {
    "duration": 20,
    "start_time": "2022-12-04T17:01:49.067Z"
   },
   {
    "duration": 32,
    "start_time": "2022-12-04T17:01:49.089Z"
   },
   {
    "duration": 25,
    "start_time": "2022-12-04T17:01:49.123Z"
   },
   {
    "duration": 11,
    "start_time": "2022-12-04T17:01:49.151Z"
   },
   {
    "duration": 40,
    "start_time": "2022-12-04T17:01:49.164Z"
   },
   {
    "duration": 59,
    "start_time": "2022-12-04T17:01:49.205Z"
   },
   {
    "duration": 14,
    "start_time": "2022-12-04T17:01:49.266Z"
   },
   {
    "duration": 3261,
    "start_time": "2022-12-04T17:01:49.281Z"
   },
   {
    "duration": 155,
    "start_time": "2022-12-04T17:01:52.543Z"
   },
   {
    "duration": 151,
    "start_time": "2022-12-04T17:01:52.699Z"
   },
   {
    "duration": 9,
    "start_time": "2022-12-04T17:01:52.854Z"
   },
   {
    "duration": 13,
    "start_time": "2022-12-04T17:01:52.879Z"
   },
   {
    "duration": 14,
    "start_time": "2022-12-04T17:01:52.894Z"
   },
   {
    "duration": 14,
    "start_time": "2022-12-04T17:01:52.909Z"
   },
   {
    "duration": 14,
    "start_time": "2022-12-04T17:01:52.925Z"
   },
   {
    "duration": 423,
    "start_time": "2022-12-04T17:12:00.156Z"
   },
   {
    "duration": 90,
    "start_time": "2022-12-04T17:12:00.581Z"
   },
   {
    "duration": 15,
    "start_time": "2022-12-04T17:12:00.673Z"
   },
   {
    "duration": 73,
    "start_time": "2022-12-04T17:12:00.691Z"
   },
   {
    "duration": 53,
    "start_time": "2022-12-04T17:12:00.766Z"
   },
   {
    "duration": 31,
    "start_time": "2022-12-04T17:12:00.821Z"
   },
   {
    "duration": 34,
    "start_time": "2022-12-04T17:12:00.854Z"
   },
   {
    "duration": 34,
    "start_time": "2022-12-04T17:12:00.890Z"
   },
   {
    "duration": 38,
    "start_time": "2022-12-04T17:12:00.925Z"
   },
   {
    "duration": 26,
    "start_time": "2022-12-04T17:12:00.965Z"
   },
   {
    "duration": 27,
    "start_time": "2022-12-04T17:12:00.993Z"
   },
   {
    "duration": 27,
    "start_time": "2022-12-04T17:12:01.022Z"
   },
   {
    "duration": 19,
    "start_time": "2022-12-04T17:12:01.051Z"
   },
   {
    "duration": 29,
    "start_time": "2022-12-04T17:12:01.072Z"
   },
   {
    "duration": 44,
    "start_time": "2022-12-04T17:12:01.102Z"
   },
   {
    "duration": 36,
    "start_time": "2022-12-04T17:12:01.147Z"
   },
   {
    "duration": 29,
    "start_time": "2022-12-04T17:12:01.185Z"
   },
   {
    "duration": 22,
    "start_time": "2022-12-04T17:12:01.216Z"
   },
   {
    "duration": 37,
    "start_time": "2022-12-04T17:12:01.240Z"
   },
   {
    "duration": 34,
    "start_time": "2022-12-04T17:12:01.278Z"
   },
   {
    "duration": 24,
    "start_time": "2022-12-04T17:12:01.314Z"
   },
   {
    "duration": 115,
    "start_time": "2022-12-04T17:12:01.340Z"
   },
   {
    "duration": 32,
    "start_time": "2022-12-04T17:12:01.457Z"
   },
   {
    "duration": 14,
    "start_time": "2022-12-04T17:12:01.491Z"
   },
   {
    "duration": 3272,
    "start_time": "2022-12-04T17:12:01.507Z"
   },
   {
    "duration": 137,
    "start_time": "2022-12-04T17:12:04.781Z"
   },
   {
    "duration": 157,
    "start_time": "2022-12-04T17:12:04.920Z"
   },
   {
    "duration": 8,
    "start_time": "2022-12-04T17:12:05.081Z"
   },
   {
    "duration": 13,
    "start_time": "2022-12-04T17:12:05.091Z"
   },
   {
    "duration": 15,
    "start_time": "2022-12-04T17:12:05.105Z"
   },
   {
    "duration": 16,
    "start_time": "2022-12-04T17:12:05.122Z"
   },
   {
    "duration": 40,
    "start_time": "2022-12-04T17:12:05.139Z"
   }
  ],
  "kernelspec": {
   "display_name": "Python 3 (ipykernel)",
   "language": "python",
   "name": "python3"
  },
  "language_info": {
   "codemirror_mode": {
    "name": "ipython",
    "version": 3
   },
   "file_extension": ".py",
   "mimetype": "text/x-python",
   "name": "python",
   "nbconvert_exporter": "python",
   "pygments_lexer": "ipython3",
   "version": "3.7.8"
  },
  "toc": {
   "base_numbering": 1,
   "nav_menu": {},
   "number_sections": true,
   "sideBar": true,
   "skip_h1_title": true,
   "title_cell": "Table of Contents",
   "title_sidebar": "Contents",
   "toc_cell": false,
   "toc_position": {
    "height": "calc(100% - 180px)",
    "left": "10px",
    "top": "150px",
    "width": "285.99px"
   },
   "toc_section_display": true,
   "toc_window_display": true
  }
 },
 "nbformat": 4,
 "nbformat_minor": 2
}
