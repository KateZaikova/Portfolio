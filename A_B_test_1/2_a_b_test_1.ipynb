{
 "cells": [
  {
   "cell_type": "markdown",
   "id": "f23eccc9",
   "metadata": {},
   "source": [
    "**ЦЕЛЬ ИССЛЕДОВАНИЯ**\n",
    "\n",
    "Провести оценку результатов A/B-теста. \n",
    "\n",
    "Необходимо: \n",
    "* Оценить корректность проведения теста\n",
    "* Проанализировать результаты теста\n",
    "\n",
    "Так же для корректности проведения теста, проверим:\n",
    "\n",
    "* пересечение тестовой аудитории с конкурирующим тестом,\n",
    "* совпадение теста и маркетинговых событий, другие проблемы временных границ теста.\n",
    "\n",
    "Исходные данные:\n",
    "\n",
    "В распоряжении есть датасет с действиями пользователей, техническое задание и несколько вспомогательных датасетов.\n",
    "\n",
    "Техническое задание:\n",
    "\n",
    "- Название теста: `recommender_system_test`;\n",
    "- группы: А — контрольная, B — новая платёжная воронка;\n",
    "- дата запуска: 2020-12-07;\n",
    "- дата остановки набора новых пользователей: 2020-12-21;\n",
    "- дата остановки: 2021-01-04;\n",
    "- аудитория: 15% новых пользователей из региона EU;\n",
    "- назначение теста: тестирование изменений, связанных с внедрением улучшенной рекомендательной системы;\n",
    "- ожидаемое количество участников теста: 6000.\n",
    "- ожидаемый эффект: за 14 дней с момента регистрации пользователи покажут улучшение каждой метрики не менее, чем на 10%:\n",
    "    - конверсии в просмотр карточек товаров — событие `product_page`,\n",
    "    - просмотры корзины — `product_cart`,\n",
    "    - покупки — `purchase`."
   ]
  },
  {
   "cell_type": "markdown",
   "id": "4bda7ad4",
   "metadata": {},
   "source": [
    "#  Выгрузка данных и их изучение"
   ]
  },
  {
   "cell_type": "code",
   "execution_count": 1,
   "id": "23bbe1f7",
   "metadata": {},
   "outputs": [],
   "source": [
    "# импорт библиотек\n",
    "import pandas as pd\n",
    "import numpy as np\n",
    "import matplotlib.pyplot as plt\n",
    "import seaborn as sns\n",
    "import os\n",
    "from plotly import graph_objects as go\n",
    "\n",
    "import math as mth\n",
    "from scipy import stats as st\n",
    "import scipy.stats as stats\n",
    "import datetime as dt"
   ]
  },
  {
   "cell_type": "markdown",
   "id": "64e1ce8d",
   "metadata": {},
   "source": [
    "## Посмотр календаря маркетинговых событий на 2020 год"
   ]
  },
  {
   "cell_type": "code",
   "execution_count": 2,
   "id": "ede89051",
   "metadata": {},
   "outputs": [],
   "source": [
    "# чтение файла ab_project_marketing_events.csv и сохранение в переменной marketing\n",
    "if os.path.exists('/datasets/ab_project_marketing_events.csv'):\n",
    "    marketing = pd.read_csv('/datasets/ab_project_marketing_events.csv', sep = ',', parse_dates=['start_dt', 'finish_dt'], dayfirst=True)\n",
    "else:\n",
    "    marketing = pd.read_csv('ab_project_marketing_events.csv', sep = ',', parse_dates=['start_dt', 'finish_dt'], dayfirst=True)"
   ]
  },
  {
   "cell_type": "code",
   "execution_count": 3,
   "id": "f89cfe98",
   "metadata": {},
   "outputs": [
    {
     "data": {
      "text/html": [
       "<div>\n",
       "<style scoped>\n",
       "    .dataframe tbody tr th:only-of-type {\n",
       "        vertical-align: middle;\n",
       "    }\n",
       "\n",
       "    .dataframe tbody tr th {\n",
       "        vertical-align: top;\n",
       "    }\n",
       "\n",
       "    .dataframe thead th {\n",
       "        text-align: right;\n",
       "    }\n",
       "</style>\n",
       "<table border=\"1\" class=\"dataframe\">\n",
       "  <thead>\n",
       "    <tr style=\"text-align: right;\">\n",
       "      <th></th>\n",
       "      <th>name</th>\n",
       "      <th>regions</th>\n",
       "      <th>start_dt</th>\n",
       "      <th>finish_dt</th>\n",
       "    </tr>\n",
       "  </thead>\n",
       "  <tbody>\n",
       "    <tr>\n",
       "      <th>0</th>\n",
       "      <td>Christmas&amp;New Year Promo</td>\n",
       "      <td>EU, N.America</td>\n",
       "      <td>2020-12-25</td>\n",
       "      <td>2021-01-03</td>\n",
       "    </tr>\n",
       "    <tr>\n",
       "      <th>1</th>\n",
       "      <td>St. Valentine's Day Giveaway</td>\n",
       "      <td>EU, CIS, APAC, N.America</td>\n",
       "      <td>2020-02-14</td>\n",
       "      <td>2020-02-16</td>\n",
       "    </tr>\n",
       "    <tr>\n",
       "      <th>2</th>\n",
       "      <td>St. Patric's Day Promo</td>\n",
       "      <td>EU, N.America</td>\n",
       "      <td>2020-03-17</td>\n",
       "      <td>2020-03-19</td>\n",
       "    </tr>\n",
       "    <tr>\n",
       "      <th>3</th>\n",
       "      <td>Easter Promo</td>\n",
       "      <td>EU, CIS, APAC, N.America</td>\n",
       "      <td>2020-04-12</td>\n",
       "      <td>2020-04-19</td>\n",
       "    </tr>\n",
       "    <tr>\n",
       "      <th>4</th>\n",
       "      <td>4th of July Promo</td>\n",
       "      <td>N.America</td>\n",
       "      <td>2020-07-04</td>\n",
       "      <td>2020-07-11</td>\n",
       "    </tr>\n",
       "  </tbody>\n",
       "</table>\n",
       "</div>"
      ],
      "text/plain": [
       "                           name                   regions   start_dt  \\\n",
       "0      Christmas&New Year Promo             EU, N.America 2020-12-25   \n",
       "1  St. Valentine's Day Giveaway  EU, CIS, APAC, N.America 2020-02-14   \n",
       "2        St. Patric's Day Promo             EU, N.America 2020-03-17   \n",
       "3                  Easter Promo  EU, CIS, APAC, N.America 2020-04-12   \n",
       "4             4th of July Promo                 N.America 2020-07-04   \n",
       "\n",
       "   finish_dt  \n",
       "0 2021-01-03  \n",
       "1 2020-02-16  \n",
       "2 2020-03-19  \n",
       "3 2020-04-19  \n",
       "4 2020-07-11  "
      ]
     },
     "execution_count": 3,
     "metadata": {},
     "output_type": "execute_result"
    }
   ],
   "source": [
    "# просмотр первых пяти строк таблицы\n",
    "marketing.head()"
   ]
  },
  {
   "cell_type": "markdown",
   "id": "cd855796",
   "metadata": {},
   "source": [
    "Структура файла:\n",
    "\n",
    "- `name` — название маркетингового события;\n",
    "- `regions` — регионы, в которых будет проводиться рекламная кампания;\n",
    "- `start_dt` — дата начала кампании;\n",
    "- `finish_dt` — дата завершения кампании."
   ]
  },
  {
   "cell_type": "code",
   "execution_count": 4,
   "id": "534cd3b4",
   "metadata": {},
   "outputs": [
    {
     "name": "stdout",
     "output_type": "stream",
     "text": [
      "<class 'pandas.core.frame.DataFrame'>\n",
      "RangeIndex: 14 entries, 0 to 13\n",
      "Data columns (total 4 columns):\n",
      " #   Column     Non-Null Count  Dtype         \n",
      "---  ------     --------------  -----         \n",
      " 0   name       14 non-null     object        \n",
      " 1   regions    14 non-null     object        \n",
      " 2   start_dt   14 non-null     datetime64[ns]\n",
      " 3   finish_dt  14 non-null     datetime64[ns]\n",
      "dtypes: datetime64[ns](2), object(2)\n",
      "memory usage: 576.0+ bytes\n"
     ]
    }
   ],
   "source": [
    "# получение общей информации о данных в таблице \n",
    "marketing.info()"
   ]
  },
  {
   "cell_type": "code",
   "execution_count": 5,
   "id": "de12acaa",
   "metadata": {},
   "outputs": [
    {
     "data": {
      "text/plain": [
       "0"
      ]
     },
     "execution_count": 5,
     "metadata": {},
     "output_type": "execute_result"
    }
   ],
   "source": [
    "# проверим наличие явных дубликатов\n",
    "marketing.duplicated().sum()"
   ]
  },
  {
   "cell_type": "code",
   "execution_count": 6,
   "id": "044fb4af",
   "metadata": {},
   "outputs": [
    {
     "data": {
      "text/plain": [
       "array(['Christmas&New Year Promo', \"St. Valentine's Day Giveaway\",\n",
       "       \"St. Patric's Day Promo\", 'Easter Promo', '4th of July Promo',\n",
       "       'Black Friday Ads Campaign', 'Chinese New Year Promo',\n",
       "       'Labor day (May 1st) Ads Campaign',\n",
       "       \"International Women's Day Promo\",\n",
       "       'Victory Day CIS (May 9th) Event', 'CIS New Year Gift Lottery',\n",
       "       'Dragon Boat Festival Giveaway', \"Single's Day Gift Promo\",\n",
       "       'Chinese Moon Festival'], dtype=object)"
      ]
     },
     "execution_count": 6,
     "metadata": {},
     "output_type": "execute_result"
    }
   ],
   "source": [
    "# проверим значения колонки name\n",
    "marketing['name'].unique()"
   ]
  },
  {
   "cell_type": "code",
   "execution_count": 7,
   "id": "5fb199b5",
   "metadata": {},
   "outputs": [
    {
     "data": {
      "text/plain": [
       "array(['EU, N.America', 'EU, CIS, APAC, N.America', 'N.America', 'APAC',\n",
       "       'EU, CIS, APAC', 'CIS'], dtype=object)"
      ]
     },
     "execution_count": 7,
     "metadata": {},
     "output_type": "execute_result"
    }
   ],
   "source": [
    "# проверим значения колонки name\n",
    "marketing['regions'].unique()"
   ]
  },
  {
   "cell_type": "markdown",
   "id": "fc3b6f61",
   "metadata": {},
   "source": [
    "### Вывод:\n",
    "\n",
    "* тип данных в столбцах start_dt и finish_dt заменили на datetime\n",
    "* пропусков нет\n",
    "* дубликатов нет"
   ]
  },
  {
   "cell_type": "markdown",
   "id": "b9727ed0",
   "metadata": {},
   "source": [
    "## Посмотр пользователей, зарегистрированных с 7 по 21 декабря 2020 года"
   ]
  },
  {
   "cell_type": "code",
   "execution_count": 8,
   "id": "55fe1668",
   "metadata": {},
   "outputs": [],
   "source": [
    "# чтение файла final_ab_new_users.csv и сохранение в переменной new_users\n",
    "if os.path.exists('/datasets/final_ab_new_users.csv'):\n",
    "    new_users = pd.read_csv('/datasets/final_ab_new_users.csv', sep = ',', parse_dates=['first_date'], dayfirst=True)\n",
    "else:\n",
    "    new_users = pd.read_csv('final_ab_new_users.csv', sep = ',', parse_dates=['first_date'], dayfirst=True)"
   ]
  },
  {
   "cell_type": "code",
   "execution_count": 9,
   "id": "1544b972",
   "metadata": {},
   "outputs": [
    {
     "data": {
      "text/html": [
       "<div>\n",
       "<style scoped>\n",
       "    .dataframe tbody tr th:only-of-type {\n",
       "        vertical-align: middle;\n",
       "    }\n",
       "\n",
       "    .dataframe tbody tr th {\n",
       "        vertical-align: top;\n",
       "    }\n",
       "\n",
       "    .dataframe thead th {\n",
       "        text-align: right;\n",
       "    }\n",
       "</style>\n",
       "<table border=\"1\" class=\"dataframe\">\n",
       "  <thead>\n",
       "    <tr style=\"text-align: right;\">\n",
       "      <th></th>\n",
       "      <th>user_id</th>\n",
       "      <th>first_date</th>\n",
       "      <th>region</th>\n",
       "      <th>device</th>\n",
       "    </tr>\n",
       "  </thead>\n",
       "  <tbody>\n",
       "    <tr>\n",
       "      <th>0</th>\n",
       "      <td>D72A72121175D8BE</td>\n",
       "      <td>2020-12-07</td>\n",
       "      <td>EU</td>\n",
       "      <td>PC</td>\n",
       "    </tr>\n",
       "    <tr>\n",
       "      <th>1</th>\n",
       "      <td>F1C668619DFE6E65</td>\n",
       "      <td>2020-12-07</td>\n",
       "      <td>N.America</td>\n",
       "      <td>Android</td>\n",
       "    </tr>\n",
       "    <tr>\n",
       "      <th>2</th>\n",
       "      <td>2E1BF1D4C37EA01F</td>\n",
       "      <td>2020-12-07</td>\n",
       "      <td>EU</td>\n",
       "      <td>PC</td>\n",
       "    </tr>\n",
       "    <tr>\n",
       "      <th>3</th>\n",
       "      <td>50734A22C0C63768</td>\n",
       "      <td>2020-12-07</td>\n",
       "      <td>EU</td>\n",
       "      <td>iPhone</td>\n",
       "    </tr>\n",
       "    <tr>\n",
       "      <th>4</th>\n",
       "      <td>E1BDDCE0DAFA2679</td>\n",
       "      <td>2020-12-07</td>\n",
       "      <td>N.America</td>\n",
       "      <td>iPhone</td>\n",
       "    </tr>\n",
       "  </tbody>\n",
       "</table>\n",
       "</div>"
      ],
      "text/plain": [
       "            user_id first_date     region   device\n",
       "0  D72A72121175D8BE 2020-12-07         EU       PC\n",
       "1  F1C668619DFE6E65 2020-12-07  N.America  Android\n",
       "2  2E1BF1D4C37EA01F 2020-12-07         EU       PC\n",
       "3  50734A22C0C63768 2020-12-07         EU   iPhone\n",
       "4  E1BDDCE0DAFA2679 2020-12-07  N.America   iPhone"
      ]
     },
     "execution_count": 9,
     "metadata": {},
     "output_type": "execute_result"
    }
   ],
   "source": [
    "# просмотр первых пяти строк таблицы\n",
    "new_users.head()"
   ]
  },
  {
   "cell_type": "markdown",
   "id": "bf861662",
   "metadata": {},
   "source": [
    "Структура файла:\n",
    "\n",
    "- `user_id` — идентификатор пользователя;\n",
    "- `first_date` — дата регистрации;\n",
    "- `region` — регион пользователя;\n",
    "- `device` — устройство, с которого происходила регистрация."
   ]
  },
  {
   "cell_type": "code",
   "execution_count": 10,
   "id": "c234e393",
   "metadata": {},
   "outputs": [
    {
     "name": "stdout",
     "output_type": "stream",
     "text": [
      "<class 'pandas.core.frame.DataFrame'>\n",
      "RangeIndex: 61733 entries, 0 to 61732\n",
      "Data columns (total 4 columns):\n",
      " #   Column      Non-Null Count  Dtype         \n",
      "---  ------      --------------  -----         \n",
      " 0   user_id     61733 non-null  object        \n",
      " 1   first_date  61733 non-null  datetime64[ns]\n",
      " 2   region      61733 non-null  object        \n",
      " 3   device      61733 non-null  object        \n",
      "dtypes: datetime64[ns](1), object(3)\n",
      "memory usage: 1.9+ MB\n"
     ]
    }
   ],
   "source": [
    "# получение общей информации о данных в таблице \n",
    "new_users.info()"
   ]
  },
  {
   "cell_type": "code",
   "execution_count": 11,
   "id": "c2c239ea",
   "metadata": {},
   "outputs": [
    {
     "data": {
      "text/plain": [
       "0"
      ]
     },
     "execution_count": 11,
     "metadata": {},
     "output_type": "execute_result"
    }
   ],
   "source": [
    "# проверим наличие явных дубликатов\n",
    "new_users.duplicated().sum()"
   ]
  },
  {
   "cell_type": "code",
   "execution_count": 12,
   "id": "476db9f4",
   "metadata": {},
   "outputs": [
    {
     "data": {
      "text/plain": [
       "array(['EU', 'N.America', 'APAC', 'CIS'], dtype=object)"
      ]
     },
     "execution_count": 12,
     "metadata": {},
     "output_type": "execute_result"
    }
   ],
   "source": [
    "# проверим значения колонки name\n",
    "new_users['region'].unique()"
   ]
  },
  {
   "cell_type": "code",
   "execution_count": 13,
   "id": "efd6cd76",
   "metadata": {},
   "outputs": [
    {
     "data": {
      "text/plain": [
       "array(['PC', 'Android', 'iPhone', 'Mac'], dtype=object)"
      ]
     },
     "execution_count": 13,
     "metadata": {},
     "output_type": "execute_result"
    }
   ],
   "source": [
    "# проверим значения колонки device\n",
    "new_users['device'].unique()"
   ]
  },
  {
   "cell_type": "markdown",
   "id": "9654adad",
   "metadata": {},
   "source": [
    "### Вывод:\n",
    "\n",
    "* тип данных в столбце first_date заменили на datetime\n",
    "* пропусков нет\n",
    "* дубликатов нет"
   ]
  },
  {
   "cell_type": "markdown",
   "id": "aa1c094e",
   "metadata": {},
   "source": [
    "## Посмотр действий новых пользователей в период с 7 декабря 2020 по 4 января 2021 года."
   ]
  },
  {
   "cell_type": "code",
   "execution_count": 14,
   "id": "e0f63229",
   "metadata": {},
   "outputs": [],
   "source": [
    "# чтение файла final_ab_events.csv и сохранение в переменной final_ab_events\n",
    "if os.path.exists('/datasets/final_ab_events.csv'):\n",
    "    events = pd.read_csv('/datasets/final_ab_events.csv', sep = ',', parse_dates=['event_dt'], dayfirst=True)\n",
    "else:\n",
    "    events = pd.read_csv('final_ab_events.csv', sep = ',', parse_dates=['event_dt'], dayfirst=True)"
   ]
  },
  {
   "cell_type": "code",
   "execution_count": 15,
   "id": "cc5583af",
   "metadata": {},
   "outputs": [
    {
     "data": {
      "text/html": [
       "<div>\n",
       "<style scoped>\n",
       "    .dataframe tbody tr th:only-of-type {\n",
       "        vertical-align: middle;\n",
       "    }\n",
       "\n",
       "    .dataframe tbody tr th {\n",
       "        vertical-align: top;\n",
       "    }\n",
       "\n",
       "    .dataframe thead th {\n",
       "        text-align: right;\n",
       "    }\n",
       "</style>\n",
       "<table border=\"1\" class=\"dataframe\">\n",
       "  <thead>\n",
       "    <tr style=\"text-align: right;\">\n",
       "      <th></th>\n",
       "      <th>user_id</th>\n",
       "      <th>event_dt</th>\n",
       "      <th>event_name</th>\n",
       "      <th>details</th>\n",
       "    </tr>\n",
       "  </thead>\n",
       "  <tbody>\n",
       "    <tr>\n",
       "      <th>0</th>\n",
       "      <td>E1BDDCE0DAFA2679</td>\n",
       "      <td>2020-12-07 20:22:03</td>\n",
       "      <td>purchase</td>\n",
       "      <td>99.99</td>\n",
       "    </tr>\n",
       "    <tr>\n",
       "      <th>1</th>\n",
       "      <td>7B6452F081F49504</td>\n",
       "      <td>2020-12-07 09:22:53</td>\n",
       "      <td>purchase</td>\n",
       "      <td>9.99</td>\n",
       "    </tr>\n",
       "    <tr>\n",
       "      <th>2</th>\n",
       "      <td>9CD9F34546DF254C</td>\n",
       "      <td>2020-12-07 12:59:29</td>\n",
       "      <td>purchase</td>\n",
       "      <td>4.99</td>\n",
       "    </tr>\n",
       "    <tr>\n",
       "      <th>3</th>\n",
       "      <td>96F27A054B191457</td>\n",
       "      <td>2020-12-07 04:02:40</td>\n",
       "      <td>purchase</td>\n",
       "      <td>4.99</td>\n",
       "    </tr>\n",
       "    <tr>\n",
       "      <th>4</th>\n",
       "      <td>1FD7660FDF94CA1F</td>\n",
       "      <td>2020-12-07 10:15:09</td>\n",
       "      <td>purchase</td>\n",
       "      <td>4.99</td>\n",
       "    </tr>\n",
       "  </tbody>\n",
       "</table>\n",
       "</div>"
      ],
      "text/plain": [
       "            user_id            event_dt event_name  details\n",
       "0  E1BDDCE0DAFA2679 2020-12-07 20:22:03   purchase    99.99\n",
       "1  7B6452F081F49504 2020-12-07 09:22:53   purchase     9.99\n",
       "2  9CD9F34546DF254C 2020-12-07 12:59:29   purchase     4.99\n",
       "3  96F27A054B191457 2020-12-07 04:02:40   purchase     4.99\n",
       "4  1FD7660FDF94CA1F 2020-12-07 10:15:09   purchase     4.99"
      ]
     },
     "execution_count": 15,
     "metadata": {},
     "output_type": "execute_result"
    }
   ],
   "source": [
    "# просмотр первых пяти строк таблицы\n",
    "events.head()"
   ]
  },
  {
   "cell_type": "markdown",
   "id": "6452f077",
   "metadata": {},
   "source": [
    "Структура файла:\n",
    "\n",
    "- `user_id` — идентификатор пользователя;\n",
    "- `event_dt` — дата и время покупки;\n",
    "- `event_name` — тип события;\n",
    "- `details` — дополнительные данные о событии. Например, для покупок, `purchase,` в этом поле хранится стоимость покупки в долларах."
   ]
  },
  {
   "cell_type": "code",
   "execution_count": 16,
   "id": "8e9dcd33",
   "metadata": {},
   "outputs": [
    {
     "name": "stdout",
     "output_type": "stream",
     "text": [
      "<class 'pandas.core.frame.DataFrame'>\n",
      "RangeIndex: 440317 entries, 0 to 440316\n",
      "Data columns (total 4 columns):\n",
      " #   Column      Non-Null Count   Dtype         \n",
      "---  ------      --------------   -----         \n",
      " 0   user_id     440317 non-null  object        \n",
      " 1   event_dt    440317 non-null  datetime64[ns]\n",
      " 2   event_name  440317 non-null  object        \n",
      " 3   details     62740 non-null   float64       \n",
      "dtypes: datetime64[ns](1), float64(1), object(2)\n",
      "memory usage: 13.4+ MB\n"
     ]
    }
   ],
   "source": [
    "# получение общей информации о данных в таблице \n",
    "events.info()"
   ]
  },
  {
   "cell_type": "code",
   "execution_count": 17,
   "id": "fa6bd424",
   "metadata": {},
   "outputs": [
    {
     "data": {
      "text/plain": [
       "0"
      ]
     },
     "execution_count": 17,
     "metadata": {},
     "output_type": "execute_result"
    }
   ],
   "source": [
    "# проверим наличие явных дубликатов\n",
    "events.duplicated().sum()"
   ]
  },
  {
   "cell_type": "code",
   "execution_count": 18,
   "id": "6c344349",
   "metadata": {},
   "outputs": [
    {
     "data": {
      "text/plain": [
       "user_id        0.00\n",
       "event_dt       0.00\n",
       "event_name     0.00\n",
       "details       85.75\n",
       "dtype: float64"
      ]
     },
     "execution_count": 18,
     "metadata": {},
     "output_type": "execute_result"
    }
   ],
   "source": [
    "# определеним количество пропусков в процентах\n",
    "(events.isna().mean().round(4))*100"
   ]
  },
  {
   "cell_type": "code",
   "execution_count": 19,
   "id": "d1b83fca",
   "metadata": {},
   "outputs": [
    {
     "data": {
      "text/plain": [
       "array(['purchase', 'product_cart', 'product_page', 'login'], dtype=object)"
      ]
     },
     "execution_count": 19,
     "metadata": {},
     "output_type": "execute_result"
    }
   ],
   "source": [
    "# проверим значения колонки event_name\n",
    "events['event_name'].unique()"
   ]
  },
  {
   "cell_type": "code",
   "execution_count": 20,
   "id": "9dffc2b2",
   "metadata": {},
   "outputs": [
    {
     "data": {
      "text/html": [
       "<style  type=\"text/css\" >\n",
       "</style><table id=\"T_2833d874_6db9_11ed_8381_002454b3a1e4\" ><thead>    <tr>        <th class=\"blank level0\" ></th>        <th class=\"col_heading level0 col0\" >event_name</th>        <th class=\"col_heading level0 col1\" >count_user</th>        <th class=\"col_heading level0 col2\" >percent</th>    </tr></thead><tbody>\n",
       "                <tr>\n",
       "                        <th id=\"T_2833d874_6db9_11ed_8381_002454b3a1e4level0_row0\" class=\"row_heading level0 row0\" >0</th>\n",
       "                        <td id=\"T_2833d874_6db9_11ed_8381_002454b3a1e4row0_col0\" class=\"data row0 col0\" >login</td>\n",
       "                        <td id=\"T_2833d874_6db9_11ed_8381_002454b3a1e4row0_col1\" class=\"data row0 col1\" >189552</td>\n",
       "                        <td id=\"T_2833d874_6db9_11ed_8381_002454b3a1e4row0_col2\" class=\"data row0 col2\" >43.05%</td>\n",
       "            </tr>\n",
       "            <tr>\n",
       "                        <th id=\"T_2833d874_6db9_11ed_8381_002454b3a1e4level0_row1\" class=\"row_heading level0 row1\" >1</th>\n",
       "                        <td id=\"T_2833d874_6db9_11ed_8381_002454b3a1e4row1_col0\" class=\"data row1 col0\" >product_page</td>\n",
       "                        <td id=\"T_2833d874_6db9_11ed_8381_002454b3a1e4row1_col1\" class=\"data row1 col1\" >125563</td>\n",
       "                        <td id=\"T_2833d874_6db9_11ed_8381_002454b3a1e4row1_col2\" class=\"data row1 col2\" >28.52%</td>\n",
       "            </tr>\n",
       "            <tr>\n",
       "                        <th id=\"T_2833d874_6db9_11ed_8381_002454b3a1e4level0_row2\" class=\"row_heading level0 row2\" >2</th>\n",
       "                        <td id=\"T_2833d874_6db9_11ed_8381_002454b3a1e4row2_col0\" class=\"data row2 col0\" >purchase</td>\n",
       "                        <td id=\"T_2833d874_6db9_11ed_8381_002454b3a1e4row2_col1\" class=\"data row2 col1\" >62740</td>\n",
       "                        <td id=\"T_2833d874_6db9_11ed_8381_002454b3a1e4row2_col2\" class=\"data row2 col2\" >14.25%</td>\n",
       "            </tr>\n",
       "            <tr>\n",
       "                        <th id=\"T_2833d874_6db9_11ed_8381_002454b3a1e4level0_row3\" class=\"row_heading level0 row3\" >3</th>\n",
       "                        <td id=\"T_2833d874_6db9_11ed_8381_002454b3a1e4row3_col0\" class=\"data row3 col0\" >product_cart</td>\n",
       "                        <td id=\"T_2833d874_6db9_11ed_8381_002454b3a1e4row3_col1\" class=\"data row3 col1\" >62462</td>\n",
       "                        <td id=\"T_2833d874_6db9_11ed_8381_002454b3a1e4row3_col2\" class=\"data row3 col2\" >14.19%</td>\n",
       "            </tr>\n",
       "    </tbody></table>"
      ],
      "text/plain": [
       "<pandas.io.formats.style.Styler at 0x21bc6053388>"
      ]
     },
     "execution_count": 20,
     "metadata": {},
     "output_type": "execute_result"
    }
   ],
   "source": [
    "# посмотрим на события в event_name подробнее\n",
    "event = (events.groupby('event_name').agg({'user_id': 'count'})\n",
    "                                       .sort_values(by=['user_id'],ascending=False)\n",
    "                                       .reset_index()\n",
    "                                       .rename(columns={'user_id':'count_user'}))\n",
    "event\n",
    "event['percent'] = (event['count_user'] / len(events))*100\n",
    "event.style.format({'percent': '{:.2f}%'})"
   ]
  },
  {
   "cell_type": "markdown",
   "id": "59edc566",
   "metadata": {},
   "source": [
    "### Вывод:\n",
    "* тип данных в столбце event_dt заменили на datetime\n",
    "* дубликатов нет\n",
    "* пропуски есть - в столбце details, количество пропущенных значений 85,75%, но они объяснимы, так как в этом поле хранится стоимость покупки в долларах, а purchase у нас всего 14,25%, то как раз 85,75 и приходится на все остальные события не purchase.\n",
    "* в столбце event_name 43,05% составляет значение login. Это может говорить о том, что пользователь только зарегестрировался и больше ничего на сайте не делал.\n"
   ]
  },
  {
   "cell_type": "markdown",
   "id": "47ccbd2b",
   "metadata": {},
   "source": [
    "## Посмотр таблицы участников тестов"
   ]
  },
  {
   "cell_type": "code",
   "execution_count": 21,
   "id": "c3c2db80",
   "metadata": {},
   "outputs": [],
   "source": [
    "# чтение файла final_ab_participants.csv и сохранение в переменной final_ab\n",
    "if os.path.exists('/datasets/final_ab_participants.csv'):\n",
    "    participants = pd.read_csv('/datasets/final_ab_participants.csv', sep = ',')\n",
    "else:\n",
    "    participants = pd.read_csv('final_ab_participants.csv', sep = ',')"
   ]
  },
  {
   "cell_type": "code",
   "execution_count": 22,
   "id": "085c3a9a",
   "metadata": {},
   "outputs": [
    {
     "data": {
      "text/html": [
       "<div>\n",
       "<style scoped>\n",
       "    .dataframe tbody tr th:only-of-type {\n",
       "        vertical-align: middle;\n",
       "    }\n",
       "\n",
       "    .dataframe tbody tr th {\n",
       "        vertical-align: top;\n",
       "    }\n",
       "\n",
       "    .dataframe thead th {\n",
       "        text-align: right;\n",
       "    }\n",
       "</style>\n",
       "<table border=\"1\" class=\"dataframe\">\n",
       "  <thead>\n",
       "    <tr style=\"text-align: right;\">\n",
       "      <th></th>\n",
       "      <th>user_id</th>\n",
       "      <th>group</th>\n",
       "      <th>ab_test</th>\n",
       "    </tr>\n",
       "  </thead>\n",
       "  <tbody>\n",
       "    <tr>\n",
       "      <th>0</th>\n",
       "      <td>D1ABA3E2887B6A73</td>\n",
       "      <td>A</td>\n",
       "      <td>recommender_system_test</td>\n",
       "    </tr>\n",
       "    <tr>\n",
       "      <th>1</th>\n",
       "      <td>A7A3664BD6242119</td>\n",
       "      <td>A</td>\n",
       "      <td>recommender_system_test</td>\n",
       "    </tr>\n",
       "    <tr>\n",
       "      <th>2</th>\n",
       "      <td>DABC14FDDFADD29E</td>\n",
       "      <td>A</td>\n",
       "      <td>recommender_system_test</td>\n",
       "    </tr>\n",
       "    <tr>\n",
       "      <th>3</th>\n",
       "      <td>04988C5DF189632E</td>\n",
       "      <td>A</td>\n",
       "      <td>recommender_system_test</td>\n",
       "    </tr>\n",
       "    <tr>\n",
       "      <th>4</th>\n",
       "      <td>482F14783456D21B</td>\n",
       "      <td>B</td>\n",
       "      <td>recommender_system_test</td>\n",
       "    </tr>\n",
       "  </tbody>\n",
       "</table>\n",
       "</div>"
      ],
      "text/plain": [
       "            user_id group                  ab_test\n",
       "0  D1ABA3E2887B6A73     A  recommender_system_test\n",
       "1  A7A3664BD6242119     A  recommender_system_test\n",
       "2  DABC14FDDFADD29E     A  recommender_system_test\n",
       "3  04988C5DF189632E     A  recommender_system_test\n",
       "4  482F14783456D21B     B  recommender_system_test"
      ]
     },
     "execution_count": 22,
     "metadata": {},
     "output_type": "execute_result"
    }
   ],
   "source": [
    "# просмотр первых пяти строк таблицы\n",
    "participants.head()"
   ]
  },
  {
   "cell_type": "markdown",
   "id": "9cb72e74",
   "metadata": {},
   "source": [
    "Структура файла:\n",
    "\n",
    "- `user_id` — идентификатор пользователя;\n",
    "- `ab_test` — название теста;\n",
    "- `group` — группа пользователя."
   ]
  },
  {
   "cell_type": "code",
   "execution_count": 23,
   "id": "fe2cb9df",
   "metadata": {},
   "outputs": [
    {
     "name": "stdout",
     "output_type": "stream",
     "text": [
      "<class 'pandas.core.frame.DataFrame'>\n",
      "RangeIndex: 18268 entries, 0 to 18267\n",
      "Data columns (total 3 columns):\n",
      " #   Column   Non-Null Count  Dtype \n",
      "---  ------   --------------  ----- \n",
      " 0   user_id  18268 non-null  object\n",
      " 1   group    18268 non-null  object\n",
      " 2   ab_test  18268 non-null  object\n",
      "dtypes: object(3)\n",
      "memory usage: 428.3+ KB\n"
     ]
    }
   ],
   "source": [
    "# получение общей информации о данных в таблице \n",
    "participants.info()"
   ]
  },
  {
   "cell_type": "code",
   "execution_count": 24,
   "id": "e488bfcc",
   "metadata": {},
   "outputs": [
    {
     "data": {
      "text/plain": [
       "0"
      ]
     },
     "execution_count": 24,
     "metadata": {},
     "output_type": "execute_result"
    }
   ],
   "source": [
    "# проверим наличие явных дубликатов\n",
    "participants.duplicated().sum()"
   ]
  },
  {
   "cell_type": "markdown",
   "id": "96c72c80",
   "metadata": {},
   "source": [
    "### Вывод:\n",
    "* дубликатов нет\n",
    "* пропусков нет\n"
   ]
  },
  {
   "cell_type": "markdown",
   "id": "8810a6e5",
   "metadata": {},
   "source": [
    "# Исследовательский анализ данных"
   ]
  },
  {
   "cell_type": "markdown",
   "id": "04999f88",
   "metadata": {},
   "source": [
    "## Оценка корректности проведения теста"
   ]
  },
  {
   "cell_type": "markdown",
   "id": "aa940ac0",
   "metadata": {},
   "source": [
    "### Проверка на соответствие данных требованиям технического задания. "
   ]
  },
  {
   "cell_type": "markdown",
   "id": "945f4cf1",
   "metadata": {},
   "source": [
    "**1. Название теста: recommender_system_test**"
   ]
  },
  {
   "cell_type": "code",
   "execution_count": 25,
   "id": "4f630d63",
   "metadata": {},
   "outputs": [
    {
     "data": {
      "text/plain": [
       "array(['recommender_system_test', 'interface_eu_test'], dtype=object)"
      ]
     },
     "execution_count": 25,
     "metadata": {},
     "output_type": "execute_result"
    }
   ],
   "source": [
    "# проверим значения колонки group\n",
    "participants['ab_test'].unique()"
   ]
  },
  {
   "cell_type": "markdown",
   "id": "ae9fa43e",
   "metadata": {},
   "source": [
    "В данных присутствую два теста одновременно"
   ]
  },
  {
   "cell_type": "markdown",
   "id": "fb371406",
   "metadata": {},
   "source": [
    "**2. Группы: А — контрольная, B — новая платёжная воронка**"
   ]
  },
  {
   "cell_type": "code",
   "execution_count": 26,
   "id": "332f860e",
   "metadata": {},
   "outputs": [
    {
     "data": {
      "text/plain": [
       "array(['A', 'B'], dtype=object)"
      ]
     },
     "execution_count": 26,
     "metadata": {},
     "output_type": "execute_result"
    }
   ],
   "source": [
    "participants['group'].unique()"
   ]
  },
  {
   "cell_type": "markdown",
   "id": "047b425b",
   "metadata": {},
   "source": [
    "Группы соответствуют заданию"
   ]
  },
  {
   "cell_type": "markdown",
   "id": "d2f495f9",
   "metadata": {},
   "source": [
    "**3. Дата запуска: 2020-12-07**"
   ]
  },
  {
   "cell_type": "code",
   "execution_count": 27,
   "id": "d912394c",
   "metadata": {},
   "outputs": [],
   "source": [
    "#оставляем в датасете только пользователей из Европы согласно ТЗ\n",
    "new_users = new_users[new_users['region'] == 'EU']"
   ]
  },
  {
   "cell_type": "code",
   "execution_count": 28,
   "id": "ae4bd93e",
   "metadata": {},
   "outputs": [
    {
     "data": {
      "text/html": [
       "<div>\n",
       "<style scoped>\n",
       "    .dataframe tbody tr th:only-of-type {\n",
       "        vertical-align: middle;\n",
       "    }\n",
       "\n",
       "    .dataframe tbody tr th {\n",
       "        vertical-align: top;\n",
       "    }\n",
       "\n",
       "    .dataframe thead th {\n",
       "        text-align: right;\n",
       "    }\n",
       "</style>\n",
       "<table border=\"1\" class=\"dataframe\">\n",
       "  <thead>\n",
       "    <tr style=\"text-align: right;\">\n",
       "      <th></th>\n",
       "      <th>user_id</th>\n",
       "      <th>first_date</th>\n",
       "      <th>region</th>\n",
       "      <th>device</th>\n",
       "      <th>group</th>\n",
       "      <th>ab_test</th>\n",
       "    </tr>\n",
       "  </thead>\n",
       "  <tbody>\n",
       "    <tr>\n",
       "      <th>0</th>\n",
       "      <td>D1ABA3E2887B6A73</td>\n",
       "      <td>2020-12-07</td>\n",
       "      <td>EU</td>\n",
       "      <td>PC</td>\n",
       "      <td>A</td>\n",
       "      <td>recommender_system_test</td>\n",
       "    </tr>\n",
       "    <tr>\n",
       "      <th>1</th>\n",
       "      <td>A7A3664BD6242119</td>\n",
       "      <td>2020-12-20</td>\n",
       "      <td>EU</td>\n",
       "      <td>iPhone</td>\n",
       "      <td>A</td>\n",
       "      <td>recommender_system_test</td>\n",
       "    </tr>\n",
       "    <tr>\n",
       "      <th>2</th>\n",
       "      <td>DABC14FDDFADD29E</td>\n",
       "      <td>2020-12-08</td>\n",
       "      <td>EU</td>\n",
       "      <td>Mac</td>\n",
       "      <td>A</td>\n",
       "      <td>recommender_system_test</td>\n",
       "    </tr>\n",
       "    <tr>\n",
       "      <th>3</th>\n",
       "      <td>DABC14FDDFADD29E</td>\n",
       "      <td>2020-12-08</td>\n",
       "      <td>EU</td>\n",
       "      <td>Mac</td>\n",
       "      <td>A</td>\n",
       "      <td>interface_eu_test</td>\n",
       "    </tr>\n",
       "    <tr>\n",
       "      <th>4</th>\n",
       "      <td>04988C5DF189632E</td>\n",
       "      <td>2020-12-14</td>\n",
       "      <td>EU</td>\n",
       "      <td>iPhone</td>\n",
       "      <td>A</td>\n",
       "      <td>recommender_system_test</td>\n",
       "    </tr>\n",
       "  </tbody>\n",
       "</table>\n",
       "</div>"
      ],
      "text/plain": [
       "            user_id first_date region  device group                  ab_test\n",
       "0  D1ABA3E2887B6A73 2020-12-07     EU      PC     A  recommender_system_test\n",
       "1  A7A3664BD6242119 2020-12-20     EU  iPhone     A  recommender_system_test\n",
       "2  DABC14FDDFADD29E 2020-12-08     EU     Mac     A  recommender_system_test\n",
       "3  DABC14FDDFADD29E 2020-12-08     EU     Mac     A        interface_eu_test\n",
       "4  04988C5DF189632E 2020-12-14     EU  iPhone     A  recommender_system_test"
      ]
     },
     "execution_count": 28,
     "metadata": {},
     "output_type": "execute_result"
    }
   ],
   "source": [
    "# соеденим таблицы new_users и participants и отбросим пустые значения\n",
    "ab_new_users = new_users.merge(participants, on='user_id', how='right').dropna()\n",
    "ab_new_users.head()"
   ]
  },
  {
   "cell_type": "code",
   "execution_count": 29,
   "id": "0beccddb",
   "metadata": {},
   "outputs": [
    {
     "data": {
      "text/plain": [
       "Timestamp('2020-12-07 00:00:00')"
      ]
     },
     "execution_count": 29,
     "metadata": {},
     "output_type": "execute_result"
    }
   ],
   "source": [
    "# посмотрим первую дату у нужного нам теста у группы А\n",
    "ab_new_users.query('group==\"A\" and ab_test==\"recommender_system_test\"')['first_date'].min()"
   ]
  },
  {
   "cell_type": "code",
   "execution_count": 30,
   "id": "038849de",
   "metadata": {},
   "outputs": [
    {
     "data": {
      "text/plain": [
       "Timestamp('2020-12-07 00:00:00')"
      ]
     },
     "execution_count": 30,
     "metadata": {},
     "output_type": "execute_result"
    }
   ],
   "source": [
    "# посмотрим первую дату у нужного нам теста у группы В\n",
    "ab_new_users.query('group==\"B\" and ab_test==\"recommender_system_test\"')['first_date'].min()"
   ]
  },
  {
   "cell_type": "markdown",
   "id": "b57ef9ce",
   "metadata": {},
   "source": [
    "Дата запуска действительно с 07.12.2020 у обоих групп."
   ]
  },
  {
   "cell_type": "markdown",
   "id": "69e33427",
   "metadata": {},
   "source": [
    "**4. Дата остановки набора новых пользователей: 2020-12-21**"
   ]
  },
  {
   "cell_type": "code",
   "execution_count": 31,
   "id": "ea41b424",
   "metadata": {},
   "outputs": [
    {
     "data": {
      "text/plain": [
       "Timestamp('2020-12-21 00:00:00')"
      ]
     },
     "execution_count": 31,
     "metadata": {},
     "output_type": "execute_result"
    }
   ],
   "source": [
    "# посмотрим последнюю дату у нужного нам теста у группы А\n",
    "ab_new_users.query('group==\"A\" and ab_test==\"recommender_system_test\"')['first_date'].max()"
   ]
  },
  {
   "cell_type": "code",
   "execution_count": 32,
   "id": "07fc26cb",
   "metadata": {},
   "outputs": [
    {
     "data": {
      "text/plain": [
       "Timestamp('2020-12-21 00:00:00')"
      ]
     },
     "execution_count": 32,
     "metadata": {},
     "output_type": "execute_result"
    }
   ],
   "source": [
    "# посмотрим последнюю дату у нужного нам теста у группы А\n",
    "ab_new_users.query('group==\"B\" and ab_test==\"recommender_system_test\"')['first_date'].max()"
   ]
  },
  {
   "cell_type": "markdown",
   "id": "9d7824fb",
   "metadata": {},
   "source": [
    "Дата остановки набора новых пользователей действительно 21.12.2020 у обоих групп."
   ]
  },
  {
   "cell_type": "markdown",
   "id": "f4760e76",
   "metadata": {},
   "source": [
    "**5. Дата остановки теста: 2021-01-04**"
   ]
  },
  {
   "cell_type": "code",
   "execution_count": 33,
   "id": "cd3f19e3",
   "metadata": {},
   "outputs": [
    {
     "data": {
      "text/html": [
       "<div>\n",
       "<style scoped>\n",
       "    .dataframe tbody tr th:only-of-type {\n",
       "        vertical-align: middle;\n",
       "    }\n",
       "\n",
       "    .dataframe tbody tr th {\n",
       "        vertical-align: top;\n",
       "    }\n",
       "\n",
       "    .dataframe thead th {\n",
       "        text-align: right;\n",
       "    }\n",
       "</style>\n",
       "<table border=\"1\" class=\"dataframe\">\n",
       "  <thead>\n",
       "    <tr style=\"text-align: right;\">\n",
       "      <th></th>\n",
       "      <th>user_id</th>\n",
       "      <th>event_dt</th>\n",
       "      <th>event_name</th>\n",
       "      <th>details</th>\n",
       "      <th>group</th>\n",
       "      <th>ab_test</th>\n",
       "    </tr>\n",
       "  </thead>\n",
       "  <tbody>\n",
       "    <tr>\n",
       "      <th>0</th>\n",
       "      <td>D1ABA3E2887B6A73</td>\n",
       "      <td>2020-12-07 14:43:27</td>\n",
       "      <td>purchase</td>\n",
       "      <td>99.99</td>\n",
       "      <td>A</td>\n",
       "      <td>recommender_system_test</td>\n",
       "    </tr>\n",
       "    <tr>\n",
       "      <th>1</th>\n",
       "      <td>D1ABA3E2887B6A73</td>\n",
       "      <td>2020-12-25 00:04:56</td>\n",
       "      <td>purchase</td>\n",
       "      <td>4.99</td>\n",
       "      <td>A</td>\n",
       "      <td>recommender_system_test</td>\n",
       "    </tr>\n",
       "    <tr>\n",
       "      <th>2</th>\n",
       "      <td>D1ABA3E2887B6A73</td>\n",
       "      <td>2020-12-07 14:43:29</td>\n",
       "      <td>product_cart</td>\n",
       "      <td>NaN</td>\n",
       "      <td>A</td>\n",
       "      <td>recommender_system_test</td>\n",
       "    </tr>\n",
       "    <tr>\n",
       "      <th>3</th>\n",
       "      <td>D1ABA3E2887B6A73</td>\n",
       "      <td>2020-12-25 00:04:57</td>\n",
       "      <td>product_cart</td>\n",
       "      <td>NaN</td>\n",
       "      <td>A</td>\n",
       "      <td>recommender_system_test</td>\n",
       "    </tr>\n",
       "    <tr>\n",
       "      <th>4</th>\n",
       "      <td>D1ABA3E2887B6A73</td>\n",
       "      <td>2020-12-07 14:43:27</td>\n",
       "      <td>product_page</td>\n",
       "      <td>NaN</td>\n",
       "      <td>A</td>\n",
       "      <td>recommender_system_test</td>\n",
       "    </tr>\n",
       "  </tbody>\n",
       "</table>\n",
       "</div>"
      ],
      "text/plain": [
       "            user_id            event_dt    event_name  details group  \\\n",
       "0  D1ABA3E2887B6A73 2020-12-07 14:43:27      purchase    99.99     A   \n",
       "1  D1ABA3E2887B6A73 2020-12-25 00:04:56      purchase     4.99     A   \n",
       "2  D1ABA3E2887B6A73 2020-12-07 14:43:29  product_cart      NaN     A   \n",
       "3  D1ABA3E2887B6A73 2020-12-25 00:04:57  product_cart      NaN     A   \n",
       "4  D1ABA3E2887B6A73 2020-12-07 14:43:27  product_page      NaN     A   \n",
       "\n",
       "                   ab_test  \n",
       "0  recommender_system_test  \n",
       "1  recommender_system_test  \n",
       "2  recommender_system_test  \n",
       "3  recommender_system_test  \n",
       "4  recommender_system_test  "
      ]
     },
     "execution_count": 33,
     "metadata": {},
     "output_type": "execute_result"
    }
   ],
   "source": [
    "# соеденим таблицы events и  participants и отбросим пустые значения\n",
    "ab_event = events.merge(participants, on='user_id', how='right')\n",
    "ab_event.head()"
   ]
  },
  {
   "cell_type": "code",
   "execution_count": 34,
   "id": "b188b7fc",
   "metadata": {},
   "outputs": [
    {
     "data": {
      "text/plain": [
       "Timestamp('2020-12-29 23:38:29')"
      ]
     },
     "execution_count": 34,
     "metadata": {},
     "output_type": "execute_result"
    }
   ],
   "source": [
    "# посмотрим последнюю дату события пользователей у нужного нам теста у группы А\n",
    "ab_event.query('group==\"A\" and ab_test==\"recommender_system_test\"')['event_dt'].max()"
   ]
  },
  {
   "cell_type": "code",
   "execution_count": 35,
   "id": "0fba8605",
   "metadata": {},
   "outputs": [
    {
     "data": {
      "text/plain": [
       "Timestamp('2020-12-30 12:42:57')"
      ]
     },
     "execution_count": 35,
     "metadata": {},
     "output_type": "execute_result"
    }
   ],
   "source": [
    "# посмотрим последнюю дату события пользователей у нужного нам теста у группы В\n",
    "ab_event.query('group==\"B\" and ab_test==\"recommender_system_test\"')['event_dt'].max()"
   ]
  },
  {
   "cell_type": "markdown",
   "id": "076d7048",
   "metadata": {},
   "source": [
    "**6. Аудитория: 15% новых пользователей из региона EU**"
   ]
  },
  {
   "cell_type": "code",
   "execution_count": 36,
   "id": "d03d0cbd",
   "metadata": {},
   "outputs": [
    {
     "data": {
      "text/plain": [
       "13.725956343202938"
      ]
     },
     "execution_count": 36,
     "metadata": {},
     "output_type": "execute_result"
    }
   ],
   "source": [
    "(len(ab_new_users.query('ab_test==\"recommender_system_test\"'))/len(new_users[new_users['region'] == 'EU'])*100)"
   ]
  },
  {
   "cell_type": "markdown",
   "id": "31e04cb2",
   "metadata": {},
   "source": [
    "Есть небольшое расхождение с ТЗ"
   ]
  },
  {
   "cell_type": "markdown",
   "id": "e554c6af",
   "metadata": {},
   "source": [
    "**7. Ожидаемое количество участников теста: 6000.**"
   ]
  },
  {
   "cell_type": "code",
   "execution_count": 37,
   "id": "b81d511b",
   "metadata": {},
   "outputs": [
    {
     "data": {
      "text/plain": [
       "EU    17918\n",
       "Name: region, dtype: int64"
      ]
     },
     "execution_count": 37,
     "metadata": {},
     "output_type": "execute_result"
    }
   ],
   "source": [
    "ab_new_users['region'].value_counts()"
   ]
  },
  {
   "cell_type": "code",
   "execution_count": 38,
   "id": "c57b9e5d",
   "metadata": {},
   "outputs": [
    {
     "data": {
      "text/plain": [
       "6351"
      ]
     },
     "execution_count": 38,
     "metadata": {},
     "output_type": "execute_result"
    }
   ],
   "source": [
    "ab_new_users.query('ab_test==\"recommender_system_test\"')['user_id'].nunique()"
   ]
  },
  {
   "cell_type": "markdown",
   "id": "6cff74c7",
   "metadata": {},
   "source": [
    "Количество участников теста больше ожидаемого. Больше не меньше, критичного нет в таком количестве."
   ]
  },
  {
   "cell_type": "markdown",
   "id": "7d3aaae3",
   "metadata": {},
   "source": [
    "### Проверка времени проведения теста. Убедиться, что оно не совпадает с маркетинговыми и другими активностями."
   ]
  },
  {
   "cell_type": "code",
   "execution_count": 39,
   "id": "07244ab5",
   "metadata": {},
   "outputs": [],
   "source": [
    "# сохраним в переменной все даты начала регистрации\n",
    "time_test_1 = new_users['first_date'].dt.date"
   ]
  },
  {
   "cell_type": "code",
   "execution_count": 40,
   "id": "d7adefc7",
   "metadata": {},
   "outputs": [],
   "source": [
    "# сохраним в переменной все даты событий\n",
    "time_test_2 = events['event_dt'].dt.date"
   ]
  },
  {
   "cell_type": "code",
   "execution_count": 41,
   "id": "a61e1b82",
   "metadata": {},
   "outputs": [
    {
     "data": {
      "text/html": [
       "<div>\n",
       "<style scoped>\n",
       "    .dataframe tbody tr th:only-of-type {\n",
       "        vertical-align: middle;\n",
       "    }\n",
       "\n",
       "    .dataframe tbody tr th {\n",
       "        vertical-align: top;\n",
       "    }\n",
       "\n",
       "    .dataframe thead th {\n",
       "        text-align: right;\n",
       "    }\n",
       "</style>\n",
       "<table border=\"1\" class=\"dataframe\">\n",
       "  <thead>\n",
       "    <tr style=\"text-align: right;\">\n",
       "      <th></th>\n",
       "      <th>name</th>\n",
       "      <th>regions</th>\n",
       "      <th>start_dt</th>\n",
       "      <th>finish_dt</th>\n",
       "    </tr>\n",
       "  </thead>\n",
       "  <tbody>\n",
       "    <tr>\n",
       "      <th>0</th>\n",
       "      <td>Christmas&amp;New Year Promo</td>\n",
       "      <td>EU, N.America</td>\n",
       "      <td>2020-12-25</td>\n",
       "      <td>2021-01-03</td>\n",
       "    </tr>\n",
       "    <tr>\n",
       "      <th>10</th>\n",
       "      <td>CIS New Year Gift Lottery</td>\n",
       "      <td>CIS</td>\n",
       "      <td>2020-12-30</td>\n",
       "      <td>2021-01-07</td>\n",
       "    </tr>\n",
       "  </tbody>\n",
       "</table>\n",
       "</div>"
      ],
      "text/plain": [
       "                         name        regions   start_dt  finish_dt\n",
       "0    Christmas&New Year Promo  EU, N.America 2020-12-25 2021-01-03\n",
       "10  CIS New Year Gift Lottery            CIS 2020-12-30 2021-01-07"
      ]
     },
     "execution_count": 41,
     "metadata": {},
     "output_type": "execute_result"
    }
   ],
   "source": [
    "# проверим если даты регистрации или событий в маркетинговых событиях\n",
    "marketing.query('start_dt in @time_test_1 or start_dt in @time_test_2')"
   ]
  },
  {
   "cell_type": "markdown",
   "id": "0e2696e9",
   "metadata": {},
   "source": [
    "Два маркетинговых исследования попали в тест, но так как нас интересуют только жители Европы, во внимание можно брать только акцию \"Christmas&New Year Promo\"."
   ]
  },
  {
   "cell_type": "markdown",
   "id": "f0df4e1f",
   "metadata": {},
   "source": [
    "### Проверка аудиторию теста.  "
   ]
  },
  {
   "cell_type": "markdown",
   "id": "35e45cd0",
   "metadata": {},
   "source": [
    "Убедимся, что нет пересечений с конкурирующим тестом и нет пользователей, участвующих в двух группах теста одновременно."
   ]
  },
  {
   "cell_type": "code",
   "execution_count": 42,
   "id": "176c3ef5",
   "metadata": {},
   "outputs": [],
   "source": [
    "# найдем всех пользователей интересующего нас теста recommender_system_test\n",
    "user_recommender = ab_new_users.query('ab_test==\"recommender_system_test\"')['user_id']"
   ]
  },
  {
   "cell_type": "code",
   "execution_count": 43,
   "id": "7b316eed",
   "metadata": {},
   "outputs": [],
   "source": [
    "# найдем всех пользователей паралельному тесту interface_eu_test\n",
    "user_interface = ab_new_users.query('ab_test==\"interface_eu_test\"')['user_id']"
   ]
  },
  {
   "cell_type": "code",
   "execution_count": 44,
   "id": "edce0df9",
   "metadata": {},
   "outputs": [
    {
     "data": {
      "text/html": [
       "<div>\n",
       "<style scoped>\n",
       "    .dataframe tbody tr th:only-of-type {\n",
       "        vertical-align: middle;\n",
       "    }\n",
       "\n",
       "    .dataframe tbody tr th {\n",
       "        vertical-align: top;\n",
       "    }\n",
       "\n",
       "    .dataframe thead th {\n",
       "        text-align: right;\n",
       "    }\n",
       "</style>\n",
       "<table border=\"1\" class=\"dataframe\">\n",
       "  <thead>\n",
       "    <tr style=\"text-align: right;\">\n",
       "      <th></th>\n",
       "      <th>user_id</th>\n",
       "      <th>first_date</th>\n",
       "      <th>region</th>\n",
       "      <th>device</th>\n",
       "      <th>group</th>\n",
       "      <th>ab_test</th>\n",
       "    </tr>\n",
       "  </thead>\n",
       "  <tbody>\n",
       "    <tr>\n",
       "      <th>2</th>\n",
       "      <td>DABC14FDDFADD29E</td>\n",
       "      <td>2020-12-08</td>\n",
       "      <td>EU</td>\n",
       "      <td>Mac</td>\n",
       "      <td>A</td>\n",
       "      <td>recommender_system_test</td>\n",
       "    </tr>\n",
       "    <tr>\n",
       "      <th>3</th>\n",
       "      <td>DABC14FDDFADD29E</td>\n",
       "      <td>2020-12-08</td>\n",
       "      <td>EU</td>\n",
       "      <td>Mac</td>\n",
       "      <td>A</td>\n",
       "      <td>interface_eu_test</td>\n",
       "    </tr>\n",
       "    <tr>\n",
       "      <th>4</th>\n",
       "      <td>04988C5DF189632E</td>\n",
       "      <td>2020-12-14</td>\n",
       "      <td>EU</td>\n",
       "      <td>iPhone</td>\n",
       "      <td>A</td>\n",
       "      <td>recommender_system_test</td>\n",
       "    </tr>\n",
       "    <tr>\n",
       "      <th>5</th>\n",
       "      <td>04988C5DF189632E</td>\n",
       "      <td>2020-12-14</td>\n",
       "      <td>EU</td>\n",
       "      <td>iPhone</td>\n",
       "      <td>A</td>\n",
       "      <td>interface_eu_test</td>\n",
       "    </tr>\n",
       "    <tr>\n",
       "      <th>12</th>\n",
       "      <td>B3A2485649E4A012</td>\n",
       "      <td>2020-12-09</td>\n",
       "      <td>EU</td>\n",
       "      <td>iPhone</td>\n",
       "      <td>A</td>\n",
       "      <td>recommender_system_test</td>\n",
       "    </tr>\n",
       "    <tr>\n",
       "      <th>13</th>\n",
       "      <td>B3A2485649E4A012</td>\n",
       "      <td>2020-12-09</td>\n",
       "      <td>EU</td>\n",
       "      <td>iPhone</td>\n",
       "      <td>A</td>\n",
       "      <td>interface_eu_test</td>\n",
       "    </tr>\n",
       "  </tbody>\n",
       "</table>\n",
       "</div>"
      ],
      "text/plain": [
       "             user_id first_date region  device group                  ab_test\n",
       "2   DABC14FDDFADD29E 2020-12-08     EU     Mac     A  recommender_system_test\n",
       "3   DABC14FDDFADD29E 2020-12-08     EU     Mac     A        interface_eu_test\n",
       "4   04988C5DF189632E 2020-12-14     EU  iPhone     A  recommender_system_test\n",
       "5   04988C5DF189632E 2020-12-14     EU  iPhone     A        interface_eu_test\n",
       "12  B3A2485649E4A012 2020-12-09     EU  iPhone     A  recommender_system_test\n",
       "13  B3A2485649E4A012 2020-12-09     EU  iPhone     A        interface_eu_test"
      ]
     },
     "execution_count": 44,
     "metadata": {},
     "output_type": "execute_result"
    }
   ],
   "source": [
    "# посмотрим все user_id, которые попали оба теста\n",
    "user_duplicates = ab_new_users.query('user_id in @user_recommender and user_id in @user_interface')\n",
    "user_duplicates.head(6)"
   ]
  },
  {
   "cell_type": "code",
   "execution_count": 45,
   "id": "79da6f34",
   "metadata": {},
   "outputs": [
    {
     "data": {
      "text/plain": [
       "1602.0"
      ]
     },
     "execution_count": 45,
     "metadata": {},
     "output_type": "execute_result"
    }
   ],
   "source": [
    "# Количсетво пользователей, которые в обоих тестах\n",
    "len(user_duplicates)/2"
   ]
  },
  {
   "cell_type": "markdown",
   "id": "9c95e055",
   "metadata": {},
   "source": [
    "Проверка равномерности распределения по тестовым группам и правильность их формирования."
   ]
  },
  {
   "cell_type": "code",
   "execution_count": 46,
   "id": "87f70935",
   "metadata": {},
   "outputs": [
    {
     "data": {
      "text/html": [
       "<style  type=\"text/css\" >\n",
       "</style><table id=\"T_299e8bec_6db9_11ed_b6ef_002454b3a1e4\" ><thead>    <tr>        <th class=\"blank level0\" ></th>        <th class=\"col_heading level0 col0\" >ab_test</th>        <th class=\"col_heading level0 col1\" >group</th>        <th class=\"col_heading level0 col2\" >count_user</th>        <th class=\"col_heading level0 col3\" >percent</th>    </tr></thead><tbody>\n",
       "                <tr>\n",
       "                        <th id=\"T_299e8bec_6db9_11ed_b6ef_002454b3a1e4level0_row0\" class=\"row_heading level0 row0\" >0</th>\n",
       "                        <td id=\"T_299e8bec_6db9_11ed_b6ef_002454b3a1e4row0_col0\" class=\"data row0 col0\" >interface_eu_test</td>\n",
       "                        <td id=\"T_299e8bec_6db9_11ed_b6ef_002454b3a1e4row0_col1\" class=\"data row0 col1\" >A</td>\n",
       "                        <td id=\"T_299e8bec_6db9_11ed_b6ef_002454b3a1e4row0_col2\" class=\"data row0 col2\" >5831</td>\n",
       "                        <td id=\"T_299e8bec_6db9_11ed_b6ef_002454b3a1e4row0_col3\" class=\"data row0 col3\" >31.92%</td>\n",
       "            </tr>\n",
       "            <tr>\n",
       "                        <th id=\"T_299e8bec_6db9_11ed_b6ef_002454b3a1e4level0_row1\" class=\"row_heading level0 row1\" >1</th>\n",
       "                        <td id=\"T_299e8bec_6db9_11ed_b6ef_002454b3a1e4row1_col0\" class=\"data row1 col0\" >interface_eu_test</td>\n",
       "                        <td id=\"T_299e8bec_6db9_11ed_b6ef_002454b3a1e4row1_col1\" class=\"data row1 col1\" >B</td>\n",
       "                        <td id=\"T_299e8bec_6db9_11ed_b6ef_002454b3a1e4row1_col2\" class=\"data row1 col2\" >5736</td>\n",
       "                        <td id=\"T_299e8bec_6db9_11ed_b6ef_002454b3a1e4row1_col3\" class=\"data row1 col3\" >31.40%</td>\n",
       "            </tr>\n",
       "            <tr>\n",
       "                        <th id=\"T_299e8bec_6db9_11ed_b6ef_002454b3a1e4level0_row2\" class=\"row_heading level0 row2\" >2</th>\n",
       "                        <td id=\"T_299e8bec_6db9_11ed_b6ef_002454b3a1e4row2_col0\" class=\"data row2 col0\" >recommender_system_test</td>\n",
       "                        <td id=\"T_299e8bec_6db9_11ed_b6ef_002454b3a1e4row2_col1\" class=\"data row2 col1\" >A</td>\n",
       "                        <td id=\"T_299e8bec_6db9_11ed_b6ef_002454b3a1e4row2_col2\" class=\"data row2 col2\" >3824</td>\n",
       "                        <td id=\"T_299e8bec_6db9_11ed_b6ef_002454b3a1e4row2_col3\" class=\"data row2 col3\" >20.93%</td>\n",
       "            </tr>\n",
       "            <tr>\n",
       "                        <th id=\"T_299e8bec_6db9_11ed_b6ef_002454b3a1e4level0_row3\" class=\"row_heading level0 row3\" >3</th>\n",
       "                        <td id=\"T_299e8bec_6db9_11ed_b6ef_002454b3a1e4row3_col0\" class=\"data row3 col0\" >recommender_system_test</td>\n",
       "                        <td id=\"T_299e8bec_6db9_11ed_b6ef_002454b3a1e4row3_col1\" class=\"data row3 col1\" >B</td>\n",
       "                        <td id=\"T_299e8bec_6db9_11ed_b6ef_002454b3a1e4row3_col2\" class=\"data row3 col2\" >2877</td>\n",
       "                        <td id=\"T_299e8bec_6db9_11ed_b6ef_002454b3a1e4row3_col3\" class=\"data row3 col3\" >15.75%</td>\n",
       "            </tr>\n",
       "    </tbody></table>"
      ],
      "text/plain": [
       "<pandas.io.formats.style.Styler at 0x21bc16ff288>"
      ]
     },
     "execution_count": 46,
     "metadata": {},
     "output_type": "execute_result"
    }
   ],
   "source": [
    "group_a_b = (participants.groupby(['ab_test', 'group']).agg({'user_id': 'nunique'})\n",
    "                                       .sort_values(by=['user_id'],ascending=False)\n",
    "                                       .reset_index()\n",
    "                                       .rename(columns={'user_id':'count_user'}))\n",
    "group_a_b\n",
    "group_a_b['percent'] = (group_a_b['count_user'] / len(participants))*100\n",
    "group_a_b.style.format({'percent': '{:.2f}%'})"
   ]
  },
  {
   "cell_type": "markdown",
   "id": "9145c39e",
   "metadata": {},
   "source": [
    "Посмотрим не попал ли один и тот же пользователь в одну и туже группу"
   ]
  },
  {
   "cell_type": "code",
   "execution_count": 47,
   "id": "97a9cd46",
   "metadata": {},
   "outputs": [],
   "source": [
    "user_A = ab_new_users.query('ab_test==\"recommender_system_test\" and group==\"A\"')['user_id']"
   ]
  },
  {
   "cell_type": "code",
   "execution_count": 48,
   "id": "91c3a4a4",
   "metadata": {},
   "outputs": [],
   "source": [
    "user_B = ab_new_users.query('ab_test==\"recommender_system_test\" and group==\"B\"')['user_id']"
   ]
  },
  {
   "cell_type": "code",
   "execution_count": 49,
   "id": "a011e00c",
   "metadata": {},
   "outputs": [
    {
     "data": {
      "text/html": [
       "<div>\n",
       "<style scoped>\n",
       "    .dataframe tbody tr th:only-of-type {\n",
       "        vertical-align: middle;\n",
       "    }\n",
       "\n",
       "    .dataframe tbody tr th {\n",
       "        vertical-align: top;\n",
       "    }\n",
       "\n",
       "    .dataframe thead th {\n",
       "        text-align: right;\n",
       "    }\n",
       "</style>\n",
       "<table border=\"1\" class=\"dataframe\">\n",
       "  <thead>\n",
       "    <tr style=\"text-align: right;\">\n",
       "      <th></th>\n",
       "      <th>user_id</th>\n",
       "      <th>first_date</th>\n",
       "      <th>region</th>\n",
       "      <th>device</th>\n",
       "      <th>group</th>\n",
       "      <th>ab_test</th>\n",
       "    </tr>\n",
       "  </thead>\n",
       "  <tbody>\n",
       "  </tbody>\n",
       "</table>\n",
       "</div>"
      ],
      "text/plain": [
       "Empty DataFrame\n",
       "Columns: [user_id, first_date, region, device, group, ab_test]\n",
       "Index: []"
      ]
     },
     "execution_count": 49,
     "metadata": {},
     "output_type": "execute_result"
    }
   ],
   "source": [
    "user_duplicates = ab_new_users.query('user_id in @user_A and user_id in @user_B')\n",
    "user_duplicates"
   ]
  },
  {
   "cell_type": "markdown",
   "id": "ea41cb4f",
   "metadata": {},
   "source": [
    "Пользователи в группах не пересекаются."
   ]
  },
  {
   "cell_type": "markdown",
   "id": "39c706cb",
   "metadata": {},
   "source": [
    "## Распеределение количества событий на пользователя в выборках."
   ]
  },
  {
   "cell_type": "code",
   "execution_count": 50,
   "id": "40a82ce6",
   "metadata": {},
   "outputs": [
    {
     "data": {
      "text/plain": [
       "Text(0.5, 0, 'Кол-во событий')"
      ]
     },
     "execution_count": 50,
     "metadata": {},
     "output_type": "execute_result"
    },
    {
     "data": {
      "image/png": "[encoded data removed]",
      "text/plain": [
       "<Figure size 576x360 with 1 Axes>"
      ]
     },
     "metadata": {
      "needs_background": "light"
     },
     "output_type": "display_data"
    }
   ],
   "source": [
    "# построим график распределения количества событий на пользователя для двух выборок нашего теста\n",
    "plt.figure(figsize=(8, 5))\n",
    "sns.histplot(data = ab_event.query('ab_test==\"recommender_system_test\"').groupby(['group', 'user_id'])['event_name'].count().reset_index(), x = 'event_name', hue=\"group\")\n",
    "plt.title(\"Распределение кол-ва событий на пользователя\")\n",
    "plt.ylabel(\"Кол-во пользователей\")\n",
    "plt.xlabel(\"Кол-во событий\")"
   ]
  },
  {
   "cell_type": "markdown",
   "id": "a3a0e28f",
   "metadata": {},
   "source": [
    "Нулевая гипотеза: количество событий на пользователя между пользователями группы А и В равны.\n",
    "\n",
    "Альтернативная гипотеза: количество событий на пользователя между пользователями группы А и В не равны."
   ]
  },
  {
   "cell_type": "code",
   "execution_count": 51,
   "id": "9828bdce",
   "metadata": {},
   "outputs": [
    {
     "name": "stdout",
     "output_type": "stream",
     "text": [
      "p-значение: 6.677337645850247e-203\n",
      "Отвергаем нулевую гипотезу\n"
     ]
    }
   ],
   "source": [
    "# найдем распределение событий на пользователя\n",
    "event_a = (ab_event.query('group==\"A\" and ab_test==\"recommender_system_test\"')\n",
    "                       .groupby(['user_id'])['event_name'].count()\n",
    "                       .reset_index().rename(columns={'event_name':'cnt_event'}))\n",
    "event_b = (ab_event.query('group==\"B\" and ab_test==\"recommender_system_test\"')\n",
    "                       .groupby(['user_id'])['event_name'].count()\n",
    "                       .reset_index().rename(columns={'event_name':'cnt_event'}))\n",
    "# выборка числа событий группы А\n",
    "cnt_event_a = event_a['cnt_event']\n",
    "# выборка числа событий группы В\n",
    "cnt_event_b = event_b['cnt_event']\n",
    "\n",
    "alpha = 0.05 \n",
    "\n",
    "results = st.ttest_ind(cnt_event_a, cnt_event_b)\n",
    "\n",
    "print('p-значение:', results.pvalue)\n",
    "\n",
    "if (results.pvalue < alpha):\n",
    "    print(\"Отвергаем нулевую гипотезу\")\n",
    "else:\n",
    "    print(\"Не получилось отвергнуть нулевую гипотезу\")"
   ]
  },
  {
   "cell_type": "markdown",
   "id": "dafc0183",
   "metadata": {},
   "source": [
    "## Распределение числа событий в выборках по дням"
   ]
  },
  {
   "cell_type": "code",
   "execution_count": 52,
   "id": "149a4ab1",
   "metadata": {},
   "outputs": [
    {
     "data": {
      "text/plain": [
       "Text(0.5, 0, 'Кол-во событий')"
      ]
     },
     "execution_count": 52,
     "metadata": {},
     "output_type": "execute_result"
    },
    {
     "data": {
      "image/png": "[encoded data removed]",
      "text/plain": [
       "<Figure size 576x360 with 1 Axes>"
      ]
     },
     "metadata": {
      "needs_background": "light"
     },
     "output_type": "display_data"
    }
   ],
   "source": [
    "# построим график распределения количества событий на пользователя для двух выборок нашего теста\n",
    "plt.figure(figsize=(8, 5))\n",
    "sns.histplot(data = ab_event.query('ab_test==\"recommender_system_test\"').groupby(['group', 'user_id', 'event_dt'])['event_name'].count().reset_index(), x = 'event_dt', hue=\"group\")\n",
    "plt.title(\"Распределение кол-ва событий на пользователя\")\n",
    "plt.ylabel(\"Кол-во пользователей\")\n",
    "plt.xlabel(\"Кол-во событий\")"
   ]
  },
  {
   "cell_type": "markdown",
   "id": "e71282ed",
   "metadata": {},
   "source": [
    "* В группе А с 14 декабря наблюдается резкое увеличение событий. Возможно, это регистрации новых пользователей или покупки подарков на рождество. Максимальное количество событий 22 декабря. \n",
    "* В группе В всплеска активности не наблюдается. Вероятно, что новые регистрации учитывались в группе А.\n",
    "* Или 14 числа произошел сбой, который и влияет на результаты анализа."
   ]
  },
  {
   "cell_type": "markdown",
   "id": "45b6750e",
   "metadata": {},
   "source": [
    "## Изменение конверсии в воронке в выборках на разных этапах."
   ]
  },
  {
   "cell_type": "code",
   "execution_count": 53,
   "id": "0f9cab11",
   "metadata": {},
   "outputs": [],
   "source": [
    "# отфильтруем участников, которые участвуют одновременно в двух тестах и оставим только нужный нам тест\n",
    "ab_event = ab_event.query('user_id not in @user_duplicates and ab_test==\"recommender_system_test\"')\n"
   ]
  },
  {
   "cell_type": "code",
   "execution_count": 54,
   "id": "89c355e9",
   "metadata": {},
   "outputs": [],
   "source": [
    "# переименуем некоторые названия действий, чтобы они выстроились в нужной последовательности для воронки\n",
    "ab_event['event_name'] = ab_event['event_name'].replace('login', 'alogin')\n",
    "ab_event['event_name'] = ab_event['event_name'].replace('product_page', 'browse_page')"
   ]
  },
  {
   "cell_type": "code",
   "execution_count": 55,
   "id": "b65ac9c1",
   "metadata": {},
   "outputs": [
    {
     "data": {
      "text/html": [
       "<div>\n",
       "<style scoped>\n",
       "    .dataframe tbody tr th:only-of-type {\n",
       "        vertical-align: middle;\n",
       "    }\n",
       "\n",
       "    .dataframe tbody tr th {\n",
       "        vertical-align: top;\n",
       "    }\n",
       "\n",
       "    .dataframe thead th {\n",
       "        text-align: right;\n",
       "    }\n",
       "</style>\n",
       "<table border=\"1\" class=\"dataframe\">\n",
       "  <thead>\n",
       "    <tr style=\"text-align: right;\">\n",
       "      <th></th>\n",
       "      <th>event_name</th>\n",
       "      <th>group</th>\n",
       "      <th>cnt_event</th>\n",
       "    </tr>\n",
       "  </thead>\n",
       "  <tbody>\n",
       "    <tr>\n",
       "      <th>0</th>\n",
       "      <td>alogin</td>\n",
       "      <td>A</td>\n",
       "      <td>2747</td>\n",
       "    </tr>\n",
       "    <tr>\n",
       "      <th>1</th>\n",
       "      <td>browse_page</td>\n",
       "      <td>A</td>\n",
       "      <td>1780</td>\n",
       "    </tr>\n",
       "    <tr>\n",
       "      <th>2</th>\n",
       "      <td>product_cart</td>\n",
       "      <td>A</td>\n",
       "      <td>824</td>\n",
       "    </tr>\n",
       "    <tr>\n",
       "      <th>3</th>\n",
       "      <td>purchase</td>\n",
       "      <td>A</td>\n",
       "      <td>872</td>\n",
       "    </tr>\n",
       "    <tr>\n",
       "      <th>4</th>\n",
       "      <td>alogin</td>\n",
       "      <td>B</td>\n",
       "      <td>928</td>\n",
       "    </tr>\n",
       "    <tr>\n",
       "      <th>5</th>\n",
       "      <td>browse_page</td>\n",
       "      <td>B</td>\n",
       "      <td>523</td>\n",
       "    </tr>\n",
       "    <tr>\n",
       "      <th>6</th>\n",
       "      <td>product_cart</td>\n",
       "      <td>B</td>\n",
       "      <td>255</td>\n",
       "    </tr>\n",
       "    <tr>\n",
       "      <th>7</th>\n",
       "      <td>purchase</td>\n",
       "      <td>B</td>\n",
       "      <td>256</td>\n",
       "    </tr>\n",
       "  </tbody>\n",
       "</table>\n",
       "</div>"
      ],
      "text/plain": [
       "     event_name group  cnt_event\n",
       "0        alogin     A       2747\n",
       "1   browse_page     A       1780\n",
       "2  product_cart     A        824\n",
       "3      purchase     A        872\n",
       "4        alogin     B        928\n",
       "5   browse_page     B        523\n",
       "6  product_cart     B        255\n",
       "7      purchase     B        256"
      ]
     },
     "execution_count": 55,
     "metadata": {},
     "output_type": "execute_result"
    }
   ],
   "source": [
    "# посмотрим на события в event_name с группировкой по группам и событиям\n",
    "event = (ab_event.groupby(['event_name', 'group']).agg({'user_id': 'nunique'})\n",
    "                                       .sort_values(by=['group', 'event_name'])\n",
    "                                       .reset_index()\n",
    "                                       .rename(columns={'user_id':'cnt_event'}))\n",
    "\n",
    "event "
   ]
  },
  {
   "cell_type": "code",
   "execution_count": 56,
   "id": "2e52d296",
   "metadata": {},
   "outputs": [
    {
     "data": {
      "text/html": [
       "<div>\n",
       "<style scoped>\n",
       "    .dataframe tbody tr th:only-of-type {\n",
       "        vertical-align: middle;\n",
       "    }\n",
       "\n",
       "    .dataframe tbody tr th {\n",
       "        vertical-align: top;\n",
       "    }\n",
       "\n",
       "    .dataframe thead th {\n",
       "        text-align: right;\n",
       "    }\n",
       "</style>\n",
       "<table border=\"1\" class=\"dataframe\">\n",
       "  <thead>\n",
       "    <tr style=\"text-align: right;\">\n",
       "      <th></th>\n",
       "      <th>event_name</th>\n",
       "      <th>group</th>\n",
       "      <th>cnt_event</th>\n",
       "      <th>cr%</th>\n",
       "    </tr>\n",
       "  </thead>\n",
       "  <tbody>\n",
       "    <tr>\n",
       "      <th>0</th>\n",
       "      <td>alogin</td>\n",
       "      <td>A</td>\n",
       "      <td>2747</td>\n",
       "      <td>100.0</td>\n",
       "    </tr>\n",
       "    <tr>\n",
       "      <th>1</th>\n",
       "      <td>browse_page</td>\n",
       "      <td>A</td>\n",
       "      <td>1780</td>\n",
       "      <td>64.8</td>\n",
       "    </tr>\n",
       "    <tr>\n",
       "      <th>2</th>\n",
       "      <td>product_cart</td>\n",
       "      <td>A</td>\n",
       "      <td>824</td>\n",
       "      <td>30.0</td>\n",
       "    </tr>\n",
       "    <tr>\n",
       "      <th>3</th>\n",
       "      <td>purchase</td>\n",
       "      <td>A</td>\n",
       "      <td>872</td>\n",
       "      <td>31.7</td>\n",
       "    </tr>\n",
       "    <tr>\n",
       "      <th>4</th>\n",
       "      <td>alogin</td>\n",
       "      <td>B</td>\n",
       "      <td>928</td>\n",
       "      <td>100.0</td>\n",
       "    </tr>\n",
       "    <tr>\n",
       "      <th>5</th>\n",
       "      <td>browse_page</td>\n",
       "      <td>B</td>\n",
       "      <td>523</td>\n",
       "      <td>56.4</td>\n",
       "    </tr>\n",
       "    <tr>\n",
       "      <th>6</th>\n",
       "      <td>product_cart</td>\n",
       "      <td>B</td>\n",
       "      <td>255</td>\n",
       "      <td>27.5</td>\n",
       "    </tr>\n",
       "    <tr>\n",
       "      <th>7</th>\n",
       "      <td>purchase</td>\n",
       "      <td>B</td>\n",
       "      <td>256</td>\n",
       "      <td>27.6</td>\n",
       "    </tr>\n",
       "  </tbody>\n",
       "</table>\n",
       "</div>"
      ],
      "text/plain": [
       "     event_name group  cnt_event    cr%\n",
       "0        alogin     A       2747  100.0\n",
       "1   browse_page     A       1780   64.8\n",
       "2  product_cart     A        824   30.0\n",
       "3      purchase     A        872   31.7\n",
       "4        alogin     B        928  100.0\n",
       "5   browse_page     B        523   56.4\n",
       "6  product_cart     B        255   27.5\n",
       "7      purchase     B        256   27.6"
      ]
     },
     "execution_count": 56,
     "metadata": {},
     "output_type": "execute_result"
    }
   ],
   "source": [
    "# при помощи функции добавим столбец с конверсией каждого этапа\n",
    "def get_conversion(row):\n",
    "    group = row['group']\n",
    "    cnt_event = row['cnt_event']\n",
    "    a_100  = 2747\n",
    "    b_100  = 928\n",
    "    if group == \"A\":\n",
    "        return round((cnt_event /a_100)*100, 1)\n",
    "    if group == \"B\":\n",
    "        return round((cnt_event /b_100)*100, 1)\n",
    "event['cr%'] = event.apply(get_conversion, axis = 1)\n",
    "event"
   ]
  },
  {
   "cell_type": "markdown",
   "id": "38509034",
   "metadata": {},
   "source": [
    "## Вывод:\n",
    "\n",
    "Тест проведен не корректно. \n",
    "\n",
    "Причины почему тест проведен не корректно:\n",
    "* в данных выявленно одновременно два теста\n",
    "* тест завершился раньше срока. У группы А - 29 декабря, у группы В - 30 декабря. По ТЗ он должен завершится 04.01.2021. Не полные данные могут повлиять на результаты теста.\n",
    "* Из региона EU ~13.73% новых пользователей. Не соответствие тех. заданию.\n",
    "* Во время теста происходит два маркетинговых события \"Рождественская и новогодняя акция\" и \"Новогодняя подарочная лотерея СНГ\"\n",
    "* 1602 пользователя участвуют одновременно в двух тестах.\n",
    "* Пользователи распределены неравномерно по тестовым группам, в интересующем нас тесте разница между группами около 5%, это может исказить результаты теста.\n",
    "\n",
    "Были выявлены следующие особенности:\n",
    "\n",
    "* Количество событий на пользователя распределены в выборках не одинаково\n",
    "* Число событий в выборках распределено по дням не равномерно\n",
    "* Посмотрев на конверсию в воронке в выборках на разных этапах видно, что ожидаемго эффекта не произошло: пользователи не показали улучшение каждой метрики не менее, чем на 10%.\n",
    "* Больше всего пользователей теряются между регистрацией и просмотром карточек.\n",
    "* Количество пользователей, совершивших покупку, больше, чем количествово пользователей, попавших в корзину - вероятно, это связано с тем, что часть пользователей совершили покупку, минуя корзину."
   ]
  },
  {
   "cell_type": "markdown",
   "id": "602997b6",
   "metadata": {},
   "source": [
    "# Оценка результатов A/B-тестирования"
   ]
  },
  {
   "cell_type": "markdown",
   "id": "0b9a10f0",
   "metadata": {},
   "source": [
    "Прежде чем мы будем оценивать результаты теста, еще раз стоит обратить внимание, что были выявленны много нарушений при проведении теста, это может исказить результат, поэтому при оценки его не стоит полностью полагаться и доверять его результатам."
   ]
  },
  {
   "cell_type": "markdown",
   "id": "36fff4e8",
   "metadata": {},
   "source": [
    "## Анализ А/В-тестирования"
   ]
  },
  {
   "cell_type": "markdown",
   "id": "9634a286",
   "metadata": {},
   "source": [
    "### Построение графиков кумулятивной выручки по группам и кумулятивного среднего чека по группам"
   ]
  },
  {
   "cell_type": "code",
   "execution_count": 57,
   "id": "0c2dc26a",
   "metadata": {},
   "outputs": [
    {
     "data": {
      "text/html": [
       "<div>\n",
       "<style scoped>\n",
       "    .dataframe tbody tr th:only-of-type {\n",
       "        vertical-align: middle;\n",
       "    }\n",
       "\n",
       "    .dataframe tbody tr th {\n",
       "        vertical-align: top;\n",
       "    }\n",
       "\n",
       "    .dataframe thead th {\n",
       "        text-align: right;\n",
       "    }\n",
       "</style>\n",
       "<table border=\"1\" class=\"dataframe\">\n",
       "  <thead>\n",
       "    <tr style=\"text-align: right;\">\n",
       "      <th></th>\n",
       "      <th>user_id</th>\n",
       "      <th>event_dt</th>\n",
       "      <th>event_name</th>\n",
       "      <th>details</th>\n",
       "      <th>group</th>\n",
       "    </tr>\n",
       "  </thead>\n",
       "  <tbody>\n",
       "    <tr>\n",
       "      <th>0</th>\n",
       "      <td>D1ABA3E2887B6A73</td>\n",
       "      <td>2020-12-07 14:43:27</td>\n",
       "      <td>purchase</td>\n",
       "      <td>99.99</td>\n",
       "      <td>A</td>\n",
       "    </tr>\n",
       "    <tr>\n",
       "      <th>1</th>\n",
       "      <td>D1ABA3E2887B6A73</td>\n",
       "      <td>2020-12-25 00:04:56</td>\n",
       "      <td>purchase</td>\n",
       "      <td>4.99</td>\n",
       "      <td>A</td>\n",
       "    </tr>\n",
       "    <tr>\n",
       "      <th>20</th>\n",
       "      <td>04988C5DF189632E</td>\n",
       "      <td>2020-12-14 18:51:34</td>\n",
       "      <td>purchase</td>\n",
       "      <td>4.99</td>\n",
       "      <td>A</td>\n",
       "    </tr>\n",
       "    <tr>\n",
       "      <th>21</th>\n",
       "      <td>04988C5DF189632E</td>\n",
       "      <td>2020-12-15 02:39:20</td>\n",
       "      <td>purchase</td>\n",
       "      <td>4.99</td>\n",
       "      <td>A</td>\n",
       "    </tr>\n",
       "    <tr>\n",
       "      <th>22</th>\n",
       "      <td>04988C5DF189632E</td>\n",
       "      <td>2020-12-18 04:33:43</td>\n",
       "      <td>purchase</td>\n",
       "      <td>9.99</td>\n",
       "      <td>A</td>\n",
       "    </tr>\n",
       "  </tbody>\n",
       "</table>\n",
       "</div>"
      ],
      "text/plain": [
       "             user_id            event_dt event_name  details group\n",
       "0   D1ABA3E2887B6A73 2020-12-07 14:43:27   purchase    99.99     A\n",
       "1   D1ABA3E2887B6A73 2020-12-25 00:04:56   purchase     4.99     A\n",
       "20  04988C5DF189632E 2020-12-14 18:51:34   purchase     4.99     A\n",
       "21  04988C5DF189632E 2020-12-15 02:39:20   purchase     4.99     A\n",
       "22  04988C5DF189632E 2020-12-18 04:33:43   purchase     9.99     A"
      ]
     },
     "execution_count": 57,
     "metadata": {},
     "output_type": "execute_result"
    }
   ],
   "source": [
    "# создадим таблицу с заказами\n",
    "orders = ab_event.query('event_name==\"purchase\"')[['user_id', 'event_dt', 'event_name', 'details', 'group']]\n",
    "orders.head()"
   ]
  },
  {
   "cell_type": "code",
   "execution_count": 58,
   "id": "513f3617",
   "metadata": {},
   "outputs": [
    {
     "data": {
      "text/html": [
       "<div>\n",
       "<style scoped>\n",
       "    .dataframe tbody tr th:only-of-type {\n",
       "        vertical-align: middle;\n",
       "    }\n",
       "\n",
       "    .dataframe tbody tr th {\n",
       "        vertical-align: top;\n",
       "    }\n",
       "\n",
       "    .dataframe thead th {\n",
       "        text-align: right;\n",
       "    }\n",
       "</style>\n",
       "<table border=\"1\" class=\"dataframe\">\n",
       "  <thead>\n",
       "    <tr style=\"text-align: right;\">\n",
       "      <th></th>\n",
       "      <th>user_id</th>\n",
       "      <th>event_dt</th>\n",
       "      <th>event_name</th>\n",
       "      <th>details</th>\n",
       "      <th>group</th>\n",
       "      <th>order_id</th>\n",
       "    </tr>\n",
       "  </thead>\n",
       "  <tbody>\n",
       "    <tr>\n",
       "      <th>0</th>\n",
       "      <td>D1ABA3E2887B6A73</td>\n",
       "      <td>2020-12-07 14:43:27</td>\n",
       "      <td>purchase</td>\n",
       "      <td>99.99</td>\n",
       "      <td>A</td>\n",
       "      <td>0</td>\n",
       "    </tr>\n",
       "    <tr>\n",
       "      <th>1</th>\n",
       "      <td>D1ABA3E2887B6A73</td>\n",
       "      <td>2020-12-25 00:04:56</td>\n",
       "      <td>purchase</td>\n",
       "      <td>4.99</td>\n",
       "      <td>A</td>\n",
       "      <td>1</td>\n",
       "    </tr>\n",
       "    <tr>\n",
       "      <th>20</th>\n",
       "      <td>04988C5DF189632E</td>\n",
       "      <td>2020-12-14 18:51:34</td>\n",
       "      <td>purchase</td>\n",
       "      <td>4.99</td>\n",
       "      <td>A</td>\n",
       "      <td>2</td>\n",
       "    </tr>\n",
       "    <tr>\n",
       "      <th>21</th>\n",
       "      <td>04988C5DF189632E</td>\n",
       "      <td>2020-12-15 02:39:20</td>\n",
       "      <td>purchase</td>\n",
       "      <td>4.99</td>\n",
       "      <td>A</td>\n",
       "      <td>3</td>\n",
       "    </tr>\n",
       "    <tr>\n",
       "      <th>22</th>\n",
       "      <td>04988C5DF189632E</td>\n",
       "      <td>2020-12-18 04:33:43</td>\n",
       "      <td>purchase</td>\n",
       "      <td>9.99</td>\n",
       "      <td>A</td>\n",
       "      <td>4</td>\n",
       "    </tr>\n",
       "  </tbody>\n",
       "</table>\n",
       "</div>"
      ],
      "text/plain": [
       "             user_id            event_dt event_name  details group  order_id\n",
       "0   D1ABA3E2887B6A73 2020-12-07 14:43:27   purchase    99.99     A         0\n",
       "1   D1ABA3E2887B6A73 2020-12-25 00:04:56   purchase     4.99     A         1\n",
       "20  04988C5DF189632E 2020-12-14 18:51:34   purchase     4.99     A         2\n",
       "21  04988C5DF189632E 2020-12-15 02:39:20   purchase     4.99     A         3\n",
       "22  04988C5DF189632E 2020-12-18 04:33:43   purchase     9.99     A         4"
      ]
     },
     "execution_count": 58,
     "metadata": {},
     "output_type": "execute_result"
    }
   ],
   "source": [
    "# добавим столбец с индификатором заказа, для того, чтоб потом посчитать количество заказов в выбранную дату\n",
    "orders['order_id'] = np.arange(orders.shape[0])\n",
    "orders.head()"
   ]
  },
  {
   "cell_type": "code",
   "execution_count": 59,
   "id": "c47a6880",
   "metadata": {},
   "outputs": [],
   "source": [
    "# переведем тип данных \n",
    "orders['event_dt'] = orders['event_dt'].dt.date\n",
    "ab_event['event_dt'] = ab_event['event_dt'].dt.date"
   ]
  },
  {
   "cell_type": "code",
   "execution_count": 60,
   "id": "72d661f1",
   "metadata": {},
   "outputs": [
    {
     "data": {
      "text/html": [
       "<div>\n",
       "<style scoped>\n",
       "    .dataframe tbody tr th:only-of-type {\n",
       "        vertical-align: middle;\n",
       "    }\n",
       "\n",
       "    .dataframe tbody tr th {\n",
       "        vertical-align: top;\n",
       "    }\n",
       "\n",
       "    .dataframe thead th {\n",
       "        text-align: right;\n",
       "    }\n",
       "</style>\n",
       "<table border=\"1\" class=\"dataframe\">\n",
       "  <thead>\n",
       "    <tr style=\"text-align: right;\">\n",
       "      <th></th>\n",
       "      <th>event_dt</th>\n",
       "      <th>group</th>\n",
       "      <th>visitors</th>\n",
       "    </tr>\n",
       "  </thead>\n",
       "  <tbody>\n",
       "    <tr>\n",
       "      <th>0</th>\n",
       "      <td>2020-12-07</td>\n",
       "      <td>A</td>\n",
       "      <td>154</td>\n",
       "    </tr>\n",
       "    <tr>\n",
       "      <th>1</th>\n",
       "      <td>2020-12-08</td>\n",
       "      <td>A</td>\n",
       "      <td>160</td>\n",
       "    </tr>\n",
       "    <tr>\n",
       "      <th>2</th>\n",
       "      <td>2020-12-09</td>\n",
       "      <td>A</td>\n",
       "      <td>178</td>\n",
       "    </tr>\n",
       "    <tr>\n",
       "      <th>3</th>\n",
       "      <td>2020-12-10</td>\n",
       "      <td>A</td>\n",
       "      <td>165</td>\n",
       "    </tr>\n",
       "    <tr>\n",
       "      <th>4</th>\n",
       "      <td>2020-12-11</td>\n",
       "      <td>A</td>\n",
       "      <td>185</td>\n",
       "    </tr>\n",
       "  </tbody>\n",
       "</table>\n",
       "</div>"
      ],
      "text/plain": [
       "     event_dt group  visitors\n",
       "0  2020-12-07     A       154\n",
       "1  2020-12-08     A       160\n",
       "2  2020-12-09     A       178\n",
       "3  2020-12-10     A       165\n",
       "4  2020-12-11     A       185"
      ]
     },
     "execution_count": 60,
     "metadata": {},
     "output_type": "execute_result"
    }
   ],
   "source": [
    "# создадим датафрейм с количеством пользователей в указанную дату в указанной группе A/B-теста\n",
    "visitors = (ab_event.groupby(['event_dt', 'group']).agg({'user_id': 'nunique'})\n",
    "                                       .sort_values(by=['group', 'event_dt'])\n",
    "                                       .reset_index()\n",
    "                                       .rename(columns={'user_id':'visitors'}))\n",
    "\n",
    "visitors.head()"
   ]
  },
  {
   "cell_type": "code",
   "execution_count": 61,
   "id": "99b5808b",
   "metadata": {},
   "outputs": [
    {
     "data": {
      "text/html": [
       "<div>\n",
       "<style scoped>\n",
       "    .dataframe tbody tr th:only-of-type {\n",
       "        vertical-align: middle;\n",
       "    }\n",
       "\n",
       "    .dataframe tbody tr th {\n",
       "        vertical-align: top;\n",
       "    }\n",
       "\n",
       "    .dataframe thead th {\n",
       "        text-align: right;\n",
       "    }\n",
       "</style>\n",
       "<table border=\"1\" class=\"dataframe\">\n",
       "  <thead>\n",
       "    <tr style=\"text-align: right;\">\n",
       "      <th></th>\n",
       "      <th>event_dt</th>\n",
       "      <th>group</th>\n",
       "    </tr>\n",
       "  </thead>\n",
       "  <tbody>\n",
       "    <tr>\n",
       "      <th>0</th>\n",
       "      <td>2020-12-07</td>\n",
       "      <td>A</td>\n",
       "    </tr>\n",
       "    <tr>\n",
       "      <th>1</th>\n",
       "      <td>2020-12-25</td>\n",
       "      <td>A</td>\n",
       "    </tr>\n",
       "    <tr>\n",
       "      <th>20</th>\n",
       "      <td>2020-12-14</td>\n",
       "      <td>A</td>\n",
       "    </tr>\n",
       "    <tr>\n",
       "      <th>21</th>\n",
       "      <td>2020-12-15</td>\n",
       "      <td>A</td>\n",
       "    </tr>\n",
       "    <tr>\n",
       "      <th>22</th>\n",
       "      <td>2020-12-18</td>\n",
       "      <td>A</td>\n",
       "    </tr>\n",
       "  </tbody>\n",
       "</table>\n",
       "</div>"
      ],
      "text/plain": [
       "      event_dt group\n",
       "0   2020-12-07     A\n",
       "1   2020-12-25     A\n",
       "20  2020-12-14     A\n",
       "21  2020-12-15     A\n",
       "22  2020-12-18     A"
      ]
     },
     "execution_count": 61,
     "metadata": {},
     "output_type": "execute_result"
    }
   ],
   "source": [
    "# создаем массив уникальных пар значений дат и групп теста\n",
    "datesGroups = orders[['event_dt','group']].drop_duplicates() \n",
    "datesGroups.head()"
   ]
  },
  {
   "cell_type": "code",
   "execution_count": 62,
   "id": "d2d467e3",
   "metadata": {},
   "outputs": [
    {
     "data": {
      "text/html": [
       "<div>\n",
       "<style scoped>\n",
       "    .dataframe tbody tr th:only-of-type {\n",
       "        vertical-align: middle;\n",
       "    }\n",
       "\n",
       "    .dataframe tbody tr th {\n",
       "        vertical-align: top;\n",
       "    }\n",
       "\n",
       "    .dataframe thead th {\n",
       "        text-align: right;\n",
       "    }\n",
       "</style>\n",
       "<table border=\"1\" class=\"dataframe\">\n",
       "  <thead>\n",
       "    <tr style=\"text-align: right;\">\n",
       "      <th></th>\n",
       "      <th>event_dt</th>\n",
       "      <th>group</th>\n",
       "      <th>order_id</th>\n",
       "      <th>user_id</th>\n",
       "      <th>details</th>\n",
       "    </tr>\n",
       "  </thead>\n",
       "  <tbody>\n",
       "    <tr>\n",
       "      <th>0</th>\n",
       "      <td>2020-12-07</td>\n",
       "      <td>A</td>\n",
       "      <td>46</td>\n",
       "      <td>46</td>\n",
       "      <td>1214.54</td>\n",
       "    </tr>\n",
       "    <tr>\n",
       "      <th>129</th>\n",
       "      <td>2020-12-07</td>\n",
       "      <td>B</td>\n",
       "      <td>59</td>\n",
       "      <td>59</td>\n",
       "      <td>704.41</td>\n",
       "    </tr>\n",
       "    <tr>\n",
       "      <th>6867</th>\n",
       "      <td>2020-12-08</td>\n",
       "      <td>A</td>\n",
       "      <td>83</td>\n",
       "      <td>72</td>\n",
       "      <td>1994.17</td>\n",
       "    </tr>\n",
       "    <tr>\n",
       "      <th>267</th>\n",
       "      <td>2020-12-08</td>\n",
       "      <td>B</td>\n",
       "      <td>94</td>\n",
       "      <td>71</td>\n",
       "      <td>1199.06</td>\n",
       "    </tr>\n",
       "    <tr>\n",
       "      <th>78</th>\n",
       "      <td>2020-12-09</td>\n",
       "      <td>A</td>\n",
       "      <td>134</td>\n",
       "      <td>95</td>\n",
       "      <td>3363.66</td>\n",
       "    </tr>\n",
       "  </tbody>\n",
       "</table>\n",
       "</div>"
      ],
      "text/plain": [
       "        event_dt group  order_id  user_id  details\n",
       "0     2020-12-07     A        46       46  1214.54\n",
       "129   2020-12-07     B        59       59   704.41\n",
       "6867  2020-12-08     A        83       72  1994.17\n",
       "267   2020-12-08     B        94       71  1199.06\n",
       "78    2020-12-09     A       134       95  3363.66"
      ]
     },
     "execution_count": 62,
     "metadata": {},
     "output_type": "execute_result"
    }
   ],
   "source": [
    "# Получим строки таблицы orders, дата которых меньше или равна дате элемента из datesGroups, \n",
    "# а группа теста равна группе из datesGroups\n",
    "ordersAggregated = (datesGroups.apply(lambda x: orders[np.logical_and(orders['event_dt'] <= x['event_dt'], orders['group'] == x['group'])]\n",
    ".agg({'event_dt' : 'max', 'group' : 'max', 'order_id' : 'nunique', 'user_id' : 'nunique', 'details' : 'sum'}), axis=1).sort_values(by=['event_dt','group'])) \n",
    "ordersAggregated.head()"
   ]
  },
  {
   "cell_type": "code",
   "execution_count": 63,
   "id": "d802b80f",
   "metadata": {},
   "outputs": [
    {
     "data": {
      "text/html": [
       "<div>\n",
       "<style scoped>\n",
       "    .dataframe tbody tr th:only-of-type {\n",
       "        vertical-align: middle;\n",
       "    }\n",
       "\n",
       "    .dataframe tbody tr th {\n",
       "        vertical-align: top;\n",
       "    }\n",
       "\n",
       "    .dataframe thead th {\n",
       "        text-align: right;\n",
       "    }\n",
       "</style>\n",
       "<table border=\"1\" class=\"dataframe\">\n",
       "  <thead>\n",
       "    <tr style=\"text-align: right;\">\n",
       "      <th></th>\n",
       "      <th>event_dt</th>\n",
       "      <th>group</th>\n",
       "      <th>visitors</th>\n",
       "    </tr>\n",
       "  </thead>\n",
       "  <tbody>\n",
       "    <tr>\n",
       "      <th>0</th>\n",
       "      <td>2020-12-07</td>\n",
       "      <td>A</td>\n",
       "      <td>154</td>\n",
       "    </tr>\n",
       "    <tr>\n",
       "      <th>129</th>\n",
       "      <td>2020-12-07</td>\n",
       "      <td>B</td>\n",
       "      <td>173</td>\n",
       "    </tr>\n",
       "    <tr>\n",
       "      <th>6867</th>\n",
       "      <td>2020-12-08</td>\n",
       "      <td>A</td>\n",
       "      <td>314</td>\n",
       "    </tr>\n",
       "    <tr>\n",
       "      <th>267</th>\n",
       "      <td>2020-12-08</td>\n",
       "      <td>B</td>\n",
       "      <td>293</td>\n",
       "    </tr>\n",
       "    <tr>\n",
       "      <th>78</th>\n",
       "      <td>2020-12-09</td>\n",
       "      <td>A</td>\n",
       "      <td>492</td>\n",
       "    </tr>\n",
       "  </tbody>\n",
       "</table>\n",
       "</div>"
      ],
      "text/plain": [
       "        event_dt group  visitors\n",
       "0     2020-12-07     A       154\n",
       "129   2020-12-07     B       173\n",
       "6867  2020-12-08     A       314\n",
       "267   2020-12-08     B       293\n",
       "78    2020-12-09     A       492"
      ]
     },
     "execution_count": 63,
     "metadata": {},
     "output_type": "execute_result"
    }
   ],
   "source": [
    "# получим агрегированные кумулятивные по дням данные о посетителях интернет-магазина:\n",
    "visitorsAggregated = (datesGroups.apply(lambda x: visitors[np.logical_and(visitors['event_dt'] <= x['event_dt'], visitors['group'] == x['group'])]\n",
    "                                       .agg({'event_dt' : 'max', 'group' : 'max', 'visitors' : 'sum'}), axis=1).sort_values(by=['event_dt','group'])) \n",
    "visitorsAggregated.head()"
   ]
  },
  {
   "cell_type": "code",
   "execution_count": 64,
   "id": "2b8ccddc",
   "metadata": {},
   "outputs": [
    {
     "data": {
      "text/html": [
       "<div>\n",
       "<style scoped>\n",
       "    .dataframe tbody tr th:only-of-type {\n",
       "        vertical-align: middle;\n",
       "    }\n",
       "\n",
       "    .dataframe tbody tr th {\n",
       "        vertical-align: top;\n",
       "    }\n",
       "\n",
       "    .dataframe thead th {\n",
       "        text-align: right;\n",
       "    }\n",
       "</style>\n",
       "<table border=\"1\" class=\"dataframe\">\n",
       "  <thead>\n",
       "    <tr style=\"text-align: right;\">\n",
       "      <th></th>\n",
       "      <th>event_dt</th>\n",
       "      <th>group</th>\n",
       "      <th>orders</th>\n",
       "      <th>buyers</th>\n",
       "      <th>details</th>\n",
       "      <th>visitors</th>\n",
       "    </tr>\n",
       "  </thead>\n",
       "  <tbody>\n",
       "    <tr>\n",
       "      <th>0</th>\n",
       "      <td>2020-12-07</td>\n",
       "      <td>A</td>\n",
       "      <td>46</td>\n",
       "      <td>46</td>\n",
       "      <td>1214.54</td>\n",
       "      <td>154</td>\n",
       "    </tr>\n",
       "    <tr>\n",
       "      <th>1</th>\n",
       "      <td>2020-12-07</td>\n",
       "      <td>B</td>\n",
       "      <td>59</td>\n",
       "      <td>59</td>\n",
       "      <td>704.41</td>\n",
       "      <td>173</td>\n",
       "    </tr>\n",
       "    <tr>\n",
       "      <th>2</th>\n",
       "      <td>2020-12-08</td>\n",
       "      <td>A</td>\n",
       "      <td>83</td>\n",
       "      <td>72</td>\n",
       "      <td>1994.17</td>\n",
       "      <td>314</td>\n",
       "    </tr>\n",
       "    <tr>\n",
       "      <th>3</th>\n",
       "      <td>2020-12-08</td>\n",
       "      <td>B</td>\n",
       "      <td>94</td>\n",
       "      <td>71</td>\n",
       "      <td>1199.06</td>\n",
       "      <td>293</td>\n",
       "    </tr>\n",
       "    <tr>\n",
       "      <th>4</th>\n",
       "      <td>2020-12-09</td>\n",
       "      <td>A</td>\n",
       "      <td>134</td>\n",
       "      <td>95</td>\n",
       "      <td>3363.66</td>\n",
       "      <td>492</td>\n",
       "    </tr>\n",
       "  </tbody>\n",
       "</table>\n",
       "</div>"
      ],
      "text/plain": [
       "     event_dt group  orders  buyers  details  visitors\n",
       "0  2020-12-07     A      46      46  1214.54       154\n",
       "1  2020-12-07     B      59      59   704.41       173\n",
       "2  2020-12-08     A      83      72  1994.17       314\n",
       "3  2020-12-08     B      94      71  1199.06       293\n",
       "4  2020-12-09     A     134      95  3363.66       492"
      ]
     },
     "execution_count": 64,
     "metadata": {},
     "output_type": "execute_result"
    }
   ],
   "source": [
    "# объединяем кумулятивные данные в одной таблице и присваиваем ее столбцам понятные названия\n",
    "cumulativeData = ordersAggregated.merge(visitorsAggregated, left_on=['event_dt', 'group'], right_on=['event_dt', 'group'])\n",
    "cumulativeData.columns = ['event_dt', 'group', 'orders', 'buyers', 'details', 'visitors']\n",
    "cumulativeData.head()"
   ]
  },
  {
   "cell_type": "code",
   "execution_count": 65,
   "id": "a37a99fd",
   "metadata": {},
   "outputs": [],
   "source": [
    "# датафрейм с кумулятивным количеством заказов и кумулятивной выручкой по дням в группе А\n",
    "cumulativeRevenueA = cumulativeData[cumulativeData['group']=='A'][['event_dt','details', 'orders']]"
   ]
  },
  {
   "cell_type": "code",
   "execution_count": 66,
   "id": "ad8f0b6e",
   "metadata": {},
   "outputs": [],
   "source": [
    "# датафрейм с кумулятивным количеством заказов и кумулятивной выручкой по дням в группе B\n",
    "cumulativeRevenueB = cumulativeData[cumulativeData['group']=='B'][['event_dt','details', 'orders']]"
   ]
  },
  {
   "cell_type": "code",
   "execution_count": 67,
   "id": "d7d4d179",
   "metadata": {},
   "outputs": [
    {
     "name": "stderr",
     "output_type": "stream",
     "text": [
      "C:\\Users\\Home\\anaconda3\\envs\\praktikum\\lib\\site-packages\\matplotlib\\cbook\\__init__.py:1402: FutureWarning:\n",
      "\n",
      "Support for multi-dimensional indexing (e.g. `obj[:, None]`) is deprecated and will be removed in a future version.  Convert to a numpy array before indexing instead.\n",
      "\n",
      "C:\\Users\\Home\\anaconda3\\envs\\praktikum\\lib\\site-packages\\matplotlib\\axes\\_base.py:276: FutureWarning:\n",
      "\n",
      "Support for multi-dimensional indexing (e.g. `obj[:, None]`) is deprecated and will be removed in a future version.  Convert to a numpy array before indexing instead.\n",
      "\n",
      "C:\\Users\\Home\\anaconda3\\envs\\praktikum\\lib\\site-packages\\matplotlib\\axes\\_base.py:278: FutureWarning:\n",
      "\n",
      "Support for multi-dimensional indexing (e.g. `obj[:, None]`) is deprecated and will be removed in a future version.  Convert to a numpy array before indexing instead.\n",
      "\n"
     ]
    },
    {
     "data": {
      "text/plain": [
       "(array([737768., 737772., 737776., 737780., 737784., 737788.]),\n",
       " <a list of 6 Text xticklabel objects>)"
      ]
     },
     "execution_count": 67,
     "metadata": {},
     "output_type": "execute_result"
    },
    {
     "data": {
      "image/png": "[encoded data removed]",
      "text/plain": [
       "<Figure size 432x288 with 1 Axes>"
      ]
     },
     "metadata": {
      "needs_background": "light"
     },
     "output_type": "display_data"
    }
   ],
   "source": [
    "# Строим график выручки группы А\n",
    "plt.plot(cumulativeRevenueA['event_dt'], cumulativeRevenueA['details'], label='A')\n",
    "\n",
    "# Строим график выручки группы B\n",
    "plt.plot(cumulativeRevenueB['event_dt'], cumulativeRevenueB['details'], label='B')\n",
    "plt.title('График кумулятивной выручки по группам по группам') \n",
    "plt.xlabel('Дата')\n",
    "plt.ylabel('Выручка')\n",
    "plt.legend() \n",
    "plt.xticks(rotation = 45)"
   ]
  },
  {
   "cell_type": "markdown",
   "id": "848cf5b0",
   "metadata": {},
   "source": [
    "Выручка у группы В равномерно увеличивается в течение всего теста. Хороший знак. У группы А график выручки растет более интенсивно, но это лишь подтверждает наши исследования выше, что в группе А больше количество пользователей, чем в группе В. "
   ]
  },
  {
   "cell_type": "code",
   "execution_count": 68,
   "id": "9ba76877",
   "metadata": {},
   "outputs": [
    {
     "data": {
      "text/plain": [
       "(array([737768., 737772., 737776., 737780., 737784., 737788.]),\n",
       " <a list of 6 Text xticklabel objects>)"
      ]
     },
     "execution_count": 68,
     "metadata": {},
     "output_type": "execute_result"
    },
    {
     "data": {
      "image/png": "[encoded data removed]",
      "text/plain": [
       "<Figure size 432x288 with 1 Axes>"
      ]
     },
     "metadata": {
      "needs_background": "light"
     },
     "output_type": "display_data"
    }
   ],
   "source": [
    "# Построим графики среднего чека по группам — разделим кумулятивную выручку на кумулятивное число заказов\n",
    "plt.plot(cumulativeRevenueA['event_dt'], cumulativeRevenueA['details']/cumulativeRevenueA['orders'], label='A')\n",
    "plt.plot(cumulativeRevenueB['event_dt'], cumulativeRevenueB['details']/cumulativeRevenueB['orders'], label='B')\n",
    "plt.legend() \n",
    "plt.title('График кумулятивной среднего чека по группам') \n",
    "plt.xlabel('Дата')\n",
    "plt.ylabel('Стоимость среднего чека')\n",
    "plt.xticks(rotation = 45)"
   ]
  },
  {
   "cell_type": "markdown",
   "id": "4205f919",
   "metadata": {},
   "source": [
    "* Средний чек к концу теста начал немного стабилизироваться.\n",
    "* Возможно, в группу B 11-12 декабря попали крупные заказы (резкий всплеск на графике).\n"
   ]
  },
  {
   "cell_type": "markdown",
   "id": "f600269c",
   "metadata": {},
   "source": [
    "### Построение графика относительного изменения кумулятивного среднего чека группы B к группе A"
   ]
  },
  {
   "cell_type": "code",
   "execution_count": 69,
   "id": "3c29c37e",
   "metadata": {},
   "outputs": [
    {
     "data": {
      "text/html": [
       "<div>\n",
       "<style scoped>\n",
       "    .dataframe tbody tr th:only-of-type {\n",
       "        vertical-align: middle;\n",
       "    }\n",
       "\n",
       "    .dataframe tbody tr th {\n",
       "        vertical-align: top;\n",
       "    }\n",
       "\n",
       "    .dataframe thead th {\n",
       "        text-align: right;\n",
       "    }\n",
       "</style>\n",
       "<table border=\"1\" class=\"dataframe\">\n",
       "  <thead>\n",
       "    <tr style=\"text-align: right;\">\n",
       "      <th></th>\n",
       "      <th>event_dt</th>\n",
       "      <th>detailsA</th>\n",
       "      <th>ordersA</th>\n",
       "      <th>detailsB</th>\n",
       "      <th>ordersB</th>\n",
       "    </tr>\n",
       "  </thead>\n",
       "  <tbody>\n",
       "    <tr>\n",
       "      <th>0</th>\n",
       "      <td>2020-12-07</td>\n",
       "      <td>1214.54</td>\n",
       "      <td>46</td>\n",
       "      <td>704.41</td>\n",
       "      <td>59</td>\n",
       "    </tr>\n",
       "    <tr>\n",
       "      <th>1</th>\n",
       "      <td>2020-12-08</td>\n",
       "      <td>1994.17</td>\n",
       "      <td>83</td>\n",
       "      <td>1199.06</td>\n",
       "      <td>94</td>\n",
       "    </tr>\n",
       "    <tr>\n",
       "      <th>2</th>\n",
       "      <td>2020-12-09</td>\n",
       "      <td>3363.66</td>\n",
       "      <td>134</td>\n",
       "      <td>1618.66</td>\n",
       "      <td>134</td>\n",
       "    </tr>\n",
       "    <tr>\n",
       "      <th>3</th>\n",
       "      <td>2020-12-10</td>\n",
       "      <td>4693.20</td>\n",
       "      <td>180</td>\n",
       "      <td>2258.40</td>\n",
       "      <td>160</td>\n",
       "    </tr>\n",
       "    <tr>\n",
       "      <th>4</th>\n",
       "      <td>2020-12-11</td>\n",
       "      <td>5792.78</td>\n",
       "      <td>222</td>\n",
       "      <td>2353.24</td>\n",
       "      <td>176</td>\n",
       "    </tr>\n",
       "  </tbody>\n",
       "</table>\n",
       "</div>"
      ],
      "text/plain": [
       "     event_dt  detailsA  ordersA  detailsB  ordersB\n",
       "0  2020-12-07   1214.54       46    704.41       59\n",
       "1  2020-12-08   1994.17       83   1199.06       94\n",
       "2  2020-12-09   3363.66      134   1618.66      134\n",
       "3  2020-12-10   4693.20      180   2258.40      160\n",
       "4  2020-12-11   5792.78      222   2353.24      176"
      ]
     },
     "execution_count": 69,
     "metadata": {},
     "output_type": "execute_result"
    }
   ],
   "source": [
    "# собираем данные в одном датафрейме\n",
    "mergedCumulativeRevenue = cumulativeRevenueA.merge(cumulativeRevenueB, left_on='event_dt', right_on='event_dt', how='left', suffixes=['A', 'B'])\n",
    "mergedCumulativeRevenue.head()"
   ]
  },
  {
   "cell_type": "code",
   "execution_count": 70,
   "id": "cfce8bc9",
   "metadata": {},
   "outputs": [
    {
     "name": "stderr",
     "output_type": "stream",
     "text": [
      "C:\\Users\\Home\\anaconda3\\envs\\praktikum\\lib\\site-packages\\matplotlib\\cbook\\__init__.py:1402: FutureWarning:\n",
      "\n",
      "Support for multi-dimensional indexing (e.g. `obj[:, None]`) is deprecated and will be removed in a future version.  Convert to a numpy array before indexing instead.\n",
      "\n",
      "C:\\Users\\Home\\anaconda3\\envs\\praktikum\\lib\\site-packages\\matplotlib\\axes\\_base.py:276: FutureWarning:\n",
      "\n",
      "Support for multi-dimensional indexing (e.g. `obj[:, None]`) is deprecated and will be removed in a future version.  Convert to a numpy array before indexing instead.\n",
      "\n",
      "C:\\Users\\Home\\anaconda3\\envs\\praktikum\\lib\\site-packages\\matplotlib\\axes\\_base.py:278: FutureWarning:\n",
      "\n",
      "Support for multi-dimensional indexing (e.g. `obj[:, None]`) is deprecated and will be removed in a future version.  Convert to a numpy array before indexing instead.\n",
      "\n"
     ]
    },
    {
     "data": {
      "text/plain": [
       "Text(0, 0.5, 'Относительный прирост')"
      ]
     },
     "execution_count": 70,
     "metadata": {},
     "output_type": "execute_result"
    },
    {
     "data": {
      "image/png": "[encoded data removed]",
      "text/plain": [
       "<Figure size 432x288 with 1 Axes>"
      ]
     },
     "metadata": {
      "needs_background": "light"
     },
     "output_type": "display_data"
    }
   ],
   "source": [
    "# cтроим отношение средних чеков\n",
    "plt.plot(mergedCumulativeRevenue['event_dt'], (mergedCumulativeRevenue['detailsB']/mergedCumulativeRevenue['ordersA'])/(mergedCumulativeRevenue['detailsA']/mergedCumulativeRevenue['ordersA'])-1)\n",
    "plt.title('Относительный прирост среднего чека группы B относительно группы A')\n",
    "# добавляем ось X\n",
    "plt.axhline(y=0, color='black', linestyle='--') \n",
    "plt.xticks(rotation = 45) \n",
    "plt.xlabel('Дата')\n",
    "plt.ylabel('Относительный прирост')"
   ]
  },
  {
   "cell_type": "markdown",
   "id": "556b0dee",
   "metadata": {},
   "source": [
    "В нескольких точках график различия между сегментами резко «скачет». Где-то скорее всего спрятались крупные заказы и выбросы. Группа В значительно хуже группы А, но возможно, если бы распределение пользователей между группами было равномерным, то результат был бы другой."
   ]
  },
  {
   "cell_type": "markdown",
   "id": "a6813ca8",
   "metadata": {},
   "source": [
    "### Построение графика кумулятивной конверсии по группам. "
   ]
  },
  {
   "cell_type": "code",
   "execution_count": 71,
   "id": "f0cb4080",
   "metadata": {},
   "outputs": [],
   "source": [
    "# считаем кумулятивную конверсию\n",
    "cumulativeData['conversion'] = cumulativeData['orders']/cumulativeData['visitors']"
   ]
  },
  {
   "cell_type": "code",
   "execution_count": 72,
   "id": "82aff97a",
   "metadata": {},
   "outputs": [],
   "source": [
    "# отделяем данные по группе A\n",
    "cumulativeDataA = cumulativeData[cumulativeData['group']=='A']\n",
    "\n",
    "# отделяем данные по группе B\n",
    "cumulativeDataB = cumulativeData[cumulativeData['group']=='B']"
   ]
  },
  {
   "cell_type": "code",
   "execution_count": 73,
   "id": "4e60cb01",
   "metadata": {},
   "outputs": [
    {
     "data": {
      "text/plain": [
       "Text(0, 0.5, 'Конверсия')"
      ]
     },
     "execution_count": 73,
     "metadata": {},
     "output_type": "execute_result"
    },
    {
     "data": {
      "image/png": "[encoded data removed]",
      "text/plain": [
       "<Figure size 432x288 with 1 Axes>"
      ]
     },
     "metadata": {
      "needs_background": "light"
     },
     "output_type": "display_data"
    }
   ],
   "source": [
    "# строим графики\n",
    "plt.plot(cumulativeDataA['event_dt'], cumulativeDataA['conversion'], label='A')\n",
    "plt.plot(cumulativeDataB['event_dt'], cumulativeDataB['conversion'], label='B')\n",
    "plt.legend()\n",
    "plt.xticks(rotation = 45)\n",
    "# задаем масштаб осей\n",
    "plt.axis([dt.datetime(2020, 12, 9), dt.datetime(2020, 12, 29), 0, 1])\n",
    "plt.title('График кумулятивной конверсии по группам') \n",
    "plt.xlabel('Дата')\n",
    "plt.ylabel('Конверсия')"
   ]
  },
  {
   "cell_type": "markdown",
   "id": "033156c4",
   "metadata": {},
   "source": [
    "Не симметричный график. Конверсия группы А вырвалась выше, обе конверсии стабилизировались к концу теста и зафиксировались."
   ]
  },
  {
   "cell_type": "markdown",
   "id": "7e880d7d",
   "metadata": {},
   "source": [
    "### Построение график относительного изменения кумулятивной конверсии группы B к группе A."
   ]
  },
  {
   "cell_type": "code",
   "execution_count": 74,
   "id": "ef8d5147",
   "metadata": {},
   "outputs": [
    {
     "data": {
      "text/plain": [
       "Text(0, 0.5, 'Прирост конверсии')"
      ]
     },
     "execution_count": 74,
     "metadata": {},
     "output_type": "execute_result"
    },
    {
     "data": {
      "image/png": "[encoded data removed]",
      "text/plain": [
       "<Figure size 432x288 with 1 Axes>"
      ]
     },
     "metadata": {
      "needs_background": "light"
     },
     "output_type": "display_data"
    }
   ],
   "source": [
    "mergedCumulativeConversions = cumulativeDataA[['event_dt','conversion']].merge(cumulativeDataB[['event_dt','conversion']], left_on='event_dt', right_on='event_dt', how='left', suffixes=['A', 'B'])\n",
    "\n",
    "plt.plot(mergedCumulativeConversions['event_dt'], mergedCumulativeConversions['conversionB']/mergedCumulativeConversions['conversionA']-1)\n",
    "\n",
    "plt.title('Относительный прирост конверсии группы B относительно группы A')\n",
    "plt.xticks(rotation = 45)\n",
    "plt.axhline(y=0, color='black', linestyle='--')\n",
    "plt.axhline(y=-0.1, color='grey', linestyle='--')\n",
    "plt.axis([dt.datetime(2020, 12, 9), dt.datetime(2020, 12, 29), -0.25, 0.25])\n",
    "plt.xlabel('Дата')\n",
    "plt.ylabel('Прирост конверсии')"
   ]
  },
  {
   "cell_type": "markdown",
   "id": "fa8a3612",
   "metadata": {},
   "source": [
    "В начале теста были колебания, с середины теста и до конца относительный прирост гр. В падает и вряд ли уже начнет расти."
   ]
  },
  {
   "cell_type": "markdown",
   "id": "843fe04f",
   "metadata": {},
   "source": [
    "### Построение точечных графиков количества заказов по пользователям и стоимостей заказов"
   ]
  },
  {
   "cell_type": "code",
   "execution_count": 75,
   "id": "c7c68515",
   "metadata": {},
   "outputs": [
    {
     "data": {
      "text/html": [
       "<div>\n",
       "<style scoped>\n",
       "    .dataframe tbody tr th:only-of-type {\n",
       "        vertical-align: middle;\n",
       "    }\n",
       "\n",
       "    .dataframe tbody tr th {\n",
       "        vertical-align: top;\n",
       "    }\n",
       "\n",
       "    .dataframe thead th {\n",
       "        text-align: right;\n",
       "    }\n",
       "</style>\n",
       "<table border=\"1\" class=\"dataframe\">\n",
       "  <thead>\n",
       "    <tr style=\"text-align: right;\">\n",
       "      <th></th>\n",
       "      <th>user_id</th>\n",
       "      <th>orders</th>\n",
       "    </tr>\n",
       "  </thead>\n",
       "  <tbody>\n",
       "    <tr>\n",
       "      <th>830</th>\n",
       "      <td>B8EF6F0325A9979F</td>\n",
       "      <td>7</td>\n",
       "    </tr>\n",
       "    <tr>\n",
       "      <th>610</th>\n",
       "      <td>89545C7F903DBA34</td>\n",
       "      <td>7</td>\n",
       "    </tr>\n",
       "    <tr>\n",
       "      <th>549</th>\n",
       "      <td>7949B3058A8B10CB</td>\n",
       "      <td>7</td>\n",
       "    </tr>\n",
       "    <tr>\n",
       "      <th>77</th>\n",
       "      <td>1198061F6AF34B7B</td>\n",
       "      <td>7</td>\n",
       "    </tr>\n",
       "    <tr>\n",
       "      <th>715</th>\n",
       "      <td>A1C3D3C6C3CADDC5</td>\n",
       "      <td>6</td>\n",
       "    </tr>\n",
       "    <tr>\n",
       "      <th>925</th>\n",
       "      <td>CD2093CEF3BC0554</td>\n",
       "      <td>6</td>\n",
       "    </tr>\n",
       "    <tr>\n",
       "      <th>921</th>\n",
       "      <td>CBB70C31A7269CA7</td>\n",
       "      <td>6</td>\n",
       "    </tr>\n",
       "    <tr>\n",
       "      <th>728</th>\n",
       "      <td>A3AD6954A1CBD2AF</td>\n",
       "      <td>6</td>\n",
       "    </tr>\n",
       "    <tr>\n",
       "      <th>133</th>\n",
       "      <td>1BFEE479308EFF44</td>\n",
       "      <td>6</td>\n",
       "    </tr>\n",
       "    <tr>\n",
       "      <th>1052</th>\n",
       "      <td>EE869B31C10C205E</td>\n",
       "      <td>6</td>\n",
       "    </tr>\n",
       "  </tbody>\n",
       "</table>\n",
       "</div>"
      ],
      "text/plain": [
       "               user_id  orders\n",
       "830   B8EF6F0325A9979F       7\n",
       "610   89545C7F903DBA34       7\n",
       "549   7949B3058A8B10CB       7\n",
       "77    1198061F6AF34B7B       7\n",
       "715   A1C3D3C6C3CADDC5       6\n",
       "925   CD2093CEF3BC0554       6\n",
       "921   CBB70C31A7269CA7       6\n",
       "728   A3AD6954A1CBD2AF       6\n",
       "133   1BFEE479308EFF44       6\n",
       "1052  EE869B31C10C205E       6"
      ]
     },
     "execution_count": 75,
     "metadata": {},
     "output_type": "execute_result"
    }
   ],
   "source": [
    "# Подсчитаем количество заказов по пользователям \n",
    "ordersByUsers = (orders.groupby('user_id', as_index=False)\n",
    "                       .agg({'order_id': 'nunique'}))\n",
    "ordersByUsers.columns = ['user_id', 'orders']\n",
    "ordersByUsers.sort_values(by='orders', ascending=False).head(10)"
   ]
  },
  {
   "cell_type": "code",
   "execution_count": 76,
   "id": "6cf1b53e",
   "metadata": {},
   "outputs": [
    {
     "data": {
      "text/plain": [
       "Text(0, 0.5, 'Кол-во заказов')"
      ]
     },
     "execution_count": 76,
     "metadata": {},
     "output_type": "execute_result"
    },
    {
     "data": {
      "image/png": "[encoded data removed]",
      "text/plain": [
       "<Figure size 432x288 with 1 Axes>"
      ]
     },
     "metadata": {
      "needs_background": "light"
     },
     "output_type": "display_data"
    }
   ],
   "source": [
    "# Построим точечную диаграмму числа заказов на одного пользователя по группам:\n",
    "x_values = pd.Series(range(0,len(ordersByUsers)))\n",
    "sns.scatterplot(x=x_values, y=ordersByUsers['orders'], hue=orders['group']) \n",
    "plt.title('Диаграмма числа заказов на одного пользователя') \n",
    "plt.ylabel('Кол-во заказов')"
   ]
  },
  {
   "cell_type": "code",
   "execution_count": 77,
   "id": "a93332f0",
   "metadata": {},
   "outputs": [
    {
     "data": {
      "text/plain": [
       "array([5., 6.])"
      ]
     },
     "execution_count": 77,
     "metadata": {},
     "output_type": "execute_result"
    }
   ],
   "source": [
    "# Посчитаем выборочные перцентили количества заказов на одного пользователя:\n",
    "np.percentile(ordersByUsers['orders'], [95, 99])"
   ]
  },
  {
   "cell_type": "markdown",
   "id": "4a1a3cc4",
   "metadata": {},
   "source": [
    "Не более 5% пользователей оформляли больше чем 5 заказов. И 1% пользователей заказывали более 6 раз. Распределение достаточно равномерно, оставим заказы как есть."
   ]
  },
  {
   "cell_type": "code",
   "execution_count": 78,
   "id": "5d9d0990",
   "metadata": {},
   "outputs": [
    {
     "data": {
      "text/plain": [
       "Text(0, 0.5, 'Выручка заказов')"
      ]
     },
     "execution_count": 78,
     "metadata": {},
     "output_type": "execute_result"
    },
    {
     "data": {
      "image/png": "[encoded data removed]",
      "text/plain": [
       "<Figure size 432x288 with 1 Axes>"
      ]
     },
     "metadata": {
      "needs_background": "light"
     },
     "output_type": "display_data"
    }
   ],
   "source": [
    "# Построим точечную диаграмму выручки заказов по группам:\n",
    "x_values = pd.Series(range(0,len(orders['details'])))\n",
    "sns.scatterplot(x=x_values, y=orders['details'], hue=orders['group'])\n",
    "plt.title('Диаграмма стоимости заказов на одного пользователя') \n",
    "plt.ylabel('Выручка заказов')"
   ]
  },
  {
   "cell_type": "code",
   "execution_count": 79,
   "id": "fe4d0b66",
   "metadata": {},
   "outputs": [
    {
     "data": {
      "text/plain": [
       "array([ 99.99, 499.99])"
      ]
     },
     "execution_count": 79,
     "metadata": {},
     "output_type": "execute_result"
    }
   ],
   "source": [
    "# Посчитаем выборочные перцентили стоимости заказов\n",
    "np.percentile(orders['details'], [95, 99])"
   ]
  },
  {
   "cell_type": "markdown",
   "id": "27d60978",
   "metadata": {},
   "source": [
    "Не более 5% заказов дороже 100 у.е и не более 1% дороже 500 у.е. Уникальных значений по стоимости не так много, очень похоже на подписку с разной ценой для разных периодов. Скорее всего выбросов тут нет."
   ]
  },
  {
   "cell_type": "markdown",
   "id": "3e5e1cd5",
   "metadata": {},
   "source": [
    "### Вывод:\n",
    "\n",
    "* Выручка у группы В равномерно увеличивается в течение всего теста. Хороший знак. У группы А график выручки растет более интенсивно, но это лишь подтверждает наши исследования выше, что в группе А больше количество пользователей, чем в группе В.\n",
    "* Средний чек к концу теста начал немного стабилизироваться у обоих групп и примерно сравниваться. Возможно, в группу B 11-12 декабря попали крупные заказы (резкий всплеск на графике).\n",
    "* В нескольких точках на графике относительного прироста среднего чека гр.В к гр.А резко «скачет». Где-то скорее всего спрятались крупные заказы и выбросы. Группа В значительно хуже группы А, но возможно, если бы распределение пользователей между группами было равномерным, то результат был бы другой.\n",
    "* По графику коммулятивной конверсии по группам видно, что график не симметричный. Конверсия группы А вырвалась выше, обе конверсии выровнялись к концу теста и зафиксировались.\n",
    "* В относительном приросте конверсии В к А в начале теста были колебания, с середины теста и до конца относительный прирост гр.В падает и врят ли уже начнет расти.\n",
    "* Не более 5% заказов дороже 100 у.е и не более 1% дороже 500 у.е. \n",
    "* Диаграмма заказов на одного пользователя относительно равномерная, поэтому мы оставим все как есть.\n"
   ]
  },
  {
   "cell_type": "markdown",
   "id": "b46cb06a",
   "metadata": {},
   "source": [
    "## Проверка статистической разницы долей z-критерием."
   ]
  },
  {
   "cell_type": "markdown",
   "id": "3e43d385",
   "metadata": {},
   "source": [
    "Гипотезы для проверки наличия стат. значимых различий в конверсиях групп А и В теста:\n",
    "\n",
    "* Нулевая гипотеза - между долями нет стат. значимой разницы.\n",
    "* Альтернативная гипотеза - между долями есть стат. значимая разница.\n"
   ]
  },
  {
   "cell_type": "code",
   "execution_count": 80,
   "id": "79760bb3",
   "metadata": {},
   "outputs": [
    {
     "data": {
      "text/html": [
       "<div>\n",
       "<style scoped>\n",
       "    .dataframe tbody tr th:only-of-type {\n",
       "        vertical-align: middle;\n",
       "    }\n",
       "\n",
       "    .dataframe tbody tr th {\n",
       "        vertical-align: top;\n",
       "    }\n",
       "\n",
       "    .dataframe thead th {\n",
       "        text-align: right;\n",
       "    }\n",
       "</style>\n",
       "<table border=\"1\" class=\"dataframe\">\n",
       "  <thead>\n",
       "    <tr style=\"text-align: right;\">\n",
       "      <th>group</th>\n",
       "      <th>A</th>\n",
       "      <th>B</th>\n",
       "    </tr>\n",
       "    <tr>\n",
       "      <th>event_name</th>\n",
       "      <th></th>\n",
       "      <th></th>\n",
       "    </tr>\n",
       "  </thead>\n",
       "  <tbody>\n",
       "    <tr>\n",
       "      <th>alogin</th>\n",
       "      <td>2747</td>\n",
       "      <td>928</td>\n",
       "    </tr>\n",
       "    <tr>\n",
       "      <th>browse_page</th>\n",
       "      <td>1780</td>\n",
       "      <td>523</td>\n",
       "    </tr>\n",
       "    <tr>\n",
       "      <th>product_cart</th>\n",
       "      <td>824</td>\n",
       "      <td>255</td>\n",
       "    </tr>\n",
       "    <tr>\n",
       "      <th>purchase</th>\n",
       "      <td>872</td>\n",
       "      <td>256</td>\n",
       "    </tr>\n",
       "  </tbody>\n",
       "</table>\n",
       "</div>"
      ],
      "text/plain": [
       "group            A    B\n",
       "event_name             \n",
       "alogin        2747  928\n",
       "browse_page   1780  523\n",
       "product_cart   824  255\n",
       "purchase       872  256"
      ]
     },
     "execution_count": 80,
     "metadata": {},
     "output_type": "execute_result"
    }
   ],
   "source": [
    "df = ab_event.pivot_table(values='user_id',columns='group',index='event_name', aggfunc='nunique')\n",
    "df"
   ]
  },
  {
   "cell_type": "code",
   "execution_count": 81,
   "id": "0e375a6d",
   "metadata": {},
   "outputs": [
    {
     "name": "stdout",
     "output_type": "stream",
     "text": [
      "Проверка стат. значимых различий в конверсиях групп на этапе: alogin/browse_page\n",
      "p-значение: 0.00\n",
      "Отвергаем нулевую гипотезу: между долями есть значимая разница\n",
      "\n",
      "Проверка стат. значимых различий в конверсиях групп на этапе: alogin/product_cart\n",
      "p-значение: 0.15\n",
      "Не получилось отвергнуть нулевую гипотезу, нет оснований считать доли разными\n",
      "\n",
      "Проверка стат. значимых различий в конверсиях групп на этапе: alogin/purchase\n",
      "p-значение: 0.02\n",
      "Не получилось отвергнуть нулевую гипотезу, нет оснований считать доли разными\n",
      "\n"
     ]
    }
   ],
   "source": [
    "alpha = .05\n",
    "\n",
    "for i, event in enumerate(df.iterrows()):\n",
    "    if i == 0:\n",
    "        pass\n",
    "    else:\n",
    "        print(\"Проверка стат. значимых различий в конверсиях групп на этапе: {}/{}\".format(\n",
    "            df.index[0],\n",
    "            df.index[i])\n",
    "             )\n",
    "        \n",
    "        part1 = df.iloc[i]['A']\n",
    "        part2 = df.iloc[i]['B']\n",
    "        total1 = df.iloc[0]['A']\n",
    "        total2 = df.iloc[0]['B']\n",
    "\n",
    "        # пропорция группы А\n",
    "        p1 = part1 / total1\n",
    "        # пропорция группы В\n",
    "        p2 = part2 / total2\n",
    "        # разница пропорций\n",
    "        difference = p1 - p2\n",
    "\n",
    "        # пропорция в комбинированном датасете\n",
    "        p_combined = (part1 + part2) / (total1 + total2) \n",
    "        \n",
    "        # статистика в ст.отклонениях стандартного нормального распределения\n",
    "        z_value = difference / np.sqrt(\n",
    "            p_combined * abs(1 - p_combined) * (1/total1 + 1/total2)\n",
    "        )\n",
    "        \n",
    "        # нормальное распределение\n",
    "        distr = st.norm(0, 1) \n",
    "\n",
    "        p_value = (1 - distr.cdf(abs(z_value))) * 2\n",
    "\n",
    "        print('p-значение: {:0.2f}'.format(p_value))\n",
    "        bonferroni_alpha = alpha / 3  # поправка Бонферони на множественное сравнени\n",
    "        if (p_value < bonferroni_alpha):\n",
    "            print(\"Отвергаем нулевую гипотезу: между долями есть значимая разница\")\n",
    "        else:\n",
    "            print(\"Не получилось отвергнуть нулевую гипотезу, нет оснований считать доли разными\")\n",
    "\n",
    "        print()"
   ]
  },
  {
   "cell_type": "markdown",
   "id": "c14ab5ea",
   "metadata": {},
   "source": [
    "# Общий вывод:\n",
    "\n",
    "I. Перед анализом, мы подготовили данные, а именно:\n",
    "  * в таблице marketing тип данных в столбцах start_dt и finish_dt заменили на datetime\n",
    "  * в таблице new_users тип данных в столбце first_date заменили на datetime\n",
    "  * в таблице events тип данных в столбце event_dt заменили на datetime\n",
    "\n",
    "\n",
    "II. Исследовательский анализ данных:\n",
    "\n",
    "1. Тест проведен не корректно.\n",
    "\n",
    "   Причины, почему тест проведен не корректно:\n",
    "\n",
    "* в данных выявленно одновременно два теста\n",
    "* тест завершился раньше срока. У группы А - 29 декабря, у группы В - 30 декабря. По ТЗ он должен завершится 04.01.2021. Не полные данные могут повлиять на результаты теста.\n",
    "* Из региона EU ~13.73% новых пользователей. Не соответствие тех. заданию.\n",
    "* Во время теста происходит два маркетинговых события \"Рождественская и новогодняя акция\" и \"Новогодняя подарочная лотерея СНГ\"\n",
    "* 1602 пользователя участвуют одновременно в двух тестах.\n",
    "* Пользователи распределены неравномерно по тестовым группам, в интересующем нас тесте разница между группами около 5%, это может исказить результаты теста.\n",
    "\n",
    "\n",
    "2. Были выявлены следующие особенности:\n",
    "\n",
    "* Количество событий на пользователя распределены в выборках не одинаково\n",
    "* Число событий в выборках распределено по дням не равномерно\n",
    "* Посмотрев на конверсию в воронке в выборках на разных этапах видно, что ожидаемго эффекта не произошло: пользователи не показали улучшение каждой метрики не менее, чем на 10%.\n",
    "* Больше всего пользователей теряются между регистрацией и просмотром карточек.\n",
    "* Количество пользователей, совершивших покупку, больше, чем количествово пользователей, попавших в корзину - вероятно, это связано с тем, что часть пользователей совершили покупку, минуя корзину.\n",
    "\n",
    "III. Оценка результатов А/В-тестирования:\n",
    "1. Анализ А/В теста:\n",
    "* Выручка у группы В равномерно увеличивается в течение всего теста. Хороший знак. У группы А график выручки растет более интенсивно, но это лишь подтверждает наши исследования выше, что в группе А больше количество пользователей, чем в группе В.\n",
    "* Средний чек к концу теста начал немного стабилизироваться у обоих групп и примерно сравниваться. Возможно, в группу B 11-12 декабря попали крупные заказы (резкий всплеск на графике).\n",
    "* В нескольких точках на графике относительного прироста среднего чека гр.В к гр.А резко «скачет». Где-то скорее всего спрятались крупные заказы и выбросы. Группа В значительно хуже группы А, но возможно, если бы распределение пользователей между группами было равномерным, то результат был бы другой.\n",
    "* По графику коммулятивной конверсии по группам видно, что график не симметричный. Конверсия группы А вырвалась выше, обе конверсии выровнялись к концу теста и зафиксировались.\n",
    "* В относительном приросте конверсии В к А в начале теста были колебания, с середины теста и до конца относительный прирост гр.В падает и врят ли уже начнет расти.\n",
    "* Исходя из диаграммы распределения стоимости заказов выбрали за верхнюю границу 100 у.е и отсекли аномальных пользователей по ней.\n",
    "* Диаграмма заказов на одного пользователя относительно равномерная, поэтому мы оставим все как есть.\n",
    "\n",
    "2. Проверка статистической разницы долей z-критерием:\n",
    "\n",
    "* на этапе: alogin/browse_page, p-значение: 0.00 - отвергаем нулевую гипотезу: между долями есть значимая разница\n",
    "* на этапе: alogin/product_cart, p-значение: 0.13 - не получилось отвергнуть нулевую гипотезу, нет оснований считать доли разными\n",
    "* на этапе: alogin/purchase, p-значение: 0.02 - не получилось отвергнуть нулевую гипотезу, нет оснований считать доли разными\n",
    "\n",
    "\n",
    "VI. Рекомендации:\n",
    "\n",
    "Так как говорить об успешности теста нельзя, в виду обнаружения ряда ошибок при его проведении. Если довериться его результатам, возможно в будующем получить неприятные экономические последствия. Рекомендую скорректировать настройки A/B теста и запустить его повторно."
   ]
  },
  {
   "cell_type": "code",
   "execution_count": null,
   "id": "d610b75c",
   "metadata": {},
   "outputs": [],
   "source": []
  }
 ],
 "metadata": {
  "ExecuteTimeLog": [
   {
    "duration": 1197,
    "start_time": "2022-11-17T07:02:14.596Z"
   },
   {
    "duration": 71,
    "start_time": "2022-11-17T07:02:15.794Z"
   },
   {
    "duration": 11,
    "start_time": "2022-11-17T07:02:15.866Z"
   },
   {
    "duration": 11,
    "start_time": "2022-11-17T07:02:15.878Z"
   },
   {
    "duration": 8,
    "start_time": "2022-11-17T07:02:15.891Z"
   },
   {
    "duration": 14,
    "start_time": "2022-11-17T07:02:15.901Z"
   },
   {
    "duration": 9,
    "start_time": "2022-11-17T07:02:15.916Z"
   },
   {
    "duration": 7,
    "start_time": "2022-11-17T07:02:15.927Z"
   },
   {
    "duration": 176,
    "start_time": "2022-11-17T07:02:15.936Z"
   },
   {
    "duration": 8,
    "start_time": "2022-11-17T07:02:16.114Z"
   },
   {
    "duration": 21,
    "start_time": "2022-11-17T07:02:16.124Z"
   },
   {
    "duration": 12,
    "start_time": "2022-11-17T07:02:16.147Z"
   },
   {
    "duration": 33,
    "start_time": "2022-11-17T07:02:16.160Z"
   },
   {
    "duration": 6,
    "start_time": "2022-11-17T07:02:16.195Z"
   },
   {
    "duration": 20,
    "start_time": "2022-11-17T07:02:16.202Z"
   },
   {
    "duration": 1543,
    "start_time": "2022-11-17T07:02:16.223Z"
   },
   {
    "duration": 9,
    "start_time": "2022-11-17T07:02:17.767Z"
   },
   {
    "duration": 61,
    "start_time": "2022-11-17T07:02:17.777Z"
   },
   {
    "duration": 99,
    "start_time": "2022-11-17T07:02:17.839Z"
   },
   {
    "duration": 182,
    "start_time": "2022-11-17T07:02:17.939Z"
   },
   {
    "duration": 41,
    "start_time": "2022-11-17T07:02:18.123Z"
   },
   {
    "duration": 27,
    "start_time": "2022-11-17T07:02:18.166Z"
   },
   {
    "duration": 105,
    "start_time": "2022-11-17T07:02:18.195Z"
   },
   {
    "duration": 138,
    "start_time": "2022-11-17T07:02:18.301Z"
   },
   {
    "duration": 7,
    "start_time": "2022-11-17T07:02:18.440Z"
   },
   {
    "duration": 12,
    "start_time": "2022-11-17T07:02:18.449Z"
   },
   {
    "duration": 8,
    "start_time": "2022-11-17T07:02:18.463Z"
   },
   {
    "duration": 4,
    "start_time": "2022-11-17T07:02:18.475Z"
   },
   {
    "duration": 10,
    "start_time": "2022-11-17T07:02:18.481Z"
   },
   {
    "duration": 16,
    "start_time": "2022-11-17T07:02:18.492Z"
   },
   {
    "duration": 52,
    "start_time": "2022-11-17T07:02:18.509Z"
   },
   {
    "duration": 10,
    "start_time": "2022-11-17T07:02:18.563Z"
   },
   {
    "duration": 13,
    "start_time": "2022-11-17T07:02:18.575Z"
   },
   {
    "duration": 13,
    "start_time": "2022-11-17T07:02:18.589Z"
   },
   {
    "duration": 12,
    "start_time": "2022-11-17T07:02:18.604Z"
   },
   {
    "duration": 146,
    "start_time": "2022-11-17T07:02:18.617Z"
   },
   {
    "duration": 17,
    "start_time": "2022-11-17T07:02:18.764Z"
   },
   {
    "duration": 11,
    "start_time": "2022-11-17T07:02:18.782Z"
   },
   {
    "duration": 31,
    "start_time": "2022-11-17T07:02:18.794Z"
   },
   {
    "duration": 7,
    "start_time": "2022-11-17T07:02:18.827Z"
   },
   {
    "duration": 20,
    "start_time": "2022-11-17T07:02:18.835Z"
   },
   {
    "duration": 119,
    "start_time": "2022-11-17T07:02:18.857Z"
   },
   {
    "duration": 54,
    "start_time": "2022-11-17T07:02:18.978Z"
   },
   {
    "duration": 20,
    "start_time": "2022-11-17T07:02:19.033Z"
   },
   {
    "duration": 20,
    "start_time": "2022-11-17T07:02:19.055Z"
   },
   {
    "duration": 26,
    "start_time": "2022-11-17T07:02:19.077Z"
   },
   {
    "duration": 4,
    "start_time": "2022-11-17T07:02:19.105Z"
   },
   {
    "duration": 35,
    "start_time": "2022-11-17T07:02:19.111Z"
   },
   {
    "duration": 7,
    "start_time": "2022-11-17T07:02:19.148Z"
   },
   {
    "duration": 19,
    "start_time": "2022-11-17T07:02:19.157Z"
   },
   {
    "duration": 27,
    "start_time": "2022-11-17T07:02:19.177Z"
   },
   {
    "duration": 318,
    "start_time": "2022-11-17T07:02:19.205Z"
   },
   {
    "duration": 406,
    "start_time": "2022-11-17T07:02:19.524Z"
   },
   {
    "duration": 18,
    "start_time": "2022-11-17T07:02:19.932Z"
   },
   {
    "duration": 10,
    "start_time": "2022-11-17T07:02:19.952Z"
   },
   {
    "duration": 25,
    "start_time": "2022-11-17T07:02:19.963Z"
   },
   {
    "duration": 90,
    "start_time": "2022-11-17T07:02:19.990Z"
   },
   {
    "duration": 15,
    "start_time": "2022-11-17T07:02:20.081Z"
   },
   {
    "duration": 9,
    "start_time": "2022-11-17T07:02:20.098Z"
   },
   {
    "duration": 26,
    "start_time": "2022-11-17T07:02:20.120Z"
   },
   {
    "duration": 22,
    "start_time": "2022-11-17T07:02:20.147Z"
   },
   {
    "duration": 9,
    "start_time": "2022-11-17T07:02:20.170Z"
   },
   {
    "duration": 148,
    "start_time": "2022-11-17T07:02:20.180Z"
   },
   {
    "duration": 100,
    "start_time": "2022-11-17T07:02:20.330Z"
   },
   {
    "duration": 14,
    "start_time": "2022-11-17T07:02:20.431Z"
   },
   {
    "duration": 11,
    "start_time": "2022-11-17T07:02:20.447Z"
   },
   {
    "duration": 11,
    "start_time": "2022-11-17T07:02:20.460Z"
   },
   {
    "duration": 166,
    "start_time": "2022-11-17T07:02:20.473Z"
   },
   {
    "duration": 185,
    "start_time": "2022-11-17T07:02:20.641Z"
   },
   {
    "duration": 12,
    "start_time": "2022-11-17T07:02:20.827Z"
   },
   {
    "duration": 293,
    "start_time": "2022-11-17T07:02:20.841Z"
   },
   {
    "duration": 4,
    "start_time": "2022-11-17T07:02:21.136Z"
   },
   {
    "duration": 22,
    "start_time": "2022-11-17T07:02:21.142Z"
   },
   {
    "duration": 213,
    "start_time": "2022-11-17T07:02:21.166Z"
   },
   {
    "duration": 333,
    "start_time": "2022-11-17T07:02:21.381Z"
   },
   {
    "duration": 13,
    "start_time": "2022-11-17T07:02:21.720Z"
   },
   {
    "duration": 199,
    "start_time": "2022-11-17T07:02:21.734Z"
   },
   {
    "duration": 5,
    "start_time": "2022-11-17T07:02:21.934Z"
   },
   {
    "duration": 231,
    "start_time": "2022-11-17T07:02:21.940Z"
   },
   {
    "duration": 5,
    "start_time": "2022-11-17T07:02:22.174Z"
   },
   {
    "duration": 209,
    "start_time": "2022-11-17T07:02:22.181Z"
   },
   {
    "duration": 8,
    "start_time": "2022-11-17T07:02:22.395Z"
   },
   {
    "duration": 34,
    "start_time": "2022-11-17T07:02:22.404Z"
   },
   {
    "duration": 22,
    "start_time": "2022-11-17T07:02:22.440Z"
   },
   {
    "duration": 11,
    "start_time": "2022-11-17T07:02:22.464Z"
   },
   {
    "duration": 56,
    "start_time": "2022-11-17T08:58:19.086Z"
   },
   {
    "duration": 1484,
    "start_time": "2022-11-17T08:58:29.652Z"
   },
   {
    "duration": 64,
    "start_time": "2022-11-17T08:58:31.138Z"
   },
   {
    "duration": 13,
    "start_time": "2022-11-17T08:58:31.204Z"
   },
   {
    "duration": 11,
    "start_time": "2022-11-17T08:58:31.219Z"
   },
   {
    "duration": 10,
    "start_time": "2022-11-17T08:58:31.232Z"
   },
   {
    "duration": 14,
    "start_time": "2022-11-17T08:58:31.244Z"
   },
   {
    "duration": 16,
    "start_time": "2022-11-17T08:58:31.260Z"
   },
   {
    "duration": 9,
    "start_time": "2022-11-17T08:58:31.277Z"
   },
   {
    "duration": 196,
    "start_time": "2022-11-17T08:58:31.288Z"
   },
   {
    "duration": 0,
    "start_time": "2022-11-17T08:58:31.488Z"
   },
   {
    "duration": 0,
    "start_time": "2022-11-17T08:58:31.489Z"
   },
   {
    "duration": 0,
    "start_time": "2022-11-17T08:58:31.490Z"
   },
   {
    "duration": 0,
    "start_time": "2022-11-17T08:58:31.491Z"
   },
   {
    "duration": 0,
    "start_time": "2022-11-17T08:58:31.493Z"
   },
   {
    "duration": 0,
    "start_time": "2022-11-17T08:58:31.494Z"
   },
   {
    "duration": 0,
    "start_time": "2022-11-17T08:58:31.495Z"
   },
   {
    "duration": 0,
    "start_time": "2022-11-17T08:58:31.496Z"
   },
   {
    "duration": 0,
    "start_time": "2022-11-17T08:58:31.497Z"
   },
   {
    "duration": 0,
    "start_time": "2022-11-17T08:58:31.498Z"
   },
   {
    "duration": 0,
    "start_time": "2022-11-17T08:58:31.499Z"
   },
   {
    "duration": 0,
    "start_time": "2022-11-17T08:58:31.500Z"
   },
   {
    "duration": 0,
    "start_time": "2022-11-17T08:58:31.501Z"
   },
   {
    "duration": 0,
    "start_time": "2022-11-17T08:58:31.502Z"
   },
   {
    "duration": 0,
    "start_time": "2022-11-17T08:58:31.503Z"
   },
   {
    "duration": 0,
    "start_time": "2022-11-17T08:58:31.505Z"
   },
   {
    "duration": 0,
    "start_time": "2022-11-17T08:58:31.506Z"
   },
   {
    "duration": 0,
    "start_time": "2022-11-17T08:58:31.507Z"
   },
   {
    "duration": 0,
    "start_time": "2022-11-17T08:58:31.509Z"
   },
   {
    "duration": 0,
    "start_time": "2022-11-17T08:58:31.509Z"
   },
   {
    "duration": 0,
    "start_time": "2022-11-17T08:58:31.510Z"
   },
   {
    "duration": 0,
    "start_time": "2022-11-17T08:58:31.511Z"
   },
   {
    "duration": 0,
    "start_time": "2022-11-17T08:58:31.512Z"
   },
   {
    "duration": 0,
    "start_time": "2022-11-17T08:58:31.513Z"
   },
   {
    "duration": 0,
    "start_time": "2022-11-17T08:58:31.514Z"
   },
   {
    "duration": 0,
    "start_time": "2022-11-17T08:58:31.516Z"
   },
   {
    "duration": 0,
    "start_time": "2022-11-17T08:58:31.517Z"
   },
   {
    "duration": 0,
    "start_time": "2022-11-17T08:58:31.518Z"
   },
   {
    "duration": 0,
    "start_time": "2022-11-17T08:58:31.519Z"
   },
   {
    "duration": 0,
    "start_time": "2022-11-17T08:58:31.521Z"
   },
   {
    "duration": 0,
    "start_time": "2022-11-17T08:58:31.522Z"
   },
   {
    "duration": 0,
    "start_time": "2022-11-17T08:58:31.524Z"
   },
   {
    "duration": 0,
    "start_time": "2022-11-17T08:58:31.578Z"
   },
   {
    "duration": 0,
    "start_time": "2022-11-17T08:58:31.580Z"
   },
   {
    "duration": 0,
    "start_time": "2022-11-17T08:58:31.582Z"
   },
   {
    "duration": 0,
    "start_time": "2022-11-17T08:58:31.583Z"
   },
   {
    "duration": 0,
    "start_time": "2022-11-17T08:58:31.585Z"
   },
   {
    "duration": 0,
    "start_time": "2022-11-17T08:58:31.586Z"
   },
   {
    "duration": 0,
    "start_time": "2022-11-17T08:58:31.588Z"
   },
   {
    "duration": 0,
    "start_time": "2022-11-17T08:58:31.589Z"
   },
   {
    "duration": 0,
    "start_time": "2022-11-17T08:58:31.591Z"
   },
   {
    "duration": 0,
    "start_time": "2022-11-17T08:58:31.592Z"
   },
   {
    "duration": 0,
    "start_time": "2022-11-17T08:58:31.594Z"
   },
   {
    "duration": 0,
    "start_time": "2022-11-17T08:58:31.595Z"
   },
   {
    "duration": 0,
    "start_time": "2022-11-17T08:58:31.596Z"
   },
   {
    "duration": 0,
    "start_time": "2022-11-17T08:58:31.598Z"
   },
   {
    "duration": 0,
    "start_time": "2022-11-17T08:58:31.599Z"
   },
   {
    "duration": 0,
    "start_time": "2022-11-17T08:58:31.601Z"
   },
   {
    "duration": 0,
    "start_time": "2022-11-17T08:58:31.602Z"
   },
   {
    "duration": 0,
    "start_time": "2022-11-17T08:58:31.604Z"
   },
   {
    "duration": 0,
    "start_time": "2022-11-17T08:58:31.605Z"
   },
   {
    "duration": 0,
    "start_time": "2022-11-17T08:58:31.606Z"
   },
   {
    "duration": 0,
    "start_time": "2022-11-17T08:58:31.608Z"
   },
   {
    "duration": 0,
    "start_time": "2022-11-17T08:58:31.609Z"
   },
   {
    "duration": 0,
    "start_time": "2022-11-17T08:58:31.611Z"
   },
   {
    "duration": 0,
    "start_time": "2022-11-17T08:58:31.612Z"
   },
   {
    "duration": 0,
    "start_time": "2022-11-17T08:58:31.613Z"
   },
   {
    "duration": 0,
    "start_time": "2022-11-17T08:58:31.678Z"
   },
   {
    "duration": 0,
    "start_time": "2022-11-17T08:58:31.680Z"
   },
   {
    "duration": 0,
    "start_time": "2022-11-17T08:58:31.682Z"
   },
   {
    "duration": 0,
    "start_time": "2022-11-17T08:58:31.683Z"
   },
   {
    "duration": 0,
    "start_time": "2022-11-17T08:58:31.686Z"
   },
   {
    "duration": 0,
    "start_time": "2022-11-17T08:58:31.687Z"
   },
   {
    "duration": 0,
    "start_time": "2022-11-17T08:58:31.689Z"
   },
   {
    "duration": 1,
    "start_time": "2022-11-17T08:58:31.690Z"
   },
   {
    "duration": 0,
    "start_time": "2022-11-17T08:58:31.692Z"
   },
   {
    "duration": 0,
    "start_time": "2022-11-17T08:58:31.694Z"
   },
   {
    "duration": 0,
    "start_time": "2022-11-17T08:58:31.695Z"
   },
   {
    "duration": 0,
    "start_time": "2022-11-17T08:58:31.696Z"
   },
   {
    "duration": 0,
    "start_time": "2022-11-17T08:58:31.698Z"
   },
   {
    "duration": 0,
    "start_time": "2022-11-17T08:58:31.700Z"
   },
   {
    "duration": 0,
    "start_time": "2022-11-17T08:58:31.701Z"
   },
   {
    "duration": 0,
    "start_time": "2022-11-17T08:58:31.702Z"
   },
   {
    "duration": 0,
    "start_time": "2022-11-17T08:58:31.704Z"
   },
   {
    "duration": 0,
    "start_time": "2022-11-17T08:58:31.705Z"
   },
   {
    "duration": 0,
    "start_time": "2022-11-17T08:58:31.707Z"
   },
   {
    "duration": 24,
    "start_time": "2022-11-17T09:00:36.845Z"
   },
   {
    "duration": 10,
    "start_time": "2022-11-17T09:00:39.840Z"
   },
   {
    "duration": 11,
    "start_time": "2022-11-17T09:00:45.945Z"
   },
   {
    "duration": 224,
    "start_time": "2022-11-17T09:02:15.135Z"
   },
   {
    "duration": 10,
    "start_time": "2022-11-17T09:02:15.850Z"
   },
   {
    "duration": 18,
    "start_time": "2022-11-17T09:02:19.835Z"
   },
   {
    "duration": 734,
    "start_time": "2022-11-17T09:03:21.371Z"
   },
   {
    "duration": 10,
    "start_time": "2022-11-17T09:03:22.107Z"
   },
   {
    "duration": 49,
    "start_time": "2022-11-17T09:03:26.118Z"
   },
   {
    "duration": 1272,
    "start_time": "2022-11-17T09:04:46.413Z"
   },
   {
    "duration": 23,
    "start_time": "2022-11-17T09:04:47.687Z"
   },
   {
    "duration": 14,
    "start_time": "2022-11-17T09:04:47.712Z"
   },
   {
    "duration": 26,
    "start_time": "2022-11-17T09:04:47.729Z"
   },
   {
    "duration": 25,
    "start_time": "2022-11-17T09:04:47.756Z"
   },
   {
    "duration": 26,
    "start_time": "2022-11-17T09:04:47.782Z"
   },
   {
    "duration": 30,
    "start_time": "2022-11-17T09:04:47.810Z"
   },
   {
    "duration": 112,
    "start_time": "2022-11-17T09:04:47.842Z"
   },
   {
    "duration": 10,
    "start_time": "2022-11-17T09:04:47.956Z"
   },
   {
    "duration": 27,
    "start_time": "2022-11-17T09:04:47.969Z"
   },
   {
    "duration": 43,
    "start_time": "2022-11-17T09:04:47.998Z"
   },
   {
    "duration": 6,
    "start_time": "2022-11-17T09:04:48.043Z"
   },
   {
    "duration": 34,
    "start_time": "2022-11-17T09:04:48.051Z"
   },
   {
    "duration": 595,
    "start_time": "2022-11-17T09:04:48.087Z"
   },
   {
    "duration": 10,
    "start_time": "2022-11-17T09:04:48.684Z"
   },
   {
    "duration": 54,
    "start_time": "2022-11-17T09:04:48.696Z"
   },
   {
    "duration": 12,
    "start_time": "2022-11-17T09:04:48.752Z"
   },
   {
    "duration": 195,
    "start_time": "2022-11-17T09:04:48.778Z"
   },
   {
    "duration": 50,
    "start_time": "2022-11-17T09:04:48.977Z"
   },
   {
    "duration": 49,
    "start_time": "2022-11-17T09:04:49.030Z"
   },
   {
    "duration": 119,
    "start_time": "2022-11-17T09:04:49.081Z"
   },
   {
    "duration": 80,
    "start_time": "2022-11-17T09:04:49.202Z"
   },
   {
    "duration": 9,
    "start_time": "2022-11-17T09:04:49.284Z"
   },
   {
    "duration": 16,
    "start_time": "2022-11-17T09:04:49.295Z"
   },
   {
    "duration": 10,
    "start_time": "2022-11-17T09:04:49.313Z"
   },
   {
    "duration": 5,
    "start_time": "2022-11-17T09:04:49.325Z"
   },
   {
    "duration": 8,
    "start_time": "2022-11-17T09:04:49.332Z"
   },
   {
    "duration": 34,
    "start_time": "2022-11-17T09:04:49.344Z"
   },
   {
    "duration": 49,
    "start_time": "2022-11-17T09:04:49.380Z"
   },
   {
    "duration": 11,
    "start_time": "2022-11-17T09:04:49.430Z"
   },
   {
    "duration": 14,
    "start_time": "2022-11-17T09:04:49.443Z"
   },
   {
    "duration": 10,
    "start_time": "2022-11-17T09:04:49.478Z"
   },
   {
    "duration": 12,
    "start_time": "2022-11-17T09:04:49.490Z"
   },
   {
    "duration": 187,
    "start_time": "2022-11-17T09:04:49.504Z"
   },
   {
    "duration": 27,
    "start_time": "2022-11-17T09:04:49.693Z"
   },
   {
    "duration": 13,
    "start_time": "2022-11-17T09:04:49.722Z"
   },
   {
    "duration": 43,
    "start_time": "2022-11-17T09:04:49.737Z"
   },
   {
    "duration": 9,
    "start_time": "2022-11-17T09:04:49.781Z"
   },
   {
    "duration": 18,
    "start_time": "2022-11-17T09:04:49.792Z"
   },
   {
    "duration": 139,
    "start_time": "2022-11-17T09:04:49.811Z"
   },
   {
    "duration": 67,
    "start_time": "2022-11-17T09:04:49.952Z"
   },
   {
    "duration": 6,
    "start_time": "2022-11-17T09:04:50.020Z"
   },
   {
    "duration": 15,
    "start_time": "2022-11-17T09:04:50.028Z"
   },
   {
    "duration": 34,
    "start_time": "2022-11-17T09:04:50.045Z"
   },
   {
    "duration": 4,
    "start_time": "2022-11-17T09:04:50.081Z"
   },
   {
    "duration": 25,
    "start_time": "2022-11-17T09:04:50.087Z"
   },
   {
    "duration": 8,
    "start_time": "2022-11-17T09:04:50.114Z"
   },
   {
    "duration": 10,
    "start_time": "2022-11-17T09:04:50.124Z"
   },
   {
    "duration": 43,
    "start_time": "2022-11-17T09:04:50.136Z"
   },
   {
    "duration": 383,
    "start_time": "2022-11-17T09:04:50.180Z"
   },
   {
    "duration": 557,
    "start_time": "2022-11-17T09:04:50.565Z"
   },
   {
    "duration": 20,
    "start_time": "2022-11-17T09:04:51.123Z"
   },
   {
    "duration": 7,
    "start_time": "2022-11-17T09:04:51.145Z"
   },
   {
    "duration": 43,
    "start_time": "2022-11-17T09:04:51.153Z"
   },
   {
    "duration": 14,
    "start_time": "2022-11-17T09:04:51.198Z"
   },
   {
    "duration": 16,
    "start_time": "2022-11-17T09:04:51.213Z"
   },
   {
    "duration": 12,
    "start_time": "2022-11-17T09:04:51.232Z"
   },
   {
    "duration": 14,
    "start_time": "2022-11-17T09:04:51.278Z"
   },
   {
    "duration": 29,
    "start_time": "2022-11-17T09:04:51.294Z"
   },
   {
    "duration": 13,
    "start_time": "2022-11-17T09:04:51.326Z"
   },
   {
    "duration": 192,
    "start_time": "2022-11-17T09:04:51.341Z"
   },
   {
    "duration": 102,
    "start_time": "2022-11-17T09:04:51.535Z"
   },
   {
    "duration": 12,
    "start_time": "2022-11-17T09:04:51.639Z"
   },
   {
    "duration": 9,
    "start_time": "2022-11-17T09:04:51.653Z"
   },
   {
    "duration": 20,
    "start_time": "2022-11-17T09:04:51.663Z"
   },
   {
    "duration": 199,
    "start_time": "2022-11-17T09:04:51.685Z"
   },
   {
    "duration": 209,
    "start_time": "2022-11-17T09:04:51.886Z"
   },
   {
    "duration": 15,
    "start_time": "2022-11-17T09:04:52.096Z"
   },
   {
    "duration": 285,
    "start_time": "2022-11-17T09:04:52.113Z"
   },
   {
    "duration": 5,
    "start_time": "2022-11-17T09:04:52.400Z"
   },
   {
    "duration": 15,
    "start_time": "2022-11-17T09:04:52.407Z"
   },
   {
    "duration": 213,
    "start_time": "2022-11-17T09:04:52.424Z"
   },
   {
    "duration": 353,
    "start_time": "2022-11-17T09:04:52.639Z"
   },
   {
    "duration": 14,
    "start_time": "2022-11-17T09:04:52.993Z"
   },
   {
    "duration": 225,
    "start_time": "2022-11-17T09:04:53.009Z"
   },
   {
    "duration": 5,
    "start_time": "2022-11-17T09:04:53.236Z"
   },
   {
    "duration": 340,
    "start_time": "2022-11-17T09:04:53.243Z"
   },
   {
    "duration": 5,
    "start_time": "2022-11-17T09:04:53.585Z"
   },
   {
    "duration": 241,
    "start_time": "2022-11-17T09:04:53.592Z"
   },
   {
    "duration": 10,
    "start_time": "2022-11-17T09:04:53.835Z"
   },
   {
    "duration": 32,
    "start_time": "2022-11-17T09:04:53.847Z"
   },
   {
    "duration": 29,
    "start_time": "2022-11-17T09:04:53.884Z"
   },
   {
    "duration": 15,
    "start_time": "2022-11-17T09:04:53.915Z"
   },
   {
    "duration": 108,
    "start_time": "2022-11-17T09:13:23.745Z"
   },
   {
    "duration": 7,
    "start_time": "2022-11-17T09:13:44.328Z"
   },
   {
    "duration": 13,
    "start_time": "2022-11-17T09:15:02.859Z"
   },
   {
    "duration": 10,
    "start_time": "2022-11-17T09:45:01.156Z"
   },
   {
    "duration": 1270,
    "start_time": "2022-11-17T09:46:42.342Z"
   },
   {
    "duration": 24,
    "start_time": "2022-11-17T09:46:43.614Z"
   },
   {
    "duration": 12,
    "start_time": "2022-11-17T09:46:43.639Z"
   },
   {
    "duration": 11,
    "start_time": "2022-11-17T09:46:43.653Z"
   },
   {
    "duration": 10,
    "start_time": "2022-11-17T09:46:43.666Z"
   },
   {
    "duration": 10,
    "start_time": "2022-11-17T09:46:43.678Z"
   },
   {
    "duration": 10,
    "start_time": "2022-11-17T09:46:43.689Z"
   },
   {
    "duration": 83,
    "start_time": "2022-11-17T09:46:43.701Z"
   },
   {
    "duration": 10,
    "start_time": "2022-11-17T09:46:43.785Z"
   },
   {
    "duration": 19,
    "start_time": "2022-11-17T09:46:43.797Z"
   },
   {
    "duration": 35,
    "start_time": "2022-11-17T09:46:43.818Z"
   },
   {
    "duration": 25,
    "start_time": "2022-11-17T09:46:43.855Z"
   },
   {
    "duration": 13,
    "start_time": "2022-11-17T09:46:43.882Z"
   },
   {
    "duration": 641,
    "start_time": "2022-11-17T09:46:43.898Z"
   },
   {
    "duration": 10,
    "start_time": "2022-11-17T09:46:44.541Z"
   },
   {
    "duration": 56,
    "start_time": "2022-11-17T09:46:44.553Z"
   },
   {
    "duration": 13,
    "start_time": "2022-11-17T09:46:44.611Z"
   },
   {
    "duration": 218,
    "start_time": "2022-11-17T09:46:44.626Z"
   },
   {
    "duration": 59,
    "start_time": "2022-11-17T09:46:44.846Z"
   },
   {
    "duration": 28,
    "start_time": "2022-11-17T09:46:44.907Z"
   },
   {
    "duration": 123,
    "start_time": "2022-11-17T09:46:44.936Z"
   },
   {
    "duration": 32,
    "start_time": "2022-11-17T09:46:45.061Z"
   },
   {
    "duration": 9,
    "start_time": "2022-11-17T09:46:45.095Z"
   },
   {
    "duration": 14,
    "start_time": "2022-11-17T09:46:45.106Z"
   },
   {
    "duration": 19,
    "start_time": "2022-11-17T09:46:45.121Z"
   },
   {
    "duration": 5,
    "start_time": "2022-11-17T09:46:45.141Z"
   },
   {
    "duration": 6,
    "start_time": "2022-11-17T09:46:45.148Z"
   },
   {
    "duration": 10,
    "start_time": "2022-11-17T09:46:45.178Z"
   },
   {
    "duration": 52,
    "start_time": "2022-11-17T09:46:45.190Z"
   },
   {
    "duration": 10,
    "start_time": "2022-11-17T09:46:45.244Z"
   },
   {
    "duration": 26,
    "start_time": "2022-11-17T09:46:45.256Z"
   },
   {
    "duration": 9,
    "start_time": "2022-11-17T09:46:45.284Z"
   },
   {
    "duration": 16,
    "start_time": "2022-11-17T09:46:45.295Z"
   },
   {
    "duration": 203,
    "start_time": "2022-11-17T09:46:45.313Z"
   },
   {
    "duration": 29,
    "start_time": "2022-11-17T09:46:45.518Z"
   },
   {
    "duration": 30,
    "start_time": "2022-11-17T09:46:45.549Z"
   },
   {
    "duration": 15,
    "start_time": "2022-11-17T09:46:45.581Z"
   },
   {
    "duration": 11,
    "start_time": "2022-11-17T09:46:45.598Z"
   },
   {
    "duration": 8,
    "start_time": "2022-11-17T09:46:45.611Z"
   },
   {
    "duration": 15,
    "start_time": "2022-11-17T09:46:45.620Z"
   },
   {
    "duration": 15,
    "start_time": "2022-11-17T09:46:45.678Z"
   },
   {
    "duration": 130,
    "start_time": "2022-11-17T09:46:45.695Z"
   },
   {
    "duration": 71,
    "start_time": "2022-11-17T09:46:45.826Z"
   },
   {
    "duration": 6,
    "start_time": "2022-11-17T09:46:45.898Z"
   },
   {
    "duration": 12,
    "start_time": "2022-11-17T09:46:45.906Z"
   },
   {
    "duration": 19,
    "start_time": "2022-11-17T09:46:45.920Z"
   },
   {
    "duration": 3,
    "start_time": "2022-11-17T09:46:45.941Z"
   },
   {
    "duration": 49,
    "start_time": "2022-11-17T09:46:45.946Z"
   },
   {
    "duration": 7,
    "start_time": "2022-11-17T09:46:45.997Z"
   },
   {
    "duration": 10,
    "start_time": "2022-11-17T09:46:46.005Z"
   },
   {
    "duration": 16,
    "start_time": "2022-11-17T09:46:46.017Z"
   },
   {
    "duration": 417,
    "start_time": "2022-11-17T09:46:46.035Z"
   },
   {
    "duration": 545,
    "start_time": "2022-11-17T09:46:46.454Z"
   },
   {
    "duration": 19,
    "start_time": "2022-11-17T09:46:47.001Z"
   },
   {
    "duration": 8,
    "start_time": "2022-11-17T09:46:47.022Z"
   },
   {
    "duration": 41,
    "start_time": "2022-11-17T09:46:47.031Z"
   },
   {
    "duration": 13,
    "start_time": "2022-11-17T09:46:47.078Z"
   },
   {
    "duration": 132,
    "start_time": "2022-11-17T09:46:47.093Z"
   },
   {
    "duration": 0,
    "start_time": "2022-11-17T09:46:47.227Z"
   },
   {
    "duration": 0,
    "start_time": "2022-11-17T09:46:47.228Z"
   },
   {
    "duration": 0,
    "start_time": "2022-11-17T09:46:47.230Z"
   },
   {
    "duration": 0,
    "start_time": "2022-11-17T09:46:47.231Z"
   },
   {
    "duration": 0,
    "start_time": "2022-11-17T09:46:47.232Z"
   },
   {
    "duration": 0,
    "start_time": "2022-11-17T09:46:47.234Z"
   },
   {
    "duration": 0,
    "start_time": "2022-11-17T09:46:47.235Z"
   },
   {
    "duration": 0,
    "start_time": "2022-11-17T09:46:47.237Z"
   },
   {
    "duration": 0,
    "start_time": "2022-11-17T09:46:47.239Z"
   },
   {
    "duration": 0,
    "start_time": "2022-11-17T09:46:47.240Z"
   },
   {
    "duration": 0,
    "start_time": "2022-11-17T09:46:47.241Z"
   },
   {
    "duration": 0,
    "start_time": "2022-11-17T09:46:47.242Z"
   },
   {
    "duration": 0,
    "start_time": "2022-11-17T09:46:47.244Z"
   },
   {
    "duration": 0,
    "start_time": "2022-11-17T09:46:47.245Z"
   },
   {
    "duration": 0,
    "start_time": "2022-11-17T09:46:47.247Z"
   },
   {
    "duration": 0,
    "start_time": "2022-11-17T09:46:47.278Z"
   },
   {
    "duration": 0,
    "start_time": "2022-11-17T09:46:47.279Z"
   },
   {
    "duration": 0,
    "start_time": "2022-11-17T09:46:47.280Z"
   },
   {
    "duration": 0,
    "start_time": "2022-11-17T09:46:47.281Z"
   },
   {
    "duration": 0,
    "start_time": "2022-11-17T09:46:47.283Z"
   },
   {
    "duration": 0,
    "start_time": "2022-11-17T09:46:47.284Z"
   },
   {
    "duration": 0,
    "start_time": "2022-11-17T09:46:47.285Z"
   },
   {
    "duration": 0,
    "start_time": "2022-11-17T09:46:47.286Z"
   },
   {
    "duration": 0,
    "start_time": "2022-11-17T09:46:47.288Z"
   },
   {
    "duration": 0,
    "start_time": "2022-11-17T09:46:47.289Z"
   },
   {
    "duration": 0,
    "start_time": "2022-11-17T09:46:47.290Z"
   },
   {
    "duration": 0,
    "start_time": "2022-11-17T09:46:47.292Z"
   },
   {
    "duration": 0,
    "start_time": "2022-11-17T09:46:47.293Z"
   },
   {
    "duration": 39,
    "start_time": "2022-11-17T09:48:43.960Z"
   },
   {
    "duration": 4,
    "start_time": "2022-11-17T09:50:35.690Z"
   },
   {
    "duration": 31,
    "start_time": "2022-11-17T09:50:36.707Z"
   },
   {
    "duration": 150,
    "start_time": "2022-11-17T09:50:41.015Z"
   },
   {
    "duration": 1310,
    "start_time": "2022-11-17T09:57:51.444Z"
   },
   {
    "duration": 25,
    "start_time": "2022-11-17T09:57:52.757Z"
   },
   {
    "duration": 17,
    "start_time": "2022-11-17T09:57:52.785Z"
   },
   {
    "duration": 28,
    "start_time": "2022-11-17T09:57:52.804Z"
   },
   {
    "duration": 11,
    "start_time": "2022-11-17T09:57:52.835Z"
   },
   {
    "duration": 22,
    "start_time": "2022-11-17T09:57:52.848Z"
   },
   {
    "duration": 16,
    "start_time": "2022-11-17T09:57:52.872Z"
   },
   {
    "duration": 94,
    "start_time": "2022-11-17T09:57:52.889Z"
   },
   {
    "duration": 10,
    "start_time": "2022-11-17T09:57:52.985Z"
   },
   {
    "duration": 32,
    "start_time": "2022-11-17T09:57:52.998Z"
   },
   {
    "duration": 57,
    "start_time": "2022-11-17T09:57:53.033Z"
   },
   {
    "duration": 7,
    "start_time": "2022-11-17T09:57:53.092Z"
   },
   {
    "duration": 10,
    "start_time": "2022-11-17T09:57:53.101Z"
   },
   {
    "duration": 607,
    "start_time": "2022-11-17T09:57:53.114Z"
   },
   {
    "duration": 9,
    "start_time": "2022-11-17T09:57:53.723Z"
   },
   {
    "duration": 60,
    "start_time": "2022-11-17T09:57:53.734Z"
   },
   {
    "duration": 11,
    "start_time": "2022-11-17T09:57:53.796Z"
   },
   {
    "duration": 255,
    "start_time": "2022-11-17T09:57:53.809Z"
   },
   {
    "duration": 65,
    "start_time": "2022-11-17T09:57:54.067Z"
   },
   {
    "duration": 51,
    "start_time": "2022-11-17T09:57:54.134Z"
   },
   {
    "duration": 120,
    "start_time": "2022-11-17T09:57:54.187Z"
   },
   {
    "duration": 35,
    "start_time": "2022-11-17T09:57:54.309Z"
   },
   {
    "duration": 9,
    "start_time": "2022-11-17T09:57:54.346Z"
   },
   {
    "duration": 37,
    "start_time": "2022-11-17T09:57:54.356Z"
   },
   {
    "duration": 43,
    "start_time": "2022-11-17T09:57:54.395Z"
   },
   {
    "duration": 21,
    "start_time": "2022-11-17T09:57:54.439Z"
   },
   {
    "duration": 93,
    "start_time": "2022-11-17T09:57:54.462Z"
   },
   {
    "duration": 31,
    "start_time": "2022-11-17T09:57:54.558Z"
   },
   {
    "duration": 105,
    "start_time": "2022-11-17T09:57:54.591Z"
   },
   {
    "duration": 10,
    "start_time": "2022-11-17T09:57:54.698Z"
   },
   {
    "duration": 72,
    "start_time": "2022-11-17T09:57:54.710Z"
   },
   {
    "duration": 43,
    "start_time": "2022-11-17T09:57:54.784Z"
   },
   {
    "duration": 40,
    "start_time": "2022-11-17T09:57:54.829Z"
   },
   {
    "duration": 217,
    "start_time": "2022-11-17T09:57:54.870Z"
   },
   {
    "duration": 22,
    "start_time": "2022-11-17T09:57:55.089Z"
   },
   {
    "duration": 14,
    "start_time": "2022-11-17T09:57:55.113Z"
   },
   {
    "duration": 25,
    "start_time": "2022-11-17T09:57:55.131Z"
   },
   {
    "duration": 31,
    "start_time": "2022-11-17T09:57:55.157Z"
   },
   {
    "duration": 17,
    "start_time": "2022-11-17T09:57:55.190Z"
   },
   {
    "duration": 18,
    "start_time": "2022-11-17T09:57:55.209Z"
   },
   {
    "duration": 24,
    "start_time": "2022-11-17T09:57:55.233Z"
   },
   {
    "duration": 147,
    "start_time": "2022-11-17T09:57:55.258Z"
   },
   {
    "duration": 58,
    "start_time": "2022-11-17T09:57:55.407Z"
   },
   {
    "duration": 16,
    "start_time": "2022-11-17T09:57:55.467Z"
   },
   {
    "duration": 12,
    "start_time": "2022-11-17T09:57:55.490Z"
   },
   {
    "duration": 20,
    "start_time": "2022-11-17T09:57:55.504Z"
   },
   {
    "duration": 5,
    "start_time": "2022-11-17T09:57:55.525Z"
   },
   {
    "duration": 22,
    "start_time": "2022-11-17T09:57:55.531Z"
   },
   {
    "duration": 27,
    "start_time": "2022-11-17T09:57:55.554Z"
   },
   {
    "duration": 22,
    "start_time": "2022-11-17T09:57:55.583Z"
   },
   {
    "duration": 15,
    "start_time": "2022-11-17T09:57:55.607Z"
   },
   {
    "duration": 382,
    "start_time": "2022-11-17T09:57:55.624Z"
   },
   {
    "duration": 554,
    "start_time": "2022-11-17T09:57:56.008Z"
   },
   {
    "duration": 27,
    "start_time": "2022-11-17T09:57:56.564Z"
   },
   {
    "duration": 24,
    "start_time": "2022-11-17T09:57:56.593Z"
   },
   {
    "duration": 28,
    "start_time": "2022-11-17T09:57:56.619Z"
   },
   {
    "duration": 15,
    "start_time": "2022-11-17T09:57:56.655Z"
   },
   {
    "duration": 6,
    "start_time": "2022-11-17T09:57:56.672Z"
   },
   {
    "duration": 36,
    "start_time": "2022-11-17T09:57:56.679Z"
   },
   {
    "duration": 172,
    "start_time": "2022-11-17T09:57:56.717Z"
   },
   {
    "duration": 17,
    "start_time": "2022-11-17T09:57:56.891Z"
   },
   {
    "duration": 11,
    "start_time": "2022-11-17T09:57:56.910Z"
   },
   {
    "duration": 60,
    "start_time": "2022-11-17T09:57:56.923Z"
   },
   {
    "duration": 31,
    "start_time": "2022-11-17T09:57:56.985Z"
   },
   {
    "duration": 12,
    "start_time": "2022-11-17T09:57:57.018Z"
   },
   {
    "duration": 174,
    "start_time": "2022-11-17T09:57:57.079Z"
   },
   {
    "duration": 104,
    "start_time": "2022-11-17T09:57:57.255Z"
   },
   {
    "duration": 28,
    "start_time": "2022-11-17T09:57:57.361Z"
   },
   {
    "duration": 6,
    "start_time": "2022-11-17T09:57:57.391Z"
   },
   {
    "duration": 7,
    "start_time": "2022-11-17T09:57:57.399Z"
   },
   {
    "duration": 205,
    "start_time": "2022-11-17T09:57:57.408Z"
   },
   {
    "duration": 212,
    "start_time": "2022-11-17T09:57:57.615Z"
   },
   {
    "duration": 14,
    "start_time": "2022-11-17T09:57:57.829Z"
   },
   {
    "duration": 339,
    "start_time": "2022-11-17T09:57:57.845Z"
   },
   {
    "duration": 4,
    "start_time": "2022-11-17T09:57:58.186Z"
   },
   {
    "duration": 15,
    "start_time": "2022-11-17T09:57:58.192Z"
   },
   {
    "duration": 222,
    "start_time": "2022-11-17T09:57:58.209Z"
   },
   {
    "duration": 373,
    "start_time": "2022-11-17T09:57:58.432Z"
   },
   {
    "duration": 13,
    "start_time": "2022-11-17T09:57:58.808Z"
   },
   {
    "duration": 222,
    "start_time": "2022-11-17T09:57:58.823Z"
   },
   {
    "duration": 6,
    "start_time": "2022-11-17T09:57:59.047Z"
   },
   {
    "duration": 241,
    "start_time": "2022-11-17T09:57:59.054Z"
   },
   {
    "duration": 4,
    "start_time": "2022-11-17T09:57:59.297Z"
   },
   {
    "duration": 243,
    "start_time": "2022-11-17T09:57:59.303Z"
   },
   {
    "duration": 8,
    "start_time": "2022-11-17T09:57:59.548Z"
   },
   {
    "duration": 31,
    "start_time": "2022-11-17T09:57:59.558Z"
   },
   {
    "duration": 26,
    "start_time": "2022-11-17T09:57:59.591Z"
   },
   {
    "duration": 121,
    "start_time": "2022-11-17T09:57:59.619Z"
   },
   {
    "duration": 13,
    "start_time": "2022-11-17T10:03:38.511Z"
   },
   {
    "duration": 1239,
    "start_time": "2022-11-17T10:04:16.074Z"
   },
   {
    "duration": 24,
    "start_time": "2022-11-17T10:04:17.315Z"
   },
   {
    "duration": 11,
    "start_time": "2022-11-17T10:04:17.341Z"
   },
   {
    "duration": 11,
    "start_time": "2022-11-17T10:04:17.354Z"
   },
   {
    "duration": 11,
    "start_time": "2022-11-17T10:04:17.367Z"
   },
   {
    "duration": 5,
    "start_time": "2022-11-17T10:04:17.380Z"
   },
   {
    "duration": 6,
    "start_time": "2022-11-17T10:04:17.387Z"
   },
   {
    "duration": 84,
    "start_time": "2022-11-17T10:04:17.395Z"
   },
   {
    "duration": 8,
    "start_time": "2022-11-17T10:04:17.481Z"
   },
   {
    "duration": 21,
    "start_time": "2022-11-17T10:04:17.492Z"
   },
   {
    "duration": 37,
    "start_time": "2022-11-17T10:04:17.515Z"
   },
   {
    "duration": 25,
    "start_time": "2022-11-17T10:04:17.554Z"
   },
   {
    "duration": 7,
    "start_time": "2022-11-17T10:04:17.581Z"
   },
   {
    "duration": 603,
    "start_time": "2022-11-17T10:04:17.589Z"
   },
   {
    "duration": 10,
    "start_time": "2022-11-17T10:04:18.194Z"
   },
   {
    "duration": 66,
    "start_time": "2022-11-17T10:04:18.205Z"
   },
   {
    "duration": 13,
    "start_time": "2022-11-17T10:04:18.273Z"
   },
   {
    "duration": 214,
    "start_time": "2022-11-17T10:04:18.288Z"
   },
   {
    "duration": 46,
    "start_time": "2022-11-17T10:04:18.504Z"
   },
   {
    "duration": 41,
    "start_time": "2022-11-17T10:04:18.553Z"
   },
   {
    "duration": 107,
    "start_time": "2022-11-17T10:04:18.596Z"
   },
   {
    "duration": 34,
    "start_time": "2022-11-17T10:04:18.705Z"
   },
   {
    "duration": 7,
    "start_time": "2022-11-17T10:04:18.741Z"
   },
   {
    "duration": 19,
    "start_time": "2022-11-17T10:04:18.750Z"
   },
   {
    "duration": 14,
    "start_time": "2022-11-17T10:04:18.771Z"
   },
   {
    "duration": 5,
    "start_time": "2022-11-17T10:04:18.786Z"
   },
   {
    "duration": 7,
    "start_time": "2022-11-17T10:04:18.792Z"
   },
   {
    "duration": 10,
    "start_time": "2022-11-17T10:04:18.803Z"
   },
   {
    "duration": 69,
    "start_time": "2022-11-17T10:04:18.814Z"
   },
   {
    "duration": 9,
    "start_time": "2022-11-17T10:04:18.885Z"
   },
   {
    "duration": 9,
    "start_time": "2022-11-17T10:04:18.896Z"
   },
   {
    "duration": 8,
    "start_time": "2022-11-17T10:04:18.907Z"
   },
   {
    "duration": 8,
    "start_time": "2022-11-17T10:04:18.916Z"
   },
   {
    "duration": 224,
    "start_time": "2022-11-17T10:04:18.925Z"
   },
   {
    "duration": 36,
    "start_time": "2022-11-17T10:04:19.151Z"
   },
   {
    "duration": 12,
    "start_time": "2022-11-17T10:04:19.189Z"
   },
   {
    "duration": 17,
    "start_time": "2022-11-17T10:04:19.203Z"
   },
   {
    "duration": 10,
    "start_time": "2022-11-17T10:04:19.221Z"
   },
   {
    "duration": 9,
    "start_time": "2022-11-17T10:04:19.233Z"
   },
   {
    "duration": 48,
    "start_time": "2022-11-17T10:04:19.244Z"
   },
   {
    "duration": 17,
    "start_time": "2022-11-17T10:04:19.294Z"
   },
   {
    "duration": 149,
    "start_time": "2022-11-17T10:04:19.314Z"
   },
   {
    "duration": 66,
    "start_time": "2022-11-17T10:04:19.464Z"
   },
   {
    "duration": 6,
    "start_time": "2022-11-17T10:04:19.532Z"
   },
   {
    "duration": 10,
    "start_time": "2022-11-17T10:04:19.540Z"
   },
   {
    "duration": 34,
    "start_time": "2022-11-17T10:04:19.551Z"
   },
   {
    "duration": 3,
    "start_time": "2022-11-17T10:04:19.587Z"
   },
   {
    "duration": 23,
    "start_time": "2022-11-17T10:04:19.592Z"
   },
   {
    "duration": 6,
    "start_time": "2022-11-17T10:04:19.616Z"
   },
   {
    "duration": 9,
    "start_time": "2022-11-17T10:04:19.624Z"
   },
   {
    "duration": 43,
    "start_time": "2022-11-17T10:04:19.635Z"
   },
   {
    "duration": 390,
    "start_time": "2022-11-17T10:04:19.680Z"
   },
   {
    "duration": 590,
    "start_time": "2022-11-17T10:04:20.071Z"
   },
   {
    "duration": 32,
    "start_time": "2022-11-17T10:04:20.663Z"
   },
   {
    "duration": 9,
    "start_time": "2022-11-17T10:04:20.697Z"
   },
   {
    "duration": 26,
    "start_time": "2022-11-17T10:04:20.707Z"
   },
   {
    "duration": 14,
    "start_time": "2022-11-17T10:04:20.734Z"
   },
   {
    "duration": 5,
    "start_time": "2022-11-17T10:04:20.749Z"
   },
   {
    "duration": 36,
    "start_time": "2022-11-17T10:04:20.779Z"
   },
   {
    "duration": 210,
    "start_time": "2022-11-17T10:04:20.816Z"
   },
   {
    "duration": 18,
    "start_time": "2022-11-17T10:04:21.027Z"
   },
   {
    "duration": 13,
    "start_time": "2022-11-17T10:04:21.047Z"
   },
   {
    "duration": 33,
    "start_time": "2022-11-17T10:04:21.062Z"
   },
   {
    "duration": 211,
    "start_time": "2022-11-17T10:04:21.098Z"
   },
   {
    "duration": 12,
    "start_time": "2022-11-17T10:04:21.311Z"
   },
   {
    "duration": 189,
    "start_time": "2022-11-17T10:04:21.325Z"
   },
   {
    "duration": 118,
    "start_time": "2022-11-17T10:04:21.516Z"
   },
   {
    "duration": 14,
    "start_time": "2022-11-17T10:04:21.635Z"
   },
   {
    "duration": 29,
    "start_time": "2022-11-17T10:04:21.651Z"
   },
   {
    "duration": 21,
    "start_time": "2022-11-17T10:04:21.683Z"
   },
   {
    "duration": 214,
    "start_time": "2022-11-17T10:04:21.706Z"
   },
   {
    "duration": 212,
    "start_time": "2022-11-17T10:04:21.922Z"
   },
   {
    "duration": 14,
    "start_time": "2022-11-17T10:04:22.136Z"
   },
   {
    "duration": 326,
    "start_time": "2022-11-17T10:04:22.152Z"
   },
   {
    "duration": 4,
    "start_time": "2022-11-17T10:04:22.480Z"
   },
   {
    "duration": 9,
    "start_time": "2022-11-17T10:04:22.486Z"
   },
   {
    "duration": 228,
    "start_time": "2022-11-17T10:04:22.497Z"
   },
   {
    "duration": 322,
    "start_time": "2022-11-17T10:04:22.727Z"
   },
   {
    "duration": 28,
    "start_time": "2022-11-17T10:04:23.051Z"
   },
   {
    "duration": 221,
    "start_time": "2022-11-17T10:04:23.081Z"
   },
   {
    "duration": 6,
    "start_time": "2022-11-17T10:04:23.304Z"
   },
   {
    "duration": 244,
    "start_time": "2022-11-17T10:04:23.316Z"
   },
   {
    "duration": 15,
    "start_time": "2022-11-17T10:04:23.562Z"
   },
   {
    "duration": 11,
    "start_time": "2022-11-17T10:04:23.579Z"
   },
   {
    "duration": 21,
    "start_time": "2022-11-17T10:04:23.591Z"
   },
   {
    "duration": 28,
    "start_time": "2022-11-17T10:04:23.613Z"
   },
   {
    "duration": 40,
    "start_time": "2022-11-17T10:04:23.643Z"
   },
   {
    "duration": 79,
    "start_time": "2022-11-17T10:09:22.860Z"
   },
   {
    "duration": 78,
    "start_time": "2022-11-17T10:09:40.688Z"
   },
   {
    "duration": 1264,
    "start_time": "2022-11-17T10:09:59.070Z"
   },
   {
    "duration": 26,
    "start_time": "2022-11-17T10:10:00.336Z"
   },
   {
    "duration": 13,
    "start_time": "2022-11-17T10:10:00.364Z"
   },
   {
    "duration": 26,
    "start_time": "2022-11-17T10:10:00.379Z"
   },
   {
    "duration": 23,
    "start_time": "2022-11-17T10:10:00.408Z"
   },
   {
    "duration": 24,
    "start_time": "2022-11-17T10:10:00.432Z"
   },
   {
    "duration": 19,
    "start_time": "2022-11-17T10:10:00.457Z"
   },
   {
    "duration": 85,
    "start_time": "2022-11-17T10:10:00.478Z"
   },
   {
    "duration": 9,
    "start_time": "2022-11-17T10:10:00.565Z"
   },
   {
    "duration": 29,
    "start_time": "2022-11-17T10:10:00.576Z"
   },
   {
    "duration": 51,
    "start_time": "2022-11-17T10:10:00.607Z"
   },
   {
    "duration": 7,
    "start_time": "2022-11-17T10:10:00.660Z"
   },
   {
    "duration": 30,
    "start_time": "2022-11-17T10:10:00.669Z"
   },
   {
    "duration": 616,
    "start_time": "2022-11-17T10:10:00.702Z"
   },
   {
    "duration": 10,
    "start_time": "2022-11-17T10:10:01.320Z"
   },
   {
    "duration": 61,
    "start_time": "2022-11-17T10:10:01.332Z"
   },
   {
    "duration": 231,
    "start_time": "2022-11-17T10:10:01.395Z"
   },
   {
    "duration": 51,
    "start_time": "2022-11-17T10:10:01.628Z"
   },
   {
    "duration": 37,
    "start_time": "2022-11-17T10:10:01.681Z"
   },
   {
    "duration": 124,
    "start_time": "2022-11-17T10:10:01.720Z"
   },
   {
    "duration": 35,
    "start_time": "2022-11-17T10:10:01.845Z"
   },
   {
    "duration": 10,
    "start_time": "2022-11-17T10:10:01.881Z"
   },
   {
    "duration": 21,
    "start_time": "2022-11-17T10:10:01.892Z"
   },
   {
    "duration": 24,
    "start_time": "2022-11-17T10:10:01.915Z"
   },
   {
    "duration": 13,
    "start_time": "2022-11-17T10:10:01.940Z"
   },
   {
    "duration": 16,
    "start_time": "2022-11-17T10:10:01.954Z"
   },
   {
    "duration": 13,
    "start_time": "2022-11-17T10:10:01.971Z"
   },
   {
    "duration": 66,
    "start_time": "2022-11-17T10:10:01.985Z"
   },
   {
    "duration": 10,
    "start_time": "2022-11-17T10:10:02.052Z"
   },
   {
    "duration": 12,
    "start_time": "2022-11-17T10:10:02.063Z"
   },
   {
    "duration": 17,
    "start_time": "2022-11-17T10:10:02.076Z"
   },
   {
    "duration": 9,
    "start_time": "2022-11-17T10:10:02.095Z"
   },
   {
    "duration": 168,
    "start_time": "2022-11-17T10:10:02.106Z"
   },
   {
    "duration": 19,
    "start_time": "2022-11-17T10:10:02.278Z"
   },
   {
    "duration": 11,
    "start_time": "2022-11-17T10:10:02.299Z"
   },
   {
    "duration": 23,
    "start_time": "2022-11-17T10:10:02.312Z"
   },
   {
    "duration": 73,
    "start_time": "2022-11-17T10:10:02.337Z"
   },
   {
    "duration": 0,
    "start_time": "2022-11-17T10:10:02.413Z"
   },
   {
    "duration": 0,
    "start_time": "2022-11-17T10:10:02.415Z"
   },
   {
    "duration": 0,
    "start_time": "2022-11-17T10:10:02.417Z"
   },
   {
    "duration": 0,
    "start_time": "2022-11-17T10:10:02.418Z"
   },
   {
    "duration": 0,
    "start_time": "2022-11-17T10:10:02.420Z"
   },
   {
    "duration": 0,
    "start_time": "2022-11-17T10:10:02.421Z"
   },
   {
    "duration": 0,
    "start_time": "2022-11-17T10:10:02.423Z"
   },
   {
    "duration": 1,
    "start_time": "2022-11-17T10:10:02.424Z"
   },
   {
    "duration": 0,
    "start_time": "2022-11-17T10:10:02.426Z"
   },
   {
    "duration": 0,
    "start_time": "2022-11-17T10:10:02.428Z"
   },
   {
    "duration": 0,
    "start_time": "2022-11-17T10:10:02.430Z"
   },
   {
    "duration": 0,
    "start_time": "2022-11-17T10:10:02.431Z"
   },
   {
    "duration": 0,
    "start_time": "2022-11-17T10:10:02.433Z"
   },
   {
    "duration": 0,
    "start_time": "2022-11-17T10:10:02.434Z"
   },
   {
    "duration": 0,
    "start_time": "2022-11-17T10:10:02.436Z"
   },
   {
    "duration": 0,
    "start_time": "2022-11-17T10:10:02.437Z"
   },
   {
    "duration": 0,
    "start_time": "2022-11-17T10:10:02.439Z"
   },
   {
    "duration": 0,
    "start_time": "2022-11-17T10:10:02.441Z"
   },
   {
    "duration": 0,
    "start_time": "2022-11-17T10:10:02.442Z"
   },
   {
    "duration": 0,
    "start_time": "2022-11-17T10:10:02.444Z"
   },
   {
    "duration": 0,
    "start_time": "2022-11-17T10:10:02.445Z"
   },
   {
    "duration": 0,
    "start_time": "2022-11-17T10:10:02.447Z"
   },
   {
    "duration": 0,
    "start_time": "2022-11-17T10:10:02.448Z"
   },
   {
    "duration": 0,
    "start_time": "2022-11-17T10:10:02.478Z"
   },
   {
    "duration": 0,
    "start_time": "2022-11-17T10:10:02.479Z"
   },
   {
    "duration": 0,
    "start_time": "2022-11-17T10:10:02.481Z"
   },
   {
    "duration": 0,
    "start_time": "2022-11-17T10:10:02.482Z"
   },
   {
    "duration": 0,
    "start_time": "2022-11-17T10:10:02.483Z"
   },
   {
    "duration": 0,
    "start_time": "2022-11-17T10:10:02.484Z"
   },
   {
    "duration": 0,
    "start_time": "2022-11-17T10:10:02.485Z"
   },
   {
    "duration": 0,
    "start_time": "2022-11-17T10:10:02.486Z"
   },
   {
    "duration": 0,
    "start_time": "2022-11-17T10:10:02.487Z"
   },
   {
    "duration": 0,
    "start_time": "2022-11-17T10:10:02.488Z"
   },
   {
    "duration": 0,
    "start_time": "2022-11-17T10:10:02.490Z"
   },
   {
    "duration": 0,
    "start_time": "2022-11-17T10:10:02.490Z"
   },
   {
    "duration": 0,
    "start_time": "2022-11-17T10:10:02.492Z"
   },
   {
    "duration": 0,
    "start_time": "2022-11-17T10:10:02.493Z"
   },
   {
    "duration": 0,
    "start_time": "2022-11-17T10:10:02.494Z"
   },
   {
    "duration": 0,
    "start_time": "2022-11-17T10:10:02.495Z"
   },
   {
    "duration": 0,
    "start_time": "2022-11-17T10:10:02.496Z"
   },
   {
    "duration": 0,
    "start_time": "2022-11-17T10:10:02.497Z"
   },
   {
    "duration": 0,
    "start_time": "2022-11-17T10:10:02.499Z"
   },
   {
    "duration": 0,
    "start_time": "2022-11-17T10:10:02.499Z"
   },
   {
    "duration": 0,
    "start_time": "2022-11-17T10:10:02.500Z"
   },
   {
    "duration": 0,
    "start_time": "2022-11-17T10:10:02.501Z"
   },
   {
    "duration": 0,
    "start_time": "2022-11-17T10:10:02.502Z"
   },
   {
    "duration": 0,
    "start_time": "2022-11-17T10:10:02.504Z"
   },
   {
    "duration": 0,
    "start_time": "2022-11-17T10:10:02.505Z"
   },
   {
    "duration": 0,
    "start_time": "2022-11-17T10:10:02.506Z"
   },
   {
    "duration": 0,
    "start_time": "2022-11-17T10:10:02.507Z"
   },
   {
    "duration": 69,
    "start_time": "2022-11-17T10:11:50.613Z"
   },
   {
    "duration": 20,
    "start_time": "2022-11-17T10:12:04.728Z"
   },
   {
    "duration": 29,
    "start_time": "2022-11-17T10:13:01.202Z"
   },
   {
    "duration": 7,
    "start_time": "2022-11-17T10:15:33.566Z"
   },
   {
    "duration": 10,
    "start_time": "2022-11-17T10:15:34.273Z"
   },
   {
    "duration": 1703,
    "start_time": "2022-11-17T10:15:57.711Z"
   },
   {
    "duration": 24,
    "start_time": "2022-11-17T10:15:59.416Z"
   },
   {
    "duration": 13,
    "start_time": "2022-11-17T10:15:59.442Z"
   },
   {
    "duration": 12,
    "start_time": "2022-11-17T10:15:59.457Z"
   },
   {
    "duration": 9,
    "start_time": "2022-11-17T10:15:59.472Z"
   },
   {
    "duration": 6,
    "start_time": "2022-11-17T10:15:59.483Z"
   },
   {
    "duration": 5,
    "start_time": "2022-11-17T10:15:59.491Z"
   },
   {
    "duration": 89,
    "start_time": "2022-11-17T10:15:59.498Z"
   },
   {
    "duration": 9,
    "start_time": "2022-11-17T10:15:59.589Z"
   },
   {
    "duration": 19,
    "start_time": "2022-11-17T10:15:59.599Z"
   },
   {
    "duration": 36,
    "start_time": "2022-11-17T10:15:59.619Z"
   },
   {
    "duration": 8,
    "start_time": "2022-11-17T10:15:59.677Z"
   },
   {
    "duration": 11,
    "start_time": "2022-11-17T10:15:59.686Z"
   },
   {
    "duration": 591,
    "start_time": "2022-11-17T10:15:59.700Z"
   },
   {
    "duration": 10,
    "start_time": "2022-11-17T10:16:00.293Z"
   },
   {
    "duration": 59,
    "start_time": "2022-11-17T10:16:00.305Z"
   },
   {
    "duration": 225,
    "start_time": "2022-11-17T10:16:00.366Z"
   },
   {
    "duration": 45,
    "start_time": "2022-11-17T10:16:00.594Z"
   },
   {
    "duration": 45,
    "start_time": "2022-11-17T10:16:00.641Z"
   },
   {
    "duration": 108,
    "start_time": "2022-11-17T10:16:00.688Z"
   },
   {
    "duration": 34,
    "start_time": "2022-11-17T10:16:00.798Z"
   },
   {
    "duration": 9,
    "start_time": "2022-11-17T10:16:00.834Z"
   },
   {
    "duration": 41,
    "start_time": "2022-11-17T10:16:00.844Z"
   },
   {
    "duration": 64,
    "start_time": "2022-11-17T10:16:00.886Z"
   },
   {
    "duration": 56,
    "start_time": "2022-11-17T10:16:00.951Z"
   },
   {
    "duration": 44,
    "start_time": "2022-11-17T10:16:01.009Z"
   },
   {
    "duration": 27,
    "start_time": "2022-11-17T10:16:01.056Z"
   },
   {
    "duration": 74,
    "start_time": "2022-11-17T10:16:01.085Z"
   },
   {
    "duration": 9,
    "start_time": "2022-11-17T10:16:01.161Z"
   },
   {
    "duration": 15,
    "start_time": "2022-11-17T10:16:01.172Z"
   },
   {
    "duration": 10,
    "start_time": "2022-11-17T10:16:01.189Z"
   },
   {
    "duration": 12,
    "start_time": "2022-11-17T10:16:01.201Z"
   },
   {
    "duration": 200,
    "start_time": "2022-11-17T10:16:01.215Z"
   },
   {
    "duration": 24,
    "start_time": "2022-11-17T10:16:01.417Z"
   },
   {
    "duration": 14,
    "start_time": "2022-11-17T10:16:01.443Z"
   },
   {
    "duration": 15,
    "start_time": "2022-11-17T10:16:01.478Z"
   },
   {
    "duration": 39,
    "start_time": "2022-11-17T10:16:01.495Z"
   },
   {
    "duration": 8,
    "start_time": "2022-11-17T10:16:01.536Z"
   },
   {
    "duration": 38,
    "start_time": "2022-11-17T10:16:01.546Z"
   },
   {
    "duration": 19,
    "start_time": "2022-11-17T10:16:01.586Z"
   },
   {
    "duration": 165,
    "start_time": "2022-11-17T10:16:01.613Z"
   },
   {
    "duration": 62,
    "start_time": "2022-11-17T10:16:01.780Z"
   },
   {
    "duration": 6,
    "start_time": "2022-11-17T10:16:01.844Z"
   },
   {
    "duration": 27,
    "start_time": "2022-11-17T10:16:01.851Z"
   },
   {
    "duration": 21,
    "start_time": "2022-11-17T10:16:01.880Z"
   },
   {
    "duration": 5,
    "start_time": "2022-11-17T10:16:01.916Z"
   },
   {
    "duration": 36,
    "start_time": "2022-11-17T10:16:01.923Z"
   },
   {
    "duration": 8,
    "start_time": "2022-11-17T10:16:01.961Z"
   },
   {
    "duration": 37,
    "start_time": "2022-11-17T10:16:01.981Z"
   },
   {
    "duration": 21,
    "start_time": "2022-11-17T10:16:02.020Z"
   },
   {
    "duration": 413,
    "start_time": "2022-11-17T10:16:02.044Z"
   },
   {
    "duration": 514,
    "start_time": "2022-11-17T10:16:02.458Z"
   },
   {
    "duration": 23,
    "start_time": "2022-11-17T10:16:02.974Z"
   },
   {
    "duration": 8,
    "start_time": "2022-11-17T10:16:02.999Z"
   },
   {
    "duration": 60,
    "start_time": "2022-11-17T10:16:03.010Z"
   },
   {
    "duration": 23,
    "start_time": "2022-11-17T10:16:03.072Z"
   },
   {
    "duration": 22,
    "start_time": "2022-11-17T10:16:03.097Z"
   },
   {
    "duration": 118,
    "start_time": "2022-11-17T10:16:03.122Z"
   },
   {
    "duration": 170,
    "start_time": "2022-11-17T10:16:03.241Z"
   },
   {
    "duration": 17,
    "start_time": "2022-11-17T10:16:03.413Z"
   },
   {
    "duration": 47,
    "start_time": "2022-11-17T10:16:03.432Z"
   },
   {
    "duration": 14,
    "start_time": "2022-11-17T10:16:03.481Z"
   },
   {
    "duration": 85,
    "start_time": "2022-11-17T10:16:03.497Z"
   },
   {
    "duration": 13,
    "start_time": "2022-11-17T10:16:03.584Z"
   },
   {
    "duration": 202,
    "start_time": "2022-11-17T10:16:03.599Z"
   },
   {
    "duration": 105,
    "start_time": "2022-11-17T10:16:03.803Z"
   },
   {
    "duration": 14,
    "start_time": "2022-11-17T10:16:03.910Z"
   },
   {
    "duration": 48,
    "start_time": "2022-11-17T10:16:03.927Z"
   },
   {
    "duration": 16,
    "start_time": "2022-11-17T10:16:03.977Z"
   },
   {
    "duration": 271,
    "start_time": "2022-11-17T10:16:03.995Z"
   },
   {
    "duration": 204,
    "start_time": "2022-11-17T10:16:04.268Z"
   },
   {
    "duration": 15,
    "start_time": "2022-11-17T10:16:04.474Z"
   },
   {
    "duration": 315,
    "start_time": "2022-11-17T10:16:04.491Z"
   },
   {
    "duration": 4,
    "start_time": "2022-11-17T10:16:04.808Z"
   },
   {
    "duration": 6,
    "start_time": "2022-11-17T10:16:04.814Z"
   },
   {
    "duration": 249,
    "start_time": "2022-11-17T10:16:04.822Z"
   },
   {
    "duration": 326,
    "start_time": "2022-11-17T10:16:05.074Z"
   },
   {
    "duration": 15,
    "start_time": "2022-11-17T10:16:05.402Z"
   },
   {
    "duration": 225,
    "start_time": "2022-11-17T10:16:05.418Z"
   },
   {
    "duration": 6,
    "start_time": "2022-11-17T10:16:05.645Z"
   },
   {
    "duration": 241,
    "start_time": "2022-11-17T10:16:05.653Z"
   },
   {
    "duration": 5,
    "start_time": "2022-11-17T10:16:05.896Z"
   },
   {
    "duration": 11,
    "start_time": "2022-11-17T10:16:05.903Z"
   },
   {
    "duration": 17,
    "start_time": "2022-11-17T10:16:05.915Z"
   },
   {
    "duration": 53,
    "start_time": "2022-11-17T10:16:05.934Z"
   },
   {
    "duration": 13,
    "start_time": "2022-11-17T10:16:05.989Z"
   },
   {
    "duration": 4,
    "start_time": "2022-11-17T10:17:23.706Z"
   },
   {
    "duration": 4,
    "start_time": "2022-11-17T10:17:42.121Z"
   },
   {
    "duration": 13,
    "start_time": "2022-11-17T10:19:57.523Z"
   },
   {
    "duration": 10,
    "start_time": "2022-11-17T10:20:38.902Z"
   },
   {
    "duration": 12,
    "start_time": "2022-11-17T10:20:45.996Z"
   },
   {
    "duration": 12,
    "start_time": "2022-11-17T10:21:51.308Z"
   },
   {
    "duration": 16,
    "start_time": "2022-11-17T10:23:15.389Z"
   },
   {
    "duration": 1260,
    "start_time": "2022-11-17T10:23:21.064Z"
   },
   {
    "duration": 24,
    "start_time": "2022-11-17T10:23:22.326Z"
   },
   {
    "duration": 16,
    "start_time": "2022-11-17T10:23:22.352Z"
   },
   {
    "duration": 16,
    "start_time": "2022-11-17T10:23:22.371Z"
   },
   {
    "duration": 8,
    "start_time": "2022-11-17T10:23:22.389Z"
   },
   {
    "duration": 6,
    "start_time": "2022-11-17T10:23:22.400Z"
   },
   {
    "duration": 8,
    "start_time": "2022-11-17T10:23:22.407Z"
   },
   {
    "duration": 94,
    "start_time": "2022-11-17T10:23:22.416Z"
   },
   {
    "duration": 8,
    "start_time": "2022-11-17T10:23:22.512Z"
   },
   {
    "duration": 22,
    "start_time": "2022-11-17T10:23:22.522Z"
   },
   {
    "duration": 57,
    "start_time": "2022-11-17T10:23:22.546Z"
   },
   {
    "duration": 7,
    "start_time": "2022-11-17T10:23:22.605Z"
   },
   {
    "duration": 12,
    "start_time": "2022-11-17T10:23:22.614Z"
   },
   {
    "duration": 636,
    "start_time": "2022-11-17T10:23:22.629Z"
   },
   {
    "duration": 11,
    "start_time": "2022-11-17T10:23:23.267Z"
   },
   {
    "duration": 50,
    "start_time": "2022-11-17T10:23:23.280Z"
   },
   {
    "duration": 217,
    "start_time": "2022-11-17T10:23:23.332Z"
   },
   {
    "duration": 52,
    "start_time": "2022-11-17T10:23:23.550Z"
   },
   {
    "duration": 30,
    "start_time": "2022-11-17T10:23:23.604Z"
   },
   {
    "duration": 117,
    "start_time": "2022-11-17T10:23:23.635Z"
   },
   {
    "duration": 34,
    "start_time": "2022-11-17T10:23:23.753Z"
   },
   {
    "duration": 8,
    "start_time": "2022-11-17T10:23:23.789Z"
   },
   {
    "duration": 22,
    "start_time": "2022-11-17T10:23:23.799Z"
   },
   {
    "duration": 12,
    "start_time": "2022-11-17T10:23:23.823Z"
   },
   {
    "duration": 6,
    "start_time": "2022-11-17T10:23:23.837Z"
   },
   {
    "duration": 7,
    "start_time": "2022-11-17T10:23:23.845Z"
   },
   {
    "duration": 27,
    "start_time": "2022-11-17T10:23:23.854Z"
   },
   {
    "duration": 51,
    "start_time": "2022-11-17T10:23:23.886Z"
   },
   {
    "duration": 39,
    "start_time": "2022-11-17T10:23:23.940Z"
   },
   {
    "duration": 13,
    "start_time": "2022-11-17T10:23:23.982Z"
   },
   {
    "duration": 21,
    "start_time": "2022-11-17T10:23:23.997Z"
   },
   {
    "duration": 21,
    "start_time": "2022-11-17T10:23:24.020Z"
   },
   {
    "duration": 230,
    "start_time": "2022-11-17T10:23:24.044Z"
   },
   {
    "duration": 20,
    "start_time": "2022-11-17T10:23:24.275Z"
   },
   {
    "duration": 11,
    "start_time": "2022-11-17T10:23:24.297Z"
   },
   {
    "duration": 21,
    "start_time": "2022-11-17T10:23:24.310Z"
   },
   {
    "duration": 54,
    "start_time": "2022-11-17T10:23:24.333Z"
   },
   {
    "duration": 7,
    "start_time": "2022-11-17T10:23:24.388Z"
   },
   {
    "duration": 12,
    "start_time": "2022-11-17T10:23:24.397Z"
   },
   {
    "duration": 16,
    "start_time": "2022-11-17T10:23:24.411Z"
   },
   {
    "duration": 152,
    "start_time": "2022-11-17T10:23:24.429Z"
   },
   {
    "duration": 64,
    "start_time": "2022-11-17T10:23:24.582Z"
   },
   {
    "duration": 8,
    "start_time": "2022-11-17T10:23:24.648Z"
   },
   {
    "duration": 41,
    "start_time": "2022-11-17T10:23:24.658Z"
   },
   {
    "duration": 30,
    "start_time": "2022-11-17T10:23:24.701Z"
   },
   {
    "duration": 25,
    "start_time": "2022-11-17T10:23:24.733Z"
   },
   {
    "duration": 63,
    "start_time": "2022-11-17T10:23:24.760Z"
   },
   {
    "duration": 53,
    "start_time": "2022-11-17T10:23:24.825Z"
   },
   {
    "duration": 21,
    "start_time": "2022-11-17T10:23:24.879Z"
   },
   {
    "duration": 17,
    "start_time": "2022-11-17T10:23:24.902Z"
   },
   {
    "duration": 29,
    "start_time": "2022-11-17T10:23:24.921Z"
   },
   {
    "duration": 31,
    "start_time": "2022-11-17T10:23:24.951Z"
   },
   {
    "duration": 409,
    "start_time": "2022-11-17T10:23:24.984Z"
   },
   {
    "duration": 549,
    "start_time": "2022-11-17T10:23:25.395Z"
   },
   {
    "duration": 20,
    "start_time": "2022-11-17T10:23:25.945Z"
   },
   {
    "duration": 15,
    "start_time": "2022-11-17T10:23:25.966Z"
   },
   {
    "duration": 27,
    "start_time": "2022-11-17T10:23:25.983Z"
   },
   {
    "duration": 14,
    "start_time": "2022-11-17T10:23:26.012Z"
   },
   {
    "duration": 3,
    "start_time": "2022-11-17T10:23:26.028Z"
   },
   {
    "duration": 59,
    "start_time": "2022-11-17T10:23:26.032Z"
   },
   {
    "duration": 160,
    "start_time": "2022-11-17T10:23:26.093Z"
   },
   {
    "duration": 25,
    "start_time": "2022-11-17T10:23:26.255Z"
   },
   {
    "duration": 11,
    "start_time": "2022-11-17T10:23:26.281Z"
   },
   {
    "duration": 21,
    "start_time": "2022-11-17T10:23:26.294Z"
   },
   {
    "duration": 89,
    "start_time": "2022-11-17T10:23:26.317Z"
   },
   {
    "duration": 14,
    "start_time": "2022-11-17T10:23:26.409Z"
   },
   {
    "duration": 233,
    "start_time": "2022-11-17T10:23:26.425Z"
   },
   {
    "duration": 119,
    "start_time": "2022-11-17T10:23:26.660Z"
   },
   {
    "duration": 15,
    "start_time": "2022-11-17T10:23:26.780Z"
   },
   {
    "duration": 7,
    "start_time": "2022-11-17T10:23:26.797Z"
   },
   {
    "duration": 9,
    "start_time": "2022-11-17T10:23:26.806Z"
   },
   {
    "duration": 222,
    "start_time": "2022-11-17T10:23:26.817Z"
   },
   {
    "duration": 210,
    "start_time": "2022-11-17T10:23:27.041Z"
   },
   {
    "duration": 15,
    "start_time": "2022-11-17T10:23:27.253Z"
   },
   {
    "duration": 303,
    "start_time": "2022-11-17T10:23:27.278Z"
   },
   {
    "duration": 5,
    "start_time": "2022-11-17T10:23:27.582Z"
   },
   {
    "duration": 21,
    "start_time": "2022-11-17T10:23:27.588Z"
   },
   {
    "duration": 211,
    "start_time": "2022-11-17T10:23:27.611Z"
   },
   {
    "duration": 310,
    "start_time": "2022-11-17T10:23:27.824Z"
   },
   {
    "duration": 14,
    "start_time": "2022-11-17T10:23:28.136Z"
   },
   {
    "duration": 210,
    "start_time": "2022-11-17T10:23:28.152Z"
   },
   {
    "duration": 13,
    "start_time": "2022-11-17T10:23:28.368Z"
   },
   {
    "duration": 314,
    "start_time": "2022-11-17T10:23:28.383Z"
   },
   {
    "duration": 5,
    "start_time": "2022-11-17T10:23:28.698Z"
   },
   {
    "duration": 14,
    "start_time": "2022-11-17T10:23:28.704Z"
   },
   {
    "duration": 19,
    "start_time": "2022-11-17T10:23:28.720Z"
   },
   {
    "duration": 50,
    "start_time": "2022-11-17T10:23:28.740Z"
   },
   {
    "duration": 14,
    "start_time": "2022-11-17T10:23:28.791Z"
   },
   {
    "duration": 150,
    "start_time": "2022-11-17T10:29:20.667Z"
   },
   {
    "duration": 31,
    "start_time": "2022-11-17T10:30:33.966Z"
   },
   {
    "duration": 24,
    "start_time": "2022-11-17T10:31:05.649Z"
   },
   {
    "duration": 23,
    "start_time": "2022-11-17T10:31:54.733Z"
   },
   {
    "duration": 25,
    "start_time": "2022-11-17T10:32:23.077Z"
   },
   {
    "duration": 23,
    "start_time": "2022-11-17T10:33:32.099Z"
   },
   {
    "duration": 1300,
    "start_time": "2022-11-17T10:33:38.569Z"
   },
   {
    "duration": 24,
    "start_time": "2022-11-17T10:33:39.872Z"
   },
   {
    "duration": 15,
    "start_time": "2022-11-17T10:33:39.898Z"
   },
   {
    "duration": 13,
    "start_time": "2022-11-17T10:33:39.915Z"
   },
   {
    "duration": 7,
    "start_time": "2022-11-17T10:33:39.930Z"
   },
   {
    "duration": 13,
    "start_time": "2022-11-17T10:33:39.939Z"
   },
   {
    "duration": 25,
    "start_time": "2022-11-17T10:33:39.954Z"
   },
   {
    "duration": 88,
    "start_time": "2022-11-17T10:33:39.981Z"
   },
   {
    "duration": 14,
    "start_time": "2022-11-17T10:33:40.071Z"
   },
   {
    "duration": 20,
    "start_time": "2022-11-17T10:33:40.088Z"
   },
   {
    "duration": 38,
    "start_time": "2022-11-17T10:33:40.110Z"
   },
   {
    "duration": 33,
    "start_time": "2022-11-17T10:33:40.150Z"
   },
   {
    "duration": 8,
    "start_time": "2022-11-17T10:33:40.184Z"
   },
   {
    "duration": 617,
    "start_time": "2022-11-17T10:33:40.193Z"
   },
   {
    "duration": 10,
    "start_time": "2022-11-17T10:33:40.812Z"
   },
   {
    "duration": 62,
    "start_time": "2022-11-17T10:33:40.824Z"
   },
   {
    "duration": 235,
    "start_time": "2022-11-17T10:33:40.888Z"
   },
   {
    "duration": 63,
    "start_time": "2022-11-17T10:33:41.125Z"
   },
   {
    "duration": 29,
    "start_time": "2022-11-17T10:33:41.190Z"
   },
   {
    "duration": 124,
    "start_time": "2022-11-17T10:33:41.221Z"
   },
   {
    "duration": 34,
    "start_time": "2022-11-17T10:33:41.347Z"
   },
   {
    "duration": 9,
    "start_time": "2022-11-17T10:33:41.383Z"
   },
   {
    "duration": 33,
    "start_time": "2022-11-17T10:33:41.394Z"
   },
   {
    "duration": 11,
    "start_time": "2022-11-17T10:33:41.429Z"
   },
   {
    "duration": 6,
    "start_time": "2022-11-17T10:33:41.443Z"
   },
   {
    "duration": 27,
    "start_time": "2022-11-17T10:33:41.451Z"
   },
   {
    "duration": 10,
    "start_time": "2022-11-17T10:33:41.481Z"
   },
   {
    "duration": 49,
    "start_time": "2022-11-17T10:33:41.495Z"
   },
   {
    "duration": 33,
    "start_time": "2022-11-17T10:33:41.546Z"
   },
   {
    "duration": 12,
    "start_time": "2022-11-17T10:33:41.582Z"
   },
   {
    "duration": 10,
    "start_time": "2022-11-17T10:33:41.596Z"
   },
   {
    "duration": 8,
    "start_time": "2022-11-17T10:33:41.608Z"
   },
   {
    "duration": 210,
    "start_time": "2022-11-17T10:33:41.617Z"
   },
   {
    "duration": 21,
    "start_time": "2022-11-17T10:33:41.829Z"
   },
   {
    "duration": 30,
    "start_time": "2022-11-17T10:33:41.852Z"
   },
   {
    "duration": 14,
    "start_time": "2022-11-17T10:33:41.884Z"
   },
   {
    "duration": 27,
    "start_time": "2022-11-17T10:33:41.900Z"
   },
   {
    "duration": 7,
    "start_time": "2022-11-17T10:33:41.929Z"
   },
   {
    "duration": 41,
    "start_time": "2022-11-17T10:33:41.938Z"
   },
   {
    "duration": 18,
    "start_time": "2022-11-17T10:33:41.981Z"
   },
   {
    "duration": 138,
    "start_time": "2022-11-17T10:33:42.001Z"
   },
   {
    "duration": 67,
    "start_time": "2022-11-17T10:33:42.141Z"
   },
   {
    "duration": 6,
    "start_time": "2022-11-17T10:33:42.209Z"
   },
   {
    "duration": 9,
    "start_time": "2022-11-17T10:33:42.216Z"
   },
   {
    "duration": 20,
    "start_time": "2022-11-17T10:33:42.227Z"
   },
   {
    "duration": 4,
    "start_time": "2022-11-17T10:33:42.249Z"
   },
   {
    "duration": 43,
    "start_time": "2022-11-17T10:33:42.254Z"
   },
   {
    "duration": 7,
    "start_time": "2022-11-17T10:33:42.299Z"
   },
   {
    "duration": 8,
    "start_time": "2022-11-17T10:33:42.308Z"
   },
   {
    "duration": 16,
    "start_time": "2022-11-17T10:33:42.318Z"
   },
   {
    "duration": 445,
    "start_time": "2022-11-17T10:33:42.335Z"
   },
   {
    "duration": 165,
    "start_time": "2022-11-17T10:33:42.783Z"
   },
   {
    "duration": 1,
    "start_time": "2022-11-17T10:33:42.950Z"
   },
   {
    "duration": 0,
    "start_time": "2022-11-17T10:33:42.952Z"
   },
   {
    "duration": 0,
    "start_time": "2022-11-17T10:33:42.954Z"
   },
   {
    "duration": 0,
    "start_time": "2022-11-17T10:33:42.955Z"
   },
   {
    "duration": 0,
    "start_time": "2022-11-17T10:33:42.957Z"
   },
   {
    "duration": 0,
    "start_time": "2022-11-17T10:33:42.959Z"
   },
   {
    "duration": 0,
    "start_time": "2022-11-17T10:33:42.960Z"
   },
   {
    "duration": 0,
    "start_time": "2022-11-17T10:33:42.979Z"
   },
   {
    "duration": 0,
    "start_time": "2022-11-17T10:33:42.981Z"
   },
   {
    "duration": 0,
    "start_time": "2022-11-17T10:33:42.982Z"
   },
   {
    "duration": 0,
    "start_time": "2022-11-17T10:33:42.985Z"
   },
   {
    "duration": 0,
    "start_time": "2022-11-17T10:33:42.986Z"
   },
   {
    "duration": 0,
    "start_time": "2022-11-17T10:33:42.988Z"
   },
   {
    "duration": 0,
    "start_time": "2022-11-17T10:33:42.989Z"
   },
   {
    "duration": 0,
    "start_time": "2022-11-17T10:33:42.991Z"
   },
   {
    "duration": 1,
    "start_time": "2022-11-17T10:33:42.992Z"
   },
   {
    "duration": 0,
    "start_time": "2022-11-17T10:33:42.994Z"
   },
   {
    "duration": 0,
    "start_time": "2022-11-17T10:33:42.996Z"
   },
   {
    "duration": 0,
    "start_time": "2022-11-17T10:33:42.997Z"
   },
   {
    "duration": 0,
    "start_time": "2022-11-17T10:33:42.999Z"
   },
   {
    "duration": 0,
    "start_time": "2022-11-17T10:33:43.001Z"
   },
   {
    "duration": 0,
    "start_time": "2022-11-17T10:33:43.002Z"
   },
   {
    "duration": 0,
    "start_time": "2022-11-17T10:33:43.003Z"
   },
   {
    "duration": 1,
    "start_time": "2022-11-17T10:33:43.005Z"
   },
   {
    "duration": 0,
    "start_time": "2022-11-17T10:33:43.007Z"
   },
   {
    "duration": 0,
    "start_time": "2022-11-17T10:33:43.009Z"
   },
   {
    "duration": 0,
    "start_time": "2022-11-17T10:33:43.012Z"
   },
   {
    "duration": 0,
    "start_time": "2022-11-17T10:33:43.013Z"
   },
   {
    "duration": 0,
    "start_time": "2022-11-17T10:33:43.014Z"
   },
   {
    "duration": 0,
    "start_time": "2022-11-17T10:33:43.015Z"
   },
   {
    "duration": 0,
    "start_time": "2022-11-17T10:33:43.016Z"
   },
   {
    "duration": 0,
    "start_time": "2022-11-17T10:33:43.016Z"
   },
   {
    "duration": 0,
    "start_time": "2022-11-17T10:33:43.017Z"
   },
   {
    "duration": 0,
    "start_time": "2022-11-17T10:33:43.017Z"
   },
   {
    "duration": 0,
    "start_time": "2022-11-17T10:33:43.018Z"
   },
   {
    "duration": 23,
    "start_time": "2022-11-17T10:38:06.313Z"
   },
   {
    "duration": 13,
    "start_time": "2022-11-17T10:38:21.680Z"
   },
   {
    "duration": 14,
    "start_time": "2022-11-17T10:38:32.583Z"
   },
   {
    "duration": 19,
    "start_time": "2022-11-17T10:38:58.706Z"
   },
   {
    "duration": 1351,
    "start_time": "2022-11-17T10:39:13.987Z"
   },
   {
    "duration": 24,
    "start_time": "2022-11-17T10:39:15.340Z"
   },
   {
    "duration": 13,
    "start_time": "2022-11-17T10:39:15.365Z"
   },
   {
    "duration": 19,
    "start_time": "2022-11-17T10:39:15.380Z"
   },
   {
    "duration": 17,
    "start_time": "2022-11-17T10:39:15.401Z"
   },
   {
    "duration": 12,
    "start_time": "2022-11-17T10:39:15.420Z"
   },
   {
    "duration": 13,
    "start_time": "2022-11-17T10:39:15.434Z"
   },
   {
    "duration": 87,
    "start_time": "2022-11-17T10:39:15.449Z"
   },
   {
    "duration": 10,
    "start_time": "2022-11-17T10:39:15.538Z"
   },
   {
    "duration": 21,
    "start_time": "2022-11-17T10:39:15.551Z"
   },
   {
    "duration": 39,
    "start_time": "2022-11-17T10:39:15.578Z"
   },
   {
    "duration": 7,
    "start_time": "2022-11-17T10:39:15.619Z"
   },
   {
    "duration": 10,
    "start_time": "2022-11-17T10:39:15.628Z"
   },
   {
    "duration": 635,
    "start_time": "2022-11-17T10:39:15.640Z"
   },
   {
    "duration": 10,
    "start_time": "2022-11-17T10:39:16.277Z"
   },
   {
    "duration": 52,
    "start_time": "2022-11-17T10:39:16.289Z"
   },
   {
    "duration": 210,
    "start_time": "2022-11-17T10:39:16.343Z"
   },
   {
    "duration": 55,
    "start_time": "2022-11-17T10:39:16.554Z"
   },
   {
    "duration": 27,
    "start_time": "2022-11-17T10:39:16.610Z"
   },
   {
    "duration": 118,
    "start_time": "2022-11-17T10:39:16.639Z"
   },
   {
    "duration": 33,
    "start_time": "2022-11-17T10:39:16.759Z"
   },
   {
    "duration": 8,
    "start_time": "2022-11-17T10:39:16.794Z"
   },
   {
    "duration": 15,
    "start_time": "2022-11-17T10:39:16.805Z"
   },
   {
    "duration": 27,
    "start_time": "2022-11-17T10:39:16.822Z"
   },
   {
    "duration": 22,
    "start_time": "2022-11-17T10:39:16.851Z"
   },
   {
    "duration": 28,
    "start_time": "2022-11-17T10:39:16.875Z"
   },
   {
    "duration": 22,
    "start_time": "2022-11-17T10:39:16.905Z"
   },
   {
    "duration": 60,
    "start_time": "2022-11-17T10:39:16.931Z"
   },
   {
    "duration": 9,
    "start_time": "2022-11-17T10:39:16.993Z"
   },
   {
    "duration": 23,
    "start_time": "2022-11-17T10:39:17.004Z"
   },
   {
    "duration": 19,
    "start_time": "2022-11-17T10:39:17.029Z"
   },
   {
    "duration": 21,
    "start_time": "2022-11-17T10:39:17.050Z"
   },
   {
    "duration": 189,
    "start_time": "2022-11-17T10:39:17.073Z"
   },
   {
    "duration": 30,
    "start_time": "2022-11-17T10:39:17.264Z"
   },
   {
    "duration": 12,
    "start_time": "2022-11-17T10:39:17.296Z"
   },
   {
    "duration": 13,
    "start_time": "2022-11-17T10:39:17.310Z"
   },
   {
    "duration": 60,
    "start_time": "2022-11-17T10:39:17.325Z"
   },
   {
    "duration": 7,
    "start_time": "2022-11-17T10:39:17.387Z"
   },
   {
    "duration": 15,
    "start_time": "2022-11-17T10:39:17.395Z"
   },
   {
    "duration": 17,
    "start_time": "2022-11-17T10:39:17.412Z"
   },
   {
    "duration": 144,
    "start_time": "2022-11-17T10:39:17.430Z"
   },
   {
    "duration": 57,
    "start_time": "2022-11-17T10:39:17.577Z"
   },
   {
    "duration": 7,
    "start_time": "2022-11-17T10:39:17.635Z"
   },
   {
    "duration": 10,
    "start_time": "2022-11-17T10:39:17.643Z"
   },
   {
    "duration": 33,
    "start_time": "2022-11-17T10:39:17.655Z"
   },
   {
    "duration": 5,
    "start_time": "2022-11-17T10:39:17.690Z"
   },
   {
    "duration": 23,
    "start_time": "2022-11-17T10:39:17.697Z"
   },
   {
    "duration": 7,
    "start_time": "2022-11-17T10:39:17.722Z"
   },
   {
    "duration": 10,
    "start_time": "2022-11-17T10:39:17.731Z"
   },
   {
    "duration": 46,
    "start_time": "2022-11-17T10:39:17.743Z"
   },
   {
    "duration": 394,
    "start_time": "2022-11-17T10:39:17.791Z"
   },
   {
    "duration": 14,
    "start_time": "2022-11-17T10:39:18.187Z"
   },
   {
    "duration": 148,
    "start_time": "2022-11-17T10:39:18.203Z"
   },
   {
    "duration": 0,
    "start_time": "2022-11-17T10:39:18.353Z"
   },
   {
    "duration": 0,
    "start_time": "2022-11-17T10:39:18.355Z"
   },
   {
    "duration": 0,
    "start_time": "2022-11-17T10:39:18.356Z"
   },
   {
    "duration": 0,
    "start_time": "2022-11-17T10:39:18.357Z"
   },
   {
    "duration": 0,
    "start_time": "2022-11-17T10:39:18.358Z"
   },
   {
    "duration": 0,
    "start_time": "2022-11-17T10:39:18.360Z"
   },
   {
    "duration": 0,
    "start_time": "2022-11-17T10:39:18.361Z"
   },
   {
    "duration": 0,
    "start_time": "2022-11-17T10:39:18.378Z"
   },
   {
    "duration": 1,
    "start_time": "2022-11-17T10:39:18.379Z"
   },
   {
    "duration": 0,
    "start_time": "2022-11-17T10:39:18.381Z"
   },
   {
    "duration": 0,
    "start_time": "2022-11-17T10:39:18.382Z"
   },
   {
    "duration": 0,
    "start_time": "2022-11-17T10:39:18.383Z"
   },
   {
    "duration": 0,
    "start_time": "2022-11-17T10:39:18.384Z"
   },
   {
    "duration": 0,
    "start_time": "2022-11-17T10:39:18.386Z"
   },
   {
    "duration": 0,
    "start_time": "2022-11-17T10:39:18.387Z"
   },
   {
    "duration": 0,
    "start_time": "2022-11-17T10:39:18.388Z"
   },
   {
    "duration": 0,
    "start_time": "2022-11-17T10:39:18.389Z"
   },
   {
    "duration": 0,
    "start_time": "2022-11-17T10:39:18.390Z"
   },
   {
    "duration": 0,
    "start_time": "2022-11-17T10:39:18.392Z"
   },
   {
    "duration": 0,
    "start_time": "2022-11-17T10:39:18.393Z"
   },
   {
    "duration": 0,
    "start_time": "2022-11-17T10:39:18.394Z"
   },
   {
    "duration": 0,
    "start_time": "2022-11-17T10:39:18.395Z"
   },
   {
    "duration": 0,
    "start_time": "2022-11-17T10:39:18.396Z"
   },
   {
    "duration": 0,
    "start_time": "2022-11-17T10:39:18.398Z"
   },
   {
    "duration": 0,
    "start_time": "2022-11-17T10:39:18.399Z"
   },
   {
    "duration": 0,
    "start_time": "2022-11-17T10:39:18.400Z"
   },
   {
    "duration": 0,
    "start_time": "2022-11-17T10:39:18.401Z"
   },
   {
    "duration": 0,
    "start_time": "2022-11-17T10:39:18.401Z"
   },
   {
    "duration": 0,
    "start_time": "2022-11-17T10:39:18.402Z"
   },
   {
    "duration": 0,
    "start_time": "2022-11-17T10:39:18.403Z"
   },
   {
    "duration": 0,
    "start_time": "2022-11-17T10:39:18.405Z"
   },
   {
    "duration": 0,
    "start_time": "2022-11-17T10:39:18.406Z"
   },
   {
    "duration": 0,
    "start_time": "2022-11-17T10:39:18.407Z"
   },
   {
    "duration": 0,
    "start_time": "2022-11-17T10:39:18.408Z"
   },
   {
    "duration": 0,
    "start_time": "2022-11-17T10:39:18.409Z"
   },
   {
    "duration": 21,
    "start_time": "2022-11-17T10:39:49.967Z"
   },
   {
    "duration": 30,
    "start_time": "2022-11-17T10:40:06.318Z"
   },
   {
    "duration": 34575,
    "start_time": "2022-11-17T10:40:19.367Z"
   },
   {
    "duration": 22,
    "start_time": "2022-11-17T10:41:13.702Z"
   },
   {
    "duration": 25,
    "start_time": "2022-11-17T10:41:45.273Z"
   },
   {
    "duration": 21,
    "start_time": "2022-11-17T10:42:08.181Z"
   },
   {
    "duration": 92,
    "start_time": "2022-11-17T10:43:10.762Z"
   },
   {
    "duration": 4,
    "start_time": "2022-11-17T10:43:24.888Z"
   },
   {
    "duration": 27,
    "start_time": "2022-11-17T10:43:43.764Z"
   },
   {
    "duration": 35,
    "start_time": "2022-11-17T10:44:04.123Z"
   },
   {
    "duration": 25,
    "start_time": "2022-11-17T10:44:33.734Z"
   },
   {
    "duration": 38,
    "start_time": "2022-11-17T10:46:23.225Z"
   },
   {
    "duration": 1210,
    "start_time": "2022-11-17T10:52:14.212Z"
   },
   {
    "duration": 23,
    "start_time": "2022-11-17T10:52:15.424Z"
   },
   {
    "duration": 13,
    "start_time": "2022-11-17T10:52:15.449Z"
   },
   {
    "duration": 20,
    "start_time": "2022-11-17T10:52:15.464Z"
   },
   {
    "duration": 8,
    "start_time": "2022-11-17T10:52:15.486Z"
   },
   {
    "duration": 11,
    "start_time": "2022-11-17T10:52:15.496Z"
   },
   {
    "duration": 10,
    "start_time": "2022-11-17T10:52:15.509Z"
   },
   {
    "duration": 90,
    "start_time": "2022-11-17T10:52:15.520Z"
   },
   {
    "duration": 9,
    "start_time": "2022-11-17T10:52:15.612Z"
   },
   {
    "duration": 21,
    "start_time": "2022-11-17T10:52:15.625Z"
   },
   {
    "duration": 60,
    "start_time": "2022-11-17T10:52:15.649Z"
   },
   {
    "duration": 7,
    "start_time": "2022-11-17T10:52:15.711Z"
   },
   {
    "duration": 12,
    "start_time": "2022-11-17T10:52:15.719Z"
   },
   {
    "duration": 597,
    "start_time": "2022-11-17T10:52:15.733Z"
   },
   {
    "duration": 9,
    "start_time": "2022-11-17T10:52:16.332Z"
   },
   {
    "duration": 61,
    "start_time": "2022-11-17T10:52:16.343Z"
   },
   {
    "duration": 204,
    "start_time": "2022-11-17T10:52:16.405Z"
   },
   {
    "duration": 45,
    "start_time": "2022-11-17T10:52:16.611Z"
   },
   {
    "duration": 36,
    "start_time": "2022-11-17T10:52:16.657Z"
   },
   {
    "duration": 109,
    "start_time": "2022-11-17T10:52:16.694Z"
   },
   {
    "duration": 33,
    "start_time": "2022-11-17T10:52:16.804Z"
   },
   {
    "duration": 8,
    "start_time": "2022-11-17T10:52:16.839Z"
   },
   {
    "duration": 16,
    "start_time": "2022-11-17T10:52:16.849Z"
   },
   {
    "duration": 18,
    "start_time": "2022-11-17T10:52:16.867Z"
   },
   {
    "duration": 6,
    "start_time": "2022-11-17T10:52:16.887Z"
   },
   {
    "duration": 10,
    "start_time": "2022-11-17T10:52:16.894Z"
   },
   {
    "duration": 14,
    "start_time": "2022-11-17T10:52:16.906Z"
   },
   {
    "duration": 72,
    "start_time": "2022-11-17T10:52:16.925Z"
   },
   {
    "duration": 11,
    "start_time": "2022-11-17T10:52:16.999Z"
   },
   {
    "duration": 8,
    "start_time": "2022-11-17T10:52:17.012Z"
   },
   {
    "duration": 14,
    "start_time": "2022-11-17T10:52:17.022Z"
   },
   {
    "duration": 18,
    "start_time": "2022-11-17T10:52:17.038Z"
   },
   {
    "duration": 175,
    "start_time": "2022-11-17T10:52:17.079Z"
   },
   {
    "duration": 29,
    "start_time": "2022-11-17T10:52:17.255Z"
   },
   {
    "duration": 11,
    "start_time": "2022-11-17T10:52:17.286Z"
   },
   {
    "duration": 13,
    "start_time": "2022-11-17T10:52:17.298Z"
   },
   {
    "duration": 27,
    "start_time": "2022-11-17T10:52:17.313Z"
   },
   {
    "duration": 41,
    "start_time": "2022-11-17T10:52:17.342Z"
   },
   {
    "duration": 12,
    "start_time": "2022-11-17T10:52:17.385Z"
   },
   {
    "duration": 17,
    "start_time": "2022-11-17T10:52:17.398Z"
   },
   {
    "duration": 150,
    "start_time": "2022-11-17T10:52:17.417Z"
   },
   {
    "duration": 60,
    "start_time": "2022-11-17T10:52:17.569Z"
   },
   {
    "duration": 7,
    "start_time": "2022-11-17T10:52:17.630Z"
   },
   {
    "duration": 13,
    "start_time": "2022-11-17T10:52:17.639Z"
   },
   {
    "duration": 39,
    "start_time": "2022-11-17T10:52:17.653Z"
   },
   {
    "duration": 5,
    "start_time": "2022-11-17T10:52:17.693Z"
   },
   {
    "duration": 23,
    "start_time": "2022-11-17T10:52:17.699Z"
   },
   {
    "duration": 7,
    "start_time": "2022-11-17T10:52:17.724Z"
   },
   {
    "duration": 14,
    "start_time": "2022-11-17T10:52:17.732Z"
   },
   {
    "duration": 38,
    "start_time": "2022-11-17T10:52:17.748Z"
   },
   {
    "duration": 407,
    "start_time": "2022-11-17T10:52:17.788Z"
   },
   {
    "duration": 40,
    "start_time": "2022-11-17T10:52:18.198Z"
   },
   {
    "duration": 530,
    "start_time": "2022-11-17T10:52:18.240Z"
   },
   {
    "duration": 25,
    "start_time": "2022-11-17T10:52:18.771Z"
   },
   {
    "duration": 8,
    "start_time": "2022-11-17T10:52:18.798Z"
   },
   {
    "duration": 44,
    "start_time": "2022-11-17T10:52:18.808Z"
   },
   {
    "duration": 94,
    "start_time": "2022-11-17T10:52:18.854Z"
   },
   {
    "duration": 15,
    "start_time": "2022-11-17T10:52:18.951Z"
   },
   {
    "duration": 46,
    "start_time": "2022-11-17T10:52:18.969Z"
   },
   {
    "duration": 199,
    "start_time": "2022-11-17T10:52:19.017Z"
   },
   {
    "duration": 20,
    "start_time": "2022-11-17T10:52:19.219Z"
   },
   {
    "duration": 39,
    "start_time": "2022-11-17T10:52:19.241Z"
   },
   {
    "duration": 40,
    "start_time": "2022-11-17T10:52:19.282Z"
   },
   {
    "duration": 67,
    "start_time": "2022-11-17T10:52:19.326Z"
   },
   {
    "duration": 11,
    "start_time": "2022-11-17T10:52:19.395Z"
   },
   {
    "duration": 187,
    "start_time": "2022-11-17T10:52:19.408Z"
   },
   {
    "duration": 113,
    "start_time": "2022-11-17T10:52:19.596Z"
   },
   {
    "duration": 13,
    "start_time": "2022-11-17T10:52:19.711Z"
   },
   {
    "duration": 14,
    "start_time": "2022-11-17T10:52:19.726Z"
   },
   {
    "duration": 9,
    "start_time": "2022-11-17T10:52:19.741Z"
   },
   {
    "duration": 220,
    "start_time": "2022-11-17T10:52:19.752Z"
   },
   {
    "duration": 210,
    "start_time": "2022-11-17T10:52:19.977Z"
   },
   {
    "duration": 15,
    "start_time": "2022-11-17T10:52:20.189Z"
   },
   {
    "duration": 302,
    "start_time": "2022-11-17T10:52:20.206Z"
   },
   {
    "duration": 4,
    "start_time": "2022-11-17T10:52:20.510Z"
   },
   {
    "duration": 9,
    "start_time": "2022-11-17T10:52:20.515Z"
   },
   {
    "duration": 224,
    "start_time": "2022-11-17T10:52:20.526Z"
   },
   {
    "duration": 332,
    "start_time": "2022-11-17T10:52:20.751Z"
   },
   {
    "duration": 15,
    "start_time": "2022-11-17T10:52:21.086Z"
   },
   {
    "duration": 249,
    "start_time": "2022-11-17T10:52:21.103Z"
   },
   {
    "duration": 5,
    "start_time": "2022-11-17T10:52:21.353Z"
   },
   {
    "duration": 233,
    "start_time": "2022-11-17T10:52:21.363Z"
   },
   {
    "duration": 5,
    "start_time": "2022-11-17T10:52:21.598Z"
   },
   {
    "duration": 25,
    "start_time": "2022-11-17T10:52:21.605Z"
   },
   {
    "duration": 20,
    "start_time": "2022-11-17T10:52:21.632Z"
   },
   {
    "duration": 37,
    "start_time": "2022-11-17T10:52:21.654Z"
   },
   {
    "duration": 14,
    "start_time": "2022-11-17T10:52:21.694Z"
   },
   {
    "duration": 14,
    "start_time": "2022-11-17T10:58:18.230Z"
   },
   {
    "duration": 15,
    "start_time": "2022-11-17T10:58:49.985Z"
   },
   {
    "duration": 1228,
    "start_time": "2022-11-17T11:02:01.299Z"
   },
   {
    "duration": 26,
    "start_time": "2022-11-17T11:02:02.529Z"
   },
   {
    "duration": 13,
    "start_time": "2022-11-17T11:02:02.557Z"
   },
   {
    "duration": 13,
    "start_time": "2022-11-17T11:02:02.572Z"
   },
   {
    "duration": 8,
    "start_time": "2022-11-17T11:02:02.587Z"
   },
   {
    "duration": 10,
    "start_time": "2022-11-17T11:02:02.596Z"
   },
   {
    "duration": 6,
    "start_time": "2022-11-17T11:02:02.608Z"
   },
   {
    "duration": 94,
    "start_time": "2022-11-17T11:02:02.616Z"
   },
   {
    "duration": 9,
    "start_time": "2022-11-17T11:02:02.712Z"
   },
   {
    "duration": 19,
    "start_time": "2022-11-17T11:02:02.724Z"
   },
   {
    "duration": 65,
    "start_time": "2022-11-17T11:02:02.745Z"
   },
   {
    "duration": 9,
    "start_time": "2022-11-17T11:02:02.812Z"
   },
   {
    "duration": 11,
    "start_time": "2022-11-17T11:02:02.822Z"
   },
   {
    "duration": 619,
    "start_time": "2022-11-17T11:02:02.834Z"
   },
   {
    "duration": 10,
    "start_time": "2022-11-17T11:02:03.455Z"
   },
   {
    "duration": 111,
    "start_time": "2022-11-17T11:02:03.466Z"
   },
   {
    "duration": 222,
    "start_time": "2022-11-17T11:02:03.580Z"
   },
   {
    "duration": 46,
    "start_time": "2022-11-17T11:02:03.804Z"
   },
   {
    "duration": 41,
    "start_time": "2022-11-17T11:02:03.852Z"
   },
   {
    "duration": 140,
    "start_time": "2022-11-17T11:02:03.895Z"
   },
   {
    "duration": 47,
    "start_time": "2022-11-17T11:02:04.037Z"
   },
   {
    "duration": 11,
    "start_time": "2022-11-17T11:02:04.087Z"
   },
   {
    "duration": 68,
    "start_time": "2022-11-17T11:02:04.100Z"
   },
   {
    "duration": 59,
    "start_time": "2022-11-17T11:02:04.171Z"
   },
   {
    "duration": 50,
    "start_time": "2022-11-17T11:02:04.232Z"
   },
   {
    "duration": 54,
    "start_time": "2022-11-17T11:02:04.284Z"
   },
   {
    "duration": 63,
    "start_time": "2022-11-17T11:02:04.340Z"
   },
   {
    "duration": 71,
    "start_time": "2022-11-17T11:02:04.408Z"
   },
   {
    "duration": 10,
    "start_time": "2022-11-17T11:02:04.481Z"
   },
   {
    "duration": 43,
    "start_time": "2022-11-17T11:02:04.493Z"
   },
   {
    "duration": 32,
    "start_time": "2022-11-17T11:02:04.538Z"
   },
   {
    "duration": 49,
    "start_time": "2022-11-17T11:02:04.572Z"
   },
   {
    "duration": 190,
    "start_time": "2022-11-17T11:02:04.622Z"
   },
   {
    "duration": 19,
    "start_time": "2022-11-17T11:02:04.814Z"
   },
   {
    "duration": 36,
    "start_time": "2022-11-17T11:02:04.835Z"
   },
   {
    "duration": 59,
    "start_time": "2022-11-17T11:02:04.873Z"
   },
   {
    "duration": 69,
    "start_time": "2022-11-17T11:02:04.934Z"
   },
   {
    "duration": 22,
    "start_time": "2022-11-17T11:02:05.005Z"
   },
   {
    "duration": 38,
    "start_time": "2022-11-17T11:02:05.029Z"
   },
   {
    "duration": 63,
    "start_time": "2022-11-17T11:02:05.069Z"
   },
   {
    "duration": 195,
    "start_time": "2022-11-17T11:02:05.134Z"
   },
   {
    "duration": 64,
    "start_time": "2022-11-17T11:02:05.330Z"
   },
   {
    "duration": 21,
    "start_time": "2022-11-17T11:02:05.396Z"
   },
   {
    "duration": 31,
    "start_time": "2022-11-17T11:02:05.419Z"
   },
   {
    "duration": 65,
    "start_time": "2022-11-17T11:02:05.451Z"
   },
   {
    "duration": 43,
    "start_time": "2022-11-17T11:02:05.518Z"
   },
   {
    "duration": 86,
    "start_time": "2022-11-17T11:02:05.563Z"
   },
   {
    "duration": 65,
    "start_time": "2022-11-17T11:02:05.651Z"
   },
   {
    "duration": 82,
    "start_time": "2022-11-17T11:02:05.718Z"
   },
   {
    "duration": 65,
    "start_time": "2022-11-17T11:02:05.802Z"
   },
   {
    "duration": 401,
    "start_time": "2022-11-17T11:02:05.868Z"
   },
   {
    "duration": 38,
    "start_time": "2022-11-17T11:02:06.271Z"
   },
   {
    "duration": 504,
    "start_time": "2022-11-17T11:02:06.311Z"
   },
   {
    "duration": 21,
    "start_time": "2022-11-17T11:02:06.817Z"
   },
   {
    "duration": 13,
    "start_time": "2022-11-17T11:02:06.840Z"
   },
   {
    "duration": 37,
    "start_time": "2022-11-17T11:02:06.854Z"
   },
   {
    "duration": 14,
    "start_time": "2022-11-17T11:02:06.893Z"
   },
   {
    "duration": 24,
    "start_time": "2022-11-17T11:02:06.909Z"
   },
   {
    "duration": 129,
    "start_time": "2022-11-17T11:02:06.935Z"
   },
   {
    "duration": 168,
    "start_time": "2022-11-17T11:02:07.066Z"
   },
   {
    "duration": 17,
    "start_time": "2022-11-17T11:02:07.236Z"
   },
   {
    "duration": 30,
    "start_time": "2022-11-17T11:02:07.255Z"
   },
   {
    "duration": 35,
    "start_time": "2022-11-17T11:02:07.287Z"
   },
   {
    "duration": 60,
    "start_time": "2022-11-17T11:02:07.324Z"
   },
   {
    "duration": 11,
    "start_time": "2022-11-17T11:02:07.385Z"
   },
   {
    "duration": 183,
    "start_time": "2022-11-17T11:02:07.398Z"
   },
   {
    "duration": 104,
    "start_time": "2022-11-17T11:02:07.583Z"
   },
   {
    "duration": 22,
    "start_time": "2022-11-17T11:02:07.689Z"
   },
   {
    "duration": 15,
    "start_time": "2022-11-17T11:02:07.713Z"
   },
   {
    "duration": 17,
    "start_time": "2022-11-17T11:02:07.730Z"
   },
   {
    "duration": 202,
    "start_time": "2022-11-17T11:02:07.749Z"
   },
   {
    "duration": 241,
    "start_time": "2022-11-17T11:02:07.953Z"
   },
   {
    "duration": 15,
    "start_time": "2022-11-17T11:02:08.196Z"
   },
   {
    "duration": 304,
    "start_time": "2022-11-17T11:02:08.213Z"
   },
   {
    "duration": 4,
    "start_time": "2022-11-17T11:02:08.519Z"
   },
   {
    "duration": 17,
    "start_time": "2022-11-17T11:02:08.525Z"
   },
   {
    "duration": 221,
    "start_time": "2022-11-17T11:02:08.544Z"
   },
   {
    "duration": 329,
    "start_time": "2022-11-17T11:02:08.766Z"
   },
   {
    "duration": 14,
    "start_time": "2022-11-17T11:02:09.097Z"
   },
   {
    "duration": 216,
    "start_time": "2022-11-17T11:02:09.113Z"
   },
   {
    "duration": 5,
    "start_time": "2022-11-17T11:02:09.330Z"
   },
   {
    "duration": 231,
    "start_time": "2022-11-17T11:02:09.340Z"
   },
   {
    "duration": 5,
    "start_time": "2022-11-17T11:02:09.578Z"
   },
   {
    "duration": 36,
    "start_time": "2022-11-17T11:02:09.585Z"
   },
   {
    "duration": 14,
    "start_time": "2022-11-17T11:02:09.623Z"
   },
   {
    "duration": 1413,
    "start_time": "2022-11-17T15:59:15.219Z"
   },
   {
    "duration": 76,
    "start_time": "2022-11-17T15:59:16.633Z"
   },
   {
    "duration": 13,
    "start_time": "2022-11-17T15:59:16.711Z"
   },
   {
    "duration": 12,
    "start_time": "2022-11-17T15:59:16.725Z"
   },
   {
    "duration": 15,
    "start_time": "2022-11-17T15:59:16.738Z"
   },
   {
    "duration": 9,
    "start_time": "2022-11-17T15:59:16.755Z"
   },
   {
    "duration": 6,
    "start_time": "2022-11-17T15:59:16.766Z"
   },
   {
    "duration": 248,
    "start_time": "2022-11-17T15:59:16.773Z"
   },
   {
    "duration": 9,
    "start_time": "2022-11-17T15:59:17.023Z"
   },
   {
    "duration": 18,
    "start_time": "2022-11-17T15:59:17.034Z"
   },
   {
    "duration": 51,
    "start_time": "2022-11-17T15:59:17.054Z"
   },
   {
    "duration": 6,
    "start_time": "2022-11-17T15:59:17.107Z"
   },
   {
    "duration": 14,
    "start_time": "2022-11-17T15:59:17.115Z"
   },
   {
    "duration": 718,
    "start_time": "2022-11-17T15:59:17.131Z"
   },
   {
    "duration": 10,
    "start_time": "2022-11-17T15:59:17.850Z"
   },
   {
    "duration": 64,
    "start_time": "2022-11-17T15:59:17.861Z"
   },
   {
    "duration": 228,
    "start_time": "2022-11-17T15:59:17.928Z"
   },
   {
    "duration": 49,
    "start_time": "2022-11-17T15:59:18.158Z"
   },
   {
    "duration": 27,
    "start_time": "2022-11-17T15:59:18.209Z"
   },
   {
    "duration": 124,
    "start_time": "2022-11-17T15:59:18.238Z"
   },
   {
    "duration": 80,
    "start_time": "2022-11-17T15:59:18.364Z"
   },
   {
    "duration": 9,
    "start_time": "2022-11-17T15:59:18.445Z"
   },
   {
    "duration": 20,
    "start_time": "2022-11-17T15:59:18.456Z"
   },
   {
    "duration": 18,
    "start_time": "2022-11-17T15:59:18.478Z"
   },
   {
    "duration": 7,
    "start_time": "2022-11-17T15:59:18.498Z"
   },
   {
    "duration": 9,
    "start_time": "2022-11-17T15:59:18.507Z"
   },
   {
    "duration": 13,
    "start_time": "2022-11-17T15:59:18.518Z"
   },
   {
    "duration": 77,
    "start_time": "2022-11-17T15:59:18.538Z"
   },
   {
    "duration": 10,
    "start_time": "2022-11-17T15:59:18.616Z"
   },
   {
    "duration": 13,
    "start_time": "2022-11-17T15:59:18.628Z"
   },
   {
    "duration": 11,
    "start_time": "2022-11-17T15:59:18.643Z"
   },
   {
    "duration": 8,
    "start_time": "2022-11-17T15:59:18.678Z"
   },
   {
    "duration": 184,
    "start_time": "2022-11-17T15:59:18.688Z"
   },
   {
    "duration": 21,
    "start_time": "2022-11-17T15:59:18.878Z"
   },
   {
    "duration": 13,
    "start_time": "2022-11-17T15:59:18.901Z"
   },
   {
    "duration": 14,
    "start_time": "2022-11-17T15:59:18.916Z"
   },
   {
    "duration": 60,
    "start_time": "2022-11-17T15:59:18.932Z"
   },
   {
    "duration": 13,
    "start_time": "2022-11-17T15:59:18.994Z"
   },
   {
    "duration": 12,
    "start_time": "2022-11-17T15:59:19.009Z"
   },
   {
    "duration": 23,
    "start_time": "2022-11-17T15:59:19.024Z"
   },
   {
    "duration": 150,
    "start_time": "2022-11-17T15:59:19.049Z"
   },
   {
    "duration": 65,
    "start_time": "2022-11-17T15:59:19.200Z"
   },
   {
    "duration": 11,
    "start_time": "2022-11-17T15:59:19.267Z"
   },
   {
    "duration": 9,
    "start_time": "2022-11-17T15:59:19.280Z"
   },
   {
    "duration": 29,
    "start_time": "2022-11-17T15:59:19.291Z"
   },
   {
    "duration": 5,
    "start_time": "2022-11-17T15:59:19.322Z"
   },
   {
    "duration": 50,
    "start_time": "2022-11-17T15:59:19.329Z"
   },
   {
    "duration": 7,
    "start_time": "2022-11-17T15:59:19.380Z"
   },
   {
    "duration": 11,
    "start_time": "2022-11-17T15:59:19.389Z"
   },
   {
    "duration": 18,
    "start_time": "2022-11-17T15:59:19.402Z"
   },
   {
    "duration": 395,
    "start_time": "2022-11-17T15:59:19.422Z"
   },
   {
    "duration": 35,
    "start_time": "2022-11-17T15:59:19.819Z"
   },
   {
    "duration": 504,
    "start_time": "2022-11-17T15:59:19.856Z"
   },
   {
    "duration": 35,
    "start_time": "2022-11-17T15:59:20.363Z"
   },
   {
    "duration": 20,
    "start_time": "2022-11-17T15:59:20.400Z"
   },
   {
    "duration": 32,
    "start_time": "2022-11-17T15:59:20.421Z"
   },
   {
    "duration": 18,
    "start_time": "2022-11-17T15:59:20.456Z"
   },
   {
    "duration": 10,
    "start_time": "2022-11-17T15:59:20.478Z"
   },
   {
    "duration": 127,
    "start_time": "2022-11-17T15:59:20.491Z"
   },
   {
    "duration": 322,
    "start_time": "2022-11-17T15:59:20.619Z"
   },
   {
    "duration": 17,
    "start_time": "2022-11-17T15:59:20.943Z"
   },
   {
    "duration": 14,
    "start_time": "2022-11-17T15:59:20.962Z"
   },
   {
    "duration": 26,
    "start_time": "2022-11-17T15:59:20.978Z"
   },
   {
    "duration": 30,
    "start_time": "2022-11-17T15:59:21.006Z"
   },
   {
    "duration": 12,
    "start_time": "2022-11-17T15:59:21.077Z"
   },
   {
    "duration": 178,
    "start_time": "2022-11-17T15:59:21.090Z"
   },
   {
    "duration": 112,
    "start_time": "2022-11-17T15:59:21.270Z"
   },
   {
    "duration": 13,
    "start_time": "2022-11-17T15:59:21.384Z"
   },
   {
    "duration": 11,
    "start_time": "2022-11-17T15:59:21.398Z"
   },
   {
    "duration": 13,
    "start_time": "2022-11-17T15:59:21.410Z"
   },
   {
    "duration": 200,
    "start_time": "2022-11-17T15:59:21.424Z"
   },
   {
    "duration": 208,
    "start_time": "2022-11-17T15:59:21.626Z"
   },
   {
    "duration": 16,
    "start_time": "2022-11-17T15:59:21.836Z"
   },
   {
    "duration": 391,
    "start_time": "2022-11-17T15:59:21.854Z"
   },
   {
    "duration": 4,
    "start_time": "2022-11-17T15:59:22.248Z"
   },
   {
    "duration": 10,
    "start_time": "2022-11-17T15:59:22.254Z"
   },
   {
    "duration": 229,
    "start_time": "2022-11-17T15:59:22.266Z"
   },
   {
    "duration": 299,
    "start_time": "2022-11-17T15:59:22.497Z"
   },
   {
    "duration": 14,
    "start_time": "2022-11-17T15:59:22.797Z"
   },
   {
    "duration": 231,
    "start_time": "2022-11-17T15:59:22.812Z"
   },
   {
    "duration": 6,
    "start_time": "2022-11-17T15:59:23.044Z"
   },
   {
    "duration": 229,
    "start_time": "2022-11-17T15:59:23.055Z"
   },
   {
    "duration": 6,
    "start_time": "2022-11-17T15:59:23.285Z"
   },
   {
    "duration": 32,
    "start_time": "2022-11-17T15:59:23.292Z"
   },
   {
    "duration": 14,
    "start_time": "2022-11-17T15:59:23.327Z"
   },
   {
    "duration": 23,
    "start_time": "2022-11-17T16:01:09.796Z"
   }
  ],
  "kernelspec": {
   "display_name": "Python 3 (ipykernel)",
   "language": "python",
   "name": "python3"
  },
  "language_info": {
   "codemirror_mode": {
    "name": "ipython",
    "version": 3
   },
   "file_extension": ".py",
   "mimetype": "text/x-python",
   "name": "python",
   "nbconvert_exporter": "python",
   "pygments_lexer": "ipython3",
   "version": "3.7.8"
  },
  "toc": {
   "base_numbering": 1,
   "nav_menu": {},
   "number_sections": true,
   "sideBar": true,
   "skip_h1_title": false,
   "title_cell": "Table of Contents",
   "title_sidebar": "Contents",
   "toc_cell": false,
   "toc_position": {
    "height": "calc(100% - 180px)",
    "left": "10px",
    "top": "150px",
    "width": "303.542px"
   },
   "toc_section_display": true,
   "toc_window_display": true
  }
 },
 "nbformat": 4,
 "nbformat_minor": 5
}
