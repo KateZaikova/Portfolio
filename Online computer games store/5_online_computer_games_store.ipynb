{
 "cells": [
  {
   "cell_type": "markdown",
   "metadata": {},
   "source": [
    "# Описание проекта\n",
    "\n",
    "Интернет-магазине «Стримчик» продаёт по всему миру компьютерные игры. Из открытых источников доступны исторические данные о продажах игр, оценки пользователей и экспертов, жанры и платформы (например, Xbox или PlayStation).\n",
    "\n",
    "Необходимо выявить определяющие успешность игры закономерности. Это позволит сделать ставку на потенциально популярный продукт и спланировать рекламные кампании.\n",
    "\n",
    "Даны данные до 2016 года. Представим, что сейчас декабрь 2016 г., и вы планируете кампанию на 2017-й. Нужно отработать принцип работы с данными. Неважно, прогнозируете ли вы продажи на 2017 год по данным 2016-го или же 2027-й — по данным 2026 года.\n",
    "\n",
    "В наборе данных попадается аббревиатура ESRB (Entertainment Software Rating Board) — это ассоциация, определяющая возрастной рейтинг компьютерных игр. ESRB оценивает игровой контент и присваивает ему подходящую возрастную категорию, например, «Для взрослых», «Для детей младшего возраста» или «Для подростков».\n",
    "\n",
    "**Цель исследования**  \n",
    "\n",
    "* Посмотреть, сколько игр выпускалось в разные годы. \n",
    "\n",
    "* Посмотреть, как менялись продажи по платформам. Выбрать платформы с наибольшими суммарными продажами и построить распределение по годам. Узнать, за какой характерный срок появляются новые и исчезают старые платформы.\n",
    "\n",
    "* Узнать, какие платформы лидируют по продажам, растут или падают. Выбрать несколько потенциально прибыльных платформ.\n",
    "\n",
    "* Посмотроить, как влияют на продажи внутри одной популярной платформы отзывы пользователей и критиков. Построить диаграмму рассеяния и посчитать корреляцию между отзывами и продажами.\n",
    "\n",
    "* Составить портрет пользователя каждого региона: \n",
    "\n",
    "   * Определите для пользователя каждого региона (NA, EU, JP):\n",
    "       * Самые популярные платформы (топ-5). Описать различия в долях продаж.\n",
    "       * Самые популярные жанры (топ-5). Пояснитт разницу.\n",
    "       * Узнать, влияет ли рейтинг ESRB на продажи в отдельном регионе.\n",
    "       \n",
    "* Проверка гипотез\n",
    "\n",
    "**Ход исследования**  \n",
    "\n",
    "Исследование содержит следующие этапы:\n",
    "1. Изучение данных из файла.  \n",
    "2. Подготовка данных.  \n",
    "    * Обработка пропусков\n",
    "    * Замена типа данных\n",
    "    * Обработка дубликатов  \n",
    "3. Подготовка пользовательских данных\n",
    "4. Исследовательский анализ данных.\n",
    "5. Проверка гипотез.\n",
    "6. Общий вывод."
   ]
  },
  {
   "cell_type": "markdown",
   "metadata": {},
   "source": [
    "## Изучение данных из файла"
   ]
  },
  {
   "cell_type": "code",
   "execution_count": 1,
   "metadata": {},
   "outputs": [],
   "source": [
    "# импорт библиотек\n",
    "import pandas as pd\n",
    "import numpy as np\n",
    "import seaborn as sns\n",
    "import matplotlib.pyplot as plt\n",
    "import os\n",
    "\n",
    "from scipy import stats as st"
   ]
  },
  {
   "cell_type": "code",
   "execution_count": 2,
   "metadata": {},
   "outputs": [],
   "source": [
    "# чтение файла games.csv и сохранение в переменной games\n",
    "if os.path.exists('/datasets/games.csv'):\n",
    "    games = pd.read_csv('/datasets/games.csv', sep = ',')\n",
    "else:\n",
    "    games = pd.read_csv('games.csv', sep = ',')"
   ]
  },
  {
   "cell_type": "code",
   "execution_count": 3,
   "metadata": {},
   "outputs": [
    {
     "data": {
      "text/html": [
       "<div>\n",
       "<style scoped>\n",
       "    .dataframe tbody tr th:only-of-type {\n",
       "        vertical-align: middle;\n",
       "    }\n",
       "\n",
       "    .dataframe tbody tr th {\n",
       "        vertical-align: top;\n",
       "    }\n",
       "\n",
       "    .dataframe thead th {\n",
       "        text-align: right;\n",
       "    }\n",
       "</style>\n",
       "<table border=\"1\" class=\"dataframe\">\n",
       "  <thead>\n",
       "    <tr style=\"text-align: right;\">\n",
       "      <th></th>\n",
       "      <th>Name</th>\n",
       "      <th>Platform</th>\n",
       "      <th>Year_of_Release</th>\n",
       "      <th>Genre</th>\n",
       "      <th>NA_sales</th>\n",
       "      <th>EU_sales</th>\n",
       "      <th>JP_sales</th>\n",
       "      <th>Other_sales</th>\n",
       "      <th>Critic_Score</th>\n",
       "      <th>User_Score</th>\n",
       "      <th>Rating</th>\n",
       "    </tr>\n",
       "  </thead>\n",
       "  <tbody>\n",
       "    <tr>\n",
       "      <th>0</th>\n",
       "      <td>Wii Sports</td>\n",
       "      <td>Wii</td>\n",
       "      <td>2006.0</td>\n",
       "      <td>Sports</td>\n",
       "      <td>41.36</td>\n",
       "      <td>28.96</td>\n",
       "      <td>3.77</td>\n",
       "      <td>8.45</td>\n",
       "      <td>76.0</td>\n",
       "      <td>8</td>\n",
       "      <td>E</td>\n",
       "    </tr>\n",
       "    <tr>\n",
       "      <th>1</th>\n",
       "      <td>Super Mario Bros.</td>\n",
       "      <td>NES</td>\n",
       "      <td>1985.0</td>\n",
       "      <td>Platform</td>\n",
       "      <td>29.08</td>\n",
       "      <td>3.58</td>\n",
       "      <td>6.81</td>\n",
       "      <td>0.77</td>\n",
       "      <td>NaN</td>\n",
       "      <td>NaN</td>\n",
       "      <td>NaN</td>\n",
       "    </tr>\n",
       "    <tr>\n",
       "      <th>2</th>\n",
       "      <td>Mario Kart Wii</td>\n",
       "      <td>Wii</td>\n",
       "      <td>2008.0</td>\n",
       "      <td>Racing</td>\n",
       "      <td>15.68</td>\n",
       "      <td>12.76</td>\n",
       "      <td>3.79</td>\n",
       "      <td>3.29</td>\n",
       "      <td>82.0</td>\n",
       "      <td>8.3</td>\n",
       "      <td>E</td>\n",
       "    </tr>\n",
       "    <tr>\n",
       "      <th>3</th>\n",
       "      <td>Wii Sports Resort</td>\n",
       "      <td>Wii</td>\n",
       "      <td>2009.0</td>\n",
       "      <td>Sports</td>\n",
       "      <td>15.61</td>\n",
       "      <td>10.93</td>\n",
       "      <td>3.28</td>\n",
       "      <td>2.95</td>\n",
       "      <td>80.0</td>\n",
       "      <td>8</td>\n",
       "      <td>E</td>\n",
       "    </tr>\n",
       "    <tr>\n",
       "      <th>4</th>\n",
       "      <td>Pokemon Red/Pokemon Blue</td>\n",
       "      <td>GB</td>\n",
       "      <td>1996.0</td>\n",
       "      <td>Role-Playing</td>\n",
       "      <td>11.27</td>\n",
       "      <td>8.89</td>\n",
       "      <td>10.22</td>\n",
       "      <td>1.00</td>\n",
       "      <td>NaN</td>\n",
       "      <td>NaN</td>\n",
       "      <td>NaN</td>\n",
       "    </tr>\n",
       "  </tbody>\n",
       "</table>\n",
       "</div>"
      ],
      "text/plain": [
       "                       Name Platform  Year_of_Release         Genre  NA_sales  \\\n",
       "0                Wii Sports      Wii           2006.0        Sports     41.36   \n",
       "1         Super Mario Bros.      NES           1985.0      Platform     29.08   \n",
       "2            Mario Kart Wii      Wii           2008.0        Racing     15.68   \n",
       "3         Wii Sports Resort      Wii           2009.0        Sports     15.61   \n",
       "4  Pokemon Red/Pokemon Blue       GB           1996.0  Role-Playing     11.27   \n",
       "\n",
       "   EU_sales  JP_sales  Other_sales  Critic_Score User_Score Rating  \n",
       "0     28.96      3.77         8.45          76.0          8      E  \n",
       "1      3.58      6.81         0.77           NaN        NaN    NaN  \n",
       "2     12.76      3.79         3.29          82.0        8.3      E  \n",
       "3     10.93      3.28         2.95          80.0          8      E  \n",
       "4      8.89     10.22         1.00           NaN        NaN    NaN  "
      ]
     },
     "execution_count": 3,
     "metadata": {},
     "output_type": "execute_result"
    }
   ],
   "source": [
    "# просмотр первых пяти строк таблицы games\n",
    "games.head()"
   ]
  },
  {
   "cell_type": "markdown",
   "metadata": {},
   "source": [
    "В таблице 11 столбцов.\n",
    "\n",
    "Согласно документации к данным:\n",
    "* Name — название игры\n",
    "* Platform — платформа\n",
    "* Year_of_Release — год выпуска\n",
    "* Genre — жанр игры\n",
    "* NA_sales — продажи в Северной Америке (миллионы проданных копий)\n",
    "* EU_sales — продажи в Европе (миллионы проданных копий)\n",
    "* JP_sales — продажи в Японии (миллионы проданных копий)\n",
    "* Other_sales — продажи в других странах (миллионы проданных копий)\n",
    "* Critic_Score — оценка критиков (максимум 100)\n",
    "* User_Score — оценка пользователей (максимум 10)\n",
    "* Rating — рейтинг от организации ESRB (англ. Entertainment Software Rating Board). Эта ассоциация определяет рейтинг компьютерных игр и присваивает им подходящую возрастную категорию."
   ]
  },
  {
   "cell_type": "code",
   "execution_count": 4,
   "metadata": {},
   "outputs": [
    {
     "name": "stdout",
     "output_type": "stream",
     "text": [
      "<class 'pandas.core.frame.DataFrame'>\n",
      "RangeIndex: 16715 entries, 0 to 16714\n",
      "Data columns (total 11 columns):\n",
      " #   Column           Non-Null Count  Dtype  \n",
      "---  ------           --------------  -----  \n",
      " 0   Name             16713 non-null  object \n",
      " 1   Platform         16715 non-null  object \n",
      " 2   Year_of_Release  16446 non-null  float64\n",
      " 3   Genre            16713 non-null  object \n",
      " 4   NA_sales         16715 non-null  float64\n",
      " 5   EU_sales         16715 non-null  float64\n",
      " 6   JP_sales         16715 non-null  float64\n",
      " 7   Other_sales      16715 non-null  float64\n",
      " 8   Critic_Score     8137 non-null   float64\n",
      " 9   User_Score       10014 non-null  object \n",
      " 10  Rating           9949 non-null   object \n",
      "dtypes: float64(6), object(5)\n",
      "memory usage: 1.4+ MB\n"
     ]
    }
   ],
   "source": [
    "# получение общей информации о данных в таблице games\n",
    "games.info()"
   ]
  },
  {
   "cell_type": "code",
   "execution_count": 5,
   "metadata": {},
   "outputs": [
    {
     "data": {
      "text/html": [
       "<div>\n",
       "<style scoped>\n",
       "    .dataframe tbody tr th:only-of-type {\n",
       "        vertical-align: middle;\n",
       "    }\n",
       "\n",
       "    .dataframe tbody tr th {\n",
       "        vertical-align: top;\n",
       "    }\n",
       "\n",
       "    .dataframe thead th {\n",
       "        text-align: right;\n",
       "    }\n",
       "</style>\n",
       "<table border=\"1\" class=\"dataframe\">\n",
       "  <thead>\n",
       "    <tr style=\"text-align: right;\">\n",
       "      <th></th>\n",
       "      <th>count</th>\n",
       "      <th>mean</th>\n",
       "      <th>std</th>\n",
       "      <th>min</th>\n",
       "      <th>25%</th>\n",
       "      <th>50%</th>\n",
       "      <th>75%</th>\n",
       "      <th>max</th>\n",
       "    </tr>\n",
       "  </thead>\n",
       "  <tbody>\n",
       "    <tr>\n",
       "      <th>Year_of_Release</th>\n",
       "      <td>16446.0</td>\n",
       "      <td>2006.484616</td>\n",
       "      <td>5.877050</td>\n",
       "      <td>1980.0</td>\n",
       "      <td>2003.0</td>\n",
       "      <td>2007.00</td>\n",
       "      <td>2010.00</td>\n",
       "      <td>2016.00</td>\n",
       "    </tr>\n",
       "    <tr>\n",
       "      <th>NA_sales</th>\n",
       "      <td>16715.0</td>\n",
       "      <td>0.263377</td>\n",
       "      <td>0.813604</td>\n",
       "      <td>0.0</td>\n",
       "      <td>0.0</td>\n",
       "      <td>0.08</td>\n",
       "      <td>0.24</td>\n",
       "      <td>41.36</td>\n",
       "    </tr>\n",
       "    <tr>\n",
       "      <th>EU_sales</th>\n",
       "      <td>16715.0</td>\n",
       "      <td>0.145060</td>\n",
       "      <td>0.503339</td>\n",
       "      <td>0.0</td>\n",
       "      <td>0.0</td>\n",
       "      <td>0.02</td>\n",
       "      <td>0.11</td>\n",
       "      <td>28.96</td>\n",
       "    </tr>\n",
       "    <tr>\n",
       "      <th>JP_sales</th>\n",
       "      <td>16715.0</td>\n",
       "      <td>0.077617</td>\n",
       "      <td>0.308853</td>\n",
       "      <td>0.0</td>\n",
       "      <td>0.0</td>\n",
       "      <td>0.00</td>\n",
       "      <td>0.04</td>\n",
       "      <td>10.22</td>\n",
       "    </tr>\n",
       "    <tr>\n",
       "      <th>Other_sales</th>\n",
       "      <td>16715.0</td>\n",
       "      <td>0.047342</td>\n",
       "      <td>0.186731</td>\n",
       "      <td>0.0</td>\n",
       "      <td>0.0</td>\n",
       "      <td>0.01</td>\n",
       "      <td>0.03</td>\n",
       "      <td>10.57</td>\n",
       "    </tr>\n",
       "    <tr>\n",
       "      <th>Critic_Score</th>\n",
       "      <td>8137.0</td>\n",
       "      <td>68.967679</td>\n",
       "      <td>13.938165</td>\n",
       "      <td>13.0</td>\n",
       "      <td>60.0</td>\n",
       "      <td>71.00</td>\n",
       "      <td>79.00</td>\n",
       "      <td>98.00</td>\n",
       "    </tr>\n",
       "  </tbody>\n",
       "</table>\n",
       "</div>"
      ],
      "text/plain": [
       "                   count         mean        std     min     25%      50%  \\\n",
       "Year_of_Release  16446.0  2006.484616   5.877050  1980.0  2003.0  2007.00   \n",
       "NA_sales         16715.0     0.263377   0.813604     0.0     0.0     0.08   \n",
       "EU_sales         16715.0     0.145060   0.503339     0.0     0.0     0.02   \n",
       "JP_sales         16715.0     0.077617   0.308853     0.0     0.0     0.00   \n",
       "Other_sales      16715.0     0.047342   0.186731     0.0     0.0     0.01   \n",
       "Critic_Score      8137.0    68.967679  13.938165    13.0    60.0    71.00   \n",
       "\n",
       "                     75%      max  \n",
       "Year_of_Release  2010.00  2016.00  \n",
       "NA_sales            0.24    41.36  \n",
       "EU_sales            0.11    28.96  \n",
       "JP_sales            0.04    10.22  \n",
       "Other_sales         0.03    10.57  \n",
       "Critic_Score       79.00    98.00  "
      ]
     },
     "execution_count": 5,
     "metadata": {},
     "output_type": "execute_result"
    }
   ],
   "source": [
    "# изучим средние значения и стандартные отклонения при помощи метода describe()\n",
    "games.describe().T"
   ]
  },
  {
   "cell_type": "code",
   "execution_count": 6,
   "metadata": {},
   "outputs": [
    {
     "data": {
      "text/plain": [
       "Name                0.01\n",
       "Platform            0.00\n",
       "Year_of_Release     1.61\n",
       "Genre               0.01\n",
       "NA_sales            0.00\n",
       "EU_sales            0.00\n",
       "JP_sales            0.00\n",
       "Other_sales         0.00\n",
       "Critic_Score       51.32\n",
       "User_Score         40.09\n",
       "Rating             40.48\n",
       "dtype: float64"
      ]
     },
     "execution_count": 6,
     "metadata": {},
     "output_type": "execute_result"
    }
   ],
   "source": [
    "# определеним количество пропусков в процентах\n",
    "(games.isna().mean().round(4))*100"
   ]
  },
  {
   "cell_type": "code",
   "execution_count": 7,
   "metadata": {},
   "outputs": [
    {
     "data": {
      "text/plain": [
       "0"
      ]
     },
     "execution_count": 7,
     "metadata": {},
     "output_type": "execute_result"
    }
   ],
   "source": [
    "# проверим наличие явных дубликатов\n",
    "games.duplicated().sum()"
   ]
  },
  {
   "cell_type": "markdown",
   "metadata": {},
   "source": [
    "### Вывод:\n",
    "\n",
    "После начального изучения данных, было обнаруженно:\n",
    "* есть пропуски в столбцах: Name (0.01%), Year_of_Release (1.61%), Genre (0.01%), Critic_Score (51.32%), User_Score (40.09%), Rating (40.48%)\n",
    "* там где пропуски составляют меньше 5%, просто удалим.\n",
    "* тип данных у столбца Year_of_Release - float64, можно изменить на целое (int) для удобства\n",
    "* тип данных у столбца User_Score - object, ниже изучим значения данного столбца подробнее и определим почему он имеет такой тип.\n",
    "* все значения, в пределах нормы.\n",
    "* проверили на наличие явных дубликатов, убедились, что они отсутствуют."
   ]
  },
  {
   "cell_type": "markdown",
   "metadata": {},
   "source": [
    "## Подготовка данных"
   ]
  },
  {
   "cell_type": "code",
   "execution_count": 8,
   "metadata": {},
   "outputs": [],
   "source": [
    "# приведем названия столбцов к нижнему регистру\n",
    "games.columns = games.columns.str.lower()"
   ]
  },
  {
   "cell_type": "code",
   "execution_count": 9,
   "metadata": {},
   "outputs": [],
   "source": [
    "# От строк с пропусками в столбцах 'name', 'year_of_release', 'genre' избавимся методом dropna(). \n",
    "games = games.dropna(subset=['name', 'year_of_release', 'genre']).reset_index(drop = True) "
   ]
  },
  {
   "cell_type": "code",
   "execution_count": 10,
   "metadata": {},
   "outputs": [],
   "source": [
    "# для удобства просмотра данных меняем тип данных на целочисленный \n",
    "games['year_of_release'] = games['year_of_release'].astype('int') "
   ]
  },
  {
   "cell_type": "code",
   "execution_count": 11,
   "metadata": {},
   "outputs": [
    {
     "data": {
      "text/html": [
       "<div>\n",
       "<style scoped>\n",
       "    .dataframe tbody tr th:only-of-type {\n",
       "        vertical-align: middle;\n",
       "    }\n",
       "\n",
       "    .dataframe tbody tr th {\n",
       "        vertical-align: top;\n",
       "    }\n",
       "\n",
       "    .dataframe thead th {\n",
       "        text-align: right;\n",
       "    }\n",
       "</style>\n",
       "<table border=\"1\" class=\"dataframe\">\n",
       "  <thead>\n",
       "    <tr style=\"text-align: right;\">\n",
       "      <th></th>\n",
       "      <th>name</th>\n",
       "      <th>platform</th>\n",
       "      <th>year_of_release</th>\n",
       "      <th>genre</th>\n",
       "      <th>na_sales</th>\n",
       "      <th>eu_sales</th>\n",
       "      <th>jp_sales</th>\n",
       "      <th>other_sales</th>\n",
       "      <th>critic_score</th>\n",
       "      <th>user_score</th>\n",
       "      <th>rating</th>\n",
       "    </tr>\n",
       "  </thead>\n",
       "  <tbody>\n",
       "    <tr>\n",
       "      <th>5299</th>\n",
       "      <td>Mario &amp; Sonic at the Rio 2016 Olympic Games</td>\n",
       "      <td>WiiU</td>\n",
       "      <td>2016</td>\n",
       "      <td>Action</td>\n",
       "      <td>0.07</td>\n",
       "      <td>0.14</td>\n",
       "      <td>0.11</td>\n",
       "      <td>0.02</td>\n",
       "      <td>NaN</td>\n",
       "      <td>NaN</td>\n",
       "      <td>NaN</td>\n",
       "    </tr>\n",
       "    <tr>\n",
       "      <th>10495</th>\n",
       "      <td>LEGO Rock Raiders</td>\n",
       "      <td>PS</td>\n",
       "      <td>1999</td>\n",
       "      <td>Strategy</td>\n",
       "      <td>0.06</td>\n",
       "      <td>0.04</td>\n",
       "      <td>0.00</td>\n",
       "      <td>0.01</td>\n",
       "      <td>NaN</td>\n",
       "      <td>NaN</td>\n",
       "      <td>NaN</td>\n",
       "    </tr>\n",
       "    <tr>\n",
       "      <th>3615</th>\n",
       "      <td>Mortal Kombat 3</td>\n",
       "      <td>PS</td>\n",
       "      <td>1995</td>\n",
       "      <td>Fighting</td>\n",
       "      <td>0.29</td>\n",
       "      <td>0.20</td>\n",
       "      <td>0.02</td>\n",
       "      <td>0.04</td>\n",
       "      <td>NaN</td>\n",
       "      <td>NaN</td>\n",
       "      <td>NaN</td>\n",
       "    </tr>\n",
       "    <tr>\n",
       "      <th>5639</th>\n",
       "      <td>Jampack: Summer 2003 (RP-M)</td>\n",
       "      <td>PS2</td>\n",
       "      <td>2003</td>\n",
       "      <td>Misc</td>\n",
       "      <td>0.15</td>\n",
       "      <td>0.12</td>\n",
       "      <td>0.00</td>\n",
       "      <td>0.04</td>\n",
       "      <td>NaN</td>\n",
       "      <td>NaN</td>\n",
       "      <td>NaN</td>\n",
       "    </tr>\n",
       "    <tr>\n",
       "      <th>7410</th>\n",
       "      <td>Shining Blade</td>\n",
       "      <td>PSP</td>\n",
       "      <td>2012</td>\n",
       "      <td>Role-Playing</td>\n",
       "      <td>0.00</td>\n",
       "      <td>0.00</td>\n",
       "      <td>0.20</td>\n",
       "      <td>0.00</td>\n",
       "      <td>NaN</td>\n",
       "      <td>NaN</td>\n",
       "      <td>NaN</td>\n",
       "    </tr>\n",
       "  </tbody>\n",
       "</table>\n",
       "</div>"
      ],
      "text/plain": [
       "                                              name platform  year_of_release  \\\n",
       "5299   Mario & Sonic at the Rio 2016 Olympic Games     WiiU             2016   \n",
       "10495                            LEGO Rock Raiders       PS             1999   \n",
       "3615                               Mortal Kombat 3       PS             1995   \n",
       "5639                   Jampack: Summer 2003 (RP-M)      PS2             2003   \n",
       "7410                                 Shining Blade      PSP             2012   \n",
       "\n",
       "              genre  na_sales  eu_sales  jp_sales  other_sales  critic_score  \\\n",
       "5299         Action      0.07      0.14      0.11         0.02           NaN   \n",
       "10495      Strategy      0.06      0.04      0.00         0.01           NaN   \n",
       "3615       Fighting      0.29      0.20      0.02         0.04           NaN   \n",
       "5639           Misc      0.15      0.12      0.00         0.04           NaN   \n",
       "7410   Role-Playing      0.00      0.00      0.20         0.00           NaN   \n",
       "\n",
       "      user_score rating  \n",
       "5299         NaN    NaN  \n",
       "10495        NaN    NaN  \n",
       "3615         NaN    NaN  \n",
       "5639         NaN    NaN  \n",
       "7410         NaN    NaN  "
      ]
     },
     "execution_count": 11,
     "metadata": {},
     "output_type": "execute_result"
    }
   ],
   "source": [
    "#поиск пропусков методом isna() в столбце 'rating'\n",
    "games[games['rating'].isna()].sample(5, random_state=104)"
   ]
  },
  {
   "cell_type": "code",
   "execution_count": 12,
   "metadata": {},
   "outputs": [
    {
     "data": {
      "text/plain": [
       "E       3921\n",
       "T       2905\n",
       "M       1536\n",
       "E10+    1393\n",
       "EC         8\n",
       "K-A        3\n",
       "AO         1\n",
       "RP         1\n",
       "Name: rating, dtype: int64"
      ]
     },
     "execution_count": 12,
     "metadata": {},
     "output_type": "execute_result"
    }
   ],
   "source": [
    "# посмотрим уникальные значения и их кол-во в столбце 'rating'\n",
    "games['rating'].value_counts()"
   ]
  },
  {
   "cell_type": "markdown",
   "metadata": {},
   "source": [
    " В ESRB есть категория, которой не присвоен окончательный рейтинг, она обозначается - RP. Скорее всего пропуски означают, что игре еще не присвоена категория. Заменим все пропуски данным обозначением. Так же видно есть обозначение К-А его нет в ESRB. К-А рейтинг присвоен всего трем играм, тк кол-во не большое, заменим данный рейтинг тоже категорией RP."
   ]
  },
  {
   "cell_type": "code",
   "execution_count": 13,
   "metadata": {},
   "outputs": [],
   "source": [
    "# замена пропусков в столбце rating на RP ('категория, которой не присвоен окончательный рейтинг')\n",
    "games['rating'] = games['rating'].fillna('RP')"
   ]
  },
  {
   "cell_type": "code",
   "execution_count": 14,
   "metadata": {},
   "outputs": [],
   "source": [
    "# замена значения К-А в столбце rating на RP\n",
    "games['rating'] = games['rating'].replace('K-A', 'RP') "
   ]
  },
  {
   "cell_type": "code",
   "execution_count": 15,
   "metadata": {},
   "outputs": [
    {
     "data": {
      "text/plain": [
       "tbd    2376\n",
       "7.8     322\n",
       "8       285\n",
       "8.2     276\n",
       "8.3     252\n",
       "       ... \n",
       "1.5       2\n",
       "0.7       2\n",
       "0.9       2\n",
       "9.7       1\n",
       "0         1\n",
       "Name: user_score, Length: 96, dtype: int64"
      ]
     },
     "execution_count": 15,
     "metadata": {},
     "output_type": "execute_result"
    }
   ],
   "source": [
    "# посмотрим уникальные значения и их кол-во в столбце 'user_score'\n",
    "games['user_score'].value_counts()"
   ]
  },
  {
   "cell_type": "markdown",
   "metadata": {},
   "source": [
    "Видно что самое большое кол-во занимает значение tbd - оно означает \"будет определено\". То есть рейтинг в данный момент не определен, но скоро будет. Заменим его на nan, для удобства при дальнейших вычислениях. А затем сгрупируем данные по платформам и заполним все пропуски средним значением по ним."
   ]
  },
  {
   "cell_type": "code",
   "execution_count": 16,
   "metadata": {},
   "outputs": [],
   "source": [
    "# замена значения tbd в столбце user_score на nan\n",
    "games.loc[games['user_score'] == 'tbd', 'user_score'] = float('nan')"
   ]
  },
  {
   "cell_type": "code",
   "execution_count": 17,
   "metadata": {},
   "outputs": [],
   "source": [
    "# заменим тип данных у столбца user_score на float\n",
    "games['user_score'] = games['user_score'].astype(float)"
   ]
  },
  {
   "cell_type": "code",
   "execution_count": 18,
   "metadata": {},
   "outputs": [],
   "source": [
    "#заполним пропуски заглушкой - 0\n",
    "games['user_score'] = games['user_score'].fillna(0)\n",
    "games['critic_score'] = games['critic_score'].fillna(0)"
   ]
  },
  {
   "cell_type": "code",
   "execution_count": 19,
   "metadata": {},
   "outputs": [
    {
     "data": {
      "text/plain": [
       "name               0\n",
       "platform           0\n",
       "year_of_release    0\n",
       "genre              0\n",
       "na_sales           0\n",
       "eu_sales           0\n",
       "jp_sales           0\n",
       "other_sales        0\n",
       "critic_score       0\n",
       "user_score         0\n",
       "rating             0\n",
       "dtype: int64"
      ]
     },
     "execution_count": 19,
     "metadata": {},
     "output_type": "execute_result"
    }
   ],
   "source": [
    "# проверим остались ли пропуски\n",
    "games.isna().sum()"
   ]
  },
  {
   "cell_type": "code",
   "execution_count": 20,
   "metadata": {},
   "outputs": [],
   "source": [
    "# посчитаем суммарные продажи во всех регионах и запишите их в отдельный столбец\n",
    "games['sum_sales'] = games[['na_sales', 'eu_sales', 'jp_sales', 'other_sales']].sum(axis = 1)"
   ]
  },
  {
   "cell_type": "code",
   "execution_count": 21,
   "metadata": {},
   "outputs": [
    {
     "data": {
      "text/html": [
       "<div>\n",
       "<style scoped>\n",
       "    .dataframe tbody tr th:only-of-type {\n",
       "        vertical-align: middle;\n",
       "    }\n",
       "\n",
       "    .dataframe tbody tr th {\n",
       "        vertical-align: top;\n",
       "    }\n",
       "\n",
       "    .dataframe thead th {\n",
       "        text-align: right;\n",
       "    }\n",
       "</style>\n",
       "<table border=\"1\" class=\"dataframe\">\n",
       "  <thead>\n",
       "    <tr style=\"text-align: right;\">\n",
       "      <th></th>\n",
       "      <th>name</th>\n",
       "      <th>platform</th>\n",
       "      <th>year_of_release</th>\n",
       "      <th>genre</th>\n",
       "      <th>na_sales</th>\n",
       "      <th>eu_sales</th>\n",
       "      <th>jp_sales</th>\n",
       "      <th>other_sales</th>\n",
       "      <th>critic_score</th>\n",
       "      <th>user_score</th>\n",
       "      <th>rating</th>\n",
       "      <th>sum_sales</th>\n",
       "    </tr>\n",
       "  </thead>\n",
       "  <tbody>\n",
       "    <tr>\n",
       "      <th>0</th>\n",
       "      <td>Wii Sports</td>\n",
       "      <td>Wii</td>\n",
       "      <td>2006</td>\n",
       "      <td>Sports</td>\n",
       "      <td>41.36</td>\n",
       "      <td>28.96</td>\n",
       "      <td>3.77</td>\n",
       "      <td>8.45</td>\n",
       "      <td>76.0</td>\n",
       "      <td>8.0</td>\n",
       "      <td>E</td>\n",
       "      <td>82.54</td>\n",
       "    </tr>\n",
       "    <tr>\n",
       "      <th>1</th>\n",
       "      <td>Super Mario Bros.</td>\n",
       "      <td>NES</td>\n",
       "      <td>1985</td>\n",
       "      <td>Platform</td>\n",
       "      <td>29.08</td>\n",
       "      <td>3.58</td>\n",
       "      <td>6.81</td>\n",
       "      <td>0.77</td>\n",
       "      <td>0.0</td>\n",
       "      <td>0.0</td>\n",
       "      <td>RP</td>\n",
       "      <td>40.24</td>\n",
       "    </tr>\n",
       "    <tr>\n",
       "      <th>2</th>\n",
       "      <td>Mario Kart Wii</td>\n",
       "      <td>Wii</td>\n",
       "      <td>2008</td>\n",
       "      <td>Racing</td>\n",
       "      <td>15.68</td>\n",
       "      <td>12.76</td>\n",
       "      <td>3.79</td>\n",
       "      <td>3.29</td>\n",
       "      <td>82.0</td>\n",
       "      <td>8.3</td>\n",
       "      <td>E</td>\n",
       "      <td>35.52</td>\n",
       "    </tr>\n",
       "    <tr>\n",
       "      <th>3</th>\n",
       "      <td>Wii Sports Resort</td>\n",
       "      <td>Wii</td>\n",
       "      <td>2009</td>\n",
       "      <td>Sports</td>\n",
       "      <td>15.61</td>\n",
       "      <td>10.93</td>\n",
       "      <td>3.28</td>\n",
       "      <td>2.95</td>\n",
       "      <td>80.0</td>\n",
       "      <td>8.0</td>\n",
       "      <td>E</td>\n",
       "      <td>32.77</td>\n",
       "    </tr>\n",
       "    <tr>\n",
       "      <th>4</th>\n",
       "      <td>Pokemon Red/Pokemon Blue</td>\n",
       "      <td>GB</td>\n",
       "      <td>1996</td>\n",
       "      <td>Role-Playing</td>\n",
       "      <td>11.27</td>\n",
       "      <td>8.89</td>\n",
       "      <td>10.22</td>\n",
       "      <td>1.00</td>\n",
       "      <td>0.0</td>\n",
       "      <td>0.0</td>\n",
       "      <td>RP</td>\n",
       "      <td>31.38</td>\n",
       "    </tr>\n",
       "  </tbody>\n",
       "</table>\n",
       "</div>"
      ],
      "text/plain": [
       "                       name platform  year_of_release         genre  na_sales  \\\n",
       "0                Wii Sports      Wii             2006        Sports     41.36   \n",
       "1         Super Mario Bros.      NES             1985      Platform     29.08   \n",
       "2            Mario Kart Wii      Wii             2008        Racing     15.68   \n",
       "3         Wii Sports Resort      Wii             2009        Sports     15.61   \n",
       "4  Pokemon Red/Pokemon Blue       GB             1996  Role-Playing     11.27   \n",
       "\n",
       "   eu_sales  jp_sales  other_sales  critic_score  user_score rating  sum_sales  \n",
       "0     28.96      3.77         8.45          76.0         8.0      E      82.54  \n",
       "1      3.58      6.81         0.77           0.0         0.0     RP      40.24  \n",
       "2     12.76      3.79         3.29          82.0         8.3      E      35.52  \n",
       "3     10.93      3.28         2.95          80.0         8.0      E      32.77  \n",
       "4      8.89     10.22         1.00           0.0         0.0     RP      31.38  "
      ]
     },
     "execution_count": 21,
     "metadata": {},
     "output_type": "execute_result"
    }
   ],
   "source": [
    "# посмотрим обновленную таблицу\n",
    "games.head()"
   ]
  },
  {
   "cell_type": "markdown",
   "metadata": {},
   "source": [
    "### Вывод:\n",
    "\n",
    "При подготовке данных, мы:\n",
    "\n",
    "- привели все названия столбцов к нижнему регистру.\n",
    "\n",
    "- удалили строчки в столбцах (name, year_of_release и genre), где пропуски составили меньше 5 %.\n",
    "\n",
    "- изменили тип данных у столбцов year_of_release (на int) и user_score (на float)\n",
    "\n",
    "- изучили пропуски в столбце rating и заменили их и значение \"К-А\" на значения \"RP\".\n",
    "\n",
    "- значение \"tbd\" в столбце user_score заменили на nan.\n",
    "\n",
    "- остальные пропущенные значения с рейтингами в столбцах critic_scor, user_score мы заполнили заглушкой - 0.\n",
    "- для дальнейших расчетов, добавили новый столбец к таблице с суммой всех продаж по всем регионам."
   ]
  },
  {
   "cell_type": "markdown",
   "metadata": {},
   "source": [
    "## Исследовательский анализ данных"
   ]
  },
  {
   "cell_type": "markdown",
   "metadata": {},
   "source": [
    "### Сколько игр выпускалось в разные годы. "
   ]
  },
  {
   "cell_type": "code",
   "execution_count": 22,
   "metadata": {},
   "outputs": [
    {
     "data": {
      "text/html": [
       "<div>\n",
       "<style scoped>\n",
       "    .dataframe tbody tr th:only-of-type {\n",
       "        vertical-align: middle;\n",
       "    }\n",
       "\n",
       "    .dataframe tbody tr th {\n",
       "        vertical-align: top;\n",
       "    }\n",
       "\n",
       "    .dataframe thead th {\n",
       "        text-align: right;\n",
       "    }\n",
       "</style>\n",
       "<table border=\"1\" class=\"dataframe\">\n",
       "  <thead>\n",
       "    <tr style=\"text-align: right;\">\n",
       "      <th></th>\n",
       "      <th>year_of_release</th>\n",
       "      <th>counts</th>\n",
       "    </tr>\n",
       "  </thead>\n",
       "  <tbody>\n",
       "    <tr>\n",
       "      <th>0</th>\n",
       "      <td>1980</td>\n",
       "      <td>9</td>\n",
       "    </tr>\n",
       "    <tr>\n",
       "      <th>1</th>\n",
       "      <td>1981</td>\n",
       "      <td>46</td>\n",
       "    </tr>\n",
       "    <tr>\n",
       "      <th>2</th>\n",
       "      <td>1982</td>\n",
       "      <td>36</td>\n",
       "    </tr>\n",
       "    <tr>\n",
       "      <th>3</th>\n",
       "      <td>1983</td>\n",
       "      <td>17</td>\n",
       "    </tr>\n",
       "    <tr>\n",
       "      <th>4</th>\n",
       "      <td>1984</td>\n",
       "      <td>14</td>\n",
       "    </tr>\n",
       "    <tr>\n",
       "      <th>5</th>\n",
       "      <td>1985</td>\n",
       "      <td>14</td>\n",
       "    </tr>\n",
       "    <tr>\n",
       "      <th>6</th>\n",
       "      <td>1986</td>\n",
       "      <td>21</td>\n",
       "    </tr>\n",
       "    <tr>\n",
       "      <th>7</th>\n",
       "      <td>1987</td>\n",
       "      <td>16</td>\n",
       "    </tr>\n",
       "    <tr>\n",
       "      <th>8</th>\n",
       "      <td>1988</td>\n",
       "      <td>15</td>\n",
       "    </tr>\n",
       "    <tr>\n",
       "      <th>9</th>\n",
       "      <td>1989</td>\n",
       "      <td>17</td>\n",
       "    </tr>\n",
       "    <tr>\n",
       "      <th>10</th>\n",
       "      <td>1990</td>\n",
       "      <td>16</td>\n",
       "    </tr>\n",
       "    <tr>\n",
       "      <th>11</th>\n",
       "      <td>1991</td>\n",
       "      <td>41</td>\n",
       "    </tr>\n",
       "    <tr>\n",
       "      <th>12</th>\n",
       "      <td>1992</td>\n",
       "      <td>43</td>\n",
       "    </tr>\n",
       "    <tr>\n",
       "      <th>13</th>\n",
       "      <td>1993</td>\n",
       "      <td>60</td>\n",
       "    </tr>\n",
       "    <tr>\n",
       "      <th>14</th>\n",
       "      <td>1994</td>\n",
       "      <td>121</td>\n",
       "    </tr>\n",
       "    <tr>\n",
       "      <th>15</th>\n",
       "      <td>1995</td>\n",
       "      <td>219</td>\n",
       "    </tr>\n",
       "    <tr>\n",
       "      <th>16</th>\n",
       "      <td>1996</td>\n",
       "      <td>263</td>\n",
       "    </tr>\n",
       "    <tr>\n",
       "      <th>17</th>\n",
       "      <td>1997</td>\n",
       "      <td>289</td>\n",
       "    </tr>\n",
       "    <tr>\n",
       "      <th>18</th>\n",
       "      <td>1998</td>\n",
       "      <td>379</td>\n",
       "    </tr>\n",
       "    <tr>\n",
       "      <th>19</th>\n",
       "      <td>1999</td>\n",
       "      <td>338</td>\n",
       "    </tr>\n",
       "    <tr>\n",
       "      <th>20</th>\n",
       "      <td>2000</td>\n",
       "      <td>350</td>\n",
       "    </tr>\n",
       "    <tr>\n",
       "      <th>21</th>\n",
       "      <td>2001</td>\n",
       "      <td>482</td>\n",
       "    </tr>\n",
       "    <tr>\n",
       "      <th>22</th>\n",
       "      <td>2002</td>\n",
       "      <td>829</td>\n",
       "    </tr>\n",
       "    <tr>\n",
       "      <th>23</th>\n",
       "      <td>2003</td>\n",
       "      <td>775</td>\n",
       "    </tr>\n",
       "    <tr>\n",
       "      <th>24</th>\n",
       "      <td>2004</td>\n",
       "      <td>762</td>\n",
       "    </tr>\n",
       "    <tr>\n",
       "      <th>25</th>\n",
       "      <td>2005</td>\n",
       "      <td>939</td>\n",
       "    </tr>\n",
       "    <tr>\n",
       "      <th>26</th>\n",
       "      <td>2006</td>\n",
       "      <td>1006</td>\n",
       "    </tr>\n",
       "    <tr>\n",
       "      <th>27</th>\n",
       "      <td>2007</td>\n",
       "      <td>1197</td>\n",
       "    </tr>\n",
       "    <tr>\n",
       "      <th>28</th>\n",
       "      <td>2008</td>\n",
       "      <td>1427</td>\n",
       "    </tr>\n",
       "    <tr>\n",
       "      <th>29</th>\n",
       "      <td>2009</td>\n",
       "      <td>1426</td>\n",
       "    </tr>\n",
       "    <tr>\n",
       "      <th>30</th>\n",
       "      <td>2010</td>\n",
       "      <td>1255</td>\n",
       "    </tr>\n",
       "    <tr>\n",
       "      <th>31</th>\n",
       "      <td>2011</td>\n",
       "      <td>1136</td>\n",
       "    </tr>\n",
       "    <tr>\n",
       "      <th>32</th>\n",
       "      <td>2012</td>\n",
       "      <td>653</td>\n",
       "    </tr>\n",
       "    <tr>\n",
       "      <th>33</th>\n",
       "      <td>2013</td>\n",
       "      <td>544</td>\n",
       "    </tr>\n",
       "    <tr>\n",
       "      <th>34</th>\n",
       "      <td>2014</td>\n",
       "      <td>581</td>\n",
       "    </tr>\n",
       "    <tr>\n",
       "      <th>35</th>\n",
       "      <td>2015</td>\n",
       "      <td>606</td>\n",
       "    </tr>\n",
       "    <tr>\n",
       "      <th>36</th>\n",
       "      <td>2016</td>\n",
       "      <td>502</td>\n",
       "    </tr>\n",
       "  </tbody>\n",
       "</table>\n",
       "</div>"
      ],
      "text/plain": [
       "    year_of_release  counts\n",
       "0              1980       9\n",
       "1              1981      46\n",
       "2              1982      36\n",
       "3              1983      17\n",
       "4              1984      14\n",
       "5              1985      14\n",
       "6              1986      21\n",
       "7              1987      16\n",
       "8              1988      15\n",
       "9              1989      17\n",
       "10             1990      16\n",
       "11             1991      41\n",
       "12             1992      43\n",
       "13             1993      60\n",
       "14             1994     121\n",
       "15             1995     219\n",
       "16             1996     263\n",
       "17             1997     289\n",
       "18             1998     379\n",
       "19             1999     338\n",
       "20             2000     350\n",
       "21             2001     482\n",
       "22             2002     829\n",
       "23             2003     775\n",
       "24             2004     762\n",
       "25             2005     939\n",
       "26             2006    1006\n",
       "27             2007    1197\n",
       "28             2008    1427\n",
       "29             2009    1426\n",
       "30             2010    1255\n",
       "31             2011    1136\n",
       "32             2012     653\n",
       "33             2013     544\n",
       "34             2014     581\n",
       "35             2015     606\n",
       "36             2016     502"
      ]
     },
     "execution_count": 22,
     "metadata": {},
     "output_type": "execute_result"
    }
   ],
   "source": [
    "# применим метод groupby\n",
    "games_cnt = (games.groupby('year_of_release')\n",
    "                  .agg({'name':'count'})\n",
    "                  .reset_index()\n",
    "                  .rename(columns={'name':'counts'}))\n",
    "games_cnt"
   ]
  },
  {
   "cell_type": "code",
   "execution_count": 23,
   "metadata": {},
   "outputs": [
    {
     "data": {
      "image/png": "[encoded data removed]",
      "text/plain": [
       "<Figure size 576x432 with 1 Axes>"
      ]
     },
     "metadata": {
      "needs_background": "light"
     },
     "output_type": "display_data"
    }
   ],
   "source": [
    "# построим график распределения кол-ва выпущенных игр по годам\n",
    "games_cnt.plot(x='year_of_release', y='counts', kind='bar', figsize=(8, 6)) \n",
    "plt.title('Распределение кол-ва выпущенных игр по годам')\n",
    "plt.xlabel('Годы')\n",
    "plt.ylabel('Кол-во игр')\n",
    "plt.show()"
   ]
  },
  {
   "cell_type": "markdown",
   "metadata": {},
   "source": [
    "#### Вывод:\n",
    "\n",
    "Данные по играм даны с 1980 по 2016 года.\n",
    "\n",
    "Если рассматривать весь период, то в 2008 и 2009 годы выпустилось всех больше игр (1427 и 1426), всех меньше выпустилось игр в 1980 (9).\n",
    "\n",
    "По графику видно, что до 1995 было выпущено менее 200 игр в год, возможно стоит пренебречь отрезком с 1980 до 1995 года."
   ]
  },
  {
   "cell_type": "markdown",
   "metadata": {},
   "source": [
    "### Оценка: как менялись продажи по платформам. "
   ]
  },
  {
   "cell_type": "code",
   "execution_count": 24,
   "metadata": {},
   "outputs": [
    {
     "data": {
      "text/plain": [
       "platform\n",
       "PS2     1233.56\n",
       "X360     961.24\n",
       "PS3      931.34\n",
       "Wii      891.18\n",
       "DS       802.78\n",
       "PS       727.58\n",
       "PS4      314.14\n",
       "GBA      312.88\n",
       "PSP      289.53\n",
       "3DS      257.81\n",
       "Name: sum_sales, dtype: float64"
      ]
     },
     "execution_count": 24,
     "metadata": {},
     "output_type": "execute_result"
    }
   ],
   "source": [
    "# выберем 10 платформ с наибольшими суммарными продажами\n",
    "games_top_10 = games.groupby('platform')['sum_sales'].sum().sort_values(ascending=False)\n",
    "games_top_10 = games_top_10.head(10)\n",
    "games_top_10"
   ]
  },
  {
   "cell_type": "code",
   "execution_count": 25,
   "metadata": {},
   "outputs": [],
   "source": [
    "# создадим новую таблицу, куда войдут только топ-10 платформ по сумме продаж\n",
    "games_top = games.query('platform in (@games_top_10.index)')"
   ]
  },
  {
   "cell_type": "code",
   "execution_count": 26,
   "metadata": {},
   "outputs": [
    {
     "data": {
      "image/png": "[encoded data removed]",
      "text/plain": [
       "<Figure size 1080x360 with 1 Axes>"
      ]
     },
     "metadata": {
      "needs_background": "light"
     },
     "output_type": "display_data"
    }
   ],
   "source": [
    "# построим распределение по годам данных платформ \n",
    "(games_top.pivot_table(index='year_of_release', columns = 'platform', values='sum_sales', aggfunc='sum')\n",
    "         .plot(kind='bar', grid=True, figsize=(15, 5)))\n",
    "plt.title('Распределение суммарных продаж платформ по годам')\n",
    "plt.xlabel('Годы')\n",
    "plt.ylabel('Суммарные продажи')\n",
    "plt.show()"
   ]
  },
  {
   "cell_type": "markdown",
   "metadata": {},
   "source": [
    "#### Вывод:\n",
    "\n",
    "1. Выбрали топ-10 платформ с наибольшими суммарными продажами.\n",
    "2. Построили распределение по годам\n",
    "3. Из графика видно, что в среднем платформа \"живет\" около 10 лет.\n",
    "4. График опять же подтверждает теорию выше, о том, что надо пренебречь данными за года с 1980 до 1995. Так мы видим, что в топ-10 платформ по сумме продаж вошли платформы как раз примерно начиная с 1995 года. Нет смысла анализировать платформы с маленькими продажами, так как нам надо выявить закономерности определяющие успешность игр. А сумму продаж как раз можно отнести к одному из определений успеха.\n",
    "5. Так как мир игровой индустрии очень динамично меняется во времени и чтобы не захватить отжившие тренды выберем актуальный период 2 года, то есть будем исследовать дальше данные за 2015-2016 года."
   ]
  },
  {
   "cell_type": "markdown",
   "metadata": {},
   "source": [
    "Обновим нашу таблицу и оставим данные только начиная с 2015 года."
   ]
  },
  {
   "cell_type": "code",
   "execution_count": 27,
   "metadata": {},
   "outputs": [],
   "source": [
    "# перезапишем таблицу games и при помощи метода query() отберем года, начиная с 2015 года.\n",
    "games = games.query('year_of_release>2014')"
   ]
  },
  {
   "cell_type": "markdown",
   "metadata": {},
   "source": [
    "### Платформы, лидирующие по продажам."
   ]
  },
  {
   "cell_type": "code",
   "execution_count": 28,
   "metadata": {},
   "outputs": [
    {
     "data": {
      "image/png": "[encoded data removed]",
      "text/plain": [
       "<Figure size 576x360 with 1 Axes>"
      ]
     },
     "metadata": {
      "needs_background": "light"
     },
     "output_type": "display_data"
    }
   ],
   "source": [
    "# сгрупируем данные по платформам, посчитаем общую сумму их продаж, отсортируем\n",
    "games_ptf = (games.pivot_table(index=['platform'], values='sum_sales', aggfunc='sum')\n",
    "                 .reset_index()\n",
    "                 .sort_values(by='sum_sales', ascending=False))\n",
    " \n",
    "# построим график распределния  продаж по платформам при помощи barplot()\n",
    "plt.figure(figsize=(8, 5))\n",
    "sns.barplot(data = games_ptf, x='platform', y='sum_sales', color = 'blue')\n",
    "plt.title('Продажи по платформам')\n",
    "plt.xlabel('Платформы')\n",
    "plt.ylabel('Суммарные продажи')\n",
    "plt.show()    "
   ]
  },
  {
   "cell_type": "code",
   "execution_count": 29,
   "metadata": {},
   "outputs": [
    {
     "data": {
      "text/html": [
       "<div>\n",
       "<style scoped>\n",
       "    .dataframe tbody tr th:only-of-type {\n",
       "        vertical-align: middle;\n",
       "    }\n",
       "\n",
       "    .dataframe tbody tr th {\n",
       "        vertical-align: top;\n",
       "    }\n",
       "\n",
       "    .dataframe thead th {\n",
       "        text-align: right;\n",
       "    }\n",
       "</style>\n",
       "<table border=\"1\" class=\"dataframe\">\n",
       "  <thead>\n",
       "    <tr style=\"text-align: right;\">\n",
       "      <th></th>\n",
       "      <th>platform</th>\n",
       "      <th>sum_sales</th>\n",
       "    </tr>\n",
       "  </thead>\n",
       "  <tbody>\n",
       "    <tr>\n",
       "      <th>0</th>\n",
       "      <td>PS4</td>\n",
       "      <td>188.15</td>\n",
       "    </tr>\n",
       "    <tr>\n",
       "      <th>1</th>\n",
       "      <td>XOne</td>\n",
       "      <td>86.29</td>\n",
       "    </tr>\n",
       "    <tr>\n",
       "      <th>2</th>\n",
       "      <td>3DS</td>\n",
       "      <td>42.92</td>\n",
       "    </tr>\n",
       "    <tr>\n",
       "      <th>3</th>\n",
       "      <td>WiiU</td>\n",
       "      <td>20.95</td>\n",
       "    </tr>\n",
       "    <tr>\n",
       "      <th>4</th>\n",
       "      <td>PS3</td>\n",
       "      <td>20.42</td>\n",
       "    </tr>\n",
       "  </tbody>\n",
       "</table>\n",
       "</div>"
      ],
      "text/plain": [
       "  platform  sum_sales\n",
       "0      PS4     188.15\n",
       "1     XOne      86.29\n",
       "2      3DS      42.92\n",
       "3     WiiU      20.95\n",
       "4      PS3      20.42"
      ]
     },
     "execution_count": 29,
     "metadata": {},
     "output_type": "execute_result"
    }
   ],
   "source": [
    "# выберем 5 платформ с наибольшими суммарными продажами\n",
    "games_top_5 = (games_ptf.groupby('platform')\n",
    "                       .agg({'sum_sales':'sum'})\n",
    "                       .sort_values(by='sum_sales', ascending=False)\n",
    "                       .reset_index())\n",
    "games_top_5 = games_top_5.head(5)\n",
    "games_top_5"
   ]
  },
  {
   "cell_type": "code",
   "execution_count": 30,
   "metadata": {},
   "outputs": [
    {
     "data": {
      "image/png": "[encoded data removed]",
      "text/plain": [
       "<Figure size 432x288 with 1 Axes>"
      ]
     },
     "metadata": {
      "needs_background": "light"
     },
     "output_type": "display_data"
    },
    {
     "data": {
      "image/png": "[encoded data removed]",
      "text/plain": [
       "<Figure size 432x288 with 1 Axes>"
      ]
     },
     "metadata": {
      "needs_background": "light"
     },
     "output_type": "display_data"
    },
    {
     "data": {
      "image/png": "[encoded data removed]",
      "text/plain": [
       "<Figure size 432x288 with 1 Axes>"
      ]
     },
     "metadata": {
      "needs_background": "light"
     },
     "output_type": "display_data"
    },
    {
     "data": {
      "image/png": "[encoded data removed]",
      "text/plain": [
       "<Figure size 432x288 with 1 Axes>"
      ]
     },
     "metadata": {
      "needs_background": "light"
     },
     "output_type": "display_data"
    },
    {
     "data": {
      "image/png": "[encoded data removed]",
      "text/plain": [
       "<Figure size 432x288 with 1 Axes>"
      ]
     },
     "metadata": {
      "needs_background": "light"
     },
     "output_type": "display_data"
    }
   ],
   "source": [
    " # создадим цикл для формирования графиков\n",
    "\n",
    "for platform in games_top_5['platform']:\n",
    "    (games\n",
    "     .query('platform == @platform')\n",
    "     .pivot_table(index='year_of_release', values='sum_sales', aggfunc='sum')\n",
    "     .plot( kind='bar', color = 'blue')\n",
    "    )\n",
    "    plt.title(f'Продажи {platform}')\n",
    "    plt.xlabel('Года')\n",
    "    plt.ylabel('Суммарные продажи')\n",
    "    plt.show()"
   ]
  },
  {
   "cell_type": "markdown",
   "metadata": {},
   "source": [
    "#### Вывод:\n",
    "1. Исходя из общей суммы по продажам по каждой платформе, мы выбрали несколько потенциально прибыльных платформ. В их число вошли такие платформы как: PS4, XOne, 3DS, WiiU, PS3.\n",
    "2. 2015 год у всех пяти платформ был гораздо прибыльней, чем 2016, но данные за 2016 год могут быть не все, как описано в задании, поэтому и возможно меньше прибыль за него. Это говорит о том, что хорошо, что мы выбрали за актуальный период 2 года. Делать выводы лучше по полным данным.\n"
   ]
  },
  {
   "cell_type": "markdown",
   "metadata": {},
   "source": [
    "### График «ящик с усами» по глобальным продажам игр в разбивке по платформам."
   ]
  },
  {
   "cell_type": "code",
   "execution_count": 31,
   "metadata": {},
   "outputs": [
    {
     "data": {
      "image/png": "[encoded data removed]",
      "text/plain": [
       "<Figure size 1080x576 with 1 Axes>"
      ]
     },
     "metadata": {
      "needs_background": "light"
     },
     "output_type": "display_data"
    }
   ],
   "source": [
    "# при помощи query() выберем топ-5 прибыльных платформ и запишем их в новую переменную new_games\n",
    "new_games = games.query('platform in [\"PS4\", \"XOne\", \"3DS\", \"WiiU\", \"PS3\"]')\n",
    "\n",
    "# построим граафик \"ящик с усами\" при помощи sns.boxplot\n",
    "plt.figure(figsize=(15,8))\n",
    "(sns.boxplot(data = new_games, y = 'sum_sales', x='platform')\n",
    "    .set(title = 'Продажи по перспективным платформам за 2014-2016 гг', \n",
    "         xlabel = 'Платформы', \n",
    "         ylabel = 'Общие продажи'))\n",
    "plt.show()"
   ]
  },
  {
   "cell_type": "code",
   "execution_count": 32,
   "metadata": {},
   "outputs": [
    {
     "data": {
      "image/png": "[encoded data removed]",
      "text/plain": [
       "<Figure size 1080x576 with 1 Axes>"
      ]
     },
     "metadata": {
      "needs_background": "light"
     },
     "output_type": "display_data"
    }
   ],
   "source": [
    "# теперь построим \"ящик с усами\" с ограничением по оси у, для того, чтоб лучше увидеть медиану и квантили\n",
    "plt.figure(figsize=(15,8))\n",
    "(sns.boxplot(data = new_games, y = 'sum_sales', x='platform')\n",
    "    .set(title = 'Продажи по перспективным платформам за 2014-2016 гг', \n",
    "         xlabel = 'Платформы', \n",
    "         ylabel = 'Общие продажи'))\n",
    "plt.ylim(0, 1.5)\n",
    "plt.show()"
   ]
  },
  {
   "cell_type": "markdown",
   "metadata": {},
   "source": [
    "#### Вывод:\n",
    "\n",
    "Исходя из графика видно, что у всех пяти платформ присутствуют выбросы. \n",
    "\n",
    "У платформы PS4 всех больше выбросы, это говорит о том, что у данной платформы были большие продажи.\n",
    "\n",
    "Возможно, если мы удалим выбросы по всем платформам, то в топ-5 платформ попадут уже другие платформы. Но так как мы ищем в чем успех платформ, я думаю, не стоит удалять выбросы, ведь супер большие продажи как раз можно отнести к критерию успеха.\n",
    "\n",
    "На втором графике видно, что распределение продаж среди платформ не сильно отличаются, медиана продаж у платформ PS4 и XOne ~ 0,1 миллиона проданных копий, у платформ 3DS и PS3 ~ 0,05 миллиона проданных копий, ну и лидер по медиане 0,2 миллиона проданных копий это платформа WiiU.\n"
   ]
  },
  {
   "cell_type": "markdown",
   "metadata": {},
   "source": [
    "### Влияние на продажи внутри одной популярной платформы по отзывам пользователей и критиков. Диаграмма рассеяния и корреляция между отзывами и продажами. ### "
   ]
  },
  {
   "cell_type": "markdown",
   "metadata": {},
   "source": [
    "Будем рассматривать как влияют отзывы на продажи внутри платформы PS4"
   ]
  },
  {
   "cell_type": "code",
   "execution_count": 33,
   "metadata": {},
   "outputs": [
    {
     "data": {
      "text/html": [
       "<div>\n",
       "<style scoped>\n",
       "    .dataframe tbody tr th:only-of-type {\n",
       "        vertical-align: middle;\n",
       "    }\n",
       "\n",
       "    .dataframe tbody tr th {\n",
       "        vertical-align: top;\n",
       "    }\n",
       "\n",
       "    .dataframe thead th {\n",
       "        text-align: right;\n",
       "    }\n",
       "</style>\n",
       "<table border=\"1\" class=\"dataframe\">\n",
       "  <thead>\n",
       "    <tr style=\"text-align: right;\">\n",
       "      <th></th>\n",
       "      <th>name</th>\n",
       "      <th>platform</th>\n",
       "      <th>year_of_release</th>\n",
       "      <th>genre</th>\n",
       "      <th>na_sales</th>\n",
       "      <th>eu_sales</th>\n",
       "      <th>jp_sales</th>\n",
       "      <th>other_sales</th>\n",
       "      <th>critic_score</th>\n",
       "      <th>user_score</th>\n",
       "      <th>rating</th>\n",
       "      <th>sum_sales</th>\n",
       "    </tr>\n",
       "  </thead>\n",
       "  <tbody>\n",
       "    <tr>\n",
       "      <th>31</th>\n",
       "      <td>Call of Duty: Black Ops 3</td>\n",
       "      <td>PS4</td>\n",
       "      <td>2015</td>\n",
       "      <td>Shooter</td>\n",
       "      <td>6.03</td>\n",
       "      <td>5.86</td>\n",
       "      <td>0.36</td>\n",
       "      <td>2.38</td>\n",
       "      <td>0.0</td>\n",
       "      <td>0.0</td>\n",
       "      <td>RP</td>\n",
       "      <td>14.63</td>\n",
       "    </tr>\n",
       "    <tr>\n",
       "      <th>77</th>\n",
       "      <td>FIFA 16</td>\n",
       "      <td>PS4</td>\n",
       "      <td>2015</td>\n",
       "      <td>Sports</td>\n",
       "      <td>1.12</td>\n",
       "      <td>6.12</td>\n",
       "      <td>0.06</td>\n",
       "      <td>1.28</td>\n",
       "      <td>82.0</td>\n",
       "      <td>4.3</td>\n",
       "      <td>E</td>\n",
       "      <td>8.58</td>\n",
       "    </tr>\n",
       "  </tbody>\n",
       "</table>\n",
       "</div>"
      ],
      "text/plain": [
       "                         name platform  year_of_release    genre  na_sales  \\\n",
       "31  Call of Duty: Black Ops 3      PS4             2015  Shooter      6.03   \n",
       "77                    FIFA 16      PS4             2015   Sports      1.12   \n",
       "\n",
       "    eu_sales  jp_sales  other_sales  critic_score  user_score rating  \\\n",
       "31      5.86      0.36         2.38           0.0         0.0     RP   \n",
       "77      6.12      0.06         1.28          82.0         4.3      E   \n",
       "\n",
       "    sum_sales  \n",
       "31      14.63  \n",
       "77       8.58  "
      ]
     },
     "execution_count": 33,
     "metadata": {},
     "output_type": "execute_result"
    }
   ],
   "source": [
    "#  создадим новую таблицу reviews_games, куда войдет только платформа PS4\n",
    "reviews_games = games.query('platform == \"PS4\"')\n",
    "reviews_games.head(2)"
   ]
  },
  {
   "cell_type": "code",
   "execution_count": 34,
   "metadata": {},
   "outputs": [
    {
     "data": {
      "image/png": "[encoded data removed]",
      "text/plain": [
       "<Figure size 864x360 with 2 Axes>"
      ]
     },
     "metadata": {
      "needs_background": "light"
     },
     "output_type": "display_data"
    }
   ],
   "source": [
    "# построим диаграмму рассеяния между отзывами и продажами\n",
    "scatterplot_columns = ['critic_score', 'user_score']\n",
    "col_count, row_count = 2, 1 # число рядов и столбцов в сетке графиков\n",
    "plt.figure(figsize=(12, 5))\n",
    " \n",
    "for i, f in enumerate(scatterplot_columns):           \n",
    "    sns.scatterplot(x=reviews_games[f], y=reviews_games['sum_sales'], ax = plt.subplot(row_count, col_count, i+1)) \n",
    "    plt.title(f'Признак - {f}')\n",
    "    plt.ylabel(\"Продажи\")\n",
    "    plt.xlabel(\"\")"
   ]
  },
  {
   "cell_type": "code",
   "execution_count": 35,
   "metadata": {},
   "outputs": [
    {
     "data": {
      "text/html": [
       "<div>\n",
       "<style scoped>\n",
       "    .dataframe tbody tr th:only-of-type {\n",
       "        vertical-align: middle;\n",
       "    }\n",
       "\n",
       "    .dataframe tbody tr th {\n",
       "        vertical-align: top;\n",
       "    }\n",
       "\n",
       "    .dataframe thead th {\n",
       "        text-align: right;\n",
       "    }\n",
       "</style>\n",
       "<table border=\"1\" class=\"dataframe\">\n",
       "  <thead>\n",
       "    <tr style=\"text-align: right;\">\n",
       "      <th></th>\n",
       "      <th>user_score</th>\n",
       "      <th>critic_score</th>\n",
       "      <th>sum_sales</th>\n",
       "    </tr>\n",
       "  </thead>\n",
       "  <tbody>\n",
       "    <tr>\n",
       "      <th>user_score</th>\n",
       "      <td>1.000000</td>\n",
       "      <td>0.888693</td>\n",
       "      <td>0.075201</td>\n",
       "    </tr>\n",
       "    <tr>\n",
       "      <th>critic_score</th>\n",
       "      <td>0.888693</td>\n",
       "      <td>1.000000</td>\n",
       "      <td>0.181879</td>\n",
       "    </tr>\n",
       "    <tr>\n",
       "      <th>sum_sales</th>\n",
       "      <td>0.075201</td>\n",
       "      <td>0.181879</td>\n",
       "      <td>1.000000</td>\n",
       "    </tr>\n",
       "  </tbody>\n",
       "</table>\n",
       "</div>"
      ],
      "text/plain": [
       "              user_score  critic_score  sum_sales\n",
       "user_score      1.000000      0.888693   0.075201\n",
       "critic_score    0.888693      1.000000   0.181879\n",
       "sum_sales       0.075201      0.181879   1.000000"
      ]
     },
     "execution_count": 35,
     "metadata": {},
     "output_type": "execute_result"
    }
   ],
   "source": [
    "# расчитаем корреляцию между отзывами и продажами\n",
    "columns = ['user_score', 'critic_score', 'sum_sales']\n",
    "reviews_games[columns].corr()"
   ]
  },
  {
   "cell_type": "markdown",
   "metadata": {},
   "source": [
    "#### Вывод:\n",
    "\n",
    "Посмотрев, как влияют на продажи внутри платформы PS2 отзывы пользователей и критиков, можно предположить, что прямой зависимости от отзывов нет. Прослеживается связь по отзывам критиков, что чем ближе отзывы к макисмальной оценке, тем тем больше сумма продаж, но это связь не прямолинейная. После отметки больше 60 баллов появляются продажи свыше 1,5 млн. По отценкам пользователей зависимости оценок и продаж почти нет.\n",
    "\n",
    "По таблице корреляции можно предположить, что зависимость продаж от оценки критиков есть, но она все ровно не большая."
   ]
  },
  {
   "cell_type": "markdown",
   "metadata": {},
   "source": [
    "**Сравним данные полученные по платформе PS4, с другими платформами, вошедшими в топ-5.**\n",
    "\n",
    "Выше мы создали таблицу new_games, куда только вошли топ-5 лучших платформ по сумме продаж"
   ]
  },
  {
   "cell_type": "code",
   "execution_count": 36,
   "metadata": {},
   "outputs": [
    {
     "data": {
      "image/png": "[encoded data removed]",
      "text/plain": [
       "<Figure size 1080x360 with 2 Axes>"
      ]
     },
     "metadata": {
      "needs_background": "light"
     },
     "output_type": "display_data"
    }
   ],
   "source": [
    "# построим диаграмму рассеяния между отзывами и продажами всех пяти платформ\n",
    "\n",
    "plt.figure(figsize=(15, 5))\n",
    " \n",
    "for i, f in enumerate(scatterplot_columns): \n",
    "    sns.scatterplot(x=new_games[f], y=new_games['sum_sales'], hue = new_games['platform'], ax = plt.subplot(row_count, col_count, i+1)) \n",
    "    plt.title(f'Признак - {f}')\n",
    "    plt.ylabel(\"Продажи\")\n",
    "    plt.xlabel(\"\")"
   ]
  },
  {
   "cell_type": "code",
   "execution_count": 37,
   "metadata": {},
   "outputs": [
    {
     "data": {
      "text/html": [
       "<div>\n",
       "<style scoped>\n",
       "    .dataframe tbody tr th:only-of-type {\n",
       "        vertical-align: middle;\n",
       "    }\n",
       "\n",
       "    .dataframe tbody tr th {\n",
       "        vertical-align: top;\n",
       "    }\n",
       "\n",
       "    .dataframe thead th {\n",
       "        text-align: right;\n",
       "    }\n",
       "</style>\n",
       "<table border=\"1\" class=\"dataframe\">\n",
       "  <thead>\n",
       "    <tr style=\"text-align: right;\">\n",
       "      <th></th>\n",
       "      <th>user_score</th>\n",
       "      <th>critic_score</th>\n",
       "      <th>sum_sales</th>\n",
       "    </tr>\n",
       "  </thead>\n",
       "  <tbody>\n",
       "    <tr>\n",
       "      <th>user_score</th>\n",
       "      <td>1.000000</td>\n",
       "      <td>0.888693</td>\n",
       "      <td>0.075201</td>\n",
       "    </tr>\n",
       "    <tr>\n",
       "      <th>critic_score</th>\n",
       "      <td>0.888693</td>\n",
       "      <td>1.000000</td>\n",
       "      <td>0.181879</td>\n",
       "    </tr>\n",
       "    <tr>\n",
       "      <th>sum_sales</th>\n",
       "      <td>0.075201</td>\n",
       "      <td>0.181879</td>\n",
       "      <td>1.000000</td>\n",
       "    </tr>\n",
       "  </tbody>\n",
       "</table>\n",
       "</div>"
      ],
      "text/plain": [
       "              user_score  critic_score  sum_sales\n",
       "user_score      1.000000      0.888693   0.075201\n",
       "critic_score    0.888693      1.000000   0.181879\n",
       "sum_sales       0.075201      0.181879   1.000000"
      ]
     },
     "execution_count": 37,
     "metadata": {},
     "output_type": "execute_result"
    }
   ],
   "source": [
    "# расчитаем корреляцию между отзывами и продажами\n",
    "columns = ['user_score', 'critic_score', 'sum_sales']\n",
    "reviews_games[columns].corr()"
   ]
  },
  {
   "cell_type": "markdown",
   "metadata": {},
   "source": [
    "#### Вывод:\n",
    "\n",
    "При сравнении уже пяти платформ по отзывов, мы видим, что зависимость продаж от оценки пользователей нет. А зависимость продаж от оценки критиков, пусть и не большая, но присутствует у всех пяти платформ. \n"
   ]
  },
  {
   "cell_type": "markdown",
   "metadata": {},
   "source": [
    "### Общее распределение игр по жанрам. "
   ]
  },
  {
   "cell_type": "markdown",
   "metadata": {},
   "source": [
    "Так как мы пытаемся вывести успех платформ, то распределение по жанрам будем просматривать, только у тех платформ, кто вошел в топ-10"
   ]
  },
  {
   "cell_type": "code",
   "execution_count": 38,
   "metadata": {},
   "outputs": [
    {
     "data": {
      "text/plain": [
       "platform\n",
       "PS4     188.15\n",
       "XOne     86.29\n",
       "3DS      42.92\n",
       "WiiU     20.95\n",
       "PS3      20.42\n",
       "PC       13.77\n",
       "X360     13.48\n",
       "PSV      10.50\n",
       "Wii       1.32\n",
       "PSP       0.12\n",
       "Name: sum_sales, dtype: float64"
      ]
     },
     "execution_count": 38,
     "metadata": {},
     "output_type": "execute_result"
    }
   ],
   "source": [
    "# перепишем пременную games_top_10 уже по актуальному периоду\n",
    "games_top_10 = games.groupby('platform')['sum_sales'].sum().sort_values(ascending=False)\n",
    "games_top_10 = games_top_10.head(10)\n",
    "games_top_10"
   ]
  },
  {
   "cell_type": "code",
   "execution_count": 39,
   "metadata": {},
   "outputs": [],
   "source": [
    "# перепишем пременную games_top_10 уже по актуальному периоду\n",
    "games_top = games.query('platform in (@games_top_10.index)')"
   ]
  },
  {
   "cell_type": "code",
   "execution_count": 40,
   "metadata": {},
   "outputs": [
    {
     "data": {
      "image/png": "[encoded data removed]",
      "text/plain": [
       "<Figure size 432x288 with 1 Axes>"
      ]
     },
     "metadata": {
      "needs_background": "light"
     },
     "output_type": "display_data"
    }
   ],
   "source": [
    " # создадим цикл для формирования графиков\n",
    "(games_top\n",
    "         .pivot_table(index='genre', values='sum_sales', aggfunc='sum')\n",
    "         .sort_values(by='sum_sales')\n",
    "         .plot( kind='bar', color = 'blue'))\n",
    "plt.title('Продажи по жанрам')\n",
    "plt.xlabel('Жанры')\n",
    "plt.ylabel('Суммарные продажи')\n",
    "plt.show()"
   ]
  },
  {
   "cell_type": "code",
   "execution_count": 41,
   "metadata": {},
   "outputs": [
    {
     "data": {
      "image/png": "[encoded data removed]",
      "text/plain": [
       "<Figure size 1080x720 with 1 Axes>"
      ]
     },
     "metadata": {
      "needs_background": "light"
     },
     "output_type": "display_data"
    }
   ],
   "source": [
    "# посмотрим на медианы продаж по жанрам\n",
    "plt.figure(figsize=(15,10))\n",
    "(sns.boxplot(data = games_top, y = 'sum_sales', x='genre')\n",
    "    .set(title = 'Продажи по перспективным платформам за 2014-2016 гг', \n",
    "         xlabel = 'Платформы', \n",
    "         ylabel = 'Общие продажи'))\n",
    "plt.ylim(0, 4)\n",
    "plt.show()"
   ]
  },
  {
   "cell_type": "markdown",
   "metadata": {},
   "source": [
    "#### Вывод:\n",
    "\n",
    "Из первого графика распределения можно выделить:\n",
    "* топ-3 самых прибыльных жанров:\n",
    "    * Shooter\n",
    "    * Action\n",
    "    * Sports\n",
    "    \n",
    "* топ-3 самых не прибыльных жанров:    \n",
    "    * Simulation\n",
    "    * Strategy\n",
    "    * Puzzle\n",
    "    \n",
    "* по медианам подтверждается, что лучший жанр это Shooter, а вот Sports обогнал Action. И по медиане тройка лидеров поменялась и стала: Shooter, Sports, Role-Playing    \n",
    "\n",
    "Action выиграл по графику распределения, благодаря выбросам."
   ]
  },
  {
   "cell_type": "markdown",
   "metadata": {},
   "source": [
    "## Портрет пользователя каждого региона."
   ]
  },
  {
   "cell_type": "markdown",
   "metadata": {},
   "source": [
    "Определим для пользователя каждого региона (NA, EU, JP):"
   ]
  },
  {
   "cell_type": "markdown",
   "metadata": {},
   "source": [
    "### Самые популярные платформы (топ-5). Различия в долях продаж."
   ]
  },
  {
   "cell_type": "code",
   "execution_count": 42,
   "metadata": {},
   "outputs": [],
   "source": [
    "# создадим новые столбцы, где высчитаем доли продаж в кажом регионе от общей суммы продаж\n",
    "games['na_ratio_sales'] = (games['na_sales']/games['sum_sales'])\n",
    "games['eu_ratio_sales'] = (games['eu_sales']/games['sum_sales'])\n",
    "games['jp_ratio_sales'] = (games['jp_sales']/games['sum_sales'])"
   ]
  },
  {
   "cell_type": "code",
   "execution_count": 43,
   "metadata": {},
   "outputs": [
    {
     "data": {
      "text/html": [
       "<div>\n",
       "<style scoped>\n",
       "    .dataframe tbody tr th:only-of-type {\n",
       "        vertical-align: middle;\n",
       "    }\n",
       "\n",
       "    .dataframe tbody tr th {\n",
       "        vertical-align: top;\n",
       "    }\n",
       "\n",
       "    .dataframe thead th {\n",
       "        text-align: right;\n",
       "    }\n",
       "</style>\n",
       "<table border=\"1\" class=\"dataframe\">\n",
       "  <thead>\n",
       "    <tr style=\"text-align: right;\">\n",
       "      <th></th>\n",
       "      <th>name</th>\n",
       "      <th>platform</th>\n",
       "      <th>year_of_release</th>\n",
       "      <th>genre</th>\n",
       "      <th>na_sales</th>\n",
       "      <th>eu_sales</th>\n",
       "      <th>jp_sales</th>\n",
       "      <th>other_sales</th>\n",
       "      <th>critic_score</th>\n",
       "      <th>user_score</th>\n",
       "      <th>rating</th>\n",
       "      <th>sum_sales</th>\n",
       "      <th>na_ratio_sales</th>\n",
       "      <th>eu_ratio_sales</th>\n",
       "      <th>jp_ratio_sales</th>\n",
       "    </tr>\n",
       "  </thead>\n",
       "  <tbody>\n",
       "    <tr>\n",
       "      <th>31</th>\n",
       "      <td>Call of Duty: Black Ops 3</td>\n",
       "      <td>PS4</td>\n",
       "      <td>2015</td>\n",
       "      <td>Shooter</td>\n",
       "      <td>6.03</td>\n",
       "      <td>5.86</td>\n",
       "      <td>0.36</td>\n",
       "      <td>2.38</td>\n",
       "      <td>0.0</td>\n",
       "      <td>0.0</td>\n",
       "      <td>RP</td>\n",
       "      <td>14.63</td>\n",
       "      <td>0.412167</td>\n",
       "      <td>0.400547</td>\n",
       "      <td>0.024607</td>\n",
       "    </tr>\n",
       "    <tr>\n",
       "      <th>77</th>\n",
       "      <td>FIFA 16</td>\n",
       "      <td>PS4</td>\n",
       "      <td>2015</td>\n",
       "      <td>Sports</td>\n",
       "      <td>1.12</td>\n",
       "      <td>6.12</td>\n",
       "      <td>0.06</td>\n",
       "      <td>1.28</td>\n",
       "      <td>82.0</td>\n",
       "      <td>4.3</td>\n",
       "      <td>E</td>\n",
       "      <td>8.58</td>\n",
       "      <td>0.130536</td>\n",
       "      <td>0.713287</td>\n",
       "      <td>0.006993</td>\n",
       "    </tr>\n",
       "    <tr>\n",
       "      <th>87</th>\n",
       "      <td>Star Wars Battlefront (2015)</td>\n",
       "      <td>PS4</td>\n",
       "      <td>2015</td>\n",
       "      <td>Shooter</td>\n",
       "      <td>2.99</td>\n",
       "      <td>3.49</td>\n",
       "      <td>0.22</td>\n",
       "      <td>1.28</td>\n",
       "      <td>0.0</td>\n",
       "      <td>0.0</td>\n",
       "      <td>RP</td>\n",
       "      <td>7.98</td>\n",
       "      <td>0.374687</td>\n",
       "      <td>0.437343</td>\n",
       "      <td>0.027569</td>\n",
       "    </tr>\n",
       "  </tbody>\n",
       "</table>\n",
       "</div>"
      ],
      "text/plain": [
       "                            name platform  year_of_release    genre  na_sales  \\\n",
       "31     Call of Duty: Black Ops 3      PS4             2015  Shooter      6.03   \n",
       "77                       FIFA 16      PS4             2015   Sports      1.12   \n",
       "87  Star Wars Battlefront (2015)      PS4             2015  Shooter      2.99   \n",
       "\n",
       "    eu_sales  jp_sales  other_sales  critic_score  user_score rating  \\\n",
       "31      5.86      0.36         2.38           0.0         0.0     RP   \n",
       "77      6.12      0.06         1.28          82.0         4.3      E   \n",
       "87      3.49      0.22         1.28           0.0         0.0     RP   \n",
       "\n",
       "    sum_sales  na_ratio_sales  eu_ratio_sales  jp_ratio_sales  \n",
       "31      14.63        0.412167        0.400547        0.024607  \n",
       "77       8.58        0.130536        0.713287        0.006993  \n",
       "87       7.98        0.374687        0.437343        0.027569  "
      ]
     },
     "execution_count": 43,
     "metadata": {},
     "output_type": "execute_result"
    }
   ],
   "source": [
    "# проверим как заполнились столбцы\n",
    "games.head(3)"
   ]
  },
  {
   "cell_type": "code",
   "execution_count": 44,
   "metadata": {},
   "outputs": [
    {
     "data": {
      "image/png": "[encoded data removed]",
      "text/plain": [
       "<Figure size 936x936 with 3 Axes>"
      ]
     },
     "metadata": {},
     "output_type": "display_data"
    }
   ],
   "source": [
    "# построим круговые диаграммы с долями продаж в каждом регионе от общей суммы\n",
    "column=['na_ratio_sales', 'eu_ratio_sales', 'jp_ratio_sales']\n",
    "col, row = 3, 1 # число рядов и столбцов в сетке графиков\n",
    "plt.figure(figsize=(13, 13))\n",
    "for i, j in enumerate(column):\n",
    "    (games\n",
    "     .groupby('platform')[j]\n",
    "     .sum()\n",
    "     .sort_values(ascending = False)\n",
    "     .head(5)\n",
    "     .plot(kind = 'pie', autopct='%1.0f%%',  ax = plt.subplot(row, col, i+1)))\n",
    "    plt.title(f'{j}')\n",
    "    plt.ylabel(\"\")"
   ]
  },
  {
   "cell_type": "markdown",
   "metadata": {},
   "source": [
    "#### Вывод:\n",
    "\n",
    "Отобрав для каждого региона только топ-5 самых популярных платформ и высчитав доли продаж в этих регионах от общей суммы, можно предположить:\n",
    "* в Северной Америке в топ-5 вошли платформы: XOne, PS4, X360, 3DS, PS3\n",
    "* в Европе в топ-5 вошли платформы: PS4, PS, XOne, PS3, X360\n",
    "* в Японии в топ-5 вошли платформы: PSV, 3DS, PS4, PS3, WiiU\n",
    "\n",
    "Можно выделить платформы PS3 и PS4, она популярна во всех регионах.\n",
    "\n",
    "В остальном у каждого региона имеются, свои предпочтения по платформам. И они сильно отличаются, это стоит иметь ввиду при формировании рекламного бюджета, в каждом регионе стоит делать упор на свои платформы."
   ]
  },
  {
   "cell_type": "markdown",
   "metadata": {},
   "source": [
    "### Самые популярные жанры (топ-5). "
   ]
  },
  {
   "cell_type": "code",
   "execution_count": 45,
   "metadata": {},
   "outputs": [
    {
     "data": {
      "image/png": "[encoded data removed]",
      "text/plain": [
       "<Figure size 936x936 with 3 Axes>"
      ]
     },
     "metadata": {},
     "output_type": "display_data"
    }
   ],
   "source": [
    "# построим круговые диаграммы с долями продаж для каждого жанра от общей суммы\n",
    "\n",
    "plt.figure(figsize=(13, 13))\n",
    "for i, j in enumerate(column):\n",
    "    (games\n",
    "     .groupby('genre')[j]\n",
    "     .sum()\n",
    "     .sort_values(ascending = False)\n",
    "     .head(5)\n",
    "     .plot(kind = 'pie', autopct='%1.0f%%',  ax = plt.subplot(row, col, i+1)))\n",
    "    plt.title(f'{j}')\n",
    "    plt.ylabel(\"\")"
   ]
  },
  {
   "cell_type": "markdown",
   "metadata": {},
   "source": [
    "#### Вывод:\n",
    "По жанрам, у регионов оказалось больше общего. \n",
    "* в Северной Америке в топ-5 вошли жанры: Action, Shooter, Sports, Role-Playing, Adventure\n",
    "* в Европе в топ-5 вошли платформы: Action, Sports, Shooter, Racing, Role-Playing\n",
    "* в Японии в топ-5 вошли платформы: Action, Role-Playing, Adventure, Misc, Fighting\n",
    "\n",
    "В Северной Америке и Европе, жанры почти сопадают, единственное различие это доли продаж каждого жанра.\n",
    "\n",
    "В Японии как и по платформа отличия более явные, три платформы совпадают, две нет.\n",
    "\n",
    "По всем регионам в топ-5 вошли: Action и Role-Playing. Данные жанры можно отнести к показателям успеха. \n"
   ]
  },
  {
   "cell_type": "markdown",
   "metadata": {},
   "source": [
    "### Влияние рейтинга ESRB на продажи в отдельном регионе."
   ]
  },
  {
   "cell_type": "markdown",
   "metadata": {},
   "source": [
    "Обозначения рейтинга ESRB:\n",
    "* E - Для всех\n",
    "* EC - Для детей младшего возраста\n",
    "* E10+ - Для всех от 10 лет и старше\n",
    "* T - Подросткам\n",
    "* M - Для взрослых 17+\n",
    "* AO - Только для взрослых 18+\n",
    "* RP - Рейтинг ожидается\n",
    "\n",
    "Данный реитинг распространяется для стран США и Канады, поэтому будет корректным рассматривать из регионов по данному рейтингу только США."
   ]
  },
  {
   "cell_type": "code",
   "execution_count": 46,
   "metadata": {},
   "outputs": [
    {
     "data": {
      "text/plain": [
       "Text(0, 0.5, '')"
      ]
     },
     "execution_count": 46,
     "metadata": {},
     "output_type": "execute_result"
    },
    {
     "data": {
      "image/png": "[encoded data removed]",
      "text/plain": [
       "<Figure size 432x288 with 1 Axes>"
      ]
     },
     "metadata": {},
     "output_type": "display_data"
    }
   ],
   "source": [
    "# построим круговую диаграмму с долями продаж по рейтингу ESRB от общей суммы\n",
    "# рассмотрим первые пять максимальных значений \n",
    "(games\n",
    "     .groupby('rating')['na_ratio_sales']\n",
    "     .sum()\n",
    "     .sort_values(ascending = False)\n",
    "     .head()\n",
    "     .plot(kind = 'pie', autopct='%1.0f%%'))\n",
    "plt.title(f'Северная Америка')\n",
    "plt.ylabel(\"\")"
   ]
  },
  {
   "cell_type": "markdown",
   "metadata": {},
   "source": [
    "#### Вывод:\n",
    "Так как по рейтингу мы можем оценить доли продаж только в Америке, мы не можем судить о данных для всех регионов. Данная информация может пригодиться только для планирования рекламной компании именно в Америке.\n",
    "\n",
    "По данной диаграмме можно только предположить, что чаще всего играют в игры люди в возрасте 15+."
   ]
  },
  {
   "cell_type": "markdown",
   "metadata": {},
   "source": [
    "### Вывод:\n",
    "\n",
    "Из выше проведенного анализа, можно составить портрет пользователя каждого региона:\n",
    "\n",
    "**Портрет игрока из Северной Америке:**\n",
    "* любимая платформа XOne\n",
    "* любимы жанр Action\n",
    "\n",
    "**Портрет игрока из Европы:**\n",
    "* любимая платформа PS4\n",
    "* любимы жанр Action\n",
    "\n",
    "**Портрет игрока из Японии:**\n",
    "* любимая платформа PSV\n",
    "* любимы жанр Action"
   ]
  },
  {
   "cell_type": "markdown",
   "metadata": {},
   "source": [
    "## Проверьте гипотезы"
   ]
  },
  {
   "cell_type": "markdown",
   "metadata": {},
   "source": [
    "**Гипотеза №1: cредние пользовательские рейтинги платформ Xbox One и PC одинаковые.**\n",
    "\n",
    "Нулевая гипотеза: cредние пользовательские рейтинги платформ Xbox One и PC равны.\n",
    "\n",
    "Альтернативная гипотеза: cредние пользовательские рейтинги платформ Xbox One и PC не равны."
   ]
  },
  {
   "cell_type": "code",
   "execution_count": 47,
   "metadata": {},
   "outputs": [
    {
     "data": {
      "text/plain": [
       "('Средний пользовательский рейтинг платформы Xbox One', 4.74)"
      ]
     },
     "execution_count": 47,
     "metadata": {},
     "output_type": "execute_result"
    }
   ],
   "source": [
    "('Средний пользовательский рейтинг платформы Xbox One',\n",
    " round(games.query('platform == \"XOne\"')['user_score'].mean(),2))"
   ]
  },
  {
   "cell_type": "code",
   "execution_count": 48,
   "metadata": {},
   "outputs": [
    {
     "data": {
      "text/plain": [
       "('Средний пользовательский рейтинг платформ PC', 5.09)"
      ]
     },
     "execution_count": 48,
     "metadata": {},
     "output_type": "execute_result"
    }
   ],
   "source": [
    "('Средний пользовательский рейтинг платформ PC', \n",
    " round(games.query('platform == \"PC\"')['user_score'].mean(),2))"
   ]
  },
  {
   "cell_type": "code",
   "execution_count": 49,
   "metadata": {},
   "outputs": [],
   "source": [
    "# выборка среднего пользовательского рейтинга платформы Xbox One\n",
    "xbox = games.query('platform==\"XOne\"')['user_score']"
   ]
  },
  {
   "cell_type": "code",
   "execution_count": 50,
   "metadata": {},
   "outputs": [],
   "source": [
    "# выборка среднего пользовательского рейтинга платформы PS\n",
    "ps = games.query('platform==\"PC\"')['user_score']"
   ]
  },
  {
   "cell_type": "code",
   "execution_count": 51,
   "metadata": {},
   "outputs": [
    {
     "name": "stdout",
     "output_type": "stream",
     "text": [
      "p-значение: 0.3726755182886019\n",
      "Не получилось отвергнуть нулевую гипотезу\n"
     ]
    }
   ],
   "source": [
    "alpha = 0.05 \n",
    "\n",
    "results = st.ttest_ind(xbox, ps)\n",
    "\n",
    "print('p-значение:', results.pvalue)\n",
    "\n",
    "if (results.pvalue < alpha):\n",
    "    print(\"Отвергаем нулевую гипотезу\")\n",
    "else:\n",
    "    print(\"Не получилось отвергнуть нулевую гипотезу\")"
   ]
  },
  {
   "cell_type": "markdown",
   "metadata": {},
   "source": [
    "**Гипотеза №2: средние пользовательские рейтинги жанров Action и Sports разные.**\n",
    "\n",
    "Нулевая гипотеза: средние пользовательские рейтинги жанров Action и Sports равны.\n",
    "\n",
    "Альтернативная гипотеза: средние пользовательские рейтинги жанров Action и Sports не равны."
   ]
  },
  {
   "cell_type": "code",
   "execution_count": 52,
   "metadata": {},
   "outputs": [
    {
     "data": {
      "text/plain": [
       "('Средний пользовательский рейтинг жанра Action', 3.05)"
      ]
     },
     "execution_count": 52,
     "metadata": {},
     "output_type": "execute_result"
    }
   ],
   "source": [
    "('Средний пользовательский рейтинг жанра Action',\n",
    " round(games.query('genre == \"Action\"')['user_score'].mean(),2))"
   ]
  },
  {
   "cell_type": "code",
   "execution_count": 53,
   "metadata": {},
   "outputs": [
    {
     "data": {
      "text/plain": [
       "('Средний пользовательский рейтинг жанра Sports', 3.98)"
      ]
     },
     "execution_count": 53,
     "metadata": {},
     "output_type": "execute_result"
    }
   ],
   "source": [
    "('Средний пользовательский рейтинг жанра Sports',\n",
    "round(games.query('genre == \"Sports\"')['user_score'].mean(),2))"
   ]
  },
  {
   "cell_type": "code",
   "execution_count": 54,
   "metadata": {},
   "outputs": [],
   "source": [
    "# выборка среднего пользовательского рейтинга жанра action\n",
    "action = games.query('genre==\"Action\"')['user_score']"
   ]
  },
  {
   "cell_type": "code",
   "execution_count": 55,
   "metadata": {},
   "outputs": [],
   "source": [
    "# выборка среднего пользовательского рейтинга жанра Sports\n",
    "sports = games.query('genre==\"Sports\"')['user_score']"
   ]
  },
  {
   "cell_type": "code",
   "execution_count": 56,
   "metadata": {},
   "outputs": [
    {
     "name": "stdout",
     "output_type": "stream",
     "text": [
      "p-значение: 0.010648802104801127\n",
      "Отвергаем нулевую гипотезу\n"
     ]
    }
   ],
   "source": [
    "alpha = 0.05 \n",
    "\n",
    "results = st.ttest_ind(action, sports)\n",
    "\n",
    "print('p-значение:', results.pvalue)\n",
    "\n",
    "if (results.pvalue < alpha):\n",
    "    print(\"Отвергаем нулевую гипотезу\")\n",
    "else:\n",
    "    print(\"Не получилось отвергнуть нулевую гипотезу\")"
   ]
  },
  {
   "cell_type": "markdown",
   "metadata": {},
   "source": [
    "### Вывод:\n",
    "\n",
    "* По первой гепотезе, P-значение составляет 37,26%, это слишком высокая вероятность для того, чтобы делать выводы о значимом различии между  между средними рейтингами платформ Xbox One и PC.\n",
    "* По второй гепотезе, P-значение достаточно мало, что даёт основание отвергнуть предположение о равенстве между рейтингами жанров Action и Sports."
   ]
  },
  {
   "cell_type": "markdown",
   "metadata": {},
   "source": [
    "## Общий вывод:"
   ]
  },
  {
   "cell_type": "markdown",
   "metadata": {},
   "source": [
    "I. Перед анализом, мы подготовили данные, а именно:\n",
    "\n",
    "1. привели все названия столбцов к нижнему регистру;\n",
    "\n",
    "2. удалили строчки в столбцах (name, year_of_release и genre), где пропуски составили меньше 5 %;\n",
    "\n",
    "3. изменили тип данных у столбцов: year_of_release на int и user_score на float;\n",
    "\n",
    "4. изучили пропуски в столбце rating и заменили их и значение \"К-А\" на значения \"RP\".\n",
    "\n",
    "5. значение \"tbd\" в столбце user_score заменили на nan;\n",
    "\n",
    "6. на остальные пропущенные значения с рейтингами в столбцах critic_scor, user_score мы поставили заглушку - 0;\n",
    "\n",
    "7. проверили на наличие явных дубликатов, убедились, что они отсутствуют;\n",
    "\n",
    "8. для дальнейших расчетов, добавили новый столбец к таблице с суммой всех продаж по всем регионам sum_sales.\n",
    "\n",
    "II. Исследовательский анализ данных:\n",
    "\n",
    "1. После выбора топ-10 платформ с наибольшими суммарными продажами, было обнаружено:\n",
    "\n",
    "    * Что в среднем платформа \"живет\" около 10 лет;\n",
    "    * Выбрали актуальный период - 2 последних год (2015-2016 года)\n",
    "    * Обновили нашу таблицу games и оставим данные только начиная с 2015 года.\n",
    "    \n",
    "    \n",
    "2. Выявили платформы, лидирующие по продажам.\n",
    "\n",
    "    * Исходя из общей суммы по продажам по каждой платформе, мы выбрали несколько потенциально прибыльных платформ. В их число вошли такие платформы как: PS4, XOne, 3DS, WiiU, PS3.\n",
    "    \n",
    "    \n",
    "3. Обнаружили выбросы:\n",
    "\n",
    "    * Из графика \"ящик с усами\" видно, что у всех пяти платформ присутствуют выбросы. \n",
    "    * У платформы PS4 всех больше выбросы, это говорит о том, что у данной платформы были большие продажи.\n",
    "    * На втором графике видно, что распределение продаж среди платформ не сильно отличаются, медиана продаж у платформ PS4 и XOne ~ 0,1 миллиона проданных копий, у платформ 3DS и PS3 ~ 0,05 миллиона проданных копий, ну и лидер по медиане 0,2 миллиона проданных копий это платформа WiiU.\n",
    "    \n",
    "    \n",
    "4. Рассмотрели влияние продаж от отзывов пользователей и критиков:\n",
    "\n",
    "    * Посмотрев, как влияют на продажи внутри платформы PS2 отзывы пользователей и критиков, сделали предположение, что прямой зависимости от отзывов нет. Прослеживается связь по отзывам критиков, что чем ближе отзывы к макисмальной оценке, тем тем больше сумма продаж, но это связь не прямолинейная. После отметки больше 60 баллов появляются продажи свыше 1,5 млн. По отценкам пользователей зависимости оценок и продаж почти нет.\n",
    "    * По таблице корреляции можно предположить, что зависимость продаж от оценки критиков есть, но она все ровно не большая.\n",
    "    * При сравнении уже пяти платформ по отзывов, мы видим, что зависимость продаж от оценки пользователей нет. А зависимость продаж от оценки критиков, пусть и не большая, но присутствует у всех пяти платформ.\n",
    "    \n",
    "    \n",
    "5. Из графика можно выделить:\n",
    "\n",
    "    * топ-3 самых прибыльных жанров:\n",
    "\n",
    "       * Shooter\n",
    "       * Action\n",
    "       * Sports\n",
    "\n",
    "    * топ-3 самых не прибыльных жанров:\n",
    "\n",
    "       * Simulation\n",
    "       * Strategy\n",
    "       * Puzzle\n",
    "\n",
    "    * по медианам подтверждается, что лучший жанр это Shooter, а вот Sports обогнал Action. И по медиане тройка лидеров поменялась и стала: Shooter, Sports, Role-Playing\n",
    "\n",
    "    * Action выиграл по графику распределения, благодаря выбросам.\n",
    "      \n",
    "      \n",
    "6. Составили портреты пользователей каждого региона:\n",
    "\n",
    "    * Портрет игрока из Северной Америке:\n",
    "\n",
    "      - любимая платформа XOne\n",
    "      - любимы жанр Action\n",
    "      \n",
    "    * Портрет игрока из Европы:\n",
    "\n",
    "      - любимая платформа PS4\n",
    "      - любимы жанр Action\n",
    "      \n",
    "    * Портрет игрока из Японии:\n",
    "\n",
    "      - любимая платформа PSV\n",
    "      - любимы жанр Action\n",
    "      \n",
    "III. Проверка гипотез:\n",
    "\n",
    "1. Мы проверили две гипотезы при помощи ttest.\n",
    "\n",
    "**Гипотеза №1**: cредние пользовательские рейтинги платформ Xbox One и PC одинаковые - получив P-значение 37.26% мы не отвергли нулевую гипотезу, и предположили, что различия между средними рейтингами платформ не велико. \n",
    "\n",
    "**Гипотеза №2**: средние пользовательские рейтинги жанров Action и Sports разные - получив P-значение  очень маленькое мы отвергли нулевую гипотезу о равенстве между рейтингами жанров Action и Sports.\n",
    "\n",
    "\n",
    "IV. Успех игр:\n",
    "\n",
    "После анализа, можно выявить ряд критериев успеха игр, а именно обратить внимание на:\n",
    "   * платформы PS4, XOne, 3DS, WiiU, PS3;\n",
    "   * жанры Action, Sports, Shooter, Role-Playing;\n",
    "   * что высокие оценки критиков тоже могут повлиять на рост продаж;\n",
    "   * не забывать о предпочтениях в регионах - они отличаются;\n",
    "   * жанр Action и платформа PS3 и PS4 попали почти во все высокие рейтинги;\n",
    "   * перед тем как планировать кампанию на какой-либо год, стоит брать в учет для анализа не более 2 предшествующих лет."
   ]
  },
  {
   "cell_type": "code",
   "execution_count": null,
   "metadata": {},
   "outputs": [],
   "source": []
  }
 ],
 "metadata": {
  "ExecuteTimeLog": [
   {
    "duration": 4,
    "start_time": "2022-10-01T12:26:40.961Z"
   },
   {
    "duration": 1354,
    "start_time": "2022-10-01T12:28:01.496Z"
   },
   {
    "duration": 5,
    "start_time": "2022-10-01T12:28:13.276Z"
   },
   {
    "duration": 116,
    "start_time": "2022-10-01T12:29:45.021Z"
   },
   {
    "duration": 118,
    "start_time": "2022-10-01T12:30:20.405Z"
   },
   {
    "duration": 1203,
    "start_time": "2022-10-01T12:30:30.012Z"
   },
   {
    "duration": 54,
    "start_time": "2022-10-01T12:30:31.217Z"
   },
   {
    "duration": 34,
    "start_time": "2022-10-01T12:30:31.273Z"
   },
   {
    "duration": 16,
    "start_time": "2022-10-01T12:31:30.512Z"
   },
   {
    "duration": 41,
    "start_time": "2022-10-01T12:34:01.698Z"
   },
   {
    "duration": 92,
    "start_time": "2022-10-01T12:49:47.939Z"
   },
   {
    "duration": 4,
    "start_time": "2022-10-01T12:49:54.605Z"
   },
   {
    "duration": 3,
    "start_time": "2022-10-01T12:50:34.192Z"
   },
   {
    "duration": 24,
    "start_time": "2022-10-01T12:52:20.566Z"
   },
   {
    "duration": 15,
    "start_time": "2022-10-01T12:52:40.282Z"
   },
   {
    "duration": 10,
    "start_time": "2022-10-01T12:52:59.893Z"
   },
   {
    "duration": 13,
    "start_time": "2022-10-01T12:53:13.468Z"
   },
   {
    "duration": 15,
    "start_time": "2022-10-01T12:54:44.462Z"
   },
   {
    "duration": 8,
    "start_time": "2022-10-01T13:16:26.022Z"
   },
   {
    "duration": 14,
    "start_time": "2022-10-01T13:16:42.584Z"
   },
   {
    "duration": 25,
    "start_time": "2022-10-01T13:19:16.057Z"
   },
   {
    "duration": 19,
    "start_time": "2022-10-01T13:19:24.005Z"
   },
   {
    "duration": 66,
    "start_time": "2022-10-01T16:57:02.828Z"
   },
   {
    "duration": 1218,
    "start_time": "2022-10-01T16:57:08.446Z"
   },
   {
    "duration": 104,
    "start_time": "2022-10-01T16:57:09.666Z"
   },
   {
    "duration": 16,
    "start_time": "2022-10-01T16:57:09.771Z"
   },
   {
    "duration": 20,
    "start_time": "2022-10-01T16:57:09.789Z"
   },
   {
    "duration": 29,
    "start_time": "2022-10-01T16:57:09.811Z"
   },
   {
    "duration": 3,
    "start_time": "2022-10-01T16:57:09.841Z"
   },
   {
    "duration": 15,
    "start_time": "2022-10-01T16:57:09.845Z"
   },
   {
    "duration": 17,
    "start_time": "2022-10-01T16:57:09.861Z"
   },
   {
    "duration": 4,
    "start_time": "2022-10-01T16:57:09.879Z"
   },
   {
    "duration": 24,
    "start_time": "2022-10-01T17:03:45.237Z"
   },
   {
    "duration": 4,
    "start_time": "2022-10-01T17:06:44.758Z"
   },
   {
    "duration": 10,
    "start_time": "2022-10-01T17:06:53.142Z"
   },
   {
    "duration": 4,
    "start_time": "2022-10-01T17:06:55.320Z"
   },
   {
    "duration": 1272,
    "start_time": "2022-10-01T17:07:36.375Z"
   },
   {
    "duration": 53,
    "start_time": "2022-10-01T17:07:37.649Z"
   },
   {
    "duration": 18,
    "start_time": "2022-10-01T17:07:37.704Z"
   },
   {
    "duration": 24,
    "start_time": "2022-10-01T17:07:37.724Z"
   },
   {
    "duration": 84,
    "start_time": "2022-10-01T17:07:37.751Z"
   },
   {
    "duration": 3,
    "start_time": "2022-10-01T17:07:37.836Z"
   },
   {
    "duration": 15,
    "start_time": "2022-10-01T17:07:37.841Z"
   },
   {
    "duration": 4,
    "start_time": "2022-10-01T17:07:37.857Z"
   },
   {
    "duration": 22,
    "start_time": "2022-10-01T17:07:37.862Z"
   },
   {
    "duration": 17,
    "start_time": "2022-10-01T17:12:00.106Z"
   },
   {
    "duration": 18,
    "start_time": "2022-10-01T17:12:24.926Z"
   },
   {
    "duration": 71,
    "start_time": "2022-10-01T17:15:13.056Z"
   },
   {
    "duration": 17,
    "start_time": "2022-10-01T17:15:21.021Z"
   },
   {
    "duration": 17,
    "start_time": "2022-10-01T17:15:28.061Z"
   },
   {
    "duration": 17,
    "start_time": "2022-10-01T17:15:34.910Z"
   },
   {
    "duration": 21,
    "start_time": "2022-10-01T17:15:42.548Z"
   },
   {
    "duration": 17,
    "start_time": "2022-10-01T17:29:16.013Z"
   },
   {
    "duration": 17,
    "start_time": "2022-10-01T17:29:23.090Z"
   },
   {
    "duration": 17,
    "start_time": "2022-10-01T17:29:29.909Z"
   },
   {
    "duration": 21,
    "start_time": "2022-10-01T17:29:46.917Z"
   },
   {
    "duration": 19,
    "start_time": "2022-10-01T17:29:53.493Z"
   },
   {
    "duration": 16,
    "start_time": "2022-10-01T17:34:03.350Z"
   },
   {
    "duration": 14,
    "start_time": "2022-10-01T17:41:56.051Z"
   },
   {
    "duration": 1028,
    "start_time": "2022-10-01T17:42:04.823Z"
   },
   {
    "duration": 55,
    "start_time": "2022-10-01T17:42:05.853Z"
   },
   {
    "duration": 18,
    "start_time": "2022-10-01T17:42:05.910Z"
   },
   {
    "duration": 14,
    "start_time": "2022-10-01T17:42:05.930Z"
   },
   {
    "duration": 27,
    "start_time": "2022-10-01T17:42:05.945Z"
   },
   {
    "duration": 10,
    "start_time": "2022-10-01T17:42:05.973Z"
   },
   {
    "duration": 3,
    "start_time": "2022-10-01T17:42:06.009Z"
   },
   {
    "duration": 10,
    "start_time": "2022-10-01T17:42:06.013Z"
   },
   {
    "duration": 4,
    "start_time": "2022-10-01T17:42:06.024Z"
   },
   {
    "duration": 18,
    "start_time": "2022-10-01T17:42:06.030Z"
   },
   {
    "duration": 16,
    "start_time": "2022-10-01T17:42:06.049Z"
   },
   {
    "duration": 4,
    "start_time": "2022-10-01T17:45:57.900Z"
   },
   {
    "duration": 4,
    "start_time": "2022-10-01T17:47:16.461Z"
   },
   {
    "duration": 277,
    "start_time": "2022-10-01T17:47:38.146Z"
   },
   {
    "duration": 16,
    "start_time": "2022-10-01T17:47:55.230Z"
   },
   {
    "duration": 1046,
    "start_time": "2022-10-01T17:48:04.116Z"
   },
   {
    "duration": 53,
    "start_time": "2022-10-01T17:48:05.164Z"
   },
   {
    "duration": 17,
    "start_time": "2022-10-01T17:48:05.218Z"
   },
   {
    "duration": 28,
    "start_time": "2022-10-01T17:48:05.236Z"
   },
   {
    "duration": 54,
    "start_time": "2022-10-01T17:48:05.265Z"
   },
   {
    "duration": 12,
    "start_time": "2022-10-01T17:48:05.321Z"
   },
   {
    "duration": 13,
    "start_time": "2022-10-01T17:48:05.334Z"
   },
   {
    "duration": 26,
    "start_time": "2022-10-01T17:48:05.349Z"
   },
   {
    "duration": 39,
    "start_time": "2022-10-01T17:48:05.376Z"
   },
   {
    "duration": 42,
    "start_time": "2022-10-01T17:48:05.417Z"
   },
   {
    "duration": 7,
    "start_time": "2022-10-01T17:48:05.461Z"
   },
   {
    "duration": 44,
    "start_time": "2022-10-01T17:48:05.469Z"
   },
   {
    "duration": 5,
    "start_time": "2022-10-01T18:00:45.589Z"
   },
   {
    "duration": 1058,
    "start_time": "2022-10-01T18:00:57.891Z"
   },
   {
    "duration": 55,
    "start_time": "2022-10-01T18:00:58.950Z"
   },
   {
    "duration": 17,
    "start_time": "2022-10-01T18:00:59.006Z"
   },
   {
    "duration": 13,
    "start_time": "2022-10-01T18:00:59.025Z"
   },
   {
    "duration": 27,
    "start_time": "2022-10-01T18:00:59.041Z"
   },
   {
    "duration": 9,
    "start_time": "2022-10-01T18:00:59.070Z"
   },
   {
    "duration": 3,
    "start_time": "2022-10-01T18:00:59.081Z"
   },
   {
    "duration": 8,
    "start_time": "2022-10-01T18:00:59.108Z"
   },
   {
    "duration": 19,
    "start_time": "2022-10-01T18:00:59.117Z"
   },
   {
    "duration": 19,
    "start_time": "2022-10-01T18:00:59.137Z"
   },
   {
    "duration": 5,
    "start_time": "2022-10-01T18:00:59.157Z"
   },
   {
    "duration": 23,
    "start_time": "2022-10-01T18:00:59.163Z"
   },
   {
    "duration": 20,
    "start_time": "2022-10-01T18:00:59.187Z"
   },
   {
    "duration": 105,
    "start_time": "2022-10-01T18:04:46.458Z"
   },
   {
    "duration": 6,
    "start_time": "2022-10-01T18:05:41.426Z"
   },
   {
    "duration": 1041,
    "start_time": "2022-10-01T18:05:56.307Z"
   },
   {
    "duration": 54,
    "start_time": "2022-10-01T18:05:57.349Z"
   },
   {
    "duration": 16,
    "start_time": "2022-10-01T18:05:57.404Z"
   },
   {
    "duration": 11,
    "start_time": "2022-10-01T18:05:57.422Z"
   },
   {
    "duration": 28,
    "start_time": "2022-10-01T18:05:57.435Z"
   },
   {
    "duration": 10,
    "start_time": "2022-10-01T18:05:57.464Z"
   },
   {
    "duration": 3,
    "start_time": "2022-10-01T18:05:57.475Z"
   },
   {
    "duration": 33,
    "start_time": "2022-10-01T18:05:57.480Z"
   },
   {
    "duration": 5,
    "start_time": "2022-10-01T18:05:57.515Z"
   },
   {
    "duration": 19,
    "start_time": "2022-10-01T18:05:57.522Z"
   },
   {
    "duration": 5,
    "start_time": "2022-10-01T18:05:57.542Z"
   },
   {
    "duration": 14,
    "start_time": "2022-10-01T18:05:57.549Z"
   },
   {
    "duration": 8,
    "start_time": "2022-10-01T18:05:57.564Z"
   },
   {
    "duration": 17,
    "start_time": "2022-10-01T18:05:57.573Z"
   },
   {
    "duration": 102,
    "start_time": "2022-10-01T18:23:40.657Z"
   },
   {
    "duration": 6,
    "start_time": "2022-10-01T18:30:14.725Z"
   },
   {
    "duration": 7,
    "start_time": "2022-10-01T18:30:35.414Z"
   },
   {
    "duration": 6,
    "start_time": "2022-10-01T18:30:58.388Z"
   },
   {
    "duration": 7,
    "start_time": "2022-10-01T18:31:01.759Z"
   },
   {
    "duration": 5,
    "start_time": "2022-10-01T18:31:21.951Z"
   },
   {
    "duration": 6,
    "start_time": "2022-10-01T18:31:22.791Z"
   },
   {
    "duration": 1064,
    "start_time": "2022-10-01T18:31:34.784Z"
   },
   {
    "duration": 54,
    "start_time": "2022-10-01T18:31:35.849Z"
   },
   {
    "duration": 15,
    "start_time": "2022-10-01T18:31:35.904Z"
   },
   {
    "duration": 13,
    "start_time": "2022-10-01T18:31:35.921Z"
   },
   {
    "duration": 27,
    "start_time": "2022-10-01T18:31:35.935Z"
   },
   {
    "duration": 9,
    "start_time": "2022-10-01T18:31:35.963Z"
   },
   {
    "duration": 3,
    "start_time": "2022-10-01T18:31:35.974Z"
   },
   {
    "duration": 36,
    "start_time": "2022-10-01T18:31:35.978Z"
   },
   {
    "duration": 4,
    "start_time": "2022-10-01T18:31:36.016Z"
   },
   {
    "duration": 20,
    "start_time": "2022-10-01T18:31:36.022Z"
   },
   {
    "duration": 6,
    "start_time": "2022-10-01T18:31:36.043Z"
   },
   {
    "duration": 12,
    "start_time": "2022-10-01T18:31:36.050Z"
   },
   {
    "duration": 11,
    "start_time": "2022-10-01T18:31:36.063Z"
   },
   {
    "duration": 18,
    "start_time": "2022-10-01T18:31:36.075Z"
   },
   {
    "duration": 20,
    "start_time": "2022-10-01T18:31:36.094Z"
   },
   {
    "duration": 6,
    "start_time": "2022-10-01T18:32:06.060Z"
   },
   {
    "duration": 9,
    "start_time": "2022-10-01T18:32:06.830Z"
   },
   {
    "duration": 6,
    "start_time": "2022-10-01T18:32:33.234Z"
   },
   {
    "duration": 6,
    "start_time": "2022-10-01T18:32:33.782Z"
   },
   {
    "duration": 5,
    "start_time": "2022-10-01T18:43:20.046Z"
   },
   {
    "duration": 1072,
    "start_time": "2022-10-01T18:43:26.584Z"
   },
   {
    "duration": 54,
    "start_time": "2022-10-01T18:43:27.658Z"
   },
   {
    "duration": 17,
    "start_time": "2022-10-01T18:43:27.714Z"
   },
   {
    "duration": 13,
    "start_time": "2022-10-01T18:43:27.733Z"
   },
   {
    "duration": 30,
    "start_time": "2022-10-01T18:43:27.748Z"
   },
   {
    "duration": 30,
    "start_time": "2022-10-01T18:43:27.780Z"
   },
   {
    "duration": 3,
    "start_time": "2022-10-01T18:43:27.812Z"
   },
   {
    "duration": 14,
    "start_time": "2022-10-01T18:43:27.816Z"
   },
   {
    "duration": 3,
    "start_time": "2022-10-01T18:43:27.832Z"
   },
   {
    "duration": 17,
    "start_time": "2022-10-01T18:43:27.837Z"
   },
   {
    "duration": 6,
    "start_time": "2022-10-01T18:43:27.855Z"
   },
   {
    "duration": 7,
    "start_time": "2022-10-01T18:43:27.863Z"
   },
   {
    "duration": 39,
    "start_time": "2022-10-01T18:43:27.871Z"
   },
   {
    "duration": 6,
    "start_time": "2022-10-01T18:43:27.912Z"
   },
   {
    "duration": 17,
    "start_time": "2022-10-01T18:43:27.920Z"
   },
   {
    "duration": 8,
    "start_time": "2022-10-01T18:50:39.061Z"
   },
   {
    "duration": 5,
    "start_time": "2022-10-01T19:04:18.646Z"
   },
   {
    "duration": 6,
    "start_time": "2022-10-01T19:04:30.420Z"
   },
   {
    "duration": 1118,
    "start_time": "2022-10-01T19:04:56.590Z"
   },
   {
    "duration": 54,
    "start_time": "2022-10-01T19:04:57.710Z"
   },
   {
    "duration": 18,
    "start_time": "2022-10-01T19:04:57.765Z"
   },
   {
    "duration": 13,
    "start_time": "2022-10-01T19:04:57.784Z"
   },
   {
    "duration": 31,
    "start_time": "2022-10-01T19:04:57.799Z"
   },
   {
    "duration": 10,
    "start_time": "2022-10-01T19:04:57.832Z"
   },
   {
    "duration": 16,
    "start_time": "2022-10-01T19:04:57.844Z"
   },
   {
    "duration": 12,
    "start_time": "2022-10-01T19:04:57.862Z"
   },
   {
    "duration": 8,
    "start_time": "2022-10-01T19:04:57.876Z"
   },
   {
    "duration": 26,
    "start_time": "2022-10-01T19:04:57.885Z"
   },
   {
    "duration": 7,
    "start_time": "2022-10-01T19:04:57.912Z"
   },
   {
    "duration": 14,
    "start_time": "2022-10-01T19:04:57.920Z"
   },
   {
    "duration": 13,
    "start_time": "2022-10-01T19:04:57.935Z"
   },
   {
    "duration": 10,
    "start_time": "2022-10-01T19:04:57.951Z"
   },
   {
    "duration": 25,
    "start_time": "2022-10-01T19:04:57.962Z"
   },
   {
    "duration": 21,
    "start_time": "2022-10-01T19:04:57.989Z"
   },
   {
    "duration": 17,
    "start_time": "2022-10-01T19:05:50.519Z"
   },
   {
    "duration": 4,
    "start_time": "2022-10-01T19:06:07.690Z"
   },
   {
    "duration": 5,
    "start_time": "2022-10-01T19:06:22.454Z"
   },
   {
    "duration": 5,
    "start_time": "2022-10-01T19:06:58.488Z"
   },
   {
    "duration": 1054,
    "start_time": "2022-10-01T19:07:06.486Z"
   },
   {
    "duration": 51,
    "start_time": "2022-10-01T19:07:07.542Z"
   },
   {
    "duration": 17,
    "start_time": "2022-10-01T19:07:07.594Z"
   },
   {
    "duration": 12,
    "start_time": "2022-10-01T19:07:07.613Z"
   },
   {
    "duration": 27,
    "start_time": "2022-10-01T19:07:07.626Z"
   },
   {
    "duration": 9,
    "start_time": "2022-10-01T19:07:07.655Z"
   },
   {
    "duration": 3,
    "start_time": "2022-10-01T19:07:07.666Z"
   },
   {
    "duration": 13,
    "start_time": "2022-10-01T19:07:07.670Z"
   },
   {
    "duration": 4,
    "start_time": "2022-10-01T19:07:07.708Z"
   },
   {
    "duration": 28,
    "start_time": "2022-10-01T19:07:07.715Z"
   },
   {
    "duration": 6,
    "start_time": "2022-10-01T19:07:07.745Z"
   },
   {
    "duration": 6,
    "start_time": "2022-10-01T19:07:07.752Z"
   },
   {
    "duration": 5,
    "start_time": "2022-10-01T19:07:07.760Z"
   },
   {
    "duration": 8,
    "start_time": "2022-10-01T19:07:07.766Z"
   },
   {
    "duration": 6,
    "start_time": "2022-10-01T19:07:07.776Z"
   },
   {
    "duration": 29,
    "start_time": "2022-10-01T19:07:07.783Z"
   },
   {
    "duration": 9,
    "start_time": "2022-10-01T19:10:11.038Z"
   },
   {
    "duration": 5,
    "start_time": "2022-10-01T19:16:15.642Z"
   },
   {
    "duration": 108,
    "start_time": "2022-10-01T19:36:03.471Z"
   },
   {
    "duration": 6,
    "start_time": "2022-10-01T19:36:11.904Z"
   },
   {
    "duration": 9,
    "start_time": "2022-10-01T19:38:44.710Z"
   },
   {
    "duration": 9,
    "start_time": "2022-10-01T19:39:24.817Z"
   },
   {
    "duration": 1054,
    "start_time": "2022-10-01T19:39:38.396Z"
   },
   {
    "duration": 52,
    "start_time": "2022-10-01T19:39:39.452Z"
   },
   {
    "duration": 23,
    "start_time": "2022-10-01T19:39:39.509Z"
   },
   {
    "duration": 20,
    "start_time": "2022-10-01T19:39:39.534Z"
   },
   {
    "duration": 55,
    "start_time": "2022-10-01T19:39:39.556Z"
   },
   {
    "duration": 14,
    "start_time": "2022-10-01T19:39:39.614Z"
   },
   {
    "duration": 7,
    "start_time": "2022-10-01T19:39:39.630Z"
   },
   {
    "duration": 12,
    "start_time": "2022-10-01T19:39:39.638Z"
   },
   {
    "duration": 7,
    "start_time": "2022-10-01T19:39:39.652Z"
   },
   {
    "duration": 23,
    "start_time": "2022-10-01T19:39:39.660Z"
   },
   {
    "duration": 6,
    "start_time": "2022-10-01T19:39:39.685Z"
   },
   {
    "duration": 4,
    "start_time": "2022-10-01T19:39:39.709Z"
   },
   {
    "duration": 6,
    "start_time": "2022-10-01T19:39:39.714Z"
   },
   {
    "duration": 7,
    "start_time": "2022-10-01T19:39:39.721Z"
   },
   {
    "duration": 5,
    "start_time": "2022-10-01T19:39:39.730Z"
   },
   {
    "duration": 8,
    "start_time": "2022-10-01T19:39:39.737Z"
   },
   {
    "duration": 9,
    "start_time": "2022-10-01T19:39:39.746Z"
   },
   {
    "duration": 12,
    "start_time": "2022-10-01T19:39:39.756Z"
   },
   {
    "duration": 5,
    "start_time": "2022-10-01T19:41:13.990Z"
   },
   {
    "duration": 353,
    "start_time": "2022-10-01T19:42:30.118Z"
   },
   {
    "duration": 196,
    "start_time": "2022-10-01T19:42:36.392Z"
   },
   {
    "duration": 15,
    "start_time": "2022-10-01T19:42:58.673Z"
   },
   {
    "duration": 12,
    "start_time": "2022-10-01T19:47:49.495Z"
   },
   {
    "duration": 8,
    "start_time": "2022-10-01T19:47:58.451Z"
   },
   {
    "duration": 8,
    "start_time": "2022-10-01T19:53:54.086Z"
   },
   {
    "duration": 14,
    "start_time": "2022-10-01T19:54:03.361Z"
   },
   {
    "duration": 5,
    "start_time": "2022-10-01T19:55:10.302Z"
   },
   {
    "duration": 12,
    "start_time": "2022-10-01T19:55:11.969Z"
   },
   {
    "duration": 13,
    "start_time": "2022-10-01T20:07:18.631Z"
   },
   {
    "duration": 1005,
    "start_time": "2022-10-01T20:07:35.352Z"
   },
   {
    "duration": 53,
    "start_time": "2022-10-01T20:07:36.359Z"
   },
   {
    "duration": 16,
    "start_time": "2022-10-01T20:07:36.414Z"
   },
   {
    "duration": 13,
    "start_time": "2022-10-01T20:07:36.432Z"
   },
   {
    "duration": 29,
    "start_time": "2022-10-01T20:07:36.447Z"
   },
   {
    "duration": 32,
    "start_time": "2022-10-01T20:07:36.478Z"
   },
   {
    "duration": 4,
    "start_time": "2022-10-01T20:07:36.512Z"
   },
   {
    "duration": 15,
    "start_time": "2022-10-01T20:07:36.517Z"
   },
   {
    "duration": 4,
    "start_time": "2022-10-01T20:07:36.534Z"
   },
   {
    "duration": 23,
    "start_time": "2022-10-01T20:07:36.542Z"
   },
   {
    "duration": 6,
    "start_time": "2022-10-01T20:07:36.566Z"
   },
   {
    "duration": 7,
    "start_time": "2022-10-01T20:07:36.573Z"
   },
   {
    "duration": 5,
    "start_time": "2022-10-01T20:07:36.608Z"
   },
   {
    "duration": 10,
    "start_time": "2022-10-01T20:07:36.614Z"
   },
   {
    "duration": 8,
    "start_time": "2022-10-01T20:07:36.626Z"
   },
   {
    "duration": 9,
    "start_time": "2022-10-01T20:07:36.636Z"
   },
   {
    "duration": 10,
    "start_time": "2022-10-01T20:07:36.646Z"
   },
   {
    "duration": 9,
    "start_time": "2022-10-01T20:07:36.657Z"
   },
   {
    "duration": 7,
    "start_time": "2022-10-01T20:07:36.667Z"
   },
   {
    "duration": 38,
    "start_time": "2022-10-01T20:07:36.676Z"
   },
   {
    "duration": 50,
    "start_time": "2022-10-02T09:54:14.333Z"
   },
   {
    "duration": 1245,
    "start_time": "2022-10-02T09:54:20.340Z"
   },
   {
    "duration": 180,
    "start_time": "2022-10-02T09:54:21.588Z"
   },
   {
    "duration": 19,
    "start_time": "2022-10-02T09:54:21.770Z"
   },
   {
    "duration": 14,
    "start_time": "2022-10-02T09:54:21.791Z"
   },
   {
    "duration": 34,
    "start_time": "2022-10-02T09:54:21.807Z"
   },
   {
    "duration": 12,
    "start_time": "2022-10-02T09:54:21.842Z"
   },
   {
    "duration": 4,
    "start_time": "2022-10-02T09:54:21.855Z"
   },
   {
    "duration": 39,
    "start_time": "2022-10-02T09:54:21.860Z"
   },
   {
    "duration": 4,
    "start_time": "2022-10-02T09:54:21.901Z"
   },
   {
    "duration": 19,
    "start_time": "2022-10-02T09:54:21.907Z"
   },
   {
    "duration": 8,
    "start_time": "2022-10-02T09:54:21.927Z"
   },
   {
    "duration": 9,
    "start_time": "2022-10-02T09:54:21.937Z"
   },
   {
    "duration": 8,
    "start_time": "2022-10-02T09:54:21.947Z"
   },
   {
    "duration": 11,
    "start_time": "2022-10-02T09:54:21.956Z"
   },
   {
    "duration": 29,
    "start_time": "2022-10-02T09:54:21.969Z"
   },
   {
    "duration": 16,
    "start_time": "2022-10-02T09:54:22.000Z"
   },
   {
    "duration": 15,
    "start_time": "2022-10-02T09:54:22.018Z"
   },
   {
    "duration": 18,
    "start_time": "2022-10-02T09:54:22.035Z"
   },
   {
    "duration": 7,
    "start_time": "2022-10-02T09:54:22.055Z"
   },
   {
    "duration": 17,
    "start_time": "2022-10-02T09:54:22.064Z"
   },
   {
    "duration": 19,
    "start_time": "2022-10-02T09:54:22.083Z"
   },
   {
    "duration": 6,
    "start_time": "2022-10-02T09:54:37.957Z"
   },
   {
    "duration": 7,
    "start_time": "2022-10-02T09:59:40.721Z"
   },
   {
    "duration": 1306,
    "start_time": "2022-10-02T17:41:13.261Z"
   },
   {
    "duration": 183,
    "start_time": "2022-10-02T17:41:14.569Z"
   },
   {
    "duration": 17,
    "start_time": "2022-10-02T17:41:14.753Z"
   },
   {
    "duration": 13,
    "start_time": "2022-10-02T17:41:14.772Z"
   },
   {
    "duration": 31,
    "start_time": "2022-10-02T17:41:14.787Z"
   },
   {
    "duration": 12,
    "start_time": "2022-10-02T17:41:14.820Z"
   },
   {
    "duration": 4,
    "start_time": "2022-10-02T17:41:14.834Z"
   },
   {
    "duration": 13,
    "start_time": "2022-10-02T17:41:14.840Z"
   },
   {
    "duration": 6,
    "start_time": "2022-10-02T17:41:14.854Z"
   },
   {
    "duration": 39,
    "start_time": "2022-10-02T17:41:14.863Z"
   },
   {
    "duration": 6,
    "start_time": "2022-10-02T17:41:14.904Z"
   },
   {
    "duration": 6,
    "start_time": "2022-10-02T17:41:14.911Z"
   },
   {
    "duration": 6,
    "start_time": "2022-10-02T17:41:14.919Z"
   },
   {
    "duration": 12,
    "start_time": "2022-10-02T17:41:14.926Z"
   },
   {
    "duration": 7,
    "start_time": "2022-10-02T17:41:14.939Z"
   },
   {
    "duration": 6,
    "start_time": "2022-10-02T17:41:14.948Z"
   },
   {
    "duration": 9,
    "start_time": "2022-10-02T17:41:14.956Z"
   },
   {
    "duration": 9,
    "start_time": "2022-10-02T17:41:14.995Z"
   },
   {
    "duration": 15,
    "start_time": "2022-10-02T17:41:15.006Z"
   },
   {
    "duration": 15,
    "start_time": "2022-10-02T17:41:15.023Z"
   },
   {
    "duration": 9,
    "start_time": "2022-10-02T17:41:15.041Z"
   },
   {
    "duration": 134,
    "start_time": "2022-10-02T17:43:14.991Z"
   },
   {
    "duration": 29,
    "start_time": "2022-10-02T17:43:20.747Z"
   },
   {
    "duration": 48,
    "start_time": "2022-10-02T17:43:34.671Z"
   },
   {
    "duration": 28,
    "start_time": "2022-10-02T17:43:56.107Z"
   },
   {
    "duration": 18,
    "start_time": "2022-10-02T17:44:08.881Z"
   },
   {
    "duration": 16,
    "start_time": "2022-10-02T17:45:54.357Z"
   },
   {
    "duration": 10,
    "start_time": "2022-10-02T17:47:27.758Z"
   },
   {
    "duration": 9,
    "start_time": "2022-10-02T17:47:34.561Z"
   },
   {
    "duration": 11,
    "start_time": "2022-10-02T17:47:37.316Z"
   },
   {
    "duration": 11,
    "start_time": "2022-10-02T17:47:45.380Z"
   },
   {
    "duration": 11,
    "start_time": "2022-10-02T17:48:10.375Z"
   },
   {
    "duration": 16,
    "start_time": "2022-10-02T17:48:17.617Z"
   },
   {
    "duration": 3,
    "start_time": "2022-10-02T18:10:00.321Z"
   },
   {
    "duration": 9,
    "start_time": "2022-10-02T18:11:00.962Z"
   },
   {
    "duration": 21,
    "start_time": "2022-10-02T18:11:12.494Z"
   },
   {
    "duration": 9,
    "start_time": "2022-10-02T18:12:02.054Z"
   },
   {
    "duration": 10,
    "start_time": "2022-10-02T18:12:23.187Z"
   },
   {
    "duration": 1144,
    "start_time": "2022-10-02T18:12:42.516Z"
   },
   {
    "duration": 58,
    "start_time": "2022-10-02T18:12:43.662Z"
   },
   {
    "duration": 19,
    "start_time": "2022-10-02T18:12:43.721Z"
   },
   {
    "duration": 14,
    "start_time": "2022-10-02T18:12:43.742Z"
   },
   {
    "duration": 51,
    "start_time": "2022-10-02T18:12:43.758Z"
   },
   {
    "duration": 12,
    "start_time": "2022-10-02T18:12:43.810Z"
   },
   {
    "duration": 4,
    "start_time": "2022-10-02T18:12:43.824Z"
   },
   {
    "duration": 12,
    "start_time": "2022-10-02T18:12:43.830Z"
   },
   {
    "duration": 7,
    "start_time": "2022-10-02T18:12:43.843Z"
   },
   {
    "duration": 45,
    "start_time": "2022-10-02T18:12:43.853Z"
   },
   {
    "duration": 7,
    "start_time": "2022-10-02T18:12:43.900Z"
   },
   {
    "duration": 9,
    "start_time": "2022-10-02T18:12:43.908Z"
   },
   {
    "duration": 10,
    "start_time": "2022-10-02T18:12:43.918Z"
   },
   {
    "duration": 11,
    "start_time": "2022-10-02T18:12:43.930Z"
   },
   {
    "duration": 7,
    "start_time": "2022-10-02T18:12:43.943Z"
   },
   {
    "duration": 17,
    "start_time": "2022-10-02T18:12:43.951Z"
   },
   {
    "duration": 30,
    "start_time": "2022-10-02T18:12:43.971Z"
   },
   {
    "duration": 9,
    "start_time": "2022-10-02T18:12:44.003Z"
   },
   {
    "duration": 7,
    "start_time": "2022-10-02T18:12:44.014Z"
   },
   {
    "duration": 18,
    "start_time": "2022-10-02T18:12:44.022Z"
   },
   {
    "duration": 11,
    "start_time": "2022-10-02T18:12:44.042Z"
   },
   {
    "duration": 5,
    "start_time": "2022-10-02T18:12:44.055Z"
   },
   {
    "duration": 41,
    "start_time": "2022-10-02T18:12:44.061Z"
   },
   {
    "duration": 19,
    "start_time": "2022-10-02T18:12:44.104Z"
   },
   {
    "duration": 16,
    "start_time": "2022-10-02T18:12:44.125Z"
   },
   {
    "duration": 16,
    "start_time": "2022-10-02T18:12:44.143Z"
   },
   {
    "duration": 7,
    "start_time": "2022-10-02T18:13:03.249Z"
   },
   {
    "duration": 1177,
    "start_time": "2022-10-02T18:13:10.211Z"
   },
   {
    "duration": 56,
    "start_time": "2022-10-02T18:13:11.390Z"
   },
   {
    "duration": 19,
    "start_time": "2022-10-02T18:13:11.448Z"
   },
   {
    "duration": 14,
    "start_time": "2022-10-02T18:13:11.469Z"
   },
   {
    "duration": 42,
    "start_time": "2022-10-02T18:13:11.485Z"
   },
   {
    "duration": 12,
    "start_time": "2022-10-02T18:13:11.529Z"
   },
   {
    "duration": 6,
    "start_time": "2022-10-02T18:13:11.542Z"
   },
   {
    "duration": 15,
    "start_time": "2022-10-02T18:13:11.549Z"
   },
   {
    "duration": 16,
    "start_time": "2022-10-02T18:13:11.566Z"
   },
   {
    "duration": 28,
    "start_time": "2022-10-02T18:13:11.586Z"
   },
   {
    "duration": 8,
    "start_time": "2022-10-02T18:13:11.616Z"
   },
   {
    "duration": 9,
    "start_time": "2022-10-02T18:13:11.626Z"
   },
   {
    "duration": 13,
    "start_time": "2022-10-02T18:13:11.636Z"
   },
   {
    "duration": 15,
    "start_time": "2022-10-02T18:13:11.651Z"
   },
   {
    "duration": 34,
    "start_time": "2022-10-02T18:13:11.667Z"
   },
   {
    "duration": 13,
    "start_time": "2022-10-02T18:13:11.704Z"
   },
   {
    "duration": 23,
    "start_time": "2022-10-02T18:13:11.719Z"
   },
   {
    "duration": 9,
    "start_time": "2022-10-02T18:13:11.745Z"
   },
   {
    "duration": 14,
    "start_time": "2022-10-02T18:13:11.756Z"
   },
   {
    "duration": 24,
    "start_time": "2022-10-02T18:13:11.772Z"
   },
   {
    "duration": 16,
    "start_time": "2022-10-02T18:13:11.798Z"
   },
   {
    "duration": 18,
    "start_time": "2022-10-02T18:13:11.815Z"
   },
   {
    "duration": 28,
    "start_time": "2022-10-02T18:13:11.834Z"
   },
   {
    "duration": 19,
    "start_time": "2022-10-02T18:13:11.864Z"
   },
   {
    "duration": 22,
    "start_time": "2022-10-02T18:13:11.884Z"
   },
   {
    "duration": 7,
    "start_time": "2022-10-02T18:19:48.559Z"
   },
   {
    "duration": 1726,
    "start_time": "2022-10-02T18:21:14.861Z"
   },
   {
    "duration": 7,
    "start_time": "2022-10-02T18:22:42.649Z"
   },
   {
    "duration": 7,
    "start_time": "2022-10-02T18:22:53.993Z"
   },
   {
    "duration": 5,
    "start_time": "2022-10-02T18:23:20.589Z"
   },
   {
    "duration": 8,
    "start_time": "2022-10-02T18:23:30.329Z"
   },
   {
    "duration": 14,
    "start_time": "2022-10-02T18:23:46.439Z"
   },
   {
    "duration": 8,
    "start_time": "2022-10-02T18:24:08.360Z"
   },
   {
    "duration": 7,
    "start_time": "2022-10-02T18:24:35.801Z"
   },
   {
    "duration": 8,
    "start_time": "2022-10-02T18:25:10.348Z"
   },
   {
    "duration": 9,
    "start_time": "2022-10-02T18:26:12.227Z"
   },
   {
    "duration": 7,
    "start_time": "2022-10-02T18:29:29.898Z"
   },
   {
    "duration": 24,
    "start_time": "2022-10-02T18:29:38.270Z"
   },
   {
    "duration": 18,
    "start_time": "2022-10-02T18:29:45.703Z"
   },
   {
    "duration": 1133,
    "start_time": "2022-10-02T18:36:38.422Z"
   },
   {
    "duration": 54,
    "start_time": "2022-10-02T18:36:39.558Z"
   },
   {
    "duration": 19,
    "start_time": "2022-10-02T18:36:39.614Z"
   },
   {
    "duration": 15,
    "start_time": "2022-10-02T18:36:39.635Z"
   },
   {
    "duration": 64,
    "start_time": "2022-10-02T18:36:39.652Z"
   },
   {
    "duration": 15,
    "start_time": "2022-10-02T18:36:39.719Z"
   },
   {
    "duration": 3,
    "start_time": "2022-10-02T18:36:39.736Z"
   },
   {
    "duration": 13,
    "start_time": "2022-10-02T18:36:39.740Z"
   },
   {
    "duration": 4,
    "start_time": "2022-10-02T18:36:39.755Z"
   },
   {
    "duration": 44,
    "start_time": "2022-10-02T18:36:39.761Z"
   },
   {
    "duration": 7,
    "start_time": "2022-10-02T18:36:39.807Z"
   },
   {
    "duration": 6,
    "start_time": "2022-10-02T18:36:39.816Z"
   },
   {
    "duration": 6,
    "start_time": "2022-10-02T18:36:39.824Z"
   },
   {
    "duration": 10,
    "start_time": "2022-10-02T18:36:39.834Z"
   },
   {
    "duration": 7,
    "start_time": "2022-10-02T18:36:39.846Z"
   },
   {
    "duration": 40,
    "start_time": "2022-10-02T18:36:39.855Z"
   },
   {
    "duration": 10,
    "start_time": "2022-10-02T18:36:39.897Z"
   },
   {
    "duration": 8,
    "start_time": "2022-10-02T18:36:39.908Z"
   },
   {
    "duration": 7,
    "start_time": "2022-10-02T18:36:39.918Z"
   },
   {
    "duration": 15,
    "start_time": "2022-10-02T18:36:39.926Z"
   },
   {
    "duration": 11,
    "start_time": "2022-10-02T18:36:39.943Z"
   },
   {
    "duration": 42,
    "start_time": "2022-10-02T18:36:39.957Z"
   },
   {
    "duration": 11,
    "start_time": "2022-10-02T18:36:40.002Z"
   },
   {
    "duration": 23,
    "start_time": "2022-10-02T18:36:40.015Z"
   },
   {
    "duration": 229,
    "start_time": "2022-10-02T18:36:40.040Z"
   },
   {
    "duration": 1187,
    "start_time": "2022-10-02T18:42:40.088Z"
   },
   {
    "duration": 28,
    "start_time": "2022-10-02T18:43:28.278Z"
   },
   {
    "duration": 24,
    "start_time": "2022-10-02T18:43:48.325Z"
   },
   {
    "duration": 1223,
    "start_time": "2022-10-02T18:47:42.061Z"
   },
   {
    "duration": 57,
    "start_time": "2022-10-02T18:47:43.286Z"
   },
   {
    "duration": 19,
    "start_time": "2022-10-02T18:47:43.345Z"
   },
   {
    "duration": 17,
    "start_time": "2022-10-02T18:47:43.366Z"
   },
   {
    "duration": 36,
    "start_time": "2022-10-02T18:47:43.385Z"
   },
   {
    "duration": 12,
    "start_time": "2022-10-02T18:47:43.422Z"
   },
   {
    "duration": 3,
    "start_time": "2022-10-02T18:47:43.436Z"
   },
   {
    "duration": 14,
    "start_time": "2022-10-02T18:47:43.440Z"
   },
   {
    "duration": 8,
    "start_time": "2022-10-02T18:47:43.456Z"
   },
   {
    "duration": 40,
    "start_time": "2022-10-02T18:47:43.466Z"
   },
   {
    "duration": 7,
    "start_time": "2022-10-02T18:47:43.507Z"
   },
   {
    "duration": 6,
    "start_time": "2022-10-02T18:47:43.516Z"
   },
   {
    "duration": 5,
    "start_time": "2022-10-02T18:47:43.524Z"
   },
   {
    "duration": 10,
    "start_time": "2022-10-02T18:47:43.532Z"
   },
   {
    "duration": 6,
    "start_time": "2022-10-02T18:47:43.543Z"
   },
   {
    "duration": 8,
    "start_time": "2022-10-02T18:47:43.551Z"
   },
   {
    "duration": 35,
    "start_time": "2022-10-02T18:47:43.560Z"
   },
   {
    "duration": 9,
    "start_time": "2022-10-02T18:47:43.597Z"
   },
   {
    "duration": 11,
    "start_time": "2022-10-02T18:47:43.607Z"
   },
   {
    "duration": 17,
    "start_time": "2022-10-02T18:47:43.620Z"
   },
   {
    "duration": 10,
    "start_time": "2022-10-02T18:47:43.639Z"
   },
   {
    "duration": 8,
    "start_time": "2022-10-02T18:47:43.650Z"
   },
   {
    "duration": 38,
    "start_time": "2022-10-02T18:47:43.660Z"
   },
   {
    "duration": 20,
    "start_time": "2022-10-02T18:47:43.699Z"
   },
   {
    "duration": 390,
    "start_time": "2022-10-02T18:47:43.720Z"
   },
   {
    "duration": 0,
    "start_time": "2022-10-02T18:47:44.112Z"
   },
   {
    "duration": 265,
    "start_time": "2022-10-02T18:50:35.133Z"
   },
   {
    "duration": 10,
    "start_time": "2022-10-02T18:50:56.188Z"
   },
   {
    "duration": 9,
    "start_time": "2022-10-02T18:52:24.181Z"
   },
   {
    "duration": 10,
    "start_time": "2022-10-02T18:52:35.160Z"
   },
   {
    "duration": 9,
    "start_time": "2022-10-02T18:52:38.444Z"
   },
   {
    "duration": 2699,
    "start_time": "2022-10-02T18:52:47.845Z"
   },
   {
    "duration": 12748,
    "start_time": "2022-10-02T18:53:49.940Z"
   },
   {
    "duration": 1115,
    "start_time": "2022-10-02T18:55:39.545Z"
   },
   {
    "duration": 55,
    "start_time": "2022-10-02T18:55:40.662Z"
   },
   {
    "duration": 18,
    "start_time": "2022-10-02T18:55:40.719Z"
   },
   {
    "duration": 14,
    "start_time": "2022-10-02T18:55:40.739Z"
   },
   {
    "duration": 54,
    "start_time": "2022-10-02T18:55:40.755Z"
   },
   {
    "duration": 12,
    "start_time": "2022-10-02T18:55:40.810Z"
   },
   {
    "duration": 4,
    "start_time": "2022-10-02T18:55:40.824Z"
   },
   {
    "duration": 19,
    "start_time": "2022-10-02T18:55:40.829Z"
   },
   {
    "duration": 10,
    "start_time": "2022-10-02T18:55:40.850Z"
   },
   {
    "duration": 34,
    "start_time": "2022-10-02T18:55:40.862Z"
   },
   {
    "duration": 7,
    "start_time": "2022-10-02T18:55:40.898Z"
   },
   {
    "duration": 6,
    "start_time": "2022-10-02T18:55:40.906Z"
   },
   {
    "duration": 8,
    "start_time": "2022-10-02T18:55:40.914Z"
   },
   {
    "duration": 19,
    "start_time": "2022-10-02T18:55:40.923Z"
   },
   {
    "duration": 16,
    "start_time": "2022-10-02T18:55:40.944Z"
   },
   {
    "duration": 10,
    "start_time": "2022-10-02T18:55:40.962Z"
   },
   {
    "duration": 14,
    "start_time": "2022-10-02T18:55:40.974Z"
   },
   {
    "duration": 11,
    "start_time": "2022-10-02T18:55:40.990Z"
   },
   {
    "duration": 6,
    "start_time": "2022-10-02T18:55:41.002Z"
   },
   {
    "duration": 21,
    "start_time": "2022-10-02T18:55:41.009Z"
   },
   {
    "duration": 13,
    "start_time": "2022-10-02T18:55:41.032Z"
   },
   {
    "duration": 9,
    "start_time": "2022-10-02T18:55:41.046Z"
   },
   {
    "duration": 10,
    "start_time": "2022-10-02T18:55:41.056Z"
   },
   {
    "duration": 44,
    "start_time": "2022-10-02T18:55:41.068Z"
   },
   {
    "duration": 12328,
    "start_time": "2022-10-02T18:55:41.114Z"
   },
   {
    "duration": 1161,
    "start_time": "2022-10-02T18:57:20.901Z"
   },
   {
    "duration": 54,
    "start_time": "2022-10-02T18:57:22.065Z"
   },
   {
    "duration": 30,
    "start_time": "2022-10-02T18:57:22.121Z"
   },
   {
    "duration": 16,
    "start_time": "2022-10-02T18:57:22.153Z"
   },
   {
    "duration": 46,
    "start_time": "2022-10-02T18:57:22.172Z"
   },
   {
    "duration": 11,
    "start_time": "2022-10-02T18:57:22.220Z"
   },
   {
    "duration": 3,
    "start_time": "2022-10-02T18:57:22.233Z"
   },
   {
    "duration": 10,
    "start_time": "2022-10-02T18:57:22.238Z"
   },
   {
    "duration": 4,
    "start_time": "2022-10-02T18:57:22.250Z"
   },
   {
    "duration": 44,
    "start_time": "2022-10-02T18:57:22.256Z"
   },
   {
    "duration": 6,
    "start_time": "2022-10-02T18:57:22.302Z"
   },
   {
    "duration": 8,
    "start_time": "2022-10-02T18:57:22.310Z"
   },
   {
    "duration": 6,
    "start_time": "2022-10-02T18:57:22.320Z"
   },
   {
    "duration": 10,
    "start_time": "2022-10-02T18:57:22.329Z"
   },
   {
    "duration": 6,
    "start_time": "2022-10-02T18:57:22.341Z"
   },
   {
    "duration": 6,
    "start_time": "2022-10-02T18:57:22.349Z"
   },
   {
    "duration": 9,
    "start_time": "2022-10-02T18:57:22.357Z"
   },
   {
    "duration": 33,
    "start_time": "2022-10-02T18:57:22.367Z"
   },
   {
    "duration": 6,
    "start_time": "2022-10-02T18:57:22.402Z"
   },
   {
    "duration": 14,
    "start_time": "2022-10-02T18:57:22.410Z"
   },
   {
    "duration": 10,
    "start_time": "2022-10-02T18:57:22.425Z"
   },
   {
    "duration": 7,
    "start_time": "2022-10-02T18:57:22.437Z"
   },
   {
    "duration": 5,
    "start_time": "2022-10-02T18:57:22.446Z"
   },
   {
    "duration": 53,
    "start_time": "2022-10-02T18:57:22.453Z"
   },
   {
    "duration": 5378,
    "start_time": "2022-10-02T18:57:22.507Z"
   },
   {
    "duration": 1212,
    "start_time": "2022-10-02T18:59:16.146Z"
   },
   {
    "duration": 60,
    "start_time": "2022-10-02T18:59:17.361Z"
   },
   {
    "duration": 20,
    "start_time": "2022-10-02T18:59:17.423Z"
   },
   {
    "duration": 15,
    "start_time": "2022-10-02T18:59:17.445Z"
   },
   {
    "duration": 59,
    "start_time": "2022-10-02T18:59:17.462Z"
   },
   {
    "duration": 11,
    "start_time": "2022-10-02T18:59:17.522Z"
   },
   {
    "duration": 3,
    "start_time": "2022-10-02T18:59:17.535Z"
   },
   {
    "duration": 12,
    "start_time": "2022-10-02T18:59:17.539Z"
   },
   {
    "duration": 5,
    "start_time": "2022-10-02T18:59:17.552Z"
   },
   {
    "duration": 42,
    "start_time": "2022-10-02T18:59:17.560Z"
   },
   {
    "duration": 7,
    "start_time": "2022-10-02T18:59:17.603Z"
   },
   {
    "duration": 10,
    "start_time": "2022-10-02T18:59:17.611Z"
   },
   {
    "duration": 6,
    "start_time": "2022-10-02T18:59:17.623Z"
   },
   {
    "duration": 9,
    "start_time": "2022-10-02T18:59:17.631Z"
   },
   {
    "duration": 8,
    "start_time": "2022-10-02T18:59:17.641Z"
   },
   {
    "duration": 7,
    "start_time": "2022-10-02T18:59:17.650Z"
   },
   {
    "duration": 11,
    "start_time": "2022-10-02T18:59:17.659Z"
   },
   {
    "duration": 27,
    "start_time": "2022-10-02T18:59:17.672Z"
   },
   {
    "duration": 5,
    "start_time": "2022-10-02T18:59:17.701Z"
   },
   {
    "duration": 14,
    "start_time": "2022-10-02T18:59:17.708Z"
   },
   {
    "duration": 17,
    "start_time": "2022-10-02T18:59:17.724Z"
   },
   {
    "duration": 16,
    "start_time": "2022-10-02T18:59:17.743Z"
   },
   {
    "duration": 8,
    "start_time": "2022-10-02T18:59:17.761Z"
   },
   {
    "duration": 35,
    "start_time": "2022-10-02T18:59:17.771Z"
   },
   {
    "duration": 5632,
    "start_time": "2022-10-02T18:59:17.808Z"
   },
   {
    "duration": 5328,
    "start_time": "2022-10-02T18:59:40.126Z"
   },
   {
    "duration": 103,
    "start_time": "2022-10-02T19:02:04.967Z"
   },
   {
    "duration": 5273,
    "start_time": "2022-10-02T19:02:16.176Z"
   },
   {
    "duration": 3222,
    "start_time": "2022-10-02T19:03:45.160Z"
   },
   {
    "duration": 4862,
    "start_time": "2022-10-02T19:04:02.735Z"
   },
   {
    "duration": 3154,
    "start_time": "2022-10-02T19:04:20.177Z"
   },
   {
    "duration": 4942,
    "start_time": "2022-10-02T19:04:48.202Z"
   },
   {
    "duration": 614,
    "start_time": "2022-10-02T19:05:52.883Z"
   },
   {
    "duration": 8,
    "start_time": "2022-10-02T19:07:37.568Z"
   },
   {
    "duration": 26,
    "start_time": "2022-10-02T19:07:39.161Z"
   },
   {
    "duration": 48,
    "start_time": "2022-10-02T19:07:42.652Z"
   },
   {
    "duration": 1164,
    "start_time": "2022-10-02T19:07:51.803Z"
   },
   {
    "duration": 184,
    "start_time": "2022-10-02T19:07:52.969Z"
   },
   {
    "duration": 17,
    "start_time": "2022-10-02T19:07:53.155Z"
   },
   {
    "duration": 13,
    "start_time": "2022-10-02T19:07:53.173Z"
   },
   {
    "duration": 31,
    "start_time": "2022-10-02T19:07:53.189Z"
   },
   {
    "duration": 12,
    "start_time": "2022-10-02T19:07:53.222Z"
   },
   {
    "duration": 3,
    "start_time": "2022-10-02T19:07:53.236Z"
   },
   {
    "duration": 10,
    "start_time": "2022-10-02T19:07:53.240Z"
   },
   {
    "duration": 4,
    "start_time": "2022-10-02T19:07:53.252Z"
   },
   {
    "duration": 43,
    "start_time": "2022-10-02T19:07:53.257Z"
   },
   {
    "duration": 6,
    "start_time": "2022-10-02T19:07:53.301Z"
   },
   {
    "duration": 6,
    "start_time": "2022-10-02T19:07:53.309Z"
   },
   {
    "duration": 6,
    "start_time": "2022-10-02T19:07:53.316Z"
   },
   {
    "duration": 9,
    "start_time": "2022-10-02T19:07:53.324Z"
   },
   {
    "duration": 7,
    "start_time": "2022-10-02T19:07:53.335Z"
   },
   {
    "duration": 5,
    "start_time": "2022-10-02T19:07:53.344Z"
   },
   {
    "duration": 10,
    "start_time": "2022-10-02T19:07:53.351Z"
   },
   {
    "duration": 39,
    "start_time": "2022-10-02T19:07:53.362Z"
   },
   {
    "duration": 7,
    "start_time": "2022-10-02T19:07:53.403Z"
   },
   {
    "duration": 18,
    "start_time": "2022-10-02T19:07:53.411Z"
   },
   {
    "duration": 10,
    "start_time": "2022-10-02T19:07:53.430Z"
   },
   {
    "duration": 7,
    "start_time": "2022-10-02T19:07:53.442Z"
   },
   {
    "duration": 6,
    "start_time": "2022-10-02T19:07:53.451Z"
   },
   {
    "duration": 49,
    "start_time": "2022-10-02T19:07:53.458Z"
   },
   {
    "duration": 2081,
    "start_time": "2022-10-02T19:07:53.508Z"
   },
   {
    "duration": 422,
    "start_time": "2022-10-02T19:07:55.595Z"
   },
   {
    "duration": 6,
    "start_time": "2022-10-02T19:08:10.820Z"
   },
   {
    "duration": 6,
    "start_time": "2022-10-02T19:08:19.431Z"
   },
   {
    "duration": 5064,
    "start_time": "2022-10-02T19:08:20.270Z"
   },
   {
    "duration": 211,
    "start_time": "2022-10-02T19:11:36.851Z"
   },
   {
    "duration": 104,
    "start_time": "2022-10-02T19:12:59.168Z"
   },
   {
    "duration": 5133,
    "start_time": "2022-10-02T19:13:07.513Z"
   },
   {
    "duration": 8,
    "start_time": "2022-10-02T19:14:40.452Z"
   },
   {
    "duration": 4825,
    "start_time": "2022-10-02T19:16:19.694Z"
   },
   {
    "duration": 168,
    "start_time": "2022-10-02T19:19:26.369Z"
   },
   {
    "duration": 167,
    "start_time": "2022-10-02T19:19:45.189Z"
   },
   {
    "duration": 169,
    "start_time": "2022-10-02T19:19:50.218Z"
   },
   {
    "duration": 25,
    "start_time": "2022-10-02T19:20:25.726Z"
   },
   {
    "duration": 69,
    "start_time": "2022-10-02T19:22:36.880Z"
   },
   {
    "duration": 89,
    "start_time": "2022-10-02T19:22:57.392Z"
   },
   {
    "duration": 49,
    "start_time": "2022-10-03T17:02:18.525Z"
   },
   {
    "duration": 1449,
    "start_time": "2022-10-03T17:02:23.996Z"
   },
   {
    "duration": 192,
    "start_time": "2022-10-03T17:02:25.448Z"
   },
   {
    "duration": 26,
    "start_time": "2022-10-03T17:02:25.642Z"
   },
   {
    "duration": 21,
    "start_time": "2022-10-03T17:02:25.671Z"
   },
   {
    "duration": 46,
    "start_time": "2022-10-03T17:02:25.694Z"
   },
   {
    "duration": 12,
    "start_time": "2022-10-03T17:02:25.741Z"
   },
   {
    "duration": 4,
    "start_time": "2022-10-03T17:02:25.754Z"
   },
   {
    "duration": 37,
    "start_time": "2022-10-03T17:02:25.760Z"
   },
   {
    "duration": 4,
    "start_time": "2022-10-03T17:02:25.799Z"
   },
   {
    "duration": 24,
    "start_time": "2022-10-03T17:02:25.807Z"
   },
   {
    "duration": 7,
    "start_time": "2022-10-03T17:02:25.833Z"
   },
   {
    "duration": 6,
    "start_time": "2022-10-03T17:02:25.842Z"
   },
   {
    "duration": 7,
    "start_time": "2022-10-03T17:02:25.850Z"
   },
   {
    "duration": 10,
    "start_time": "2022-10-03T17:02:25.858Z"
   },
   {
    "duration": 30,
    "start_time": "2022-10-03T17:02:25.870Z"
   },
   {
    "duration": 7,
    "start_time": "2022-10-03T17:02:25.902Z"
   },
   {
    "duration": 10,
    "start_time": "2022-10-03T17:02:25.910Z"
   },
   {
    "duration": 9,
    "start_time": "2022-10-03T17:02:25.921Z"
   },
   {
    "duration": 6,
    "start_time": "2022-10-03T17:02:25.931Z"
   },
   {
    "duration": 15,
    "start_time": "2022-10-03T17:02:25.938Z"
   },
   {
    "duration": 49,
    "start_time": "2022-10-03T17:02:25.954Z"
   },
   {
    "duration": 12,
    "start_time": "2022-10-03T17:02:26.005Z"
   },
   {
    "duration": 11,
    "start_time": "2022-10-03T17:02:26.019Z"
   },
   {
    "duration": 11,
    "start_time": "2022-10-03T17:02:26.033Z"
   },
   {
    "duration": 9,
    "start_time": "2022-10-03T17:02:26.046Z"
   },
   {
    "duration": 5779,
    "start_time": "2022-10-03T17:02:26.057Z"
   },
   {
    "duration": 12,
    "start_time": "2022-10-03T17:03:02.052Z"
   },
   {
    "duration": 169,
    "start_time": "2022-10-03T17:03:26.746Z"
   },
   {
    "duration": 13,
    "start_time": "2022-10-03T17:04:02.992Z"
   },
   {
    "duration": 14,
    "start_time": "2022-10-03T17:04:19.052Z"
   },
   {
    "duration": 308,
    "start_time": "2022-10-03T17:06:20.896Z"
   },
   {
    "duration": 348,
    "start_time": "2022-10-03T17:06:44.181Z"
   },
   {
    "duration": 1648,
    "start_time": "2022-10-03T17:06:53.264Z"
   },
   {
    "duration": 19,
    "start_time": "2022-10-03T17:12:46.948Z"
   },
   {
    "duration": 279,
    "start_time": "2022-10-03T17:12:52.805Z"
   },
   {
    "duration": 18,
    "start_time": "2022-10-03T17:13:49.546Z"
   },
   {
    "duration": 5614,
    "start_time": "2022-10-03T17:14:19.360Z"
   },
   {
    "duration": 19,
    "start_time": "2022-10-03T17:15:31.527Z"
   },
   {
    "duration": 224,
    "start_time": "2022-10-03T17:16:00.606Z"
   },
   {
    "duration": 291,
    "start_time": "2022-10-03T17:17:27.069Z"
   },
   {
    "duration": 26,
    "start_time": "2022-10-03T17:17:57.079Z"
   },
   {
    "duration": 21,
    "start_time": "2022-10-03T17:18:04.633Z"
   },
   {
    "duration": 273,
    "start_time": "2022-10-03T17:18:09.562Z"
   },
   {
    "duration": 433,
    "start_time": "2022-10-03T17:19:23.555Z"
   },
   {
    "duration": 22,
    "start_time": "2022-10-03T17:19:57.462Z"
   },
   {
    "duration": 707,
    "start_time": "2022-10-03T17:20:09.096Z"
   },
   {
    "duration": 746,
    "start_time": "2022-10-03T17:22:06.919Z"
   },
   {
    "duration": 90,
    "start_time": "2022-10-03T17:24:31.644Z"
   },
   {
    "duration": 10,
    "start_time": "2022-10-03T17:24:38.524Z"
   },
   {
    "duration": 10,
    "start_time": "2022-10-03T17:24:53.212Z"
   },
   {
    "duration": 1229,
    "start_time": "2022-10-03T17:25:06.656Z"
   },
   {
    "duration": 62,
    "start_time": "2022-10-03T17:25:07.888Z"
   },
   {
    "duration": 26,
    "start_time": "2022-10-03T17:25:07.952Z"
   },
   {
    "duration": 20,
    "start_time": "2022-10-03T17:25:07.981Z"
   },
   {
    "duration": 47,
    "start_time": "2022-10-03T17:25:08.003Z"
   },
   {
    "duration": 23,
    "start_time": "2022-10-03T17:25:08.052Z"
   },
   {
    "duration": 38,
    "start_time": "2022-10-03T17:25:08.078Z"
   },
   {
    "duration": 23,
    "start_time": "2022-10-03T17:25:08.118Z"
   },
   {
    "duration": 20,
    "start_time": "2022-10-03T17:25:08.143Z"
   },
   {
    "duration": 39,
    "start_time": "2022-10-03T17:25:08.166Z"
   },
   {
    "duration": 20,
    "start_time": "2022-10-03T17:25:08.208Z"
   },
   {
    "duration": 39,
    "start_time": "2022-10-03T17:25:08.229Z"
   },
   {
    "duration": 33,
    "start_time": "2022-10-03T17:25:08.270Z"
   },
   {
    "duration": 33,
    "start_time": "2022-10-03T17:25:08.305Z"
   },
   {
    "duration": 24,
    "start_time": "2022-10-03T17:25:08.340Z"
   },
   {
    "duration": 38,
    "start_time": "2022-10-03T17:25:08.365Z"
   },
   {
    "duration": 42,
    "start_time": "2022-10-03T17:25:08.405Z"
   },
   {
    "duration": 28,
    "start_time": "2022-10-03T17:25:08.449Z"
   },
   {
    "duration": 10,
    "start_time": "2022-10-03T17:25:08.480Z"
   },
   {
    "duration": 39,
    "start_time": "2022-10-03T17:25:08.493Z"
   },
   {
    "duration": 23,
    "start_time": "2022-10-03T17:25:08.534Z"
   },
   {
    "duration": 18,
    "start_time": "2022-10-03T17:25:08.559Z"
   },
   {
    "duration": 10,
    "start_time": "2022-10-03T17:25:08.579Z"
   },
   {
    "duration": 22,
    "start_time": "2022-10-03T17:25:08.591Z"
   },
   {
    "duration": 737,
    "start_time": "2022-10-03T17:25:08.615Z"
   },
   {
    "duration": 1262,
    "start_time": "2022-10-03T17:30:41.213Z"
   },
   {
    "duration": 59,
    "start_time": "2022-10-03T17:30:42.478Z"
   },
   {
    "duration": 19,
    "start_time": "2022-10-03T17:30:42.538Z"
   },
   {
    "duration": 14,
    "start_time": "2022-10-03T17:30:42.559Z"
   },
   {
    "duration": 45,
    "start_time": "2022-10-03T17:30:42.574Z"
   },
   {
    "duration": 12,
    "start_time": "2022-10-03T17:30:42.621Z"
   },
   {
    "duration": 3,
    "start_time": "2022-10-03T17:30:42.635Z"
   },
   {
    "duration": 14,
    "start_time": "2022-10-03T17:30:42.640Z"
   },
   {
    "duration": 4,
    "start_time": "2022-10-03T17:30:42.656Z"
   },
   {
    "duration": 21,
    "start_time": "2022-10-03T17:30:42.694Z"
   },
   {
    "duration": 7,
    "start_time": "2022-10-03T17:30:42.717Z"
   },
   {
    "duration": 10,
    "start_time": "2022-10-03T17:30:42.725Z"
   },
   {
    "duration": 11,
    "start_time": "2022-10-03T17:30:42.736Z"
   },
   {
    "duration": 11,
    "start_time": "2022-10-03T17:30:42.748Z"
   },
   {
    "duration": 9,
    "start_time": "2022-10-03T17:30:42.761Z"
   },
   {
    "duration": 26,
    "start_time": "2022-10-03T17:30:42.771Z"
   },
   {
    "duration": 10,
    "start_time": "2022-10-03T17:30:42.798Z"
   },
   {
    "duration": 13,
    "start_time": "2022-10-03T17:30:42.810Z"
   },
   {
    "duration": 10,
    "start_time": "2022-10-03T17:30:42.825Z"
   },
   {
    "duration": 21,
    "start_time": "2022-10-03T17:30:42.837Z"
   },
   {
    "duration": 39,
    "start_time": "2022-10-03T17:30:42.859Z"
   },
   {
    "duration": 10,
    "start_time": "2022-10-03T17:30:42.900Z"
   },
   {
    "duration": 10,
    "start_time": "2022-10-03T17:30:42.913Z"
   },
   {
    "duration": 770,
    "start_time": "2022-10-03T17:30:42.925Z"
   },
   {
    "duration": 8,
    "start_time": "2022-10-03T17:30:43.696Z"
   },
   {
    "duration": 75,
    "start_time": "2022-10-03T17:37:56.904Z"
   },
   {
    "duration": 76,
    "start_time": "2022-10-03T17:38:04.611Z"
   },
   {
    "duration": 818,
    "start_time": "2022-10-03T17:38:14.416Z"
   },
   {
    "duration": 0,
    "start_time": "2022-10-03T17:40:37.095Z"
   },
   {
    "duration": 16,
    "start_time": "2022-10-03T17:43:51.164Z"
   },
   {
    "duration": 35,
    "start_time": "2022-10-03T17:44:01.283Z"
   },
   {
    "duration": 33,
    "start_time": "2022-10-03T17:44:23.081Z"
   },
   {
    "duration": 98,
    "start_time": "2022-10-03T17:46:13.706Z"
   },
   {
    "duration": 75,
    "start_time": "2022-10-03T17:46:21.710Z"
   },
   {
    "duration": 11,
    "start_time": "2022-10-03T17:47:02.168Z"
   },
   {
    "duration": 14,
    "start_time": "2022-10-03T17:47:14.715Z"
   },
   {
    "duration": 12,
    "start_time": "2022-10-03T17:49:17.672Z"
   },
   {
    "duration": 1276,
    "start_time": "2022-10-03T17:49:31.872Z"
   },
   {
    "duration": 8,
    "start_time": "2022-10-03T17:50:02.753Z"
   },
   {
    "duration": 14,
    "start_time": "2022-10-03T17:50:14.352Z"
   },
   {
    "duration": 227,
    "start_time": "2022-10-03T17:50:20.468Z"
   },
   {
    "duration": 183,
    "start_time": "2022-10-03T17:50:31.855Z"
   },
   {
    "duration": 188,
    "start_time": "2022-10-03T17:50:43.017Z"
   },
   {
    "duration": 197,
    "start_time": "2022-10-03T17:50:55.714Z"
   },
   {
    "duration": 194,
    "start_time": "2022-10-03T17:51:00.904Z"
   },
   {
    "duration": 245,
    "start_time": "2022-10-03T17:51:13.534Z"
   },
   {
    "duration": 1232,
    "start_time": "2022-10-03T17:52:02.350Z"
   },
   {
    "duration": 58,
    "start_time": "2022-10-03T17:52:03.584Z"
   },
   {
    "duration": 20,
    "start_time": "2022-10-03T17:52:03.644Z"
   },
   {
    "duration": 16,
    "start_time": "2022-10-03T17:52:03.666Z"
   },
   {
    "duration": 38,
    "start_time": "2022-10-03T17:52:03.684Z"
   },
   {
    "duration": 12,
    "start_time": "2022-10-03T17:52:03.724Z"
   },
   {
    "duration": 4,
    "start_time": "2022-10-03T17:52:03.737Z"
   },
   {
    "duration": 13,
    "start_time": "2022-10-03T17:52:03.742Z"
   },
   {
    "duration": 5,
    "start_time": "2022-10-03T17:52:03.757Z"
   },
   {
    "duration": 48,
    "start_time": "2022-10-03T17:52:03.765Z"
   },
   {
    "duration": 7,
    "start_time": "2022-10-03T17:52:03.815Z"
   },
   {
    "duration": 7,
    "start_time": "2022-10-03T17:52:03.824Z"
   },
   {
    "duration": 8,
    "start_time": "2022-10-03T17:52:03.832Z"
   },
   {
    "duration": 15,
    "start_time": "2022-10-03T17:52:03.842Z"
   },
   {
    "duration": 9,
    "start_time": "2022-10-03T17:52:03.859Z"
   },
   {
    "duration": 29,
    "start_time": "2022-10-03T17:52:03.870Z"
   },
   {
    "duration": 14,
    "start_time": "2022-10-03T17:52:03.901Z"
   },
   {
    "duration": 11,
    "start_time": "2022-10-03T17:52:03.916Z"
   },
   {
    "duration": 7,
    "start_time": "2022-10-03T17:52:03.928Z"
   },
   {
    "duration": 19,
    "start_time": "2022-10-03T17:52:03.937Z"
   },
   {
    "duration": 38,
    "start_time": "2022-10-03T17:52:03.958Z"
   },
   {
    "duration": 267,
    "start_time": "2022-10-03T17:52:03.998Z"
   },
   {
    "duration": 9,
    "start_time": "2022-10-03T17:52:04.267Z"
   },
   {
    "duration": 19,
    "start_time": "2022-10-03T17:52:04.278Z"
   },
   {
    "duration": 770,
    "start_time": "2022-10-03T17:52:04.300Z"
   },
   {
    "duration": 7,
    "start_time": "2022-10-03T17:52:05.072Z"
   },
   {
    "duration": 233,
    "start_time": "2022-10-03T17:52:19.397Z"
   },
   {
    "duration": 347,
    "start_time": "2022-10-03T17:52:29.739Z"
   },
   {
    "duration": 433,
    "start_time": "2022-10-03T17:53:23.394Z"
   },
   {
    "duration": 7,
    "start_time": "2022-10-03T18:06:41.121Z"
   },
   {
    "duration": 1196,
    "start_time": "2022-10-03T18:06:49.458Z"
   },
   {
    "duration": 58,
    "start_time": "2022-10-03T18:06:50.656Z"
   },
   {
    "duration": 20,
    "start_time": "2022-10-03T18:06:50.716Z"
   },
   {
    "duration": 15,
    "start_time": "2022-10-03T18:06:50.739Z"
   },
   {
    "duration": 52,
    "start_time": "2022-10-03T18:06:50.756Z"
   },
   {
    "duration": 11,
    "start_time": "2022-10-03T18:06:50.810Z"
   },
   {
    "duration": 3,
    "start_time": "2022-10-03T18:06:50.829Z"
   },
   {
    "duration": 16,
    "start_time": "2022-10-03T18:06:50.834Z"
   },
   {
    "duration": 8,
    "start_time": "2022-10-03T18:06:50.852Z"
   },
   {
    "duration": 33,
    "start_time": "2022-10-03T18:06:50.863Z"
   },
   {
    "duration": 6,
    "start_time": "2022-10-03T18:06:50.897Z"
   },
   {
    "duration": 5,
    "start_time": "2022-10-03T18:06:50.905Z"
   },
   {
    "duration": 6,
    "start_time": "2022-10-03T18:06:50.912Z"
   },
   {
    "duration": 9,
    "start_time": "2022-10-03T18:06:50.920Z"
   },
   {
    "duration": 7,
    "start_time": "2022-10-03T18:06:50.930Z"
   },
   {
    "duration": 6,
    "start_time": "2022-10-03T18:06:50.939Z"
   },
   {
    "duration": 11,
    "start_time": "2022-10-03T18:06:50.947Z"
   },
   {
    "duration": 41,
    "start_time": "2022-10-03T18:06:50.959Z"
   },
   {
    "duration": 11,
    "start_time": "2022-10-03T18:06:51.001Z"
   },
   {
    "duration": 16,
    "start_time": "2022-10-03T18:06:51.014Z"
   },
   {
    "duration": 16,
    "start_time": "2022-10-03T18:06:51.032Z"
   },
   {
    "duration": 367,
    "start_time": "2022-10-03T18:06:51.049Z"
   },
   {
    "duration": 8,
    "start_time": "2022-10-03T18:06:51.418Z"
   },
   {
    "duration": 10,
    "start_time": "2022-10-03T18:06:51.427Z"
   },
   {
    "duration": 757,
    "start_time": "2022-10-03T18:06:51.438Z"
   },
   {
    "duration": 6,
    "start_time": "2022-10-03T18:06:52.197Z"
   },
   {
    "duration": 195894,
    "start_time": "2022-10-03T18:22:08.168Z"
   },
   {
    "duration": 21,
    "start_time": "2022-10-03T18:25:31.160Z"
   },
   {
    "duration": 313,
    "start_time": "2022-10-03T18:25:44.299Z"
   },
   {
    "duration": 345,
    "start_time": "2022-10-03T18:36:40.794Z"
   },
   {
    "duration": 373,
    "start_time": "2022-10-03T18:37:04.700Z"
   },
   {
    "duration": 356,
    "start_time": "2022-10-03T18:37:56.220Z"
   },
   {
    "duration": 331,
    "start_time": "2022-10-03T18:38:09.030Z"
   },
   {
    "duration": 316,
    "start_time": "2022-10-03T18:38:26.732Z"
   },
   {
    "duration": 387,
    "start_time": "2022-10-03T18:38:36.357Z"
   },
   {
    "duration": 323,
    "start_time": "2022-10-03T18:38:45.096Z"
   },
   {
    "duration": 331,
    "start_time": "2022-10-03T18:38:52.024Z"
   },
   {
    "duration": 320,
    "start_time": "2022-10-03T18:39:03.795Z"
   },
   {
    "duration": 314,
    "start_time": "2022-10-03T18:39:14.403Z"
   },
   {
    "duration": 326,
    "start_time": "2022-10-03T18:40:14.993Z"
   },
   {
    "duration": 344,
    "start_time": "2022-10-03T18:41:22.228Z"
   },
   {
    "duration": 329,
    "start_time": "2022-10-03T18:42:45.562Z"
   },
   {
    "duration": 327,
    "start_time": "2022-10-03T18:42:55.187Z"
   },
   {
    "duration": 317,
    "start_time": "2022-10-03T18:43:04.649Z"
   },
   {
    "duration": 9,
    "start_time": "2022-10-03T18:49:16.225Z"
   },
   {
    "duration": 31,
    "start_time": "2022-10-03T18:50:40.370Z"
   },
   {
    "duration": 1633,
    "start_time": "2022-10-03T18:51:06.325Z"
   },
   {
    "duration": 11,
    "start_time": "2022-10-03T18:52:11.937Z"
   },
   {
    "duration": 11,
    "start_time": "2022-10-03T18:52:38.516Z"
   },
   {
    "duration": 950,
    "start_time": "2022-10-03T18:52:47.593Z"
   },
   {
    "duration": 1056,
    "start_time": "2022-10-03T18:53:22.579Z"
   },
   {
    "duration": 1022,
    "start_time": "2022-10-03T18:54:50.936Z"
   },
   {
    "duration": 1058,
    "start_time": "2022-10-03T18:55:15.242Z"
   },
   {
    "duration": 954,
    "start_time": "2022-10-03T18:56:55.207Z"
   },
   {
    "duration": 982,
    "start_time": "2022-10-03T18:57:09.269Z"
   },
   {
    "duration": 130,
    "start_time": "2022-10-03T19:03:34.278Z"
   },
   {
    "duration": 84,
    "start_time": "2022-10-03T19:03:51.859Z"
   },
   {
    "duration": 23,
    "start_time": "2022-10-03T19:04:03.746Z"
   },
   {
    "duration": 22,
    "start_time": "2022-10-03T19:04:47.049Z"
   },
   {
    "duration": 27,
    "start_time": "2022-10-03T19:05:54.175Z"
   },
   {
    "duration": 907,
    "start_time": "2022-10-03T19:08:59.129Z"
   },
   {
    "duration": 715,
    "start_time": "2022-10-03T19:10:05.586Z"
   },
   {
    "duration": 681,
    "start_time": "2022-10-03T19:10:34.345Z"
   },
   {
    "duration": 1938,
    "start_time": "2022-10-03T19:11:48.833Z"
   },
   {
    "duration": 9,
    "start_time": "2022-10-03T19:13:38.111Z"
   },
   {
    "duration": 798,
    "start_time": "2022-10-03T19:13:50.310Z"
   },
   {
    "duration": 15,
    "start_time": "2022-10-03T19:14:46.770Z"
   },
   {
    "duration": 16,
    "start_time": "2022-10-03T19:14:57.826Z"
   },
   {
    "duration": 130,
    "start_time": "2022-10-03T19:15:28.582Z"
   },
   {
    "duration": 727,
    "start_time": "2022-10-03T19:17:07.783Z"
   },
   {
    "duration": 747,
    "start_time": "2022-10-03T19:18:17.702Z"
   },
   {
    "duration": 14,
    "start_time": "2022-10-03T19:21:07.495Z"
   },
   {
    "duration": 713,
    "start_time": "2022-10-03T19:21:18.735Z"
   },
   {
    "duration": 39,
    "start_time": "2022-10-03T19:22:18.411Z"
   },
   {
    "duration": 33,
    "start_time": "2022-10-03T19:22:42.542Z"
   },
   {
    "duration": 31,
    "start_time": "2022-10-03T19:23:07.520Z"
   },
   {
    "duration": 31,
    "start_time": "2022-10-03T19:25:05.350Z"
   },
   {
    "duration": 1145,
    "start_time": "2022-10-03T19:25:23.894Z"
   },
   {
    "duration": 54,
    "start_time": "2022-10-03T19:25:25.041Z"
   },
   {
    "duration": 18,
    "start_time": "2022-10-03T19:25:25.096Z"
   },
   {
    "duration": 13,
    "start_time": "2022-10-03T19:25:25.116Z"
   },
   {
    "duration": 30,
    "start_time": "2022-10-03T19:25:25.131Z"
   },
   {
    "duration": 34,
    "start_time": "2022-10-03T19:25:25.163Z"
   },
   {
    "duration": 4,
    "start_time": "2022-10-03T19:25:25.198Z"
   },
   {
    "duration": 12,
    "start_time": "2022-10-03T19:25:25.203Z"
   },
   {
    "duration": 5,
    "start_time": "2022-10-03T19:25:25.216Z"
   },
   {
    "duration": 18,
    "start_time": "2022-10-03T19:25:25.224Z"
   },
   {
    "duration": 5,
    "start_time": "2022-10-03T19:25:25.244Z"
   },
   {
    "duration": 6,
    "start_time": "2022-10-03T19:25:25.250Z"
   },
   {
    "duration": 37,
    "start_time": "2022-10-03T19:25:25.258Z"
   },
   {
    "duration": 7,
    "start_time": "2022-10-03T19:25:25.297Z"
   },
   {
    "duration": 7,
    "start_time": "2022-10-03T19:25:25.306Z"
   },
   {
    "duration": 9,
    "start_time": "2022-10-03T19:25:25.314Z"
   },
   {
    "duration": 11,
    "start_time": "2022-10-03T19:25:25.325Z"
   },
   {
    "duration": 8,
    "start_time": "2022-10-03T19:25:25.337Z"
   },
   {
    "duration": 6,
    "start_time": "2022-10-03T19:25:25.347Z"
   },
   {
    "duration": 41,
    "start_time": "2022-10-03T19:25:25.355Z"
   },
   {
    "duration": 12,
    "start_time": "2022-10-03T19:25:25.398Z"
   },
   {
    "duration": 333,
    "start_time": "2022-10-03T19:25:25.412Z"
   },
   {
    "duration": 8,
    "start_time": "2022-10-03T19:25:25.746Z"
   },
   {
    "duration": 10,
    "start_time": "2022-10-03T19:25:25.756Z"
   },
   {
    "duration": 676,
    "start_time": "2022-10-03T19:25:25.767Z"
   },
   {
    "duration": 7,
    "start_time": "2022-10-03T19:25:26.445Z"
   },
   {
    "duration": 371,
    "start_time": "2022-10-03T19:25:26.453Z"
   },
   {
    "duration": 13,
    "start_time": "2022-10-03T19:25:26.827Z"
   },
   {
    "duration": 986,
    "start_time": "2022-10-03T19:25:26.841Z"
   },
   {
    "duration": 16,
    "start_time": "2022-10-03T19:25:27.829Z"
   },
   {
    "duration": 565,
    "start_time": "2022-10-03T19:25:27.847Z"
   },
   {
    "duration": 122,
    "start_time": "2022-10-03T19:25:28.414Z"
   },
   {
    "duration": 50,
    "start_time": "2022-10-04T17:30:46.635Z"
   },
   {
    "duration": 1398,
    "start_time": "2022-10-04T17:32:36.479Z"
   },
   {
    "duration": 98,
    "start_time": "2022-10-04T17:32:37.879Z"
   },
   {
    "duration": 17,
    "start_time": "2022-10-04T17:32:37.979Z"
   },
   {
    "duration": 13,
    "start_time": "2022-10-04T17:32:37.998Z"
   },
   {
    "duration": 27,
    "start_time": "2022-10-04T17:32:38.012Z"
   },
   {
    "duration": 9,
    "start_time": "2022-10-04T17:32:38.040Z"
   },
   {
    "duration": 3,
    "start_time": "2022-10-04T17:32:38.050Z"
   },
   {
    "duration": 9,
    "start_time": "2022-10-04T17:32:38.055Z"
   },
   {
    "duration": 3,
    "start_time": "2022-10-04T17:32:38.066Z"
   },
   {
    "duration": 38,
    "start_time": "2022-10-04T17:32:38.072Z"
   },
   {
    "duration": 6,
    "start_time": "2022-10-04T17:32:38.112Z"
   },
   {
    "duration": 6,
    "start_time": "2022-10-04T17:32:38.119Z"
   },
   {
    "duration": 5,
    "start_time": "2022-10-04T17:32:38.126Z"
   },
   {
    "duration": 7,
    "start_time": "2022-10-04T17:32:38.133Z"
   },
   {
    "duration": 6,
    "start_time": "2022-10-04T17:32:38.141Z"
   },
   {
    "duration": 5,
    "start_time": "2022-10-04T17:32:38.149Z"
   },
   {
    "duration": 9,
    "start_time": "2022-10-04T17:32:38.155Z"
   },
   {
    "duration": 6,
    "start_time": "2022-10-04T17:32:38.166Z"
   },
   {
    "duration": 5,
    "start_time": "2022-10-04T17:32:38.173Z"
   },
   {
    "duration": 12,
    "start_time": "2022-10-04T17:32:38.209Z"
   },
   {
    "duration": 18,
    "start_time": "2022-10-04T17:32:38.222Z"
   },
   {
    "duration": 296,
    "start_time": "2022-10-04T17:32:38.243Z"
   },
   {
    "duration": 8,
    "start_time": "2022-10-04T17:32:38.540Z"
   },
   {
    "duration": 6,
    "start_time": "2022-10-04T17:32:38.550Z"
   },
   {
    "duration": 604,
    "start_time": "2022-10-04T17:32:38.558Z"
   },
   {
    "duration": 6,
    "start_time": "2022-10-04T17:32:39.163Z"
   },
   {
    "duration": 277,
    "start_time": "2022-10-04T17:32:39.171Z"
   },
   {
    "duration": 11,
    "start_time": "2022-10-04T17:32:39.451Z"
   },
   {
    "duration": 954,
    "start_time": "2022-10-04T17:32:39.464Z"
   },
   {
    "duration": 13,
    "start_time": "2022-10-04T17:32:40.419Z"
   },
   {
    "duration": 534,
    "start_time": "2022-10-04T17:32:40.434Z"
   },
   {
    "duration": 142,
    "start_time": "2022-10-04T17:32:40.970Z"
   },
   {
    "duration": 3,
    "start_time": "2022-10-04T17:35:05.935Z"
   },
   {
    "duration": 1088,
    "start_time": "2022-10-04T17:35:11.617Z"
   },
   {
    "duration": 52,
    "start_time": "2022-10-04T17:35:12.707Z"
   },
   {
    "duration": 16,
    "start_time": "2022-10-04T17:35:12.761Z"
   },
   {
    "duration": 12,
    "start_time": "2022-10-04T17:35:12.779Z"
   },
   {
    "duration": 26,
    "start_time": "2022-10-04T17:35:12.792Z"
   },
   {
    "duration": 9,
    "start_time": "2022-10-04T17:35:12.819Z"
   },
   {
    "duration": 3,
    "start_time": "2022-10-04T17:35:12.829Z"
   },
   {
    "duration": 9,
    "start_time": "2022-10-04T17:35:12.834Z"
   },
   {
    "duration": 3,
    "start_time": "2022-10-04T17:35:12.845Z"
   },
   {
    "duration": 23,
    "start_time": "2022-10-04T17:35:12.850Z"
   },
   {
    "duration": 6,
    "start_time": "2022-10-04T17:35:12.874Z"
   },
   {
    "duration": 7,
    "start_time": "2022-10-04T17:35:12.881Z"
   },
   {
    "duration": 22,
    "start_time": "2022-10-04T17:35:12.889Z"
   },
   {
    "duration": 25,
    "start_time": "2022-10-04T17:35:12.912Z"
   },
   {
    "duration": 47,
    "start_time": "2022-10-04T17:35:12.939Z"
   },
   {
    "duration": 33,
    "start_time": "2022-10-04T17:35:12.988Z"
   },
   {
    "duration": 42,
    "start_time": "2022-10-04T17:35:13.023Z"
   },
   {
    "duration": 18,
    "start_time": "2022-10-04T17:35:13.066Z"
   },
   {
    "duration": 43,
    "start_time": "2022-10-04T17:35:13.086Z"
   },
   {
    "duration": 39,
    "start_time": "2022-10-04T17:35:13.131Z"
   },
   {
    "duration": 33,
    "start_time": "2022-10-04T17:35:13.172Z"
   },
   {
    "duration": 302,
    "start_time": "2022-10-04T17:35:13.206Z"
   },
   {
    "duration": 8,
    "start_time": "2022-10-04T17:35:13.509Z"
   },
   {
    "duration": 16,
    "start_time": "2022-10-04T17:35:13.518Z"
   },
   {
    "duration": 583,
    "start_time": "2022-10-04T17:35:13.536Z"
   },
   {
    "duration": 7,
    "start_time": "2022-10-04T17:35:14.120Z"
   },
   {
    "duration": 271,
    "start_time": "2022-10-04T17:35:14.128Z"
   },
   {
    "duration": 16,
    "start_time": "2022-10-04T17:35:14.403Z"
   },
   {
    "duration": 903,
    "start_time": "2022-10-04T17:35:14.421Z"
   },
   {
    "duration": 14,
    "start_time": "2022-10-04T17:35:15.326Z"
   },
   {
    "duration": 516,
    "start_time": "2022-10-04T17:35:15.341Z"
   },
   {
    "duration": 128,
    "start_time": "2022-10-04T17:35:15.859Z"
   },
   {
    "duration": 246,
    "start_time": "2022-10-04T17:36:42.346Z"
   },
   {
    "duration": 375,
    "start_time": "2022-10-04T17:36:52.615Z"
   },
   {
    "duration": 92,
    "start_time": "2022-10-04T17:37:46.427Z"
   },
   {
    "duration": 49,
    "start_time": "2022-10-04T17:37:56.186Z"
   },
   {
    "duration": 80,
    "start_time": "2022-10-04T17:39:00.067Z"
   },
   {
    "duration": 83,
    "start_time": "2022-10-04T17:39:31.548Z"
   },
   {
    "duration": 97,
    "start_time": "2022-10-04T17:39:42.275Z"
   },
   {
    "duration": 1081,
    "start_time": "2022-10-04T17:39:50.900Z"
   },
   {
    "duration": 1117,
    "start_time": "2022-10-04T17:40:05.676Z"
   },
   {
    "duration": 2430,
    "start_time": "2022-10-04T17:40:22.520Z"
   },
   {
    "duration": 1114,
    "start_time": "2022-10-04T17:40:51.287Z"
   },
   {
    "duration": 44,
    "start_time": "2022-10-04T17:43:10.922Z"
   },
   {
    "duration": 50,
    "start_time": "2022-10-04T17:49:52.576Z"
   },
   {
    "duration": 63,
    "start_time": "2022-10-04T17:50:22.967Z"
   },
   {
    "duration": 48,
    "start_time": "2022-10-04T17:50:28.288Z"
   },
   {
    "duration": 2604,
    "start_time": "2022-10-04T17:50:35.088Z"
   },
   {
    "duration": 329,
    "start_time": "2022-10-04T17:51:09.190Z"
   },
   {
    "duration": 54,
    "start_time": "2022-10-04T17:53:30.881Z"
   },
   {
    "duration": 353,
    "start_time": "2022-10-04T17:53:44.100Z"
   },
   {
    "duration": 347,
    "start_time": "2022-10-04T17:55:11.064Z"
   },
   {
    "duration": 14,
    "start_time": "2022-10-04T18:00:17.047Z"
   },
   {
    "duration": 15,
    "start_time": "2022-10-04T18:00:32.382Z"
   },
   {
    "duration": 147,
    "start_time": "2022-10-04T18:03:01.907Z"
   },
   {
    "duration": 144,
    "start_time": "2022-10-04T18:03:34.493Z"
   },
   {
    "duration": 248,
    "start_time": "2022-10-04T18:03:50.171Z"
   },
   {
    "duration": 1296,
    "start_time": "2022-10-04T18:05:10.038Z"
   },
   {
    "duration": 10,
    "start_time": "2022-10-04T18:05:42.177Z"
   },
   {
    "duration": 894,
    "start_time": "2022-10-04T18:05:56.931Z"
   },
   {
    "duration": 80,
    "start_time": "2022-10-04T18:06:44.389Z"
   },
   {
    "duration": 208,
    "start_time": "2022-10-04T18:06:59.932Z"
   },
   {
    "duration": 382,
    "start_time": "2022-10-04T18:07:38.457Z"
   },
   {
    "duration": 60,
    "start_time": "2022-10-04T18:07:55.474Z"
   },
   {
    "duration": 98,
    "start_time": "2022-10-04T18:08:06.960Z"
   },
   {
    "duration": 13,
    "start_time": "2022-10-04T18:19:00.709Z"
   },
   {
    "duration": 6,
    "start_time": "2022-10-04T18:20:18.783Z"
   },
   {
    "duration": 13,
    "start_time": "2022-10-04T18:23:16.958Z"
   },
   {
    "duration": 7,
    "start_time": "2022-10-04T18:23:32.750Z"
   },
   {
    "duration": 777,
    "start_time": "2022-10-04T18:31:01.076Z"
   },
   {
    "duration": 845,
    "start_time": "2022-10-04T18:31:14.779Z"
   },
   {
    "duration": 791,
    "start_time": "2022-10-04T18:32:29.985Z"
   },
   {
    "duration": 101,
    "start_time": "2022-10-04T18:33:54.341Z"
   },
   {
    "duration": 23,
    "start_time": "2022-10-04T18:34:11.834Z"
   },
   {
    "duration": 622,
    "start_time": "2022-10-04T18:34:31.875Z"
   },
   {
    "duration": 755,
    "start_time": "2022-10-04T18:34:39.989Z"
   },
   {
    "duration": 629,
    "start_time": "2022-10-04T18:35:02.415Z"
   },
   {
    "duration": 9,
    "start_time": "2022-10-04T18:35:11.207Z"
   },
   {
    "duration": 22,
    "start_time": "2022-10-04T18:35:50.292Z"
   },
   {
    "duration": 739,
    "start_time": "2022-10-04T18:35:59.802Z"
   },
   {
    "duration": 17,
    "start_time": "2022-10-04T18:36:52.485Z"
   },
   {
    "duration": 17,
    "start_time": "2022-10-04T18:37:31.934Z"
   },
   {
    "duration": 46,
    "start_time": "2022-10-04T18:38:54.431Z"
   },
   {
    "duration": 17,
    "start_time": "2022-10-04T18:39:03.103Z"
   },
   {
    "duration": 642,
    "start_time": "2022-10-04T18:39:08.392Z"
   },
   {
    "duration": 775,
    "start_time": "2022-10-04T18:40:57.745Z"
   },
   {
    "duration": 1419,
    "start_time": "2022-10-04T18:41:06.033Z"
   },
   {
    "duration": 1533,
    "start_time": "2022-10-04T18:41:18.681Z"
   },
   {
    "duration": 855,
    "start_time": "2022-10-04T18:41:27.897Z"
   },
   {
    "duration": 786,
    "start_time": "2022-10-04T18:41:33.527Z"
   },
   {
    "duration": 1059,
    "start_time": "2022-10-04T18:41:39.557Z"
   },
   {
    "duration": 968,
    "start_time": "2022-10-04T18:41:42.584Z"
   },
   {
    "duration": 28,
    "start_time": "2022-10-04T18:41:51.996Z"
   },
   {
    "duration": 863,
    "start_time": "2022-10-04T18:41:56.524Z"
   },
   {
    "duration": 962,
    "start_time": "2022-10-04T18:42:25.516Z"
   },
   {
    "duration": 903,
    "start_time": "2022-10-04T18:44:28.230Z"
   },
   {
    "duration": 220,
    "start_time": "2022-10-04T18:44:40.726Z"
   },
   {
    "duration": 785,
    "start_time": "2022-10-04T18:44:45.529Z"
   },
   {
    "duration": 1340,
    "start_time": "2022-10-05T18:38:49.578Z"
   },
   {
    "duration": 100,
    "start_time": "2022-10-05T18:38:50.920Z"
   },
   {
    "duration": 17,
    "start_time": "2022-10-05T18:38:51.022Z"
   },
   {
    "duration": 13,
    "start_time": "2022-10-05T18:38:51.041Z"
   },
   {
    "duration": 30,
    "start_time": "2022-10-05T18:38:51.055Z"
   },
   {
    "duration": 10,
    "start_time": "2022-10-05T18:38:51.087Z"
   },
   {
    "duration": 3,
    "start_time": "2022-10-05T18:38:51.098Z"
   },
   {
    "duration": 10,
    "start_time": "2022-10-05T18:38:51.102Z"
   },
   {
    "duration": 3,
    "start_time": "2022-10-05T18:38:51.114Z"
   },
   {
    "duration": 15,
    "start_time": "2022-10-05T18:38:51.120Z"
   },
   {
    "duration": 5,
    "start_time": "2022-10-05T18:38:51.137Z"
   },
   {
    "duration": 4,
    "start_time": "2022-10-05T18:38:51.176Z"
   },
   {
    "duration": 7,
    "start_time": "2022-10-05T18:38:51.181Z"
   },
   {
    "duration": 11,
    "start_time": "2022-10-05T18:38:51.189Z"
   },
   {
    "duration": 7,
    "start_time": "2022-10-05T18:38:51.201Z"
   },
   {
    "duration": 5,
    "start_time": "2022-10-05T18:38:51.210Z"
   },
   {
    "duration": 9,
    "start_time": "2022-10-05T18:38:51.217Z"
   },
   {
    "duration": 8,
    "start_time": "2022-10-05T18:38:51.227Z"
   },
   {
    "duration": 5,
    "start_time": "2022-10-05T18:38:51.236Z"
   },
   {
    "duration": 41,
    "start_time": "2022-10-05T18:38:51.243Z"
   },
   {
    "duration": 16,
    "start_time": "2022-10-05T18:38:51.286Z"
   },
   {
    "duration": 10,
    "start_time": "2022-10-05T18:38:51.303Z"
   },
   {
    "duration": 344,
    "start_time": "2022-10-05T18:38:51.315Z"
   },
   {
    "duration": 8,
    "start_time": "2022-10-05T18:38:51.661Z"
   },
   {
    "duration": 27,
    "start_time": "2022-10-05T18:38:51.670Z"
   },
   {
    "duration": 669,
    "start_time": "2022-10-05T18:38:51.698Z"
   },
   {
    "duration": 10,
    "start_time": "2022-10-05T18:38:52.368Z"
   },
   {
    "duration": 290,
    "start_time": "2022-10-05T18:38:52.381Z"
   },
   {
    "duration": 11,
    "start_time": "2022-10-05T18:38:52.676Z"
   },
   {
    "duration": 954,
    "start_time": "2022-10-05T18:38:52.688Z"
   },
   {
    "duration": 994,
    "start_time": "2022-10-05T18:39:03.313Z"
   },
   {
    "duration": 894,
    "start_time": "2022-10-05T18:39:51.566Z"
   },
   {
    "duration": 869,
    "start_time": "2022-10-05T18:40:11.719Z"
   },
   {
    "duration": 19,
    "start_time": "2022-10-05T18:41:23.815Z"
   },
   {
    "duration": 24,
    "start_time": "2022-10-05T18:44:42.596Z"
   },
   {
    "duration": 23,
    "start_time": "2022-10-05T18:45:22.473Z"
   },
   {
    "duration": 24,
    "start_time": "2022-10-05T18:45:32.481Z"
   },
   {
    "duration": 1104,
    "start_time": "2022-10-05T18:45:43.698Z"
   },
   {
    "duration": 58,
    "start_time": "2022-10-05T18:45:44.804Z"
   },
   {
    "duration": 17,
    "start_time": "2022-10-05T18:45:44.864Z"
   },
   {
    "duration": 12,
    "start_time": "2022-10-05T18:45:44.883Z"
   },
   {
    "duration": 29,
    "start_time": "2022-10-05T18:45:44.897Z"
   },
   {
    "duration": 9,
    "start_time": "2022-10-05T18:45:44.928Z"
   },
   {
    "duration": 4,
    "start_time": "2022-10-05T18:45:44.938Z"
   },
   {
    "duration": 33,
    "start_time": "2022-10-05T18:45:44.943Z"
   },
   {
    "duration": 4,
    "start_time": "2022-10-05T18:45:44.978Z"
   },
   {
    "duration": 16,
    "start_time": "2022-10-05T18:45:44.985Z"
   },
   {
    "duration": 5,
    "start_time": "2022-10-05T18:45:45.003Z"
   },
   {
    "duration": 7,
    "start_time": "2022-10-05T18:45:45.010Z"
   },
   {
    "duration": 16,
    "start_time": "2022-10-05T18:45:45.019Z"
   },
   {
    "duration": 9,
    "start_time": "2022-10-05T18:45:45.037Z"
   },
   {
    "duration": 7,
    "start_time": "2022-10-05T18:45:45.048Z"
   },
   {
    "duration": 21,
    "start_time": "2022-10-05T18:45:45.057Z"
   },
   {
    "duration": 10,
    "start_time": "2022-10-05T18:45:45.079Z"
   },
   {
    "duration": 10,
    "start_time": "2022-10-05T18:45:45.091Z"
   },
   {
    "duration": 6,
    "start_time": "2022-10-05T18:45:45.103Z"
   },
   {
    "duration": 19,
    "start_time": "2022-10-05T18:45:45.111Z"
   },
   {
    "duration": 17,
    "start_time": "2022-10-05T18:45:45.132Z"
   },
   {
    "duration": 12,
    "start_time": "2022-10-05T18:45:45.177Z"
   },
   {
    "duration": 383,
    "start_time": "2022-10-05T18:45:45.191Z"
   },
   {
    "duration": 8,
    "start_time": "2022-10-05T18:45:45.576Z"
   },
   {
    "duration": 7,
    "start_time": "2022-10-05T18:45:45.585Z"
   },
   {
    "duration": 685,
    "start_time": "2022-10-05T18:45:45.594Z"
   },
   {
    "duration": 6,
    "start_time": "2022-10-05T18:45:46.281Z"
   },
   {
    "duration": 309,
    "start_time": "2022-10-05T18:45:46.291Z"
   },
   {
    "duration": 12,
    "start_time": "2022-10-05T18:45:46.602Z"
   },
   {
    "duration": 995,
    "start_time": "2022-10-05T18:45:46.616Z"
   },
   {
    "duration": 129,
    "start_time": "2022-10-05T18:45:47.613Z"
   },
   {
    "duration": 0,
    "start_time": "2022-10-05T18:45:47.744Z"
   },
   {
    "duration": 436,
    "start_time": "2022-10-05T18:47:08.603Z"
   },
   {
    "duration": 155,
    "start_time": "2022-10-05T18:49:15.592Z"
   },
   {
    "duration": 159,
    "start_time": "2022-10-05T18:50:32.899Z"
   },
   {
    "duration": 176,
    "start_time": "2022-10-05T18:50:40.367Z"
   },
   {
    "duration": 162,
    "start_time": "2022-10-05T18:50:47.440Z"
   },
   {
    "duration": 261,
    "start_time": "2022-10-05T18:52:09.034Z"
   },
   {
    "duration": 162,
    "start_time": "2022-10-05T18:52:23.441Z"
   },
   {
    "duration": 176,
    "start_time": "2022-10-05T18:57:37.659Z"
   },
   {
    "duration": 187,
    "start_time": "2022-10-05T18:57:45.960Z"
   },
   {
    "duration": 360,
    "start_time": "2022-10-05T18:58:03.881Z"
   },
   {
    "duration": 54,
    "start_time": "2022-10-06T17:20:10.879Z"
   },
   {
    "duration": 1290,
    "start_time": "2022-10-06T17:20:24.724Z"
   },
   {
    "duration": 92,
    "start_time": "2022-10-06T17:20:26.017Z"
   },
   {
    "duration": 17,
    "start_time": "2022-10-06T17:20:26.111Z"
   },
   {
    "duration": 49,
    "start_time": "2022-10-06T17:20:26.130Z"
   },
   {
    "duration": 53,
    "start_time": "2022-10-06T17:20:26.181Z"
   },
   {
    "duration": 35,
    "start_time": "2022-10-06T17:20:26.235Z"
   },
   {
    "duration": 15,
    "start_time": "2022-10-06T17:20:26.272Z"
   },
   {
    "duration": 53,
    "start_time": "2022-10-06T17:20:26.289Z"
   },
   {
    "duration": 54,
    "start_time": "2022-10-06T17:20:26.344Z"
   },
   {
    "duration": 73,
    "start_time": "2022-10-06T17:20:26.400Z"
   },
   {
    "duration": 31,
    "start_time": "2022-10-06T17:20:26.476Z"
   },
   {
    "duration": 36,
    "start_time": "2022-10-06T17:20:26.509Z"
   },
   {
    "duration": 24,
    "start_time": "2022-10-06T17:20:26.547Z"
   },
   {
    "duration": 27,
    "start_time": "2022-10-06T17:20:26.573Z"
   },
   {
    "duration": 31,
    "start_time": "2022-10-06T17:20:26.601Z"
   },
   {
    "duration": 16,
    "start_time": "2022-10-06T17:20:26.633Z"
   },
   {
    "duration": 14,
    "start_time": "2022-10-06T17:20:26.650Z"
   },
   {
    "duration": 8,
    "start_time": "2022-10-06T17:20:26.665Z"
   },
   {
    "duration": 8,
    "start_time": "2022-10-06T17:20:26.674Z"
   },
   {
    "duration": 14,
    "start_time": "2022-10-06T17:20:26.684Z"
   },
   {
    "duration": 17,
    "start_time": "2022-10-06T17:20:26.699Z"
   },
   {
    "duration": 12,
    "start_time": "2022-10-06T17:20:26.717Z"
   },
   {
    "duration": 314,
    "start_time": "2022-10-06T17:20:26.730Z"
   },
   {
    "duration": 7,
    "start_time": "2022-10-06T17:20:27.046Z"
   },
   {
    "duration": 14,
    "start_time": "2022-10-06T17:20:27.055Z"
   },
   {
    "duration": 620,
    "start_time": "2022-10-06T17:20:27.071Z"
   },
   {
    "duration": 6,
    "start_time": "2022-10-06T17:20:27.693Z"
   },
   {
    "duration": 308,
    "start_time": "2022-10-06T17:20:27.700Z"
   },
   {
    "duration": 11,
    "start_time": "2022-10-06T17:20:28.009Z"
   },
   {
    "duration": 930,
    "start_time": "2022-10-06T17:20:28.022Z"
   },
   {
    "duration": 129,
    "start_time": "2022-10-06T17:20:28.954Z"
   },
   {
    "duration": 0,
    "start_time": "2022-10-06T17:20:29.085Z"
   },
   {
    "duration": 0,
    "start_time": "2022-10-06T17:20:29.086Z"
   },
   {
    "duration": 49,
    "start_time": "2022-10-06T17:21:19.882Z"
   },
   {
    "duration": 17,
    "start_time": "2022-10-06T17:21:35.671Z"
   },
   {
    "duration": 17,
    "start_time": "2022-10-06T17:21:46.519Z"
   },
   {
    "duration": 17,
    "start_time": "2022-10-06T17:22:19.853Z"
   },
   {
    "duration": 18,
    "start_time": "2022-10-06T17:22:31.504Z"
   },
   {
    "duration": 45,
    "start_time": "2022-10-06T17:22:35.644Z"
   },
   {
    "duration": 302,
    "start_time": "2022-10-06T17:23:07.265Z"
   },
   {
    "duration": 358,
    "start_time": "2022-10-06T17:23:25.857Z"
   },
   {
    "duration": 302,
    "start_time": "2022-10-06T17:23:41.212Z"
   },
   {
    "duration": 306,
    "start_time": "2022-10-06T17:26:39.483Z"
   },
   {
    "duration": 310,
    "start_time": "2022-10-06T17:26:58.857Z"
   },
   {
    "duration": 330,
    "start_time": "2022-10-06T17:28:20.753Z"
   },
   {
    "duration": 41,
    "start_time": "2022-10-06T17:29:21.658Z"
   },
   {
    "duration": 47,
    "start_time": "2022-10-06T17:29:36.720Z"
   },
   {
    "duration": 55,
    "start_time": "2022-10-06T17:31:13.858Z"
   },
   {
    "duration": 52,
    "start_time": "2022-10-06T17:31:22.691Z"
   },
   {
    "duration": 42,
    "start_time": "2022-10-06T17:32:10.650Z"
   },
   {
    "duration": 72,
    "start_time": "2022-10-06T17:32:39.106Z"
   },
   {
    "duration": 45,
    "start_time": "2022-10-06T17:33:04.777Z"
   },
   {
    "duration": 148,
    "start_time": "2022-10-06T17:33:25.849Z"
   },
   {
    "duration": 63,
    "start_time": "2022-10-06T17:35:16.263Z"
   },
   {
    "duration": 47,
    "start_time": "2022-10-06T17:36:41.991Z"
   },
   {
    "duration": 940,
    "start_time": "2022-10-06T17:36:47.720Z"
   },
   {
    "duration": 84,
    "start_time": "2022-10-06T17:41:09.844Z"
   },
   {
    "duration": 48,
    "start_time": "2022-10-06T17:41:24.199Z"
   },
   {
    "duration": 5,
    "start_time": "2022-10-06T17:41:46.712Z"
   },
   {
    "duration": 74,
    "start_time": "2022-10-06T17:41:53.729Z"
   },
   {
    "duration": 48,
    "start_time": "2022-10-06T17:42:03.908Z"
   },
   {
    "duration": 865,
    "start_time": "2022-10-06T17:42:23.539Z"
   },
   {
    "duration": 670,
    "start_time": "2022-10-06T17:44:27.297Z"
   },
   {
    "duration": 559,
    "start_time": "2022-10-06T17:44:55.921Z"
   },
   {
    "duration": 527,
    "start_time": "2022-10-06T17:46:19.709Z"
   },
   {
    "duration": 14,
    "start_time": "2022-10-06T17:46:30.659Z"
   },
   {
    "duration": 15,
    "start_time": "2022-10-06T17:46:47.726Z"
   },
   {
    "duration": 57,
    "start_time": "2022-10-06T17:47:21.883Z"
   },
   {
    "duration": 528,
    "start_time": "2022-10-06T17:47:28.071Z"
   },
   {
    "duration": 49,
    "start_time": "2022-10-06T17:48:25.572Z"
   },
   {
    "duration": 1112,
    "start_time": "2022-10-06T17:48:35.726Z"
   },
   {
    "duration": 54,
    "start_time": "2022-10-06T17:48:36.840Z"
   },
   {
    "duration": 26,
    "start_time": "2022-10-06T17:48:36.895Z"
   },
   {
    "duration": 13,
    "start_time": "2022-10-06T17:48:36.923Z"
   },
   {
    "duration": 27,
    "start_time": "2022-10-06T17:48:36.938Z"
   },
   {
    "duration": 9,
    "start_time": "2022-10-06T17:48:36.966Z"
   },
   {
    "duration": 2,
    "start_time": "2022-10-06T17:48:36.977Z"
   },
   {
    "duration": 11,
    "start_time": "2022-10-06T17:48:36.981Z"
   },
   {
    "duration": 27,
    "start_time": "2022-10-06T17:48:36.993Z"
   },
   {
    "duration": 19,
    "start_time": "2022-10-06T17:48:37.023Z"
   },
   {
    "duration": 6,
    "start_time": "2022-10-06T17:48:37.043Z"
   },
   {
    "duration": 6,
    "start_time": "2022-10-06T17:48:37.050Z"
   },
   {
    "duration": 10,
    "start_time": "2022-10-06T17:48:37.057Z"
   },
   {
    "duration": 11,
    "start_time": "2022-10-06T17:48:37.068Z"
   },
   {
    "duration": 6,
    "start_time": "2022-10-06T17:48:37.080Z"
   },
   {
    "duration": 6,
    "start_time": "2022-10-06T17:48:37.087Z"
   },
   {
    "duration": 27,
    "start_time": "2022-10-06T17:48:37.094Z"
   },
   {
    "duration": 10,
    "start_time": "2022-10-06T17:48:37.123Z"
   },
   {
    "duration": 26,
    "start_time": "2022-10-06T17:48:37.135Z"
   },
   {
    "duration": 13,
    "start_time": "2022-10-06T17:48:37.162Z"
   },
   {
    "duration": 17,
    "start_time": "2022-10-06T17:48:37.176Z"
   },
   {
    "duration": 11,
    "start_time": "2022-10-06T17:48:37.194Z"
   },
   {
    "duration": 329,
    "start_time": "2022-10-06T17:48:37.206Z"
   },
   {
    "duration": 7,
    "start_time": "2022-10-06T17:48:37.537Z"
   },
   {
    "duration": 15,
    "start_time": "2022-10-06T17:48:37.546Z"
   },
   {
    "duration": 653,
    "start_time": "2022-10-06T17:48:37.562Z"
   },
   {
    "duration": 10,
    "start_time": "2022-10-06T17:48:38.217Z"
   },
   {
    "duration": 292,
    "start_time": "2022-10-06T17:48:38.230Z"
   },
   {
    "duration": 12,
    "start_time": "2022-10-06T17:48:38.524Z"
   },
   {
    "duration": 926,
    "start_time": "2022-10-06T17:48:38.537Z"
   },
   {
    "duration": 42,
    "start_time": "2022-10-06T17:48:39.465Z"
   },
   {
    "duration": 1,
    "start_time": "2022-10-06T17:48:39.508Z"
   },
   {
    "duration": 0,
    "start_time": "2022-10-06T17:48:39.510Z"
   },
   {
    "duration": 0,
    "start_time": "2022-10-06T17:48:39.511Z"
   },
   {
    "duration": 0,
    "start_time": "2022-10-06T17:48:39.511Z"
   },
   {
    "duration": 153,
    "start_time": "2022-10-06T17:48:46.525Z"
   },
   {
    "duration": 42,
    "start_time": "2022-10-06T17:48:51.421Z"
   },
   {
    "duration": 253,
    "start_time": "2022-10-06T17:48:53.770Z"
   },
   {
    "duration": 543,
    "start_time": "2022-10-06T17:49:07.722Z"
   },
   {
    "duration": 236,
    "start_time": "2022-10-06T17:49:33.122Z"
   },
   {
    "duration": 625,
    "start_time": "2022-10-06T17:49:37.707Z"
   },
   {
    "duration": 84,
    "start_time": "2022-10-06T17:50:46.463Z"
   },
   {
    "duration": 889,
    "start_time": "2022-10-06T17:50:49.984Z"
   },
   {
    "duration": 12,
    "start_time": "2022-10-06T17:55:51.273Z"
   },
   {
    "duration": 205,
    "start_time": "2022-10-06T17:56:08.246Z"
   },
   {
    "duration": 24,
    "start_time": "2022-10-06T17:58:42.567Z"
   },
   {
    "duration": 414,
    "start_time": "2022-10-06T17:59:02.429Z"
   },
   {
    "duration": 337,
    "start_time": "2022-10-06T17:59:19.017Z"
   },
   {
    "duration": 400,
    "start_time": "2022-10-06T18:00:57.919Z"
   },
   {
    "duration": 843,
    "start_time": "2022-10-06T18:01:29.724Z"
   },
   {
    "duration": 448,
    "start_time": "2022-10-06T18:08:14.053Z"
   },
   {
    "duration": 56,
    "start_time": "2022-10-06T18:09:20.187Z"
   },
   {
    "duration": 152,
    "start_time": "2022-10-06T18:09:43.005Z"
   },
   {
    "duration": 16,
    "start_time": "2022-10-06T18:11:35.081Z"
   },
   {
    "duration": 688,
    "start_time": "2022-10-06T18:15:29.270Z"
   },
   {
    "duration": 480,
    "start_time": "2022-10-06T18:15:47.960Z"
   },
   {
    "duration": 514,
    "start_time": "2022-10-06T18:16:38.142Z"
   },
   {
    "duration": 958,
    "start_time": "2022-10-06T18:18:36.381Z"
   },
   {
    "duration": 886,
    "start_time": "2022-10-06T18:22:49.739Z"
   },
   {
    "duration": 31,
    "start_time": "2022-10-06T18:23:07.957Z"
   },
   {
    "duration": 12,
    "start_time": "2022-10-06T18:23:17.102Z"
   },
   {
    "duration": 13,
    "start_time": "2022-10-06T18:23:35.504Z"
   },
   {
    "duration": 289,
    "start_time": "2022-10-06T18:28:22.530Z"
   },
   {
    "duration": 152,
    "start_time": "2022-10-06T18:29:09.082Z"
   },
   {
    "duration": 160,
    "start_time": "2022-10-06T18:29:15.433Z"
   },
   {
    "duration": 242,
    "start_time": "2022-10-06T18:29:56.786Z"
   },
   {
    "duration": 157,
    "start_time": "2022-10-06T18:30:02.815Z"
   },
   {
    "duration": 10,
    "start_time": "2022-10-06T18:31:50.279Z"
   },
   {
    "duration": 12,
    "start_time": "2022-10-06T18:31:56.631Z"
   },
   {
    "duration": 10,
    "start_time": "2022-10-06T18:32:07.871Z"
   },
   {
    "duration": 11,
    "start_time": "2022-10-06T18:34:15.621Z"
   },
   {
    "duration": 121,
    "start_time": "2022-10-06T18:34:29.168Z"
   },
   {
    "duration": 119,
    "start_time": "2022-10-06T18:35:00.138Z"
   },
   {
    "duration": 142,
    "start_time": "2022-10-06T18:35:23.287Z"
   },
   {
    "duration": 154,
    "start_time": "2022-10-06T18:35:27.700Z"
   },
   {
    "duration": 152,
    "start_time": "2022-10-06T18:36:43.345Z"
   },
   {
    "duration": 54,
    "start_time": "2022-10-08T05:22:11.768Z"
   },
   {
    "duration": 44,
    "start_time": "2022-10-08T05:22:28.799Z"
   },
   {
    "duration": 60,
    "start_time": "2022-10-08T05:22:45.332Z"
   },
   {
    "duration": 1398,
    "start_time": "2022-10-08T05:22:59.583Z"
   },
   {
    "duration": 98,
    "start_time": "2022-10-08T05:23:00.983Z"
   },
   {
    "duration": 19,
    "start_time": "2022-10-08T05:23:01.083Z"
   },
   {
    "duration": 57,
    "start_time": "2022-10-08T05:23:01.103Z"
   },
   {
    "duration": 57,
    "start_time": "2022-10-08T05:23:01.163Z"
   },
   {
    "duration": 13,
    "start_time": "2022-10-08T05:23:01.222Z"
   },
   {
    "duration": 82,
    "start_time": "2022-10-08T05:23:01.236Z"
   },
   {
    "duration": 43,
    "start_time": "2022-10-08T05:23:01.320Z"
   },
   {
    "duration": 36,
    "start_time": "2022-10-08T05:23:01.365Z"
   },
   {
    "duration": 51,
    "start_time": "2022-10-08T05:23:01.403Z"
   },
   {
    "duration": 44,
    "start_time": "2022-10-08T05:23:01.456Z"
   },
   {
    "duration": 44,
    "start_time": "2022-10-08T05:23:01.502Z"
   },
   {
    "duration": 21,
    "start_time": "2022-10-08T05:23:01.548Z"
   },
   {
    "duration": 48,
    "start_time": "2022-10-08T05:23:01.573Z"
   },
   {
    "duration": 55,
    "start_time": "2022-10-08T05:23:01.623Z"
   },
   {
    "duration": 27,
    "start_time": "2022-10-08T05:23:01.679Z"
   },
   {
    "duration": 21,
    "start_time": "2022-10-08T05:23:01.708Z"
   },
   {
    "duration": 41,
    "start_time": "2022-10-08T05:23:01.731Z"
   },
   {
    "duration": 23,
    "start_time": "2022-10-08T05:23:01.775Z"
   },
   {
    "duration": 31,
    "start_time": "2022-10-08T05:23:01.800Z"
   },
   {
    "duration": 39,
    "start_time": "2022-10-08T05:23:01.833Z"
   },
   {
    "duration": 23,
    "start_time": "2022-10-08T05:23:01.874Z"
   },
   {
    "duration": 353,
    "start_time": "2022-10-08T05:23:01.899Z"
   },
   {
    "duration": 8,
    "start_time": "2022-10-08T05:23:02.253Z"
   },
   {
    "duration": 103,
    "start_time": "2022-10-08T05:23:02.263Z"
   },
   {
    "duration": 767,
    "start_time": "2022-10-08T05:23:02.368Z"
   },
   {
    "duration": 17,
    "start_time": "2022-10-08T05:23:03.137Z"
   },
   {
    "duration": 320,
    "start_time": "2022-10-08T05:23:03.156Z"
   },
   {
    "duration": 12,
    "start_time": "2022-10-08T05:23:03.477Z"
   },
   {
    "duration": 1004,
    "start_time": "2022-10-08T05:23:03.490Z"
   },
   {
    "duration": 59,
    "start_time": "2022-10-08T05:23:04.496Z"
   },
   {
    "duration": 161,
    "start_time": "2022-10-08T05:23:04.557Z"
   },
   {
    "duration": 162,
    "start_time": "2022-10-08T05:23:04.720Z"
   },
   {
    "duration": 42,
    "start_time": "2022-10-08T05:23:04.884Z"
   },
   {
    "duration": 46,
    "start_time": "2022-10-08T05:23:23.149Z"
   },
   {
    "duration": 51,
    "start_time": "2022-10-08T05:24:54.244Z"
   },
   {
    "duration": 46,
    "start_time": "2022-10-08T05:25:00.138Z"
   },
   {
    "duration": 972,
    "start_time": "2022-10-08T05:25:10.600Z"
   },
   {
    "duration": 811,
    "start_time": "2022-10-08T05:25:29.986Z"
   },
   {
    "duration": 726,
    "start_time": "2022-10-08T05:26:13.076Z"
   },
   {
    "duration": 956,
    "start_time": "2022-10-08T05:27:17.204Z"
   },
   {
    "duration": 938,
    "start_time": "2022-10-08T05:27:43.788Z"
   },
   {
    "duration": 12,
    "start_time": "2022-10-08T05:28:48.028Z"
   },
   {
    "duration": 701,
    "start_time": "2022-10-08T05:28:55.934Z"
   },
   {
    "duration": 164,
    "start_time": "2022-10-08T05:32:10.714Z"
   },
   {
    "duration": 149,
    "start_time": "2022-10-08T05:33:59.487Z"
   },
   {
    "duration": 11,
    "start_time": "2022-10-08T05:34:35.453Z"
   },
   {
    "duration": 348,
    "start_time": "2022-10-08T06:04:06.561Z"
   },
   {
    "duration": 239,
    "start_time": "2022-10-08T06:04:47.174Z"
   },
   {
    "duration": 234,
    "start_time": "2022-10-08T06:04:52.945Z"
   },
   {
    "duration": 235,
    "start_time": "2022-10-08T06:05:00.098Z"
   },
   {
    "duration": 240,
    "start_time": "2022-10-08T06:05:07.149Z"
   },
   {
    "duration": 223,
    "start_time": "2022-10-08T06:05:33.571Z"
   },
   {
    "duration": 199,
    "start_time": "2022-10-08T06:51:26.113Z"
   },
   {
    "duration": 15,
    "start_time": "2022-10-08T07:25:03.927Z"
   },
   {
    "duration": 6,
    "start_time": "2022-10-08T07:25:10.828Z"
   },
   {
    "duration": 10,
    "start_time": "2022-10-08T07:25:33.827Z"
   },
   {
    "duration": 10,
    "start_time": "2022-10-08T07:25:43.570Z"
   },
   {
    "duration": 7,
    "start_time": "2022-10-08T07:25:50.964Z"
   },
   {
    "duration": 18,
    "start_time": "2022-10-08T07:25:51.833Z"
   },
   {
    "duration": 17,
    "start_time": "2022-10-08T07:26:02.950Z"
   },
   {
    "duration": 9,
    "start_time": "2022-10-08T07:26:47.789Z"
   },
   {
    "duration": 28,
    "start_time": "2022-10-08T07:31:10.612Z"
   },
   {
    "duration": 151,
    "start_time": "2022-10-08T07:35:49.446Z"
   },
   {
    "duration": 360,
    "start_time": "2022-10-08T07:37:50.601Z"
   },
   {
    "duration": 228,
    "start_time": "2022-10-08T07:38:08.392Z"
   },
   {
    "duration": 237,
    "start_time": "2022-10-08T07:38:13.417Z"
   },
   {
    "duration": 17,
    "start_time": "2022-10-08T07:38:33.704Z"
   },
   {
    "duration": 16,
    "start_time": "2022-10-08T07:38:45.773Z"
   },
   {
    "duration": 397,
    "start_time": "2022-10-08T07:38:55.816Z"
   },
   {
    "duration": 290,
    "start_time": "2022-10-08T07:39:23.492Z"
   },
   {
    "duration": 306,
    "start_time": "2022-10-08T07:39:31.652Z"
   },
   {
    "duration": 168,
    "start_time": "2022-10-08T07:40:28.651Z"
   },
   {
    "duration": 18,
    "start_time": "2022-10-08T08:34:09.266Z"
   },
   {
    "duration": 13,
    "start_time": "2022-10-08T08:40:26.718Z"
   },
   {
    "duration": 10,
    "start_time": "2022-10-08T08:40:36.335Z"
   },
   {
    "duration": 262,
    "start_time": "2022-10-08T08:43:32.980Z"
   },
   {
    "duration": 267,
    "start_time": "2022-10-08T08:43:51.726Z"
   },
   {
    "duration": 9,
    "start_time": "2022-10-08T09:15:03.604Z"
   },
   {
    "duration": 247,
    "start_time": "2022-10-08T09:15:50.150Z"
   },
   {
    "duration": 243,
    "start_time": "2022-10-08T09:16:08.206Z"
   },
   {
    "duration": 816,
    "start_time": "2022-10-08T09:18:35.480Z"
   },
   {
    "duration": 837,
    "start_time": "2022-10-08T09:20:33.598Z"
   },
   {
    "duration": 1249,
    "start_time": "2022-10-08T09:20:44.485Z"
   },
   {
    "duration": 85,
    "start_time": "2022-10-08T09:20:45.736Z"
   },
   {
    "duration": 20,
    "start_time": "2022-10-08T09:20:45.822Z"
   },
   {
    "duration": 18,
    "start_time": "2022-10-08T09:20:45.844Z"
   },
   {
    "duration": 34,
    "start_time": "2022-10-08T09:20:45.864Z"
   },
   {
    "duration": 11,
    "start_time": "2022-10-08T09:20:45.900Z"
   },
   {
    "duration": 14,
    "start_time": "2022-10-08T09:20:45.912Z"
   },
   {
    "duration": 31,
    "start_time": "2022-10-08T09:20:45.928Z"
   },
   {
    "duration": 10,
    "start_time": "2022-10-08T09:20:45.962Z"
   },
   {
    "duration": 27,
    "start_time": "2022-10-08T09:20:45.974Z"
   },
   {
    "duration": 7,
    "start_time": "2022-10-08T09:20:46.003Z"
   },
   {
    "duration": 10,
    "start_time": "2022-10-08T09:20:46.012Z"
   },
   {
    "duration": 9,
    "start_time": "2022-10-08T09:20:46.023Z"
   },
   {
    "duration": 26,
    "start_time": "2022-10-08T09:20:46.034Z"
   },
   {
    "duration": 10,
    "start_time": "2022-10-08T09:20:46.062Z"
   },
   {
    "duration": 22,
    "start_time": "2022-10-08T09:20:46.074Z"
   },
   {
    "duration": 18,
    "start_time": "2022-10-08T09:20:46.098Z"
   },
   {
    "duration": 12,
    "start_time": "2022-10-08T09:20:46.118Z"
   },
   {
    "duration": 10,
    "start_time": "2022-10-08T09:20:46.132Z"
   },
   {
    "duration": 26,
    "start_time": "2022-10-08T09:20:46.143Z"
   },
   {
    "duration": 22,
    "start_time": "2022-10-08T09:20:46.172Z"
   },
   {
    "duration": 13,
    "start_time": "2022-10-08T09:20:46.196Z"
   },
   {
    "duration": 391,
    "start_time": "2022-10-08T09:20:46.210Z"
   },
   {
    "duration": 10,
    "start_time": "2022-10-08T09:20:46.602Z"
   },
   {
    "duration": 12,
    "start_time": "2022-10-08T09:20:46.615Z"
   },
   {
    "duration": 828,
    "start_time": "2022-10-08T09:20:46.629Z"
   },
   {
    "duration": 9,
    "start_time": "2022-10-08T09:20:47.459Z"
   },
   {
    "duration": 355,
    "start_time": "2022-10-08T09:20:47.470Z"
   },
   {
    "duration": 27,
    "start_time": "2022-10-08T09:20:47.828Z"
   },
   {
    "duration": 1125,
    "start_time": "2022-10-08T09:20:47.857Z"
   },
   {
    "duration": 215,
    "start_time": "2022-10-08T09:20:48.984Z"
   },
   {
    "duration": 18,
    "start_time": "2022-10-08T09:20:49.201Z"
   },
   {
    "duration": 297,
    "start_time": "2022-10-08T09:20:49.221Z"
   },
   {
    "duration": 12,
    "start_time": "2022-10-08T09:20:49.520Z"
   },
   {
    "duration": 26,
    "start_time": "2022-10-08T09:20:49.534Z"
   },
   {
    "duration": 839,
    "start_time": "2022-10-08T09:20:49.562Z"
   },
   {
    "duration": 24,
    "start_time": "2022-10-08T09:23:12.377Z"
   },
   {
    "duration": 10,
    "start_time": "2022-10-08T09:23:37.874Z"
   },
   {
    "duration": 783,
    "start_time": "2022-10-08T09:31:36.353Z"
   },
   {
    "duration": 11,
    "start_time": "2022-10-08T09:31:40.945Z"
   },
   {
    "duration": 47,
    "start_time": "2022-10-08T09:37:18.310Z"
   },
   {
    "duration": 11,
    "start_time": "2022-10-08T09:37:55.205Z"
   },
   {
    "duration": 0,
    "start_time": "2022-10-08T09:43:12.477Z"
   },
   {
    "duration": 0,
    "start_time": "2022-10-08T09:44:47.603Z"
   },
   {
    "duration": 0,
    "start_time": "2022-10-08T09:45:17.380Z"
   },
   {
    "duration": 194700,
    "start_time": "2022-10-08T09:45:20.212Z"
   },
   {
    "duration": 0,
    "start_time": "2022-10-08T09:48:34.914Z"
   },
   {
    "duration": 1003,
    "start_time": "2022-10-08T09:48:37.122Z"
   },
   {
    "duration": 288,
    "start_time": "2022-10-08T09:50:45.094Z"
   },
   {
    "duration": 201,
    "start_time": "2022-10-08T09:51:29.964Z"
   },
   {
    "duration": 0,
    "start_time": "2022-10-08T09:53:38.026Z"
   },
   {
    "duration": 176866,
    "start_time": "2022-10-08T09:53:40.543Z"
   },
   {
    "duration": 0,
    "start_time": "2022-10-08T09:56:37.411Z"
   },
   {
    "duration": 888,
    "start_time": "2022-10-08T09:56:43.238Z"
   },
   {
    "duration": 1004,
    "start_time": "2022-10-08T09:57:01.038Z"
   },
   {
    "duration": 344,
    "start_time": "2022-10-08T10:05:29.756Z"
   },
   {
    "duration": 209,
    "start_time": "2022-10-08T10:06:08.194Z"
   },
   {
    "duration": 213,
    "start_time": "2022-10-08T10:06:27.509Z"
   },
   {
    "duration": 0,
    "start_time": "2022-10-08T10:12:28.146Z"
   },
   {
    "duration": 1955,
    "start_time": "2022-10-08T10:12:30.741Z"
   },
   {
    "duration": 1192,
    "start_time": "2022-10-08T10:22:53.516Z"
   },
   {
    "duration": 56,
    "start_time": "2022-10-08T10:22:54.710Z"
   },
   {
    "duration": 20,
    "start_time": "2022-10-08T10:22:54.768Z"
   },
   {
    "duration": 16,
    "start_time": "2022-10-08T10:22:54.790Z"
   },
   {
    "duration": 60,
    "start_time": "2022-10-08T10:22:54.808Z"
   },
   {
    "duration": 13,
    "start_time": "2022-10-08T10:22:54.870Z"
   },
   {
    "duration": 6,
    "start_time": "2022-10-08T10:22:54.884Z"
   },
   {
    "duration": 19,
    "start_time": "2022-10-08T10:22:54.892Z"
   },
   {
    "duration": 7,
    "start_time": "2022-10-08T10:22:54.913Z"
   },
   {
    "duration": 32,
    "start_time": "2022-10-08T10:22:54.922Z"
   },
   {
    "duration": 8,
    "start_time": "2022-10-08T10:22:54.956Z"
   },
   {
    "duration": 15,
    "start_time": "2022-10-08T10:22:54.966Z"
   },
   {
    "duration": 11,
    "start_time": "2022-10-08T10:22:54.982Z"
   },
   {
    "duration": 33,
    "start_time": "2022-10-08T10:22:54.995Z"
   },
   {
    "duration": 11,
    "start_time": "2022-10-08T10:22:55.030Z"
   },
   {
    "duration": 14,
    "start_time": "2022-10-08T10:22:55.043Z"
   },
   {
    "duration": 25,
    "start_time": "2022-10-08T10:22:55.059Z"
   },
   {
    "duration": 13,
    "start_time": "2022-10-08T10:22:55.086Z"
   },
   {
    "duration": 8,
    "start_time": "2022-10-08T10:22:55.100Z"
   },
   {
    "duration": 23,
    "start_time": "2022-10-08T10:22:55.109Z"
   },
   {
    "duration": 25,
    "start_time": "2022-10-08T10:22:55.134Z"
   },
   {
    "duration": 14,
    "start_time": "2022-10-08T10:22:55.161Z"
   },
   {
    "duration": 362,
    "start_time": "2022-10-08T10:22:55.176Z"
   },
   {
    "duration": 15,
    "start_time": "2022-10-08T10:22:55.540Z"
   },
   {
    "duration": 11,
    "start_time": "2022-10-08T10:22:55.557Z"
   },
   {
    "duration": 701,
    "start_time": "2022-10-08T10:22:55.570Z"
   },
   {
    "duration": 6,
    "start_time": "2022-10-08T10:22:56.273Z"
   },
   {
    "duration": 306,
    "start_time": "2022-10-08T10:22:56.282Z"
   },
   {
    "duration": 11,
    "start_time": "2022-10-08T10:22:56.590Z"
   },
   {
    "duration": 1035,
    "start_time": "2022-10-08T10:22:56.603Z"
   },
   {
    "duration": 201,
    "start_time": "2022-10-08T10:22:57.640Z"
   },
   {
    "duration": 19,
    "start_time": "2022-10-08T10:22:57.842Z"
   },
   {
    "duration": 266,
    "start_time": "2022-10-08T10:22:57.863Z"
   },
   {
    "duration": 10,
    "start_time": "2022-10-08T10:22:58.130Z"
   },
   {
    "duration": 803,
    "start_time": "2022-10-08T10:22:58.142Z"
   },
   {
    "duration": 98,
    "start_time": "2022-10-08T10:22:58.947Z"
   },
   {
    "duration": 0,
    "start_time": "2022-10-08T10:22:59.047Z"
   },
   {
    "duration": 10,
    "start_time": "2022-10-08T10:23:44.801Z"
   },
   {
    "duration": 187,
    "start_time": "2022-10-08T10:23:47.903Z"
   },
   {
    "duration": 246,
    "start_time": "2022-10-08T10:36:48.223Z"
   },
   {
    "duration": 292,
    "start_time": "2022-10-08T10:41:44.364Z"
   },
   {
    "duration": 389,
    "start_time": "2022-10-08T10:42:23.913Z"
   },
   {
    "duration": 420,
    "start_time": "2022-10-08T10:42:41.844Z"
   },
   {
    "duration": 241,
    "start_time": "2022-10-08T10:43:08.240Z"
   },
   {
    "duration": 48,
    "start_time": "2022-10-08T10:44:24.093Z"
   },
   {
    "duration": 84,
    "start_time": "2022-10-08T10:44:33.767Z"
   },
   {
    "duration": 49,
    "start_time": "2022-10-08T10:46:22.839Z"
   },
   {
    "duration": 58,
    "start_time": "2022-10-08T10:46:31.941Z"
   },
   {
    "duration": 98,
    "start_time": "2022-10-08T10:46:47.986Z"
   },
   {
    "duration": 54,
    "start_time": "2022-10-08T11:12:28.796Z"
   },
   {
    "duration": 44,
    "start_time": "2022-10-08T11:12:44.569Z"
   },
   {
    "duration": 85,
    "start_time": "2022-10-08T11:12:54.422Z"
   },
   {
    "duration": 48,
    "start_time": "2022-10-08T11:13:55.118Z"
   },
   {
    "duration": 6,
    "start_time": "2022-10-08T11:14:01.782Z"
   },
   {
    "duration": 15,
    "start_time": "2022-10-08T11:14:11.007Z"
   },
   {
    "duration": 7,
    "start_time": "2022-10-08T11:15:41.686Z"
   },
   {
    "duration": 19,
    "start_time": "2022-10-08T11:15:42.493Z"
   },
   {
    "duration": 19,
    "start_time": "2022-10-08T11:15:54.680Z"
   },
   {
    "duration": 19,
    "start_time": "2022-10-08T11:16:19.109Z"
   },
   {
    "duration": 89,
    "start_time": "2022-10-08T11:17:06.521Z"
   },
   {
    "duration": 13,
    "start_time": "2022-10-08T11:20:32.499Z"
   },
   {
    "duration": 183,
    "start_time": "2022-10-08T11:20:38.840Z"
   },
   {
    "duration": 200,
    "start_time": "2022-10-08T11:21:07.297Z"
   },
   {
    "duration": 192,
    "start_time": "2022-10-08T11:21:58.335Z"
   },
   {
    "duration": 301,
    "start_time": "2022-10-08T11:24:24.599Z"
   },
   {
    "duration": 51,
    "start_time": "2022-10-09T08:19:19.714Z"
   },
   {
    "duration": 1296,
    "start_time": "2022-10-09T08:19:25.877Z"
   },
   {
    "duration": 100,
    "start_time": "2022-10-09T08:19:27.175Z"
   },
   {
    "duration": 15,
    "start_time": "2022-10-09T08:19:27.278Z"
   },
   {
    "duration": 12,
    "start_time": "2022-10-09T08:19:27.296Z"
   },
   {
    "duration": 26,
    "start_time": "2022-10-09T08:19:27.310Z"
   },
   {
    "duration": 9,
    "start_time": "2022-10-09T08:19:27.338Z"
   },
   {
    "duration": 4,
    "start_time": "2022-10-09T08:19:27.348Z"
   },
   {
    "duration": 14,
    "start_time": "2022-10-09T08:19:27.353Z"
   },
   {
    "duration": 6,
    "start_time": "2022-10-09T08:19:27.368Z"
   },
   {
    "duration": 32,
    "start_time": "2022-10-09T08:19:27.377Z"
   },
   {
    "duration": 5,
    "start_time": "2022-10-09T08:19:27.411Z"
   },
   {
    "duration": 8,
    "start_time": "2022-10-09T08:19:27.417Z"
   },
   {
    "duration": 7,
    "start_time": "2022-10-09T08:19:27.427Z"
   },
   {
    "duration": 7,
    "start_time": "2022-10-09T08:19:27.435Z"
   },
   {
    "duration": 5,
    "start_time": "2022-10-09T08:19:27.443Z"
   },
   {
    "duration": 5,
    "start_time": "2022-10-09T08:19:27.450Z"
   },
   {
    "duration": 15,
    "start_time": "2022-10-09T08:19:27.456Z"
   },
   {
    "duration": 8,
    "start_time": "2022-10-09T08:19:27.473Z"
   },
   {
    "duration": 26,
    "start_time": "2022-10-09T08:19:27.483Z"
   },
   {
    "duration": 12,
    "start_time": "2022-10-09T08:19:27.510Z"
   },
   {
    "duration": 14,
    "start_time": "2022-10-09T08:19:27.524Z"
   },
   {
    "duration": 10,
    "start_time": "2022-10-09T08:19:27.539Z"
   },
   {
    "duration": 303,
    "start_time": "2022-10-09T08:19:27.551Z"
   },
   {
    "duration": 8,
    "start_time": "2022-10-09T08:19:27.856Z"
   },
   {
    "duration": 7,
    "start_time": "2022-10-09T08:19:27.866Z"
   },
   {
    "duration": 592,
    "start_time": "2022-10-09T08:19:27.875Z"
   },
   {
    "duration": 7,
    "start_time": "2022-10-09T08:19:28.469Z"
   },
   {
    "duration": 263,
    "start_time": "2022-10-09T08:19:28.480Z"
   },
   {
    "duration": 11,
    "start_time": "2022-10-09T08:19:28.745Z"
   },
   {
    "duration": 847,
    "start_time": "2022-10-09T08:19:28.758Z"
   },
   {
    "duration": 186,
    "start_time": "2022-10-09T08:19:29.609Z"
   },
   {
    "duration": 23,
    "start_time": "2022-10-09T08:19:29.796Z"
   },
   {
    "duration": 238,
    "start_time": "2022-10-09T08:19:29.820Z"
   },
   {
    "duration": 9,
    "start_time": "2022-10-09T08:19:30.060Z"
   },
   {
    "duration": 702,
    "start_time": "2022-10-09T08:19:30.070Z"
   },
   {
    "duration": 8,
    "start_time": "2022-10-09T08:19:30.774Z"
   },
   {
    "duration": 187,
    "start_time": "2022-10-09T08:19:30.784Z"
   },
   {
    "duration": 332,
    "start_time": "2022-10-09T08:19:30.972Z"
   },
   {
    "duration": 6,
    "start_time": "2022-10-09T08:19:31.308Z"
   },
   {
    "duration": 28,
    "start_time": "2022-10-09T08:19:31.316Z"
   },
   {
    "duration": 107,
    "start_time": "2022-10-09T08:19:31.346Z"
   },
   {
    "duration": 0,
    "start_time": "2022-10-09T08:19:31.454Z"
   },
   {
    "duration": 13,
    "start_time": "2022-10-09T08:19:44.317Z"
   },
   {
    "duration": 15,
    "start_time": "2022-10-09T08:21:05.511Z"
   },
   {
    "duration": 12,
    "start_time": "2022-10-09T08:21:52.891Z"
   },
   {
    "duration": 14,
    "start_time": "2022-10-09T08:22:11.378Z"
   },
   {
    "duration": 12,
    "start_time": "2022-10-09T08:22:55.174Z"
   },
   {
    "duration": 271,
    "start_time": "2022-10-09T08:23:05.253Z"
   },
   {
    "duration": 209,
    "start_time": "2022-10-09T08:23:19.257Z"
   },
   {
    "duration": 218,
    "start_time": "2022-10-09T08:23:29.218Z"
   },
   {
    "duration": 223,
    "start_time": "2022-10-09T08:24:32.829Z"
   },
   {
    "duration": 224,
    "start_time": "2022-10-09T08:24:50.565Z"
   },
   {
    "duration": 251,
    "start_time": "2022-10-09T08:26:22.635Z"
   },
   {
    "duration": 320,
    "start_time": "2022-10-09T08:27:06.942Z"
   },
   {
    "duration": 247,
    "start_time": "2022-10-09T08:27:35.324Z"
   },
   {
    "duration": 233,
    "start_time": "2022-10-09T08:27:46.843Z"
   },
   {
    "duration": 6,
    "start_time": "2022-10-09T08:29:17.980Z"
   },
   {
    "duration": 273,
    "start_time": "2022-10-09T08:29:44.186Z"
   },
   {
    "duration": 299,
    "start_time": "2022-10-09T08:29:52.406Z"
   },
   {
    "duration": 5,
    "start_time": "2022-10-09T08:35:32.132Z"
   },
   {
    "duration": 13,
    "start_time": "2022-10-09T08:35:52.579Z"
   },
   {
    "duration": 228,
    "start_time": "2022-10-09T08:39:03.354Z"
   },
   {
    "duration": 321,
    "start_time": "2022-10-09T08:39:18.297Z"
   },
   {
    "duration": 222,
    "start_time": "2022-10-09T08:44:50.432Z"
   },
   {
    "duration": 255,
    "start_time": "2022-10-09T09:06:09.282Z"
   },
   {
    "duration": 242,
    "start_time": "2022-10-09T09:22:04.130Z"
   },
   {
    "duration": 338,
    "start_time": "2022-10-09T09:23:55.909Z"
   },
   {
    "duration": 119,
    "start_time": "2022-10-09T09:38:10.108Z"
   },
   {
    "duration": 58,
    "start_time": "2022-10-09T09:38:27.029Z"
   },
   {
    "duration": 4,
    "start_time": "2022-10-09T09:38:36.850Z"
   },
   {
    "duration": 67,
    "start_time": "2022-10-09T09:38:43.904Z"
   },
   {
    "duration": 102,
    "start_time": "2022-10-09T09:38:57.463Z"
   },
   {
    "duration": 188,
    "start_time": "2022-10-09T09:41:50.902Z"
   },
   {
    "duration": 8,
    "start_time": "2022-10-09T09:57:41.963Z"
   },
   {
    "duration": 17,
    "start_time": "2022-10-09T09:57:52.157Z"
   },
   {
    "duration": 11,
    "start_time": "2022-10-09T09:59:12.815Z"
   },
   {
    "duration": 18,
    "start_time": "2022-10-09T10:00:21.645Z"
   },
   {
    "duration": 1092,
    "start_time": "2022-10-09T10:00:45.027Z"
   },
   {
    "duration": 51,
    "start_time": "2022-10-09T10:00:46.121Z"
   },
   {
    "duration": 17,
    "start_time": "2022-10-09T10:00:46.174Z"
   },
   {
    "duration": 15,
    "start_time": "2022-10-09T10:00:46.193Z"
   },
   {
    "duration": 28,
    "start_time": "2022-10-09T10:00:46.209Z"
   },
   {
    "duration": 11,
    "start_time": "2022-10-09T10:00:46.238Z"
   },
   {
    "duration": 3,
    "start_time": "2022-10-09T10:00:46.250Z"
   },
   {
    "duration": 15,
    "start_time": "2022-10-09T10:00:46.255Z"
   },
   {
    "duration": 3,
    "start_time": "2022-10-09T10:00:46.272Z"
   },
   {
    "duration": 43,
    "start_time": "2022-10-09T10:00:46.277Z"
   },
   {
    "duration": 6,
    "start_time": "2022-10-09T10:00:46.321Z"
   },
   {
    "duration": 5,
    "start_time": "2022-10-09T10:00:46.329Z"
   },
   {
    "duration": 4,
    "start_time": "2022-10-09T10:00:46.336Z"
   },
   {
    "duration": 7,
    "start_time": "2022-10-09T10:00:46.342Z"
   },
   {
    "duration": 5,
    "start_time": "2022-10-09T10:00:46.350Z"
   },
   {
    "duration": 5,
    "start_time": "2022-10-09T10:00:46.357Z"
   },
   {
    "duration": 9,
    "start_time": "2022-10-09T10:00:46.363Z"
   },
   {
    "duration": 37,
    "start_time": "2022-10-09T10:00:46.373Z"
   },
   {
    "duration": 6,
    "start_time": "2022-10-09T10:00:46.411Z"
   },
   {
    "duration": 15,
    "start_time": "2022-10-09T10:00:46.418Z"
   },
   {
    "duration": 16,
    "start_time": "2022-10-09T10:00:46.435Z"
   },
   {
    "duration": 12,
    "start_time": "2022-10-09T10:00:46.453Z"
   },
   {
    "duration": 335,
    "start_time": "2022-10-09T10:00:46.466Z"
   },
   {
    "duration": 12,
    "start_time": "2022-10-09T10:00:46.802Z"
   },
   {
    "duration": 7,
    "start_time": "2022-10-09T10:00:46.816Z"
   },
   {
    "duration": 617,
    "start_time": "2022-10-09T10:00:46.825Z"
   },
   {
    "duration": 7,
    "start_time": "2022-10-09T10:00:47.445Z"
   },
   {
    "duration": 285,
    "start_time": "2022-10-09T10:00:47.456Z"
   },
   {
    "duration": 11,
    "start_time": "2022-10-09T10:00:47.743Z"
   },
   {
    "duration": 865,
    "start_time": "2022-10-09T10:00:47.755Z"
   },
   {
    "duration": 190,
    "start_time": "2022-10-09T10:00:48.622Z"
   },
   {
    "duration": 16,
    "start_time": "2022-10-09T10:00:48.814Z"
   },
   {
    "duration": 260,
    "start_time": "2022-10-09T10:00:48.832Z"
   },
   {
    "duration": 19,
    "start_time": "2022-10-09T10:00:49.094Z"
   },
   {
    "duration": 705,
    "start_time": "2022-10-09T10:00:49.115Z"
   },
   {
    "duration": 9,
    "start_time": "2022-10-09T10:00:49.821Z"
   },
   {
    "duration": 176,
    "start_time": "2022-10-09T10:00:49.832Z"
   },
   {
    "duration": 6,
    "start_time": "2022-10-09T10:00:50.009Z"
   },
   {
    "duration": 26,
    "start_time": "2022-10-09T10:00:50.016Z"
   },
   {
    "duration": 231,
    "start_time": "2022-10-09T10:00:50.044Z"
   },
   {
    "duration": 313,
    "start_time": "2022-10-09T10:00:50.276Z"
   },
   {
    "duration": 90,
    "start_time": "2022-10-09T10:00:50.591Z"
   },
   {
    "duration": 447,
    "start_time": "2022-10-09T10:06:05.601Z"
   },
   {
    "duration": 111,
    "start_time": "2022-10-09T10:13:03.146Z"
   },
   {
    "duration": 6,
    "start_time": "2022-10-09T10:13:13.043Z"
   },
   {
    "duration": 6,
    "start_time": "2022-10-09T10:13:21.452Z"
   },
   {
    "duration": 5,
    "start_time": "2022-10-09T10:15:02.482Z"
   },
   {
    "duration": 5,
    "start_time": "2022-10-09T10:16:57.803Z"
   },
   {
    "duration": 5,
    "start_time": "2022-10-09T10:17:29.980Z"
   },
   {
    "duration": 6,
    "start_time": "2022-10-09T10:17:31.183Z"
   },
   {
    "duration": 8,
    "start_time": "2022-10-09T10:17:31.651Z"
   },
   {
    "duration": 5,
    "start_time": "2022-10-09T10:17:39.859Z"
   },
   {
    "duration": 4,
    "start_time": "2022-10-09T10:17:43.114Z"
   },
   {
    "duration": 8,
    "start_time": "2022-10-09T10:23:16.401Z"
   },
   {
    "duration": 6,
    "start_time": "2022-10-09T10:23:24.348Z"
   },
   {
    "duration": 6,
    "start_time": "2022-10-09T10:23:24.848Z"
   },
   {
    "duration": 4,
    "start_time": "2022-10-09T10:23:25.485Z"
   },
   {
    "duration": 4,
    "start_time": "2022-10-09T10:31:23.848Z"
   },
   {
    "duration": 6,
    "start_time": "2022-10-09T10:35:59.919Z"
   },
   {
    "duration": 12,
    "start_time": "2022-10-09T10:39:10.341Z"
   },
   {
    "duration": 8,
    "start_time": "2022-10-09T10:41:16.485Z"
   },
   {
    "duration": 6,
    "start_time": "2022-10-09T10:41:24.092Z"
   },
   {
    "duration": 8,
    "start_time": "2022-10-09T10:41:24.551Z"
   },
   {
    "duration": 5,
    "start_time": "2022-10-09T10:41:25.103Z"
   },
   {
    "duration": 1127,
    "start_time": "2022-10-09T10:41:40.288Z"
   },
   {
    "duration": 51,
    "start_time": "2022-10-09T10:41:41.416Z"
   },
   {
    "duration": 16,
    "start_time": "2022-10-09T10:41:41.468Z"
   },
   {
    "duration": 12,
    "start_time": "2022-10-09T10:41:41.486Z"
   },
   {
    "duration": 29,
    "start_time": "2022-10-09T10:41:41.500Z"
   },
   {
    "duration": 10,
    "start_time": "2022-10-09T10:41:41.531Z"
   },
   {
    "duration": 3,
    "start_time": "2022-10-09T10:41:41.543Z"
   },
   {
    "duration": 11,
    "start_time": "2022-10-09T10:41:41.547Z"
   },
   {
    "duration": 4,
    "start_time": "2022-10-09T10:41:41.559Z"
   },
   {
    "duration": 44,
    "start_time": "2022-10-09T10:41:41.566Z"
   },
   {
    "duration": 6,
    "start_time": "2022-10-09T10:41:41.611Z"
   },
   {
    "duration": 20,
    "start_time": "2022-10-09T10:41:41.632Z"
   },
   {
    "duration": 6,
    "start_time": "2022-10-09T10:41:41.654Z"
   },
   {
    "duration": 13,
    "start_time": "2022-10-09T10:41:41.661Z"
   },
   {
    "duration": 11,
    "start_time": "2022-10-09T10:41:41.676Z"
   },
   {
    "duration": 7,
    "start_time": "2022-10-09T10:41:41.688Z"
   },
   {
    "duration": 14,
    "start_time": "2022-10-09T10:41:41.696Z"
   },
   {
    "duration": 11,
    "start_time": "2022-10-09T10:41:41.712Z"
   },
   {
    "duration": 6,
    "start_time": "2022-10-09T10:41:41.727Z"
   },
   {
    "duration": 14,
    "start_time": "2022-10-09T10:41:41.735Z"
   },
   {
    "duration": 20,
    "start_time": "2022-10-09T10:41:41.750Z"
   },
   {
    "duration": 14,
    "start_time": "2022-10-09T10:41:41.772Z"
   },
   {
    "duration": 318,
    "start_time": "2022-10-09T10:41:41.810Z"
   },
   {
    "duration": 6,
    "start_time": "2022-10-09T10:41:42.130Z"
   },
   {
    "duration": 6,
    "start_time": "2022-10-09T10:41:42.138Z"
   },
   {
    "duration": 604,
    "start_time": "2022-10-09T10:41:42.145Z"
   },
   {
    "duration": 6,
    "start_time": "2022-10-09T10:41:42.750Z"
   },
   {
    "duration": 273,
    "start_time": "2022-10-09T10:41:42.759Z"
   },
   {
    "duration": 10,
    "start_time": "2022-10-09T10:41:43.033Z"
   },
   {
    "duration": 866,
    "start_time": "2022-10-09T10:41:43.045Z"
   },
   {
    "duration": 200,
    "start_time": "2022-10-09T10:41:43.913Z"
   },
   {
    "duration": 13,
    "start_time": "2022-10-09T10:41:44.115Z"
   },
   {
    "duration": 235,
    "start_time": "2022-10-09T10:41:44.130Z"
   },
   {
    "duration": 9,
    "start_time": "2022-10-09T10:41:44.366Z"
   },
   {
    "duration": 768,
    "start_time": "2022-10-09T10:41:44.376Z"
   },
   {
    "duration": 8,
    "start_time": "2022-10-09T10:41:45.146Z"
   },
   {
    "duration": 174,
    "start_time": "2022-10-09T10:41:45.155Z"
   },
   {
    "duration": 6,
    "start_time": "2022-10-09T10:41:45.331Z"
   },
   {
    "duration": 16,
    "start_time": "2022-10-09T10:41:45.338Z"
   },
   {
    "duration": 239,
    "start_time": "2022-10-09T10:41:45.355Z"
   },
   {
    "duration": 323,
    "start_time": "2022-10-09T10:41:45.596Z"
   },
   {
    "duration": 108,
    "start_time": "2022-10-09T10:41:45.921Z"
   },
   {
    "duration": 9,
    "start_time": "2022-10-09T10:41:46.031Z"
   },
   {
    "duration": 9,
    "start_time": "2022-10-09T10:41:46.041Z"
   },
   {
    "duration": 7,
    "start_time": "2022-10-09T10:41:46.052Z"
   },
   {
    "duration": 5,
    "start_time": "2022-10-09T10:41:46.061Z"
   },
   {
    "duration": 6,
    "start_time": "2022-10-09T10:41:56.901Z"
   },
   {
    "duration": 6,
    "start_time": "2022-10-09T10:42:00.432Z"
   },
   {
    "duration": 5,
    "start_time": "2022-10-09T10:42:03.688Z"
   },
   {
    "duration": 16,
    "start_time": "2022-10-09T10:42:21.140Z"
   },
   {
    "duration": 4,
    "start_time": "2022-10-09T10:42:55.755Z"
   },
   {
    "duration": 8,
    "start_time": "2022-10-09T10:43:56.624Z"
   },
   {
    "duration": 5,
    "start_time": "2022-10-09T10:44:08.005Z"
   },
   {
    "duration": 44,
    "start_time": "2022-10-09T10:47:52.839Z"
   },
   {
    "duration": 6,
    "start_time": "2022-10-09T10:48:09.275Z"
   },
   {
    "duration": 32,
    "start_time": "2022-10-09T10:49:20.774Z"
   },
   {
    "duration": 26,
    "start_time": "2022-10-09T10:49:30.178Z"
   },
   {
    "duration": 21,
    "start_time": "2022-10-09T10:55:47.577Z"
   },
   {
    "duration": 1107,
    "start_time": "2022-10-09T10:55:59.010Z"
   },
   {
    "duration": 52,
    "start_time": "2022-10-09T10:56:00.119Z"
   },
   {
    "duration": 16,
    "start_time": "2022-10-09T10:56:00.172Z"
   },
   {
    "duration": 17,
    "start_time": "2022-10-09T10:56:00.189Z"
   },
   {
    "duration": 27,
    "start_time": "2022-10-09T10:56:00.208Z"
   },
   {
    "duration": 9,
    "start_time": "2022-10-09T10:56:00.236Z"
   },
   {
    "duration": 12,
    "start_time": "2022-10-09T10:56:00.246Z"
   },
   {
    "duration": 23,
    "start_time": "2022-10-09T10:56:00.259Z"
   },
   {
    "duration": 8,
    "start_time": "2022-10-09T10:56:00.283Z"
   },
   {
    "duration": 24,
    "start_time": "2022-10-09T10:56:00.292Z"
   },
   {
    "duration": 11,
    "start_time": "2022-10-09T10:56:00.318Z"
   },
   {
    "duration": 8,
    "start_time": "2022-10-09T10:56:00.331Z"
   },
   {
    "duration": 18,
    "start_time": "2022-10-09T10:56:00.340Z"
   },
   {
    "duration": 24,
    "start_time": "2022-10-09T10:56:00.361Z"
   },
   {
    "duration": 17,
    "start_time": "2022-10-09T10:56:00.387Z"
   },
   {
    "duration": 10,
    "start_time": "2022-10-09T10:56:00.406Z"
   },
   {
    "duration": 10,
    "start_time": "2022-10-09T10:56:00.418Z"
   },
   {
    "duration": 9,
    "start_time": "2022-10-09T10:56:00.430Z"
   },
   {
    "duration": 9,
    "start_time": "2022-10-09T10:56:00.440Z"
   },
   {
    "duration": 18,
    "start_time": "2022-10-09T10:56:00.451Z"
   },
   {
    "duration": 18,
    "start_time": "2022-10-09T10:56:00.471Z"
   },
   {
    "duration": 18,
    "start_time": "2022-10-09T10:56:00.491Z"
   },
   {
    "duration": 316,
    "start_time": "2022-10-09T10:56:00.511Z"
   },
   {
    "duration": 7,
    "start_time": "2022-10-09T10:56:00.829Z"
   },
   {
    "duration": 24,
    "start_time": "2022-10-09T10:56:00.837Z"
   },
   {
    "duration": 620,
    "start_time": "2022-10-09T10:56:00.863Z"
   },
   {
    "duration": 6,
    "start_time": "2022-10-09T10:56:01.484Z"
   },
   {
    "duration": 272,
    "start_time": "2022-10-09T10:56:01.492Z"
   },
   {
    "duration": 10,
    "start_time": "2022-10-09T10:56:01.766Z"
   },
   {
    "duration": 848,
    "start_time": "2022-10-09T10:56:01.778Z"
   },
   {
    "duration": 186,
    "start_time": "2022-10-09T10:56:02.627Z"
   },
   {
    "duration": 14,
    "start_time": "2022-10-09T10:56:02.815Z"
   },
   {
    "duration": 240,
    "start_time": "2022-10-09T10:56:02.830Z"
   },
   {
    "duration": 8,
    "start_time": "2022-10-09T10:56:03.072Z"
   },
   {
    "duration": 722,
    "start_time": "2022-10-09T10:56:03.082Z"
   },
   {
    "duration": 8,
    "start_time": "2022-10-09T10:56:03.806Z"
   },
   {
    "duration": 179,
    "start_time": "2022-10-09T10:56:03.816Z"
   },
   {
    "duration": 14,
    "start_time": "2022-10-09T10:56:03.996Z"
   },
   {
    "duration": 32,
    "start_time": "2022-10-09T10:56:04.011Z"
   },
   {
    "duration": 260,
    "start_time": "2022-10-09T10:56:04.044Z"
   },
   {
    "duration": 371,
    "start_time": "2022-10-09T10:56:04.307Z"
   },
   {
    "duration": 93,
    "start_time": "2022-10-09T10:56:04.680Z"
   },
   {
    "duration": 16,
    "start_time": "2022-10-09T10:56:04.775Z"
   },
   {
    "duration": 17,
    "start_time": "2022-10-09T10:56:04.792Z"
   },
   {
    "duration": 28,
    "start_time": "2022-10-09T10:56:04.811Z"
   },
   {
    "duration": 5,
    "start_time": "2022-10-09T10:56:04.841Z"
   },
   {
    "duration": 20,
    "start_time": "2022-10-09T10:56:04.847Z"
   },
   {
    "duration": 7,
    "start_time": "2022-10-09T10:56:04.868Z"
   },
   {
    "duration": 30,
    "start_time": "2022-10-09T10:56:04.876Z"
   },
   {
    "duration": 5,
    "start_time": "2022-10-09T10:56:04.907Z"
   },
   {
    "duration": 1279,
    "start_time": "2022-10-09T16:28:30.708Z"
   },
   {
    "duration": 92,
    "start_time": "2022-10-09T16:28:31.989Z"
   },
   {
    "duration": 15,
    "start_time": "2022-10-09T16:28:32.083Z"
   },
   {
    "duration": 13,
    "start_time": "2022-10-09T16:28:32.100Z"
   },
   {
    "duration": 25,
    "start_time": "2022-10-09T16:28:32.114Z"
   },
   {
    "duration": 8,
    "start_time": "2022-10-09T16:28:32.140Z"
   },
   {
    "duration": 6,
    "start_time": "2022-10-09T16:28:32.149Z"
   },
   {
    "duration": 8,
    "start_time": "2022-10-09T16:28:32.157Z"
   },
   {
    "duration": 6,
    "start_time": "2022-10-09T16:28:32.166Z"
   },
   {
    "duration": 15,
    "start_time": "2022-10-09T16:28:32.174Z"
   },
   {
    "duration": 22,
    "start_time": "2022-10-09T16:28:32.190Z"
   },
   {
    "duration": 4,
    "start_time": "2022-10-09T16:28:32.213Z"
   },
   {
    "duration": 6,
    "start_time": "2022-10-09T16:28:32.218Z"
   },
   {
    "duration": 9,
    "start_time": "2022-10-09T16:28:32.225Z"
   },
   {
    "duration": 6,
    "start_time": "2022-10-09T16:28:32.235Z"
   },
   {
    "duration": 5,
    "start_time": "2022-10-09T16:28:32.242Z"
   },
   {
    "duration": 9,
    "start_time": "2022-10-09T16:28:32.249Z"
   },
   {
    "duration": 7,
    "start_time": "2022-10-09T16:28:32.259Z"
   },
   {
    "duration": 5,
    "start_time": "2022-10-09T16:28:32.267Z"
   },
   {
    "duration": 41,
    "start_time": "2022-10-09T16:28:32.273Z"
   },
   {
    "duration": 13,
    "start_time": "2022-10-09T16:28:32.316Z"
   },
   {
    "duration": 10,
    "start_time": "2022-10-09T16:28:32.331Z"
   },
   {
    "duration": 320,
    "start_time": "2022-10-09T16:28:32.342Z"
   },
   {
    "duration": 7,
    "start_time": "2022-10-09T16:28:32.663Z"
   },
   {
    "duration": 6,
    "start_time": "2022-10-09T16:28:32.672Z"
   },
   {
    "duration": 577,
    "start_time": "2022-10-09T16:28:32.680Z"
   },
   {
    "duration": 7,
    "start_time": "2022-10-09T16:28:33.258Z"
   },
   {
    "duration": 272,
    "start_time": "2022-10-09T16:28:33.269Z"
   },
   {
    "duration": 11,
    "start_time": "2022-10-09T16:28:33.542Z"
   },
   {
    "duration": 863,
    "start_time": "2022-10-09T16:28:33.554Z"
   },
   {
    "duration": 224,
    "start_time": "2022-10-09T16:28:34.419Z"
   },
   {
    "duration": 16,
    "start_time": "2022-10-09T16:28:34.645Z"
   },
   {
    "duration": 237,
    "start_time": "2022-10-09T16:28:34.664Z"
   },
   {
    "duration": 12,
    "start_time": "2022-10-09T16:28:34.902Z"
   },
   {
    "duration": 689,
    "start_time": "2022-10-09T16:28:34.915Z"
   },
   {
    "duration": 9,
    "start_time": "2022-10-09T16:28:35.606Z"
   },
   {
    "duration": 170,
    "start_time": "2022-10-09T16:28:35.617Z"
   },
   {
    "duration": 6,
    "start_time": "2022-10-09T16:28:35.788Z"
   },
   {
    "duration": 23,
    "start_time": "2022-10-09T16:28:35.795Z"
   },
   {
    "duration": 226,
    "start_time": "2022-10-09T16:28:35.819Z"
   },
   {
    "duration": 312,
    "start_time": "2022-10-09T16:28:36.047Z"
   },
   {
    "duration": 90,
    "start_time": "2022-10-09T16:28:36.360Z"
   },
   {
    "duration": 17,
    "start_time": "2022-10-09T16:28:36.452Z"
   },
   {
    "duration": 7,
    "start_time": "2022-10-09T16:28:36.470Z"
   },
   {
    "duration": 44,
    "start_time": "2022-10-09T16:28:36.478Z"
   },
   {
    "duration": 4,
    "start_time": "2022-10-09T16:28:36.524Z"
   },
   {
    "duration": 7,
    "start_time": "2022-10-09T16:28:36.530Z"
   },
   {
    "duration": 4,
    "start_time": "2022-10-09T16:28:36.538Z"
   },
   {
    "duration": 9,
    "start_time": "2022-10-09T16:28:36.544Z"
   },
   {
    "duration": 10,
    "start_time": "2022-10-09T16:28:36.555Z"
   },
   {
    "duration": 109,
    "start_time": "2022-10-09T16:31:00.030Z"
   },
   {
    "duration": 1104,
    "start_time": "2022-10-09T16:31:05.605Z"
   },
   {
    "duration": 50,
    "start_time": "2022-10-09T16:31:06.711Z"
   },
   {
    "duration": 15,
    "start_time": "2022-10-09T16:31:06.762Z"
   },
   {
    "duration": 11,
    "start_time": "2022-10-09T16:31:06.779Z"
   },
   {
    "duration": 24,
    "start_time": "2022-10-09T16:31:06.792Z"
   },
   {
    "duration": 9,
    "start_time": "2022-10-09T16:31:06.818Z"
   },
   {
    "duration": 2,
    "start_time": "2022-10-09T16:31:06.828Z"
   },
   {
    "duration": 16,
    "start_time": "2022-10-09T16:31:06.832Z"
   },
   {
    "duration": 3,
    "start_time": "2022-10-09T16:31:06.849Z"
   },
   {
    "duration": 15,
    "start_time": "2022-10-09T16:31:06.854Z"
   },
   {
    "duration": 8,
    "start_time": "2022-10-09T16:31:06.871Z"
   },
   {
    "duration": 16,
    "start_time": "2022-10-09T16:31:06.880Z"
   },
   {
    "duration": 14,
    "start_time": "2022-10-09T16:31:06.897Z"
   },
   {
    "duration": 8,
    "start_time": "2022-10-09T16:31:06.912Z"
   },
   {
    "duration": 15,
    "start_time": "2022-10-09T16:31:06.921Z"
   },
   {
    "duration": 5,
    "start_time": "2022-10-09T16:31:06.937Z"
   },
   {
    "duration": 15,
    "start_time": "2022-10-09T16:31:06.943Z"
   },
   {
    "duration": 8,
    "start_time": "2022-10-09T16:31:06.960Z"
   },
   {
    "duration": 6,
    "start_time": "2022-10-09T16:31:06.970Z"
   },
   {
    "duration": 17,
    "start_time": "2022-10-09T16:31:06.978Z"
   },
   {
    "duration": 24,
    "start_time": "2022-10-09T16:31:06.996Z"
   },
   {
    "duration": 11,
    "start_time": "2022-10-09T16:31:07.022Z"
   },
   {
    "duration": 310,
    "start_time": "2022-10-09T16:31:07.035Z"
   },
   {
    "duration": 8,
    "start_time": "2022-10-09T16:31:07.347Z"
   },
   {
    "duration": 7,
    "start_time": "2022-10-09T16:31:07.357Z"
   },
   {
    "duration": 594,
    "start_time": "2022-10-09T16:31:07.365Z"
   },
   {
    "duration": 7,
    "start_time": "2022-10-09T16:31:07.961Z"
   },
   {
    "duration": 261,
    "start_time": "2022-10-09T16:31:07.971Z"
   },
   {
    "duration": 12,
    "start_time": "2022-10-09T16:31:08.235Z"
   },
   {
    "duration": 826,
    "start_time": "2022-10-09T16:31:08.249Z"
   },
   {
    "duration": 180,
    "start_time": "2022-10-09T16:31:09.077Z"
   },
   {
    "duration": 14,
    "start_time": "2022-10-09T16:31:09.259Z"
   },
   {
    "duration": 236,
    "start_time": "2022-10-09T16:31:09.275Z"
   },
   {
    "duration": 9,
    "start_time": "2022-10-09T16:31:09.513Z"
   },
   {
    "duration": 684,
    "start_time": "2022-10-09T16:31:09.524Z"
   },
   {
    "duration": 9,
    "start_time": "2022-10-09T16:31:10.209Z"
   },
   {
    "duration": 172,
    "start_time": "2022-10-09T16:31:10.219Z"
   },
   {
    "duration": 5,
    "start_time": "2022-10-09T16:31:10.393Z"
   },
   {
    "duration": 12,
    "start_time": "2022-10-09T16:31:10.408Z"
   },
   {
    "duration": 236,
    "start_time": "2022-10-09T16:31:10.422Z"
   },
   {
    "duration": 283,
    "start_time": "2022-10-09T16:31:10.660Z"
   },
   {
    "duration": 91,
    "start_time": "2022-10-09T16:31:10.945Z"
   },
   {
    "duration": 16,
    "start_time": "2022-10-09T16:31:11.037Z"
   },
   {
    "duration": 5,
    "start_time": "2022-10-09T16:31:11.054Z"
   },
   {
    "duration": 5,
    "start_time": "2022-10-09T16:31:11.061Z"
   },
   {
    "duration": 7,
    "start_time": "2022-10-09T16:31:11.067Z"
   },
   {
    "duration": 114,
    "start_time": "2022-10-09T16:32:03.662Z"
   },
   {
    "duration": 5,
    "start_time": "2022-10-09T16:32:08.169Z"
   },
   {
    "duration": 5,
    "start_time": "2022-10-09T16:32:08.702Z"
   },
   {
    "duration": 3,
    "start_time": "2022-10-09T16:32:09.344Z"
   },
   {
    "duration": 5,
    "start_time": "2022-10-09T16:32:22.861Z"
   },
   {
    "duration": 6,
    "start_time": "2022-10-09T16:32:23.323Z"
   },
   {
    "duration": 4,
    "start_time": "2022-10-09T16:32:23.808Z"
   },
   {
    "duration": 53,
    "start_time": "2022-10-09T16:35:52.246Z"
   },
   {
    "duration": 1123,
    "start_time": "2022-10-09T16:36:51.478Z"
   },
   {
    "duration": 51,
    "start_time": "2022-10-09T16:36:52.602Z"
   },
   {
    "duration": 15,
    "start_time": "2022-10-09T16:36:52.654Z"
   },
   {
    "duration": 13,
    "start_time": "2022-10-09T16:36:52.671Z"
   },
   {
    "duration": 26,
    "start_time": "2022-10-09T16:36:52.685Z"
   },
   {
    "duration": 9,
    "start_time": "2022-10-09T16:36:52.712Z"
   },
   {
    "duration": 3,
    "start_time": "2022-10-09T16:36:52.722Z"
   },
   {
    "duration": 9,
    "start_time": "2022-10-09T16:36:52.726Z"
   },
   {
    "duration": 5,
    "start_time": "2022-10-09T16:36:52.736Z"
   },
   {
    "duration": 18,
    "start_time": "2022-10-09T16:36:52.743Z"
   },
   {
    "duration": 5,
    "start_time": "2022-10-09T16:36:52.762Z"
   },
   {
    "duration": 5,
    "start_time": "2022-10-09T16:36:52.768Z"
   },
   {
    "duration": 5,
    "start_time": "2022-10-09T16:36:52.774Z"
   },
   {
    "duration": 31,
    "start_time": "2022-10-09T16:36:52.780Z"
   },
   {
    "duration": 5,
    "start_time": "2022-10-09T16:36:52.812Z"
   },
   {
    "duration": 5,
    "start_time": "2022-10-09T16:36:52.819Z"
   },
   {
    "duration": 8,
    "start_time": "2022-10-09T16:36:52.826Z"
   },
   {
    "duration": 9,
    "start_time": "2022-10-09T16:36:52.835Z"
   },
   {
    "duration": 6,
    "start_time": "2022-10-09T16:36:52.845Z"
   },
   {
    "duration": 13,
    "start_time": "2022-10-09T16:36:52.852Z"
   },
   {
    "duration": 53,
    "start_time": "2022-10-09T16:36:52.866Z"
   },
   {
    "duration": 12,
    "start_time": "2022-10-09T16:36:52.921Z"
   },
   {
    "duration": 330,
    "start_time": "2022-10-09T16:36:52.934Z"
   },
   {
    "duration": 9,
    "start_time": "2022-10-09T16:36:53.266Z"
   },
   {
    "duration": 8,
    "start_time": "2022-10-09T16:36:53.276Z"
   },
   {
    "duration": 620,
    "start_time": "2022-10-09T16:36:53.285Z"
   },
   {
    "duration": 7,
    "start_time": "2022-10-09T16:36:53.908Z"
   },
   {
    "duration": 287,
    "start_time": "2022-10-09T16:36:53.919Z"
   },
   {
    "duration": 10,
    "start_time": "2022-10-09T16:36:54.207Z"
   },
   {
    "duration": 920,
    "start_time": "2022-10-09T16:36:54.218Z"
   },
   {
    "duration": 191,
    "start_time": "2022-10-09T16:36:55.140Z"
   },
   {
    "duration": 15,
    "start_time": "2022-10-09T16:36:55.333Z"
   },
   {
    "duration": 254,
    "start_time": "2022-10-09T16:36:55.349Z"
   },
   {
    "duration": 10,
    "start_time": "2022-10-09T16:36:55.604Z"
   },
   {
    "duration": 709,
    "start_time": "2022-10-09T16:36:55.615Z"
   },
   {
    "duration": 9,
    "start_time": "2022-10-09T16:36:56.325Z"
   },
   {
    "duration": 169,
    "start_time": "2022-10-09T16:36:56.335Z"
   },
   {
    "duration": 6,
    "start_time": "2022-10-09T16:36:56.505Z"
   },
   {
    "duration": 15,
    "start_time": "2022-10-09T16:36:56.512Z"
   },
   {
    "duration": 246,
    "start_time": "2022-10-09T16:36:56.529Z"
   },
   {
    "duration": 295,
    "start_time": "2022-10-09T16:36:56.777Z"
   },
   {
    "duration": 92,
    "start_time": "2022-10-09T16:36:57.074Z"
   },
   {
    "duration": 16,
    "start_time": "2022-10-09T16:36:57.167Z"
   },
   {
    "duration": 5,
    "start_time": "2022-10-09T16:36:57.185Z"
   },
   {
    "duration": 19,
    "start_time": "2022-10-09T16:36:57.191Z"
   },
   {
    "duration": 5,
    "start_time": "2022-10-09T16:36:57.212Z"
   },
   {
    "duration": 112,
    "start_time": "2022-10-09T16:41:33.485Z"
   },
   {
    "duration": 11,
    "start_time": "2022-10-09T16:41:34.469Z"
   },
   {
    "duration": 8,
    "start_time": "2022-10-09T16:41:45.682Z"
   },
   {
    "duration": 8,
    "start_time": "2022-10-09T16:42:01.994Z"
   },
   {
    "duration": 8,
    "start_time": "2022-10-09T16:45:27.344Z"
   },
   {
    "duration": 59,
    "start_time": "2022-10-09T16:45:56.545Z"
   },
   {
    "duration": 8,
    "start_time": "2022-10-09T16:46:02.591Z"
   },
   {
    "duration": 1130,
    "start_time": "2022-10-09T16:46:34.472Z"
   },
   {
    "duration": 52,
    "start_time": "2022-10-09T16:46:35.604Z"
   },
   {
    "duration": 16,
    "start_time": "2022-10-09T16:46:35.657Z"
   },
   {
    "duration": 16,
    "start_time": "2022-10-09T16:46:35.675Z"
   },
   {
    "duration": 25,
    "start_time": "2022-10-09T16:46:35.693Z"
   },
   {
    "duration": 9,
    "start_time": "2022-10-09T16:46:35.720Z"
   },
   {
    "duration": 6,
    "start_time": "2022-10-09T16:46:35.730Z"
   },
   {
    "duration": 12,
    "start_time": "2022-10-09T16:46:35.737Z"
   },
   {
    "duration": 8,
    "start_time": "2022-10-09T16:46:35.750Z"
   },
   {
    "duration": 19,
    "start_time": "2022-10-09T16:46:35.760Z"
   },
   {
    "duration": 6,
    "start_time": "2022-10-09T16:46:35.781Z"
   },
   {
    "duration": 6,
    "start_time": "2022-10-09T16:46:35.788Z"
   },
   {
    "duration": 5,
    "start_time": "2022-10-09T16:46:35.808Z"
   },
   {
    "duration": 8,
    "start_time": "2022-10-09T16:46:35.815Z"
   },
   {
    "duration": 7,
    "start_time": "2022-10-09T16:46:35.825Z"
   },
   {
    "duration": 6,
    "start_time": "2022-10-09T16:46:35.833Z"
   },
   {
    "duration": 9,
    "start_time": "2022-10-09T16:46:35.840Z"
   },
   {
    "duration": 7,
    "start_time": "2022-10-09T16:46:35.851Z"
   },
   {
    "duration": 5,
    "start_time": "2022-10-09T16:46:35.859Z"
   },
   {
    "duration": 14,
    "start_time": "2022-10-09T16:46:35.865Z"
   },
   {
    "duration": 40,
    "start_time": "2022-10-09T16:46:35.880Z"
   },
   {
    "duration": 11,
    "start_time": "2022-10-09T16:46:35.921Z"
   },
   {
    "duration": 314,
    "start_time": "2022-10-09T16:46:35.933Z"
   },
   {
    "duration": 9,
    "start_time": "2022-10-09T16:46:36.248Z"
   },
   {
    "duration": 8,
    "start_time": "2022-10-09T16:46:36.259Z"
   },
   {
    "duration": 605,
    "start_time": "2022-10-09T16:46:36.268Z"
   },
   {
    "duration": 6,
    "start_time": "2022-10-09T16:46:36.874Z"
   },
   {
    "duration": 277,
    "start_time": "2022-10-09T16:46:36.883Z"
   },
   {
    "duration": 10,
    "start_time": "2022-10-09T16:46:37.162Z"
   },
   {
    "duration": 844,
    "start_time": "2022-10-09T16:46:37.174Z"
   },
   {
    "duration": 185,
    "start_time": "2022-10-09T16:46:38.020Z"
   },
   {
    "duration": 15,
    "start_time": "2022-10-09T16:46:38.206Z"
   },
   {
    "duration": 236,
    "start_time": "2022-10-09T16:46:38.222Z"
   },
   {
    "duration": 9,
    "start_time": "2022-10-09T16:46:38.459Z"
   },
   {
    "duration": 711,
    "start_time": "2022-10-09T16:46:38.469Z"
   },
   {
    "duration": 8,
    "start_time": "2022-10-09T16:46:39.182Z"
   },
   {
    "duration": 175,
    "start_time": "2022-10-09T16:46:39.191Z"
   },
   {
    "duration": 5,
    "start_time": "2022-10-09T16:46:39.368Z"
   },
   {
    "duration": 17,
    "start_time": "2022-10-09T16:46:39.375Z"
   },
   {
    "duration": 228,
    "start_time": "2022-10-09T16:46:39.394Z"
   },
   {
    "duration": 293,
    "start_time": "2022-10-09T16:46:39.624Z"
   },
   {
    "duration": 91,
    "start_time": "2022-10-09T16:46:39.918Z"
   },
   {
    "duration": 15,
    "start_time": "2022-10-09T16:46:40.011Z"
   },
   {
    "duration": 7,
    "start_time": "2022-10-09T16:46:40.028Z"
   },
   {
    "duration": 12,
    "start_time": "2022-10-09T16:46:40.037Z"
   },
   {
    "duration": 5,
    "start_time": "2022-10-09T16:46:40.051Z"
   },
   {
    "duration": 8,
    "start_time": "2022-10-09T16:46:40.058Z"
   },
   {
    "duration": 12,
    "start_time": "2022-10-09T16:46:40.067Z"
   },
   {
    "duration": 75,
    "start_time": "2022-10-09T17:00:16.360Z"
   },
   {
    "duration": 8,
    "start_time": "2022-10-09T17:15:21.761Z"
   },
   {
    "duration": 9,
    "start_time": "2022-10-09T17:15:58.320Z"
   },
   {
    "duration": 9,
    "start_time": "2022-10-09T17:16:06.992Z"
   },
   {
    "duration": 10,
    "start_time": "2022-10-09T17:17:00.909Z"
   },
   {
    "duration": 9,
    "start_time": "2022-10-09T17:17:22.685Z"
   },
   {
    "duration": 125,
    "start_time": "2022-10-09T17:17:26.357Z"
   },
   {
    "duration": 26,
    "start_time": "2022-10-09T17:17:31.695Z"
   },
   {
    "duration": 9,
    "start_time": "2022-10-09T17:17:40.887Z"
   },
   {
    "duration": 6,
    "start_time": "2022-10-09T17:18:01.587Z"
   },
   {
    "duration": 6,
    "start_time": "2022-10-09T17:18:08.677Z"
   },
   {
    "duration": 6,
    "start_time": "2022-10-09T17:18:55.055Z"
   },
   {
    "duration": 4,
    "start_time": "2022-10-09T17:19:22.536Z"
   },
   {
    "duration": 1089,
    "start_time": "2022-10-09T17:19:32.229Z"
   },
   {
    "duration": 51,
    "start_time": "2022-10-09T17:19:33.320Z"
   },
   {
    "duration": 16,
    "start_time": "2022-10-09T17:19:33.372Z"
   },
   {
    "duration": 21,
    "start_time": "2022-10-09T17:19:33.391Z"
   },
   {
    "duration": 35,
    "start_time": "2022-10-09T17:19:33.414Z"
   },
   {
    "duration": 9,
    "start_time": "2022-10-09T17:19:33.451Z"
   },
   {
    "duration": 2,
    "start_time": "2022-10-09T17:19:33.462Z"
   },
   {
    "duration": 10,
    "start_time": "2022-10-09T17:19:33.466Z"
   },
   {
    "duration": 33,
    "start_time": "2022-10-09T17:19:33.477Z"
   },
   {
    "duration": 15,
    "start_time": "2022-10-09T17:19:33.513Z"
   },
   {
    "duration": 5,
    "start_time": "2022-10-09T17:19:33.530Z"
   },
   {
    "duration": 15,
    "start_time": "2022-10-09T17:19:33.536Z"
   },
   {
    "duration": 8,
    "start_time": "2022-10-09T17:19:33.552Z"
   },
   {
    "duration": 8,
    "start_time": "2022-10-09T17:19:33.562Z"
   },
   {
    "duration": 9,
    "start_time": "2022-10-09T17:19:33.571Z"
   },
   {
    "duration": 29,
    "start_time": "2022-10-09T17:19:33.581Z"
   },
   {
    "duration": 8,
    "start_time": "2022-10-09T17:19:33.612Z"
   },
   {
    "duration": 9,
    "start_time": "2022-10-09T17:19:33.621Z"
   },
   {
    "duration": 5,
    "start_time": "2022-10-09T17:19:33.632Z"
   },
   {
    "duration": 16,
    "start_time": "2022-10-09T17:19:33.638Z"
   },
   {
    "duration": 17,
    "start_time": "2022-10-09T17:19:33.655Z"
   },
   {
    "duration": 42,
    "start_time": "2022-10-09T17:19:33.673Z"
   },
   {
    "duration": 332,
    "start_time": "2022-10-09T17:19:33.716Z"
   },
   {
    "duration": 7,
    "start_time": "2022-10-09T17:19:34.049Z"
   },
   {
    "duration": 6,
    "start_time": "2022-10-09T17:19:34.058Z"
   },
   {
    "duration": 686,
    "start_time": "2022-10-09T17:19:34.066Z"
   },
   {
    "duration": 9,
    "start_time": "2022-10-09T17:19:34.754Z"
   },
   {
    "duration": 298,
    "start_time": "2022-10-09T17:19:34.767Z"
   },
   {
    "duration": 10,
    "start_time": "2022-10-09T17:19:35.067Z"
   },
   {
    "duration": 895,
    "start_time": "2022-10-09T17:19:35.078Z"
   },
   {
    "duration": 190,
    "start_time": "2022-10-09T17:19:35.975Z"
   },
   {
    "duration": 17,
    "start_time": "2022-10-09T17:19:36.167Z"
   },
   {
    "duration": 246,
    "start_time": "2022-10-09T17:19:36.186Z"
   },
   {
    "duration": 9,
    "start_time": "2022-10-09T17:19:36.433Z"
   },
   {
    "duration": 721,
    "start_time": "2022-10-09T17:19:36.443Z"
   },
   {
    "duration": 9,
    "start_time": "2022-10-09T17:19:37.166Z"
   },
   {
    "duration": 174,
    "start_time": "2022-10-09T17:19:37.177Z"
   },
   {
    "duration": 6,
    "start_time": "2022-10-09T17:19:37.352Z"
   },
   {
    "duration": 17,
    "start_time": "2022-10-09T17:19:37.359Z"
   },
   {
    "duration": 250,
    "start_time": "2022-10-09T17:19:37.378Z"
   },
   {
    "duration": 302,
    "start_time": "2022-10-09T17:19:37.630Z"
   },
   {
    "duration": 87,
    "start_time": "2022-10-09T17:19:37.933Z"
   },
   {
    "duration": 16,
    "start_time": "2022-10-09T17:19:38.022Z"
   },
   {
    "duration": 9,
    "start_time": "2022-10-09T17:19:38.039Z"
   },
   {
    "duration": 11,
    "start_time": "2022-10-09T17:19:38.050Z"
   },
   {
    "duration": 6,
    "start_time": "2022-10-09T17:19:38.062Z"
   },
   {
    "duration": 40,
    "start_time": "2022-10-09T17:19:38.069Z"
   },
   {
    "duration": 7,
    "start_time": "2022-10-09T17:19:38.110Z"
   },
   {
    "duration": 10,
    "start_time": "2022-10-09T17:19:38.119Z"
   },
   {
    "duration": 9,
    "start_time": "2022-10-09T17:19:38.130Z"
   },
   {
    "duration": 5,
    "start_time": "2022-10-09T17:19:38.141Z"
   },
   {
    "duration": 6,
    "start_time": "2022-10-09T17:19:38.148Z"
   },
   {
    "duration": 5,
    "start_time": "2022-10-09T17:19:38.155Z"
   },
   {
    "duration": 13,
    "start_time": "2022-10-09T17:20:04.482Z"
   },
   {
    "duration": 3,
    "start_time": "2022-10-09T17:20:23.976Z"
   },
   {
    "duration": 61,
    "start_time": "2022-10-09T17:20:29.559Z"
   },
   {
    "duration": 9,
    "start_time": "2022-10-09T17:20:32.422Z"
   },
   {
    "duration": 7,
    "start_time": "2022-10-09T17:20:49.988Z"
   },
   {
    "duration": 7,
    "start_time": "2022-10-09T17:20:57.804Z"
   },
   {
    "duration": 1046,
    "start_time": "2022-10-09T17:25:19.461Z"
   },
   {
    "duration": 54,
    "start_time": "2022-10-09T17:25:20.509Z"
   },
   {
    "duration": 15,
    "start_time": "2022-10-09T17:25:20.564Z"
   },
   {
    "duration": 15,
    "start_time": "2022-10-09T17:25:20.581Z"
   },
   {
    "duration": 26,
    "start_time": "2022-10-09T17:25:20.598Z"
   },
   {
    "duration": 10,
    "start_time": "2022-10-09T17:25:20.625Z"
   },
   {
    "duration": 4,
    "start_time": "2022-10-09T17:25:20.636Z"
   },
   {
    "duration": 9,
    "start_time": "2022-10-09T17:25:20.641Z"
   },
   {
    "duration": 6,
    "start_time": "2022-10-09T17:25:20.651Z"
   },
   {
    "duration": 16,
    "start_time": "2022-10-09T17:25:20.659Z"
   },
   {
    "duration": 5,
    "start_time": "2022-10-09T17:25:20.676Z"
   },
   {
    "duration": 4,
    "start_time": "2022-10-09T17:25:20.708Z"
   },
   {
    "duration": 5,
    "start_time": "2022-10-09T17:25:20.714Z"
   },
   {
    "duration": 17,
    "start_time": "2022-10-09T17:25:20.721Z"
   },
   {
    "duration": 10,
    "start_time": "2022-10-09T17:25:20.739Z"
   },
   {
    "duration": 6,
    "start_time": "2022-10-09T17:25:20.750Z"
   },
   {
    "duration": 8,
    "start_time": "2022-10-09T17:25:20.757Z"
   },
   {
    "duration": 8,
    "start_time": "2022-10-09T17:25:20.766Z"
   },
   {
    "duration": 7,
    "start_time": "2022-10-09T17:25:20.775Z"
   },
   {
    "duration": 26,
    "start_time": "2022-10-09T17:25:20.784Z"
   },
   {
    "duration": 16,
    "start_time": "2022-10-09T17:25:20.811Z"
   },
   {
    "duration": 10,
    "start_time": "2022-10-09T17:25:20.829Z"
   },
   {
    "duration": 306,
    "start_time": "2022-10-09T17:25:20.841Z"
   },
   {
    "duration": 8,
    "start_time": "2022-10-09T17:25:21.149Z"
   },
   {
    "duration": 6,
    "start_time": "2022-10-09T17:25:21.158Z"
   },
   {
    "duration": 592,
    "start_time": "2022-10-09T17:25:21.166Z"
   },
   {
    "duration": 7,
    "start_time": "2022-10-09T17:25:21.759Z"
   },
   {
    "duration": 278,
    "start_time": "2022-10-09T17:25:21.769Z"
   },
   {
    "duration": 12,
    "start_time": "2022-10-09T17:25:22.049Z"
   },
   {
    "duration": 900,
    "start_time": "2022-10-09T17:25:22.062Z"
   },
   {
    "duration": 184,
    "start_time": "2022-10-09T17:25:22.963Z"
   },
   {
    "duration": 15,
    "start_time": "2022-10-09T17:25:23.148Z"
   },
   {
    "duration": 246,
    "start_time": "2022-10-09T17:25:23.165Z"
   },
   {
    "duration": 10,
    "start_time": "2022-10-09T17:25:23.413Z"
   },
   {
    "duration": 747,
    "start_time": "2022-10-09T17:25:23.425Z"
   },
   {
    "duration": 9,
    "start_time": "2022-10-09T17:25:24.173Z"
   },
   {
    "duration": 169,
    "start_time": "2022-10-09T17:25:24.183Z"
   },
   {
    "duration": 5,
    "start_time": "2022-10-09T17:25:24.354Z"
   },
   {
    "duration": 18,
    "start_time": "2022-10-09T17:25:24.360Z"
   },
   {
    "duration": 304,
    "start_time": "2022-10-09T17:25:24.380Z"
   },
   {
    "duration": 308,
    "start_time": "2022-10-09T17:25:24.686Z"
   },
   {
    "duration": 87,
    "start_time": "2022-10-09T17:25:24.996Z"
   },
   {
    "duration": 30,
    "start_time": "2022-10-09T17:25:25.085Z"
   },
   {
    "duration": 7,
    "start_time": "2022-10-09T17:25:25.116Z"
   },
   {
    "duration": 9,
    "start_time": "2022-10-09T17:25:25.124Z"
   },
   {
    "duration": 7,
    "start_time": "2022-10-09T17:25:25.134Z"
   },
   {
    "duration": 8,
    "start_time": "2022-10-09T17:25:25.142Z"
   },
   {
    "duration": 4,
    "start_time": "2022-10-09T17:25:25.152Z"
   },
   {
    "duration": 8,
    "start_time": "2022-10-09T17:25:25.158Z"
   },
   {
    "duration": 7,
    "start_time": "2022-10-09T17:25:25.167Z"
   },
   {
    "duration": 36,
    "start_time": "2022-10-09T17:25:25.176Z"
   },
   {
    "duration": 9,
    "start_time": "2022-10-09T17:25:25.214Z"
   },
   {
    "duration": 9,
    "start_time": "2022-10-09T17:25:25.224Z"
   },
   {
    "duration": 1109,
    "start_time": "2022-10-09T18:24:22.503Z"
   },
   {
    "duration": 56,
    "start_time": "2022-10-09T18:24:23.614Z"
   },
   {
    "duration": 18,
    "start_time": "2022-10-09T18:24:23.672Z"
   },
   {
    "duration": 13,
    "start_time": "2022-10-09T18:24:23.691Z"
   },
   {
    "duration": 28,
    "start_time": "2022-10-09T18:24:23.706Z"
   },
   {
    "duration": 10,
    "start_time": "2022-10-09T18:24:23.735Z"
   },
   {
    "duration": 2,
    "start_time": "2022-10-09T18:24:23.746Z"
   },
   {
    "duration": 10,
    "start_time": "2022-10-09T18:24:23.750Z"
   },
   {
    "duration": 4,
    "start_time": "2022-10-09T18:24:23.761Z"
   },
   {
    "duration": 17,
    "start_time": "2022-10-09T18:24:23.767Z"
   },
   {
    "duration": 28,
    "start_time": "2022-10-09T18:24:23.785Z"
   },
   {
    "duration": 5,
    "start_time": "2022-10-09T18:24:23.814Z"
   },
   {
    "duration": 6,
    "start_time": "2022-10-09T18:24:23.821Z"
   },
   {
    "duration": 10,
    "start_time": "2022-10-09T18:24:23.828Z"
   },
   {
    "duration": 8,
    "start_time": "2022-10-09T18:24:23.839Z"
   },
   {
    "duration": 8,
    "start_time": "2022-10-09T18:24:23.848Z"
   },
   {
    "duration": 10,
    "start_time": "2022-10-09T18:24:23.857Z"
   },
   {
    "duration": 7,
    "start_time": "2022-10-09T18:24:23.868Z"
   },
   {
    "duration": 32,
    "start_time": "2022-10-09T18:24:23.877Z"
   },
   {
    "duration": 13,
    "start_time": "2022-10-09T18:24:23.910Z"
   },
   {
    "duration": 17,
    "start_time": "2022-10-09T18:24:23.925Z"
   },
   {
    "duration": 11,
    "start_time": "2022-10-09T18:24:23.944Z"
   },
   {
    "duration": 321,
    "start_time": "2022-10-09T18:24:23.956Z"
   },
   {
    "duration": 8,
    "start_time": "2022-10-09T18:24:24.279Z"
   },
   {
    "duration": 5,
    "start_time": "2022-10-09T18:24:24.289Z"
   },
   {
    "duration": 645,
    "start_time": "2022-10-09T18:24:24.309Z"
   },
   {
    "duration": 6,
    "start_time": "2022-10-09T18:24:24.955Z"
   },
   {
    "duration": 263,
    "start_time": "2022-10-09T18:24:24.964Z"
   },
   {
    "duration": 11,
    "start_time": "2022-10-09T18:24:25.228Z"
   },
   {
    "duration": 874,
    "start_time": "2022-10-09T18:24:25.240Z"
   },
   {
    "duration": 199,
    "start_time": "2022-10-09T18:24:26.115Z"
   },
   {
    "duration": 15,
    "start_time": "2022-10-09T18:24:26.316Z"
   },
   {
    "duration": 266,
    "start_time": "2022-10-09T18:24:26.333Z"
   },
   {
    "duration": 9,
    "start_time": "2022-10-09T18:24:26.600Z"
   },
   {
    "duration": 705,
    "start_time": "2022-10-09T18:24:26.611Z"
   },
   {
    "duration": 11,
    "start_time": "2022-10-09T18:24:27.318Z"
   },
   {
    "duration": 171,
    "start_time": "2022-10-09T18:24:27.330Z"
   },
   {
    "duration": 8,
    "start_time": "2022-10-09T18:24:27.503Z"
   },
   {
    "duration": 14,
    "start_time": "2022-10-09T18:24:27.513Z"
   },
   {
    "duration": 234,
    "start_time": "2022-10-09T18:24:27.528Z"
   },
   {
    "duration": 296,
    "start_time": "2022-10-09T18:24:27.763Z"
   },
   {
    "duration": 83,
    "start_time": "2022-10-09T18:24:28.061Z"
   },
   {
    "duration": 14,
    "start_time": "2022-10-09T18:24:28.146Z"
   },
   {
    "duration": 5,
    "start_time": "2022-10-09T18:24:28.162Z"
   },
   {
    "duration": 7,
    "start_time": "2022-10-09T18:24:28.169Z"
   },
   {
    "duration": 7,
    "start_time": "2022-10-09T18:24:28.177Z"
   },
   {
    "duration": 24,
    "start_time": "2022-10-09T18:24:28.185Z"
   },
   {
    "duration": 4,
    "start_time": "2022-10-09T18:24:28.210Z"
   },
   {
    "duration": 8,
    "start_time": "2022-10-09T18:24:28.215Z"
   },
   {
    "duration": 8,
    "start_time": "2022-10-09T18:24:28.224Z"
   },
   {
    "duration": 7,
    "start_time": "2022-10-09T18:24:28.235Z"
   },
   {
    "duration": 10,
    "start_time": "2022-10-09T18:24:28.243Z"
   },
   {
    "duration": 5,
    "start_time": "2022-10-09T18:24:28.254Z"
   },
   {
    "duration": 1091,
    "start_time": "2022-10-09T19:11:15.628Z"
   },
   {
    "duration": 51,
    "start_time": "2022-10-09T19:11:16.721Z"
   },
   {
    "duration": 16,
    "start_time": "2022-10-09T19:11:16.773Z"
   },
   {
    "duration": 13,
    "start_time": "2022-10-09T19:11:16.790Z"
   },
   {
    "duration": 26,
    "start_time": "2022-10-09T19:11:16.805Z"
   },
   {
    "duration": 9,
    "start_time": "2022-10-09T19:11:16.832Z"
   },
   {
    "duration": 3,
    "start_time": "2022-10-09T19:11:16.842Z"
   },
   {
    "duration": 11,
    "start_time": "2022-10-09T19:11:16.846Z"
   },
   {
    "duration": 3,
    "start_time": "2022-10-09T19:11:16.859Z"
   },
   {
    "duration": 16,
    "start_time": "2022-10-09T19:11:16.863Z"
   },
   {
    "duration": 30,
    "start_time": "2022-10-09T19:11:16.881Z"
   },
   {
    "duration": 10,
    "start_time": "2022-10-09T19:11:16.912Z"
   },
   {
    "duration": 6,
    "start_time": "2022-10-09T19:11:16.923Z"
   },
   {
    "duration": 5,
    "start_time": "2022-10-09T19:11:16.932Z"
   },
   {
    "duration": 5,
    "start_time": "2022-10-09T19:11:16.939Z"
   },
   {
    "duration": 7,
    "start_time": "2022-10-09T19:11:16.946Z"
   },
   {
    "duration": 10,
    "start_time": "2022-10-09T19:11:16.954Z"
   },
   {
    "duration": 9,
    "start_time": "2022-10-09T19:11:16.966Z"
   },
   {
    "duration": 32,
    "start_time": "2022-10-09T19:11:16.977Z"
   },
   {
    "duration": 13,
    "start_time": "2022-10-09T19:11:17.011Z"
   },
   {
    "duration": 15,
    "start_time": "2022-10-09T19:11:17.026Z"
   },
   {
    "duration": 10,
    "start_time": "2022-10-09T19:11:17.042Z"
   },
   {
    "duration": 348,
    "start_time": "2022-10-09T19:11:17.053Z"
   },
   {
    "duration": 10,
    "start_time": "2022-10-09T19:11:17.403Z"
   },
   {
    "duration": 7,
    "start_time": "2022-10-09T19:11:17.414Z"
   },
   {
    "duration": 604,
    "start_time": "2022-10-09T19:11:17.422Z"
   },
   {
    "duration": 6,
    "start_time": "2022-10-09T19:11:18.027Z"
   },
   {
    "duration": 268,
    "start_time": "2022-10-09T19:11:18.034Z"
   },
   {
    "duration": 14,
    "start_time": "2022-10-09T19:11:18.303Z"
   },
   {
    "duration": 836,
    "start_time": "2022-10-09T19:11:18.318Z"
   },
   {
    "duration": 189,
    "start_time": "2022-10-09T19:11:19.156Z"
   },
   {
    "duration": 17,
    "start_time": "2022-10-09T19:11:19.346Z"
   },
   {
    "duration": 246,
    "start_time": "2022-10-09T19:11:19.365Z"
   },
   {
    "duration": 10,
    "start_time": "2022-10-09T19:11:19.612Z"
   },
   {
    "duration": 697,
    "start_time": "2022-10-09T19:11:19.623Z"
   },
   {
    "duration": 9,
    "start_time": "2022-10-09T19:11:20.321Z"
   },
   {
    "duration": 175,
    "start_time": "2022-10-09T19:11:20.331Z"
   },
   {
    "duration": 6,
    "start_time": "2022-10-09T19:11:20.509Z"
   },
   {
    "duration": 15,
    "start_time": "2022-10-09T19:11:20.516Z"
   },
   {
    "duration": 234,
    "start_time": "2022-10-09T19:11:20.532Z"
   },
   {
    "duration": 307,
    "start_time": "2022-10-09T19:11:20.770Z"
   },
   {
    "duration": 103,
    "start_time": "2022-10-09T19:11:21.079Z"
   },
   {
    "duration": 26,
    "start_time": "2022-10-09T19:11:21.184Z"
   },
   {
    "duration": 8,
    "start_time": "2022-10-09T19:11:21.211Z"
   },
   {
    "duration": 7,
    "start_time": "2022-10-09T19:11:21.221Z"
   },
   {
    "duration": 7,
    "start_time": "2022-10-09T19:11:21.229Z"
   },
   {
    "duration": 6,
    "start_time": "2022-10-09T19:11:21.237Z"
   },
   {
    "duration": 6,
    "start_time": "2022-10-09T19:11:21.244Z"
   },
   {
    "duration": 8,
    "start_time": "2022-10-09T19:11:21.252Z"
   },
   {
    "duration": 48,
    "start_time": "2022-10-09T19:11:21.262Z"
   },
   {
    "duration": 6,
    "start_time": "2022-10-09T19:11:21.311Z"
   },
   {
    "duration": 7,
    "start_time": "2022-10-09T19:11:21.318Z"
   },
   {
    "duration": 4,
    "start_time": "2022-10-09T19:11:21.327Z"
   },
   {
    "duration": 309,
    "start_time": "2022-10-09T19:44:34.329Z"
   },
   {
    "duration": 1076,
    "start_time": "2022-10-09T19:44:45.272Z"
   },
   {
    "duration": 54,
    "start_time": "2022-10-09T19:44:46.350Z"
   },
   {
    "duration": 18,
    "start_time": "2022-10-09T19:44:46.406Z"
   },
   {
    "duration": 13,
    "start_time": "2022-10-09T19:44:46.426Z"
   },
   {
    "duration": 26,
    "start_time": "2022-10-09T19:44:46.441Z"
   },
   {
    "duration": 11,
    "start_time": "2022-10-09T19:44:46.469Z"
   },
   {
    "duration": 28,
    "start_time": "2022-10-09T19:44:46.482Z"
   },
   {
    "duration": 10,
    "start_time": "2022-10-09T19:44:46.512Z"
   },
   {
    "duration": 5,
    "start_time": "2022-10-09T19:44:46.523Z"
   },
   {
    "duration": 21,
    "start_time": "2022-10-09T19:44:46.530Z"
   },
   {
    "duration": 7,
    "start_time": "2022-10-09T19:44:46.553Z"
   },
   {
    "duration": 5,
    "start_time": "2022-10-09T19:44:46.562Z"
   },
   {
    "duration": 5,
    "start_time": "2022-10-09T19:44:46.568Z"
   },
   {
    "duration": 36,
    "start_time": "2022-10-09T19:44:46.575Z"
   },
   {
    "duration": 8,
    "start_time": "2022-10-09T19:44:46.613Z"
   },
   {
    "duration": 7,
    "start_time": "2022-10-09T19:44:46.622Z"
   },
   {
    "duration": 11,
    "start_time": "2022-10-09T19:44:46.631Z"
   },
   {
    "duration": 7,
    "start_time": "2022-10-09T19:44:46.643Z"
   },
   {
    "duration": 5,
    "start_time": "2022-10-09T19:44:46.651Z"
   },
   {
    "duration": 14,
    "start_time": "2022-10-09T19:44:46.657Z"
   },
   {
    "duration": 36,
    "start_time": "2022-10-09T19:44:46.673Z"
   },
   {
    "duration": 10,
    "start_time": "2022-10-09T19:44:46.711Z"
   },
   {
    "duration": 300,
    "start_time": "2022-10-09T19:44:46.722Z"
   },
   {
    "duration": 8,
    "start_time": "2022-10-09T19:44:47.023Z"
   },
   {
    "duration": 11,
    "start_time": "2022-10-09T19:44:47.032Z"
   },
   {
    "duration": 594,
    "start_time": "2022-10-09T19:44:47.045Z"
   },
   {
    "duration": 7,
    "start_time": "2022-10-09T19:44:47.640Z"
   },
   {
    "duration": 262,
    "start_time": "2022-10-09T19:44:47.650Z"
   },
   {
    "duration": 10,
    "start_time": "2022-10-09T19:44:47.914Z"
   },
   {
    "duration": 829,
    "start_time": "2022-10-09T19:44:47.926Z"
   },
   {
    "duration": 189,
    "start_time": "2022-10-09T19:44:48.757Z"
   },
   {
    "duration": 17,
    "start_time": "2022-10-09T19:44:48.947Z"
   },
   {
    "duration": 244,
    "start_time": "2022-10-09T19:44:48.965Z"
   },
   {
    "duration": 8,
    "start_time": "2022-10-09T19:44:49.211Z"
   },
   {
    "duration": 695,
    "start_time": "2022-10-09T19:44:49.221Z"
   },
   {
    "duration": 9,
    "start_time": "2022-10-09T19:44:49.918Z"
   },
   {
    "duration": 169,
    "start_time": "2022-10-09T19:44:49.928Z"
   },
   {
    "duration": 12,
    "start_time": "2022-10-09T19:44:50.099Z"
   },
   {
    "duration": 15,
    "start_time": "2022-10-09T19:44:50.113Z"
   },
   {
    "duration": 232,
    "start_time": "2022-10-09T19:44:50.130Z"
   },
   {
    "duration": 308,
    "start_time": "2022-10-09T19:44:50.364Z"
   },
   {
    "duration": 87,
    "start_time": "2022-10-09T19:44:50.674Z"
   },
   {
    "duration": 16,
    "start_time": "2022-10-09T19:44:50.762Z"
   },
   {
    "duration": 8,
    "start_time": "2022-10-09T19:44:50.779Z"
   },
   {
    "duration": 22,
    "start_time": "2022-10-09T19:44:50.788Z"
   },
   {
    "duration": 5,
    "start_time": "2022-10-09T19:44:50.811Z"
   },
   {
    "duration": 6,
    "start_time": "2022-10-09T19:44:50.817Z"
   },
   {
    "duration": 4,
    "start_time": "2022-10-09T19:44:50.824Z"
   },
   {
    "duration": 9,
    "start_time": "2022-10-09T19:44:50.829Z"
   },
   {
    "duration": 7,
    "start_time": "2022-10-09T19:44:50.839Z"
   },
   {
    "duration": 7,
    "start_time": "2022-10-09T19:44:50.847Z"
   },
   {
    "duration": 12,
    "start_time": "2022-10-09T19:44:50.855Z"
   },
   {
    "duration": 4,
    "start_time": "2022-10-09T19:44:50.868Z"
   },
   {
    "duration": 1160,
    "start_time": "2022-10-09T20:16:43.983Z"
   },
   {
    "duration": 52,
    "start_time": "2022-10-09T20:16:45.145Z"
   },
   {
    "duration": 15,
    "start_time": "2022-10-09T20:16:45.198Z"
   },
   {
    "duration": 12,
    "start_time": "2022-10-09T20:16:45.214Z"
   },
   {
    "duration": 26,
    "start_time": "2022-10-09T20:16:45.227Z"
   },
   {
    "duration": 12,
    "start_time": "2022-10-09T20:16:45.255Z"
   },
   {
    "duration": 4,
    "start_time": "2022-10-09T20:16:45.269Z"
   },
   {
    "duration": 35,
    "start_time": "2022-10-09T20:16:45.274Z"
   },
   {
    "duration": 4,
    "start_time": "2022-10-09T20:16:45.311Z"
   },
   {
    "duration": 15,
    "start_time": "2022-10-09T20:16:45.317Z"
   },
   {
    "duration": 6,
    "start_time": "2022-10-09T20:16:45.333Z"
   },
   {
    "duration": 7,
    "start_time": "2022-10-09T20:16:45.340Z"
   },
   {
    "duration": 6,
    "start_time": "2022-10-09T20:16:45.348Z"
   },
   {
    "duration": 10,
    "start_time": "2022-10-09T20:16:45.356Z"
   },
   {
    "duration": 6,
    "start_time": "2022-10-09T20:16:45.367Z"
   },
   {
    "duration": 7,
    "start_time": "2022-10-09T20:16:45.374Z"
   },
   {
    "duration": 32,
    "start_time": "2022-10-09T20:16:45.382Z"
   },
   {
    "duration": 7,
    "start_time": "2022-10-09T20:16:45.416Z"
   },
   {
    "duration": 6,
    "start_time": "2022-10-09T20:16:45.424Z"
   },
   {
    "duration": 12,
    "start_time": "2022-10-09T20:16:45.431Z"
   },
   {
    "duration": 14,
    "start_time": "2022-10-09T20:16:45.444Z"
   },
   {
    "duration": 10,
    "start_time": "2022-10-09T20:16:45.460Z"
   },
   {
    "duration": 316,
    "start_time": "2022-10-09T20:16:45.471Z"
   },
   {
    "duration": 7,
    "start_time": "2022-10-09T20:16:45.789Z"
   },
   {
    "duration": 14,
    "start_time": "2022-10-09T20:16:45.797Z"
   },
   {
    "duration": 611,
    "start_time": "2022-10-09T20:16:45.812Z"
   },
   {
    "duration": 7,
    "start_time": "2022-10-09T20:16:46.424Z"
   },
   {
    "duration": 286,
    "start_time": "2022-10-09T20:16:46.434Z"
   },
   {
    "duration": 11,
    "start_time": "2022-10-09T20:16:46.722Z"
   },
   {
    "duration": 847,
    "start_time": "2022-10-09T20:16:46.734Z"
   },
   {
    "duration": 179,
    "start_time": "2022-10-09T20:16:47.583Z"
   },
   {
    "duration": 15,
    "start_time": "2022-10-09T20:16:47.764Z"
   },
   {
    "duration": 238,
    "start_time": "2022-10-09T20:16:47.781Z"
   },
   {
    "duration": 8,
    "start_time": "2022-10-09T20:16:48.020Z"
   },
   {
    "duration": 694,
    "start_time": "2022-10-09T20:16:48.030Z"
   },
   {
    "duration": 9,
    "start_time": "2022-10-09T20:16:48.726Z"
   },
   {
    "duration": 164,
    "start_time": "2022-10-09T20:16:48.736Z"
   },
   {
    "duration": 6,
    "start_time": "2022-10-09T20:16:48.903Z"
   },
   {
    "duration": 13,
    "start_time": "2022-10-09T20:16:48.910Z"
   },
   {
    "duration": 233,
    "start_time": "2022-10-09T20:16:48.925Z"
   },
   {
    "duration": 305,
    "start_time": "2022-10-09T20:16:49.160Z"
   },
   {
    "duration": 89,
    "start_time": "2022-10-09T20:16:49.466Z"
   },
   {
    "duration": 16,
    "start_time": "2022-10-09T20:16:49.556Z"
   },
   {
    "duration": 7,
    "start_time": "2022-10-09T20:16:49.574Z"
   },
   {
    "duration": 29,
    "start_time": "2022-10-09T20:16:49.583Z"
   },
   {
    "duration": 5,
    "start_time": "2022-10-09T20:16:49.613Z"
   },
   {
    "duration": 4,
    "start_time": "2022-10-09T20:16:49.620Z"
   },
   {
    "duration": 4,
    "start_time": "2022-10-09T20:16:49.626Z"
   },
   {
    "duration": 7,
    "start_time": "2022-10-09T20:16:49.631Z"
   },
   {
    "duration": 10,
    "start_time": "2022-10-09T20:16:49.639Z"
   },
   {
    "duration": 10,
    "start_time": "2022-10-09T20:16:49.650Z"
   },
   {
    "duration": 6,
    "start_time": "2022-10-09T20:16:49.661Z"
   },
   {
    "duration": 5,
    "start_time": "2022-10-09T20:16:49.668Z"
   },
   {
    "duration": 1485,
    "start_time": "2022-10-14T16:48:28.077Z"
   },
   {
    "duration": 213,
    "start_time": "2022-10-14T16:48:29.563Z"
   },
   {
    "duration": 27,
    "start_time": "2022-10-14T16:48:29.778Z"
   },
   {
    "duration": 16,
    "start_time": "2022-10-14T16:48:29.808Z"
   },
   {
    "duration": 31,
    "start_time": "2022-10-14T16:48:29.826Z"
   },
   {
    "duration": 12,
    "start_time": "2022-10-14T16:48:29.858Z"
   },
   {
    "duration": 3,
    "start_time": "2022-10-14T16:48:29.871Z"
   },
   {
    "duration": 36,
    "start_time": "2022-10-14T16:48:29.876Z"
   },
   {
    "duration": 6,
    "start_time": "2022-10-14T16:48:29.915Z"
   },
   {
    "duration": 18,
    "start_time": "2022-10-14T16:48:29.923Z"
   },
   {
    "duration": 6,
    "start_time": "2022-10-14T16:48:29.942Z"
   },
   {
    "duration": 6,
    "start_time": "2022-10-14T16:48:29.950Z"
   },
   {
    "duration": 6,
    "start_time": "2022-10-14T16:48:29.957Z"
   },
   {
    "duration": 39,
    "start_time": "2022-10-14T16:48:29.965Z"
   },
   {
    "duration": 16,
    "start_time": "2022-10-14T16:48:30.006Z"
   },
   {
    "duration": 20,
    "start_time": "2022-10-14T16:48:30.024Z"
   },
   {
    "duration": 23,
    "start_time": "2022-10-14T16:48:30.045Z"
   },
   {
    "duration": 28,
    "start_time": "2022-10-14T16:48:30.070Z"
   },
   {
    "duration": 44,
    "start_time": "2022-10-14T16:48:30.099Z"
   },
   {
    "duration": 31,
    "start_time": "2022-10-14T16:48:30.145Z"
   },
   {
    "duration": 35,
    "start_time": "2022-10-14T16:48:30.178Z"
   },
   {
    "duration": 23,
    "start_time": "2022-10-14T16:48:30.215Z"
   },
   {
    "duration": 377,
    "start_time": "2022-10-14T16:48:30.240Z"
   },
   {
    "duration": 9,
    "start_time": "2022-10-14T16:48:30.620Z"
   },
   {
    "duration": 16,
    "start_time": "2022-10-14T16:48:30.631Z"
   },
   {
    "duration": 771,
    "start_time": "2022-10-14T16:48:30.649Z"
   },
   {
    "duration": 8,
    "start_time": "2022-10-14T16:48:31.422Z"
   },
   {
    "duration": 335,
    "start_time": "2022-10-14T16:48:31.435Z"
   },
   {
    "duration": 14,
    "start_time": "2022-10-14T16:48:31.773Z"
   },
   {
    "duration": 1061,
    "start_time": "2022-10-14T16:48:31.801Z"
   },
   {
    "duration": 220,
    "start_time": "2022-10-14T16:48:32.864Z"
   },
   {
    "duration": 31,
    "start_time": "2022-10-14T16:48:33.085Z"
   },
   {
    "duration": 297,
    "start_time": "2022-10-14T16:48:33.118Z"
   },
   {
    "duration": 11,
    "start_time": "2022-10-14T16:48:33.417Z"
   },
   {
    "duration": 879,
    "start_time": "2022-10-14T16:48:33.430Z"
   },
   {
    "duration": 10,
    "start_time": "2022-10-14T16:48:34.313Z"
   },
   {
    "duration": 265,
    "start_time": "2022-10-14T16:48:34.324Z"
   },
   {
    "duration": 11,
    "start_time": "2022-10-14T16:48:34.591Z"
   },
   {
    "duration": 41,
    "start_time": "2022-10-14T16:48:34.604Z"
   },
   {
    "duration": 298,
    "start_time": "2022-10-14T16:48:34.647Z"
   },
   {
    "duration": 369,
    "start_time": "2022-10-14T16:48:34.946Z"
   },
   {
    "duration": 105,
    "start_time": "2022-10-14T16:48:35.317Z"
   },
   {
    "duration": 16,
    "start_time": "2022-10-14T16:48:35.424Z"
   },
   {
    "duration": 19,
    "start_time": "2022-10-14T16:48:35.442Z"
   },
   {
    "duration": 30,
    "start_time": "2022-10-14T16:48:35.463Z"
   },
   {
    "duration": 22,
    "start_time": "2022-10-14T16:48:35.494Z"
   },
   {
    "duration": 25,
    "start_time": "2022-10-14T16:48:35.518Z"
   },
   {
    "duration": 22,
    "start_time": "2022-10-14T16:48:35.545Z"
   },
   {
    "duration": 50,
    "start_time": "2022-10-14T16:48:35.569Z"
   },
   {
    "duration": 26,
    "start_time": "2022-10-14T16:48:35.621Z"
   },
   {
    "duration": 24,
    "start_time": "2022-10-14T16:48:35.649Z"
   },
   {
    "duration": 27,
    "start_time": "2022-10-14T16:48:35.675Z"
   },
   {
    "duration": 20,
    "start_time": "2022-10-14T16:48:35.703Z"
   },
   {
    "duration": 13,
    "start_time": "2022-10-14T16:49:59.678Z"
   },
   {
    "duration": 1265,
    "start_time": "2022-10-14T16:52:52.356Z"
   },
   {
    "duration": 54,
    "start_time": "2022-10-14T16:52:53.624Z"
   },
   {
    "duration": 33,
    "start_time": "2022-10-14T16:52:53.680Z"
   },
   {
    "duration": 16,
    "start_time": "2022-10-14T16:52:53.725Z"
   },
   {
    "duration": 31,
    "start_time": "2022-10-14T16:52:53.743Z"
   },
   {
    "duration": 12,
    "start_time": "2022-10-14T16:52:53.775Z"
   },
   {
    "duration": 4,
    "start_time": "2022-10-14T16:52:53.789Z"
   },
   {
    "duration": 50,
    "start_time": "2022-10-14T16:52:53.794Z"
   },
   {
    "duration": 5,
    "start_time": "2022-10-14T16:52:53.845Z"
   },
   {
    "duration": 17,
    "start_time": "2022-10-14T16:52:53.853Z"
   },
   {
    "duration": 7,
    "start_time": "2022-10-14T16:52:53.871Z"
   },
   {
    "duration": 6,
    "start_time": "2022-10-14T16:52:53.879Z"
   },
   {
    "duration": 6,
    "start_time": "2022-10-14T16:52:53.887Z"
   },
   {
    "duration": 29,
    "start_time": "2022-10-14T16:52:53.894Z"
   },
   {
    "duration": 10,
    "start_time": "2022-10-14T16:52:53.925Z"
   },
   {
    "duration": 23,
    "start_time": "2022-10-14T16:52:53.937Z"
   },
   {
    "duration": 22,
    "start_time": "2022-10-14T16:52:53.961Z"
   },
   {
    "duration": 57,
    "start_time": "2022-10-14T16:52:53.984Z"
   },
   {
    "duration": 18,
    "start_time": "2022-10-14T16:52:54.042Z"
   },
   {
    "duration": 31,
    "start_time": "2022-10-14T16:52:54.061Z"
   },
   {
    "duration": 48,
    "start_time": "2022-10-14T16:52:54.094Z"
   },
   {
    "duration": 20,
    "start_time": "2022-10-14T16:52:54.144Z"
   },
   {
    "duration": 411,
    "start_time": "2022-10-14T16:52:54.165Z"
   },
   {
    "duration": 9,
    "start_time": "2022-10-14T16:52:54.578Z"
   },
   {
    "duration": 47,
    "start_time": "2022-10-14T16:52:54.588Z"
   },
   {
    "duration": 810,
    "start_time": "2022-10-14T16:52:54.637Z"
   },
   {
    "duration": 7,
    "start_time": "2022-10-14T16:52:55.449Z"
   },
   {
    "duration": 351,
    "start_time": "2022-10-14T16:52:55.461Z"
   },
   {
    "duration": 16,
    "start_time": "2022-10-14T16:52:55.814Z"
   },
   {
    "duration": 1088,
    "start_time": "2022-10-14T16:52:55.832Z"
   },
   {
    "duration": 238,
    "start_time": "2022-10-14T16:52:56.922Z"
   },
   {
    "duration": 17,
    "start_time": "2022-10-14T16:52:57.162Z"
   },
   {
    "duration": 302,
    "start_time": "2022-10-14T16:52:57.180Z"
   },
   {
    "duration": 17,
    "start_time": "2022-10-14T16:52:57.484Z"
   },
   {
    "duration": 975,
    "start_time": "2022-10-14T16:52:57.502Z"
   },
   {
    "duration": 10,
    "start_time": "2022-10-14T16:52:58.478Z"
   },
   {
    "duration": 237,
    "start_time": "2022-10-14T16:52:58.490Z"
   },
   {
    "duration": 8,
    "start_time": "2022-10-14T16:52:58.729Z"
   },
   {
    "duration": 16,
    "start_time": "2022-10-14T16:52:58.738Z"
   },
   {
    "duration": 312,
    "start_time": "2022-10-14T16:52:58.756Z"
   },
   {
    "duration": 388,
    "start_time": "2022-10-14T16:52:59.070Z"
   },
   {
    "duration": 109,
    "start_time": "2022-10-14T16:52:59.460Z"
   },
   {
    "duration": 32,
    "start_time": "2022-10-14T16:52:59.571Z"
   },
   {
    "duration": 17,
    "start_time": "2022-10-14T16:52:59.605Z"
   },
   {
    "duration": 9,
    "start_time": "2022-10-14T16:52:59.624Z"
   },
   {
    "duration": 6,
    "start_time": "2022-10-14T16:52:59.635Z"
   },
   {
    "duration": 6,
    "start_time": "2022-10-14T16:52:59.643Z"
   },
   {
    "duration": 4,
    "start_time": "2022-10-14T16:52:59.651Z"
   },
   {
    "duration": 13,
    "start_time": "2022-10-14T16:52:59.656Z"
   },
   {
    "duration": 26,
    "start_time": "2022-10-14T16:52:59.697Z"
   },
   {
    "duration": 7,
    "start_time": "2022-10-14T16:52:59.726Z"
   },
   {
    "duration": 6,
    "start_time": "2022-10-14T16:52:59.734Z"
   },
   {
    "duration": 7,
    "start_time": "2022-10-14T16:52:59.742Z"
   },
   {
    "duration": 4,
    "start_time": "2022-10-14T17:00:51.581Z"
   },
   {
    "duration": 1217,
    "start_time": "2022-10-14T17:02:15.315Z"
   },
   {
    "duration": 58,
    "start_time": "2022-10-14T17:02:16.534Z"
   },
   {
    "duration": 24,
    "start_time": "2022-10-14T17:02:16.594Z"
   },
   {
    "duration": 23,
    "start_time": "2022-10-14T17:02:16.621Z"
   },
   {
    "duration": 40,
    "start_time": "2022-10-14T17:02:16.646Z"
   },
   {
    "duration": 29,
    "start_time": "2022-10-14T17:02:16.688Z"
   },
   {
    "duration": 5,
    "start_time": "2022-10-14T17:02:16.719Z"
   },
   {
    "duration": 15,
    "start_time": "2022-10-14T17:02:16.726Z"
   },
   {
    "duration": 5,
    "start_time": "2022-10-14T17:02:16.743Z"
   },
   {
    "duration": 20,
    "start_time": "2022-10-14T17:02:16.752Z"
   },
   {
    "duration": 7,
    "start_time": "2022-10-14T17:02:16.773Z"
   },
   {
    "duration": 9,
    "start_time": "2022-10-14T17:02:16.803Z"
   },
   {
    "duration": 8,
    "start_time": "2022-10-14T17:02:16.813Z"
   },
   {
    "duration": 11,
    "start_time": "2022-10-14T17:02:16.823Z"
   },
   {
    "duration": 7,
    "start_time": "2022-10-14T17:02:16.836Z"
   },
   {
    "duration": 8,
    "start_time": "2022-10-14T17:02:16.845Z"
   },
   {
    "duration": 10,
    "start_time": "2022-10-14T17:02:16.854Z"
   },
   {
    "duration": 11,
    "start_time": "2022-10-14T17:02:16.865Z"
   },
   {
    "duration": 30,
    "start_time": "2022-10-14T17:02:16.878Z"
   },
   {
    "duration": 14,
    "start_time": "2022-10-14T17:02:16.910Z"
   },
   {
    "duration": 19,
    "start_time": "2022-10-14T17:02:16.926Z"
   },
   {
    "duration": 13,
    "start_time": "2022-10-14T17:02:16.946Z"
   },
   {
    "duration": 379,
    "start_time": "2022-10-14T17:02:16.961Z"
   },
   {
    "duration": 8,
    "start_time": "2022-10-14T17:02:17.342Z"
   },
   {
    "duration": 28,
    "start_time": "2022-10-14T17:02:17.352Z"
   },
   {
    "duration": 787,
    "start_time": "2022-10-14T17:02:17.382Z"
   },
   {
    "duration": 8,
    "start_time": "2022-10-14T17:02:18.172Z"
   },
   {
    "duration": 362,
    "start_time": "2022-10-14T17:02:18.183Z"
   },
   {
    "duration": 12,
    "start_time": "2022-10-14T17:02:18.548Z"
   },
   {
    "duration": 1058,
    "start_time": "2022-10-14T17:02:18.562Z"
   },
   {
    "duration": 215,
    "start_time": "2022-10-14T17:02:19.622Z"
   },
   {
    "duration": 17,
    "start_time": "2022-10-14T17:02:19.839Z"
   },
   {
    "duration": 293,
    "start_time": "2022-10-14T17:02:19.858Z"
   },
   {
    "duration": 12,
    "start_time": "2022-10-14T17:02:20.152Z"
   },
   {
    "duration": 711,
    "start_time": "2022-10-14T17:02:20.166Z"
   },
   {
    "duration": 11,
    "start_time": "2022-10-14T17:02:20.878Z"
   },
   {
    "duration": 218,
    "start_time": "2022-10-14T17:02:20.890Z"
   },
   {
    "duration": 5,
    "start_time": "2022-10-14T17:02:21.110Z"
   },
   {
    "duration": 25,
    "start_time": "2022-10-14T17:02:21.117Z"
   },
   {
    "duration": 284,
    "start_time": "2022-10-14T17:02:21.144Z"
   },
   {
    "duration": 382,
    "start_time": "2022-10-14T17:02:21.429Z"
   },
   {
    "duration": 106,
    "start_time": "2022-10-14T17:02:21.812Z"
   },
   {
    "duration": 17,
    "start_time": "2022-10-14T17:02:21.920Z"
   },
   {
    "duration": 8,
    "start_time": "2022-10-14T17:02:21.939Z"
   },
   {
    "duration": 11,
    "start_time": "2022-10-14T17:02:21.948Z"
   },
   {
    "duration": 22,
    "start_time": "2022-10-14T17:02:21.961Z"
   },
   {
    "duration": 22,
    "start_time": "2022-10-14T17:02:21.985Z"
   },
   {
    "duration": 8,
    "start_time": "2022-10-14T17:02:22.012Z"
   },
   {
    "duration": 9,
    "start_time": "2022-10-14T17:02:22.022Z"
   },
   {
    "duration": 7,
    "start_time": "2022-10-14T17:02:22.033Z"
   },
   {
    "duration": 8,
    "start_time": "2022-10-14T17:02:22.042Z"
   },
   {
    "duration": 16,
    "start_time": "2022-10-14T17:02:22.052Z"
   },
   {
    "duration": 13,
    "start_time": "2022-10-14T17:02:22.069Z"
   },
   {
    "duration": 23,
    "start_time": "2022-10-14T17:03:30.298Z"
   },
   {
    "duration": 1263,
    "start_time": "2022-10-14T17:06:32.192Z"
   },
   {
    "duration": 58,
    "start_time": "2022-10-14T17:06:33.458Z"
   },
   {
    "duration": 24,
    "start_time": "2022-10-14T17:06:33.518Z"
   },
   {
    "duration": 23,
    "start_time": "2022-10-14T17:06:33.544Z"
   },
   {
    "duration": 47,
    "start_time": "2022-10-14T17:06:33.569Z"
   },
   {
    "duration": 22,
    "start_time": "2022-10-14T17:06:33.618Z"
   },
   {
    "duration": 19,
    "start_time": "2022-10-14T17:06:33.642Z"
   },
   {
    "duration": 8,
    "start_time": "2022-10-14T17:06:33.663Z"
   },
   {
    "duration": 32,
    "start_time": "2022-10-14T17:06:33.672Z"
   },
   {
    "duration": 30,
    "start_time": "2022-10-14T17:06:33.708Z"
   },
   {
    "duration": 32,
    "start_time": "2022-10-14T17:06:33.739Z"
   },
   {
    "duration": 13,
    "start_time": "2022-10-14T17:06:33.772Z"
   },
   {
    "duration": 40,
    "start_time": "2022-10-14T17:06:33.787Z"
   },
   {
    "duration": 22,
    "start_time": "2022-10-14T17:06:33.829Z"
   },
   {
    "duration": 34,
    "start_time": "2022-10-14T17:06:33.852Z"
   },
   {
    "duration": 24,
    "start_time": "2022-10-14T17:06:33.887Z"
   },
   {
    "duration": 20,
    "start_time": "2022-10-14T17:06:33.913Z"
   },
   {
    "duration": 24,
    "start_time": "2022-10-14T17:06:33.935Z"
   },
   {
    "duration": 20,
    "start_time": "2022-10-14T17:06:33.961Z"
   },
   {
    "duration": 16,
    "start_time": "2022-10-14T17:06:33.983Z"
   },
   {
    "duration": 44,
    "start_time": "2022-10-14T17:06:34.001Z"
   },
   {
    "duration": 18,
    "start_time": "2022-10-14T17:06:34.047Z"
   },
   {
    "duration": 370,
    "start_time": "2022-10-14T17:06:34.067Z"
   },
   {
    "duration": 8,
    "start_time": "2022-10-14T17:06:34.440Z"
   },
   {
    "duration": 29,
    "start_time": "2022-10-14T17:06:34.449Z"
   },
   {
    "duration": 790,
    "start_time": "2022-10-14T17:06:34.480Z"
   },
   {
    "duration": 7,
    "start_time": "2022-10-14T17:06:35.275Z"
   },
   {
    "duration": 346,
    "start_time": "2022-10-14T17:06:35.285Z"
   },
   {
    "duration": 15,
    "start_time": "2022-10-14T17:06:35.634Z"
   },
   {
    "duration": 1051,
    "start_time": "2022-10-14T17:06:35.650Z"
   },
   {
    "duration": 213,
    "start_time": "2022-10-14T17:06:36.703Z"
   },
   {
    "duration": 17,
    "start_time": "2022-10-14T17:06:36.918Z"
   },
   {
    "duration": 293,
    "start_time": "2022-10-14T17:06:36.937Z"
   },
   {
    "duration": 11,
    "start_time": "2022-10-14T17:06:37.233Z"
   },
   {
    "duration": 664,
    "start_time": "2022-10-14T17:06:37.246Z"
   },
   {
    "duration": 10,
    "start_time": "2022-10-14T17:06:37.913Z"
   },
   {
    "duration": 218,
    "start_time": "2022-10-14T17:06:37.925Z"
   },
   {
    "duration": 8,
    "start_time": "2022-10-14T17:06:38.145Z"
   },
   {
    "duration": 23,
    "start_time": "2022-10-14T17:06:38.155Z"
   },
   {
    "duration": 355,
    "start_time": "2022-10-14T17:06:38.180Z"
   },
   {
    "duration": 394,
    "start_time": "2022-10-14T17:06:38.537Z"
   },
   {
    "duration": 104,
    "start_time": "2022-10-14T17:06:38.933Z"
   },
   {
    "duration": 15,
    "start_time": "2022-10-14T17:06:39.039Z"
   },
   {
    "duration": 8,
    "start_time": "2022-10-14T17:06:39.056Z"
   },
   {
    "duration": 10,
    "start_time": "2022-10-14T17:06:39.065Z"
   },
   {
    "duration": 33,
    "start_time": "2022-10-14T17:06:39.077Z"
   },
   {
    "duration": 13,
    "start_time": "2022-10-14T17:06:39.112Z"
   },
   {
    "duration": 8,
    "start_time": "2022-10-14T17:06:39.127Z"
   },
   {
    "duration": 9,
    "start_time": "2022-10-14T17:06:39.136Z"
   },
   {
    "duration": 9,
    "start_time": "2022-10-14T17:06:39.147Z"
   },
   {
    "duration": 36,
    "start_time": "2022-10-14T17:06:39.158Z"
   },
   {
    "duration": 24,
    "start_time": "2022-10-14T17:06:39.196Z"
   },
   {
    "duration": 4,
    "start_time": "2022-10-14T17:06:39.222Z"
   },
   {
    "duration": 6,
    "start_time": "2022-10-14T17:32:33.158Z"
   },
   {
    "duration": 1153,
    "start_time": "2022-10-14T17:32:39.648Z"
   },
   {
    "duration": 55,
    "start_time": "2022-10-14T17:32:40.805Z"
   },
   {
    "duration": 19,
    "start_time": "2022-10-14T17:32:40.862Z"
   },
   {
    "duration": 14,
    "start_time": "2022-10-14T17:32:40.882Z"
   },
   {
    "duration": 30,
    "start_time": "2022-10-14T17:32:40.898Z"
   },
   {
    "duration": 11,
    "start_time": "2022-10-14T17:32:40.930Z"
   },
   {
    "duration": 16,
    "start_time": "2022-10-14T17:32:40.942Z"
   },
   {
    "duration": 3,
    "start_time": "2022-10-14T17:32:40.960Z"
   },
   {
    "duration": 37,
    "start_time": "2022-10-14T17:32:40.965Z"
   },
   {
    "duration": 4,
    "start_time": "2022-10-14T17:32:41.004Z"
   },
   {
    "duration": 20,
    "start_time": "2022-10-14T17:32:41.010Z"
   },
   {
    "duration": 7,
    "start_time": "2022-10-14T17:32:41.032Z"
   },
   {
    "duration": 7,
    "start_time": "2022-10-14T17:32:41.040Z"
   },
   {
    "duration": 7,
    "start_time": "2022-10-14T17:32:41.048Z"
   },
   {
    "duration": 9,
    "start_time": "2022-10-14T17:32:41.057Z"
   },
   {
    "duration": 31,
    "start_time": "2022-10-14T17:32:41.067Z"
   },
   {
    "duration": 6,
    "start_time": "2022-10-14T17:32:41.099Z"
   },
   {
    "duration": 7,
    "start_time": "2022-10-14T17:32:41.106Z"
   },
   {
    "duration": 12,
    "start_time": "2022-10-14T17:32:41.114Z"
   },
   {
    "duration": 6,
    "start_time": "2022-10-14T17:32:41.128Z"
   },
   {
    "duration": 14,
    "start_time": "2022-10-14T17:32:41.135Z"
   },
   {
    "duration": 16,
    "start_time": "2022-10-14T17:32:41.151Z"
   },
   {
    "duration": 362,
    "start_time": "2022-10-14T17:32:41.168Z"
   },
   {
    "duration": 11,
    "start_time": "2022-10-14T17:32:41.532Z"
   },
   {
    "duration": 12,
    "start_time": "2022-10-14T17:32:41.545Z"
   },
   {
    "duration": 717,
    "start_time": "2022-10-14T17:32:41.559Z"
   },
   {
    "duration": 7,
    "start_time": "2022-10-14T17:32:42.279Z"
   },
   {
    "duration": 193,
    "start_time": "2022-10-14T17:32:42.296Z"
   },
   {
    "duration": 14,
    "start_time": "2022-10-14T17:32:42.491Z"
   },
   {
    "duration": 722,
    "start_time": "2022-10-14T17:32:42.506Z"
   },
   {
    "duration": 188,
    "start_time": "2022-10-14T17:32:43.230Z"
   },
   {
    "duration": 10,
    "start_time": "2022-10-14T17:32:43.420Z"
   },
   {
    "duration": 217,
    "start_time": "2022-10-14T17:32:43.431Z"
   },
   {
    "duration": 9,
    "start_time": "2022-10-14T17:32:43.650Z"
   },
   {
    "duration": 439,
    "start_time": "2022-10-14T17:32:43.661Z"
   },
   {
    "duration": 9,
    "start_time": "2022-10-14T17:32:44.102Z"
   },
   {
    "duration": 207,
    "start_time": "2022-10-14T17:32:44.113Z"
   },
   {
    "duration": 6,
    "start_time": "2022-10-14T17:32:44.322Z"
   },
   {
    "duration": 24,
    "start_time": "2022-10-14T17:32:44.330Z"
   },
   {
    "duration": 295,
    "start_time": "2022-10-14T17:32:44.356Z"
   },
   {
    "duration": 288,
    "start_time": "2022-10-14T17:32:44.653Z"
   },
   {
    "duration": 196,
    "start_time": "2022-10-14T17:32:44.942Z"
   },
   {
    "duration": 13,
    "start_time": "2022-10-14T17:32:45.140Z"
   },
   {
    "duration": 7,
    "start_time": "2022-10-14T17:32:45.155Z"
   },
   {
    "duration": 11,
    "start_time": "2022-10-14T17:32:45.163Z"
   },
   {
    "duration": 22,
    "start_time": "2022-10-14T17:32:45.175Z"
   },
   {
    "duration": 4,
    "start_time": "2022-10-14T17:32:45.199Z"
   },
   {
    "duration": 10,
    "start_time": "2022-10-14T17:32:45.204Z"
   },
   {
    "duration": 9,
    "start_time": "2022-10-14T17:32:45.215Z"
   },
   {
    "duration": 8,
    "start_time": "2022-10-14T17:32:45.226Z"
   },
   {
    "duration": 15,
    "start_time": "2022-10-14T17:32:45.235Z"
   },
   {
    "duration": 8,
    "start_time": "2022-10-14T17:32:45.252Z"
   },
   {
    "duration": 10,
    "start_time": "2022-10-14T17:32:45.261Z"
   },
   {
    "duration": 5,
    "start_time": "2022-10-14T17:36:05.389Z"
   },
   {
    "duration": 1273,
    "start_time": "2022-10-14T17:36:38.076Z"
   },
   {
    "duration": 55,
    "start_time": "2022-10-14T17:36:39.351Z"
   },
   {
    "duration": 18,
    "start_time": "2022-10-14T17:36:39.408Z"
   },
   {
    "duration": 18,
    "start_time": "2022-10-14T17:36:39.428Z"
   },
   {
    "duration": 39,
    "start_time": "2022-10-14T17:36:39.448Z"
   },
   {
    "duration": 19,
    "start_time": "2022-10-14T17:36:39.488Z"
   },
   {
    "duration": 18,
    "start_time": "2022-10-14T17:36:39.508Z"
   },
   {
    "duration": 3,
    "start_time": "2022-10-14T17:36:39.528Z"
   },
   {
    "duration": 15,
    "start_time": "2022-10-14T17:36:39.532Z"
   },
   {
    "duration": 4,
    "start_time": "2022-10-14T17:36:39.549Z"
   },
   {
    "duration": 44,
    "start_time": "2022-10-14T17:36:39.554Z"
   },
   {
    "duration": 6,
    "start_time": "2022-10-14T17:36:39.600Z"
   },
   {
    "duration": 6,
    "start_time": "2022-10-14T17:36:39.608Z"
   },
   {
    "duration": 8,
    "start_time": "2022-10-14T17:36:39.615Z"
   },
   {
    "duration": 11,
    "start_time": "2022-10-14T17:36:39.625Z"
   },
   {
    "duration": 8,
    "start_time": "2022-10-14T17:36:39.637Z"
   },
   {
    "duration": 7,
    "start_time": "2022-10-14T17:36:39.646Z"
   },
   {
    "duration": 7,
    "start_time": "2022-10-14T17:36:39.654Z"
   },
   {
    "duration": 34,
    "start_time": "2022-10-14T17:36:39.662Z"
   },
   {
    "duration": 7,
    "start_time": "2022-10-14T17:36:39.698Z"
   },
   {
    "duration": 24,
    "start_time": "2022-10-14T17:36:39.707Z"
   },
   {
    "duration": 15,
    "start_time": "2022-10-14T17:36:39.733Z"
   },
   {
    "duration": 357,
    "start_time": "2022-10-14T17:36:39.749Z"
   },
   {
    "duration": 9,
    "start_time": "2022-10-14T17:36:40.107Z"
   },
   {
    "duration": 13,
    "start_time": "2022-10-14T17:36:40.118Z"
   },
   {
    "duration": 747,
    "start_time": "2022-10-14T17:36:40.133Z"
   },
   {
    "duration": 7,
    "start_time": "2022-10-14T17:36:40.881Z"
   },
   {
    "duration": 207,
    "start_time": "2022-10-14T17:36:40.896Z"
   },
   {
    "duration": 12,
    "start_time": "2022-10-14T17:36:41.105Z"
   },
   {
    "duration": 795,
    "start_time": "2022-10-14T17:36:41.119Z"
   },
   {
    "duration": 184,
    "start_time": "2022-10-14T17:36:41.915Z"
   },
   {
    "duration": 10,
    "start_time": "2022-10-14T17:36:42.101Z"
   },
   {
    "duration": 211,
    "start_time": "2022-10-14T17:36:42.113Z"
   },
   {
    "duration": 9,
    "start_time": "2022-10-14T17:36:42.326Z"
   },
   {
    "duration": 429,
    "start_time": "2022-10-14T17:36:42.336Z"
   },
   {
    "duration": 11,
    "start_time": "2022-10-14T17:36:42.766Z"
   },
   {
    "duration": 202,
    "start_time": "2022-10-14T17:36:42.779Z"
   },
   {
    "duration": 14,
    "start_time": "2022-10-14T17:36:42.983Z"
   },
   {
    "duration": 20,
    "start_time": "2022-10-14T17:36:42.999Z"
   },
   {
    "duration": 277,
    "start_time": "2022-10-14T17:36:43.020Z"
   },
   {
    "duration": 268,
    "start_time": "2022-10-14T17:36:43.298Z"
   },
   {
    "duration": 200,
    "start_time": "2022-10-14T17:36:43.568Z"
   },
   {
    "duration": 13,
    "start_time": "2022-10-14T17:36:43.770Z"
   },
   {
    "duration": 8,
    "start_time": "2022-10-14T17:36:43.796Z"
   },
   {
    "duration": 14,
    "start_time": "2022-10-14T17:36:43.805Z"
   },
   {
    "duration": 7,
    "start_time": "2022-10-14T17:36:43.820Z"
   },
   {
    "duration": 10,
    "start_time": "2022-10-14T17:36:43.828Z"
   },
   {
    "duration": 8,
    "start_time": "2022-10-14T17:36:43.840Z"
   },
   {
    "duration": 11,
    "start_time": "2022-10-14T17:36:43.849Z"
   },
   {
    "duration": 9,
    "start_time": "2022-10-14T17:36:43.862Z"
   },
   {
    "duration": 11,
    "start_time": "2022-10-14T17:36:43.872Z"
   },
   {
    "duration": 4,
    "start_time": "2022-10-14T17:36:43.897Z"
   },
   {
    "duration": 12,
    "start_time": "2022-10-14T17:36:43.903Z"
   },
   {
    "duration": 177,
    "start_time": "2022-10-14T17:37:21.140Z"
   },
   {
    "duration": 1221,
    "start_time": "2022-10-14T17:38:03.540Z"
   },
   {
    "duration": 56,
    "start_time": "2022-10-14T17:38:04.762Z"
   },
   {
    "duration": 18,
    "start_time": "2022-10-14T17:38:04.820Z"
   },
   {
    "duration": 14,
    "start_time": "2022-10-14T17:38:04.840Z"
   },
   {
    "duration": 42,
    "start_time": "2022-10-14T17:38:04.855Z"
   },
   {
    "duration": 11,
    "start_time": "2022-10-14T17:38:04.899Z"
   },
   {
    "duration": 14,
    "start_time": "2022-10-14T17:38:04.911Z"
   },
   {
    "duration": 3,
    "start_time": "2022-10-14T17:38:04.927Z"
   },
   {
    "duration": 11,
    "start_time": "2022-10-14T17:38:04.931Z"
   },
   {
    "duration": 9,
    "start_time": "2022-10-14T17:38:04.944Z"
   },
   {
    "duration": 26,
    "start_time": "2022-10-14T17:38:04.954Z"
   },
   {
    "duration": 7,
    "start_time": "2022-10-14T17:38:05.000Z"
   },
   {
    "duration": 11,
    "start_time": "2022-10-14T17:38:05.009Z"
   },
   {
    "duration": 7,
    "start_time": "2022-10-14T17:38:05.022Z"
   },
   {
    "duration": 9,
    "start_time": "2022-10-14T17:38:05.031Z"
   },
   {
    "duration": 7,
    "start_time": "2022-10-14T17:38:05.042Z"
   },
   {
    "duration": 6,
    "start_time": "2022-10-14T17:38:05.051Z"
   },
   {
    "duration": 10,
    "start_time": "2022-10-14T17:38:05.059Z"
   },
   {
    "duration": 30,
    "start_time": "2022-10-14T17:38:05.070Z"
   },
   {
    "duration": 7,
    "start_time": "2022-10-14T17:38:05.101Z"
   },
   {
    "duration": 13,
    "start_time": "2022-10-14T17:38:05.110Z"
   },
   {
    "duration": 13,
    "start_time": "2022-10-14T17:38:05.124Z"
   },
   {
    "duration": 340,
    "start_time": "2022-10-14T17:38:05.139Z"
   },
   {
    "duration": 16,
    "start_time": "2022-10-14T17:38:05.481Z"
   },
   {
    "duration": 8,
    "start_time": "2022-10-14T17:38:05.499Z"
   },
   {
    "duration": 701,
    "start_time": "2022-10-14T17:38:05.508Z"
   },
   {
    "duration": 5,
    "start_time": "2022-10-14T17:38:06.211Z"
   },
   {
    "duration": 179,
    "start_time": "2022-10-14T17:38:06.220Z"
   },
   {
    "duration": 12,
    "start_time": "2022-10-14T17:38:06.400Z"
   },
   {
    "duration": 742,
    "start_time": "2022-10-14T17:38:06.413Z"
   },
   {
    "duration": 173,
    "start_time": "2022-10-14T17:38:07.157Z"
   },
   {
    "duration": 11,
    "start_time": "2022-10-14T17:38:07.332Z"
   },
   {
    "duration": 204,
    "start_time": "2022-10-14T17:38:07.345Z"
   },
   {
    "duration": 9,
    "start_time": "2022-10-14T17:38:07.550Z"
   },
   {
    "duration": 404,
    "start_time": "2022-10-14T17:38:07.560Z"
   },
   {
    "duration": 9,
    "start_time": "2022-10-14T17:38:07.966Z"
   },
   {
    "duration": 258,
    "start_time": "2022-10-14T17:38:07.976Z"
   },
   {
    "duration": 7,
    "start_time": "2022-10-14T17:38:08.236Z"
   },
   {
    "duration": 25,
    "start_time": "2022-10-14T17:38:08.245Z"
   },
   {
    "duration": 290,
    "start_time": "2022-10-14T17:38:08.272Z"
   },
   {
    "duration": 268,
    "start_time": "2022-10-14T17:38:08.564Z"
   },
   {
    "duration": 194,
    "start_time": "2022-10-14T17:38:08.834Z"
   },
   {
    "duration": 14,
    "start_time": "2022-10-14T17:38:09.030Z"
   },
   {
    "duration": 7,
    "start_time": "2022-10-14T17:38:09.045Z"
   },
   {
    "duration": 15,
    "start_time": "2022-10-14T17:38:09.054Z"
   },
   {
    "duration": 10,
    "start_time": "2022-10-14T17:38:09.071Z"
   },
   {
    "duration": 19,
    "start_time": "2022-10-14T17:38:09.082Z"
   },
   {
    "duration": 17,
    "start_time": "2022-10-14T17:38:09.103Z"
   },
   {
    "duration": 13,
    "start_time": "2022-10-14T17:38:09.122Z"
   },
   {
    "duration": 10,
    "start_time": "2022-10-14T17:38:09.137Z"
   },
   {
    "duration": 6,
    "start_time": "2022-10-14T17:38:09.149Z"
   },
   {
    "duration": 7,
    "start_time": "2022-10-14T17:38:09.157Z"
   },
   {
    "duration": 7,
    "start_time": "2022-10-14T17:38:09.165Z"
   },
   {
    "duration": 214,
    "start_time": "2022-10-14T17:50:53.211Z"
   },
   {
    "duration": 263,
    "start_time": "2022-10-14T17:52:44.549Z"
   },
   {
    "duration": 220,
    "start_time": "2022-10-14T17:53:59.164Z"
   },
   {
    "duration": 201,
    "start_time": "2022-10-14T17:54:07.190Z"
   },
   {
    "duration": 205,
    "start_time": "2022-10-14T17:54:14.570Z"
   },
   {
    "duration": 201,
    "start_time": "2022-10-14T17:54:24.217Z"
   },
   {
    "duration": 222,
    "start_time": "2022-10-14T17:54:32.817Z"
   },
   {
    "duration": 215,
    "start_time": "2022-10-14T18:18:09.422Z"
   },
   {
    "duration": 216,
    "start_time": "2022-10-14T18:18:37.279Z"
   },
   {
    "duration": 207,
    "start_time": "2022-10-14T18:18:42.812Z"
   },
   {
    "duration": 77,
    "start_time": "2022-10-14T18:22:23.546Z"
   },
   {
    "duration": 83,
    "start_time": "2022-10-14T18:22:31.722Z"
   },
   {
    "duration": 76,
    "start_time": "2022-10-14T18:22:51.424Z"
   },
   {
    "duration": 72,
    "start_time": "2022-10-14T18:23:14.622Z"
   },
   {
    "duration": 78,
    "start_time": "2022-10-14T18:23:33.849Z"
   },
   {
    "duration": 69,
    "start_time": "2022-10-14T18:23:53.217Z"
   },
   {
    "duration": 1157,
    "start_time": "2022-10-14T18:24:00.149Z"
   },
   {
    "duration": 56,
    "start_time": "2022-10-14T18:24:01.308Z"
   },
   {
    "duration": 17,
    "start_time": "2022-10-14T18:24:01.366Z"
   },
   {
    "duration": 15,
    "start_time": "2022-10-14T18:24:01.385Z"
   },
   {
    "duration": 31,
    "start_time": "2022-10-14T18:24:01.402Z"
   },
   {
    "duration": 13,
    "start_time": "2022-10-14T18:24:01.435Z"
   },
   {
    "duration": 25,
    "start_time": "2022-10-14T18:24:01.449Z"
   },
   {
    "duration": 5,
    "start_time": "2022-10-14T18:24:01.476Z"
   },
   {
    "duration": 24,
    "start_time": "2022-10-14T18:24:01.482Z"
   },
   {
    "duration": 15,
    "start_time": "2022-10-14T18:24:01.509Z"
   },
   {
    "duration": 30,
    "start_time": "2022-10-14T18:24:01.526Z"
   },
   {
    "duration": 6,
    "start_time": "2022-10-14T18:24:01.558Z"
   },
   {
    "duration": 16,
    "start_time": "2022-10-14T18:24:01.566Z"
   },
   {
    "duration": 22,
    "start_time": "2022-10-14T18:24:01.584Z"
   },
   {
    "duration": 13,
    "start_time": "2022-10-14T18:24:01.608Z"
   },
   {
    "duration": 6,
    "start_time": "2022-10-14T18:24:01.623Z"
   },
   {
    "duration": 20,
    "start_time": "2022-10-14T18:24:01.631Z"
   },
   {
    "duration": 12,
    "start_time": "2022-10-14T18:24:01.653Z"
   },
   {
    "duration": 16,
    "start_time": "2022-10-14T18:24:01.667Z"
   },
   {
    "duration": 5,
    "start_time": "2022-10-14T18:24:01.685Z"
   },
   {
    "duration": 25,
    "start_time": "2022-10-14T18:24:01.692Z"
   },
   {
    "duration": 21,
    "start_time": "2022-10-14T18:24:01.719Z"
   },
   {
    "duration": 362,
    "start_time": "2022-10-14T18:24:01.741Z"
   },
   {
    "duration": 8,
    "start_time": "2022-10-14T18:24:02.105Z"
   },
   {
    "duration": 15,
    "start_time": "2022-10-14T18:24:02.115Z"
   },
   {
    "duration": 720,
    "start_time": "2022-10-14T18:24:02.132Z"
   },
   {
    "duration": 7,
    "start_time": "2022-10-14T18:24:02.854Z"
   },
   {
    "duration": 191,
    "start_time": "2022-10-14T18:24:02.866Z"
   },
   {
    "duration": 13,
    "start_time": "2022-10-14T18:24:03.058Z"
   },
   {
    "duration": 775,
    "start_time": "2022-10-14T18:24:03.072Z"
   },
   {
    "duration": 215,
    "start_time": "2022-10-14T18:24:03.849Z"
   },
   {
    "duration": 216,
    "start_time": "2022-10-14T18:24:04.066Z"
   },
   {
    "duration": 75,
    "start_time": "2022-10-14T18:24:04.284Z"
   },
   {
    "duration": 0,
    "start_time": "2022-10-14T18:24:04.361Z"
   },
   {
    "duration": 0,
    "start_time": "2022-10-14T18:24:04.362Z"
   },
   {
    "duration": 0,
    "start_time": "2022-10-14T18:24:04.363Z"
   },
   {
    "duration": 0,
    "start_time": "2022-10-14T18:24:04.365Z"
   },
   {
    "duration": 0,
    "start_time": "2022-10-14T18:24:04.366Z"
   },
   {
    "duration": 0,
    "start_time": "2022-10-14T18:24:04.367Z"
   },
   {
    "duration": 0,
    "start_time": "2022-10-14T18:24:04.368Z"
   },
   {
    "duration": 0,
    "start_time": "2022-10-14T18:24:04.369Z"
   },
   {
    "duration": 0,
    "start_time": "2022-10-14T18:24:04.370Z"
   },
   {
    "duration": 0,
    "start_time": "2022-10-14T18:24:04.371Z"
   },
   {
    "duration": 0,
    "start_time": "2022-10-14T18:24:04.372Z"
   },
   {
    "duration": 0,
    "start_time": "2022-10-14T18:24:04.373Z"
   },
   {
    "duration": 0,
    "start_time": "2022-10-14T18:24:04.374Z"
   },
   {
    "duration": 0,
    "start_time": "2022-10-14T18:24:04.375Z"
   },
   {
    "duration": 0,
    "start_time": "2022-10-14T18:24:04.376Z"
   },
   {
    "duration": 0,
    "start_time": "2022-10-14T18:24:04.377Z"
   },
   {
    "duration": 0,
    "start_time": "2022-10-14T18:24:04.378Z"
   },
   {
    "duration": 0,
    "start_time": "2022-10-14T18:24:04.379Z"
   },
   {
    "duration": 0,
    "start_time": "2022-10-14T18:24:04.380Z"
   },
   {
    "duration": 0,
    "start_time": "2022-10-14T18:24:04.381Z"
   },
   {
    "duration": 0,
    "start_time": "2022-10-14T18:24:04.382Z"
   },
   {
    "duration": 0,
    "start_time": "2022-10-14T18:24:04.383Z"
   },
   {
    "duration": 1240,
    "start_time": "2022-10-14T18:25:21.641Z"
   },
   {
    "duration": 57,
    "start_time": "2022-10-14T18:25:22.883Z"
   },
   {
    "duration": 21,
    "start_time": "2022-10-14T18:25:22.942Z"
   },
   {
    "duration": 17,
    "start_time": "2022-10-14T18:25:22.966Z"
   },
   {
    "duration": 47,
    "start_time": "2022-10-14T18:25:22.985Z"
   },
   {
    "duration": 12,
    "start_time": "2022-10-14T18:25:23.034Z"
   },
   {
    "duration": 16,
    "start_time": "2022-10-14T18:25:23.047Z"
   },
   {
    "duration": 4,
    "start_time": "2022-10-14T18:25:23.066Z"
   },
   {
    "duration": 36,
    "start_time": "2022-10-14T18:25:23.071Z"
   },
   {
    "duration": 4,
    "start_time": "2022-10-14T18:25:23.110Z"
   },
   {
    "duration": 20,
    "start_time": "2022-10-14T18:25:23.116Z"
   },
   {
    "duration": 13,
    "start_time": "2022-10-14T18:25:23.138Z"
   },
   {
    "duration": 9,
    "start_time": "2022-10-14T18:25:23.152Z"
   },
   {
    "duration": 12,
    "start_time": "2022-10-14T18:25:23.163Z"
   },
   {
    "duration": 25,
    "start_time": "2022-10-14T18:25:23.177Z"
   },
   {
    "duration": 21,
    "start_time": "2022-10-14T18:25:23.203Z"
   },
   {
    "duration": 12,
    "start_time": "2022-10-14T18:25:23.226Z"
   },
   {
    "duration": 8,
    "start_time": "2022-10-14T18:25:23.239Z"
   },
   {
    "duration": 13,
    "start_time": "2022-10-14T18:25:23.249Z"
   },
   {
    "duration": 10,
    "start_time": "2022-10-14T18:25:23.264Z"
   },
   {
    "duration": 26,
    "start_time": "2022-10-14T18:25:23.276Z"
   },
   {
    "duration": 19,
    "start_time": "2022-10-14T18:25:23.305Z"
   },
   {
    "duration": 371,
    "start_time": "2022-10-14T18:25:23.327Z"
   },
   {
    "duration": 10,
    "start_time": "2022-10-14T18:25:23.700Z"
   },
   {
    "duration": 16,
    "start_time": "2022-10-14T18:25:23.712Z"
   },
   {
    "duration": 760,
    "start_time": "2022-10-14T18:25:23.730Z"
   },
   {
    "duration": 8,
    "start_time": "2022-10-14T18:25:24.492Z"
   },
   {
    "duration": 208,
    "start_time": "2022-10-14T18:25:24.504Z"
   },
   {
    "duration": 13,
    "start_time": "2022-10-14T18:25:24.714Z"
   },
   {
    "duration": 790,
    "start_time": "2022-10-14T18:25:24.728Z"
   },
   {
    "duration": 224,
    "start_time": "2022-10-14T18:25:25.520Z"
   },
   {
    "duration": 227,
    "start_time": "2022-10-14T18:25:25.746Z"
   },
   {
    "duration": 10,
    "start_time": "2022-10-14T18:25:25.975Z"
   },
   {
    "duration": 223,
    "start_time": "2022-10-14T18:25:25.987Z"
   },
   {
    "duration": 10,
    "start_time": "2022-10-14T18:25:26.213Z"
   },
   {
    "duration": 526,
    "start_time": "2022-10-14T18:25:26.226Z"
   },
   {
    "duration": 10,
    "start_time": "2022-10-14T18:25:26.754Z"
   },
   {
    "duration": 205,
    "start_time": "2022-10-14T18:25:26.766Z"
   },
   {
    "duration": 7,
    "start_time": "2022-10-14T18:25:26.973Z"
   },
   {
    "duration": 26,
    "start_time": "2022-10-14T18:25:26.982Z"
   },
   {
    "duration": 276,
    "start_time": "2022-10-14T18:25:27.010Z"
   },
   {
    "duration": 390,
    "start_time": "2022-10-14T18:25:27.296Z"
   },
   {
    "duration": 108,
    "start_time": "2022-10-14T18:25:27.696Z"
   },
   {
    "duration": 14,
    "start_time": "2022-10-14T18:25:27.806Z"
   },
   {
    "duration": 8,
    "start_time": "2022-10-14T18:25:27.822Z"
   },
   {
    "duration": 8,
    "start_time": "2022-10-14T18:25:27.831Z"
   },
   {
    "duration": 8,
    "start_time": "2022-10-14T18:25:27.841Z"
   },
   {
    "duration": 7,
    "start_time": "2022-10-14T18:25:27.850Z"
   },
   {
    "duration": 38,
    "start_time": "2022-10-14T18:25:27.859Z"
   },
   {
    "duration": 12,
    "start_time": "2022-10-14T18:25:27.899Z"
   },
   {
    "duration": 19,
    "start_time": "2022-10-14T18:25:27.914Z"
   },
   {
    "duration": 8,
    "start_time": "2022-10-14T18:25:27.934Z"
   },
   {
    "duration": 9,
    "start_time": "2022-10-14T18:25:27.944Z"
   },
   {
    "duration": 12,
    "start_time": "2022-10-14T18:25:27.955Z"
   },
   {
    "duration": 18,
    "start_time": "2022-10-14T18:26:24.329Z"
   },
   {
    "duration": 1227,
    "start_time": "2022-10-14T18:26:47.822Z"
   },
   {
    "duration": 56,
    "start_time": "2022-10-14T18:26:49.051Z"
   },
   {
    "duration": 18,
    "start_time": "2022-10-14T18:26:49.108Z"
   },
   {
    "duration": 15,
    "start_time": "2022-10-14T18:26:49.128Z"
   },
   {
    "duration": 53,
    "start_time": "2022-10-14T18:26:49.145Z"
   },
   {
    "duration": 12,
    "start_time": "2022-10-14T18:26:49.199Z"
   },
   {
    "duration": 17,
    "start_time": "2022-10-14T18:26:49.213Z"
   },
   {
    "duration": 3,
    "start_time": "2022-10-14T18:26:49.232Z"
   },
   {
    "duration": 11,
    "start_time": "2022-10-14T18:26:49.238Z"
   },
   {
    "duration": 4,
    "start_time": "2022-10-14T18:26:49.253Z"
   },
   {
    "duration": 52,
    "start_time": "2022-10-14T18:26:49.259Z"
   },
   {
    "duration": 7,
    "start_time": "2022-10-14T18:26:49.313Z"
   },
   {
    "duration": 8,
    "start_time": "2022-10-14T18:26:49.322Z"
   },
   {
    "duration": 6,
    "start_time": "2022-10-14T18:26:49.332Z"
   },
   {
    "duration": 8,
    "start_time": "2022-10-14T18:26:49.340Z"
   },
   {
    "duration": 7,
    "start_time": "2022-10-14T18:26:49.350Z"
   },
   {
    "duration": 7,
    "start_time": "2022-10-14T18:26:49.359Z"
   },
   {
    "duration": 33,
    "start_time": "2022-10-14T18:26:49.367Z"
   },
   {
    "duration": 12,
    "start_time": "2022-10-14T18:26:49.402Z"
   },
   {
    "duration": 6,
    "start_time": "2022-10-14T18:26:49.415Z"
   },
   {
    "duration": 19,
    "start_time": "2022-10-14T18:26:49.422Z"
   },
   {
    "duration": 16,
    "start_time": "2022-10-14T18:26:49.443Z"
   },
   {
    "duration": 378,
    "start_time": "2022-10-14T18:26:49.460Z"
   },
   {
    "duration": 9,
    "start_time": "2022-10-14T18:26:49.839Z"
   },
   {
    "duration": 8,
    "start_time": "2022-10-14T18:26:49.850Z"
   },
   {
    "duration": 729,
    "start_time": "2022-10-14T18:26:49.859Z"
   },
   {
    "duration": 12,
    "start_time": "2022-10-14T18:26:50.589Z"
   },
   {
    "duration": 192,
    "start_time": "2022-10-14T18:26:50.604Z"
   },
   {
    "duration": 13,
    "start_time": "2022-10-14T18:26:50.798Z"
   },
   {
    "duration": 795,
    "start_time": "2022-10-14T18:26:50.813Z"
   },
   {
    "duration": 209,
    "start_time": "2022-10-14T18:26:51.609Z"
   },
   {
    "duration": 215,
    "start_time": "2022-10-14T18:26:51.820Z"
   },
   {
    "duration": 17,
    "start_time": "2022-10-14T18:26:52.038Z"
   },
   {
    "duration": 281,
    "start_time": "2022-10-14T18:26:52.057Z"
   },
   {
    "duration": 10,
    "start_time": "2022-10-14T18:26:52.340Z"
   },
   {
    "duration": 549,
    "start_time": "2022-10-14T18:26:52.351Z"
   },
   {
    "duration": 10,
    "start_time": "2022-10-14T18:26:52.902Z"
   },
   {
    "duration": 221,
    "start_time": "2022-10-14T18:26:52.914Z"
   },
   {
    "duration": 6,
    "start_time": "2022-10-14T18:26:53.137Z"
   },
   {
    "duration": 18,
    "start_time": "2022-10-14T18:26:53.145Z"
   },
   {
    "duration": 292,
    "start_time": "2022-10-14T18:26:53.164Z"
   },
   {
    "duration": 371,
    "start_time": "2022-10-14T18:26:53.458Z"
   },
   {
    "duration": 110,
    "start_time": "2022-10-14T18:26:53.832Z"
   },
   {
    "duration": 16,
    "start_time": "2022-10-14T18:26:53.944Z"
   },
   {
    "duration": 8,
    "start_time": "2022-10-14T18:26:53.963Z"
   },
   {
    "duration": 33,
    "start_time": "2022-10-14T18:26:53.973Z"
   },
   {
    "duration": 12,
    "start_time": "2022-10-14T18:26:54.008Z"
   },
   {
    "duration": 9,
    "start_time": "2022-10-14T18:26:54.022Z"
   },
   {
    "duration": 8,
    "start_time": "2022-10-14T18:26:54.033Z"
   },
   {
    "duration": 10,
    "start_time": "2022-10-14T18:26:54.043Z"
   },
   {
    "duration": 9,
    "start_time": "2022-10-14T18:26:54.054Z"
   },
   {
    "duration": 31,
    "start_time": "2022-10-14T18:26:54.065Z"
   },
   {
    "duration": 6,
    "start_time": "2022-10-14T18:26:54.098Z"
   },
   {
    "duration": 7,
    "start_time": "2022-10-14T18:26:54.106Z"
   },
   {
    "duration": 1528,
    "start_time": "2022-10-14T18:40:14.545Z"
   },
   {
    "duration": 70,
    "start_time": "2022-10-14T18:40:16.075Z"
   },
   {
    "duration": 18,
    "start_time": "2022-10-14T18:40:16.147Z"
   },
   {
    "duration": 22,
    "start_time": "2022-10-14T18:40:16.167Z"
   },
   {
    "duration": 37,
    "start_time": "2022-10-14T18:40:16.192Z"
   },
   {
    "duration": 16,
    "start_time": "2022-10-14T18:40:16.231Z"
   },
   {
    "duration": 24,
    "start_time": "2022-10-14T18:40:16.249Z"
   },
   {
    "duration": 3,
    "start_time": "2022-10-14T18:40:16.300Z"
   },
   {
    "duration": 24,
    "start_time": "2022-10-14T18:40:16.306Z"
   },
   {
    "duration": 4,
    "start_time": "2022-10-14T18:40:16.333Z"
   },
   {
    "duration": 25,
    "start_time": "2022-10-14T18:40:16.339Z"
   },
   {
    "duration": 7,
    "start_time": "2022-10-14T18:40:16.366Z"
   },
   {
    "duration": 8,
    "start_time": "2022-10-14T18:40:16.374Z"
   },
   {
    "duration": 14,
    "start_time": "2022-10-14T18:40:16.400Z"
   },
   {
    "duration": 15,
    "start_time": "2022-10-14T18:40:16.417Z"
   },
   {
    "duration": 9,
    "start_time": "2022-10-14T18:40:16.434Z"
   },
   {
    "duration": 7,
    "start_time": "2022-10-14T18:40:16.445Z"
   },
   {
    "duration": 8,
    "start_time": "2022-10-14T18:40:16.454Z"
   },
   {
    "duration": 12,
    "start_time": "2022-10-14T18:40:16.463Z"
   },
   {
    "duration": 4,
    "start_time": "2022-10-14T18:40:16.477Z"
   },
   {
    "duration": 18,
    "start_time": "2022-10-14T18:40:16.502Z"
   },
   {
    "duration": 13,
    "start_time": "2022-10-14T18:40:16.522Z"
   },
   {
    "duration": 406,
    "start_time": "2022-10-14T18:40:16.537Z"
   },
   {
    "duration": 11,
    "start_time": "2022-10-14T18:40:16.945Z"
   },
   {
    "duration": 17,
    "start_time": "2022-10-14T18:40:16.958Z"
   },
   {
    "duration": 834,
    "start_time": "2022-10-14T18:40:16.977Z"
   },
   {
    "duration": 7,
    "start_time": "2022-10-14T18:40:17.816Z"
   },
   {
    "duration": 214,
    "start_time": "2022-10-14T18:40:17.824Z"
   },
   {
    "duration": 17,
    "start_time": "2022-10-14T18:40:18.040Z"
   },
   {
    "duration": 914,
    "start_time": "2022-10-14T18:40:18.060Z"
   },
   {
    "duration": 241,
    "start_time": "2022-10-14T18:40:18.976Z"
   },
   {
    "duration": 220,
    "start_time": "2022-10-14T18:40:19.219Z"
   },
   {
    "duration": 17,
    "start_time": "2022-10-14T18:40:19.441Z"
   },
   {
    "duration": 283,
    "start_time": "2022-10-14T18:40:19.460Z"
   },
   {
    "duration": 10,
    "start_time": "2022-10-14T18:40:19.745Z"
   },
   {
    "duration": 538,
    "start_time": "2022-10-14T18:40:19.757Z"
   },
   {
    "duration": 26,
    "start_time": "2022-10-14T18:40:20.302Z"
   },
   {
    "duration": 15,
    "start_time": "2022-10-14T18:40:20.330Z"
   },
   {
    "duration": 7,
    "start_time": "2022-10-14T18:40:20.347Z"
   },
   {
    "duration": 194,
    "start_time": "2022-10-14T18:40:20.356Z"
   },
   {
    "duration": 6,
    "start_time": "2022-10-14T18:40:20.554Z"
   },
   {
    "duration": 19,
    "start_time": "2022-10-14T18:40:20.562Z"
   },
   {
    "duration": 304,
    "start_time": "2022-10-14T18:40:20.583Z"
   },
   {
    "duration": 394,
    "start_time": "2022-10-14T18:40:20.889Z"
   },
   {
    "duration": 114,
    "start_time": "2022-10-14T18:40:21.284Z"
   },
   {
    "duration": 16,
    "start_time": "2022-10-14T18:40:21.402Z"
   },
   {
    "duration": 17,
    "start_time": "2022-10-14T18:40:21.420Z"
   },
   {
    "duration": 13,
    "start_time": "2022-10-14T18:40:21.438Z"
   },
   {
    "duration": 14,
    "start_time": "2022-10-14T18:40:21.453Z"
   },
   {
    "duration": 12,
    "start_time": "2022-10-14T18:40:21.469Z"
   },
   {
    "duration": 7,
    "start_time": "2022-10-14T18:40:21.484Z"
   },
   {
    "duration": 22,
    "start_time": "2022-10-14T18:40:21.493Z"
   },
   {
    "duration": 16,
    "start_time": "2022-10-14T18:40:21.517Z"
   },
   {
    "duration": 15,
    "start_time": "2022-10-14T18:40:21.535Z"
   },
   {
    "duration": 14,
    "start_time": "2022-10-14T18:40:21.552Z"
   },
   {
    "duration": 11,
    "start_time": "2022-10-14T18:40:21.568Z"
   },
   {
    "duration": 272,
    "start_time": "2022-10-14T18:43:02.720Z"
   },
   {
    "duration": 260,
    "start_time": "2022-10-14T18:43:12.108Z"
   },
   {
    "duration": 298,
    "start_time": "2022-10-14T18:43:29.334Z"
   },
   {
    "duration": 1280,
    "start_time": "2022-10-14T18:43:44.824Z"
   },
   {
    "duration": 61,
    "start_time": "2022-10-14T18:43:46.106Z"
   },
   {
    "duration": 22,
    "start_time": "2022-10-14T18:43:46.169Z"
   },
   {
    "duration": 30,
    "start_time": "2022-10-14T18:43:46.194Z"
   },
   {
    "duration": 43,
    "start_time": "2022-10-14T18:43:46.227Z"
   },
   {
    "duration": 12,
    "start_time": "2022-10-14T18:43:46.273Z"
   },
   {
    "duration": 24,
    "start_time": "2022-10-14T18:43:46.296Z"
   },
   {
    "duration": 3,
    "start_time": "2022-10-14T18:43:46.322Z"
   },
   {
    "duration": 15,
    "start_time": "2022-10-14T18:43:46.327Z"
   },
   {
    "duration": 4,
    "start_time": "2022-10-14T18:43:46.345Z"
   },
   {
    "duration": 19,
    "start_time": "2022-10-14T18:43:46.351Z"
   },
   {
    "duration": 31,
    "start_time": "2022-10-14T18:43:46.372Z"
   },
   {
    "duration": 11,
    "start_time": "2022-10-14T18:43:46.411Z"
   },
   {
    "duration": 8,
    "start_time": "2022-10-14T18:43:46.424Z"
   },
   {
    "duration": 11,
    "start_time": "2022-10-14T18:43:46.433Z"
   },
   {
    "duration": 6,
    "start_time": "2022-10-14T18:43:46.446Z"
   },
   {
    "duration": 7,
    "start_time": "2022-10-14T18:43:46.453Z"
   },
   {
    "duration": 6,
    "start_time": "2022-10-14T18:43:46.461Z"
   },
   {
    "duration": 17,
    "start_time": "2022-10-14T18:43:46.468Z"
   },
   {
    "duration": 12,
    "start_time": "2022-10-14T18:43:46.501Z"
   },
   {
    "duration": 18,
    "start_time": "2022-10-14T18:43:46.516Z"
   },
   {
    "duration": 13,
    "start_time": "2022-10-14T18:43:46.536Z"
   },
   {
    "duration": 404,
    "start_time": "2022-10-14T18:43:46.551Z"
   },
   {
    "duration": 9,
    "start_time": "2022-10-14T18:43:46.957Z"
   },
   {
    "duration": 9,
    "start_time": "2022-10-14T18:43:46.968Z"
   },
   {
    "duration": 754,
    "start_time": "2022-10-14T18:43:46.979Z"
   },
   {
    "duration": 6,
    "start_time": "2022-10-14T18:43:47.735Z"
   },
   {
    "duration": 204,
    "start_time": "2022-10-14T18:43:47.744Z"
   },
   {
    "duration": 17,
    "start_time": "2022-10-14T18:43:47.950Z"
   },
   {
    "duration": 943,
    "start_time": "2022-10-14T18:43:47.969Z"
   },
   {
    "duration": 243,
    "start_time": "2022-10-14T18:43:48.916Z"
   },
   {
    "duration": 234,
    "start_time": "2022-10-14T18:43:49.161Z"
   },
   {
    "duration": 20,
    "start_time": "2022-10-14T18:43:49.405Z"
   },
   {
    "duration": 264,
    "start_time": "2022-10-14T18:43:49.427Z"
   },
   {
    "duration": 16,
    "start_time": "2022-10-14T18:43:49.693Z"
   },
   {
    "duration": 550,
    "start_time": "2022-10-14T18:43:49.711Z"
   },
   {
    "duration": 11,
    "start_time": "2022-10-14T18:43:50.263Z"
   },
   {
    "duration": 13,
    "start_time": "2022-10-14T18:43:50.276Z"
   },
   {
    "duration": 9,
    "start_time": "2022-10-14T18:43:50.291Z"
   },
   {
    "duration": 251,
    "start_time": "2022-10-14T18:43:50.305Z"
   },
   {
    "duration": 324,
    "start_time": "2022-10-14T18:43:50.558Z"
   },
   {
    "duration": 15,
    "start_time": "2022-10-14T18:43:50.885Z"
   },
   {
    "duration": 40,
    "start_time": "2022-10-14T18:43:50.901Z"
   },
   {
    "duration": 395,
    "start_time": "2022-10-14T18:43:50.943Z"
   },
   {
    "duration": 299,
    "start_time": "2022-10-14T18:43:51.340Z"
   },
   {
    "duration": 119,
    "start_time": "2022-10-14T18:43:51.641Z"
   },
   {
    "duration": 16,
    "start_time": "2022-10-14T18:43:51.762Z"
   },
   {
    "duration": 29,
    "start_time": "2022-10-14T18:43:51.779Z"
   },
   {
    "duration": 18,
    "start_time": "2022-10-14T18:43:51.809Z"
   },
   {
    "duration": 9,
    "start_time": "2022-10-14T18:43:51.829Z"
   },
   {
    "duration": 11,
    "start_time": "2022-10-14T18:43:51.841Z"
   },
   {
    "duration": 16,
    "start_time": "2022-10-14T18:43:51.855Z"
   },
   {
    "duration": 20,
    "start_time": "2022-10-14T18:43:51.873Z"
   },
   {
    "duration": 26,
    "start_time": "2022-10-14T18:43:51.895Z"
   },
   {
    "duration": 6,
    "start_time": "2022-10-14T18:43:51.923Z"
   },
   {
    "duration": 16,
    "start_time": "2022-10-14T18:43:51.932Z"
   },
   {
    "duration": 9,
    "start_time": "2022-10-14T18:43:51.950Z"
   },
   {
    "duration": 311,
    "start_time": "2022-10-14T18:44:59.613Z"
   },
   {
    "duration": 365,
    "start_time": "2022-10-14T18:45:05.225Z"
   },
   {
    "duration": 329,
    "start_time": "2022-10-14T18:45:10.085Z"
   },
   {
    "duration": 430,
    "start_time": "2022-10-14T18:45:14.091Z"
   },
   {
    "duration": 318,
    "start_time": "2022-10-14T18:45:27.357Z"
   },
   {
    "duration": 435,
    "start_time": "2022-10-14T18:46:00.031Z"
   },
   {
    "duration": 336,
    "start_time": "2022-10-14T18:46:05.143Z"
   },
   {
    "duration": 1307,
    "start_time": "2022-10-14T19:10:03.967Z"
   },
   {
    "duration": 54,
    "start_time": "2022-10-14T19:10:05.276Z"
   },
   {
    "duration": 17,
    "start_time": "2022-10-14T19:10:05.332Z"
   },
   {
    "duration": 15,
    "start_time": "2022-10-14T19:10:05.351Z"
   },
   {
    "duration": 44,
    "start_time": "2022-10-14T19:10:05.367Z"
   },
   {
    "duration": 11,
    "start_time": "2022-10-14T19:10:05.413Z"
   },
   {
    "duration": 17,
    "start_time": "2022-10-14T19:10:05.426Z"
   },
   {
    "duration": 8,
    "start_time": "2022-10-14T19:10:05.444Z"
   },
   {
    "duration": 18,
    "start_time": "2022-10-14T19:10:05.453Z"
   },
   {
    "duration": 10,
    "start_time": "2022-10-14T19:10:05.473Z"
   },
   {
    "duration": 17,
    "start_time": "2022-10-14T19:10:05.496Z"
   },
   {
    "duration": 7,
    "start_time": "2022-10-14T19:10:05.515Z"
   },
   {
    "duration": 8,
    "start_time": "2022-10-14T19:10:05.524Z"
   },
   {
    "duration": 7,
    "start_time": "2022-10-14T19:10:05.533Z"
   },
   {
    "duration": 9,
    "start_time": "2022-10-14T19:10:05.542Z"
   },
   {
    "duration": 9,
    "start_time": "2022-10-14T19:10:05.553Z"
   },
   {
    "duration": 32,
    "start_time": "2022-10-14T19:10:05.564Z"
   },
   {
    "duration": 5,
    "start_time": "2022-10-14T19:10:05.598Z"
   },
   {
    "duration": 14,
    "start_time": "2022-10-14T19:10:05.604Z"
   },
   {
    "duration": 6,
    "start_time": "2022-10-14T19:10:05.620Z"
   },
   {
    "duration": 15,
    "start_time": "2022-10-14T19:10:05.627Z"
   },
   {
    "duration": 27,
    "start_time": "2022-10-14T19:10:05.643Z"
   },
   {
    "duration": 362,
    "start_time": "2022-10-14T19:10:05.672Z"
   },
   {
    "duration": 10,
    "start_time": "2022-10-14T19:10:06.036Z"
   },
   {
    "duration": 16,
    "start_time": "2022-10-14T19:10:06.048Z"
   },
   {
    "duration": 757,
    "start_time": "2022-10-14T19:10:06.066Z"
   },
   {
    "duration": 8,
    "start_time": "2022-10-14T19:10:06.825Z"
   },
   {
    "duration": 223,
    "start_time": "2022-10-14T19:10:06.838Z"
   },
   {
    "duration": 13,
    "start_time": "2022-10-14T19:10:07.063Z"
   },
   {
    "duration": 765,
    "start_time": "2022-10-14T19:10:07.077Z"
   },
   {
    "duration": 221,
    "start_time": "2022-10-14T19:10:07.844Z"
   },
   {
    "duration": 295,
    "start_time": "2022-10-14T19:10:08.067Z"
   },
   {
    "duration": 19,
    "start_time": "2022-10-14T19:10:08.364Z"
   },
   {
    "duration": 278,
    "start_time": "2022-10-14T19:10:08.397Z"
   },
   {
    "duration": 21,
    "start_time": "2022-10-14T19:10:08.676Z"
   },
   {
    "duration": 530,
    "start_time": "2022-10-14T19:10:08.699Z"
   },
   {
    "duration": 11,
    "start_time": "2022-10-14T19:10:09.231Z"
   },
   {
    "duration": 8,
    "start_time": "2022-10-14T19:10:09.243Z"
   },
   {
    "duration": 6,
    "start_time": "2022-10-14T19:10:09.253Z"
   },
   {
    "duration": 185,
    "start_time": "2022-10-14T19:10:09.260Z"
   },
   {
    "duration": 326,
    "start_time": "2022-10-14T19:10:09.447Z"
   },
   {
    "duration": 8,
    "start_time": "2022-10-14T19:10:09.774Z"
   },
   {
    "duration": 26,
    "start_time": "2022-10-14T19:10:09.783Z"
   },
   {
    "duration": 371,
    "start_time": "2022-10-14T19:10:09.811Z"
   },
   {
    "duration": 267,
    "start_time": "2022-10-14T19:10:10.184Z"
   },
   {
    "duration": 97,
    "start_time": "2022-10-14T19:10:10.453Z"
   },
   {
    "duration": 15,
    "start_time": "2022-10-14T19:10:10.551Z"
   },
   {
    "duration": 7,
    "start_time": "2022-10-14T19:10:10.567Z"
   },
   {
    "duration": 25,
    "start_time": "2022-10-14T19:10:10.576Z"
   },
   {
    "duration": 6,
    "start_time": "2022-10-14T19:10:10.603Z"
   },
   {
    "duration": 8,
    "start_time": "2022-10-14T19:10:10.610Z"
   },
   {
    "duration": 6,
    "start_time": "2022-10-14T19:10:10.620Z"
   },
   {
    "duration": 12,
    "start_time": "2022-10-14T19:10:10.627Z"
   },
   {
    "duration": 13,
    "start_time": "2022-10-14T19:10:10.640Z"
   },
   {
    "duration": 6,
    "start_time": "2022-10-14T19:10:10.655Z"
   },
   {
    "duration": 34,
    "start_time": "2022-10-14T19:10:10.663Z"
   },
   {
    "duration": 6,
    "start_time": "2022-10-14T19:10:10.699Z"
   },
   {
    "duration": 5,
    "start_time": "2022-10-14T19:18:31.189Z"
   },
   {
    "duration": 8,
    "start_time": "2022-10-14T19:18:34.433Z"
   },
   {
    "duration": 1232,
    "start_time": "2022-10-14T19:18:42.116Z"
   },
   {
    "duration": 58,
    "start_time": "2022-10-14T19:18:43.349Z"
   },
   {
    "duration": 24,
    "start_time": "2022-10-14T19:18:43.408Z"
   },
   {
    "duration": 22,
    "start_time": "2022-10-14T19:18:43.436Z"
   },
   {
    "duration": 54,
    "start_time": "2022-10-14T19:18:43.460Z"
   },
   {
    "duration": 10,
    "start_time": "2022-10-14T19:18:43.516Z"
   },
   {
    "duration": 15,
    "start_time": "2022-10-14T19:18:43.528Z"
   },
   {
    "duration": 3,
    "start_time": "2022-10-14T19:18:43.544Z"
   },
   {
    "duration": 11,
    "start_time": "2022-10-14T19:18:43.549Z"
   },
   {
    "duration": 5,
    "start_time": "2022-10-14T19:18:43.562Z"
   },
   {
    "duration": 43,
    "start_time": "2022-10-14T19:18:43.568Z"
   },
   {
    "duration": 7,
    "start_time": "2022-10-14T19:18:43.615Z"
   },
   {
    "duration": 9,
    "start_time": "2022-10-14T19:18:43.624Z"
   },
   {
    "duration": 6,
    "start_time": "2022-10-14T19:18:43.634Z"
   },
   {
    "duration": 13,
    "start_time": "2022-10-14T19:18:43.642Z"
   },
   {
    "duration": 7,
    "start_time": "2022-10-14T19:18:43.657Z"
   },
   {
    "duration": 9,
    "start_time": "2022-10-14T19:18:43.666Z"
   },
   {
    "duration": 29,
    "start_time": "2022-10-14T19:18:43.677Z"
   },
   {
    "duration": 15,
    "start_time": "2022-10-14T19:18:43.711Z"
   },
   {
    "duration": 9,
    "start_time": "2022-10-14T19:18:43.728Z"
   },
   {
    "duration": 13,
    "start_time": "2022-10-14T19:18:43.739Z"
   },
   {
    "duration": 13,
    "start_time": "2022-10-14T19:18:43.754Z"
   },
   {
    "duration": 378,
    "start_time": "2022-10-14T19:18:43.768Z"
   },
   {
    "duration": 9,
    "start_time": "2022-10-14T19:18:44.148Z"
   },
   {
    "duration": 11,
    "start_time": "2022-10-14T19:18:44.159Z"
   },
   {
    "duration": 783,
    "start_time": "2022-10-14T19:18:44.172Z"
   },
   {
    "duration": 6,
    "start_time": "2022-10-14T19:18:44.957Z"
   },
   {
    "duration": 200,
    "start_time": "2022-10-14T19:18:44.967Z"
   },
   {
    "duration": 13,
    "start_time": "2022-10-14T19:18:45.169Z"
   },
   {
    "duration": 823,
    "start_time": "2022-10-14T19:18:45.184Z"
   },
   {
    "duration": 221,
    "start_time": "2022-10-14T19:18:46.008Z"
   },
   {
    "duration": 223,
    "start_time": "2022-10-14T19:18:46.231Z"
   },
   {
    "duration": 16,
    "start_time": "2022-10-14T19:18:46.456Z"
   },
   {
    "duration": 245,
    "start_time": "2022-10-14T19:18:46.474Z"
   },
   {
    "duration": 1,
    "start_time": "2022-10-14T19:18:46.720Z"
   },
   {
    "duration": 0,
    "start_time": "2022-10-14T19:18:46.722Z"
   },
   {
    "duration": 0,
    "start_time": "2022-10-14T19:18:46.723Z"
   },
   {
    "duration": 0,
    "start_time": "2022-10-14T19:18:46.724Z"
   },
   {
    "duration": 0,
    "start_time": "2022-10-14T19:18:46.725Z"
   },
   {
    "duration": 0,
    "start_time": "2022-10-14T19:18:46.726Z"
   },
   {
    "duration": 0,
    "start_time": "2022-10-14T19:18:46.727Z"
   },
   {
    "duration": 1,
    "start_time": "2022-10-14T19:18:46.728Z"
   },
   {
    "duration": 0,
    "start_time": "2022-10-14T19:18:46.730Z"
   },
   {
    "duration": 0,
    "start_time": "2022-10-14T19:18:46.731Z"
   },
   {
    "duration": 0,
    "start_time": "2022-10-14T19:18:46.732Z"
   },
   {
    "duration": 0,
    "start_time": "2022-10-14T19:18:46.733Z"
   },
   {
    "duration": 0,
    "start_time": "2022-10-14T19:18:46.734Z"
   },
   {
    "duration": 0,
    "start_time": "2022-10-14T19:18:46.735Z"
   },
   {
    "duration": 0,
    "start_time": "2022-10-14T19:18:46.736Z"
   },
   {
    "duration": 0,
    "start_time": "2022-10-14T19:18:46.737Z"
   },
   {
    "duration": 0,
    "start_time": "2022-10-14T19:18:46.738Z"
   },
   {
    "duration": 1,
    "start_time": "2022-10-14T19:18:46.739Z"
   },
   {
    "duration": 0,
    "start_time": "2022-10-14T19:18:46.741Z"
   },
   {
    "duration": 0,
    "start_time": "2022-10-14T19:18:46.741Z"
   },
   {
    "duration": 0,
    "start_time": "2022-10-14T19:18:46.743Z"
   },
   {
    "duration": 0,
    "start_time": "2022-10-14T19:18:46.744Z"
   },
   {
    "duration": 0,
    "start_time": "2022-10-14T19:18:46.745Z"
   },
   {
    "duration": 5,
    "start_time": "2022-10-14T19:19:37.680Z"
   },
   {
    "duration": 1219,
    "start_time": "2022-10-14T19:19:43.225Z"
   },
   {
    "duration": 72,
    "start_time": "2022-10-14T19:19:44.446Z"
   },
   {
    "duration": 19,
    "start_time": "2022-10-14T19:19:44.519Z"
   },
   {
    "duration": 17,
    "start_time": "2022-10-14T19:19:44.540Z"
   },
   {
    "duration": 50,
    "start_time": "2022-10-14T19:19:44.559Z"
   },
   {
    "duration": 11,
    "start_time": "2022-10-14T19:19:44.612Z"
   },
   {
    "duration": 32,
    "start_time": "2022-10-14T19:19:44.624Z"
   },
   {
    "duration": 3,
    "start_time": "2022-10-14T19:19:44.658Z"
   },
   {
    "duration": 18,
    "start_time": "2022-10-14T19:19:44.662Z"
   },
   {
    "duration": 14,
    "start_time": "2022-10-14T19:19:44.682Z"
   },
   {
    "duration": 34,
    "start_time": "2022-10-14T19:19:44.698Z"
   },
   {
    "duration": 7,
    "start_time": "2022-10-14T19:19:44.733Z"
   },
   {
    "duration": 9,
    "start_time": "2022-10-14T19:19:44.742Z"
   },
   {
    "duration": 13,
    "start_time": "2022-10-14T19:19:44.752Z"
   },
   {
    "duration": 10,
    "start_time": "2022-10-14T19:19:44.766Z"
   },
   {
    "duration": 6,
    "start_time": "2022-10-14T19:19:44.777Z"
   },
   {
    "duration": 8,
    "start_time": "2022-10-14T19:19:44.785Z"
   },
   {
    "duration": 5,
    "start_time": "2022-10-14T19:19:44.794Z"
   },
   {
    "duration": 20,
    "start_time": "2022-10-14T19:19:44.800Z"
   },
   {
    "duration": 9,
    "start_time": "2022-10-14T19:19:44.821Z"
   },
   {
    "duration": 17,
    "start_time": "2022-10-14T19:19:44.831Z"
   },
   {
    "duration": 15,
    "start_time": "2022-10-14T19:19:44.850Z"
   },
   {
    "duration": 356,
    "start_time": "2022-10-14T19:19:44.866Z"
   },
   {
    "duration": 8,
    "start_time": "2022-10-14T19:19:45.224Z"
   },
   {
    "duration": 17,
    "start_time": "2022-10-14T19:19:45.233Z"
   },
   {
    "duration": 759,
    "start_time": "2022-10-14T19:19:45.251Z"
   },
   {
    "duration": 7,
    "start_time": "2022-10-14T19:19:46.012Z"
   },
   {
    "duration": 202,
    "start_time": "2022-10-14T19:19:46.023Z"
   },
   {
    "duration": 13,
    "start_time": "2022-10-14T19:19:46.227Z"
   },
   {
    "duration": 784,
    "start_time": "2022-10-14T19:19:46.241Z"
   },
   {
    "duration": 221,
    "start_time": "2022-10-14T19:19:47.027Z"
   },
   {
    "duration": 211,
    "start_time": "2022-10-14T19:19:47.249Z"
   },
   {
    "duration": 15,
    "start_time": "2022-10-14T19:19:47.461Z"
   },
   {
    "duration": 267,
    "start_time": "2022-10-14T19:19:47.478Z"
   },
   {
    "duration": 10,
    "start_time": "2022-10-14T19:19:47.747Z"
   },
   {
    "duration": 622,
    "start_time": "2022-10-14T19:19:47.759Z"
   },
   {
    "duration": 11,
    "start_time": "2022-10-14T19:19:48.382Z"
   },
   {
    "duration": 24,
    "start_time": "2022-10-14T19:19:48.395Z"
   },
   {
    "duration": 6,
    "start_time": "2022-10-14T19:19:48.421Z"
   },
   {
    "duration": 190,
    "start_time": "2022-10-14T19:19:48.429Z"
   },
   {
    "duration": 332,
    "start_time": "2022-10-14T19:19:48.621Z"
   },
   {
    "duration": 6,
    "start_time": "2022-10-14T19:19:48.955Z"
   },
   {
    "duration": 19,
    "start_time": "2022-10-14T19:19:48.962Z"
   },
   {
    "duration": 372,
    "start_time": "2022-10-14T19:19:48.982Z"
   },
   {
    "duration": 281,
    "start_time": "2022-10-14T19:19:49.356Z"
   },
   {
    "duration": 108,
    "start_time": "2022-10-14T19:19:49.638Z"
   },
   {
    "duration": 14,
    "start_time": "2022-10-14T19:19:49.748Z"
   },
   {
    "duration": 11,
    "start_time": "2022-10-14T19:19:49.765Z"
   },
   {
    "duration": 26,
    "start_time": "2022-10-14T19:19:49.777Z"
   },
   {
    "duration": 11,
    "start_time": "2022-10-14T19:19:49.804Z"
   },
   {
    "duration": 32,
    "start_time": "2022-10-14T19:19:49.816Z"
   },
   {
    "duration": 13,
    "start_time": "2022-10-14T19:19:49.849Z"
   },
   {
    "duration": 28,
    "start_time": "2022-10-14T19:19:49.864Z"
   },
   {
    "duration": 25,
    "start_time": "2022-10-14T19:19:49.894Z"
   },
   {
    "duration": 20,
    "start_time": "2022-10-14T19:19:49.921Z"
   },
   {
    "duration": 29,
    "start_time": "2022-10-14T19:19:49.943Z"
   },
   {
    "duration": 13,
    "start_time": "2022-10-14T19:19:49.974Z"
   },
   {
    "duration": 94,
    "start_time": "2022-10-14T19:24:55.703Z"
   },
   {
    "duration": 96,
    "start_time": "2022-10-14T19:25:06.443Z"
   },
   {
    "duration": 99,
    "start_time": "2022-10-14T19:25:11.072Z"
   },
   {
    "duration": 16,
    "start_time": "2022-10-14T19:25:59.138Z"
   },
   {
    "duration": 1242,
    "start_time": "2022-10-14T19:26:22.408Z"
   },
   {
    "duration": 55,
    "start_time": "2022-10-14T19:26:23.652Z"
   },
   {
    "duration": 19,
    "start_time": "2022-10-14T19:26:23.709Z"
   },
   {
    "duration": 16,
    "start_time": "2022-10-14T19:26:23.730Z"
   },
   {
    "duration": 50,
    "start_time": "2022-10-14T19:26:23.748Z"
   },
   {
    "duration": 12,
    "start_time": "2022-10-14T19:26:23.799Z"
   },
   {
    "duration": 16,
    "start_time": "2022-10-14T19:26:23.812Z"
   },
   {
    "duration": 3,
    "start_time": "2022-10-14T19:26:23.829Z"
   },
   {
    "duration": 13,
    "start_time": "2022-10-14T19:26:23.834Z"
   },
   {
    "duration": 6,
    "start_time": "2022-10-14T19:26:23.849Z"
   },
   {
    "duration": 45,
    "start_time": "2022-10-14T19:26:23.857Z"
   },
   {
    "duration": 7,
    "start_time": "2022-10-14T19:26:23.904Z"
   },
   {
    "duration": 22,
    "start_time": "2022-10-14T19:26:23.913Z"
   },
   {
    "duration": 14,
    "start_time": "2022-10-14T19:26:23.937Z"
   },
   {
    "duration": 9,
    "start_time": "2022-10-14T19:26:23.953Z"
   },
   {
    "duration": 6,
    "start_time": "2022-10-14T19:26:23.964Z"
   },
   {
    "duration": 11,
    "start_time": "2022-10-14T19:26:23.972Z"
   },
   {
    "duration": 9,
    "start_time": "2022-10-14T19:26:23.985Z"
   },
   {
    "duration": 19,
    "start_time": "2022-10-14T19:26:23.996Z"
   },
   {
    "duration": 9,
    "start_time": "2022-10-14T19:26:24.017Z"
   },
   {
    "duration": 18,
    "start_time": "2022-10-14T19:26:24.028Z"
   },
   {
    "duration": 22,
    "start_time": "2022-10-14T19:26:24.048Z"
   },
   {
    "duration": 347,
    "start_time": "2022-10-14T19:26:24.072Z"
   },
   {
    "duration": 12,
    "start_time": "2022-10-14T19:26:24.421Z"
   },
   {
    "duration": 17,
    "start_time": "2022-10-14T19:26:24.435Z"
   },
   {
    "duration": 740,
    "start_time": "2022-10-14T19:26:24.454Z"
   },
   {
    "duration": 7,
    "start_time": "2022-10-14T19:26:25.196Z"
   },
   {
    "duration": 199,
    "start_time": "2022-10-14T19:26:25.207Z"
   },
   {
    "duration": 13,
    "start_time": "2022-10-14T19:26:25.407Z"
   },
   {
    "duration": 767,
    "start_time": "2022-10-14T19:26:25.422Z"
   },
   {
    "duration": 222,
    "start_time": "2022-10-14T19:26:26.196Z"
   },
   {
    "duration": 208,
    "start_time": "2022-10-14T19:26:26.420Z"
   },
   {
    "duration": 15,
    "start_time": "2022-10-14T19:26:26.630Z"
   },
   {
    "duration": 276,
    "start_time": "2022-10-14T19:26:26.648Z"
   },
   {
    "duration": 10,
    "start_time": "2022-10-14T19:26:26.926Z"
   },
   {
    "duration": 559,
    "start_time": "2022-10-14T19:26:26.938Z"
   },
   {
    "duration": 11,
    "start_time": "2022-10-14T19:26:27.499Z"
   },
   {
    "duration": 12,
    "start_time": "2022-10-14T19:26:27.511Z"
   },
   {
    "duration": 6,
    "start_time": "2022-10-14T19:26:27.525Z"
   },
   {
    "duration": 207,
    "start_time": "2022-10-14T19:26:27.532Z"
   },
   {
    "duration": 343,
    "start_time": "2022-10-14T19:26:27.741Z"
   },
   {
    "duration": 12,
    "start_time": "2022-10-14T19:26:28.085Z"
   },
   {
    "duration": 23,
    "start_time": "2022-10-14T19:26:28.099Z"
   },
   {
    "duration": 421,
    "start_time": "2022-10-14T19:26:28.124Z"
   },
   {
    "duration": 289,
    "start_time": "2022-10-14T19:26:28.547Z"
   },
   {
    "duration": 104,
    "start_time": "2022-10-14T19:26:28.837Z"
   },
   {
    "duration": 7,
    "start_time": "2022-10-14T19:26:28.943Z"
   },
   {
    "duration": 10,
    "start_time": "2022-10-14T19:26:28.952Z"
   },
   {
    "duration": 121,
    "start_time": "2022-10-14T19:26:28.963Z"
   },
   {
    "duration": 0,
    "start_time": "2022-10-14T19:26:29.086Z"
   },
   {
    "duration": 0,
    "start_time": "2022-10-14T19:26:29.087Z"
   },
   {
    "duration": 0,
    "start_time": "2022-10-14T19:26:29.096Z"
   },
   {
    "duration": 0,
    "start_time": "2022-10-14T19:26:29.097Z"
   },
   {
    "duration": 0,
    "start_time": "2022-10-14T19:26:29.098Z"
   },
   {
    "duration": 0,
    "start_time": "2022-10-14T19:26:29.100Z"
   },
   {
    "duration": 0,
    "start_time": "2022-10-14T19:26:29.101Z"
   },
   {
    "duration": 6,
    "start_time": "2022-10-14T19:27:28.768Z"
   },
   {
    "duration": 7,
    "start_time": "2022-10-14T19:27:33.228Z"
   },
   {
    "duration": 7,
    "start_time": "2022-10-14T19:27:36.099Z"
   },
   {
    "duration": 1143,
    "start_time": "2022-10-14T19:28:39.655Z"
   },
   {
    "duration": 54,
    "start_time": "2022-10-14T19:28:40.800Z"
   },
   {
    "duration": 18,
    "start_time": "2022-10-14T19:28:40.855Z"
   },
   {
    "duration": 15,
    "start_time": "2022-10-14T19:28:40.874Z"
   },
   {
    "duration": 32,
    "start_time": "2022-10-14T19:28:40.891Z"
   },
   {
    "duration": 11,
    "start_time": "2022-10-14T19:28:40.925Z"
   },
   {
    "duration": 17,
    "start_time": "2022-10-14T19:28:40.938Z"
   },
   {
    "duration": 3,
    "start_time": "2022-10-14T19:28:40.956Z"
   },
   {
    "duration": 36,
    "start_time": "2022-10-14T19:28:40.961Z"
   },
   {
    "duration": 4,
    "start_time": "2022-10-14T19:28:40.998Z"
   },
   {
    "duration": 18,
    "start_time": "2022-10-14T19:28:41.004Z"
   },
   {
    "duration": 7,
    "start_time": "2022-10-14T19:28:41.023Z"
   },
   {
    "duration": 6,
    "start_time": "2022-10-14T19:28:41.032Z"
   },
   {
    "duration": 6,
    "start_time": "2022-10-14T19:28:41.041Z"
   },
   {
    "duration": 11,
    "start_time": "2022-10-14T19:28:41.048Z"
   },
   {
    "duration": 38,
    "start_time": "2022-10-14T19:28:41.060Z"
   },
   {
    "duration": 5,
    "start_time": "2022-10-14T19:28:41.099Z"
   },
   {
    "duration": 8,
    "start_time": "2022-10-14T19:28:41.106Z"
   },
   {
    "duration": 11,
    "start_time": "2022-10-14T19:28:41.116Z"
   },
   {
    "duration": 5,
    "start_time": "2022-10-14T19:28:41.128Z"
   },
   {
    "duration": 15,
    "start_time": "2022-10-14T19:28:41.134Z"
   },
   {
    "duration": 13,
    "start_time": "2022-10-14T19:28:41.151Z"
   },
   {
    "duration": 367,
    "start_time": "2022-10-14T19:28:41.196Z"
   },
   {
    "duration": 9,
    "start_time": "2022-10-14T19:28:41.565Z"
   },
   {
    "duration": 25,
    "start_time": "2022-10-14T19:28:41.575Z"
   },
   {
    "duration": 699,
    "start_time": "2022-10-14T19:28:41.602Z"
   },
   {
    "duration": 7,
    "start_time": "2022-10-14T19:28:42.302Z"
   },
   {
    "duration": 192,
    "start_time": "2022-10-14T19:28:42.310Z"
   },
   {
    "duration": 12,
    "start_time": "2022-10-14T19:28:42.504Z"
   },
   {
    "duration": 760,
    "start_time": "2022-10-14T19:28:42.518Z"
   },
   {
    "duration": 222,
    "start_time": "2022-10-14T19:28:43.279Z"
   },
   {
    "duration": 232,
    "start_time": "2022-10-14T19:28:43.502Z"
   },
   {
    "duration": 18,
    "start_time": "2022-10-14T19:28:43.735Z"
   },
   {
    "duration": 269,
    "start_time": "2022-10-14T19:28:43.755Z"
   },
   {
    "duration": 10,
    "start_time": "2022-10-14T19:28:44.025Z"
   },
   {
    "duration": 567,
    "start_time": "2022-10-14T19:28:44.037Z"
   },
   {
    "duration": 10,
    "start_time": "2022-10-14T19:28:44.606Z"
   },
   {
    "duration": 9,
    "start_time": "2022-10-14T19:28:44.617Z"
   },
   {
    "duration": 11,
    "start_time": "2022-10-14T19:28:44.627Z"
   },
   {
    "duration": 206,
    "start_time": "2022-10-14T19:28:44.640Z"
   },
   {
    "duration": 323,
    "start_time": "2022-10-14T19:28:44.850Z"
   },
   {
    "duration": 7,
    "start_time": "2022-10-14T19:28:45.175Z"
   },
   {
    "duration": 31,
    "start_time": "2022-10-14T19:28:45.183Z"
   },
   {
    "duration": 359,
    "start_time": "2022-10-14T19:28:45.216Z"
   },
   {
    "duration": 275,
    "start_time": "2022-10-14T19:28:45.577Z"
   },
   {
    "duration": 107,
    "start_time": "2022-10-14T19:28:45.853Z"
   },
   {
    "duration": 8,
    "start_time": "2022-10-14T19:28:45.961Z"
   },
   {
    "duration": 28,
    "start_time": "2022-10-14T19:28:45.970Z"
   },
   {
    "duration": 5,
    "start_time": "2022-10-14T19:28:45.999Z"
   },
   {
    "duration": 7,
    "start_time": "2022-10-14T19:28:46.006Z"
   },
   {
    "duration": 7,
    "start_time": "2022-10-14T19:28:46.015Z"
   },
   {
    "duration": 9,
    "start_time": "2022-10-14T19:28:46.024Z"
   },
   {
    "duration": 9,
    "start_time": "2022-10-14T19:28:46.034Z"
   },
   {
    "duration": 9,
    "start_time": "2022-10-14T19:28:46.045Z"
   },
   {
    "duration": 7,
    "start_time": "2022-10-14T19:28:46.056Z"
   },
   {
    "duration": 5,
    "start_time": "2022-10-14T19:28:46.097Z"
   },
   {
    "duration": 1244,
    "start_time": "2022-10-14T19:48:44.199Z"
   },
   {
    "duration": 55,
    "start_time": "2022-10-14T19:48:45.445Z"
   },
   {
    "duration": 18,
    "start_time": "2022-10-14T19:48:45.501Z"
   },
   {
    "duration": 14,
    "start_time": "2022-10-14T19:48:45.521Z"
   },
   {
    "duration": 30,
    "start_time": "2022-10-14T19:48:45.536Z"
   },
   {
    "duration": 35,
    "start_time": "2022-10-14T19:48:45.567Z"
   },
   {
    "duration": 15,
    "start_time": "2022-10-14T19:48:45.604Z"
   },
   {
    "duration": 3,
    "start_time": "2022-10-14T19:48:45.620Z"
   },
   {
    "duration": 10,
    "start_time": "2022-10-14T19:48:45.625Z"
   },
   {
    "duration": 4,
    "start_time": "2022-10-14T19:48:45.638Z"
   },
   {
    "duration": 54,
    "start_time": "2022-10-14T19:48:45.643Z"
   },
   {
    "duration": 7,
    "start_time": "2022-10-14T19:48:45.698Z"
   },
   {
    "duration": 8,
    "start_time": "2022-10-14T19:48:45.707Z"
   },
   {
    "duration": 6,
    "start_time": "2022-10-14T19:48:45.717Z"
   },
   {
    "duration": 10,
    "start_time": "2022-10-14T19:48:45.724Z"
   },
   {
    "duration": 6,
    "start_time": "2022-10-14T19:48:45.735Z"
   },
   {
    "duration": 6,
    "start_time": "2022-10-14T19:48:45.742Z"
   },
   {
    "duration": 5,
    "start_time": "2022-10-14T19:48:45.749Z"
   },
   {
    "duration": 41,
    "start_time": "2022-10-14T19:48:45.756Z"
   },
   {
    "duration": 5,
    "start_time": "2022-10-14T19:48:45.799Z"
   },
   {
    "duration": 17,
    "start_time": "2022-10-14T19:48:45.806Z"
   },
   {
    "duration": 16,
    "start_time": "2022-10-14T19:48:45.825Z"
   },
   {
    "duration": 370,
    "start_time": "2022-10-14T19:48:45.842Z"
   },
   {
    "duration": 9,
    "start_time": "2022-10-14T19:48:46.214Z"
   },
   {
    "duration": 8,
    "start_time": "2022-10-14T19:48:46.225Z"
   },
   {
    "duration": 732,
    "start_time": "2022-10-14T19:48:46.234Z"
   },
   {
    "duration": 7,
    "start_time": "2022-10-14T19:48:46.968Z"
   },
   {
    "duration": 186,
    "start_time": "2022-10-14T19:48:46.978Z"
   },
   {
    "duration": 12,
    "start_time": "2022-10-14T19:48:47.166Z"
   },
   {
    "duration": 744,
    "start_time": "2022-10-14T19:48:47.179Z"
   },
   {
    "duration": 258,
    "start_time": "2022-10-14T19:48:47.925Z"
   },
   {
    "duration": 274,
    "start_time": "2022-10-14T19:48:48.186Z"
   },
   {
    "duration": 16,
    "start_time": "2022-10-14T19:48:48.461Z"
   },
   {
    "duration": 272,
    "start_time": "2022-10-14T19:48:48.479Z"
   },
   {
    "duration": 10,
    "start_time": "2022-10-14T19:48:48.753Z"
   },
   {
    "duration": 544,
    "start_time": "2022-10-14T19:48:48.764Z"
   },
   {
    "duration": 10,
    "start_time": "2022-10-14T19:48:49.310Z"
   },
   {
    "duration": 25,
    "start_time": "2022-10-14T19:48:49.321Z"
   },
   {
    "duration": 32,
    "start_time": "2022-10-14T19:48:49.347Z"
   },
   {
    "duration": 191,
    "start_time": "2022-10-14T19:48:49.381Z"
   },
   {
    "duration": 318,
    "start_time": "2022-10-14T19:48:49.574Z"
   },
   {
    "duration": 7,
    "start_time": "2022-10-14T19:48:49.894Z"
   },
   {
    "duration": 24,
    "start_time": "2022-10-14T19:48:49.903Z"
   },
   {
    "duration": 348,
    "start_time": "2022-10-14T19:48:49.929Z"
   },
   {
    "duration": 269,
    "start_time": "2022-10-14T19:48:50.279Z"
   },
   {
    "duration": 97,
    "start_time": "2022-10-14T19:48:50.550Z"
   },
   {
    "duration": 9,
    "start_time": "2022-10-14T19:48:50.650Z"
   },
   {
    "duration": 28,
    "start_time": "2022-10-14T19:48:50.661Z"
   },
   {
    "duration": 17,
    "start_time": "2022-10-14T19:48:50.691Z"
   },
   {
    "duration": 40,
    "start_time": "2022-10-14T19:48:50.709Z"
   },
   {
    "duration": 15,
    "start_time": "2022-10-14T19:48:50.751Z"
   },
   {
    "duration": 8,
    "start_time": "2022-10-14T19:48:50.768Z"
   },
   {
    "duration": 8,
    "start_time": "2022-10-14T19:48:50.778Z"
   },
   {
    "duration": 9,
    "start_time": "2022-10-14T19:48:50.788Z"
   },
   {
    "duration": 9,
    "start_time": "2022-10-14T19:48:50.799Z"
   },
   {
    "duration": 6,
    "start_time": "2022-10-14T19:48:50.810Z"
   },
   {
    "duration": 1176,
    "start_time": "2022-10-14T20:25:19.976Z"
   },
   {
    "duration": 57,
    "start_time": "2022-10-14T20:25:21.154Z"
   },
   {
    "duration": 18,
    "start_time": "2022-10-14T20:25:21.212Z"
   },
   {
    "duration": 15,
    "start_time": "2022-10-14T20:25:21.232Z"
   },
   {
    "duration": 32,
    "start_time": "2022-10-14T20:25:21.249Z"
   },
   {
    "duration": 23,
    "start_time": "2022-10-14T20:25:21.283Z"
   },
   {
    "duration": 16,
    "start_time": "2022-10-14T20:25:21.307Z"
   },
   {
    "duration": 3,
    "start_time": "2022-10-14T20:25:21.325Z"
   },
   {
    "duration": 14,
    "start_time": "2022-10-14T20:25:21.330Z"
   },
   {
    "duration": 4,
    "start_time": "2022-10-14T20:25:21.348Z"
   },
   {
    "duration": 50,
    "start_time": "2022-10-14T20:25:21.354Z"
   },
   {
    "duration": 6,
    "start_time": "2022-10-14T20:25:21.406Z"
   },
   {
    "duration": 5,
    "start_time": "2022-10-14T20:25:21.414Z"
   },
   {
    "duration": 8,
    "start_time": "2022-10-14T20:25:21.421Z"
   },
   {
    "duration": 18,
    "start_time": "2022-10-14T20:25:21.430Z"
   },
   {
    "duration": 6,
    "start_time": "2022-10-14T20:25:21.450Z"
   },
   {
    "duration": 7,
    "start_time": "2022-10-14T20:25:21.458Z"
   },
   {
    "duration": 7,
    "start_time": "2022-10-14T20:25:21.466Z"
   },
   {
    "duration": 27,
    "start_time": "2022-10-14T20:25:21.474Z"
   },
   {
    "duration": 6,
    "start_time": "2022-10-14T20:25:21.502Z"
   },
   {
    "duration": 14,
    "start_time": "2022-10-14T20:25:21.510Z"
   },
   {
    "duration": 13,
    "start_time": "2022-10-14T20:25:21.526Z"
   },
   {
    "duration": 344,
    "start_time": "2022-10-14T20:25:21.540Z"
   },
   {
    "duration": 12,
    "start_time": "2022-10-14T20:25:21.886Z"
   },
   {
    "duration": 6,
    "start_time": "2022-10-14T20:25:21.900Z"
   },
   {
    "duration": 693,
    "start_time": "2022-10-14T20:25:21.908Z"
   },
   {
    "duration": 6,
    "start_time": "2022-10-14T20:25:22.603Z"
   },
   {
    "duration": 203,
    "start_time": "2022-10-14T20:25:22.613Z"
   },
   {
    "duration": 11,
    "start_time": "2022-10-14T20:25:22.818Z"
   },
   {
    "duration": 740,
    "start_time": "2022-10-14T20:25:22.831Z"
   },
   {
    "duration": 207,
    "start_time": "2022-10-14T20:25:23.573Z"
   },
   {
    "duration": 210,
    "start_time": "2022-10-14T20:25:23.782Z"
   },
   {
    "duration": 17,
    "start_time": "2022-10-14T20:25:23.994Z"
   },
   {
    "duration": 251,
    "start_time": "2022-10-14T20:25:24.013Z"
   },
   {
    "duration": 10,
    "start_time": "2022-10-14T20:25:24.265Z"
   },
   {
    "duration": 565,
    "start_time": "2022-10-14T20:25:24.276Z"
   },
   {
    "duration": 10,
    "start_time": "2022-10-14T20:25:24.842Z"
   },
   {
    "duration": 8,
    "start_time": "2022-10-14T20:25:24.854Z"
   },
   {
    "duration": 7,
    "start_time": "2022-10-14T20:25:24.863Z"
   },
   {
    "duration": 176,
    "start_time": "2022-10-14T20:25:24.872Z"
   },
   {
    "duration": 318,
    "start_time": "2022-10-14T20:25:25.051Z"
   },
   {
    "duration": 7,
    "start_time": "2022-10-14T20:25:25.370Z"
   },
   {
    "duration": 28,
    "start_time": "2022-10-14T20:25:25.378Z"
   },
   {
    "duration": 352,
    "start_time": "2022-10-14T20:25:25.408Z"
   },
   {
    "duration": 267,
    "start_time": "2022-10-14T20:25:25.761Z"
   },
   {
    "duration": 96,
    "start_time": "2022-10-14T20:25:26.030Z"
   },
   {
    "duration": 8,
    "start_time": "2022-10-14T20:25:26.128Z"
   },
   {
    "duration": 9,
    "start_time": "2022-10-14T20:25:26.137Z"
   },
   {
    "duration": 7,
    "start_time": "2022-10-14T20:25:26.147Z"
   },
   {
    "duration": 7,
    "start_time": "2022-10-14T20:25:26.156Z"
   },
   {
    "duration": 7,
    "start_time": "2022-10-14T20:25:26.165Z"
   },
   {
    "duration": 8,
    "start_time": "2022-10-14T20:25:26.196Z"
   },
   {
    "duration": 9,
    "start_time": "2022-10-14T20:25:26.205Z"
   },
   {
    "duration": 8,
    "start_time": "2022-10-14T20:25:26.216Z"
   },
   {
    "duration": 8,
    "start_time": "2022-10-14T20:25:26.225Z"
   },
   {
    "duration": 8,
    "start_time": "2022-10-14T20:25:26.235Z"
   }
  ],
  "kernelspec": {
   "display_name": "Python 3 (ipykernel)",
   "language": "python",
   "name": "python3"
  },
  "language_info": {
   "codemirror_mode": {
    "name": "ipython",
    "version": 3
   },
   "file_extension": ".py",
   "mimetype": "text/x-python",
   "name": "python",
   "nbconvert_exporter": "python",
   "pygments_lexer": "ipython3",
   "version": "3.7.8"
  },
  "toc": {
   "base_numbering": 1,
   "nav_menu": {},
   "number_sections": true,
   "sideBar": true,
   "skip_h1_title": true,
   "title_cell": "Table of Contents",
   "title_sidebar": "Contents",
   "toc_cell": false,
   "toc_position": {
    "height": "calc(100% - 180px)",
    "left": "10px",
    "top": "150px",
    "width": "255.382px"
   },
   "toc_section_display": true,
   "toc_window_display": true
  }
 },
 "nbformat": 4,
 "nbformat_minor": 2
}
