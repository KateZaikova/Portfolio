{
 "cells": [
  {
   "cell_type": "markdown",
   "id": "5de11760",
   "metadata": {},
   "source": [
    "## Цель исследования\n",
    "\n",
    "Коронавирус застал мир врасплох, изменив привычный порядок вещей. В свободное время жители городов больше не выходят на улицу, не посещают кафе и торговые центры. Зато стало больше времени для книг. Это заметили стартаперы — и бросились создавать приложения для тех, кто любит читать.\n",
    "\n",
    "Наша компания решила быть на волне и купила крупный сервис для чтения книг по подписке. Моя первая задача как аналитика — проанализировать базу данных.\n",
    "\n",
    "В ней — информация о книгах, издательствах, авторах, а также пользовательские обзоры книг. Эти данные помогут сформулировать ценностное предложение для нового продукта.\n",
    "\n"
   ]
  },
  {
   "cell_type": "code",
   "execution_count": 1,
   "id": "4e2ae9f7",
   "metadata": {},
   "outputs": [],
   "source": [
    "# импортируем библиотеки\n",
    "import pandas as pd\n",
    "from sqlalchemy import create_engine\n",
    "\n",
    "# устанавливаем параметры\n",
    "db_config = {'user': 'praktikum_student', # имя пользователя\n",
    "              'pwd': 'Sdf4$2;d-d30pp', # пароль\n",
    "             'host': 'rc1b-wcoijxj3yxfsf3fs.mdb.yandexcloud.net',\n",
    "             'port': 6432, # порт подключения\n",
    "               'db': 'data-analyst-final-project-db'} # название базы данных\n",
    "connection_string = 'postgresql://{}:{}@{}:{}/{}'.format(db_config['user'],\n",
    "                                                         db_config['pwd'],\n",
    "                                                         db_config['host'],\n",
    "                                                         db_config['port'],\n",
    "                                                         db_config['db'])\n",
    "\n",
    "# сохраняем коннектор\n",
    "engine = create_engine(connection_string, connect_args={'sslmode':'require'}) \n"
   ]
  },
  {
   "cell_type": "markdown",
   "id": "15a39787",
   "metadata": {},
   "source": [
    "## Исследование таблиц — выведение первых строк"
   ]
  },
  {
   "cell_type": "code",
   "execution_count": 2,
   "id": "b6130eea",
   "metadata": {},
   "outputs": [],
   "source": [
    "# Формируем sql-запрос, который выгрузит нужные нам поля.\n",
    "query = \"\"\"\n",
    "SELECT *\n",
    "FROM books\n",
    "\"\"\""
   ]
  },
  {
   "cell_type": "code",
   "execution_count": 3,
   "id": "711ba2d9",
   "metadata": {},
   "outputs": [
    {
     "data": {
      "text/html": [
       "<div>\n",
       "<style scoped>\n",
       "    .dataframe tbody tr th:only-of-type {\n",
       "        vertical-align: middle;\n",
       "    }\n",
       "\n",
       "    .dataframe tbody tr th {\n",
       "        vertical-align: top;\n",
       "    }\n",
       "\n",
       "    .dataframe thead th {\n",
       "        text-align: right;\n",
       "    }\n",
       "</style>\n",
       "<table border=\"1\" class=\"dataframe\">\n",
       "  <thead>\n",
       "    <tr style=\"text-align: right;\">\n",
       "      <th></th>\n",
       "      <th>book_id</th>\n",
       "      <th>author_id</th>\n",
       "      <th>title</th>\n",
       "      <th>num_pages</th>\n",
       "      <th>publication_date</th>\n",
       "      <th>publisher_id</th>\n",
       "    </tr>\n",
       "  </thead>\n",
       "  <tbody>\n",
       "    <tr>\n",
       "      <th>0</th>\n",
       "      <td>1</td>\n",
       "      <td>546</td>\n",
       "      <td>'Salem's Lot</td>\n",
       "      <td>594</td>\n",
       "      <td>2005-11-01</td>\n",
       "      <td>93</td>\n",
       "    </tr>\n",
       "    <tr>\n",
       "      <th>1</th>\n",
       "      <td>2</td>\n",
       "      <td>465</td>\n",
       "      <td>1 000 Places to See Before You Die</td>\n",
       "      <td>992</td>\n",
       "      <td>2003-05-22</td>\n",
       "      <td>336</td>\n",
       "    </tr>\n",
       "    <tr>\n",
       "      <th>2</th>\n",
       "      <td>3</td>\n",
       "      <td>407</td>\n",
       "      <td>13 Little Blue Envelopes (Little Blue Envelope...</td>\n",
       "      <td>322</td>\n",
       "      <td>2010-12-21</td>\n",
       "      <td>135</td>\n",
       "    </tr>\n",
       "    <tr>\n",
       "      <th>3</th>\n",
       "      <td>4</td>\n",
       "      <td>82</td>\n",
       "      <td>1491: New Revelations of the Americas Before C...</td>\n",
       "      <td>541</td>\n",
       "      <td>2006-10-10</td>\n",
       "      <td>309</td>\n",
       "    </tr>\n",
       "    <tr>\n",
       "      <th>4</th>\n",
       "      <td>5</td>\n",
       "      <td>125</td>\n",
       "      <td>1776</td>\n",
       "      <td>386</td>\n",
       "      <td>2006-07-04</td>\n",
       "      <td>268</td>\n",
       "    </tr>\n",
       "  </tbody>\n",
       "</table>\n",
       "</div>"
      ],
      "text/plain": [
       "   book_id  author_id                                              title  \\\n",
       "0        1        546                                       'Salem's Lot   \n",
       "1        2        465                 1 000 Places to See Before You Die   \n",
       "2        3        407  13 Little Blue Envelopes (Little Blue Envelope...   \n",
       "3        4         82  1491: New Revelations of the Americas Before C...   \n",
       "4        5        125                                               1776   \n",
       "\n",
       "   num_pages publication_date  publisher_id  \n",
       "0        594       2005-11-01            93  \n",
       "1        992       2003-05-22           336  \n",
       "2        322       2010-12-21           135  \n",
       "3        541       2006-10-10           309  \n",
       "4        386       2006-07-04           268  "
      ]
     },
     "execution_count": 3,
     "metadata": {},
     "output_type": "execute_result"
    }
   ],
   "source": [
    "books = pd.io.sql.read_sql(query, con = engine) \n",
    "books.head()"
   ]
  },
  {
   "cell_type": "markdown",
   "id": "1074caa4",
   "metadata": {},
   "source": [
    "**Таблица `books`**\n",
    "\n",
    "Содержит данные о книгах:\n",
    "\n",
    "- `book_id` — идентификатор книги;\n",
    "- `author_id` — идентификатор автора;\n",
    "- `title` — название книги;\n",
    "- `num_pages` — количество страниц;\n",
    "- `publication_date` — дата публикации книги;\n",
    "- `publisher_id` — идентификатор издателя."
   ]
  },
  {
   "cell_type": "code",
   "execution_count": 4,
   "id": "d4dea805",
   "metadata": {},
   "outputs": [],
   "source": [
    "query = \"\"\"\n",
    "SELECT *\n",
    "FROM authors\n",
    "\"\"\""
   ]
  },
  {
   "cell_type": "code",
   "execution_count": 5,
   "id": "57feb480",
   "metadata": {},
   "outputs": [
    {
     "data": {
      "text/html": [
       "<div>\n",
       "<style scoped>\n",
       "    .dataframe tbody tr th:only-of-type {\n",
       "        vertical-align: middle;\n",
       "    }\n",
       "\n",
       "    .dataframe tbody tr th {\n",
       "        vertical-align: top;\n",
       "    }\n",
       "\n",
       "    .dataframe thead th {\n",
       "        text-align: right;\n",
       "    }\n",
       "</style>\n",
       "<table border=\"1\" class=\"dataframe\">\n",
       "  <thead>\n",
       "    <tr style=\"text-align: right;\">\n",
       "      <th></th>\n",
       "      <th>author_id</th>\n",
       "      <th>author</th>\n",
       "    </tr>\n",
       "  </thead>\n",
       "  <tbody>\n",
       "    <tr>\n",
       "      <th>0</th>\n",
       "      <td>1</td>\n",
       "      <td>A.S. Byatt</td>\n",
       "    </tr>\n",
       "    <tr>\n",
       "      <th>1</th>\n",
       "      <td>2</td>\n",
       "      <td>Aesop/Laura Harris/Laura Gibbs</td>\n",
       "    </tr>\n",
       "    <tr>\n",
       "      <th>2</th>\n",
       "      <td>3</td>\n",
       "      <td>Agatha Christie</td>\n",
       "    </tr>\n",
       "    <tr>\n",
       "      <th>3</th>\n",
       "      <td>4</td>\n",
       "      <td>Alan Brennert</td>\n",
       "    </tr>\n",
       "    <tr>\n",
       "      <th>4</th>\n",
       "      <td>5</td>\n",
       "      <td>Alan Moore/David   Lloyd</td>\n",
       "    </tr>\n",
       "  </tbody>\n",
       "</table>\n",
       "</div>"
      ],
      "text/plain": [
       "   author_id                          author\n",
       "0          1                      A.S. Byatt\n",
       "1          2  Aesop/Laura Harris/Laura Gibbs\n",
       "2          3                 Agatha Christie\n",
       "3          4                   Alan Brennert\n",
       "4          5        Alan Moore/David   Lloyd"
      ]
     },
     "execution_count": 5,
     "metadata": {},
     "output_type": "execute_result"
    }
   ],
   "source": [
    "authors = pd.io.sql.read_sql(query, con = engine) \n",
    "authors.head()"
   ]
  },
  {
   "cell_type": "markdown",
   "id": "7d024bb1",
   "metadata": {},
   "source": [
    "**Таблица `authors`**\n",
    "\n",
    "Содержит данные об авторах:\n",
    "\n",
    "- `author_id` — идентификатор автора;\n",
    "- `author` — имя автора."
   ]
  },
  {
   "cell_type": "code",
   "execution_count": 6,
   "id": "846dda15",
   "metadata": {},
   "outputs": [],
   "source": [
    "query = \"\"\"\n",
    "SELECT *\n",
    "FROM publishers\n",
    "\"\"\""
   ]
  },
  {
   "cell_type": "code",
   "execution_count": 7,
   "id": "bc5eb127",
   "metadata": {},
   "outputs": [
    {
     "data": {
      "text/html": [
       "<div>\n",
       "<style scoped>\n",
       "    .dataframe tbody tr th:only-of-type {\n",
       "        vertical-align: middle;\n",
       "    }\n",
       "\n",
       "    .dataframe tbody tr th {\n",
       "        vertical-align: top;\n",
       "    }\n",
       "\n",
       "    .dataframe thead th {\n",
       "        text-align: right;\n",
       "    }\n",
       "</style>\n",
       "<table border=\"1\" class=\"dataframe\">\n",
       "  <thead>\n",
       "    <tr style=\"text-align: right;\">\n",
       "      <th></th>\n",
       "      <th>publisher_id</th>\n",
       "      <th>publisher</th>\n",
       "    </tr>\n",
       "  </thead>\n",
       "  <tbody>\n",
       "    <tr>\n",
       "      <th>0</th>\n",
       "      <td>1</td>\n",
       "      <td>Ace</td>\n",
       "    </tr>\n",
       "    <tr>\n",
       "      <th>1</th>\n",
       "      <td>2</td>\n",
       "      <td>Ace Book</td>\n",
       "    </tr>\n",
       "    <tr>\n",
       "      <th>2</th>\n",
       "      <td>3</td>\n",
       "      <td>Ace Books</td>\n",
       "    </tr>\n",
       "    <tr>\n",
       "      <th>3</th>\n",
       "      <td>4</td>\n",
       "      <td>Ace Hardcover</td>\n",
       "    </tr>\n",
       "    <tr>\n",
       "      <th>4</th>\n",
       "      <td>5</td>\n",
       "      <td>Addison Wesley Publishing Company</td>\n",
       "    </tr>\n",
       "  </tbody>\n",
       "</table>\n",
       "</div>"
      ],
      "text/plain": [
       "   publisher_id                          publisher\n",
       "0             1                                Ace\n",
       "1             2                           Ace Book\n",
       "2             3                          Ace Books\n",
       "3             4                      Ace Hardcover\n",
       "4             5  Addison Wesley Publishing Company"
      ]
     },
     "execution_count": 7,
     "metadata": {},
     "output_type": "execute_result"
    }
   ],
   "source": [
    "publishers = pd.io.sql.read_sql(query, con = engine) \n",
    "publishers.head()"
   ]
  },
  {
   "cell_type": "markdown",
   "id": "674d25a7",
   "metadata": {},
   "source": [
    "**Таблица `publishers`**\n",
    "\n",
    "Содержит данные об издательствах:\n",
    "\n",
    "- `publisher_id` — идентификатор издательства;\n",
    "- `publisher` — название издательства;"
   ]
  },
  {
   "cell_type": "code",
   "execution_count": 8,
   "id": "5f06e37c",
   "metadata": {},
   "outputs": [],
   "source": [
    "query = \"\"\"\n",
    "SELECT *\n",
    "FROM ratings\n",
    "\"\"\""
   ]
  },
  {
   "cell_type": "code",
   "execution_count": 9,
   "id": "1f35d942",
   "metadata": {},
   "outputs": [
    {
     "data": {
      "text/html": [
       "<div>\n",
       "<style scoped>\n",
       "    .dataframe tbody tr th:only-of-type {\n",
       "        vertical-align: middle;\n",
       "    }\n",
       "\n",
       "    .dataframe tbody tr th {\n",
       "        vertical-align: top;\n",
       "    }\n",
       "\n",
       "    .dataframe thead th {\n",
       "        text-align: right;\n",
       "    }\n",
       "</style>\n",
       "<table border=\"1\" class=\"dataframe\">\n",
       "  <thead>\n",
       "    <tr style=\"text-align: right;\">\n",
       "      <th></th>\n",
       "      <th>rating_id</th>\n",
       "      <th>book_id</th>\n",
       "      <th>username</th>\n",
       "      <th>rating</th>\n",
       "    </tr>\n",
       "  </thead>\n",
       "  <tbody>\n",
       "    <tr>\n",
       "      <th>0</th>\n",
       "      <td>1</td>\n",
       "      <td>1</td>\n",
       "      <td>ryanfranco</td>\n",
       "      <td>4</td>\n",
       "    </tr>\n",
       "    <tr>\n",
       "      <th>1</th>\n",
       "      <td>2</td>\n",
       "      <td>1</td>\n",
       "      <td>grantpatricia</td>\n",
       "      <td>2</td>\n",
       "    </tr>\n",
       "    <tr>\n",
       "      <th>2</th>\n",
       "      <td>3</td>\n",
       "      <td>1</td>\n",
       "      <td>brandtandrea</td>\n",
       "      <td>5</td>\n",
       "    </tr>\n",
       "    <tr>\n",
       "      <th>3</th>\n",
       "      <td>4</td>\n",
       "      <td>2</td>\n",
       "      <td>lorichen</td>\n",
       "      <td>3</td>\n",
       "    </tr>\n",
       "    <tr>\n",
       "      <th>4</th>\n",
       "      <td>5</td>\n",
       "      <td>2</td>\n",
       "      <td>mariokeller</td>\n",
       "      <td>2</td>\n",
       "    </tr>\n",
       "  </tbody>\n",
       "</table>\n",
       "</div>"
      ],
      "text/plain": [
       "   rating_id  book_id       username  rating\n",
       "0          1        1     ryanfranco       4\n",
       "1          2        1  grantpatricia       2\n",
       "2          3        1   brandtandrea       5\n",
       "3          4        2       lorichen       3\n",
       "4          5        2    mariokeller       2"
      ]
     },
     "execution_count": 9,
     "metadata": {},
     "output_type": "execute_result"
    }
   ],
   "source": [
    "ratings = pd.io.sql.read_sql(query, con = engine) \n",
    "ratings.head()"
   ]
  },
  {
   "cell_type": "markdown",
   "id": "49ccd4d2",
   "metadata": {},
   "source": [
    "**Таблица `ratings`**\n",
    "\n",
    "Содержит данные о пользовательских оценках книг:\n",
    "\n",
    "- `rating_id` — идентификатор оценки;\n",
    "- `book_id` — идентификатор книги;\n",
    "- `username` — имя пользователя, оставившего оценку;\n",
    "- `rating` — оценка книги."
   ]
  },
  {
   "cell_type": "code",
   "execution_count": 10,
   "id": "d14cef7f",
   "metadata": {},
   "outputs": [],
   "source": [
    "query = \"\"\"\n",
    "SELECT *\n",
    "FROM reviews\n",
    "\"\"\""
   ]
  },
  {
   "cell_type": "code",
   "execution_count": 11,
   "id": "b64df5a7",
   "metadata": {},
   "outputs": [
    {
     "data": {
      "text/html": [
       "<div>\n",
       "<style scoped>\n",
       "    .dataframe tbody tr th:only-of-type {\n",
       "        vertical-align: middle;\n",
       "    }\n",
       "\n",
       "    .dataframe tbody tr th {\n",
       "        vertical-align: top;\n",
       "    }\n",
       "\n",
       "    .dataframe thead th {\n",
       "        text-align: right;\n",
       "    }\n",
       "</style>\n",
       "<table border=\"1\" class=\"dataframe\">\n",
       "  <thead>\n",
       "    <tr style=\"text-align: right;\">\n",
       "      <th></th>\n",
       "      <th>review_id</th>\n",
       "      <th>book_id</th>\n",
       "      <th>username</th>\n",
       "      <th>text</th>\n",
       "    </tr>\n",
       "  </thead>\n",
       "  <tbody>\n",
       "    <tr>\n",
       "      <th>0</th>\n",
       "      <td>1</td>\n",
       "      <td>1</td>\n",
       "      <td>brandtandrea</td>\n",
       "      <td>Mention society tell send professor analysis. ...</td>\n",
       "    </tr>\n",
       "    <tr>\n",
       "      <th>1</th>\n",
       "      <td>2</td>\n",
       "      <td>1</td>\n",
       "      <td>ryanfranco</td>\n",
       "      <td>Foot glass pretty audience hit themselves. Amo...</td>\n",
       "    </tr>\n",
       "    <tr>\n",
       "      <th>2</th>\n",
       "      <td>3</td>\n",
       "      <td>2</td>\n",
       "      <td>lorichen</td>\n",
       "      <td>Listen treat keep worry. Miss husband tax but ...</td>\n",
       "    </tr>\n",
       "    <tr>\n",
       "      <th>3</th>\n",
       "      <td>4</td>\n",
       "      <td>3</td>\n",
       "      <td>johnsonamanda</td>\n",
       "      <td>Finally month interesting blue could nature cu...</td>\n",
       "    </tr>\n",
       "    <tr>\n",
       "      <th>4</th>\n",
       "      <td>5</td>\n",
       "      <td>3</td>\n",
       "      <td>scotttamara</td>\n",
       "      <td>Nation purpose heavy give wait song will. List...</td>\n",
       "    </tr>\n",
       "  </tbody>\n",
       "</table>\n",
       "</div>"
      ],
      "text/plain": [
       "   review_id  book_id       username  \\\n",
       "0          1        1   brandtandrea   \n",
       "1          2        1     ryanfranco   \n",
       "2          3        2       lorichen   \n",
       "3          4        3  johnsonamanda   \n",
       "4          5        3    scotttamara   \n",
       "\n",
       "                                                text  \n",
       "0  Mention society tell send professor analysis. ...  \n",
       "1  Foot glass pretty audience hit themselves. Amo...  \n",
       "2  Listen treat keep worry. Miss husband tax but ...  \n",
       "3  Finally month interesting blue could nature cu...  \n",
       "4  Nation purpose heavy give wait song will. List...  "
      ]
     },
     "execution_count": 11,
     "metadata": {},
     "output_type": "execute_result"
    }
   ],
   "source": [
    "reviews = pd.io.sql.read_sql(query, con = engine) \n",
    "reviews.head()"
   ]
  },
  {
   "cell_type": "markdown",
   "id": "456aca05",
   "metadata": {},
   "source": [
    "**Таблица `reviews`**\n",
    "\n",
    "Содержит данные о пользовательских обзорах на книги:\n",
    "\n",
    "- `review_id` — идентификатор обзора;\n",
    "- `book_id` — идентификатор книги;\n",
    "- `username` — имя пользователя, написавшего обзор;\n",
    "- `text` — текст обзора."
   ]
  },
  {
   "cell_type": "markdown",
   "id": "d9ef5e7d",
   "metadata": {},
   "source": [
    "## Задания"
   ]
  },
  {
   "cell_type": "markdown",
   "id": "9f093dbc",
   "metadata": {},
   "source": [
    "### Посчитать, сколько книг вышло после 1 января 2000 года"
   ]
  },
  {
   "cell_type": "code",
   "execution_count": 12,
   "id": "f8fadf54",
   "metadata": {},
   "outputs": [],
   "source": [
    "query = \"\"\"\n",
    "SELECT COUNT(book_id)\n",
    "FROM books\n",
    "WHERE publication_date > '2000-01-01' \n",
    "\"\"\""
   ]
  },
  {
   "cell_type": "code",
   "execution_count": 13,
   "id": "a8affaad",
   "metadata": {},
   "outputs": [
    {
     "data": {
      "text/html": [
       "<div>\n",
       "<style scoped>\n",
       "    .dataframe tbody tr th:only-of-type {\n",
       "        vertical-align: middle;\n",
       "    }\n",
       "\n",
       "    .dataframe tbody tr th {\n",
       "        vertical-align: top;\n",
       "    }\n",
       "\n",
       "    .dataframe thead th {\n",
       "        text-align: right;\n",
       "    }\n",
       "</style>\n",
       "<table border=\"1\" class=\"dataframe\">\n",
       "  <thead>\n",
       "    <tr style=\"text-align: right;\">\n",
       "      <th></th>\n",
       "      <th>count</th>\n",
       "    </tr>\n",
       "  </thead>\n",
       "  <tbody>\n",
       "    <tr>\n",
       "      <th>0</th>\n",
       "      <td>819</td>\n",
       "    </tr>\n",
       "  </tbody>\n",
       "</table>\n",
       "</div>"
      ],
      "text/plain": [
       "   count\n",
       "0    819"
      ]
     },
     "execution_count": 13,
     "metadata": {},
     "output_type": "execute_result"
    }
   ],
   "source": [
    "answer1 = pd.io.sql.read_sql(query, con = engine) \n",
    "answer1.head()"
   ]
  },
  {
   "cell_type": "markdown",
   "id": "86c28143",
   "metadata": {},
   "source": [
    "#### Вывод:\n",
    "\n",
    "После 1 января 2000 года вышло 819 книг"
   ]
  },
  {
   "cell_type": "markdown",
   "id": "aee5dd52",
   "metadata": {},
   "source": [
    "### Для каждой книги посчитать количество обзоров и среднюю оценку"
   ]
  },
  {
   "cell_type": "code",
   "execution_count": 14,
   "id": "f78fc6ee",
   "metadata": {},
   "outputs": [],
   "source": [
    "query = \"\"\"\n",
    "SELECT b.book_id,\n",
    "       COUNT(DISTINCT re.review_id) cnt_review,\n",
    "       AVG(ra.rating) avg_rating\n",
    "FROM books b  \n",
    "LEFT JOIN reviews re ON b.book_id=re.book_id \n",
    "LEFT JOIN ratings ra ON re.book_id=ra.book_id \n",
    "GROUP BY 1\n",
    "ORDER BY 2,3\n",
    "\"\"\""
   ]
  },
  {
   "cell_type": "code",
   "execution_count": 15,
   "id": "16f323b1",
   "metadata": {},
   "outputs": [
    {
     "data": {
      "text/html": [
       "<div>\n",
       "<style scoped>\n",
       "    .dataframe tbody tr th:only-of-type {\n",
       "        vertical-align: middle;\n",
       "    }\n",
       "\n",
       "    .dataframe tbody tr th {\n",
       "        vertical-align: top;\n",
       "    }\n",
       "\n",
       "    .dataframe thead th {\n",
       "        text-align: right;\n",
       "    }\n",
       "</style>\n",
       "<table border=\"1\" class=\"dataframe\">\n",
       "  <thead>\n",
       "    <tr style=\"text-align: right;\">\n",
       "      <th></th>\n",
       "      <th>book_id</th>\n",
       "      <th>cnt_review</th>\n",
       "      <th>avg_rating</th>\n",
       "    </tr>\n",
       "  </thead>\n",
       "  <tbody>\n",
       "    <tr>\n",
       "      <th>0</th>\n",
       "      <td>672</td>\n",
       "      <td>0</td>\n",
       "      <td>NaN</td>\n",
       "    </tr>\n",
       "    <tr>\n",
       "      <th>1</th>\n",
       "      <td>808</td>\n",
       "      <td>0</td>\n",
       "      <td>NaN</td>\n",
       "    </tr>\n",
       "    <tr>\n",
       "      <th>2</th>\n",
       "      <td>387</td>\n",
       "      <td>0</td>\n",
       "      <td>NaN</td>\n",
       "    </tr>\n",
       "    <tr>\n",
       "      <th>3</th>\n",
       "      <td>221</td>\n",
       "      <td>0</td>\n",
       "      <td>NaN</td>\n",
       "    </tr>\n",
       "    <tr>\n",
       "      <th>4</th>\n",
       "      <td>83</td>\n",
       "      <td>0</td>\n",
       "      <td>NaN</td>\n",
       "    </tr>\n",
       "    <tr>\n",
       "      <th>...</th>\n",
       "      <td>...</td>\n",
       "      <td>...</td>\n",
       "      <td>...</td>\n",
       "    </tr>\n",
       "    <tr>\n",
       "      <th>995</th>\n",
       "      <td>734</td>\n",
       "      <td>6</td>\n",
       "      <td>4.206897</td>\n",
       "    </tr>\n",
       "    <tr>\n",
       "      <th>996</th>\n",
       "      <td>656</td>\n",
       "      <td>6</td>\n",
       "      <td>4.264151</td>\n",
       "    </tr>\n",
       "    <tr>\n",
       "      <th>997</th>\n",
       "      <td>299</td>\n",
       "      <td>6</td>\n",
       "      <td>4.287500</td>\n",
       "    </tr>\n",
       "    <tr>\n",
       "      <th>998</th>\n",
       "      <td>302</td>\n",
       "      <td>6</td>\n",
       "      <td>4.414634</td>\n",
       "    </tr>\n",
       "    <tr>\n",
       "      <th>999</th>\n",
       "      <td>948</td>\n",
       "      <td>7</td>\n",
       "      <td>3.662500</td>\n",
       "    </tr>\n",
       "  </tbody>\n",
       "</table>\n",
       "<p>1000 rows × 3 columns</p>\n",
       "</div>"
      ],
      "text/plain": [
       "     book_id  cnt_review  avg_rating\n",
       "0        672           0         NaN\n",
       "1        808           0         NaN\n",
       "2        387           0         NaN\n",
       "3        221           0         NaN\n",
       "4         83           0         NaN\n",
       "..       ...         ...         ...\n",
       "995      734           6    4.206897\n",
       "996      656           6    4.264151\n",
       "997      299           6    4.287500\n",
       "998      302           6    4.414634\n",
       "999      948           7    3.662500\n",
       "\n",
       "[1000 rows x 3 columns]"
      ]
     },
     "execution_count": 15,
     "metadata": {},
     "output_type": "execute_result"
    }
   ],
   "source": [
    "answer2 = pd.io.sql.read_sql(query, con = engine) \n",
    "answer2"
   ]
  },
  {
   "cell_type": "markdown",
   "id": "f7298e92",
   "metadata": {},
   "source": [
    "#### Вывод:\n",
    "\n",
    "Вывели количество обзоров и среднюю оценку на каждую книгу\n",
    "* Всех больше оставили обзоров на книгу - 7 раз\n",
    "* Всех меньше обзоров на книгу - 1 раза\n"
   ]
  },
  {
   "cell_type": "markdown",
   "id": "387e973d",
   "metadata": {},
   "source": [
    "### Определить издательство, которое выпустило наибольшее число книг толще 50 страниц — так мы исключим из анализа брошюры;"
   ]
  },
  {
   "cell_type": "code",
   "execution_count": 16,
   "id": "b2a5c89e",
   "metadata": {},
   "outputs": [],
   "source": [
    "query = \"\"\"\n",
    "SELECT p.publisher_id,\n",
    "       p.publisher,\n",
    "       COUNT(b.book_id) cnt_book\n",
    "FROM publishers p   \n",
    "JOIN books b ON p.publisher_id=b.publisher_id \n",
    "WHERE num_pages>50\n",
    "GROUP BY 1,2\n",
    "ORDER BY 3 DESC\n",
    "LIMIT 1\n",
    "\"\"\""
   ]
  },
  {
   "cell_type": "code",
   "execution_count": 17,
   "id": "78b16ec6",
   "metadata": {},
   "outputs": [
    {
     "data": {
      "text/html": [
       "<div>\n",
       "<style scoped>\n",
       "    .dataframe tbody tr th:only-of-type {\n",
       "        vertical-align: middle;\n",
       "    }\n",
       "\n",
       "    .dataframe tbody tr th {\n",
       "        vertical-align: top;\n",
       "    }\n",
       "\n",
       "    .dataframe thead th {\n",
       "        text-align: right;\n",
       "    }\n",
       "</style>\n",
       "<table border=\"1\" class=\"dataframe\">\n",
       "  <thead>\n",
       "    <tr style=\"text-align: right;\">\n",
       "      <th></th>\n",
       "      <th>publisher_id</th>\n",
       "      <th>publisher</th>\n",
       "      <th>cnt_book</th>\n",
       "    </tr>\n",
       "  </thead>\n",
       "  <tbody>\n",
       "    <tr>\n",
       "      <th>0</th>\n",
       "      <td>212</td>\n",
       "      <td>Penguin Books</td>\n",
       "      <td>42</td>\n",
       "    </tr>\n",
       "  </tbody>\n",
       "</table>\n",
       "</div>"
      ],
      "text/plain": [
       "   publisher_id      publisher  cnt_book\n",
       "0           212  Penguin Books        42"
      ]
     },
     "execution_count": 17,
     "metadata": {},
     "output_type": "execute_result"
    }
   ],
   "source": [
    "answer3 = pd.io.sql.read_sql(query, con = engine) \n",
    "answer3"
   ]
  },
  {
   "cell_type": "markdown",
   "id": "ea7d9616",
   "metadata": {},
   "source": [
    "#### Вывод:\n",
    "\n",
    "Наибольшее число книг (42 книги) было выпущенно в издательстве Penguin Books."
   ]
  },
  {
   "cell_type": "markdown",
   "id": "95aae8e2",
   "metadata": {},
   "source": [
    "### Определить автора с самой высокой средней оценкой книг — учитывать только книги с 50 и более оценками"
   ]
  },
  {
   "cell_type": "code",
   "execution_count": 18,
   "id": "d8d3c1a1",
   "metadata": {},
   "outputs": [],
   "source": [
    "query = \"\"\"\n",
    "SELECT a.author_id,\n",
    "       a.author,\n",
    "       AVG(r.rating)\n",
    "FROM authors a   \n",
    "JOIN books b ON a.author_id=b.author_id\n",
    "JOIN ratings r ON b.book_id=r.book_id \n",
    "WHERE b.book_id in (SELECT b.book_id\n",
    "                    FROM books b   \n",
    "                    JOIN ratings r ON b.book_id=r.book_id \n",
    "                    group by 1\n",
    "                    HAVING COUNT(r.rating)>=50)\n",
    "GROUP BY 1,2                   \n",
    "ORDER BY 3 DESC\n",
    "LIMIT 1\n",
    "\"\"\""
   ]
  },
  {
   "cell_type": "code",
   "execution_count": 19,
   "id": "90339c5c",
   "metadata": {},
   "outputs": [
    {
     "data": {
      "text/html": [
       "<div>\n",
       "<style scoped>\n",
       "    .dataframe tbody tr th:only-of-type {\n",
       "        vertical-align: middle;\n",
       "    }\n",
       "\n",
       "    .dataframe tbody tr th {\n",
       "        vertical-align: top;\n",
       "    }\n",
       "\n",
       "    .dataframe thead th {\n",
       "        text-align: right;\n",
       "    }\n",
       "</style>\n",
       "<table border=\"1\" class=\"dataframe\">\n",
       "  <thead>\n",
       "    <tr style=\"text-align: right;\">\n",
       "      <th></th>\n",
       "      <th>author_id</th>\n",
       "      <th>author</th>\n",
       "      <th>avg</th>\n",
       "    </tr>\n",
       "  </thead>\n",
       "  <tbody>\n",
       "    <tr>\n",
       "      <th>0</th>\n",
       "      <td>236</td>\n",
       "      <td>J.K. Rowling/Mary GrandPré</td>\n",
       "      <td>4.287097</td>\n",
       "    </tr>\n",
       "  </tbody>\n",
       "</table>\n",
       "</div>"
      ],
      "text/plain": [
       "   author_id                      author       avg\n",
       "0        236  J.K. Rowling/Mary GrandPré  4.287097"
      ]
     },
     "execution_count": 19,
     "metadata": {},
     "output_type": "execute_result"
    }
   ],
   "source": [
    "answer4 = pd.io.sql.read_sql(query, con = engine) \n",
    "answer4"
   ]
  },
  {
   "cell_type": "markdown",
   "id": "374a40d9",
   "metadata": {},
   "source": [
    "#### Вывод:\n",
    "\n",
    "Самую высокую среднюю оценку книг имеют авторы J.K. Rowling/Mary GrandPré."
   ]
  },
  {
   "cell_type": "markdown",
   "id": "9fc5ba02",
   "metadata": {},
   "source": [
    "### Посчитать среднее количество обзоров от пользователей, которые поставили больше 50 оценок."
   ]
  },
  {
   "cell_type": "code",
   "execution_count": 20,
   "id": "eab9678c",
   "metadata": {},
   "outputs": [],
   "source": [
    "query = \"\"\"\n",
    "SELECT ROUND(AVG(d.cnt_review)) avg_cnt_rewiews\n",
    "FROM (SELECT username,\n",
    "     COUNT (review_id) cnt_review\n",
    "     FROM reviews   \n",
    "     GROUP BY 1) as d\n",
    "WHERE username in (SELECT username\n",
    "                   FROM ratings \n",
    "                   GROUP BY 1\n",
    "                   HAVING COUNT(rating)>50)     \n",
    " \"\"\"  "
   ]
  },
  {
   "cell_type": "code",
   "execution_count": 21,
   "id": "85961e23",
   "metadata": {},
   "outputs": [
    {
     "data": {
      "text/html": [
       "<div>\n",
       "<style scoped>\n",
       "    .dataframe tbody tr th:only-of-type {\n",
       "        vertical-align: middle;\n",
       "    }\n",
       "\n",
       "    .dataframe tbody tr th {\n",
       "        vertical-align: top;\n",
       "    }\n",
       "\n",
       "    .dataframe thead th {\n",
       "        text-align: right;\n",
       "    }\n",
       "</style>\n",
       "<table border=\"1\" class=\"dataframe\">\n",
       "  <thead>\n",
       "    <tr style=\"text-align: right;\">\n",
       "      <th></th>\n",
       "      <th>avg_cnt_rewiews</th>\n",
       "    </tr>\n",
       "  </thead>\n",
       "  <tbody>\n",
       "    <tr>\n",
       "      <th>0</th>\n",
       "      <td>24.0</td>\n",
       "    </tr>\n",
       "  </tbody>\n",
       "</table>\n",
       "</div>"
      ],
      "text/plain": [
       "   avg_cnt_rewiews\n",
       "0             24.0"
      ]
     },
     "execution_count": 21,
     "metadata": {},
     "output_type": "execute_result"
    }
   ],
   "source": [
    "answer5 = pd.io.sql.read_sql(query, con = engine) \n",
    "answer5"
   ]
  },
  {
   "cell_type": "markdown",
   "id": "a953a578",
   "metadata": {},
   "source": [
    "#### Вывод: \n",
    "\n",
    "Среднее количество обзоров равно 24, от пользователей, которые поставили больше 50 оценок"
   ]
  },
  {
   "cell_type": "markdown",
   "id": "44e8670d",
   "metadata": {},
   "source": [
    "### Общий вывод\n",
    "\n",
    "Проанализировав базу данных, получили следующие сведения:\n",
    "* После 1 января 2000 года вышло 819 книг\n",
    "* Количество обзоров на каждую книгу:\n",
    "    * Всех больше оставили обзоров на книгу - 7 раз\n",
    "    * Всех меньше обзоров на книгу - 1 раза\n",
    "* Наибольшее число книг (42 книги) было выпущенно в издательстве Penguin Books.\n",
    "* Самую высокую среднюю оценку книг имеют авторы J.K. Rowling/Mary GrandPré.\n",
    "* Среднее количество обзоров равно 24, от пользователей, которые поставили больше 50 оценок"
   ]
  },
  {
   "cell_type": "code",
   "execution_count": null,
   "id": "1e8e1e69",
   "metadata": {},
   "outputs": [],
   "source": []
  }
 ],
 "metadata": {
  "ExecuteTimeLog": [
   {
    "duration": 5367,
    "start_time": "2022-11-17T19:57:06.227Z"
   },
   {
    "duration": 3,
    "start_time": "2022-11-17T19:57:11.596Z"
   },
   {
    "duration": 316,
    "start_time": "2022-11-17T19:57:11.601Z"
   },
   {
    "duration": 3,
    "start_time": "2022-11-17T19:57:11.919Z"
   },
   {
    "duration": 117,
    "start_time": "2022-11-17T19:57:11.923Z"
   },
   {
    "duration": 3,
    "start_time": "2022-11-17T19:57:12.042Z"
   },
   {
    "duration": 105,
    "start_time": "2022-11-17T19:57:12.047Z"
   },
   {
    "duration": 2,
    "start_time": "2022-11-17T19:57:12.154Z"
   },
   {
    "duration": 103,
    "start_time": "2022-11-17T19:57:12.158Z"
   },
   {
    "duration": 3,
    "start_time": "2022-11-17T19:57:12.263Z"
   },
   {
    "duration": 100,
    "start_time": "2022-11-17T19:57:12.267Z"
   },
   {
    "duration": 2,
    "start_time": "2022-11-17T19:57:12.369Z"
   },
   {
    "duration": 83,
    "start_time": "2022-11-17T19:57:12.373Z"
   },
   {
    "duration": 2,
    "start_time": "2022-11-17T19:57:12.458Z"
   },
   {
    "duration": 95,
    "start_time": "2022-11-17T19:57:12.462Z"
   },
   {
    "duration": 3,
    "start_time": "2022-11-17T19:57:12.559Z"
   },
   {
    "duration": 91,
    "start_time": "2022-11-17T19:57:12.563Z"
   },
   {
    "duration": 3,
    "start_time": "2022-11-17T19:57:12.655Z"
   },
   {
    "duration": 110,
    "start_time": "2022-11-17T19:57:12.660Z"
   },
   {
    "duration": 3,
    "start_time": "2022-11-17T19:57:12.771Z"
   },
   {
    "duration": 102,
    "start_time": "2022-11-17T19:57:12.775Z"
   },
   {
    "duration": 3,
    "start_time": "2022-11-17T19:58:45.306Z"
   },
   {
    "duration": 83,
    "start_time": "2022-11-17T19:58:46.236Z"
   },
   {
    "duration": 3,
    "start_time": "2022-11-17T19:59:11.976Z"
   },
   {
    "duration": 198,
    "start_time": "2022-11-17T19:59:13.037Z"
   },
   {
    "duration": 3,
    "start_time": "2022-11-17T19:59:27.736Z"
   },
   {
    "duration": 76,
    "start_time": "2022-11-17T19:59:28.567Z"
   },
   {
    "duration": 3,
    "start_time": "2022-11-17T19:59:39.946Z"
   },
   {
    "duration": 78,
    "start_time": "2022-11-17T19:59:40.965Z"
   },
   {
    "duration": 3,
    "start_time": "2022-11-17T19:59:49.297Z"
   },
   {
    "duration": 93,
    "start_time": "2022-11-17T19:59:50.186Z"
   },
   {
    "duration": 3,
    "start_time": "2022-11-17T20:00:02.677Z"
   },
   {
    "duration": 79,
    "start_time": "2022-11-17T20:00:04.417Z"
   },
   {
    "duration": 50,
    "start_time": "2022-11-18T04:56:00.631Z"
   },
   {
    "duration": 7886,
    "start_time": "2022-11-18T04:56:05.237Z"
   },
   {
    "duration": 2,
    "start_time": "2022-11-18T04:56:13.125Z"
   },
   {
    "duration": 61,
    "start_time": "2022-11-18T04:56:13.129Z"
   },
   {
    "duration": 2,
    "start_time": "2022-11-18T04:56:13.192Z"
   },
   {
    "duration": 15,
    "start_time": "2022-11-18T04:56:13.195Z"
   },
   {
    "duration": 2,
    "start_time": "2022-11-18T04:56:13.211Z"
   },
   {
    "duration": 14,
    "start_time": "2022-11-18T04:56:13.214Z"
   },
   {
    "duration": 2,
    "start_time": "2022-11-18T04:56:13.230Z"
   },
   {
    "duration": 26,
    "start_time": "2022-11-18T04:56:13.233Z"
   },
   {
    "duration": 2,
    "start_time": "2022-11-18T04:56:13.261Z"
   },
   {
    "duration": 19,
    "start_time": "2022-11-18T04:56:13.265Z"
   },
   {
    "duration": 2,
    "start_time": "2022-11-18T04:56:13.285Z"
   },
   {
    "duration": 16,
    "start_time": "2022-11-18T04:56:13.288Z"
   },
   {
    "duration": 2,
    "start_time": "2022-11-18T04:56:13.305Z"
   },
   {
    "duration": 33,
    "start_time": "2022-11-18T04:56:13.308Z"
   },
   {
    "duration": 2,
    "start_time": "2022-11-18T04:56:13.343Z"
   },
   {
    "duration": 12,
    "start_time": "2022-11-18T04:56:13.347Z"
   },
   {
    "duration": 2,
    "start_time": "2022-11-18T04:56:13.360Z"
   },
   {
    "duration": 19,
    "start_time": "2022-11-18T04:56:13.363Z"
   },
   {
    "duration": 2,
    "start_time": "2022-11-18T04:56:13.383Z"
   },
   {
    "duration": 29,
    "start_time": "2022-11-18T04:56:13.386Z"
   },
   {
    "duration": 26,
    "start_time": "2022-11-18T04:57:31.293Z"
   },
   {
    "duration": 25,
    "start_time": "2022-11-18T04:58:16.915Z"
   },
   {
    "duration": 8013,
    "start_time": "2022-11-18T04:58:27.537Z"
   },
   {
    "duration": 3,
    "start_time": "2022-11-18T04:58:35.552Z"
   },
   {
    "duration": 61,
    "start_time": "2022-11-18T04:58:35.556Z"
   },
   {
    "duration": 3,
    "start_time": "2022-11-18T04:58:35.619Z"
   },
   {
    "duration": 30,
    "start_time": "2022-11-18T04:58:35.623Z"
   },
   {
    "duration": 3,
    "start_time": "2022-11-18T04:58:35.654Z"
   },
   {
    "duration": 17,
    "start_time": "2022-11-18T04:58:35.658Z"
   },
   {
    "duration": 3,
    "start_time": "2022-11-18T04:58:35.677Z"
   },
   {
    "duration": 40,
    "start_time": "2022-11-18T04:58:35.681Z"
   },
   {
    "duration": 2,
    "start_time": "2022-11-18T04:58:35.723Z"
   },
   {
    "duration": 23,
    "start_time": "2022-11-18T04:58:35.727Z"
   },
   {
    "duration": 3,
    "start_time": "2022-11-18T04:58:35.753Z"
   },
   {
    "duration": 21,
    "start_time": "2022-11-18T04:58:35.758Z"
   },
   {
    "duration": 13,
    "start_time": "2022-11-18T04:58:35.781Z"
   },
   {
    "duration": 43,
    "start_time": "2022-11-18T04:58:35.796Z"
   },
   {
    "duration": 3,
    "start_time": "2022-11-18T04:58:35.841Z"
   },
   {
    "duration": 20,
    "start_time": "2022-11-18T04:58:35.846Z"
   },
   {
    "duration": 3,
    "start_time": "2022-11-18T04:58:35.868Z"
   },
   {
    "duration": 21,
    "start_time": "2022-11-18T04:58:35.873Z"
   },
   {
    "duration": 2,
    "start_time": "2022-11-18T04:58:35.895Z"
   },
   {
    "duration": 34,
    "start_time": "2022-11-18T04:58:35.899Z"
   },
   {
    "duration": 4,
    "start_time": "2022-11-18T05:07:24.428Z"
   },
   {
    "duration": 2,
    "start_time": "2022-11-18T05:08:29.468Z"
   },
   {
    "duration": 25,
    "start_time": "2022-11-18T05:08:30.155Z"
   },
   {
    "duration": 3,
    "start_time": "2022-11-18T05:09:30.069Z"
   },
   {
    "duration": 26,
    "start_time": "2022-11-18T05:09:30.650Z"
   },
   {
    "duration": 2,
    "start_time": "2022-11-18T05:09:37.782Z"
   },
   {
    "duration": 25,
    "start_time": "2022-11-18T05:09:38.471Z"
   },
   {
    "duration": 2,
    "start_time": "2022-11-18T05:12:24.254Z"
   },
   {
    "duration": 153,
    "start_time": "2022-11-18T05:12:24.889Z"
   },
   {
    "duration": 3,
    "start_time": "2022-11-18T05:12:32.220Z"
   },
   {
    "duration": 94,
    "start_time": "2022-11-18T05:12:32.706Z"
   },
   {
    "duration": 2,
    "start_time": "2022-11-18T05:12:51.263Z"
   },
   {
    "duration": 32,
    "start_time": "2022-11-18T05:12:51.748Z"
   },
   {
    "duration": 4,
    "start_time": "2022-11-18T05:13:05.716Z"
   },
   {
    "duration": 2,
    "start_time": "2022-11-18T05:16:29.332Z"
   },
   {
    "duration": 24,
    "start_time": "2022-11-18T05:16:29.932Z"
   },
   {
    "duration": 3,
    "start_time": "2022-11-18T05:16:56.204Z"
   },
   {
    "duration": 26,
    "start_time": "2022-11-18T05:16:56.834Z"
   },
   {
    "duration": 3,
    "start_time": "2022-11-18T05:17:03.084Z"
   },
   {
    "duration": 3,
    "start_time": "2022-11-18T05:17:13.013Z"
   },
   {
    "duration": 25,
    "start_time": "2022-11-18T05:17:13.568Z"
   },
   {
    "duration": 4,
    "start_time": "2022-11-18T05:17:43.951Z"
   },
   {
    "duration": 2,
    "start_time": "2022-11-18T05:18:06.306Z"
   },
   {
    "duration": 25,
    "start_time": "2022-11-18T05:18:06.947Z"
   },
   {
    "duration": 8560,
    "start_time": "2022-11-18T08:08:41.100Z"
   },
   {
    "duration": 3,
    "start_time": "2022-11-18T08:08:49.662Z"
   },
   {
    "duration": 57,
    "start_time": "2022-11-18T08:08:49.666Z"
   },
   {
    "duration": 2,
    "start_time": "2022-11-18T08:08:49.725Z"
   },
   {
    "duration": 15,
    "start_time": "2022-11-18T08:08:49.729Z"
   },
   {
    "duration": 3,
    "start_time": "2022-11-18T08:08:49.745Z"
   },
   {
    "duration": 12,
    "start_time": "2022-11-18T08:08:49.749Z"
   },
   {
    "duration": 2,
    "start_time": "2022-11-18T08:08:49.763Z"
   },
   {
    "duration": 24,
    "start_time": "2022-11-18T08:08:49.766Z"
   },
   {
    "duration": 2,
    "start_time": "2022-11-18T08:08:49.791Z"
   },
   {
    "duration": 21,
    "start_time": "2022-11-18T08:08:49.812Z"
   },
   {
    "duration": 2,
    "start_time": "2022-11-18T08:08:49.834Z"
   },
   {
    "duration": 12,
    "start_time": "2022-11-18T08:08:49.838Z"
   },
   {
    "duration": 2,
    "start_time": "2022-11-18T08:08:49.852Z"
   },
   {
    "duration": 28,
    "start_time": "2022-11-18T08:08:49.856Z"
   },
   {
    "duration": 4,
    "start_time": "2022-11-18T08:08:49.885Z"
   },
   {
    "duration": 4,
    "start_time": "2022-11-18T08:08:49.891Z"
   },
   {
    "duration": 17,
    "start_time": "2022-11-18T08:08:49.897Z"
   },
   {
    "duration": 2,
    "start_time": "2022-11-18T08:08:49.915Z"
   },
   {
    "duration": 16,
    "start_time": "2022-11-18T08:08:49.919Z"
   },
   {
    "duration": 2,
    "start_time": "2022-11-18T08:08:49.936Z"
   },
   {
    "duration": 27,
    "start_time": "2022-11-18T08:08:49.939Z"
   },
   {
    "duration": 3,
    "start_time": "2022-11-18T08:09:55.051Z"
   },
   {
    "duration": 3,
    "start_time": "2022-11-18T08:10:24.443Z"
   },
   {
    "duration": 25,
    "start_time": "2022-11-18T08:10:25.092Z"
   },
   {
    "duration": 4,
    "start_time": "2022-11-18T08:10:29.700Z"
   },
   {
    "duration": 4,
    "start_time": "2022-11-18T08:10:30.474Z"
   },
   {
    "duration": 2,
    "start_time": "2022-11-18T08:10:46.484Z"
   },
   {
    "duration": 24,
    "start_time": "2022-11-18T08:10:47.171Z"
   },
   {
    "duration": 5,
    "start_time": "2022-11-18T08:10:50.718Z"
   },
   {
    "duration": 3,
    "start_time": "2022-11-18T08:10:51.500Z"
   },
   {
    "duration": 3,
    "start_time": "2022-11-18T08:11:49.266Z"
   },
   {
    "duration": 30,
    "start_time": "2022-11-18T08:11:50.293Z"
   },
   {
    "duration": 1238,
    "start_time": "2022-11-18T08:11:53.666Z"
   },
   {
    "duration": 2,
    "start_time": "2022-11-18T08:12:54.240Z"
   },
   {
    "duration": 28,
    "start_time": "2022-11-18T08:12:54.801Z"
   },
   {
    "duration": 4,
    "start_time": "2022-11-18T08:13:01.405Z"
   },
   {
    "duration": 1245,
    "start_time": "2022-11-18T08:13:06.248Z"
   },
   {
    "duration": 2,
    "start_time": "2022-11-18T08:13:55.974Z"
   },
   {
    "duration": 23,
    "start_time": "2022-11-18T08:13:57.470Z"
   },
   {
    "duration": 4,
    "start_time": "2022-11-18T08:14:01.540Z"
   },
   {
    "duration": 6,
    "start_time": "2022-11-18T08:14:06.059Z"
   },
   {
    "duration": 3,
    "start_time": "2022-11-18T08:14:18.981Z"
   },
   {
    "duration": 24,
    "start_time": "2022-11-18T08:14:19.676Z"
   },
   {
    "duration": 5,
    "start_time": "2022-11-18T08:14:24.627Z"
   },
   {
    "duration": 4,
    "start_time": "2022-11-18T08:14:48.805Z"
   },
   {
    "duration": 3,
    "start_time": "2022-11-18T08:15:04.762Z"
   },
   {
    "duration": 31,
    "start_time": "2022-11-18T08:15:05.729Z"
   },
   {
    "duration": 4,
    "start_time": "2022-11-18T08:15:09.231Z"
   },
   {
    "duration": 3,
    "start_time": "2022-11-18T08:15:14.971Z"
   },
   {
    "duration": 112,
    "start_time": "2022-11-18T08:15:15.553Z"
   },
   {
    "duration": 3,
    "start_time": "2022-11-18T08:15:20.163Z"
   },
   {
    "duration": 26,
    "start_time": "2022-11-18T08:15:20.730Z"
   },
   {
    "duration": 4,
    "start_time": "2022-11-18T08:15:24.048Z"
   },
   {
    "duration": 2,
    "start_time": "2022-11-18T08:16:06.061Z"
   },
   {
    "duration": 26,
    "start_time": "2022-11-18T08:16:06.342Z"
   },
   {
    "duration": 5,
    "start_time": "2022-11-18T08:16:10.008Z"
   },
   {
    "duration": 3,
    "start_time": "2022-11-18T08:16:18.678Z"
   },
   {
    "duration": 31,
    "start_time": "2022-11-18T08:16:19.500Z"
   },
   {
    "duration": 4,
    "start_time": "2022-11-18T08:16:24.835Z"
   },
   {
    "duration": 2,
    "start_time": "2022-11-18T08:16:39.983Z"
   },
   {
    "duration": 24,
    "start_time": "2022-11-18T08:16:40.529Z"
   },
   {
    "duration": 2,
    "start_time": "2022-11-18T08:19:11.943Z"
   },
   {
    "duration": 13,
    "start_time": "2022-11-18T08:19:12.593Z"
   },
   {
    "duration": 4,
    "start_time": "2022-11-18T08:19:31.689Z"
   },
   {
    "duration": 14,
    "start_time": "2022-11-18T08:19:32.178Z"
   },
   {
    "duration": 2,
    "start_time": "2022-11-18T08:19:52.308Z"
   },
   {
    "duration": 24,
    "start_time": "2022-11-18T08:19:52.842Z"
   },
   {
    "duration": 5,
    "start_time": "2022-11-18T08:19:58.101Z"
   },
   {
    "duration": 2,
    "start_time": "2022-11-18T08:20:08.566Z"
   },
   {
    "duration": 24,
    "start_time": "2022-11-18T08:20:09.183Z"
   },
   {
    "duration": 5,
    "start_time": "2022-11-18T08:20:13.962Z"
   },
   {
    "duration": 3,
    "start_time": "2022-11-18T08:24:04.826Z"
   },
   {
    "duration": 13,
    "start_time": "2022-11-18T08:24:18.330Z"
   },
   {
    "duration": 5,
    "start_time": "2022-11-18T08:24:26.334Z"
   },
   {
    "duration": 11,
    "start_time": "2022-11-18T08:24:26.860Z"
   },
   {
    "duration": 8190,
    "start_time": "2022-11-18T08:25:24.970Z"
   },
   {
    "duration": 3,
    "start_time": "2022-11-18T08:25:33.162Z"
   },
   {
    "duration": 59,
    "start_time": "2022-11-18T08:25:33.166Z"
   },
   {
    "duration": 3,
    "start_time": "2022-11-18T08:25:33.227Z"
   },
   {
    "duration": 14,
    "start_time": "2022-11-18T08:25:33.231Z"
   },
   {
    "duration": 2,
    "start_time": "2022-11-18T08:25:33.246Z"
   },
   {
    "duration": 13,
    "start_time": "2022-11-18T08:25:33.250Z"
   },
   {
    "duration": 2,
    "start_time": "2022-11-18T08:25:33.265Z"
   },
   {
    "duration": 27,
    "start_time": "2022-11-18T08:25:33.268Z"
   },
   {
    "duration": 2,
    "start_time": "2022-11-18T08:25:33.312Z"
   },
   {
    "duration": 23,
    "start_time": "2022-11-18T08:25:33.316Z"
   },
   {
    "duration": 2,
    "start_time": "2022-11-18T08:25:33.341Z"
   },
   {
    "duration": 14,
    "start_time": "2022-11-18T08:25:33.345Z"
   },
   {
    "duration": 2,
    "start_time": "2022-11-18T08:25:33.360Z"
   },
   {
    "duration": 37,
    "start_time": "2022-11-18T08:25:33.364Z"
   },
   {
    "duration": 10,
    "start_time": "2022-11-18T08:25:33.403Z"
   },
   {
    "duration": 12,
    "start_time": "2022-11-18T08:25:33.415Z"
   },
   {
    "duration": 3,
    "start_time": "2022-11-18T08:25:33.429Z"
   },
   {
    "duration": 18,
    "start_time": "2022-11-18T08:25:33.433Z"
   },
   {
    "duration": 2,
    "start_time": "2022-11-18T08:25:33.453Z"
   },
   {
    "duration": 28,
    "start_time": "2022-11-18T08:25:33.456Z"
   },
   {
    "duration": 12,
    "start_time": "2022-11-18T08:26:34.915Z"
   },
   {
    "duration": 164,
    "start_time": "2022-11-18T08:26:45.632Z"
   },
   {
    "duration": 2,
    "start_time": "2022-11-18T08:26:58.627Z"
   },
   {
    "duration": 23,
    "start_time": "2022-11-18T08:26:59.239Z"
   },
   {
    "duration": 4,
    "start_time": "2022-11-18T08:28:37.711Z"
   },
   {
    "duration": 13,
    "start_time": "2022-11-18T08:28:40.138Z"
   },
   {
    "duration": 3,
    "start_time": "2022-11-18T08:29:06.493Z"
   },
   {
    "duration": 12,
    "start_time": "2022-11-18T08:29:07.072Z"
   },
   {
    "duration": 3,
    "start_time": "2022-11-18T08:29:23.246Z"
   },
   {
    "duration": 11,
    "start_time": "2022-11-18T08:29:23.718Z"
   },
   {
    "duration": 2,
    "start_time": "2022-11-18T08:29:39.293Z"
   },
   {
    "duration": 14,
    "start_time": "2022-11-18T08:29:39.774Z"
   },
   {
    "duration": 5,
    "start_time": "2022-11-18T08:30:03.231Z"
   },
   {
    "duration": 109,
    "start_time": "2022-11-18T08:30:03.861Z"
   },
   {
    "duration": 3,
    "start_time": "2022-11-18T08:30:10.556Z"
   },
   {
    "duration": 11,
    "start_time": "2022-11-18T08:30:11.194Z"
   },
   {
    "duration": 3,
    "start_time": "2022-11-18T08:30:18.298Z"
   },
   {
    "duration": 16,
    "start_time": "2022-11-18T08:30:20.231Z"
   },
   {
    "duration": 3,
    "start_time": "2022-11-18T08:30:32.210Z"
   },
   {
    "duration": 12,
    "start_time": "2022-11-18T08:30:32.632Z"
   },
   {
    "duration": 3,
    "start_time": "2022-11-18T08:32:35.290Z"
   },
   {
    "duration": 17,
    "start_time": "2022-11-18T08:32:35.806Z"
   },
   {
    "duration": 3,
    "start_time": "2022-11-18T08:32:49.035Z"
   },
   {
    "duration": 15,
    "start_time": "2022-11-18T08:32:49.631Z"
   },
   {
    "duration": 15604,
    "start_time": "2022-11-18T08:40:28.948Z"
   },
   {
    "duration": 3,
    "start_time": "2022-11-18T08:40:44.554Z"
   },
   {
    "duration": 55,
    "start_time": "2022-11-18T08:40:44.559Z"
   },
   {
    "duration": 3,
    "start_time": "2022-11-18T08:40:44.616Z"
   },
   {
    "duration": 32,
    "start_time": "2022-11-18T08:40:44.621Z"
   },
   {
    "duration": 8,
    "start_time": "2022-11-18T08:40:44.654Z"
   },
   {
    "duration": 33,
    "start_time": "2022-11-18T08:40:44.663Z"
   },
   {
    "duration": 16,
    "start_time": "2022-11-18T08:40:44.698Z"
   },
   {
    "duration": 45,
    "start_time": "2022-11-18T08:40:44.715Z"
   },
   {
    "duration": 2,
    "start_time": "2022-11-18T08:40:44.762Z"
   },
   {
    "duration": 23,
    "start_time": "2022-11-18T08:40:44.765Z"
   },
   {
    "duration": 3,
    "start_time": "2022-11-18T08:40:44.789Z"
   },
   {
    "duration": 13,
    "start_time": "2022-11-18T08:40:44.793Z"
   },
   {
    "duration": 2,
    "start_time": "2022-11-18T08:40:44.808Z"
   },
   {
    "duration": 44,
    "start_time": "2022-11-18T08:40:44.811Z"
   },
   {
    "duration": 3,
    "start_time": "2022-11-18T08:40:44.856Z"
   },
   {
    "duration": 15,
    "start_time": "2022-11-18T08:40:44.860Z"
   },
   {
    "duration": 3,
    "start_time": "2022-11-18T08:40:44.877Z"
   },
   {
    "duration": 197,
    "start_time": "2022-11-18T08:40:44.881Z"
   },
   {
    "duration": 0,
    "start_time": "2022-11-18T08:40:45.080Z"
   },
   {
    "duration": 0,
    "start_time": "2022-11-18T08:40:45.081Z"
   },
   {
    "duration": 3,
    "start_time": "2022-11-18T08:43:30.352Z"
   },
   {
    "duration": 15,
    "start_time": "2022-11-18T08:43:30.834Z"
   },
   {
    "duration": 3,
    "start_time": "2022-11-18T08:45:51.563Z"
   },
   {
    "duration": 94,
    "start_time": "2022-11-18T08:46:02.542Z"
   },
   {
    "duration": 3,
    "start_time": "2022-11-18T08:46:30.622Z"
   },
   {
    "duration": 13,
    "start_time": "2022-11-18T08:46:31.056Z"
   },
   {
    "duration": 2,
    "start_time": "2022-11-18T08:47:44.242Z"
   },
   {
    "duration": 18,
    "start_time": "2022-11-18T08:47:44.246Z"
   },
   {
    "duration": 2,
    "start_time": "2022-11-18T08:48:07.780Z"
   },
   {
    "duration": 15,
    "start_time": "2022-11-18T08:48:09.274Z"
   },
   {
    "duration": 3,
    "start_time": "2022-11-18T08:50:01.589Z"
   },
   {
    "duration": 21,
    "start_time": "2022-11-18T08:50:01.631Z"
   },
   {
    "duration": 3,
    "start_time": "2022-11-18T08:50:09.512Z"
   },
   {
    "duration": 13,
    "start_time": "2022-11-18T08:50:10.083Z"
   },
   {
    "duration": 2,
    "start_time": "2022-11-18T08:50:17.272Z"
   },
   {
    "duration": 13,
    "start_time": "2022-11-18T08:50:17.700Z"
   },
   {
    "duration": 3,
    "start_time": "2022-11-18T08:52:17.995Z"
   },
   {
    "duration": 111,
    "start_time": "2022-11-18T08:52:18.875Z"
   },
   {
    "duration": 3,
    "start_time": "2022-11-18T08:52:41.717Z"
   },
   {
    "duration": 121,
    "start_time": "2022-11-18T08:52:42.373Z"
   },
   {
    "duration": 3,
    "start_time": "2022-11-18T08:53:09.925Z"
   },
   {
    "duration": 103,
    "start_time": "2022-11-18T08:53:10.410Z"
   },
   {
    "duration": 3,
    "start_time": "2022-11-18T08:54:00.156Z"
   },
   {
    "duration": 95,
    "start_time": "2022-11-18T08:54:00.689Z"
   },
   {
    "duration": 2,
    "start_time": "2022-11-18T08:54:14.077Z"
   },
   {
    "duration": 94,
    "start_time": "2022-11-18T08:54:14.740Z"
   },
   {
    "duration": 3,
    "start_time": "2022-11-18T08:58:08.036Z"
   },
   {
    "duration": 83,
    "start_time": "2022-11-18T08:58:08.629Z"
   },
   {
    "duration": 3,
    "start_time": "2022-11-18T08:58:24.847Z"
   },
   {
    "duration": 85,
    "start_time": "2022-11-18T08:58:25.422Z"
   },
   {
    "duration": 3,
    "start_time": "2022-11-18T08:58:39.179Z"
   },
   {
    "duration": 16,
    "start_time": "2022-11-18T08:58:39.743Z"
   },
   {
    "duration": 3,
    "start_time": "2022-11-18T09:04:03.057Z"
   },
   {
    "duration": 90,
    "start_time": "2022-11-18T09:04:03.593Z"
   },
   {
    "duration": 3,
    "start_time": "2022-11-18T09:04:10.754Z"
   },
   {
    "duration": 100,
    "start_time": "2022-11-18T09:04:11.351Z"
   },
   {
    "duration": 3,
    "start_time": "2022-11-18T09:04:19.852Z"
   },
   {
    "duration": 125,
    "start_time": "2022-11-18T09:04:20.330Z"
   },
   {
    "duration": 2,
    "start_time": "2022-11-18T09:04:24.230Z"
   },
   {
    "duration": 99,
    "start_time": "2022-11-18T09:04:24.710Z"
   },
   {
    "duration": 3,
    "start_time": "2022-11-18T09:04:49.066Z"
   },
   {
    "duration": 98,
    "start_time": "2022-11-18T09:04:49.546Z"
   },
   {
    "duration": 2,
    "start_time": "2022-11-18T09:06:11.304Z"
   },
   {
    "duration": 97,
    "start_time": "2022-11-18T09:06:14.647Z"
   },
   {
    "duration": 3,
    "start_time": "2022-11-18T09:06:48.907Z"
   },
   {
    "duration": 16,
    "start_time": "2022-11-18T09:06:49.535Z"
   },
   {
    "duration": 2,
    "start_time": "2022-11-18T09:11:22.008Z"
   },
   {
    "duration": 108,
    "start_time": "2022-11-18T09:11:22.496Z"
   },
   {
    "duration": 3,
    "start_time": "2022-11-18T09:11:43.528Z"
   },
   {
    "duration": 31,
    "start_time": "2022-11-18T09:11:43.906Z"
   },
   {
    "duration": 3,
    "start_time": "2022-11-18T09:15:48.157Z"
   },
   {
    "duration": 110,
    "start_time": "2022-11-18T09:15:49.460Z"
   },
   {
    "duration": 3,
    "start_time": "2022-11-18T09:15:56.243Z"
   },
   {
    "duration": 40,
    "start_time": "2022-11-18T09:15:56.762Z"
   },
   {
    "duration": 3,
    "start_time": "2022-11-18T09:21:26.726Z"
   },
   {
    "duration": 94,
    "start_time": "2022-11-18T09:21:27.534Z"
   },
   {
    "duration": 2,
    "start_time": "2022-11-18T09:21:33.747Z"
   },
   {
    "duration": 13,
    "start_time": "2022-11-18T09:21:34.267Z"
   },
   {
    "duration": 2,
    "start_time": "2022-11-18T09:22:21.500Z"
   },
   {
    "duration": 12,
    "start_time": "2022-11-18T09:22:21.990Z"
   },
   {
    "duration": 2,
    "start_time": "2022-11-18T09:36:21.016Z"
   },
   {
    "duration": 92,
    "start_time": "2022-11-18T09:36:25.060Z"
   },
   {
    "duration": 2,
    "start_time": "2022-11-18T09:36:39.787Z"
   },
   {
    "duration": 97,
    "start_time": "2022-11-18T09:36:40.393Z"
   },
   {
    "duration": 3,
    "start_time": "2022-11-18T09:37:00.081Z"
   },
   {
    "duration": 96,
    "start_time": "2022-11-18T09:37:01.241Z"
   },
   {
    "duration": 2,
    "start_time": "2022-11-18T09:37:33.721Z"
   },
   {
    "duration": 81,
    "start_time": "2022-11-18T09:37:34.369Z"
   },
   {
    "duration": 3,
    "start_time": "2022-11-18T09:43:51.746Z"
   },
   {
    "duration": 94,
    "start_time": "2022-11-18T09:43:52.307Z"
   },
   {
    "duration": 3,
    "start_time": "2022-11-18T09:46:36.083Z"
   },
   {
    "duration": 86,
    "start_time": "2022-11-18T09:46:36.698Z"
   },
   {
    "duration": 3,
    "start_time": "2022-11-18T09:47:41.656Z"
   },
   {
    "duration": 143,
    "start_time": "2022-11-18T09:47:42.420Z"
   },
   {
    "duration": 2,
    "start_time": "2022-11-18T09:47:46.413Z"
   },
   {
    "duration": 42,
    "start_time": "2022-11-18T09:47:46.864Z"
   },
   {
    "duration": 3,
    "start_time": "2022-11-18T09:49:37.782Z"
   },
   {
    "duration": 35,
    "start_time": "2022-11-18T09:49:38.234Z"
   },
   {
    "duration": 3,
    "start_time": "2022-11-18T09:52:07.089Z"
   },
   {
    "duration": 35,
    "start_time": "2022-11-18T09:52:07.710Z"
   },
   {
    "duration": 3,
    "start_time": "2022-11-18T09:53:35.648Z"
   },
   {
    "duration": 35,
    "start_time": "2022-11-18T09:53:36.078Z"
   },
   {
    "duration": 8662,
    "start_time": "2022-11-18T09:53:53.495Z"
   },
   {
    "duration": 2,
    "start_time": "2022-11-18T09:54:02.159Z"
   },
   {
    "duration": 89,
    "start_time": "2022-11-18T09:54:02.163Z"
   },
   {
    "duration": 2,
    "start_time": "2022-11-18T09:54:02.255Z"
   },
   {
    "duration": 12,
    "start_time": "2022-11-18T09:54:02.259Z"
   },
   {
    "duration": 2,
    "start_time": "2022-11-18T09:54:02.273Z"
   },
   {
    "duration": 11,
    "start_time": "2022-11-18T09:54:02.277Z"
   },
   {
    "duration": 2,
    "start_time": "2022-11-18T09:54:02.290Z"
   },
   {
    "duration": 24,
    "start_time": "2022-11-18T09:54:02.294Z"
   },
   {
    "duration": 1,
    "start_time": "2022-11-18T09:54:02.321Z"
   },
   {
    "duration": 20,
    "start_time": "2022-11-18T09:54:02.324Z"
   },
   {
    "duration": 2,
    "start_time": "2022-11-18T09:54:02.346Z"
   },
   {
    "duration": 15,
    "start_time": "2022-11-18T09:54:02.350Z"
   },
   {
    "duration": 3,
    "start_time": "2022-11-18T09:54:02.366Z"
   },
   {
    "duration": 28,
    "start_time": "2022-11-18T09:54:02.371Z"
   },
   {
    "duration": 12,
    "start_time": "2022-11-18T09:54:02.401Z"
   },
   {
    "duration": 11,
    "start_time": "2022-11-18T09:54:02.414Z"
   },
   {
    "duration": 3,
    "start_time": "2022-11-18T09:54:02.426Z"
   },
   {
    "duration": 21,
    "start_time": "2022-11-18T09:54:02.430Z"
   },
   {
    "duration": 2,
    "start_time": "2022-11-18T09:54:02.452Z"
   },
   {
    "duration": 36,
    "start_time": "2022-11-18T09:54:02.456Z"
   },
   {
    "duration": 2,
    "start_time": "2022-11-18T09:54:42.348Z"
   },
   {
    "duration": 39,
    "start_time": "2022-11-18T09:54:42.756Z"
   },
   {
    "duration": 2,
    "start_time": "2022-11-18T09:56:27.339Z"
   },
   {
    "duration": 40,
    "start_time": "2022-11-18T09:56:27.819Z"
   },
   {
    "duration": 3,
    "start_time": "2022-11-18T09:56:50.255Z"
   },
   {
    "duration": 35,
    "start_time": "2022-11-18T09:56:53.069Z"
   },
   {
    "duration": 3,
    "start_time": "2022-11-18T09:57:00.196Z"
   },
   {
    "duration": 35,
    "start_time": "2022-11-18T09:57:02.823Z"
   },
   {
    "duration": 2,
    "start_time": "2022-11-18T09:57:11.788Z"
   },
   {
    "duration": 36,
    "start_time": "2022-11-18T09:57:12.507Z"
   },
   {
    "duration": 2,
    "start_time": "2022-11-18T09:57:45.357Z"
   },
   {
    "duration": 35,
    "start_time": "2022-11-18T09:57:45.737Z"
   },
   {
    "duration": 8760,
    "start_time": "2022-11-18T10:02:16.173Z"
   },
   {
    "duration": 3,
    "start_time": "2022-11-18T10:02:24.935Z"
   },
   {
    "duration": 63,
    "start_time": "2022-11-18T10:02:24.940Z"
   },
   {
    "duration": 2,
    "start_time": "2022-11-18T10:02:25.005Z"
   },
   {
    "duration": 15,
    "start_time": "2022-11-18T10:02:25.010Z"
   },
   {
    "duration": 3,
    "start_time": "2022-11-18T10:02:25.026Z"
   },
   {
    "duration": 15,
    "start_time": "2022-11-18T10:02:25.030Z"
   },
   {
    "duration": 3,
    "start_time": "2022-11-18T10:02:25.046Z"
   },
   {
    "duration": 28,
    "start_time": "2022-11-18T10:02:25.050Z"
   },
   {
    "duration": 2,
    "start_time": "2022-11-18T10:02:25.080Z"
   },
   {
    "duration": 29,
    "start_time": "2022-11-18T10:02:25.084Z"
   },
   {
    "duration": 2,
    "start_time": "2022-11-18T10:02:25.115Z"
   },
   {
    "duration": 16,
    "start_time": "2022-11-18T10:02:25.118Z"
   },
   {
    "duration": 2,
    "start_time": "2022-11-18T10:02:25.136Z"
   },
   {
    "duration": 32,
    "start_time": "2022-11-18T10:02:25.140Z"
   },
   {
    "duration": 2,
    "start_time": "2022-11-18T10:02:25.174Z"
   },
   {
    "duration": 15,
    "start_time": "2022-11-18T10:02:25.178Z"
   },
   {
    "duration": 2,
    "start_time": "2022-11-18T10:02:25.194Z"
   },
   {
    "duration": 20,
    "start_time": "2022-11-18T10:02:25.198Z"
   },
   {
    "duration": 3,
    "start_time": "2022-11-18T10:02:25.219Z"
   },
   {
    "duration": 44,
    "start_time": "2022-11-18T10:02:25.223Z"
   },
   {
    "duration": 40,
    "start_time": "2022-11-18T10:03:12.944Z"
   },
   {
    "duration": 38,
    "start_time": "2022-11-18T10:03:26.637Z"
   },
   {
    "duration": 8268,
    "start_time": "2022-11-18T10:07:05.110Z"
   },
   {
    "duration": 3,
    "start_time": "2022-11-18T10:07:13.380Z"
   },
   {
    "duration": 46,
    "start_time": "2022-11-18T10:07:13.384Z"
   },
   {
    "duration": 2,
    "start_time": "2022-11-18T10:07:13.432Z"
   },
   {
    "duration": 18,
    "start_time": "2022-11-18T10:07:13.436Z"
   },
   {
    "duration": 2,
    "start_time": "2022-11-18T10:07:13.456Z"
   },
   {
    "duration": 13,
    "start_time": "2022-11-18T10:07:13.460Z"
   },
   {
    "duration": 5,
    "start_time": "2022-11-18T10:07:13.474Z"
   },
   {
    "duration": 25,
    "start_time": "2022-11-18T10:07:13.480Z"
   },
   {
    "duration": 2,
    "start_time": "2022-11-18T10:07:13.514Z"
   },
   {
    "duration": 25,
    "start_time": "2022-11-18T10:07:13.517Z"
   },
   {
    "duration": 2,
    "start_time": "2022-11-18T10:07:13.543Z"
   },
   {
    "duration": 13,
    "start_time": "2022-11-18T10:07:13.547Z"
   },
   {
    "duration": 2,
    "start_time": "2022-11-18T10:07:13.562Z"
   },
   {
    "duration": 31,
    "start_time": "2022-11-18T10:07:13.566Z"
   },
   {
    "duration": 2,
    "start_time": "2022-11-18T10:07:13.599Z"
   },
   {
    "duration": 17,
    "start_time": "2022-11-18T10:07:13.603Z"
   },
   {
    "duration": 2,
    "start_time": "2022-11-18T10:07:13.622Z"
   },
   {
    "duration": 18,
    "start_time": "2022-11-18T10:07:13.625Z"
   },
   {
    "duration": 2,
    "start_time": "2022-11-18T10:07:13.644Z"
   },
   {
    "duration": 41,
    "start_time": "2022-11-18T10:07:13.647Z"
   },
   {
    "duration": 5772,
    "start_time": "2022-11-18T13:45:36.737Z"
   },
   {
    "duration": 3,
    "start_time": "2022-11-18T13:45:42.511Z"
   },
   {
    "duration": 291,
    "start_time": "2022-11-18T13:45:42.515Z"
   },
   {
    "duration": 2,
    "start_time": "2022-11-18T13:45:42.808Z"
   },
   {
    "duration": 78,
    "start_time": "2022-11-18T13:45:42.812Z"
   },
   {
    "duration": 3,
    "start_time": "2022-11-18T13:45:42.891Z"
   },
   {
    "duration": 75,
    "start_time": "2022-11-18T13:45:42.896Z"
   },
   {
    "duration": 3,
    "start_time": "2022-11-18T13:45:42.973Z"
   },
   {
    "duration": 102,
    "start_time": "2022-11-18T13:45:42.977Z"
   },
   {
    "duration": 3,
    "start_time": "2022-11-18T13:45:43.081Z"
   },
   {
    "duration": 96,
    "start_time": "2022-11-18T13:45:43.085Z"
   },
   {
    "duration": 3,
    "start_time": "2022-11-18T13:45:43.183Z"
   },
   {
    "duration": 81,
    "start_time": "2022-11-18T13:45:43.187Z"
   },
   {
    "duration": 3,
    "start_time": "2022-11-18T13:45:43.271Z"
   },
   {
    "duration": 93,
    "start_time": "2022-11-18T13:45:43.276Z"
   },
   {
    "duration": 2,
    "start_time": "2022-11-18T13:45:43.371Z"
   },
   {
    "duration": 77,
    "start_time": "2022-11-18T13:45:43.375Z"
   },
   {
    "duration": 2,
    "start_time": "2022-11-18T13:45:43.454Z"
   },
   {
    "duration": 84,
    "start_time": "2022-11-18T13:45:43.458Z"
   },
   {
    "duration": 3,
    "start_time": "2022-11-18T13:45:43.543Z"
   },
   {
    "duration": 103,
    "start_time": "2022-11-18T13:45:43.547Z"
   },
   {
    "duration": 3,
    "start_time": "2022-11-18T13:47:23.662Z"
   },
   {
    "duration": 81,
    "start_time": "2022-11-18T13:47:24.315Z"
   },
   {
    "duration": 3,
    "start_time": "2022-11-18T13:47:29.335Z"
   },
   {
    "duration": 92,
    "start_time": "2022-11-18T13:47:31.135Z"
   },
   {
    "duration": 2,
    "start_time": "2022-11-18T13:48:38.285Z"
   },
   {
    "duration": 76,
    "start_time": "2022-11-18T13:48:38.965Z"
   },
   {
    "duration": 2,
    "start_time": "2022-11-18T13:48:51.485Z"
   },
   {
    "duration": 99,
    "start_time": "2022-11-18T13:48:52.116Z"
   },
   {
    "duration": 7,
    "start_time": "2022-11-18T15:00:38.693Z"
   },
   {
    "duration": 40,
    "start_time": "2022-11-18T15:00:39.562Z"
   },
   {
    "duration": 8384,
    "start_time": "2022-11-18T15:00:50.364Z"
   },
   {
    "duration": 3,
    "start_time": "2022-11-18T15:00:58.750Z"
   },
   {
    "duration": 94,
    "start_time": "2022-11-18T15:00:58.754Z"
   },
   {
    "duration": 2,
    "start_time": "2022-11-18T15:00:58.850Z"
   },
   {
    "duration": 15,
    "start_time": "2022-11-18T15:00:58.853Z"
   },
   {
    "duration": 2,
    "start_time": "2022-11-18T15:00:58.869Z"
   },
   {
    "duration": 14,
    "start_time": "2022-11-18T15:00:58.872Z"
   },
   {
    "duration": 2,
    "start_time": "2022-11-18T15:00:58.887Z"
   },
   {
    "duration": 28,
    "start_time": "2022-11-18T15:00:58.891Z"
   },
   {
    "duration": 2,
    "start_time": "2022-11-18T15:00:58.922Z"
   },
   {
    "duration": 36,
    "start_time": "2022-11-18T15:00:58.925Z"
   },
   {
    "duration": 2,
    "start_time": "2022-11-18T15:00:58.963Z"
   },
   {
    "duration": 14,
    "start_time": "2022-11-18T15:00:58.967Z"
   },
   {
    "duration": 3,
    "start_time": "2022-11-18T15:00:58.982Z"
   },
   {
    "duration": 33,
    "start_time": "2022-11-18T15:00:58.986Z"
   },
   {
    "duration": 2,
    "start_time": "2022-11-18T15:00:59.021Z"
   },
   {
    "duration": 15,
    "start_time": "2022-11-18T15:00:59.024Z"
   },
   {
    "duration": 3,
    "start_time": "2022-11-18T15:00:59.040Z"
   },
   {
    "duration": 17,
    "start_time": "2022-11-18T15:00:59.044Z"
   },
   {
    "duration": 2,
    "start_time": "2022-11-18T15:00:59.062Z"
   },
   {
    "duration": 43,
    "start_time": "2022-11-18T15:00:59.065Z"
   },
   {
    "duration": 2,
    "start_time": "2022-11-18T15:01:40.533Z"
   },
   {
    "duration": 28,
    "start_time": "2022-11-18T15:01:41.411Z"
   },
   {
    "duration": 2,
    "start_time": "2022-11-18T15:01:52.930Z"
   },
   {
    "duration": 29,
    "start_time": "2022-11-18T15:01:53.532Z"
   },
   {
    "duration": 2,
    "start_time": "2022-11-18T15:06:04.898Z"
   },
   {
    "duration": 13,
    "start_time": "2022-11-18T15:06:05.482Z"
   },
   {
    "duration": 19,
    "start_time": "2022-11-18T15:17:06.144Z"
   },
   {
    "duration": 8649,
    "start_time": "2022-11-18T15:17:27.363Z"
   },
   {
    "duration": 3,
    "start_time": "2022-11-18T15:17:36.013Z"
   },
   {
    "duration": 78,
    "start_time": "2022-11-18T15:17:36.017Z"
   },
   {
    "duration": 3,
    "start_time": "2022-11-18T15:17:36.098Z"
   },
   {
    "duration": 30,
    "start_time": "2022-11-18T15:17:36.103Z"
   },
   {
    "duration": 8,
    "start_time": "2022-11-18T15:17:36.134Z"
   },
   {
    "duration": 31,
    "start_time": "2022-11-18T15:17:36.144Z"
   },
   {
    "duration": 7,
    "start_time": "2022-11-18T15:17:36.177Z"
   },
   {
    "duration": 35,
    "start_time": "2022-11-18T15:17:36.185Z"
   },
   {
    "duration": 2,
    "start_time": "2022-11-18T15:17:36.224Z"
   },
   {
    "duration": 26,
    "start_time": "2022-11-18T15:17:36.229Z"
   },
   {
    "duration": 2,
    "start_time": "2022-11-18T15:17:36.258Z"
   },
   {
    "duration": 25,
    "start_time": "2022-11-18T15:17:36.262Z"
   },
   {
    "duration": 22,
    "start_time": "2022-11-18T15:17:36.289Z"
   },
   {
    "duration": 77,
    "start_time": "2022-11-18T15:17:36.313Z"
   },
   {
    "duration": 3,
    "start_time": "2022-11-18T15:17:36.392Z"
   },
   {
    "duration": 41,
    "start_time": "2022-11-18T15:17:36.396Z"
   },
   {
    "duration": 3,
    "start_time": "2022-11-18T15:17:36.438Z"
   },
   {
    "duration": 36,
    "start_time": "2022-11-18T15:17:36.442Z"
   },
   {
    "duration": 3,
    "start_time": "2022-11-18T15:17:36.479Z"
   },
   {
    "duration": 28,
    "start_time": "2022-11-18T15:17:36.484Z"
   },
   {
    "duration": 3,
    "start_time": "2022-11-18T15:35:17.588Z"
   },
   {
    "duration": 224,
    "start_time": "2022-11-18T15:35:18.064Z"
   },
   {
    "duration": 2,
    "start_time": "2022-11-18T15:35:40.729Z"
   },
   {
    "duration": 79,
    "start_time": "2022-11-18T15:35:41.458Z"
   },
   {
    "duration": 2,
    "start_time": "2022-11-18T15:36:59.309Z"
   },
   {
    "duration": 90,
    "start_time": "2022-11-18T15:36:59.745Z"
   },
   {
    "duration": 3,
    "start_time": "2022-11-18T15:37:11.995Z"
   },
   {
    "duration": 72,
    "start_time": "2022-11-18T15:37:12.979Z"
   },
   {
    "duration": 3,
    "start_time": "2022-11-18T15:37:23.629Z"
   },
   {
    "duration": 3,
    "start_time": "2022-11-18T15:37:27.059Z"
   },
   {
    "duration": 69,
    "start_time": "2022-11-18T15:37:27.504Z"
   },
   {
    "duration": 3,
    "start_time": "2022-11-18T15:37:52.368Z"
   },
   {
    "duration": 75,
    "start_time": "2022-11-18T15:37:52.876Z"
   },
   {
    "duration": 3,
    "start_time": "2022-11-18T15:38:15.090Z"
   },
   {
    "duration": 15,
    "start_time": "2022-11-18T15:38:15.654Z"
   },
   {
    "duration": 3,
    "start_time": "2022-11-18T15:38:24.225Z"
   },
   {
    "duration": 79,
    "start_time": "2022-11-18T15:38:25.600Z"
   },
   {
    "duration": 2,
    "start_time": "2022-11-18T15:39:19.284Z"
   },
   {
    "duration": 21,
    "start_time": "2022-11-18T15:39:19.859Z"
   },
   {
    "duration": 2,
    "start_time": "2022-11-18T15:39:41.170Z"
   },
   {
    "duration": 14,
    "start_time": "2022-11-18T15:39:41.767Z"
   },
   {
    "duration": 8303,
    "start_time": "2022-11-18T15:41:27.833Z"
   },
   {
    "duration": 11,
    "start_time": "2022-11-18T15:41:36.138Z"
   },
   {
    "duration": 54,
    "start_time": "2022-11-18T15:41:36.150Z"
   },
   {
    "duration": 2,
    "start_time": "2022-11-18T15:41:36.206Z"
   },
   {
    "duration": 16,
    "start_time": "2022-11-18T15:41:36.210Z"
   },
   {
    "duration": 2,
    "start_time": "2022-11-18T15:41:36.228Z"
   },
   {
    "duration": 13,
    "start_time": "2022-11-18T15:41:36.232Z"
   },
   {
    "duration": 2,
    "start_time": "2022-11-18T15:41:36.247Z"
   },
   {
    "duration": 31,
    "start_time": "2022-11-18T15:41:36.251Z"
   },
   {
    "duration": 2,
    "start_time": "2022-11-18T15:41:36.284Z"
   },
   {
    "duration": 23,
    "start_time": "2022-11-18T15:41:36.288Z"
   },
   {
    "duration": 2,
    "start_time": "2022-11-18T15:41:36.313Z"
   },
   {
    "duration": 13,
    "start_time": "2022-11-18T15:41:36.316Z"
   },
   {
    "duration": 2,
    "start_time": "2022-11-18T15:41:36.330Z"
   },
   {
    "duration": 37,
    "start_time": "2022-11-18T15:41:36.334Z"
   },
   {
    "duration": 2,
    "start_time": "2022-11-18T15:41:36.372Z"
   },
   {
    "duration": 14,
    "start_time": "2022-11-18T15:41:36.376Z"
   },
   {
    "duration": 2,
    "start_time": "2022-11-18T15:41:36.392Z"
   },
   {
    "duration": 19,
    "start_time": "2022-11-18T15:41:36.396Z"
   },
   {
    "duration": 2,
    "start_time": "2022-11-18T15:41:36.417Z"
   },
   {
    "duration": 5,
    "start_time": "2022-11-18T15:41:36.420Z"
   },
   {
    "duration": 26,
    "start_time": "2022-11-18T15:41:36.426Z"
   },
   {
    "duration": 2,
    "start_time": "2022-11-18T15:41:36.454Z"
   },
   {
    "duration": 15,
    "start_time": "2022-11-18T15:41:36.457Z"
   },
   {
    "duration": 2,
    "start_time": "2022-11-18T15:41:36.474Z"
   },
   {
    "duration": 17,
    "start_time": "2022-11-18T15:41:36.477Z"
   },
   {
    "duration": 8500,
    "start_time": "2022-11-18T15:43:19.940Z"
   },
   {
    "duration": 2,
    "start_time": "2022-11-18T15:43:28.442Z"
   },
   {
    "duration": 62,
    "start_time": "2022-11-18T15:43:28.445Z"
   },
   {
    "duration": 2,
    "start_time": "2022-11-18T15:43:28.509Z"
   },
   {
    "duration": 16,
    "start_time": "2022-11-18T15:43:28.513Z"
   },
   {
    "duration": 3,
    "start_time": "2022-11-18T15:43:28.530Z"
   },
   {
    "duration": 17,
    "start_time": "2022-11-18T15:43:28.534Z"
   },
   {
    "duration": 3,
    "start_time": "2022-11-18T15:43:28.552Z"
   },
   {
    "duration": 30,
    "start_time": "2022-11-18T15:43:28.557Z"
   },
   {
    "duration": 3,
    "start_time": "2022-11-18T15:43:28.589Z"
   },
   {
    "duration": 24,
    "start_time": "2022-11-18T15:43:28.593Z"
   },
   {
    "duration": 3,
    "start_time": "2022-11-18T15:43:28.618Z"
   },
   {
    "duration": 12,
    "start_time": "2022-11-18T15:43:28.623Z"
   },
   {
    "duration": 2,
    "start_time": "2022-11-18T15:43:28.637Z"
   },
   {
    "duration": 34,
    "start_time": "2022-11-18T15:43:28.640Z"
   },
   {
    "duration": 2,
    "start_time": "2022-11-18T15:43:28.676Z"
   },
   {
    "duration": 15,
    "start_time": "2022-11-18T15:43:28.679Z"
   },
   {
    "duration": 3,
    "start_time": "2022-11-18T15:43:28.695Z"
   },
   {
    "duration": 26,
    "start_time": "2022-11-18T15:43:28.699Z"
   },
   {
    "duration": 2,
    "start_time": "2022-11-18T15:43:28.727Z"
   },
   {
    "duration": 18,
    "start_time": "2022-11-18T15:43:28.730Z"
   },
   {
    "duration": 82,
    "start_time": "2022-11-18T15:43:28.749Z"
   },
   {
    "duration": 3,
    "start_time": "2022-11-18T15:43:28.833Z"
   },
   {
    "duration": 27,
    "start_time": "2022-11-18T15:43:28.838Z"
   },
   {
    "duration": 3,
    "start_time": "2022-11-18T15:43:28.867Z"
   },
   {
    "duration": 54,
    "start_time": "2022-11-18T15:43:28.871Z"
   },
   {
    "duration": 8159,
    "start_time": "2022-11-18T15:45:13.261Z"
   },
   {
    "duration": 3,
    "start_time": "2022-11-18T15:45:21.422Z"
   },
   {
    "duration": 51,
    "start_time": "2022-11-18T15:45:21.427Z"
   },
   {
    "duration": 2,
    "start_time": "2022-11-18T15:45:21.480Z"
   },
   {
    "duration": 14,
    "start_time": "2022-11-18T15:45:21.483Z"
   },
   {
    "duration": 3,
    "start_time": "2022-11-18T15:45:21.498Z"
   },
   {
    "duration": 18,
    "start_time": "2022-11-18T15:45:21.502Z"
   },
   {
    "duration": 3,
    "start_time": "2022-11-18T15:45:21.521Z"
   },
   {
    "duration": 29,
    "start_time": "2022-11-18T15:45:21.525Z"
   },
   {
    "duration": 2,
    "start_time": "2022-11-18T15:45:21.556Z"
   },
   {
    "duration": 22,
    "start_time": "2022-11-18T15:45:21.560Z"
   },
   {
    "duration": 2,
    "start_time": "2022-11-18T15:45:21.583Z"
   },
   {
    "duration": 12,
    "start_time": "2022-11-18T15:45:21.587Z"
   },
   {
    "duration": 13,
    "start_time": "2022-11-18T15:45:21.600Z"
   },
   {
    "duration": 34,
    "start_time": "2022-11-18T15:45:21.614Z"
   },
   {
    "duration": 2,
    "start_time": "2022-11-18T15:45:21.650Z"
   },
   {
    "duration": 14,
    "start_time": "2022-11-18T15:45:21.653Z"
   },
   {
    "duration": 2,
    "start_time": "2022-11-18T15:45:21.669Z"
   },
   {
    "duration": 17,
    "start_time": "2022-11-18T15:45:21.673Z"
   },
   {
    "duration": 3,
    "start_time": "2022-11-18T15:45:21.691Z"
   },
   {
    "duration": 3,
    "start_time": "2022-11-18T15:45:21.696Z"
   },
   {
    "duration": 144,
    "start_time": "2022-11-18T15:45:21.701Z"
   },
   {
    "duration": 0,
    "start_time": "2022-11-18T15:45:21.846Z"
   },
   {
    "duration": 0,
    "start_time": "2022-11-18T15:45:21.847Z"
   },
   {
    "duration": 0,
    "start_time": "2022-11-18T15:45:21.849Z"
   },
   {
    "duration": 0,
    "start_time": "2022-11-18T15:45:21.850Z"
   },
   {
    "duration": 3,
    "start_time": "2022-11-18T15:45:42.499Z"
   },
   {
    "duration": 89,
    "start_time": "2022-11-18T15:45:43.174Z"
   },
   {
    "duration": 2,
    "start_time": "2022-11-18T15:46:01.093Z"
   },
   {
    "duration": 23,
    "start_time": "2022-11-18T15:46:01.560Z"
   },
   {
    "duration": 3,
    "start_time": "2022-11-18T15:47:32.255Z"
   },
   {
    "duration": 15,
    "start_time": "2022-11-18T15:47:32.760Z"
   },
   {
    "duration": 8138,
    "start_time": "2022-11-18T15:48:07.138Z"
   },
   {
    "duration": 2,
    "start_time": "2022-11-18T15:48:15.278Z"
   },
   {
    "duration": 72,
    "start_time": "2022-11-18T15:48:15.281Z"
   },
   {
    "duration": 2,
    "start_time": "2022-11-18T15:48:15.355Z"
   },
   {
    "duration": 18,
    "start_time": "2022-11-18T15:48:15.358Z"
   },
   {
    "duration": 2,
    "start_time": "2022-11-18T15:48:15.377Z"
   },
   {
    "duration": 13,
    "start_time": "2022-11-18T15:48:15.381Z"
   },
   {
    "duration": 3,
    "start_time": "2022-11-18T15:48:15.396Z"
   },
   {
    "duration": 34,
    "start_time": "2022-11-18T15:48:15.401Z"
   },
   {
    "duration": 2,
    "start_time": "2022-11-18T15:48:15.439Z"
   },
   {
    "duration": 22,
    "start_time": "2022-11-18T15:48:15.442Z"
   },
   {
    "duration": 2,
    "start_time": "2022-11-18T15:48:15.465Z"
   },
   {
    "duration": 12,
    "start_time": "2022-11-18T15:48:15.469Z"
   },
   {
    "duration": 1,
    "start_time": "2022-11-18T15:48:15.483Z"
   },
   {
    "duration": 33,
    "start_time": "2022-11-18T15:48:15.486Z"
   },
   {
    "duration": 2,
    "start_time": "2022-11-18T15:48:15.520Z"
   },
   {
    "duration": 16,
    "start_time": "2022-11-18T15:48:15.524Z"
   },
   {
    "duration": 2,
    "start_time": "2022-11-18T15:48:15.541Z"
   },
   {
    "duration": 19,
    "start_time": "2022-11-18T15:48:15.544Z"
   },
   {
    "duration": 2,
    "start_time": "2022-11-18T15:48:15.564Z"
   },
   {
    "duration": 4,
    "start_time": "2022-11-18T15:48:15.568Z"
   },
   {
    "duration": 22,
    "start_time": "2022-11-18T15:48:15.573Z"
   },
   {
    "duration": 2,
    "start_time": "2022-11-18T15:48:15.596Z"
   },
   {
    "duration": 16,
    "start_time": "2022-11-18T15:48:15.600Z"
   },
   {
    "duration": 2,
    "start_time": "2022-11-18T15:48:15.617Z"
   },
   {
    "duration": 17,
    "start_time": "2022-11-18T15:48:15.621Z"
   },
   {
    "duration": 2,
    "start_time": "2022-11-18T15:53:36.905Z"
   },
   {
    "duration": 22,
    "start_time": "2022-11-18T15:53:37.480Z"
   },
   {
    "duration": 8360,
    "start_time": "2022-11-18T15:54:10.448Z"
   },
   {
    "duration": 2,
    "start_time": "2022-11-18T15:54:18.810Z"
   },
   {
    "duration": 55,
    "start_time": "2022-11-18T15:54:18.814Z"
   },
   {
    "duration": 3,
    "start_time": "2022-11-18T15:54:18.871Z"
   },
   {
    "duration": 13,
    "start_time": "2022-11-18T15:54:18.876Z"
   },
   {
    "duration": 2,
    "start_time": "2022-11-18T15:54:18.891Z"
   },
   {
    "duration": 13,
    "start_time": "2022-11-18T15:54:18.895Z"
   },
   {
    "duration": 2,
    "start_time": "2022-11-18T15:54:18.909Z"
   },
   {
    "duration": 37,
    "start_time": "2022-11-18T15:54:18.913Z"
   },
   {
    "duration": 2,
    "start_time": "2022-11-18T15:54:18.953Z"
   },
   {
    "duration": 27,
    "start_time": "2022-11-18T15:54:18.956Z"
   },
   {
    "duration": 2,
    "start_time": "2022-11-18T15:54:18.985Z"
   },
   {
    "duration": 15,
    "start_time": "2022-11-18T15:54:18.989Z"
   },
   {
    "duration": 3,
    "start_time": "2022-11-18T15:54:19.005Z"
   },
   {
    "duration": 31,
    "start_time": "2022-11-18T15:54:19.010Z"
   },
   {
    "duration": 3,
    "start_time": "2022-11-18T15:54:19.043Z"
   },
   {
    "duration": 15,
    "start_time": "2022-11-18T15:54:19.047Z"
   },
   {
    "duration": 3,
    "start_time": "2022-11-18T15:54:19.063Z"
   },
   {
    "duration": 20,
    "start_time": "2022-11-18T15:54:19.067Z"
   },
   {
    "duration": 3,
    "start_time": "2022-11-18T15:54:19.088Z"
   },
   {
    "duration": 5,
    "start_time": "2022-11-18T15:54:19.092Z"
   },
   {
    "duration": 23,
    "start_time": "2022-11-18T15:54:19.098Z"
   },
   {
    "duration": 2,
    "start_time": "2022-11-18T15:54:19.123Z"
   },
   {
    "duration": 25,
    "start_time": "2022-11-18T15:54:19.127Z"
   },
   {
    "duration": 3,
    "start_time": "2022-11-18T15:54:19.153Z"
   },
   {
    "duration": 16,
    "start_time": "2022-11-18T15:54:19.157Z"
   },
   {
    "duration": 3,
    "start_time": "2022-11-18T15:54:19.174Z"
   },
   {
    "duration": 18,
    "start_time": "2022-11-18T15:54:19.180Z"
   },
   {
    "duration": 8006,
    "start_time": "2022-11-18T16:08:44.786Z"
   },
   {
    "duration": 3,
    "start_time": "2022-11-18T16:08:52.794Z"
   },
   {
    "duration": 56,
    "start_time": "2022-11-18T16:08:52.798Z"
   },
   {
    "duration": 2,
    "start_time": "2022-11-18T16:08:52.856Z"
   },
   {
    "duration": 14,
    "start_time": "2022-11-18T16:08:52.859Z"
   },
   {
    "duration": 2,
    "start_time": "2022-11-18T16:08:52.874Z"
   },
   {
    "duration": 12,
    "start_time": "2022-11-18T16:08:52.878Z"
   },
   {
    "duration": 2,
    "start_time": "2022-11-18T16:08:52.891Z"
   },
   {
    "duration": 27,
    "start_time": "2022-11-18T16:08:52.894Z"
   },
   {
    "duration": 2,
    "start_time": "2022-11-18T16:08:52.924Z"
   },
   {
    "duration": 25,
    "start_time": "2022-11-18T16:08:52.927Z"
   },
   {
    "duration": 2,
    "start_time": "2022-11-18T16:08:52.954Z"
   },
   {
    "duration": 18,
    "start_time": "2022-11-18T16:08:52.957Z"
   },
   {
    "duration": 2,
    "start_time": "2022-11-18T16:08:52.976Z"
   },
   {
    "duration": 36,
    "start_time": "2022-11-18T16:08:52.980Z"
   },
   {
    "duration": 2,
    "start_time": "2022-11-18T16:08:53.018Z"
   },
   {
    "duration": 15,
    "start_time": "2022-11-18T16:08:53.021Z"
   },
   {
    "duration": 2,
    "start_time": "2022-11-18T16:08:53.037Z"
   },
   {
    "duration": 19,
    "start_time": "2022-11-18T16:08:53.040Z"
   },
   {
    "duration": 2,
    "start_time": "2022-11-18T16:08:53.060Z"
   },
   {
    "duration": 5,
    "start_time": "2022-11-18T16:08:53.064Z"
   },
   {
    "duration": 152,
    "start_time": "2022-11-18T16:08:53.070Z"
   },
   {
    "duration": 0,
    "start_time": "2022-11-18T16:08:53.223Z"
   },
   {
    "duration": 0,
    "start_time": "2022-11-18T16:08:53.224Z"
   },
   {
    "duration": 0,
    "start_time": "2022-11-18T16:08:53.225Z"
   },
   {
    "duration": 0,
    "start_time": "2022-11-18T16:08:53.226Z"
   },
   {
    "duration": 0,
    "start_time": "2022-11-18T16:08:53.227Z"
   },
   {
    "duration": 0,
    "start_time": "2022-11-18T16:08:53.227Z"
   },
   {
    "duration": 2,
    "start_time": "2022-11-18T16:09:29.337Z"
   },
   {
    "duration": 20,
    "start_time": "2022-11-18T16:09:29.822Z"
   },
   {
    "duration": 2,
    "start_time": "2022-11-18T16:09:39.481Z"
   },
   {
    "duration": 20,
    "start_time": "2022-11-18T16:09:39.953Z"
   },
   {
    "duration": 3,
    "start_time": "2022-11-18T16:09:41.686Z"
   },
   {
    "duration": 15,
    "start_time": "2022-11-18T16:09:42.393Z"
   },
   {
    "duration": 3,
    "start_time": "2022-11-18T16:12:57.693Z"
   },
   {
    "duration": 15,
    "start_time": "2022-11-18T16:12:58.143Z"
   },
   {
    "duration": 8122,
    "start_time": "2022-11-18T16:13:09.789Z"
   },
   {
    "duration": 2,
    "start_time": "2022-11-18T16:13:17.913Z"
   },
   {
    "duration": 59,
    "start_time": "2022-11-18T16:13:17.917Z"
   },
   {
    "duration": 2,
    "start_time": "2022-11-18T16:13:17.979Z"
   },
   {
    "duration": 17,
    "start_time": "2022-11-18T16:13:17.983Z"
   },
   {
    "duration": 3,
    "start_time": "2022-11-18T16:13:18.002Z"
   },
   {
    "duration": 15,
    "start_time": "2022-11-18T16:13:18.006Z"
   },
   {
    "duration": 4,
    "start_time": "2022-11-18T16:13:18.022Z"
   },
   {
    "duration": 30,
    "start_time": "2022-11-18T16:13:18.028Z"
   },
   {
    "duration": 2,
    "start_time": "2022-11-18T16:13:18.060Z"
   },
   {
    "duration": 28,
    "start_time": "2022-11-18T16:13:18.063Z"
   },
   {
    "duration": 3,
    "start_time": "2022-11-18T16:13:18.093Z"
   },
   {
    "duration": 16,
    "start_time": "2022-11-18T16:13:18.097Z"
   },
   {
    "duration": 3,
    "start_time": "2022-11-18T16:13:18.114Z"
   },
   {
    "duration": 32,
    "start_time": "2022-11-18T16:13:18.119Z"
   },
   {
    "duration": 2,
    "start_time": "2022-11-18T16:13:18.152Z"
   },
   {
    "duration": 15,
    "start_time": "2022-11-18T16:13:18.156Z"
   },
   {
    "duration": 2,
    "start_time": "2022-11-18T16:13:18.173Z"
   },
   {
    "duration": 20,
    "start_time": "2022-11-18T16:13:18.176Z"
   },
   {
    "duration": 2,
    "start_time": "2022-11-18T16:13:18.198Z"
   },
   {
    "duration": 23,
    "start_time": "2022-11-18T16:13:18.201Z"
   },
   {
    "duration": 8019,
    "start_time": "2022-11-18T16:23:47.962Z"
   },
   {
    "duration": 2,
    "start_time": "2022-11-18T16:23:55.983Z"
   },
   {
    "duration": 53,
    "start_time": "2022-11-18T16:23:55.987Z"
   },
   {
    "duration": 3,
    "start_time": "2022-11-18T16:23:56.042Z"
   },
   {
    "duration": 12,
    "start_time": "2022-11-18T16:23:56.047Z"
   },
   {
    "duration": 2,
    "start_time": "2022-11-18T16:23:56.061Z"
   },
   {
    "duration": 11,
    "start_time": "2022-11-18T16:23:56.065Z"
   },
   {
    "duration": 2,
    "start_time": "2022-11-18T16:23:56.078Z"
   },
   {
    "duration": 32,
    "start_time": "2022-11-18T16:23:56.081Z"
   },
   {
    "duration": 2,
    "start_time": "2022-11-18T16:23:56.117Z"
   },
   {
    "duration": 22,
    "start_time": "2022-11-18T16:23:56.120Z"
   },
   {
    "duration": 2,
    "start_time": "2022-11-18T16:23:56.144Z"
   },
   {
    "duration": 13,
    "start_time": "2022-11-18T16:23:56.148Z"
   },
   {
    "duration": 3,
    "start_time": "2022-11-18T16:23:56.167Z"
   },
   {
    "duration": 35,
    "start_time": "2022-11-18T16:23:56.172Z"
   },
   {
    "duration": 3,
    "start_time": "2022-11-18T16:23:56.208Z"
   },
   {
    "duration": 13,
    "start_time": "2022-11-18T16:23:56.212Z"
   },
   {
    "duration": 3,
    "start_time": "2022-11-18T16:23:56.226Z"
   },
   {
    "duration": 17,
    "start_time": "2022-11-18T16:23:56.230Z"
   },
   {
    "duration": 2,
    "start_time": "2022-11-18T16:23:56.248Z"
   },
   {
    "duration": 13,
    "start_time": "2022-11-18T16:23:56.252Z"
   },
   {
    "duration": 7939,
    "start_time": "2022-11-18T16:26:36.774Z"
   },
   {
    "duration": 2,
    "start_time": "2022-11-18T16:26:44.715Z"
   },
   {
    "duration": 47,
    "start_time": "2022-11-18T16:26:44.719Z"
   },
   {
    "duration": 3,
    "start_time": "2022-11-18T16:26:44.768Z"
   },
   {
    "duration": 18,
    "start_time": "2022-11-18T16:26:44.773Z"
   },
   {
    "duration": 2,
    "start_time": "2022-11-18T16:26:44.793Z"
   },
   {
    "duration": 15,
    "start_time": "2022-11-18T16:26:44.797Z"
   },
   {
    "duration": 2,
    "start_time": "2022-11-18T16:26:44.813Z"
   },
   {
    "duration": 29,
    "start_time": "2022-11-18T16:26:44.817Z"
   },
   {
    "duration": 2,
    "start_time": "2022-11-18T16:26:44.849Z"
   },
   {
    "duration": 27,
    "start_time": "2022-11-18T16:26:44.853Z"
   },
   {
    "duration": 2,
    "start_time": "2022-11-18T16:26:44.881Z"
   },
   {
    "duration": 13,
    "start_time": "2022-11-18T16:26:44.885Z"
   },
   {
    "duration": 7,
    "start_time": "2022-11-18T16:26:44.899Z"
   },
   {
    "duration": 42,
    "start_time": "2022-11-18T16:26:44.908Z"
   },
   {
    "duration": 3,
    "start_time": "2022-11-18T16:26:44.952Z"
   },
   {
    "duration": 16,
    "start_time": "2022-11-18T16:26:44.956Z"
   },
   {
    "duration": 2,
    "start_time": "2022-11-18T16:26:44.974Z"
   },
   {
    "duration": 17,
    "start_time": "2022-11-18T16:26:44.978Z"
   },
   {
    "duration": 2,
    "start_time": "2022-11-18T16:26:44.997Z"
   },
   {
    "duration": 22,
    "start_time": "2022-11-18T16:26:45.001Z"
   },
   {
    "duration": 8062,
    "start_time": "2022-11-18T16:27:07.222Z"
   },
   {
    "duration": 3,
    "start_time": "2022-11-18T16:27:15.286Z"
   },
   {
    "duration": 52,
    "start_time": "2022-11-18T16:27:15.290Z"
   },
   {
    "duration": 2,
    "start_time": "2022-11-18T16:27:15.344Z"
   },
   {
    "duration": 15,
    "start_time": "2022-11-18T16:27:15.347Z"
   },
   {
    "duration": 2,
    "start_time": "2022-11-18T16:27:15.363Z"
   },
   {
    "duration": 13,
    "start_time": "2022-11-18T16:27:15.367Z"
   },
   {
    "duration": 3,
    "start_time": "2022-11-18T16:27:15.381Z"
   },
   {
    "duration": 29,
    "start_time": "2022-11-18T16:27:15.385Z"
   },
   {
    "duration": 3,
    "start_time": "2022-11-18T16:27:15.416Z"
   },
   {
    "duration": 27,
    "start_time": "2022-11-18T16:27:15.421Z"
   },
   {
    "duration": 2,
    "start_time": "2022-11-18T16:27:15.449Z"
   },
   {
    "duration": 12,
    "start_time": "2022-11-18T16:27:15.453Z"
   },
   {
    "duration": 2,
    "start_time": "2022-11-18T16:27:15.466Z"
   },
   {
    "duration": 30,
    "start_time": "2022-11-18T16:27:15.469Z"
   },
   {
    "duration": 2,
    "start_time": "2022-11-18T16:27:15.500Z"
   },
   {
    "duration": 24,
    "start_time": "2022-11-18T16:27:15.504Z"
   },
   {
    "duration": 2,
    "start_time": "2022-11-18T16:27:15.530Z"
   },
   {
    "duration": 21,
    "start_time": "2022-11-18T16:27:15.533Z"
   },
   {
    "duration": 3,
    "start_time": "2022-11-18T16:27:15.555Z"
   },
   {
    "duration": 17,
    "start_time": "2022-11-18T16:27:15.559Z"
   },
   {
    "duration": 8067,
    "start_time": "2022-11-18T16:27:52.338Z"
   },
   {
    "duration": 3,
    "start_time": "2022-11-18T16:28:00.408Z"
   },
   {
    "duration": 89,
    "start_time": "2022-11-18T16:28:00.413Z"
   },
   {
    "duration": 2,
    "start_time": "2022-11-18T16:28:00.505Z"
   },
   {
    "duration": 45,
    "start_time": "2022-11-18T16:28:00.508Z"
   },
   {
    "duration": 13,
    "start_time": "2022-11-18T16:28:00.555Z"
   },
   {
    "duration": 56,
    "start_time": "2022-11-18T16:28:00.569Z"
   },
   {
    "duration": 12,
    "start_time": "2022-11-18T16:28:00.627Z"
   },
   {
    "duration": 48,
    "start_time": "2022-11-18T16:28:00.640Z"
   },
   {
    "duration": 5,
    "start_time": "2022-11-18T16:28:00.690Z"
   },
   {
    "duration": 40,
    "start_time": "2022-11-18T16:28:00.697Z"
   },
   {
    "duration": 19,
    "start_time": "2022-11-18T16:28:00.738Z"
   },
   {
    "duration": 38,
    "start_time": "2022-11-18T16:28:00.759Z"
   },
   {
    "duration": 28,
    "start_time": "2022-11-18T16:28:00.799Z"
   },
   {
    "duration": 71,
    "start_time": "2022-11-18T16:28:00.828Z"
   },
   {
    "duration": 2,
    "start_time": "2022-11-18T16:28:00.900Z"
   },
   {
    "duration": 47,
    "start_time": "2022-11-18T16:28:00.904Z"
   },
   {
    "duration": 3,
    "start_time": "2022-11-18T16:28:00.953Z"
   },
   {
    "duration": 48,
    "start_time": "2022-11-18T16:28:00.957Z"
   },
   {
    "duration": 3,
    "start_time": "2022-11-18T16:28:01.007Z"
   },
   {
    "duration": 51,
    "start_time": "2022-11-18T16:28:01.011Z"
   },
   {
    "duration": 8694,
    "start_time": "2022-11-19T10:48:39.321Z"
   },
   {
    "duration": 3,
    "start_time": "2022-11-19T10:48:48.016Z"
   },
   {
    "duration": 67,
    "start_time": "2022-11-19T10:48:48.020Z"
   },
   {
    "duration": 3,
    "start_time": "2022-11-19T10:48:48.088Z"
   },
   {
    "duration": 13,
    "start_time": "2022-11-19T10:48:48.093Z"
   },
   {
    "duration": 3,
    "start_time": "2022-11-19T10:48:48.107Z"
   },
   {
    "duration": 13,
    "start_time": "2022-11-19T10:48:48.111Z"
   },
   {
    "duration": 3,
    "start_time": "2022-11-19T10:48:48.125Z"
   },
   {
    "duration": 25,
    "start_time": "2022-11-19T10:48:48.129Z"
   },
   {
    "duration": 2,
    "start_time": "2022-11-19T10:48:48.155Z"
   },
   {
    "duration": 20,
    "start_time": "2022-11-19T10:48:48.159Z"
   },
   {
    "duration": 3,
    "start_time": "2022-11-19T10:48:48.180Z"
   },
   {
    "duration": 13,
    "start_time": "2022-11-19T10:48:48.184Z"
   },
   {
    "duration": 2,
    "start_time": "2022-11-19T10:48:48.199Z"
   },
   {
    "duration": 40,
    "start_time": "2022-11-19T10:48:48.203Z"
   },
   {
    "duration": 2,
    "start_time": "2022-11-19T10:48:48.245Z"
   },
   {
    "duration": 13,
    "start_time": "2022-11-19T10:48:48.249Z"
   },
   {
    "duration": 3,
    "start_time": "2022-11-19T10:48:48.263Z"
   },
   {
    "duration": 17,
    "start_time": "2022-11-19T10:48:48.267Z"
   },
   {
    "duration": 2,
    "start_time": "2022-11-19T10:48:48.285Z"
   },
   {
    "duration": 14,
    "start_time": "2022-11-19T10:48:48.289Z"
   }
  ],
  "kernelspec": {
   "display_name": "Python 3 (ipykernel)",
   "language": "python",
   "name": "python3"
  },
  "language_info": {
   "codemirror_mode": {
    "name": "ipython",
    "version": 3
   },
   "file_extension": ".py",
   "mimetype": "text/x-python",
   "name": "python",
   "nbconvert_exporter": "python",
   "pygments_lexer": "ipython3",
   "version": "3.7.8"
  },
  "toc": {
   "base_numbering": 1,
   "nav_menu": {},
   "number_sections": false,
   "sideBar": true,
   "skip_h1_title": false,
   "title_cell": "Table of Contents",
   "title_sidebar": "Contents",
   "toc_cell": false,
   "toc_position": {
    "height": "calc(100% - 180px)",
    "left": "10px",
    "top": "150px",
    "width": "209.361px"
   },
   "toc_section_display": true,
   "toc_window_display": true
  }
 },
 "nbformat": 4,
 "nbformat_minor": 5
}
