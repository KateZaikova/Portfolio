{
 "cells": [
  {
   "cell_type": "markdown",
   "metadata": {},
   "source": [
    "# Описание проекта\n",
    "\n",
    "Сеть фитнес-центров «Культурист-датасаентист» разрабатывает стратегию взаимодействия с клиентами на основе аналитических данных.\n",
    "\n",
    "Распространённая проблема фитнес-клубов и других сервисов — отток клиентов. \n",
    "\n",
    "Для фитнес-центра можно считать, что клиент попал в отток, если за последний месяц ни разу не посетил спортзал.\n",
    "\n",
    "Чтобы бороться с оттоком, отдел по работе с клиентами «Культуриста-датасаентиста» перевёл в электронный вид множество клиентских анкет.\n",
    "\n",
    "Задача — провести анализ и подготовить план действий по удержанию клиентов.\n",
    "\n",
    "А именно:\n",
    "\n",
    "1. научиться прогнозировать вероятность оттока (на уровне следующего месяца) для каждого клиента;\n",
    "2. сформировать типичные портреты клиентов: выделить несколько наиболее ярких групп и охарактеризовать их основные свойства;\n",
    "3. проанализировать основные признаки, наиболее сильно влияющие на отток;\n",
    "4. сформулировать основные выводы и разработать рекомендации по повышению качества работы с клиентами:\n",
    "\n",
    "* выделить целевые группы клиентов;\n",
    "\n",
    "* предложить меры по снижению оттока;\n",
    "\n",
    "* определить другие особенности взаимодействия с клиентами.\n",
    "\n",
    "**Ход исследования**  \n",
    "\n",
    "Исследование содержит следующие этапы:\n",
    "1. Загрузка данных из файла.  \n",
    "2. Предобработка данных.  \n",
    "3. Построение модели прогнозирования оттока клиентов\n",
    "4. Проведение кластеризации клиентов\n",
    "5. Выводы и рекомендации."
   ]
  },
  {
   "cell_type": "markdown",
   "metadata": {},
   "source": [
    "## Загрузка данных"
   ]
  },
  {
   "cell_type": "code",
   "execution_count": 1,
   "metadata": {},
   "outputs": [],
   "source": [
    "# импорт библиотек\n",
    "\n",
    "import pandas as pd\n",
    "import numpy as np\n",
    "import matplotlib.pyplot as plt\n",
    "import seaborn as sns\n",
    "import os\n",
    "from scipy import stats as st\n",
    "import scipy.stats as stats\n",
    "\n",
    "from sklearn.linear_model import LogisticRegression\n",
    "from sklearn.model_selection import train_test_split\n",
    "from sklearn.preprocessing import StandardScaler\n",
    "from sklearn.metrics import accuracy_score, precision_score, recall_score, f1_score\n",
    "from sklearn.metrics import roc_auc_score\n",
    "from sklearn.ensemble import RandomForestClassifier\n",
    "from scipy.cluster.hierarchy import dendrogram, linkage \n",
    "from sklearn.cluster import KMeans\n",
    "\n"
   ]
  },
  {
   "cell_type": "code",
   "execution_count": 2,
   "metadata": {},
   "outputs": [],
   "source": [
    "import warnings\n",
    "warnings.simplefilter(action='ignore', category=FutureWarning)"
   ]
  },
  {
   "cell_type": "code",
   "execution_count": 3,
   "metadata": {},
   "outputs": [],
   "source": [
    "# чтение файла с данными и сохранение в переменной data\n",
    "if os.path.exists('/datasets/gym_churn.csv'):\n",
    "    data = pd.read_csv('/datasets/gym_churn.csv', sep = ',')\n",
    "else:\n",
    "    data = pd.read_csv('gym_churn.csv', sep = ',')"
   ]
  },
  {
   "cell_type": "code",
   "execution_count": 4,
   "metadata": {},
   "outputs": [
    {
     "data": {
      "text/html": [
       "<div>\n",
       "<style scoped>\n",
       "    .dataframe tbody tr th:only-of-type {\n",
       "        vertical-align: middle;\n",
       "    }\n",
       "\n",
       "    .dataframe tbody tr th {\n",
       "        vertical-align: top;\n",
       "    }\n",
       "\n",
       "    .dataframe thead th {\n",
       "        text-align: right;\n",
       "    }\n",
       "</style>\n",
       "<table border=\"1\" class=\"dataframe\">\n",
       "  <thead>\n",
       "    <tr style=\"text-align: right;\">\n",
       "      <th></th>\n",
       "      <th>gender</th>\n",
       "      <th>Near_Location</th>\n",
       "      <th>Partner</th>\n",
       "      <th>Promo_friends</th>\n",
       "      <th>Phone</th>\n",
       "      <th>Contract_period</th>\n",
       "      <th>Group_visits</th>\n",
       "      <th>Age</th>\n",
       "      <th>Avg_additional_charges_total</th>\n",
       "      <th>Month_to_end_contract</th>\n",
       "      <th>Lifetime</th>\n",
       "      <th>Avg_class_frequency_total</th>\n",
       "      <th>Avg_class_frequency_current_month</th>\n",
       "      <th>Churn</th>\n",
       "    </tr>\n",
       "  </thead>\n",
       "  <tbody>\n",
       "    <tr>\n",
       "      <th>0</th>\n",
       "      <td>1</td>\n",
       "      <td>1</td>\n",
       "      <td>1</td>\n",
       "      <td>1</td>\n",
       "      <td>0</td>\n",
       "      <td>6</td>\n",
       "      <td>1</td>\n",
       "      <td>29</td>\n",
       "      <td>14.227470</td>\n",
       "      <td>5.0</td>\n",
       "      <td>3</td>\n",
       "      <td>0.020398</td>\n",
       "      <td>0.000000</td>\n",
       "      <td>0</td>\n",
       "    </tr>\n",
       "    <tr>\n",
       "      <th>1</th>\n",
       "      <td>0</td>\n",
       "      <td>1</td>\n",
       "      <td>0</td>\n",
       "      <td>0</td>\n",
       "      <td>1</td>\n",
       "      <td>12</td>\n",
       "      <td>1</td>\n",
       "      <td>31</td>\n",
       "      <td>113.202938</td>\n",
       "      <td>12.0</td>\n",
       "      <td>7</td>\n",
       "      <td>1.922936</td>\n",
       "      <td>1.910244</td>\n",
       "      <td>0</td>\n",
       "    </tr>\n",
       "    <tr>\n",
       "      <th>2</th>\n",
       "      <td>0</td>\n",
       "      <td>1</td>\n",
       "      <td>1</td>\n",
       "      <td>0</td>\n",
       "      <td>1</td>\n",
       "      <td>1</td>\n",
       "      <td>0</td>\n",
       "      <td>28</td>\n",
       "      <td>129.448479</td>\n",
       "      <td>1.0</td>\n",
       "      <td>2</td>\n",
       "      <td>1.859098</td>\n",
       "      <td>1.736502</td>\n",
       "      <td>0</td>\n",
       "    </tr>\n",
       "    <tr>\n",
       "      <th>3</th>\n",
       "      <td>0</td>\n",
       "      <td>1</td>\n",
       "      <td>1</td>\n",
       "      <td>1</td>\n",
       "      <td>1</td>\n",
       "      <td>12</td>\n",
       "      <td>1</td>\n",
       "      <td>33</td>\n",
       "      <td>62.669863</td>\n",
       "      <td>12.0</td>\n",
       "      <td>2</td>\n",
       "      <td>3.205633</td>\n",
       "      <td>3.357215</td>\n",
       "      <td>0</td>\n",
       "    </tr>\n",
       "    <tr>\n",
       "      <th>4</th>\n",
       "      <td>1</td>\n",
       "      <td>1</td>\n",
       "      <td>1</td>\n",
       "      <td>1</td>\n",
       "      <td>1</td>\n",
       "      <td>1</td>\n",
       "      <td>0</td>\n",
       "      <td>26</td>\n",
       "      <td>198.362265</td>\n",
       "      <td>1.0</td>\n",
       "      <td>3</td>\n",
       "      <td>1.113884</td>\n",
       "      <td>1.120078</td>\n",
       "      <td>0</td>\n",
       "    </tr>\n",
       "  </tbody>\n",
       "</table>\n",
       "</div>"
      ],
      "text/plain": [
       "   gender  Near_Location  Partner  Promo_friends  Phone  Contract_period  \\\n",
       "0       1              1        1              1      0                6   \n",
       "1       0              1        0              0      1               12   \n",
       "2       0              1        1              0      1                1   \n",
       "3       0              1        1              1      1               12   \n",
       "4       1              1        1              1      1                1   \n",
       "\n",
       "   Group_visits  Age  Avg_additional_charges_total  Month_to_end_contract  \\\n",
       "0             1   29                     14.227470                    5.0   \n",
       "1             1   31                    113.202938                   12.0   \n",
       "2             0   28                    129.448479                    1.0   \n",
       "3             1   33                     62.669863                   12.0   \n",
       "4             0   26                    198.362265                    1.0   \n",
       "\n",
       "   Lifetime  Avg_class_frequency_total  Avg_class_frequency_current_month  \\\n",
       "0         3                   0.020398                           0.000000   \n",
       "1         7                   1.922936                           1.910244   \n",
       "2         2                   1.859098                           1.736502   \n",
       "3         2                   3.205633                           3.357215   \n",
       "4         3                   1.113884                           1.120078   \n",
       "\n",
       "   Churn  \n",
       "0      0  \n",
       "1      0  \n",
       "2      0  \n",
       "3      0  \n",
       "4      0  "
      ]
     },
     "execution_count": 4,
     "metadata": {},
     "output_type": "execute_result"
    }
   ],
   "source": [
    "# просмотр первых пяти строк\n",
    "data.head()"
   ]
  },
  {
   "cell_type": "markdown",
   "metadata": {},
   "source": [
    "Заказчик подготовил данные, которые содержат данные на месяц до оттока и факт оттока на определённый месяц.\n",
    "\n",
    "Набор данных включает следующие поля:\n",
    "\n",
    "Данные клиента за предыдущий до проверки факта оттока месяц:\n",
    "\n",
    "* gender — пол;\n",
    "* Near_Location — проживание или работа в районе, где находится фитнес-центр;\n",
    "* Partner — сотрудник компании-партнёра клуба (сотрудничество с компаниями, чьи сотрудники могут получать скидки на абонемент — в таком случае фитнес-центр хранит информацию о работодателе клиента);\n",
    "* Promo_friends — факт первоначальной записи в рамках акции «приведи друга» (использовал промо-код от знакомого при оплате первого абонемента);\n",
    "* Phone — наличие контактного телефона;\n",
    "* Age — возраст;\n",
    "* Lifetime — время с момента первого обращения в фитнес-центр (в месяцах).\n",
    "\n",
    "Информация на основе журнала посещений, покупок и информация о текущем статусе абонемента клиента:\n",
    "\n",
    "* Contract_period — длительность текущего действующего абонемента (месяц, 6 месяцев, год);\n",
    "\n",
    "* Month_to_end_contract — срок до окончания текущего действующего абонемента (в месяцах);\n",
    "\n",
    "* Group_visits — факт посещения групповых занятий;\n",
    "\n",
    "* Avg_class_frequency_total — средняя частота посещений в неделю за все время с начала действия абонемента;\n",
    "\n",
    "* Avg_class_frequency_current_month — средняя частота посещений в неделю за предыдущий месяц;\n",
    "\n",
    "* Avg_additional_charges_total — суммарная выручка от других услуг фитнес-центра: кафе, спорттовары, косметический и массажный салон.\n",
    "\n",
    "* Churn — факт оттока в текущем месяце."
   ]
  },
  {
   "cell_type": "code",
   "execution_count": 5,
   "metadata": {},
   "outputs": [],
   "source": [
    "# приведем названия признаков к нижнему регистру\n",
    "data.columns = data.columns.str.lower()"
   ]
  },
  {
   "cell_type": "markdown",
   "metadata": {},
   "source": [
    "## Проведение исследовательского анализа данных (EDA)"
   ]
  },
  {
   "cell_type": "code",
   "execution_count": 6,
   "metadata": {},
   "outputs": [
    {
     "name": "stdout",
     "output_type": "stream",
     "text": [
      "<class 'pandas.core.frame.DataFrame'>\n",
      "RangeIndex: 4000 entries, 0 to 3999\n",
      "Data columns (total 14 columns):\n",
      " #   Column                             Non-Null Count  Dtype  \n",
      "---  ------                             --------------  -----  \n",
      " 0   gender                             4000 non-null   int64  \n",
      " 1   near_location                      4000 non-null   int64  \n",
      " 2   partner                            4000 non-null   int64  \n",
      " 3   promo_friends                      4000 non-null   int64  \n",
      " 4   phone                              4000 non-null   int64  \n",
      " 5   contract_period                    4000 non-null   int64  \n",
      " 6   group_visits                       4000 non-null   int64  \n",
      " 7   age                                4000 non-null   int64  \n",
      " 8   avg_additional_charges_total       4000 non-null   float64\n",
      " 9   month_to_end_contract              4000 non-null   float64\n",
      " 10  lifetime                           4000 non-null   int64  \n",
      " 11  avg_class_frequency_total          4000 non-null   float64\n",
      " 12  avg_class_frequency_current_month  4000 non-null   float64\n",
      " 13  churn                              4000 non-null   int64  \n",
      "dtypes: float64(4), int64(10)\n",
      "memory usage: 437.6 KB\n"
     ]
    }
   ],
   "source": [
    "# изучим общую информацию о таблице\n",
    "data.info()"
   ]
  },
  {
   "cell_type": "markdown",
   "metadata": {},
   "source": [
    "Пропусков нет, все типы числовые."
   ]
  },
  {
   "cell_type": "code",
   "execution_count": 7,
   "metadata": {},
   "outputs": [
    {
     "data": {
      "text/html": [
       "<div>\n",
       "<style scoped>\n",
       "    .dataframe tbody tr th:only-of-type {\n",
       "        vertical-align: middle;\n",
       "    }\n",
       "\n",
       "    .dataframe tbody tr th {\n",
       "        vertical-align: top;\n",
       "    }\n",
       "\n",
       "    .dataframe thead th {\n",
       "        text-align: right;\n",
       "    }\n",
       "</style>\n",
       "<table border=\"1\" class=\"dataframe\">\n",
       "  <thead>\n",
       "    <tr style=\"text-align: right;\">\n",
       "      <th></th>\n",
       "      <th>count</th>\n",
       "      <th>mean</th>\n",
       "      <th>std</th>\n",
       "      <th>min</th>\n",
       "      <th>25%</th>\n",
       "      <th>50%</th>\n",
       "      <th>75%</th>\n",
       "      <th>max</th>\n",
       "    </tr>\n",
       "  </thead>\n",
       "  <tbody>\n",
       "    <tr>\n",
       "      <th>gender</th>\n",
       "      <td>4000.0</td>\n",
       "      <td>0.510250</td>\n",
       "      <td>0.499957</td>\n",
       "      <td>0.000000</td>\n",
       "      <td>0.000000</td>\n",
       "      <td>1.000000</td>\n",
       "      <td>1.000000</td>\n",
       "      <td>1.000000</td>\n",
       "    </tr>\n",
       "    <tr>\n",
       "      <th>near_location</th>\n",
       "      <td>4000.0</td>\n",
       "      <td>0.845250</td>\n",
       "      <td>0.361711</td>\n",
       "      <td>0.000000</td>\n",
       "      <td>1.000000</td>\n",
       "      <td>1.000000</td>\n",
       "      <td>1.000000</td>\n",
       "      <td>1.000000</td>\n",
       "    </tr>\n",
       "    <tr>\n",
       "      <th>partner</th>\n",
       "      <td>4000.0</td>\n",
       "      <td>0.486750</td>\n",
       "      <td>0.499887</td>\n",
       "      <td>0.000000</td>\n",
       "      <td>0.000000</td>\n",
       "      <td>0.000000</td>\n",
       "      <td>1.000000</td>\n",
       "      <td>1.000000</td>\n",
       "    </tr>\n",
       "    <tr>\n",
       "      <th>promo_friends</th>\n",
       "      <td>4000.0</td>\n",
       "      <td>0.308500</td>\n",
       "      <td>0.461932</td>\n",
       "      <td>0.000000</td>\n",
       "      <td>0.000000</td>\n",
       "      <td>0.000000</td>\n",
       "      <td>1.000000</td>\n",
       "      <td>1.000000</td>\n",
       "    </tr>\n",
       "    <tr>\n",
       "      <th>phone</th>\n",
       "      <td>4000.0</td>\n",
       "      <td>0.903500</td>\n",
       "      <td>0.295313</td>\n",
       "      <td>0.000000</td>\n",
       "      <td>1.000000</td>\n",
       "      <td>1.000000</td>\n",
       "      <td>1.000000</td>\n",
       "      <td>1.000000</td>\n",
       "    </tr>\n",
       "    <tr>\n",
       "      <th>contract_period</th>\n",
       "      <td>4000.0</td>\n",
       "      <td>4.681250</td>\n",
       "      <td>4.549706</td>\n",
       "      <td>1.000000</td>\n",
       "      <td>1.000000</td>\n",
       "      <td>1.000000</td>\n",
       "      <td>6.000000</td>\n",
       "      <td>12.000000</td>\n",
       "    </tr>\n",
       "    <tr>\n",
       "      <th>group_visits</th>\n",
       "      <td>4000.0</td>\n",
       "      <td>0.412250</td>\n",
       "      <td>0.492301</td>\n",
       "      <td>0.000000</td>\n",
       "      <td>0.000000</td>\n",
       "      <td>0.000000</td>\n",
       "      <td>1.000000</td>\n",
       "      <td>1.000000</td>\n",
       "    </tr>\n",
       "    <tr>\n",
       "      <th>age</th>\n",
       "      <td>4000.0</td>\n",
       "      <td>29.184250</td>\n",
       "      <td>3.258367</td>\n",
       "      <td>18.000000</td>\n",
       "      <td>27.000000</td>\n",
       "      <td>29.000000</td>\n",
       "      <td>31.000000</td>\n",
       "      <td>41.000000</td>\n",
       "    </tr>\n",
       "    <tr>\n",
       "      <th>avg_additional_charges_total</th>\n",
       "      <td>4000.0</td>\n",
       "      <td>146.943728</td>\n",
       "      <td>96.355602</td>\n",
       "      <td>0.148205</td>\n",
       "      <td>68.868830</td>\n",
       "      <td>136.220159</td>\n",
       "      <td>210.949625</td>\n",
       "      <td>552.590740</td>\n",
       "    </tr>\n",
       "    <tr>\n",
       "      <th>month_to_end_contract</th>\n",
       "      <td>4000.0</td>\n",
       "      <td>4.322750</td>\n",
       "      <td>4.191297</td>\n",
       "      <td>1.000000</td>\n",
       "      <td>1.000000</td>\n",
       "      <td>1.000000</td>\n",
       "      <td>6.000000</td>\n",
       "      <td>12.000000</td>\n",
       "    </tr>\n",
       "    <tr>\n",
       "      <th>lifetime</th>\n",
       "      <td>4000.0</td>\n",
       "      <td>3.724750</td>\n",
       "      <td>3.749267</td>\n",
       "      <td>0.000000</td>\n",
       "      <td>1.000000</td>\n",
       "      <td>3.000000</td>\n",
       "      <td>5.000000</td>\n",
       "      <td>31.000000</td>\n",
       "    </tr>\n",
       "    <tr>\n",
       "      <th>avg_class_frequency_total</th>\n",
       "      <td>4000.0</td>\n",
       "      <td>1.879020</td>\n",
       "      <td>0.972245</td>\n",
       "      <td>0.000000</td>\n",
       "      <td>1.180875</td>\n",
       "      <td>1.832768</td>\n",
       "      <td>2.536078</td>\n",
       "      <td>6.023668</td>\n",
       "    </tr>\n",
       "    <tr>\n",
       "      <th>avg_class_frequency_current_month</th>\n",
       "      <td>4000.0</td>\n",
       "      <td>1.767052</td>\n",
       "      <td>1.052906</td>\n",
       "      <td>0.000000</td>\n",
       "      <td>0.963003</td>\n",
       "      <td>1.719574</td>\n",
       "      <td>2.510336</td>\n",
       "      <td>6.146783</td>\n",
       "    </tr>\n",
       "    <tr>\n",
       "      <th>churn</th>\n",
       "      <td>4000.0</td>\n",
       "      <td>0.265250</td>\n",
       "      <td>0.441521</td>\n",
       "      <td>0.000000</td>\n",
       "      <td>0.000000</td>\n",
       "      <td>0.000000</td>\n",
       "      <td>1.000000</td>\n",
       "      <td>1.000000</td>\n",
       "    </tr>\n",
       "  </tbody>\n",
       "</table>\n",
       "</div>"
      ],
      "text/plain": [
       "                                    count        mean        std        min  \\\n",
       "gender                             4000.0    0.510250   0.499957   0.000000   \n",
       "near_location                      4000.0    0.845250   0.361711   0.000000   \n",
       "partner                            4000.0    0.486750   0.499887   0.000000   \n",
       "promo_friends                      4000.0    0.308500   0.461932   0.000000   \n",
       "phone                              4000.0    0.903500   0.295313   0.000000   \n",
       "contract_period                    4000.0    4.681250   4.549706   1.000000   \n",
       "group_visits                       4000.0    0.412250   0.492301   0.000000   \n",
       "age                                4000.0   29.184250   3.258367  18.000000   \n",
       "avg_additional_charges_total       4000.0  146.943728  96.355602   0.148205   \n",
       "month_to_end_contract              4000.0    4.322750   4.191297   1.000000   \n",
       "lifetime                           4000.0    3.724750   3.749267   0.000000   \n",
       "avg_class_frequency_total          4000.0    1.879020   0.972245   0.000000   \n",
       "avg_class_frequency_current_month  4000.0    1.767052   1.052906   0.000000   \n",
       "churn                              4000.0    0.265250   0.441521   0.000000   \n",
       "\n",
       "                                         25%         50%         75%  \\\n",
       "gender                              0.000000    1.000000    1.000000   \n",
       "near_location                       1.000000    1.000000    1.000000   \n",
       "partner                             0.000000    0.000000    1.000000   \n",
       "promo_friends                       0.000000    0.000000    1.000000   \n",
       "phone                               1.000000    1.000000    1.000000   \n",
       "contract_period                     1.000000    1.000000    6.000000   \n",
       "group_visits                        0.000000    0.000000    1.000000   \n",
       "age                                27.000000   29.000000   31.000000   \n",
       "avg_additional_charges_total       68.868830  136.220159  210.949625   \n",
       "month_to_end_contract               1.000000    1.000000    6.000000   \n",
       "lifetime                            1.000000    3.000000    5.000000   \n",
       "avg_class_frequency_total           1.180875    1.832768    2.536078   \n",
       "avg_class_frequency_current_month   0.963003    1.719574    2.510336   \n",
       "churn                               0.000000    0.000000    1.000000   \n",
       "\n",
       "                                          max  \n",
       "gender                               1.000000  \n",
       "near_location                        1.000000  \n",
       "partner                              1.000000  \n",
       "promo_friends                        1.000000  \n",
       "phone                                1.000000  \n",
       "contract_period                     12.000000  \n",
       "group_visits                         1.000000  \n",
       "age                                 41.000000  \n",
       "avg_additional_charges_total       552.590740  \n",
       "month_to_end_contract               12.000000  \n",
       "lifetime                            31.000000  \n",
       "avg_class_frequency_total            6.023668  \n",
       "avg_class_frequency_current_month    6.146783  \n",
       "churn                                1.000000  "
      ]
     },
     "execution_count": 7,
     "metadata": {},
     "output_type": "execute_result"
    }
   ],
   "source": [
    "# изучим средние значения и стандартные отклонения при помощи метода describe()\n",
    "data.describe().T"
   ]
  },
  {
   "cell_type": "markdown",
   "metadata": {},
   "source": [
    "В некоторых полях, можно наблюдать большое стандартное отклонение, у некоторых даже больше среднего значения, это говорит о большом разбросе значений в данных полях. "
   ]
  },
  {
   "cell_type": "code",
   "execution_count": 8,
   "metadata": {},
   "outputs": [
    {
     "data": {
      "text/html": [
       "<div>\n",
       "<style scoped>\n",
       "    .dataframe tbody tr th:only-of-type {\n",
       "        vertical-align: middle;\n",
       "    }\n",
       "\n",
       "    .dataframe tbody tr th {\n",
       "        vertical-align: top;\n",
       "    }\n",
       "\n",
       "    .dataframe thead th {\n",
       "        text-align: right;\n",
       "    }\n",
       "</style>\n",
       "<table border=\"1\" class=\"dataframe\">\n",
       "  <thead>\n",
       "    <tr style=\"text-align: right;\">\n",
       "      <th></th>\n",
       "      <th>gender</th>\n",
       "      <th>near_location</th>\n",
       "      <th>partner</th>\n",
       "      <th>promo_friends</th>\n",
       "      <th>phone</th>\n",
       "      <th>contract_period</th>\n",
       "      <th>group_visits</th>\n",
       "      <th>age</th>\n",
       "      <th>avg_additional_charges_total</th>\n",
       "      <th>month_to_end_contract</th>\n",
       "      <th>lifetime</th>\n",
       "      <th>avg_class_frequency_total</th>\n",
       "      <th>avg_class_frequency_current_month</th>\n",
       "    </tr>\n",
       "    <tr>\n",
       "      <th>churn</th>\n",
       "      <th></th>\n",
       "      <th></th>\n",
       "      <th></th>\n",
       "      <th></th>\n",
       "      <th></th>\n",
       "      <th></th>\n",
       "      <th></th>\n",
       "      <th></th>\n",
       "      <th></th>\n",
       "      <th></th>\n",
       "      <th></th>\n",
       "      <th></th>\n",
       "      <th></th>\n",
       "    </tr>\n",
       "  </thead>\n",
       "  <tbody>\n",
       "    <tr>\n",
       "      <th>0</th>\n",
       "      <td>0.510037</td>\n",
       "      <td>0.873086</td>\n",
       "      <td>0.534195</td>\n",
       "      <td>0.353522</td>\n",
       "      <td>0.903709</td>\n",
       "      <td>5.747193</td>\n",
       "      <td>0.464103</td>\n",
       "      <td>29.976523</td>\n",
       "      <td>158.445715</td>\n",
       "      <td>5.283089</td>\n",
       "      <td>4.711807</td>\n",
       "      <td>2.024876</td>\n",
       "      <td>2.027882</td>\n",
       "    </tr>\n",
       "    <tr>\n",
       "      <th>1</th>\n",
       "      <td>0.510839</td>\n",
       "      <td>0.768143</td>\n",
       "      <td>0.355325</td>\n",
       "      <td>0.183789</td>\n",
       "      <td>0.902922</td>\n",
       "      <td>1.728558</td>\n",
       "      <td>0.268615</td>\n",
       "      <td>26.989632</td>\n",
       "      <td>115.082899</td>\n",
       "      <td>1.662582</td>\n",
       "      <td>0.990575</td>\n",
       "      <td>1.474995</td>\n",
       "      <td>1.044546</td>\n",
       "    </tr>\n",
       "  </tbody>\n",
       "</table>\n",
       "</div>"
      ],
      "text/plain": [
       "         gender  near_location   partner  promo_friends     phone  \\\n",
       "churn                                                               \n",
       "0      0.510037       0.873086  0.534195       0.353522  0.903709   \n",
       "1      0.510839       0.768143  0.355325       0.183789  0.902922   \n",
       "\n",
       "       contract_period  group_visits        age  avg_additional_charges_total  \\\n",
       "churn                                                                           \n",
       "0             5.747193      0.464103  29.976523                    158.445715   \n",
       "1             1.728558      0.268615  26.989632                    115.082899   \n",
       "\n",
       "       month_to_end_contract  lifetime  avg_class_frequency_total  \\\n",
       "churn                                                               \n",
       "0                   5.283089  4.711807                   2.024876   \n",
       "1                   1.662582  0.990575                   1.474995   \n",
       "\n",
       "       avg_class_frequency_current_month  \n",
       "churn                                     \n",
       "0                               2.027882  \n",
       "1                               1.044546  "
      ]
     },
     "execution_count": 8,
     "metadata": {},
     "output_type": "execute_result"
    }
   ],
   "source": [
    "# Посмотрим на средние значения признаков в двух группах — тех, кто ушел в отток и тех, \n",
    "# кто остался, при помощи метода groupby()\n",
    "data.groupby('churn').mean()"
   ]
  },
  {
   "cell_type": "markdown",
   "metadata": {},
   "source": [
    "Если посмотреть на среднее, то можно обозначит основные характерные черты тех, кто ушел в отток:\n",
    "* не проживает и не работает в районе фитнес-клуба\n",
    "* не являются сотрудником компании партнера\n",
    "* не ходит на групповые занятия\n",
    "* более молодые\n",
    "* меньше пользуется другими услугами фитнес центра\n",
    "* длительность текущего абонемента составляет менее 2ух месяцев\n",
    "* лайфтайм меньше месяца\n",
    "* посещение в неделю менее двух раз"
   ]
  },
  {
   "cell_type": "code",
   "execution_count": 9,
   "metadata": {},
   "outputs": [
    {
     "data": {
      "image/png": "[encoded data removed]",
      "text/plain": [
       "<Figure size 1080x1080 with 7 Axes>"
      ]
     },
     "metadata": {
      "needs_background": "light"
     },
     "output_type": "display_data"
    }
   ],
   "source": [
    "distplot_columns = ['avg_additional_charges_total', 'avg_class_frequency_total', \n",
    "                    'avg_class_frequency_current_month', 'lifetime', 'age', \n",
    "                    'contract_period', 'month_to_end_contract']\n",
    "\n",
    "col_count, row_count = 2, 4 # число рядов и столбцов в сетке графиков\n",
    "plt.figure(figsize=(15, 15))\n",
    " \n",
    "for i, f in enumerate(distplot_columns):           \n",
    "    sns.histplot(data, x=data[f], hue='churn', palette=\"tab10\", kde=True, ax = plt.subplot(row_count, col_count, i+1)) \n",
    "    plt.title(f'Признак - {f}')\n",
    "    plt.ylabel(\"Кол-во клиентов\")\n",
    "    plt.xlabel(\"\")"
   ]
  },
  {
   "cell_type": "markdown",
   "metadata": {},
   "source": [
    "Графики подтверждают составленные выше характерные черты тех, кто ушел.\n",
    "\n",
    "Так же из графиков видно:\n",
    "* 'Avg_class_frequency_current_month', у тех кто ушел в отток большой всплеск около ноля. Слишком много тех кто за неделю не посетил фитнес ни разу. Похоже на выброс.\n",
    "* По 'Lifetime' видно опять большой всплеск около 0-1, уходят те, кто недолго ходил в фитнес, так же имеет длинный хвост, что соответствует выбросам. В линейных моделях — выбросы могут серьёзно «перетянуть» зависимость на себя, поэтому удалим их.\n",
    "* По 'Contract_period' видно, очень много тех кто ушел, имеют абонемент на 1 месяц.\n",
    "* Так же уходят те, у кого до конца абонемента осталось меньше месяца."
   ]
  },
  {
   "cell_type": "code",
   "execution_count": 10,
   "metadata": {},
   "outputs": [
    {
     "data": {
      "image/png": "[encoded data removed]",
      "text/plain": [
       "<Figure size 1080x1080 with 7 Axes>"
      ]
     },
     "metadata": {
      "needs_background": "light"
     },
     "output_type": "display_data"
    }
   ],
   "source": [
    "# посмотрим на выбросы при помощи boxplot\n",
    "plt.figure(figsize=(15, 15))\n",
    "for i, f in enumerate(distplot_columns):           \n",
    "    sns.boxplot(data=data, x=data[f], palette=\"tab10\", ax = plt.subplot(row_count, col_count, i+1)) \n",
    "    plt.title(f'Признак - {f}')\n",
    "    plt.xlabel(\"\")"
   ]
  },
  {
   "cell_type": "code",
   "execution_count": 11,
   "metadata": {},
   "outputs": [
    {
     "data": {
      "text/plain": [
       "array([323.44087589, 400.99612505])"
      ]
     },
     "execution_count": 11,
     "metadata": {},
     "output_type": "execute_result"
    }
   ],
   "source": [
    "# Посчитаем выборочные перцентили количества заказов на одного пользователя:\n",
    "np.percentile(data['avg_additional_charges_total'], [95, 99])"
   ]
  },
  {
   "cell_type": "code",
   "execution_count": 12,
   "metadata": {},
   "outputs": [
    {
     "data": {
      "text/plain": [
       "array([11., 17.])"
      ]
     },
     "execution_count": 12,
     "metadata": {},
     "output_type": "execute_result"
    }
   ],
   "source": [
    "np.percentile(data['lifetime'], [95, 99])"
   ]
  },
  {
   "cell_type": "code",
   "execution_count": 13,
   "metadata": {},
   "outputs": [
    {
     "data": {
      "text/plain": [
       "array([3.53564837, 4.19757925])"
      ]
     },
     "execution_count": 13,
     "metadata": {},
     "output_type": "execute_result"
    }
   ],
   "source": [
    "np.percentile(data['avg_class_frequency_total'], [95, 99])"
   ]
  },
  {
   "cell_type": "code",
   "execution_count": 14,
   "metadata": {},
   "outputs": [
    {
     "data": {
      "image/png": "[encoded data removed]",
      "text/plain": [
       "<Figure size 1080x1080 with 7 Axes>"
      ]
     },
     "metadata": {
      "needs_background": "light"
     },
     "output_type": "display_data"
    }
   ],
   "source": [
    "# построим гистограммы для столбцов имеющих булевые значения\n",
    "distplot_columns_1 = ['gender', 'near_location', 'partner', 'promo_friends', 'phone', 'group_visits', 'churn']\n",
    "plt.figure(figsize=(15, 15))\n",
    "for i, f in enumerate(distplot_columns_1):           \n",
    "    sns.histplot(data, x=data[f], hue='churn', palette=\"tab10\", ax = plt.subplot(row_count, col_count, i+1)) \n",
    "    plt.title(f'Признак - {f}')\n",
    "    plt.ylabel(\"Кол-во клиентов\")\n",
    "    plt.xlabel(\"\")"
   ]
  },
  {
   "cell_type": "markdown",
   "metadata": {},
   "source": [
    "* от пола нет зависимости остаются или уходят клиенты \n",
    "* остаются те, у которых фитнес рядом с домом или работой\n",
    "* отток меньше у клиентов, являющимися сотрудниками компаний-партнеров\n",
    "* остаются больше те, кто пришел не по акции \"приведи друга\"\n",
    "* оставил клиент или нет телефон, тоже может служит сигналом, уйдет или останется он\n",
    "* больше все таки  остаются клиенты, чем уходят"
   ]
  },
  {
   "cell_type": "code",
   "execution_count": 15,
   "metadata": {},
   "outputs": [
    {
     "data": {
      "image/png": "[encoded data removed]",
      "text/plain": [
       "<Figure size 1080x1080 with 2 Axes>"
      ]
     },
     "metadata": {
      "needs_background": "light"
     },
     "output_type": "display_data"
    }
   ],
   "source": [
    "# Построим матрицу корреляций и отобразим её\n",
    "df=data.corr()\n",
    "fig, ax = plt.subplots(figsize=(15, 15))\n",
    "sns.heatmap(df, annot=True, square=True, cmap=\"RdYlGn\")\n",
    "plt.title('Тепловая матрица корреляций')\n",
    "plt.xlabel(\"Признаки\")\n",
    "plt.ylabel(\"Признаки\")\n",
    "plt.show()"
   ]
  },
  {
   "cell_type": "markdown",
   "metadata": {},
   "source": [
    "Из тепловой матрицы корреляции можно увидеть, что коэффициент корреляции между признаками Avg_class_frequency_total и Avg_class_frequency_current_month, а так же Month_to_end_contract и Contract_period составляет больше 0,9.   \n",
    "\n",
    "Признаков, которые сильно коррелируют с целевой переменно нет.\n",
    "\n",
    "Логистическая регрессия относится к линейному классификатору, поэтому могут возникнуть проблемы при расчетах, чтобы этого избежать удалим вручную два признака, сильно коррелирующии с другими."
   ]
  },
  {
   "cell_type": "code",
   "execution_count": 16,
   "metadata": {},
   "outputs": [],
   "source": [
    "data = data.drop(['month_to_end_contract', 'avg_class_frequency_current_month' ], axis=1)"
   ]
  },
  {
   "cell_type": "markdown",
   "metadata": {},
   "source": [
    "### Вывод\n",
    "\n",
    "1. Исходя из исследовательского анализа, можно составить портрет клиента, который уходит:\n",
    "\n",
    "* не проживает и не работает в районе фитнес-клуба\n",
    "* более молодые\n",
    "* меньше пользуется другими услугами фитнес центра\n",
    "* длительность текущего абонемента составляет менее 2ух месяцев\n",
    "* лайфтайм меньше месяца\n",
    "* посещение в неделю менее двух раз\n",
    "* тот кто за неделю не посетил фитнес ни разу.\n",
    "* тот кто не оставляет телефон\n",
    "\n",
    "2. Так же:\n",
    "* от пола нет зависимости остаются или уходят клиенты \n",
    "* отток меньше у клиентов, являющимися сотрудниками компаний-партнеров.\n",
    "* остаются больше те, кто пришел не по акции \"приведи друга\"\n",
    "* больше все таки  остаются клиенты, чем уходят\n",
    "\n",
    "3. Коэффициент корреляции между признаками Avg_class_frequency_total и Avg_class_frequency_current_month, а так же Month_to_end_contract и Contract_period составляет больше 0,9. Чтобы избавиться от мультиколлинеарности, удалили из датафрейма два из них.  \n",
    "\n",
    "\n",
    "4. Графики показали на не сбалансированность классов, отток клиентов не равномерный, уходит в три раза меньше клиентов чем остаются.  "
   ]
  },
  {
   "cell_type": "markdown",
   "metadata": {},
   "source": [
    "## Построение модели прогнозирования оттока клиентов"
   ]
  },
  {
   "cell_type": "markdown",
   "metadata": {},
   "source": [
    "Построим модель бинарной классификации клиентов, где целевой признак — факт оттока клиента в следующем месяце:"
   ]
  },
  {
   "cell_type": "code",
   "execution_count": 17,
   "metadata": {},
   "outputs": [],
   "source": [
    "X = data.drop(['churn'], axis=1) # сохраним в переменной матрицу объекты-признаки, удалив из датафрейма колонку с целевой переменной\n",
    "y = data['churn']# сохраним в переменной колонку со значением целевой переменной\n"
   ]
  },
  {
   "cell_type": "code",
   "execution_count": 18,
   "metadata": {},
   "outputs": [],
   "source": [
    "# создадим обучающий набор, выделяя 70% выборок в исходном наборе данных. Следовательно, train_size равен 0,70.\n",
    "X_train, X_rem, y_train, y_rem = train_test_split(X, y, train_size=0.70, random_state=0, stratify=y)"
   ]
  },
  {
   "cell_type": "code",
   "execution_count": 19,
   "metadata": {},
   "outputs": [],
   "source": [
    "# Части X_rem и y_rem относятся к оставшемуся набору данных, который используется для создания \n",
    "# проверочных и тестовых наборов на следующем шаге.\n",
    "X_valid, X_test, y_valid, y_test = train_test_split (X_rem, y_rem, test_size = 0.15, random_state=0)"
   ]
  },
  {
   "cell_type": "code",
   "execution_count": 20,
   "metadata": {},
   "outputs": [],
   "source": [
    "def print_all_metrics(y_true, y_pred, y_proba, title='Метрики классификации'):\n",
    "    print(title)\n",
    "    print('\\tAccuracy: {:.2f}'.format(accuracy_score(y_true, y_pred)))\n",
    "    print('\\tPrecision: {:.2f}'.format(precision_score(y_true, y_pred)))\n",
    "    print('\\tRecall: {:.2f}'.format(recall_score(y_true, y_pred)))"
   ]
  },
  {
   "cell_type": "code",
   "execution_count": 21,
   "metadata": {},
   "outputs": [],
   "source": [
    "# обучим StandartScaler на обучающей выборке\n",
    "scaler = StandardScaler()\n",
    "scaler.fit(X_train)\n",
    "\n",
    "# Преобразуем обучающий и валидационные наборы данных\n",
    "X_train_st = scaler.transform(X_train)\n",
    "X_valid_st = scaler.transform(X_valid)\n",
    "\n",
    "# зададим алгоритм для нашей модели\n",
    "lr_model = LogisticRegression(solver='liblinear', random_state=0)\n",
    "\n",
    "# обучим модель\n",
    "lr_model.fit(X_train_st, y_train)\n",
    "\n",
    "# воспользуемся уже обученной моделью, чтобы сделать прогнозы\n",
    "lr_predictions = lr_model.predict(X_valid_st)\n",
    "lr_probabilities = lr_model.predict_proba(X_valid_st)[:, 1]"
   ]
  },
  {
   "cell_type": "code",
   "execution_count": 22,
   "metadata": {},
   "outputs": [
    {
     "name": "stdout",
     "output_type": "stream",
     "text": [
      "Метрики для модели логистической регрессии:\n",
      "\tAccuracy: 0.89\n",
      "\tPrecision: 0.81\n",
      "\tRecall: 0.79\n"
     ]
    }
   ],
   "source": [
    "# выведем все метрики\n",
    "print_all_metrics(\n",
    "    y_valid,\n",
    "    lr_predictions,\n",
    "    lr_probabilities,\n",
    "    title='Метрики для модели логистической регрессии:',)"
   ]
  },
  {
   "cell_type": "code",
   "execution_count": 23,
   "metadata": {},
   "outputs": [],
   "source": [
    "rf_model = RandomForestClassifier(n_estimators = 100, random_state = 0) \n",
    "# обучим модель случайного леса\n",
    "rf_model.fit(X_train, y_train)\n",
    "# воспользуемся уже обученной моделью, чтобы сделать прогнозы\n",
    "rf_predictions = rf_model.predict(X_valid) \n",
    "rf_probabilities = rf_model.predict_proba(X_valid)[:, 1]"
   ]
  },
  {
   "cell_type": "code",
   "execution_count": 24,
   "metadata": {},
   "outputs": [
    {
     "name": "stdout",
     "output_type": "stream",
     "text": [
      "Метрики для модели случайного леса:\n",
      "\tAccuracy: 0.88\n",
      "\tPrecision: 0.80\n",
      "\tRecall: 0.74\n"
     ]
    }
   ],
   "source": [
    "# выведем все метрики\n",
    "print_all_metrics(\n",
    "    y_valid, \n",
    "    rf_predictions,\n",
    "    rf_probabilities,\n",
    "    title='Метрики для модели случайного леса:'\n",
    ")"
   ]
  },
  {
   "cell_type": "code",
   "execution_count": 25,
   "metadata": {},
   "outputs": [],
   "source": [
    "# разделим набор данных на обучающие и тестовые наборы\n",
    "X_train, X_test, y_train, y_test = train_test_split(X, y, test_size=0.15, random_state=0, stratify=y)"
   ]
  },
  {
   "cell_type": "code",
   "execution_count": 26,
   "metadata": {},
   "outputs": [],
   "source": [
    "# обучим StandartScaler на обучающей выборке\n",
    "scaler = StandardScaler()\n",
    "scaler.fit(X_train)\n",
    "\n",
    "# Преобразуем обучающий и тесмтовые наборы данных\n",
    "X_train_st = scaler.transform(X_train)\n",
    "X_test_st = scaler.transform(X_test)\n",
    "\n",
    "# зададим алгоритм для нашей модели\n",
    "lr_model = LogisticRegression(solver='liblinear', random_state=0)\n",
    "\n",
    "# обучим модель\n",
    "lr_model.fit(X_train_st, y_train)\n",
    "\n",
    "# воспользуемся уже обученной моделью, чтобы сделать прогнозы\n",
    "lr_predictions = lr_model.predict(X_test_st)\n",
    "lr_probabilities = lr_model.predict_proba(X_test_st)[:, 1]"
   ]
  },
  {
   "cell_type": "code",
   "execution_count": 27,
   "metadata": {},
   "outputs": [
    {
     "name": "stdout",
     "output_type": "stream",
     "text": [
      "Метрики для модели логистической регрессии:\n",
      "\tAccuracy: 0.91\n",
      "\tPrecision: 0.83\n",
      "\tRecall: 0.82\n"
     ]
    }
   ],
   "source": [
    "# выведем все метрики\n",
    "print_all_metrics(\n",
    "    y_test,\n",
    "    lr_predictions,\n",
    "    lr_probabilities,\n",
    "    title='Метрики для модели логистической регрессии:',)\n"
   ]
  },
  {
   "cell_type": "code",
   "execution_count": 28,
   "metadata": {},
   "outputs": [],
   "source": [
    "rf_model = RandomForestClassifier(n_estimators = 100, random_state = 0) \n",
    "# обучим модель случайного леса\n",
    "rf_model.fit(X_train, y_train)\n",
    "# воспользуемся уже обученной моделью, чтобы сделать прогнозы\n",
    "rf_predictions = rf_model.predict(X_test) \n",
    "rf_probabilities = rf_model.predict_proba(X_test)[:, 1]"
   ]
  },
  {
   "cell_type": "code",
   "execution_count": 29,
   "metadata": {},
   "outputs": [
    {
     "name": "stdout",
     "output_type": "stream",
     "text": [
      "Метрики для модели случайного леса:\n",
      "\tAccuracy: 0.90\n",
      "\tPrecision: 0.83\n",
      "\tRecall: 0.79\n"
     ]
    }
   ],
   "source": [
    "# выведем все метрики\n",
    "print_all_metrics(\n",
    "    y_test, \n",
    "    rf_predictions,\n",
    "    rf_probabilities,\n",
    "    title='Метрики для модели случайного леса:'\n",
    ")"
   ]
  },
  {
   "cell_type": "markdown",
   "metadata": {},
   "source": [
    "### Вывод\n",
    "Для валидационной выборки модель логистическая регрессия лучше, все три показателя ближе к 100%. \n",
    "\n",
    "Для тестовой выборки у модели логистической регресии, два из трех метрик ближе к 100%, чем у модели случайного леса, таким образом она показала себя лучше. "
   ]
  },
  {
   "cell_type": "markdown",
   "metadata": {},
   "source": [
    "## Проведение кластеризации клиентов"
   ]
  },
  {
   "cell_type": "code",
   "execution_count": 30,
   "metadata": {},
   "outputs": [],
   "source": [
    "# стандартизируем данные перед работой с алгоритмами\n",
    "sc = StandardScaler()\n",
    "X_sc = sc.fit_transform(X) "
   ]
  },
  {
   "cell_type": "code",
   "execution_count": 31,
   "metadata": {},
   "outputs": [],
   "source": [
    "# Построим матрицу расстояний функцией linkage() на стандартизованной матрице признаков\n",
    "linked = linkage(X_sc, method = 'ward')"
   ]
  },
  {
   "cell_type": "code",
   "execution_count": 32,
   "metadata": {},
   "outputs": [
    {
     "data": {
      "image/png": "[encoded data removed]",
      "text/plain": [
       "<Figure size 1080x720 with 1 Axes>"
      ]
     },
     "metadata": {
      "needs_background": "light"
     },
     "output_type": "display_data"
    }
   ],
   "source": [
    "# В переменной linked сохранена таблица «связок» между объектами. Её можно визуализировать как дендрограмму:\n",
    "plt.figure(figsize=(15, 10))  \n",
    "dendrogram(linked, orientation='top')\n",
    "plt.title('Hierarchial clustering for GYM')\n",
    "plt.show() "
   ]
  },
  {
   "cell_type": "markdown",
   "metadata": {},
   "source": [
    "На основании дендограммы можно выделить 4 кластера."
   ]
  },
  {
   "cell_type": "code",
   "execution_count": 33,
   "metadata": {},
   "outputs": [],
   "source": [
    "# задаём число кластеров, равное 5 как указано в задании, и фиксируем значение random_state для воспроизводимости результата\n",
    "km = KMeans(n_clusters=5, random_state=0) \n",
    "\n",
    "# применяем алгоритм к данным и формируем вектор кластеров \n",
    "labels = km.fit_predict(X_sc) "
   ]
  },
  {
   "cell_type": "code",
   "execution_count": 34,
   "metadata": {
    "scrolled": true
   },
   "outputs": [],
   "source": [
    "# сохраняем метки кластера в поле нашего датасета\n",
    "data['cluster_km'] = labels\n"
   ]
  },
  {
   "cell_type": "code",
   "execution_count": 35,
   "metadata": {},
   "outputs": [
    {
     "data": {
      "text/html": [
       "<style  type=\"text/css\" >\n",
       "#T_6745ad66_6e3d_11ed_8737_002454b3a1e4row0_col2,#T_6745ad66_6e3d_11ed_8737_002454b3a1e4row0_col8,#T_6745ad66_6e3d_11ed_8737_002454b3a1e4row0_col9,#T_6745ad66_6e3d_11ed_8737_002454b3a1e4row0_col10,#T_6745ad66_6e3d_11ed_8737_002454b3a1e4row0_col11,#T_6745ad66_6e3d_11ed_8737_002454b3a1e4row1_col1,#T_6745ad66_6e3d_11ed_8737_002454b3a1e4row1_col12,#T_6745ad66_6e3d_11ed_8737_002454b3a1e4row2_col3,#T_6745ad66_6e3d_11ed_8737_002454b3a1e4row2_col4,#T_6745ad66_6e3d_11ed_8737_002454b3a1e4row2_col6,#T_6745ad66_6e3d_11ed_8737_002454b3a1e4row2_col7,#T_6745ad66_6e3d_11ed_8737_002454b3a1e4row4_col5{\n",
       "            background-color:  coral;\n",
       "        }#T_6745ad66_6e3d_11ed_8737_002454b3a1e4row0_col5,#T_6745ad66_6e3d_11ed_8737_002454b3a1e4row0_col12,#T_6745ad66_6e3d_11ed_8737_002454b3a1e4row1_col3,#T_6745ad66_6e3d_11ed_8737_002454b3a1e4row1_col4,#T_6745ad66_6e3d_11ed_8737_002454b3a1e4row1_col5,#T_6745ad66_6e3d_11ed_8737_002454b3a1e4row1_col6,#T_6745ad66_6e3d_11ed_8737_002454b3a1e4row1_col8,#T_6745ad66_6e3d_11ed_8737_002454b3a1e4row1_col9,#T_6745ad66_6e3d_11ed_8737_002454b3a1e4row1_col10,#T_6745ad66_6e3d_11ed_8737_002454b3a1e4row1_col11,#T_6745ad66_6e3d_11ed_8737_002454b3a1e4row2_col2,#T_6745ad66_6e3d_11ed_8737_002454b3a1e4row2_col5,#T_6745ad66_6e3d_11ed_8737_002454b3a1e4row3_col1,#T_6745ad66_6e3d_11ed_8737_002454b3a1e4row3_col2,#T_6745ad66_6e3d_11ed_8737_002454b3a1e4row3_col5,#T_6745ad66_6e3d_11ed_8737_002454b3a1e4row3_col7{\n",
       "            background-color:  yellowgreen;\n",
       "        }</style><table id=\"T_6745ad66_6e3d_11ed_8737_002454b3a1e4\" ><thead>    <tr>        <th class=\"blank level0\" ></th>        <th class=\"col_heading level0 col0\" >cluster_km</th>        <th class=\"col_heading level0 col1\" >gender</th>        <th class=\"col_heading level0 col2\" >near_location</th>        <th class=\"col_heading level0 col3\" >partner</th>        <th class=\"col_heading level0 col4\" >promo_friends</th>        <th class=\"col_heading level0 col5\" >phone</th>        <th class=\"col_heading level0 col6\" >contract_period</th>        <th class=\"col_heading level0 col7\" >group_visits</th>        <th class=\"col_heading level0 col8\" >age</th>        <th class=\"col_heading level0 col9\" >avg_additional_charges_total</th>        <th class=\"col_heading level0 col10\" >lifetime</th>        <th class=\"col_heading level0 col11\" >avg_class_frequency_total</th>        <th class=\"col_heading level0 col12\" >churn</th>    </tr></thead><tbody>\n",
       "                <tr>\n",
       "                        <th id=\"T_6745ad66_6e3d_11ed_8737_002454b3a1e4level0_row0\" class=\"row_heading level0 row0\" >0</th>\n",
       "                        <td id=\"T_6745ad66_6e3d_11ed_8737_002454b3a1e4row0_col0\" class=\"data row0 col0\" >0</td>\n",
       "                        <td id=\"T_6745ad66_6e3d_11ed_8737_002454b3a1e4row0_col1\" class=\"data row0 col1\" >0.50</td>\n",
       "                        <td id=\"T_6745ad66_6e3d_11ed_8737_002454b3a1e4row0_col2\" class=\"data row0 col2\" >0.00</td>\n",
       "                        <td id=\"T_6745ad66_6e3d_11ed_8737_002454b3a1e4row0_col3\" class=\"data row0 col3\" >0.49</td>\n",
       "                        <td id=\"T_6745ad66_6e3d_11ed_8737_002454b3a1e4row0_col4\" class=\"data row0 col4\" >0.08</td>\n",
       "                        <td id=\"T_6745ad66_6e3d_11ed_8737_002454b3a1e4row0_col5\" class=\"data row0 col5\" >1.00</td>\n",
       "                        <td id=\"T_6745ad66_6e3d_11ed_8737_002454b3a1e4row0_col6\" class=\"data row0 col6\" >3.03</td>\n",
       "                        <td id=\"T_6745ad66_6e3d_11ed_8737_002454b3a1e4row0_col7\" class=\"data row0 col7\" >0.24</td>\n",
       "                        <td id=\"T_6745ad66_6e3d_11ed_8737_002454b3a1e4row0_col8\" class=\"data row0 col8\" >28.72</td>\n",
       "                        <td id=\"T_6745ad66_6e3d_11ed_8737_002454b3a1e4row0_col9\" class=\"data row0 col9\" >137.54</td>\n",
       "                        <td id=\"T_6745ad66_6e3d_11ed_8737_002454b3a1e4row0_col10\" class=\"data row0 col10\" >3.06</td>\n",
       "                        <td id=\"T_6745ad66_6e3d_11ed_8737_002454b3a1e4row0_col11\" class=\"data row0 col11\" >1.77</td>\n",
       "                        <td id=\"T_6745ad66_6e3d_11ed_8737_002454b3a1e4row0_col12\" class=\"data row0 col12\" >0.40</td>\n",
       "            </tr>\n",
       "            <tr>\n",
       "                        <th id=\"T_6745ad66_6e3d_11ed_8737_002454b3a1e4level0_row1\" class=\"row_heading level0 row1\" >1</th>\n",
       "                        <td id=\"T_6745ad66_6e3d_11ed_8737_002454b3a1e4row1_col0\" class=\"data row1 col0\" >1</td>\n",
       "                        <td id=\"T_6745ad66_6e3d_11ed_8737_002454b3a1e4row1_col1\" class=\"data row1 col1\" >0.49</td>\n",
       "                        <td id=\"T_6745ad66_6e3d_11ed_8737_002454b3a1e4row1_col2\" class=\"data row1 col2\" >1.00</td>\n",
       "                        <td id=\"T_6745ad66_6e3d_11ed_8737_002454b3a1e4row1_col3\" class=\"data row1 col3\" >0.96</td>\n",
       "                        <td id=\"T_6745ad66_6e3d_11ed_8737_002454b3a1e4row1_col4\" class=\"data row1 col4\" >0.89</td>\n",
       "                        <td id=\"T_6745ad66_6e3d_11ed_8737_002454b3a1e4row1_col5\" class=\"data row1 col5\" >1.00</td>\n",
       "                        <td id=\"T_6745ad66_6e3d_11ed_8737_002454b3a1e4row1_col6\" class=\"data row1 col6\" >7.66</td>\n",
       "                        <td id=\"T_6745ad66_6e3d_11ed_8737_002454b3a1e4row1_col7\" class=\"data row1 col7\" >0.46</td>\n",
       "                        <td id=\"T_6745ad66_6e3d_11ed_8737_002454b3a1e4row1_col8\" class=\"data row1 col8\" >29.54</td>\n",
       "                        <td id=\"T_6745ad66_6e3d_11ed_8737_002454b3a1e4row1_col9\" class=\"data row1 col9\" >155.86</td>\n",
       "                        <td id=\"T_6745ad66_6e3d_11ed_8737_002454b3a1e4row1_col10\" class=\"data row1 col10\" >4.38</td>\n",
       "                        <td id=\"T_6745ad66_6e3d_11ed_8737_002454b3a1e4row1_col11\" class=\"data row1 col11\" >1.98</td>\n",
       "                        <td id=\"T_6745ad66_6e3d_11ed_8737_002454b3a1e4row1_col12\" class=\"data row1 col12\" >0.12</td>\n",
       "            </tr>\n",
       "            <tr>\n",
       "                        <th id=\"T_6745ad66_6e3d_11ed_8737_002454b3a1e4level0_row2\" class=\"row_heading level0 row2\" >2</th>\n",
       "                        <td id=\"T_6745ad66_6e3d_11ed_8737_002454b3a1e4row2_col0\" class=\"data row2 col0\" >2</td>\n",
       "                        <td id=\"T_6745ad66_6e3d_11ed_8737_002454b3a1e4row2_col1\" class=\"data row2 col1\" >0.51</td>\n",
       "                        <td id=\"T_6745ad66_6e3d_11ed_8737_002454b3a1e4row2_col2\" class=\"data row2 col2\" >1.00</td>\n",
       "                        <td id=\"T_6745ad66_6e3d_11ed_8737_002454b3a1e4row2_col3\" class=\"data row2 col3\" >0.24</td>\n",
       "                        <td id=\"T_6745ad66_6e3d_11ed_8737_002454b3a1e4row2_col4\" class=\"data row2 col4\" >0.06</td>\n",
       "                        <td id=\"T_6745ad66_6e3d_11ed_8737_002454b3a1e4row2_col5\" class=\"data row2 col5\" >1.00</td>\n",
       "                        <td id=\"T_6745ad66_6e3d_11ed_8737_002454b3a1e4row2_col6\" class=\"data row2 col6\" >2.82</td>\n",
       "                        <td id=\"T_6745ad66_6e3d_11ed_8737_002454b3a1e4row2_col7\" class=\"data row2 col7\" >0.00</td>\n",
       "                        <td id=\"T_6745ad66_6e3d_11ed_8737_002454b3a1e4row2_col8\" class=\"data row2 col8\" >28.77</td>\n",
       "                        <td id=\"T_6745ad66_6e3d_11ed_8737_002454b3a1e4row2_col9\" class=\"data row2 col9\" >143.38</td>\n",
       "                        <td id=\"T_6745ad66_6e3d_11ed_8737_002454b3a1e4row2_col10\" class=\"data row2 col10\" >3.34</td>\n",
       "                        <td id=\"T_6745ad66_6e3d_11ed_8737_002454b3a1e4row2_col11\" class=\"data row2 col11\" >1.80</td>\n",
       "                        <td id=\"T_6745ad66_6e3d_11ed_8737_002454b3a1e4row2_col12\" class=\"data row2 col12\" >0.38</td>\n",
       "            </tr>\n",
       "            <tr>\n",
       "                        <th id=\"T_6745ad66_6e3d_11ed_8737_002454b3a1e4level0_row3\" class=\"row_heading level0 row3\" >3</th>\n",
       "                        <td id=\"T_6745ad66_6e3d_11ed_8737_002454b3a1e4row3_col0\" class=\"data row3 col0\" >3</td>\n",
       "                        <td id=\"T_6745ad66_6e3d_11ed_8737_002454b3a1e4row3_col1\" class=\"data row3 col1\" >0.54</td>\n",
       "                        <td id=\"T_6745ad66_6e3d_11ed_8737_002454b3a1e4row3_col2\" class=\"data row3 col2\" >1.00</td>\n",
       "                        <td id=\"T_6745ad66_6e3d_11ed_8737_002454b3a1e4row3_col3\" class=\"data row3 col3\" >0.25</td>\n",
       "                        <td id=\"T_6745ad66_6e3d_11ed_8737_002454b3a1e4row3_col4\" class=\"data row3 col4\" >0.08</td>\n",
       "                        <td id=\"T_6745ad66_6e3d_11ed_8737_002454b3a1e4row3_col5\" class=\"data row3 col5\" >1.00</td>\n",
       "                        <td id=\"T_6745ad66_6e3d_11ed_8737_002454b3a1e4row3_col6\" class=\"data row3 col6\" >4.53</td>\n",
       "                        <td id=\"T_6745ad66_6e3d_11ed_8737_002454b3a1e4row3_col7\" class=\"data row3 col7\" >1.00</td>\n",
       "                        <td id=\"T_6745ad66_6e3d_11ed_8737_002454b3a1e4row3_col8\" class=\"data row3 col8\" >29.54</td>\n",
       "                        <td id=\"T_6745ad66_6e3d_11ed_8737_002454b3a1e4row3_col9\" class=\"data row3 col9\" >148.09</td>\n",
       "                        <td id=\"T_6745ad66_6e3d_11ed_8737_002454b3a1e4row3_col10\" class=\"data row3 col10\" >3.76</td>\n",
       "                        <td id=\"T_6745ad66_6e3d_11ed_8737_002454b3a1e4row3_col11\" class=\"data row3 col11\" >1.94</td>\n",
       "                        <td id=\"T_6745ad66_6e3d_11ed_8737_002454b3a1e4row3_col12\" class=\"data row3 col12\" >0.20</td>\n",
       "            </tr>\n",
       "            <tr>\n",
       "                        <th id=\"T_6745ad66_6e3d_11ed_8737_002454b3a1e4level0_row4\" class=\"row_heading level0 row4\" >4</th>\n",
       "                        <td id=\"T_6745ad66_6e3d_11ed_8737_002454b3a1e4row4_col0\" class=\"data row4 col0\" >4</td>\n",
       "                        <td id=\"T_6745ad66_6e3d_11ed_8737_002454b3a1e4row4_col1\" class=\"data row4 col1\" >0.52</td>\n",
       "                        <td id=\"T_6745ad66_6e3d_11ed_8737_002454b3a1e4row4_col2\" class=\"data row4 col2\" >0.86</td>\n",
       "                        <td id=\"T_6745ad66_6e3d_11ed_8737_002454b3a1e4row4_col3\" class=\"data row4 col3\" >0.47</td>\n",
       "                        <td id=\"T_6745ad66_6e3d_11ed_8737_002454b3a1e4row4_col4\" class=\"data row4 col4\" >0.31</td>\n",
       "                        <td id=\"T_6745ad66_6e3d_11ed_8737_002454b3a1e4row4_col5\" class=\"data row4 col5\" >0.00</td>\n",
       "                        <td id=\"T_6745ad66_6e3d_11ed_8737_002454b3a1e4row4_col6\" class=\"data row4 col6\" >4.78</td>\n",
       "                        <td id=\"T_6745ad66_6e3d_11ed_8737_002454b3a1e4row4_col7\" class=\"data row4 col7\" >0.43</td>\n",
       "                        <td id=\"T_6745ad66_6e3d_11ed_8737_002454b3a1e4row4_col8\" class=\"data row4 col8\" >29.30</td>\n",
       "                        <td id=\"T_6745ad66_6e3d_11ed_8737_002454b3a1e4row4_col9\" class=\"data row4 col9\" >144.21</td>\n",
       "                        <td id=\"T_6745ad66_6e3d_11ed_8737_002454b3a1e4row4_col10\" class=\"data row4 col10\" >3.94</td>\n",
       "                        <td id=\"T_6745ad66_6e3d_11ed_8737_002454b3a1e4row4_col11\" class=\"data row4 col11\" >1.85</td>\n",
       "                        <td id=\"T_6745ad66_6e3d_11ed_8737_002454b3a1e4row4_col12\" class=\"data row4 col12\" >0.27</td>\n",
       "            </tr>\n",
       "    </tbody></table>"
      ],
      "text/plain": [
       "<pandas.io.formats.style.Styler at 0x14f29674348>"
      ]
     },
     "execution_count": 35,
     "metadata": {},
     "output_type": "execute_result"
    }
   ],
   "source": [
    "# выводим статистику по средним значениям наших признаков по кластеру\n",
    "cluster_features = data.groupby('cluster_km').mean().reset_index()\n",
    "numeric_columns = cluster_features.drop(columns=['cluster_km']).columns\n",
    "cluster_features.style.format({i: '{:.2f}' for i in numeric_columns}) \\\n",
    "    .highlight_max(color='yellowgreen', subset=numeric_columns) \\\n",
    "    .highlight_min(color='coral', subset=numeric_columns)"
   ]
  },
  {
   "cell_type": "code",
   "execution_count": 36,
   "metadata": {},
   "outputs": [
    {
     "data": {
      "text/html": [
       "<style  type=\"text/css\" >\n",
       "#T_67588eba_6e3d_11ed_a31a_002454b3a1e4row0_col0,#T_67588eba_6e3d_11ed_a31a_002454b3a1e4row1_col0,#T_67588eba_6e3d_11ed_a31a_002454b3a1e4row2_col0,#T_67588eba_6e3d_11ed_a31a_002454b3a1e4row3_col0,#T_67588eba_6e3d_11ed_a31a_002454b3a1e4row4_col0,#T_67588eba_6e3d_11ed_a31a_002454b3a1e4row5_col0,#T_67588eba_6e3d_11ed_a31a_002454b3a1e4row6_col0,#T_67588eba_6e3d_11ed_a31a_002454b3a1e4row7_col0,#T_67588eba_6e3d_11ed_a31a_002454b3a1e4row8_col0,#T_67588eba_6e3d_11ed_a31a_002454b3a1e4row9_col0,#T_67588eba_6e3d_11ed_a31a_002454b3a1e4row10_col0,#T_67588eba_6e3d_11ed_a31a_002454b3a1e4row11_col0{\n",
       "            background-color:  #88abfd;\n",
       "            color:  #000000;\n",
       "        }#T_67588eba_6e3d_11ed_a31a_002454b3a1e4row0_col1,#T_67588eba_6e3d_11ed_a31a_002454b3a1e4row1_col1,#T_67588eba_6e3d_11ed_a31a_002454b3a1e4row2_col1,#T_67588eba_6e3d_11ed_a31a_002454b3a1e4row3_col1,#T_67588eba_6e3d_11ed_a31a_002454b3a1e4row4_col1,#T_67588eba_6e3d_11ed_a31a_002454b3a1e4row5_col1,#T_67588eba_6e3d_11ed_a31a_002454b3a1e4row6_col1,#T_67588eba_6e3d_11ed_a31a_002454b3a1e4row7_col1,#T_67588eba_6e3d_11ed_a31a_002454b3a1e4row8_col1,#T_67588eba_6e3d_11ed_a31a_002454b3a1e4row9_col1,#T_67588eba_6e3d_11ed_a31a_002454b3a1e4row10_col1,#T_67588eba_6e3d_11ed_a31a_002454b3a1e4row11_col1{\n",
       "            background-color:  #d95847;\n",
       "            color:  #000000;\n",
       "        }#T_67588eba_6e3d_11ed_a31a_002454b3a1e4row0_col2,#T_67588eba_6e3d_11ed_a31a_002454b3a1e4row1_col2,#T_67588eba_6e3d_11ed_a31a_002454b3a1e4row2_col2,#T_67588eba_6e3d_11ed_a31a_002454b3a1e4row3_col2,#T_67588eba_6e3d_11ed_a31a_002454b3a1e4row4_col2,#T_67588eba_6e3d_11ed_a31a_002454b3a1e4row5_col2,#T_67588eba_6e3d_11ed_a31a_002454b3a1e4row6_col2,#T_67588eba_6e3d_11ed_a31a_002454b3a1e4row7_col2,#T_67588eba_6e3d_11ed_a31a_002454b3a1e4row8_col2,#T_67588eba_6e3d_11ed_a31a_002454b3a1e4row9_col2,#T_67588eba_6e3d_11ed_a31a_002454b3a1e4row10_col2,#T_67588eba_6e3d_11ed_a31a_002454b3a1e4row11_col2{\n",
       "            background-color:  #b40426;\n",
       "            color:  #f1f1f1;\n",
       "        }#T_67588eba_6e3d_11ed_a31a_002454b3a1e4row0_col3,#T_67588eba_6e3d_11ed_a31a_002454b3a1e4row1_col3,#T_67588eba_6e3d_11ed_a31a_002454b3a1e4row2_col3,#T_67588eba_6e3d_11ed_a31a_002454b3a1e4row3_col3,#T_67588eba_6e3d_11ed_a31a_002454b3a1e4row4_col3,#T_67588eba_6e3d_11ed_a31a_002454b3a1e4row5_col3,#T_67588eba_6e3d_11ed_a31a_002454b3a1e4row6_col3,#T_67588eba_6e3d_11ed_a31a_002454b3a1e4row7_col3,#T_67588eba_6e3d_11ed_a31a_002454b3a1e4row8_col3,#T_67588eba_6e3d_11ed_a31a_002454b3a1e4row9_col3,#T_67588eba_6e3d_11ed_a31a_002454b3a1e4row10_col3,#T_67588eba_6e3d_11ed_a31a_002454b3a1e4row11_col3{\n",
       "            background-color:  #f6bda2;\n",
       "            color:  #000000;\n",
       "        }#T_67588eba_6e3d_11ed_a31a_002454b3a1e4row0_col4,#T_67588eba_6e3d_11ed_a31a_002454b3a1e4row1_col4,#T_67588eba_6e3d_11ed_a31a_002454b3a1e4row2_col4,#T_67588eba_6e3d_11ed_a31a_002454b3a1e4row3_col4,#T_67588eba_6e3d_11ed_a31a_002454b3a1e4row4_col4,#T_67588eba_6e3d_11ed_a31a_002454b3a1e4row5_col4,#T_67588eba_6e3d_11ed_a31a_002454b3a1e4row6_col4,#T_67588eba_6e3d_11ed_a31a_002454b3a1e4row7_col4,#T_67588eba_6e3d_11ed_a31a_002454b3a1e4row8_col4,#T_67588eba_6e3d_11ed_a31a_002454b3a1e4row9_col4,#T_67588eba_6e3d_11ed_a31a_002454b3a1e4row10_col4,#T_67588eba_6e3d_11ed_a31a_002454b3a1e4row11_col4{\n",
       "            background-color:  #3b4cc0;\n",
       "            color:  #f1f1f1;\n",
       "        }</style><table id=\"T_67588eba_6e3d_11ed_a31a_002454b3a1e4\" ><thead>    <tr>        <th class=\"index_name level0\" >cluster_km</th>        <th class=\"col_heading level0 col0\" >0</th>        <th class=\"col_heading level0 col1\" >1</th>        <th class=\"col_heading level0 col2\" >2</th>        <th class=\"col_heading level0 col3\" >3</th>        <th class=\"col_heading level0 col4\" >4</th>    </tr></thead><tbody>\n",
       "                <tr>\n",
       "                        <th id=\"T_67588eba_6e3d_11ed_a31a_002454b3a1e4level0_row0\" class=\"row_heading level0 row0\" >gender</th>\n",
       "                        <td id=\"T_67588eba_6e3d_11ed_a31a_002454b3a1e4row0_col0\" class=\"data row0 col0\" >561</td>\n",
       "                        <td id=\"T_67588eba_6e3d_11ed_a31a_002454b3a1e4row0_col1\" class=\"data row0 col1\" >1050</td>\n",
       "                        <td id=\"T_67588eba_6e3d_11ed_a31a_002454b3a1e4row0_col2\" class=\"data row0 col2\" >1132</td>\n",
       "                        <td id=\"T_67588eba_6e3d_11ed_a31a_002454b3a1e4row0_col3\" class=\"data row0 col3\" >871</td>\n",
       "                        <td id=\"T_67588eba_6e3d_11ed_a31a_002454b3a1e4row0_col4\" class=\"data row0 col4\" >386</td>\n",
       "            </tr>\n",
       "            <tr>\n",
       "                        <th id=\"T_67588eba_6e3d_11ed_a31a_002454b3a1e4level0_row1\" class=\"row_heading level0 row1\" >near_location</th>\n",
       "                        <td id=\"T_67588eba_6e3d_11ed_a31a_002454b3a1e4row1_col0\" class=\"data row1 col0\" >561</td>\n",
       "                        <td id=\"T_67588eba_6e3d_11ed_a31a_002454b3a1e4row1_col1\" class=\"data row1 col1\" >1050</td>\n",
       "                        <td id=\"T_67588eba_6e3d_11ed_a31a_002454b3a1e4row1_col2\" class=\"data row1 col2\" >1132</td>\n",
       "                        <td id=\"T_67588eba_6e3d_11ed_a31a_002454b3a1e4row1_col3\" class=\"data row1 col3\" >871</td>\n",
       "                        <td id=\"T_67588eba_6e3d_11ed_a31a_002454b3a1e4row1_col4\" class=\"data row1 col4\" >386</td>\n",
       "            </tr>\n",
       "            <tr>\n",
       "                        <th id=\"T_67588eba_6e3d_11ed_a31a_002454b3a1e4level0_row2\" class=\"row_heading level0 row2\" >partner</th>\n",
       "                        <td id=\"T_67588eba_6e3d_11ed_a31a_002454b3a1e4row2_col0\" class=\"data row2 col0\" >561</td>\n",
       "                        <td id=\"T_67588eba_6e3d_11ed_a31a_002454b3a1e4row2_col1\" class=\"data row2 col1\" >1050</td>\n",
       "                        <td id=\"T_67588eba_6e3d_11ed_a31a_002454b3a1e4row2_col2\" class=\"data row2 col2\" >1132</td>\n",
       "                        <td id=\"T_67588eba_6e3d_11ed_a31a_002454b3a1e4row2_col3\" class=\"data row2 col3\" >871</td>\n",
       "                        <td id=\"T_67588eba_6e3d_11ed_a31a_002454b3a1e4row2_col4\" class=\"data row2 col4\" >386</td>\n",
       "            </tr>\n",
       "            <tr>\n",
       "                        <th id=\"T_67588eba_6e3d_11ed_a31a_002454b3a1e4level0_row3\" class=\"row_heading level0 row3\" >promo_friends</th>\n",
       "                        <td id=\"T_67588eba_6e3d_11ed_a31a_002454b3a1e4row3_col0\" class=\"data row3 col0\" >561</td>\n",
       "                        <td id=\"T_67588eba_6e3d_11ed_a31a_002454b3a1e4row3_col1\" class=\"data row3 col1\" >1050</td>\n",
       "                        <td id=\"T_67588eba_6e3d_11ed_a31a_002454b3a1e4row3_col2\" class=\"data row3 col2\" >1132</td>\n",
       "                        <td id=\"T_67588eba_6e3d_11ed_a31a_002454b3a1e4row3_col3\" class=\"data row3 col3\" >871</td>\n",
       "                        <td id=\"T_67588eba_6e3d_11ed_a31a_002454b3a1e4row3_col4\" class=\"data row3 col4\" >386</td>\n",
       "            </tr>\n",
       "            <tr>\n",
       "                        <th id=\"T_67588eba_6e3d_11ed_a31a_002454b3a1e4level0_row4\" class=\"row_heading level0 row4\" >phone</th>\n",
       "                        <td id=\"T_67588eba_6e3d_11ed_a31a_002454b3a1e4row4_col0\" class=\"data row4 col0\" >561</td>\n",
       "                        <td id=\"T_67588eba_6e3d_11ed_a31a_002454b3a1e4row4_col1\" class=\"data row4 col1\" >1050</td>\n",
       "                        <td id=\"T_67588eba_6e3d_11ed_a31a_002454b3a1e4row4_col2\" class=\"data row4 col2\" >1132</td>\n",
       "                        <td id=\"T_67588eba_6e3d_11ed_a31a_002454b3a1e4row4_col3\" class=\"data row4 col3\" >871</td>\n",
       "                        <td id=\"T_67588eba_6e3d_11ed_a31a_002454b3a1e4row4_col4\" class=\"data row4 col4\" >386</td>\n",
       "            </tr>\n",
       "            <tr>\n",
       "                        <th id=\"T_67588eba_6e3d_11ed_a31a_002454b3a1e4level0_row5\" class=\"row_heading level0 row5\" >contract_period</th>\n",
       "                        <td id=\"T_67588eba_6e3d_11ed_a31a_002454b3a1e4row5_col0\" class=\"data row5 col0\" >561</td>\n",
       "                        <td id=\"T_67588eba_6e3d_11ed_a31a_002454b3a1e4row5_col1\" class=\"data row5 col1\" >1050</td>\n",
       "                        <td id=\"T_67588eba_6e3d_11ed_a31a_002454b3a1e4row5_col2\" class=\"data row5 col2\" >1132</td>\n",
       "                        <td id=\"T_67588eba_6e3d_11ed_a31a_002454b3a1e4row5_col3\" class=\"data row5 col3\" >871</td>\n",
       "                        <td id=\"T_67588eba_6e3d_11ed_a31a_002454b3a1e4row5_col4\" class=\"data row5 col4\" >386</td>\n",
       "            </tr>\n",
       "            <tr>\n",
       "                        <th id=\"T_67588eba_6e3d_11ed_a31a_002454b3a1e4level0_row6\" class=\"row_heading level0 row6\" >group_visits</th>\n",
       "                        <td id=\"T_67588eba_6e3d_11ed_a31a_002454b3a1e4row6_col0\" class=\"data row6 col0\" >561</td>\n",
       "                        <td id=\"T_67588eba_6e3d_11ed_a31a_002454b3a1e4row6_col1\" class=\"data row6 col1\" >1050</td>\n",
       "                        <td id=\"T_67588eba_6e3d_11ed_a31a_002454b3a1e4row6_col2\" class=\"data row6 col2\" >1132</td>\n",
       "                        <td id=\"T_67588eba_6e3d_11ed_a31a_002454b3a1e4row6_col3\" class=\"data row6 col3\" >871</td>\n",
       "                        <td id=\"T_67588eba_6e3d_11ed_a31a_002454b3a1e4row6_col4\" class=\"data row6 col4\" >386</td>\n",
       "            </tr>\n",
       "            <tr>\n",
       "                        <th id=\"T_67588eba_6e3d_11ed_a31a_002454b3a1e4level0_row7\" class=\"row_heading level0 row7\" >age</th>\n",
       "                        <td id=\"T_67588eba_6e3d_11ed_a31a_002454b3a1e4row7_col0\" class=\"data row7 col0\" >561</td>\n",
       "                        <td id=\"T_67588eba_6e3d_11ed_a31a_002454b3a1e4row7_col1\" class=\"data row7 col1\" >1050</td>\n",
       "                        <td id=\"T_67588eba_6e3d_11ed_a31a_002454b3a1e4row7_col2\" class=\"data row7 col2\" >1132</td>\n",
       "                        <td id=\"T_67588eba_6e3d_11ed_a31a_002454b3a1e4row7_col3\" class=\"data row7 col3\" >871</td>\n",
       "                        <td id=\"T_67588eba_6e3d_11ed_a31a_002454b3a1e4row7_col4\" class=\"data row7 col4\" >386</td>\n",
       "            </tr>\n",
       "            <tr>\n",
       "                        <th id=\"T_67588eba_6e3d_11ed_a31a_002454b3a1e4level0_row8\" class=\"row_heading level0 row8\" >avg_additional_charges_total</th>\n",
       "                        <td id=\"T_67588eba_6e3d_11ed_a31a_002454b3a1e4row8_col0\" class=\"data row8 col0\" >561</td>\n",
       "                        <td id=\"T_67588eba_6e3d_11ed_a31a_002454b3a1e4row8_col1\" class=\"data row8 col1\" >1050</td>\n",
       "                        <td id=\"T_67588eba_6e3d_11ed_a31a_002454b3a1e4row8_col2\" class=\"data row8 col2\" >1132</td>\n",
       "                        <td id=\"T_67588eba_6e3d_11ed_a31a_002454b3a1e4row8_col3\" class=\"data row8 col3\" >871</td>\n",
       "                        <td id=\"T_67588eba_6e3d_11ed_a31a_002454b3a1e4row8_col4\" class=\"data row8 col4\" >386</td>\n",
       "            </tr>\n",
       "            <tr>\n",
       "                        <th id=\"T_67588eba_6e3d_11ed_a31a_002454b3a1e4level0_row9\" class=\"row_heading level0 row9\" >lifetime</th>\n",
       "                        <td id=\"T_67588eba_6e3d_11ed_a31a_002454b3a1e4row9_col0\" class=\"data row9 col0\" >561</td>\n",
       "                        <td id=\"T_67588eba_6e3d_11ed_a31a_002454b3a1e4row9_col1\" class=\"data row9 col1\" >1050</td>\n",
       "                        <td id=\"T_67588eba_6e3d_11ed_a31a_002454b3a1e4row9_col2\" class=\"data row9 col2\" >1132</td>\n",
       "                        <td id=\"T_67588eba_6e3d_11ed_a31a_002454b3a1e4row9_col3\" class=\"data row9 col3\" >871</td>\n",
       "                        <td id=\"T_67588eba_6e3d_11ed_a31a_002454b3a1e4row9_col4\" class=\"data row9 col4\" >386</td>\n",
       "            </tr>\n",
       "            <tr>\n",
       "                        <th id=\"T_67588eba_6e3d_11ed_a31a_002454b3a1e4level0_row10\" class=\"row_heading level0 row10\" >avg_class_frequency_total</th>\n",
       "                        <td id=\"T_67588eba_6e3d_11ed_a31a_002454b3a1e4row10_col0\" class=\"data row10 col0\" >561</td>\n",
       "                        <td id=\"T_67588eba_6e3d_11ed_a31a_002454b3a1e4row10_col1\" class=\"data row10 col1\" >1050</td>\n",
       "                        <td id=\"T_67588eba_6e3d_11ed_a31a_002454b3a1e4row10_col2\" class=\"data row10 col2\" >1132</td>\n",
       "                        <td id=\"T_67588eba_6e3d_11ed_a31a_002454b3a1e4row10_col3\" class=\"data row10 col3\" >871</td>\n",
       "                        <td id=\"T_67588eba_6e3d_11ed_a31a_002454b3a1e4row10_col4\" class=\"data row10 col4\" >386</td>\n",
       "            </tr>\n",
       "            <tr>\n",
       "                        <th id=\"T_67588eba_6e3d_11ed_a31a_002454b3a1e4level0_row11\" class=\"row_heading level0 row11\" >churn</th>\n",
       "                        <td id=\"T_67588eba_6e3d_11ed_a31a_002454b3a1e4row11_col0\" class=\"data row11 col0\" >561</td>\n",
       "                        <td id=\"T_67588eba_6e3d_11ed_a31a_002454b3a1e4row11_col1\" class=\"data row11 col1\" >1050</td>\n",
       "                        <td id=\"T_67588eba_6e3d_11ed_a31a_002454b3a1e4row11_col2\" class=\"data row11 col2\" >1132</td>\n",
       "                        <td id=\"T_67588eba_6e3d_11ed_a31a_002454b3a1e4row11_col3\" class=\"data row11 col3\" >871</td>\n",
       "                        <td id=\"T_67588eba_6e3d_11ed_a31a_002454b3a1e4row11_col4\" class=\"data row11 col4\" >386</td>\n",
       "            </tr>\n",
       "    </tbody></table>"
      ],
      "text/plain": [
       "<pandas.io.formats.style.Styler at 0x14f29681708>"
      ]
     },
     "execution_count": 36,
     "metadata": {},
     "output_type": "execute_result"
    }
   ],
   "source": [
    "# посмотрим на число примеров попавших в кластеры после KMeans\n",
    "cluster_features_1 = data.groupby('cluster_km').count()\n",
    "cluster_features_1.T.style.background_gradient(cmap='coolwarm', axis=1).set_precision(2)"
   ]
  },
  {
   "cell_type": "markdown",
   "metadata": {},
   "source": [
    "По средним значениям, можно составить характеристики кластеров:\n",
    "- **Кластер 0**:\n",
    "   * живут или работают НЕ в районе фитнес-центра\n",
    "   * оставляют контактный телефон\n",
    "   * 3 мес. до окончания абонемента\n",
    "   * всех меньше прибыль за доп. услуги от данных клиентов\n",
    "   * лайфтайм - 3,7 мес\n",
    "   * посещают менее 2 раз в неделю зал\n",
    "- **Кластер 1**:\n",
    "   * все живут или работают в районе фитнес-центра\n",
    "   * оставляют контактный телефон\n",
    "   * всех больше клиентов, являющимися партнерами клуба - 96%\n",
    "   * 7,6 мес. до окончания абонемента\n",
    "   * всех больше прибыль за доп. услуги от данных клиентов\n",
    "   * лайфтайм - 4,38 мес\n",
    "   * посещают менее 2 раз в неделю зал\n",
    "- **Кластер 2**:\n",
    "   * живут или работают в районе фитнес-центра\n",
    "   * оставляют контактный телефон\n",
    "   * 2,82 мес. до окончания абонемента\n",
    "   * лайфтайм - 3,34 мес\n",
    "   * посещают менее 2 раз в неделю зал\n",
    "- **Кластер 3**:\n",
    "   * живут или работают приемущественно в районе фитнес-центра\n",
    "   * оставляют контактный телефон\n",
    "   * длительность текущего аббонемента 4,53 мес\n",
    "   * вторые по средней суммарной выручке от доп. услуг\n",
    "   * лайфтайм - 3,76 мес\n",
    "   * посещают более 2 раз в неделю зал\n",
    "- **Кластер 4**:\n",
    "   * живут или работают приемущественно в районе фитнес-центра\n",
    "   * не оставляют контактный телефон\n",
    "   * самоя большая длительность текущего абонемента - 4,78 мес.  \n",
    "   * самое большое лайфтайм - 3,94 мес.\n",
    "   * посещают менее 2 раз в неделю зал"
   ]
  },
  {
   "cell_type": "code",
   "execution_count": 37,
   "metadata": {},
   "outputs": [
    {
     "data": {
      "image/png": "[encoded data removed]",
      "text/plain": [
       "<Figure size 1080x1080 with 4 Axes>"
      ]
     },
     "metadata": {
      "needs_background": "light"
     },
     "output_type": "display_data"
    }
   ],
   "source": [
    "# Построим распределения признаков для кластеров\n",
    "distplot_columns_2 = ['age', 'avg_additional_charges_total', 'lifetime', 'avg_class_frequency_total']\n",
    "\n",
    "plt.figure(figsize=(15, 15))\n",
    " \n",
    "for i, f in enumerate(distplot_columns_2):           \n",
    "    sns.histplot(data, x=data[f], hue='cluster_km', palette=\"tab10\", element=\"step\", kde=True, ax = plt.subplot(row_count, col_count, i+1)) \n",
    "    plt.title(f'Признак - {f}')\n",
    "    plt.ylabel(\"Кол-во клиентов\")\n",
    "    plt.xlabel(\"\")"
   ]
  },
  {
   "cell_type": "code",
   "execution_count": 38,
   "metadata": {},
   "outputs": [
    {
     "data": {
      "image/png": "[encoded data removed]",
      "text/plain": [
       "<Figure size 432x288 with 1 Axes>"
      ]
     },
     "metadata": {
      "needs_background": "light"
     },
     "output_type": "display_data"
    },
    {
     "data": {
      "image/png": "[encoded data removed]",
      "text/plain": [
       "<Figure size 432x288 with 1 Axes>"
      ]
     },
     "metadata": {
      "needs_background": "light"
     },
     "output_type": "display_data"
    },
    {
     "data": {
      "image/png": "[encoded data removed]",
      "text/plain": [
       "<Figure size 432x288 with 1 Axes>"
      ]
     },
     "metadata": {
      "needs_background": "light"
     },
     "output_type": "display_data"
    },
    {
     "data": {
      "image/png": "[encoded data removed]",
      "text/plain": [
       "<Figure size 432x288 with 1 Axes>"
      ]
     },
     "metadata": {
      "needs_background": "light"
     },
     "output_type": "display_data"
    },
    {
     "data": {
      "image/png": "[encoded data removed]",
      "text/plain": [
       "<Figure size 432x288 with 1 Axes>"
      ]
     },
     "metadata": {
      "needs_background": "light"
     },
     "output_type": "display_data"
    },
    {
     "data": {
      "image/png": "[encoded data removed]",
      "text/plain": [
       "<Figure size 432x288 with 1 Axes>"
      ]
     },
     "metadata": {
      "needs_background": "light"
     },
     "output_type": "display_data"
    }
   ],
   "source": [
    "# построим графики по кластерам для оставшихся признаков \n",
    "for j in data.columns:\n",
    "    if j not in distplot_columns_1:\n",
    "        sns.barplot(data=data, x='cluster_km', y=j)\n",
    "        plt.title(j)\n",
    "        plt.show()"
   ]
  },
  {
   "cell_type": "markdown",
   "metadata": {},
   "source": [
    "Из графиков распределения видно, что характеристики кластеров совпадают, что давали выше, исходя из среднего значения."
   ]
  },
  {
   "cell_type": "code",
   "execution_count": 39,
   "metadata": {},
   "outputs": [
    {
     "data": {
      "text/plain": [
       "cluster_km\n",
       "0    39.93\n",
       "1    12.10\n",
       "2    38.16\n",
       "3    20.09\n",
       "4    26.68\n",
       "Name: churn, dtype: float64"
      ]
     },
     "execution_count": 39,
     "metadata": {},
     "output_type": "execute_result"
    }
   ],
   "source": [
    "# Для каждого полученного кластера посчитаем долю оттока в процентах\n",
    "round(data.groupby('cluster_km')['churn'].mean()*100, 2)"
   ]
  },
  {
   "cell_type": "markdown",
   "metadata": {},
   "source": [
    "Всех больше отток происходит в первом кластере, вех меньше в третьем."
   ]
  },
  {
   "cell_type": "markdown",
   "metadata": {},
   "source": [
    "### Вывод\n",
    "\n",
    "Исходя из составленных выше характеристик каждого кластера, можно предположить, что самым выгодным для бизнеса является кластер 1, так как у него всех меньше отток клиентов, и он приносит всех больше выручки с дополнительных услуг. А всех хуже, является кластер номер 0. У него большой процент оттока и меньше выручка с доп. услуг"
   ]
  },
  {
   "cell_type": "markdown",
   "metadata": {},
   "source": [
    "## Выводы и рекомендации"
   ]
  },
  {
   "cell_type": "markdown",
   "metadata": {},
   "source": [
    "I. Данные:\n",
    "\n",
    "* Получили данные без пропусков, тип признаков у всех числовой.\n",
    "* В данных были обнаружены выбросы, но так как доля выбросов не велика, удалять их не стали.\n",
    "* Нашли признаки, которые сильно коррелируют друг с другом (больше 0,9) это Avg_class_frequency_total и Avg_class_frequency_current_month, а так же Month_to_end_contract и Contract_period. Удалили по одному из каждой пары.\n",
    "\n",
    "II. Моделирование:\n",
    "\n",
    "* Графики показали на несбалансированность классов, уходят клиентов в три раза меньше, чем остаются, это означает, что могут возникнут сложности с метриками, основанными на бинарных ответах, поэтому при выборе модели мы не сильно ориентировались на метрику accuracy.\n",
    "\n",
    "\n",
    "* Построили модель бинарной классификации клиентов, где целевой признак — факт оттока клиента в следующем месяце. Разбили данные на обучающую и валидационную выборку и тестовую выборки. Обучили модель на train-выборке двумя способами:\n",
    "   * логистической регрессией,\n",
    "   * случайным лесом.\n",
    " \n",
    "\n",
    "* У модели логистической регресии, все три метрики ближе к 100%, чем у модели случайного леса, таким образом она показала себя лучше.\n",
    "\n",
    "III. Кластеризация:\n",
    "\n",
    "* Стандартизировали данные, нарисовали дендрограмму, провели кластеризацию клиентов при помощи алгоритма K-Means. Посмотрели на средние значения признаков для кластеров и построили распределения признаков для кластеров. Получили основные их характеристики.   \n",
    "\n",
    "\n",
    "* Исходя из проведенного анализа можно спрогнозировать вероятность оттока клиента по ряду признаков:\n",
    "   * не проживает и не работает в районе фитнес-клуба\n",
    "   * не является сотрудником компании партнера\n",
    "   * более молодой\n",
    "   * меньше пользуется другими доп. услугами фитнес центра\n",
    "   * длительность текущего абонемента составляет менее месяца\n",
    "   * время с момента первого обращения меньше месяца\n",
    "   * не оставляет свой номер телефона\n",
    "   \n",
    "   \n",
    "* После кластеризации клиентов и последующего анализа, были выявлены те кто с большой вероятностью уходят\n",
    "   в отток и те кто остаются:\n",
    "   * кластеры 1 и 3 с меньшей вероятностью уходят в отток\n",
    "   * кластеры 0 и 2 с большей вероятностью уходят в отток\n",
    "   \n",
    "   \n",
    "* Исходя из вышеперечисленного, можно предложить стратегию взаимодействия с клиентами для их удержания, а имеено:\n",
    "   * предлагать по более привлекательной цене абонементы на 6 и 12 месяцев, чтобы клиенты предпочтительней брали их,      нежели на 1 месяц.\n",
    "   * увеличить количество сотрудничеств с компаниями, чьи сотрудники могут получать скидки на абонемен, так можно привлечь как      можно больше клиентов\n",
    "   * делать упор на рекламе именно в том районе, где находится фитнес клуб, чтоб привлекать клиентов живущих или работающих именно в этом районе.\n",
    "   \n",
    "   \n",
    "* Так как мы провели сегментацию клиентов, можно каждому сегменту предложить свои \"плюшки\" либо \n",
    "   для того, чтобы удержать, либо для того, чтобы получить еще больше прибыли с каждого клиента, а именно:\n",
    "   * клиентам из кластеров 1 и 3, предлагать как можно больше дополнительных услуг, так как они охотно тратятся на них.\n",
    "   * клиентам из кластеров 0 и 2, предлагать абонементы на более длительный срок по более выгодным условиям, чем абонемеенты на 1 месяц, тем самым уменьшить отток данных клиентов."
   ]
  },
  {
   "cell_type": "code",
   "execution_count": null,
   "metadata": {},
   "outputs": [],
   "source": []
  }
 ],
 "metadata": {
  "ExecuteTimeLog": [
   {
    "duration": 1144,
    "start_time": "2022-09-04T18:26:49.700Z"
   },
   {
    "duration": 135,
    "start_time": "2022-09-04T18:30:35.325Z"
   },
   {
    "duration": 9,
    "start_time": "2022-09-04T18:30:51.834Z"
   },
   {
    "duration": 62,
    "start_time": "2022-09-04T18:31:06.981Z"
   },
   {
    "duration": 32,
    "start_time": "2022-09-04T18:31:14.681Z"
   },
   {
    "duration": 31,
    "start_time": "2022-09-04T18:31:32.936Z"
   },
   {
    "duration": 5,
    "start_time": "2022-09-04T18:31:35.594Z"
   },
   {
    "duration": 32,
    "start_time": "2022-09-04T18:31:45.084Z"
   },
   {
    "duration": 10,
    "start_time": "2022-09-04T18:31:45.695Z"
   },
   {
    "duration": 14,
    "start_time": "2022-09-04T18:41:25.589Z"
   },
   {
    "duration": 9,
    "start_time": "2022-09-04T18:42:34.635Z"
   },
   {
    "duration": 40,
    "start_time": "2022-09-04T18:43:11.302Z"
   },
   {
    "duration": 48,
    "start_time": "2022-09-05T17:07:13.792Z"
   },
   {
    "duration": 1344,
    "start_time": "2022-09-05T17:07:19.973Z"
   },
   {
    "duration": 240,
    "start_time": "2022-09-05T17:07:21.319Z"
   },
   {
    "duration": 24,
    "start_time": "2022-09-05T17:07:21.560Z"
   },
   {
    "duration": 12,
    "start_time": "2022-09-05T17:07:21.586Z"
   },
   {
    "duration": 48,
    "start_time": "2022-09-05T17:07:21.600Z"
   },
   {
    "duration": 12,
    "start_time": "2022-09-05T17:14:03.844Z"
   },
   {
    "duration": 5,
    "start_time": "2022-09-05T17:55:32.299Z"
   },
   {
    "duration": 19,
    "start_time": "2022-09-05T17:56:10.420Z"
   },
   {
    "duration": 2370,
    "start_time": "2022-09-05T18:31:27.370Z"
   },
   {
    "duration": 2225,
    "start_time": "2022-09-05T18:33:21.848Z"
   },
   {
    "duration": 2533,
    "start_time": "2022-09-05T18:33:55.540Z"
   },
   {
    "duration": 2131,
    "start_time": "2022-09-05T18:34:18.993Z"
   },
   {
    "duration": 2261,
    "start_time": "2022-09-05T18:40:10.317Z"
   },
   {
    "duration": 2264,
    "start_time": "2022-09-05T18:40:22.466Z"
   },
   {
    "duration": 2236,
    "start_time": "2022-09-05T18:41:09.320Z"
   },
   {
    "duration": 2186,
    "start_time": "2022-09-05T18:41:29.409Z"
   },
   {
    "duration": 1292,
    "start_time": "2022-09-06T16:44:31.091Z"
   },
   {
    "duration": 121,
    "start_time": "2022-09-06T16:44:32.386Z"
   },
   {
    "duration": 17,
    "start_time": "2022-09-06T16:44:32.509Z"
   },
   {
    "duration": 12,
    "start_time": "2022-09-06T16:44:32.528Z"
   },
   {
    "duration": 47,
    "start_time": "2022-09-06T16:44:32.542Z"
   },
   {
    "duration": 18,
    "start_time": "2022-09-06T16:44:32.591Z"
   },
   {
    "duration": 2344,
    "start_time": "2022-09-06T16:44:32.611Z"
   },
   {
    "duration": 2036,
    "start_time": "2022-09-06T16:44:34.957Z"
   },
   {
    "duration": 2074,
    "start_time": "2022-09-06T16:46:51.168Z"
   },
   {
    "duration": 2085,
    "start_time": "2022-09-06T17:08:14.891Z"
   },
   {
    "duration": 1966,
    "start_time": "2022-09-06T17:08:59.118Z"
   },
   {
    "duration": 1989,
    "start_time": "2022-09-06T17:10:21.276Z"
   },
   {
    "duration": 1952,
    "start_time": "2022-09-06T17:10:33.548Z"
   },
   {
    "duration": 2016,
    "start_time": "2022-09-06T17:11:05.032Z"
   },
   {
    "duration": 1966,
    "start_time": "2022-09-06T17:11:21.520Z"
   },
   {
    "duration": 268,
    "start_time": "2022-09-06T17:45:20.057Z"
   },
   {
    "duration": 1960,
    "start_time": "2022-09-06T17:45:33.092Z"
   },
   {
    "duration": 5765,
    "start_time": "2022-09-06T17:47:35.399Z"
   },
   {
    "duration": 2069,
    "start_time": "2022-09-06T17:48:04.143Z"
   },
   {
    "duration": 1769,
    "start_time": "2022-09-06T17:48:22.193Z"
   },
   {
    "duration": 1995,
    "start_time": "2022-09-06T17:52:32.439Z"
   },
   {
    "duration": 127,
    "start_time": "2022-09-06T17:53:41.735Z"
   },
   {
    "duration": 120,
    "start_time": "2022-09-06T17:53:53.529Z"
   },
   {
    "duration": 1947,
    "start_time": "2022-09-06T17:54:11.635Z"
   },
   {
    "duration": 131,
    "start_time": "2022-09-06T17:55:28.738Z"
   },
   {
    "duration": 121,
    "start_time": "2022-09-06T17:57:00.632Z"
   },
   {
    "duration": 129,
    "start_time": "2022-09-06T17:57:09.386Z"
   },
   {
    "duration": 147,
    "start_time": "2022-09-06T17:59:33.997Z"
   },
   {
    "duration": 30544,
    "start_time": "2022-09-06T18:00:26.569Z"
   },
   {
    "duration": 51,
    "start_time": "2022-09-07T16:22:07.103Z"
   },
   {
    "duration": 1374,
    "start_time": "2022-09-07T16:22:13.805Z"
   },
   {
    "duration": 75,
    "start_time": "2022-09-07T16:22:15.181Z"
   },
   {
    "duration": 16,
    "start_time": "2022-09-07T16:22:15.258Z"
   },
   {
    "duration": 11,
    "start_time": "2022-09-07T16:22:15.275Z"
   },
   {
    "duration": 40,
    "start_time": "2022-09-07T16:22:15.288Z"
   },
   {
    "duration": 14,
    "start_time": "2022-09-07T16:22:15.329Z"
   },
   {
    "duration": 1766,
    "start_time": "2022-09-07T16:22:15.345Z"
   },
   {
    "duration": 24620,
    "start_time": "2022-09-07T16:22:17.112Z"
   },
   {
    "duration": 401,
    "start_time": "2022-09-07T16:23:43.032Z"
   },
   {
    "duration": 129,
    "start_time": "2022-09-07T16:23:54.630Z"
   },
   {
    "duration": 1772,
    "start_time": "2022-09-07T16:24:07.873Z"
   },
   {
    "duration": 10,
    "start_time": "2022-09-07T16:27:23.010Z"
   },
   {
    "duration": 1084,
    "start_time": "2022-09-07T16:28:03.301Z"
   },
   {
    "duration": 1691,
    "start_time": "2022-09-07T16:33:29.419Z"
   },
   {
    "duration": 1347,
    "start_time": "2022-09-07T16:33:34.904Z"
   },
   {
    "duration": 143,
    "start_time": "2022-09-07T16:36:50.399Z"
   },
   {
    "duration": 116,
    "start_time": "2022-09-07T16:39:20.257Z"
   },
   {
    "duration": 117,
    "start_time": "2022-09-07T16:40:40.532Z"
   },
   {
    "duration": 1651,
    "start_time": "2022-09-07T16:42:15.422Z"
   },
   {
    "duration": 134,
    "start_time": "2022-09-07T16:44:43.742Z"
   },
   {
    "duration": 187,
    "start_time": "2022-09-07T16:44:53.183Z"
   },
   {
    "duration": 1681,
    "start_time": "2022-09-07T16:44:57.513Z"
   },
   {
    "duration": 1937,
    "start_time": "2022-09-07T16:47:04.677Z"
   },
   {
    "duration": 1689,
    "start_time": "2022-09-07T16:48:58.184Z"
   },
   {
    "duration": 1724,
    "start_time": "2022-09-07T16:49:08.325Z"
   },
   {
    "duration": 1950,
    "start_time": "2022-09-07T16:49:22.329Z"
   },
   {
    "duration": 1850,
    "start_time": "2022-09-07T16:50:41.488Z"
   },
   {
    "duration": 2054,
    "start_time": "2022-09-07T16:55:52.229Z"
   },
   {
    "duration": 1791,
    "start_time": "2022-09-07T16:56:25.435Z"
   },
   {
    "duration": 1599,
    "start_time": "2022-09-07T16:57:36.917Z"
   },
   {
    "duration": 2046,
    "start_time": "2022-09-07T17:09:11.411Z"
   },
   {
    "duration": 5260,
    "start_time": "2022-09-07T17:09:23.538Z"
   },
   {
    "duration": 1247,
    "start_time": "2022-09-07T17:09:54.211Z"
   },
   {
    "duration": 2128,
    "start_time": "2022-09-07T17:09:59.712Z"
   },
   {
    "duration": 20,
    "start_time": "2022-09-07T18:09:37.780Z"
   },
   {
    "duration": 1449,
    "start_time": "2022-09-07T18:10:42.973Z"
   },
   {
    "duration": 1418,
    "start_time": "2022-09-07T18:12:08.581Z"
   },
   {
    "duration": 1459,
    "start_time": "2022-09-07T18:12:27.685Z"
   },
   {
    "duration": 1418,
    "start_time": "2022-09-07T18:12:44.863Z"
   },
   {
    "duration": 1369,
    "start_time": "2022-09-07T18:13:15.560Z"
   },
   {
    "duration": 1273,
    "start_time": "2022-09-07T18:15:06.032Z"
   },
   {
    "duration": 1299,
    "start_time": "2022-09-07T18:15:30.597Z"
   },
   {
    "duration": 1399,
    "start_time": "2022-09-07T18:16:03.501Z"
   },
   {
    "duration": 1605,
    "start_time": "2022-09-07T18:16:21.838Z"
   },
   {
    "duration": 1334,
    "start_time": "2022-09-07T18:16:48.360Z"
   },
   {
    "duration": 1338,
    "start_time": "2022-09-07T18:17:10.470Z"
   },
   {
    "duration": 1287,
    "start_time": "2022-09-07T18:17:42.731Z"
   },
   {
    "duration": 1372,
    "start_time": "2022-09-07T18:17:59.489Z"
   },
   {
    "duration": 1295,
    "start_time": "2022-09-07T18:18:17.426Z"
   },
   {
    "duration": 1320,
    "start_time": "2022-09-07T18:18:41.577Z"
   },
   {
    "duration": 1350,
    "start_time": "2022-09-07T18:19:00.788Z"
   },
   {
    "duration": 1370,
    "start_time": "2022-09-07T18:19:21.388Z"
   },
   {
    "duration": 1577,
    "start_time": "2022-09-07T18:19:41.440Z"
   },
   {
    "duration": 270,
    "start_time": "2022-09-07T18:59:32.884Z"
   },
   {
    "duration": 1335,
    "start_time": "2022-09-07T18:59:38.776Z"
   },
   {
    "duration": 33,
    "start_time": "2022-09-07T18:59:40.113Z"
   },
   {
    "duration": 13,
    "start_time": "2022-09-07T18:59:40.147Z"
   },
   {
    "duration": 10,
    "start_time": "2022-09-07T18:59:40.162Z"
   },
   {
    "duration": 41,
    "start_time": "2022-09-07T18:59:40.174Z"
   },
   {
    "duration": 14,
    "start_time": "2022-09-07T18:59:40.216Z"
   },
   {
    "duration": 151,
    "start_time": "2022-09-07T18:59:40.232Z"
   },
   {
    "duration": 0,
    "start_time": "2022-09-07T18:59:40.385Z"
   },
   {
    "duration": 0,
    "start_time": "2022-09-07T18:59:40.386Z"
   },
   {
    "duration": 11,
    "start_time": "2022-09-07T19:04:04.899Z"
   },
   {
    "duration": 3,
    "start_time": "2022-09-07T19:04:36.827Z"
   },
   {
    "duration": 1401,
    "start_time": "2022-09-07T19:04:43.489Z"
   },
   {
    "duration": 34,
    "start_time": "2022-09-07T19:04:44.892Z"
   },
   {
    "duration": 15,
    "start_time": "2022-09-07T19:04:44.927Z"
   },
   {
    "duration": 21,
    "start_time": "2022-09-07T19:04:44.945Z"
   },
   {
    "duration": 41,
    "start_time": "2022-09-07T19:04:44.968Z"
   },
   {
    "duration": 17,
    "start_time": "2022-09-07T19:04:45.010Z"
   },
   {
    "duration": 133,
    "start_time": "2022-09-07T19:04:45.028Z"
   },
   {
    "duration": 0,
    "start_time": "2022-09-07T19:04:45.163Z"
   },
   {
    "duration": 0,
    "start_time": "2022-09-07T19:04:45.164Z"
   },
   {
    "duration": 0,
    "start_time": "2022-09-07T19:04:45.165Z"
   },
   {
    "duration": 1752,
    "start_time": "2022-09-07T19:05:18.178Z"
   },
   {
    "duration": 1336,
    "start_time": "2022-09-07T19:05:24.940Z"
   },
   {
    "duration": 33,
    "start_time": "2022-09-07T19:05:26.278Z"
   },
   {
    "duration": 14,
    "start_time": "2022-09-07T19:05:26.312Z"
   },
   {
    "duration": 12,
    "start_time": "2022-09-07T19:05:26.327Z"
   },
   {
    "duration": 37,
    "start_time": "2022-09-07T19:05:26.341Z"
   },
   {
    "duration": 28,
    "start_time": "2022-09-07T19:05:26.379Z"
   },
   {
    "duration": 1758,
    "start_time": "2022-09-07T19:05:26.409Z"
   },
   {
    "duration": 1149,
    "start_time": "2022-09-07T19:05:28.168Z"
   },
   {
    "duration": 1379,
    "start_time": "2022-09-07T19:05:29.319Z"
   },
   {
    "duration": 8,
    "start_time": "2022-09-07T19:05:30.700Z"
   },
   {
    "duration": 1395,
    "start_time": "2022-09-07T19:09:54.029Z"
   },
   {
    "duration": 33,
    "start_time": "2022-09-07T19:09:55.426Z"
   },
   {
    "duration": 14,
    "start_time": "2022-09-07T19:09:55.460Z"
   },
   {
    "duration": 10,
    "start_time": "2022-09-07T19:09:55.476Z"
   },
   {
    "duration": 40,
    "start_time": "2022-09-07T19:09:55.487Z"
   },
   {
    "duration": 15,
    "start_time": "2022-09-07T19:09:55.529Z"
   },
   {
    "duration": 1781,
    "start_time": "2022-09-07T19:09:55.545Z"
   },
   {
    "duration": 1140,
    "start_time": "2022-09-07T19:09:57.328Z"
   },
   {
    "duration": 1348,
    "start_time": "2022-09-07T19:09:58.469Z"
   },
   {
    "duration": 8,
    "start_time": "2022-09-07T19:09:59.820Z"
   },
   {
    "duration": 301,
    "start_time": "2022-09-07T19:09:59.829Z"
   },
   {
    "duration": 4,
    "start_time": "2022-09-07T19:11:15.831Z"
   },
   {
    "duration": 1302,
    "start_time": "2022-09-07T19:11:20.991Z"
   },
   {
    "duration": 39,
    "start_time": "2022-09-07T19:11:22.295Z"
   },
   {
    "duration": 15,
    "start_time": "2022-09-07T19:11:22.335Z"
   },
   {
    "duration": 10,
    "start_time": "2022-09-07T19:11:22.352Z"
   },
   {
    "duration": 37,
    "start_time": "2022-09-07T19:11:22.363Z"
   },
   {
    "duration": 13,
    "start_time": "2022-09-07T19:11:22.402Z"
   },
   {
    "duration": 1741,
    "start_time": "2022-09-07T19:11:22.417Z"
   },
   {
    "duration": 1195,
    "start_time": "2022-09-07T19:11:24.160Z"
   },
   {
    "duration": 1333,
    "start_time": "2022-09-07T19:11:25.357Z"
   },
   {
    "duration": 6,
    "start_time": "2022-09-07T19:11:26.692Z"
   },
   {
    "duration": 99,
    "start_time": "2022-09-07T19:11:26.700Z"
   },
   {
    "duration": 21,
    "start_time": "2022-09-07T19:12:22.122Z"
   },
   {
    "duration": 1298,
    "start_time": "2022-09-07T19:14:35.030Z"
   },
   {
    "duration": 32,
    "start_time": "2022-09-07T19:14:36.330Z"
   },
   {
    "duration": 13,
    "start_time": "2022-09-07T19:14:36.364Z"
   },
   {
    "duration": 9,
    "start_time": "2022-09-07T19:14:36.379Z"
   },
   {
    "duration": 37,
    "start_time": "2022-09-07T19:14:36.390Z"
   },
   {
    "duration": 12,
    "start_time": "2022-09-07T19:14:36.429Z"
   },
   {
    "duration": 1768,
    "start_time": "2022-09-07T19:14:36.442Z"
   },
   {
    "duration": 1142,
    "start_time": "2022-09-07T19:14:38.212Z"
   },
   {
    "duration": 1361,
    "start_time": "2022-09-07T19:14:39.356Z"
   },
   {
    "duration": 6,
    "start_time": "2022-09-07T19:14:40.719Z"
   },
   {
    "duration": 74,
    "start_time": "2022-09-07T19:14:40.726Z"
   },
   {
    "duration": 22,
    "start_time": "2022-09-07T19:16:46.483Z"
   },
   {
    "duration": 121,
    "start_time": "2022-09-07T19:18:00.929Z"
   },
   {
    "duration": 1363,
    "start_time": "2022-09-07T19:18:06.470Z"
   },
   {
    "duration": 33,
    "start_time": "2022-09-07T19:18:07.835Z"
   },
   {
    "duration": 13,
    "start_time": "2022-09-07T19:18:07.870Z"
   },
   {
    "duration": 10,
    "start_time": "2022-09-07T19:18:07.884Z"
   },
   {
    "duration": 38,
    "start_time": "2022-09-07T19:18:07.895Z"
   },
   {
    "duration": 15,
    "start_time": "2022-09-07T19:18:07.935Z"
   },
   {
    "duration": 1764,
    "start_time": "2022-09-07T19:18:07.953Z"
   },
   {
    "duration": 1163,
    "start_time": "2022-09-07T19:18:09.718Z"
   },
   {
    "duration": 1370,
    "start_time": "2022-09-07T19:18:10.883Z"
   },
   {
    "duration": 6,
    "start_time": "2022-09-07T19:18:12.255Z"
   },
   {
    "duration": 9,
    "start_time": "2022-09-07T19:18:12.263Z"
   },
   {
    "duration": 18,
    "start_time": "2022-09-07T19:18:12.273Z"
   },
   {
    "duration": 306,
    "start_time": "2022-09-07T19:18:12.297Z"
   },
   {
    "duration": 18,
    "start_time": "2022-09-07T19:18:30.429Z"
   },
   {
    "duration": 7,
    "start_time": "2022-09-07T19:18:30.965Z"
   },
   {
    "duration": 9,
    "start_time": "2022-09-07T19:19:26.302Z"
   },
   {
    "duration": 4,
    "start_time": "2022-09-07T19:20:04.944Z"
   },
   {
    "duration": 1315,
    "start_time": "2022-09-07T19:20:13.132Z"
   },
   {
    "duration": 34,
    "start_time": "2022-09-07T19:20:14.449Z"
   },
   {
    "duration": 17,
    "start_time": "2022-09-07T19:20:14.485Z"
   },
   {
    "duration": 16,
    "start_time": "2022-09-07T19:20:14.505Z"
   },
   {
    "duration": 53,
    "start_time": "2022-09-07T19:20:14.523Z"
   },
   {
    "duration": 27,
    "start_time": "2022-09-07T19:20:14.578Z"
   },
   {
    "duration": 1762,
    "start_time": "2022-09-07T19:20:14.607Z"
   },
   {
    "duration": 1116,
    "start_time": "2022-09-07T19:20:16.370Z"
   },
   {
    "duration": 1353,
    "start_time": "2022-09-07T19:20:17.488Z"
   },
   {
    "duration": 5,
    "start_time": "2022-09-07T19:20:18.844Z"
   },
   {
    "duration": 10,
    "start_time": "2022-09-07T19:20:18.851Z"
   },
   {
    "duration": 34,
    "start_time": "2022-09-07T19:20:18.862Z"
   },
   {
    "duration": 7,
    "start_time": "2022-09-07T19:20:18.898Z"
   },
   {
    "duration": 551,
    "start_time": "2022-09-07T19:20:18.906Z"
   },
   {
    "duration": 7,
    "start_time": "2022-09-07T19:21:05.196Z"
   },
   {
    "duration": 59,
    "start_time": "2022-09-08T09:08:26.434Z"
   },
   {
    "duration": 1337,
    "start_time": "2022-09-08T09:08:32.263Z"
   },
   {
    "duration": 121,
    "start_time": "2022-09-08T09:08:33.601Z"
   },
   {
    "duration": 14,
    "start_time": "2022-09-08T09:08:33.724Z"
   },
   {
    "duration": 11,
    "start_time": "2022-09-08T09:08:33.740Z"
   },
   {
    "duration": 41,
    "start_time": "2022-09-08T09:08:33.752Z"
   },
   {
    "duration": 20,
    "start_time": "2022-09-08T09:08:33.794Z"
   },
   {
    "duration": 1698,
    "start_time": "2022-09-08T09:08:33.815Z"
   },
   {
    "duration": 1177,
    "start_time": "2022-09-08T09:08:35.514Z"
   },
   {
    "duration": 1392,
    "start_time": "2022-09-08T09:08:36.692Z"
   },
   {
    "duration": 112,
    "start_time": "2022-09-08T09:08:38.087Z"
   },
   {
    "duration": 0,
    "start_time": "2022-09-08T09:08:38.200Z"
   },
   {
    "duration": 0,
    "start_time": "2022-09-08T09:08:38.202Z"
   },
   {
    "duration": 0,
    "start_time": "2022-09-08T09:08:38.203Z"
   },
   {
    "duration": 0,
    "start_time": "2022-09-08T09:08:38.205Z"
   },
   {
    "duration": 0,
    "start_time": "2022-09-08T09:08:38.207Z"
   },
   {
    "duration": 0,
    "start_time": "2022-09-08T09:08:38.208Z"
   },
   {
    "duration": 13,
    "start_time": "2022-09-08T09:09:13.344Z"
   },
   {
    "duration": 4,
    "start_time": "2022-09-08T09:09:28.859Z"
   },
   {
    "duration": 1303,
    "start_time": "2022-09-08T09:09:37.542Z"
   },
   {
    "duration": 32,
    "start_time": "2022-09-08T09:09:38.847Z"
   },
   {
    "duration": 14,
    "start_time": "2022-09-08T09:09:38.880Z"
   },
   {
    "duration": 10,
    "start_time": "2022-09-08T09:09:38.896Z"
   },
   {
    "duration": 45,
    "start_time": "2022-09-08T09:09:38.907Z"
   },
   {
    "duration": 16,
    "start_time": "2022-09-08T09:09:38.954Z"
   },
   {
    "duration": 1981,
    "start_time": "2022-09-08T09:09:38.972Z"
   },
   {
    "duration": 1111,
    "start_time": "2022-09-08T09:09:40.954Z"
   },
   {
    "duration": 1357,
    "start_time": "2022-09-08T09:09:42.067Z"
   },
   {
    "duration": 4,
    "start_time": "2022-09-08T09:09:43.426Z"
   },
   {
    "duration": 9,
    "start_time": "2022-09-08T09:09:43.431Z"
   },
   {
    "duration": 3,
    "start_time": "2022-09-08T09:09:43.441Z"
   },
   {
    "duration": 15,
    "start_time": "2022-09-08T09:09:43.445Z"
   },
   {
    "duration": 5,
    "start_time": "2022-09-08T09:09:43.462Z"
   },
   {
    "duration": 306,
    "start_time": "2022-09-08T09:09:43.468Z"
   },
   {
    "duration": 6,
    "start_time": "2022-09-08T09:09:43.776Z"
   },
   {
    "duration": 79,
    "start_time": "2022-09-08T09:21:08.222Z"
   },
   {
    "duration": 433,
    "start_time": "2022-09-08T09:21:18.308Z"
   },
   {
    "duration": 1752,
    "start_time": "2022-09-08T09:21:25.299Z"
   },
   {
    "duration": 35,
    "start_time": "2022-09-08T09:21:27.052Z"
   },
   {
    "duration": 15,
    "start_time": "2022-09-08T09:21:27.088Z"
   },
   {
    "duration": 11,
    "start_time": "2022-09-08T09:21:27.104Z"
   },
   {
    "duration": 41,
    "start_time": "2022-09-08T09:21:27.118Z"
   },
   {
    "duration": 13,
    "start_time": "2022-09-08T09:21:27.161Z"
   },
   {
    "duration": 1742,
    "start_time": "2022-09-08T09:21:27.176Z"
   },
   {
    "duration": 118,
    "start_time": "2022-09-08T09:21:28.920Z"
   },
   {
    "duration": 0,
    "start_time": "2022-09-08T09:21:29.040Z"
   },
   {
    "duration": 0,
    "start_time": "2022-09-08T09:21:29.041Z"
   },
   {
    "duration": 0,
    "start_time": "2022-09-08T09:21:29.042Z"
   },
   {
    "duration": 0,
    "start_time": "2022-09-08T09:21:29.043Z"
   },
   {
    "duration": 0,
    "start_time": "2022-09-08T09:21:29.044Z"
   },
   {
    "duration": 0,
    "start_time": "2022-09-08T09:21:29.044Z"
   },
   {
    "duration": 0,
    "start_time": "2022-09-08T09:21:29.046Z"
   },
   {
    "duration": 0,
    "start_time": "2022-09-08T09:21:29.046Z"
   },
   {
    "duration": 0,
    "start_time": "2022-09-08T09:21:29.047Z"
   },
   {
    "duration": 656,
    "start_time": "2022-09-08T09:21:44.814Z"
   },
   {
    "duration": 1303,
    "start_time": "2022-09-08T09:22:01.295Z"
   },
   {
    "duration": 34,
    "start_time": "2022-09-08T09:22:02.600Z"
   },
   {
    "duration": 13,
    "start_time": "2022-09-08T09:22:02.635Z"
   },
   {
    "duration": 18,
    "start_time": "2022-09-08T09:22:02.650Z"
   },
   {
    "duration": 44,
    "start_time": "2022-09-08T09:22:02.670Z"
   },
   {
    "duration": 15,
    "start_time": "2022-09-08T09:22:02.715Z"
   },
   {
    "duration": 1748,
    "start_time": "2022-09-08T09:22:02.732Z"
   },
   {
    "duration": 657,
    "start_time": "2022-09-08T09:22:04.482Z"
   },
   {
    "duration": 1102,
    "start_time": "2022-09-08T09:22:05.141Z"
   },
   {
    "duration": 1420,
    "start_time": "2022-09-08T09:22:06.244Z"
   },
   {
    "duration": 3,
    "start_time": "2022-09-08T09:22:07.666Z"
   },
   {
    "duration": 17,
    "start_time": "2022-09-08T09:22:07.670Z"
   },
   {
    "duration": 20,
    "start_time": "2022-09-08T09:22:07.688Z"
   },
   {
    "duration": 28,
    "start_time": "2022-09-08T09:22:07.711Z"
   },
   {
    "duration": 6,
    "start_time": "2022-09-08T09:22:07.741Z"
   },
   {
    "duration": 313,
    "start_time": "2022-09-08T09:22:07.748Z"
   },
   {
    "duration": 6,
    "start_time": "2022-09-08T09:22:08.063Z"
   },
   {
    "duration": 485,
    "start_time": "2022-09-08T09:23:33.702Z"
   },
   {
    "duration": 6,
    "start_time": "2022-09-08T09:47:48.615Z"
   },
   {
    "duration": 4,
    "start_time": "2022-09-08T09:49:15.473Z"
   },
   {
    "duration": 5,
    "start_time": "2022-09-08T09:49:16.303Z"
   },
   {
    "duration": 6,
    "start_time": "2022-09-08T09:50:18.808Z"
   },
   {
    "duration": 6,
    "start_time": "2022-09-08T09:55:44.268Z"
   },
   {
    "duration": 1326,
    "start_time": "2022-09-08T09:55:53.110Z"
   },
   {
    "duration": 31,
    "start_time": "2022-09-08T09:55:54.437Z"
   },
   {
    "duration": 13,
    "start_time": "2022-09-08T09:55:54.470Z"
   },
   {
    "duration": 11,
    "start_time": "2022-09-08T09:55:54.485Z"
   },
   {
    "duration": 40,
    "start_time": "2022-09-08T09:55:54.497Z"
   },
   {
    "duration": 13,
    "start_time": "2022-09-08T09:55:54.539Z"
   },
   {
    "duration": 1863,
    "start_time": "2022-09-08T09:55:54.553Z"
   },
   {
    "duration": 800,
    "start_time": "2022-09-08T09:55:56.418Z"
   },
   {
    "duration": 5,
    "start_time": "2022-09-08T09:55:57.219Z"
   },
   {
    "duration": 13,
    "start_time": "2022-09-08T09:55:57.226Z"
   },
   {
    "duration": 5,
    "start_time": "2022-09-08T09:55:57.240Z"
   },
   {
    "duration": 7,
    "start_time": "2022-09-08T09:55:57.247Z"
   },
   {
    "duration": 1138,
    "start_time": "2022-09-08T09:55:57.256Z"
   },
   {
    "duration": 1610,
    "start_time": "2022-09-08T09:55:58.395Z"
   },
   {
    "duration": 7,
    "start_time": "2022-09-08T09:56:00.007Z"
   },
   {
    "duration": 39,
    "start_time": "2022-09-08T09:56:00.016Z"
   },
   {
    "duration": 42,
    "start_time": "2022-09-08T09:56:00.057Z"
   },
   {
    "duration": 30,
    "start_time": "2022-09-08T09:56:00.101Z"
   },
   {
    "duration": 20,
    "start_time": "2022-09-08T09:56:00.133Z"
   },
   {
    "duration": 354,
    "start_time": "2022-09-08T09:56:00.155Z"
   },
   {
    "duration": 10,
    "start_time": "2022-09-08T09:56:00.511Z"
   },
   {
    "duration": 467,
    "start_time": "2022-09-08T09:56:58.189Z"
   },
   {
    "duration": 1498,
    "start_time": "2022-09-08T16:25:11.837Z"
   },
   {
    "duration": 134,
    "start_time": "2022-09-08T16:25:13.337Z"
   },
   {
    "duration": 14,
    "start_time": "2022-09-08T16:25:13.473Z"
   },
   {
    "duration": 13,
    "start_time": "2022-09-08T16:25:13.488Z"
   },
   {
    "duration": 41,
    "start_time": "2022-09-08T16:25:13.502Z"
   },
   {
    "duration": 23,
    "start_time": "2022-09-08T16:25:13.544Z"
   },
   {
    "duration": 1779,
    "start_time": "2022-09-08T16:25:13.569Z"
   },
   {
    "duration": 682,
    "start_time": "2022-09-08T16:25:15.350Z"
   },
   {
    "duration": 6,
    "start_time": "2022-09-08T16:25:16.034Z"
   },
   {
    "duration": 6,
    "start_time": "2022-09-08T16:25:16.055Z"
   },
   {
    "duration": 10,
    "start_time": "2022-09-08T16:25:16.062Z"
   },
   {
    "duration": 11,
    "start_time": "2022-09-08T16:25:16.073Z"
   },
   {
    "duration": 574,
    "start_time": "2022-09-08T16:25:16.086Z"
   },
   {
    "duration": 1223,
    "start_time": "2022-09-08T16:25:16.661Z"
   },
   {
    "duration": 1419,
    "start_time": "2022-09-08T16:25:17.886Z"
   },
   {
    "duration": 4,
    "start_time": "2022-09-08T16:25:19.307Z"
   },
   {
    "duration": 10,
    "start_time": "2022-09-08T16:25:19.313Z"
   },
   {
    "duration": 12,
    "start_time": "2022-09-08T16:25:19.324Z"
   },
   {
    "duration": 17,
    "start_time": "2022-09-08T16:25:19.338Z"
   },
   {
    "duration": 8,
    "start_time": "2022-09-08T16:25:19.357Z"
   },
   {
    "duration": 330,
    "start_time": "2022-09-08T16:25:19.366Z"
   },
   {
    "duration": 7,
    "start_time": "2022-09-08T16:25:19.698Z"
   },
   {
    "duration": 97,
    "start_time": "2022-09-08T16:27:46.189Z"
   },
   {
    "duration": 7,
    "start_time": "2022-09-08T16:27:54.249Z"
   },
   {
    "duration": 481,
    "start_time": "2022-09-08T16:27:54.891Z"
   },
   {
    "duration": 97080,
    "start_time": "2022-09-08T16:35:03.148Z"
   },
   {
    "duration": 23,
    "start_time": "2022-09-08T17:01:36.901Z"
   },
   {
    "duration": 1190,
    "start_time": "2022-09-08T17:04:03.568Z"
   },
   {
    "duration": 16,
    "start_time": "2022-09-08T17:09:09.929Z"
   },
   {
    "duration": 4,
    "start_time": "2022-09-08T17:23:25.146Z"
   },
   {
    "duration": 7,
    "start_time": "2022-09-08T17:23:29.025Z"
   },
   {
    "duration": 503,
    "start_time": "2022-09-08T17:23:32.542Z"
   },
   {
    "duration": 15,
    "start_time": "2022-09-08T17:24:06.606Z"
   },
   {
    "duration": 20,
    "start_time": "2022-09-08T17:24:20.850Z"
   },
   {
    "duration": 1345,
    "start_time": "2022-09-08T17:25:50.188Z"
   },
   {
    "duration": 34,
    "start_time": "2022-09-08T17:25:51.535Z"
   },
   {
    "duration": 14,
    "start_time": "2022-09-08T17:25:51.570Z"
   },
   {
    "duration": 11,
    "start_time": "2022-09-08T17:25:51.586Z"
   },
   {
    "duration": 40,
    "start_time": "2022-09-08T17:25:51.598Z"
   },
   {
    "duration": 33,
    "start_time": "2022-09-08T17:25:51.639Z"
   },
   {
    "duration": 1760,
    "start_time": "2022-09-08T17:25:51.673Z"
   },
   {
    "duration": 655,
    "start_time": "2022-09-08T17:25:53.435Z"
   },
   {
    "duration": 5,
    "start_time": "2022-09-08T17:25:54.092Z"
   },
   {
    "duration": 5,
    "start_time": "2022-09-08T17:25:54.100Z"
   },
   {
    "duration": 7,
    "start_time": "2022-09-08T17:25:54.106Z"
   },
   {
    "duration": 6,
    "start_time": "2022-09-08T17:25:54.114Z"
   },
   {
    "duration": 601,
    "start_time": "2022-09-08T17:25:54.122Z"
   },
   {
    "duration": 1131,
    "start_time": "2022-09-08T17:25:54.724Z"
   },
   {
    "duration": 1369,
    "start_time": "2022-09-08T17:25:55.856Z"
   },
   {
    "duration": 4,
    "start_time": "2022-09-08T17:25:57.227Z"
   },
   {
    "duration": 13,
    "start_time": "2022-09-08T17:25:57.232Z"
   },
   {
    "duration": 9,
    "start_time": "2022-09-08T17:25:57.246Z"
   },
   {
    "duration": 23,
    "start_time": "2022-09-08T17:25:57.257Z"
   },
   {
    "duration": 7,
    "start_time": "2022-09-08T17:25:57.282Z"
   },
   {
    "duration": 354,
    "start_time": "2022-09-08T17:25:57.291Z"
   },
   {
    "duration": 12,
    "start_time": "2022-09-08T17:25:57.647Z"
   },
   {
    "duration": 4,
    "start_time": "2022-09-08T17:25:57.660Z"
   },
   {
    "duration": 10,
    "start_time": "2022-09-08T17:25:57.665Z"
   },
   {
    "duration": 513,
    "start_time": "2022-09-08T17:25:57.676Z"
   },
   {
    "duration": 95638,
    "start_time": "2022-09-08T17:25:58.191Z"
   },
   {
    "duration": 1224,
    "start_time": "2022-09-08T17:27:33.831Z"
   },
   {
    "duration": 97,
    "start_time": "2022-09-08T17:27:35.059Z"
   },
   {
    "duration": 106,
    "start_time": "2022-09-08T18:10:41.668Z"
   },
   {
    "duration": 1641,
    "start_time": "2022-09-08T18:11:40.497Z"
   },
   {
    "duration": 346,
    "start_time": "2022-09-08T18:13:59.648Z"
   },
   {
    "duration": 2357,
    "start_time": "2022-09-08T18:15:43.567Z"
   },
   {
    "duration": 16,
    "start_time": "2022-09-08T18:17:02.566Z"
   },
   {
    "duration": 1668,
    "start_time": "2022-09-08T18:17:12.595Z"
   },
   {
    "duration": 17,
    "start_time": "2022-09-08T18:17:53.325Z"
   },
   {
    "duration": 16,
    "start_time": "2022-09-08T18:18:03.654Z"
   },
   {
    "duration": 339,
    "start_time": "2022-09-08T18:18:24.430Z"
   },
   {
    "duration": 144,
    "start_time": "2022-09-08T18:18:47.679Z"
   },
   {
    "duration": 83,
    "start_time": "2022-09-08T18:19:02.661Z"
   },
   {
    "duration": 428,
    "start_time": "2022-09-08T18:19:07.442Z"
   },
   {
    "duration": 1963,
    "start_time": "2022-09-08T18:48:34.241Z"
   },
   {
    "duration": 446,
    "start_time": "2022-09-08T18:49:36.524Z"
   },
   {
    "duration": 2749,
    "start_time": "2022-09-08T18:54:09.662Z"
   },
   {
    "duration": 2803,
    "start_time": "2022-09-08T18:55:09.094Z"
   },
   {
    "duration": 23,
    "start_time": "2022-09-08T18:59:32.450Z"
   },
   {
    "duration": 14,
    "start_time": "2022-09-08T18:59:43.053Z"
   },
   {
    "duration": 1441,
    "start_time": "2022-09-08T18:59:52.543Z"
   },
   {
    "duration": 35,
    "start_time": "2022-09-08T18:59:53.986Z"
   },
   {
    "duration": 16,
    "start_time": "2022-09-08T18:59:54.022Z"
   },
   {
    "duration": 11,
    "start_time": "2022-09-08T18:59:54.040Z"
   },
   {
    "duration": 53,
    "start_time": "2022-09-08T18:59:54.053Z"
   },
   {
    "duration": 14,
    "start_time": "2022-09-08T18:59:54.107Z"
   },
   {
    "duration": 2087,
    "start_time": "2022-09-08T18:59:54.123Z"
   },
   {
    "duration": 814,
    "start_time": "2022-09-08T18:59:56.212Z"
   },
   {
    "duration": 5,
    "start_time": "2022-09-08T18:59:57.028Z"
   },
   {
    "duration": 7,
    "start_time": "2022-09-08T18:59:57.035Z"
   },
   {
    "duration": 19,
    "start_time": "2022-09-08T18:59:57.055Z"
   },
   {
    "duration": 6,
    "start_time": "2022-09-08T18:59:57.076Z"
   },
   {
    "duration": 723,
    "start_time": "2022-09-08T18:59:57.084Z"
   },
   {
    "duration": 1276,
    "start_time": "2022-09-08T18:59:57.811Z"
   },
   {
    "duration": 1435,
    "start_time": "2022-09-08T18:59:59.089Z"
   },
   {
    "duration": 4,
    "start_time": "2022-09-08T19:00:00.525Z"
   },
   {
    "duration": 14,
    "start_time": "2022-09-08T19:00:00.531Z"
   },
   {
    "duration": 30,
    "start_time": "2022-09-08T19:00:00.547Z"
   },
   {
    "duration": 32,
    "start_time": "2022-09-08T19:00:00.579Z"
   },
   {
    "duration": 16,
    "start_time": "2022-09-08T19:00:00.613Z"
   },
   {
    "duration": 337,
    "start_time": "2022-09-08T19:00:00.630Z"
   },
   {
    "duration": 9,
    "start_time": "2022-09-08T19:00:00.968Z"
   },
   {
    "duration": 25,
    "start_time": "2022-09-08T19:00:00.978Z"
   },
   {
    "duration": 628,
    "start_time": "2022-09-08T19:00:01.005Z"
   },
   {
    "duration": 106113,
    "start_time": "2022-09-08T19:00:01.635Z"
   },
   {
    "duration": 822,
    "start_time": "2022-09-08T19:01:47.760Z"
   },
   {
    "duration": 201,
    "start_time": "2022-09-08T19:01:48.586Z"
   },
   {
    "duration": 0,
    "start_time": "2022-09-08T19:01:48.789Z"
   },
   {
    "duration": 0,
    "start_time": "2022-09-08T19:01:48.790Z"
   },
   {
    "duration": 29,
    "start_time": "2022-09-08T19:03:12.551Z"
   },
   {
    "duration": 2857,
    "start_time": "2022-09-08T19:03:28.437Z"
   },
   {
    "duration": 7,
    "start_time": "2022-09-08T19:03:36.724Z"
   },
   {
    "duration": 1563,
    "start_time": "2022-09-09T08:06:48.794Z"
   },
   {
    "duration": 144,
    "start_time": "2022-09-09T08:06:50.359Z"
   },
   {
    "duration": 14,
    "start_time": "2022-09-09T08:06:50.505Z"
   },
   {
    "duration": 11,
    "start_time": "2022-09-09T08:06:50.521Z"
   },
   {
    "duration": 40,
    "start_time": "2022-09-09T08:06:50.533Z"
   },
   {
    "duration": 42,
    "start_time": "2022-09-09T08:06:50.575Z"
   },
   {
    "duration": 1979,
    "start_time": "2022-09-09T08:06:50.619Z"
   },
   {
    "duration": 716,
    "start_time": "2022-09-09T08:06:52.600Z"
   },
   {
    "duration": 6,
    "start_time": "2022-09-09T08:06:53.318Z"
   },
   {
    "duration": 8,
    "start_time": "2022-09-09T08:06:53.327Z"
   },
   {
    "duration": 9,
    "start_time": "2022-09-09T08:06:53.338Z"
   },
   {
    "duration": 12,
    "start_time": "2022-09-09T08:06:53.349Z"
   },
   {
    "duration": 685,
    "start_time": "2022-09-09T08:06:53.362Z"
   },
   {
    "duration": 1220,
    "start_time": "2022-09-09T08:06:54.049Z"
   },
   {
    "duration": 1661,
    "start_time": "2022-09-09T08:06:55.271Z"
   },
   {
    "duration": 5,
    "start_time": "2022-09-09T08:06:56.934Z"
   },
   {
    "duration": 12,
    "start_time": "2022-09-09T08:06:56.941Z"
   },
   {
    "duration": 5,
    "start_time": "2022-09-09T08:06:56.955Z"
   },
   {
    "duration": 24,
    "start_time": "2022-09-09T08:06:56.961Z"
   },
   {
    "duration": 8,
    "start_time": "2022-09-09T08:06:56.986Z"
   },
   {
    "duration": 333,
    "start_time": "2022-09-09T08:06:56.995Z"
   },
   {
    "duration": 9,
    "start_time": "2022-09-09T08:06:57.330Z"
   },
   {
    "duration": 17,
    "start_time": "2022-09-09T08:06:57.340Z"
   },
   {
    "duration": 506,
    "start_time": "2022-09-09T08:06:57.359Z"
   },
   {
    "duration": 106477,
    "start_time": "2022-09-09T08:06:57.866Z"
   },
   {
    "duration": 1162,
    "start_time": "2022-09-09T08:08:44.345Z"
   },
   {
    "duration": 105,
    "start_time": "2022-09-09T08:08:45.509Z"
   },
   {
    "duration": 2794,
    "start_time": "2022-09-09T08:08:45.616Z"
   },
   {
    "duration": 5,
    "start_time": "2022-09-09T08:08:48.412Z"
   },
   {
    "duration": 2619,
    "start_time": "2022-09-09T08:11:50.257Z"
   },
   {
    "duration": 108,
    "start_time": "2022-09-09T08:23:42.699Z"
   },
   {
    "duration": 2778,
    "start_time": "2022-09-09T08:23:58.255Z"
   },
   {
    "duration": 680,
    "start_time": "2022-09-09T08:24:02.850Z"
   },
   {
    "duration": 8340,
    "start_time": "2022-09-09T08:24:13.497Z"
   },
   {
    "duration": 556,
    "start_time": "2022-09-09T08:32:37.014Z"
   },
   {
    "duration": 580,
    "start_time": "2022-09-09T08:32:56.905Z"
   },
   {
    "duration": 6,
    "start_time": "2022-09-09T08:52:27.221Z"
   },
   {
    "duration": 11,
    "start_time": "2022-09-09T08:52:54.027Z"
   },
   {
    "duration": 8,
    "start_time": "2022-09-09T08:53:26.246Z"
   },
   {
    "duration": 9,
    "start_time": "2022-09-09T08:56:31.168Z"
   },
   {
    "duration": 8,
    "start_time": "2022-09-09T08:56:51.204Z"
   },
   {
    "duration": 9,
    "start_time": "2022-09-09T08:57:06.171Z"
   },
   {
    "duration": 7,
    "start_time": "2022-09-09T08:57:13.995Z"
   },
   {
    "duration": 31,
    "start_time": "2022-09-09T09:04:35.305Z"
   },
   {
    "duration": 14,
    "start_time": "2022-09-09T09:04:42.972Z"
   },
   {
    "duration": 11,
    "start_time": "2022-09-09T09:04:55.296Z"
   },
   {
    "duration": 51,
    "start_time": "2022-09-09T16:54:38.021Z"
   },
   {
    "duration": 1727,
    "start_time": "2022-09-09T16:54:47.142Z"
   },
   {
    "duration": 97,
    "start_time": "2022-09-09T16:54:48.872Z"
   },
   {
    "duration": 22,
    "start_time": "2022-09-09T16:54:48.971Z"
   },
   {
    "duration": 18,
    "start_time": "2022-09-09T16:54:48.996Z"
   },
   {
    "duration": 71,
    "start_time": "2022-09-09T16:54:49.017Z"
   },
   {
    "duration": 34,
    "start_time": "2022-09-09T16:54:49.091Z"
   },
   {
    "duration": 5802,
    "start_time": "2022-09-09T16:54:49.128Z"
   },
   {
    "duration": 688,
    "start_time": "2022-09-09T16:54:54.932Z"
   },
   {
    "duration": 5,
    "start_time": "2022-09-09T16:54:55.622Z"
   },
   {
    "duration": 8,
    "start_time": "2022-09-09T16:54:55.630Z"
   },
   {
    "duration": 11,
    "start_time": "2022-09-09T16:54:55.639Z"
   },
   {
    "duration": 9,
    "start_time": "2022-09-09T16:54:55.651Z"
   },
   {
    "duration": 707,
    "start_time": "2022-09-09T16:54:55.662Z"
   },
   {
    "duration": 1394,
    "start_time": "2022-09-09T16:54:56.371Z"
   },
   {
    "duration": 1637,
    "start_time": "2022-09-09T16:54:57.766Z"
   },
   {
    "duration": 4,
    "start_time": "2022-09-09T16:54:59.404Z"
   },
   {
    "duration": 18,
    "start_time": "2022-09-09T16:54:59.410Z"
   },
   {
    "duration": 17,
    "start_time": "2022-09-09T16:54:59.430Z"
   },
   {
    "duration": 33,
    "start_time": "2022-09-09T16:54:59.449Z"
   },
   {
    "duration": 17,
    "start_time": "2022-09-09T16:54:59.484Z"
   },
   {
    "duration": 368,
    "start_time": "2022-09-09T16:54:59.503Z"
   },
   {
    "duration": 7,
    "start_time": "2022-09-09T16:54:59.873Z"
   },
   {
    "duration": 9,
    "start_time": "2022-09-09T16:54:59.882Z"
   },
   {
    "duration": 592,
    "start_time": "2022-09-09T16:54:59.892Z"
   },
   {
    "duration": 115441,
    "start_time": "2022-09-09T16:55:00.486Z"
   },
   {
    "duration": 1495,
    "start_time": "2022-09-09T16:56:55.928Z"
   },
   {
    "duration": 22,
    "start_time": "2022-09-09T16:56:57.425Z"
   },
   {
    "duration": 2888,
    "start_time": "2022-09-09T16:56:57.451Z"
   },
   {
    "duration": 8,
    "start_time": "2022-09-09T16:57:00.340Z"
   },
   {
    "duration": 593,
    "start_time": "2022-09-09T17:05:27.104Z"
   },
   {
    "duration": 185,
    "start_time": "2022-09-09T17:05:37.739Z"
   },
   {
    "duration": 1391,
    "start_time": "2022-09-09T17:05:51.772Z"
   },
   {
    "duration": 1479,
    "start_time": "2022-09-09T17:06:43.218Z"
   },
   {
    "duration": 34,
    "start_time": "2022-09-09T17:06:44.699Z"
   },
   {
    "duration": 16,
    "start_time": "2022-09-09T17:06:44.734Z"
   },
   {
    "duration": 15,
    "start_time": "2022-09-09T17:06:44.752Z"
   },
   {
    "duration": 54,
    "start_time": "2022-09-09T17:06:44.769Z"
   },
   {
    "duration": 16,
    "start_time": "2022-09-09T17:06:44.825Z"
   },
   {
    "duration": 2180,
    "start_time": "2022-09-09T17:06:44.843Z"
   },
   {
    "duration": 800,
    "start_time": "2022-09-09T17:06:47.025Z"
   },
   {
    "duration": 6,
    "start_time": "2022-09-09T17:06:47.827Z"
   },
   {
    "duration": 20,
    "start_time": "2022-09-09T17:06:47.837Z"
   },
   {
    "duration": 18,
    "start_time": "2022-09-09T17:06:47.858Z"
   },
   {
    "duration": 44,
    "start_time": "2022-09-09T17:06:47.878Z"
   },
   {
    "duration": 725,
    "start_time": "2022-09-09T17:06:47.923Z"
   },
   {
    "duration": 1421,
    "start_time": "2022-09-09T17:06:48.649Z"
   },
   {
    "duration": 1563,
    "start_time": "2022-09-09T17:06:50.072Z"
   },
   {
    "duration": 5,
    "start_time": "2022-09-09T17:06:51.636Z"
   },
   {
    "duration": 13,
    "start_time": "2022-09-09T17:06:51.642Z"
   },
   {
    "duration": 19,
    "start_time": "2022-09-09T17:06:51.657Z"
   },
   {
    "duration": 24,
    "start_time": "2022-09-09T17:06:51.678Z"
   },
   {
    "duration": 7,
    "start_time": "2022-09-09T17:06:51.704Z"
   },
   {
    "duration": 378,
    "start_time": "2022-09-09T17:06:51.713Z"
   },
   {
    "duration": 8,
    "start_time": "2022-09-09T17:06:52.093Z"
   },
   {
    "duration": 18,
    "start_time": "2022-09-09T17:06:52.102Z"
   },
   {
    "duration": 589,
    "start_time": "2022-09-09T17:06:52.122Z"
   },
   {
    "duration": 117681,
    "start_time": "2022-09-09T17:06:52.713Z"
   },
   {
    "duration": 1227,
    "start_time": "2022-09-09T17:08:50.396Z"
   },
   {
    "duration": 100,
    "start_time": "2022-09-09T17:08:51.625Z"
   },
   {
    "duration": 3160,
    "start_time": "2022-09-09T17:08:51.728Z"
   },
   {
    "duration": 6,
    "start_time": "2022-09-09T17:08:54.890Z"
   },
   {
    "duration": 18,
    "start_time": "2022-09-09T17:19:04.939Z"
   },
   {
    "duration": 694,
    "start_time": "2022-09-09T17:39:10.545Z"
   },
   {
    "duration": 2,
    "start_time": "2022-09-09T17:41:14.469Z"
   },
   {
    "duration": 1456,
    "start_time": "2022-09-09T17:41:15.244Z"
   },
   {
    "duration": 256,
    "start_time": "2022-09-09T17:43:26.034Z"
   },
   {
    "duration": 2203,
    "start_time": "2022-09-09T17:45:10.082Z"
   },
   {
    "duration": 1437,
    "start_time": "2022-09-09T17:47:16.374Z"
   },
   {
    "duration": 35,
    "start_time": "2022-09-09T17:47:17.812Z"
   },
   {
    "duration": 18,
    "start_time": "2022-09-09T17:47:17.849Z"
   },
   {
    "duration": 16,
    "start_time": "2022-09-09T17:47:17.870Z"
   },
   {
    "duration": 50,
    "start_time": "2022-09-09T17:47:17.888Z"
   },
   {
    "duration": 17,
    "start_time": "2022-09-09T17:47:17.941Z"
   },
   {
    "duration": 2229,
    "start_time": "2022-09-09T17:47:17.960Z"
   },
   {
    "duration": 814,
    "start_time": "2022-09-09T17:47:20.191Z"
   },
   {
    "duration": 6,
    "start_time": "2022-09-09T17:47:21.006Z"
   },
   {
    "duration": 9,
    "start_time": "2022-09-09T17:47:21.020Z"
   },
   {
    "duration": 12,
    "start_time": "2022-09-09T17:47:21.031Z"
   },
   {
    "duration": 9,
    "start_time": "2022-09-09T17:47:21.045Z"
   },
   {
    "duration": 1294,
    "start_time": "2022-09-09T17:47:21.056Z"
   },
   {
    "duration": 1635,
    "start_time": "2022-09-09T17:47:22.352Z"
   },
   {
    "duration": 5,
    "start_time": "2022-09-09T17:47:23.988Z"
   },
   {
    "duration": 12,
    "start_time": "2022-09-09T17:47:23.995Z"
   },
   {
    "duration": 5,
    "start_time": "2022-09-09T17:47:24.009Z"
   },
   {
    "duration": 20,
    "start_time": "2022-09-09T17:47:24.016Z"
   },
   {
    "duration": 8,
    "start_time": "2022-09-09T17:47:24.038Z"
   },
   {
    "duration": 384,
    "start_time": "2022-09-09T17:47:24.048Z"
   },
   {
    "duration": 8,
    "start_time": "2022-09-09T17:47:24.434Z"
   },
   {
    "duration": 12,
    "start_time": "2022-09-09T17:47:24.443Z"
   },
   {
    "duration": 595,
    "start_time": "2022-09-09T17:47:24.456Z"
   },
   {
    "duration": 115020,
    "start_time": "2022-09-09T17:47:25.053Z"
   },
   {
    "duration": 1247,
    "start_time": "2022-09-09T17:49:20.075Z"
   },
   {
    "duration": 105,
    "start_time": "2022-09-09T17:49:21.324Z"
   },
   {
    "duration": 2,
    "start_time": "2022-09-09T17:49:21.431Z"
   },
   {
    "duration": 1337,
    "start_time": "2022-09-09T17:49:21.436Z"
   },
   {
    "duration": 2180,
    "start_time": "2022-09-09T17:49:22.775Z"
   },
   {
    "duration": 7,
    "start_time": "2022-09-09T17:49:24.957Z"
   },
   {
    "duration": 1272,
    "start_time": "2022-09-09T17:56:31.232Z"
   },
   {
    "duration": 1361,
    "start_time": "2022-09-09T17:56:44.094Z"
   },
   {
    "duration": 1451,
    "start_time": "2022-09-09T18:02:38.783Z"
   },
   {
    "duration": 1419,
    "start_time": "2022-09-09T18:02:47.282Z"
   },
   {
    "duration": 125,
    "start_time": "2022-09-09T18:05:22.810Z"
   },
   {
    "duration": 1410,
    "start_time": "2022-09-09T18:05:31.092Z"
   },
   {
    "duration": 1454,
    "start_time": "2022-09-09T18:08:15.602Z"
   },
   {
    "duration": 1492,
    "start_time": "2022-09-09T18:08:24.991Z"
   },
   {
    "duration": 147,
    "start_time": "2022-09-09T18:09:07.010Z"
   },
   {
    "duration": 133,
    "start_time": "2022-09-09T18:09:31.294Z"
   },
   {
    "duration": 27,
    "start_time": "2022-09-09T18:13:24.946Z"
   },
   {
    "duration": 33,
    "start_time": "2022-09-09T18:13:31.596Z"
   },
   {
    "duration": 4041,
    "start_time": "2022-09-09T18:13:39.099Z"
   },
   {
    "duration": 1513,
    "start_time": "2022-09-09T18:13:56.425Z"
   },
   {
    "duration": 14,
    "start_time": "2022-09-09T18:14:51.844Z"
   },
   {
    "duration": 135,
    "start_time": "2022-09-09T18:16:17.633Z"
   },
   {
    "duration": 1458,
    "start_time": "2022-09-09T18:16:26.369Z"
   },
   {
    "duration": 1431,
    "start_time": "2022-09-09T18:17:24.379Z"
   },
   {
    "duration": 1468,
    "start_time": "2022-09-09T18:19:44.056Z"
   },
   {
    "duration": 101,
    "start_time": "2022-09-09T18:19:52.598Z"
   },
   {
    "duration": 1407,
    "start_time": "2022-09-09T18:20:00.922Z"
   },
   {
    "duration": 1288,
    "start_time": "2022-09-09T18:20:14.212Z"
   },
   {
    "duration": 1455,
    "start_time": "2022-09-09T18:21:06.470Z"
   },
   {
    "duration": 1511,
    "start_time": "2022-09-09T18:21:14.660Z"
   },
   {
    "duration": 1435,
    "start_time": "2022-09-09T18:21:42.003Z"
   },
   {
    "duration": 1433,
    "start_time": "2022-09-09T18:21:47.307Z"
   },
   {
    "duration": 1471,
    "start_time": "2022-09-09T18:21:54.046Z"
   },
   {
    "duration": 1436,
    "start_time": "2022-09-09T18:24:39.906Z"
   },
   {
    "duration": 1317,
    "start_time": "2022-09-09T18:24:47.913Z"
   },
   {
    "duration": 1775,
    "start_time": "2022-09-09T18:25:10.269Z"
   },
   {
    "duration": 1392,
    "start_time": "2022-09-09T18:26:57.434Z"
   },
   {
    "duration": 37,
    "start_time": "2022-09-09T18:26:58.827Z"
   },
   {
    "duration": 20,
    "start_time": "2022-09-09T18:26:58.866Z"
   },
   {
    "duration": 34,
    "start_time": "2022-09-09T18:26:58.889Z"
   },
   {
    "duration": 76,
    "start_time": "2022-09-09T18:26:58.925Z"
   },
   {
    "duration": 32,
    "start_time": "2022-09-09T18:26:59.003Z"
   },
   {
    "duration": 2214,
    "start_time": "2022-09-09T18:26:59.037Z"
   },
   {
    "duration": 824,
    "start_time": "2022-09-09T18:27:01.253Z"
   },
   {
    "duration": 5,
    "start_time": "2022-09-09T18:27:02.079Z"
   },
   {
    "duration": 15,
    "start_time": "2022-09-09T18:27:02.087Z"
   },
   {
    "duration": 23,
    "start_time": "2022-09-09T18:27:02.104Z"
   },
   {
    "duration": 23,
    "start_time": "2022-09-09T18:27:02.129Z"
   },
   {
    "duration": 1341,
    "start_time": "2022-09-09T18:27:02.154Z"
   },
   {
    "duration": 1687,
    "start_time": "2022-09-09T18:27:03.496Z"
   },
   {
    "duration": 5,
    "start_time": "2022-09-09T18:27:05.185Z"
   },
   {
    "duration": 17,
    "start_time": "2022-09-09T18:27:05.192Z"
   },
   {
    "duration": 8,
    "start_time": "2022-09-09T18:27:05.210Z"
   },
   {
    "duration": 22,
    "start_time": "2022-09-09T18:27:05.219Z"
   },
   {
    "duration": 8,
    "start_time": "2022-09-09T18:27:05.243Z"
   },
   {
    "duration": 397,
    "start_time": "2022-09-09T18:27:05.253Z"
   },
   {
    "duration": 8,
    "start_time": "2022-09-09T18:27:05.652Z"
   },
   {
    "duration": 13,
    "start_time": "2022-09-09T18:27:05.662Z"
   },
   {
    "duration": 604,
    "start_time": "2022-09-09T18:27:05.677Z"
   },
   {
    "duration": 115666,
    "start_time": "2022-09-09T18:27:06.283Z"
   },
   {
    "duration": 1170,
    "start_time": "2022-09-09T18:29:01.951Z"
   },
   {
    "duration": 108,
    "start_time": "2022-09-09T18:29:03.123Z"
   },
   {
    "duration": 119,
    "start_time": "2022-09-09T18:29:03.233Z"
   },
   {
    "duration": 0,
    "start_time": "2022-09-09T18:29:03.354Z"
   },
   {
    "duration": 0,
    "start_time": "2022-09-09T18:29:03.355Z"
   },
   {
    "duration": 2235,
    "start_time": "2022-09-09T18:38:20.244Z"
   },
   {
    "duration": 1836,
    "start_time": "2022-09-09T18:38:38.776Z"
   },
   {
    "duration": 1277,
    "start_time": "2022-09-09T18:38:44.018Z"
   },
   {
    "duration": 2328,
    "start_time": "2022-09-09T18:38:49.963Z"
   },
   {
    "duration": 1492,
    "start_time": "2022-09-09T18:39:07.684Z"
   },
   {
    "duration": 1399,
    "start_time": "2022-09-09T18:39:19.317Z"
   },
   {
    "duration": 875,
    "start_time": "2022-09-09T18:40:46.513Z"
   },
   {
    "duration": 858,
    "start_time": "2022-09-09T18:41:02.675Z"
   },
   {
    "duration": 1296,
    "start_time": "2022-09-09T18:41:07.411Z"
   },
   {
    "duration": 1414,
    "start_time": "2022-09-09T18:41:34.096Z"
   },
   {
    "duration": 700,
    "start_time": "2022-09-09T19:00:36.383Z"
   },
   {
    "duration": 1502,
    "start_time": "2022-09-09T19:01:03.143Z"
   },
   {
    "duration": 1215,
    "start_time": "2022-09-09T19:01:31.698Z"
   },
   {
    "duration": 1429,
    "start_time": "2022-09-09T19:01:43.701Z"
   },
   {
    "duration": 1446,
    "start_time": "2022-09-09T19:05:15.367Z"
   },
   {
    "duration": 34,
    "start_time": "2022-09-09T19:05:16.815Z"
   },
   {
    "duration": 17,
    "start_time": "2022-09-09T19:05:16.850Z"
   },
   {
    "duration": 13,
    "start_time": "2022-09-09T19:05:16.869Z"
   },
   {
    "duration": 50,
    "start_time": "2022-09-09T19:05:16.883Z"
   },
   {
    "duration": 16,
    "start_time": "2022-09-09T19:05:16.935Z"
   },
   {
    "duration": 2231,
    "start_time": "2022-09-09T19:05:16.952Z"
   },
   {
    "duration": 785,
    "start_time": "2022-09-09T19:05:19.186Z"
   },
   {
    "duration": 5,
    "start_time": "2022-09-09T19:05:19.972Z"
   },
   {
    "duration": 7,
    "start_time": "2022-09-09T19:05:19.980Z"
   },
   {
    "duration": 13,
    "start_time": "2022-09-09T19:05:19.988Z"
   },
   {
    "duration": 18,
    "start_time": "2022-09-09T19:05:20.003Z"
   },
   {
    "duration": 1267,
    "start_time": "2022-09-09T19:05:20.023Z"
   },
   {
    "duration": 1748,
    "start_time": "2022-09-09T19:05:21.291Z"
   },
   {
    "duration": 4,
    "start_time": "2022-09-09T19:05:23.041Z"
   },
   {
    "duration": 12,
    "start_time": "2022-09-09T19:05:23.047Z"
   },
   {
    "duration": 7,
    "start_time": "2022-09-09T19:05:23.061Z"
   },
   {
    "duration": 19,
    "start_time": "2022-09-09T19:05:23.069Z"
   },
   {
    "duration": 7,
    "start_time": "2022-09-09T19:05:23.090Z"
   },
   {
    "duration": 398,
    "start_time": "2022-09-09T19:05:23.099Z"
   },
   {
    "duration": 9,
    "start_time": "2022-09-09T19:05:23.499Z"
   },
   {
    "duration": 20,
    "start_time": "2022-09-09T19:05:23.510Z"
   },
   {
    "duration": 648,
    "start_time": "2022-09-09T19:05:23.531Z"
   },
   {
    "duration": 117355,
    "start_time": "2022-09-09T19:05:24.181Z"
   },
   {
    "duration": 1386,
    "start_time": "2022-09-09T19:07:21.537Z"
   },
   {
    "duration": 20,
    "start_time": "2022-09-09T19:07:22.925Z"
   },
   {
    "duration": 1444,
    "start_time": "2022-09-09T19:07:22.946Z"
   },
   {
    "duration": 2635,
    "start_time": "2022-09-09T19:07:24.393Z"
   },
   {
    "duration": 13,
    "start_time": "2022-09-09T19:07:27.031Z"
   },
   {
    "duration": 1367,
    "start_time": "2022-09-09T19:13:11.087Z"
   },
   {
    "duration": 1703,
    "start_time": "2022-09-09T19:13:18.624Z"
   },
   {
    "duration": 1501,
    "start_time": "2022-09-09T19:31:54.407Z"
   },
   {
    "duration": 1602,
    "start_time": "2022-09-09T19:32:38.537Z"
   },
   {
    "duration": 1520,
    "start_time": "2022-09-09T19:32:47.736Z"
   },
   {
    "duration": 1736,
    "start_time": "2022-09-09T19:32:58.482Z"
   },
   {
    "duration": 1537,
    "start_time": "2022-09-09T19:33:19.260Z"
   },
   {
    "duration": 1503,
    "start_time": "2022-09-09T19:33:25.736Z"
   },
   {
    "duration": 1503,
    "start_time": "2022-09-09T19:33:39.671Z"
   },
   {
    "duration": 121,
    "start_time": "2022-09-09T19:34:51.033Z"
   },
   {
    "duration": 1514,
    "start_time": "2022-09-09T19:35:03.988Z"
   },
   {
    "duration": 4032,
    "start_time": "2022-09-09T19:36:14.001Z"
   },
   {
    "duration": 64,
    "start_time": "2022-09-10T05:36:13.570Z"
   },
   {
    "duration": 1668,
    "start_time": "2022-09-10T06:40:46.236Z"
   },
   {
    "duration": 71,
    "start_time": "2022-09-10T06:40:47.907Z"
   },
   {
    "duration": 14,
    "start_time": "2022-09-10T06:40:47.980Z"
   },
   {
    "duration": 11,
    "start_time": "2022-09-10T06:40:47.996Z"
   },
   {
    "duration": 45,
    "start_time": "2022-09-10T06:40:48.009Z"
   },
   {
    "duration": 33,
    "start_time": "2022-09-10T06:40:48.056Z"
   },
   {
    "duration": 1995,
    "start_time": "2022-09-10T06:40:48.091Z"
   },
   {
    "duration": 728,
    "start_time": "2022-09-10T06:40:50.087Z"
   },
   {
    "duration": 5,
    "start_time": "2022-09-10T06:40:50.817Z"
   },
   {
    "duration": 8,
    "start_time": "2022-09-10T06:40:50.825Z"
   },
   {
    "duration": 7,
    "start_time": "2022-09-10T06:40:50.835Z"
   },
   {
    "duration": 8,
    "start_time": "2022-09-10T06:40:50.843Z"
   },
   {
    "duration": 1130,
    "start_time": "2022-09-10T06:40:50.852Z"
   },
   {
    "duration": 1549,
    "start_time": "2022-09-10T06:40:51.983Z"
   },
   {
    "duration": 4,
    "start_time": "2022-09-10T06:40:53.534Z"
   },
   {
    "duration": 8,
    "start_time": "2022-09-10T06:40:53.540Z"
   },
   {
    "duration": 3,
    "start_time": "2022-09-10T06:40:53.550Z"
   },
   {
    "duration": 18,
    "start_time": "2022-09-10T06:40:53.554Z"
   },
   {
    "duration": 9,
    "start_time": "2022-09-10T06:40:53.574Z"
   },
   {
    "duration": 342,
    "start_time": "2022-09-10T06:40:53.584Z"
   },
   {
    "duration": 7,
    "start_time": "2022-09-10T06:40:53.927Z"
   },
   {
    "duration": 7,
    "start_time": "2022-09-10T06:40:53.936Z"
   },
   {
    "duration": 493,
    "start_time": "2022-09-10T06:40:53.945Z"
   },
   {
    "duration": 105232,
    "start_time": "2022-09-10T06:40:54.440Z"
   },
   {
    "duration": 1610,
    "start_time": "2022-09-10T06:42:39.675Z"
   },
   {
    "duration": 17,
    "start_time": "2022-09-10T06:42:41.287Z"
   },
   {
    "duration": 1274,
    "start_time": "2022-09-10T06:42:41.306Z"
   },
   {
    "duration": 2188,
    "start_time": "2022-09-10T06:42:42.584Z"
   },
   {
    "duration": 6,
    "start_time": "2022-09-10T06:42:44.776Z"
   },
   {
    "duration": 44,
    "start_time": "2022-09-10T06:52:01.492Z"
   },
   {
    "duration": 6,
    "start_time": "2022-09-10T06:55:05.533Z"
   },
   {
    "duration": 1300,
    "start_time": "2022-09-10T07:13:36.311Z"
   },
   {
    "duration": 35,
    "start_time": "2022-09-10T07:13:37.613Z"
   },
   {
    "duration": 14,
    "start_time": "2022-09-10T07:13:37.650Z"
   },
   {
    "duration": 16,
    "start_time": "2022-09-10T07:13:37.666Z"
   },
   {
    "duration": 43,
    "start_time": "2022-09-10T07:13:37.683Z"
   },
   {
    "duration": 14,
    "start_time": "2022-09-10T07:13:37.727Z"
   },
   {
    "duration": 1908,
    "start_time": "2022-09-10T07:13:37.743Z"
   },
   {
    "duration": 753,
    "start_time": "2022-09-10T07:13:39.653Z"
   },
   {
    "duration": 5,
    "start_time": "2022-09-10T07:13:40.407Z"
   },
   {
    "duration": 5,
    "start_time": "2022-09-10T07:13:40.416Z"
   },
   {
    "duration": 5,
    "start_time": "2022-09-10T07:13:40.423Z"
   },
   {
    "duration": 8,
    "start_time": "2022-09-10T07:13:40.430Z"
   },
   {
    "duration": 1165,
    "start_time": "2022-09-10T07:13:40.440Z"
   },
   {
    "duration": 1521,
    "start_time": "2022-09-10T07:13:41.607Z"
   },
   {
    "duration": 3,
    "start_time": "2022-09-10T07:13:43.130Z"
   },
   {
    "duration": 8,
    "start_time": "2022-09-10T07:13:43.135Z"
   },
   {
    "duration": 9,
    "start_time": "2022-09-10T07:13:43.144Z"
   },
   {
    "duration": 22,
    "start_time": "2022-09-10T07:13:43.155Z"
   },
   {
    "duration": 16,
    "start_time": "2022-09-10T07:13:43.179Z"
   },
   {
    "duration": 348,
    "start_time": "2022-09-10T07:13:43.197Z"
   },
   {
    "duration": 7,
    "start_time": "2022-09-10T07:13:43.547Z"
   },
   {
    "duration": 9,
    "start_time": "2022-09-10T07:13:43.555Z"
   },
   {
    "duration": 517,
    "start_time": "2022-09-10T07:13:43.565Z"
   },
   {
    "duration": 103794,
    "start_time": "2022-09-10T07:13:44.084Z"
   },
   {
    "duration": 1499,
    "start_time": "2022-09-10T07:15:27.879Z"
   },
   {
    "duration": 17,
    "start_time": "2022-09-10T07:15:29.380Z"
   },
   {
    "duration": 1216,
    "start_time": "2022-09-10T07:15:29.398Z"
   },
   {
    "duration": 2153,
    "start_time": "2022-09-10T07:15:30.618Z"
   },
   {
    "duration": 9,
    "start_time": "2022-09-10T07:15:32.773Z"
   },
   {
    "duration": 1729,
    "start_time": "2022-09-10T08:57:38.336Z"
   },
   {
    "duration": 68,
    "start_time": "2022-09-10T08:57:40.067Z"
   },
   {
    "duration": 14,
    "start_time": "2022-09-10T08:57:40.137Z"
   },
   {
    "duration": 10,
    "start_time": "2022-09-10T08:57:40.153Z"
   },
   {
    "duration": 42,
    "start_time": "2022-09-10T08:57:40.165Z"
   },
   {
    "duration": 20,
    "start_time": "2022-09-10T08:57:40.208Z"
   },
   {
    "duration": 1806,
    "start_time": "2022-09-10T08:57:40.229Z"
   },
   {
    "duration": 671,
    "start_time": "2022-09-10T08:57:42.036Z"
   },
   {
    "duration": 16,
    "start_time": "2022-09-10T08:57:42.709Z"
   },
   {
    "duration": 12,
    "start_time": "2022-09-10T08:57:42.728Z"
   },
   {
    "duration": 17,
    "start_time": "2022-09-10T08:57:42.741Z"
   },
   {
    "duration": 8,
    "start_time": "2022-09-10T08:57:42.759Z"
   },
   {
    "duration": 1059,
    "start_time": "2022-09-10T08:57:42.769Z"
   },
   {
    "duration": 1528,
    "start_time": "2022-09-10T08:57:43.829Z"
   },
   {
    "duration": 5,
    "start_time": "2022-09-10T08:57:45.359Z"
   },
   {
    "duration": 18,
    "start_time": "2022-09-10T08:57:45.365Z"
   },
   {
    "duration": 5,
    "start_time": "2022-09-10T08:57:45.385Z"
   },
   {
    "duration": 18,
    "start_time": "2022-09-10T08:57:45.392Z"
   },
   {
    "duration": 7,
    "start_time": "2022-09-10T08:57:45.411Z"
   },
   {
    "duration": 343,
    "start_time": "2022-09-10T08:57:45.419Z"
   },
   {
    "duration": 7,
    "start_time": "2022-09-10T08:57:45.763Z"
   },
   {
    "duration": 15,
    "start_time": "2022-09-10T08:57:45.772Z"
   },
   {
    "duration": 496,
    "start_time": "2022-09-10T08:57:45.788Z"
   },
   {
    "duration": 97499,
    "start_time": "2022-09-10T08:57:46.285Z"
   },
   {
    "duration": 1441,
    "start_time": "2022-09-10T08:59:23.785Z"
   },
   {
    "duration": 107,
    "start_time": "2022-09-10T08:59:25.228Z"
   },
   {
    "duration": 1176,
    "start_time": "2022-09-10T08:59:25.337Z"
   },
   {
    "duration": 2073,
    "start_time": "2022-09-10T08:59:26.515Z"
   },
   {
    "duration": 7,
    "start_time": "2022-09-10T08:59:28.589Z"
   },
   {
    "duration": 1431,
    "start_time": "2022-09-10T09:14:23.690Z"
   },
   {
    "duration": 1805,
    "start_time": "2022-09-10T09:14:37.294Z"
   },
   {
    "duration": 35,
    "start_time": "2022-09-10T09:14:39.102Z"
   },
   {
    "duration": 15,
    "start_time": "2022-09-10T09:14:39.138Z"
   },
   {
    "duration": 10,
    "start_time": "2022-09-10T09:14:39.156Z"
   },
   {
    "duration": 58,
    "start_time": "2022-09-10T09:14:39.168Z"
   },
   {
    "duration": 16,
    "start_time": "2022-09-10T09:14:39.227Z"
   },
   {
    "duration": 1840,
    "start_time": "2022-09-10T09:14:39.245Z"
   },
   {
    "duration": 669,
    "start_time": "2022-09-10T09:14:41.086Z"
   },
   {
    "duration": 4,
    "start_time": "2022-09-10T09:14:41.756Z"
   },
   {
    "duration": 5,
    "start_time": "2022-09-10T09:14:41.763Z"
   },
   {
    "duration": 7,
    "start_time": "2022-09-10T09:14:41.769Z"
   },
   {
    "duration": 9,
    "start_time": "2022-09-10T09:14:41.777Z"
   },
   {
    "duration": 1051,
    "start_time": "2022-09-10T09:14:41.787Z"
   },
   {
    "duration": 1470,
    "start_time": "2022-09-10T09:14:42.839Z"
   },
   {
    "duration": 4,
    "start_time": "2022-09-10T09:14:44.311Z"
   },
   {
    "duration": 11,
    "start_time": "2022-09-10T09:14:44.316Z"
   },
   {
    "duration": 4,
    "start_time": "2022-09-10T09:14:44.329Z"
   },
   {
    "duration": 21,
    "start_time": "2022-09-10T09:14:44.335Z"
   },
   {
    "duration": 6,
    "start_time": "2022-09-10T09:14:44.358Z"
   },
   {
    "duration": 328,
    "start_time": "2022-09-10T09:14:44.365Z"
   },
   {
    "duration": 6,
    "start_time": "2022-09-10T09:14:44.694Z"
   },
   {
    "duration": 19,
    "start_time": "2022-09-10T09:14:44.702Z"
   },
   {
    "duration": 587,
    "start_time": "2022-09-10T09:14:44.722Z"
   },
   {
    "duration": 99206,
    "start_time": "2022-09-10T09:14:45.310Z"
   },
   {
    "duration": 1505,
    "start_time": "2022-09-10T09:16:24.517Z"
   },
   {
    "duration": 16,
    "start_time": "2022-09-10T09:16:26.024Z"
   },
   {
    "duration": 1149,
    "start_time": "2022-09-10T09:16:26.042Z"
   },
   {
    "duration": 2123,
    "start_time": "2022-09-10T09:16:27.194Z"
   },
   {
    "duration": 9,
    "start_time": "2022-09-10T09:16:29.318Z"
   },
   {
    "duration": 44,
    "start_time": "2022-09-10T10:50:23.769Z"
   },
   {
    "duration": 1563,
    "start_time": "2022-09-10T10:50:30.355Z"
   },
   {
    "duration": 70,
    "start_time": "2022-09-10T10:50:31.919Z"
   },
   {
    "duration": 15,
    "start_time": "2022-09-10T10:50:31.991Z"
   },
   {
    "duration": 10,
    "start_time": "2022-09-10T10:50:32.007Z"
   },
   {
    "duration": 6472,
    "start_time": "2022-09-10T10:50:32.019Z"
   },
   {
    "duration": 15,
    "start_time": "2022-09-10T10:50:38.493Z"
   },
   {
    "duration": 1902,
    "start_time": "2022-09-10T10:50:38.510Z"
   },
   {
    "duration": 725,
    "start_time": "2022-09-10T10:50:40.414Z"
   },
   {
    "duration": 4,
    "start_time": "2022-09-10T10:50:41.140Z"
   },
   {
    "duration": 10,
    "start_time": "2022-09-10T10:50:41.147Z"
   },
   {
    "duration": 19,
    "start_time": "2022-09-10T10:50:41.158Z"
   },
   {
    "duration": 6,
    "start_time": "2022-09-10T10:50:41.178Z"
   },
   {
    "duration": 1104,
    "start_time": "2022-09-10T10:50:41.185Z"
   },
   {
    "duration": 1533,
    "start_time": "2022-09-10T10:50:42.291Z"
   },
   {
    "duration": 4,
    "start_time": "2022-09-10T10:50:43.826Z"
   },
   {
    "duration": 24,
    "start_time": "2022-09-10T10:50:43.832Z"
   },
   {
    "duration": 5,
    "start_time": "2022-09-10T10:50:43.858Z"
   },
   {
    "duration": 16,
    "start_time": "2022-09-10T10:50:43.864Z"
   },
   {
    "duration": 6,
    "start_time": "2022-09-10T10:50:43.882Z"
   },
   {
    "duration": 344,
    "start_time": "2022-09-10T10:50:43.889Z"
   },
   {
    "duration": 7,
    "start_time": "2022-09-10T10:50:44.234Z"
   },
   {
    "duration": 18,
    "start_time": "2022-09-10T10:50:44.242Z"
   },
   {
    "duration": 486,
    "start_time": "2022-09-10T10:50:44.261Z"
   },
   {
    "duration": 105846,
    "start_time": "2022-09-10T10:50:44.749Z"
   },
   {
    "duration": 1587,
    "start_time": "2022-09-10T10:52:30.596Z"
   },
   {
    "duration": 18,
    "start_time": "2022-09-10T10:52:32.184Z"
   },
   {
    "duration": 1231,
    "start_time": "2022-09-10T10:52:32.204Z"
   },
   {
    "duration": 2205,
    "start_time": "2022-09-10T10:52:33.438Z"
   },
   {
    "duration": 7,
    "start_time": "2022-09-10T10:52:35.645Z"
   },
   {
    "duration": 53,
    "start_time": "2022-09-10T10:52:35.654Z"
   },
   {
    "duration": 4,
    "start_time": "2022-09-10T11:00:00.062Z"
   },
   {
    "duration": 16,
    "start_time": "2022-09-10T11:02:15.715Z"
   },
   {
    "duration": 6,
    "start_time": "2022-09-10T11:05:52.802Z"
   },
   {
    "duration": 14,
    "start_time": "2022-09-10T11:06:03.906Z"
   },
   {
    "duration": 5,
    "start_time": "2022-09-10T11:06:11.513Z"
   },
   {
    "duration": 7,
    "start_time": "2022-09-10T11:10:11.455Z"
   },
   {
    "duration": 8,
    "start_time": "2022-09-10T11:10:47.251Z"
   },
   {
    "duration": 1395,
    "start_time": "2022-09-10T11:10:54.903Z"
   },
   {
    "duration": 32,
    "start_time": "2022-09-10T11:10:56.300Z"
   },
   {
    "duration": 13,
    "start_time": "2022-09-10T11:10:56.334Z"
   },
   {
    "duration": 10,
    "start_time": "2022-09-10T11:10:56.349Z"
   },
   {
    "duration": 43,
    "start_time": "2022-09-10T11:10:56.361Z"
   },
   {
    "duration": 15,
    "start_time": "2022-09-10T11:10:56.406Z"
   },
   {
    "duration": 1962,
    "start_time": "2022-09-10T11:10:56.422Z"
   },
   {
    "duration": 713,
    "start_time": "2022-09-10T11:10:58.386Z"
   },
   {
    "duration": 4,
    "start_time": "2022-09-10T11:10:59.101Z"
   },
   {
    "duration": 17,
    "start_time": "2022-09-10T11:10:59.107Z"
   },
   {
    "duration": 18,
    "start_time": "2022-09-10T11:10:59.125Z"
   },
   {
    "duration": 21,
    "start_time": "2022-09-10T11:10:59.144Z"
   },
   {
    "duration": 17,
    "start_time": "2022-09-10T11:10:59.166Z"
   },
   {
    "duration": 1134,
    "start_time": "2022-09-10T11:10:59.184Z"
   },
   {
    "duration": 1566,
    "start_time": "2022-09-10T11:11:00.319Z"
   },
   {
    "duration": 4,
    "start_time": "2022-09-10T11:11:01.886Z"
   },
   {
    "duration": 33,
    "start_time": "2022-09-10T11:11:01.892Z"
   },
   {
    "duration": 42,
    "start_time": "2022-09-10T11:11:01.926Z"
   },
   {
    "duration": 20,
    "start_time": "2022-09-10T11:11:01.969Z"
   },
   {
    "duration": 26,
    "start_time": "2022-09-10T11:11:01.991Z"
   },
   {
    "duration": 32,
    "start_time": "2022-09-10T11:11:02.018Z"
   },
   {
    "duration": 351,
    "start_time": "2022-09-10T11:11:02.052Z"
   },
   {
    "duration": 7,
    "start_time": "2022-09-10T11:11:02.404Z"
   },
   {
    "duration": 20,
    "start_time": "2022-09-10T11:11:02.412Z"
   },
   {
    "duration": 492,
    "start_time": "2022-09-10T11:11:02.433Z"
   },
   {
    "duration": 106971,
    "start_time": "2022-09-10T11:11:02.927Z"
   },
   {
    "duration": 1579,
    "start_time": "2022-09-10T11:12:49.901Z"
   },
   {
    "duration": 17,
    "start_time": "2022-09-10T11:12:51.483Z"
   },
   {
    "duration": 1244,
    "start_time": "2022-09-10T11:12:51.502Z"
   },
   {
    "duration": 2221,
    "start_time": "2022-09-10T11:12:52.748Z"
   },
   {
    "duration": 10,
    "start_time": "2022-09-10T11:12:54.970Z"
   },
   {
    "duration": 1420,
    "start_time": "2022-09-10T11:15:09.923Z"
   },
   {
    "duration": 34,
    "start_time": "2022-09-10T11:15:11.344Z"
   },
   {
    "duration": 15,
    "start_time": "2022-09-10T11:15:11.380Z"
   },
   {
    "duration": 11,
    "start_time": "2022-09-10T11:15:11.397Z"
   },
   {
    "duration": 46,
    "start_time": "2022-09-10T11:15:11.410Z"
   },
   {
    "duration": 32,
    "start_time": "2022-09-10T11:15:11.458Z"
   },
   {
    "duration": 1991,
    "start_time": "2022-09-10T11:15:11.492Z"
   },
   {
    "duration": 746,
    "start_time": "2022-09-10T11:15:13.485Z"
   },
   {
    "duration": 5,
    "start_time": "2022-09-10T11:15:14.232Z"
   },
   {
    "duration": 6,
    "start_time": "2022-09-10T11:15:14.240Z"
   },
   {
    "duration": 7,
    "start_time": "2022-09-10T11:15:14.247Z"
   },
   {
    "duration": 22,
    "start_time": "2022-09-10T11:15:14.256Z"
   },
   {
    "duration": 1237,
    "start_time": "2022-09-10T11:15:14.280Z"
   },
   {
    "duration": 1539,
    "start_time": "2022-09-10T11:15:15.518Z"
   },
   {
    "duration": 5,
    "start_time": "2022-09-10T11:15:17.059Z"
   },
   {
    "duration": 12,
    "start_time": "2022-09-10T11:15:17.065Z"
   },
   {
    "duration": 8,
    "start_time": "2022-09-10T11:15:17.080Z"
   },
   {
    "duration": 6,
    "start_time": "2022-09-10T11:15:17.089Z"
   },
   {
    "duration": 121,
    "start_time": "2022-09-10T11:15:17.096Z"
   },
   {
    "duration": 0,
    "start_time": "2022-09-10T11:15:17.219Z"
   },
   {
    "duration": 0,
    "start_time": "2022-09-10T11:15:17.221Z"
   },
   {
    "duration": 0,
    "start_time": "2022-09-10T11:15:17.222Z"
   },
   {
    "duration": 0,
    "start_time": "2022-09-10T11:15:17.223Z"
   },
   {
    "duration": 0,
    "start_time": "2022-09-10T11:15:17.225Z"
   },
   {
    "duration": 0,
    "start_time": "2022-09-10T11:15:17.226Z"
   },
   {
    "duration": 0,
    "start_time": "2022-09-10T11:15:17.227Z"
   },
   {
    "duration": 0,
    "start_time": "2022-09-10T11:15:17.229Z"
   },
   {
    "duration": 0,
    "start_time": "2022-09-10T11:15:17.230Z"
   },
   {
    "duration": 0,
    "start_time": "2022-09-10T11:15:17.232Z"
   },
   {
    "duration": 0,
    "start_time": "2022-09-10T11:15:17.233Z"
   },
   {
    "duration": 46,
    "start_time": "2022-09-10T17:46:51.228Z"
   },
   {
    "duration": 1577,
    "start_time": "2022-09-10T17:46:57.410Z"
   },
   {
    "duration": 73,
    "start_time": "2022-09-10T17:46:58.989Z"
   },
   {
    "duration": 15,
    "start_time": "2022-09-10T17:46:59.066Z"
   },
   {
    "duration": 11,
    "start_time": "2022-09-10T17:46:59.083Z"
   },
   {
    "duration": 43,
    "start_time": "2022-09-10T17:46:59.096Z"
   },
   {
    "duration": 15,
    "start_time": "2022-09-10T17:46:59.140Z"
   },
   {
    "duration": 4581,
    "start_time": "2022-09-10T17:46:59.156Z"
   },
   {
    "duration": 1833,
    "start_time": "2022-09-10T17:47:03.739Z"
   },
   {
    "duration": 716,
    "start_time": "2022-09-10T17:47:05.575Z"
   },
   {
    "duration": 5,
    "start_time": "2022-09-10T17:47:06.292Z"
   },
   {
    "duration": 8,
    "start_time": "2022-09-10T17:47:06.299Z"
   },
   {
    "duration": 38,
    "start_time": "2022-09-10T17:47:06.309Z"
   },
   {
    "duration": 10,
    "start_time": "2022-09-10T17:47:06.349Z"
   },
   {
    "duration": 1237,
    "start_time": "2022-09-10T17:47:06.361Z"
   },
   {
    "duration": 1418,
    "start_time": "2022-09-10T17:47:07.600Z"
   },
   {
    "duration": 4,
    "start_time": "2022-09-10T17:47:09.020Z"
   },
   {
    "duration": 12,
    "start_time": "2022-09-10T17:47:09.025Z"
   },
   {
    "duration": 9,
    "start_time": "2022-09-10T17:47:09.038Z"
   },
   {
    "duration": 5,
    "start_time": "2022-09-10T17:47:09.049Z"
   },
   {
    "duration": 213,
    "start_time": "2022-09-10T17:47:09.056Z"
   },
   {
    "duration": 0,
    "start_time": "2022-09-10T17:47:09.271Z"
   },
   {
    "duration": 0,
    "start_time": "2022-09-10T17:47:09.272Z"
   },
   {
    "duration": 0,
    "start_time": "2022-09-10T17:47:09.273Z"
   },
   {
    "duration": 0,
    "start_time": "2022-09-10T17:47:09.274Z"
   },
   {
    "duration": 0,
    "start_time": "2022-09-10T17:47:09.275Z"
   },
   {
    "duration": 0,
    "start_time": "2022-09-10T17:47:09.276Z"
   },
   {
    "duration": 0,
    "start_time": "2022-09-10T17:47:09.277Z"
   },
   {
    "duration": 0,
    "start_time": "2022-09-10T17:47:09.278Z"
   },
   {
    "duration": 0,
    "start_time": "2022-09-10T17:47:09.279Z"
   },
   {
    "duration": 0,
    "start_time": "2022-09-10T17:47:09.280Z"
   },
   {
    "duration": 0,
    "start_time": "2022-09-10T17:47:09.281Z"
   },
   {
    "duration": 1944,
    "start_time": "2022-09-10T17:50:10.503Z"
   },
   {
    "duration": 1419,
    "start_time": "2022-09-10T17:50:27.309Z"
   },
   {
    "duration": 34,
    "start_time": "2022-09-10T17:50:28.730Z"
   },
   {
    "duration": 16,
    "start_time": "2022-09-10T17:50:28.766Z"
   },
   {
    "duration": 30,
    "start_time": "2022-09-10T17:50:28.784Z"
   },
   {
    "duration": 44,
    "start_time": "2022-09-10T17:50:28.816Z"
   },
   {
    "duration": 15,
    "start_time": "2022-09-10T17:50:28.861Z"
   },
   {
    "duration": 4317,
    "start_time": "2022-09-10T17:50:28.877Z"
   },
   {
    "duration": 1787,
    "start_time": "2022-09-10T17:50:33.196Z"
   },
   {
    "duration": 718,
    "start_time": "2022-09-10T17:50:34.984Z"
   },
   {
    "duration": 4,
    "start_time": "2022-09-10T17:50:35.705Z"
   },
   {
    "duration": 12,
    "start_time": "2022-09-10T17:50:35.711Z"
   },
   {
    "duration": 13,
    "start_time": "2022-09-10T17:50:35.724Z"
   },
   {
    "duration": 3,
    "start_time": "2022-09-10T17:50:35.739Z"
   },
   {
    "duration": 1072,
    "start_time": "2022-09-10T17:50:35.743Z"
   },
   {
    "duration": 1497,
    "start_time": "2022-09-10T17:50:36.817Z"
   },
   {
    "duration": 4,
    "start_time": "2022-09-10T17:50:38.315Z"
   },
   {
    "duration": 11,
    "start_time": "2022-09-10T17:50:38.321Z"
   },
   {
    "duration": 7,
    "start_time": "2022-09-10T17:50:38.334Z"
   },
   {
    "duration": 6,
    "start_time": "2022-09-10T17:50:38.343Z"
   },
   {
    "duration": 210,
    "start_time": "2022-09-10T17:50:38.350Z"
   },
   {
    "duration": 0,
    "start_time": "2022-09-10T17:50:38.562Z"
   },
   {
    "duration": 0,
    "start_time": "2022-09-10T17:50:38.563Z"
   },
   {
    "duration": 0,
    "start_time": "2022-09-10T17:50:38.564Z"
   },
   {
    "duration": 0,
    "start_time": "2022-09-10T17:50:38.565Z"
   },
   {
    "duration": 0,
    "start_time": "2022-09-10T17:50:38.566Z"
   },
   {
    "duration": 0,
    "start_time": "2022-09-10T17:50:38.567Z"
   },
   {
    "duration": 0,
    "start_time": "2022-09-10T17:50:38.568Z"
   },
   {
    "duration": 0,
    "start_time": "2022-09-10T17:50:38.569Z"
   },
   {
    "duration": 0,
    "start_time": "2022-09-10T17:50:38.570Z"
   },
   {
    "duration": 0,
    "start_time": "2022-09-10T17:50:38.571Z"
   },
   {
    "duration": 1,
    "start_time": "2022-09-10T17:50:38.571Z"
   },
   {
    "duration": 2101,
    "start_time": "2022-09-10T17:53:05.416Z"
   },
   {
    "duration": 111,
    "start_time": "2022-09-10T17:57:59.852Z"
   },
   {
    "duration": 1002,
    "start_time": "2022-09-10T18:03:58.047Z"
   },
   {
    "duration": 162,
    "start_time": "2022-09-10T18:04:15.386Z"
   },
   {
    "duration": 1401,
    "start_time": "2022-09-10T18:05:15.601Z"
   },
   {
    "duration": 13,
    "start_time": "2022-09-10T18:06:16.514Z"
   },
   {
    "duration": 11,
    "start_time": "2022-09-10T18:06:31.237Z"
   },
   {
    "duration": 1345,
    "start_time": "2022-09-10T18:06:42.845Z"
   },
   {
    "duration": 33,
    "start_time": "2022-09-10T18:06:44.192Z"
   },
   {
    "duration": 14,
    "start_time": "2022-09-10T18:06:44.226Z"
   },
   {
    "duration": 31,
    "start_time": "2022-09-10T18:06:44.242Z"
   },
   {
    "duration": 45,
    "start_time": "2022-09-10T18:06:44.274Z"
   },
   {
    "duration": 14,
    "start_time": "2022-09-10T18:06:44.320Z"
   },
   {
    "duration": 1666,
    "start_time": "2022-09-10T18:06:44.336Z"
   },
   {
    "duration": 0,
    "start_time": "2022-09-10T18:06:46.004Z"
   },
   {
    "duration": 0,
    "start_time": "2022-09-10T18:06:46.005Z"
   },
   {
    "duration": 0,
    "start_time": "2022-09-10T18:06:46.007Z"
   },
   {
    "duration": 0,
    "start_time": "2022-09-10T18:06:46.008Z"
   },
   {
    "duration": 0,
    "start_time": "2022-09-10T18:06:46.009Z"
   },
   {
    "duration": 0,
    "start_time": "2022-09-10T18:06:46.010Z"
   },
   {
    "duration": 0,
    "start_time": "2022-09-10T18:06:46.011Z"
   },
   {
    "duration": 0,
    "start_time": "2022-09-10T18:06:46.012Z"
   },
   {
    "duration": 0,
    "start_time": "2022-09-10T18:06:46.012Z"
   },
   {
    "duration": 0,
    "start_time": "2022-09-10T18:06:46.014Z"
   },
   {
    "duration": 0,
    "start_time": "2022-09-10T18:06:46.015Z"
   },
   {
    "duration": 0,
    "start_time": "2022-09-10T18:06:46.016Z"
   },
   {
    "duration": 0,
    "start_time": "2022-09-10T18:06:46.017Z"
   },
   {
    "duration": 0,
    "start_time": "2022-09-10T18:06:46.018Z"
   },
   {
    "duration": 0,
    "start_time": "2022-09-10T18:06:46.019Z"
   },
   {
    "duration": 0,
    "start_time": "2022-09-10T18:06:46.020Z"
   },
   {
    "duration": 0,
    "start_time": "2022-09-10T18:06:46.021Z"
   },
   {
    "duration": 0,
    "start_time": "2022-09-10T18:06:46.022Z"
   },
   {
    "duration": 0,
    "start_time": "2022-09-10T18:06:46.022Z"
   },
   {
    "duration": 0,
    "start_time": "2022-09-10T18:06:46.024Z"
   },
   {
    "duration": 0,
    "start_time": "2022-09-10T18:06:46.025Z"
   },
   {
    "duration": 0,
    "start_time": "2022-09-10T18:06:46.026Z"
   },
   {
    "duration": 0,
    "start_time": "2022-09-10T18:06:46.027Z"
   },
   {
    "duration": 0,
    "start_time": "2022-09-10T18:06:46.028Z"
   },
   {
    "duration": 0,
    "start_time": "2022-09-10T18:06:46.029Z"
   },
   {
    "duration": 11,
    "start_time": "2022-09-10T18:07:13.875Z"
   },
   {
    "duration": 4280,
    "start_time": "2022-09-10T18:07:21.757Z"
   },
   {
    "duration": 4269,
    "start_time": "2022-09-10T18:11:29.024Z"
   },
   {
    "duration": 13,
    "start_time": "2022-09-10T18:24:14.314Z"
   },
   {
    "duration": 50,
    "start_time": "2022-09-10T18:25:57.763Z"
   },
   {
    "duration": 3484,
    "start_time": "2022-09-10T18:26:09.151Z"
   },
   {
    "duration": 2498,
    "start_time": "2022-09-10T18:26:31.687Z"
   },
   {
    "duration": 596,
    "start_time": "2022-09-10T18:30:58.855Z"
   },
   {
    "duration": 4274,
    "start_time": "2022-09-10T18:31:10.290Z"
   },
   {
    "duration": 4257,
    "start_time": "2022-09-10T18:31:27.803Z"
   },
   {
    "duration": 4457,
    "start_time": "2022-09-10T18:31:53.262Z"
   },
   {
    "duration": 4293,
    "start_time": "2022-09-10T18:32:22.471Z"
   },
   {
    "duration": 8637,
    "start_time": "2022-09-10T18:36:22.121Z"
   },
   {
    "duration": 9538,
    "start_time": "2022-09-10T18:36:56.626Z"
   },
   {
    "duration": 240,
    "start_time": "2022-09-10T18:39:19.477Z"
   },
   {
    "duration": 9385,
    "start_time": "2022-09-10T18:43:20.591Z"
   },
   {
    "duration": 6130,
    "start_time": "2022-09-10T18:43:42.065Z"
   },
   {
    "duration": 5933,
    "start_time": "2022-09-10T18:44:03.761Z"
   },
   {
    "duration": 6467,
    "start_time": "2022-09-10T18:45:23.289Z"
   },
   {
    "duration": 48,
    "start_time": "2022-09-10T19:14:19.735Z"
   },
   {
    "duration": 34433,
    "start_time": "2022-09-10T19:14:48.771Z"
   },
   {
    "duration": 5307,
    "start_time": "2022-09-10T19:16:38.667Z"
   },
   {
    "duration": 4667,
    "start_time": "2022-09-10T19:17:12.577Z"
   },
   {
    "duration": 4708,
    "start_time": "2022-09-10T19:17:38.392Z"
   },
   {
    "duration": 4442,
    "start_time": "2022-09-10T19:17:49.997Z"
   },
   {
    "duration": 4242,
    "start_time": "2022-09-10T19:19:21.974Z"
   },
   {
    "duration": 45,
    "start_time": "2022-09-11T04:57:37.400Z"
   },
   {
    "duration": 1494,
    "start_time": "2022-09-11T04:57:43.432Z"
   },
   {
    "duration": 71,
    "start_time": "2022-09-11T04:57:44.928Z"
   },
   {
    "duration": 14,
    "start_time": "2022-09-11T04:57:45.000Z"
   },
   {
    "duration": 11,
    "start_time": "2022-09-11T04:57:45.016Z"
   },
   {
    "duration": 54,
    "start_time": "2022-09-11T04:57:45.028Z"
   },
   {
    "duration": 19,
    "start_time": "2022-09-11T04:57:45.084Z"
   },
   {
    "duration": 127,
    "start_time": "2022-09-11T04:57:45.105Z"
   },
   {
    "duration": 0,
    "start_time": "2022-09-11T04:57:45.235Z"
   },
   {
    "duration": 0,
    "start_time": "2022-09-11T04:57:45.236Z"
   },
   {
    "duration": 0,
    "start_time": "2022-09-11T04:57:45.237Z"
   },
   {
    "duration": 0,
    "start_time": "2022-09-11T04:57:45.238Z"
   },
   {
    "duration": 0,
    "start_time": "2022-09-11T04:57:45.239Z"
   },
   {
    "duration": 0,
    "start_time": "2022-09-11T04:57:45.240Z"
   },
   {
    "duration": 0,
    "start_time": "2022-09-11T04:57:45.242Z"
   },
   {
    "duration": 0,
    "start_time": "2022-09-11T04:57:45.243Z"
   },
   {
    "duration": 0,
    "start_time": "2022-09-11T04:57:45.244Z"
   },
   {
    "duration": 0,
    "start_time": "2022-09-11T04:57:45.245Z"
   },
   {
    "duration": 0,
    "start_time": "2022-09-11T04:57:45.246Z"
   },
   {
    "duration": 0,
    "start_time": "2022-09-11T04:57:45.248Z"
   },
   {
    "duration": 0,
    "start_time": "2022-09-11T04:57:45.249Z"
   },
   {
    "duration": 0,
    "start_time": "2022-09-11T04:57:45.250Z"
   },
   {
    "duration": 0,
    "start_time": "2022-09-11T04:57:45.251Z"
   },
   {
    "duration": 0,
    "start_time": "2022-09-11T04:57:45.252Z"
   },
   {
    "duration": 0,
    "start_time": "2022-09-11T04:57:45.253Z"
   },
   {
    "duration": 0,
    "start_time": "2022-09-11T04:57:45.254Z"
   },
   {
    "duration": 0,
    "start_time": "2022-09-11T04:57:45.256Z"
   },
   {
    "duration": 0,
    "start_time": "2022-09-11T04:57:45.257Z"
   },
   {
    "duration": 0,
    "start_time": "2022-09-11T04:57:45.258Z"
   },
   {
    "duration": 0,
    "start_time": "2022-09-11T04:57:45.259Z"
   },
   {
    "duration": 0,
    "start_time": "2022-09-11T04:57:45.261Z"
   },
   {
    "duration": 0,
    "start_time": "2022-09-11T04:57:45.264Z"
   },
   {
    "duration": 0,
    "start_time": "2022-09-11T04:57:45.265Z"
   },
   {
    "duration": 132,
    "start_time": "2022-09-11T04:58:21.310Z"
   },
   {
    "duration": 234,
    "start_time": "2022-09-11T04:58:40.898Z"
   },
   {
    "duration": 1811,
    "start_time": "2022-09-11T04:59:14.806Z"
   },
   {
    "duration": 1783,
    "start_time": "2022-09-11T04:59:25.628Z"
   },
   {
    "duration": 2067,
    "start_time": "2022-09-11T05:07:11.577Z"
   },
   {
    "duration": 2198,
    "start_time": "2022-09-11T05:07:21.679Z"
   },
   {
    "duration": 1959,
    "start_time": "2022-09-11T05:08:49.028Z"
   },
   {
    "duration": 1837,
    "start_time": "2022-09-11T05:09:35.681Z"
   },
   {
    "duration": 1470,
    "start_time": "2022-09-11T05:10:28.308Z"
   },
   {
    "duration": 34,
    "start_time": "2022-09-11T05:10:29.779Z"
   },
   {
    "duration": 14,
    "start_time": "2022-09-11T05:10:29.815Z"
   },
   {
    "duration": 11,
    "start_time": "2022-09-11T05:10:29.832Z"
   },
   {
    "duration": 39,
    "start_time": "2022-09-11T05:10:29.845Z"
   },
   {
    "duration": 15,
    "start_time": "2022-09-11T05:10:29.886Z"
   },
   {
    "duration": 1967,
    "start_time": "2022-09-11T05:10:29.922Z"
   },
   {
    "duration": 1913,
    "start_time": "2022-09-11T05:10:31.890Z"
   },
   {
    "duration": 733,
    "start_time": "2022-09-11T05:10:33.805Z"
   },
   {
    "duration": 6,
    "start_time": "2022-09-11T05:10:34.540Z"
   },
   {
    "duration": 7,
    "start_time": "2022-09-11T05:10:34.547Z"
   },
   {
    "duration": 8,
    "start_time": "2022-09-11T05:10:34.556Z"
   },
   {
    "duration": 5,
    "start_time": "2022-09-11T05:10:34.566Z"
   },
   {
    "duration": 1138,
    "start_time": "2022-09-11T05:10:34.573Z"
   },
   {
    "duration": 1558,
    "start_time": "2022-09-11T05:10:35.713Z"
   },
   {
    "duration": 4,
    "start_time": "2022-09-11T05:10:37.272Z"
   },
   {
    "duration": 15,
    "start_time": "2022-09-11T05:10:37.277Z"
   },
   {
    "duration": 7,
    "start_time": "2022-09-11T05:10:37.294Z"
   },
   {
    "duration": 19,
    "start_time": "2022-09-11T05:10:37.303Z"
   },
   {
    "duration": 123,
    "start_time": "2022-09-11T05:10:37.324Z"
   },
   {
    "duration": 0,
    "start_time": "2022-09-11T05:10:37.449Z"
   },
   {
    "duration": 0,
    "start_time": "2022-09-11T05:10:37.451Z"
   },
   {
    "duration": 0,
    "start_time": "2022-09-11T05:10:37.452Z"
   },
   {
    "duration": 0,
    "start_time": "2022-09-11T05:10:37.454Z"
   },
   {
    "duration": 0,
    "start_time": "2022-09-11T05:10:37.455Z"
   },
   {
    "duration": 0,
    "start_time": "2022-09-11T05:10:37.457Z"
   },
   {
    "duration": 0,
    "start_time": "2022-09-11T05:10:37.458Z"
   },
   {
    "duration": 0,
    "start_time": "2022-09-11T05:10:37.460Z"
   },
   {
    "duration": 0,
    "start_time": "2022-09-11T05:10:37.461Z"
   },
   {
    "duration": 0,
    "start_time": "2022-09-11T05:10:37.463Z"
   },
   {
    "duration": 0,
    "start_time": "2022-09-11T05:10:37.465Z"
   },
   {
    "duration": 1762,
    "start_time": "2022-09-11T16:33:41.200Z"
   },
   {
    "duration": 73,
    "start_time": "2022-09-11T16:33:42.964Z"
   },
   {
    "duration": 16,
    "start_time": "2022-09-11T16:33:43.039Z"
   },
   {
    "duration": 13,
    "start_time": "2022-09-11T16:33:43.057Z"
   },
   {
    "duration": 53,
    "start_time": "2022-09-11T16:33:43.072Z"
   },
   {
    "duration": 19,
    "start_time": "2022-09-11T16:33:43.127Z"
   },
   {
    "duration": 2239,
    "start_time": "2022-09-11T16:33:43.148Z"
   },
   {
    "duration": 2233,
    "start_time": "2022-09-11T16:33:45.389Z"
   },
   {
    "duration": 725,
    "start_time": "2022-09-11T16:33:47.623Z"
   },
   {
    "duration": 6,
    "start_time": "2022-09-11T16:33:48.351Z"
   },
   {
    "duration": 8,
    "start_time": "2022-09-11T16:33:48.359Z"
   },
   {
    "duration": 16,
    "start_time": "2022-09-11T16:33:48.369Z"
   },
   {
    "duration": 19,
    "start_time": "2022-09-11T16:33:48.387Z"
   },
   {
    "duration": 1474,
    "start_time": "2022-09-11T16:33:48.408Z"
   },
   {
    "duration": 1612,
    "start_time": "2022-09-11T16:33:49.884Z"
   },
   {
    "duration": 5,
    "start_time": "2022-09-11T16:33:51.497Z"
   },
   {
    "duration": 20,
    "start_time": "2022-09-11T16:33:51.503Z"
   },
   {
    "duration": 9,
    "start_time": "2022-09-11T16:33:51.525Z"
   },
   {
    "duration": 11,
    "start_time": "2022-09-11T16:33:51.536Z"
   },
   {
    "duration": 135,
    "start_time": "2022-09-11T16:33:51.548Z"
   },
   {
    "duration": 0,
    "start_time": "2022-09-11T16:33:51.685Z"
   },
   {
    "duration": 0,
    "start_time": "2022-09-11T16:33:51.686Z"
   },
   {
    "duration": 0,
    "start_time": "2022-09-11T16:33:51.687Z"
   },
   {
    "duration": 0,
    "start_time": "2022-09-11T16:33:51.688Z"
   },
   {
    "duration": 0,
    "start_time": "2022-09-11T16:33:51.690Z"
   },
   {
    "duration": 0,
    "start_time": "2022-09-11T16:33:51.691Z"
   },
   {
    "duration": 0,
    "start_time": "2022-09-11T16:33:51.692Z"
   },
   {
    "duration": 0,
    "start_time": "2022-09-11T16:33:51.693Z"
   },
   {
    "duration": 0,
    "start_time": "2022-09-11T16:33:51.695Z"
   },
   {
    "duration": 0,
    "start_time": "2022-09-11T16:33:51.696Z"
   },
   {
    "duration": 0,
    "start_time": "2022-09-11T16:33:51.697Z"
   },
   {
    "duration": 12,
    "start_time": "2022-09-11T16:34:15.338Z"
   },
   {
    "duration": 12,
    "start_time": "2022-09-11T16:34:26.934Z"
   },
   {
    "duration": 4,
    "start_time": "2022-09-11T16:35:17.672Z"
   },
   {
    "duration": 12,
    "start_time": "2022-09-11T16:35:23.066Z"
   },
   {
    "duration": 1518,
    "start_time": "2022-09-11T16:36:54.313Z"
   },
   {
    "duration": 36,
    "start_time": "2022-09-11T16:36:55.834Z"
   },
   {
    "duration": 17,
    "start_time": "2022-09-11T16:36:55.872Z"
   },
   {
    "duration": 3,
    "start_time": "2022-09-11T16:36:55.891Z"
   },
   {
    "duration": 35,
    "start_time": "2022-09-11T16:36:55.896Z"
   },
   {
    "duration": 59,
    "start_time": "2022-09-11T16:36:55.933Z"
   },
   {
    "duration": 128,
    "start_time": "2022-09-11T16:36:55.994Z"
   },
   {
    "duration": 0,
    "start_time": "2022-09-11T16:36:56.125Z"
   },
   {
    "duration": 0,
    "start_time": "2022-09-11T16:36:56.127Z"
   },
   {
    "duration": 0,
    "start_time": "2022-09-11T16:36:56.128Z"
   },
   {
    "duration": 0,
    "start_time": "2022-09-11T16:36:56.129Z"
   },
   {
    "duration": 0,
    "start_time": "2022-09-11T16:36:56.131Z"
   },
   {
    "duration": 0,
    "start_time": "2022-09-11T16:36:56.132Z"
   },
   {
    "duration": 0,
    "start_time": "2022-09-11T16:36:56.134Z"
   },
   {
    "duration": 1,
    "start_time": "2022-09-11T16:36:56.135Z"
   },
   {
    "duration": 1,
    "start_time": "2022-09-11T16:36:56.136Z"
   },
   {
    "duration": 0,
    "start_time": "2022-09-11T16:36:56.139Z"
   },
   {
    "duration": 0,
    "start_time": "2022-09-11T16:36:56.140Z"
   },
   {
    "duration": 0,
    "start_time": "2022-09-11T16:36:56.141Z"
   },
   {
    "duration": 0,
    "start_time": "2022-09-11T16:36:56.143Z"
   },
   {
    "duration": 0,
    "start_time": "2022-09-11T16:36:56.144Z"
   },
   {
    "duration": 0,
    "start_time": "2022-09-11T16:36:56.145Z"
   },
   {
    "duration": 0,
    "start_time": "2022-09-11T16:36:56.147Z"
   },
   {
    "duration": 0,
    "start_time": "2022-09-11T16:36:56.148Z"
   },
   {
    "duration": 0,
    "start_time": "2022-09-11T16:36:56.149Z"
   },
   {
    "duration": 0,
    "start_time": "2022-09-11T16:36:56.151Z"
   },
   {
    "duration": 0,
    "start_time": "2022-09-11T16:36:56.152Z"
   },
   {
    "duration": 0,
    "start_time": "2022-09-11T16:36:56.153Z"
   },
   {
    "duration": 0,
    "start_time": "2022-09-11T16:36:56.154Z"
   },
   {
    "duration": 0,
    "start_time": "2022-09-11T16:36:56.156Z"
   },
   {
    "duration": 0,
    "start_time": "2022-09-11T16:36:56.157Z"
   },
   {
    "duration": 0,
    "start_time": "2022-09-11T16:36:56.159Z"
   },
   {
    "duration": 27,
    "start_time": "2022-09-11T16:37:13.810Z"
   },
   {
    "duration": 17,
    "start_time": "2022-09-11T16:38:35.234Z"
   },
   {
    "duration": 2327,
    "start_time": "2022-09-11T16:38:40.436Z"
   },
   {
    "duration": 4,
    "start_time": "2022-09-11T16:40:50.683Z"
   },
   {
    "duration": 1508,
    "start_time": "2022-09-11T16:41:45.399Z"
   },
   {
    "duration": 36,
    "start_time": "2022-09-11T16:41:46.909Z"
   },
   {
    "duration": 17,
    "start_time": "2022-09-11T16:41:46.948Z"
   },
   {
    "duration": 4,
    "start_time": "2022-09-11T16:41:46.966Z"
   },
   {
    "duration": 14,
    "start_time": "2022-09-11T16:41:46.973Z"
   },
   {
    "duration": 55,
    "start_time": "2022-09-11T16:41:46.989Z"
   },
   {
    "duration": 17,
    "start_time": "2022-09-11T16:41:47.046Z"
   },
   {
    "duration": 2358,
    "start_time": "2022-09-11T16:41:47.065Z"
   },
   {
    "duration": 937,
    "start_time": "2022-09-11T16:41:49.425Z"
   },
   {
    "duration": 0,
    "start_time": "2022-09-11T16:41:50.364Z"
   },
   {
    "duration": 0,
    "start_time": "2022-09-11T16:41:50.366Z"
   },
   {
    "duration": 0,
    "start_time": "2022-09-11T16:41:50.368Z"
   },
   {
    "duration": 0,
    "start_time": "2022-09-11T16:41:50.369Z"
   },
   {
    "duration": 0,
    "start_time": "2022-09-11T16:41:50.371Z"
   },
   {
    "duration": 0,
    "start_time": "2022-09-11T16:41:50.372Z"
   },
   {
    "duration": 0,
    "start_time": "2022-09-11T16:41:50.374Z"
   },
   {
    "duration": 0,
    "start_time": "2022-09-11T16:41:50.375Z"
   },
   {
    "duration": 0,
    "start_time": "2022-09-11T16:41:50.377Z"
   },
   {
    "duration": 0,
    "start_time": "2022-09-11T16:41:50.378Z"
   },
   {
    "duration": 0,
    "start_time": "2022-09-11T16:41:50.379Z"
   },
   {
    "duration": 0,
    "start_time": "2022-09-11T16:41:50.381Z"
   },
   {
    "duration": 0,
    "start_time": "2022-09-11T16:41:50.382Z"
   },
   {
    "duration": 0,
    "start_time": "2022-09-11T16:41:50.384Z"
   },
   {
    "duration": 0,
    "start_time": "2022-09-11T16:41:50.385Z"
   },
   {
    "duration": 0,
    "start_time": "2022-09-11T16:41:50.387Z"
   },
   {
    "duration": 0,
    "start_time": "2022-09-11T16:41:50.388Z"
   },
   {
    "duration": 0,
    "start_time": "2022-09-11T16:41:50.391Z"
   },
   {
    "duration": 0,
    "start_time": "2022-09-11T16:41:50.392Z"
   },
   {
    "duration": 0,
    "start_time": "2022-09-11T16:41:50.393Z"
   },
   {
    "duration": 0,
    "start_time": "2022-09-11T16:41:50.394Z"
   },
   {
    "duration": 0,
    "start_time": "2022-09-11T16:41:50.395Z"
   },
   {
    "duration": 0,
    "start_time": "2022-09-11T16:41:50.396Z"
   },
   {
    "duration": 3,
    "start_time": "2022-09-11T16:42:05.381Z"
   },
   {
    "duration": 6,
    "start_time": "2022-09-11T16:49:48.430Z"
   },
   {
    "duration": 8,
    "start_time": "2022-09-11T16:50:15.776Z"
   },
   {
    "duration": 14,
    "start_time": "2022-09-11T16:50:46.657Z"
   },
   {
    "duration": 16,
    "start_time": "2022-09-11T16:51:30.179Z"
   },
   {
    "duration": 16,
    "start_time": "2022-09-11T16:51:51.772Z"
   },
   {
    "duration": 8,
    "start_time": "2022-09-11T16:52:32.634Z"
   },
   {
    "duration": 8,
    "start_time": "2022-09-11T16:52:45.636Z"
   },
   {
    "duration": 1523,
    "start_time": "2022-09-11T17:02:20.945Z"
   },
   {
    "duration": 35,
    "start_time": "2022-09-11T17:02:22.470Z"
   },
   {
    "duration": 16,
    "start_time": "2022-09-11T17:02:22.506Z"
   },
   {
    "duration": 4,
    "start_time": "2022-09-11T17:02:22.525Z"
   },
   {
    "duration": 26,
    "start_time": "2022-09-11T17:02:22.531Z"
   },
   {
    "duration": 54,
    "start_time": "2022-09-11T17:02:22.559Z"
   },
   {
    "duration": 25,
    "start_time": "2022-09-11T17:02:22.614Z"
   },
   {
    "duration": 2302,
    "start_time": "2022-09-11T17:02:22.641Z"
   },
   {
    "duration": 313,
    "start_time": "2022-09-11T17:02:24.946Z"
   },
   {
    "duration": 0,
    "start_time": "2022-09-11T17:02:25.261Z"
   },
   {
    "duration": 0,
    "start_time": "2022-09-11T17:02:25.263Z"
   },
   {
    "duration": 0,
    "start_time": "2022-09-11T17:02:25.263Z"
   },
   {
    "duration": 0,
    "start_time": "2022-09-11T17:02:25.264Z"
   },
   {
    "duration": 0,
    "start_time": "2022-09-11T17:02:25.266Z"
   },
   {
    "duration": 0,
    "start_time": "2022-09-11T17:02:25.267Z"
   },
   {
    "duration": 0,
    "start_time": "2022-09-11T17:02:25.268Z"
   },
   {
    "duration": 0,
    "start_time": "2022-09-11T17:02:25.269Z"
   },
   {
    "duration": 0,
    "start_time": "2022-09-11T17:02:25.271Z"
   },
   {
    "duration": 0,
    "start_time": "2022-09-11T17:02:25.271Z"
   },
   {
    "duration": 0,
    "start_time": "2022-09-11T17:02:25.273Z"
   },
   {
    "duration": 0,
    "start_time": "2022-09-11T17:02:25.275Z"
   },
   {
    "duration": 0,
    "start_time": "2022-09-11T17:02:25.276Z"
   },
   {
    "duration": 0,
    "start_time": "2022-09-11T17:02:25.278Z"
   },
   {
    "duration": 0,
    "start_time": "2022-09-11T17:02:25.279Z"
   },
   {
    "duration": 0,
    "start_time": "2022-09-11T17:02:25.281Z"
   },
   {
    "duration": 0,
    "start_time": "2022-09-11T17:02:25.282Z"
   },
   {
    "duration": 0,
    "start_time": "2022-09-11T17:02:25.284Z"
   },
   {
    "duration": 0,
    "start_time": "2022-09-11T17:02:25.285Z"
   },
   {
    "duration": 0,
    "start_time": "2022-09-11T17:02:25.321Z"
   },
   {
    "duration": 0,
    "start_time": "2022-09-11T17:02:25.323Z"
   },
   {
    "duration": 0,
    "start_time": "2022-09-11T17:02:25.324Z"
   },
   {
    "duration": 0,
    "start_time": "2022-09-11T17:02:25.325Z"
   },
   {
    "duration": 1248,
    "start_time": "2022-09-11T17:02:38.295Z"
   },
   {
    "duration": 133,
    "start_time": "2022-09-11T17:04:20.556Z"
   },
   {
    "duration": 152,
    "start_time": "2022-09-11T17:05:10.227Z"
   },
   {
    "duration": 135,
    "start_time": "2022-09-11T17:05:21.152Z"
   },
   {
    "duration": 639,
    "start_time": "2022-09-11T17:08:24.591Z"
   },
   {
    "duration": 595,
    "start_time": "2022-09-11T17:08:46.475Z"
   },
   {
    "duration": 136,
    "start_time": "2022-09-11T17:09:01.773Z"
   },
   {
    "duration": 709,
    "start_time": "2022-09-11T17:09:44.240Z"
   },
   {
    "duration": 815,
    "start_time": "2022-09-11T17:10:24.184Z"
   },
   {
    "duration": 1602,
    "start_time": "2022-09-11T17:12:59.412Z"
   },
   {
    "duration": 42,
    "start_time": "2022-09-11T17:13:01.016Z"
   },
   {
    "duration": 23,
    "start_time": "2022-09-11T17:13:01.060Z"
   },
   {
    "duration": 6,
    "start_time": "2022-09-11T17:13:01.085Z"
   },
   {
    "duration": 40,
    "start_time": "2022-09-11T17:13:01.093Z"
   },
   {
    "duration": 80,
    "start_time": "2022-09-11T17:13:01.136Z"
   },
   {
    "duration": 26,
    "start_time": "2022-09-11T17:13:01.218Z"
   },
   {
    "duration": 2486,
    "start_time": "2022-09-11T17:13:01.246Z"
   },
   {
    "duration": 637,
    "start_time": "2022-09-11T17:13:03.734Z"
   },
   {
    "duration": 4,
    "start_time": "2022-09-11T17:13:04.374Z"
   },
   {
    "duration": 10,
    "start_time": "2022-09-11T17:13:04.380Z"
   },
   {
    "duration": 8,
    "start_time": "2022-09-11T17:13:04.392Z"
   },
   {
    "duration": 22,
    "start_time": "2022-09-11T17:13:04.402Z"
   },
   {
    "duration": 1558,
    "start_time": "2022-09-11T17:13:04.426Z"
   },
   {
    "duration": 1694,
    "start_time": "2022-09-11T17:13:05.986Z"
   },
   {
    "duration": 155,
    "start_time": "2022-09-11T17:13:07.682Z"
   },
   {
    "duration": 0,
    "start_time": "2022-09-11T17:13:07.840Z"
   },
   {
    "duration": 0,
    "start_time": "2022-09-11T17:13:07.842Z"
   },
   {
    "duration": 0,
    "start_time": "2022-09-11T17:13:07.843Z"
   },
   {
    "duration": 0,
    "start_time": "2022-09-11T17:13:07.845Z"
   },
   {
    "duration": 0,
    "start_time": "2022-09-11T17:13:07.847Z"
   },
   {
    "duration": 0,
    "start_time": "2022-09-11T17:13:07.848Z"
   },
   {
    "duration": 0,
    "start_time": "2022-09-11T17:13:07.849Z"
   },
   {
    "duration": 0,
    "start_time": "2022-09-11T17:13:07.850Z"
   },
   {
    "duration": 0,
    "start_time": "2022-09-11T17:13:07.852Z"
   },
   {
    "duration": 0,
    "start_time": "2022-09-11T17:13:07.853Z"
   },
   {
    "duration": 0,
    "start_time": "2022-09-11T17:13:07.854Z"
   },
   {
    "duration": 0,
    "start_time": "2022-09-11T17:13:07.855Z"
   },
   {
    "duration": 0,
    "start_time": "2022-09-11T17:13:07.856Z"
   },
   {
    "duration": 0,
    "start_time": "2022-09-11T17:13:07.858Z"
   },
   {
    "duration": 0,
    "start_time": "2022-09-11T17:13:07.859Z"
   },
   {
    "duration": 25,
    "start_time": "2022-09-11T17:20:23.376Z"
   },
   {
    "duration": 38,
    "start_time": "2022-09-11T17:21:00.545Z"
   },
   {
    "duration": 27,
    "start_time": "2022-09-11T17:21:14.853Z"
   },
   {
    "duration": 31,
    "start_time": "2022-09-11T17:21:27.931Z"
   },
   {
    "duration": 51,
    "start_time": "2022-09-11T17:21:54.048Z"
   },
   {
    "duration": 47,
    "start_time": "2022-09-11T17:22:15.445Z"
   },
   {
    "duration": 1402,
    "start_time": "2022-09-11T17:28:37.408Z"
   },
   {
    "duration": 1669,
    "start_time": "2022-09-11T17:29:04.123Z"
   },
   {
    "duration": 1336,
    "start_time": "2022-09-11T17:29:21.376Z"
   },
   {
    "duration": 1508,
    "start_time": "2022-09-11T17:31:44.784Z"
   },
   {
    "duration": 36,
    "start_time": "2022-09-11T17:31:46.294Z"
   },
   {
    "duration": 18,
    "start_time": "2022-09-11T17:31:46.332Z"
   },
   {
    "duration": 4,
    "start_time": "2022-09-11T17:31:46.353Z"
   },
   {
    "duration": 15,
    "start_time": "2022-09-11T17:31:46.359Z"
   },
   {
    "duration": 74,
    "start_time": "2022-09-11T17:31:46.377Z"
   },
   {
    "duration": 18,
    "start_time": "2022-09-11T17:31:46.453Z"
   },
   {
    "duration": 2282,
    "start_time": "2022-09-11T17:31:46.473Z"
   },
   {
    "duration": 691,
    "start_time": "2022-09-11T17:31:48.757Z"
   },
   {
    "duration": 5,
    "start_time": "2022-09-11T17:31:49.451Z"
   },
   {
    "duration": 12,
    "start_time": "2022-09-11T17:31:49.458Z"
   },
   {
    "duration": 6,
    "start_time": "2022-09-11T17:31:49.472Z"
   },
   {
    "duration": 1470,
    "start_time": "2022-09-11T17:31:49.480Z"
   },
   {
    "duration": 1584,
    "start_time": "2022-09-11T17:31:50.952Z"
   },
   {
    "duration": 142,
    "start_time": "2022-09-11T17:31:52.538Z"
   },
   {
    "duration": 0,
    "start_time": "2022-09-11T17:31:52.682Z"
   },
   {
    "duration": 0,
    "start_time": "2022-09-11T17:31:52.683Z"
   },
   {
    "duration": 0,
    "start_time": "2022-09-11T17:31:52.684Z"
   },
   {
    "duration": 0,
    "start_time": "2022-09-11T17:31:52.685Z"
   },
   {
    "duration": 0,
    "start_time": "2022-09-11T17:31:52.686Z"
   },
   {
    "duration": 1,
    "start_time": "2022-09-11T17:31:52.687Z"
   },
   {
    "duration": 0,
    "start_time": "2022-09-11T17:31:52.689Z"
   },
   {
    "duration": 1,
    "start_time": "2022-09-11T17:31:52.690Z"
   },
   {
    "duration": 0,
    "start_time": "2022-09-11T17:31:52.692Z"
   },
   {
    "duration": 0,
    "start_time": "2022-09-11T17:31:52.694Z"
   },
   {
    "duration": 0,
    "start_time": "2022-09-11T17:31:52.695Z"
   },
   {
    "duration": 0,
    "start_time": "2022-09-11T17:31:52.696Z"
   },
   {
    "duration": 0,
    "start_time": "2022-09-11T17:31:52.697Z"
   },
   {
    "duration": 0,
    "start_time": "2022-09-11T17:31:52.721Z"
   },
   {
    "duration": 0,
    "start_time": "2022-09-11T17:31:52.723Z"
   },
   {
    "duration": 5,
    "start_time": "2022-09-11T17:32:47.324Z"
   },
   {
    "duration": 59,
    "start_time": "2022-09-11T17:41:23.886Z"
   },
   {
    "duration": 15,
    "start_time": "2022-09-11T17:56:08.480Z"
   },
   {
    "duration": 1532,
    "start_time": "2022-09-11T17:56:39.815Z"
   },
   {
    "duration": 36,
    "start_time": "2022-09-11T17:56:41.349Z"
   },
   {
    "duration": 16,
    "start_time": "2022-09-11T17:56:41.387Z"
   },
   {
    "duration": 3,
    "start_time": "2022-09-11T17:56:41.406Z"
   },
   {
    "duration": 37,
    "start_time": "2022-09-11T17:56:41.411Z"
   },
   {
    "duration": 57,
    "start_time": "2022-09-11T17:56:41.451Z"
   },
   {
    "duration": 20,
    "start_time": "2022-09-11T17:56:41.510Z"
   },
   {
    "duration": 2263,
    "start_time": "2022-09-11T17:56:41.532Z"
   },
   {
    "duration": 628,
    "start_time": "2022-09-11T17:56:43.797Z"
   },
   {
    "duration": 5,
    "start_time": "2022-09-11T17:56:44.428Z"
   },
   {
    "duration": 14,
    "start_time": "2022-09-11T17:56:44.435Z"
   },
   {
    "duration": 14,
    "start_time": "2022-09-11T17:56:44.450Z"
   },
   {
    "duration": 1456,
    "start_time": "2022-09-11T17:56:44.465Z"
   },
   {
    "duration": 1587,
    "start_time": "2022-09-11T17:56:45.922Z"
   },
   {
    "duration": 4,
    "start_time": "2022-09-11T17:56:47.511Z"
   },
   {
    "duration": 12,
    "start_time": "2022-09-11T17:56:47.520Z"
   },
   {
    "duration": 8,
    "start_time": "2022-09-11T17:56:47.535Z"
   },
   {
    "duration": 9,
    "start_time": "2022-09-11T17:56:47.545Z"
   },
   {
    "duration": 154,
    "start_time": "2022-09-11T17:56:47.556Z"
   },
   {
    "duration": 0,
    "start_time": "2022-09-11T17:56:47.712Z"
   },
   {
    "duration": 1,
    "start_time": "2022-09-11T17:56:47.713Z"
   },
   {
    "duration": 0,
    "start_time": "2022-09-11T17:56:47.714Z"
   },
   {
    "duration": 0,
    "start_time": "2022-09-11T17:56:47.720Z"
   },
   {
    "duration": 0,
    "start_time": "2022-09-11T17:56:47.721Z"
   },
   {
    "duration": 0,
    "start_time": "2022-09-11T17:56:47.722Z"
   },
   {
    "duration": 0,
    "start_time": "2022-09-11T17:56:47.723Z"
   },
   {
    "duration": 0,
    "start_time": "2022-09-11T17:56:47.724Z"
   },
   {
    "duration": 0,
    "start_time": "2022-09-11T17:56:47.725Z"
   },
   {
    "duration": 0,
    "start_time": "2022-09-11T17:56:47.726Z"
   },
   {
    "duration": 0,
    "start_time": "2022-09-11T17:56:47.727Z"
   },
   {
    "duration": 3,
    "start_time": "2022-09-11T17:59:41.426Z"
   },
   {
    "duration": 4,
    "start_time": "2022-09-11T17:59:47.975Z"
   },
   {
    "duration": 33,
    "start_time": "2022-09-11T17:59:48.865Z"
   },
   {
    "duration": 1593,
    "start_time": "2022-09-11T18:00:00.562Z"
   },
   {
    "duration": 38,
    "start_time": "2022-09-11T18:00:02.157Z"
   },
   {
    "duration": 31,
    "start_time": "2022-09-11T18:00:02.197Z"
   },
   {
    "duration": 28,
    "start_time": "2022-09-11T18:00:02.230Z"
   },
   {
    "duration": 91,
    "start_time": "2022-09-11T18:00:02.261Z"
   },
   {
    "duration": 97,
    "start_time": "2022-09-11T18:00:02.355Z"
   },
   {
    "duration": 27,
    "start_time": "2022-09-11T18:00:02.454Z"
   },
   {
    "duration": 2519,
    "start_time": "2022-09-11T18:00:02.484Z"
   },
   {
    "duration": 654,
    "start_time": "2022-09-11T18:00:05.005Z"
   },
   {
    "duration": 7,
    "start_time": "2022-09-11T18:00:05.662Z"
   },
   {
    "duration": 31,
    "start_time": "2022-09-11T18:00:05.671Z"
   },
   {
    "duration": 114,
    "start_time": "2022-09-11T18:00:05.705Z"
   },
   {
    "duration": 1536,
    "start_time": "2022-09-11T18:00:05.822Z"
   },
   {
    "duration": 1792,
    "start_time": "2022-09-11T18:00:07.362Z"
   },
   {
    "duration": 6,
    "start_time": "2022-09-11T18:00:09.157Z"
   },
   {
    "duration": 23,
    "start_time": "2022-09-11T18:00:09.164Z"
   },
   {
    "duration": 10,
    "start_time": "2022-09-11T18:00:09.189Z"
   },
   {
    "duration": 21,
    "start_time": "2022-09-11T18:00:09.202Z"
   },
   {
    "duration": 40,
    "start_time": "2022-09-11T18:00:09.225Z"
   },
   {
    "duration": 10,
    "start_time": "2022-09-11T18:00:09.267Z"
   },
   {
    "duration": 396,
    "start_time": "2022-09-11T18:00:09.279Z"
   },
   {
    "duration": 9,
    "start_time": "2022-09-11T18:00:09.677Z"
   },
   {
    "duration": 13,
    "start_time": "2022-09-11T18:00:09.688Z"
   },
   {
    "duration": 620,
    "start_time": "2022-09-11T18:00:09.703Z"
   },
   {
    "duration": 122596,
    "start_time": "2022-09-11T18:00:10.325Z"
   },
   {
    "duration": 1715,
    "start_time": "2022-09-11T18:02:12.924Z"
   },
   {
    "duration": 19,
    "start_time": "2022-09-11T18:02:14.641Z"
   },
   {
    "duration": 173,
    "start_time": "2022-09-11T18:02:14.662Z"
   },
   {
    "duration": 0,
    "start_time": "2022-09-11T18:02:14.837Z"
   },
   {
    "duration": 0,
    "start_time": "2022-09-11T18:02:14.838Z"
   },
   {
    "duration": 1705,
    "start_time": "2022-09-12T17:47:02.747Z"
   },
   {
    "duration": 267,
    "start_time": "2022-09-12T17:47:04.454Z"
   },
   {
    "duration": 18,
    "start_time": "2022-09-12T17:47:04.722Z"
   },
   {
    "duration": 25,
    "start_time": "2022-09-12T17:47:04.742Z"
   },
   {
    "duration": 38,
    "start_time": "2022-09-12T17:47:04.769Z"
   },
   {
    "duration": 72,
    "start_time": "2022-09-12T17:47:04.809Z"
   },
   {
    "duration": 28,
    "start_time": "2022-09-12T17:47:04.883Z"
   },
   {
    "duration": 2335,
    "start_time": "2022-09-12T17:47:04.913Z"
   },
   {
    "duration": 597,
    "start_time": "2022-09-12T17:47:07.250Z"
   },
   {
    "duration": 5,
    "start_time": "2022-09-12T17:47:07.850Z"
   },
   {
    "duration": 7,
    "start_time": "2022-09-12T17:47:07.857Z"
   },
   {
    "duration": 6,
    "start_time": "2022-09-12T17:47:07.866Z"
   },
   {
    "duration": 1495,
    "start_time": "2022-09-12T17:47:07.873Z"
   },
   {
    "duration": 1641,
    "start_time": "2022-09-12T17:47:09.369Z"
   },
   {
    "duration": 4,
    "start_time": "2022-09-12T17:47:11.012Z"
   },
   {
    "duration": 20,
    "start_time": "2022-09-12T17:47:11.017Z"
   },
   {
    "duration": 16,
    "start_time": "2022-09-12T17:47:11.038Z"
   },
   {
    "duration": 11,
    "start_time": "2022-09-12T17:47:11.056Z"
   },
   {
    "duration": 30,
    "start_time": "2022-09-12T17:47:11.069Z"
   },
   {
    "duration": 12,
    "start_time": "2022-09-12T17:47:11.101Z"
   },
   {
    "duration": 399,
    "start_time": "2022-09-12T17:47:11.115Z"
   },
   {
    "duration": 7,
    "start_time": "2022-09-12T17:47:11.516Z"
   },
   {
    "duration": 23,
    "start_time": "2022-09-12T17:47:11.525Z"
   },
   {
    "duration": 743,
    "start_time": "2022-09-12T17:47:11.550Z"
   },
   {
    "duration": 117557,
    "start_time": "2022-09-12T17:47:12.295Z"
   },
   {
    "duration": 1446,
    "start_time": "2022-09-12T17:49:09.854Z"
   },
   {
    "duration": 19,
    "start_time": "2022-09-12T17:49:11.302Z"
   },
   {
    "duration": 142,
    "start_time": "2022-09-12T17:49:11.324Z"
   },
   {
    "duration": 0,
    "start_time": "2022-09-12T17:49:11.468Z"
   },
   {
    "duration": 0,
    "start_time": "2022-09-12T17:49:11.469Z"
   },
   {
    "duration": 1662,
    "start_time": "2022-09-12T17:49:33.818Z"
   },
   {
    "duration": 2490,
    "start_time": "2022-09-12T17:51:48.074Z"
   },
   {
    "duration": 129,
    "start_time": "2022-09-12T17:52:37.639Z"
   },
   {
    "duration": 2448,
    "start_time": "2022-09-12T17:52:44.529Z"
   },
   {
    "duration": 1132,
    "start_time": "2022-09-12T17:55:28.516Z"
   },
   {
    "duration": 77,
    "start_time": "2022-09-12T18:35:26.529Z"
   },
   {
    "duration": 30,
    "start_time": "2022-09-12T18:35:57.892Z"
   },
   {
    "duration": 3,
    "start_time": "2022-09-12T18:37:48.005Z"
   },
   {
    "duration": 43,
    "start_time": "2022-09-12T18:37:48.783Z"
   },
   {
    "duration": 8,
    "start_time": "2022-09-12T18:40:51.884Z"
   },
   {
    "duration": 12,
    "start_time": "2022-09-12T18:41:11.069Z"
   },
   {
    "duration": 27,
    "start_time": "2022-09-12T18:42:08.667Z"
   },
   {
    "duration": 55,
    "start_time": "2022-09-13T18:02:58.476Z"
   },
   {
    "duration": 58,
    "start_time": "2022-09-13T18:03:12.595Z"
   },
   {
    "duration": 1593,
    "start_time": "2022-09-13T18:03:56.800Z"
   },
   {
    "duration": 64,
    "start_time": "2022-09-13T18:03:58.394Z"
   },
   {
    "duration": 15,
    "start_time": "2022-09-13T18:03:58.460Z"
   },
   {
    "duration": 2,
    "start_time": "2022-09-13T18:03:58.477Z"
   },
   {
    "duration": 13,
    "start_time": "2022-09-13T18:03:58.481Z"
   },
   {
    "duration": 37,
    "start_time": "2022-09-13T18:03:58.495Z"
   },
   {
    "duration": 14,
    "start_time": "2022-09-13T18:03:58.534Z"
   },
   {
    "duration": 1839,
    "start_time": "2022-09-13T18:03:58.550Z"
   },
   {
    "duration": 499,
    "start_time": "2022-09-13T18:04:00.390Z"
   },
   {
    "duration": 4,
    "start_time": "2022-09-13T18:04:00.892Z"
   },
   {
    "duration": 31,
    "start_time": "2022-09-13T18:04:00.898Z"
   },
   {
    "duration": 25,
    "start_time": "2022-09-13T18:04:00.930Z"
   },
   {
    "duration": 1168,
    "start_time": "2022-09-13T18:04:00.956Z"
   },
   {
    "duration": 1429,
    "start_time": "2022-09-13T18:04:02.126Z"
   },
   {
    "duration": 5,
    "start_time": "2022-09-13T18:04:03.557Z"
   },
   {
    "duration": 6,
    "start_time": "2022-09-13T18:04:03.564Z"
   },
   {
    "duration": 52,
    "start_time": "2022-09-13T18:04:03.571Z"
   },
   {
    "duration": 0,
    "start_time": "2022-09-13T18:04:03.624Z"
   },
   {
    "duration": 0,
    "start_time": "2022-09-13T18:04:03.625Z"
   },
   {
    "duration": 0,
    "start_time": "2022-09-13T18:04:03.626Z"
   },
   {
    "duration": 0,
    "start_time": "2022-09-13T18:04:03.627Z"
   },
   {
    "duration": 0,
    "start_time": "2022-09-13T18:04:03.628Z"
   },
   {
    "duration": 0,
    "start_time": "2022-09-13T18:04:03.629Z"
   },
   {
    "duration": 0,
    "start_time": "2022-09-13T18:04:03.630Z"
   },
   {
    "duration": 0,
    "start_time": "2022-09-13T18:04:03.631Z"
   },
   {
    "duration": 0,
    "start_time": "2022-09-13T18:04:03.632Z"
   },
   {
    "duration": 0,
    "start_time": "2022-09-13T18:04:03.633Z"
   },
   {
    "duration": 0,
    "start_time": "2022-09-13T18:04:03.634Z"
   },
   {
    "duration": 0,
    "start_time": "2022-09-13T18:04:03.635Z"
   },
   {
    "duration": 0,
    "start_time": "2022-09-13T18:04:03.636Z"
   },
   {
    "duration": 0,
    "start_time": "2022-09-13T18:04:03.637Z"
   },
   {
    "duration": 0,
    "start_time": "2022-09-13T18:04:03.638Z"
   },
   {
    "duration": 0,
    "start_time": "2022-09-13T18:04:03.639Z"
   },
   {
    "duration": 6,
    "start_time": "2022-09-13T18:04:41.579Z"
   },
   {
    "duration": 4,
    "start_time": "2022-09-13T18:05:18.181Z"
   },
   {
    "duration": 5,
    "start_time": "2022-09-13T18:06:45.847Z"
   },
   {
    "duration": 1306,
    "start_time": "2022-09-13T18:07:39.047Z"
   },
   {
    "duration": 30,
    "start_time": "2022-09-13T18:07:40.356Z"
   },
   {
    "duration": 19,
    "start_time": "2022-09-13T18:07:40.388Z"
   },
   {
    "duration": 4,
    "start_time": "2022-09-13T18:07:40.409Z"
   },
   {
    "duration": 17,
    "start_time": "2022-09-13T18:07:40.414Z"
   },
   {
    "duration": 37,
    "start_time": "2022-09-13T18:07:40.433Z"
   },
   {
    "duration": 14,
    "start_time": "2022-09-13T18:07:40.473Z"
   },
   {
    "duration": 1857,
    "start_time": "2022-09-13T18:07:40.488Z"
   },
   {
    "duration": 574,
    "start_time": "2022-09-13T18:07:42.346Z"
   },
   {
    "duration": 5,
    "start_time": "2022-09-13T18:07:42.922Z"
   },
   {
    "duration": 9,
    "start_time": "2022-09-13T18:07:42.928Z"
   },
   {
    "duration": 5,
    "start_time": "2022-09-13T18:07:42.938Z"
   },
   {
    "duration": 1235,
    "start_time": "2022-09-13T18:07:42.944Z"
   },
   {
    "duration": 1300,
    "start_time": "2022-09-13T18:07:44.181Z"
   },
   {
    "duration": 3,
    "start_time": "2022-09-13T18:07:45.483Z"
   },
   {
    "duration": 22,
    "start_time": "2022-09-13T18:07:45.487Z"
   },
   {
    "duration": 6,
    "start_time": "2022-09-13T18:07:45.511Z"
   },
   {
    "duration": 6,
    "start_time": "2022-09-13T18:07:45.518Z"
   },
   {
    "duration": 6,
    "start_time": "2022-09-13T18:07:45.525Z"
   },
   {
    "duration": 15,
    "start_time": "2022-09-13T18:07:45.532Z"
   },
   {
    "duration": 13,
    "start_time": "2022-09-13T18:07:45.549Z"
   },
   {
    "duration": 19,
    "start_time": "2022-09-13T18:07:45.563Z"
   },
   {
    "duration": 5,
    "start_time": "2022-09-13T18:07:45.584Z"
   },
   {
    "duration": 366,
    "start_time": "2022-09-13T18:07:45.591Z"
   },
   {
    "duration": 6,
    "start_time": "2022-09-13T18:07:45.958Z"
   },
   {
    "duration": 10,
    "start_time": "2022-09-13T18:07:45.965Z"
   },
   {
    "duration": 486,
    "start_time": "2022-09-13T18:07:45.976Z"
   },
   {
    "duration": 92531,
    "start_time": "2022-09-13T18:07:46.465Z"
   },
   {
    "duration": 1117,
    "start_time": "2022-09-13T18:09:18.998Z"
   },
   {
    "duration": 3,
    "start_time": "2022-09-13T18:09:20.117Z"
   },
   {
    "duration": 75,
    "start_time": "2022-09-13T18:09:20.209Z"
   },
   {
    "duration": 41,
    "start_time": "2022-09-13T18:09:20.286Z"
   },
   {
    "duration": 946,
    "start_time": "2022-09-13T18:09:20.328Z"
   },
   {
    "duration": 1254,
    "start_time": "2022-09-13T18:09:21.275Z"
   },
   {
    "duration": 162,
    "start_time": "2022-09-13T18:09:22.530Z"
   },
   {
    "duration": 1426,
    "start_time": "2022-09-13T18:14:35.985Z"
   },
   {
    "duration": 31,
    "start_time": "2022-09-13T18:14:37.412Z"
   },
   {
    "duration": 14,
    "start_time": "2022-09-13T18:14:37.445Z"
   },
   {
    "duration": 4,
    "start_time": "2022-09-13T18:14:37.461Z"
   },
   {
    "duration": 16,
    "start_time": "2022-09-13T18:14:37.467Z"
   },
   {
    "duration": 60,
    "start_time": "2022-09-13T18:14:37.485Z"
   },
   {
    "duration": 20,
    "start_time": "2022-09-13T18:14:37.547Z"
   },
   {
    "duration": 1884,
    "start_time": "2022-09-13T18:14:37.569Z"
   },
   {
    "duration": 488,
    "start_time": "2022-09-13T18:14:39.455Z"
   },
   {
    "duration": 16,
    "start_time": "2022-09-13T18:14:39.945Z"
   },
   {
    "duration": 17,
    "start_time": "2022-09-13T18:14:39.964Z"
   },
   {
    "duration": 10,
    "start_time": "2022-09-13T18:14:39.982Z"
   },
   {
    "duration": 1218,
    "start_time": "2022-09-13T18:14:39.993Z"
   },
   {
    "duration": 1384,
    "start_time": "2022-09-13T18:14:41.215Z"
   },
   {
    "duration": 9,
    "start_time": "2022-09-13T18:14:42.602Z"
   },
   {
    "duration": 53,
    "start_time": "2022-09-13T18:14:42.613Z"
   },
   {
    "duration": 68,
    "start_time": "2022-09-13T18:14:42.668Z"
   },
   {
    "duration": 55,
    "start_time": "2022-09-13T18:14:42.738Z"
   },
   {
    "duration": 21,
    "start_time": "2022-09-13T18:14:42.795Z"
   },
   {
    "duration": 49,
    "start_time": "2022-09-13T18:14:42.817Z"
   },
   {
    "duration": 46,
    "start_time": "2022-09-13T18:14:42.869Z"
   },
   {
    "duration": 103,
    "start_time": "2022-09-13T18:14:42.917Z"
   },
   {
    "duration": 25,
    "start_time": "2022-09-13T18:14:43.023Z"
   },
   {
    "duration": 14,
    "start_time": "2022-09-13T18:14:43.050Z"
   },
   {
    "duration": 23,
    "start_time": "2022-09-13T18:14:43.065Z"
   },
   {
    "duration": 19,
    "start_time": "2022-09-13T18:14:43.089Z"
   },
   {
    "duration": 368,
    "start_time": "2022-09-13T18:14:43.109Z"
   },
   {
    "duration": 7,
    "start_time": "2022-09-13T18:14:43.478Z"
   },
   {
    "duration": 7,
    "start_time": "2022-09-13T18:14:43.486Z"
   },
   {
    "duration": 502,
    "start_time": "2022-09-13T18:14:43.494Z"
   },
   {
    "duration": 93560,
    "start_time": "2022-09-13T18:14:43.998Z"
   },
   {
    "duration": 1149,
    "start_time": "2022-09-13T18:16:17.560Z"
   },
   {
    "duration": 4,
    "start_time": "2022-09-13T18:16:18.711Z"
   },
   {
    "duration": 117,
    "start_time": "2022-09-13T18:16:18.717Z"
   },
   {
    "duration": 35,
    "start_time": "2022-09-13T18:16:18.836Z"
   },
   {
    "duration": 816,
    "start_time": "2022-09-13T18:16:18.873Z"
   },
   {
    "duration": 1619,
    "start_time": "2022-09-13T18:16:19.691Z"
   },
   {
    "duration": 129,
    "start_time": "2022-09-13T18:16:21.312Z"
   },
   {
    "duration": 1392,
    "start_time": "2022-09-13T18:19:51.596Z"
   },
   {
    "duration": 31,
    "start_time": "2022-09-13T18:19:52.990Z"
   },
   {
    "duration": 14,
    "start_time": "2022-09-13T18:19:53.023Z"
   },
   {
    "duration": 7,
    "start_time": "2022-09-13T18:19:53.038Z"
   },
   {
    "duration": 23,
    "start_time": "2022-09-13T18:19:53.047Z"
   },
   {
    "duration": 37,
    "start_time": "2022-09-13T18:19:53.072Z"
   },
   {
    "duration": 14,
    "start_time": "2022-09-13T18:19:53.110Z"
   },
   {
    "duration": 1808,
    "start_time": "2022-09-13T18:19:53.126Z"
   },
   {
    "duration": 493,
    "start_time": "2022-09-13T18:19:54.936Z"
   },
   {
    "duration": 4,
    "start_time": "2022-09-13T18:19:55.431Z"
   },
   {
    "duration": 25,
    "start_time": "2022-09-13T18:19:55.436Z"
   },
   {
    "duration": 23,
    "start_time": "2022-09-13T18:19:55.462Z"
   },
   {
    "duration": 1182,
    "start_time": "2022-09-13T18:19:55.487Z"
   },
   {
    "duration": 1337,
    "start_time": "2022-09-13T18:19:56.671Z"
   },
   {
    "duration": 4,
    "start_time": "2022-09-13T18:19:58.009Z"
   },
   {
    "duration": 11,
    "start_time": "2022-09-13T18:19:58.014Z"
   },
   {
    "duration": 10,
    "start_time": "2022-09-13T18:19:58.026Z"
   },
   {
    "duration": 4,
    "start_time": "2022-09-13T18:19:58.037Z"
   },
   {
    "duration": 5,
    "start_time": "2022-09-13T18:19:58.042Z"
   },
   {
    "duration": 61,
    "start_time": "2022-09-13T18:19:58.048Z"
   },
   {
    "duration": 98,
    "start_time": "2022-09-13T18:19:58.111Z"
   },
   {
    "duration": 2,
    "start_time": "2022-09-13T18:19:58.211Z"
   },
   {
    "duration": 7,
    "start_time": "2022-09-13T18:19:58.215Z"
   },
   {
    "duration": 15,
    "start_time": "2022-09-13T18:19:58.224Z"
   },
   {
    "duration": 6,
    "start_time": "2022-09-13T18:19:58.240Z"
   },
   {
    "duration": 4,
    "start_time": "2022-09-13T18:19:58.247Z"
   },
   {
    "duration": 386,
    "start_time": "2022-09-13T18:19:58.252Z"
   },
   {
    "duration": 6,
    "start_time": "2022-09-13T18:19:58.639Z"
   },
   {
    "duration": 6,
    "start_time": "2022-09-13T18:19:58.647Z"
   },
   {
    "duration": 449,
    "start_time": "2022-09-13T18:19:58.654Z"
   },
   {
    "duration": 367,
    "start_time": "2022-09-13T18:27:24.438Z"
   },
   {
    "duration": 7,
    "start_time": "2022-09-13T18:27:25.261Z"
   },
   {
    "duration": 5,
    "start_time": "2022-09-13T18:28:28.611Z"
   },
   {
    "duration": 1400,
    "start_time": "2022-09-13T18:28:38.919Z"
   },
   {
    "duration": 31,
    "start_time": "2022-09-13T18:28:40.321Z"
   },
   {
    "duration": 13,
    "start_time": "2022-09-13T18:28:40.354Z"
   },
   {
    "duration": 3,
    "start_time": "2022-09-13T18:28:40.369Z"
   },
   {
    "duration": 11,
    "start_time": "2022-09-13T18:28:40.373Z"
   },
   {
    "duration": 34,
    "start_time": "2022-09-13T18:28:40.386Z"
   },
   {
    "duration": 12,
    "start_time": "2022-09-13T18:28:40.421Z"
   },
   {
    "duration": 1775,
    "start_time": "2022-09-13T18:28:40.434Z"
   },
   {
    "duration": 548,
    "start_time": "2022-09-13T18:28:42.210Z"
   },
   {
    "duration": 4,
    "start_time": "2022-09-13T18:28:42.761Z"
   },
   {
    "duration": 21,
    "start_time": "2022-09-13T18:28:42.766Z"
   },
   {
    "duration": 37,
    "start_time": "2022-09-13T18:28:42.789Z"
   },
   {
    "duration": 1177,
    "start_time": "2022-09-13T18:28:42.827Z"
   },
   {
    "duration": 1298,
    "start_time": "2022-09-13T18:28:44.006Z"
   },
   {
    "duration": 4,
    "start_time": "2022-09-13T18:28:45.306Z"
   },
   {
    "duration": 11,
    "start_time": "2022-09-13T18:28:45.311Z"
   },
   {
    "duration": 16,
    "start_time": "2022-09-13T18:28:45.323Z"
   },
   {
    "duration": 5,
    "start_time": "2022-09-13T18:28:45.340Z"
   },
   {
    "duration": 4,
    "start_time": "2022-09-13T18:28:45.347Z"
   },
   {
    "duration": 58,
    "start_time": "2022-09-13T18:28:45.352Z"
   },
   {
    "duration": 98,
    "start_time": "2022-09-13T18:28:45.411Z"
   },
   {
    "duration": 415,
    "start_time": "2022-09-13T18:28:45.511Z"
   },
   {
    "duration": 6,
    "start_time": "2022-09-13T18:28:45.927Z"
   },
   {
    "duration": 6,
    "start_time": "2022-09-13T18:28:45.934Z"
   },
   {
    "duration": 9,
    "start_time": "2022-09-13T18:28:45.941Z"
   },
   {
    "duration": 5,
    "start_time": "2022-09-13T18:28:45.952Z"
   },
   {
    "duration": 19,
    "start_time": "2022-09-13T18:28:45.958Z"
   },
   {
    "duration": 5,
    "start_time": "2022-09-13T18:28:45.980Z"
   },
   {
    "duration": 4,
    "start_time": "2022-09-13T18:28:45.986Z"
   },
   {
    "duration": 375,
    "start_time": "2022-09-13T18:28:45.992Z"
   },
   {
    "duration": 6,
    "start_time": "2022-09-13T18:28:46.368Z"
   },
   {
    "duration": 13,
    "start_time": "2022-09-13T18:28:46.375Z"
   },
   {
    "duration": 445,
    "start_time": "2022-09-13T18:28:46.389Z"
   },
   {
    "duration": 90987,
    "start_time": "2022-09-13T18:28:46.836Z"
   },
   {
    "duration": 1085,
    "start_time": "2022-09-13T18:30:17.824Z"
   },
   {
    "duration": 3,
    "start_time": "2022-09-13T18:30:18.911Z"
   },
   {
    "duration": 176,
    "start_time": "2022-09-13T18:30:18.916Z"
   },
   {
    "duration": 22,
    "start_time": "2022-09-13T18:30:19.094Z"
   },
   {
    "duration": 736,
    "start_time": "2022-09-13T18:30:19.117Z"
   },
   {
    "duration": 1375,
    "start_time": "2022-09-13T18:30:19.855Z"
   },
   {
    "duration": 122,
    "start_time": "2022-09-13T18:30:21.232Z"
   },
   {
    "duration": 1410,
    "start_time": "2022-09-13T18:44:49.159Z"
   },
   {
    "duration": 31,
    "start_time": "2022-09-13T18:44:50.571Z"
   },
   {
    "duration": 14,
    "start_time": "2022-09-13T18:44:50.604Z"
   },
   {
    "duration": 3,
    "start_time": "2022-09-13T18:44:50.620Z"
   },
   {
    "duration": 24,
    "start_time": "2022-09-13T18:44:50.624Z"
   },
   {
    "duration": 37,
    "start_time": "2022-09-13T18:44:50.650Z"
   },
   {
    "duration": 27,
    "start_time": "2022-09-13T18:44:50.689Z"
   },
   {
    "duration": 1895,
    "start_time": "2022-09-13T18:44:50.718Z"
   },
   {
    "duration": 635,
    "start_time": "2022-09-13T18:44:52.615Z"
   },
   {
    "duration": 5,
    "start_time": "2022-09-13T18:44:53.252Z"
   },
   {
    "duration": 7,
    "start_time": "2022-09-13T18:44:53.260Z"
   },
   {
    "duration": 10,
    "start_time": "2022-09-13T18:44:53.269Z"
   },
   {
    "duration": 1378,
    "start_time": "2022-09-13T18:44:53.281Z"
   },
   {
    "duration": 1539,
    "start_time": "2022-09-13T18:44:54.661Z"
   },
   {
    "duration": 7,
    "start_time": "2022-09-13T18:44:56.202Z"
   },
   {
    "duration": 6,
    "start_time": "2022-09-13T18:44:56.211Z"
   },
   {
    "duration": 6,
    "start_time": "2022-09-13T18:44:56.219Z"
   },
   {
    "duration": 9,
    "start_time": "2022-09-13T18:44:56.226Z"
   },
   {
    "duration": 9,
    "start_time": "2022-09-13T18:44:56.238Z"
   },
   {
    "duration": 162,
    "start_time": "2022-09-13T18:44:56.248Z"
   },
   {
    "duration": 97,
    "start_time": "2022-09-13T18:44:56.412Z"
   },
   {
    "duration": 345,
    "start_time": "2022-09-13T18:44:56.511Z"
   },
   {
    "duration": 10,
    "start_time": "2022-09-13T18:44:56.858Z"
   },
   {
    "duration": 11,
    "start_time": "2022-09-13T18:44:56.869Z"
   },
   {
    "duration": 9,
    "start_time": "2022-09-13T18:44:56.882Z"
   },
   {
    "duration": 21,
    "start_time": "2022-09-13T18:44:56.892Z"
   },
   {
    "duration": 6,
    "start_time": "2022-09-13T18:44:56.915Z"
   },
   {
    "duration": 375,
    "start_time": "2022-09-13T18:44:56.924Z"
   },
   {
    "duration": 8,
    "start_time": "2022-09-13T18:44:57.301Z"
   },
   {
    "duration": 9,
    "start_time": "2022-09-13T18:44:57.310Z"
   },
   {
    "duration": 463,
    "start_time": "2022-09-13T18:44:57.321Z"
   },
   {
    "duration": 96205,
    "start_time": "2022-09-13T18:44:57.786Z"
   },
   {
    "duration": 927,
    "start_time": "2022-09-13T18:46:33.994Z"
   },
   {
    "duration": 88,
    "start_time": "2022-09-13T18:46:34.923Z"
   },
   {
    "duration": 131,
    "start_time": "2022-09-13T18:46:35.012Z"
   },
   {
    "duration": 25,
    "start_time": "2022-09-13T18:46:35.144Z"
   },
   {
    "duration": 854,
    "start_time": "2022-09-13T18:46:35.170Z"
   },
   {
    "duration": 1773,
    "start_time": "2022-09-13T18:46:36.026Z"
   },
   {
    "duration": 140,
    "start_time": "2022-09-13T18:46:37.801Z"
   },
   {
    "duration": 6,
    "start_time": "2022-09-13T19:02:37.971Z"
   },
   {
    "duration": 1462,
    "start_time": "2022-09-13T19:07:11.194Z"
   },
   {
    "duration": 33,
    "start_time": "2022-09-13T19:07:12.658Z"
   },
   {
    "duration": 18,
    "start_time": "2022-09-13T19:07:12.693Z"
   },
   {
    "duration": 15,
    "start_time": "2022-09-13T19:07:12.714Z"
   },
   {
    "duration": 18,
    "start_time": "2022-09-13T19:07:12.731Z"
   },
   {
    "duration": 38,
    "start_time": "2022-09-13T19:07:12.751Z"
   },
   {
    "duration": 14,
    "start_time": "2022-09-13T19:07:12.790Z"
   },
   {
    "duration": 1929,
    "start_time": "2022-09-13T19:07:12.808Z"
   },
   {
    "duration": 489,
    "start_time": "2022-09-13T19:07:14.739Z"
   },
   {
    "duration": 4,
    "start_time": "2022-09-13T19:07:15.231Z"
   },
   {
    "duration": 6,
    "start_time": "2022-09-13T19:07:15.236Z"
   },
   {
    "duration": 6,
    "start_time": "2022-09-13T19:07:15.243Z"
   },
   {
    "duration": 1172,
    "start_time": "2022-09-13T19:07:15.250Z"
   },
   {
    "duration": 1291,
    "start_time": "2022-09-13T19:07:16.424Z"
   },
   {
    "duration": 4,
    "start_time": "2022-09-13T19:07:17.717Z"
   },
   {
    "duration": 11,
    "start_time": "2022-09-13T19:07:17.722Z"
   },
   {
    "duration": 14,
    "start_time": "2022-09-13T19:07:17.735Z"
   },
   {
    "duration": 124,
    "start_time": "2022-09-13T19:07:17.750Z"
   },
   {
    "duration": 0,
    "start_time": "2022-09-13T19:07:17.877Z"
   },
   {
    "duration": 0,
    "start_time": "2022-09-13T19:07:17.878Z"
   },
   {
    "duration": 0,
    "start_time": "2022-09-13T19:07:17.879Z"
   },
   {
    "duration": 1,
    "start_time": "2022-09-13T19:07:17.880Z"
   },
   {
    "duration": 0,
    "start_time": "2022-09-13T19:07:17.882Z"
   },
   {
    "duration": 0,
    "start_time": "2022-09-13T19:07:17.883Z"
   },
   {
    "duration": 0,
    "start_time": "2022-09-13T19:07:17.884Z"
   },
   {
    "duration": 0,
    "start_time": "2022-09-13T19:07:17.886Z"
   },
   {
    "duration": 0,
    "start_time": "2022-09-13T19:07:17.888Z"
   },
   {
    "duration": 0,
    "start_time": "2022-09-13T19:07:17.909Z"
   },
   {
    "duration": 0,
    "start_time": "2022-09-13T19:07:17.910Z"
   },
   {
    "duration": 0,
    "start_time": "2022-09-13T19:07:17.911Z"
   },
   {
    "duration": 0,
    "start_time": "2022-09-13T19:07:17.913Z"
   },
   {
    "duration": 0,
    "start_time": "2022-09-13T19:07:17.914Z"
   },
   {
    "duration": 0,
    "start_time": "2022-09-13T19:07:17.915Z"
   },
   {
    "duration": 0,
    "start_time": "2022-09-13T19:07:17.917Z"
   },
   {
    "duration": 0,
    "start_time": "2022-09-13T19:07:17.918Z"
   },
   {
    "duration": 0,
    "start_time": "2022-09-13T19:07:17.919Z"
   },
   {
    "duration": 0,
    "start_time": "2022-09-13T19:07:17.922Z"
   },
   {
    "duration": 0,
    "start_time": "2022-09-13T19:07:17.923Z"
   },
   {
    "duration": 0,
    "start_time": "2022-09-13T19:07:17.924Z"
   },
   {
    "duration": 6,
    "start_time": "2022-09-13T19:08:58.807Z"
   },
   {
    "duration": 1311,
    "start_time": "2022-09-13T19:09:04.443Z"
   },
   {
    "duration": 30,
    "start_time": "2022-09-13T19:09:05.756Z"
   },
   {
    "duration": 14,
    "start_time": "2022-09-13T19:09:05.788Z"
   },
   {
    "duration": 3,
    "start_time": "2022-09-13T19:09:05.803Z"
   },
   {
    "duration": 12,
    "start_time": "2022-09-13T19:09:05.808Z"
   },
   {
    "duration": 37,
    "start_time": "2022-09-13T19:09:05.821Z"
   },
   {
    "duration": 13,
    "start_time": "2022-09-13T19:09:05.859Z"
   },
   {
    "duration": 1823,
    "start_time": "2022-09-13T19:09:05.874Z"
   },
   {
    "duration": 504,
    "start_time": "2022-09-13T19:09:07.698Z"
   },
   {
    "duration": 4,
    "start_time": "2022-09-13T19:09:08.204Z"
   },
   {
    "duration": 6,
    "start_time": "2022-09-13T19:09:08.210Z"
   },
   {
    "duration": 6,
    "start_time": "2022-09-13T19:09:08.217Z"
   },
   {
    "duration": 1185,
    "start_time": "2022-09-13T19:09:08.225Z"
   },
   {
    "duration": 1288,
    "start_time": "2022-09-13T19:09:09.413Z"
   },
   {
    "duration": 4,
    "start_time": "2022-09-13T19:09:10.702Z"
   },
   {
    "duration": 6,
    "start_time": "2022-09-13T19:09:10.708Z"
   },
   {
    "duration": 7,
    "start_time": "2022-09-13T19:09:10.716Z"
   },
   {
    "duration": 4,
    "start_time": "2022-09-13T19:09:10.725Z"
   },
   {
    "duration": 18,
    "start_time": "2022-09-13T19:09:10.731Z"
   },
   {
    "duration": 61,
    "start_time": "2022-09-13T19:09:10.750Z"
   },
   {
    "duration": 94,
    "start_time": "2022-09-13T19:09:10.814Z"
   },
   {
    "duration": 338,
    "start_time": "2022-09-13T19:09:10.910Z"
   },
   {
    "duration": 7,
    "start_time": "2022-09-13T19:09:11.250Z"
   },
   {
    "duration": 5,
    "start_time": "2022-09-13T19:09:11.259Z"
   },
   {
    "duration": 7,
    "start_time": "2022-09-13T19:09:11.266Z"
   },
   {
    "duration": 37,
    "start_time": "2022-09-13T19:09:11.275Z"
   },
   {
    "duration": 6,
    "start_time": "2022-09-13T19:09:11.314Z"
   },
   {
    "duration": 404,
    "start_time": "2022-09-13T19:09:11.322Z"
   },
   {
    "duration": 7,
    "start_time": "2022-09-13T19:09:11.728Z"
   },
   {
    "duration": 8,
    "start_time": "2022-09-13T19:09:11.737Z"
   },
   {
    "duration": 483,
    "start_time": "2022-09-13T19:09:11.747Z"
   },
   {
    "duration": 93719,
    "start_time": "2022-09-13T19:09:12.232Z"
   },
   {
    "duration": 1356,
    "start_time": "2022-09-13T19:10:45.953Z"
   },
   {
    "duration": 3,
    "start_time": "2022-09-13T19:10:47.312Z"
   },
   {
    "duration": 72,
    "start_time": "2022-09-13T19:10:47.317Z"
   },
   {
    "duration": 38,
    "start_time": "2022-09-13T19:10:47.391Z"
   },
   {
    "duration": 788,
    "start_time": "2022-09-13T19:10:47.431Z"
   },
   {
    "duration": 1435,
    "start_time": "2022-09-13T19:10:48.221Z"
   },
   {
    "duration": 134,
    "start_time": "2022-09-13T19:10:49.658Z"
   },
   {
    "duration": 6,
    "start_time": "2022-09-13T19:15:56.550Z"
   },
   {
    "duration": 1359,
    "start_time": "2022-09-13T19:16:19.519Z"
   },
   {
    "duration": 32,
    "start_time": "2022-09-13T19:16:20.879Z"
   },
   {
    "duration": 14,
    "start_time": "2022-09-13T19:16:20.912Z"
   },
   {
    "duration": 6,
    "start_time": "2022-09-13T19:16:20.928Z"
   },
   {
    "duration": 11,
    "start_time": "2022-09-13T19:16:20.936Z"
   },
   {
    "duration": 35,
    "start_time": "2022-09-13T19:16:20.948Z"
   },
   {
    "duration": 35,
    "start_time": "2022-09-13T19:16:20.985Z"
   },
   {
    "duration": 1919,
    "start_time": "2022-09-13T19:16:21.022Z"
   },
   {
    "duration": 489,
    "start_time": "2022-09-13T19:16:22.942Z"
   },
   {
    "duration": 5,
    "start_time": "2022-09-13T19:16:23.432Z"
   },
   {
    "duration": 9,
    "start_time": "2022-09-13T19:16:23.438Z"
   },
   {
    "duration": 6,
    "start_time": "2022-09-13T19:16:23.448Z"
   },
   {
    "duration": 1168,
    "start_time": "2022-09-13T19:16:23.456Z"
   },
   {
    "duration": 1241,
    "start_time": "2022-09-13T19:16:24.627Z"
   },
   {
    "duration": 4,
    "start_time": "2022-09-13T19:16:25.870Z"
   },
   {
    "duration": 8,
    "start_time": "2022-09-13T19:16:25.876Z"
   },
   {
    "duration": 17,
    "start_time": "2022-09-13T19:16:25.885Z"
   },
   {
    "duration": 24,
    "start_time": "2022-09-13T19:16:25.903Z"
   },
   {
    "duration": 18,
    "start_time": "2022-09-13T19:16:25.929Z"
   },
   {
    "duration": 34,
    "start_time": "2022-09-13T19:16:25.949Z"
   },
   {
    "duration": 125,
    "start_time": "2022-09-13T19:16:25.985Z"
   },
   {
    "duration": 338,
    "start_time": "2022-09-13T19:16:26.111Z"
   },
   {
    "duration": 6,
    "start_time": "2022-09-13T19:16:26.450Z"
   },
   {
    "duration": 3,
    "start_time": "2022-09-13T19:16:26.458Z"
   },
   {
    "duration": 7,
    "start_time": "2022-09-13T19:16:26.462Z"
   },
   {
    "duration": 14,
    "start_time": "2022-09-13T19:16:26.470Z"
   },
   {
    "duration": 24,
    "start_time": "2022-09-13T19:16:26.485Z"
   },
   {
    "duration": 366,
    "start_time": "2022-09-13T19:16:26.510Z"
   },
   {
    "duration": 6,
    "start_time": "2022-09-13T19:16:26.877Z"
   },
   {
    "duration": 7,
    "start_time": "2022-09-13T19:16:26.885Z"
   },
   {
    "duration": 486,
    "start_time": "2022-09-13T19:16:26.894Z"
   },
   {
    "duration": 90515,
    "start_time": "2022-09-13T19:16:27.382Z"
   },
   {
    "duration": 1019,
    "start_time": "2022-09-13T19:17:57.898Z"
   },
   {
    "duration": 3,
    "start_time": "2022-09-13T19:17:59.009Z"
   },
   {
    "duration": 74,
    "start_time": "2022-09-13T19:17:59.013Z"
   },
   {
    "duration": 37,
    "start_time": "2022-09-13T19:17:59.088Z"
   },
   {
    "duration": 761,
    "start_time": "2022-09-13T19:17:59.126Z"
   },
   {
    "duration": 1398,
    "start_time": "2022-09-13T19:17:59.889Z"
   },
   {
    "duration": 6,
    "start_time": "2022-09-13T19:18:01.289Z"
   },
   {
    "duration": 1362,
    "start_time": "2022-09-13T19:33:57.690Z"
   },
   {
    "duration": 34,
    "start_time": "2022-09-13T19:33:59.054Z"
   },
   {
    "duration": 14,
    "start_time": "2022-09-13T19:33:59.089Z"
   },
   {
    "duration": 3,
    "start_time": "2022-09-13T19:33:59.105Z"
   },
   {
    "duration": 20,
    "start_time": "2022-09-13T19:33:59.109Z"
   },
   {
    "duration": 35,
    "start_time": "2022-09-13T19:33:59.131Z"
   },
   {
    "duration": 12,
    "start_time": "2022-09-13T19:33:59.168Z"
   },
   {
    "duration": 1920,
    "start_time": "2022-09-13T19:33:59.181Z"
   },
   {
    "duration": 553,
    "start_time": "2022-09-13T19:34:01.102Z"
   },
   {
    "duration": 5,
    "start_time": "2022-09-13T19:34:01.657Z"
   },
   {
    "duration": 19,
    "start_time": "2022-09-13T19:34:01.664Z"
   },
   {
    "duration": 17,
    "start_time": "2022-09-13T19:34:01.685Z"
   },
   {
    "duration": 1220,
    "start_time": "2022-09-13T19:34:01.705Z"
   },
   {
    "duration": 1338,
    "start_time": "2022-09-13T19:34:02.926Z"
   },
   {
    "duration": 3,
    "start_time": "2022-09-13T19:34:04.266Z"
   },
   {
    "duration": 6,
    "start_time": "2022-09-13T19:34:04.270Z"
   },
   {
    "duration": 11,
    "start_time": "2022-09-13T19:34:04.277Z"
   },
   {
    "duration": 6,
    "start_time": "2022-09-13T19:34:04.289Z"
   },
   {
    "duration": 14,
    "start_time": "2022-09-13T19:34:04.296Z"
   },
   {
    "duration": 19,
    "start_time": "2022-09-13T19:34:04.311Z"
   },
   {
    "duration": 7,
    "start_time": "2022-09-13T19:34:04.332Z"
   },
   {
    "duration": 427,
    "start_time": "2022-09-13T19:34:04.409Z"
   },
   {
    "duration": 7,
    "start_time": "2022-09-13T19:34:04.837Z"
   },
   {
    "duration": 3,
    "start_time": "2022-09-13T19:34:04.845Z"
   },
   {
    "duration": 13,
    "start_time": "2022-09-13T19:34:04.849Z"
   },
   {
    "duration": 16,
    "start_time": "2022-09-13T19:34:04.864Z"
   },
   {
    "duration": 5,
    "start_time": "2022-09-13T19:34:04.881Z"
   },
   {
    "duration": 358,
    "start_time": "2022-09-13T19:34:04.910Z"
   },
   {
    "duration": 6,
    "start_time": "2022-09-13T19:34:05.270Z"
   },
   {
    "duration": 7,
    "start_time": "2022-09-13T19:34:05.277Z"
   },
   {
    "duration": 482,
    "start_time": "2022-09-13T19:34:05.285Z"
   },
   {
    "duration": 93584,
    "start_time": "2022-09-13T19:34:05.769Z"
   },
   {
    "duration": 1160,
    "start_time": "2022-09-13T19:35:39.355Z"
   },
   {
    "duration": 4,
    "start_time": "2022-09-13T19:35:40.516Z"
   },
   {
    "duration": 89,
    "start_time": "2022-09-13T19:35:40.521Z"
   },
   {
    "duration": 24,
    "start_time": "2022-09-13T19:35:40.612Z"
   },
   {
    "duration": 802,
    "start_time": "2022-09-13T19:35:40.637Z"
   },
   {
    "duration": 1564,
    "start_time": "2022-09-13T19:35:41.441Z"
   },
   {
    "duration": 6,
    "start_time": "2022-09-13T19:35:43.008Z"
   },
   {
    "duration": 1652,
    "start_time": "2022-09-15T04:53:47.340Z"
   },
   {
    "duration": 79,
    "start_time": "2022-09-15T04:53:48.995Z"
   },
   {
    "duration": 22,
    "start_time": "2022-09-15T04:53:49.076Z"
   },
   {
    "duration": 8,
    "start_time": "2022-09-15T04:53:49.101Z"
   },
   {
    "duration": 23,
    "start_time": "2022-09-15T04:53:49.111Z"
   },
   {
    "duration": 59,
    "start_time": "2022-09-15T04:53:49.136Z"
   },
   {
    "duration": 32,
    "start_time": "2022-09-15T04:53:49.197Z"
   },
   {
    "duration": 2160,
    "start_time": "2022-09-15T04:53:49.231Z"
   },
   {
    "duration": 584,
    "start_time": "2022-09-15T04:53:51.392Z"
   },
   {
    "duration": 6,
    "start_time": "2022-09-15T04:53:51.980Z"
   },
   {
    "duration": 16,
    "start_time": "2022-09-15T04:53:51.988Z"
   },
   {
    "duration": 16,
    "start_time": "2022-09-15T04:53:52.006Z"
   },
   {
    "duration": 1458,
    "start_time": "2022-09-15T04:53:52.024Z"
   },
   {
    "duration": 1646,
    "start_time": "2022-09-15T04:53:53.484Z"
   },
   {
    "duration": 5,
    "start_time": "2022-09-15T04:53:55.131Z"
   },
   {
    "duration": 10,
    "start_time": "2022-09-15T04:53:55.137Z"
   },
   {
    "duration": 8,
    "start_time": "2022-09-15T04:53:55.149Z"
   },
   {
    "duration": 4,
    "start_time": "2022-09-15T04:53:55.159Z"
   },
   {
    "duration": 5,
    "start_time": "2022-09-15T04:53:55.165Z"
   },
   {
    "duration": 51,
    "start_time": "2022-09-15T04:53:55.171Z"
   },
   {
    "duration": 98,
    "start_time": "2022-09-15T04:53:55.224Z"
   },
   {
    "duration": 427,
    "start_time": "2022-09-15T04:53:55.324Z"
   },
   {
    "duration": 8,
    "start_time": "2022-09-15T04:53:55.752Z"
   },
   {
    "duration": 3,
    "start_time": "2022-09-15T04:53:55.761Z"
   },
   {
    "duration": 11,
    "start_time": "2022-09-15T04:53:55.765Z"
   },
   {
    "duration": 43,
    "start_time": "2022-09-15T04:53:55.778Z"
   },
   {
    "duration": 9,
    "start_time": "2022-09-15T04:53:55.824Z"
   },
   {
    "duration": 416,
    "start_time": "2022-09-15T04:53:55.837Z"
   },
   {
    "duration": 8,
    "start_time": "2022-09-15T04:53:56.255Z"
   },
   {
    "duration": 7,
    "start_time": "2022-09-15T04:53:56.265Z"
   },
   {
    "duration": 588,
    "start_time": "2022-09-15T04:53:56.274Z"
   },
   {
    "duration": 116372,
    "start_time": "2022-09-15T04:53:56.864Z"
   },
   {
    "duration": 984,
    "start_time": "2022-09-15T04:55:53.237Z"
   },
   {
    "duration": 4,
    "start_time": "2022-09-15T04:55:54.223Z"
   },
   {
    "duration": 177,
    "start_time": "2022-09-15T04:55:54.228Z"
   },
   {
    "duration": 27,
    "start_time": "2022-09-15T04:55:54.407Z"
   },
   {
    "duration": 948,
    "start_time": "2022-09-15T04:55:54.436Z"
   },
   {
    "duration": 1693,
    "start_time": "2022-09-15T04:55:55.385Z"
   },
   {
    "duration": 7,
    "start_time": "2022-09-15T04:55:57.080Z"
   }
  ],
  "kernelspec": {
   "display_name": "Python 3 (ipykernel)",
   "language": "python",
   "name": "python3"
  },
  "language_info": {
   "codemirror_mode": {
    "name": "ipython",
    "version": 3
   },
   "file_extension": ".py",
   "mimetype": "text/x-python",
   "name": "python",
   "nbconvert_exporter": "python",
   "pygments_lexer": "ipython3",
   "version": "3.7.8"
  },
  "toc": {
   "base_numbering": 1,
   "nav_menu": {},
   "number_sections": true,
   "sideBar": true,
   "skip_h1_title": true,
   "title_cell": "Table of Contents",
   "title_sidebar": "Contents",
   "toc_cell": false,
   "toc_position": {
    "height": "calc(100% - 180px)",
    "left": "10px",
    "top": "150px",
    "width": "386.997px"
   },
   "toc_section_display": true,
   "toc_window_display": true
  }
 },
 "nbformat": 4,
 "nbformat_minor": 2
}
