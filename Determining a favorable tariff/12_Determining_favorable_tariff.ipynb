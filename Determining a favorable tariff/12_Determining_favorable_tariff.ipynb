{
 "cells": [
  {
   "cell_type": "markdown",
   "id": "d95f6fbd",
   "metadata": {},
   "source": [
    " **ОПРЕДЕЛЕНИЕ ПЕРСПЕКТИВНОГО ТАРИФА ДЛЯ ТЕЛЕКОМ-КОМПАНИИ**"
   ]
  },
  {
   "cell_type": "markdown",
   "id": "0d9e7ada",
   "metadata": {},
   "source": [
    "\n",
    " \n",
    "**Описание проекта**\n",
    "\n",
    "Компания «Мегалайн» — федеральный оператор сотовой связи. Клиентам предлагают два тарифных плана: «Смарт» и «Ультра». Чтобы скорректировать рекламный бюджет, коммерческий департамент хочет понять, какой тариф приносит больше денег.\n",
    "Необходимо предварительно проанализировать тарифы на небольшой выборке клиентов. В распоряжении данные 500 пользователей «Мегалайна»: кто они, откуда, каким тарифом пользуются, сколько звонков и сообщений каждый отправил за 2018 год. Необходимо проанализировать поведение клиентов и сделать вывод — какой тариф лучше.\n",
    "\n",
    "**Описание тарифов**\n",
    "\n",
    "* Тариф «Смарт» \n",
    "\n",
    "Ежемесячная плата: 550 рублей\n",
    "\n",
    "Включено 500 минут разговора, 50 сообщений и 15 Гб интернет-трафика\n",
    "\n",
    "Стоимость услуг сверх тарифного пакета:\n",
    "минута разговора: 3 рубля\n",
    "сообщение: 3 рубля\n",
    "\n",
    "1 Гб интернет-трафика: 200 рублей\n",
    "\n",
    "* Тариф «Ультра»\n",
    "\n",
    "Ежемесячная плата: 1950 рублей\n",
    "\n",
    "Включено 3000 минут разговора, 1000 сообщений и 30 Гб интернет-трафика\n",
    "\n",
    "Стоимость услуг сверх тарифного пакета:\n",
    "минута разговора: 1 рубль\n",
    "сообщение: 1 рубль\n",
    "\n",
    "1 Гб интернет-трафика: 150 рублей\n",
    "\n",
    "**Примечание**\n",
    "«Мегалайн» всегда округляет секунды до минут, а мегабайты — до гигабайт. Каждый звонок округляется отдельно: даже если он длился всего 1 секунду, будет засчитан как 1 минута.\n",
    "Для веб-трафика отдельные сессии не считаются. Вместо этого общая сумма за месяц округляется в бо́льшую сторону. Если абонент использует 1025 мегабайт в этом месяце, с него возьмут плату за 2 гигабайта. Примите, что неиспользованные за предыдущий месяц звонки, смс, интернет на следующий месяц не переносятся.\n",
    "\n",
    "**Цель исследования**\n",
    "\n",
    "* Описать поведение клиентов оператора, исходя из выборки. Сколько минут разговора, сколько сообщений и какой объём интернет-трафика требуется пользователям каждого тарифа в месяц? Посчитать среднее количество, дисперсию и стандартное отклонение. Построить гистограммы. Описать распределения.\n",
    "\n",
    "* Проверить гипотезы\n",
    "\n",
    "1. средняя выручка пользователей тарифов «Ультра» и «Смарт» различаются;\n",
    "\n",
    "2. средняя выручка пользователей из Москвы отличается от выручки пользователей из других регионов.\n",
    "\n",
    "**Ход исследования**  \n",
    "\n",
    "Исследование содержит следующие этапы:\n",
    "1. Изучение данных из файлов.  \n",
    "2. Предобработка данных.  \n",
    "    * 2.1 Обработка типов данных\n",
    "    * 2.2 Обработка дубликатов  \n",
    "3. Подготовка пользовательских данных\n",
    "3. Исследовательский анализ данных.\n",
    "4. Проверка гипотез.\n",
    "5. Общий вывод."
   ]
  },
  {
   "cell_type": "markdown",
   "id": "7119a11c",
   "metadata": {},
   "source": [
    "## Изучение данных из файла"
   ]
  },
  {
   "cell_type": "code",
   "execution_count": 1,
   "id": "73afaad9",
   "metadata": {},
   "outputs": [],
   "source": [
    "# импорт библиотек\n",
    "import pandas as pd\n",
    "import numpy as np\n",
    "import matplotlib.pyplot as plt\n",
    "import os\n",
    "from scipy import stats as st\n",
    "from datetime import datetime\n"
   ]
  },
  {
   "cell_type": "code",
   "execution_count": 2,
   "id": "0aa9da53",
   "metadata": {},
   "outputs": [],
   "source": [
    "# чтение файла calls.csv и сохранение в переменной calls\n",
    "if os.path.exists('/datasets/calls.csv'):\n",
    "    calls = pd.read_csv('/datasets/calls.csv', sep = ',')\n",
    "else:\n",
    "    calls = pd.read_csv('calls.csv', sep = ',')"
   ]
  },
  {
   "cell_type": "code",
   "execution_count": 3,
   "id": "8d1f27e7",
   "metadata": {},
   "outputs": [],
   "source": [
    "# чтение файла internet.csv и сохранение в переменной internet\n",
    "if os.path.exists('/datasets/internet.csv'):\n",
    "    internet = pd.read_csv('/datasets/internet.csv', sep = ',', index_col=0)\n",
    "else:\n",
    "    internet = pd.read_csv('internet.csv', sep = ',', index_col=0)"
   ]
  },
  {
   "cell_type": "code",
   "execution_count": 4,
   "id": "64f1ce17",
   "metadata": {},
   "outputs": [],
   "source": [
    "# чтение файла messages.csv и сохранение в переменной messages\n",
    "if os.path.exists('/datasets/messages.csv'):\n",
    "    messages = pd.read_csv('/datasets/messages.csv', sep = ',')\n",
    "else:\n",
    "    messages = pd.read_csv('messages.csv', sep = ',')"
   ]
  },
  {
   "cell_type": "code",
   "execution_count": 5,
   "id": "23a0dc17",
   "metadata": {},
   "outputs": [],
   "source": [
    "# чтение файла tariffs.csv и сохранение в переменной tariffs\n",
    "if os.path.exists('/datasets/tariffs.csv'):\n",
    "    tariffs = pd.read_csv('/datasets/tariffs.csv', sep = ',')\n",
    "else:\n",
    "    tariffs = pd.read_csv('tariffs.csv', sep = ',')"
   ]
  },
  {
   "cell_type": "code",
   "execution_count": 6,
   "id": "2983233f",
   "metadata": {},
   "outputs": [],
   "source": [
    "# чтение файла users.csv и сохранение в переменной users\n",
    "if os.path.exists('/datasets/users.csv'):\n",
    "    users = pd.read_csv('/datasets/users.csv', sep = ',')\n",
    "else:\n",
    "    users = pd.read_csv('users.csv', sep = ',')"
   ]
  },
  {
   "cell_type": "code",
   "execution_count": 7,
   "id": "0eb5dc9d",
   "metadata": {},
   "outputs": [
    {
     "data": {
      "text/html": [
       "<div>\n",
       "<style scoped>\n",
       "    .dataframe tbody tr th:only-of-type {\n",
       "        vertical-align: middle;\n",
       "    }\n",
       "\n",
       "    .dataframe tbody tr th {\n",
       "        vertical-align: top;\n",
       "    }\n",
       "\n",
       "    .dataframe thead th {\n",
       "        text-align: right;\n",
       "    }\n",
       "</style>\n",
       "<table border=\"1\" class=\"dataframe\">\n",
       "  <thead>\n",
       "    <tr style=\"text-align: right;\">\n",
       "      <th></th>\n",
       "      <th>id</th>\n",
       "      <th>call_date</th>\n",
       "      <th>duration</th>\n",
       "      <th>user_id</th>\n",
       "    </tr>\n",
       "  </thead>\n",
       "  <tbody>\n",
       "    <tr>\n",
       "      <th>0</th>\n",
       "      <td>1000_0</td>\n",
       "      <td>2018-07-25</td>\n",
       "      <td>0.00</td>\n",
       "      <td>1000</td>\n",
       "    </tr>\n",
       "    <tr>\n",
       "      <th>1</th>\n",
       "      <td>1000_1</td>\n",
       "      <td>2018-08-17</td>\n",
       "      <td>0.00</td>\n",
       "      <td>1000</td>\n",
       "    </tr>\n",
       "    <tr>\n",
       "      <th>2</th>\n",
       "      <td>1000_2</td>\n",
       "      <td>2018-06-11</td>\n",
       "      <td>2.85</td>\n",
       "      <td>1000</td>\n",
       "    </tr>\n",
       "    <tr>\n",
       "      <th>3</th>\n",
       "      <td>1000_3</td>\n",
       "      <td>2018-09-21</td>\n",
       "      <td>13.80</td>\n",
       "      <td>1000</td>\n",
       "    </tr>\n",
       "    <tr>\n",
       "      <th>4</th>\n",
       "      <td>1000_4</td>\n",
       "      <td>2018-12-15</td>\n",
       "      <td>5.18</td>\n",
       "      <td>1000</td>\n",
       "    </tr>\n",
       "  </tbody>\n",
       "</table>\n",
       "</div>"
      ],
      "text/plain": [
       "       id   call_date  duration  user_id\n",
       "0  1000_0  2018-07-25      0.00     1000\n",
       "1  1000_1  2018-08-17      0.00     1000\n",
       "2  1000_2  2018-06-11      2.85     1000\n",
       "3  1000_3  2018-09-21     13.80     1000\n",
       "4  1000_4  2018-12-15      5.18     1000"
      ]
     },
     "execution_count": 7,
     "metadata": {},
     "output_type": "execute_result"
    }
   ],
   "source": [
    "# просмотр первых пяти строк таблицы calls\n",
    "calls.head()"
   ]
  },
  {
   "cell_type": "code",
   "execution_count": 8,
   "id": "a73a3076",
   "metadata": {},
   "outputs": [
    {
     "name": "stdout",
     "output_type": "stream",
     "text": [
      "<class 'pandas.core.frame.DataFrame'>\n",
      "RangeIndex: 202607 entries, 0 to 202606\n",
      "Data columns (total 4 columns):\n",
      " #   Column     Non-Null Count   Dtype  \n",
      "---  ------     --------------   -----  \n",
      " 0   id         202607 non-null  object \n",
      " 1   call_date  202607 non-null  object \n",
      " 2   duration   202607 non-null  float64\n",
      " 3   user_id    202607 non-null  int64  \n",
      "dtypes: float64(1), int64(1), object(2)\n",
      "memory usage: 6.2+ MB\n"
     ]
    }
   ],
   "source": [
    "# получение общей информации о данных в таблице calls\n",
    "calls.info()"
   ]
  },
  {
   "cell_type": "markdown",
   "id": "0b586db7",
   "metadata": {},
   "source": [
    "В таблице 4 столбцов.\n",
    "\n",
    "Согласно документации к данным:\n",
    "* id — уникальный номер звонка\n",
    "* call_date — дата звонка\n",
    "* duration — длительность звонка в минутах\n",
    "* user_id — идентификатор пользователя, сделавшего звонок"
   ]
  },
  {
   "cell_type": "code",
   "execution_count": 9,
   "id": "bbd569de",
   "metadata": {},
   "outputs": [
    {
     "data": {
      "text/plain": [
       "count    202607.000000\n",
       "mean          6.755887\n",
       "std           5.843365\n",
       "min           0.000000\n",
       "25%           1.300000\n",
       "50%           6.000000\n",
       "75%          10.700000\n",
       "max          38.000000\n",
       "Name: duration, dtype: float64"
      ]
     },
     "execution_count": 9,
     "metadata": {},
     "output_type": "execute_result"
    }
   ],
   "source": [
    "# посмотрим на столбец 'duration' в таблице calls при помощи describe\n",
    "calls['duration'].describe() "
   ]
  },
  {
   "cell_type": "markdown",
   "id": "0ca1d354",
   "metadata": {},
   "source": [
    "Длительность звонков в пределах нормы. Среднее с медианой имеют не большие различия."
   ]
  },
  {
   "cell_type": "code",
   "execution_count": 10,
   "id": "9fb80ff3",
   "metadata": {},
   "outputs": [
    {
     "data": {
      "text/html": [
       "<div>\n",
       "<style scoped>\n",
       "    .dataframe tbody tr th:only-of-type {\n",
       "        vertical-align: middle;\n",
       "    }\n",
       "\n",
       "    .dataframe tbody tr th {\n",
       "        vertical-align: top;\n",
       "    }\n",
       "\n",
       "    .dataframe thead th {\n",
       "        text-align: right;\n",
       "    }\n",
       "</style>\n",
       "<table border=\"1\" class=\"dataframe\">\n",
       "  <thead>\n",
       "    <tr style=\"text-align: right;\">\n",
       "      <th></th>\n",
       "      <th>id</th>\n",
       "      <th>mb_used</th>\n",
       "      <th>session_date</th>\n",
       "      <th>user_id</th>\n",
       "    </tr>\n",
       "  </thead>\n",
       "  <tbody>\n",
       "    <tr>\n",
       "      <th>0</th>\n",
       "      <td>1000_0</td>\n",
       "      <td>112.95</td>\n",
       "      <td>2018-11-25</td>\n",
       "      <td>1000</td>\n",
       "    </tr>\n",
       "    <tr>\n",
       "      <th>1</th>\n",
       "      <td>1000_1</td>\n",
       "      <td>1052.81</td>\n",
       "      <td>2018-09-07</td>\n",
       "      <td>1000</td>\n",
       "    </tr>\n",
       "    <tr>\n",
       "      <th>2</th>\n",
       "      <td>1000_2</td>\n",
       "      <td>1197.26</td>\n",
       "      <td>2018-06-25</td>\n",
       "      <td>1000</td>\n",
       "    </tr>\n",
       "    <tr>\n",
       "      <th>3</th>\n",
       "      <td>1000_3</td>\n",
       "      <td>550.27</td>\n",
       "      <td>2018-08-22</td>\n",
       "      <td>1000</td>\n",
       "    </tr>\n",
       "    <tr>\n",
       "      <th>4</th>\n",
       "      <td>1000_4</td>\n",
       "      <td>302.56</td>\n",
       "      <td>2018-09-24</td>\n",
       "      <td>1000</td>\n",
       "    </tr>\n",
       "  </tbody>\n",
       "</table>\n",
       "</div>"
      ],
      "text/plain": [
       "       id  mb_used session_date  user_id\n",
       "0  1000_0   112.95   2018-11-25     1000\n",
       "1  1000_1  1052.81   2018-09-07     1000\n",
       "2  1000_2  1197.26   2018-06-25     1000\n",
       "3  1000_3   550.27   2018-08-22     1000\n",
       "4  1000_4   302.56   2018-09-24     1000"
      ]
     },
     "execution_count": 10,
     "metadata": {},
     "output_type": "execute_result"
    }
   ],
   "source": [
    "# просмотр первых пяти строк таблицы internet\n",
    "internet.head()"
   ]
  },
  {
   "cell_type": "code",
   "execution_count": 11,
   "id": "9886351b",
   "metadata": {},
   "outputs": [
    {
     "name": "stdout",
     "output_type": "stream",
     "text": [
      "<class 'pandas.core.frame.DataFrame'>\n",
      "Int64Index: 149396 entries, 0 to 149395\n",
      "Data columns (total 4 columns):\n",
      " #   Column        Non-Null Count   Dtype  \n",
      "---  ------        --------------   -----  \n",
      " 0   id            149396 non-null  object \n",
      " 1   mb_used       149396 non-null  float64\n",
      " 2   session_date  149396 non-null  object \n",
      " 3   user_id       149396 non-null  int64  \n",
      "dtypes: float64(1), int64(1), object(2)\n",
      "memory usage: 5.7+ MB\n"
     ]
    }
   ],
   "source": [
    "# получение общей информации о данных в таблице internet\n",
    "internet.info()"
   ]
  },
  {
   "cell_type": "markdown",
   "id": "e0dc9e49",
   "metadata": {},
   "source": [
    "В таблице 4 столбцов.\n",
    "\n",
    "Согласно документации к данным:\n",
    "* id — уникальный номер сессии\n",
    "* mb_used — объём потраченного за сессию интернет-трафика (в мегабайтах)\n",
    "* session_date — дата интернет-сессии\n",
    "* user_id — идентификатор пользователя"
   ]
  },
  {
   "cell_type": "code",
   "execution_count": 12,
   "id": "8dba640b",
   "metadata": {},
   "outputs": [
    {
     "data": {
      "text/plain": [
       "count    149396.000000\n",
       "mean        370.192426\n",
       "std         278.300951\n",
       "min           0.000000\n",
       "25%         138.187500\n",
       "50%         348.015000\n",
       "75%         559.552500\n",
       "max        1724.830000\n",
       "Name: mb_used, dtype: float64"
      ]
     },
     "execution_count": 12,
     "metadata": {},
     "output_type": "execute_result"
    }
   ],
   "source": [
    "# посмотрим на столбец 'mb_used' в таблице internet при помощи describe\n",
    "internet['mb_used'].describe() "
   ]
  },
  {
   "cell_type": "markdown",
   "id": "8acbc764",
   "metadata": {},
   "source": [
    "Все значения в пределах нормы."
   ]
  },
  {
   "cell_type": "code",
   "execution_count": 13,
   "id": "c8f99696",
   "metadata": {},
   "outputs": [
    {
     "data": {
      "text/html": [
       "<div>\n",
       "<style scoped>\n",
       "    .dataframe tbody tr th:only-of-type {\n",
       "        vertical-align: middle;\n",
       "    }\n",
       "\n",
       "    .dataframe tbody tr th {\n",
       "        vertical-align: top;\n",
       "    }\n",
       "\n",
       "    .dataframe thead th {\n",
       "        text-align: right;\n",
       "    }\n",
       "</style>\n",
       "<table border=\"1\" class=\"dataframe\">\n",
       "  <thead>\n",
       "    <tr style=\"text-align: right;\">\n",
       "      <th></th>\n",
       "      <th>id</th>\n",
       "      <th>message_date</th>\n",
       "      <th>user_id</th>\n",
       "    </tr>\n",
       "  </thead>\n",
       "  <tbody>\n",
       "    <tr>\n",
       "      <th>0</th>\n",
       "      <td>1000_0</td>\n",
       "      <td>2018-06-27</td>\n",
       "      <td>1000</td>\n",
       "    </tr>\n",
       "    <tr>\n",
       "      <th>1</th>\n",
       "      <td>1000_1</td>\n",
       "      <td>2018-10-08</td>\n",
       "      <td>1000</td>\n",
       "    </tr>\n",
       "    <tr>\n",
       "      <th>2</th>\n",
       "      <td>1000_2</td>\n",
       "      <td>2018-08-04</td>\n",
       "      <td>1000</td>\n",
       "    </tr>\n",
       "    <tr>\n",
       "      <th>3</th>\n",
       "      <td>1000_3</td>\n",
       "      <td>2018-06-16</td>\n",
       "      <td>1000</td>\n",
       "    </tr>\n",
       "    <tr>\n",
       "      <th>4</th>\n",
       "      <td>1000_4</td>\n",
       "      <td>2018-12-05</td>\n",
       "      <td>1000</td>\n",
       "    </tr>\n",
       "  </tbody>\n",
       "</table>\n",
       "</div>"
      ],
      "text/plain": [
       "       id message_date  user_id\n",
       "0  1000_0   2018-06-27     1000\n",
       "1  1000_1   2018-10-08     1000\n",
       "2  1000_2   2018-08-04     1000\n",
       "3  1000_3   2018-06-16     1000\n",
       "4  1000_4   2018-12-05     1000"
      ]
     },
     "execution_count": 13,
     "metadata": {},
     "output_type": "execute_result"
    }
   ],
   "source": [
    "# просмотр первых пяти строк таблицы messages\n",
    "messages.head()"
   ]
  },
  {
   "cell_type": "code",
   "execution_count": 14,
   "id": "bba6affd",
   "metadata": {},
   "outputs": [
    {
     "name": "stdout",
     "output_type": "stream",
     "text": [
      "<class 'pandas.core.frame.DataFrame'>\n",
      "RangeIndex: 123036 entries, 0 to 123035\n",
      "Data columns (total 3 columns):\n",
      " #   Column        Non-Null Count   Dtype \n",
      "---  ------        --------------   ----- \n",
      " 0   id            123036 non-null  object\n",
      " 1   message_date  123036 non-null  object\n",
      " 2   user_id       123036 non-null  int64 \n",
      "dtypes: int64(1), object(2)\n",
      "memory usage: 2.8+ MB\n"
     ]
    }
   ],
   "source": [
    "# получение общей информации о данных в таблице messages\n",
    "messages.info()"
   ]
  },
  {
   "cell_type": "markdown",
   "id": "a5f1074a",
   "metadata": {},
   "source": [
    "В таблице 3 столбцов.\n",
    "\n",
    "Согласно документации к данным:\n",
    "* id — уникальный номер сообщения\n",
    "* message_date — дата сообщения\n",
    "* user_id — идентификатор пользователя, отправившего сообщение"
   ]
  },
  {
   "cell_type": "code",
   "execution_count": 15,
   "id": "41d44bfb",
   "metadata": {},
   "outputs": [
    {
     "data": {
      "text/html": [
       "<div>\n",
       "<style scoped>\n",
       "    .dataframe tbody tr th:only-of-type {\n",
       "        vertical-align: middle;\n",
       "    }\n",
       "\n",
       "    .dataframe tbody tr th {\n",
       "        vertical-align: top;\n",
       "    }\n",
       "\n",
       "    .dataframe thead th {\n",
       "        text-align: right;\n",
       "    }\n",
       "</style>\n",
       "<table border=\"1\" class=\"dataframe\">\n",
       "  <thead>\n",
       "    <tr style=\"text-align: right;\">\n",
       "      <th></th>\n",
       "      <th>messages_included</th>\n",
       "      <th>mb_per_month_included</th>\n",
       "      <th>minutes_included</th>\n",
       "      <th>rub_monthly_fee</th>\n",
       "      <th>rub_per_gb</th>\n",
       "      <th>rub_per_message</th>\n",
       "      <th>rub_per_minute</th>\n",
       "      <th>tariff_name</th>\n",
       "    </tr>\n",
       "  </thead>\n",
       "  <tbody>\n",
       "    <tr>\n",
       "      <th>0</th>\n",
       "      <td>50</td>\n",
       "      <td>15360</td>\n",
       "      <td>500</td>\n",
       "      <td>550</td>\n",
       "      <td>200</td>\n",
       "      <td>3</td>\n",
       "      <td>3</td>\n",
       "      <td>smart</td>\n",
       "    </tr>\n",
       "    <tr>\n",
       "      <th>1</th>\n",
       "      <td>1000</td>\n",
       "      <td>30720</td>\n",
       "      <td>3000</td>\n",
       "      <td>1950</td>\n",
       "      <td>150</td>\n",
       "      <td>1</td>\n",
       "      <td>1</td>\n",
       "      <td>ultra</td>\n",
       "    </tr>\n",
       "  </tbody>\n",
       "</table>\n",
       "</div>"
      ],
      "text/plain": [
       "   messages_included  mb_per_month_included  minutes_included  \\\n",
       "0                 50                  15360               500   \n",
       "1               1000                  30720              3000   \n",
       "\n",
       "   rub_monthly_fee  rub_per_gb  rub_per_message  rub_per_minute tariff_name  \n",
       "0              550         200                3               3       smart  \n",
       "1             1950         150                1               1       ultra  "
      ]
     },
     "execution_count": 15,
     "metadata": {},
     "output_type": "execute_result"
    }
   ],
   "source": [
    "# просмотр таблицы tariffs\n",
    "tariffs"
   ]
  },
  {
   "cell_type": "code",
   "execution_count": 16,
   "id": "6cfb8743",
   "metadata": {},
   "outputs": [
    {
     "name": "stdout",
     "output_type": "stream",
     "text": [
      "<class 'pandas.core.frame.DataFrame'>\n",
      "RangeIndex: 2 entries, 0 to 1\n",
      "Data columns (total 8 columns):\n",
      " #   Column                 Non-Null Count  Dtype \n",
      "---  ------                 --------------  ----- \n",
      " 0   messages_included      2 non-null      int64 \n",
      " 1   mb_per_month_included  2 non-null      int64 \n",
      " 2   minutes_included       2 non-null      int64 \n",
      " 3   rub_monthly_fee        2 non-null      int64 \n",
      " 4   rub_per_gb             2 non-null      int64 \n",
      " 5   rub_per_message        2 non-null      int64 \n",
      " 6   rub_per_minute         2 non-null      int64 \n",
      " 7   tariff_name            2 non-null      object\n",
      "dtypes: int64(7), object(1)\n",
      "memory usage: 256.0+ bytes\n"
     ]
    }
   ],
   "source": [
    "# получение общей информации о данных в таблице tariffs\n",
    "tariffs.info()"
   ]
  },
  {
   "cell_type": "markdown",
   "id": "0598eb4c",
   "metadata": {},
   "source": [
    "В таблице 8 столбцов.\n",
    "\n",
    "Согласно документации к данным:\n",
    "* tariff_name — название тарифа\n",
    "* rub_monthly_fee — ежемесячная абонентская плата в рублях\n",
    "* minutes_included — количество минут разговора в месяц, включённых в абонентскую плату\n",
    "* messages_included — количество сообщений в месяц, включённых в абонентскую плату\n",
    "* mb_per_month_included — объём интернет-трафика, включённого в абонентскую плату (в мегабайтах)\n",
    "* rub_per_minute — стоимость минуты разговора сверх тарифного пакета (например, если в тарифе 100 минут разговора в месяц, то со 101 минуты будет взиматься плата)\n",
    "* rub_per_message — стоимость отправки сообщения сверх тарифного пакета\n",
    "* rub_per_gb — стоимость дополнительного гигабайта интернет-трафика сверх тарифного пакета (1 гигабайт = 1024 мегабайта)\n"
   ]
  },
  {
   "cell_type": "code",
   "execution_count": 17,
   "id": "eb4abf98",
   "metadata": {},
   "outputs": [
    {
     "data": {
      "text/html": [
       "<div>\n",
       "<style scoped>\n",
       "    .dataframe tbody tr th:only-of-type {\n",
       "        vertical-align: middle;\n",
       "    }\n",
       "\n",
       "    .dataframe tbody tr th {\n",
       "        vertical-align: top;\n",
       "    }\n",
       "\n",
       "    .dataframe thead th {\n",
       "        text-align: right;\n",
       "    }\n",
       "</style>\n",
       "<table border=\"1\" class=\"dataframe\">\n",
       "  <thead>\n",
       "    <tr style=\"text-align: right;\">\n",
       "      <th></th>\n",
       "      <th>messages_included</th>\n",
       "      <th>mb_per_month_included</th>\n",
       "      <th>minutes_included</th>\n",
       "      <th>rub_monthly_fee</th>\n",
       "      <th>rub_per_gb</th>\n",
       "      <th>rub_per_message</th>\n",
       "      <th>rub_per_minute</th>\n",
       "      <th>tariff_name</th>\n",
       "    </tr>\n",
       "  </thead>\n",
       "  <tbody>\n",
       "    <tr>\n",
       "      <th>0</th>\n",
       "      <td>50</td>\n",
       "      <td>15.0</td>\n",
       "      <td>500</td>\n",
       "      <td>550</td>\n",
       "      <td>200</td>\n",
       "      <td>3</td>\n",
       "      <td>3</td>\n",
       "      <td>smart</td>\n",
       "    </tr>\n",
       "    <tr>\n",
       "      <th>1</th>\n",
       "      <td>1000</td>\n",
       "      <td>30.0</td>\n",
       "      <td>3000</td>\n",
       "      <td>1950</td>\n",
       "      <td>150</td>\n",
       "      <td>1</td>\n",
       "      <td>1</td>\n",
       "      <td>ultra</td>\n",
       "    </tr>\n",
       "  </tbody>\n",
       "</table>\n",
       "</div>"
      ],
      "text/plain": [
       "   messages_included  mb_per_month_included  minutes_included  \\\n",
       "0                 50                   15.0               500   \n",
       "1               1000                   30.0              3000   \n",
       "\n",
       "   rub_monthly_fee  rub_per_gb  rub_per_message  rub_per_minute tariff_name  \n",
       "0              550         200                3               3       smart  \n",
       "1             1950         150                1               1       ultra  "
      ]
     },
     "execution_count": 17,
     "metadata": {},
     "output_type": "execute_result"
    }
   ],
   "source": [
    "# переведем объём интернет-трафика в гигабайты\n",
    "tariffs['mb_per_month_included'] = tariffs['mb_per_month_included']/1024\n",
    "tariffs"
   ]
  },
  {
   "cell_type": "code",
   "execution_count": 18,
   "id": "c686d8d8",
   "metadata": {},
   "outputs": [
    {
     "data": {
      "text/html": [
       "<div>\n",
       "<style scoped>\n",
       "    .dataframe tbody tr th:only-of-type {\n",
       "        vertical-align: middle;\n",
       "    }\n",
       "\n",
       "    .dataframe tbody tr th {\n",
       "        vertical-align: top;\n",
       "    }\n",
       "\n",
       "    .dataframe thead th {\n",
       "        text-align: right;\n",
       "    }\n",
       "</style>\n",
       "<table border=\"1\" class=\"dataframe\">\n",
       "  <thead>\n",
       "    <tr style=\"text-align: right;\">\n",
       "      <th></th>\n",
       "      <th>user_id</th>\n",
       "      <th>age</th>\n",
       "      <th>churn_date</th>\n",
       "      <th>city</th>\n",
       "      <th>first_name</th>\n",
       "      <th>last_name</th>\n",
       "      <th>reg_date</th>\n",
       "      <th>tariff</th>\n",
       "    </tr>\n",
       "  </thead>\n",
       "  <tbody>\n",
       "    <tr>\n",
       "      <th>0</th>\n",
       "      <td>1000</td>\n",
       "      <td>52</td>\n",
       "      <td>NaN</td>\n",
       "      <td>Краснодар</td>\n",
       "      <td>Рафаил</td>\n",
       "      <td>Верещагин</td>\n",
       "      <td>2018-05-25</td>\n",
       "      <td>ultra</td>\n",
       "    </tr>\n",
       "    <tr>\n",
       "      <th>1</th>\n",
       "      <td>1001</td>\n",
       "      <td>41</td>\n",
       "      <td>NaN</td>\n",
       "      <td>Москва</td>\n",
       "      <td>Иван</td>\n",
       "      <td>Ежов</td>\n",
       "      <td>2018-11-01</td>\n",
       "      <td>smart</td>\n",
       "    </tr>\n",
       "    <tr>\n",
       "      <th>2</th>\n",
       "      <td>1002</td>\n",
       "      <td>59</td>\n",
       "      <td>NaN</td>\n",
       "      <td>Стерлитамак</td>\n",
       "      <td>Евгений</td>\n",
       "      <td>Абрамович</td>\n",
       "      <td>2018-06-17</td>\n",
       "      <td>smart</td>\n",
       "    </tr>\n",
       "    <tr>\n",
       "      <th>3</th>\n",
       "      <td>1003</td>\n",
       "      <td>23</td>\n",
       "      <td>NaN</td>\n",
       "      <td>Москва</td>\n",
       "      <td>Белла</td>\n",
       "      <td>Белякова</td>\n",
       "      <td>2018-08-17</td>\n",
       "      <td>ultra</td>\n",
       "    </tr>\n",
       "    <tr>\n",
       "      <th>4</th>\n",
       "      <td>1004</td>\n",
       "      <td>68</td>\n",
       "      <td>NaN</td>\n",
       "      <td>Новокузнецк</td>\n",
       "      <td>Татьяна</td>\n",
       "      <td>Авдеенко</td>\n",
       "      <td>2018-05-14</td>\n",
       "      <td>ultra</td>\n",
       "    </tr>\n",
       "  </tbody>\n",
       "</table>\n",
       "</div>"
      ],
      "text/plain": [
       "   user_id  age churn_date         city first_name  last_name    reg_date  \\\n",
       "0     1000   52        NaN    Краснодар     Рафаил  Верещагин  2018-05-25   \n",
       "1     1001   41        NaN       Москва       Иван       Ежов  2018-11-01   \n",
       "2     1002   59        NaN  Стерлитамак    Евгений  Абрамович  2018-06-17   \n",
       "3     1003   23        NaN       Москва      Белла   Белякова  2018-08-17   \n",
       "4     1004   68        NaN  Новокузнецк    Татьяна   Авдеенко  2018-05-14   \n",
       "\n",
       "  tariff  \n",
       "0  ultra  \n",
       "1  smart  \n",
       "2  smart  \n",
       "3  ultra  \n",
       "4  ultra  "
      ]
     },
     "execution_count": 18,
     "metadata": {},
     "output_type": "execute_result"
    }
   ],
   "source": [
    "# просмотр первых пяти строк таблицы второй таблицы users\n",
    "users.head()"
   ]
  },
  {
   "cell_type": "code",
   "execution_count": 19,
   "id": "6cef05f7",
   "metadata": {},
   "outputs": [
    {
     "name": "stdout",
     "output_type": "stream",
     "text": [
      "<class 'pandas.core.frame.DataFrame'>\n",
      "RangeIndex: 500 entries, 0 to 499\n",
      "Data columns (total 8 columns):\n",
      " #   Column      Non-Null Count  Dtype \n",
      "---  ------      --------------  ----- \n",
      " 0   user_id     500 non-null    int64 \n",
      " 1   age         500 non-null    int64 \n",
      " 2   churn_date  38 non-null     object\n",
      " 3   city        500 non-null    object\n",
      " 4   first_name  500 non-null    object\n",
      " 5   last_name   500 non-null    object\n",
      " 6   reg_date    500 non-null    object\n",
      " 7   tariff      500 non-null    object\n",
      "dtypes: int64(2), object(6)\n",
      "memory usage: 31.4+ KB\n"
     ]
    }
   ],
   "source": [
    "# получение общей информации о данных в таблице users\n",
    "users.info()"
   ]
  },
  {
   "cell_type": "markdown",
   "id": "62984a70",
   "metadata": {},
   "source": [
    "В таблице 8 столбцов.\n",
    "\n",
    "Согласно документации к данным:\n",
    "* user_id — уникальный идентификатор пользователя\n",
    "* first_name — имя пользователя\n",
    "* last_name — фамилия пользователя\n",
    "* age — возраст пользователя (годы)\n",
    "* reg_date — дата подключения тарифа (день, месяц, год)\n",
    "* churn_date — дата прекращения пользования тарифом \n",
    "* city — город проживания пользователя\n",
    "* tariff — название тарифного плана"
   ]
  },
  {
   "cell_type": "code",
   "execution_count": 20,
   "id": "4c464e2e",
   "metadata": {},
   "outputs": [
    {
     "data": {
      "text/plain": [
       "count    500.00000\n",
       "mean      46.58800\n",
       "std       16.66763\n",
       "min       18.00000\n",
       "25%       32.00000\n",
       "50%       46.00000\n",
       "75%       62.00000\n",
       "max       75.00000\n",
       "Name: age, dtype: float64"
      ]
     },
     "execution_count": 20,
     "metadata": {},
     "output_type": "execute_result"
    }
   ],
   "source": [
    "# посмотрим на столбец 'age' в таблице users при помощи describe\n",
    "users['age'].describe() "
   ]
  },
  {
   "cell_type": "markdown",
   "id": "173f9f58",
   "metadata": {},
   "source": [
    "Аномалий в возрасте не наблюдается."
   ]
  },
  {
   "cell_type": "markdown",
   "id": "b4dd6376",
   "metadata": {},
   "source": [
    "### Вывод\n",
    "* Во всех таблицах пропусков нет. В таблице users в столбце churn_date, если значение пропущено, это значит, что тариф ещё действовал на момент выгрузки данных. \n",
    "* Во всех таблицах, столбцы с датами имеют тип object, его необходимо заменит на datetime."
   ]
  },
  {
   "cell_type": "markdown",
   "id": "e02f247e",
   "metadata": {},
   "source": [
    "##  Предобработка данных"
   ]
  },
  {
   "cell_type": "markdown",
   "id": "65c76098",
   "metadata": {},
   "source": [
    "### Обработка типов данных"
   ]
  },
  {
   "cell_type": "code",
   "execution_count": 21,
   "id": "26176c62",
   "metadata": {},
   "outputs": [],
   "source": [
    "# заменяем тип данных на datetime в столбце с датами во всех таблицах\n",
    "calls['call_date'] = pd.to_datetime(calls['call_date'], format='%Y-%m-%d %H:%M:%S')\n",
    "internet['session_date'] = pd.to_datetime(internet['session_date'], format='%Y-%m-%d %H:%M:%S')\n",
    "messages['message_date'] = pd.to_datetime(messages['message_date'], format='%Y-%m-%d %H:%M:%S')\n",
    "users['reg_date'] = pd.to_datetime(users['reg_date'], format='%Y-%m-%d %H:%M:%S')\n",
    "users['churn_date'] = pd.to_datetime(users['churn_date'], format='%Y-%m-%d %H:%M:%S')"
   ]
  },
  {
   "cell_type": "code",
   "execution_count": 22,
   "id": "69d27faa",
   "metadata": {},
   "outputs": [
    {
     "name": "stdout",
     "output_type": "stream",
     "text": [
      "<class 'pandas.core.frame.DataFrame'>\n",
      "RangeIndex: 202607 entries, 0 to 202606\n",
      "Data columns (total 4 columns):\n",
      " #   Column     Non-Null Count   Dtype         \n",
      "---  ------     --------------   -----         \n",
      " 0   id         202607 non-null  object        \n",
      " 1   call_date  202607 non-null  datetime64[ns]\n",
      " 2   duration   202607 non-null  float64       \n",
      " 3   user_id    202607 non-null  int64         \n",
      "dtypes: datetime64[ns](1), float64(1), int64(1), object(1)\n",
      "memory usage: 6.2+ MB\n",
      "\n",
      "<class 'pandas.core.frame.DataFrame'>\n",
      "Int64Index: 149396 entries, 0 to 149395\n",
      "Data columns (total 4 columns):\n",
      " #   Column        Non-Null Count   Dtype         \n",
      "---  ------        --------------   -----         \n",
      " 0   id            149396 non-null  object        \n",
      " 1   mb_used       149396 non-null  float64       \n",
      " 2   session_date  149396 non-null  datetime64[ns]\n",
      " 3   user_id       149396 non-null  int64         \n",
      "dtypes: datetime64[ns](1), float64(1), int64(1), object(1)\n",
      "memory usage: 5.7+ MB\n",
      "\n",
      "<class 'pandas.core.frame.DataFrame'>\n",
      "RangeIndex: 123036 entries, 0 to 123035\n",
      "Data columns (total 3 columns):\n",
      " #   Column        Non-Null Count   Dtype         \n",
      "---  ------        --------------   -----         \n",
      " 0   id            123036 non-null  object        \n",
      " 1   message_date  123036 non-null  datetime64[ns]\n",
      " 2   user_id       123036 non-null  int64         \n",
      "dtypes: datetime64[ns](1), int64(1), object(1)\n",
      "memory usage: 2.8+ MB\n",
      "\n",
      "<class 'pandas.core.frame.DataFrame'>\n",
      "RangeIndex: 500 entries, 0 to 499\n",
      "Data columns (total 8 columns):\n",
      " #   Column      Non-Null Count  Dtype         \n",
      "---  ------      --------------  -----         \n",
      " 0   user_id     500 non-null    int64         \n",
      " 1   age         500 non-null    int64         \n",
      " 2   churn_date  38 non-null     datetime64[ns]\n",
      " 3   city        500 non-null    object        \n",
      " 4   first_name  500 non-null    object        \n",
      " 5   last_name   500 non-null    object        \n",
      " 6   reg_date    500 non-null    datetime64[ns]\n",
      " 7   tariff      500 non-null    object        \n",
      "dtypes: datetime64[ns](2), int64(2), object(4)\n",
      "memory usage: 31.4+ KB\n",
      "\n"
     ]
    }
   ],
   "source": [
    "# проверим правильно ли изменился тип данных у столбцов с датами\n",
    "for i in calls, internet, messages, users:\n",
    "    i.info()\n",
    "    print()"
   ]
  },
  {
   "cell_type": "markdown",
   "id": "c0cef53b",
   "metadata": {},
   "source": [
    "### Обработка дубликатов"
   ]
  },
  {
   "cell_type": "code",
   "execution_count": 23,
   "id": "6fb6a677",
   "metadata": {},
   "outputs": [
    {
     "name": "stdout",
     "output_type": "stream",
     "text": [
      "0\n",
      "\n",
      "0\n",
      "\n",
      "0\n",
      "\n",
      "0\n",
      "\n"
     ]
    }
   ],
   "source": [
    "#посмотрим с помощью метода duplicated(), есть ли явные дубликаты в таблицах с данными\n",
    "for df in calls, internet, messages, users:\n",
    "    print(df.duplicated().sum())\n",
    "    print()"
   ]
  },
  {
   "cell_type": "code",
   "execution_count": 24,
   "id": "15e9e957",
   "metadata": {},
   "outputs": [
    {
     "data": {
      "text/plain": [
       "0"
      ]
     },
     "execution_count": 24,
     "metadata": {},
     "output_type": "execute_result"
    }
   ],
   "source": [
    "# проверим на наличие дубликатов столбца с user_id в таблице users\n",
    "users['user_id'].duplicated().sum()"
   ]
  },
  {
   "cell_type": "code",
   "execution_count": 25,
   "id": "bee8f999",
   "metadata": {},
   "outputs": [
    {
     "data": {
      "text/plain": [
       "array(['Краснодар', 'Москва', 'Стерлитамак', 'Новокузнецк',\n",
       "       'Набережные Челны', 'Ульяновск', 'Челябинск', 'Пермь', 'Тюмень',\n",
       "       'Самара', 'Санкт-Петербург', 'Иваново', 'Чебоксары', 'Омск', 'Уфа',\n",
       "       'Томск', 'Чита', 'Мурманск', 'Петрозаводск', 'Тверь',\n",
       "       'Екатеринбург', 'Махачкала', 'Вологда', 'Череповец', 'Ярославль',\n",
       "       'Сочи', 'Хабаровск', 'Ставрополь', 'Рязань', 'Улан-Удэ', 'Тула',\n",
       "       'Саратов', 'Ростов-на-Дону', 'Казань', 'Иркутск', 'Курск',\n",
       "       'Калуга', 'Якутск', 'Астрахань', 'Химки', 'Владикавказ',\n",
       "       'Волгоград', 'Саранск', 'Ижевск', 'Новосибирск', 'Брянск',\n",
       "       'Тольятти', 'Нижний Тагил', 'Орёл', 'Белгород', 'Воронеж',\n",
       "       'Волжский', 'Курган', 'Барнаул', 'Красноярск', 'Архангельск',\n",
       "       'Липецк', 'Кемерово', 'Киров', 'Сургут', 'Пенза', 'Магнитогорск',\n",
       "       'Нижний Новгород', 'Кострома', 'Владивосток', 'Тамбов', 'Балашиха',\n",
       "       'Севастополь', 'Калининград', 'Оренбург', 'Смоленск',\n",
       "       'Нижневартовск', 'Владимир', 'Новороссийск', 'Грозный', 'Подольск'],\n",
       "      dtype=object)"
      ]
     },
     "execution_count": 25,
     "metadata": {},
     "output_type": "execute_result"
    }
   ],
   "source": [
    "# посмотрим все уникальные значения в столбце 'city'\n",
    "users['city'].unique()"
   ]
  },
  {
   "cell_type": "markdown",
   "id": "cec86002",
   "metadata": {},
   "source": [
    "### Вывод\n",
    "* Тип данных в столбцах с датами изменен.\n",
    "* Просмотрев данные на наличие дубликатов, убедились в их отсутствии."
   ]
  },
  {
   "cell_type": "markdown",
   "id": "9a25ed94",
   "metadata": {},
   "source": [
    "## Подготовка пользовательских данных"
   ]
  },
  {
   "cell_type": "code",
   "execution_count": 26,
   "id": "30e38e1e",
   "metadata": {},
   "outputs": [
    {
     "data": {
      "text/html": [
       "<div>\n",
       "<style scoped>\n",
       "    .dataframe tbody tr th:only-of-type {\n",
       "        vertical-align: middle;\n",
       "    }\n",
       "\n",
       "    .dataframe tbody tr th {\n",
       "        vertical-align: top;\n",
       "    }\n",
       "\n",
       "    .dataframe thead th {\n",
       "        text-align: right;\n",
       "    }\n",
       "</style>\n",
       "<table border=\"1\" class=\"dataframe\">\n",
       "  <thead>\n",
       "    <tr style=\"text-align: right;\">\n",
       "      <th></th>\n",
       "      <th>id</th>\n",
       "      <th>call_date</th>\n",
       "      <th>duration</th>\n",
       "      <th>user_id</th>\n",
       "      <th>month</th>\n",
       "    </tr>\n",
       "  </thead>\n",
       "  <tbody>\n",
       "    <tr>\n",
       "      <th>0</th>\n",
       "      <td>1000_0</td>\n",
       "      <td>2018-07-25</td>\n",
       "      <td>0.00</td>\n",
       "      <td>1000</td>\n",
       "      <td>2018-07-01</td>\n",
       "    </tr>\n",
       "    <tr>\n",
       "      <th>1</th>\n",
       "      <td>1000_1</td>\n",
       "      <td>2018-08-17</td>\n",
       "      <td>0.00</td>\n",
       "      <td>1000</td>\n",
       "      <td>2018-08-01</td>\n",
       "    </tr>\n",
       "    <tr>\n",
       "      <th>2</th>\n",
       "      <td>1000_2</td>\n",
       "      <td>2018-06-11</td>\n",
       "      <td>2.85</td>\n",
       "      <td>1000</td>\n",
       "      <td>2018-06-01</td>\n",
       "    </tr>\n",
       "    <tr>\n",
       "      <th>3</th>\n",
       "      <td>1000_3</td>\n",
       "      <td>2018-09-21</td>\n",
       "      <td>13.80</td>\n",
       "      <td>1000</td>\n",
       "      <td>2018-09-01</td>\n",
       "    </tr>\n",
       "    <tr>\n",
       "      <th>4</th>\n",
       "      <td>1000_4</td>\n",
       "      <td>2018-12-15</td>\n",
       "      <td>5.18</td>\n",
       "      <td>1000</td>\n",
       "      <td>2018-12-01</td>\n",
       "    </tr>\n",
       "  </tbody>\n",
       "</table>\n",
       "</div>"
      ],
      "text/plain": [
       "       id  call_date  duration  user_id      month\n",
       "0  1000_0 2018-07-25      0.00     1000 2018-07-01\n",
       "1  1000_1 2018-08-17      0.00     1000 2018-08-01\n",
       "2  1000_2 2018-06-11      2.85     1000 2018-06-01\n",
       "3  1000_3 2018-09-21     13.80     1000 2018-09-01\n",
       "4  1000_4 2018-12-15      5.18     1000 2018-12-01"
      ]
     },
     "execution_count": 26,
     "metadata": {},
     "output_type": "execute_result"
    }
   ],
   "source": [
    "# выделим в отдельный столбец месяц и год из столбца 'call_date' для таблицы calls\n",
    "calls['month'] = calls['call_date'].values.astype('datetime64[M]')\n",
    "calls.head()"
   ]
  },
  {
   "cell_type": "code",
   "execution_count": 27,
   "id": "cd943731",
   "metadata": {},
   "outputs": [],
   "source": [
    "# «Мегалайн» всегда округляет секунды до минут, поэтому\n",
    "# округлим длительность звонков и изменим тип данных на целочисленный\n",
    "calls['duration'] = np.ceil(calls['duration']).astype('int')"
   ]
  },
  {
   "cell_type": "code",
   "execution_count": 28,
   "id": "c4888b78",
   "metadata": {},
   "outputs": [
    {
     "data": {
      "text/html": [
       "<div>\n",
       "<style scoped>\n",
       "    .dataframe tbody tr th:only-of-type {\n",
       "        vertical-align: middle;\n",
       "    }\n",
       "\n",
       "    .dataframe tbody tr th {\n",
       "        vertical-align: top;\n",
       "    }\n",
       "\n",
       "    .dataframe thead th {\n",
       "        text-align: right;\n",
       "    }\n",
       "</style>\n",
       "<table border=\"1\" class=\"dataframe\">\n",
       "  <thead>\n",
       "    <tr style=\"text-align: right;\">\n",
       "      <th></th>\n",
       "      <th>user_id</th>\n",
       "      <th>month</th>\n",
       "      <th>call_count</th>\n",
       "      <th>call_sum</th>\n",
       "    </tr>\n",
       "  </thead>\n",
       "  <tbody>\n",
       "    <tr>\n",
       "      <th>0</th>\n",
       "      <td>1000</td>\n",
       "      <td>2018-05-01</td>\n",
       "      <td>22</td>\n",
       "      <td>159</td>\n",
       "    </tr>\n",
       "    <tr>\n",
       "      <th>1</th>\n",
       "      <td>1000</td>\n",
       "      <td>2018-06-01</td>\n",
       "      <td>43</td>\n",
       "      <td>172</td>\n",
       "    </tr>\n",
       "    <tr>\n",
       "      <th>2</th>\n",
       "      <td>1000</td>\n",
       "      <td>2018-07-01</td>\n",
       "      <td>47</td>\n",
       "      <td>340</td>\n",
       "    </tr>\n",
       "    <tr>\n",
       "      <th>3</th>\n",
       "      <td>1000</td>\n",
       "      <td>2018-08-01</td>\n",
       "      <td>52</td>\n",
       "      <td>408</td>\n",
       "    </tr>\n",
       "    <tr>\n",
       "      <th>4</th>\n",
       "      <td>1000</td>\n",
       "      <td>2018-09-01</td>\n",
       "      <td>58</td>\n",
       "      <td>466</td>\n",
       "    </tr>\n",
       "    <tr>\n",
       "      <th>5</th>\n",
       "      <td>1000</td>\n",
       "      <td>2018-10-01</td>\n",
       "      <td>57</td>\n",
       "      <td>350</td>\n",
       "    </tr>\n",
       "    <tr>\n",
       "      <th>6</th>\n",
       "      <td>1000</td>\n",
       "      <td>2018-11-01</td>\n",
       "      <td>43</td>\n",
       "      <td>338</td>\n",
       "    </tr>\n",
       "    <tr>\n",
       "      <th>7</th>\n",
       "      <td>1000</td>\n",
       "      <td>2018-12-01</td>\n",
       "      <td>46</td>\n",
       "      <td>333</td>\n",
       "    </tr>\n",
       "    <tr>\n",
       "      <th>8</th>\n",
       "      <td>1001</td>\n",
       "      <td>2018-11-01</td>\n",
       "      <td>59</td>\n",
       "      <td>430</td>\n",
       "    </tr>\n",
       "    <tr>\n",
       "      <th>9</th>\n",
       "      <td>1001</td>\n",
       "      <td>2018-12-01</td>\n",
       "      <td>63</td>\n",
       "      <td>414</td>\n",
       "    </tr>\n",
       "  </tbody>\n",
       "</table>\n",
       "</div>"
      ],
      "text/plain": [
       "   user_id      month  call_count  call_sum\n",
       "0     1000 2018-05-01          22       159\n",
       "1     1000 2018-06-01          43       172\n",
       "2     1000 2018-07-01          47       340\n",
       "3     1000 2018-08-01          52       408\n",
       "4     1000 2018-09-01          58       466\n",
       "5     1000 2018-10-01          57       350\n",
       "6     1000 2018-11-01          43       338\n",
       "7     1000 2018-12-01          46       333\n",
       "8     1001 2018-11-01          59       430\n",
       "9     1001 2018-12-01          63       414"
      ]
     },
     "execution_count": 28,
     "metadata": {},
     "output_type": "execute_result"
    }
   ],
   "source": [
    "# соберем сводную таблицу для каждого пользователя по месяцам и посчитаем количество сделанных звонков и израсходованных минут разговора \n",
    "df_calls = calls.pivot_table(index=['user_id', 'month'], values='duration', aggfunc=['count', 'sum']).reset_index()\n",
    "df_calls.columns = ['user_id', 'month', 'call_count', 'call_sum']\n",
    "df_calls.head(10)"
   ]
  },
  {
   "cell_type": "code",
   "execution_count": 29,
   "id": "cda533d2",
   "metadata": {},
   "outputs": [
    {
     "data": {
      "text/html": [
       "<div>\n",
       "<style scoped>\n",
       "    .dataframe tbody tr th:only-of-type {\n",
       "        vertical-align: middle;\n",
       "    }\n",
       "\n",
       "    .dataframe tbody tr th {\n",
       "        vertical-align: top;\n",
       "    }\n",
       "\n",
       "    .dataframe thead th {\n",
       "        text-align: right;\n",
       "    }\n",
       "</style>\n",
       "<table border=\"1\" class=\"dataframe\">\n",
       "  <thead>\n",
       "    <tr style=\"text-align: right;\">\n",
       "      <th></th>\n",
       "      <th>id</th>\n",
       "      <th>message_date</th>\n",
       "      <th>user_id</th>\n",
       "      <th>month</th>\n",
       "    </tr>\n",
       "  </thead>\n",
       "  <tbody>\n",
       "    <tr>\n",
       "      <th>0</th>\n",
       "      <td>1000_0</td>\n",
       "      <td>2018-06-27</td>\n",
       "      <td>1000</td>\n",
       "      <td>2018-06-01</td>\n",
       "    </tr>\n",
       "    <tr>\n",
       "      <th>1</th>\n",
       "      <td>1000_1</td>\n",
       "      <td>2018-10-08</td>\n",
       "      <td>1000</td>\n",
       "      <td>2018-10-01</td>\n",
       "    </tr>\n",
       "    <tr>\n",
       "      <th>2</th>\n",
       "      <td>1000_2</td>\n",
       "      <td>2018-08-04</td>\n",
       "      <td>1000</td>\n",
       "      <td>2018-08-01</td>\n",
       "    </tr>\n",
       "    <tr>\n",
       "      <th>3</th>\n",
       "      <td>1000_3</td>\n",
       "      <td>2018-06-16</td>\n",
       "      <td>1000</td>\n",
       "      <td>2018-06-01</td>\n",
       "    </tr>\n",
       "    <tr>\n",
       "      <th>4</th>\n",
       "      <td>1000_4</td>\n",
       "      <td>2018-12-05</td>\n",
       "      <td>1000</td>\n",
       "      <td>2018-12-01</td>\n",
       "    </tr>\n",
       "  </tbody>\n",
       "</table>\n",
       "</div>"
      ],
      "text/plain": [
       "       id message_date  user_id      month\n",
       "0  1000_0   2018-06-27     1000 2018-06-01\n",
       "1  1000_1   2018-10-08     1000 2018-10-01\n",
       "2  1000_2   2018-08-04     1000 2018-08-01\n",
       "3  1000_3   2018-06-16     1000 2018-06-01\n",
       "4  1000_4   2018-12-05     1000 2018-12-01"
      ]
     },
     "execution_count": 29,
     "metadata": {},
     "output_type": "execute_result"
    }
   ],
   "source": [
    "# выделим в отдельный столбец месяц и год из столбца 'message_date' для таблицы messages\n",
    "messages['month'] = messages['message_date'].values.astype('datetime64[M]')\n",
    "messages.head()"
   ]
  },
  {
   "cell_type": "code",
   "execution_count": 30,
   "id": "6930815a",
   "metadata": {},
   "outputs": [
    {
     "data": {
      "text/html": [
       "<div>\n",
       "<style scoped>\n",
       "    .dataframe tbody tr th:only-of-type {\n",
       "        vertical-align: middle;\n",
       "    }\n",
       "\n",
       "    .dataframe tbody tr th {\n",
       "        vertical-align: top;\n",
       "    }\n",
       "\n",
       "    .dataframe thead th {\n",
       "        text-align: right;\n",
       "    }\n",
       "</style>\n",
       "<table border=\"1\" class=\"dataframe\">\n",
       "  <thead>\n",
       "    <tr style=\"text-align: right;\">\n",
       "      <th></th>\n",
       "      <th>user_id</th>\n",
       "      <th>month</th>\n",
       "      <th>messages_count</th>\n",
       "    </tr>\n",
       "  </thead>\n",
       "  <tbody>\n",
       "    <tr>\n",
       "      <th>0</th>\n",
       "      <td>1000</td>\n",
       "      <td>2018-05-01</td>\n",
       "      <td>22</td>\n",
       "    </tr>\n",
       "    <tr>\n",
       "      <th>1</th>\n",
       "      <td>1000</td>\n",
       "      <td>2018-06-01</td>\n",
       "      <td>60</td>\n",
       "    </tr>\n",
       "    <tr>\n",
       "      <th>2</th>\n",
       "      <td>1000</td>\n",
       "      <td>2018-07-01</td>\n",
       "      <td>75</td>\n",
       "    </tr>\n",
       "    <tr>\n",
       "      <th>3</th>\n",
       "      <td>1000</td>\n",
       "      <td>2018-08-01</td>\n",
       "      <td>81</td>\n",
       "    </tr>\n",
       "    <tr>\n",
       "      <th>4</th>\n",
       "      <td>1000</td>\n",
       "      <td>2018-09-01</td>\n",
       "      <td>57</td>\n",
       "    </tr>\n",
       "    <tr>\n",
       "      <th>5</th>\n",
       "      <td>1000</td>\n",
       "      <td>2018-10-01</td>\n",
       "      <td>73</td>\n",
       "    </tr>\n",
       "    <tr>\n",
       "      <th>6</th>\n",
       "      <td>1000</td>\n",
       "      <td>2018-11-01</td>\n",
       "      <td>58</td>\n",
       "    </tr>\n",
       "    <tr>\n",
       "      <th>7</th>\n",
       "      <td>1000</td>\n",
       "      <td>2018-12-01</td>\n",
       "      <td>70</td>\n",
       "    </tr>\n",
       "    <tr>\n",
       "      <th>8</th>\n",
       "      <td>1002</td>\n",
       "      <td>2018-06-01</td>\n",
       "      <td>4</td>\n",
       "    </tr>\n",
       "    <tr>\n",
       "      <th>9</th>\n",
       "      <td>1002</td>\n",
       "      <td>2018-07-01</td>\n",
       "      <td>11</td>\n",
       "    </tr>\n",
       "  </tbody>\n",
       "</table>\n",
       "</div>"
      ],
      "text/plain": [
       "   user_id      month  messages_count\n",
       "0     1000 2018-05-01              22\n",
       "1     1000 2018-06-01              60\n",
       "2     1000 2018-07-01              75\n",
       "3     1000 2018-08-01              81\n",
       "4     1000 2018-09-01              57\n",
       "5     1000 2018-10-01              73\n",
       "6     1000 2018-11-01              58\n",
       "7     1000 2018-12-01              70\n",
       "8     1002 2018-06-01               4\n",
       "9     1002 2018-07-01              11"
      ]
     },
     "execution_count": 30,
     "metadata": {},
     "output_type": "execute_result"
    }
   ],
   "source": [
    "# соберем сводную таблицу для каждого пользователя по месяцам и посчитаем количество отправленных сообщений \n",
    "df_messages = messages.pivot_table(index=['user_id', 'month'], values='id', aggfunc='count').reset_index()\n",
    "df_messages.columns = ['user_id', 'month', 'messages_count']\n",
    "df_messages.head(10)"
   ]
  },
  {
   "cell_type": "code",
   "execution_count": 31,
   "id": "143a472e",
   "metadata": {},
   "outputs": [
    {
     "data": {
      "text/html": [
       "<div>\n",
       "<style scoped>\n",
       "    .dataframe tbody tr th:only-of-type {\n",
       "        vertical-align: middle;\n",
       "    }\n",
       "\n",
       "    .dataframe tbody tr th {\n",
       "        vertical-align: top;\n",
       "    }\n",
       "\n",
       "    .dataframe thead th {\n",
       "        text-align: right;\n",
       "    }\n",
       "</style>\n",
       "<table border=\"1\" class=\"dataframe\">\n",
       "  <thead>\n",
       "    <tr style=\"text-align: right;\">\n",
       "      <th></th>\n",
       "      <th>id</th>\n",
       "      <th>mb_used</th>\n",
       "      <th>session_date</th>\n",
       "      <th>user_id</th>\n",
       "      <th>month</th>\n",
       "    </tr>\n",
       "  </thead>\n",
       "  <tbody>\n",
       "    <tr>\n",
       "      <th>0</th>\n",
       "      <td>1000_0</td>\n",
       "      <td>112.95</td>\n",
       "      <td>2018-11-25</td>\n",
       "      <td>1000</td>\n",
       "      <td>2018-11-01</td>\n",
       "    </tr>\n",
       "    <tr>\n",
       "      <th>1</th>\n",
       "      <td>1000_1</td>\n",
       "      <td>1052.81</td>\n",
       "      <td>2018-09-07</td>\n",
       "      <td>1000</td>\n",
       "      <td>2018-09-01</td>\n",
       "    </tr>\n",
       "    <tr>\n",
       "      <th>2</th>\n",
       "      <td>1000_2</td>\n",
       "      <td>1197.26</td>\n",
       "      <td>2018-06-25</td>\n",
       "      <td>1000</td>\n",
       "      <td>2018-06-01</td>\n",
       "    </tr>\n",
       "    <tr>\n",
       "      <th>3</th>\n",
       "      <td>1000_3</td>\n",
       "      <td>550.27</td>\n",
       "      <td>2018-08-22</td>\n",
       "      <td>1000</td>\n",
       "      <td>2018-08-01</td>\n",
       "    </tr>\n",
       "    <tr>\n",
       "      <th>4</th>\n",
       "      <td>1000_4</td>\n",
       "      <td>302.56</td>\n",
       "      <td>2018-09-24</td>\n",
       "      <td>1000</td>\n",
       "      <td>2018-09-01</td>\n",
       "    </tr>\n",
       "  </tbody>\n",
       "</table>\n",
       "</div>"
      ],
      "text/plain": [
       "       id  mb_used session_date  user_id      month\n",
       "0  1000_0   112.95   2018-11-25     1000 2018-11-01\n",
       "1  1000_1  1052.81   2018-09-07     1000 2018-09-01\n",
       "2  1000_2  1197.26   2018-06-25     1000 2018-06-01\n",
       "3  1000_3   550.27   2018-08-22     1000 2018-08-01\n",
       "4  1000_4   302.56   2018-09-24     1000 2018-09-01"
      ]
     },
     "execution_count": 31,
     "metadata": {},
     "output_type": "execute_result"
    }
   ],
   "source": [
    "# выделим в отдельный столбец месяц из столбца 'session_date' для таблицы internet\n",
    "internet['month'] = internet['session_date'].values.astype('datetime64[M]')\n",
    "internet.head()"
   ]
  },
  {
   "cell_type": "code",
   "execution_count": 32,
   "id": "a4e52243",
   "metadata": {},
   "outputs": [
    {
     "data": {
      "text/html": [
       "<div>\n",
       "<style scoped>\n",
       "    .dataframe tbody tr th:only-of-type {\n",
       "        vertical-align: middle;\n",
       "    }\n",
       "\n",
       "    .dataframe tbody tr th {\n",
       "        vertical-align: top;\n",
       "    }\n",
       "\n",
       "    .dataframe thead th {\n",
       "        text-align: right;\n",
       "    }\n",
       "</style>\n",
       "<table border=\"1\" class=\"dataframe\">\n",
       "  <thead>\n",
       "    <tr style=\"text-align: right;\">\n",
       "      <th></th>\n",
       "      <th>user_id</th>\n",
       "      <th>month</th>\n",
       "      <th>mb_sum_inet</th>\n",
       "    </tr>\n",
       "  </thead>\n",
       "  <tbody>\n",
       "    <tr>\n",
       "      <th>0</th>\n",
       "      <td>1000</td>\n",
       "      <td>2018-05-01</td>\n",
       "      <td>2.200674</td>\n",
       "    </tr>\n",
       "    <tr>\n",
       "      <th>1</th>\n",
       "      <td>1000</td>\n",
       "      <td>2018-06-01</td>\n",
       "      <td>22.689229</td>\n",
       "    </tr>\n",
       "    <tr>\n",
       "      <th>2</th>\n",
       "      <td>1000</td>\n",
       "      <td>2018-07-01</td>\n",
       "      <td>13.675430</td>\n",
       "    </tr>\n",
       "    <tr>\n",
       "      <th>3</th>\n",
       "      <td>1000</td>\n",
       "      <td>2018-08-01</td>\n",
       "      <td>13.726494</td>\n",
       "    </tr>\n",
       "    <tr>\n",
       "      <th>4</th>\n",
       "      <td>1000</td>\n",
       "      <td>2018-09-01</td>\n",
       "      <td>14.227451</td>\n",
       "    </tr>\n",
       "    <tr>\n",
       "      <th>5</th>\n",
       "      <td>1000</td>\n",
       "      <td>2018-10-01</td>\n",
       "      <td>14.357900</td>\n",
       "    </tr>\n",
       "    <tr>\n",
       "      <th>6</th>\n",
       "      <td>1000</td>\n",
       "      <td>2018-11-01</td>\n",
       "      <td>14.410615</td>\n",
       "    </tr>\n",
       "    <tr>\n",
       "      <th>7</th>\n",
       "      <td>1000</td>\n",
       "      <td>2018-12-01</td>\n",
       "      <td>9.587510</td>\n",
       "    </tr>\n",
       "    <tr>\n",
       "      <th>8</th>\n",
       "      <td>1001</td>\n",
       "      <td>2018-11-01</td>\n",
       "      <td>17.997402</td>\n",
       "    </tr>\n",
       "    <tr>\n",
       "      <th>9</th>\n",
       "      <td>1001</td>\n",
       "      <td>2018-12-01</td>\n",
       "      <td>13.707676</td>\n",
       "    </tr>\n",
       "  </tbody>\n",
       "</table>\n",
       "</div>"
      ],
      "text/plain": [
       "   user_id      month  mb_sum_inet\n",
       "0     1000 2018-05-01     2.200674\n",
       "1     1000 2018-06-01    22.689229\n",
       "2     1000 2018-07-01    13.675430\n",
       "3     1000 2018-08-01    13.726494\n",
       "4     1000 2018-09-01    14.227451\n",
       "5     1000 2018-10-01    14.357900\n",
       "6     1000 2018-11-01    14.410615\n",
       "7     1000 2018-12-01     9.587510\n",
       "8     1001 2018-11-01    17.997402\n",
       "9     1001 2018-12-01    13.707676"
      ]
     },
     "execution_count": 32,
     "metadata": {},
     "output_type": "execute_result"
    }
   ],
   "source": [
    "# соберем сводную таблицу для каждого пользователя по месяцам и посчитаем объем израсходованного интернет-трафика\n",
    "df_internet = internet.pivot_table(index=['user_id', 'month'], values='mb_used', aggfunc='sum').reset_index()\n",
    "df_internet.columns = ['user_id', 'month', 'mb_sum_inet']\n",
    "# переведем столбец с мегабайтами в гигабайты  \n",
    "df_internet['mb_sum_inet'] = df_internet['mb_sum_inet']/1024\n",
    "df_internet.head(10)"
   ]
  },
  {
   "cell_type": "code",
   "execution_count": 33,
   "id": "5b136426",
   "metadata": {},
   "outputs": [
    {
     "data": {
      "text/html": [
       "<div>\n",
       "<style scoped>\n",
       "    .dataframe tbody tr th:only-of-type {\n",
       "        vertical-align: middle;\n",
       "    }\n",
       "\n",
       "    .dataframe tbody tr th {\n",
       "        vertical-align: top;\n",
       "    }\n",
       "\n",
       "    .dataframe thead th {\n",
       "        text-align: right;\n",
       "    }\n",
       "</style>\n",
       "<table border=\"1\" class=\"dataframe\">\n",
       "  <thead>\n",
       "    <tr style=\"text-align: right;\">\n",
       "      <th></th>\n",
       "      <th>user_id</th>\n",
       "      <th>month</th>\n",
       "      <th>mb_sum_inet</th>\n",
       "    </tr>\n",
       "  </thead>\n",
       "  <tbody>\n",
       "    <tr>\n",
       "      <th>0</th>\n",
       "      <td>1000</td>\n",
       "      <td>2018-05-01</td>\n",
       "      <td>3</td>\n",
       "    </tr>\n",
       "    <tr>\n",
       "      <th>1</th>\n",
       "      <td>1000</td>\n",
       "      <td>2018-06-01</td>\n",
       "      <td>23</td>\n",
       "    </tr>\n",
       "    <tr>\n",
       "      <th>2</th>\n",
       "      <td>1000</td>\n",
       "      <td>2018-07-01</td>\n",
       "      <td>14</td>\n",
       "    </tr>\n",
       "    <tr>\n",
       "      <th>3</th>\n",
       "      <td>1000</td>\n",
       "      <td>2018-08-01</td>\n",
       "      <td>14</td>\n",
       "    </tr>\n",
       "    <tr>\n",
       "      <th>4</th>\n",
       "      <td>1000</td>\n",
       "      <td>2018-09-01</td>\n",
       "      <td>15</td>\n",
       "    </tr>\n",
       "  </tbody>\n",
       "</table>\n",
       "</div>"
      ],
      "text/plain": [
       "   user_id      month  mb_sum_inet\n",
       "0     1000 2018-05-01            3\n",
       "1     1000 2018-06-01           23\n",
       "2     1000 2018-07-01           14\n",
       "3     1000 2018-08-01           14\n",
       "4     1000 2018-09-01           15"
      ]
     },
     "execution_count": 33,
     "metadata": {},
     "output_type": "execute_result"
    }
   ],
   "source": [
    "# «Мегалайн» всегда округляет мегабайты — до гигабайт, поэтому\n",
    "# округлим объем интернет-трафика и изменим тип данных на целочисленный\n",
    "df_internet['mb_sum_inet'] = np.ceil(df_internet['mb_sum_inet']).astype('int')\n",
    "df_internet.head()"
   ]
  },
  {
   "cell_type": "code",
   "execution_count": 34,
   "id": "588ae4a2",
   "metadata": {},
   "outputs": [],
   "source": [
    "# объединим таблицы df_calls и df_messages для дальнейшего расчета выручки с каждого пользователя\n",
    "revenue = df_calls.merge(df_messages, on=['user_id', 'month'], how='outer')"
   ]
  },
  {
   "cell_type": "code",
   "execution_count": 35,
   "id": "681261c9",
   "metadata": {},
   "outputs": [
    {
     "data": {
      "text/html": [
       "<div>\n",
       "<style scoped>\n",
       "    .dataframe tbody tr th:only-of-type {\n",
       "        vertical-align: middle;\n",
       "    }\n",
       "\n",
       "    .dataframe tbody tr th {\n",
       "        vertical-align: top;\n",
       "    }\n",
       "\n",
       "    .dataframe thead th {\n",
       "        text-align: right;\n",
       "    }\n",
       "</style>\n",
       "<table border=\"1\" class=\"dataframe\">\n",
       "  <thead>\n",
       "    <tr style=\"text-align: right;\">\n",
       "      <th></th>\n",
       "      <th>user_id</th>\n",
       "      <th>month</th>\n",
       "      <th>call_count</th>\n",
       "      <th>call_sum</th>\n",
       "      <th>messages_count</th>\n",
       "    </tr>\n",
       "  </thead>\n",
       "  <tbody>\n",
       "    <tr>\n",
       "      <th>0</th>\n",
       "      <td>1000</td>\n",
       "      <td>2018-05-01</td>\n",
       "      <td>22.0</td>\n",
       "      <td>159.0</td>\n",
       "      <td>22.0</td>\n",
       "    </tr>\n",
       "    <tr>\n",
       "      <th>1</th>\n",
       "      <td>1000</td>\n",
       "      <td>2018-06-01</td>\n",
       "      <td>43.0</td>\n",
       "      <td>172.0</td>\n",
       "      <td>60.0</td>\n",
       "    </tr>\n",
       "    <tr>\n",
       "      <th>2</th>\n",
       "      <td>1000</td>\n",
       "      <td>2018-07-01</td>\n",
       "      <td>47.0</td>\n",
       "      <td>340.0</td>\n",
       "      <td>75.0</td>\n",
       "    </tr>\n",
       "    <tr>\n",
       "      <th>3</th>\n",
       "      <td>1000</td>\n",
       "      <td>2018-08-01</td>\n",
       "      <td>52.0</td>\n",
       "      <td>408.0</td>\n",
       "      <td>81.0</td>\n",
       "    </tr>\n",
       "    <tr>\n",
       "      <th>4</th>\n",
       "      <td>1000</td>\n",
       "      <td>2018-09-01</td>\n",
       "      <td>58.0</td>\n",
       "      <td>466.0</td>\n",
       "      <td>57.0</td>\n",
       "    </tr>\n",
       "  </tbody>\n",
       "</table>\n",
       "</div>"
      ],
      "text/plain": [
       "   user_id      month  call_count  call_sum  messages_count\n",
       "0     1000 2018-05-01        22.0     159.0            22.0\n",
       "1     1000 2018-06-01        43.0     172.0            60.0\n",
       "2     1000 2018-07-01        47.0     340.0            75.0\n",
       "3     1000 2018-08-01        52.0     408.0            81.0\n",
       "4     1000 2018-09-01        58.0     466.0            57.0"
      ]
     },
     "execution_count": 35,
     "metadata": {},
     "output_type": "execute_result"
    }
   ],
   "source": [
    "# посмотрим первые 5 строк объединенной таблицы\n",
    "revenue.head()"
   ]
  },
  {
   "cell_type": "code",
   "execution_count": 36,
   "id": "0d1859a6",
   "metadata": {},
   "outputs": [],
   "source": [
    "# объединим, ранее полученную таблицу revenue с df_internet для дальнейшего расчета выручки с каждого пользователя\n",
    "revenue = revenue.merge(df_internet, on=['user_id', 'month'], how='outer')"
   ]
  },
  {
   "cell_type": "code",
   "execution_count": 37,
   "id": "ad29684c",
   "metadata": {},
   "outputs": [
    {
     "data": {
      "text/html": [
       "<div>\n",
       "<style scoped>\n",
       "    .dataframe tbody tr th:only-of-type {\n",
       "        vertical-align: middle;\n",
       "    }\n",
       "\n",
       "    .dataframe tbody tr th {\n",
       "        vertical-align: top;\n",
       "    }\n",
       "\n",
       "    .dataframe thead th {\n",
       "        text-align: right;\n",
       "    }\n",
       "</style>\n",
       "<table border=\"1\" class=\"dataframe\">\n",
       "  <thead>\n",
       "    <tr style=\"text-align: right;\">\n",
       "      <th></th>\n",
       "      <th>user_id</th>\n",
       "      <th>month</th>\n",
       "      <th>call_count</th>\n",
       "      <th>call_sum</th>\n",
       "      <th>messages_count</th>\n",
       "      <th>mb_sum_inet</th>\n",
       "    </tr>\n",
       "  </thead>\n",
       "  <tbody>\n",
       "    <tr>\n",
       "      <th>0</th>\n",
       "      <td>1000</td>\n",
       "      <td>2018-05-01</td>\n",
       "      <td>22.0</td>\n",
       "      <td>159.0</td>\n",
       "      <td>22.0</td>\n",
       "      <td>3.0</td>\n",
       "    </tr>\n",
       "    <tr>\n",
       "      <th>1</th>\n",
       "      <td>1000</td>\n",
       "      <td>2018-06-01</td>\n",
       "      <td>43.0</td>\n",
       "      <td>172.0</td>\n",
       "      <td>60.0</td>\n",
       "      <td>23.0</td>\n",
       "    </tr>\n",
       "    <tr>\n",
       "      <th>2</th>\n",
       "      <td>1000</td>\n",
       "      <td>2018-07-01</td>\n",
       "      <td>47.0</td>\n",
       "      <td>340.0</td>\n",
       "      <td>75.0</td>\n",
       "      <td>14.0</td>\n",
       "    </tr>\n",
       "    <tr>\n",
       "      <th>3</th>\n",
       "      <td>1000</td>\n",
       "      <td>2018-08-01</td>\n",
       "      <td>52.0</td>\n",
       "      <td>408.0</td>\n",
       "      <td>81.0</td>\n",
       "      <td>14.0</td>\n",
       "    </tr>\n",
       "    <tr>\n",
       "      <th>4</th>\n",
       "      <td>1000</td>\n",
       "      <td>2018-09-01</td>\n",
       "      <td>58.0</td>\n",
       "      <td>466.0</td>\n",
       "      <td>57.0</td>\n",
       "      <td>15.0</td>\n",
       "    </tr>\n",
       "    <tr>\n",
       "      <th>5</th>\n",
       "      <td>1000</td>\n",
       "      <td>2018-10-01</td>\n",
       "      <td>57.0</td>\n",
       "      <td>350.0</td>\n",
       "      <td>73.0</td>\n",
       "      <td>15.0</td>\n",
       "    </tr>\n",
       "    <tr>\n",
       "      <th>6</th>\n",
       "      <td>1000</td>\n",
       "      <td>2018-11-01</td>\n",
       "      <td>43.0</td>\n",
       "      <td>338.0</td>\n",
       "      <td>58.0</td>\n",
       "      <td>15.0</td>\n",
       "    </tr>\n",
       "    <tr>\n",
       "      <th>7</th>\n",
       "      <td>1000</td>\n",
       "      <td>2018-12-01</td>\n",
       "      <td>46.0</td>\n",
       "      <td>333.0</td>\n",
       "      <td>70.0</td>\n",
       "      <td>10.0</td>\n",
       "    </tr>\n",
       "    <tr>\n",
       "      <th>8</th>\n",
       "      <td>1001</td>\n",
       "      <td>2018-11-01</td>\n",
       "      <td>59.0</td>\n",
       "      <td>430.0</td>\n",
       "      <td>NaN</td>\n",
       "      <td>18.0</td>\n",
       "    </tr>\n",
       "    <tr>\n",
       "      <th>9</th>\n",
       "      <td>1001</td>\n",
       "      <td>2018-12-01</td>\n",
       "      <td>63.0</td>\n",
       "      <td>414.0</td>\n",
       "      <td>NaN</td>\n",
       "      <td>14.0</td>\n",
       "    </tr>\n",
       "  </tbody>\n",
       "</table>\n",
       "</div>"
      ],
      "text/plain": [
       "   user_id      month  call_count  call_sum  messages_count  mb_sum_inet\n",
       "0     1000 2018-05-01        22.0     159.0            22.0          3.0\n",
       "1     1000 2018-06-01        43.0     172.0            60.0         23.0\n",
       "2     1000 2018-07-01        47.0     340.0            75.0         14.0\n",
       "3     1000 2018-08-01        52.0     408.0            81.0         14.0\n",
       "4     1000 2018-09-01        58.0     466.0            57.0         15.0\n",
       "5     1000 2018-10-01        57.0     350.0            73.0         15.0\n",
       "6     1000 2018-11-01        43.0     338.0            58.0         15.0\n",
       "7     1000 2018-12-01        46.0     333.0            70.0         10.0\n",
       "8     1001 2018-11-01        59.0     430.0             NaN         18.0\n",
       "9     1001 2018-12-01        63.0     414.0             NaN         14.0"
      ]
     },
     "execution_count": 37,
     "metadata": {},
     "output_type": "execute_result"
    }
   ],
   "source": [
    "# посмотрим первые 5 строк объединенной таблицы\n",
    "revenue.head(10)"
   ]
  },
  {
   "cell_type": "code",
   "execution_count": 38,
   "id": "fc52210f",
   "metadata": {},
   "outputs": [
    {
     "data": {
      "text/plain": [
       "user_id            0.00\n",
       "month              0.00\n",
       "call_count         1.24\n",
       "call_sum           1.24\n",
       "messages_count    15.46\n",
       "mb_sum_inet        0.34\n",
       "dtype: float64"
      ]
     },
     "execution_count": 38,
     "metadata": {},
     "output_type": "execute_result"
    }
   ],
   "source": [
    "# посмотрим в получившейся таблице, процент пропущенных значений\n",
    "(revenue.isna().mean().round(4))*100"
   ]
  },
  {
   "cell_type": "markdown",
   "id": "ddc4d39b",
   "metadata": {},
   "source": [
    "Судя по пропускам, не все абоненты предпочитают вид связи через смс. Остальные пропуски по звонкам и интернету, составляют менее 2%, с ними ничего делать не будем."
   ]
  },
  {
   "cell_type": "code",
   "execution_count": 39,
   "id": "792c949c",
   "metadata": {},
   "outputs": [
    {
     "data": {
      "text/html": [
       "<div>\n",
       "<style scoped>\n",
       "    .dataframe tbody tr th:only-of-type {\n",
       "        vertical-align: middle;\n",
       "    }\n",
       "\n",
       "    .dataframe tbody tr th {\n",
       "        vertical-align: top;\n",
       "    }\n",
       "\n",
       "    .dataframe thead th {\n",
       "        text-align: right;\n",
       "    }\n",
       "</style>\n",
       "<table border=\"1\" class=\"dataframe\">\n",
       "  <thead>\n",
       "    <tr style=\"text-align: right;\">\n",
       "      <th></th>\n",
       "      <th>user_id</th>\n",
       "      <th>month</th>\n",
       "      <th>call_count</th>\n",
       "      <th>call_sum</th>\n",
       "      <th>messages_count</th>\n",
       "      <th>mb_sum_inet</th>\n",
       "      <th>tariff</th>\n",
       "      <th>city</th>\n",
       "    </tr>\n",
       "  </thead>\n",
       "  <tbody>\n",
       "    <tr>\n",
       "      <th>0</th>\n",
       "      <td>1000</td>\n",
       "      <td>2018-05-01</td>\n",
       "      <td>22.0</td>\n",
       "      <td>159.0</td>\n",
       "      <td>22.0</td>\n",
       "      <td>3.0</td>\n",
       "      <td>ultra</td>\n",
       "      <td>Краснодар</td>\n",
       "    </tr>\n",
       "    <tr>\n",
       "      <th>1</th>\n",
       "      <td>1000</td>\n",
       "      <td>2018-06-01</td>\n",
       "      <td>43.0</td>\n",
       "      <td>172.0</td>\n",
       "      <td>60.0</td>\n",
       "      <td>23.0</td>\n",
       "      <td>ultra</td>\n",
       "      <td>Краснодар</td>\n",
       "    </tr>\n",
       "    <tr>\n",
       "      <th>2</th>\n",
       "      <td>1000</td>\n",
       "      <td>2018-07-01</td>\n",
       "      <td>47.0</td>\n",
       "      <td>340.0</td>\n",
       "      <td>75.0</td>\n",
       "      <td>14.0</td>\n",
       "      <td>ultra</td>\n",
       "      <td>Краснодар</td>\n",
       "    </tr>\n",
       "    <tr>\n",
       "      <th>3</th>\n",
       "      <td>1000</td>\n",
       "      <td>2018-08-01</td>\n",
       "      <td>52.0</td>\n",
       "      <td>408.0</td>\n",
       "      <td>81.0</td>\n",
       "      <td>14.0</td>\n",
       "      <td>ultra</td>\n",
       "      <td>Краснодар</td>\n",
       "    </tr>\n",
       "    <tr>\n",
       "      <th>4</th>\n",
       "      <td>1000</td>\n",
       "      <td>2018-09-01</td>\n",
       "      <td>58.0</td>\n",
       "      <td>466.0</td>\n",
       "      <td>57.0</td>\n",
       "      <td>15.0</td>\n",
       "      <td>ultra</td>\n",
       "      <td>Краснодар</td>\n",
       "    </tr>\n",
       "  </tbody>\n",
       "</table>\n",
       "</div>"
      ],
      "text/plain": [
       "   user_id      month  call_count  call_sum  messages_count  mb_sum_inet  \\\n",
       "0     1000 2018-05-01        22.0     159.0            22.0          3.0   \n",
       "1     1000 2018-06-01        43.0     172.0            60.0         23.0   \n",
       "2     1000 2018-07-01        47.0     340.0            75.0         14.0   \n",
       "3     1000 2018-08-01        52.0     408.0            81.0         14.0   \n",
       "4     1000 2018-09-01        58.0     466.0            57.0         15.0   \n",
       "\n",
       "  tariff       city  \n",
       "0  ultra  Краснодар  \n",
       "1  ultra  Краснодар  \n",
       "2  ultra  Краснодар  \n",
       "3  ultra  Краснодар  \n",
       "4  ultra  Краснодар  "
      ]
     },
     "execution_count": 39,
     "metadata": {},
     "output_type": "execute_result"
    }
   ],
   "source": [
    "# Добавляем необходимые столбцы с данными для расчета выручки\n",
    "revenue = revenue.merge(users[['user_id', 'tariff', 'city']], on='user_id', how='left')\n",
    "revenue.head()"
   ]
  },
  {
   "cell_type": "code",
   "execution_count": 40,
   "id": "bd0a4d0b",
   "metadata": {},
   "outputs": [],
   "source": [
    "# заменим все пропуски на ноль\n",
    "columns = ['call_sum', 'messages_count', 'mb_sum_inet']\n",
    "for column in columns: revenue[column] = revenue[column].fillna(0)"
   ]
  },
  {
   "cell_type": "code",
   "execution_count": 41,
   "id": "6c4e1b98",
   "metadata": {},
   "outputs": [],
   "source": [
    "# расчитаем выручку для каждого клиента при помощи функции\n",
    "def month_revenue(row):\n",
    "    income = 0\n",
    "    tariff = row['tariff']\n",
    "    call_sum = row['call_sum']\n",
    "    messages_count = row['messages_count']\n",
    "    mb_sum_inet = row['mb_sum_inet']\n",
    "# посчитаем разницу лимита по тарифу и суммарного кол-ва звонков, интернета и сообщений    \n",
    "    difference_calls = call_sum-int(tariffs[tariffs['tariff_name']==tariff]['minutes_included'])\n",
    "    difference_messages = messages_count-int(tariffs[tariffs['tariff_name']==tariff]['messages_included'])\n",
    "    difference_inet = mb_sum_inet-int(tariffs[tariffs['tariff_name']==tariff]['mb_per_month_included'])\n",
    "# если пользователь вышел за пределы лимитов, обозначенных в абонентской плате, то рассчитывается дополнительная оплата    \n",
    "    if difference_calls>0:\n",
    "        income += difference_calls*int(tariffs[tariffs['tariff_name']==tariff]['rub_per_minute'])\n",
    "\n",
    "    if difference_messages>0:    \n",
    "        income += difference_messages*int(tariffs[tariffs['tariff_name']==tariff]['rub_per_message'])\n",
    "\n",
    "    if difference_inet>0:    \n",
    "        income += difference_inet*int(tariffs[tariffs['tariff_name']==tariff]['rub_per_gb'])\n",
    "\n",
    "# Добавление ежемесячной абонентской платы\n",
    "    income += int(tariffs[tariffs['tariff_name'] == tariff]['rub_monthly_fee'])\n",
    "    return income"
   ]
  },
  {
   "cell_type": "code",
   "execution_count": 42,
   "id": "c5596711",
   "metadata": {},
   "outputs": [],
   "source": [
    "# Вычисляем ежемесячную выручку\n",
    "revenue['month_revenue'] = revenue.apply(month_revenue, axis=1)"
   ]
  },
  {
   "cell_type": "code",
   "execution_count": 43,
   "id": "4c97b124",
   "metadata": {},
   "outputs": [
    {
     "data": {
      "text/html": [
       "<div>\n",
       "<style scoped>\n",
       "    .dataframe tbody tr th:only-of-type {\n",
       "        vertical-align: middle;\n",
       "    }\n",
       "\n",
       "    .dataframe tbody tr th {\n",
       "        vertical-align: top;\n",
       "    }\n",
       "\n",
       "    .dataframe thead th {\n",
       "        text-align: right;\n",
       "    }\n",
       "</style>\n",
       "<table border=\"1\" class=\"dataframe\">\n",
       "  <thead>\n",
       "    <tr style=\"text-align: right;\">\n",
       "      <th></th>\n",
       "      <th>user_id</th>\n",
       "      <th>month</th>\n",
       "      <th>call_count</th>\n",
       "      <th>call_sum</th>\n",
       "      <th>messages_count</th>\n",
       "      <th>mb_sum_inet</th>\n",
       "      <th>tariff</th>\n",
       "      <th>city</th>\n",
       "      <th>month_revenue</th>\n",
       "    </tr>\n",
       "  </thead>\n",
       "  <tbody>\n",
       "    <tr>\n",
       "      <th>0</th>\n",
       "      <td>1000</td>\n",
       "      <td>2018-05-01</td>\n",
       "      <td>22.0</td>\n",
       "      <td>159.0</td>\n",
       "      <td>22.0</td>\n",
       "      <td>3.0</td>\n",
       "      <td>ultra</td>\n",
       "      <td>Краснодар</td>\n",
       "      <td>1950.0</td>\n",
       "    </tr>\n",
       "    <tr>\n",
       "      <th>1</th>\n",
       "      <td>1000</td>\n",
       "      <td>2018-06-01</td>\n",
       "      <td>43.0</td>\n",
       "      <td>172.0</td>\n",
       "      <td>60.0</td>\n",
       "      <td>23.0</td>\n",
       "      <td>ultra</td>\n",
       "      <td>Краснодар</td>\n",
       "      <td>1950.0</td>\n",
       "    </tr>\n",
       "    <tr>\n",
       "      <th>2</th>\n",
       "      <td>1000</td>\n",
       "      <td>2018-07-01</td>\n",
       "      <td>47.0</td>\n",
       "      <td>340.0</td>\n",
       "      <td>75.0</td>\n",
       "      <td>14.0</td>\n",
       "      <td>ultra</td>\n",
       "      <td>Краснодар</td>\n",
       "      <td>1950.0</td>\n",
       "    </tr>\n",
       "    <tr>\n",
       "      <th>3</th>\n",
       "      <td>1000</td>\n",
       "      <td>2018-08-01</td>\n",
       "      <td>52.0</td>\n",
       "      <td>408.0</td>\n",
       "      <td>81.0</td>\n",
       "      <td>14.0</td>\n",
       "      <td>ultra</td>\n",
       "      <td>Краснодар</td>\n",
       "      <td>1950.0</td>\n",
       "    </tr>\n",
       "    <tr>\n",
       "      <th>4</th>\n",
       "      <td>1000</td>\n",
       "      <td>2018-09-01</td>\n",
       "      <td>58.0</td>\n",
       "      <td>466.0</td>\n",
       "      <td>57.0</td>\n",
       "      <td>15.0</td>\n",
       "      <td>ultra</td>\n",
       "      <td>Краснодар</td>\n",
       "      <td>1950.0</td>\n",
       "    </tr>\n",
       "    <tr>\n",
       "      <th>5</th>\n",
       "      <td>1000</td>\n",
       "      <td>2018-10-01</td>\n",
       "      <td>57.0</td>\n",
       "      <td>350.0</td>\n",
       "      <td>73.0</td>\n",
       "      <td>15.0</td>\n",
       "      <td>ultra</td>\n",
       "      <td>Краснодар</td>\n",
       "      <td>1950.0</td>\n",
       "    </tr>\n",
       "    <tr>\n",
       "      <th>6</th>\n",
       "      <td>1000</td>\n",
       "      <td>2018-11-01</td>\n",
       "      <td>43.0</td>\n",
       "      <td>338.0</td>\n",
       "      <td>58.0</td>\n",
       "      <td>15.0</td>\n",
       "      <td>ultra</td>\n",
       "      <td>Краснодар</td>\n",
       "      <td>1950.0</td>\n",
       "    </tr>\n",
       "    <tr>\n",
       "      <th>7</th>\n",
       "      <td>1000</td>\n",
       "      <td>2018-12-01</td>\n",
       "      <td>46.0</td>\n",
       "      <td>333.0</td>\n",
       "      <td>70.0</td>\n",
       "      <td>10.0</td>\n",
       "      <td>ultra</td>\n",
       "      <td>Краснодар</td>\n",
       "      <td>1950.0</td>\n",
       "    </tr>\n",
       "    <tr>\n",
       "      <th>8</th>\n",
       "      <td>1001</td>\n",
       "      <td>2018-11-01</td>\n",
       "      <td>59.0</td>\n",
       "      <td>430.0</td>\n",
       "      <td>0.0</td>\n",
       "      <td>18.0</td>\n",
       "      <td>smart</td>\n",
       "      <td>Москва</td>\n",
       "      <td>1150.0</td>\n",
       "    </tr>\n",
       "    <tr>\n",
       "      <th>9</th>\n",
       "      <td>1001</td>\n",
       "      <td>2018-12-01</td>\n",
       "      <td>63.0</td>\n",
       "      <td>414.0</td>\n",
       "      <td>0.0</td>\n",
       "      <td>14.0</td>\n",
       "      <td>smart</td>\n",
       "      <td>Москва</td>\n",
       "      <td>550.0</td>\n",
       "    </tr>\n",
       "  </tbody>\n",
       "</table>\n",
       "</div>"
      ],
      "text/plain": [
       "   user_id      month  call_count  call_sum  messages_count  mb_sum_inet  \\\n",
       "0     1000 2018-05-01        22.0     159.0            22.0          3.0   \n",
       "1     1000 2018-06-01        43.0     172.0            60.0         23.0   \n",
       "2     1000 2018-07-01        47.0     340.0            75.0         14.0   \n",
       "3     1000 2018-08-01        52.0     408.0            81.0         14.0   \n",
       "4     1000 2018-09-01        58.0     466.0            57.0         15.0   \n",
       "5     1000 2018-10-01        57.0     350.0            73.0         15.0   \n",
       "6     1000 2018-11-01        43.0     338.0            58.0         15.0   \n",
       "7     1000 2018-12-01        46.0     333.0            70.0         10.0   \n",
       "8     1001 2018-11-01        59.0     430.0             0.0         18.0   \n",
       "9     1001 2018-12-01        63.0     414.0             0.0         14.0   \n",
       "\n",
       "  tariff       city  month_revenue  \n",
       "0  ultra  Краснодар         1950.0  \n",
       "1  ultra  Краснодар         1950.0  \n",
       "2  ultra  Краснодар         1950.0  \n",
       "3  ultra  Краснодар         1950.0  \n",
       "4  ultra  Краснодар         1950.0  \n",
       "5  ultra  Краснодар         1950.0  \n",
       "6  ultra  Краснодар         1950.0  \n",
       "7  ultra  Краснодар         1950.0  \n",
       "8  smart     Москва         1150.0  \n",
       "9  smart     Москва          550.0  "
      ]
     },
     "execution_count": 43,
     "metadata": {},
     "output_type": "execute_result"
    }
   ],
   "source": [
    "revenue.head(10)"
   ]
  },
  {
   "cell_type": "markdown",
   "id": "499551e2",
   "metadata": {},
   "source": [
    "### Вывод\n",
    "\n",
    "Объединив таблицы звонков, сообщений и интеренет-трафика, высчитали помесячную выручку с каждого пользователя."
   ]
  },
  {
   "cell_type": "markdown",
   "id": "0b68137a",
   "metadata": {},
   "source": [
    "## Исследовательский анализ"
   ]
  },
  {
   "cell_type": "code",
   "execution_count": 44,
   "id": "10d00e23",
   "metadata": {},
   "outputs": [
    {
     "data": {
      "text/html": [
       "<div>\n",
       "<style scoped>\n",
       "    .dataframe tbody tr th:only-of-type {\n",
       "        vertical-align: middle;\n",
       "    }\n",
       "\n",
       "    .dataframe tbody tr th {\n",
       "        vertical-align: top;\n",
       "    }\n",
       "\n",
       "    .dataframe thead tr th {\n",
       "        text-align: left;\n",
       "    }\n",
       "\n",
       "    .dataframe thead tr:last-of-type th {\n",
       "        text-align: right;\n",
       "    }\n",
       "</style>\n",
       "<table border=\"1\" class=\"dataframe\">\n",
       "  <thead>\n",
       "    <tr>\n",
       "      <th></th>\n",
       "      <th colspan=\"3\" halign=\"left\">median</th>\n",
       "      <th colspan=\"3\" halign=\"left\">mean</th>\n",
       "      <th colspan=\"3\" halign=\"left\">var</th>\n",
       "      <th colspan=\"3\" halign=\"left\">std</th>\n",
       "    </tr>\n",
       "    <tr>\n",
       "      <th></th>\n",
       "      <th>call_sum</th>\n",
       "      <th>mb_sum_inet</th>\n",
       "      <th>messages_count</th>\n",
       "      <th>call_sum</th>\n",
       "      <th>mb_sum_inet</th>\n",
       "      <th>messages_count</th>\n",
       "      <th>call_sum</th>\n",
       "      <th>mb_sum_inet</th>\n",
       "      <th>messages_count</th>\n",
       "      <th>call_sum</th>\n",
       "      <th>mb_sum_inet</th>\n",
       "      <th>messages_count</th>\n",
       "    </tr>\n",
       "    <tr>\n",
       "      <th>tariff</th>\n",
       "      <th></th>\n",
       "      <th></th>\n",
       "      <th></th>\n",
       "      <th></th>\n",
       "      <th></th>\n",
       "      <th></th>\n",
       "      <th></th>\n",
       "      <th></th>\n",
       "      <th></th>\n",
       "      <th></th>\n",
       "      <th></th>\n",
       "      <th></th>\n",
       "    </tr>\n",
       "  </thead>\n",
       "  <tbody>\n",
       "    <tr>\n",
       "      <th>smart</th>\n",
       "      <td>422.0</td>\n",
       "      <td>17.0</td>\n",
       "      <td>28.0</td>\n",
       "      <td>417.9</td>\n",
       "      <td>16.3</td>\n",
       "      <td>33.4</td>\n",
       "      <td>36219.3</td>\n",
       "      <td>33.0</td>\n",
       "      <td>796.8</td>\n",
       "      <td>190.3</td>\n",
       "      <td>5.7</td>\n",
       "      <td>28.2</td>\n",
       "    </tr>\n",
       "    <tr>\n",
       "      <th>ultra</th>\n",
       "      <td>518.0</td>\n",
       "      <td>19.0</td>\n",
       "      <td>38.0</td>\n",
       "      <td>526.6</td>\n",
       "      <td>19.5</td>\n",
       "      <td>49.4</td>\n",
       "      <td>100873.6</td>\n",
       "      <td>97.1</td>\n",
       "      <td>2285.3</td>\n",
       "      <td>317.6</td>\n",
       "      <td>9.9</td>\n",
       "      <td>47.8</td>\n",
       "    </tr>\n",
       "  </tbody>\n",
       "</table>\n",
       "</div>"
      ],
      "text/plain": [
       "         median                                mean              \\\n",
       "       call_sum mb_sum_inet messages_count call_sum mb_sum_inet   \n",
       "tariff                                                            \n",
       "smart     422.0        17.0           28.0    417.9        16.3   \n",
       "ultra     518.0        19.0           38.0    526.6        19.5   \n",
       "\n",
       "                            var                                 std  \\\n",
       "       messages_count  call_sum mb_sum_inet messages_count call_sum   \n",
       "tariff                                                                \n",
       "smart            33.4   36219.3        33.0          796.8    190.3   \n",
       "ultra            49.4  100873.6        97.1         2285.3    317.6   \n",
       "\n",
       "                                   \n",
       "       mb_sum_inet messages_count  \n",
       "tariff                             \n",
       "smart          5.7           28.2  \n",
       "ultra          9.9           47.8  "
      ]
     },
     "execution_count": 44,
     "metadata": {},
     "output_type": "execute_result"
    }
   ],
   "source": [
    "# посчитаем для звонков, сообщений и интернет-трафика медиану, среднее, дисперсию и стандартное отклонение \n",
    "revenue.pivot_table(index = 'tariff', values = ['call_sum','messages_count','mb_sum_inet'], \n",
    "                    aggfunc = ['median', 'mean', 'var', 'std']).round(1)"
   ]
  },
  {
   "cell_type": "markdown",
   "id": "22db0668",
   "metadata": {},
   "source": [
    "Медиана и среднее по звонкам и интернету имеют не большую разницу, следовательно выбросы если присутствуют, то в единичных случаях. В тарифе ultra есть выбросы  по сообщениям, так как среднее больше медианы. Можно предположить,что есть пользователи которые предпочитают переписку, а не звонки, но таких клиентов не много."
   ]
  },
  {
   "cell_type": "code",
   "execution_count": 45,
   "id": "def4a45f",
   "metadata": {},
   "outputs": [
    {
     "data": {
      "image/png": "[encoded data removed]",
      "text/plain": [
       "<Figure size 432x288 with 1 Axes>"
      ]
     },
     "metadata": {
      "needs_background": "light"
     },
     "output_type": "display_data"
    }
   ],
   "source": [
    "# построим гистограмму распределения средней длительности звонков по 2-м тарифам\n",
    "revenue.groupby('tariff')['call_sum'].hist(bins=30, legend=True, alpha=0.5, density=True)\n",
    "plt.title('Гистограмма распределения средней длительности звонков по 2-м тарифам'+ \"\\n\")\n",
    "plt.xlabel('Минуты')\n",
    "plt.ylabel('Частотность')\n",
    "\n",
    "plt.show()"
   ]
  },
  {
   "cell_type": "markdown",
   "id": "4b507655",
   "metadata": {},
   "source": [
    "В тарифе smart чаще всего клиенты укладываются в включенные 500 минут тарифа, но есть и такие клиенты, которые превышают лимит звонков по тарифу. Чаще превышают лимит плюсом до 250 минут к основному лимиту.\n",
    "\n",
    "В тарифе ultra достаточно часто звонками клиенты пользуются по минимому, возможно общаются по средством интернет-звонков. В основном \"выговаривают\" от 250 до 850 минут и реже сверх 1000 минут. Лимита по звонкам не превышают."
   ]
  },
  {
   "cell_type": "code",
   "execution_count": 46,
   "id": "eeec2bb9",
   "metadata": {},
   "outputs": [
    {
     "data": {
      "image/png": "[encoded data removed]",
      "text/plain": [
       "<Figure size 432x288 with 1 Axes>"
      ]
     },
     "metadata": {
      "needs_background": "light"
     },
     "output_type": "display_data"
    },
    {
     "data": {
      "image/png": "[encoded data removed]",
      "text/plain": [
       "<Figure size 432x288 with 1 Axes>"
      ]
     },
     "metadata": {
      "needs_background": "light"
     },
     "output_type": "display_data"
    }
   ],
   "source": [
    "import matplotlib.dates as mdates\n",
    "import matplotlib.units as muints\n",
    "\n",
    "# построим распределение средней длительности звонков в месяц по 2-м тарифам\n",
    "ax = (revenue\n",
    " .pivot_table(index='tariff', columns='month', values='call_sum', aggfunc='mean')\n",
    " .T\n",
    " .plot(kind='bar', alpha=0.5)\n",
    ")\n",
    "\n",
    "plt.title('Распределение средней длительности звонков в месяц по 2-м тарифам'+ \"\\n\")\n",
    "plt.xlabel('Месяцы')\n",
    "plt.ylabel('Минуты')\n",
    "\n",
    "\n",
    "plt.show()\n",
    "\n",
    "data_demo = (revenue\n",
    " .pivot_table(index='month', columns='tariff', values='call_sum', aggfunc='mean')\n",
    ")\n",
    "\n",
    "data_demo.index = data_demo.index.strftime('%Y-%m')\n",
    "ax = data_demo.plot(kind='bar', alpha=0.5)\n",
    "\n",
    "fig = plt.gcf()\n",
    "fig.autofmt_xdate()"
   ]
  },
  {
   "cell_type": "markdown",
   "id": "49dfd2f1",
   "metadata": {},
   "source": [
    "По количеству минут в среднем клиенты тарифа smart не превышают кол-ва минут включенных в тариф.  Клиенты ultra выговаривают не больше 600 минут в месяц в среднем. "
   ]
  },
  {
   "cell_type": "code",
   "execution_count": 47,
   "id": "ccaa104e",
   "metadata": {},
   "outputs": [
    {
     "data": {
      "image/png": "[encoded data removed]",
      "text/plain": [
       "<Figure size 432x288 with 1 Axes>"
      ]
     },
     "metadata": {
      "needs_background": "light"
     },
     "output_type": "display_data"
    }
   ],
   "source": [
    "# построим гистограмму распределения среднего кол-ва сообщений по 2-м тарифам\n",
    "revenue.groupby('tariff')['messages_count'].hist(bins=30, legend=True, alpha=0.5, density=True)\n",
    "plt.title('Гистограмма распределения среднего кол-ва сообщений по 2-м тарифам'+ \"\\n\")\n",
    "plt.xlabel('Кол-во сообщений')\n",
    "plt.ylabel('Частотность')\n",
    "\n",
    "plt.show()"
   ]
  },
  {
   "cell_type": "markdown",
   "id": "91d0f1ae",
   "metadata": {},
   "source": [
    "Из гистограммы видно, что чаще всего клиенты обоих тарифов почти не пользуются смс. Клиенты ultra не превышают лимита, клиенты smart чаще укладываются в лимит, но и есть те кто выходит за 50 сообщений в месяц."
   ]
  },
  {
   "cell_type": "code",
   "execution_count": 48,
   "id": "0f800c5a",
   "metadata": {},
   "outputs": [
    {
     "data": {
      "image/png": "[encoded data removed]",
      "text/plain": [
       "<Figure size 432x288 with 1 Axes>"
      ]
     },
     "metadata": {
      "needs_background": "light"
     },
     "output_type": "display_data"
    }
   ],
   "source": [
    "# построим распределение средней кол-ва сообщений в месяц по 2-м тарифам\n",
    "(revenue\n",
    " .pivot_table(index='tariff', columns='month', values='messages_count', aggfunc='mean')\n",
    " .T\n",
    " .plot(kind='bar', alpha=0.5)\n",
    ")\n",
    "plt.title('Распределение среднего кол-ва сообщений в месяц по 2-м тарифам'+ \"\\n\")\n",
    "plt.xlabel('Месяцы')\n",
    "plt.ylabel('Кол-во сообщений')\n",
    "\n",
    "plt.show()"
   ]
  },
  {
   "cell_type": "markdown",
   "id": "616f9b4b",
   "metadata": {},
   "source": [
    "Клиенты smart более стабильны в отправке сообщений, с марта по декабрь чуть больше 30 смс в месяц. Клиенты ultra не так стабильны в отправке смс, рост замечается со второго полугодия и до конца года. Всех меньше отправляют в феврале. Используют не более 6% от включенных в пакет смс."
   ]
  },
  {
   "cell_type": "code",
   "execution_count": 49,
   "id": "04173844",
   "metadata": {},
   "outputs": [
    {
     "data": {
      "image/png": "[encoded data removed]",
      "text/plain": [
       "<Figure size 432x288 with 1 Axes>"
      ]
     },
     "metadata": {
      "needs_background": "light"
     },
     "output_type": "display_data"
    }
   ],
   "source": [
    "# построим гистограмму распределения среднего интернет-трафика по 2-м тарифам\n",
    "revenue.groupby('tariff')['mb_sum_inet'].hist(bins=30, legend=True, alpha=0.5, density=True)\n",
    "plt.title('Гистограмма распределения средней интернет-трафика по 2-м тарифам'+ \"\\n\")\n",
    "plt.xlabel('кол-во гигабайт')\n",
    "plt.ylabel('Частотность')\n",
    "\n",
    "plt.show()"
   ]
  },
  {
   "cell_type": "markdown",
   "id": "b5335d28",
   "metadata": {},
   "source": [
    "Клиенты smart, часто превышают лимит включенный в тариф по интернет-трафику. Клиенты ultra чаще укладываются в 30гб включенных в тариф, но и есть те, кто превышает лимит."
   ]
  },
  {
   "cell_type": "code",
   "execution_count": 50,
   "id": "57abef1f",
   "metadata": {},
   "outputs": [
    {
     "data": {
      "image/png": "[encoded data removed]",
      "text/plain": [
       "<Figure size 432x288 with 1 Axes>"
      ]
     },
     "metadata": {
      "needs_background": "light"
     },
     "output_type": "display_data"
    }
   ],
   "source": [
    "# построим распределение среднего интернет-трафика в месяц по 2-м тарифам\n",
    "(revenue\n",
    " .pivot_table(index='tariff', columns='month', values='mb_sum_inet', aggfunc='mean')\n",
    " .T\n",
    " .plot(kind='bar', alpha=0.5)\n",
    ")\n",
    "plt.title('Распределение среднего интернет-трафика в месяц по 2-м тарифам'+ \"\\n\")\n",
    "plt.xlabel('Месяцы')\n",
    "plt.ylabel('кол-во гигабайт')\n",
    "\n",
    "plt.show()"
   ]
  },
  {
   "cell_type": "markdown",
   "id": "f0ff4803",
   "metadata": {},
   "source": [
    "У обоих тарифов клиенты во втором полугодии более стабильны в использовании интернета."
   ]
  },
  {
   "cell_type": "code",
   "execution_count": 51,
   "id": "617b58fb",
   "metadata": {},
   "outputs": [
    {
     "data": {
      "image/png": "[encoded data removed]",
      "text/plain": [
       "<Figure size 432x288 with 1 Axes>"
      ]
     },
     "metadata": {
      "needs_background": "light"
     },
     "output_type": "display_data"
    }
   ],
   "source": [
    "# построим гистограмму распределения стандартного отклонения длительности звонков по 2-м тарифам\n",
    "(revenue.pivot_table(index='tariff', values='call_sum', aggfunc='std').T\n",
    "        .plot(kind='hist', alpha=0.5, bins=15))\n",
    "plt.title('Гистограмма распределения стандартного отклонения длительности звонков по 2-м тарифам'+ \"\\n\")\n",
    "plt.xlabel('Минуты')\n",
    "plt.ylabel('Частотность')\n",
    "\n",
    "plt.show()\n"
   ]
  },
  {
   "cell_type": "code",
   "execution_count": 52,
   "id": "81195824",
   "metadata": {},
   "outputs": [
    {
     "data": {
      "image/png": "[encoded data removed]",
      "text/plain": [
       "<Figure size 432x288 with 1 Axes>"
      ]
     },
     "metadata": {
      "needs_background": "light"
     },
     "output_type": "display_data"
    }
   ],
   "source": [
    "# построим гистограмму распределения стандартного отклонения кол-ва сообщений по 2-м тарифам\n",
    "(revenue.pivot_table(index='tariff', values='messages_count', aggfunc='std').T\n",
    "        .plot(kind='hist', alpha=0.5, bins=15))\n",
    "plt.title('Гистограмма распределения стандартного отклонения кол-ва сообщений по 2-м тарифам'+ \"\\n\")\n",
    "plt.xlabel('кол-во сообщений')\n",
    "plt.ylabel('Частотность')\n",
    "\n",
    "plt.show()\n"
   ]
  },
  {
   "cell_type": "code",
   "execution_count": 53,
   "id": "9161197c",
   "metadata": {},
   "outputs": [
    {
     "data": {
      "image/png": "[encoded data removed]",
      "text/plain": [
       "<Figure size 432x288 with 1 Axes>"
      ]
     },
     "metadata": {
      "needs_background": "light"
     },
     "output_type": "display_data"
    }
   ],
   "source": [
    "# построим гистограмму распределения стандартного отклонения интернет-трафика по 2-м тарифам\n",
    "(revenue.pivot_table(index='tariff', values='mb_sum_inet', aggfunc='std').T\n",
    "        .plot(kind='hist', alpha=0.5, bins=20))\n",
    "plt.title('Гистограмма распределения стандартного отклонения интернет-трафика по 2-м тарифам'+ \"\\n\")\n",
    "plt.xlabel('гигабайты')\n",
    "plt.ylabel('Частотность')\n",
    "\n",
    "plt.show()\n"
   ]
  },
  {
   "cell_type": "code",
   "execution_count": 54,
   "id": "2148f27e",
   "metadata": {},
   "outputs": [
    {
     "data": {
      "image/png": "[encoded data removed]",
      "text/plain": [
       "<Figure size 432x288 with 1 Axes>"
      ]
     },
     "metadata": {
      "needs_background": "light"
     },
     "output_type": "display_data"
    }
   ],
   "source": [
    "# построим гистограмму распределения дисперсии длительности звонков по 2-м тарифам\n",
    "(revenue.pivot_table(index='tariff', values='call_sum', aggfunc='var').T\n",
    "        .plot(kind='hist', alpha=0.5, bins=20))\n",
    "plt.title('Гистограмма распределения дисперсии длительности звонков по 2-м тарифам'+ \"\\n\")\n",
    "plt.xlabel('дисперсия')\n",
    "plt.ylabel('Частотность')\n",
    "\n",
    "plt.show()"
   ]
  },
  {
   "cell_type": "code",
   "execution_count": 55,
   "id": "78fbda81",
   "metadata": {},
   "outputs": [
    {
     "data": {
      "image/png": "[encoded data removed]",
      "text/plain": [
       "<Figure size 432x288 with 1 Axes>"
      ]
     },
     "metadata": {
      "needs_background": "light"
     },
     "output_type": "display_data"
    }
   ],
   "source": [
    "# построим гистограмму распределения дисперсии кол-ва сообщений по 2-м тарифам\n",
    "(revenue.pivot_table(index='tariff', values='messages_count', aggfunc='var').T\n",
    "        .plot(kind='hist', alpha=0.5, bins=20))\n",
    "plt.title('Гистограмма распределения дисперсии кол-ва сообщений по 2-м тарифам'+ \"\\n\")\n",
    "plt.xlabel('дисперсия')\n",
    "plt.ylabel('Частотность')\n",
    "\n",
    "plt.show()"
   ]
  },
  {
   "cell_type": "code",
   "execution_count": 56,
   "id": "10402713",
   "metadata": {},
   "outputs": [
    {
     "data": {
      "image/png": "[encoded data removed]",
      "text/plain": [
       "<Figure size 432x288 with 1 Axes>"
      ]
     },
     "metadata": {
      "needs_background": "light"
     },
     "output_type": "display_data"
    }
   ],
   "source": [
    "# построим гистограмму распределениядисперсии интернет-трафика  по 2-м тарифам\n",
    "(revenue.pivot_table(index='tariff', values='mb_sum_inet', aggfunc='var').T\n",
    "        .plot(kind='hist', alpha=0.5, bins=20))\n",
    "plt.title('Гистограмма распределения дисперсии интернет-трафика по 2-м тарифам'+ \"\\n\")\n",
    "plt.xlabel('дисперсия')\n",
    "plt.ylabel('Частотность')\n",
    "\n",
    "plt.show()"
   ]
  },
  {
   "cell_type": "markdown",
   "id": "091450f3",
   "metadata": {},
   "source": [
    "Дисперсия тарифа ultra больше, чем у клиентов тарифа smart по звонкам, сообщениям и интернет-трафику. Так же она более равномерна, чем у smart."
   ]
  },
  {
   "cell_type": "code",
   "execution_count": 57,
   "id": "e0cdb575",
   "metadata": {},
   "outputs": [
    {
     "data": {
      "image/png": "[encoded data removed]",
      "text/plain": [
       "<Figure size 432x288 with 1 Axes>"
      ]
     },
     "metadata": {
      "needs_background": "light"
     },
     "output_type": "display_data"
    }
   ],
   "source": [
    "# построим гистограмму распределения средней выручки  по 2-м тарифам\n",
    "revenue.groupby('tariff')['month_revenue'].hist(bins=20, legend=True, alpha=0.5, density=True)\n",
    "plt.title('Гистограмма распределения средней выручки  по 2-м тарифам'+ \"\\n\")\n",
    "plt.xlabel('рубли')\n",
    "plt.ylabel('Частотность')\n",
    "\n",
    "plt.show()"
   ]
  },
  {
   "cell_type": "code",
   "execution_count": 58,
   "id": "00d5651e",
   "metadata": {},
   "outputs": [
    {
     "data": {
      "image/png": "[encoded data removed]",
      "text/plain": [
       "<Figure size 432x288 with 1 Axes>"
      ]
     },
     "metadata": {
      "needs_background": "light"
     },
     "output_type": "display_data"
    }
   ],
   "source": [
    "# построим распределение средней выручки в месяц по 2-м тарифам\n",
    "(revenue\n",
    " .pivot_table(index='tariff', columns='month', values='month_revenue', aggfunc='mean')\n",
    " .T\n",
    " .plot(kind='bar', alpha=0.5)\n",
    ")\n",
    "plt.title('Распределение средней выручки в месяц по 2-м тарифам'+ \"\\n\")\n",
    "plt.xlabel('месяцы')\n",
    "plt.ylabel('рубли')\n",
    "\n",
    "plt.show()"
   ]
  },
  {
   "cell_type": "markdown",
   "id": "8b202ef5",
   "metadata": {},
   "source": [
    "### Вывод:\n",
    "\n",
    "* Клиенты тарифа **ultra** не выходят за пределы своего тарифа по минутам и смс. По интернету выходят, но редко.\n",
    "\n",
    "* Клиенты тарифа **smart** по кол-ву минут и смс они чаще всего не выходят за пределы тарифа, а вот по объему интернет-трафика почти половина пользователей выходит за лимит.\n",
    "\n",
    "* Для оператора выгоднее клиенты тарифа ultra, не смотря на то, что они почти недоплачивают за сверхиспользования тарифа, они стабильно приносят компании абоненскую плату почти в 2 раза выше чем клиенты smart с доплатами. Так же их поведение более стабильно, что позволяет спрогнозировать доход от них на более длительный срок.\n",
    "\n",
    "* Больше всего расходуют из пакета минут, смс и интернет в декабре, всех меньше в январе-феврале."
   ]
  },
  {
   "cell_type": "markdown",
   "id": "2f1adb4e",
   "metadata": {},
   "source": [
    "## Проверка гипотез"
   ]
  },
  {
   "cell_type": "markdown",
   "id": "3a2bd1cf",
   "metadata": {},
   "source": [
    "**Гипотеза №1: средняя выручка пользователей тарифов «Ультра» и «Смарт» различаются** \n",
    "\n",
    "Нулевая гипотеза: средняя выручка пользователей тарифов «Ультра» и «Смарт» равны.\n",
    "\n",
    "Альтернативная гипотеза: средняя выручка пользователей тарифов «Ультра» и «Смарт» не равны. "
   ]
  },
  {
   "cell_type": "code",
   "execution_count": 59,
   "id": "8e1daf77",
   "metadata": {},
   "outputs": [],
   "source": [
    "# выборка выручки за месяц тарифа smart\n",
    "smart = revenue.query('tariff==\"smart\"')['month_revenue']"
   ]
  },
  {
   "cell_type": "code",
   "execution_count": 60,
   "id": "9da40065",
   "metadata": {},
   "outputs": [],
   "source": [
    "# выборка выручки за месяц тарифа ultra\n",
    "ultra = revenue.query('tariff==\"ultra\"')['month_revenue']"
   ]
  },
  {
   "cell_type": "code",
   "execution_count": 61,
   "id": "f1548bed",
   "metadata": {},
   "outputs": [
    {
     "data": {
      "text/plain": [
       "8     1150.0\n",
       "9      550.0\n",
       "10     550.0\n",
       "11    1150.0\n",
       "12    1550.0\n",
       "Name: month_revenue, dtype: float64"
      ]
     },
     "execution_count": 61,
     "metadata": {},
     "output_type": "execute_result"
    }
   ],
   "source": [
    "smart.head()"
   ]
  },
  {
   "cell_type": "code",
   "execution_count": 62,
   "id": "e53022f4",
   "metadata": {},
   "outputs": [
    {
     "name": "stdout",
     "output_type": "stream",
     "text": [
      "p-значение: 1.4229814360764067e-160\n",
      "Отвергаем нулевую гипотезу\n"
     ]
    }
   ],
   "source": [
    "alpha = .05 # критический уровень статистической значимости\n",
    "# если p-value окажется меньше него - отвергнем гипотезу\n",
    "\n",
    "#используем метод для проверки гипотезы о равенстве среднего по взятым выборкам\n",
    "results = st.ttest_ind(smart, ultra)\n",
    "\n",
    "print('p-значение:', results.pvalue)\n",
    "\n",
    "if results.pvalue < alpha:\n",
    "    print(\"Отвергаем нулевую гипотезу\")\n",
    "else:\n",
    "    print(\"Не получилось отвергнуть нулевую гипотезу\") \n"
   ]
  },
  {
   "cell_type": "markdown",
   "id": "71edf152",
   "metadata": {},
   "source": [
    "**Гипотеза №2: средняя выручка пользователей из Москвы отличается от выручки пользователей из других регионов**\n",
    "\n",
    "Нулевая гипотеза: средняя выручка пользователей из Москвы равна выручке пользователей из других регионов.\n",
    "\n",
    "Альтернативная гипотеза: средняя выручка пользователей из Москвы не равна выручке пользователей из других регионов."
   ]
  },
  {
   "cell_type": "code",
   "execution_count": 63,
   "id": "b100199b",
   "metadata": {},
   "outputs": [],
   "source": [
    "# выборка выручки пользователей из Москвы\n",
    "msk = revenue.query('city == \"Москва\"')['month_revenue']"
   ]
  },
  {
   "cell_type": "code",
   "execution_count": 64,
   "id": "047b715c",
   "metadata": {},
   "outputs": [],
   "source": [
    "# выборка выручки пользователей из других регионов\n",
    "region = revenue.query('city != \"Москва\"')['month_revenue']"
   ]
  },
  {
   "cell_type": "code",
   "execution_count": 65,
   "id": "2277677c",
   "metadata": {},
   "outputs": [
    {
     "name": "stdout",
     "output_type": "stream",
     "text": [
      "p-значение: 0.5440152911670223\n",
      "Не получилось отвергнуть нулевую гипотезу\n"
     ]
    }
   ],
   "source": [
    "alpha = .05 # критический уровень статистической значимости\n",
    "# если p-value окажется меньше него - отвергнем гипотезу\n",
    "\n",
    "#используем метод для проверки гипотезы о равенстве среднего по взятым выборкам\n",
    "results = st.ttest_ind(msk, region)\n",
    "\n",
    "print('p-значение:', results.pvalue)\n",
    "\n",
    "if results.pvalue < alpha:\n",
    "    print(\"Отвергаем нулевую гипотезу\")\n",
    "else:\n",
    "    print(\"Не получилось отвергнуть нулевую гипотезу\") \n"
   ]
  },
  {
   "cell_type": "markdown",
   "id": "1fd8ac8b",
   "metadata": {},
   "source": [
    "### Вывод:\n",
    "\n",
    "* По первой гепотезе, P-значение достаточно мало, что даёт основание отвергнуть предположение о равенстве между выручками у разных тарифных планов.\n",
    "* По второй гепотезе,  P-значение составляет 54,4%, это слишком высокая вероятность для того, чтобы делать выводы о значимом различии между средней выручкой пользователей из Москвы и выручкой пользователей из других регионов."
   ]
  },
  {
   "cell_type": "markdown",
   "id": "a49cb2f8",
   "metadata": {},
   "source": [
    "## Общий вывод:\n",
    "\n",
    "1. Изучив данные, заменили тип данных у всех столбцов с датами во всех таблицах на datetime.\n",
    "2. Посчитали для каждого пользователя:\n",
    "   - количество сделанных звонков и израсходованных минут разговора по месяцам;\n",
    "\n",
    "   - количество отправленных сообщений по месяцам;\n",
    "\n",
    "   - объем израсходованного интернет-трафика по месяцам;\n",
    "\n",
    "   - помесячную выручку с каждого пользователя.\n",
    "3. Объединили посчитанные данные в одну таблицу revenue\n",
    "**4. После анализа полученных данных сделали вывод:**\n",
    "   -  Клиенты тарифа **ultra** не выходят за пределы своего тарифа по минутам и смс. По интернету выходят, но редко.\n",
    "\n",
    "   - Клиенты тарифа **smart** по кол-ву минут и смс они чаще всего не выходят за пределы тарифа, а вот по объему интернет-трафика почти половина пользователей выходит за лимит.\n",
    "\n",
    "   - Для оператора выгоднее клиенты тарифа ultra, не смотря на то, что они почти недоплачивают за сверхиспользования тарифа, они стабильно приносят компании абоненскую плату почти в 2 раза выше чем клиенты smart с доплатами. Так же их поведение более стабильно, что позволяет спрогнозировать доход от них на более длительный срок.\n",
    "   \n",
    "**5. Мы проверили две гипотезы при помощи ttest.** \n",
    "   - **Гипотеза №1**: средняя выручка пользователей тарифов «Ультра» и «Смарт» различаются - получив очень маленькое P-значение мы отвергли гипотезу о равенстве средних выручек пользователей разных тарифов.\n",
    "   - **Гипотеза №2**: средняя выручка пользователей из Москвы отличается от выручки пользователей из других регионов - получив  P-значение почти 54,4%, мы не отвергли нулевую гипотезу, и предположили, что различия между средней выручкой пользователей из Москвы и выручкой пользователей из других регионов не велико.  "
   ]
  }
 ],
 "metadata": {
  "ExecuteTimeLog": [
   {
    "duration": 1758,
    "start_time": "2022-07-28T12:40:18.941Z"
   },
   {
    "duration": 154,
    "start_time": "2022-07-28T12:40:20.701Z"
   },
   {
    "duration": 0,
    "start_time": "2022-07-28T12:40:20.859Z"
   },
   {
    "duration": 0,
    "start_time": "2022-07-28T12:40:20.860Z"
   },
   {
    "duration": 0,
    "start_time": "2022-07-28T12:40:20.861Z"
   },
   {
    "duration": 0,
    "start_time": "2022-07-28T12:40:20.863Z"
   },
   {
    "duration": 0,
    "start_time": "2022-07-28T12:40:20.864Z"
   },
   {
    "duration": 0,
    "start_time": "2022-07-28T12:40:20.866Z"
   },
   {
    "duration": 0,
    "start_time": "2022-07-28T12:40:20.868Z"
   },
   {
    "duration": 0,
    "start_time": "2022-07-28T12:40:20.870Z"
   },
   {
    "duration": 0,
    "start_time": "2022-07-28T12:40:20.876Z"
   },
   {
    "duration": 0,
    "start_time": "2022-07-28T12:40:20.877Z"
   },
   {
    "duration": 0,
    "start_time": "2022-07-28T12:40:20.878Z"
   },
   {
    "duration": 0,
    "start_time": "2022-07-28T12:40:20.879Z"
   },
   {
    "duration": 0,
    "start_time": "2022-07-28T12:40:20.880Z"
   },
   {
    "duration": 0,
    "start_time": "2022-07-28T12:40:20.881Z"
   },
   {
    "duration": 0,
    "start_time": "2022-07-28T12:40:20.909Z"
   },
   {
    "duration": 0,
    "start_time": "2022-07-28T12:40:20.911Z"
   },
   {
    "duration": 0,
    "start_time": "2022-07-28T12:40:20.912Z"
   },
   {
    "duration": 0,
    "start_time": "2022-07-28T12:40:20.914Z"
   },
   {
    "duration": 0,
    "start_time": "2022-07-28T12:40:20.915Z"
   },
   {
    "duration": 0,
    "start_time": "2022-07-28T12:40:20.917Z"
   },
   {
    "duration": 0,
    "start_time": "2022-07-28T12:40:20.918Z"
   },
   {
    "duration": 0,
    "start_time": "2022-07-28T12:40:20.920Z"
   },
   {
    "duration": 0,
    "start_time": "2022-07-28T12:40:20.921Z"
   },
   {
    "duration": 0,
    "start_time": "2022-07-28T12:40:20.923Z"
   },
   {
    "duration": 0,
    "start_time": "2022-07-28T12:40:20.925Z"
   },
   {
    "duration": 0,
    "start_time": "2022-07-28T12:40:20.926Z"
   },
   {
    "duration": 0,
    "start_time": "2022-07-28T12:40:20.927Z"
   },
   {
    "duration": 0,
    "start_time": "2022-07-28T12:40:20.929Z"
   },
   {
    "duration": 0,
    "start_time": "2022-07-28T12:40:20.930Z"
   },
   {
    "duration": 0,
    "start_time": "2022-07-28T12:40:20.931Z"
   },
   {
    "duration": 0,
    "start_time": "2022-07-28T12:40:20.933Z"
   },
   {
    "duration": 0,
    "start_time": "2022-07-28T12:40:20.934Z"
   },
   {
    "duration": 0,
    "start_time": "2022-07-28T12:40:20.935Z"
   },
   {
    "duration": 0,
    "start_time": "2022-07-28T12:40:20.937Z"
   },
   {
    "duration": 0,
    "start_time": "2022-07-28T12:40:20.940Z"
   },
   {
    "duration": 0,
    "start_time": "2022-07-28T12:40:20.942Z"
   },
   {
    "duration": 0,
    "start_time": "2022-07-28T12:40:20.943Z"
   },
   {
    "duration": 0,
    "start_time": "2022-07-28T12:40:20.944Z"
   },
   {
    "duration": 0,
    "start_time": "2022-07-28T12:40:20.945Z"
   },
   {
    "duration": 0,
    "start_time": "2022-07-28T12:40:20.947Z"
   },
   {
    "duration": 0,
    "start_time": "2022-07-28T12:40:20.948Z"
   },
   {
    "duration": 0,
    "start_time": "2022-07-28T12:40:20.949Z"
   },
   {
    "duration": 0,
    "start_time": "2022-07-28T12:40:20.951Z"
   },
   {
    "duration": 0,
    "start_time": "2022-07-28T12:40:20.951Z"
   },
   {
    "duration": 0,
    "start_time": "2022-07-28T12:40:21.013Z"
   },
   {
    "duration": 0,
    "start_time": "2022-07-28T12:40:21.015Z"
   },
   {
    "duration": 0,
    "start_time": "2022-07-28T12:40:21.017Z"
   },
   {
    "duration": 0,
    "start_time": "2022-07-28T12:40:21.018Z"
   },
   {
    "duration": 1,
    "start_time": "2022-07-28T12:40:21.018Z"
   },
   {
    "duration": 0,
    "start_time": "2022-07-28T12:40:21.019Z"
   },
   {
    "duration": 0,
    "start_time": "2022-07-28T12:40:21.020Z"
   },
   {
    "duration": 0,
    "start_time": "2022-07-28T12:40:21.023Z"
   },
   {
    "duration": 0,
    "start_time": "2022-07-28T12:40:21.024Z"
   },
   {
    "duration": 0,
    "start_time": "2022-07-28T12:40:21.026Z"
   },
   {
    "duration": 0,
    "start_time": "2022-07-28T12:40:21.027Z"
   },
   {
    "duration": 0,
    "start_time": "2022-07-28T12:40:21.028Z"
   },
   {
    "duration": 0,
    "start_time": "2022-07-28T12:40:21.030Z"
   },
   {
    "duration": 0,
    "start_time": "2022-07-28T12:40:21.031Z"
   },
   {
    "duration": 0,
    "start_time": "2022-07-28T12:40:21.033Z"
   },
   {
    "duration": 0,
    "start_time": "2022-07-28T12:40:21.034Z"
   },
   {
    "duration": 3,
    "start_time": "2022-07-28T12:41:22.905Z"
   },
   {
    "duration": 537,
    "start_time": "2022-07-28T12:41:22.910Z"
   },
   {
    "duration": 439,
    "start_time": "2022-07-28T12:41:23.449Z"
   },
   {
    "duration": 154,
    "start_time": "2022-07-28T12:41:23.890Z"
   },
   {
    "duration": 54,
    "start_time": "2022-07-28T12:41:24.046Z"
   },
   {
    "duration": 64,
    "start_time": "2022-07-28T12:41:24.102Z"
   },
   {
    "duration": 13,
    "start_time": "2022-07-28T12:41:24.168Z"
   },
   {
    "duration": 38,
    "start_time": "2022-07-28T12:41:24.183Z"
   },
   {
    "duration": 9,
    "start_time": "2022-07-28T12:41:24.224Z"
   },
   {
    "duration": 32,
    "start_time": "2022-07-28T12:41:24.236Z"
   },
   {
    "duration": 7,
    "start_time": "2022-07-28T12:41:24.270Z"
   },
   {
    "duration": 32,
    "start_time": "2022-07-28T12:41:24.279Z"
   },
   {
    "duration": 14,
    "start_time": "2022-07-28T12:41:24.313Z"
   },
   {
    "duration": 14,
    "start_time": "2022-07-28T12:41:24.328Z"
   },
   {
    "duration": 15,
    "start_time": "2022-07-28T12:41:24.343Z"
   },
   {
    "duration": 11,
    "start_time": "2022-07-28T12:41:24.359Z"
   },
   {
    "duration": 41,
    "start_time": "2022-07-28T12:41:24.372Z"
   },
   {
    "duration": 24,
    "start_time": "2022-07-28T12:41:24.415Z"
   },
   {
    "duration": 93,
    "start_time": "2022-07-28T12:41:24.440Z"
   },
   {
    "duration": 52,
    "start_time": "2022-07-28T12:41:24.535Z"
   },
   {
    "duration": 225,
    "start_time": "2022-07-28T12:41:24.589Z"
   },
   {
    "duration": 6,
    "start_time": "2022-07-28T12:41:24.816Z"
   },
   {
    "duration": 14,
    "start_time": "2022-07-28T12:41:24.824Z"
   },
   {
    "duration": 33,
    "start_time": "2022-07-28T12:41:24.840Z"
   },
   {
    "duration": 6,
    "start_time": "2022-07-28T12:41:24.875Z"
   },
   {
    "duration": 96,
    "start_time": "2022-07-28T12:41:24.883Z"
   },
   {
    "duration": 31,
    "start_time": "2022-07-28T12:41:24.981Z"
   },
   {
    "duration": 38,
    "start_time": "2022-07-28T12:41:25.019Z"
   },
   {
    "duration": 24,
    "start_time": "2022-07-28T12:41:25.059Z"
   },
   {
    "duration": 62,
    "start_time": "2022-07-28T12:41:25.086Z"
   },
   {
    "duration": 8,
    "start_time": "2022-07-28T12:41:25.150Z"
   },
   {
    "duration": 24,
    "start_time": "2022-07-28T12:41:25.160Z"
   },
   {
    "duration": 18,
    "start_time": "2022-07-28T12:41:25.187Z"
   },
   {
    "duration": 35,
    "start_time": "2022-07-28T12:41:25.206Z"
   },
   {
    "duration": 13,
    "start_time": "2022-07-28T12:41:25.242Z"
   },
   {
    "duration": 14,
    "start_time": "2022-07-28T12:41:25.257Z"
   },
   {
    "duration": 22,
    "start_time": "2022-07-28T12:41:25.273Z"
   },
   {
    "duration": 6,
    "start_time": "2022-07-28T12:41:25.297Z"
   },
   {
    "duration": 13,
    "start_time": "2022-07-28T12:41:25.309Z"
   },
   {
    "duration": 7509,
    "start_time": "2022-07-28T12:41:25.324Z"
   },
   {
    "duration": 15,
    "start_time": "2022-07-28T12:41:32.835Z"
   },
   {
    "duration": 57,
    "start_time": "2022-07-28T12:41:32.852Z"
   },
   {
    "duration": 312,
    "start_time": "2022-07-28T12:41:32.911Z"
   },
   {
    "duration": 247,
    "start_time": "2022-07-28T12:41:33.225Z"
   },
   {
    "duration": 271,
    "start_time": "2022-07-28T12:41:33.474Z"
   },
   {
    "duration": 254,
    "start_time": "2022-07-28T12:41:33.746Z"
   },
   {
    "duration": 273,
    "start_time": "2022-07-28T12:41:34.010Z"
   },
   {
    "duration": 254,
    "start_time": "2022-07-28T12:41:34.285Z"
   },
   {
    "duration": 295,
    "start_time": "2022-07-28T12:41:34.541Z"
   },
   {
    "duration": 272,
    "start_time": "2022-07-28T12:41:34.838Z"
   },
   {
    "duration": 380,
    "start_time": "2022-07-28T12:41:35.113Z"
   },
   {
    "duration": 276,
    "start_time": "2022-07-28T12:41:35.495Z"
   },
   {
    "duration": 290,
    "start_time": "2022-07-28T12:41:35.773Z"
   },
   {
    "duration": 281,
    "start_time": "2022-07-28T12:41:36.065Z"
   },
   {
    "duration": 282,
    "start_time": "2022-07-28T12:41:36.348Z"
   },
   {
    "duration": 265,
    "start_time": "2022-07-28T12:41:36.632Z"
   },
   {
    "duration": 12,
    "start_time": "2022-07-28T12:41:36.899Z"
   },
   {
    "duration": 20,
    "start_time": "2022-07-28T12:41:36.913Z"
   },
   {
    "duration": 7,
    "start_time": "2022-07-28T12:41:36.934Z"
   },
   {
    "duration": 10,
    "start_time": "2022-07-28T12:41:36.943Z"
   },
   {
    "duration": 6,
    "start_time": "2022-07-28T12:41:36.955Z"
   },
   {
    "duration": 16,
    "start_time": "2022-07-28T12:41:36.962Z"
   },
   {
    "duration": 173,
    "start_time": "2022-07-28T13:00:48.819Z"
   },
   {
    "duration": 268,
    "start_time": "2022-07-28T13:00:55.610Z"
   },
   {
    "duration": 294,
    "start_time": "2022-07-28T13:01:13.789Z"
   },
   {
    "duration": 389,
    "start_time": "2022-07-28T13:01:17.210Z"
   },
   {
    "duration": 102,
    "start_time": "2022-07-28T13:03:33.667Z"
   },
   {
    "duration": 49,
    "start_time": "2022-07-28T16:40:11.859Z"
   },
   {
    "duration": 1337,
    "start_time": "2022-07-28T16:40:20.831Z"
   },
   {
    "duration": 914,
    "start_time": "2022-07-28T16:40:22.170Z"
   },
   {
    "duration": 398,
    "start_time": "2022-07-28T16:40:23.085Z"
   },
   {
    "duration": 157,
    "start_time": "2022-07-28T16:40:23.486Z"
   },
   {
    "duration": 52,
    "start_time": "2022-07-28T16:40:23.645Z"
   },
   {
    "duration": 60,
    "start_time": "2022-07-28T16:40:23.699Z"
   },
   {
    "duration": 18,
    "start_time": "2022-07-28T16:40:23.762Z"
   },
   {
    "duration": 37,
    "start_time": "2022-07-28T16:40:23.782Z"
   },
   {
    "duration": 41,
    "start_time": "2022-07-28T16:40:23.821Z"
   },
   {
    "duration": 13,
    "start_time": "2022-07-28T16:40:23.866Z"
   },
   {
    "duration": 24,
    "start_time": "2022-07-28T16:40:23.880Z"
   },
   {
    "duration": 8,
    "start_time": "2022-07-28T16:40:23.906Z"
   },
   {
    "duration": 18,
    "start_time": "2022-07-28T16:40:23.916Z"
   },
   {
    "duration": 14,
    "start_time": "2022-07-28T16:40:23.952Z"
   },
   {
    "duration": 21,
    "start_time": "2022-07-28T16:40:23.968Z"
   },
   {
    "duration": 11,
    "start_time": "2022-07-28T16:40:23.992Z"
   },
   {
    "duration": 13,
    "start_time": "2022-07-28T16:40:24.005Z"
   },
   {
    "duration": 34,
    "start_time": "2022-07-28T16:40:24.020Z"
   },
   {
    "duration": 21,
    "start_time": "2022-07-28T16:40:24.057Z"
   },
   {
    "duration": 81,
    "start_time": "2022-07-28T16:40:24.080Z"
   },
   {
    "duration": 47,
    "start_time": "2022-07-28T16:40:24.172Z"
   },
   {
    "duration": 205,
    "start_time": "2022-07-28T16:40:24.220Z"
   },
   {
    "duration": 5,
    "start_time": "2022-07-28T16:40:24.427Z"
   },
   {
    "duration": 10,
    "start_time": "2022-07-28T16:40:24.452Z"
   },
   {
    "duration": 39,
    "start_time": "2022-07-28T16:40:24.465Z"
   },
   {
    "duration": 5,
    "start_time": "2022-07-28T16:40:24.506Z"
   },
   {
    "duration": 82,
    "start_time": "2022-07-28T16:40:24.513Z"
   },
   {
    "duration": 20,
    "start_time": "2022-07-28T16:40:24.598Z"
   },
   {
    "duration": 67,
    "start_time": "2022-07-28T16:40:24.620Z"
   },
   {
    "duration": 27,
    "start_time": "2022-07-28T16:40:24.692Z"
   },
   {
    "duration": 49,
    "start_time": "2022-07-28T16:40:24.720Z"
   },
   {
    "duration": 12,
    "start_time": "2022-07-28T16:40:24.772Z"
   },
   {
    "duration": 13,
    "start_time": "2022-07-28T16:40:24.787Z"
   },
   {
    "duration": 10,
    "start_time": "2022-07-28T16:40:24.803Z"
   },
   {
    "duration": 10,
    "start_time": "2022-07-28T16:40:24.816Z"
   },
   {
    "duration": 35,
    "start_time": "2022-07-28T16:40:24.828Z"
   },
   {
    "duration": 18,
    "start_time": "2022-07-28T16:40:24.865Z"
   },
   {
    "duration": 16,
    "start_time": "2022-07-28T16:40:24.884Z"
   },
   {
    "duration": 5,
    "start_time": "2022-07-28T16:40:24.902Z"
   },
   {
    "duration": 6,
    "start_time": "2022-07-28T16:40:24.908Z"
   },
   {
    "duration": 7179,
    "start_time": "2022-07-28T16:40:24.916Z"
   },
   {
    "duration": 14,
    "start_time": "2022-07-28T16:40:32.096Z"
   },
   {
    "duration": 47,
    "start_time": "2022-07-28T16:40:32.112Z"
   },
   {
    "duration": 265,
    "start_time": "2022-07-28T16:40:32.161Z"
   },
   {
    "duration": 270,
    "start_time": "2022-07-28T16:40:32.428Z"
   },
   {
    "duration": 260,
    "start_time": "2022-07-28T16:40:32.700Z"
   },
   {
    "duration": 271,
    "start_time": "2022-07-28T16:40:32.963Z"
   },
   {
    "duration": 256,
    "start_time": "2022-07-28T16:40:33.237Z"
   },
   {
    "duration": 277,
    "start_time": "2022-07-28T16:40:33.496Z"
   },
   {
    "duration": 249,
    "start_time": "2022-07-28T16:40:33.775Z"
   },
   {
    "duration": 264,
    "start_time": "2022-07-28T16:40:34.027Z"
   },
   {
    "duration": 339,
    "start_time": "2022-07-28T16:40:34.294Z"
   },
   {
    "duration": 277,
    "start_time": "2022-07-28T16:40:34.636Z"
   },
   {
    "duration": 278,
    "start_time": "2022-07-28T16:40:34.916Z"
   },
   {
    "duration": 299,
    "start_time": "2022-07-28T16:40:35.197Z"
   },
   {
    "duration": 254,
    "start_time": "2022-07-28T16:40:35.498Z"
   },
   {
    "duration": 283,
    "start_time": "2022-07-28T16:40:35.755Z"
   },
   {
    "duration": 324,
    "start_time": "2022-07-28T16:40:36.040Z"
   },
   {
    "duration": 14,
    "start_time": "2022-07-28T16:40:36.369Z"
   },
   {
    "duration": 18,
    "start_time": "2022-07-28T16:40:36.385Z"
   },
   {
    "duration": 16,
    "start_time": "2022-07-28T16:40:36.405Z"
   },
   {
    "duration": 18,
    "start_time": "2022-07-28T16:40:36.424Z"
   },
   {
    "duration": 16,
    "start_time": "2022-07-28T16:40:36.445Z"
   },
   {
    "duration": 16,
    "start_time": "2022-07-28T16:40:36.463Z"
   },
   {
    "duration": 13,
    "start_time": "2022-07-28T16:43:02.486Z"
   },
   {
    "duration": 115,
    "start_time": "2022-07-28T16:44:54.519Z"
   },
   {
    "duration": 93,
    "start_time": "2022-07-28T16:45:19.397Z"
   },
   {
    "duration": 138,
    "start_time": "2022-07-28T16:54:26.299Z"
   },
   {
    "duration": 32,
    "start_time": "2022-07-28T16:54:49.290Z"
   },
   {
    "duration": 16,
    "start_time": "2022-07-28T16:54:56.508Z"
   },
   {
    "duration": 44,
    "start_time": "2022-07-28T16:58:26.482Z"
   },
   {
    "duration": 5,
    "start_time": "2022-07-28T16:59:23.095Z"
   },
   {
    "duration": 9316,
    "start_time": "2022-07-28T17:05:09.280Z"
   },
   {
    "duration": 9,
    "start_time": "2022-07-28T17:09:36.863Z"
   },
   {
    "duration": 48,
    "start_time": "2022-07-28T17:13:25.825Z"
   },
   {
    "duration": 28,
    "start_time": "2022-07-28T17:13:38.647Z"
   },
   {
    "duration": 1281,
    "start_time": "2022-07-28T17:18:44.683Z"
   },
   {
    "duration": 232,
    "start_time": "2022-07-28T17:18:45.969Z"
   },
   {
    "duration": 224,
    "start_time": "2022-07-28T17:18:46.204Z"
   },
   {
    "duration": 128,
    "start_time": "2022-07-28T17:18:46.431Z"
   },
   {
    "duration": 25,
    "start_time": "2022-07-28T17:18:46.562Z"
   },
   {
    "duration": 39,
    "start_time": "2022-07-28T17:18:46.588Z"
   },
   {
    "duration": 15,
    "start_time": "2022-07-28T17:18:46.629Z"
   },
   {
    "duration": 38,
    "start_time": "2022-07-28T17:18:46.646Z"
   },
   {
    "duration": 29,
    "start_time": "2022-07-28T17:18:46.687Z"
   },
   {
    "duration": 10,
    "start_time": "2022-07-28T17:18:46.719Z"
   },
   {
    "duration": 42,
    "start_time": "2022-07-28T17:18:46.731Z"
   },
   {
    "duration": 26,
    "start_time": "2022-07-28T17:18:46.775Z"
   },
   {
    "duration": 8,
    "start_time": "2022-07-28T17:18:46.803Z"
   },
   {
    "duration": 21,
    "start_time": "2022-07-28T17:18:46.814Z"
   },
   {
    "duration": 12,
    "start_time": "2022-07-28T17:18:46.852Z"
   },
   {
    "duration": 33,
    "start_time": "2022-07-28T17:18:46.867Z"
   },
   {
    "duration": 14,
    "start_time": "2022-07-28T17:18:46.902Z"
   },
   {
    "duration": 9,
    "start_time": "2022-07-28T17:18:46.918Z"
   },
   {
    "duration": 35,
    "start_time": "2022-07-28T17:18:46.929Z"
   },
   {
    "duration": 29,
    "start_time": "2022-07-28T17:18:46.966Z"
   },
   {
    "duration": 87,
    "start_time": "2022-07-28T17:18:46.997Z"
   },
   {
    "duration": 50,
    "start_time": "2022-07-28T17:18:47.086Z"
   },
   {
    "duration": 265,
    "start_time": "2022-07-28T17:18:47.137Z"
   },
   {
    "duration": 5,
    "start_time": "2022-07-28T17:18:47.404Z"
   },
   {
    "duration": 9,
    "start_time": "2022-07-28T17:18:47.410Z"
   },
   {
    "duration": 4,
    "start_time": "2022-07-28T17:18:47.421Z"
   },
   {
    "duration": 165,
    "start_time": "2022-07-28T17:18:47.427Z"
   },
   {
    "duration": 0,
    "start_time": "2022-07-28T17:18:47.597Z"
   },
   {
    "duration": 0,
    "start_time": "2022-07-28T17:18:47.599Z"
   },
   {
    "duration": 0,
    "start_time": "2022-07-28T17:18:47.601Z"
   },
   {
    "duration": 0,
    "start_time": "2022-07-28T17:18:47.603Z"
   },
   {
    "duration": 0,
    "start_time": "2022-07-28T17:18:47.605Z"
   },
   {
    "duration": 0,
    "start_time": "2022-07-28T17:18:47.607Z"
   },
   {
    "duration": 0,
    "start_time": "2022-07-28T17:18:47.608Z"
   },
   {
    "duration": 0,
    "start_time": "2022-07-28T17:18:47.610Z"
   },
   {
    "duration": 0,
    "start_time": "2022-07-28T17:18:47.611Z"
   },
   {
    "duration": 1,
    "start_time": "2022-07-28T17:18:47.612Z"
   },
   {
    "duration": 0,
    "start_time": "2022-07-28T17:18:47.614Z"
   },
   {
    "duration": 0,
    "start_time": "2022-07-28T17:18:47.615Z"
   },
   {
    "duration": 0,
    "start_time": "2022-07-28T17:18:47.616Z"
   },
   {
    "duration": 0,
    "start_time": "2022-07-28T17:18:47.617Z"
   },
   {
    "duration": 0,
    "start_time": "2022-07-28T17:18:47.653Z"
   },
   {
    "duration": 0,
    "start_time": "2022-07-28T17:18:47.654Z"
   },
   {
    "duration": 0,
    "start_time": "2022-07-28T17:18:47.654Z"
   },
   {
    "duration": 0,
    "start_time": "2022-07-28T17:18:47.655Z"
   },
   {
    "duration": 0,
    "start_time": "2022-07-28T17:18:47.656Z"
   },
   {
    "duration": 0,
    "start_time": "2022-07-28T17:18:47.657Z"
   },
   {
    "duration": 0,
    "start_time": "2022-07-28T17:18:47.658Z"
   },
   {
    "duration": 0,
    "start_time": "2022-07-28T17:18:47.660Z"
   },
   {
    "duration": 0,
    "start_time": "2022-07-28T17:18:47.662Z"
   },
   {
    "duration": 0,
    "start_time": "2022-07-28T17:18:47.663Z"
   },
   {
    "duration": 0,
    "start_time": "2022-07-28T17:18:47.664Z"
   },
   {
    "duration": 0,
    "start_time": "2022-07-28T17:18:47.665Z"
   },
   {
    "duration": 0,
    "start_time": "2022-07-28T17:18:47.667Z"
   },
   {
    "duration": 0,
    "start_time": "2022-07-28T17:18:47.668Z"
   },
   {
    "duration": 0,
    "start_time": "2022-07-28T17:18:47.669Z"
   },
   {
    "duration": 0,
    "start_time": "2022-07-28T17:18:47.670Z"
   },
   {
    "duration": 0,
    "start_time": "2022-07-28T17:18:47.672Z"
   },
   {
    "duration": 0,
    "start_time": "2022-07-28T17:18:47.673Z"
   },
   {
    "duration": 0,
    "start_time": "2022-07-28T17:18:47.675Z"
   },
   {
    "duration": 0,
    "start_time": "2022-07-28T17:18:47.676Z"
   },
   {
    "duration": 0,
    "start_time": "2022-07-28T17:18:47.678Z"
   },
   {
    "duration": 0,
    "start_time": "2022-07-28T17:18:47.679Z"
   },
   {
    "duration": 0,
    "start_time": "2022-07-28T17:18:47.682Z"
   },
   {
    "duration": 0,
    "start_time": "2022-07-28T17:18:47.683Z"
   },
   {
    "duration": 0,
    "start_time": "2022-07-28T17:18:47.686Z"
   },
   {
    "duration": 0,
    "start_time": "2022-07-28T17:18:47.687Z"
   },
   {
    "duration": 5050,
    "start_time": "2022-07-28T17:20:01.203Z"
   },
   {
    "duration": 34,
    "start_time": "2022-07-28T17:20:24.756Z"
   },
   {
    "duration": 31,
    "start_time": "2022-07-28T17:20:43.177Z"
   },
   {
    "duration": 27,
    "start_time": "2022-07-28T17:21:00.332Z"
   },
   {
    "duration": 36,
    "start_time": "2022-07-28T17:21:15.688Z"
   },
   {
    "duration": 25,
    "start_time": "2022-07-28T17:27:38.982Z"
   },
   {
    "duration": 34,
    "start_time": "2022-07-28T17:34:46.997Z"
   },
   {
    "duration": 1206,
    "start_time": "2022-07-28T17:37:23.889Z"
   },
   {
    "duration": 192,
    "start_time": "2022-07-28T17:37:25.097Z"
   },
   {
    "duration": 194,
    "start_time": "2022-07-28T17:37:25.291Z"
   },
   {
    "duration": 112,
    "start_time": "2022-07-28T17:37:25.488Z"
   },
   {
    "duration": 15,
    "start_time": "2022-07-28T17:37:25.602Z"
   },
   {
    "duration": 40,
    "start_time": "2022-07-28T17:37:25.619Z"
   },
   {
    "duration": 15,
    "start_time": "2022-07-28T17:37:25.662Z"
   },
   {
    "duration": 33,
    "start_time": "2022-07-28T17:37:25.680Z"
   },
   {
    "duration": 17,
    "start_time": "2022-07-28T17:37:25.715Z"
   },
   {
    "duration": 57,
    "start_time": "2022-07-28T17:37:25.734Z"
   },
   {
    "duration": 28,
    "start_time": "2022-07-28T17:37:25.793Z"
   },
   {
    "duration": 14,
    "start_time": "2022-07-28T17:37:25.823Z"
   },
   {
    "duration": 9,
    "start_time": "2022-07-28T17:37:25.839Z"
   },
   {
    "duration": 39,
    "start_time": "2022-07-28T17:37:25.850Z"
   },
   {
    "duration": 16,
    "start_time": "2022-07-28T17:37:25.891Z"
   },
   {
    "duration": 24,
    "start_time": "2022-07-28T17:37:25.909Z"
   },
   {
    "duration": 50,
    "start_time": "2022-07-28T17:37:25.935Z"
   },
   {
    "duration": 15,
    "start_time": "2022-07-28T17:37:25.987Z"
   },
   {
    "duration": 23,
    "start_time": "2022-07-28T17:37:26.004Z"
   },
   {
    "duration": 31,
    "start_time": "2022-07-28T17:37:26.030Z"
   },
   {
    "duration": 130,
    "start_time": "2022-07-28T17:37:26.068Z"
   },
   {
    "duration": 101,
    "start_time": "2022-07-28T17:37:26.201Z"
   },
   {
    "duration": 242,
    "start_time": "2022-07-28T17:37:26.304Z"
   },
   {
    "duration": 21,
    "start_time": "2022-07-28T17:37:26.548Z"
   },
   {
    "duration": 19,
    "start_time": "2022-07-28T17:37:26.571Z"
   },
   {
    "duration": 36,
    "start_time": "2022-07-28T17:37:26.592Z"
   },
   {
    "duration": 5,
    "start_time": "2022-07-28T17:37:26.629Z"
   },
   {
    "duration": 76,
    "start_time": "2022-07-28T17:37:26.638Z"
   },
   {
    "duration": 20,
    "start_time": "2022-07-28T17:37:26.716Z"
   },
   {
    "duration": 45,
    "start_time": "2022-07-28T17:37:26.752Z"
   },
   {
    "duration": 25,
    "start_time": "2022-07-28T17:37:26.799Z"
   },
   {
    "duration": 59,
    "start_time": "2022-07-28T17:37:26.826Z"
   },
   {
    "duration": 14,
    "start_time": "2022-07-28T17:37:26.887Z"
   },
   {
    "duration": 137,
    "start_time": "2022-07-28T17:37:26.903Z"
   },
   {
    "duration": 0,
    "start_time": "2022-07-28T17:37:27.042Z"
   },
   {
    "duration": 0,
    "start_time": "2022-07-28T17:37:27.043Z"
   },
   {
    "duration": 0,
    "start_time": "2022-07-28T17:37:27.044Z"
   },
   {
    "duration": 0,
    "start_time": "2022-07-28T17:37:27.045Z"
   },
   {
    "duration": 0,
    "start_time": "2022-07-28T17:37:27.053Z"
   },
   {
    "duration": 0,
    "start_time": "2022-07-28T17:37:27.054Z"
   },
   {
    "duration": 0,
    "start_time": "2022-07-28T17:37:27.064Z"
   },
   {
    "duration": 0,
    "start_time": "2022-07-28T17:37:27.066Z"
   },
   {
    "duration": 0,
    "start_time": "2022-07-28T17:37:27.067Z"
   },
   {
    "duration": 1,
    "start_time": "2022-07-28T17:37:27.067Z"
   },
   {
    "duration": 0,
    "start_time": "2022-07-28T17:37:27.068Z"
   },
   {
    "duration": 0,
    "start_time": "2022-07-28T17:37:27.069Z"
   },
   {
    "duration": 0,
    "start_time": "2022-07-28T17:37:27.070Z"
   },
   {
    "duration": 0,
    "start_time": "2022-07-28T17:37:27.072Z"
   },
   {
    "duration": 0,
    "start_time": "2022-07-28T17:37:27.073Z"
   },
   {
    "duration": 0,
    "start_time": "2022-07-28T17:37:27.074Z"
   },
   {
    "duration": 0,
    "start_time": "2022-07-28T17:37:27.075Z"
   },
   {
    "duration": 0,
    "start_time": "2022-07-28T17:37:27.076Z"
   },
   {
    "duration": 0,
    "start_time": "2022-07-28T17:37:27.076Z"
   },
   {
    "duration": 0,
    "start_time": "2022-07-28T17:37:27.078Z"
   },
   {
    "duration": 0,
    "start_time": "2022-07-28T17:37:27.078Z"
   },
   {
    "duration": 0,
    "start_time": "2022-07-28T17:37:27.079Z"
   },
   {
    "duration": 0,
    "start_time": "2022-07-28T17:37:27.080Z"
   },
   {
    "duration": 0,
    "start_time": "2022-07-28T17:37:27.081Z"
   },
   {
    "duration": 0,
    "start_time": "2022-07-28T17:37:27.082Z"
   },
   {
    "duration": 0,
    "start_time": "2022-07-28T17:37:27.083Z"
   },
   {
    "duration": 0,
    "start_time": "2022-07-28T17:37:27.084Z"
   },
   {
    "duration": 0,
    "start_time": "2022-07-28T17:37:27.085Z"
   },
   {
    "duration": 0,
    "start_time": "2022-07-28T17:37:27.086Z"
   },
   {
    "duration": 0,
    "start_time": "2022-07-28T17:37:27.087Z"
   },
   {
    "duration": 0,
    "start_time": "2022-07-28T17:37:27.087Z"
   },
   {
    "duration": 26,
    "start_time": "2022-07-28T17:39:36.740Z"
   },
   {
    "duration": 36,
    "start_time": "2022-07-28T17:39:46.272Z"
   },
   {
    "duration": 42,
    "start_time": "2022-07-28T17:40:27.944Z"
   },
   {
    "duration": 72,
    "start_time": "2022-07-28T17:40:55.061Z"
   },
   {
    "duration": 19,
    "start_time": "2022-07-28T17:42:16.573Z"
   },
   {
    "duration": 1240,
    "start_time": "2022-07-28T17:43:47.971Z"
   },
   {
    "duration": 175,
    "start_time": "2022-07-28T17:43:49.213Z"
   },
   {
    "duration": 191,
    "start_time": "2022-07-28T17:43:49.389Z"
   },
   {
    "duration": 119,
    "start_time": "2022-07-28T17:43:49.583Z"
   },
   {
    "duration": 15,
    "start_time": "2022-07-28T17:43:49.704Z"
   },
   {
    "duration": 28,
    "start_time": "2022-07-28T17:43:49.721Z"
   },
   {
    "duration": 13,
    "start_time": "2022-07-28T17:43:49.751Z"
   },
   {
    "duration": 52,
    "start_time": "2022-07-28T17:43:49.766Z"
   },
   {
    "duration": 32,
    "start_time": "2022-07-28T17:43:49.820Z"
   },
   {
    "duration": 25,
    "start_time": "2022-07-28T17:43:49.856Z"
   },
   {
    "duration": 32,
    "start_time": "2022-07-28T17:43:49.883Z"
   },
   {
    "duration": 17,
    "start_time": "2022-07-28T17:43:49.918Z"
   },
   {
    "duration": 18,
    "start_time": "2022-07-28T17:43:49.955Z"
   },
   {
    "duration": 23,
    "start_time": "2022-07-28T17:43:49.983Z"
   },
   {
    "duration": 13,
    "start_time": "2022-07-28T17:43:50.008Z"
   },
   {
    "duration": 25,
    "start_time": "2022-07-28T17:43:50.023Z"
   },
   {
    "duration": 50,
    "start_time": "2022-07-28T17:43:50.050Z"
   },
   {
    "duration": 14,
    "start_time": "2022-07-28T17:43:50.102Z"
   },
   {
    "duration": 19,
    "start_time": "2022-07-28T17:43:50.119Z"
   },
   {
    "duration": 9,
    "start_time": "2022-07-28T17:43:50.140Z"
   },
   {
    "duration": 129,
    "start_time": "2022-07-28T17:43:50.151Z"
   },
   {
    "duration": 88,
    "start_time": "2022-07-28T17:43:50.283Z"
   },
   {
    "duration": 212,
    "start_time": "2022-07-28T17:43:50.374Z"
   },
   {
    "duration": 6,
    "start_time": "2022-07-28T17:43:50.588Z"
   },
   {
    "duration": 9,
    "start_time": "2022-07-28T17:43:50.595Z"
   },
   {
    "duration": 56,
    "start_time": "2022-07-28T17:43:50.607Z"
   },
   {
    "duration": 9,
    "start_time": "2022-07-28T17:43:50.665Z"
   },
   {
    "duration": 98,
    "start_time": "2022-07-28T17:43:50.679Z"
   },
   {
    "duration": 25,
    "start_time": "2022-07-28T17:43:50.779Z"
   },
   {
    "duration": 54,
    "start_time": "2022-07-28T17:43:50.806Z"
   },
   {
    "duration": 27,
    "start_time": "2022-07-28T17:43:50.863Z"
   },
   {
    "duration": 69,
    "start_time": "2022-07-28T17:43:50.892Z"
   },
   {
    "duration": 15,
    "start_time": "2022-07-28T17:43:50.963Z"
   },
   {
    "duration": 14,
    "start_time": "2022-07-28T17:43:50.981Z"
   },
   {
    "duration": 15,
    "start_time": "2022-07-28T17:43:50.998Z"
   },
   {
    "duration": 11,
    "start_time": "2022-07-28T17:43:51.014Z"
   },
   {
    "duration": 40,
    "start_time": "2022-07-28T17:43:51.027Z"
   },
   {
    "duration": 20,
    "start_time": "2022-07-28T17:43:51.069Z"
   },
   {
    "duration": 29,
    "start_time": "2022-07-28T17:43:51.091Z"
   },
   {
    "duration": 5,
    "start_time": "2022-07-28T17:43:51.122Z"
   },
   {
    "duration": 24,
    "start_time": "2022-07-28T17:43:51.129Z"
   },
   {
    "duration": 7587,
    "start_time": "2022-07-28T17:43:51.155Z"
   },
   {
    "duration": 23,
    "start_time": "2022-07-28T17:43:58.744Z"
   },
   {
    "duration": 41,
    "start_time": "2022-07-28T17:43:58.770Z"
   },
   {
    "duration": 336,
    "start_time": "2022-07-28T17:43:58.813Z"
   },
   {
    "duration": 282,
    "start_time": "2022-07-28T17:43:59.151Z"
   },
   {
    "duration": 301,
    "start_time": "2022-07-28T17:43:59.434Z"
   },
   {
    "duration": 268,
    "start_time": "2022-07-28T17:43:59.737Z"
   },
   {
    "duration": 252,
    "start_time": "2022-07-28T17:44:00.007Z"
   },
   {
    "duration": 294,
    "start_time": "2022-07-28T17:44:00.261Z"
   },
   {
    "duration": 275,
    "start_time": "2022-07-28T17:44:00.557Z"
   },
   {
    "duration": 383,
    "start_time": "2022-07-28T17:44:00.834Z"
   },
   {
    "duration": 268,
    "start_time": "2022-07-28T17:44:01.219Z"
   },
   {
    "duration": 263,
    "start_time": "2022-07-28T17:44:01.489Z"
   },
   {
    "duration": 266,
    "start_time": "2022-07-28T17:44:01.755Z"
   },
   {
    "duration": 288,
    "start_time": "2022-07-28T17:44:02.023Z"
   },
   {
    "duration": 268,
    "start_time": "2022-07-28T17:44:02.313Z"
   },
   {
    "duration": 259,
    "start_time": "2022-07-28T17:44:02.591Z"
   },
   {
    "duration": 271,
    "start_time": "2022-07-28T17:44:02.853Z"
   },
   {
    "duration": 6,
    "start_time": "2022-07-28T17:44:03.126Z"
   },
   {
    "duration": 19,
    "start_time": "2022-07-28T17:44:03.134Z"
   },
   {
    "duration": 7,
    "start_time": "2022-07-28T17:44:03.156Z"
   },
   {
    "duration": 21,
    "start_time": "2022-07-28T17:44:03.166Z"
   },
   {
    "duration": 10,
    "start_time": "2022-07-28T17:44:03.188Z"
   },
   {
    "duration": 9,
    "start_time": "2022-07-28T17:44:03.200Z"
   },
   {
    "duration": 24,
    "start_time": "2022-07-28T17:46:25.796Z"
   },
   {
    "duration": 1043,
    "start_time": "2022-07-28T17:47:19.076Z"
   },
   {
    "duration": 153,
    "start_time": "2022-07-28T17:47:20.121Z"
   },
   {
    "duration": 135,
    "start_time": "2022-07-28T17:47:20.276Z"
   },
   {
    "duration": 85,
    "start_time": "2022-07-28T17:47:20.413Z"
   },
   {
    "duration": 15,
    "start_time": "2022-07-28T17:47:20.500Z"
   },
   {
    "duration": 31,
    "start_time": "2022-07-28T17:47:20.517Z"
   },
   {
    "duration": 13,
    "start_time": "2022-07-28T17:47:20.551Z"
   },
   {
    "duration": 46,
    "start_time": "2022-07-28T17:47:20.565Z"
   },
   {
    "duration": 16,
    "start_time": "2022-07-28T17:47:20.613Z"
   },
   {
    "duration": 21,
    "start_time": "2022-07-28T17:47:20.632Z"
   },
   {
    "duration": 42,
    "start_time": "2022-07-28T17:47:20.655Z"
   },
   {
    "duration": 17,
    "start_time": "2022-07-28T17:47:20.699Z"
   },
   {
    "duration": 17,
    "start_time": "2022-07-28T17:47:20.718Z"
   },
   {
    "duration": 50,
    "start_time": "2022-07-28T17:47:20.736Z"
   },
   {
    "duration": 24,
    "start_time": "2022-07-28T17:47:20.788Z"
   },
   {
    "duration": 28,
    "start_time": "2022-07-28T17:47:20.814Z"
   },
   {
    "duration": 27,
    "start_time": "2022-07-28T17:47:20.844Z"
   },
   {
    "duration": 10,
    "start_time": "2022-07-28T17:47:20.873Z"
   },
   {
    "duration": 13,
    "start_time": "2022-07-28T17:47:20.885Z"
   },
   {
    "duration": 22,
    "start_time": "2022-07-28T17:47:20.899Z"
   },
   {
    "duration": 113,
    "start_time": "2022-07-28T17:47:20.923Z"
   },
   {
    "duration": 53,
    "start_time": "2022-07-28T17:47:21.039Z"
   },
   {
    "duration": 218,
    "start_time": "2022-07-28T17:47:21.093Z"
   },
   {
    "duration": 4,
    "start_time": "2022-07-28T17:47:21.313Z"
   },
   {
    "duration": 42,
    "start_time": "2022-07-28T17:47:21.318Z"
   },
   {
    "duration": 41,
    "start_time": "2022-07-28T17:47:21.362Z"
   },
   {
    "duration": 4,
    "start_time": "2022-07-28T17:47:21.405Z"
   },
   {
    "duration": 99,
    "start_time": "2022-07-28T17:47:21.412Z"
   },
   {
    "duration": 19,
    "start_time": "2022-07-28T17:47:21.512Z"
   },
   {
    "duration": 55,
    "start_time": "2022-07-28T17:47:21.533Z"
   },
   {
    "duration": 21,
    "start_time": "2022-07-28T17:47:21.589Z"
   },
   {
    "duration": 58,
    "start_time": "2022-07-28T17:47:21.612Z"
   },
   {
    "duration": 8,
    "start_time": "2022-07-28T17:47:21.672Z"
   },
   {
    "duration": 35,
    "start_time": "2022-07-28T17:47:21.681Z"
   },
   {
    "duration": 38,
    "start_time": "2022-07-28T17:47:21.717Z"
   },
   {
    "duration": 47,
    "start_time": "2022-07-28T17:47:21.757Z"
   },
   {
    "duration": 38,
    "start_time": "2022-07-28T17:47:21.806Z"
   },
   {
    "duration": 32,
    "start_time": "2022-07-28T17:47:21.846Z"
   },
   {
    "duration": 47,
    "start_time": "2022-07-28T17:47:21.879Z"
   },
   {
    "duration": 60,
    "start_time": "2022-07-28T17:47:21.927Z"
   },
   {
    "duration": 22,
    "start_time": "2022-07-28T17:47:21.988Z"
   },
   {
    "duration": 31,
    "start_time": "2022-07-28T17:47:22.012Z"
   },
   {
    "duration": 1361,
    "start_time": "2022-07-28T17:47:22.044Z"
   },
   {
    "duration": 0,
    "start_time": "2022-07-28T17:47:23.406Z"
   },
   {
    "duration": 0,
    "start_time": "2022-07-28T17:47:23.408Z"
   },
   {
    "duration": 0,
    "start_time": "2022-07-28T17:47:23.410Z"
   },
   {
    "duration": 0,
    "start_time": "2022-07-28T17:47:23.411Z"
   },
   {
    "duration": 0,
    "start_time": "2022-07-28T17:47:23.412Z"
   },
   {
    "duration": 0,
    "start_time": "2022-07-28T17:47:23.413Z"
   },
   {
    "duration": 0,
    "start_time": "2022-07-28T17:47:23.414Z"
   },
   {
    "duration": 0,
    "start_time": "2022-07-28T17:47:23.415Z"
   },
   {
    "duration": 0,
    "start_time": "2022-07-28T17:47:23.417Z"
   },
   {
    "duration": 0,
    "start_time": "2022-07-28T17:47:23.417Z"
   },
   {
    "duration": 0,
    "start_time": "2022-07-28T17:47:23.418Z"
   },
   {
    "duration": 0,
    "start_time": "2022-07-28T17:47:23.419Z"
   },
   {
    "duration": 0,
    "start_time": "2022-07-28T17:47:23.420Z"
   },
   {
    "duration": 0,
    "start_time": "2022-07-28T17:47:23.422Z"
   },
   {
    "duration": 0,
    "start_time": "2022-07-28T17:47:23.424Z"
   },
   {
    "duration": 0,
    "start_time": "2022-07-28T17:47:23.424Z"
   },
   {
    "duration": 0,
    "start_time": "2022-07-28T17:47:23.426Z"
   },
   {
    "duration": 0,
    "start_time": "2022-07-28T17:47:23.427Z"
   },
   {
    "duration": 0,
    "start_time": "2022-07-28T17:47:23.428Z"
   },
   {
    "duration": 0,
    "start_time": "2022-07-28T17:47:23.429Z"
   },
   {
    "duration": 0,
    "start_time": "2022-07-28T17:47:23.430Z"
   },
   {
    "duration": 0,
    "start_time": "2022-07-28T17:47:23.431Z"
   },
   {
    "duration": 0,
    "start_time": "2022-07-28T17:47:23.432Z"
   },
   {
    "duration": 23,
    "start_time": "2022-07-28T17:49:50.272Z"
   },
   {
    "duration": 7107,
    "start_time": "2022-07-28T18:06:58.968Z"
   },
   {
    "duration": 17,
    "start_time": "2022-07-28T18:07:31.513Z"
   },
   {
    "duration": 1227,
    "start_time": "2022-07-28T18:07:39.379Z"
   },
   {
    "duration": 176,
    "start_time": "2022-07-28T18:07:40.608Z"
   },
   {
    "duration": 155,
    "start_time": "2022-07-28T18:07:40.786Z"
   },
   {
    "duration": 99,
    "start_time": "2022-07-28T18:07:40.943Z"
   },
   {
    "duration": 25,
    "start_time": "2022-07-28T18:07:41.044Z"
   },
   {
    "duration": 28,
    "start_time": "2022-07-28T18:07:41.072Z"
   },
   {
    "duration": 13,
    "start_time": "2022-07-28T18:07:41.102Z"
   },
   {
    "duration": 50,
    "start_time": "2022-07-28T18:07:41.117Z"
   },
   {
    "duration": 18,
    "start_time": "2022-07-28T18:07:41.169Z"
   },
   {
    "duration": 13,
    "start_time": "2022-07-28T18:07:41.190Z"
   },
   {
    "duration": 43,
    "start_time": "2022-07-28T18:07:41.205Z"
   },
   {
    "duration": 20,
    "start_time": "2022-07-28T18:07:41.250Z"
   },
   {
    "duration": 21,
    "start_time": "2022-07-28T18:07:41.274Z"
   },
   {
    "duration": 48,
    "start_time": "2022-07-28T18:07:41.298Z"
   },
   {
    "duration": 20,
    "start_time": "2022-07-28T18:07:41.349Z"
   },
   {
    "duration": 33,
    "start_time": "2022-07-28T18:07:41.370Z"
   },
   {
    "duration": 16,
    "start_time": "2022-07-28T18:07:41.405Z"
   },
   {
    "duration": 21,
    "start_time": "2022-07-28T18:07:41.423Z"
   },
   {
    "duration": 34,
    "start_time": "2022-07-28T18:07:41.446Z"
   },
   {
    "duration": 30,
    "start_time": "2022-07-28T18:07:41.482Z"
   },
   {
    "duration": 119,
    "start_time": "2022-07-28T18:07:41.514Z"
   },
   {
    "duration": 63,
    "start_time": "2022-07-28T18:07:41.635Z"
   },
   {
    "duration": 226,
    "start_time": "2022-07-28T18:07:41.700Z"
   },
   {
    "duration": 5,
    "start_time": "2022-07-28T18:07:41.928Z"
   },
   {
    "duration": 31,
    "start_time": "2022-07-28T18:07:41.934Z"
   },
   {
    "duration": 35,
    "start_time": "2022-07-28T18:07:41.967Z"
   },
   {
    "duration": 5,
    "start_time": "2022-07-28T18:07:42.004Z"
   },
   {
    "duration": 90,
    "start_time": "2022-07-28T18:07:42.014Z"
   },
   {
    "duration": 21,
    "start_time": "2022-07-28T18:07:42.106Z"
   },
   {
    "duration": 57,
    "start_time": "2022-07-28T18:07:42.129Z"
   },
   {
    "duration": 23,
    "start_time": "2022-07-28T18:07:42.189Z"
   },
   {
    "duration": 64,
    "start_time": "2022-07-28T18:07:42.213Z"
   },
   {
    "duration": 10,
    "start_time": "2022-07-28T18:07:42.279Z"
   },
   {
    "duration": 10,
    "start_time": "2022-07-28T18:07:42.290Z"
   },
   {
    "duration": 10,
    "start_time": "2022-07-28T18:07:42.302Z"
   },
   {
    "duration": 11,
    "start_time": "2022-07-28T18:07:42.313Z"
   },
   {
    "duration": 43,
    "start_time": "2022-07-28T18:07:42.326Z"
   },
   {
    "duration": 17,
    "start_time": "2022-07-28T18:07:42.374Z"
   },
   {
    "duration": 19,
    "start_time": "2022-07-28T18:07:42.393Z"
   },
   {
    "duration": 6,
    "start_time": "2022-07-28T18:07:42.413Z"
   },
   {
    "duration": 7,
    "start_time": "2022-07-28T18:07:42.420Z"
   },
   {
    "duration": 7217,
    "start_time": "2022-07-28T18:07:42.428Z"
   },
   {
    "duration": 32,
    "start_time": "2022-07-28T18:07:49.646Z"
   },
   {
    "duration": 41,
    "start_time": "2022-07-28T18:07:49.684Z"
   },
   {
    "duration": 302,
    "start_time": "2022-07-28T18:07:49.727Z"
   },
   {
    "duration": 298,
    "start_time": "2022-07-28T18:07:50.031Z"
   },
   {
    "duration": 310,
    "start_time": "2022-07-28T18:07:50.331Z"
   },
   {
    "duration": 278,
    "start_time": "2022-07-28T18:07:50.643Z"
   },
   {
    "duration": 277,
    "start_time": "2022-07-28T18:07:50.923Z"
   },
   {
    "duration": 279,
    "start_time": "2022-07-28T18:07:51.202Z"
   },
   {
    "duration": 315,
    "start_time": "2022-07-28T18:07:51.482Z"
   },
   {
    "duration": 402,
    "start_time": "2022-07-28T18:07:51.799Z"
   },
   {
    "duration": 283,
    "start_time": "2022-07-28T18:07:52.203Z"
   },
   {
    "duration": 286,
    "start_time": "2022-07-28T18:07:52.488Z"
   },
   {
    "duration": 285,
    "start_time": "2022-07-28T18:07:52.776Z"
   },
   {
    "duration": 259,
    "start_time": "2022-07-28T18:07:53.064Z"
   },
   {
    "duration": 276,
    "start_time": "2022-07-28T18:07:53.325Z"
   },
   {
    "duration": 298,
    "start_time": "2022-07-28T18:07:53.603Z"
   },
   {
    "duration": 313,
    "start_time": "2022-07-28T18:07:53.903Z"
   },
   {
    "duration": 6,
    "start_time": "2022-07-28T18:07:54.218Z"
   },
   {
    "duration": 9,
    "start_time": "2022-07-28T18:07:54.225Z"
   },
   {
    "duration": 23,
    "start_time": "2022-07-28T18:07:54.236Z"
   },
   {
    "duration": 37,
    "start_time": "2022-07-28T18:07:54.266Z"
   },
   {
    "duration": 8,
    "start_time": "2022-07-28T18:07:54.305Z"
   },
   {
    "duration": 6,
    "start_time": "2022-07-28T18:07:54.315Z"
   },
   {
    "duration": 53,
    "start_time": "2022-07-28T18:09:59.483Z"
   },
   {
    "duration": 55,
    "start_time": "2022-07-28T18:10:17.987Z"
   },
   {
    "duration": 59,
    "start_time": "2022-07-28T18:10:37.547Z"
   },
   {
    "duration": 258,
    "start_time": "2022-07-28T18:13:39.928Z"
   },
   {
    "duration": 227,
    "start_time": "2022-07-28T18:14:08.460Z"
   },
   {
    "duration": 411,
    "start_time": "2022-07-28T18:15:02.292Z"
   },
   {
    "duration": 298,
    "start_time": "2022-07-28T18:15:09.819Z"
   },
   {
    "duration": 311,
    "start_time": "2022-07-28T18:15:56.975Z"
   },
   {
    "duration": 82,
    "start_time": "2022-07-28T18:19:05.855Z"
   },
   {
    "duration": 93,
    "start_time": "2022-07-28T18:19:32.136Z"
   },
   {
    "duration": 93,
    "start_time": "2022-07-28T18:19:56.786Z"
   },
   {
    "duration": 337,
    "start_time": "2022-07-28T18:22:06.809Z"
   },
   {
    "duration": 300,
    "start_time": "2022-07-28T18:23:15.584Z"
   },
   {
    "duration": 300,
    "start_time": "2022-07-28T18:23:53.729Z"
   },
   {
    "duration": 380,
    "start_time": "2022-07-28T18:25:35.664Z"
   },
   {
    "duration": 242,
    "start_time": "2022-07-28T18:26:18.303Z"
   },
   {
    "duration": 134,
    "start_time": "2022-07-28T18:47:36.184Z"
   },
   {
    "duration": 1037,
    "start_time": "2022-07-28T18:48:10.011Z"
   },
   {
    "duration": 163,
    "start_time": "2022-07-28T18:48:11.050Z"
   },
   {
    "duration": 139,
    "start_time": "2022-07-28T18:48:11.215Z"
   },
   {
    "duration": 90,
    "start_time": "2022-07-28T18:48:11.356Z"
   },
   {
    "duration": 29,
    "start_time": "2022-07-28T18:48:11.448Z"
   },
   {
    "duration": 31,
    "start_time": "2022-07-28T18:48:11.478Z"
   },
   {
    "duration": 11,
    "start_time": "2022-07-28T18:48:11.510Z"
   },
   {
    "duration": 20,
    "start_time": "2022-07-28T18:48:11.523Z"
   },
   {
    "duration": 22,
    "start_time": "2022-07-28T18:48:11.545Z"
   },
   {
    "duration": 18,
    "start_time": "2022-07-28T18:48:11.570Z"
   },
   {
    "duration": 21,
    "start_time": "2022-07-28T18:48:11.589Z"
   },
   {
    "duration": 12,
    "start_time": "2022-07-28T18:48:11.612Z"
   },
   {
    "duration": 6,
    "start_time": "2022-07-28T18:48:11.626Z"
   },
   {
    "duration": 29,
    "start_time": "2022-07-28T18:48:11.633Z"
   },
   {
    "duration": 15,
    "start_time": "2022-07-28T18:48:11.664Z"
   },
   {
    "duration": 16,
    "start_time": "2022-07-28T18:48:11.681Z"
   },
   {
    "duration": 13,
    "start_time": "2022-07-28T18:48:11.699Z"
   },
   {
    "duration": 8,
    "start_time": "2022-07-28T18:48:11.714Z"
   },
   {
    "duration": 12,
    "start_time": "2022-07-28T18:48:11.723Z"
   },
   {
    "duration": 20,
    "start_time": "2022-07-28T18:48:11.737Z"
   },
   {
    "duration": 85,
    "start_time": "2022-07-28T18:48:11.759Z"
   },
   {
    "duration": 54,
    "start_time": "2022-07-28T18:48:11.846Z"
   },
   {
    "duration": 196,
    "start_time": "2022-07-28T18:48:11.902Z"
   },
   {
    "duration": 3,
    "start_time": "2022-07-28T18:48:12.100Z"
   },
   {
    "duration": 6,
    "start_time": "2022-07-28T18:48:12.105Z"
   },
   {
    "duration": 118,
    "start_time": "2022-07-28T18:48:12.112Z"
   },
   {
    "duration": 0,
    "start_time": "2022-07-28T18:48:12.232Z"
   },
   {
    "duration": 0,
    "start_time": "2022-07-28T18:48:12.234Z"
   },
   {
    "duration": 0,
    "start_time": "2022-07-28T18:48:12.235Z"
   },
   {
    "duration": 0,
    "start_time": "2022-07-28T18:48:12.235Z"
   },
   {
    "duration": 0,
    "start_time": "2022-07-28T18:48:12.236Z"
   },
   {
    "duration": 0,
    "start_time": "2022-07-28T18:48:12.254Z"
   },
   {
    "duration": 0,
    "start_time": "2022-07-28T18:48:12.254Z"
   },
   {
    "duration": 0,
    "start_time": "2022-07-28T18:48:12.255Z"
   },
   {
    "duration": 0,
    "start_time": "2022-07-28T18:48:12.256Z"
   },
   {
    "duration": 0,
    "start_time": "2022-07-28T18:48:12.256Z"
   },
   {
    "duration": 0,
    "start_time": "2022-07-28T18:48:12.257Z"
   },
   {
    "duration": 0,
    "start_time": "2022-07-28T18:48:12.258Z"
   },
   {
    "duration": 0,
    "start_time": "2022-07-28T18:48:12.258Z"
   },
   {
    "duration": 0,
    "start_time": "2022-07-28T18:48:12.259Z"
   },
   {
    "duration": 0,
    "start_time": "2022-07-28T18:48:12.259Z"
   },
   {
    "duration": 0,
    "start_time": "2022-07-28T18:48:12.260Z"
   },
   {
    "duration": 0,
    "start_time": "2022-07-28T18:48:12.261Z"
   },
   {
    "duration": 0,
    "start_time": "2022-07-28T18:48:12.261Z"
   },
   {
    "duration": 0,
    "start_time": "2022-07-28T18:48:12.262Z"
   },
   {
    "duration": 0,
    "start_time": "2022-07-28T18:48:12.262Z"
   },
   {
    "duration": 0,
    "start_time": "2022-07-28T18:48:12.271Z"
   },
   {
    "duration": 0,
    "start_time": "2022-07-28T18:48:12.272Z"
   },
   {
    "duration": 0,
    "start_time": "2022-07-28T18:48:12.274Z"
   },
   {
    "duration": 0,
    "start_time": "2022-07-28T18:48:12.275Z"
   },
   {
    "duration": 0,
    "start_time": "2022-07-28T18:48:12.276Z"
   },
   {
    "duration": 0,
    "start_time": "2022-07-28T18:48:12.277Z"
   },
   {
    "duration": 0,
    "start_time": "2022-07-28T18:48:12.279Z"
   },
   {
    "duration": 0,
    "start_time": "2022-07-28T18:48:12.280Z"
   },
   {
    "duration": 0,
    "start_time": "2022-07-28T18:48:12.281Z"
   },
   {
    "duration": 0,
    "start_time": "2022-07-28T18:48:12.285Z"
   },
   {
    "duration": 0,
    "start_time": "2022-07-28T18:48:12.286Z"
   },
   {
    "duration": 0,
    "start_time": "2022-07-28T18:48:12.288Z"
   },
   {
    "duration": 0,
    "start_time": "2022-07-28T18:48:12.289Z"
   },
   {
    "duration": 0,
    "start_time": "2022-07-28T18:48:12.290Z"
   },
   {
    "duration": 0,
    "start_time": "2022-07-28T18:48:12.291Z"
   },
   {
    "duration": 0,
    "start_time": "2022-07-28T18:48:12.293Z"
   },
   {
    "duration": 0,
    "start_time": "2022-07-28T18:48:12.294Z"
   },
   {
    "duration": 0,
    "start_time": "2022-07-28T18:48:12.295Z"
   },
   {
    "duration": 0,
    "start_time": "2022-07-28T18:48:12.296Z"
   },
   {
    "duration": 15,
    "start_time": "2022-07-28T18:48:44.316Z"
   },
   {
    "duration": 40,
    "start_time": "2022-07-28T18:50:11.029Z"
   },
   {
    "duration": 25,
    "start_time": "2022-07-28T18:50:29.574Z"
   },
   {
    "duration": 1050,
    "start_time": "2022-07-28T18:50:42.437Z"
   },
   {
    "duration": 154,
    "start_time": "2022-07-28T18:50:43.488Z"
   },
   {
    "duration": 164,
    "start_time": "2022-07-28T18:50:43.643Z"
   },
   {
    "duration": 90,
    "start_time": "2022-07-28T18:50:43.808Z"
   },
   {
    "duration": 21,
    "start_time": "2022-07-28T18:50:43.900Z"
   },
   {
    "duration": 27,
    "start_time": "2022-07-28T18:50:43.923Z"
   },
   {
    "duration": 15,
    "start_time": "2022-07-28T18:50:43.952Z"
   },
   {
    "duration": 38,
    "start_time": "2022-07-28T18:50:43.969Z"
   },
   {
    "duration": 14,
    "start_time": "2022-07-28T18:50:44.009Z"
   },
   {
    "duration": 7,
    "start_time": "2022-07-28T18:50:44.025Z"
   },
   {
    "duration": 29,
    "start_time": "2022-07-28T18:50:44.033Z"
   },
   {
    "duration": 13,
    "start_time": "2022-07-28T18:50:44.070Z"
   },
   {
    "duration": 17,
    "start_time": "2022-07-28T18:50:44.085Z"
   },
   {
    "duration": 16,
    "start_time": "2022-07-28T18:50:44.105Z"
   },
   {
    "duration": 8,
    "start_time": "2022-07-28T18:50:44.123Z"
   },
   {
    "duration": 9,
    "start_time": "2022-07-28T18:50:44.132Z"
   },
   {
    "duration": 38,
    "start_time": "2022-07-28T18:50:44.142Z"
   },
   {
    "duration": 13,
    "start_time": "2022-07-28T18:50:44.182Z"
   },
   {
    "duration": 10,
    "start_time": "2022-07-28T18:50:44.196Z"
   },
   {
    "duration": 8,
    "start_time": "2022-07-28T18:50:44.207Z"
   },
   {
    "duration": 80,
    "start_time": "2022-07-28T18:50:44.217Z"
   },
   {
    "duration": 42,
    "start_time": "2022-07-28T18:50:44.299Z"
   },
   {
    "duration": 195,
    "start_time": "2022-07-28T18:50:44.342Z"
   },
   {
    "duration": 22,
    "start_time": "2022-07-28T18:50:44.538Z"
   },
   {
    "duration": 31,
    "start_time": "2022-07-28T18:50:44.561Z"
   },
   {
    "duration": 31,
    "start_time": "2022-07-28T18:50:44.594Z"
   },
   {
    "duration": 5,
    "start_time": "2022-07-28T18:50:44.626Z"
   },
   {
    "duration": 73,
    "start_time": "2022-07-28T18:50:44.633Z"
   },
   {
    "duration": 20,
    "start_time": "2022-07-28T18:50:44.708Z"
   },
   {
    "duration": 53,
    "start_time": "2022-07-28T18:50:44.730Z"
   },
   {
    "duration": 20,
    "start_time": "2022-07-28T18:50:44.784Z"
   },
   {
    "duration": 27,
    "start_time": "2022-07-28T18:50:44.806Z"
   },
   {
    "duration": 28,
    "start_time": "2022-07-28T18:50:44.834Z"
   },
   {
    "duration": 18,
    "start_time": "2022-07-28T18:50:44.867Z"
   },
   {
    "duration": 9,
    "start_time": "2022-07-28T18:50:44.887Z"
   },
   {
    "duration": 9,
    "start_time": "2022-07-28T18:50:44.897Z"
   },
   {
    "duration": 10,
    "start_time": "2022-07-28T18:50:44.907Z"
   },
   {
    "duration": 8,
    "start_time": "2022-07-28T18:50:44.918Z"
   },
   {
    "duration": 14,
    "start_time": "2022-07-28T18:50:44.927Z"
   },
   {
    "duration": 13,
    "start_time": "2022-07-28T18:50:44.943Z"
   },
   {
    "duration": 14,
    "start_time": "2022-07-28T18:50:44.960Z"
   },
   {
    "duration": 7934,
    "start_time": "2022-07-28T18:50:44.975Z"
   },
   {
    "duration": 14,
    "start_time": "2022-07-28T18:50:52.910Z"
   },
   {
    "duration": 59,
    "start_time": "2022-07-28T18:50:52.925Z"
   },
   {
    "duration": 307,
    "start_time": "2022-07-28T18:50:52.986Z"
   },
   {
    "duration": 280,
    "start_time": "2022-07-28T18:50:53.295Z"
   },
   {
    "duration": 269,
    "start_time": "2022-07-28T18:50:53.579Z"
   },
   {
    "duration": 323,
    "start_time": "2022-07-28T18:50:53.856Z"
   },
   {
    "duration": 313,
    "start_time": "2022-07-28T18:50:54.182Z"
   },
   {
    "duration": 404,
    "start_time": "2022-07-28T18:50:54.497Z"
   },
   {
    "duration": 307,
    "start_time": "2022-07-28T18:50:54.903Z"
   },
   {
    "duration": 389,
    "start_time": "2022-07-28T18:50:55.212Z"
   },
   {
    "duration": 282,
    "start_time": "2022-07-28T18:50:55.603Z"
   },
   {
    "duration": 311,
    "start_time": "2022-07-28T18:50:55.887Z"
   },
   {
    "duration": 334,
    "start_time": "2022-07-28T18:50:56.200Z"
   },
   {
    "duration": 234,
    "start_time": "2022-07-28T18:50:56.535Z"
   },
   {
    "duration": 229,
    "start_time": "2022-07-28T18:50:56.775Z"
   },
   {
    "duration": 236,
    "start_time": "2022-07-28T18:50:57.005Z"
   },
   {
    "duration": 244,
    "start_time": "2022-07-28T18:50:57.243Z"
   },
   {
    "duration": 7,
    "start_time": "2022-07-28T18:50:57.488Z"
   },
   {
    "duration": 9,
    "start_time": "2022-07-28T18:50:57.496Z"
   },
   {
    "duration": 16,
    "start_time": "2022-07-28T18:50:57.507Z"
   },
   {
    "duration": 8,
    "start_time": "2022-07-28T18:50:57.524Z"
   },
   {
    "duration": 27,
    "start_time": "2022-07-28T18:50:57.534Z"
   },
   {
    "duration": 5,
    "start_time": "2022-07-28T18:50:57.566Z"
   },
   {
    "duration": 345,
    "start_time": "2022-07-28T18:59:03.880Z"
   },
   {
    "duration": 271,
    "start_time": "2022-07-28T19:07:56.934Z"
   },
   {
    "duration": 353,
    "start_time": "2022-07-28T19:08:09.641Z"
   },
   {
    "duration": 255,
    "start_time": "2022-07-28T19:14:18.589Z"
   },
   {
    "duration": 267,
    "start_time": "2022-07-28T19:15:07.287Z"
   },
   {
    "duration": 92,
    "start_time": "2022-07-28T19:27:01.719Z"
   },
   {
    "duration": 207,
    "start_time": "2022-07-28T19:27:15.294Z"
   },
   {
    "duration": 460,
    "start_time": "2022-07-28T19:27:34.544Z"
   },
   {
    "duration": 221,
    "start_time": "2022-07-28T19:28:12.375Z"
   },
   {
    "duration": 14,
    "start_time": "2022-07-28T19:30:24.720Z"
   },
   {
    "duration": 247,
    "start_time": "2022-07-28T19:30:33.548Z"
   },
   {
    "duration": 216,
    "start_time": "2022-07-28T19:31:58.092Z"
   },
   {
    "duration": 303,
    "start_time": "2022-07-28T19:32:19.803Z"
   },
   {
    "duration": 215,
    "start_time": "2022-07-28T19:32:30.687Z"
   },
   {
    "duration": 179,
    "start_time": "2022-07-28T19:35:38.222Z"
   },
   {
    "duration": 170,
    "start_time": "2022-07-28T19:35:57.125Z"
   },
   {
    "duration": 222,
    "start_time": "2022-07-28T19:36:23.247Z"
   },
   {
    "duration": 279,
    "start_time": "2022-07-28T19:37:57.766Z"
   },
   {
    "duration": 9,
    "start_time": "2022-07-28T19:38:43.395Z"
   },
   {
    "duration": 18929,
    "start_time": "2022-07-28T19:38:51.796Z"
   },
   {
    "duration": 233,
    "start_time": "2022-07-28T19:40:08.095Z"
   },
   {
    "duration": 205,
    "start_time": "2022-07-28T19:40:43.913Z"
   },
   {
    "duration": 278,
    "start_time": "2022-07-28T19:40:55.186Z"
   },
   {
    "duration": 174,
    "start_time": "2022-07-28T19:41:14.719Z"
   },
   {
    "duration": 264,
    "start_time": "2022-07-28T19:42:56.393Z"
   },
   {
    "duration": 204,
    "start_time": "2022-07-28T19:44:08.912Z"
   },
   {
    "duration": 194,
    "start_time": "2022-07-28T19:44:22.067Z"
   },
   {
    "duration": 244,
    "start_time": "2022-07-28T19:44:38.630Z"
   },
   {
    "duration": 201,
    "start_time": "2022-07-28T19:44:51.213Z"
   },
   {
    "duration": 279,
    "start_time": "2022-07-28T19:45:15.973Z"
   },
   {
    "duration": 203,
    "start_time": "2022-07-28T19:45:24.377Z"
   },
   {
    "duration": 226,
    "start_time": "2022-07-28T19:45:30.422Z"
   },
   {
    "duration": 261,
    "start_time": "2022-07-28T19:46:28.960Z"
   },
   {
    "duration": 229,
    "start_time": "2022-07-28T19:48:16.920Z"
   },
   {
    "duration": 322,
    "start_time": "2022-07-28T19:48:46.208Z"
   },
   {
    "duration": 244,
    "start_time": "2022-07-28T19:48:51.147Z"
   },
   {
    "duration": 184,
    "start_time": "2022-07-28T19:50:12.361Z"
   },
   {
    "duration": 230,
    "start_time": "2022-07-28T19:50:22.727Z"
   },
   {
    "duration": 310,
    "start_time": "2022-07-28T19:52:53.187Z"
   },
   {
    "duration": 6,
    "start_time": "2022-07-28T20:00:47.746Z"
   },
   {
    "duration": 4,
    "start_time": "2022-07-28T20:01:21.934Z"
   },
   {
    "duration": 1094,
    "start_time": "2022-07-28T20:05:18.880Z"
   },
   {
    "duration": 158,
    "start_time": "2022-07-28T20:05:19.976Z"
   },
   {
    "duration": 141,
    "start_time": "2022-07-28T20:05:20.136Z"
   },
   {
    "duration": 80,
    "start_time": "2022-07-28T20:05:20.280Z"
   },
   {
    "duration": 15,
    "start_time": "2022-07-28T20:05:20.361Z"
   },
   {
    "duration": 28,
    "start_time": "2022-07-28T20:05:20.377Z"
   },
   {
    "duration": 13,
    "start_time": "2022-07-28T20:05:20.407Z"
   },
   {
    "duration": 28,
    "start_time": "2022-07-28T20:05:20.422Z"
   },
   {
    "duration": 14,
    "start_time": "2022-07-28T20:05:20.452Z"
   },
   {
    "duration": 9,
    "start_time": "2022-07-28T20:05:20.468Z"
   },
   {
    "duration": 26,
    "start_time": "2022-07-28T20:05:20.478Z"
   },
   {
    "duration": 11,
    "start_time": "2022-07-28T20:05:20.506Z"
   },
   {
    "duration": 16,
    "start_time": "2022-07-28T20:05:20.519Z"
   },
   {
    "duration": 45,
    "start_time": "2022-07-28T20:05:20.536Z"
   },
   {
    "duration": 7,
    "start_time": "2022-07-28T20:05:20.583Z"
   },
   {
    "duration": 25,
    "start_time": "2022-07-28T20:05:20.591Z"
   },
   {
    "duration": 19,
    "start_time": "2022-07-28T20:05:20.618Z"
   },
   {
    "duration": 24,
    "start_time": "2022-07-28T20:05:20.639Z"
   },
   {
    "duration": 18,
    "start_time": "2022-07-28T20:05:20.665Z"
   },
   {
    "duration": 7,
    "start_time": "2022-07-28T20:05:20.685Z"
   },
   {
    "duration": 100,
    "start_time": "2022-07-28T20:05:20.693Z"
   },
   {
    "duration": 41,
    "start_time": "2022-07-28T20:05:20.795Z"
   },
   {
    "duration": 214,
    "start_time": "2022-07-28T20:05:20.838Z"
   },
   {
    "duration": 6,
    "start_time": "2022-07-28T20:05:21.055Z"
   },
   {
    "duration": 16,
    "start_time": "2022-07-28T20:05:21.063Z"
   },
   {
    "duration": 34,
    "start_time": "2022-07-28T20:05:21.080Z"
   },
   {
    "duration": 4,
    "start_time": "2022-07-28T20:05:21.116Z"
   },
   {
    "duration": 85,
    "start_time": "2022-07-28T20:05:21.124Z"
   },
   {
    "duration": 16,
    "start_time": "2022-07-28T20:05:21.210Z"
   },
   {
    "duration": 54,
    "start_time": "2022-07-28T20:05:21.227Z"
   },
   {
    "duration": 20,
    "start_time": "2022-07-28T20:05:21.282Z"
   },
   {
    "duration": 27,
    "start_time": "2022-07-28T20:05:21.304Z"
   },
   {
    "duration": 22,
    "start_time": "2022-07-28T20:05:21.333Z"
   },
   {
    "duration": 22,
    "start_time": "2022-07-28T20:05:21.357Z"
   },
   {
    "duration": 21,
    "start_time": "2022-07-28T20:05:21.381Z"
   },
   {
    "duration": 10,
    "start_time": "2022-07-28T20:05:21.403Z"
   },
   {
    "duration": 19,
    "start_time": "2022-07-28T20:05:21.414Z"
   },
   {
    "duration": 13,
    "start_time": "2022-07-28T20:05:21.434Z"
   },
   {
    "duration": 15,
    "start_time": "2022-07-28T20:05:21.448Z"
   },
   {
    "duration": 5,
    "start_time": "2022-07-28T20:05:21.465Z"
   },
   {
    "duration": 11,
    "start_time": "2022-07-28T20:05:21.472Z"
   },
   {
    "duration": 6268,
    "start_time": "2022-07-28T20:05:21.484Z"
   },
   {
    "duration": 21,
    "start_time": "2022-07-28T20:05:27.755Z"
   },
   {
    "duration": 39,
    "start_time": "2022-07-28T20:05:27.778Z"
   },
   {
    "duration": 316,
    "start_time": "2022-07-28T20:05:27.819Z"
   },
   {
    "duration": 285,
    "start_time": "2022-07-28T20:05:28.136Z"
   },
   {
    "duration": 252,
    "start_time": "2022-07-28T20:05:28.422Z"
   },
   {
    "duration": 269,
    "start_time": "2022-07-28T20:05:28.676Z"
   },
   {
    "duration": 245,
    "start_time": "2022-07-28T20:05:28.947Z"
   },
   {
    "duration": 362,
    "start_time": "2022-07-28T20:05:29.194Z"
   },
   {
    "duration": 265,
    "start_time": "2022-07-28T20:05:29.558Z"
   },
   {
    "duration": 236,
    "start_time": "2022-07-28T20:05:29.825Z"
   },
   {
    "duration": 218,
    "start_time": "2022-07-28T20:05:30.064Z"
   },
   {
    "duration": 194,
    "start_time": "2022-07-28T20:05:30.285Z"
   },
   {
    "duration": 213,
    "start_time": "2022-07-28T20:05:30.481Z"
   },
   {
    "duration": 219,
    "start_time": "2022-07-28T20:05:30.696Z"
   },
   {
    "duration": 245,
    "start_time": "2022-07-28T20:05:30.917Z"
   },
   {
    "duration": 233,
    "start_time": "2022-07-28T20:05:31.164Z"
   },
   {
    "duration": 230,
    "start_time": "2022-07-28T20:05:31.398Z"
   },
   {
    "duration": 5,
    "start_time": "2022-07-28T20:05:31.629Z"
   },
   {
    "duration": 11,
    "start_time": "2022-07-28T20:05:31.636Z"
   },
   {
    "duration": 18,
    "start_time": "2022-07-28T20:05:31.648Z"
   },
   {
    "duration": 18,
    "start_time": "2022-07-28T20:05:31.668Z"
   },
   {
    "duration": 23,
    "start_time": "2022-07-28T20:05:31.687Z"
   },
   {
    "duration": 29,
    "start_time": "2022-07-28T20:05:31.712Z"
   },
   {
    "duration": 299,
    "start_time": "2022-07-29T09:58:31.895Z"
   },
   {
    "duration": 791,
    "start_time": "2022-07-29T09:58:36.768Z"
   },
   {
    "duration": 153,
    "start_time": "2022-07-29T09:58:37.561Z"
   },
   {
    "duration": 130,
    "start_time": "2022-07-29T09:58:37.715Z"
   },
   {
    "duration": 80,
    "start_time": "2022-07-29T09:58:37.847Z"
   },
   {
    "duration": 15,
    "start_time": "2022-07-29T09:58:37.928Z"
   },
   {
    "duration": 25,
    "start_time": "2022-07-29T09:58:37.944Z"
   },
   {
    "duration": 11,
    "start_time": "2022-07-29T09:58:37.970Z"
   },
   {
    "duration": 24,
    "start_time": "2022-07-29T09:58:37.983Z"
   },
   {
    "duration": 16,
    "start_time": "2022-07-29T09:58:38.009Z"
   },
   {
    "duration": 10,
    "start_time": "2022-07-29T09:58:38.028Z"
   },
   {
    "duration": 22,
    "start_time": "2022-07-29T09:58:38.040Z"
   },
   {
    "duration": 12,
    "start_time": "2022-07-29T09:58:38.063Z"
   },
   {
    "duration": 7,
    "start_time": "2022-07-29T09:58:38.076Z"
   },
   {
    "duration": 18,
    "start_time": "2022-07-29T09:58:38.085Z"
   },
   {
    "duration": 33,
    "start_time": "2022-07-29T09:58:38.104Z"
   },
   {
    "duration": 11,
    "start_time": "2022-07-29T09:58:38.138Z"
   },
   {
    "duration": 13,
    "start_time": "2022-07-29T09:58:38.150Z"
   },
   {
    "duration": 8,
    "start_time": "2022-07-29T09:58:38.165Z"
   },
   {
    "duration": 11,
    "start_time": "2022-07-29T09:58:38.175Z"
   },
   {
    "duration": 10,
    "start_time": "2022-07-29T09:58:38.187Z"
   },
   {
    "duration": 109,
    "start_time": "2022-07-29T09:58:38.198Z"
   },
   {
    "duration": 60,
    "start_time": "2022-07-29T09:58:38.309Z"
   },
   {
    "duration": 179,
    "start_time": "2022-07-29T09:58:38.371Z"
   },
   {
    "duration": 4,
    "start_time": "2022-07-29T09:58:38.551Z"
   },
   {
    "duration": 6,
    "start_time": "2022-07-29T09:58:38.556Z"
   },
   {
    "duration": 30,
    "start_time": "2022-07-29T09:58:38.564Z"
   },
   {
    "duration": 4,
    "start_time": "2022-07-29T09:58:38.596Z"
   },
   {
    "duration": 78,
    "start_time": "2022-07-29T09:58:38.604Z"
   },
   {
    "duration": 18,
    "start_time": "2022-07-29T09:58:38.684Z"
   },
   {
    "duration": 45,
    "start_time": "2022-07-29T09:58:38.704Z"
   },
   {
    "duration": 23,
    "start_time": "2022-07-29T09:58:38.751Z"
   },
   {
    "duration": 32,
    "start_time": "2022-07-29T09:58:38.776Z"
   },
   {
    "duration": 27,
    "start_time": "2022-07-29T09:58:38.810Z"
   },
   {
    "duration": 9,
    "start_time": "2022-07-29T09:58:38.839Z"
   },
   {
    "duration": 10,
    "start_time": "2022-07-29T09:58:38.850Z"
   },
   {
    "duration": 12,
    "start_time": "2022-07-29T09:58:38.862Z"
   },
   {
    "duration": 13,
    "start_time": "2022-07-29T09:58:38.875Z"
   },
   {
    "duration": 12,
    "start_time": "2022-07-29T09:58:38.890Z"
   },
   {
    "duration": 51,
    "start_time": "2022-07-29T09:58:38.904Z"
   },
   {
    "duration": 4,
    "start_time": "2022-07-29T09:58:38.957Z"
   },
   {
    "duration": 8,
    "start_time": "2022-07-29T09:58:38.962Z"
   },
   {
    "duration": 6165,
    "start_time": "2022-07-29T09:58:38.972Z"
   },
   {
    "duration": 13,
    "start_time": "2022-07-29T09:58:45.139Z"
   },
   {
    "duration": 39,
    "start_time": "2022-07-29T09:58:45.153Z"
   },
   {
    "duration": 292,
    "start_time": "2022-07-29T09:58:45.194Z"
   },
   {
    "duration": 248,
    "start_time": "2022-07-29T09:58:45.487Z"
   },
   {
    "duration": 285,
    "start_time": "2022-07-29T09:58:45.736Z"
   },
   {
    "duration": 256,
    "start_time": "2022-07-29T09:58:46.023Z"
   },
   {
    "duration": 251,
    "start_time": "2022-07-29T09:58:46.280Z"
   },
   {
    "duration": 300,
    "start_time": "2022-07-29T09:58:46.532Z"
   },
   {
    "duration": 227,
    "start_time": "2022-07-29T09:58:46.833Z"
   },
   {
    "duration": 211,
    "start_time": "2022-07-29T09:58:47.061Z"
   },
   {
    "duration": 221,
    "start_time": "2022-07-29T09:58:47.274Z"
   },
   {
    "duration": 222,
    "start_time": "2022-07-29T09:58:47.497Z"
   },
   {
    "duration": 225,
    "start_time": "2022-07-29T09:58:47.721Z"
   },
   {
    "duration": 224,
    "start_time": "2022-07-29T09:58:47.948Z"
   },
   {
    "duration": 233,
    "start_time": "2022-07-29T09:58:48.173Z"
   },
   {
    "duration": 220,
    "start_time": "2022-07-29T09:58:48.407Z"
   },
   {
    "duration": 259,
    "start_time": "2022-07-29T09:58:48.628Z"
   },
   {
    "duration": 9,
    "start_time": "2022-07-29T09:58:48.888Z"
   },
   {
    "duration": 21,
    "start_time": "2022-07-29T09:58:48.899Z"
   },
   {
    "duration": 19,
    "start_time": "2022-07-29T09:58:48.923Z"
   },
   {
    "duration": 13,
    "start_time": "2022-07-29T09:58:48.944Z"
   },
   {
    "duration": 20,
    "start_time": "2022-07-29T09:58:48.959Z"
   },
   {
    "duration": 8,
    "start_time": "2022-07-29T09:58:48.981Z"
   },
   {
    "duration": 301,
    "start_time": "2022-07-29T09:59:31.142Z"
   },
   {
    "duration": 276,
    "start_time": "2022-07-29T09:59:48.900Z"
   },
   {
    "duration": 240,
    "start_time": "2022-07-29T10:00:19.092Z"
   },
   {
    "duration": 227,
    "start_time": "2022-07-29T10:00:28.482Z"
   },
   {
    "duration": 220,
    "start_time": "2022-07-29T10:00:53.916Z"
   },
   {
    "duration": 228,
    "start_time": "2022-07-29T10:01:31.466Z"
   },
   {
    "duration": 213,
    "start_time": "2022-07-29T10:01:36.979Z"
   },
   {
    "duration": 221,
    "start_time": "2022-07-29T10:01:58.280Z"
   },
   {
    "duration": 259,
    "start_time": "2022-07-29T10:03:13.870Z"
   },
   {
    "duration": 223,
    "start_time": "2022-07-29T10:03:32.614Z"
   },
   {
    "duration": 221,
    "start_time": "2022-07-29T10:03:49.931Z"
   },
   {
    "duration": 299,
    "start_time": "2022-07-29T10:05:18.440Z"
   },
   {
    "duration": 221,
    "start_time": "2022-07-29T10:05:37.672Z"
   },
   {
    "duration": 211,
    "start_time": "2022-07-29T10:05:41.069Z"
   },
   {
    "duration": 217,
    "start_time": "2022-07-29T10:05:47.779Z"
   },
   {
    "duration": 229,
    "start_time": "2022-07-29T10:05:51.780Z"
   },
   {
    "duration": 223,
    "start_time": "2022-07-29T10:06:06.855Z"
   },
   {
    "duration": 234,
    "start_time": "2022-07-29T10:06:10.048Z"
   },
   {
    "duration": 222,
    "start_time": "2022-07-29T10:06:12.420Z"
   },
   {
    "duration": 227,
    "start_time": "2022-07-29T10:06:14.848Z"
   },
   {
    "duration": 233,
    "start_time": "2022-07-29T10:06:16.280Z"
   },
   {
    "duration": 247,
    "start_time": "2022-07-29T10:08:55.742Z"
   },
   {
    "duration": 321,
    "start_time": "2022-07-29T10:09:04.418Z"
   },
   {
    "duration": 229,
    "start_time": "2022-07-29T10:09:07.346Z"
   },
   {
    "duration": 263,
    "start_time": "2022-07-29T10:10:22.119Z"
   },
   {
    "duration": 244,
    "start_time": "2022-07-29T10:11:04.420Z"
   },
   {
    "duration": 216,
    "start_time": "2022-07-29T10:11:17.216Z"
   },
   {
    "duration": 221,
    "start_time": "2022-07-29T10:11:26.676Z"
   },
   {
    "duration": 224,
    "start_time": "2022-07-29T10:11:33.552Z"
   },
   {
    "duration": 95,
    "start_time": "2022-07-29T10:11:43.349Z"
   },
   {
    "duration": 82,
    "start_time": "2022-07-29T10:11:54.575Z"
   },
   {
    "duration": 102,
    "start_time": "2022-07-29T10:12:04.291Z"
   },
   {
    "duration": 88,
    "start_time": "2022-07-29T10:12:05.523Z"
   },
   {
    "duration": 79,
    "start_time": "2022-07-29T10:12:06.669Z"
   },
   {
    "duration": 80,
    "start_time": "2022-07-29T10:12:09.102Z"
   },
   {
    "duration": 323,
    "start_time": "2022-07-29T10:12:20.058Z"
   },
   {
    "duration": 234,
    "start_time": "2022-07-29T10:12:43.226Z"
   },
   {
    "duration": 238,
    "start_time": "2022-07-29T10:12:47.862Z"
   },
   {
    "duration": 269,
    "start_time": "2022-07-29T10:12:55.219Z"
   },
   {
    "duration": 86,
    "start_time": "2022-07-29T10:13:06.044Z"
   },
   {
    "duration": 224,
    "start_time": "2022-07-29T10:13:10.555Z"
   },
   {
    "duration": 236,
    "start_time": "2022-07-29T10:14:33.687Z"
   },
   {
    "duration": 248,
    "start_time": "2022-07-29T10:14:52.170Z"
   },
   {
    "duration": 233,
    "start_time": "2022-07-29T10:14:59.204Z"
   },
   {
    "duration": 12,
    "start_time": "2022-07-29T10:15:16.972Z"
   },
   {
    "duration": 199,
    "start_time": "2022-07-29T10:15:52.681Z"
   },
   {
    "duration": 243,
    "start_time": "2022-07-29T10:15:56.685Z"
   },
   {
    "duration": 338,
    "start_time": "2022-07-29T10:16:12.894Z"
   },
   {
    "duration": 227,
    "start_time": "2022-07-29T10:16:23.702Z"
   },
   {
    "duration": 241,
    "start_time": "2022-07-29T10:21:10.937Z"
   },
   {
    "duration": 247,
    "start_time": "2022-07-29T10:21:21.952Z"
   },
   {
    "duration": 244,
    "start_time": "2022-07-29T10:26:44.648Z"
   },
   {
    "duration": 31,
    "start_time": "2022-07-29T10:27:47.331Z"
   },
   {
    "duration": 259,
    "start_time": "2022-07-29T10:28:36.298Z"
   },
   {
    "duration": 11,
    "start_time": "2022-07-29T10:31:17.833Z"
   },
   {
    "duration": 14,
    "start_time": "2022-07-29T10:31:28.818Z"
   },
   {
    "duration": 247,
    "start_time": "2022-07-29T10:31:40.935Z"
   },
   {
    "duration": 247,
    "start_time": "2022-07-29T10:31:45.424Z"
   },
   {
    "duration": 238,
    "start_time": "2022-07-29T10:31:59.449Z"
   },
   {
    "duration": 280,
    "start_time": "2022-07-29T10:34:03.490Z"
   },
   {
    "duration": 259,
    "start_time": "2022-07-29T10:34:14.616Z"
   },
   {
    "duration": 1124,
    "start_time": "2022-07-29T10:34:45.567Z"
   },
   {
    "duration": 173,
    "start_time": "2022-07-29T10:34:46.693Z"
   },
   {
    "duration": 138,
    "start_time": "2022-07-29T10:34:46.868Z"
   },
   {
    "duration": 86,
    "start_time": "2022-07-29T10:34:47.009Z"
   },
   {
    "duration": 14,
    "start_time": "2022-07-29T10:34:47.096Z"
   },
   {
    "duration": 25,
    "start_time": "2022-07-29T10:34:47.111Z"
   },
   {
    "duration": 22,
    "start_time": "2022-07-29T10:34:47.137Z"
   },
   {
    "duration": 38,
    "start_time": "2022-07-29T10:34:47.161Z"
   },
   {
    "duration": 19,
    "start_time": "2022-07-29T10:34:47.201Z"
   },
   {
    "duration": 14,
    "start_time": "2022-07-29T10:34:47.239Z"
   },
   {
    "duration": 31,
    "start_time": "2022-07-29T10:34:47.256Z"
   },
   {
    "duration": 12,
    "start_time": "2022-07-29T10:34:47.289Z"
   },
   {
    "duration": 6,
    "start_time": "2022-07-29T10:34:47.303Z"
   },
   {
    "duration": 47,
    "start_time": "2022-07-29T10:34:47.311Z"
   },
   {
    "duration": 9,
    "start_time": "2022-07-29T10:34:47.360Z"
   },
   {
    "duration": 13,
    "start_time": "2022-07-29T10:34:47.370Z"
   },
   {
    "duration": 13,
    "start_time": "2022-07-29T10:34:47.384Z"
   },
   {
    "duration": 10,
    "start_time": "2022-07-29T10:34:47.399Z"
   },
   {
    "duration": 43,
    "start_time": "2022-07-29T10:34:47.410Z"
   },
   {
    "duration": 18,
    "start_time": "2022-07-29T10:34:47.455Z"
   },
   {
    "duration": 96,
    "start_time": "2022-07-29T10:34:47.474Z"
   },
   {
    "duration": 45,
    "start_time": "2022-07-29T10:34:47.572Z"
   },
   {
    "duration": 199,
    "start_time": "2022-07-29T10:34:47.619Z"
   },
   {
    "duration": 4,
    "start_time": "2022-07-29T10:34:47.820Z"
   },
   {
    "duration": 5,
    "start_time": "2022-07-29T10:34:47.836Z"
   },
   {
    "duration": 32,
    "start_time": "2022-07-29T10:34:47.843Z"
   },
   {
    "duration": 4,
    "start_time": "2022-07-29T10:34:47.877Z"
   },
   {
    "duration": 84,
    "start_time": "2022-07-29T10:34:47.884Z"
   },
   {
    "duration": 18,
    "start_time": "2022-07-29T10:34:47.969Z"
   },
   {
    "duration": 31,
    "start_time": "2022-07-29T10:34:47.988Z"
   },
   {
    "duration": 37,
    "start_time": "2022-07-29T10:34:48.020Z"
   },
   {
    "duration": 29,
    "start_time": "2022-07-29T10:34:48.059Z"
   },
   {
    "duration": 7,
    "start_time": "2022-07-29T10:34:48.089Z"
   },
   {
    "duration": 39,
    "start_time": "2022-07-29T10:34:48.098Z"
   },
   {
    "duration": 17,
    "start_time": "2022-07-29T10:34:48.140Z"
   },
   {
    "duration": 10,
    "start_time": "2022-07-29T10:34:48.159Z"
   },
   {
    "duration": 13,
    "start_time": "2022-07-29T10:34:48.170Z"
   },
   {
    "duration": 11,
    "start_time": "2022-07-29T10:34:48.185Z"
   },
   {
    "duration": 16,
    "start_time": "2022-07-29T10:34:48.197Z"
   },
   {
    "duration": 8,
    "start_time": "2022-07-29T10:34:48.244Z"
   },
   {
    "duration": 14,
    "start_time": "2022-07-29T10:34:48.255Z"
   },
   {
    "duration": 6614,
    "start_time": "2022-07-29T10:34:48.271Z"
   },
   {
    "duration": 14,
    "start_time": "2022-07-29T10:34:54.886Z"
   },
   {
    "duration": 60,
    "start_time": "2022-07-29T10:34:54.902Z"
   },
   {
    "duration": 307,
    "start_time": "2022-07-29T10:34:54.966Z"
   },
   {
    "duration": 273,
    "start_time": "2022-07-29T10:34:55.275Z"
   },
   {
    "duration": 276,
    "start_time": "2022-07-29T10:34:55.551Z"
   },
   {
    "duration": 276,
    "start_time": "2022-07-29T10:34:55.829Z"
   },
   {
    "duration": 272,
    "start_time": "2022-07-29T10:34:56.106Z"
   },
   {
    "duration": 333,
    "start_time": "2022-07-29T10:34:56.380Z"
   },
   {
    "duration": 226,
    "start_time": "2022-07-29T10:34:56.715Z"
   },
   {
    "duration": 242,
    "start_time": "2022-07-29T10:34:56.943Z"
   },
   {
    "duration": 239,
    "start_time": "2022-07-29T10:34:57.186Z"
   },
   {
    "duration": 267,
    "start_time": "2022-07-29T10:34:57.427Z"
   },
   {
    "duration": 275,
    "start_time": "2022-07-29T10:34:57.696Z"
   },
   {
    "duration": 246,
    "start_time": "2022-07-29T10:34:57.973Z"
   },
   {
    "duration": 274,
    "start_time": "2022-07-29T10:34:58.221Z"
   },
   {
    "duration": 220,
    "start_time": "2022-07-29T10:34:58.496Z"
   },
   {
    "duration": 300,
    "start_time": "2022-07-29T10:34:58.717Z"
   },
   {
    "duration": 7,
    "start_time": "2022-07-29T10:34:59.019Z"
   },
   {
    "duration": 37,
    "start_time": "2022-07-29T10:34:59.028Z"
   },
   {
    "duration": 30,
    "start_time": "2022-07-29T10:34:59.067Z"
   },
   {
    "duration": 47,
    "start_time": "2022-07-29T10:34:59.099Z"
   },
   {
    "duration": 42,
    "start_time": "2022-07-29T10:34:59.149Z"
   },
   {
    "duration": 12,
    "start_time": "2022-07-29T10:34:59.193Z"
   },
   {
    "duration": 82,
    "start_time": "2022-07-29T10:37:42.647Z"
   },
   {
    "duration": 283,
    "start_time": "2022-07-29T10:37:49.165Z"
   },
   {
    "duration": 403,
    "start_time": "2022-07-29T10:37:52.542Z"
   },
   {
    "duration": 287,
    "start_time": "2022-07-29T10:40:57.937Z"
   },
   {
    "duration": 282,
    "start_time": "2022-07-29T10:41:16.741Z"
   },
   {
    "duration": 269,
    "start_time": "2022-07-29T10:41:33.750Z"
   },
   {
    "duration": 316,
    "start_time": "2022-07-29T10:41:40.057Z"
   },
   {
    "duration": 604,
    "start_time": "2022-07-29T10:41:50.435Z"
   },
   {
    "duration": 513,
    "start_time": "2022-07-29T10:41:59.135Z"
   },
   {
    "duration": 235,
    "start_time": "2022-07-29T10:42:18.097Z"
   },
   {
    "duration": 336,
    "start_time": "2022-07-29T10:42:24.196Z"
   },
   {
    "duration": 285,
    "start_time": "2022-07-29T10:42:46.624Z"
   },
   {
    "duration": 287,
    "start_time": "2022-07-29T10:43:13.611Z"
   },
   {
    "duration": 298,
    "start_time": "2022-07-29T10:43:42.290Z"
   },
   {
    "duration": 271,
    "start_time": "2022-07-29T10:43:47.677Z"
   },
   {
    "duration": 298,
    "start_time": "2022-07-29T10:43:59.958Z"
   },
   {
    "duration": 505,
    "start_time": "2022-07-29T10:44:38.257Z"
   },
   {
    "duration": 501,
    "start_time": "2022-07-29T10:44:44.602Z"
   },
   {
    "duration": 587,
    "start_time": "2022-07-29T10:45:21.633Z"
   },
   {
    "duration": 470,
    "start_time": "2022-07-29T10:45:45.531Z"
   },
   {
    "duration": 498,
    "start_time": "2022-07-29T10:46:15.730Z"
   },
   {
    "duration": 84,
    "start_time": "2022-07-29T10:46:48.091Z"
   },
   {
    "duration": 1667,
    "start_time": "2022-07-29T10:46:52.253Z"
   },
   {
    "duration": 564,
    "start_time": "2022-07-29T10:47:02.853Z"
   },
   {
    "duration": 465,
    "start_time": "2022-07-29T10:47:12.599Z"
   },
   {
    "duration": 532,
    "start_time": "2022-07-29T10:47:21.988Z"
   },
   {
    "duration": 655,
    "start_time": "2022-07-29T10:47:36.216Z"
   },
   {
    "duration": 513,
    "start_time": "2022-07-29T10:47:43.987Z"
   },
   {
    "duration": 270,
    "start_time": "2022-07-29T10:49:21.996Z"
   },
   {
    "duration": 498,
    "start_time": "2022-07-29T10:49:30.395Z"
   },
   {
    "duration": 584,
    "start_time": "2022-07-29T10:49:38.656Z"
   },
   {
    "duration": 479,
    "start_time": "2022-07-29T10:49:47.585Z"
   },
   {
    "duration": 585,
    "start_time": "2022-07-29T10:50:20.495Z"
   },
   {
    "duration": 493,
    "start_time": "2022-07-29T10:50:26.074Z"
   },
   {
    "duration": 491,
    "start_time": "2022-07-29T10:50:34.196Z"
   },
   {
    "duration": 494,
    "start_time": "2022-07-29T10:50:35.543Z"
   },
   {
    "duration": 470,
    "start_time": "2022-07-29T10:50:46.247Z"
   },
   {
    "duration": 551,
    "start_time": "2022-07-29T10:50:50.920Z"
   },
   {
    "duration": 83,
    "start_time": "2022-07-29T10:53:41.252Z"
   },
   {
    "duration": 50,
    "start_time": "2022-07-29T16:28:07.147Z"
   },
   {
    "duration": 1257,
    "start_time": "2022-07-29T16:28:13.719Z"
   },
   {
    "duration": 239,
    "start_time": "2022-07-29T16:28:14.977Z"
   },
   {
    "duration": 316,
    "start_time": "2022-07-29T16:28:15.217Z"
   },
   {
    "duration": 282,
    "start_time": "2022-07-29T16:28:15.545Z"
   },
   {
    "duration": 63,
    "start_time": "2022-07-29T16:28:15.828Z"
   },
   {
    "duration": 54,
    "start_time": "2022-07-29T16:28:15.892Z"
   },
   {
    "duration": 13,
    "start_time": "2022-07-29T16:28:15.947Z"
   },
   {
    "duration": 30,
    "start_time": "2022-07-29T16:28:15.961Z"
   },
   {
    "duration": 16,
    "start_time": "2022-07-29T16:28:15.992Z"
   },
   {
    "duration": 8,
    "start_time": "2022-07-29T16:28:16.010Z"
   },
   {
    "duration": 36,
    "start_time": "2022-07-29T16:28:16.019Z"
   },
   {
    "duration": 26,
    "start_time": "2022-07-29T16:28:16.057Z"
   },
   {
    "duration": 9,
    "start_time": "2022-07-29T16:28:16.085Z"
   },
   {
    "duration": 23,
    "start_time": "2022-07-29T16:28:16.095Z"
   },
   {
    "duration": 26,
    "start_time": "2022-07-29T16:28:16.120Z"
   },
   {
    "duration": 30,
    "start_time": "2022-07-29T16:28:16.148Z"
   },
   {
    "duration": 28,
    "start_time": "2022-07-29T16:28:16.180Z"
   },
   {
    "duration": 13,
    "start_time": "2022-07-29T16:28:16.210Z"
   },
   {
    "duration": 35,
    "start_time": "2022-07-29T16:28:16.225Z"
   },
   {
    "duration": 19,
    "start_time": "2022-07-29T16:28:16.262Z"
   },
   {
    "duration": 88,
    "start_time": "2022-07-29T16:28:16.283Z"
   },
   {
    "duration": 76,
    "start_time": "2022-07-29T16:28:16.373Z"
   },
   {
    "duration": 168,
    "start_time": "2022-07-29T16:28:16.451Z"
   },
   {
    "duration": 4,
    "start_time": "2022-07-29T16:28:16.620Z"
   },
   {
    "duration": 23,
    "start_time": "2022-07-29T16:28:16.626Z"
   },
   {
    "duration": 38,
    "start_time": "2022-07-29T16:28:16.650Z"
   },
   {
    "duration": 4,
    "start_time": "2022-07-29T16:28:16.690Z"
   },
   {
    "duration": 69,
    "start_time": "2022-07-29T16:28:16.699Z"
   },
   {
    "duration": 19,
    "start_time": "2022-07-29T16:28:16.770Z"
   },
   {
    "duration": 49,
    "start_time": "2022-07-29T16:28:16.790Z"
   },
   {
    "duration": 24,
    "start_time": "2022-07-29T16:28:16.842Z"
   },
   {
    "duration": 29,
    "start_time": "2022-07-29T16:28:16.867Z"
   },
   {
    "duration": 8,
    "start_time": "2022-07-29T16:28:16.898Z"
   },
   {
    "duration": 38,
    "start_time": "2022-07-29T16:28:16.907Z"
   },
   {
    "duration": 17,
    "start_time": "2022-07-29T16:28:16.947Z"
   },
   {
    "duration": 13,
    "start_time": "2022-07-29T16:28:16.965Z"
   },
   {
    "duration": 16,
    "start_time": "2022-07-29T16:28:16.980Z"
   },
   {
    "duration": 12,
    "start_time": "2022-07-29T16:28:16.997Z"
   },
   {
    "duration": 34,
    "start_time": "2022-07-29T16:28:17.011Z"
   },
   {
    "duration": 26,
    "start_time": "2022-07-29T16:28:17.047Z"
   },
   {
    "duration": 3,
    "start_time": "2022-07-29T16:28:17.075Z"
   },
   {
    "duration": 30,
    "start_time": "2022-07-29T16:28:17.079Z"
   },
   {
    "duration": 1105,
    "start_time": "2022-07-29T16:28:17.111Z"
   },
   {
    "duration": 0,
    "start_time": "2022-07-29T16:28:18.217Z"
   },
   {
    "duration": 0,
    "start_time": "2022-07-29T16:28:18.218Z"
   },
   {
    "duration": 0,
    "start_time": "2022-07-29T16:28:18.219Z"
   },
   {
    "duration": 0,
    "start_time": "2022-07-29T16:28:18.220Z"
   },
   {
    "duration": 0,
    "start_time": "2022-07-29T16:28:18.221Z"
   },
   {
    "duration": 0,
    "start_time": "2022-07-29T16:28:18.222Z"
   },
   {
    "duration": 0,
    "start_time": "2022-07-29T16:28:18.223Z"
   },
   {
    "duration": 0,
    "start_time": "2022-07-29T16:28:18.224Z"
   },
   {
    "duration": 0,
    "start_time": "2022-07-29T16:28:18.225Z"
   },
   {
    "duration": 0,
    "start_time": "2022-07-29T16:28:18.227Z"
   },
   {
    "duration": 0,
    "start_time": "2022-07-29T16:28:18.228Z"
   },
   {
    "duration": 0,
    "start_time": "2022-07-29T16:28:18.229Z"
   },
   {
    "duration": 0,
    "start_time": "2022-07-29T16:28:18.230Z"
   },
   {
    "duration": 0,
    "start_time": "2022-07-29T16:28:18.231Z"
   },
   {
    "duration": 0,
    "start_time": "2022-07-29T16:28:18.232Z"
   },
   {
    "duration": 0,
    "start_time": "2022-07-29T16:28:18.245Z"
   },
   {
    "duration": 0,
    "start_time": "2022-07-29T16:28:18.246Z"
   },
   {
    "duration": 0,
    "start_time": "2022-07-29T16:28:18.247Z"
   },
   {
    "duration": 0,
    "start_time": "2022-07-29T16:28:18.248Z"
   },
   {
    "duration": 0,
    "start_time": "2022-07-29T16:28:18.254Z"
   },
   {
    "duration": 0,
    "start_time": "2022-07-29T16:28:18.255Z"
   },
   {
    "duration": 0,
    "start_time": "2022-07-29T16:28:18.255Z"
   },
   {
    "duration": 0,
    "start_time": "2022-07-29T16:28:18.256Z"
   },
   {
    "duration": 40,
    "start_time": "2022-07-29T16:28:52.546Z"
   },
   {
    "duration": 5428,
    "start_time": "2022-07-29T16:29:46.917Z"
   },
   {
    "duration": 26,
    "start_time": "2022-07-29T16:29:55.628Z"
   },
   {
    "duration": 1091,
    "start_time": "2022-07-29T16:30:09.279Z"
   },
   {
    "duration": 160,
    "start_time": "2022-07-29T16:30:10.372Z"
   },
   {
    "duration": 144,
    "start_time": "2022-07-29T16:30:10.537Z"
   },
   {
    "duration": 85,
    "start_time": "2022-07-29T16:30:10.683Z"
   },
   {
    "duration": 15,
    "start_time": "2022-07-29T16:30:10.770Z"
   },
   {
    "duration": 26,
    "start_time": "2022-07-29T16:30:10.786Z"
   },
   {
    "duration": 11,
    "start_time": "2022-07-29T16:30:10.813Z"
   },
   {
    "duration": 29,
    "start_time": "2022-07-29T16:30:10.825Z"
   },
   {
    "duration": 16,
    "start_time": "2022-07-29T16:30:10.856Z"
   },
   {
    "duration": 8,
    "start_time": "2022-07-29T16:30:10.874Z"
   },
   {
    "duration": 20,
    "start_time": "2022-07-29T16:30:10.884Z"
   },
   {
    "duration": 34,
    "start_time": "2022-07-29T16:30:10.906Z"
   },
   {
    "duration": 9,
    "start_time": "2022-07-29T16:30:10.941Z"
   },
   {
    "duration": 19,
    "start_time": "2022-07-29T16:30:10.952Z"
   },
   {
    "duration": 7,
    "start_time": "2022-07-29T16:30:10.973Z"
   },
   {
    "duration": 12,
    "start_time": "2022-07-29T16:30:10.982Z"
   },
   {
    "duration": 54,
    "start_time": "2022-07-29T16:30:10.996Z"
   },
   {
    "duration": 14,
    "start_time": "2022-07-29T16:30:11.052Z"
   },
   {
    "duration": 23,
    "start_time": "2022-07-29T16:30:11.068Z"
   },
   {
    "duration": 11,
    "start_time": "2022-07-29T16:30:11.093Z"
   },
   {
    "duration": 86,
    "start_time": "2022-07-29T16:30:11.106Z"
   },
   {
    "duration": 68,
    "start_time": "2022-07-29T16:30:11.194Z"
   },
   {
    "duration": 192,
    "start_time": "2022-07-29T16:30:11.265Z"
   },
   {
    "duration": 4,
    "start_time": "2022-07-29T16:30:11.459Z"
   },
   {
    "duration": 12,
    "start_time": "2022-07-29T16:30:11.464Z"
   },
   {
    "duration": 31,
    "start_time": "2022-07-29T16:30:11.478Z"
   },
   {
    "duration": 5,
    "start_time": "2022-07-29T16:30:11.510Z"
   },
   {
    "duration": 59,
    "start_time": "2022-07-29T16:30:11.542Z"
   },
   {
    "duration": 20,
    "start_time": "2022-07-29T16:30:11.602Z"
   },
   {
    "duration": 46,
    "start_time": "2022-07-29T16:30:11.623Z"
   },
   {
    "duration": 23,
    "start_time": "2022-07-29T16:30:11.670Z"
   },
   {
    "duration": 52,
    "start_time": "2022-07-29T16:30:11.694Z"
   },
   {
    "duration": 8,
    "start_time": "2022-07-29T16:30:11.748Z"
   },
   {
    "duration": 11,
    "start_time": "2022-07-29T16:30:11.757Z"
   },
   {
    "duration": 8,
    "start_time": "2022-07-29T16:30:11.769Z"
   },
   {
    "duration": 9,
    "start_time": "2022-07-29T16:30:11.779Z"
   },
   {
    "duration": 13,
    "start_time": "2022-07-29T16:30:11.789Z"
   },
   {
    "duration": 8,
    "start_time": "2022-07-29T16:30:11.803Z"
   },
   {
    "duration": 40,
    "start_time": "2022-07-29T16:30:11.812Z"
   },
   {
    "duration": 5,
    "start_time": "2022-07-29T16:30:11.854Z"
   },
   {
    "duration": 9,
    "start_time": "2022-07-29T16:30:11.861Z"
   },
   {
    "duration": 6366,
    "start_time": "2022-07-29T16:30:11.872Z"
   },
   {
    "duration": 17,
    "start_time": "2022-07-29T16:30:18.240Z"
   },
   {
    "duration": 91,
    "start_time": "2022-07-29T16:30:18.258Z"
   },
   {
    "duration": 377,
    "start_time": "2022-07-29T16:30:18.352Z"
   },
   {
    "duration": 237,
    "start_time": "2022-07-29T16:30:18.733Z"
   },
   {
    "duration": 438,
    "start_time": "2022-07-29T16:30:18.971Z"
   },
   {
    "duration": 247,
    "start_time": "2022-07-29T16:30:19.410Z"
   },
   {
    "duration": 235,
    "start_time": "2022-07-29T16:30:19.658Z"
   },
   {
    "duration": 307,
    "start_time": "2022-07-29T16:30:19.895Z"
   },
   {
    "duration": 248,
    "start_time": "2022-07-29T16:30:20.203Z"
   },
   {
    "duration": 211,
    "start_time": "2022-07-29T16:30:20.453Z"
   },
   {
    "duration": 220,
    "start_time": "2022-07-29T16:30:20.666Z"
   },
   {
    "duration": 258,
    "start_time": "2022-07-29T16:30:20.887Z"
   },
   {
    "duration": 234,
    "start_time": "2022-07-29T16:30:21.147Z"
   },
   {
    "duration": 244,
    "start_time": "2022-07-29T16:30:21.383Z"
   },
   {
    "duration": 225,
    "start_time": "2022-07-29T16:30:21.629Z"
   },
   {
    "duration": 217,
    "start_time": "2022-07-29T16:30:21.856Z"
   },
   {
    "duration": 249,
    "start_time": "2022-07-29T16:30:22.074Z"
   },
   {
    "duration": 21,
    "start_time": "2022-07-29T16:30:22.324Z"
   },
   {
    "duration": 25,
    "start_time": "2022-07-29T16:30:22.348Z"
   },
   {
    "duration": 32,
    "start_time": "2022-07-29T16:30:22.374Z"
   },
   {
    "duration": 35,
    "start_time": "2022-07-29T16:30:22.407Z"
   },
   {
    "duration": 18,
    "start_time": "2022-07-29T16:30:22.445Z"
   },
   {
    "duration": 29,
    "start_time": "2022-07-29T16:30:22.465Z"
   }
  ],
  "kernelspec": {
   "display_name": "Python 3 (ipykernel)",
   "language": "python",
   "name": "python3"
  },
  "language_info": {
   "codemirror_mode": {
    "name": "ipython",
    "version": 3
   },
   "file_extension": ".py",
   "mimetype": "text/x-python",
   "name": "python",
   "nbconvert_exporter": "python",
   "pygments_lexer": "ipython3",
   "version": "3.7.8"
  },
  "toc": {
   "base_numbering": 1,
   "nav_menu": {},
   "number_sections": true,
   "sideBar": true,
   "skip_h1_title": false,
   "title_cell": "Table of Contents",
   "title_sidebar": "Contents",
   "toc_cell": false,
   "toc_position": {
    "height": "calc(100% - 180px)",
    "left": "10px",
    "top": "150px",
    "width": "303.516px"
   },
   "toc_section_display": true,
   "toc_window_display": true
  }
 },
 "nbformat": 4,
 "nbformat_minor": 5
}
