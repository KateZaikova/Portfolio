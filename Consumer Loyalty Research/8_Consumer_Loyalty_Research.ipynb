{
 "cells": [
  {
   "cell_type": "markdown",
   "id": "a8fec7d2",
   "metadata": {},
   "source": [
    "# Исследование уровня потребительской лояльности телекоммуникационной компании\n",
    "**Описание проекта**\n",
    "\n",
    "Заказчик — большая телекоммуникационная компания, которая оказывает услуги на территории всего СНГ. Перед компанией стоит задача определить текущий уровень потребительской лояльности, или NPS (от англ. Net Promoter Score), среди клиентов из России.\n",
    "\n",
    "Чтобы определить уровень лояльности, клиентам задавали классический вопрос: «Оцените по шкале от 1 до 10 вероятность того, что вы порекомендуете компанию друзьям и знакомым».\n",
    "\n",
    "Компания провела опрос и попросила подготовить дашборд с его итогами. Большую базу данных для такой задачи разворачивать не стали и выгрузили данные в SQLite.\n",
    "\n",
    "Чтобы оценить результаты опроса, оценки обычно делят на три группы:\n",
    "9-10 баллов — «cторонники» (англ. promoters);\n",
    "7-8 баллов — «нейтралы» (англ. passives);\n",
    "0-6 баллов — «критики» (англ. detractors).\n",
    "\n",
    "Итоговое значение NPS рассчитывается по формуле: % «сторонников» - % «критиков».\n",
    "\n",
    "**Цель исследования**\n",
    "\n",
    "1.  Построить дашборд, который представит информацию о текущем уровне NPS среди клиентов и покажет, как этот уровень меняется в зависимости от пользовательских признаков.\n",
    "\n",
    "2.  Используя дашборд, ответьте на вопросы:\n",
    "\n",
    "* Как распределены участники опроса по возрасту, полу и возрасту? Каких пользователей больше: новых или старых? Пользователи из каких городов активнее участвовали в опросе?\n",
    "\n",
    "* Какие группы пользователей наиболее лояльны к сервису? Какие менее?\n",
    "\n",
    "* Какой общий NPS среди всех опрошенных?\n",
    "\n",
    "* Как можно описать клиентов, которые относятся к группе cторонников (англ. promoters)?\n",
    "\n",
    "3. Подготовить презентацию с ответами на вопросы."
   ]
  },
  {
   "cell_type": "markdown",
   "id": "bcf40cc2",
   "metadata": {},
   "source": [
    "### Подключение к базе и выгрузка нужных полей"
   ]
  },
  {
   "cell_type": "code",
   "execution_count": 1,
   "id": "44322c6c",
   "metadata": {
    "tags": [
     "aa81075c-062f-4de0-b5fe-14c73dc7468e"
    ]
   },
   "outputs": [],
   "source": [
    "# Импортируем библиотеки\n",
    "import pandas as pd\n",
    "import numpy as np\n",
    "import os\n",
    "from sqlalchemy import create_engine"
   ]
  },
  {
   "cell_type": "code",
   "execution_count": 2,
   "id": "b179ea51",
   "metadata": {},
   "outputs": [],
   "source": [
    "# Подключаемся к БД SQLite\n",
    "if os.path.exists('/datasets/telecomm_csi.db'):\n",
    "    engine = create_engine(f'sqlite:////datasets/telecomm_csi.db', echo = False)\n",
    "else:\n",
    "    engine = create_engine(f'sqlite:///telecomm_csi.db', echo = False)"
   ]
  },
  {
   "cell_type": "markdown",
   "id": "07a2fc8f",
   "metadata": {},
   "source": [
    "Предварительно посмотрев, что в полях age и gender_segment, имеются пропуски, с помощью оператора WHERE исключим их. 0,27% получим удаленных строк, это незначительный процент, на дальнейшее исследование не повлияет."
   ]
  },
  {
   "cell_type": "code",
   "execution_count": 3,
   "id": "2fcf8e52",
   "metadata": {},
   "outputs": [],
   "source": [
    "# Формируем sql-запрос, который выгрузит нужные нам поля.\n",
    "query = \"\"\"\n",
    "SELECT u.user_id,\n",
    "       u.lt_day,\n",
    "       (CASE \n",
    "           WHEN u.lt_day < 365 THEN 'new client'\n",
    "           ELSE 'old client'\n",
    "       END) as is_new,\n",
    "       u.age,\n",
    "       (CASE \n",
    "           WHEN u.gender_segment = 1 THEN 'woman'\n",
    "           ELSE 'man'\n",
    "       END) as gender_segment,\n",
    "       u.os_name,\n",
    "       u.cpe_type_name,\n",
    "       l.country,\n",
    "       l.city,\n",
    "       SUBSTRING(ag.title, 4) as age_segment,\n",
    "       SUBSTRING(ts.title, 4) as traffic_segment,\n",
    "       SUBSTRING(ls.title,4) as lifetime_segment,\n",
    "       u.nps_score,\n",
    "       (CASE \n",
    "           WHEN u.nps_score >= 9 AND u.nps_score <= 10 THEN 'promoters'\n",
    "           WHEN u.nps_score >= 7 AND u.nps_score <= 8 THEN 'passives'\n",
    "           ELSE 'detractors'\n",
    "       END) as nps_group\n",
    "FROM user as u\n",
    "JOIN location as l ON u.location_id=l.location_id\n",
    "JOIN age_segment as ag ON u.age_gr_id=ag.age_gr_id\n",
    "JOIN traffic_segment ts ON u.tr_gr_id=ts.tr_gr_id\n",
    "JOIN lifetime_segment ls ON u.lt_gr_id=ls.lt_gr_id\n",
    "WHERE u.age AND u.gender_segment IS NOT NULL;\n",
    "\"\"\""
   ]
  },
  {
   "cell_type": "code",
   "execution_count": 4,
   "id": "35b1f37f",
   "metadata": {},
   "outputs": [
    {
     "data": {
      "text/html": [
       "<div>\n",
       "<style scoped>\n",
       "    .dataframe tbody tr th:only-of-type {\n",
       "        vertical-align: middle;\n",
       "    }\n",
       "\n",
       "    .dataframe tbody tr th {\n",
       "        vertical-align: top;\n",
       "    }\n",
       "\n",
       "    .dataframe thead th {\n",
       "        text-align: right;\n",
       "    }\n",
       "</style>\n",
       "<table border=\"1\" class=\"dataframe\">\n",
       "  <thead>\n",
       "    <tr style=\"text-align: right;\">\n",
       "      <th></th>\n",
       "      <th>user_id</th>\n",
       "      <th>lt_day</th>\n",
       "      <th>is_new</th>\n",
       "      <th>age</th>\n",
       "      <th>gender_segment</th>\n",
       "      <th>os_name</th>\n",
       "      <th>cpe_type_name</th>\n",
       "      <th>country</th>\n",
       "      <th>city</th>\n",
       "      <th>age_segment</th>\n",
       "      <th>traffic_segment</th>\n",
       "      <th>lifetime_segment</th>\n",
       "      <th>nps_score</th>\n",
       "      <th>nps_group</th>\n",
       "    </tr>\n",
       "  </thead>\n",
       "  <tbody>\n",
       "    <tr>\n",
       "      <th>0</th>\n",
       "      <td>A001A2</td>\n",
       "      <td>2320</td>\n",
       "      <td>old client</td>\n",
       "      <td>45.0</td>\n",
       "      <td>woman</td>\n",
       "      <td>ANDROID</td>\n",
       "      <td>SMARTPHONE</td>\n",
       "      <td>Россия</td>\n",
       "      <td>Уфа</td>\n",
       "      <td>45-54</td>\n",
       "      <td>1-5</td>\n",
       "      <td>36+</td>\n",
       "      <td>10</td>\n",
       "      <td>promoters</td>\n",
       "    </tr>\n",
       "    <tr>\n",
       "      <th>1</th>\n",
       "      <td>A001WF</td>\n",
       "      <td>2344</td>\n",
       "      <td>old client</td>\n",
       "      <td>53.0</td>\n",
       "      <td>man</td>\n",
       "      <td>ANDROID</td>\n",
       "      <td>SMARTPHONE</td>\n",
       "      <td>Россия</td>\n",
       "      <td>Киров</td>\n",
       "      <td>45-54</td>\n",
       "      <td>1-5</td>\n",
       "      <td>36+</td>\n",
       "      <td>10</td>\n",
       "      <td>promoters</td>\n",
       "    </tr>\n",
       "    <tr>\n",
       "      <th>2</th>\n",
       "      <td>A003Q7</td>\n",
       "      <td>467</td>\n",
       "      <td>old client</td>\n",
       "      <td>57.0</td>\n",
       "      <td>man</td>\n",
       "      <td>ANDROID</td>\n",
       "      <td>SMARTPHONE</td>\n",
       "      <td>Россия</td>\n",
       "      <td>Москва</td>\n",
       "      <td>55-64</td>\n",
       "      <td>20-25</td>\n",
       "      <td>13-24</td>\n",
       "      <td>10</td>\n",
       "      <td>promoters</td>\n",
       "    </tr>\n",
       "    <tr>\n",
       "      <th>3</th>\n",
       "      <td>A004TB</td>\n",
       "      <td>4190</td>\n",
       "      <td>old client</td>\n",
       "      <td>44.0</td>\n",
       "      <td>woman</td>\n",
       "      <td>IOS</td>\n",
       "      <td>SMARTPHONE</td>\n",
       "      <td>Россия</td>\n",
       "      <td>РостовнаДону</td>\n",
       "      <td>35-44</td>\n",
       "      <td>0.1-1</td>\n",
       "      <td>36+</td>\n",
       "      <td>10</td>\n",
       "      <td>promoters</td>\n",
       "    </tr>\n",
       "    <tr>\n",
       "      <th>4</th>\n",
       "      <td>A004XT</td>\n",
       "      <td>1163</td>\n",
       "      <td>old client</td>\n",
       "      <td>24.0</td>\n",
       "      <td>man</td>\n",
       "      <td>ANDROID</td>\n",
       "      <td>SMARTPHONE</td>\n",
       "      <td>Россия</td>\n",
       "      <td>Рязань</td>\n",
       "      <td>16-24</td>\n",
       "      <td>5-10</td>\n",
       "      <td>36+</td>\n",
       "      <td>10</td>\n",
       "      <td>promoters</td>\n",
       "    </tr>\n",
       "    <tr>\n",
       "      <th>5</th>\n",
       "      <td>A005O0</td>\n",
       "      <td>5501</td>\n",
       "      <td>old client</td>\n",
       "      <td>42.0</td>\n",
       "      <td>woman</td>\n",
       "      <td>ANDROID</td>\n",
       "      <td>SMARTPHONE</td>\n",
       "      <td>Россия</td>\n",
       "      <td>Омск</td>\n",
       "      <td>35-44</td>\n",
       "      <td>5-10</td>\n",
       "      <td>36+</td>\n",
       "      <td>6</td>\n",
       "      <td>detractors</td>\n",
       "    </tr>\n",
       "    <tr>\n",
       "      <th>6</th>\n",
       "      <td>A0061R</td>\n",
       "      <td>1236</td>\n",
       "      <td>old client</td>\n",
       "      <td>45.0</td>\n",
       "      <td>man</td>\n",
       "      <td>ANDROID</td>\n",
       "      <td>SMARTPHONE</td>\n",
       "      <td>Россия</td>\n",
       "      <td>Уфа</td>\n",
       "      <td>45-54</td>\n",
       "      <td>10-15</td>\n",
       "      <td>36+</td>\n",
       "      <td>10</td>\n",
       "      <td>promoters</td>\n",
       "    </tr>\n",
       "    <tr>\n",
       "      <th>7</th>\n",
       "      <td>A009KS</td>\n",
       "      <td>313</td>\n",
       "      <td>new client</td>\n",
       "      <td>35.0</td>\n",
       "      <td>man</td>\n",
       "      <td>ANDROID</td>\n",
       "      <td>SMARTPHONE</td>\n",
       "      <td>Россия</td>\n",
       "      <td>Москва</td>\n",
       "      <td>35-44</td>\n",
       "      <td>45-50</td>\n",
       "      <td>7-12</td>\n",
       "      <td>10</td>\n",
       "      <td>promoters</td>\n",
       "    </tr>\n",
       "    <tr>\n",
       "      <th>8</th>\n",
       "      <td>A00AES</td>\n",
       "      <td>3238</td>\n",
       "      <td>old client</td>\n",
       "      <td>36.0</td>\n",
       "      <td>woman</td>\n",
       "      <td>ANDROID</td>\n",
       "      <td>SMARTPHONE</td>\n",
       "      <td>Россия</td>\n",
       "      <td>СанктПетербург</td>\n",
       "      <td>35-44</td>\n",
       "      <td>1-5</td>\n",
       "      <td>36+</td>\n",
       "      <td>10</td>\n",
       "      <td>promoters</td>\n",
       "    </tr>\n",
       "    <tr>\n",
       "      <th>9</th>\n",
       "      <td>A00F70</td>\n",
       "      <td>4479</td>\n",
       "      <td>old client</td>\n",
       "      <td>54.0</td>\n",
       "      <td>woman</td>\n",
       "      <td>ANDROID</td>\n",
       "      <td>SMARTPHONE</td>\n",
       "      <td>Россия</td>\n",
       "      <td>Волгоград</td>\n",
       "      <td>45-54</td>\n",
       "      <td>15-20</td>\n",
       "      <td>36+</td>\n",
       "      <td>9</td>\n",
       "      <td>promoters</td>\n",
       "    </tr>\n",
       "  </tbody>\n",
       "</table>\n",
       "</div>"
      ],
      "text/plain": [
       "  user_id  lt_day      is_new   age gender_segment  os_name cpe_type_name  \\\n",
       "0  A001A2    2320  old client  45.0          woman  ANDROID    SMARTPHONE   \n",
       "1  A001WF    2344  old client  53.0            man  ANDROID    SMARTPHONE   \n",
       "2  A003Q7     467  old client  57.0            man  ANDROID    SMARTPHONE   \n",
       "3  A004TB    4190  old client  44.0          woman      IOS    SMARTPHONE   \n",
       "4  A004XT    1163  old client  24.0            man  ANDROID    SMARTPHONE   \n",
       "5  A005O0    5501  old client  42.0          woman  ANDROID    SMARTPHONE   \n",
       "6  A0061R    1236  old client  45.0            man  ANDROID    SMARTPHONE   \n",
       "7  A009KS     313  new client  35.0            man  ANDROID    SMARTPHONE   \n",
       "8  A00AES    3238  old client  36.0          woman  ANDROID    SMARTPHONE   \n",
       "9  A00F70    4479  old client  54.0          woman  ANDROID    SMARTPHONE   \n",
       "\n",
       "  country            city age_segment traffic_segment lifetime_segment  \\\n",
       "0  Россия             Уфа       45-54             1-5              36+   \n",
       "1  Россия           Киров       45-54             1-5              36+   \n",
       "2  Россия          Москва       55-64           20-25            13-24   \n",
       "3  Россия    РостовнаДону       35-44           0.1-1              36+   \n",
       "4  Россия          Рязань       16-24            5-10              36+   \n",
       "5  Россия            Омск       35-44            5-10              36+   \n",
       "6  Россия             Уфа       45-54           10-15              36+   \n",
       "7  Россия          Москва       35-44           45-50             7-12   \n",
       "8  Россия  СанктПетербург       35-44             1-5              36+   \n",
       "9  Россия       Волгоград       45-54           15-20              36+   \n",
       "\n",
       "   nps_score   nps_group  \n",
       "0         10   promoters  \n",
       "1         10   promoters  \n",
       "2         10   promoters  \n",
       "3         10   promoters  \n",
       "4         10   promoters  \n",
       "5          6  detractors  \n",
       "6         10   promoters  \n",
       "7         10   promoters  \n",
       "8         10   promoters  \n",
       "9          9   promoters  "
      ]
     },
     "execution_count": 4,
     "metadata": {},
     "output_type": "execute_result"
    }
   ],
   "source": [
    "# Выполняем запрос, смотрим первые 10 строк и сохраняем результат выполнения в DataFrame.\n",
    "df = pd.read_sql(query, engine)\n",
    "df.head(10)"
   ]
  },
  {
   "cell_type": "code",
   "execution_count": 5,
   "id": "a0fec51b",
   "metadata": {},
   "outputs": [],
   "source": [
    "df.to_csv('telecomm_csi_tableau.csv', index=False)"
   ]
  },
  {
   "cell_type": "code",
   "execution_count": 6,
   "id": "4057f9f2",
   "metadata": {
    "scrolled": true
   },
   "outputs": [
    {
     "name": "stdout",
     "output_type": "stream",
     "text": [
      "<class 'pandas.core.frame.DataFrame'>\n",
      "RangeIndex: 501152 entries, 0 to 501151\n",
      "Data columns (total 14 columns):\n",
      " #   Column            Non-Null Count   Dtype  \n",
      "---  ------            --------------   -----  \n",
      " 0   user_id           501152 non-null  object \n",
      " 1   lt_day            501152 non-null  int64  \n",
      " 2   is_new            501152 non-null  object \n",
      " 3   age               501152 non-null  float64\n",
      " 4   gender_segment    501152 non-null  object \n",
      " 5   os_name           501152 non-null  object \n",
      " 6   cpe_type_name     501152 non-null  object \n",
      " 7   country           501152 non-null  object \n",
      " 8   city              501152 non-null  object \n",
      " 9   age_segment       501152 non-null  object \n",
      " 10  traffic_segment   501152 non-null  object \n",
      " 11  lifetime_segment  501152 non-null  object \n",
      " 12  nps_score         501152 non-null  int64  \n",
      " 13  nps_group         501152 non-null  object \n",
      "dtypes: float64(1), int64(2), object(11)\n",
      "memory usage: 53.5+ MB\n"
     ]
    }
   ],
   "source": [
    "# изучим тип данных у полей\n",
    "df.info()"
   ]
  },
  {
   "cell_type": "markdown",
   "id": "1df71d20",
   "metadata": {},
   "source": [
    "### Ссылка на дашборд на сайте Tableau Public:"
   ]
  },
  {
   "cell_type": "markdown",
   "id": "b4dcbc1b",
   "metadata": {},
   "source": [
    "<https://public.tableau.com/authoring/project_7_16500531851140/Dashboard1#2>"
   ]
  },
  {
   "cell_type": "markdown",
   "id": "47853a3e",
   "metadata": {},
   "source": [
    "### Ссылка на pdf-файл с презентацией:"
   ]
  },
  {
   "cell_type": "markdown",
   "id": "0b838a29",
   "metadata": {},
   "source": [
    "<https://disk.yandex.ru/i/WpSjrLQP0gk7pQ>"
   ]
  }
 ],
 "metadata": {
  "ExecuteTimeLog": [
   {
    "duration": 752,
    "start_time": "2021-10-03T17:40:52.731Z"
   },
   {
    "duration": 20,
    "start_time": "2021-10-03T17:40:53.486Z"
   },
   {
    "duration": 4,
    "start_time": "2021-10-03T17:41:04.638Z"
   },
   {
    "duration": 461,
    "start_time": "2021-10-03T17:41:04.912Z"
   },
   {
    "duration": 284,
    "start_time": "2021-10-03T17:41:05.376Z"
   },
   {
    "duration": 574,
    "start_time": "2021-10-06T07:55:05.029Z"
   },
   {
    "duration": 6,
    "start_time": "2021-10-06T07:55:05.605Z"
   },
   {
    "duration": 3,
    "start_time": "2021-10-06T07:55:14.685Z"
   },
   {
    "duration": 406,
    "start_time": "2021-10-06T07:55:15.522Z"
   },
   {
    "duration": 67,
    "start_time": "2021-10-06T07:55:15.929Z"
   },
   {
    "duration": 840,
    "start_time": "2021-10-07T07:54:04.647Z"
   },
   {
    "duration": 10,
    "start_time": "2021-10-07T07:54:05.490Z"
   },
   {
    "duration": 4,
    "start_time": "2021-10-07T07:54:05.544Z"
   },
   {
    "duration": 391,
    "start_time": "2021-10-07T07:54:06.237Z"
   },
   {
    "duration": 293,
    "start_time": "2021-10-07T07:54:06.654Z"
   },
   {
    "duration": 475,
    "start_time": "2022-04-21T05:20:35.845Z"
   },
   {
    "duration": 19,
    "start_time": "2022-04-21T05:20:36.322Z"
   },
   {
    "duration": 2,
    "start_time": "2022-04-21T05:20:36.343Z"
   },
   {
    "duration": 4628,
    "start_time": "2022-04-21T05:20:36.347Z"
   },
   {
    "duration": 3102,
    "start_time": "2022-04-21T05:20:40.977Z"
   },
   {
    "duration": 512,
    "start_time": "2022-04-21T05:20:44.081Z"
   },
   {
    "duration": 500,
    "start_time": "2022-04-22T04:53:16.522Z"
   },
   {
    "duration": 22,
    "start_time": "2022-04-22T04:53:17.024Z"
   },
   {
    "duration": 4,
    "start_time": "2022-04-22T04:53:17.048Z"
   },
   {
    "duration": 5223,
    "start_time": "2022-04-22T04:53:17.054Z"
   },
   {
    "duration": 3259,
    "start_time": "2022-04-22T04:53:22.279Z"
   },
   {
    "duration": 629,
    "start_time": "2022-04-22T04:53:25.540Z"
   }
  ],
  "kernelspec": {
   "display_name": "Python 3 (ipykernel)",
   "language": "python",
   "name": "python3"
  },
  "language_info": {
   "codemirror_mode": {
    "name": "ipython",
    "version": 3
   },
   "file_extension": ".py",
   "mimetype": "text/x-python",
   "name": "python",
   "nbconvert_exporter": "python",
   "pygments_lexer": "ipython3",
   "version": "3.7.8"
  },
  "toc": {
   "base_numbering": 1,
   "nav_menu": {},
   "number_sections": true,
   "sideBar": true,
   "skip_h1_title": true,
   "title_cell": "Table of Contents",
   "title_sidebar": "Contents",
   "toc_cell": false,
   "toc_position": {
    "height": "calc(100% - 180px)",
    "left": "10px",
    "top": "150px",
    "width": "303.542px"
   },
   "toc_section_display": true,
   "toc_window_display": true
  }
 },
 "nbformat": 4,
 "nbformat_minor": 5
}
